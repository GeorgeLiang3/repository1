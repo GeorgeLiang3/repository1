{
 "cells": [
  {
   "cell_type": "code",
   "execution_count": 135,
   "metadata": {
    "ExecuteTime": {
     "end_time": "2019-12-02T12:11:53.309196Z",
     "start_time": "2019-12-02T12:11:53.302733Z"
    }
   },
   "outputs": [],
   "source": [
    "#import library\n",
    "from scipy.stats import norm\n",
    "import numpy as np\n",
    "import matplotlib.pyplot as plt\n",
    "import tensorflow as tf\n",
    "import tensorflow_probability as tfp\n",
    "from tensorflow_probability import edward2 as ed\n",
    "tfd = tfp.distributions\n",
    "import scipy.stats as st\n",
    "from mpl_toolkits.mplot3d import Axes3D\n",
    "import math\n",
    "\n",
    "import seaborn as sns\n",
    "import pandas as pd\n",
    "%matplotlib inline"
   ]
  },
  {
   "cell_type": "markdown",
   "metadata": {},
   "source": [
    "Define the prior by multuvatiate distribution"
   ]
  },
  {
   "cell_type": "code",
   "execution_count": 136,
   "metadata": {
    "ExecuteTime": {
     "end_time": "2019-12-02T12:11:53.313986Z",
     "start_time": "2019-12-02T12:11:53.311134Z"
    }
   },
   "outputs": [],
   "source": [
    "mu= [0.,0.]\n",
    "\n",
    "cov = [[ 1,  0.],\n",
    "        [ 0.,  1]]\n"
   ]
  },
  {
   "cell_type": "code",
   "execution_count": 137,
   "metadata": {
    "ExecuteTime": {
     "end_time": "2019-12-02T12:11:53.321986Z",
     "start_time": "2019-12-02T12:11:53.315867Z"
    }
   },
   "outputs": [],
   "source": [
    "## initial the model\n",
    "\n",
    "c = 0 # mean of observations\n",
    "N = 1000 # number of observation data\n",
    "sigma2y = 1 # standard deviation of observation data\n",
    "## generate the observation data\n",
    "y_ = np.random.normal(loc =c, scale = sigma2y, size = N)\n",
    "D = tf.convert_to_tensor(y_,dtype = tf.float32)\n",
    "\n",
    "## define the log probability\n",
    "def joint_log_prob(y,theta1,theta2):\n",
    "    # define random variables prior\n",
    "    mvn = tfd.MultivariateNormalFullCovariance(\n",
    "            loc = mu,\n",
    "            covariance_matrix= cov)\n",
    "    z = tf.stack([theta1, theta2], axis=-1)\n",
    "    # define likelihood\n",
    "    y = tfd.Normal(loc = tf.add(theta2,tf.pow(theta1,2.)), scale = sigma2y)\n",
    "    # return the posterior probability\n",
    "    return(mvn.log_prob(tf.squeeze(z))\n",
    "          +tf.reduce_sum(y.log_prob(D)))"
   ]
  },
  {
   "cell_type": "markdown",
   "metadata": {},
   "source": [
    "<b>RMH"
   ]
  },
  {
   "cell_type": "code",
   "execution_count": 138,
   "metadata": {
    "ExecuteTime": {
     "end_time": "2019-12-02T12:12:14.166342Z",
     "start_time": "2019-12-02T12:11:53.323944Z"
    }
   },
   "outputs": [
    {
     "name": "stderr",
     "output_type": "stream",
     "text": [
      "/Users/zhouji/.local/lib/python3.7/site-packages/tensorflow_probability/python/mcmc/sample.py:335: UserWarning: Tracing all kernel results by default is deprecated. Set the `trace_fn` argument to None (the future default value) or an explicit callback that traces the values you are interested in.\n",
      "  warnings.warn(\"Tracing all kernel results by default is deprecated. Set \"\n"
     ]
    }
   ],
   "source": [
    "num_results = 1000\n",
    "burnin = 500\n",
    "\n",
    "initial_chain_state = [\n",
    "    -1.5 * tf.ones([], dtype=tf.float32, name=\"init_t1\"),\n",
    "    -1.5 * tf.ones([], dtype=tf.float32, name=\"init_t2\")\n",
    "]\n",
    "\n",
    "unnormalized_posterior_log_prob = lambda *args: joint_log_prob(D, *args)\n",
    "\n",
    "samples, kernel_results = tfp.mcmc.sample_chain(\n",
    "    num_results=num_results,\n",
    "    current_state=initial_chain_state,\n",
    "    kernel=tfp.mcmc.RandomWalkMetropolis(\n",
    "        target_log_prob_fn=unnormalized_posterior_log_prob),\n",
    "    num_burnin_steps=burnin,\n",
    "    num_steps_between_results=1,  # Thinning.\n",
    "    parallel_iterations=1)\n",
    "samples = tf.stack(samples, axis=-1)\n",
    "accepted = kernel_results.is_accepted\n",
    "\n",
    "samples = samples.numpy()\n",
    "accepted = accepted.numpy()\n",
    "\n",
    "x1 = samples[:,0]\n",
    "y1 = samples[:,1]\n",
    "\n",
    "x_accepted = []\n",
    "y_accepted =[]\n"
   ]
  },
  {
   "cell_type": "code",
   "execution_count": 139,
   "metadata": {
    "ExecuteTime": {
     "end_time": "2019-12-02T12:12:14.312659Z",
     "start_time": "2019-12-02T12:12:14.167982Z"
    }
   },
   "outputs": [
    {
     "name": "stdout",
     "output_type": "stream",
     "text": [
      "Acceptance rate: 1.3%\n"
     ]
    },
    {
     "data": {
      "image/png": "[encoded data removed]",
      "text/plain": [
       "<Figure size 432x288 with 1 Axes>"
      ]
     },
     "metadata": {
      "needs_background": "light"
     },
     "output_type": "display_data"
    }
   ],
   "source": [
    "for i in range(accepted.shape[0]):\n",
    "    if accepted[i-1]==True:\n",
    "        x_accepted = np.append(x_accepted,samples[i-1,0])\n",
    "        y_accepted = np.append(y_accepted,samples[i-1,1])\n",
    "# f,(ax1,ax2) = plt.subplots(2,1,sharex =True, sharey = True)\n",
    "\n",
    "# sns.kdeplot(x_accepted,y_accepted,ax=ax1)\n",
    "plt.plot(x_accepted,y_accepted,'.')\n",
    "# plot_true()\n",
    "\n",
    "print('Acceptance rate: %0.1f%%' % (100*(x_accepted.shape[0]/num_results)))\n"
   ]
  },
  {
   "cell_type": "markdown",
   "metadata": {},
   "source": [
    "Adjust the step size"
   ]
  },
  {
   "cell_type": "code",
   "execution_count": 140,
   "metadata": {
    "ExecuteTime": {
     "end_time": "2019-12-02T12:12:29.221335Z",
     "start_time": "2019-12-02T12:12:14.314494Z"
    }
   },
   "outputs": [
    {
     "name": "stderr",
     "output_type": "stream",
     "text": [
      "/Users/zhouji/.local/lib/python3.7/site-packages/tensorflow_probability/python/mcmc/sample.py:335: UserWarning: Tracing all kernel results by default is deprecated. Set the `trace_fn` argument to None (the future default value) or an explicit callback that traces the values you are interested in.\n",
      "  warnings.warn(\"Tracing all kernel results by default is deprecated. Set \"\n"
     ]
    }
   ],
   "source": [
    "num_results = 1000\n",
    "burnin = 500\n",
    "\n",
    "initial_chain_state = [\n",
    "    -1.7 * tf.ones([], dtype=tf.float32, name=\"init_t1\"),\n",
    "    -1.5 * tf.ones([], dtype=tf.float32, name=\"init_t2\")\n",
    "]\n",
    "\n",
    "dtype = np.float32\n",
    "\n",
    "unnormalized_posterior_log_prob = lambda *args: joint_log_prob(D, *args)\n",
    "\n",
    "def gauss_new_state_fn(scale, dtype):\n",
    "  gauss = tfd.Normal(loc=dtype(0), scale=dtype(scale))\n",
    "  def _fn(state_parts, seed):\n",
    "    next_state_parts = []\n",
    "    seed_stream  = tfp.util.SeedStream(seed, salt='RandomNormal')\n",
    "    for sp in state_parts:\n",
    "      next_state_parts.append(sp + gauss.sample(\n",
    "        sample_shape=sp.shape, seed=seed_stream()))\n",
    "    return next_state_parts\n",
    "  return _fn\n",
    "\n",
    "samples, kernel_results= tfp.mcmc.sample_chain(\n",
    "    num_results=num_results,\n",
    "    num_burnin_steps=burnin,\n",
    "    current_state=initial_chain_state,\n",
    "    kernel=tfp.mcmc.RandomWalkMetropolis(\n",
    "        target_log_prob_fn=unnormalized_posterior_log_prob,\n",
    "        new_state_fn=gauss_new_state_fn(scale=0.1, dtype=dtype),\n",
    "        seed=42))  # For determinism.\n",
    "\n",
    "\n",
    "samples = tf.stack(samples, axis=-1)\n",
    "accepted = kernel_results.is_accepted\n",
    "\n",
    "samples = samples.numpy()\n",
    "accepted = accepted.numpy()\n",
    "\n",
    "x1 = samples[:,0]\n",
    "y1 = samples[:,1]\n",
    "\n",
    "x_accepted = []\n",
    "y_accepted =[]"
   ]
  },
  {
   "cell_type": "code",
   "execution_count": 141,
   "metadata": {
    "ExecuteTime": {
     "end_time": "2019-12-02T12:12:29.362499Z",
     "start_time": "2019-12-02T12:12:29.223880Z"
    }
   },
   "outputs": [
    {
     "name": "stdout",
     "output_type": "stream",
     "text": [
      "Acceptance rate: 22.3%\n"
     ]
    },
    {
     "data": {
      "image/png": "[encoded data removed]",
      "text/plain": [
       "<Figure size 432x288 with 1 Axes>"
      ]
     },
     "metadata": {
      "needs_background": "light"
     },
     "output_type": "display_data"
    }
   ],
   "source": [
    "for i in range(accepted.shape[0]):\n",
    "    if accepted[i-1]==True:\n",
    "        x_accepted = np.append(x_accepted,samples[i-1,0])\n",
    "        y_accepted = np.append(y_accepted,samples[i-1,1])\n",
    "# f,(ax1,ax2) = plt.subplots(2,1,sharex =True, sharey = True)\n",
    "\n",
    "# sns.kdeplot(x_accepted,y_accepted,ax=ax1)\n",
    "plt.plot(x_accepted,y_accepted,'.')\n",
    "# plot_true()\n",
    "\n",
    "print('Acceptance rate: %0.1f%%' % (100*(x_accepted.shape[0]/num_results)))\n"
   ]
  },
  {
   "cell_type": "markdown",
   "metadata": {},
   "source": [
    "<b> HMC"
   ]
  },
  {
   "cell_type": "code",
   "execution_count": 142,
   "metadata": {
    "ExecuteTime": {
     "end_time": "2019-12-02T12:15:24.283827Z",
     "start_time": "2019-12-02T12:12:29.364798Z"
    }
   },
   "outputs": [
    {
     "name": "stderr",
     "output_type": "stream",
     "text": [
      "/Users/zhouji/.local/lib/python3.7/site-packages/tensorflow_probability/python/mcmc/sample.py:335: UserWarning: Tracing all kernel results by default is deprecated. Set the `trace_fn` argument to None (the future default value) or an explicit callback that traces the values you are interested in.\n",
      "  warnings.warn(\"Tracing all kernel results by default is deprecated. Set \"\n"
     ]
    }
   ],
   "source": [
    "num_results = 1000\n",
    "burnin = 500\n",
    "\n",
    "initial_chain_state = [\n",
    "    -1.5 * tf.ones([], dtype=tf.float32, name=\"init_t1\"),\n",
    "    -1.5 * tf.ones([], dtype=tf.float32, name=\"init_t2\")\n",
    "]\n",
    "\n",
    "unnormalized_posterior_log_prob = lambda *args: joint_log_prob(y_, *args)\n",
    "\n",
    "samples, kernel_results = tfp.mcmc.sample_chain(\n",
    "    num_results=num_results,\n",
    "    current_state=initial_chain_state,\n",
    "    kernel=tfp.mcmc.HamiltonianMonteCarlo(\n",
    "        target_log_prob_fn=unnormalized_posterior_log_prob,\n",
    "        step_size = 0.01,\n",
    "        num_leapfrog_steps = 5),\n",
    "    num_burnin_steps=burnin,\n",
    "    num_steps_between_results=1,  # Thinning.\n",
    "    parallel_iterations=1)\n",
    "\n",
    "samples = tf.stack(samples, axis=-1)\n",
    "accepted = kernel_results.is_accepted\n",
    "\n",
    "samples = samples.numpy()\n",
    "accepted = accepted.numpy()\n",
    "\n",
    "x1 = samples[:,0]\n",
    "y1 = samples[:,1]\n",
    "\n",
    "x_accepted = []\n",
    "y_accepted =[]"
   ]
  },
  {
   "cell_type": "code",
   "execution_count": 143,
   "metadata": {
    "ExecuteTime": {
     "end_time": "2019-12-02T12:15:24.441418Z",
     "start_time": "2019-12-02T12:15:24.285479Z"
    }
   },
   "outputs": [
    {
     "name": "stdout",
     "output_type": "stream",
     "text": [
      "Acceptance rate: 99.2%\n"
     ]
    },
    {
     "data": {
      "image/png": "[encoded data removed]",
      "text/plain": [
       "<Figure size 432x288 with 1 Axes>"
      ]
     },
     "metadata": {
      "needs_background": "light"
     },
     "output_type": "display_data"
    }
   ],
   "source": [
    "for i in range(accepted.shape[0]):\n",
    "    if accepted[i-1]==True:\n",
    "        x_accepted = np.append(x_accepted,samples[i-1,0])\n",
    "        y_accepted = np.append(y_accepted,samples[i-1,1])\n",
    "# f,(ax1,ax2) = plt.subplots(2,1,sharex =True, sharey = True)\n",
    "\n",
    "# sns.kdeplot(x_accepted,y_accepted,ax=ax1)\n",
    "plt.plot(x_accepted,y_accepted,'.')\n",
    "# plot_true()\n",
    "\n",
    "print('Acceptance rate: %0.1f%%' % (100*(x_accepted.shape[0]/num_results)))\n"
   ]
  },
  {
   "cell_type": "markdown",
   "metadata": {},
   "source": [
    "<b> Hessian MCMC - banana v1.0"
   ]
  },
  {
   "cell_type": "markdown",
   "metadata": {},
   "source": [
    "Set up the target probability density"
   ]
  },
  {
   "cell_type": "code",
   "execution_count": 144,
   "metadata": {
    "ExecuteTime": {
     "end_time": "2019-12-02T12:15:24.448544Z",
     "start_time": "2019-12-02T12:15:24.442824Z"
    }
   },
   "outputs": [],
   "source": [
    "c = 0 # mean of observations\n",
    "N = 100 # number of observation data\n",
    "sigma2y = 1 # standard deviation of observation data\n",
    "## generate the observation data\n",
    "np.random.seed(0)\n",
    "y_ = np.random.normal(loc =c, scale = sigma2y, size = N)\n",
    "D = tf.convert_to_tensor(y_,dtype = tf.float32)\n",
    "\n",
    "mean = [0.,0.]\n",
    "\n",
    "@tf.function\n",
    "def joint_log_prob(D,theta1,theta2):\n",
    "    # define random variables prior\n",
    "    mvn = tfd.MultivariateNormalFullCovariance(\n",
    "            loc = mean,\n",
    "            covariance_matrix= cov)\n",
    "    z = tf.stack([theta1, theta2], axis=-1)\n",
    "    # define likelihood\n",
    "    y = tfd.Normal(loc = tf.add(theta2,tf.pow(theta1,2.)), scale = sigma2y)\n",
    "    # return the posterior probability\n",
    "    return(mvn.log_prob(tf.squeeze(z))\n",
    "          +tf.reduce_sum(y.log_prob(D)))\n"
   ]
  },
  {
   "cell_type": "markdown",
   "metadata": {},
   "source": []
  },
  {
   "cell_type": "code",
   "execution_count": 145,
   "metadata": {
    "ExecuteTime": {
     "end_time": "2019-12-02T12:15:24.664606Z",
     "start_time": "2019-12-02T12:15:24.450003Z"
    }
   },
   "outputs": [
    {
     "data": {
      "text/plain": [
       "<tf.Tensor: id=28893186, shape=(), dtype=float32, numpy=-144.7019>"
      ]
     },
     "execution_count": 145,
     "metadata": {},
     "output_type": "execute_result"
    }
   ],
   "source": [
    "joint_log_prob(D,0.,0.)"
   ]
  },
  {
   "cell_type": "markdown",
   "metadata": {},
   "source": [
    "<b> Gradient Descent"
   ]
  },
  {
   "cell_type": "code",
   "execution_count": 146,
   "metadata": {
    "ExecuteTime": {
     "end_time": "2019-12-02T12:15:24.668841Z",
     "start_time": "2019-12-02T12:15:24.666400Z"
    }
   },
   "outputs": [],
   "source": [
    "### Block out in case run by accident, takes too long to run 28 min\n",
    "# mu = tf.constant([-1., -1.])\n",
    "# for i in range(1000000):\n",
    "#     with tf.GradientTape() as t:  \n",
    "#         t.watch(mu)\n",
    "#         theta1 = mu[0]\n",
    "#         theta2 = mu[1]\n",
    "#         loss = tf.negative(joint_log_prob(D,theta1,theta2))\n",
    "#         dlossdmu = t.gradient(loss,mu)\n",
    "#         print(mu.numpy(),dlossdmu.numpy())\n",
    "#         mu = mu - 0.00001*dlossdmu"
   ]
  },
  {
   "cell_type": "markdown",
   "metadata": {},
   "source": [
    "Let's take (0,0) as MAP for now"
   ]
  },
  {
   "cell_type": "code",
   "execution_count": 147,
   "metadata": {
    "ExecuteTime": {
     "end_time": "2019-12-02T12:15:24.673421Z",
     "start_time": "2019-12-02T12:15:24.670568Z"
    }
   },
   "outputs": [],
   "source": [
    "MAP = [-0.00024201,  0.05921397]\n",
    "MAP = tf.convert_to_tensor(MAP, dtype = tf.float32)"
   ]
  },
  {
   "cell_type": "markdown",
   "metadata": {},
   "source": [
    "A new hessian function 2019-11-27"
   ]
  },
  {
   "cell_type": "code",
   "execution_count": 148,
   "metadata": {
    "ExecuteTime": {
     "end_time": "2019-12-02T12:15:24.677627Z",
     "start_time": "2019-12-02T12:15:24.674962Z"
    }
   },
   "outputs": [],
   "source": [
    "# Create an empty matrix to store hessian matrix\n",
    "hess = np.empty([MAP.shape[0],MAP.shape[0]])"
   ]
  },
  {
   "cell_type": "code",
   "execution_count": 149,
   "metadata": {
    "ExecuteTime": {
     "end_time": "2019-12-02T12:15:26.938915Z",
     "start_time": "2019-12-02T12:15:24.679176Z"
    }
   },
   "outputs": [
    {
     "name": "stdout",
     "output_type": "stream",
     "text": [
      "WARNING:tensorflow:Calling GradientTape.gradient on a persistent tape inside its context is significantly less efficient than calling it outside the context (it causes the gradient ops to be recorded on the tape, leading to increased CPU and memory usage). Only call GradientTape.gradient inside the context if you actually want to trace the gradient in order to compute higher order derivatives.\n",
      "gradient: [-0.00021326 -0.00018563]\n",
      "WARNING:tensorflow:Calling GradientTape.gradient on a persistent tape inside its context is significantly less efficient than calling it outside the context (it causes the gradient ops to be recorded on the tape, leading to increased CPU and memory usage). Only call GradientTape.gradient inside the context if you actually want to trace the gradient in order to compute higher order derivatives.\n",
      "[[ 8.81224275e-01 -4.84020039e-02]\n",
      " [-4.84020002e-02  1.01000000e+02]]\n"
     ]
    }
   ],
   "source": [
    "## new hessian function\n",
    "with tf.GradientTape(persistent=True) as t:  \n",
    "    t.watch(MAP)\n",
    "    theta1 = MAP[0]\n",
    "    theta2 = MAP[1]\n",
    "    loss = tf.negative(joint_log_prob(D,theta1,theta2))\n",
    "    jacobian = t.gradient(loss,MAP)\n",
    "    print('gradient:',jacobian.numpy())\n",
    "    for i in range(MAP.shape[0]):\n",
    "        hess[i] = t.gradient(jacobian[i],MAP)\n",
    "    print(hess)"
   ]
  },
  {
   "cell_type": "markdown",
   "metadata": {
    "ExecuteTime": {
     "end_time": "2019-11-27T10:41:00.603834Z",
     "start_time": "2019-11-27T10:41:00.599215Z"
    }
   },
   "source": [
    "let's test the hessian calculation in a simple algebra case"
   ]
  },
  {
   "cell_type": "code",
   "execution_count": 150,
   "metadata": {
    "ExecuteTime": {
     "end_time": "2019-12-02T12:15:26.957349Z",
     "start_time": "2019-12-02T12:15:26.940849Z"
    }
   },
   "outputs": [
    {
     "name": "stdout",
     "output_type": "stream",
     "text": [
      "WARNING:tensorflow:Calling GradientTape.gradient on a persistent tape inside its context is significantly less efficient than calling it outside the context (it causes the gradient ops to be recorded on the tape, leading to increased CPU and memory usage). Only call GradientTape.gradient inside the context if you actually want to trace the gradient in order to compute higher order derivatives.\n",
      "gradient: [6. 7.]\n",
      "WARNING:tensorflow:Calling GradientTape.gradient on a persistent tape inside its context is significantly less efficient than calling it outside the context (it causes the gradient ops to be recorded on the tape, leading to increased CPU and memory usage). Only call GradientTape.gradient inside the context if you actually want to trace the gradient in order to compute higher order derivatives.\n",
      "[[12.  9.]\n",
      " [ 9. 10.]]\n"
     ]
    }
   ],
   "source": [
    "# define a simple function : x^3 + 2* y^2 +x^3*y^3\n",
    "def f(vars):\n",
    "    return(vars[0]**3+2*vars[1]**2+vars[0]**3*vars[1]**3)\n",
    "\n",
    "MAP = [1., 1.]\n",
    "MAP = tf.convert_to_tensor(MAP, dtype = tf.float32)\n",
    "\n",
    "with tf.GradientTape(persistent=True) as t:  \n",
    "    hess = np.empty([MAP.shape[0],MAP.shape[0]])\n",
    "    t.watch(MAP)\n",
    "    loss = f(MAP)\n",
    "    jacobian = t.gradient(loss,MAP)\n",
    "    print('gradient:',jacobian.numpy())\n",
    "    for i in range(MAP.shape[0]):\n",
    "        hess[i] = t.gradient(jacobian[i],MAP)\n",
    "    print(hess)"
   ]
  },
  {
   "cell_type": "markdown",
   "metadata": {},
   "source": [
    "So the hessian function is correct  \n",
    "let's make it in to a function"
   ]
  },
  {
   "cell_type": "code",
   "execution_count": 151,
   "metadata": {
    "ExecuteTime": {
     "end_time": "2019-12-02T12:15:26.964664Z",
     "start_time": "2019-12-02T12:15:26.959589Z"
    }
   },
   "outputs": [],
   "source": [
    "# define a function to compute full hessian\n",
    "def hessian_compute_new(fn,loc):\n",
    "    f_ = fn\n",
    "    loc_ = loc\n",
    "    hess = np.empty([loc.shape[0],loc.shape[0]])\n",
    "    with tf.GradientTape(persistent=True) as t:  \n",
    "        t.watch(loc_)\n",
    "        loss = f_(loc_)\n",
    "        jacobian = t.gradient(loss,loc_)\n",
    "        for i in range(loc_.shape[0]):\n",
    "            hess[i] = t.gradient(jacobian[i],loc_)\n",
    "    return hess"
   ]
  },
  {
   "cell_type": "code",
   "execution_count": 152,
   "metadata": {
    "ExecuteTime": {
     "end_time": "2019-12-02T12:15:26.981619Z",
     "start_time": "2019-12-02T12:15:26.968725Z"
    }
   },
   "outputs": [
    {
     "name": "stdout",
     "output_type": "stream",
     "text": [
      "WARNING:tensorflow:Calling GradientTape.gradient on a persistent tape inside its context is significantly less efficient than calling it outside the context (it causes the gradient ops to be recorded on the tape, leading to increased CPU and memory usage). Only call GradientTape.gradient inside the context if you actually want to trace the gradient in order to compute higher order derivatives.\n",
      "WARNING:tensorflow:Calling GradientTape.gradient on a persistent tape inside its context is significantly less efficient than calling it outside the context (it causes the gradient ops to be recorded on the tape, leading to increased CPU and memory usage). Only call GradientTape.gradient inside the context if you actually want to trace the gradient in order to compute higher order derivatives.\n",
      "[[ 8.81224275e-01 -4.84020039e-02]\n",
      " [-4.84020002e-02  1.01000000e+02]]\n"
     ]
    }
   ],
   "source": [
    "MAP = [-0.00024201,  0.05921397]\n",
    "MAP = tf.convert_to_tensor(MAP, dtype = tf.float32)\n",
    "# define a loss function which is the negative log posterior\n",
    "def lossfunction(vars):\n",
    "    return(tf.negative(joint_log_prob(D,vars[0],vars[1])))\n",
    "hess = hessian_compute_new(lossfunction,MAP)\n",
    "print(hess)"
   ]
  },
  {
   "cell_type": "markdown",
   "metadata": {},
   "source": [
    "The Hessian of the log posterior shows the second derivative of $\\theta_1$ is much smaller than $\\theta_2$ , which makes sense, because the banana on $\\theta_2$  direction have a much greater curvature"
   ]
  },
  {
   "cell_type": "markdown",
   "metadata": {},
   "source": [
    "Simple example of different curvature in geometry"
   ]
  },
  {
   "cell_type": "code",
   "execution_count": 153,
   "metadata": {
    "ExecuteTime": {
     "end_time": "2019-12-02T12:15:27.151778Z",
     "start_time": "2019-12-02T12:15:26.983833Z"
    }
   },
   "outputs": [
    {
     "data": {
      "text/plain": [
       "<matplotlib.legend.Legend at 0x1a3be905c0>"
      ]
     },
     "execution_count": 153,
     "metadata": {},
     "output_type": "execute_result"
    },
    {
     "data": {
      "image/png": "[encoded data removed]",
      "text/plain": [
       "<Figure size 432x288 with 1 Axes>"
      ]
     },
     "metadata": {
      "needs_background": "light"
     },
     "output_type": "display_data"
    }
   ],
   "source": [
    "x = np.linspace(-10,10,100)\n",
    "y_1 = 10*x**2\n",
    "y_2 = x**2\n",
    "fig, ax = plt.subplots()\n",
    "ax.plot(x,y_1,label = 'y = 3x^2')\n",
    "ax.plot(x,y_2,label = 'y = x^2')\n",
    "ax.set_ylim(top = 600)\n",
    "ax.legend(loc = 'upper right')"
   ]
  },
  {
   "cell_type": "code",
   "execution_count": 154,
   "metadata": {
    "ExecuteTime": {
     "end_time": "2019-12-02T12:15:27.158459Z",
     "start_time": "2019-12-02T12:15:27.153742Z"
    }
   },
   "outputs": [],
   "source": [
    "def hessian_compute_new(fn,loc):\n",
    "    f_ = fn\n",
    "    loc_ = loc\n",
    "    hess = np.empty([loc.shape[0],loc.shape[0]])\n",
    "    with tf.GradientTape(persistent=True) as t:  \n",
    "        t.watch(loc_)\n",
    "        loss = f_(loc_)\n",
    "        jacobian = t.gradient(loss,loc_)\n",
    "        for i in range(loc_.shape[0]):\n",
    "            hess[i] = t.gradient(jacobian[i],loc_)\n",
    "    return hess"
   ]
  },
  {
   "cell_type": "code",
   "execution_count": 155,
   "metadata": {
    "ExecuteTime": {
     "end_time": "2019-12-02T12:15:27.168681Z",
     "start_time": "2019-12-02T12:15:27.160614Z"
    }
   },
   "outputs": [
    {
     "name": "stdout",
     "output_type": "stream",
     "text": [
      "WARNING:tensorflow:Calling GradientTape.gradient on a persistent tape inside its context is significantly less efficient than calling it outside the context (it causes the gradient ops to be recorded on the tape, leading to increased CPU and memory usage). Only call GradientTape.gradient inside the context if you actually want to trace the gradient in order to compute higher order derivatives.\n",
      "WARNING:tensorflow:Calling GradientTape.gradient on a persistent tape inside its context is significantly less efficient than calling it outside the context (it causes the gradient ops to be recorded on the tape, leading to increased CPU and memory usage). Only call GradientTape.gradient inside the context if you actually want to trace the gradient in order to compute higher order derivatives.\n"
     ]
    },
    {
     "data": {
      "text/plain": [
       "array([[2.]])"
      ]
     },
     "execution_count": 155,
     "metadata": {},
     "output_type": "execute_result"
    }
   ],
   "source": [
    "def f(x):\n",
    "    return x**2\n",
    "loc = tf.zeros(1)\n",
    "hessian_compute_new(f,loc)"
   ]
  },
  {
   "cell_type": "code",
   "execution_count": 156,
   "metadata": {
    "ExecuteTime": {
     "end_time": "2019-12-02T12:15:27.175919Z",
     "start_time": "2019-12-02T12:15:27.170171Z"
    }
   },
   "outputs": [
    {
     "data": {
      "text/plain": [
       "array([[6.]])"
      ]
     },
     "execution_count": 156,
     "metadata": {},
     "output_type": "execute_result"
    }
   ],
   "source": [
    "def f(x):\n",
    "    return 3*x**2\n",
    "loc = tf.zeros(1)\n",
    "hessian_compute_new(f,loc)"
   ]
  },
  {
   "cell_type": "markdown",
   "metadata": {},
   "source": [
    "#### Compute the Hessian and Covariance of the Posterior at MAP\n",
    "\n",
    "Laplace approximation\n",
    "\n",
    "\\begin{equation}\n",
    "\\mathcal{C}_{\\mathrm{post}}=\\left(\\mathcal{H}_{\\mathrm{misfit}}\\left(m_{\\nu}\\right)+\\mathcal{C}_{\\mathrm{prior}}^{-1}\\right)^{-1}\n",
    "\\end{equation}"
   ]
  },
  {
   "cell_type": "code",
   "execution_count": 157,
   "metadata": {
    "ExecuteTime": {
     "end_time": "2019-12-02T12:15:27.181745Z",
     "start_time": "2019-12-02T12:15:27.177403Z"
    }
   },
   "outputs": [
    {
     "data": {
      "text/plain": [
       "<tf.Tensor: id=28897551, shape=(2, 2), dtype=float32, numpy=\n",
       "array([[1., 0.],\n",
       "       [0., 1.]], dtype=float32)>"
      ]
     },
     "execution_count": 157,
     "metadata": {},
     "output_type": "execute_result"
    }
   ],
   "source": [
    "cov = tf.convert_to_tensor(cov,dtype = tf.float32)\n",
    "tf.linalg.inv(cov)"
   ]
  },
  {
   "cell_type": "code",
   "execution_count": 158,
   "metadata": {
    "ExecuteTime": {
     "end_time": "2019-12-02T12:15:27.188529Z",
     "start_time": "2019-12-02T12:15:27.183593Z"
    }
   },
   "outputs": [
    {
     "data": {
      "text/plain": [
       "<tf.Tensor: id=28897555, shape=(2, 2), dtype=float32, numpy=\n",
       "array([[5.3157514e-01, 2.5224808e-04],\n",
       "       [2.5224808e-04, 9.8040411e-03]], dtype=float32)>"
      ]
     },
     "execution_count": 158,
     "metadata": {},
     "output_type": "execute_result"
    }
   ],
   "source": [
    "Sum = tf.add(hess,tf.linalg.inv(cov))\n",
    "C_post = tf.linalg.inv(Sum)\n",
    "C_post"
   ]
  },
  {
   "cell_type": "code",
   "execution_count": 159,
   "metadata": {
    "ExecuteTime": {
     "end_time": "2019-12-02T12:15:27.466064Z",
     "start_time": "2019-12-02T12:15:27.190719Z"
    }
   },
   "outputs": [
    {
     "data": {
      "image/png": "[encoded data removed]",
      "text/plain": [
       "<Figure size 432x288 with 1 Axes>"
      ]
     },
     "metadata": {
      "needs_background": "light"
     },
     "output_type": "display_data"
    }
   ],
   "source": [
    "from scipy.stats import multivariate_normal\n",
    "def plot_dist(loc,cov):\n",
    "    x, y = np.mgrid[-4:4:.01, -4:4:.01]\n",
    "    pos = np.empty(x.shape + (2,)) \n",
    "    pos[:, :, 0] = x; pos[:, :, 1] = y\n",
    "    rv = multivariate_normal(loc, cov)\n",
    "    plt.contour(x, y, rv.pdf(pos),np.arange(0.001,0.1,0.075))\n",
    "    plt.xlabel(\"x1\")\n",
    "    plt.ylabel(\"x2\")\n",
    "plot_dist(MAP,C_post)"
   ]
  },
  {
   "cell_type": "markdown",
   "metadata": {},
   "source": [
    "#### Define whether to accept or reject the new sample\n",
    "\\begin{equation}\n",
    "\\Phi\\left(m, \\mathbf{d}_{\\mathrm{obs}}\\right)=\\frac{1}{2}\\left\\|\\mathbf{f}(\\mathrm{m})-\\mathbf{d}_{\\mathrm{obs}}\\right\\|_{\\Gamma_{\\mathrm{noise}}^{-1}}\n",
    "\\end{equation}\n",
    "\n",
    "\n",
    "gpCN is a generalized version of the pCN sampler. While the proposals of pCN are drown from the prior Gaussian distribution $\\mu_{prior}$,proposals in the generalized pCN are drown from a Gaussian approximation $v$ of the posterior distribution.\n",
    "\n",
    "\\begin{equation}\n",
    "a_{\\nu}\\left(m_{\\mathrm{current}}, m_{\\mathrm{proposed}}\\right) :=\\min \\left\\{1, \\exp \\left(\\Delta\\left(m_{\\mathrm{current}}\\right)-\\Delta\\left(m_{\\mathrm{proposed}}\\right)\\right)\\right\\}\n",
    "\\end{equation}\n",
    "\n",
    "where   \n",
    "\n",
    "\\begin{equation}\n",
    "\\Delta(m)=\\Phi\\left(m, \\mathbf{d}_{\\mathrm{obs}}\\right)+\\frac{1}{2}\\left\\|\\mathrm{m}-\\mathrm{m}_{\\mathrm{prior}}\\right\\|_{C_{\\mathrm{prior}}^{-1}}^{2}-\\frac{1}{2}\\left\\|\\mathrm{m}-\\mathrm{m}_{\\nu}\\right\\|_{\\mathrm{C}_{\\nu}^{-1}}^{2}\n",
    "\\end{equation}\n",
    "\n",
    "$\\Phi\\left(m, \\mathbf{d}_{\\mathrm{obs}}\\right)+\\frac{1}{2}\\left\\|\\mathrm{m}-\\mathrm{m}_{\\mathrm{prior}}\\right\\|_{C_{\\mathrm{prior}}^{-1}}^{2}$  is the negative log posterior"
   ]
  },
  {
   "cell_type": "code",
   "execution_count": 160,
   "metadata": {
    "ExecuteTime": {
     "end_time": "2019-12-02T12:15:27.472813Z",
     "start_time": "2019-12-02T12:15:27.468031Z"
    }
   },
   "outputs": [],
   "source": [
    "@tf.function\n",
    "def matrixcompute(matrix1,matrix2,Cov):\n",
    "    matrix1 = tf.cast(matrix1,tf.float32)\n",
    "    matrix2 = tf.cast(matrix2,tf.float32)\n",
    "    matrix = tf.subtract(matrix1, matrix2)\n",
    "    matrix = tf.reshape(matrix,[matrix.shape[0],1])\n",
    "    matrix_T = tf.transpose(matrix)\n",
    "    Cov_inv = tf.linalg.inv(Cov)\n",
    "    result = tf.multiply(tf.constant(1/2),tf.matmul(tf.matmul(matrix_T,Cov_inv),matrix))\n",
    "    return result"
   ]
  },
  {
   "cell_type": "code",
   "execution_count": 169,
   "metadata": {
    "ExecuteTime": {
     "end_time": "2019-12-02T13:01:28.255494Z",
     "start_time": "2019-12-02T13:01:28.248835Z"
    }
   },
   "outputs": [],
   "source": [
    "def negative_log_prob(vars):\n",
    "    return(tf.negative(joint_log_prob(D,vars[0],vars[1])))\n",
    "\n",
    "def acceptance_gpCN(m_current , m_proposed):\n",
    "    delta_current = tf.subtract(negative_log_prob(m_current),matrixcompute(m_current,MAP,C_post))\n",
    "    delta_proposed = tf.subtract(negative_log_prob(m_proposed),matrixcompute(m_proposed,MAP,C_post))\n",
    "\n",
    "    ## calculate accept ratio if exp()<1\n",
    "    accept_ratio = tf.exp(tf.subtract(delta_current,delta_proposed))\n",
    "    acceptsample = tfd.Sample(\n",
    "    tfd.Uniform(0., 1.),\n",
    "    sample_shape=[1,1])\n",
    "    sample = acceptsample.sample()\n",
    "    \n",
    "    if(accept_ratio > sample):\n",
    "        return True\n",
    "    else:\n",
    "        return False\n",
    "        "
   ]
  },
  {
   "cell_type": "code",
   "execution_count": 170,
   "metadata": {
    "ExecuteTime": {
     "end_time": "2019-12-02T13:01:28.960446Z",
     "start_time": "2019-12-02T13:01:28.954982Z"
    }
   },
   "outputs": [],
   "source": [
    "from IPython.display import clear_output\n",
    "# define leaning rate\n",
    "beta = 0.1\n",
    "\n",
    "@tf.function\n",
    "def draw_proposal(m_current):\n",
    "    \n",
    "    _term1 = MAP\n",
    "    \n",
    "    ## sqrt term\n",
    "    tem_1 = tf.convert_to_tensor(np.sqrt(1-beta**2),dtype = tf.float32)\n",
    "    ## sqrt(1-beta^2)()\n",
    "    _term2 = tf.multiply(tem_1,(tf.subtract(m_current,MAP)))\n",
    "    \n",
    "    Xi = tfd.MultivariateNormalFullCovariance(\n",
    "            loc = 0,\n",
    "            covariance_matrix= C_post)\n",
    "\n",
    "    Xi_s = tfd.Sample(Xi)\n",
    "    _term3 = tf.multiply(beta,Xi_s.sample())\n",
    "    \n",
    "    m_proposed = tf.add(MAP,tf.add(_term2,_term3))\n",
    "    \n",
    "    return m_proposed\n",
    "    \n",
    "\n",
    "    "
   ]
  },
  {
   "cell_type": "code",
   "execution_count": 171,
   "metadata": {
    "ExecuteTime": {
     "end_time": "2019-12-02T13:01:29.577273Z",
     "start_time": "2019-12-02T13:01:29.574697Z"
    }
   },
   "outputs": [],
   "source": [
    "mu_init = [1.,1.]"
   ]
  },
  {
   "cell_type": "code",
   "execution_count": 172,
   "metadata": {
    "ExecuteTime": {
     "end_time": "2019-12-02T13:02:08.041980Z",
     "start_time": "2019-12-02T13:01:30.221835Z"
    }
   },
   "outputs": [],
   "source": [
    "number_of_steps = 10000\n",
    "def run_chain():\n",
    "    burn_in = 500\n",
    "    steps = number_of_steps\n",
    "    k = 0\n",
    "    accepted = []\n",
    "    rejected = []\n",
    "\n",
    "    m_current = mu_init  # init m\n",
    "    \n",
    "    \n",
    "    for k in range(steps+burn_in):\n",
    "\n",
    "        m_proposed = draw_proposal(m_current)\n",
    "        \n",
    "#         if k%20 == 0: \n",
    "#             clear_output();\n",
    "#             print(k, \"finised\")\n",
    "        \n",
    "        if acceptance_gpCN(m_current,m_proposed):\n",
    "            m_current = m_proposed\n",
    "            if k > burn_in:\n",
    "                accepted.append(m_proposed.numpy())\n",
    "        else:\n",
    "            m_current = m_current\n",
    "            rejected.append(m_proposed.numpy())\n",
    "    \n",
    "    return accepted,rejected\n",
    "#     print(\"acceptance rate = %0.1f%%\", 100*np.shape(accepted)[0]/steps)\n",
    "    \n",
    "accepted,rejected = run_chain()"
   ]
  },
  {
   "cell_type": "code",
   "execution_count": 173,
   "metadata": {
    "ExecuteTime": {
     "end_time": "2019-12-02T13:02:13.314273Z",
     "start_time": "2019-12-02T13:02:13.303794Z"
    }
   },
   "outputs": [
    {
     "name": "stdout",
     "output_type": "stream",
     "text": [
      "acceptance rate = 81.2%\n"
     ]
    }
   ],
   "source": [
    "np.shape(accepted)[0]\n",
    "print('acceptance rate = %0.1f%%' % (100*np.shape(accepted)[0]/number_of_steps))"
   ]
  },
  {
   "cell_type": "code",
   "execution_count": 174,
   "metadata": {
    "ExecuteTime": {
     "end_time": "2019-12-02T13:02:18.823086Z",
     "start_time": "2019-12-02T13:02:18.662272Z"
    }
   },
   "outputs": [
    {
     "data": {
      "text/plain": [
       "[<matplotlib.lines.Line2D at 0x1a45f17550>]"
      ]
     },
     "execution_count": 174,
     "metadata": {},
     "output_type": "execute_result"
    },
    {
     "data": {
      "image/png": "[encoded data removed]",
      "text/plain": [
       "<Figure size 432x288 with 1 Axes>"
      ]
     },
     "metadata": {
      "needs_background": "light"
     },
     "output_type": "display_data"
    }
   ],
   "source": [
    "accepted = np.array(accepted)\n",
    "\n",
    "# sns.kdeplot(x_accepted,y_accepted,ax=ax1)\n",
    "plt.plot(accepted[:,0],accepted[:,1],'.')\n"
   ]
  },
  {
   "cell_type": "markdown",
   "metadata": {},
   "source": [
    "### Tascks: \n",
    "1.  make a plot of the true density\n",
    "2.  Create a gempy model, better with gravity\n"
   ]
  },
  {
   "cell_type": "markdown",
   "metadata": {},
   "source": [
    "Likelihood"
   ]
  },
  {
   "cell_type": "code",
   "execution_count": null,
   "metadata": {
    "ExecuteTime": {
     "end_time": "2019-12-02T12:15:27.512557Z",
     "start_time": "2019-12-02T12:11:53.374Z"
    }
   },
   "outputs": [],
   "source": [
    "s = 0.01  # Try s=1, 0.25, 0.1, or 0.05\n",
    "X = np.arange(-2, 2+s, s)   #Could use linspace instead if dividing\n",
    "Y = np.arange(-2, 2.+s, s)   #evenly instead of stepping...\n",
    "\n",
    "#Create the mesh grid(s) for all X/Y combos.\n",
    "X, Y = np.meshgrid(X, Y)\n",
    "\n",
    "Z =  (Y+X*X)**2\n",
    "\n",
    "plt.contour(X,Y,Z,[0.01,0.05,0.09])"
   ]
  },
  {
   "cell_type": "markdown",
   "metadata": {},
   "source": [
    "Prior"
   ]
  },
  {
   "cell_type": "code",
   "execution_count": null,
   "metadata": {
    "ExecuteTime": {
     "end_time": "2019-12-02T12:15:27.513799Z",
     "start_time": "2019-12-02T12:11:53.377Z"
    }
   },
   "outputs": [],
   "source": [
    "def plot_Prior():\n",
    "    x, y = np.mgrid[-2:2:.01, -2:2:.01]\n",
    "    pos = np.empty(x.shape + (2,)) \n",
    "    pos[:, :, 0] = x; pos[:, :, 1] = y\n",
    "    rv = multivariate_normal([0, 0], [[1, 0], [0, 1]])\n",
    "    plt.contour(x, y, rv.pdf(pos))\n",
    "    plt.xlabel(\"x1\")\n",
    "    plt.ylabel(\"x2\")\n",
    "plot_Prior()"
   ]
  },
  {
   "cell_type": "markdown",
   "metadata": {},
   "source": [
    "Try again put them in a inference problem"
   ]
  },
  {
   "cell_type": "code",
   "execution_count": 243,
   "metadata": {
    "ExecuteTime": {
     "end_time": "2019-12-02T16:25:38.331127Z",
     "start_time": "2019-12-02T16:25:38.324688Z"
    }
   },
   "outputs": [],
   "source": [
    "c = 0 # mean of observations\n",
    "N = 100 # number of observation data\n",
    "sigma2y = 1 # standard deviation of observation data\n",
    "## generate the observation data\n",
    "y_ = np.random.normal(loc =c, scale = sigma2y, size = N)\n",
    "D = tf.convert_to_tensor(y_,dtype = tf.float32)\n",
    "\n",
    "def joint_post_prob(y,theta1,theta2):\n",
    "    # define random variables prior\n",
    "    mvn = tfd.MultivariateNormalFullCovariance(\n",
    "            loc = mu,\n",
    "            covariance_matrix= cov)\n",
    "    z = tf.stack([theta1, theta2], axis=-1)\n",
    "    # define likelihood\n",
    "    y = tfd.Normal(loc = tf.add(theta2,tf.pow(theta1,2.)), scale = sigma2y)\n",
    "    # return the posterior probability\n",
    "    return (tf.exp(mvn.log_prob(tf.squeeze(z))\n",
    "          +tf.reduce_sum(y.log_prob(D))))"
   ]
  },
  {
   "cell_type": "code",
   "execution_count": null,
   "metadata": {
    "ExecuteTime": {
     "start_time": "2019-12-02T16:25:38.773Z"
    }
   },
   "outputs": [],
   "source": [
    "x, y = np.mgrid[-2:2:.01, -2:2:.01]\n",
    "pos = np.empty(x.shape + (2,),dtype = np.float32) \n",
    "pos[:, :, 0] = x; pos[:, :, 1] = y\n",
    "\n",
    "post = np.empty(x.shape)\n",
    "\n",
    "for i in range(400):\n",
    "    for j in range(400):\n",
    "        post[i][j] = joint_post_prob(D,pos[i][j][0],pos[i][j][1])"
   ]
  },
  {
   "cell_type": "code",
   "execution_count": null,
   "metadata": {
    "ExecuteTime": {
     "start_time": "2019-12-02T16:25:39.548Z"
    }
   },
   "outputs": [],
   "source": [
    "plt.contour(x, y, post)\n",
    "plt.xlim(-2,2)\n",
    "plt.ylim(-2,1)\n",
    "plt.xlabel(\"x1\")\n",
    "plt.ylabel(\"x2\")"
   ]
  },
  {
   "cell_type": "markdown",
   "metadata": {},
   "source": [
    "likelihood"
   ]
  },
  {
   "cell_type": "code",
   "execution_count": 215,
   "metadata": {
    "ExecuteTime": {
     "end_time": "2019-12-02T15:29:18.898905Z",
     "start_time": "2019-12-02T15:29:18.893701Z"
    }
   },
   "outputs": [],
   "source": [
    "c = 0 # mean of observations\n",
    "N = 100 # number of observation data\n",
    "sigma2y = 1 # standard deviation of observation data\n",
    "## generate the observation data\n",
    "y_ = np.random.normal(loc =c, scale = sigma2y, size = N)\n",
    "D = tf.convert_to_tensor(y_,dtype = tf.float32)\n",
    "\n",
    "def likelihood_prob(y,theta1,theta2):\n",
    "    # define random variables prior\n",
    "    # define likelihood\n",
    "    y = tfd.Normal(loc = tf.add(theta2,tf.pow(theta1,2.)), scale = sigma2y)\n",
    "    # return the posterior probability\n",
    "    return(tf.reduce_sum(y.prob(D)))"
   ]
  },
  {
   "cell_type": "code",
   "execution_count": 216,
   "metadata": {
    "ExecuteTime": {
     "end_time": "2019-12-02T15:30:49.489528Z",
     "start_time": "2019-12-02T15:29:20.829330Z"
    }
   },
   "outputs": [],
   "source": [
    "x, y = np.mgrid[-2:2:.01, -2:2:.01]\n",
    "pos = np.empty(x.shape + (2,),dtype = np.float32) \n",
    "pos[:, :, 0] = x; pos[:, :, 1] = y\n",
    "likelihood = np.empty(x.shape)\n",
    "for i in range(400):\n",
    "    for j in range(400):\n",
    "        likelihood[i][j] = likelihood_prob(D,pos[i][j][0],pos[i][j][1])"
   ]
  },
  {
   "cell_type": "code",
   "execution_count": 217,
   "metadata": {
    "ExecuteTime": {
     "end_time": "2019-12-02T15:30:51.373040Z",
     "start_time": "2019-12-02T15:30:51.219857Z"
    }
   },
   "outputs": [
    {
     "data": {
      "text/plain": [
       "Text(0, 0.5, 'x2')"
      ]
     },
     "execution_count": 217,
     "metadata": {},
     "output_type": "execute_result"
    },
    {
     "data": {
      "image/png": "[encoded data removed]",
      "text/plain": [
       "<Figure size 432x288 with 1 Axes>"
      ]
     },
     "metadata": {
      "needs_background": "light"
     },
     "output_type": "display_data"
    }
   ],
   "source": [
    "plt.contour(x, y, likelihood,[likelihood_prob(D,0.,0.2).numpy()])\n",
    "plt.xlim(-2,2)\n",
    "plt.ylim(-2,1)\n",
    "plt.xlabel(\"x1\")\n",
    "plt.ylabel(\"x2\")\n",
    "    "
   ]
  },
  {
   "cell_type": "markdown",
   "metadata": {},
   "source": [
    "Prior"
   ]
  },
  {
   "cell_type": "code",
   "execution_count": 218,
   "metadata": {
    "ExecuteTime": {
     "end_time": "2019-12-02T15:41:13.863092Z",
     "start_time": "2019-12-02T15:30:53.153718Z"
    }
   },
   "outputs": [],
   "source": [
    "c = 0 # mean of observations\n",
    "N = 100 # number of observation data\n",
    "sigma2y = 1 # standard deviation of observation data\n",
    "## generate the observation data\n",
    "y_ = np.random.normal(loc =c, scale = sigma2y, size = N)\n",
    "D = tf.convert_to_tensor(y_,dtype = tf.float32)\n",
    "\n",
    "def prior_prob(y,theta1,theta2):\n",
    "    # define random variables prior\n",
    "    mvn = tfd.MultivariateNormalFullCovariance(\n",
    "            loc = mu,\n",
    "            covariance_matrix= cov)\n",
    "    z = tf.stack([theta1, theta2], axis=-1)\n",
    "    return(mvn.prob(tf.squeeze(z)))\n",
    "\n",
    "x, y = np.mgrid[-2:2:.01, -2:2:.01]\n",
    "pos = np.empty(x.shape + (2,),dtype = np.float32) \n",
    "pos[:, :, 0] = x; pos[:, :, 1] = y\n",
    "\n",
    "prior = np.empty(x.shape)\n",
    "\n",
    "for i in range(400):\n",
    "    for j in range(400):\n",
    "        prior[i][j] = prior_prob(D,pos[i][j][0],pos[i][j][1])"
   ]
  },
  {
   "cell_type": "code",
   "execution_count": 219,
   "metadata": {
    "ExecuteTime": {
     "end_time": "2019-12-02T15:41:15.684665Z",
     "start_time": "2019-12-02T15:41:15.516089Z"
    }
   },
   "outputs": [
    {
     "data": {
      "text/plain": [
       "Text(0, 0.5, 'x2')"
      ]
     },
     "execution_count": 219,
     "metadata": {},
     "output_type": "execute_result"
    },
    {
     "data": {
      "image/png": "[encoded data removed]",
      "text/plain": [
       "<Figure size 432x288 with 1 Axes>"
      ]
     },
     "metadata": {
      "needs_background": "light"
     },
     "output_type": "display_data"
    }
   ],
   "source": [
    "plt.contour(x, y, prior)\n",
    "plt.xlim(-2,2)\n",
    "plt.ylim(-2,2)\n",
    "plt.xlabel(\"x1\")\n",
    "plt.ylabel(\"x2\")"
   ]
  },
  {
   "cell_type": "markdown",
   "metadata": {},
   "source": [
    "Let's add more observations, we shall expect broader extension"
   ]
  },
  {
   "cell_type": "code",
   "execution_count": 191,
   "metadata": {
    "ExecuteTime": {
     "end_time": "2019-12-02T14:44:28.321062Z",
     "start_time": "2019-12-02T14:31:18.068996Z"
    }
   },
   "outputs": [],
   "source": [
    "c = 0 # mean of observations\n",
    "N = 1000 # number of observation data\n",
    "sigma2y = 1 # standard deviation of observation data\n",
    "## generate the observation data\n",
    "y_ = np.random.normal(loc =c, scale = sigma2y, size = N)\n",
    "D = tf.convert_to_tensor(y_,dtype = tf.float32)\n",
    "\n",
    "def joint_prob(y,theta1,theta2):\n",
    "    # define random variables prior\n",
    "    mvn = tfd.MultivariateNormalFullCovariance(\n",
    "            loc = mu,\n",
    "            covariance_matrix= cov)\n",
    "    z = tf.stack([theta1, theta2], axis=-1)\n",
    "    # define likelihood\n",
    "    y = tfd.Normal(loc = tf.add(theta2,tf.pow(theta1,2.)), scale = sigma2y)\n",
    "    # return the posterior probability\n",
    "    return(mvn.prob(tf.squeeze(z))\n",
    "          +tf.reduce_sum(y.prob(D)))\n",
    "\n",
    "x, y = np.mgrid[-2:2:.01, -2:2:.01]\n",
    "pos = np.empty(x.shape + (2,),dtype = np.float32) \n",
    "pos[:, :, 0] = x; pos[:, :, 1] = y\n",
    "\n",
    "pdf_1 = np.empty(x.shape)\n",
    "\n",
    "for i in range(400):\n",
    "    for j in range(400):\n",
    "        pdf_1[i][j] = joint_prob(D,pos[i][j][0],pos[i][j][1])"
   ]
  },
  {
   "cell_type": "code",
   "execution_count": 192,
   "metadata": {
    "ExecuteTime": {
     "end_time": "2019-12-02T14:44:30.336350Z",
     "start_time": "2019-12-02T14:44:30.179043Z"
    }
   },
   "outputs": [
    {
     "data": {
      "text/plain": [
       "Text(0, 0.5, 'x2')"
      ]
     },
     "execution_count": 192,
     "metadata": {},
     "output_type": "execute_result"
    },
    {
     "data": {
      "image/png": "[encoded data removed]",
      "text/plain": [
       "<Figure size 432x288 with 1 Axes>"
      ]
     },
     "metadata": {
      "needs_background": "light"
     },
     "output_type": "display_data"
    }
   ],
   "source": [
    "plt.contour(x, y, pdf_1,[joint_prob(D,0.1,0.1).numpy()])\n",
    "plt.xlim(-2,2)\n",
    "plt.ylim(-2,2)\n",
    "plt.xlabel(\"x1\")\n",
    "plt.ylabel(\"x2\")"
   ]
  },
  {
   "cell_type": "markdown",
   "metadata": {},
   "source": [
    "Plot the results together"
   ]
  },
  {
   "cell_type": "code",
   "execution_count": 231,
   "metadata": {
    "ExecuteTime": {
     "end_time": "2019-12-02T15:49:02.124593Z",
     "start_time": "2019-12-02T15:49:01.627014Z"
    }
   },
   "outputs": [
    {
     "data": {
      "text/plain": [
       "(-2, 1)"
      ]
     },
     "execution_count": 231,
     "metadata": {},
     "output_type": "execute_result"
    },
    {
     "data": {
      "image/png": "[encoded data removed]",
      "text/plain": [
       "<Figure size 1080x360 with 3 Axes>"
      ]
     },
     "metadata": {
      "needs_background": "light"
     },
     "output_type": "display_data"
    }
   ],
   "source": [
    "fig, ax = plt.subplots(1, 3,figsize=(15,5))\n",
    "ax[0].contour(x, y, prior)\n",
    "ax[1].contour(x, y, pdf,[joint_prob(D,0.,0.2).numpy()])\n",
    "ax[1].set_ylim(-2,1)\n",
    "ax[2].contour(x, y, likelihood,[likelihood_prob(D,0.,0.2).numpy()])\n",
    "ax[2].set_ylim(-2,1)"
   ]
  },
  {
   "cell_type": "code",
   "execution_count": null,
   "metadata": {},
   "outputs": [],
   "source": []
  },
  {
   "cell_type": "markdown",
   "metadata": {},
   "source": [
    "### Done: check this hessian function    \n",
    "so the jacbian is the same, why?   \n",
    "seems something wrong with this hessian function"
   ]
  },
  {
   "cell_type": "code",
   "execution_count": null,
   "metadata": {
    "ExecuteTime": {
     "end_time": "2019-12-02T12:15:27.526105Z",
     "start_time": "2019-12-02T12:11:53.406Z"
    }
   },
   "outputs": [],
   "source": [
    "@tf.function\n",
    "def compute_hessian(fn, vars):\n",
    "    mat = []\n",
    "    for v2 in vars:\n",
    "        for i in range(np.shape(vars)[0]):\n",
    "            jac =[]\n",
    "            with tf.GradientTape() as t2:\n",
    "                for v1 in vars:\n",
    "                    with tf.GradientTape() as t:\n",
    "                        f = fn(vars)\n",
    "                        jac.append(t.gradient(f,v1))\n",
    "                hess = t2.gradient(jac[i],v2)\n",
    "                if type(hess) == type(None):\n",
    "                    mat.append(0)\n",
    "                else:mat.append(hess.numpy())\n",
    "    return np.reshape(mat,[np.shape(vars)[0],np.shape(vars)[0]])"
   ]
  },
  {
   "cell_type": "code",
   "execution_count": null,
   "metadata": {
    "ExecuteTime": {
     "end_time": "2019-12-02T12:15:27.527393Z",
     "start_time": "2019-12-02T12:11:53.408Z"
    }
   },
   "outputs": [],
   "source": [
    "@tf.function\n",
    "def f(vars):\n",
    "    return (-joint_log_prob(D,vars[0],vars[1]))\n",
    "\n",
    "fn = f\n",
    "vars = [theta2,theta2]\n",
    "mat = []\n",
    "for v2 in vars:\n",
    "    for i in range(np.shape(vars)[0]):\n",
    "        jac =[]\n",
    "        with tf.GradientTape() as t2:\n",
    "            for v1 in vars:\n",
    "                with tf.GradientTape() as t:\n",
    "                    f = fn(vars)\n",
    "                    jac.append(t.gradient(f,v1))\n",
    "            hess = t2.gradient(jac[i],v2)\n",
    "            if type(hess) == type(None):\n",
    "                mat.append(0)\n",
    "            else:\n",
    "                print(hess)#mat.append(hess.numpy())"
   ]
  },
  {
   "cell_type": "code",
   "execution_count": null,
   "metadata": {
    "ExecuteTime": {
     "end_time": "2019-12-02T12:15:27.528608Z",
     "start_time": "2019-12-02T12:11:53.410Z"
    }
   },
   "outputs": [],
   "source": [
    "theta2"
   ]
  },
  {
   "cell_type": "code",
   "execution_count": null,
   "metadata": {
    "ExecuteTime": {
     "end_time": "2019-12-02T12:15:27.529739Z",
     "start_time": "2019-12-02T12:11:53.412Z"
    }
   },
   "outputs": [],
   "source": [
    "MAP = [-1.,10.]"
   ]
  },
  {
   "cell_type": "code",
   "execution_count": null,
   "metadata": {
    "ExecuteTime": {
     "end_time": "2019-12-02T12:15:27.530869Z",
     "start_time": "2019-12-02T12:11:53.415Z"
    }
   },
   "outputs": [],
   "source": [
    "@tf.function\n",
    "def f(vars):\n",
    "    return (-joint_log_prob(D,vars[0],vars[1]))\n",
    "\n",
    "theta1 = tf.Variable(MAP[0])\n",
    "theta2 = tf.Variable(MAP[1])\n",
    "\n",
    "hess = compute_hessian(f,[theta2,theta2])\n",
    "\n",
    "hess"
   ]
  },
  {
   "cell_type": "code",
   "execution_count": null,
   "metadata": {
    "ExecuteTime": {
     "end_time": "2019-12-02T12:15:27.532076Z",
     "start_time": "2019-12-02T12:11:53.417Z"
    }
   },
   "outputs": [],
   "source": [
    "def f(vars):\n",
    "    return(vars[0]**3+2*vars[1]**2)"
   ]
  },
  {
   "cell_type": "code",
   "execution_count": null,
   "metadata": {
    "ExecuteTime": {
     "end_time": "2019-12-02T12:15:27.533101Z",
     "start_time": "2019-12-02T12:11:53.419Z"
    }
   },
   "outputs": [],
   "source": [
    "MAP = [10.,2.]\n",
    "\n",
    "theta1 = tf.Variable(MAP[0])\n",
    "theta2 = tf.Variable(MAP[1])\n",
    "hess = compute_hessian(f,[theta1,theta2])\n",
    "hess"
   ]
  },
  {
   "cell_type": "markdown",
   "metadata": {},
   "source": [
    "Sample from Prior"
   ]
  },
  {
   "cell_type": "code",
   "execution_count": null,
   "metadata": {
    "ExecuteTime": {
     "end_time": "2019-12-02T12:15:27.534061Z",
     "start_time": "2019-12-02T12:11:53.422Z"
    }
   },
   "outputs": [],
   "source": [
    "c = 0 # mean of observations\n",
    "N = 100 # number of observation data\n",
    "sigma2y = 1 # standard deviation of observation data\n",
    "## generate the observation data\n",
    "y_ = np.random.normal(loc =c, scale = sigma2y, size = N)\n",
    "D = tf.convert_to_tensor(y_,dtype = tf.float32)\n",
    "\n",
    "mean = [0.,0.]\n",
    "\n",
    "\n",
    "def joint_log_prob(D,theta1,theta2):\n",
    "    # define random variables prior\n",
    "    mvn = tfd.MultivariateNormalFullCovariance(\n",
    "            loc = mean,\n",
    "            covariance_matrix= cov)\n",
    "    z = tf.stack([theta1, theta2], axis=-1)\n",
    "    return(mvn.log_prob(tf.squeeze(z)))\n",
    "\n",
    "num_results = 5000\n",
    "burnin = 500\n",
    "\n",
    "initial_chain_state = [\n",
    "    0. * tf.ones([], dtype=tf.float32, name=\"init_t1\"),\n",
    "    0. * tf.ones([], dtype=tf.float32, name=\"init_t2\")\n",
    "]\n",
    "\n",
    "unnormalized_posterior_log_prob = lambda *args: joint_log_prob(y_, *args)\n",
    "\n",
    "samples, kernel_results = tfp.mcmc.sample_chain(\n",
    "    num_results=num_results,\n",
    "    current_state=initial_chain_state,\n",
    "    kernel=tfp.mcmc.RandomWalkMetropolis(\n",
    "        target_log_prob_fn=unnormalized_posterior_log_prob),\n",
    "    num_burnin_steps=burnin,\n",
    "    num_steps_between_results=1,  # Thinning.\n",
    "    parallel_iterations=1)\n",
    "\n",
    "\n",
    "samples = tf.stack(samples, axis=-1)\n",
    "accepted = kernel_results.is_accepted\n",
    "\n",
    "samples = samples.numpy()\n",
    "accepted = accepted.numpy()\n",
    "\n",
    "x1 = samples[:,0]\n",
    "y1 = samples[:,1]\n",
    "\n",
    "x_accepted = []\n",
    "y_accepted =[]\n",
    "\n",
    "for i in range(accepted.shape[0]):\n",
    "    if accepted[i-1]==True:\n",
    "        x_accepted = np.append(x_accepted,samples[i-1,0])\n",
    "        y_accepted = np.append(y_accepted,samples[i-1,1])\n",
    "\n",
    "sns.kdeplot(x_accepted,y_accepted)\n",
    "\n",
    "print('Acceptance rate: %0.1f%%' % (100*(x_accepted.shape[0]/num_results)))\n"
   ]
  },
  {
   "cell_type": "code",
   "execution_count": null,
   "metadata": {
    "ExecuteTime": {
     "end_time": "2019-12-02T12:15:27.535207Z",
     "start_time": "2019-12-02T12:11:53.424Z"
    }
   },
   "outputs": [],
   "source": [
    "c = 0 # mean of observations\n",
    "N = 100 # number of observation data\n",
    "sigma2y = 1 # standard deviation of observation data\n",
    "## generate the observation data\n",
    "y_ = np.random.normal(loc =c, scale = sigma2y, size = N)\n",
    "D = tf.convert_to_tensor(y_,dtype = tf.float32)\n",
    "\n",
    "mean = [0.,0.]\n",
    "\n",
    "\n",
    "def joint_log_prob(D,theta1,theta2):\n",
    "    # define random variables prior\n",
    "    mvn = tfd.MultivariateNormalFullCovariance(\n",
    "            loc = mean,\n",
    "            covariance_matrix= cov)\n",
    "    z = tf.stack([theta1, theta2], axis=-1)\n",
    "    # define likelihood\n",
    "    y = tfd.Normal(loc = tf.add(theta2,tf.pow(theta1,2.)), scale = sigma2y)\n",
    "    # return the posterior probability\n",
    "    return(mvn.log_prob(tf.squeeze(z))+tf.reduce_sum(y.log_prob(D)))\n",
    "\n",
    "num_results = 5000\n",
    "burnin = 500\n",
    "\n",
    "initial_chain_state = [\n",
    "    -1.5 * tf.ones([], dtype=tf.float32, name=\"init_t1\"),\n",
    "    -1.5 * tf.ones([], dtype=tf.float32, name=\"init_t2\")\n",
    "]\n",
    "\n",
    "unnormalized_posterior_log_prob = lambda *args: joint_log_prob(y_, *args)\n",
    "\n",
    "samples, kernel_results = tfp.mcmc.sample_chain(\n",
    "    num_results=num_results,\n",
    "    current_state=initial_chain_state,\n",
    "    kernel=tfp.mcmc.RandomWalkMetropolis(\n",
    "        target_log_prob_fn=unnormalized_posterior_log_prob),\n",
    "    num_burnin_steps=burnin,\n",
    "    num_steps_between_results=1,  # Thinning.\n",
    "    parallel_iterations=1)\n",
    "\n",
    "\n",
    "samples = tf.stack(samples, axis=-1)\n",
    "accepted = kernel_results.is_accepted\n",
    "\n",
    "samples = samples.numpy()\n",
    "accepted = accepted.numpy()\n",
    "\n",
    "x1 = samples[:,0]\n",
    "y1 = samples[:,1]\n",
    "\n",
    "x_accepted = []\n",
    "y_accepted =[]\n",
    "\n",
    "for i in range(accepted.shape[0]):\n",
    "    if accepted[i-1]==True:\n",
    "        x_accepted = np.append(x_accepted,samples[i-1,0])\n",
    "        y_accepted = np.append(y_accepted,samples[i-1,1])\n",
    "# f,(ax1,ax2) = plt.subplots(2,1,sharex =True, sharey = True)\n",
    "\n",
    "sns.kdeplot(x_accepted,y_accepted)\n",
    "# ax1.plot(x_accepted,y_accepted,'.')\n",
    "# plot_true()\n",
    "\n",
    "print('Acceptance rate: %0.1f%%' % (100*(x_accepted.shape[0]/num_results)))\n"
   ]
  },
  {
   "cell_type": "code",
   "execution_count": null,
   "metadata": {
    "ExecuteTime": {
     "end_time": "2019-12-02T12:15:27.536383Z",
     "start_time": "2019-12-02T12:11:53.427Z"
    }
   },
   "outputs": [],
   "source": [
    "c = 0 # mean of observations\n",
    "N = 1000 # number of observation data\n",
    "sigma2y = 1 # standard deviation of observation data\n",
    "## generate the observation data\n",
    "y_ = np.random.normal(loc =c, scale = sigma2y, size = N)\n",
    "D = tf.convert_to_tensor(y_,dtype = tf.float32)\n",
    "\n",
    "mean = [0.,0.]\n",
    "\n",
    "\n",
    "def joint_log_prob(D,theta1,theta2):\n",
    "    # define random variables prior\n",
    "    mvn = tfd.MultivariateNormalFullCovariance(\n",
    "            loc = mean,\n",
    "            covariance_matrix= cov)\n",
    "    z = tf.stack([theta1, theta2], axis=-1)\n",
    "    # define likelihood\n",
    "    y = tfd.Normal(loc = tf.add(theta2,tf.pow(theta1,2.)), scale = sigma2y)\n",
    "    # return the posterior probability\n",
    "    return(mvn.log_prob(tf.squeeze(z))+tf.reduce_sum(y.log_prob(D)))\n",
    "\n",
    "num_results = 4000\n",
    "burnin = 500\n",
    "\n",
    "initial_chain_state = [\n",
    "    -1.5 * tf.ones([], dtype=tf.float32, name=\"init_t1\"),\n",
    "    -1.5 * tf.ones([], dtype=tf.float32, name=\"init_t2\")\n",
    "]\n",
    "\n",
    "unnormalized_posterior_log_prob = lambda *args: joint_log_prob(y_, *args)\n",
    "\n",
    "samples, kernel_results = tfp.mcmc.sample_chain(\n",
    "    num_results=num_results,\n",
    "    current_state=initial_chain_state,\n",
    "    kernel=tfp.mcmc.HamiltonianMonteCarlo(\n",
    "        target_log_prob_fn=unnormalized_posterior_log_prob,\n",
    "        step_size = 0.01,\n",
    "        num_leapfrog_steps = 5),\n",
    "    num_burnin_steps=burnin,\n",
    "    num_steps_between_results=1,  # Thinning.\n",
    "    parallel_iterations=1)\n",
    "\n",
    "\n",
    "samples = tf.stack(samples, axis=-1)\n",
    "accepted = kernel_results.is_accepted\n",
    "\n",
    "samples = samples.numpy()\n",
    "accepted = accepted.numpy()\n",
    "\n",
    "x1 = samples[:,0]\n",
    "y1 = samples[:,1]\n",
    "\n",
    "x_accepted = []\n",
    "y_accepted =[]\n",
    "\n",
    "for i in range(accepted.shape[0]):\n",
    "    if accepted[i-1]==True:\n",
    "        x_accepted = np.append(x_accepted,samples[i-1,0])\n",
    "        y_accepted = np.append(y_accepted,samples[i-1,1])\n",
    "# f,(ax1,ax2) = plt.subplots(2,1,sharex =True, sharey = True)\n",
    "\n",
    "sns.kdeplot(x_accepted,y_accepted)\n",
    "# ax1.plot(x_accepted,y_accepted,'.')\n",
    "# plot_true()\n",
    "\n",
    "print('Acceptance rate: %0.1f%%' % (100*(x_accepted.shape[0]/num_results)))\n"
   ]
  },
  {
   "cell_type": "code",
   "execution_count": null,
   "metadata": {},
   "outputs": [],
   "source": []
  }
 ],
 "metadata": {
  "kernelspec": {
   "display_name": "Python 3",
   "language": "python",
   "name": "python3"
  },
  "varInspector": {
   "cols": {
    "lenName": 16,
    "lenType": 16,
    "lenVar": 40
   },
   "kernels_config": {
    "python": {
     "delete_cmd_postfix": "",
     "delete_cmd_prefix": "del ",
     "library": "var_list.py",
     "varRefreshCmd": "print(var_dic_list())"
    },
    "r": {
     "delete_cmd_postfix": ") ",
     "delete_cmd_prefix": "rm(",
     "library": "var_list.r",
     "varRefreshCmd": "cat(var_dic_list()) "
    }
   },
   "types_to_exclude": [
    "module",
    "function",
    "builtin_function_or_method",
    "instance",
    "_Feature"
   ],
   "window_display": false
  }
 },
 "nbformat": 4,
 "nbformat_minor": 2
}
