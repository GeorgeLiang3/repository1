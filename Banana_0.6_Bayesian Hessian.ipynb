{
 "cells": [
  {
   "cell_type": "code",
   "execution_count": 3,
   "metadata": {
    "ExecuteTime": {
     "end_time": "2019-11-27T13:54:52.334894Z",
     "start_time": "2019-11-27T13:54:52.328294Z"
    }
   },
   "outputs": [],
   "source": [
    "#import library\n",
    "from scipy.stats import norm\n",
    "import numpy as np\n",
    "import matplotlib.pyplot as plt\n",
    "import tensorflow as tf\n",
    "import tensorflow_probability as tfp\n",
    "from tensorflow_probability import edward2 as ed\n",
    "tfd = tfp.distributions\n",
    "import scipy.stats as st\n",
    "from mpl_toolkits.mplot3d import Axes3D\n",
    "import math\n",
    "\n",
    "import seaborn as sns\n",
    "import pandas as pd\n",
    "%matplotlib inline"
   ]
  },
  {
   "cell_type": "markdown",
   "metadata": {},
   "source": [
    "Define the prior by multuvatiate distribution"
   ]
  },
  {
   "cell_type": "code",
   "execution_count": 4,
   "metadata": {
    "ExecuteTime": {
     "end_time": "2019-11-27T13:54:53.489962Z",
     "start_time": "2019-11-27T13:54:53.486769Z"
    }
   },
   "outputs": [],
   "source": [
    "mu= [0.,0.]\n",
    "\n",
    "cov = [[ 1,  0.],\n",
    "        [ 0.,  1]]\n"
   ]
  },
  {
   "cell_type": "code",
   "execution_count": 5,
   "metadata": {
    "ExecuteTime": {
     "end_time": "2019-11-27T13:54:54.589787Z",
     "start_time": "2019-11-27T13:54:54.567727Z"
    }
   },
   "outputs": [],
   "source": [
    "## initial the model\n",
    "\n",
    "c = 0 # mean of observations\n",
    "N = 1000 # number of observation data\n",
    "sigma2y = 1 # standard deviation of observation data\n",
    "## generate the observation data\n",
    "y_ = np.random.normal(loc =c, scale = sigma2y, size = N)\n",
    "D = tf.convert_to_tensor(y_,dtype = tf.float32)\n",
    "\n",
    "## define the log probability\n",
    "def joint_log_prob(y,theta1,theta2):\n",
    "    # define random variables prior\n",
    "    mvn = tfd.MultivariateNormalFullCovariance(\n",
    "            loc = mu,\n",
    "            covariance_matrix= cov)\n",
    "    z = tf.stack([theta1, theta2], axis=-1)\n",
    "    # define likelihood\n",
    "    y = tfd.Normal(loc = tf.add(theta2,tf.pow(theta1,2.)), scale = sigma2y)\n",
    "    # return the posterior probability\n",
    "    return(mvn.log_prob(tf.squeeze(z))\n",
    "          +tf.reduce_sum(y.log_prob(D)))"
   ]
  },
  {
   "cell_type": "markdown",
   "metadata": {},
   "source": [
    "<b>RMH"
   ]
  },
  {
   "cell_type": "code",
   "execution_count": null,
   "metadata": {
    "ExecuteTime": {
     "end_time": "2019-11-27T14:01:56.512719Z",
     "start_time": "2019-11-27T14:01:35.061141Z"
    }
   },
   "outputs": [],
   "source": [
    "num_results = 1000\n",
    "burnin = 500\n",
    "\n",
    "initial_chain_state = [\n",
    "    -1.5 * tf.ones([], dtype=tf.float32, name=\"init_t1\"),\n",
    "    -1.5 * tf.ones([], dtype=tf.float32, name=\"init_t2\")\n",
    "]\n",
    "\n",
    "unnormalized_posterior_log_prob = lambda *args: joint_log_prob(D, *args)\n",
    "\n",
    "samples, kernel_results = tfp.mcmc.sample_chain(\n",
    "    num_results=num_results,\n",
    "    current_state=initial_chain_state,\n",
    "    kernel=tfp.mcmc.RandomWalkMetropolis(\n",
    "        target_log_prob_fn=unnormalized_posterior_log_prob),\n",
    "    num_burnin_steps=burnin,\n",
    "    num_steps_between_results=1,  # Thinning.\n",
    "    parallel_iterations=1)\n",
    "samples = tf.stack(samples, axis=-1)\n",
    "accepted = kernel_results.is_accepted\n",
    "\n",
    "samples = samples.numpy()\n",
    "accepted = accepted.numpy()\n",
    "\n",
    "x1 = samples[:,0]\n",
    "y1 = samples[:,1]\n",
    "\n",
    "x_accepted = []\n",
    "y_accepted =[]\n"
   ]
  },
  {
   "cell_type": "code",
   "execution_count": 10,
   "metadata": {
    "ExecuteTime": {
     "end_time": "2019-11-27T14:02:14.876591Z",
     "start_time": "2019-11-27T14:02:14.719024Z"
    }
   },
   "outputs": [
    {
     "name": "stdout",
     "output_type": "stream",
     "text": [
      "Acceptance rate: 2.6%\n"
     ]
    },
    {
     "data": {
      "image/png": "[encoded data removed]",
      "text/plain": [
       "<Figure size 432x288 with 1 Axes>"
      ]
     },
     "metadata": {
      "needs_background": "light"
     },
     "output_type": "display_data"
    }
   ],
   "source": [
    "for i in range(accepted.shape[0]):\n",
    "    if accepted[i-1]==True:\n",
    "        x_accepted = np.append(x_accepted,samples[i-1,0])\n",
    "        y_accepted = np.append(y_accepted,samples[i-1,1])\n",
    "# f,(ax1,ax2) = plt.subplots(2,1,sharex =True, sharey = True)\n",
    "\n",
    "# sns.kdeplot(x_accepted,y_accepted,ax=ax1)\n",
    "plt.plot(x_accepted,y_accepted,'.')\n",
    "# plot_true()\n",
    "\n",
    "print('Acceptance rate: %0.1f%%' % (100*(x_accepted.shape[0]/num_results)))\n"
   ]
  },
  {
   "cell_type": "markdown",
   "metadata": {},
   "source": [
    "Adjust the step size"
   ]
  },
  {
   "cell_type": "code",
   "execution_count": 24,
   "metadata": {
    "ExecuteTime": {
     "end_time": "2019-11-27T14:18:16.212734Z",
     "start_time": "2019-11-27T14:18:01.551035Z"
    }
   },
   "outputs": [
    {
     "name": "stderr",
     "output_type": "stream",
     "text": [
      "/Users/zhouji/.local/lib/python3.7/site-packages/tensorflow_probability/python/mcmc/sample.py:335: UserWarning: Tracing all kernel results by default is deprecated. Set the `trace_fn` argument to None (the future default value) or an explicit callback that traces the values you are interested in.\n",
      "  warnings.warn(\"Tracing all kernel results by default is deprecated. Set \"\n"
     ]
    }
   ],
   "source": [
    "num_results = 1000\n",
    "burnin = 500\n",
    "\n",
    "initial_chain_state = [\n",
    "    -1.7 * tf.ones([], dtype=tf.float32, name=\"init_t1\"),\n",
    "    -1.5 * tf.ones([], dtype=tf.float32, name=\"init_t2\")\n",
    "]\n",
    "\n",
    "dtype = np.float32\n",
    "\n",
    "unnormalized_posterior_log_prob = lambda *args: joint_log_prob(D, *args)\n",
    "\n",
    "def gauss_new_state_fn(scale, dtype):\n",
    "  gauss = tfd.Normal(loc=dtype(0), scale=dtype(scale))\n",
    "  def _fn(state_parts, seed):\n",
    "    next_state_parts = []\n",
    "    seed_stream  = tfp.util.SeedStream(seed, salt='RandomNormal')\n",
    "    for sp in state_parts:\n",
    "      next_state_parts.append(sp + gauss.sample(\n",
    "        sample_shape=sp.shape, seed=seed_stream()))\n",
    "    return next_state_parts\n",
    "  return _fn\n",
    "\n",
    "samples, kernel_results= tfp.mcmc.sample_chain(\n",
    "    num_results=num_results,\n",
    "    num_burnin_steps=burnin,\n",
    "    current_state=initial_chain_state,\n",
    "    kernel=tfp.mcmc.RandomWalkMetropolis(\n",
    "        target_log_prob_fn=unnormalized_posterior_log_prob,\n",
    "        new_state_fn=gauss_new_state_fn(scale=0.1, dtype=dtype),\n",
    "        seed=42))  # For determinism.\n",
    "\n",
    "\n",
    "samples = tf.stack(samples, axis=-1)\n",
    "accepted = kernel_results.is_accepted\n",
    "\n",
    "samples = samples.numpy()\n",
    "accepted = accepted.numpy()\n",
    "\n",
    "x1 = samples[:,0]\n",
    "y1 = samples[:,1]\n",
    "\n",
    "x_accepted = []\n",
    "y_accepted =[]"
   ]
  },
  {
   "cell_type": "code",
   "execution_count": 25,
   "metadata": {
    "ExecuteTime": {
     "end_time": "2019-11-27T14:18:16.545512Z",
     "start_time": "2019-11-27T14:18:16.383376Z"
    }
   },
   "outputs": [
    {
     "name": "stdout",
     "output_type": "stream",
     "text": [
      "Acceptance rate: 25.7%\n"
     ]
    },
    {
     "data": {
      "image/png": "[encoded data removed]",
      "text/plain": [
       "<Figure size 432x288 with 1 Axes>"
      ]
     },
     "metadata": {
      "needs_background": "light"
     },
     "output_type": "display_data"
    }
   ],
   "source": [
    "for i in range(accepted.shape[0]):\n",
    "    if accepted[i-1]==True:\n",
    "        x_accepted = np.append(x_accepted,samples[i-1,0])\n",
    "        y_accepted = np.append(y_accepted,samples[i-1,1])\n",
    "# f,(ax1,ax2) = plt.subplots(2,1,sharex =True, sharey = True)\n",
    "\n",
    "# sns.kdeplot(x_accepted,y_accepted,ax=ax1)\n",
    "plt.plot(x_accepted,y_accepted,'.')\n",
    "# plot_true()\n",
    "\n",
    "print('Acceptance rate: %0.1f%%' % (100*(x_accepted.shape[0]/num_results)))\n"
   ]
  },
  {
   "cell_type": "markdown",
   "metadata": {},
   "source": [
    "<b> HMC"
   ]
  },
  {
   "cell_type": "code",
   "execution_count": 6,
   "metadata": {
    "ExecuteTime": {
     "end_time": "2019-11-27T13:58:05.727155Z",
     "start_time": "2019-11-27T13:54:58.219163Z"
    }
   },
   "outputs": [
    {
     "name": "stderr",
     "output_type": "stream",
     "text": [
      "/Users/zhouji/.local/lib/python3.7/site-packages/tensorflow_probability/python/mcmc/sample.py:335: UserWarning: Tracing all kernel results by default is deprecated. Set the `trace_fn` argument to None (the future default value) or an explicit callback that traces the values you are interested in.\n",
      "  warnings.warn(\"Tracing all kernel results by default is deprecated. Set \"\n"
     ]
    }
   ],
   "source": [
    "num_results = 1000\n",
    "burnin = 500\n",
    "\n",
    "initial_chain_state = [\n",
    "    -1.5 * tf.ones([], dtype=tf.float32, name=\"init_t1\"),\n",
    "    -1.5 * tf.ones([], dtype=tf.float32, name=\"init_t2\")\n",
    "]\n",
    "\n",
    "unnormalized_posterior_log_prob = lambda *args: joint_log_prob(y_, *args)\n",
    "\n",
    "samples, kernel_results = tfp.mcmc.sample_chain(\n",
    "    num_results=num_results,\n",
    "    current_state=initial_chain_state,\n",
    "    kernel=tfp.mcmc.HamiltonianMonteCarlo(\n",
    "        target_log_prob_fn=unnormalized_posterior_log_prob,\n",
    "        step_size = 0.01,\n",
    "        num_leapfrog_steps = 5),\n",
    "    num_burnin_steps=burnin,\n",
    "    num_steps_between_results=1,  # Thinning.\n",
    "    parallel_iterations=1)\n",
    "\n",
    "samples = tf.stack(samples, axis=-1)\n",
    "accepted = kernel_results.is_accepted\n",
    "\n",
    "samples = samples.numpy()\n",
    "accepted = accepted.numpy()\n",
    "\n",
    "x1 = samples[:,0]\n",
    "y1 = samples[:,1]\n",
    "\n",
    "x_accepted = []\n",
    "y_accepted =[]"
   ]
  },
  {
   "cell_type": "code",
   "execution_count": 7,
   "metadata": {
    "ExecuteTime": {
     "end_time": "2019-11-27T13:59:21.713143Z",
     "start_time": "2019-11-27T13:59:21.533121Z"
    }
   },
   "outputs": [
    {
     "name": "stdout",
     "output_type": "stream",
     "text": [
      "Acceptance rate: 99.3%\n"
     ]
    },
    {
     "data": {
      "image/png": "[encoded data removed]",
      "text/plain": [
       "<Figure size 432x288 with 1 Axes>"
      ]
     },
     "metadata": {
      "needs_background": "light"
     },
     "output_type": "display_data"
    }
   ],
   "source": [
    "for i in range(accepted.shape[0]):\n",
    "    if accepted[i-1]==True:\n",
    "        x_accepted = np.append(x_accepted,samples[i-1,0])\n",
    "        y_accepted = np.append(y_accepted,samples[i-1,1])\n",
    "# f,(ax1,ax2) = plt.subplots(2,1,sharex =True, sharey = True)\n",
    "\n",
    "# sns.kdeplot(x_accepted,y_accepted,ax=ax1)\n",
    "plt.plot(x_accepted,y_accepted,'.')\n",
    "# plot_true()\n",
    "\n",
    "print('Acceptance rate: %0.1f%%' % (100*(x_accepted.shape[0]/num_results)))\n"
   ]
  },
  {
   "cell_type": "markdown",
   "metadata": {},
   "source": [
    "<b> Hessian MCMC - banana v1.0"
   ]
  },
  {
   "cell_type": "markdown",
   "metadata": {},
   "source": [
    "Set up the target probability density"
   ]
  },
  {
   "cell_type": "code",
   "execution_count": 26,
   "metadata": {
    "ExecuteTime": {
     "end_time": "2019-11-27T14:37:33.880871Z",
     "start_time": "2019-11-27T14:37:33.874894Z"
    }
   },
   "outputs": [],
   "source": [
    "c = 0 # mean of observations\n",
    "N = 100 # number of observation data\n",
    "sigma2y = 1 # standard deviation of observation data\n",
    "## generate the observation data\n",
    "np.random.seed(0)\n",
    "y_ = np.random.normal(loc =c, scale = sigma2y, size = N)\n",
    "D = tf.convert_to_tensor(y_,dtype = tf.float32)\n",
    "\n",
    "mean = [0.,0.]\n",
    "\n",
    "@tf.function\n",
    "def joint_log_prob(D,theta1,theta2):\n",
    "    # define random variables prior\n",
    "    mvn = tfd.MultivariateNormalFullCovariance(\n",
    "            loc = mean,\n",
    "            covariance_matrix= cov)\n",
    "    z = tf.stack([theta1, theta2], axis=-1)\n",
    "    # define likelihood\n",
    "    y = tfd.Normal(loc = tf.add(theta2,tf.pow(theta1,2.)), scale = sigma2y)\n",
    "    # return the posterior probability\n",
    "    return(mvn.log_prob(tf.squeeze(z))\n",
    "          +tf.reduce_sum(y.log_prob(D)))\n"
   ]
  },
  {
   "cell_type": "markdown",
   "metadata": {},
   "source": []
  },
  {
   "cell_type": "code",
   "execution_count": 27,
   "metadata": {
    "ExecuteTime": {
     "end_time": "2019-11-27T14:37:37.638832Z",
     "start_time": "2019-11-27T14:37:37.472514Z"
    }
   },
   "outputs": [
    {
     "data": {
      "text/plain": [
       "<tf.Tensor: id=7347878, shape=(), dtype=float32, numpy=-144.7019>"
      ]
     },
     "execution_count": 27,
     "metadata": {},
     "output_type": "execute_result"
    }
   ],
   "source": [
    "joint_log_prob(D,0.,0.)"
   ]
  },
  {
   "cell_type": "markdown",
   "metadata": {},
   "source": [
    "<b> Gradient Descent"
   ]
  },
  {
   "cell_type": "code",
   "execution_count": null,
   "metadata": {
    "ExecuteTime": {
     "end_time": "2019-11-27T10:14:56.141982Z",
     "start_time": "2019-11-27T09:46:26.720704Z"
    }
   },
   "outputs": [],
   "source": [
    "### Block out in case run by accident, takes too long to run 28 min\n",
    "# mu = tf.constant([-1., -1.])\n",
    "# for i in range(1000000):\n",
    "#     with tf.GradientTape() as t:  \n",
    "#         t.watch(mu)\n",
    "#         theta1 = mu[0]\n",
    "#         theta2 = mu[1]\n",
    "#         loss = tf.negative(joint_log_prob(D,theta1,theta2))\n",
    "#         dlossdmu = t.gradient(loss,mu)\n",
    "#         print(mu.numpy(),dlossdmu.numpy())\n",
    "#         mu = mu - 0.00001*dlossdmu"
   ]
  },
  {
   "cell_type": "markdown",
   "metadata": {},
   "source": [
    "Let's take (0,0) as MAP for now"
   ]
  },
  {
   "cell_type": "code",
   "execution_count": 28,
   "metadata": {
    "ExecuteTime": {
     "end_time": "2019-11-27T14:37:58.966918Z",
     "start_time": "2019-11-27T14:37:58.963815Z"
    }
   },
   "outputs": [],
   "source": [
    "MAP = [-0.00024201,  0.05921397]\n",
    "MAP = tf.convert_to_tensor(MAP, dtype = tf.float32)"
   ]
  },
  {
   "cell_type": "markdown",
   "metadata": {},
   "source": [
    "A new hessian function 2019-11-27"
   ]
  },
  {
   "cell_type": "code",
   "execution_count": 29,
   "metadata": {
    "ExecuteTime": {
     "end_time": "2019-11-27T14:38:20.437968Z",
     "start_time": "2019-11-27T14:38:20.434381Z"
    }
   },
   "outputs": [],
   "source": [
    "# Create an empty matrix to store hessian matrix\n",
    "hess = np.empty([MAP.shape[0],MAP.shape[0]])"
   ]
  },
  {
   "cell_type": "code",
   "execution_count": 30,
   "metadata": {
    "ExecuteTime": {
     "end_time": "2019-11-27T14:38:24.959636Z",
     "start_time": "2019-11-27T14:38:23.216519Z"
    }
   },
   "outputs": [
    {
     "name": "stdout",
     "output_type": "stream",
     "text": [
      "WARNING:tensorflow:Calling GradientTape.gradient on a persistent tape inside its context is significantly less efficient than calling it outside the context (it causes the gradient ops to be recorded on the tape, leading to increased CPU and memory usage). Only call GradientTape.gradient inside the context if you actually want to trace the gradient in order to compute higher order derivatives.\n",
      "gradient: [-0.00021326 -0.00018563]\n",
      "WARNING:tensorflow:Calling GradientTape.gradient on a persistent tape inside its context is significantly less efficient than calling it outside the context (it causes the gradient ops to be recorded on the tape, leading to increased CPU and memory usage). Only call GradientTape.gradient inside the context if you actually want to trace the gradient in order to compute higher order derivatives.\n",
      "[[ 8.81224275e-01 -4.84020039e-02]\n",
      " [-4.84020002e-02  1.01000000e+02]]\n"
     ]
    }
   ],
   "source": [
    "## new hessian function\n",
    "with tf.GradientTape(persistent=True) as t:  \n",
    "    t.watch(MAP)\n",
    "    theta1 = MAP[0]\n",
    "    theta2 = MAP[1]\n",
    "    loss = tf.negative(joint_log_prob(D,theta1,theta2))\n",
    "    jacobian = t.gradient(loss,MAP)\n",
    "    print('gradient:',jacobian.numpy())\n",
    "    for i in range(MAP.shape[0]):\n",
    "        hess[i] = t.gradient(jacobian[i],MAP)\n",
    "    print(hess)"
   ]
  },
  {
   "cell_type": "markdown",
   "metadata": {
    "ExecuteTime": {
     "end_time": "2019-11-27T10:41:00.603834Z",
     "start_time": "2019-11-27T10:41:00.599215Z"
    }
   },
   "source": [
    "let's test the hessian calculation in a simple algebra case"
   ]
  },
  {
   "cell_type": "code",
   "execution_count": 56,
   "metadata": {
    "ExecuteTime": {
     "end_time": "2019-11-27T11:45:24.693622Z",
     "start_time": "2019-11-27T11:45:24.677896Z"
    }
   },
   "outputs": [
    {
     "name": "stdout",
     "output_type": "stream",
     "text": [
      "WARNING:tensorflow:Calling GradientTape.gradient on a persistent tape inside its context is significantly less efficient than calling it outside the context (it causes the gradient ops to be recorded on the tape, leading to increased CPU and memory usage). Only call GradientTape.gradient inside the context if you actually want to trace the gradient in order to compute higher order derivatives.\n",
      "gradient: [6. 7.]\n",
      "WARNING:tensorflow:Calling GradientTape.gradient on a persistent tape inside its context is significantly less efficient than calling it outside the context (it causes the gradient ops to be recorded on the tape, leading to increased CPU and memory usage). Only call GradientTape.gradient inside the context if you actually want to trace the gradient in order to compute higher order derivatives.\n",
      "[[12.  9.]\n",
      " [ 9. 10.]]\n"
     ]
    }
   ],
   "source": [
    "# define a simple function : x^3 + 2* y^2 +x^3*y^3\n",
    "def f(vars):\n",
    "    return(vars[0]**3+2*vars[1]**2+vars[0]**3*vars[1]**3)\n",
    "\n",
    "MAP = [1., 1.]\n",
    "MAP = tf.convert_to_tensor(MAP, dtype = tf.float32)\n",
    "\n",
    "with tf.GradientTape(persistent=True) as t:  \n",
    "    hess = np.empty([MAP.shape[0],MAP.shape[0]])\n",
    "    t.watch(MAP)\n",
    "    loss = f(MAP)\n",
    "    jacobian = t.gradient(loss,MAP)\n",
    "    print('gradient:',jacobian.numpy())\n",
    "    for i in range(MAP.shape[0]):\n",
    "        hess[i] = t.gradient(jacobian[i],MAP)\n",
    "    print(hess)"
   ]
  },
  {
   "cell_type": "markdown",
   "metadata": {},
   "source": [
    "So the hessian function is correct  \n",
    "let's make it in to a function"
   ]
  },
  {
   "cell_type": "code",
   "execution_count": 31,
   "metadata": {
    "ExecuteTime": {
     "end_time": "2019-11-27T14:38:34.088436Z",
     "start_time": "2019-11-27T14:38:34.082929Z"
    }
   },
   "outputs": [],
   "source": [
    "# define a function to compute full hessian\n",
    "def hessian_compute_new(fn,loc):\n",
    "    f_ = fn\n",
    "    loc_ = loc\n",
    "    hess = np.empty([loc.shape[0],loc.shape[0]])\n",
    "    with tf.GradientTape(persistent=True) as t:  \n",
    "        t.watch(loc_)\n",
    "        loss = f_(loc_)\n",
    "        jacobian = t.gradient(loss,loc_)\n",
    "        for i in range(loc_.shape[0]):\n",
    "            hess[i] = t.gradient(jacobian[i],loc_)\n",
    "    return hess"
   ]
  },
  {
   "cell_type": "code",
   "execution_count": 32,
   "metadata": {
    "ExecuteTime": {
     "end_time": "2019-11-27T14:38:34.346923Z",
     "start_time": "2019-11-27T14:38:34.331769Z"
    }
   },
   "outputs": [
    {
     "name": "stdout",
     "output_type": "stream",
     "text": [
      "WARNING:tensorflow:Calling GradientTape.gradient on a persistent tape inside its context is significantly less efficient than calling it outside the context (it causes the gradient ops to be recorded on the tape, leading to increased CPU and memory usage). Only call GradientTape.gradient inside the context if you actually want to trace the gradient in order to compute higher order derivatives.\n",
      "WARNING:tensorflow:Calling GradientTape.gradient on a persistent tape inside its context is significantly less efficient than calling it outside the context (it causes the gradient ops to be recorded on the tape, leading to increased CPU and memory usage). Only call GradientTape.gradient inside the context if you actually want to trace the gradient in order to compute higher order derivatives.\n",
      "[[ 8.81224275e-01 -4.84020039e-02]\n",
      " [-4.84020002e-02  1.01000000e+02]]\n"
     ]
    }
   ],
   "source": [
    "MAP = [-0.00024201,  0.05921397]\n",
    "MAP = tf.convert_to_tensor(MAP, dtype = tf.float32)\n",
    "# define a loss function which is the negative log posterior\n",
    "def lossfunction(vars):\n",
    "    return(tf.negative(joint_log_prob(D,vars[0],vars[1])))\n",
    "hess = hessian_compute_new(lossfunction,MAP)\n",
    "print(hess)"
   ]
  },
  {
   "cell_type": "markdown",
   "metadata": {},
   "source": [
    "The Hessian of the log posterior shows the second derivative of $\\theta_1$ is much smaller than $\\theta_2$ , which makes sense, because the banana on $\\theta_2$  direction have a much greater curvature"
   ]
  },
  {
   "cell_type": "markdown",
   "metadata": {},
   "source": [
    "#### Compute the Hessian and Covariance of the Posterior at MAP\n",
    "\\begin{equation}\n",
    "\\mathcal{C}_{\\mathrm{post}}=\\left(\\mathcal{H}_{\\mathrm{misfit}}\\left(m_{\\nu}\\right)+\\mathcal{C}_{\\mathrm{prior}}^{-1}\\right)^{-1}\n",
    "\\end{equation}"
   ]
  },
  {
   "cell_type": "code",
   "execution_count": 36,
   "metadata": {
    "ExecuteTime": {
     "end_time": "2019-11-27T14:40:46.510913Z",
     "start_time": "2019-11-27T14:40:46.504016Z"
    }
   },
   "outputs": [
    {
     "data": {
      "text/plain": [
       "<tf.Tensor: id=7351984, shape=(2, 2), dtype=float32, numpy=\n",
       "array([[1., 0.],\n",
       "       [0., 1.]], dtype=float32)>"
      ]
     },
     "execution_count": 36,
     "metadata": {},
     "output_type": "execute_result"
    }
   ],
   "source": [
    "cov = tf.convert_to_tensor(cov,dtype = tf.float32)\n",
    "tf.linalg.inv(cov)"
   ]
  },
  {
   "cell_type": "code",
   "execution_count": 39,
   "metadata": {
    "ExecuteTime": {
     "end_time": "2019-11-27T14:41:02.618380Z",
     "start_time": "2019-11-27T14:41:02.612870Z"
    }
   },
   "outputs": [
    {
     "data": {
      "text/plain": [
       "<tf.Tensor: id=7351995, shape=(2, 2), dtype=float32, numpy=\n",
       "array([[5.3157514e-01, 2.5224808e-04],\n",
       "       [2.5224808e-04, 9.8040411e-03]], dtype=float32)>"
      ]
     },
     "execution_count": 39,
     "metadata": {},
     "output_type": "execute_result"
    }
   ],
   "source": [
    "Sum = tf.add(hess,tf.linalg.inv(cov))\n",
    "C_post = tf.linalg.inv(Sum)\n",
    "C_post"
   ]
  },
  {
   "cell_type": "code",
   "execution_count": 57,
   "metadata": {
    "ExecuteTime": {
     "end_time": "2019-11-27T14:50:01.035281Z",
     "start_time": "2019-11-27T14:50:00.784673Z"
    }
   },
   "outputs": [
    {
     "data": {
      "image/png": "[encoded data removed]",
      "text/plain": [
       "<Figure size 432x288 with 1 Axes>"
      ]
     },
     "metadata": {
      "needs_background": "light"
     },
     "output_type": "display_data"
    }
   ],
   "source": [
    "from scipy.stats import multivariate_normal\n",
    "def plot_dist(loc,cov):\n",
    "    x, y = np.mgrid[-4:4:.01, -4:4:.01]\n",
    "    pos = np.empty(x.shape + (2,)) \n",
    "    pos[:, :, 0] = x; pos[:, :, 1] = y\n",
    "    rv = multivariate_normal(loc, cov)\n",
    "    plt.contour(x, y, rv.pdf(pos),np.arange(0.001,0.1,0.075))\n",
    "    plt.xlabel(\"x1\")\n",
    "    plt.ylabel(\"x2\")\n",
    "plot_dist(MAP,C_post)"
   ]
  },
  {
   "cell_type": "markdown",
   "metadata": {},
   "source": [
    "#### Define whether to accept or reject the new sample\n",
    "\\begin{equation}\n",
    "\\Phi\\left(m, \\mathbf{d}_{\\mathrm{obs}}\\right)=\\frac{1}{2}\\left\\|\\mathbf{f}(\\mathrm{m})-\\mathbf{d}_{\\mathrm{obs}}\\right\\|_{\\Gamma_{\\mathrm{noise}}^{-1}}\n",
    "\\end{equation}\n",
    "\n",
    "\n",
    "gpCN is a generalized version of the pCN sampler. While the proposals of pCN are drown from the prior Gaussian distribution $\\mu_{prior}$,proposals in the generalized pCN are drown from a Gaussian approximation $v$ of the posterior distribution.\n",
    "\n",
    "\\begin{equation}\n",
    "a_{\\nu}\\left(m_{\\mathrm{current}}, m_{\\mathrm{proposed}}\\right) :=\\min \\left\\{1, \\exp \\left(\\Delta\\left(m_{\\mathrm{current}}\\right)-\\Delta\\left(m_{\\mathrm{proposed}}\\right)\\right)\\right\\}\n",
    "\\end{equation}\n",
    "\n",
    "where   \n",
    "\n",
    "\\begin{equation}\n",
    "\\Delta(m)=\\Phi\\left(m, \\mathbf{d}_{\\mathrm{obs}}\\right)+\\frac{1}{2}\\left\\|\\mathrm{m}-\\mathrm{m}_{\\mathrm{prior}}\\right\\|_{C_{\\mathrm{prior}}^{-1}}^{2}-\\frac{1}{2}\\left\\|\\mathrm{m}-\\mathrm{m}_{\\nu}\\right\\|_{\\mathrm{C}_{\\nu}^{-1}}^{2}\n",
    "\\end{equation}\n",
    "\n",
    "$\\Phi\\left(m, \\mathbf{d}_{\\mathrm{obs}}\\right)+\\frac{1}{2}\\left\\|\\mathrm{m}-\\mathrm{m}_{\\mathrm{prior}}\\right\\|_{C_{\\mathrm{prior}}^{-1}}^{2}$  is the negative log posterior"
   ]
  },
  {
   "cell_type": "code",
   "execution_count": 68,
   "metadata": {
    "ExecuteTime": {
     "end_time": "2019-11-27T15:20:43.609660Z",
     "start_time": "2019-11-27T15:20:43.603991Z"
    }
   },
   "outputs": [],
   "source": [
    "@tf.function\n",
    "def matrixcompute(matrix1,matrix2,Cov):\n",
    "    matrix1 = tf.cast(matrix1,tf.float32)\n",
    "    matrix2 = tf.cast(matrix2,tf.float32)\n",
    "    matrix = tf.subtract(matrix1, matrix2)\n",
    "    matrix = tf.reshape(matrix,[matrix.shape[0],1])\n",
    "    matrix_T = tf.transpose(matrix)\n",
    "    Cov_inv = tf.linalg.inv(Cov)\n",
    "    result = tf.multiply(tf.constant(1/2),tf.matmul(tf.matmul(matrix_T,Cov_inv),matrix))\n",
    "    return result"
   ]
  },
  {
   "cell_type": "code",
   "execution_count": 98,
   "metadata": {
    "ExecuteTime": {
     "end_time": "2019-11-27T15:37:04.039049Z",
     "start_time": "2019-11-27T15:37:04.033220Z"
    }
   },
   "outputs": [],
   "source": [
    "def negitive_log_prob(vars):\n",
    "    return(tf.negative(joint_log_prob(D,vars[0],vars[1])))\n",
    "\n",
    "def acceptance_gpCN(m_current , m_proposed):\n",
    "    delta_current = tf.subtract(negative_log_prob(m_current),matrixcompute(m_current,MAP,C_post))\n",
    "    delta_proposed = tf.subtract(negative_log_prob(m_proposed),matrixcompute(m_proposed,MAP,C_post))\n",
    "\n",
    "    ## calculate accept ratio if exp()<1\n",
    "    accept_ratio = tf.exp(tf.subtract(delta_current,delta_proposed))\n",
    "    acceptsample = tfd.Sample(\n",
    "    tfd.Uniform(0., 1.),\n",
    "    sample_shape=[1,1])\n",
    "    sample = acceptsample.sample()\n",
    "    \n",
    "    if(accept_ratio > sample):\n",
    "        return True\n",
    "    else:\n",
    "        return False\n",
    "        "
   ]
  },
  {
   "cell_type": "code",
   "execution_count": 99,
   "metadata": {
    "ExecuteTime": {
     "end_time": "2019-11-27T15:37:05.651987Z",
     "start_time": "2019-11-27T15:37:05.643089Z"
    }
   },
   "outputs": [
    {
     "data": {
      "text/plain": [
       "False"
      ]
     },
     "execution_count": 99,
     "metadata": {},
     "output_type": "execute_result"
    }
   ],
   "source": [
    "acceptance_gpCN(m_current , m_proposed)"
   ]
  },
  {
   "cell_type": "code",
   "execution_count": 144,
   "metadata": {
    "ExecuteTime": {
     "end_time": "2019-11-27T15:53:15.093067Z",
     "start_time": "2019-11-27T15:53:15.083304Z"
    }
   },
   "outputs": [],
   "source": [
    "from IPython.display import clear_output\n",
    "# define leaning rate\n",
    "beta = 0.1\n",
    "\n",
    "@tf.function\n",
    "def draw_proposal(m_current):\n",
    "    \n",
    "    _term1 = MAP\n",
    "    \n",
    "    ## sqrt term\n",
    "    tem_1 = tf.convert_to_tensor(np.sqrt(1-beta**2),dtype = tf.float32)\n",
    "    ## sqrt(1-beta^2)()\n",
    "    _term2 = tf.multiply(tem_1,(tf.subtract(m_current,MAP)))\n",
    "    \n",
    "    Xi = tfd.MultivariateNormalFullCovariance(\n",
    "            loc = 0,\n",
    "            covariance_matrix= C_post)\n",
    "\n",
    "    Xi_s = tfd.Sample(Xi)\n",
    "    _term3 = tf.multiply(beta,Xi_s.sample())\n",
    "    \n",
    "    m_proposed = tf.add(MAP,tf.add(_term2,_term3))\n",
    "    \n",
    "    return m_proposed\n",
    "    \n",
    "\n",
    "    "
   ]
  },
  {
   "cell_type": "code",
   "execution_count": 145,
   "metadata": {
    "ExecuteTime": {
     "end_time": "2019-11-27T15:53:15.438410Z",
     "start_time": "2019-11-27T15:53:15.435776Z"
    }
   },
   "outputs": [],
   "source": [
    "mu_init = [1.,1.]"
   ]
  },
  {
   "cell_type": "code",
   "execution_count": 149,
   "metadata": {
    "ExecuteTime": {
     "end_time": "2019-11-27T15:54:43.121720Z",
     "start_time": "2019-11-27T15:54:06.849541Z"
    }
   },
   "outputs": [],
   "source": [
    "number_of_steps = 10000\n",
    "def run_chain():\n",
    "    burn_in = 500\n",
    "    steps = number_of_steps\n",
    "    k = 0\n",
    "    accepted = []\n",
    "    rejected = []\n",
    "\n",
    "    m_current = mu_init  # init m\n",
    "    \n",
    "    \n",
    "    for k in range(steps+burn_in):\n",
    "\n",
    "        m_proposed = draw_proposal(m_current)\n",
    "        \n",
    "#         if k%20 == 0: \n",
    "#             clear_output();\n",
    "#             print(k, \"finised\")\n",
    "        \n",
    "        if acceptance_gpCN(m_current,m_proposed):\n",
    "            m_current = m_proposed\n",
    "            if k > burn_in:\n",
    "                accepted.append(m_proposed.numpy())\n",
    "        else:\n",
    "            m_current = m_current\n",
    "            rejected.append(m_proposed.numpy())\n",
    "    \n",
    "    return accepted,rejected\n",
    "#     print(\"acceptance rate = %0.1f%%\", 100*np.shape(accepted)[0]/steps)\n",
    "    \n",
    "accepted,rejected = run_chain()"
   ]
  },
  {
   "cell_type": "code",
   "execution_count": 150,
   "metadata": {
    "ExecuteTime": {
     "end_time": "2019-11-27T15:54:45.076132Z",
     "start_time": "2019-11-27T15:54:45.065426Z"
    }
   },
   "outputs": [
    {
     "name": "stdout",
     "output_type": "stream",
     "text": [
      "acceptance rate = 89.2%\n"
     ]
    }
   ],
   "source": [
    "np.shape(accepted)[0]\n",
    "print('acceptance rate = %0.1f%%' % (100*np.shape(accepted)[0]/number_of_steps))"
   ]
  },
  {
   "cell_type": "code",
   "execution_count": 151,
   "metadata": {
    "ExecuteTime": {
     "end_time": "2019-11-27T15:54:47.187250Z",
     "start_time": "2019-11-27T15:54:47.031788Z"
    }
   },
   "outputs": [
    {
     "data": {
      "text/plain": [
       "[<matplotlib.lines.Line2D at 0x1a3706d630>]"
      ]
     },
     "execution_count": 151,
     "metadata": {},
     "output_type": "execute_result"
    },
    {
     "data": {
      "image/png": "[encoded data removed]",
      "text/plain": [
       "<Figure size 432x288 with 1 Axes>"
      ]
     },
     "metadata": {
      "needs_background": "light"
     },
     "output_type": "display_data"
    }
   ],
   "source": [
    "accepted = np.array(accepted)\n",
    "\n",
    "# sns.kdeplot(x_accepted,y_accepted,ax=ax1)\n",
    "plt.plot(accepted[:,0],accepted[:,1],'.')\n"
   ]
  },
  {
   "cell_type": "code",
   "execution_count": null,
   "metadata": {},
   "outputs": [],
   "source": []
  },
  {
   "cell_type": "code",
   "execution_count": null,
   "metadata": {},
   "outputs": [],
   "source": []
  },
  {
   "cell_type": "code",
   "execution_count": null,
   "metadata": {},
   "outputs": [],
   "source": []
  },
  {
   "cell_type": "markdown",
   "metadata": {},
   "source": [
    "### Done: check this hessian function    \n",
    "so the jacbian is the same, why?   \n",
    "seems something wrong with this hessian function"
   ]
  },
  {
   "cell_type": "code",
   "execution_count": 44,
   "metadata": {
    "ExecuteTime": {
     "end_time": "2019-11-27T09:39:01.873294Z",
     "start_time": "2019-11-27T09:39:01.865652Z"
    }
   },
   "outputs": [],
   "source": [
    "@tf.function\n",
    "def compute_hessian(fn, vars):\n",
    "    mat = []\n",
    "    for v2 in vars:\n",
    "        for i in range(np.shape(vars)[0]):\n",
    "            jac =[]\n",
    "            with tf.GradientTape() as t2:\n",
    "                for v1 in vars:\n",
    "                    with tf.GradientTape() as t:\n",
    "                        f = fn(vars)\n",
    "                        jac.append(t.gradient(f,v1))\n",
    "                hess = t2.gradient(jac[i],v2)\n",
    "                if type(hess) == type(None):\n",
    "                    mat.append(0)\n",
    "                else:mat.append(hess.numpy())\n",
    "    return np.reshape(mat,[np.shape(vars)[0],np.shape(vars)[0]])"
   ]
  },
  {
   "cell_type": "code",
   "execution_count": 52,
   "metadata": {
    "ExecuteTime": {
     "end_time": "2019-11-27T09:42:44.271827Z",
     "start_time": "2019-11-27T09:42:44.229101Z"
    }
   },
   "outputs": [
    {
     "ename": "AttributeError",
     "evalue": "in converted code:\n\n    <ipython-input-51-908134ebf433>:3 f  *\n        return (-joint_log_prob(D,vars[0],vars[1]))\n    /Users/zhouji/anaconda3/envs/Bayes/lib/python3.7/site-packages/tensorflow_core/python/eager/def_function.py:457 __call__\n        result = self._call(*args, **kwds)\n    /Users/zhouji/anaconda3/envs/Bayes/lib/python3.7/site-packages/tensorflow_core/python/eager/def_function.py:494 _call\n        results = self._stateful_fn(*args, **kwds)\n    /Users/zhouji/anaconda3/envs/Bayes/lib/python3.7/site-packages/tensorflow_core/python/eager/function.py:1822 __call__\n        graph_function, args, kwargs = self._maybe_define_function(args, kwargs)\n    /Users/zhouji/anaconda3/envs/Bayes/lib/python3.7/site-packages/tensorflow_core/python/eager/function.py:2119 _maybe_define_function\n        graph_function = self._function_cache.primary.get(cache_key, None)\n    /Users/zhouji/anaconda3/envs/Bayes/lib/python3.7/site-packages/tensorflow_core/python/eager/function.py:117 __eq__\n        return self._fields_safe == other._fields_safe  # pylint: disable=protected-access\n    /Users/zhouji/anaconda3/envs/Bayes/lib/python3.7/site-packages/tensorflow_core/python/eager/function.py:93 _fields_safe\n        return (self._hash_fix(self.input_signature), self.parent_graph,\n    /Users/zhouji/anaconda3/envs/Bayes/lib/python3.7/site-packages/tensorflow_core/python/eager/function.py:101 _hash_fix\n        return tuple(self._hash_fix(i) for i in elem)\n    /Users/zhouji/anaconda3/envs/Bayes/lib/python3.7/site-packages/tensorflow_core/python/eager/function.py:101 <genexpr>\n        return tuple(self._hash_fix(i) for i in elem)\n    /Users/zhouji/anaconda3/envs/Bayes/lib/python3.7/site-packages/tensorflow_core/python/eager/function.py:101 _hash_fix\n        return tuple(self._hash_fix(i) for i in elem)\n    /Users/zhouji/anaconda3/envs/Bayes/lib/python3.7/site-packages/tensorflow_core/python/eager/function.py:101 <genexpr>\n        return tuple(self._hash_fix(i) for i in elem)\n    /Users/zhouji/anaconda3/envs/Bayes/lib/python3.7/site-packages/tensorflow_core/python/eager/function.py:112 _hash_fix\n        return (v.__class__, tensor_spec.TensorSpec(v.shape, v.dtype))\n\n    AttributeError: 'NoneType' object has no attribute 'shape'\n",
     "output_type": "error",
     "traceback": [
      "\u001b[0;31m---------------------------------------------------------------------------\u001b[0m",
      "\u001b[0;31mAttributeError\u001b[0m                            Traceback (most recent call last)",
      "\u001b[0;32m<ipython-input-52-36e96ebde59c>\u001b[0m in \u001b[0;36m<module>\u001b[0;34m\u001b[0m\n\u001b[1;32m     12\u001b[0m             \u001b[0;32mfor\u001b[0m \u001b[0mv1\u001b[0m \u001b[0;32min\u001b[0m \u001b[0mvars\u001b[0m\u001b[0;34m:\u001b[0m\u001b[0;34m\u001b[0m\u001b[0;34m\u001b[0m\u001b[0m\n\u001b[1;32m     13\u001b[0m                 \u001b[0;32mwith\u001b[0m \u001b[0mtf\u001b[0m\u001b[0;34m.\u001b[0m\u001b[0mGradientTape\u001b[0m\u001b[0;34m(\u001b[0m\u001b[0;34m)\u001b[0m \u001b[0;32mas\u001b[0m \u001b[0mt\u001b[0m\u001b[0;34m:\u001b[0m\u001b[0;34m\u001b[0m\u001b[0;34m\u001b[0m\u001b[0m\n\u001b[0;32m---> 14\u001b[0;31m                     \u001b[0mf\u001b[0m \u001b[0;34m=\u001b[0m \u001b[0mfn\u001b[0m\u001b[0;34m(\u001b[0m\u001b[0mvars\u001b[0m\u001b[0;34m)\u001b[0m\u001b[0;34m\u001b[0m\u001b[0;34m\u001b[0m\u001b[0m\n\u001b[0m\u001b[1;32m     15\u001b[0m                     \u001b[0mjac\u001b[0m\u001b[0;34m.\u001b[0m\u001b[0mappend\u001b[0m\u001b[0;34m(\u001b[0m\u001b[0mt\u001b[0m\u001b[0;34m.\u001b[0m\u001b[0mgradient\u001b[0m\u001b[0;34m(\u001b[0m\u001b[0mf\u001b[0m\u001b[0;34m,\u001b[0m\u001b[0mv1\u001b[0m\u001b[0;34m)\u001b[0m\u001b[0;34m)\u001b[0m\u001b[0;34m\u001b[0m\u001b[0;34m\u001b[0m\u001b[0m\n\u001b[1;32m     16\u001b[0m             \u001b[0mhess\u001b[0m \u001b[0;34m=\u001b[0m \u001b[0mt2\u001b[0m\u001b[0;34m.\u001b[0m\u001b[0mgradient\u001b[0m\u001b[0;34m(\u001b[0m\u001b[0mjac\u001b[0m\u001b[0;34m[\u001b[0m\u001b[0mi\u001b[0m\u001b[0;34m]\u001b[0m\u001b[0;34m,\u001b[0m\u001b[0mv2\u001b[0m\u001b[0;34m)\u001b[0m\u001b[0;34m\u001b[0m\u001b[0;34m\u001b[0m\u001b[0m\n",
      "\u001b[0;32m~/anaconda3/envs/Bayes/lib/python3.7/site-packages/tensorflow_core/python/eager/def_function.py\u001b[0m in \u001b[0;36m__call__\u001b[0;34m(self, *args, **kwds)\u001b[0m\n\u001b[1;32m    455\u001b[0m \u001b[0;34m\u001b[0m\u001b[0m\n\u001b[1;32m    456\u001b[0m     \u001b[0mtracing_count\u001b[0m \u001b[0;34m=\u001b[0m \u001b[0mself\u001b[0m\u001b[0;34m.\u001b[0m\u001b[0m_get_tracing_count\u001b[0m\u001b[0;34m(\u001b[0m\u001b[0;34m)\u001b[0m\u001b[0;34m\u001b[0m\u001b[0;34m\u001b[0m\u001b[0m\n\u001b[0;32m--> 457\u001b[0;31m     \u001b[0mresult\u001b[0m \u001b[0;34m=\u001b[0m \u001b[0mself\u001b[0m\u001b[0;34m.\u001b[0m\u001b[0m_call\u001b[0m\u001b[0;34m(\u001b[0m\u001b[0;34m*\u001b[0m\u001b[0margs\u001b[0m\u001b[0;34m,\u001b[0m \u001b[0;34m**\u001b[0m\u001b[0mkwds\u001b[0m\u001b[0;34m)\u001b[0m\u001b[0;34m\u001b[0m\u001b[0;34m\u001b[0m\u001b[0m\n\u001b[0m\u001b[1;32m    458\u001b[0m     \u001b[0;32mif\u001b[0m \u001b[0mtracing_count\u001b[0m \u001b[0;34m==\u001b[0m \u001b[0mself\u001b[0m\u001b[0;34m.\u001b[0m\u001b[0m_get_tracing_count\u001b[0m\u001b[0;34m(\u001b[0m\u001b[0;34m)\u001b[0m\u001b[0;34m:\u001b[0m\u001b[0;34m\u001b[0m\u001b[0;34m\u001b[0m\u001b[0m\n\u001b[1;32m    459\u001b[0m       \u001b[0mself\u001b[0m\u001b[0;34m.\u001b[0m\u001b[0m_call_counter\u001b[0m\u001b[0;34m.\u001b[0m\u001b[0mcalled_without_tracing\u001b[0m\u001b[0;34m(\u001b[0m\u001b[0;34m)\u001b[0m\u001b[0;34m\u001b[0m\u001b[0;34m\u001b[0m\u001b[0m\n",
      "\u001b[0;32m~/anaconda3/envs/Bayes/lib/python3.7/site-packages/tensorflow_core/python/eager/def_function.py\u001b[0m in \u001b[0;36m_call\u001b[0;34m(self, *args, **kwds)\u001b[0m\n\u001b[1;32m    501\u001b[0m       \u001b[0;31m# This is the first call of __call__, so we have to initialize.\u001b[0m\u001b[0;34m\u001b[0m\u001b[0;34m\u001b[0m\u001b[0;34m\u001b[0m\u001b[0m\n\u001b[1;32m    502\u001b[0m       \u001b[0minitializer_map\u001b[0m \u001b[0;34m=\u001b[0m \u001b[0mobject_identity\u001b[0m\u001b[0;34m.\u001b[0m\u001b[0mObjectIdentityDictionary\u001b[0m\u001b[0;34m(\u001b[0m\u001b[0;34m)\u001b[0m\u001b[0;34m\u001b[0m\u001b[0;34m\u001b[0m\u001b[0m\n\u001b[0;32m--> 503\u001b[0;31m       \u001b[0mself\u001b[0m\u001b[0;34m.\u001b[0m\u001b[0m_initialize\u001b[0m\u001b[0;34m(\u001b[0m\u001b[0margs\u001b[0m\u001b[0;34m,\u001b[0m \u001b[0mkwds\u001b[0m\u001b[0;34m,\u001b[0m \u001b[0madd_initializers_to\u001b[0m\u001b[0;34m=\u001b[0m\u001b[0minitializer_map\u001b[0m\u001b[0;34m)\u001b[0m\u001b[0;34m\u001b[0m\u001b[0;34m\u001b[0m\u001b[0m\n\u001b[0m\u001b[1;32m    504\u001b[0m     \u001b[0;32mfinally\u001b[0m\u001b[0;34m:\u001b[0m\u001b[0;34m\u001b[0m\u001b[0;34m\u001b[0m\u001b[0m\n\u001b[1;32m    505\u001b[0m       \u001b[0;31m# At this point we know that the initialization is complete (or less\u001b[0m\u001b[0;34m\u001b[0m\u001b[0;34m\u001b[0m\u001b[0;34m\u001b[0m\u001b[0m\n",
      "\u001b[0;32m~/anaconda3/envs/Bayes/lib/python3.7/site-packages/tensorflow_core/python/eager/def_function.py\u001b[0m in \u001b[0;36m_initialize\u001b[0;34m(self, args, kwds, add_initializers_to)\u001b[0m\n\u001b[1;32m    406\u001b[0m     self._concrete_stateful_fn = (\n\u001b[1;32m    407\u001b[0m         self._stateful_fn._get_concrete_function_internal_garbage_collected(  # pylint: disable=protected-access\n\u001b[0;32m--> 408\u001b[0;31m             *args, **kwds))\n\u001b[0m\u001b[1;32m    409\u001b[0m \u001b[0;34m\u001b[0m\u001b[0m\n\u001b[1;32m    410\u001b[0m     \u001b[0;32mdef\u001b[0m \u001b[0minvalid_creator_scope\u001b[0m\u001b[0;34m(\u001b[0m\u001b[0;34m*\u001b[0m\u001b[0munused_args\u001b[0m\u001b[0;34m,\u001b[0m \u001b[0;34m**\u001b[0m\u001b[0munused_kwds\u001b[0m\u001b[0;34m)\u001b[0m\u001b[0;34m:\u001b[0m\u001b[0;34m\u001b[0m\u001b[0;34m\u001b[0m\u001b[0m\n",
      "\u001b[0;32m~/anaconda3/envs/Bayes/lib/python3.7/site-packages/tensorflow_core/python/eager/function.py\u001b[0m in \u001b[0;36m_get_concrete_function_internal_garbage_collected\u001b[0;34m(self, *args, **kwargs)\u001b[0m\n\u001b[1;32m   1846\u001b[0m     \u001b[0;32mif\u001b[0m \u001b[0mself\u001b[0m\u001b[0;34m.\u001b[0m\u001b[0minput_signature\u001b[0m\u001b[0;34m:\u001b[0m\u001b[0;34m\u001b[0m\u001b[0;34m\u001b[0m\u001b[0m\n\u001b[1;32m   1847\u001b[0m       \u001b[0margs\u001b[0m\u001b[0;34m,\u001b[0m \u001b[0mkwargs\u001b[0m \u001b[0;34m=\u001b[0m \u001b[0;32mNone\u001b[0m\u001b[0;34m,\u001b[0m \u001b[0;32mNone\u001b[0m\u001b[0;34m\u001b[0m\u001b[0;34m\u001b[0m\u001b[0m\n\u001b[0;32m-> 1848\u001b[0;31m     \u001b[0mgraph_function\u001b[0m\u001b[0;34m,\u001b[0m \u001b[0m_\u001b[0m\u001b[0;34m,\u001b[0m \u001b[0m_\u001b[0m \u001b[0;34m=\u001b[0m \u001b[0mself\u001b[0m\u001b[0;34m.\u001b[0m\u001b[0m_maybe_define_function\u001b[0m\u001b[0;34m(\u001b[0m\u001b[0margs\u001b[0m\u001b[0;34m,\u001b[0m \u001b[0mkwargs\u001b[0m\u001b[0;34m)\u001b[0m\u001b[0;34m\u001b[0m\u001b[0;34m\u001b[0m\u001b[0m\n\u001b[0m\u001b[1;32m   1849\u001b[0m     \u001b[0;32mreturn\u001b[0m \u001b[0mgraph_function\u001b[0m\u001b[0;34m\u001b[0m\u001b[0;34m\u001b[0m\u001b[0m\n\u001b[1;32m   1850\u001b[0m \u001b[0;34m\u001b[0m\u001b[0m\n",
      "\u001b[0;32m~/anaconda3/envs/Bayes/lib/python3.7/site-packages/tensorflow_core/python/eager/function.py\u001b[0m in \u001b[0;36m_maybe_define_function\u001b[0;34m(self, args, kwargs)\u001b[0m\n\u001b[1;32m   2148\u001b[0m         \u001b[0mgraph_function\u001b[0m \u001b[0;34m=\u001b[0m \u001b[0mself\u001b[0m\u001b[0;34m.\u001b[0m\u001b[0m_function_cache\u001b[0m\u001b[0;34m.\u001b[0m\u001b[0mprimary\u001b[0m\u001b[0;34m.\u001b[0m\u001b[0mget\u001b[0m\u001b[0;34m(\u001b[0m\u001b[0mcache_key\u001b[0m\u001b[0;34m,\u001b[0m \u001b[0;32mNone\u001b[0m\u001b[0;34m)\u001b[0m\u001b[0;34m\u001b[0m\u001b[0;34m\u001b[0m\u001b[0m\n\u001b[1;32m   2149\u001b[0m         \u001b[0;32mif\u001b[0m \u001b[0mgraph_function\u001b[0m \u001b[0;32mis\u001b[0m \u001b[0;32mNone\u001b[0m\u001b[0;34m:\u001b[0m\u001b[0;34m\u001b[0m\u001b[0;34m\u001b[0m\u001b[0m\n\u001b[0;32m-> 2150\u001b[0;31m           \u001b[0mgraph_function\u001b[0m \u001b[0;34m=\u001b[0m \u001b[0mself\u001b[0m\u001b[0;34m.\u001b[0m\u001b[0m_create_graph_function\u001b[0m\u001b[0;34m(\u001b[0m\u001b[0margs\u001b[0m\u001b[0;34m,\u001b[0m \u001b[0mkwargs\u001b[0m\u001b[0;34m)\u001b[0m\u001b[0;34m\u001b[0m\u001b[0;34m\u001b[0m\u001b[0m\n\u001b[0m\u001b[1;32m   2151\u001b[0m           \u001b[0mself\u001b[0m\u001b[0;34m.\u001b[0m\u001b[0m_function_cache\u001b[0m\u001b[0;34m.\u001b[0m\u001b[0mprimary\u001b[0m\u001b[0;34m[\u001b[0m\u001b[0mcache_key\u001b[0m\u001b[0;34m]\u001b[0m \u001b[0;34m=\u001b[0m \u001b[0mgraph_function\u001b[0m\u001b[0;34m\u001b[0m\u001b[0;34m\u001b[0m\u001b[0m\n\u001b[1;32m   2152\u001b[0m         \u001b[0;32mreturn\u001b[0m \u001b[0mgraph_function\u001b[0m\u001b[0;34m,\u001b[0m \u001b[0margs\u001b[0m\u001b[0;34m,\u001b[0m \u001b[0mkwargs\u001b[0m\u001b[0;34m\u001b[0m\u001b[0;34m\u001b[0m\u001b[0m\n",
      "\u001b[0;32m~/anaconda3/envs/Bayes/lib/python3.7/site-packages/tensorflow_core/python/eager/function.py\u001b[0m in \u001b[0;36m_create_graph_function\u001b[0;34m(self, args, kwargs, override_flat_arg_shapes)\u001b[0m\n\u001b[1;32m   2039\u001b[0m             \u001b[0marg_names\u001b[0m\u001b[0;34m=\u001b[0m\u001b[0marg_names\u001b[0m\u001b[0;34m,\u001b[0m\u001b[0;34m\u001b[0m\u001b[0;34m\u001b[0m\u001b[0m\n\u001b[1;32m   2040\u001b[0m             \u001b[0moverride_flat_arg_shapes\u001b[0m\u001b[0;34m=\u001b[0m\u001b[0moverride_flat_arg_shapes\u001b[0m\u001b[0;34m,\u001b[0m\u001b[0;34m\u001b[0m\u001b[0;34m\u001b[0m\u001b[0m\n\u001b[0;32m-> 2041\u001b[0;31m             capture_by_value=self._capture_by_value),\n\u001b[0m\u001b[1;32m   2042\u001b[0m         \u001b[0mself\u001b[0m\u001b[0;34m.\u001b[0m\u001b[0m_function_attributes\u001b[0m\u001b[0;34m,\u001b[0m\u001b[0;34m\u001b[0m\u001b[0;34m\u001b[0m\u001b[0m\n\u001b[1;32m   2043\u001b[0m         \u001b[0;31m# Tell the ConcreteFunction to clean up its graph once it goes out of\u001b[0m\u001b[0;34m\u001b[0m\u001b[0;34m\u001b[0m\u001b[0;34m\u001b[0m\u001b[0m\n",
      "\u001b[0;32m~/anaconda3/envs/Bayes/lib/python3.7/site-packages/tensorflow_core/python/framework/func_graph.py\u001b[0m in \u001b[0;36mfunc_graph_from_py_func\u001b[0;34m(name, python_func, args, kwargs, signature, func_graph, autograph, autograph_options, add_control_dependencies, arg_names, op_return_value, collections, capture_by_value, override_flat_arg_shapes)\u001b[0m\n\u001b[1;32m    913\u001b[0m                                           converted_func)\n\u001b[1;32m    914\u001b[0m \u001b[0;34m\u001b[0m\u001b[0m\n\u001b[0;32m--> 915\u001b[0;31m       \u001b[0mfunc_outputs\u001b[0m \u001b[0;34m=\u001b[0m \u001b[0mpython_func\u001b[0m\u001b[0;34m(\u001b[0m\u001b[0;34m*\u001b[0m\u001b[0mfunc_args\u001b[0m\u001b[0;34m,\u001b[0m \u001b[0;34m**\u001b[0m\u001b[0mfunc_kwargs\u001b[0m\u001b[0;34m)\u001b[0m\u001b[0;34m\u001b[0m\u001b[0;34m\u001b[0m\u001b[0m\n\u001b[0m\u001b[1;32m    916\u001b[0m \u001b[0;34m\u001b[0m\u001b[0m\n\u001b[1;32m    917\u001b[0m       \u001b[0;31m# invariant: `func_outputs` contains only Tensors, CompositeTensors,\u001b[0m\u001b[0;34m\u001b[0m\u001b[0;34m\u001b[0m\u001b[0;34m\u001b[0m\u001b[0m\n",
      "\u001b[0;32m~/anaconda3/envs/Bayes/lib/python3.7/site-packages/tensorflow_core/python/eager/def_function.py\u001b[0m in \u001b[0;36mwrapped_fn\u001b[0;34m(*args, **kwds)\u001b[0m\n\u001b[1;32m    356\u001b[0m         \u001b[0;31m# __wrapped__ allows AutoGraph to swap in a converted function. We give\u001b[0m\u001b[0;34m\u001b[0m\u001b[0;34m\u001b[0m\u001b[0;34m\u001b[0m\u001b[0m\n\u001b[1;32m    357\u001b[0m         \u001b[0;31m# the function a weak reference to itself to avoid a reference cycle.\u001b[0m\u001b[0;34m\u001b[0m\u001b[0;34m\u001b[0m\u001b[0;34m\u001b[0m\u001b[0m\n\u001b[0;32m--> 358\u001b[0;31m         \u001b[0;32mreturn\u001b[0m \u001b[0mweak_wrapped_fn\u001b[0m\u001b[0;34m(\u001b[0m\u001b[0;34m)\u001b[0m\u001b[0;34m.\u001b[0m\u001b[0m__wrapped__\u001b[0m\u001b[0;34m(\u001b[0m\u001b[0;34m*\u001b[0m\u001b[0margs\u001b[0m\u001b[0;34m,\u001b[0m \u001b[0;34m**\u001b[0m\u001b[0mkwds\u001b[0m\u001b[0;34m)\u001b[0m\u001b[0;34m\u001b[0m\u001b[0;34m\u001b[0m\u001b[0m\n\u001b[0m\u001b[1;32m    359\u001b[0m     \u001b[0mweak_wrapped_fn\u001b[0m \u001b[0;34m=\u001b[0m \u001b[0mweakref\u001b[0m\u001b[0;34m.\u001b[0m\u001b[0mref\u001b[0m\u001b[0;34m(\u001b[0m\u001b[0mwrapped_fn\u001b[0m\u001b[0;34m)\u001b[0m\u001b[0;34m\u001b[0m\u001b[0;34m\u001b[0m\u001b[0m\n\u001b[1;32m    360\u001b[0m \u001b[0;34m\u001b[0m\u001b[0m\n",
      "\u001b[0;32m~/anaconda3/envs/Bayes/lib/python3.7/site-packages/tensorflow_core/python/framework/func_graph.py\u001b[0m in \u001b[0;36mwrapper\u001b[0;34m(*args, **kwargs)\u001b[0m\n\u001b[1;32m    903\u001b[0m           \u001b[0;32mexcept\u001b[0m \u001b[0mException\u001b[0m \u001b[0;32mas\u001b[0m \u001b[0me\u001b[0m\u001b[0;34m:\u001b[0m  \u001b[0;31m# pylint:disable=broad-except\u001b[0m\u001b[0;34m\u001b[0m\u001b[0;34m\u001b[0m\u001b[0m\n\u001b[1;32m    904\u001b[0m             \u001b[0;32mif\u001b[0m \u001b[0mhasattr\u001b[0m\u001b[0;34m(\u001b[0m\u001b[0me\u001b[0m\u001b[0;34m,\u001b[0m \u001b[0;34m\"ag_error_metadata\"\u001b[0m\u001b[0;34m)\u001b[0m\u001b[0;34m:\u001b[0m\u001b[0;34m\u001b[0m\u001b[0;34m\u001b[0m\u001b[0m\n\u001b[0;32m--> 905\u001b[0;31m               \u001b[0;32mraise\u001b[0m \u001b[0me\u001b[0m\u001b[0;34m.\u001b[0m\u001b[0mag_error_metadata\u001b[0m\u001b[0;34m.\u001b[0m\u001b[0mto_exception\u001b[0m\u001b[0;34m(\u001b[0m\u001b[0me\u001b[0m\u001b[0;34m)\u001b[0m\u001b[0;34m\u001b[0m\u001b[0;34m\u001b[0m\u001b[0m\n\u001b[0m\u001b[1;32m    906\u001b[0m             \u001b[0;32melse\u001b[0m\u001b[0;34m:\u001b[0m\u001b[0;34m\u001b[0m\u001b[0;34m\u001b[0m\u001b[0m\n\u001b[1;32m    907\u001b[0m               \u001b[0;32mraise\u001b[0m\u001b[0;34m\u001b[0m\u001b[0;34m\u001b[0m\u001b[0m\n",
      "\u001b[0;31mAttributeError\u001b[0m: in converted code:\n\n    <ipython-input-51-908134ebf433>:3 f  *\n        return (-joint_log_prob(D,vars[0],vars[1]))\n    /Users/zhouji/anaconda3/envs/Bayes/lib/python3.7/site-packages/tensorflow_core/python/eager/def_function.py:457 __call__\n        result = self._call(*args, **kwds)\n    /Users/zhouji/anaconda3/envs/Bayes/lib/python3.7/site-packages/tensorflow_core/python/eager/def_function.py:494 _call\n        results = self._stateful_fn(*args, **kwds)\n    /Users/zhouji/anaconda3/envs/Bayes/lib/python3.7/site-packages/tensorflow_core/python/eager/function.py:1822 __call__\n        graph_function, args, kwargs = self._maybe_define_function(args, kwargs)\n    /Users/zhouji/anaconda3/envs/Bayes/lib/python3.7/site-packages/tensorflow_core/python/eager/function.py:2119 _maybe_define_function\n        graph_function = self._function_cache.primary.get(cache_key, None)\n    /Users/zhouji/anaconda3/envs/Bayes/lib/python3.7/site-packages/tensorflow_core/python/eager/function.py:117 __eq__\n        return self._fields_safe == other._fields_safe  # pylint: disable=protected-access\n    /Users/zhouji/anaconda3/envs/Bayes/lib/python3.7/site-packages/tensorflow_core/python/eager/function.py:93 _fields_safe\n        return (self._hash_fix(self.input_signature), self.parent_graph,\n    /Users/zhouji/anaconda3/envs/Bayes/lib/python3.7/site-packages/tensorflow_core/python/eager/function.py:101 _hash_fix\n        return tuple(self._hash_fix(i) for i in elem)\n    /Users/zhouji/anaconda3/envs/Bayes/lib/python3.7/site-packages/tensorflow_core/python/eager/function.py:101 <genexpr>\n        return tuple(self._hash_fix(i) for i in elem)\n    /Users/zhouji/anaconda3/envs/Bayes/lib/python3.7/site-packages/tensorflow_core/python/eager/function.py:101 _hash_fix\n        return tuple(self._hash_fix(i) for i in elem)\n    /Users/zhouji/anaconda3/envs/Bayes/lib/python3.7/site-packages/tensorflow_core/python/eager/function.py:101 <genexpr>\n        return tuple(self._hash_fix(i) for i in elem)\n    /Users/zhouji/anaconda3/envs/Bayes/lib/python3.7/site-packages/tensorflow_core/python/eager/function.py:112 _hash_fix\n        return (v.__class__, tensor_spec.TensorSpec(v.shape, v.dtype))\n\n    AttributeError: 'NoneType' object has no attribute 'shape'\n"
     ]
    }
   ],
   "source": [
    "@tf.function\n",
    "def f(vars):\n",
    "    return (-joint_log_prob(D,vars[0],vars[1]))\n",
    "\n",
    "fn = f\n",
    "vars = [theta2,theta2]\n",
    "mat = []\n",
    "for v2 in vars:\n",
    "    for i in range(np.shape(vars)[0]):\n",
    "        jac =[]\n",
    "        with tf.GradientTape() as t2:\n",
    "            for v1 in vars:\n",
    "                with tf.GradientTape() as t:\n",
    "                    f = fn(vars)\n",
    "                    jac.append(t.gradient(f,v1))\n",
    "            hess = t2.gradient(jac[i],v2)\n",
    "            if type(hess) == type(None):\n",
    "                mat.append(0)\n",
    "            else:\n",
    "                print(hess)#mat.append(hess.numpy())"
   ]
  },
  {
   "cell_type": "code",
   "execution_count": 50,
   "metadata": {
    "ExecuteTime": {
     "end_time": "2019-11-27T09:41:50.299786Z",
     "start_time": "2019-11-27T09:41:50.295209Z"
    }
   },
   "outputs": [
    {
     "data": {
      "text/plain": [
       "<tf.Variable 'Variable:0' shape=() dtype=float32, numpy=10.0>"
      ]
     },
     "execution_count": 50,
     "metadata": {},
     "output_type": "execute_result"
    }
   ],
   "source": [
    "theta2"
   ]
  },
  {
   "cell_type": "code",
   "execution_count": 45,
   "metadata": {
    "ExecuteTime": {
     "end_time": "2019-11-27T09:39:02.731675Z",
     "start_time": "2019-11-27T09:39:02.728623Z"
    }
   },
   "outputs": [],
   "source": [
    "MAP = [-1.,10.]"
   ]
  },
  {
   "cell_type": "code",
   "execution_count": 51,
   "metadata": {
    "ExecuteTime": {
     "end_time": "2019-11-27T09:42:00.468270Z",
     "start_time": "2019-11-27T09:42:00.384094Z"
    }
   },
   "outputs": [
    {
     "ename": "AttributeError",
     "evalue": "in converted code:\n\n    <ipython-input-44-8d4546c19049>:10 compute_hessian  *\n        f = fn(vars)\n    /Users/zhouji/anaconda3/envs/Bayes/lib/python3.7/site-packages/tensorflow_core/python/eager/def_function.py:457 __call__\n        result = self._call(*args, **kwds)\n    <ipython-input-51-908134ebf433>:3 f  *\n        return (-joint_log_prob(D,vars[0],vars[1]))\n    /Users/zhouji/anaconda3/envs/Bayes/lib/python3.7/site-packages/tensorflow_core/python/eager/def_function.py:457 __call__\n        result = self._call(*args, **kwds)\n    /Users/zhouji/anaconda3/envs/Bayes/lib/python3.7/site-packages/tensorflow_core/python/eager/def_function.py:494 _call\n        results = self._stateful_fn(*args, **kwds)\n    /Users/zhouji/anaconda3/envs/Bayes/lib/python3.7/site-packages/tensorflow_core/python/eager/function.py:1822 __call__\n        graph_function, args, kwargs = self._maybe_define_function(args, kwargs)\n    /Users/zhouji/anaconda3/envs/Bayes/lib/python3.7/site-packages/tensorflow_core/python/eager/function.py:2119 _maybe_define_function\n        graph_function = self._function_cache.primary.get(cache_key, None)\n    /Users/zhouji/anaconda3/envs/Bayes/lib/python3.7/site-packages/tensorflow_core/python/eager/function.py:117 __eq__\n        return self._fields_safe == other._fields_safe  # pylint: disable=protected-access\n    /Users/zhouji/anaconda3/envs/Bayes/lib/python3.7/site-packages/tensorflow_core/python/eager/function.py:93 _fields_safe\n        return (self._hash_fix(self.input_signature), self.parent_graph,\n    /Users/zhouji/anaconda3/envs/Bayes/lib/python3.7/site-packages/tensorflow_core/python/eager/function.py:101 _hash_fix\n        return tuple(self._hash_fix(i) for i in elem)\n    /Users/zhouji/anaconda3/envs/Bayes/lib/python3.7/site-packages/tensorflow_core/python/eager/function.py:101 <genexpr>\n        return tuple(self._hash_fix(i) for i in elem)\n    /Users/zhouji/anaconda3/envs/Bayes/lib/python3.7/site-packages/tensorflow_core/python/eager/function.py:101 _hash_fix\n        return tuple(self._hash_fix(i) for i in elem)\n    /Users/zhouji/anaconda3/envs/Bayes/lib/python3.7/site-packages/tensorflow_core/python/eager/function.py:101 <genexpr>\n        return tuple(self._hash_fix(i) for i in elem)\n    /Users/zhouji/anaconda3/envs/Bayes/lib/python3.7/site-packages/tensorflow_core/python/eager/function.py:112 _hash_fix\n        return (v.__class__, tensor_spec.TensorSpec(v.shape, v.dtype))\n\n    AttributeError: 'NoneType' object has no attribute 'shape'\n",
     "output_type": "error",
     "traceback": [
      "\u001b[0;31m---------------------------------------------------------------------------\u001b[0m",
      "\u001b[0;31mAttributeError\u001b[0m                            Traceback (most recent call last)",
      "\u001b[0;32m<ipython-input-51-908134ebf433>\u001b[0m in \u001b[0;36m<module>\u001b[0;34m\u001b[0m\n\u001b[1;32m      6\u001b[0m \u001b[0mtheta2\u001b[0m \u001b[0;34m=\u001b[0m \u001b[0mtf\u001b[0m\u001b[0;34m.\u001b[0m\u001b[0mVariable\u001b[0m\u001b[0;34m(\u001b[0m\u001b[0mMAP\u001b[0m\u001b[0;34m[\u001b[0m\u001b[0;36m1\u001b[0m\u001b[0;34m]\u001b[0m\u001b[0;34m)\u001b[0m\u001b[0;34m\u001b[0m\u001b[0;34m\u001b[0m\u001b[0m\n\u001b[1;32m      7\u001b[0m \u001b[0;34m\u001b[0m\u001b[0m\n\u001b[0;32m----> 8\u001b[0;31m \u001b[0mhess\u001b[0m \u001b[0;34m=\u001b[0m \u001b[0mcompute_hessian\u001b[0m\u001b[0;34m(\u001b[0m\u001b[0mf\u001b[0m\u001b[0;34m,\u001b[0m\u001b[0;34m[\u001b[0m\u001b[0mtheta2\u001b[0m\u001b[0;34m,\u001b[0m\u001b[0mtheta2\u001b[0m\u001b[0;34m]\u001b[0m\u001b[0;34m)\u001b[0m\u001b[0;34m\u001b[0m\u001b[0;34m\u001b[0m\u001b[0m\n\u001b[0m\u001b[1;32m      9\u001b[0m \u001b[0;34m\u001b[0m\u001b[0m\n\u001b[1;32m     10\u001b[0m \u001b[0mhess\u001b[0m\u001b[0;34m\u001b[0m\u001b[0;34m\u001b[0m\u001b[0m\n",
      "\u001b[0;32m~/anaconda3/envs/Bayes/lib/python3.7/site-packages/tensorflow_core/python/eager/def_function.py\u001b[0m in \u001b[0;36m__call__\u001b[0;34m(self, *args, **kwds)\u001b[0m\n\u001b[1;32m    455\u001b[0m \u001b[0;34m\u001b[0m\u001b[0m\n\u001b[1;32m    456\u001b[0m     \u001b[0mtracing_count\u001b[0m \u001b[0;34m=\u001b[0m \u001b[0mself\u001b[0m\u001b[0;34m.\u001b[0m\u001b[0m_get_tracing_count\u001b[0m\u001b[0;34m(\u001b[0m\u001b[0;34m)\u001b[0m\u001b[0;34m\u001b[0m\u001b[0;34m\u001b[0m\u001b[0m\n\u001b[0;32m--> 457\u001b[0;31m     \u001b[0mresult\u001b[0m \u001b[0;34m=\u001b[0m \u001b[0mself\u001b[0m\u001b[0;34m.\u001b[0m\u001b[0m_call\u001b[0m\u001b[0;34m(\u001b[0m\u001b[0;34m*\u001b[0m\u001b[0margs\u001b[0m\u001b[0;34m,\u001b[0m \u001b[0;34m**\u001b[0m\u001b[0mkwds\u001b[0m\u001b[0;34m)\u001b[0m\u001b[0;34m\u001b[0m\u001b[0;34m\u001b[0m\u001b[0m\n\u001b[0m\u001b[1;32m    458\u001b[0m     \u001b[0;32mif\u001b[0m \u001b[0mtracing_count\u001b[0m \u001b[0;34m==\u001b[0m \u001b[0mself\u001b[0m\u001b[0;34m.\u001b[0m\u001b[0m_get_tracing_count\u001b[0m\u001b[0;34m(\u001b[0m\u001b[0;34m)\u001b[0m\u001b[0;34m:\u001b[0m\u001b[0;34m\u001b[0m\u001b[0;34m\u001b[0m\u001b[0m\n\u001b[1;32m    459\u001b[0m       \u001b[0mself\u001b[0m\u001b[0;34m.\u001b[0m\u001b[0m_call_counter\u001b[0m\u001b[0;34m.\u001b[0m\u001b[0mcalled_without_tracing\u001b[0m\u001b[0;34m(\u001b[0m\u001b[0;34m)\u001b[0m\u001b[0;34m\u001b[0m\u001b[0;34m\u001b[0m\u001b[0m\n",
      "\u001b[0;32m~/anaconda3/envs/Bayes/lib/python3.7/site-packages/tensorflow_core/python/eager/def_function.py\u001b[0m in \u001b[0;36m_call\u001b[0;34m(self, *args, **kwds)\u001b[0m\n\u001b[1;32m    492\u001b[0m       \u001b[0;31m# In this case we have not created variables on the first call. So we can\u001b[0m\u001b[0;34m\u001b[0m\u001b[0;34m\u001b[0m\u001b[0;34m\u001b[0m\u001b[0m\n\u001b[1;32m    493\u001b[0m       \u001b[0;31m# run the first trace but we should fail if variables are created.\u001b[0m\u001b[0;34m\u001b[0m\u001b[0;34m\u001b[0m\u001b[0;34m\u001b[0m\u001b[0m\n\u001b[0;32m--> 494\u001b[0;31m       \u001b[0mresults\u001b[0m \u001b[0;34m=\u001b[0m \u001b[0mself\u001b[0m\u001b[0;34m.\u001b[0m\u001b[0m_stateful_fn\u001b[0m\u001b[0;34m(\u001b[0m\u001b[0;34m*\u001b[0m\u001b[0margs\u001b[0m\u001b[0;34m,\u001b[0m \u001b[0;34m**\u001b[0m\u001b[0mkwds\u001b[0m\u001b[0;34m)\u001b[0m\u001b[0;34m\u001b[0m\u001b[0;34m\u001b[0m\u001b[0m\n\u001b[0m\u001b[1;32m    495\u001b[0m       \u001b[0;32mif\u001b[0m \u001b[0mself\u001b[0m\u001b[0;34m.\u001b[0m\u001b[0m_created_variables\u001b[0m\u001b[0;34m:\u001b[0m\u001b[0;34m\u001b[0m\u001b[0;34m\u001b[0m\u001b[0m\n\u001b[1;32m    496\u001b[0m         raise ValueError(\"Creating variables on a non-first call to a function\"\n",
      "\u001b[0;32m~/anaconda3/envs/Bayes/lib/python3.7/site-packages/tensorflow_core/python/eager/function.py\u001b[0m in \u001b[0;36m__call__\u001b[0;34m(self, *args, **kwargs)\u001b[0m\n\u001b[1;32m   1820\u001b[0m   \u001b[0;32mdef\u001b[0m \u001b[0m__call__\u001b[0m\u001b[0;34m(\u001b[0m\u001b[0mself\u001b[0m\u001b[0;34m,\u001b[0m \u001b[0;34m*\u001b[0m\u001b[0margs\u001b[0m\u001b[0;34m,\u001b[0m \u001b[0;34m**\u001b[0m\u001b[0mkwargs\u001b[0m\u001b[0;34m)\u001b[0m\u001b[0;34m:\u001b[0m\u001b[0;34m\u001b[0m\u001b[0;34m\u001b[0m\u001b[0m\n\u001b[1;32m   1821\u001b[0m     \u001b[0;34m\"\"\"Calls a graph function specialized to the inputs.\"\"\"\u001b[0m\u001b[0;34m\u001b[0m\u001b[0;34m\u001b[0m\u001b[0m\n\u001b[0;32m-> 1822\u001b[0;31m     \u001b[0mgraph_function\u001b[0m\u001b[0;34m,\u001b[0m \u001b[0margs\u001b[0m\u001b[0;34m,\u001b[0m \u001b[0mkwargs\u001b[0m \u001b[0;34m=\u001b[0m \u001b[0mself\u001b[0m\u001b[0;34m.\u001b[0m\u001b[0m_maybe_define_function\u001b[0m\u001b[0;34m(\u001b[0m\u001b[0margs\u001b[0m\u001b[0;34m,\u001b[0m \u001b[0mkwargs\u001b[0m\u001b[0;34m)\u001b[0m\u001b[0;34m\u001b[0m\u001b[0;34m\u001b[0m\u001b[0m\n\u001b[0m\u001b[1;32m   1823\u001b[0m     \u001b[0;32mreturn\u001b[0m \u001b[0mgraph_function\u001b[0m\u001b[0;34m.\u001b[0m\u001b[0m_filtered_call\u001b[0m\u001b[0;34m(\u001b[0m\u001b[0margs\u001b[0m\u001b[0;34m,\u001b[0m \u001b[0mkwargs\u001b[0m\u001b[0;34m)\u001b[0m  \u001b[0;31m# pylint: disable=protected-access\u001b[0m\u001b[0;34m\u001b[0m\u001b[0;34m\u001b[0m\u001b[0m\n\u001b[1;32m   1824\u001b[0m \u001b[0;34m\u001b[0m\u001b[0m\n",
      "\u001b[0;32m~/anaconda3/envs/Bayes/lib/python3.7/site-packages/tensorflow_core/python/eager/function.py\u001b[0m in \u001b[0;36m_maybe_define_function\u001b[0;34m(self, args, kwargs)\u001b[0m\n\u001b[1;32m   2148\u001b[0m         \u001b[0mgraph_function\u001b[0m \u001b[0;34m=\u001b[0m \u001b[0mself\u001b[0m\u001b[0;34m.\u001b[0m\u001b[0m_function_cache\u001b[0m\u001b[0;34m.\u001b[0m\u001b[0mprimary\u001b[0m\u001b[0;34m.\u001b[0m\u001b[0mget\u001b[0m\u001b[0;34m(\u001b[0m\u001b[0mcache_key\u001b[0m\u001b[0;34m,\u001b[0m \u001b[0;32mNone\u001b[0m\u001b[0;34m)\u001b[0m\u001b[0;34m\u001b[0m\u001b[0;34m\u001b[0m\u001b[0m\n\u001b[1;32m   2149\u001b[0m         \u001b[0;32mif\u001b[0m \u001b[0mgraph_function\u001b[0m \u001b[0;32mis\u001b[0m \u001b[0;32mNone\u001b[0m\u001b[0;34m:\u001b[0m\u001b[0;34m\u001b[0m\u001b[0;34m\u001b[0m\u001b[0m\n\u001b[0;32m-> 2150\u001b[0;31m           \u001b[0mgraph_function\u001b[0m \u001b[0;34m=\u001b[0m \u001b[0mself\u001b[0m\u001b[0;34m.\u001b[0m\u001b[0m_create_graph_function\u001b[0m\u001b[0;34m(\u001b[0m\u001b[0margs\u001b[0m\u001b[0;34m,\u001b[0m \u001b[0mkwargs\u001b[0m\u001b[0;34m)\u001b[0m\u001b[0;34m\u001b[0m\u001b[0;34m\u001b[0m\u001b[0m\n\u001b[0m\u001b[1;32m   2151\u001b[0m           \u001b[0mself\u001b[0m\u001b[0;34m.\u001b[0m\u001b[0m_function_cache\u001b[0m\u001b[0;34m.\u001b[0m\u001b[0mprimary\u001b[0m\u001b[0;34m[\u001b[0m\u001b[0mcache_key\u001b[0m\u001b[0;34m]\u001b[0m \u001b[0;34m=\u001b[0m \u001b[0mgraph_function\u001b[0m\u001b[0;34m\u001b[0m\u001b[0;34m\u001b[0m\u001b[0m\n\u001b[1;32m   2152\u001b[0m         \u001b[0;32mreturn\u001b[0m \u001b[0mgraph_function\u001b[0m\u001b[0;34m,\u001b[0m \u001b[0margs\u001b[0m\u001b[0;34m,\u001b[0m \u001b[0mkwargs\u001b[0m\u001b[0;34m\u001b[0m\u001b[0;34m\u001b[0m\u001b[0m\n",
      "\u001b[0;32m~/anaconda3/envs/Bayes/lib/python3.7/site-packages/tensorflow_core/python/eager/function.py\u001b[0m in \u001b[0;36m_create_graph_function\u001b[0;34m(self, args, kwargs, override_flat_arg_shapes)\u001b[0m\n\u001b[1;32m   2039\u001b[0m             \u001b[0marg_names\u001b[0m\u001b[0;34m=\u001b[0m\u001b[0marg_names\u001b[0m\u001b[0;34m,\u001b[0m\u001b[0;34m\u001b[0m\u001b[0;34m\u001b[0m\u001b[0m\n\u001b[1;32m   2040\u001b[0m             \u001b[0moverride_flat_arg_shapes\u001b[0m\u001b[0;34m=\u001b[0m\u001b[0moverride_flat_arg_shapes\u001b[0m\u001b[0;34m,\u001b[0m\u001b[0;34m\u001b[0m\u001b[0;34m\u001b[0m\u001b[0m\n\u001b[0;32m-> 2041\u001b[0;31m             capture_by_value=self._capture_by_value),\n\u001b[0m\u001b[1;32m   2042\u001b[0m         \u001b[0mself\u001b[0m\u001b[0;34m.\u001b[0m\u001b[0m_function_attributes\u001b[0m\u001b[0;34m,\u001b[0m\u001b[0;34m\u001b[0m\u001b[0;34m\u001b[0m\u001b[0m\n\u001b[1;32m   2043\u001b[0m         \u001b[0;31m# Tell the ConcreteFunction to clean up its graph once it goes out of\u001b[0m\u001b[0;34m\u001b[0m\u001b[0;34m\u001b[0m\u001b[0;34m\u001b[0m\u001b[0m\n",
      "\u001b[0;32m~/anaconda3/envs/Bayes/lib/python3.7/site-packages/tensorflow_core/python/framework/func_graph.py\u001b[0m in \u001b[0;36mfunc_graph_from_py_func\u001b[0;34m(name, python_func, args, kwargs, signature, func_graph, autograph, autograph_options, add_control_dependencies, arg_names, op_return_value, collections, capture_by_value, override_flat_arg_shapes)\u001b[0m\n\u001b[1;32m    913\u001b[0m                                           converted_func)\n\u001b[1;32m    914\u001b[0m \u001b[0;34m\u001b[0m\u001b[0m\n\u001b[0;32m--> 915\u001b[0;31m       \u001b[0mfunc_outputs\u001b[0m \u001b[0;34m=\u001b[0m \u001b[0mpython_func\u001b[0m\u001b[0;34m(\u001b[0m\u001b[0;34m*\u001b[0m\u001b[0mfunc_args\u001b[0m\u001b[0;34m,\u001b[0m \u001b[0;34m**\u001b[0m\u001b[0mfunc_kwargs\u001b[0m\u001b[0;34m)\u001b[0m\u001b[0;34m\u001b[0m\u001b[0;34m\u001b[0m\u001b[0m\n\u001b[0m\u001b[1;32m    916\u001b[0m \u001b[0;34m\u001b[0m\u001b[0m\n\u001b[1;32m    917\u001b[0m       \u001b[0;31m# invariant: `func_outputs` contains only Tensors, CompositeTensors,\u001b[0m\u001b[0;34m\u001b[0m\u001b[0;34m\u001b[0m\u001b[0;34m\u001b[0m\u001b[0m\n",
      "\u001b[0;32m~/anaconda3/envs/Bayes/lib/python3.7/site-packages/tensorflow_core/python/eager/def_function.py\u001b[0m in \u001b[0;36mwrapped_fn\u001b[0;34m(*args, **kwds)\u001b[0m\n\u001b[1;32m    356\u001b[0m         \u001b[0;31m# __wrapped__ allows AutoGraph to swap in a converted function. We give\u001b[0m\u001b[0;34m\u001b[0m\u001b[0;34m\u001b[0m\u001b[0;34m\u001b[0m\u001b[0m\n\u001b[1;32m    357\u001b[0m         \u001b[0;31m# the function a weak reference to itself to avoid a reference cycle.\u001b[0m\u001b[0;34m\u001b[0m\u001b[0;34m\u001b[0m\u001b[0;34m\u001b[0m\u001b[0m\n\u001b[0;32m--> 358\u001b[0;31m         \u001b[0;32mreturn\u001b[0m \u001b[0mweak_wrapped_fn\u001b[0m\u001b[0;34m(\u001b[0m\u001b[0;34m)\u001b[0m\u001b[0;34m.\u001b[0m\u001b[0m__wrapped__\u001b[0m\u001b[0;34m(\u001b[0m\u001b[0;34m*\u001b[0m\u001b[0margs\u001b[0m\u001b[0;34m,\u001b[0m \u001b[0;34m**\u001b[0m\u001b[0mkwds\u001b[0m\u001b[0;34m)\u001b[0m\u001b[0;34m\u001b[0m\u001b[0;34m\u001b[0m\u001b[0m\n\u001b[0m\u001b[1;32m    359\u001b[0m     \u001b[0mweak_wrapped_fn\u001b[0m \u001b[0;34m=\u001b[0m \u001b[0mweakref\u001b[0m\u001b[0;34m.\u001b[0m\u001b[0mref\u001b[0m\u001b[0;34m(\u001b[0m\u001b[0mwrapped_fn\u001b[0m\u001b[0;34m)\u001b[0m\u001b[0;34m\u001b[0m\u001b[0;34m\u001b[0m\u001b[0m\n\u001b[1;32m    360\u001b[0m \u001b[0;34m\u001b[0m\u001b[0m\n",
      "\u001b[0;32m~/anaconda3/envs/Bayes/lib/python3.7/site-packages/tensorflow_core/python/framework/func_graph.py\u001b[0m in \u001b[0;36mwrapper\u001b[0;34m(*args, **kwargs)\u001b[0m\n\u001b[1;32m    903\u001b[0m           \u001b[0;32mexcept\u001b[0m \u001b[0mException\u001b[0m \u001b[0;32mas\u001b[0m \u001b[0me\u001b[0m\u001b[0;34m:\u001b[0m  \u001b[0;31m# pylint:disable=broad-except\u001b[0m\u001b[0;34m\u001b[0m\u001b[0;34m\u001b[0m\u001b[0m\n\u001b[1;32m    904\u001b[0m             \u001b[0;32mif\u001b[0m \u001b[0mhasattr\u001b[0m\u001b[0;34m(\u001b[0m\u001b[0me\u001b[0m\u001b[0;34m,\u001b[0m \u001b[0;34m\"ag_error_metadata\"\u001b[0m\u001b[0;34m)\u001b[0m\u001b[0;34m:\u001b[0m\u001b[0;34m\u001b[0m\u001b[0;34m\u001b[0m\u001b[0m\n\u001b[0;32m--> 905\u001b[0;31m               \u001b[0;32mraise\u001b[0m \u001b[0me\u001b[0m\u001b[0;34m.\u001b[0m\u001b[0mag_error_metadata\u001b[0m\u001b[0;34m.\u001b[0m\u001b[0mto_exception\u001b[0m\u001b[0;34m(\u001b[0m\u001b[0me\u001b[0m\u001b[0;34m)\u001b[0m\u001b[0;34m\u001b[0m\u001b[0;34m\u001b[0m\u001b[0m\n\u001b[0m\u001b[1;32m    906\u001b[0m             \u001b[0;32melse\u001b[0m\u001b[0;34m:\u001b[0m\u001b[0;34m\u001b[0m\u001b[0;34m\u001b[0m\u001b[0m\n\u001b[1;32m    907\u001b[0m               \u001b[0;32mraise\u001b[0m\u001b[0;34m\u001b[0m\u001b[0;34m\u001b[0m\u001b[0m\n",
      "\u001b[0;31mAttributeError\u001b[0m: in converted code:\n\n    <ipython-input-44-8d4546c19049>:10 compute_hessian  *\n        f = fn(vars)\n    /Users/zhouji/anaconda3/envs/Bayes/lib/python3.7/site-packages/tensorflow_core/python/eager/def_function.py:457 __call__\n        result = self._call(*args, **kwds)\n    <ipython-input-51-908134ebf433>:3 f  *\n        return (-joint_log_prob(D,vars[0],vars[1]))\n    /Users/zhouji/anaconda3/envs/Bayes/lib/python3.7/site-packages/tensorflow_core/python/eager/def_function.py:457 __call__\n        result = self._call(*args, **kwds)\n    /Users/zhouji/anaconda3/envs/Bayes/lib/python3.7/site-packages/tensorflow_core/python/eager/def_function.py:494 _call\n        results = self._stateful_fn(*args, **kwds)\n    /Users/zhouji/anaconda3/envs/Bayes/lib/python3.7/site-packages/tensorflow_core/python/eager/function.py:1822 __call__\n        graph_function, args, kwargs = self._maybe_define_function(args, kwargs)\n    /Users/zhouji/anaconda3/envs/Bayes/lib/python3.7/site-packages/tensorflow_core/python/eager/function.py:2119 _maybe_define_function\n        graph_function = self._function_cache.primary.get(cache_key, None)\n    /Users/zhouji/anaconda3/envs/Bayes/lib/python3.7/site-packages/tensorflow_core/python/eager/function.py:117 __eq__\n        return self._fields_safe == other._fields_safe  # pylint: disable=protected-access\n    /Users/zhouji/anaconda3/envs/Bayes/lib/python3.7/site-packages/tensorflow_core/python/eager/function.py:93 _fields_safe\n        return (self._hash_fix(self.input_signature), self.parent_graph,\n    /Users/zhouji/anaconda3/envs/Bayes/lib/python3.7/site-packages/tensorflow_core/python/eager/function.py:101 _hash_fix\n        return tuple(self._hash_fix(i) for i in elem)\n    /Users/zhouji/anaconda3/envs/Bayes/lib/python3.7/site-packages/tensorflow_core/python/eager/function.py:101 <genexpr>\n        return tuple(self._hash_fix(i) for i in elem)\n    /Users/zhouji/anaconda3/envs/Bayes/lib/python3.7/site-packages/tensorflow_core/python/eager/function.py:101 _hash_fix\n        return tuple(self._hash_fix(i) for i in elem)\n    /Users/zhouji/anaconda3/envs/Bayes/lib/python3.7/site-packages/tensorflow_core/python/eager/function.py:101 <genexpr>\n        return tuple(self._hash_fix(i) for i in elem)\n    /Users/zhouji/anaconda3/envs/Bayes/lib/python3.7/site-packages/tensorflow_core/python/eager/function.py:112 _hash_fix\n        return (v.__class__, tensor_spec.TensorSpec(v.shape, v.dtype))\n\n    AttributeError: 'NoneType' object has no attribute 'shape'\n"
     ]
    }
   ],
   "source": [
    "@tf.function\n",
    "def f(vars):\n",
    "    return (-joint_log_prob(D,vars[0],vars[1]))\n",
    "\n",
    "theta1 = tf.Variable(MAP[0])\n",
    "theta2 = tf.Variable(MAP[1])\n",
    "\n",
    "hess = compute_hessian(f,[theta2,theta2])\n",
    "\n",
    "hess"
   ]
  },
  {
   "cell_type": "code",
   "execution_count": 30,
   "metadata": {
    "ExecuteTime": {
     "end_time": "2019-11-26T22:44:21.563517Z",
     "start_time": "2019-11-26T22:44:21.560044Z"
    }
   },
   "outputs": [],
   "source": [
    "def f(vars):\n",
    "    return(vars[0]**3+2*vars[1]**2)"
   ]
  },
  {
   "cell_type": "code",
   "execution_count": 43,
   "metadata": {
    "ExecuteTime": {
     "end_time": "2019-11-27T09:38:53.118102Z",
     "start_time": "2019-11-27T09:38:53.080600Z"
    }
   },
   "outputs": [
    {
     "ename": "AttributeError",
     "evalue": "'NoneType' object has no attribute 'shape'",
     "output_type": "error",
     "traceback": [
      "\u001b[0;31m---------------------------------------------------------------------------\u001b[0m",
      "\u001b[0;31mTypeError\u001b[0m                                 Traceback (most recent call last)",
      "\u001b[0;32m~/anaconda3/envs/Bayes/lib/python3.7/site-packages/tensorflow_core/python/eager/function.py\u001b[0m in \u001b[0;36m_hash_fix\u001b[0;34m(self, elem)\u001b[0m\n\u001b[1;32m    108\u001b[0m     \u001b[0;32mtry\u001b[0m\u001b[0;34m:\u001b[0m\u001b[0;34m\u001b[0m\u001b[0;34m\u001b[0m\u001b[0m\n\u001b[0;32m--> 109\u001b[0;31m       \u001b[0mhash\u001b[0m\u001b[0;34m(\u001b[0m\u001b[0melem\u001b[0m\u001b[0;34m)\u001b[0m\u001b[0;34m\u001b[0m\u001b[0;34m\u001b[0m\u001b[0m\n\u001b[0m\u001b[1;32m    110\u001b[0m     \u001b[0;32mexcept\u001b[0m \u001b[0mTypeError\u001b[0m\u001b[0;34m:\u001b[0m\u001b[0;34m\u001b[0m\u001b[0;34m\u001b[0m\u001b[0m\n",
      "\u001b[0;31mTypeError\u001b[0m: weak object has gone away",
      "\nDuring handling of the above exception, another exception occurred:\n",
      "\u001b[0;31mAttributeError\u001b[0m                            Traceback (most recent call last)",
      "\u001b[0;32m<ipython-input-43-c0aaa48c8aed>\u001b[0m in \u001b[0;36m<module>\u001b[0;34m\u001b[0m\n\u001b[1;32m      3\u001b[0m \u001b[0mtheta1\u001b[0m \u001b[0;34m=\u001b[0m \u001b[0mtf\u001b[0m\u001b[0;34m.\u001b[0m\u001b[0mVariable\u001b[0m\u001b[0;34m(\u001b[0m\u001b[0mMAP\u001b[0m\u001b[0;34m[\u001b[0m\u001b[0;36m0\u001b[0m\u001b[0;34m]\u001b[0m\u001b[0;34m)\u001b[0m\u001b[0;34m\u001b[0m\u001b[0;34m\u001b[0m\u001b[0m\n\u001b[1;32m      4\u001b[0m \u001b[0mtheta2\u001b[0m \u001b[0;34m=\u001b[0m \u001b[0mtf\u001b[0m\u001b[0;34m.\u001b[0m\u001b[0mVariable\u001b[0m\u001b[0;34m(\u001b[0m\u001b[0mMAP\u001b[0m\u001b[0;34m[\u001b[0m\u001b[0;36m1\u001b[0m\u001b[0;34m]\u001b[0m\u001b[0;34m)\u001b[0m\u001b[0;34m\u001b[0m\u001b[0;34m\u001b[0m\u001b[0m\n\u001b[0;32m----> 5\u001b[0;31m \u001b[0mhess\u001b[0m \u001b[0;34m=\u001b[0m \u001b[0mcompute_hessian\u001b[0m\u001b[0;34m(\u001b[0m\u001b[0mf\u001b[0m\u001b[0;34m,\u001b[0m\u001b[0;34m[\u001b[0m\u001b[0mtheta1\u001b[0m\u001b[0;34m,\u001b[0m\u001b[0mtheta2\u001b[0m\u001b[0;34m]\u001b[0m\u001b[0;34m)\u001b[0m\u001b[0;34m\u001b[0m\u001b[0;34m\u001b[0m\u001b[0m\n\u001b[0m\u001b[1;32m      6\u001b[0m \u001b[0mhess\u001b[0m\u001b[0;34m\u001b[0m\u001b[0;34m\u001b[0m\u001b[0m\n",
      "\u001b[0;32m~/anaconda3/envs/Bayes/lib/python3.7/site-packages/tensorflow_core/python/eager/def_function.py\u001b[0m in \u001b[0;36m__call__\u001b[0;34m(self, *args, **kwds)\u001b[0m\n\u001b[1;32m    455\u001b[0m \u001b[0;34m\u001b[0m\u001b[0m\n\u001b[1;32m    456\u001b[0m     \u001b[0mtracing_count\u001b[0m \u001b[0;34m=\u001b[0m \u001b[0mself\u001b[0m\u001b[0;34m.\u001b[0m\u001b[0m_get_tracing_count\u001b[0m\u001b[0;34m(\u001b[0m\u001b[0;34m)\u001b[0m\u001b[0;34m\u001b[0m\u001b[0;34m\u001b[0m\u001b[0m\n\u001b[0;32m--> 457\u001b[0;31m     \u001b[0mresult\u001b[0m \u001b[0;34m=\u001b[0m \u001b[0mself\u001b[0m\u001b[0;34m.\u001b[0m\u001b[0m_call\u001b[0m\u001b[0;34m(\u001b[0m\u001b[0;34m*\u001b[0m\u001b[0margs\u001b[0m\u001b[0;34m,\u001b[0m \u001b[0;34m**\u001b[0m\u001b[0mkwds\u001b[0m\u001b[0;34m)\u001b[0m\u001b[0;34m\u001b[0m\u001b[0;34m\u001b[0m\u001b[0m\n\u001b[0m\u001b[1;32m    458\u001b[0m     \u001b[0;32mif\u001b[0m \u001b[0mtracing_count\u001b[0m \u001b[0;34m==\u001b[0m \u001b[0mself\u001b[0m\u001b[0;34m.\u001b[0m\u001b[0m_get_tracing_count\u001b[0m\u001b[0;34m(\u001b[0m\u001b[0;34m)\u001b[0m\u001b[0;34m:\u001b[0m\u001b[0;34m\u001b[0m\u001b[0;34m\u001b[0m\u001b[0m\n\u001b[1;32m    459\u001b[0m       \u001b[0mself\u001b[0m\u001b[0;34m.\u001b[0m\u001b[0m_call_counter\u001b[0m\u001b[0;34m.\u001b[0m\u001b[0mcalled_without_tracing\u001b[0m\u001b[0;34m(\u001b[0m\u001b[0;34m)\u001b[0m\u001b[0;34m\u001b[0m\u001b[0;34m\u001b[0m\u001b[0m\n",
      "\u001b[0;32m~/anaconda3/envs/Bayes/lib/python3.7/site-packages/tensorflow_core/python/eager/def_function.py\u001b[0m in \u001b[0;36m_call\u001b[0;34m(self, *args, **kwds)\u001b[0m\n\u001b[1;32m    492\u001b[0m       \u001b[0;31m# In this case we have not created variables on the first call. So we can\u001b[0m\u001b[0;34m\u001b[0m\u001b[0;34m\u001b[0m\u001b[0;34m\u001b[0m\u001b[0m\n\u001b[1;32m    493\u001b[0m       \u001b[0;31m# run the first trace but we should fail if variables are created.\u001b[0m\u001b[0;34m\u001b[0m\u001b[0;34m\u001b[0m\u001b[0;34m\u001b[0m\u001b[0m\n\u001b[0;32m--> 494\u001b[0;31m       \u001b[0mresults\u001b[0m \u001b[0;34m=\u001b[0m \u001b[0mself\u001b[0m\u001b[0;34m.\u001b[0m\u001b[0m_stateful_fn\u001b[0m\u001b[0;34m(\u001b[0m\u001b[0;34m*\u001b[0m\u001b[0margs\u001b[0m\u001b[0;34m,\u001b[0m \u001b[0;34m**\u001b[0m\u001b[0mkwds\u001b[0m\u001b[0;34m)\u001b[0m\u001b[0;34m\u001b[0m\u001b[0;34m\u001b[0m\u001b[0m\n\u001b[0m\u001b[1;32m    495\u001b[0m       \u001b[0;32mif\u001b[0m \u001b[0mself\u001b[0m\u001b[0;34m.\u001b[0m\u001b[0m_created_variables\u001b[0m\u001b[0;34m:\u001b[0m\u001b[0;34m\u001b[0m\u001b[0;34m\u001b[0m\u001b[0m\n\u001b[1;32m    496\u001b[0m         raise ValueError(\"Creating variables on a non-first call to a function\"\n",
      "\u001b[0;32m~/anaconda3/envs/Bayes/lib/python3.7/site-packages/tensorflow_core/python/eager/function.py\u001b[0m in \u001b[0;36m__call__\u001b[0;34m(self, *args, **kwargs)\u001b[0m\n\u001b[1;32m   1820\u001b[0m   \u001b[0;32mdef\u001b[0m \u001b[0m__call__\u001b[0m\u001b[0;34m(\u001b[0m\u001b[0mself\u001b[0m\u001b[0;34m,\u001b[0m \u001b[0;34m*\u001b[0m\u001b[0margs\u001b[0m\u001b[0;34m,\u001b[0m \u001b[0;34m**\u001b[0m\u001b[0mkwargs\u001b[0m\u001b[0;34m)\u001b[0m\u001b[0;34m:\u001b[0m\u001b[0;34m\u001b[0m\u001b[0;34m\u001b[0m\u001b[0m\n\u001b[1;32m   1821\u001b[0m     \u001b[0;34m\"\"\"Calls a graph function specialized to the inputs.\"\"\"\u001b[0m\u001b[0;34m\u001b[0m\u001b[0;34m\u001b[0m\u001b[0m\n\u001b[0;32m-> 1822\u001b[0;31m     \u001b[0mgraph_function\u001b[0m\u001b[0;34m,\u001b[0m \u001b[0margs\u001b[0m\u001b[0;34m,\u001b[0m \u001b[0mkwargs\u001b[0m \u001b[0;34m=\u001b[0m \u001b[0mself\u001b[0m\u001b[0;34m.\u001b[0m\u001b[0m_maybe_define_function\u001b[0m\u001b[0;34m(\u001b[0m\u001b[0margs\u001b[0m\u001b[0;34m,\u001b[0m \u001b[0mkwargs\u001b[0m\u001b[0;34m)\u001b[0m\u001b[0;34m\u001b[0m\u001b[0;34m\u001b[0m\u001b[0m\n\u001b[0m\u001b[1;32m   1823\u001b[0m     \u001b[0;32mreturn\u001b[0m \u001b[0mgraph_function\u001b[0m\u001b[0;34m.\u001b[0m\u001b[0m_filtered_call\u001b[0m\u001b[0;34m(\u001b[0m\u001b[0margs\u001b[0m\u001b[0;34m,\u001b[0m \u001b[0mkwargs\u001b[0m\u001b[0;34m)\u001b[0m  \u001b[0;31m# pylint: disable=protected-access\u001b[0m\u001b[0;34m\u001b[0m\u001b[0;34m\u001b[0m\u001b[0m\n\u001b[1;32m   1824\u001b[0m \u001b[0;34m\u001b[0m\u001b[0m\n",
      "\u001b[0;32m~/anaconda3/envs/Bayes/lib/python3.7/site-packages/tensorflow_core/python/eager/function.py\u001b[0m in \u001b[0;36m_maybe_define_function\u001b[0;34m(self, args, kwargs)\u001b[0m\n\u001b[1;32m   2117\u001b[0m \u001b[0;34m\u001b[0m\u001b[0m\n\u001b[1;32m   2118\u001b[0m     \u001b[0;32mwith\u001b[0m \u001b[0mself\u001b[0m\u001b[0;34m.\u001b[0m\u001b[0m_lock\u001b[0m\u001b[0;34m:\u001b[0m\u001b[0;34m\u001b[0m\u001b[0;34m\u001b[0m\u001b[0m\n\u001b[0;32m-> 2119\u001b[0;31m       \u001b[0mgraph_function\u001b[0m \u001b[0;34m=\u001b[0m \u001b[0mself\u001b[0m\u001b[0;34m.\u001b[0m\u001b[0m_function_cache\u001b[0m\u001b[0;34m.\u001b[0m\u001b[0mprimary\u001b[0m\u001b[0;34m.\u001b[0m\u001b[0mget\u001b[0m\u001b[0;34m(\u001b[0m\u001b[0mcache_key\u001b[0m\u001b[0;34m,\u001b[0m \u001b[0;32mNone\u001b[0m\u001b[0;34m)\u001b[0m\u001b[0;34m\u001b[0m\u001b[0;34m\u001b[0m\u001b[0m\n\u001b[0m\u001b[1;32m   2120\u001b[0m       \u001b[0;32mif\u001b[0m \u001b[0mgraph_function\u001b[0m \u001b[0;32mis\u001b[0m \u001b[0;32mnot\u001b[0m \u001b[0;32mNone\u001b[0m\u001b[0;34m:\u001b[0m\u001b[0;34m\u001b[0m\u001b[0;34m\u001b[0m\u001b[0m\n\u001b[1;32m   2121\u001b[0m         \u001b[0;32mreturn\u001b[0m \u001b[0mgraph_function\u001b[0m\u001b[0;34m,\u001b[0m \u001b[0margs\u001b[0m\u001b[0;34m,\u001b[0m \u001b[0mkwargs\u001b[0m\u001b[0;34m\u001b[0m\u001b[0;34m\u001b[0m\u001b[0m\n",
      "\u001b[0;32m~/anaconda3/envs/Bayes/lib/python3.7/site-packages/tensorflow_core/python/eager/function.py\u001b[0m in \u001b[0;36m__eq__\u001b[0;34m(self, other)\u001b[0m\n\u001b[1;32m    115\u001b[0m \u001b[0;34m\u001b[0m\u001b[0m\n\u001b[1;32m    116\u001b[0m   \u001b[0;32mdef\u001b[0m \u001b[0m__eq__\u001b[0m\u001b[0;34m(\u001b[0m\u001b[0mself\u001b[0m\u001b[0;34m,\u001b[0m \u001b[0mother\u001b[0m\u001b[0;34m)\u001b[0m\u001b[0;34m:\u001b[0m\u001b[0;34m\u001b[0m\u001b[0;34m\u001b[0m\u001b[0m\n\u001b[0;32m--> 117\u001b[0;31m     \u001b[0;32mreturn\u001b[0m \u001b[0mself\u001b[0m\u001b[0;34m.\u001b[0m\u001b[0m_fields_safe\u001b[0m \u001b[0;34m==\u001b[0m \u001b[0mother\u001b[0m\u001b[0;34m.\u001b[0m\u001b[0m_fields_safe\u001b[0m  \u001b[0;31m# pylint: disable=protected-access\u001b[0m\u001b[0;34m\u001b[0m\u001b[0;34m\u001b[0m\u001b[0m\n\u001b[0m\u001b[1;32m    118\u001b[0m \u001b[0;34m\u001b[0m\u001b[0m\n\u001b[1;32m    119\u001b[0m \u001b[0;34m\u001b[0m\u001b[0m\n",
      "\u001b[0;32m~/anaconda3/envs/Bayes/lib/python3.7/site-packages/tensorflow_core/python/eager/function.py\u001b[0m in \u001b[0;36m_fields_safe\u001b[0;34m(self)\u001b[0m\n\u001b[1;32m     91\u001b[0m   \u001b[0;32mdef\u001b[0m \u001b[0m_fields_safe\u001b[0m\u001b[0;34m(\u001b[0m\u001b[0mself\u001b[0m\u001b[0;34m)\u001b[0m\u001b[0;34m:\u001b[0m\u001b[0;34m\u001b[0m\u001b[0;34m\u001b[0m\u001b[0m\n\u001b[1;32m     92\u001b[0m     \u001b[0;34m\"\"\"Hash & equality-safe version of all the namedtuple fields.\"\"\"\u001b[0m\u001b[0;34m\u001b[0m\u001b[0;34m\u001b[0m\u001b[0m\n\u001b[0;32m---> 93\u001b[0;31m     return (self._hash_fix(self.input_signature), self.parent_graph,\n\u001b[0m\u001b[1;32m     94\u001b[0m             \u001b[0mself\u001b[0m\u001b[0;34m.\u001b[0m\u001b[0mdevice_functions\u001b[0m\u001b[0;34m,\u001b[0m \u001b[0mself\u001b[0m\u001b[0;34m.\u001b[0m\u001b[0mcolocation_stack\u001b[0m\u001b[0;34m,\u001b[0m\u001b[0;34m\u001b[0m\u001b[0;34m\u001b[0m\u001b[0m\n\u001b[1;32m     95\u001b[0m             self.in_cross_replica_context)\n",
      "\u001b[0;32m~/anaconda3/envs/Bayes/lib/python3.7/site-packages/tensorflow_core/python/eager/function.py\u001b[0m in \u001b[0;36m_hash_fix\u001b[0;34m(self, elem)\u001b[0m\n\u001b[1;32m     99\u001b[0m     \u001b[0;31m# Descend into tuples\u001b[0m\u001b[0;34m\u001b[0m\u001b[0;34m\u001b[0m\u001b[0;34m\u001b[0m\u001b[0m\n\u001b[1;32m    100\u001b[0m     \u001b[0;32mif\u001b[0m \u001b[0misinstance\u001b[0m\u001b[0;34m(\u001b[0m\u001b[0melem\u001b[0m\u001b[0;34m,\u001b[0m \u001b[0mtuple\u001b[0m\u001b[0;34m)\u001b[0m\u001b[0;34m:\u001b[0m\u001b[0;34m\u001b[0m\u001b[0;34m\u001b[0m\u001b[0m\n\u001b[0;32m--> 101\u001b[0;31m       \u001b[0;32mreturn\u001b[0m \u001b[0mtuple\u001b[0m\u001b[0;34m(\u001b[0m\u001b[0mself\u001b[0m\u001b[0;34m.\u001b[0m\u001b[0m_hash_fix\u001b[0m\u001b[0;34m(\u001b[0m\u001b[0mi\u001b[0m\u001b[0;34m)\u001b[0m \u001b[0;32mfor\u001b[0m \u001b[0mi\u001b[0m \u001b[0;32min\u001b[0m \u001b[0melem\u001b[0m\u001b[0;34m)\u001b[0m\u001b[0;34m\u001b[0m\u001b[0;34m\u001b[0m\u001b[0m\n\u001b[0m\u001b[1;32m    102\u001b[0m \u001b[0;34m\u001b[0m\u001b[0m\n\u001b[1;32m    103\u001b[0m     \u001b[0;32mif\u001b[0m \u001b[0misinstance\u001b[0m\u001b[0;34m(\u001b[0m\u001b[0melem\u001b[0m\u001b[0;34m,\u001b[0m \u001b[0mset\u001b[0m\u001b[0;34m)\u001b[0m\u001b[0;34m:\u001b[0m\u001b[0;34m\u001b[0m\u001b[0;34m\u001b[0m\u001b[0m\n",
      "\u001b[0;32m~/anaconda3/envs/Bayes/lib/python3.7/site-packages/tensorflow_core/python/eager/function.py\u001b[0m in \u001b[0;36m<genexpr>\u001b[0;34m(.0)\u001b[0m\n\u001b[1;32m     99\u001b[0m     \u001b[0;31m# Descend into tuples\u001b[0m\u001b[0;34m\u001b[0m\u001b[0;34m\u001b[0m\u001b[0;34m\u001b[0m\u001b[0m\n\u001b[1;32m    100\u001b[0m     \u001b[0;32mif\u001b[0m \u001b[0misinstance\u001b[0m\u001b[0;34m(\u001b[0m\u001b[0melem\u001b[0m\u001b[0;34m,\u001b[0m \u001b[0mtuple\u001b[0m\u001b[0;34m)\u001b[0m\u001b[0;34m:\u001b[0m\u001b[0;34m\u001b[0m\u001b[0;34m\u001b[0m\u001b[0m\n\u001b[0;32m--> 101\u001b[0;31m       \u001b[0;32mreturn\u001b[0m \u001b[0mtuple\u001b[0m\u001b[0;34m(\u001b[0m\u001b[0mself\u001b[0m\u001b[0;34m.\u001b[0m\u001b[0m_hash_fix\u001b[0m\u001b[0;34m(\u001b[0m\u001b[0mi\u001b[0m\u001b[0;34m)\u001b[0m \u001b[0;32mfor\u001b[0m \u001b[0mi\u001b[0m \u001b[0;32min\u001b[0m \u001b[0melem\u001b[0m\u001b[0;34m)\u001b[0m\u001b[0;34m\u001b[0m\u001b[0;34m\u001b[0m\u001b[0m\n\u001b[0m\u001b[1;32m    102\u001b[0m \u001b[0;34m\u001b[0m\u001b[0m\n\u001b[1;32m    103\u001b[0m     \u001b[0;32mif\u001b[0m \u001b[0misinstance\u001b[0m\u001b[0;34m(\u001b[0m\u001b[0melem\u001b[0m\u001b[0;34m,\u001b[0m \u001b[0mset\u001b[0m\u001b[0;34m)\u001b[0m\u001b[0;34m:\u001b[0m\u001b[0;34m\u001b[0m\u001b[0;34m\u001b[0m\u001b[0m\n",
      "\u001b[0;32m~/anaconda3/envs/Bayes/lib/python3.7/site-packages/tensorflow_core/python/eager/function.py\u001b[0m in \u001b[0;36m_hash_fix\u001b[0;34m(self, elem)\u001b[0m\n\u001b[1;32m     99\u001b[0m     \u001b[0;31m# Descend into tuples\u001b[0m\u001b[0;34m\u001b[0m\u001b[0;34m\u001b[0m\u001b[0;34m\u001b[0m\u001b[0m\n\u001b[1;32m    100\u001b[0m     \u001b[0;32mif\u001b[0m \u001b[0misinstance\u001b[0m\u001b[0;34m(\u001b[0m\u001b[0melem\u001b[0m\u001b[0;34m,\u001b[0m \u001b[0mtuple\u001b[0m\u001b[0;34m)\u001b[0m\u001b[0;34m:\u001b[0m\u001b[0;34m\u001b[0m\u001b[0;34m\u001b[0m\u001b[0m\n\u001b[0;32m--> 101\u001b[0;31m       \u001b[0;32mreturn\u001b[0m \u001b[0mtuple\u001b[0m\u001b[0;34m(\u001b[0m\u001b[0mself\u001b[0m\u001b[0;34m.\u001b[0m\u001b[0m_hash_fix\u001b[0m\u001b[0;34m(\u001b[0m\u001b[0mi\u001b[0m\u001b[0;34m)\u001b[0m \u001b[0;32mfor\u001b[0m \u001b[0mi\u001b[0m \u001b[0;32min\u001b[0m \u001b[0melem\u001b[0m\u001b[0;34m)\u001b[0m\u001b[0;34m\u001b[0m\u001b[0;34m\u001b[0m\u001b[0m\n\u001b[0m\u001b[1;32m    102\u001b[0m \u001b[0;34m\u001b[0m\u001b[0m\n\u001b[1;32m    103\u001b[0m     \u001b[0;32mif\u001b[0m \u001b[0misinstance\u001b[0m\u001b[0;34m(\u001b[0m\u001b[0melem\u001b[0m\u001b[0;34m,\u001b[0m \u001b[0mset\u001b[0m\u001b[0;34m)\u001b[0m\u001b[0;34m:\u001b[0m\u001b[0;34m\u001b[0m\u001b[0;34m\u001b[0m\u001b[0m\n",
      "\u001b[0;32m~/anaconda3/envs/Bayes/lib/python3.7/site-packages/tensorflow_core/python/eager/function.py\u001b[0m in \u001b[0;36m<genexpr>\u001b[0;34m(.0)\u001b[0m\n\u001b[1;32m     99\u001b[0m     \u001b[0;31m# Descend into tuples\u001b[0m\u001b[0;34m\u001b[0m\u001b[0;34m\u001b[0m\u001b[0;34m\u001b[0m\u001b[0m\n\u001b[1;32m    100\u001b[0m     \u001b[0;32mif\u001b[0m \u001b[0misinstance\u001b[0m\u001b[0;34m(\u001b[0m\u001b[0melem\u001b[0m\u001b[0;34m,\u001b[0m \u001b[0mtuple\u001b[0m\u001b[0;34m)\u001b[0m\u001b[0;34m:\u001b[0m\u001b[0;34m\u001b[0m\u001b[0;34m\u001b[0m\u001b[0m\n\u001b[0;32m--> 101\u001b[0;31m       \u001b[0;32mreturn\u001b[0m \u001b[0mtuple\u001b[0m\u001b[0;34m(\u001b[0m\u001b[0mself\u001b[0m\u001b[0;34m.\u001b[0m\u001b[0m_hash_fix\u001b[0m\u001b[0;34m(\u001b[0m\u001b[0mi\u001b[0m\u001b[0;34m)\u001b[0m \u001b[0;32mfor\u001b[0m \u001b[0mi\u001b[0m \u001b[0;32min\u001b[0m \u001b[0melem\u001b[0m\u001b[0;34m)\u001b[0m\u001b[0;34m\u001b[0m\u001b[0;34m\u001b[0m\u001b[0m\n\u001b[0m\u001b[1;32m    102\u001b[0m \u001b[0;34m\u001b[0m\u001b[0m\n\u001b[1;32m    103\u001b[0m     \u001b[0;32mif\u001b[0m \u001b[0misinstance\u001b[0m\u001b[0;34m(\u001b[0m\u001b[0melem\u001b[0m\u001b[0;34m,\u001b[0m \u001b[0mset\u001b[0m\u001b[0;34m)\u001b[0m\u001b[0;34m:\u001b[0m\u001b[0;34m\u001b[0m\u001b[0;34m\u001b[0m\u001b[0m\n",
      "\u001b[0;32m~/anaconda3/envs/Bayes/lib/python3.7/site-packages/tensorflow_core/python/eager/function.py\u001b[0m in \u001b[0;36m_hash_fix\u001b[0;34m(self, elem)\u001b[0m\n\u001b[1;32m    110\u001b[0m     \u001b[0;32mexcept\u001b[0m \u001b[0mTypeError\u001b[0m\u001b[0;34m:\u001b[0m\u001b[0;34m\u001b[0m\u001b[0;34m\u001b[0m\u001b[0m\n\u001b[1;32m    111\u001b[0m       \u001b[0mv\u001b[0m \u001b[0;34m=\u001b[0m \u001b[0melem\u001b[0m\u001b[0;34m(\u001b[0m\u001b[0;34m)\u001b[0m\u001b[0;34m\u001b[0m\u001b[0;34m\u001b[0m\u001b[0m\n\u001b[0;32m--> 112\u001b[0;31m       \u001b[0;32mreturn\u001b[0m \u001b[0;34m(\u001b[0m\u001b[0mv\u001b[0m\u001b[0;34m.\u001b[0m\u001b[0m__class__\u001b[0m\u001b[0;34m,\u001b[0m \u001b[0mtensor_spec\u001b[0m\u001b[0;34m.\u001b[0m\u001b[0mTensorSpec\u001b[0m\u001b[0;34m(\u001b[0m\u001b[0mv\u001b[0m\u001b[0;34m.\u001b[0m\u001b[0mshape\u001b[0m\u001b[0;34m,\u001b[0m \u001b[0mv\u001b[0m\u001b[0;34m.\u001b[0m\u001b[0mdtype\u001b[0m\u001b[0;34m)\u001b[0m\u001b[0;34m)\u001b[0m\u001b[0;34m\u001b[0m\u001b[0;34m\u001b[0m\u001b[0m\n\u001b[0m\u001b[1;32m    113\u001b[0m \u001b[0;34m\u001b[0m\u001b[0m\n\u001b[1;32m    114\u001b[0m     \u001b[0;32mreturn\u001b[0m \u001b[0melem\u001b[0m\u001b[0;34m\u001b[0m\u001b[0;34m\u001b[0m\u001b[0m\n",
      "\u001b[0;31mAttributeError\u001b[0m: 'NoneType' object has no attribute 'shape'"
     ]
    }
   ],
   "source": [
    "MAP = [10.,2.]\n",
    "\n",
    "theta1 = tf.Variable(MAP[0])\n",
    "theta2 = tf.Variable(MAP[1])\n",
    "hess = compute_hessian(f,[theta1,theta2])\n",
    "hess"
   ]
  },
  {
   "cell_type": "markdown",
   "metadata": {},
   "source": [
    "Sample from Prior"
   ]
  },
  {
   "cell_type": "code",
   "execution_count": 329,
   "metadata": {
    "ExecuteTime": {
     "end_time": "2019-11-14T11:22:30.254362Z",
     "start_time": "2019-11-14T11:20:58.805881Z"
    }
   },
   "outputs": [
    {
     "name": "stderr",
     "output_type": "stream",
     "text": [
      "/Users/zhouji/.local/lib/python3.7/site-packages/tensorflow_probability/python/mcmc/sample.py:335: UserWarning: Tracing all kernel results by default is deprecated. Set the `trace_fn` argument to None (the future default value) or an explicit callback that traces the values you are interested in.\n",
      "  warnings.warn(\"Tracing all kernel results by default is deprecated. Set \"\n"
     ]
    },
    {
     "name": "stdout",
     "output_type": "stream",
     "text": [
      "Acceptance rate: 56.3%\n"
     ]
    },
    {
     "data": {
      "image/png": "[encoded data removed]",
      "text/plain": [
       "<Figure size 432x288 with 1 Axes>"
      ]
     },
     "metadata": {
      "needs_background": "light"
     },
     "output_type": "display_data"
    }
   ],
   "source": [
    "c = 0 # mean of observations\n",
    "N = 100 # number of observation data\n",
    "sigma2y = 1 # standard deviation of observation data\n",
    "## generate the observation data\n",
    "y_ = np.random.normal(loc =c, scale = sigma2y, size = N)\n",
    "D = tf.convert_to_tensor(y_,dtype = tf.float32)\n",
    "\n",
    "mean = [0.,0.]\n",
    "\n",
    "\n",
    "def joint_log_prob(D,theta1,theta2):\n",
    "    # define random variables prior\n",
    "    mvn = tfd.MultivariateNormalFullCovariance(\n",
    "            loc = mean,\n",
    "            covariance_matrix= cov)\n",
    "    z = tf.stack([theta1, theta2], axis=-1)\n",
    "    return(mvn.log_prob(tf.squeeze(z)))\n",
    "\n",
    "num_results = 5000\n",
    "burnin = 500\n",
    "\n",
    "initial_chain_state = [\n",
    "    0. * tf.ones([], dtype=tf.float32, name=\"init_t1\"),\n",
    "    0. * tf.ones([], dtype=tf.float32, name=\"init_t2\")\n",
    "]\n",
    "\n",
    "unnormalized_posterior_log_prob = lambda *args: joint_log_prob(y_, *args)\n",
    "\n",
    "samples, kernel_results = tfp.mcmc.sample_chain(\n",
    "    num_results=num_results,\n",
    "    current_state=initial_chain_state,\n",
    "    kernel=tfp.mcmc.RandomWalkMetropolis(\n",
    "        target_log_prob_fn=unnormalized_posterior_log_prob),\n",
    "    num_burnin_steps=burnin,\n",
    "    num_steps_between_results=1,  # Thinning.\n",
    "    parallel_iterations=1)\n",
    "\n",
    "\n",
    "samples = tf.stack(samples, axis=-1)\n",
    "accepted = kernel_results.is_accepted\n",
    "\n",
    "samples = samples.numpy()\n",
    "accepted = accepted.numpy()\n",
    "\n",
    "x1 = samples[:,0]\n",
    "y1 = samples[:,1]\n",
    "\n",
    "x_accepted = []\n",
    "y_accepted =[]\n",
    "\n",
    "for i in range(accepted.shape[0]):\n",
    "    if accepted[i-1]==True:\n",
    "        x_accepted = np.append(x_accepted,samples[i-1,0])\n",
    "        y_accepted = np.append(y_accepted,samples[i-1,1])\n",
    "\n",
    "sns.kdeplot(x_accepted,y_accepted)\n",
    "\n",
    "print('Acceptance rate: %0.1f%%' % (100*(x_accepted.shape[0]/num_results)))\n"
   ]
  },
  {
   "cell_type": "code",
   "execution_count": 328,
   "metadata": {
    "ExecuteTime": {
     "end_time": "2019-11-14T10:56:05.033390Z",
     "start_time": "2019-11-14T10:54:31.696909Z"
    }
   },
   "outputs": [
    {
     "name": "stderr",
     "output_type": "stream",
     "text": [
      "/Users/zhouji/.local/lib/python3.7/site-packages/tensorflow_probability/python/mcmc/sample.py:335: UserWarning: Tracing all kernel results by default is deprecated. Set the `trace_fn` argument to None (the future default value) or an explicit callback that traces the values you are interested in.\n",
      "  warnings.warn(\"Tracing all kernel results by default is deprecated. Set \"\n"
     ]
    },
    {
     "name": "stdout",
     "output_type": "stream",
     "text": [
      "Acceptance rate: 7.8%\n"
     ]
    },
    {
     "data": {
      "image/png": "[encoded data removed]",
      "text/plain": [
       "<Figure size 432x288 with 1 Axes>"
      ]
     },
     "metadata": {
      "needs_background": "light"
     },
     "output_type": "display_data"
    }
   ],
   "source": [
    "c = 0 # mean of observations\n",
    "N = 100 # number of observation data\n",
    "sigma2y = 1 # standard deviation of observation data\n",
    "## generate the observation data\n",
    "y_ = np.random.normal(loc =c, scale = sigma2y, size = N)\n",
    "D = tf.convert_to_tensor(y_,dtype = tf.float32)\n",
    "\n",
    "mean = [0.,0.]\n",
    "\n",
    "\n",
    "def joint_log_prob(D,theta1,theta2):\n",
    "    # define random variables prior\n",
    "    mvn = tfd.MultivariateNormalFullCovariance(\n",
    "            loc = mean,\n",
    "            covariance_matrix= cov)\n",
    "    z = tf.stack([theta1, theta2], axis=-1)\n",
    "    # define likelihood\n",
    "    y = tfd.Normal(loc = tf.add(theta2,tf.pow(theta1,2.)), scale = sigma2y)\n",
    "    # return the posterior probability\n",
    "    return(mvn.log_prob(tf.squeeze(z))+tf.reduce_sum(y.log_prob(D)))\n",
    "\n",
    "num_results = 5000\n",
    "burnin = 500\n",
    "\n",
    "initial_chain_state = [\n",
    "    -1.5 * tf.ones([], dtype=tf.float32, name=\"init_t1\"),\n",
    "    -1.5 * tf.ones([], dtype=tf.float32, name=\"init_t2\")\n",
    "]\n",
    "\n",
    "unnormalized_posterior_log_prob = lambda *args: joint_log_prob(y_, *args)\n",
    "\n",
    "samples, kernel_results = tfp.mcmc.sample_chain(\n",
    "    num_results=num_results,\n",
    "    current_state=initial_chain_state,\n",
    "    kernel=tfp.mcmc.RandomWalkMetropolis(\n",
    "        target_log_prob_fn=unnormalized_posterior_log_prob),\n",
    "    num_burnin_steps=burnin,\n",
    "    num_steps_between_results=1,  # Thinning.\n",
    "    parallel_iterations=1)\n",
    "\n",
    "\n",
    "samples = tf.stack(samples, axis=-1)\n",
    "accepted = kernel_results.is_accepted\n",
    "\n",
    "samples = samples.numpy()\n",
    "accepted = accepted.numpy()\n",
    "\n",
    "x1 = samples[:,0]\n",
    "y1 = samples[:,1]\n",
    "\n",
    "x_accepted = []\n",
    "y_accepted =[]\n",
    "\n",
    "for i in range(accepted.shape[0]):\n",
    "    if accepted[i-1]==True:\n",
    "        x_accepted = np.append(x_accepted,samples[i-1,0])\n",
    "        y_accepted = np.append(y_accepted,samples[i-1,1])\n",
    "# f,(ax1,ax2) = plt.subplots(2,1,sharex =True, sharey = True)\n",
    "\n",
    "sns.kdeplot(x_accepted,y_accepted)\n",
    "# ax1.plot(x_accepted,y_accepted,'.')\n",
    "# plot_true()\n",
    "\n",
    "print('Acceptance rate: %0.1f%%' % (100*(x_accepted.shape[0]/num_results)))\n"
   ]
  },
  {
   "cell_type": "code",
   "execution_count": 326,
   "metadata": {
    "ExecuteTime": {
     "end_time": "2019-11-14T10:39:25.180775Z",
     "start_time": "2019-11-14T10:29:31.931300Z"
    }
   },
   "outputs": [
    {
     "name": "stderr",
     "output_type": "stream",
     "text": [
      "/Users/zhouji/.local/lib/python3.7/site-packages/tensorflow_probability/python/mcmc/sample.py:335: UserWarning: Tracing all kernel results by default is deprecated. Set the `trace_fn` argument to None (the future default value) or an explicit callback that traces the values you are interested in.\n",
      "  warnings.warn(\"Tracing all kernel results by default is deprecated. Set \"\n"
     ]
    },
    {
     "name": "stdout",
     "output_type": "stream",
     "text": [
      "Acceptance rate: 99.0%\n"
     ]
    },
    {
     "data": {
      "image/png": "[encoded data removed]",
      "text/plain": [
       "<Figure size 432x288 with 1 Axes>"
      ]
     },
     "metadata": {
      "needs_background": "light"
     },
     "output_type": "display_data"
    }
   ],
   "source": [
    "c = 0 # mean of observations\n",
    "N = 1000 # number of observation data\n",
    "sigma2y = 1 # standard deviation of observation data\n",
    "## generate the observation data\n",
    "y_ = np.random.normal(loc =c, scale = sigma2y, size = N)\n",
    "D = tf.convert_to_tensor(y_,dtype = tf.float32)\n",
    "\n",
    "mean = [0.,0.]\n",
    "\n",
    "\n",
    "def joint_log_prob(D,theta1,theta2):\n",
    "    # define random variables prior\n",
    "    mvn = tfd.MultivariateNormalFullCovariance(\n",
    "            loc = mean,\n",
    "            covariance_matrix= cov)\n",
    "    z = tf.stack([theta1, theta2], axis=-1)\n",
    "    # define likelihood\n",
    "    y = tfd.Normal(loc = tf.add(theta2,tf.pow(theta1,2.)), scale = sigma2y)\n",
    "    # return the posterior probability\n",
    "    return(mvn.log_prob(tf.squeeze(z))+tf.reduce_sum(y.log_prob(D)))\n",
    "\n",
    "num_results = 4000\n",
    "burnin = 500\n",
    "\n",
    "initial_chain_state = [\n",
    "    -1.5 * tf.ones([], dtype=tf.float32, name=\"init_t1\"),\n",
    "    -1.5 * tf.ones([], dtype=tf.float32, name=\"init_t2\")\n",
    "]\n",
    "\n",
    "unnormalized_posterior_log_prob = lambda *args: joint_log_prob(y_, *args)\n",
    "\n",
    "samples, kernel_results = tfp.mcmc.sample_chain(\n",
    "    num_results=num_results,\n",
    "    current_state=initial_chain_state,\n",
    "    kernel=tfp.mcmc.HamiltonianMonteCarlo(\n",
    "        target_log_prob_fn=unnormalized_posterior_log_prob,\n",
    "        step_size = 0.01,\n",
    "        num_leapfrog_steps = 5),\n",
    "    num_burnin_steps=burnin,\n",
    "    num_steps_between_results=1,  # Thinning.\n",
    "    parallel_iterations=1)\n",
    "\n",
    "\n",
    "samples = tf.stack(samples, axis=-1)\n",
    "accepted = kernel_results.is_accepted\n",
    "\n",
    "samples = samples.numpy()\n",
    "accepted = accepted.numpy()\n",
    "\n",
    "x1 = samples[:,0]\n",
    "y1 = samples[:,1]\n",
    "\n",
    "x_accepted = []\n",
    "y_accepted =[]\n",
    "\n",
    "for i in range(accepted.shape[0]):\n",
    "    if accepted[i-1]==True:\n",
    "        x_accepted = np.append(x_accepted,samples[i-1,0])\n",
    "        y_accepted = np.append(y_accepted,samples[i-1,1])\n",
    "# f,(ax1,ax2) = plt.subplots(2,1,sharex =True, sharey = True)\n",
    "\n",
    "sns.kdeplot(x_accepted,y_accepted)\n",
    "# ax1.plot(x_accepted,y_accepted,'.')\n",
    "# plot_true()\n",
    "\n",
    "print('Acceptance rate: %0.1f%%' % (100*(x_accepted.shape[0]/num_results)))\n"
   ]
  },
  {
   "cell_type": "code",
   "execution_count": null,
   "metadata": {},
   "outputs": [],
   "source": []
  }
 ],
 "metadata": {
  "kernelspec": {
   "display_name": "Python 3",
   "language": "python",
   "name": "python3"
  },
  "language_info": {
   "codemirror_mode": {
    "name": "ipython",
    "version": 3
   },
   "file_extension": ".py",
   "mimetype": "text/x-python",
   "name": "python",
   "nbconvert_exporter": "python",
   "pygments_lexer": "ipython3",
   "version": "3.7.3"
  },
  "varInspector": {
   "cols": {
    "lenName": 16,
    "lenType": 16,
    "lenVar": 40
   },
   "kernels_config": {
    "python": {
     "delete_cmd_postfix": "",
     "delete_cmd_prefix": "del ",
     "library": "var_list.py",
     "varRefreshCmd": "print(var_dic_list())"
    },
    "r": {
     "delete_cmd_postfix": ") ",
     "delete_cmd_prefix": "rm(",
     "library": "var_list.r",
     "varRefreshCmd": "cat(var_dic_list()) "
    }
   },
   "types_to_exclude": [
    "module",
    "function",
    "builtin_function_or_method",
    "instance",
    "_Feature"
   ],
   "window_display": false
  }
 },
 "nbformat": 4,
 "nbformat_minor": 2
}
