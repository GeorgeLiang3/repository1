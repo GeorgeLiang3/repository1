{
 "cells": [
  {
   "cell_type": "code",
   "execution_count": 1,
   "metadata": {
    "ExecuteTime": {
     "end_time": "2019-11-19T09:45:51.395808Z",
     "start_time": "2019-11-19T09:45:50.893226Z"
    }
   },
   "outputs": [],
   "source": [
    "import numpy as np\n",
    "from scipy.interpolate import Rbf, interp2d\n",
    "\n",
    "import matplotlib\n",
    "import matplotlib.pyplot as plt\n",
    "from matplotlib import cm"
   ]
  },
  {
   "cell_type": "code",
   "execution_count": 2,
   "metadata": {
    "ExecuteTime": {
     "end_time": "2019-11-19T09:45:55.529341Z",
     "start_time": "2019-11-19T09:45:55.525826Z"
    }
   },
   "outputs": [],
   "source": [
    "\n",
    "plt.rcParams['figure.figsize'] = (8., 6.)\n",
    "plt.rcParams['font.size'] = 16."
   ]
  },
  {
   "cell_type": "code",
   "execution_count": 3,
   "metadata": {
    "ExecuteTime": {
     "end_time": "2019-11-19T09:46:12.868939Z",
     "start_time": "2019-11-19T09:46:12.865515Z"
    }
   },
   "outputs": [],
   "source": [
    "l1 = lambda x : 0.25*x + 10\n",
    "l2 = lambda x : 0.25*x + 20\n",
    "l3 = lambda x : 0.25*x + 30"
   ]
  },
  {
   "cell_type": "code",
   "execution_count": 4,
   "metadata": {
    "ExecuteTime": {
     "end_time": "2019-11-19T09:46:15.886537Z",
     "start_time": "2019-11-19T09:46:15.881644Z"
    }
   },
   "outputs": [],
   "source": [
    "\n",
    "n_pts = 10 # Points per layer\n",
    "l1_pts_x = np.random.uniform(0,100,n_pts)\n",
    "l1_pts_y = l1(l1_pts_x)\n",
    "l2_pts_x = np.random.uniform(0,100,n_pts)\n",
    "l2_pts_y = l2(l2_pts_x)\n",
    "l3_pts_x = np.random.uniform(0,100,n_pts)\n",
    "l3_pts_y = l3(l3_pts_x)"
   ]
  },
  {
   "cell_type": "code",
   "execution_count": 5,
   "metadata": {
    "ExecuteTime": {
     "end_time": "2019-11-19T09:46:24.786462Z",
     "start_time": "2019-11-19T09:46:24.605489Z"
    }
   },
   "outputs": [
    {
     "data": {
      "text/plain": [
       "(-4.95, 103.95, 7.762499999999999, 56.9875)"
      ]
     },
     "execution_count": 5,
     "metadata": {},
     "output_type": "execute_result"
    },
    {
     "data": {
      "image/png": "[encoded data removed]",
      "text/plain": [
       "<Figure size 576x432 with 1 Axes>"
      ]
     },
     "metadata": {
      "needs_background": "light"
     },
     "output_type": "display_data"
    }
   ],
   "source": [
    "xvals = np.arange(100)\n",
    "\n",
    "plt.plot(xvals, l1(xvals))\n",
    "plt.plot(xvals, l2(xvals))\n",
    "plt.plot(xvals, l3(xvals))\n",
    "\n",
    "plt.plot(l1_pts_x, l1_pts_y, 'o')\n",
    "plt.plot(l2_pts_x, l2_pts_y, 'o')\n",
    "plt.plot(l3_pts_x, l3_pts_y, 'o')\n",
    "\n",
    "plt.axis('equal')"
   ]
  },
  {
   "cell_type": "code",
   "execution_count": 6,
   "metadata": {
    "ExecuteTime": {
     "end_time": "2019-11-19T09:46:57.325027Z",
     "start_time": "2019-11-19T09:46:55.507497Z"
    }
   },
   "outputs": [],
   "source": [
    "# set up grid\n",
    "ti = np.linspace(0, 100, 100)\n",
    "XI, YI = np.meshgrid(ti, ti)\n",
    "\n",
    "# combine data in arrays\n",
    "x = np.hstack([l1_pts_x, l2_pts_x, l3_pts_x])\n",
    "y = np.hstack([l1_pts_y, l2_pts_y, l3_pts_y])\n",
    "\n",
    "# give points values\n",
    "z = np.hstack([np.ones(n_pts)*10, np.ones(n_pts)*20, np.ones(n_pts)*30])\n",
    "\n",
    "f = interp2d(x, y, z, kind='cubic')\n",
    "ZI = f(XI.flatten(), YI.flatten())# .reshape((100,100))"
   ]
  },
  {
   "cell_type": "code",
   "execution_count": 7,
   "metadata": {
    "ExecuteTime": {
     "end_time": "2019-11-19T09:47:04.596358Z",
     "start_time": "2019-11-19T09:47:04.231135Z"
    }
   },
   "outputs": [],
   "source": [
    "ZI = np.empty_like(XI)\n",
    "for i in range(100):\n",
    "    for j in range(100):\n",
    "        ZI[i,j] = f(j,i)"
   ]
  },
  {
   "cell_type": "code",
   "execution_count": 9,
   "metadata": {
    "ExecuteTime": {
     "end_time": "2019-11-19T09:50:04.242819Z",
     "start_time": "2019-11-19T09:50:04.238842Z"
    }
   },
   "outputs": [
    {
     "data": {
      "text/plain": [
       "array([10., 10., 10., 10., 10., 10., 10., 10., 10., 10., 20., 20., 20.,\n",
       "       20., 20., 20., 20., 20., 20., 20., 30., 30., 30., 30., 30., 30.,\n",
       "       30., 30., 30., 30.])"
      ]
     },
     "execution_count": 9,
     "metadata": {},
     "output_type": "execute_result"
    }
   ],
   "source": [
    "z"
   ]
  },
  {
   "cell_type": "code",
   "execution_count": null,
   "metadata": {},
   "outputs": [],
   "source": []
  }
 ],
 "metadata": {
  "kernelspec": {
   "display_name": "Python 3",
   "language": "python",
   "name": "python3"
  },
  "language_info": {
   "codemirror_mode": {
    "name": "ipython",
    "version": 3
   },
   "file_extension": ".py",
   "mimetype": "text/x-python",
   "name": "python",
   "nbconvert_exporter": "python",
   "pygments_lexer": "ipython3",
   "version": "3.7.3"
  },
  "varInspector": {
   "cols": {
    "lenName": 16,
    "lenType": 16,
    "lenVar": 40
   },
   "kernels_config": {
    "python": {
     "delete_cmd_postfix": "",
     "delete_cmd_prefix": "del ",
     "library": "var_list.py",
     "varRefreshCmd": "print(var_dic_list())"
    },
    "r": {
     "delete_cmd_postfix": ") ",
     "delete_cmd_prefix": "rm(",
     "library": "var_list.r",
     "varRefreshCmd": "cat(var_dic_list()) "
    }
   },
   "types_to_exclude": [
    "module",
    "function",
    "builtin_function_or_method",
    "instance",
    "_Feature"
   ],
   "window_display": false
  }
 },
 "nbformat": 4,
 "nbformat_minor": 2
}
