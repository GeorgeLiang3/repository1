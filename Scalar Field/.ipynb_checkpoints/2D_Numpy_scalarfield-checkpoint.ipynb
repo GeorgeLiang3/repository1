{
 "cells": [
  {
   "cell_type": "markdown",
   "metadata": {},
   "source": [
    "adapted from Gempy by Miguel"
   ]
  },
  {
   "cell_type": "code",
   "execution_count": 457,
   "metadata": {
    "ExecuteTime": {
     "end_time": "2020-09-17T10:07:27.985160Z",
     "start_time": "2020-09-17T10:07:27.980916Z"
    }
   },
   "outputs": [],
   "source": [
    "import numpy as np\n",
    "import matplotlib.pyplot as plt\n",
    "%matplotlib inline\n"
   ]
  },
  {
   "cell_type": "markdown",
   "metadata": {},
   "source": [
    "### defne the input points"
   ]
  },
  {
   "cell_type": "code",
   "execution_count": 458,
   "metadata": {
    "ExecuteTime": {
     "end_time": "2020-09-17T10:07:27.990354Z",
     "start_time": "2020-09-17T10:07:27.987099Z"
    }
   },
   "outputs": [],
   "source": [
    "## defining the dips position\n",
    "G_1 = np.array([[1.5, 1.3]])\n",
    "\n",
    "G_1_x = -0.4\n",
    "G_1_y = 1\n",
    "\n",
    "G_1_tiled = np.tile(G_1,[2,1])"
   ]
  },
  {
   "cell_type": "code",
   "execution_count": 459,
   "metadata": {
    "ExecuteTime": {
     "end_time": "2020-09-17T10:07:27.996908Z",
     "start_time": "2020-09-17T10:07:27.992363Z"
    }
   },
   "outputs": [],
   "source": [
    "def squared_euclidean_distance(x_1,x_2):\n",
    "    sqd = np.sqrt(np.reshape(np.sum(x_1**2,1),newshape =(x_1.shape[0],1))+\\\n",
    "    np.reshape(np.sum(x_2**2,1),newshape =(1,x_2.shape[0]))-\\\n",
    "    2*(x_1@x_2.T))\n",
    "    return sqd"
   ]
  },
  {
   "cell_type": "code",
   "execution_count": 460,
   "metadata": {
    "ExecuteTime": {
     "end_time": "2020-09-17T10:07:28.003897Z",
     "start_time": "2020-09-17T10:07:27.998607Z"
    }
   },
   "outputs": [],
   "source": [
    "def cartesian_dist(x_1,x_2):\n",
    "    return np.concatenate([\n",
    "        np.tile(x_1[:,0] - np.reshape(x_2[:,0],[x_2.shape[0],1]),[1,2]),\n",
    "        np.tile(x_1[:,1] - np.reshape(x_2[:,1],[x_2.shape[0],1]),[1,2])],axis = 0) \n",
    "h_u = cartesian_dist(G_1,G_1)\n",
    "h_v = h_u.T"
   ]
  },
  {
   "cell_type": "code",
   "execution_count": 461,
   "metadata": {
    "ExecuteTime": {
     "end_time": "2020-09-17T10:07:28.010001Z",
     "start_time": "2020-09-17T10:07:28.005396Z"
    }
   },
   "outputs": [],
   "source": [
    "a = np.concatenate([np.ones([G_1.shape[0],G_1.shape[0]]),np.zeros([G_1.shape[0],G_1.shape[0]])],axis = 1)\n",
    "b = np.concatenate([np.zeros([G_1.shape[0],G_1.shape[0]]),np.ones([G_1.shape[0],G_1.shape[0]])],axis = 1)\n",
    "\n",
    "perpendicularity_matrix = np.concatenate([a,b],axis = 0)"
   ]
  },
  {
   "cell_type": "code",
   "execution_count": 462,
   "metadata": {
    "ExecuteTime": {
     "end_time": "2020-09-17T10:07:28.014032Z",
     "start_time": "2020-09-17T10:07:28.011552Z"
    }
   },
   "outputs": [],
   "source": [
    "dist_tiled = squared_euclidean_distance(G_1_tiled,G_1_tiled)"
   ]
  },
  {
   "cell_type": "code",
   "execution_count": 463,
   "metadata": {
    "ExecuteTime": {
     "end_time": "2020-09-17T10:07:28.017904Z",
     "start_time": "2020-09-17T10:07:28.015538Z"
    }
   },
   "outputs": [],
   "source": [
    "a_T = 5\n",
    "c_o_T = a_T**2/14/3"
   ]
  },
  {
   "cell_type": "code",
   "execution_count": 464,
   "metadata": {
    "ExecuteTime": {
     "end_time": "2020-09-17T10:07:28.027284Z",
     "start_time": "2020-09-17T10:07:28.020194Z"
    }
   },
   "outputs": [],
   "source": [
    "def cov_gradients(dist_tiled):\n",
    "    \n",
    "    condition1 = 0\n",
    "    a = (h_u*h_v)\n",
    "    b = dist_tiled**2\n",
    "    condition2 = (np.divide(a, b, out=np.zeros_like(a), where=b!=0)*\\\n",
    "    (-c_o_T*((-14/a_T**2)+105/4*dist_tiled/a_T**3 - 35/2 * dist_tiled**3 / a_T **5 + 21 /4 * dist_tiled**5/a_T**7)+\n",
    "        c_o_T * 7 * (9 * dist_tiled ** 5 - 20 * a_T ** 2 * dist_tiled ** 3 +\n",
    "                                       15 * a_T ** 4 * dist_tiled - 4 * a_T ** 5) / (2 * a_T ** 7)-\n",
    "        perpendicularity_matrix * c_o_T * ((-14 / a_T ** 2) + 105 / 4 * dist_tiled / a_T ** 3 -\n",
    "                                   35 / 2 * dist_tiled ** 3 / a_T ** 5 +\n",
    "                                   21 / 4 * dist_tiled ** 5 / a_T ** 7))+\n",
    "        1/3*np.eye(dist_tiled.shape[0]))\n",
    "\n",
    "    C_G = np.where(dist_tiled==0, condition1, condition2) ## adding nugget effect\n",
    "    return C_G\n"
   ]
  },
  {
   "cell_type": "code",
   "execution_count": 465,
   "metadata": {
    "ExecuteTime": {
     "end_time": "2020-09-17T10:07:28.034044Z",
     "start_time": "2020-09-17T10:07:28.029746Z"
    }
   },
   "outputs": [
    {
     "data": {
      "text/plain": [
       "array([[0.33333333, 0.        ],\n",
       "       [0.        , 0.33333333]])"
      ]
     },
     "execution_count": 465,
     "metadata": {},
     "output_type": "execute_result"
    }
   ],
   "source": [
    "dist_tiled = dist_tiled + np.eye(dist_tiled.shape[0])\n",
    "\n",
    "C_G = cov_gradients(dist_tiled)\n",
    "\n",
    "C_G"
   ]
  },
  {
   "cell_type": "markdown",
   "metadata": {},
   "source": [
    "### covariance of interface points"
   ]
  },
  {
   "cell_type": "code",
   "execution_count": 466,
   "metadata": {
    "ExecuteTime": {
     "end_time": "2020-09-17T10:07:28.039095Z",
     "start_time": "2020-09-17T10:07:28.035418Z"
    }
   },
   "outputs": [],
   "source": [
    "# layer1 = np.array([[0,0],[2,0]])\n",
    "# layer2 = np.array([[0,2],[2,2]])\n",
    "\n",
    "layer1 = np.array([[0,0],[2,0.5],[3,0],[4,0]])\n",
    "layer2 = np.array([[0,2],[2,2.5],[3,2],[4,2]])\n",
    "\n",
    "number_of_layer = 2"
   ]
  },
  {
   "cell_type": "code",
   "execution_count": 467,
   "metadata": {
    "ExecuteTime": {
     "end_time": "2020-09-17T10:07:28.043267Z",
     "start_time": "2020-09-17T10:07:28.040502Z"
    }
   },
   "outputs": [],
   "source": [
    "number_of_points_per_surface = np.array([layer1.shape[0],layer2.shape[0]])"
   ]
  },
  {
   "cell_type": "code",
   "execution_count": 468,
   "metadata": {
    "ExecuteTime": {
     "end_time": "2020-09-17T10:07:28.048700Z",
     "start_time": "2020-09-17T10:07:28.044947Z"
    }
   },
   "outputs": [],
   "source": [
    "def set_rest_ref_matrix(number_of_points_per_surface):\n",
    "    ref_layer_points = np.repeat(np.stack([layer1[-1],layer2[-1]],axis = 0),repeats=number_of_points_per_surface-1,axis = 0)\n",
    "    rest_layer_points = np.concatenate([layer1[0:-1],layer2[0:-1]],axis = 0)\n",
    "    return ref_layer_points,rest_layer_points"
   ]
  },
  {
   "cell_type": "code",
   "execution_count": 469,
   "metadata": {
    "ExecuteTime": {
     "end_time": "2020-09-17T10:07:28.052731Z",
     "start_time": "2020-09-17T10:07:28.050137Z"
    }
   },
   "outputs": [],
   "source": [
    "ref_layer_points,rest_layer_points = set_rest_ref_matrix(number_of_points_per_surface)"
   ]
  },
  {
   "cell_type": "code",
   "execution_count": 470,
   "metadata": {
    "ExecuteTime": {
     "end_time": "2020-09-17T10:07:28.057357Z",
     "start_time": "2020-09-17T10:07:28.054113Z"
    }
   },
   "outputs": [],
   "source": [
    "sed_rest_rest = squared_euclidean_distance(rest_layer_points,rest_layer_points)\n",
    "sed_ref_rest = squared_euclidean_distance(ref_layer_points,rest_layer_points)\n",
    "sed_rest_ref = squared_euclidean_distance(rest_layer_points,ref_layer_points)\n",
    "sed_ref_ref = squared_euclidean_distance(ref_layer_points,ref_layer_points)"
   ]
  },
  {
   "cell_type": "code",
   "execution_count": 471,
   "metadata": {
    "ExecuteTime": {
     "end_time": "2020-09-17T10:07:28.065483Z",
     "start_time": "2020-09-17T10:07:28.058983Z"
    }
   },
   "outputs": [],
   "source": [
    "def cov_interface(ref_layer_points,rest_layer_points):\n",
    "    sed_rest_rest = squared_euclidean_distance(rest_layer_points,rest_layer_points)\n",
    "    sed_ref_rest = squared_euclidean_distance(ref_layer_points,rest_layer_points)\n",
    "    sed_rest_ref = squared_euclidean_distance(rest_layer_points,ref_layer_points)\n",
    "    sed_ref_ref = squared_euclidean_distance(ref_layer_points,ref_layer_points)\n",
    "    \n",
    "    C_I = c_o_T*((1 - 7 * (sed_rest_rest / a_T) ** 2 +\\\n",
    "                 35 / 4 * (sed_rest_rest / a_T) ** 3 -\\\n",
    "                 7 / 2 * (sed_rest_rest / a_T) ** 5 +\\\n",
    "                 3 / 4 * (sed_rest_rest / a_T) ** 7) -\\\n",
    "                 (1 - 7 * (sed_ref_rest / a_T) ** 2 +\\\n",
    "                  35 / 4 * (sed_ref_rest / a_T) ** 3 -\\\n",
    "                  7 / 2 * (sed_ref_rest / a_T) ** 5 +\\\n",
    "                  3 / 4 * (sed_ref_rest / a_T) ** 7) -\\\n",
    "                 (1 - 7 * (sed_rest_ref / a_T) ** 2 +\\\n",
    "                  35 / 4 * (sed_rest_ref / a_T) ** 3 -\\\n",
    "                  7 / 2 * (sed_rest_ref / a_T) ** 5 +\\\n",
    "                  3 / 4 * (sed_rest_ref / a_T) ** 7) +\\\n",
    "                 (1 - 7 * (sed_ref_ref / a_T) ** 2 +\\\n",
    "                  35 / 4 * (sed_ref_ref / a_T) ** 3 -\\\n",
    "                  7 / 2 * (sed_ref_ref / a_T) ** 5 +\\\n",
    "                  3 / 4 * (sed_ref_ref / a_T) ** 7))\n",
    "    \n",
    "    return C_I"
   ]
  },
  {
   "cell_type": "code",
   "execution_count": 472,
   "metadata": {
    "ExecuteTime": {
     "end_time": "2020-09-17T10:07:28.069957Z",
     "start_time": "2020-09-17T10:07:28.067013Z"
    }
   },
   "outputs": [],
   "source": [
    "C_I = cov_interface(ref_layer_points,rest_layer_points)"
   ]
  },
  {
   "cell_type": "code",
   "execution_count": 473,
   "metadata": {
    "ExecuteTime": {
     "end_time": "2020-09-17T10:07:28.075523Z",
     "start_time": "2020-09-17T10:07:28.071525Z"
    }
   },
   "outputs": [
    {
     "data": {
      "text/plain": [
       "array([[1.17808762, 0.58904381, 0.1902019 , 0.48149444, 0.24074722,\n",
       "        0.06928362],\n",
       "       [0.58904381, 0.7343738 , 0.34159331, 0.24074722, 0.2899119 ,\n",
       "        0.19158094],\n",
       "       [0.1902019 , 0.34159331, 0.2513219 , 0.06928362, 0.11132384,\n",
       "        0.09844242],\n",
       "       [0.48149444, 0.24074722, 0.06928362, 1.17808762, 0.58904381,\n",
       "        0.1902019 ],\n",
       "       [0.24074722, 0.2899119 , 0.11132384, 0.58904381, 0.7343738 ,\n",
       "        0.34159331],\n",
       "       [0.06928362, 0.19158094, 0.09844242, 0.1902019 , 0.34159331,\n",
       "        0.2513219 ]])"
      ]
     },
     "execution_count": 473,
     "metadata": {},
     "output_type": "execute_result"
    }
   ],
   "source": [
    "C_I"
   ]
  },
  {
   "cell_type": "markdown",
   "metadata": {},
   "source": [
    "### Covariance of interface points and gradients"
   ]
  },
  {
   "cell_type": "code",
   "execution_count": 474,
   "metadata": {
    "ExecuteTime": {
     "end_time": "2020-09-17T10:07:28.079534Z",
     "start_time": "2020-09-17T10:07:28.076841Z"
    }
   },
   "outputs": [],
   "source": [
    "sed_dips_rest = squared_euclidean_distance(G_1_tiled,rest_layer_points)\n",
    "sed_dips_ref = squared_euclidean_distance(G_1_tiled,ref_layer_points)"
   ]
  },
  {
   "cell_type": "code",
   "execution_count": 475,
   "metadata": {
    "ExecuteTime": {
     "end_time": "2020-09-17T10:07:28.085609Z",
     "start_time": "2020-09-17T10:07:28.081002Z"
    }
   },
   "outputs": [],
   "source": [
    "## Cartesian distance between dips and interface points\n",
    "\n",
    "def cartesian_dist_no_tile(x_1,x_2):\n",
    "    return np.concatenate([\n",
    "        np.transpose((x_1[:,0] - np.reshape(x_2[:,0],[x_2.shape[0],1]))),\n",
    "        np.transpose((x_1[:,1] - np.reshape(x_2[:,1],[x_2.shape[0],1])))],axis = 0) \n",
    "\n",
    "hu_rest = cartesian_dist_no_tile(G_1,rest_layer_points)\n",
    "hu_ref = cartesian_dist_no_tile(G_1,ref_layer_points)"
   ]
  },
  {
   "cell_type": "code",
   "execution_count": 476,
   "metadata": {
    "ExecuteTime": {
     "end_time": "2020-09-17T10:07:28.092541Z",
     "start_time": "2020-09-17T10:07:28.087212Z"
    }
   },
   "outputs": [],
   "source": [
    "def cov_interface_gradients(hu_rest,hu_ref):\n",
    "    C_GI = (hu_rest*(- c_o_T * ((-14 / a_T ** 2) + 105 / 4 * sed_dips_rest / a_T ** 3 -\n",
    "                                  35 / 2 * sed_dips_rest ** 3 / a_T ** 5 +\n",
    "                                  21 / 4 * sed_dips_rest ** 5 / a_T ** 7))-\\\n",
    "    hu_ref*(-c_o_T * ((-14 / a_T ** 2) + 105 / 4 * sed_dips_ref / a_T ** 3 -\n",
    "                                  35 / 2 * sed_dips_ref ** 3 / a_T ** 5 +\n",
    "                                  21 / 4 * sed_dips_ref ** 5 / a_T ** 7)))\n",
    "    return C_GI"
   ]
  },
  {
   "cell_type": "code",
   "execution_count": 477,
   "metadata": {
    "ExecuteTime": {
     "end_time": "2020-09-17T10:07:28.097276Z",
     "start_time": "2020-09-17T10:07:28.094511Z"
    }
   },
   "outputs": [],
   "source": [
    "C_GI = cov_interface_gradients(hu_rest,hu_ref)\n",
    "C_IG = C_GI.T"
   ]
  },
  {
   "cell_type": "markdown",
   "metadata": {},
   "source": [
    "### Kriging Matrix"
   ]
  },
  {
   "cell_type": "code",
   "execution_count": 478,
   "metadata": {
    "ExecuteTime": {
     "end_time": "2020-09-17T10:07:28.104583Z",
     "start_time": "2020-09-17T10:07:28.101301Z"
    }
   },
   "outputs": [],
   "source": [
    "K = np.concatenate([np.concatenate([C_G,C_GI],axis = 1),\n",
    "np.concatenate([C_IG,C_I],axis = 1)],axis = 0)\n"
   ]
  },
  {
   "cell_type": "code",
   "execution_count": 479,
   "metadata": {
    "ExecuteTime": {
     "end_time": "2020-09-17T10:07:28.118983Z",
     "start_time": "2020-09-17T10:07:28.106826Z"
    }
   },
   "outputs": [
    {
     "data": {
      "text/html": [
       "<div>\n",
       "<style scoped>\n",
       "    .dataframe tbody tr th:only-of-type {\n",
       "        vertical-align: middle;\n",
       "    }\n",
       "\n",
       "    .dataframe tbody tr th {\n",
       "        vertical-align: top;\n",
       "    }\n",
       "\n",
       "    .dataframe thead th {\n",
       "        text-align: right;\n",
       "    }\n",
       "</style>\n",
       "<table border=\"1\" class=\"dataframe\">\n",
       "  <thead>\n",
       "    <tr style=\"text-align: right;\">\n",
       "      <th></th>\n",
       "      <th>0</th>\n",
       "      <th>1</th>\n",
       "      <th>2</th>\n",
       "      <th>3</th>\n",
       "      <th>4</th>\n",
       "      <th>5</th>\n",
       "      <th>6</th>\n",
       "      <th>7</th>\n",
       "    </tr>\n",
       "  </thead>\n",
       "  <tbody>\n",
       "    <tr>\n",
       "      <th>0</th>\n",
       "      <td>0.333333</td>\n",
       "      <td>0.000000</td>\n",
       "      <td>0.286528</td>\n",
       "      <td>0.012362</td>\n",
       "      <td>-0.043627</td>\n",
       "      <td>0.367624</td>\n",
       "      <td>0.067056</td>\n",
       "      <td>-0.055505</td>\n",
       "    </tr>\n",
       "    <tr>\n",
       "      <th>1</th>\n",
       "      <td>0.000000</td>\n",
       "      <td>0.333333</td>\n",
       "      <td>0.079913</td>\n",
       "      <td>0.111388</td>\n",
       "      <td>0.079913</td>\n",
       "      <td>-0.055033</td>\n",
       "      <td>-0.169913</td>\n",
       "      <td>-0.055033</td>\n",
       "    </tr>\n",
       "    <tr>\n",
       "      <th>2</th>\n",
       "      <td>0.286528</td>\n",
       "      <td>0.079913</td>\n",
       "      <td>1.178088</td>\n",
       "      <td>0.589044</td>\n",
       "      <td>0.190202</td>\n",
       "      <td>0.481494</td>\n",
       "      <td>0.240747</td>\n",
       "      <td>0.069284</td>\n",
       "    </tr>\n",
       "    <tr>\n",
       "      <th>3</th>\n",
       "      <td>0.012362</td>\n",
       "      <td>0.111388</td>\n",
       "      <td>0.589044</td>\n",
       "      <td>0.734374</td>\n",
       "      <td>0.341593</td>\n",
       "      <td>0.240747</td>\n",
       "      <td>0.289912</td>\n",
       "      <td>0.191581</td>\n",
       "    </tr>\n",
       "    <tr>\n",
       "      <th>4</th>\n",
       "      <td>-0.043627</td>\n",
       "      <td>0.079913</td>\n",
       "      <td>0.190202</td>\n",
       "      <td>0.341593</td>\n",
       "      <td>0.251322</td>\n",
       "      <td>0.069284</td>\n",
       "      <td>0.111324</td>\n",
       "      <td>0.098442</td>\n",
       "    </tr>\n",
       "    <tr>\n",
       "      <th>5</th>\n",
       "      <td>0.367624</td>\n",
       "      <td>-0.055033</td>\n",
       "      <td>0.481494</td>\n",
       "      <td>0.240747</td>\n",
       "      <td>0.069284</td>\n",
       "      <td>1.178088</td>\n",
       "      <td>0.589044</td>\n",
       "      <td>0.190202</td>\n",
       "    </tr>\n",
       "    <tr>\n",
       "      <th>6</th>\n",
       "      <td>0.067056</td>\n",
       "      <td>-0.169913</td>\n",
       "      <td>0.240747</td>\n",
       "      <td>0.289912</td>\n",
       "      <td>0.111324</td>\n",
       "      <td>0.589044</td>\n",
       "      <td>0.734374</td>\n",
       "      <td>0.341593</td>\n",
       "    </tr>\n",
       "    <tr>\n",
       "      <th>7</th>\n",
       "      <td>-0.055505</td>\n",
       "      <td>-0.055033</td>\n",
       "      <td>0.069284</td>\n",
       "      <td>0.191581</td>\n",
       "      <td>0.098442</td>\n",
       "      <td>0.190202</td>\n",
       "      <td>0.341593</td>\n",
       "      <td>0.251322</td>\n",
       "    </tr>\n",
       "  </tbody>\n",
       "</table>\n",
       "</div>"
      ],
      "text/plain": [
       "          0         1         2         3         4         5         6  \\\n",
       "0  0.333333  0.000000  0.286528  0.012362 -0.043627  0.367624  0.067056   \n",
       "1  0.000000  0.333333  0.079913  0.111388  0.079913 -0.055033 -0.169913   \n",
       "2  0.286528  0.079913  1.178088  0.589044  0.190202  0.481494  0.240747   \n",
       "3  0.012362  0.111388  0.589044  0.734374  0.341593  0.240747  0.289912   \n",
       "4 -0.043627  0.079913  0.190202  0.341593  0.251322  0.069284  0.111324   \n",
       "5  0.367624 -0.055033  0.481494  0.240747  0.069284  1.178088  0.589044   \n",
       "6  0.067056 -0.169913  0.240747  0.289912  0.111324  0.589044  0.734374   \n",
       "7 -0.055505 -0.055033  0.069284  0.191581  0.098442  0.190202  0.341593   \n",
       "\n",
       "          7  \n",
       "0 -0.055505  \n",
       "1 -0.055033  \n",
       "2  0.069284  \n",
       "3  0.191581  \n",
       "4  0.098442  \n",
       "5  0.190202  \n",
       "6  0.341593  \n",
       "7  0.251322  "
      ]
     },
     "execution_count": 479,
     "metadata": {},
     "output_type": "execute_result"
    }
   ],
   "source": [
    "import pandas as pd\n",
    "pd.DataFrame(K)"
   ]
  },
  {
   "cell_type": "code",
   "execution_count": 480,
   "metadata": {
    "ExecuteTime": {
     "end_time": "2020-09-17T10:07:28.125617Z",
     "start_time": "2020-09-17T10:07:28.120263Z"
    }
   },
   "outputs": [
    {
     "data": {
      "text/plain": [
       "array([[-0.4],\n",
       "       [ 1. ],\n",
       "       [ 0. ],\n",
       "       [ 0. ],\n",
       "       [ 0. ],\n",
       "       [ 0. ],\n",
       "       [ 0. ],\n",
       "       [ 0. ]])"
      ]
     },
     "execution_count": 480,
     "metadata": {},
     "output_type": "execute_result"
    }
   ],
   "source": [
    "b = np.concatenate([[G_1_x,G_1_y],np.zeros(K.shape[0]-G_1.shape[0]*2)],axis = 0)\n",
    "b = np.reshape(b,newshape = [b.shape[0],1])\n",
    "b"
   ]
  },
  {
   "cell_type": "code",
   "execution_count": 481,
   "metadata": {
    "ExecuteTime": {
     "end_time": "2020-09-17T10:07:28.130880Z",
     "start_time": "2020-09-17T10:07:28.127106Z"
    }
   },
   "outputs": [
    {
     "data": {
      "text/plain": [
       "array([[-3.16580582],\n",
       "       [ 4.4775143 ],\n",
       "       [ 0.71868346],\n",
       "       [-1.06454016],\n",
       "       [-1.40955084],\n",
       "       [ 0.3159829 ],\n",
       "       [ 2.46937585],\n",
       "       [-2.14869894]])"
      ]
     },
     "execution_count": 481,
     "metadata": {},
     "output_type": "execute_result"
    }
   ],
   "source": [
    "w = np.linalg.solve(K,b)\n",
    "w"
   ]
  },
  {
   "cell_type": "markdown",
   "metadata": {},
   "source": [
    "### Interpolation without Universal term"
   ]
  },
  {
   "cell_type": "code",
   "execution_count": 482,
   "metadata": {
    "ExecuteTime": {
     "end_time": "2020-09-17T10:07:28.136402Z",
     "start_time": "2020-09-17T10:07:28.132209Z"
    }
   },
   "outputs": [],
   "source": [
    "## create grid\n",
    "\n",
    "xx = np.arange(-.5,4.5,0.1)\n",
    "yy = np.arange(-.5,3.5,0.1)\n",
    "XX,YY = np.meshgrid(xx,yy)\n",
    "X = (np.reshape(XX,[-1])).T\n",
    "Y = (np.reshape(YY,[-1])).T\n",
    "\n",
    "grid = np.stack([X,Y],axis = 1)"
   ]
  },
  {
   "cell_type": "code",
   "execution_count": 483,
   "metadata": {
    "ExecuteTime": {
     "end_time": "2020-09-17T10:07:28.140658Z",
     "start_time": "2020-09-17T10:07:28.137943Z"
    }
   },
   "outputs": [],
   "source": [
    "hu_Simpoints = cartesian_dist_no_tile(G_1,grid)"
   ]
  },
  {
   "cell_type": "code",
   "execution_count": 484,
   "metadata": {
    "ExecuteTime": {
     "end_time": "2020-09-17T10:07:28.145027Z",
     "start_time": "2020-09-17T10:07:28.141959Z"
    }
   },
   "outputs": [],
   "source": [
    "sed_dips_SimPoint = squared_euclidean_distance(G_1_tiled,grid)"
   ]
  },
  {
   "cell_type": "code",
   "execution_count": 485,
   "metadata": {
    "ExecuteTime": {
     "end_time": "2020-09-17T10:07:28.150124Z",
     "start_time": "2020-09-17T10:07:28.146430Z"
    }
   },
   "outputs": [],
   "source": [
    "# gradient contribution\n",
    "sigma_0_grad = w[:G_1.shape[0]*2] * (-hu_Simpoints*(- c_o_T * ((-14 / a_T ** 2) + 105 / 4 * sed_dips_SimPoint / a_T ** 3 -\n",
    "                               35 / 2 * sed_dips_SimPoint ** 3 / a_T ** 5 +\n",
    "                               21 / 4 * sed_dips_SimPoint ** 5 / a_T ** 7)))\n",
    "\n",
    "sigma_0_grad = np.sum(sigma_0_grad,axis=0)"
   ]
  },
  {
   "cell_type": "code",
   "execution_count": 486,
   "metadata": {
    "ExecuteTime": {
     "end_time": "2020-09-17T10:07:28.154742Z",
     "start_time": "2020-09-17T10:07:28.151789Z"
    }
   },
   "outputs": [],
   "source": [
    "sed_rest_SimPoint = squared_euclidean_distance(rest_layer_points,grid)\n",
    "sed_ref_SimPoint = squared_euclidean_distance(ref_layer_points,grid)"
   ]
  },
  {
   "cell_type": "code",
   "execution_count": 487,
   "metadata": {
    "ExecuteTime": {
     "end_time": "2020-09-17T10:07:28.162606Z",
     "start_time": "2020-09-17T10:07:28.155971Z"
    }
   },
   "outputs": [],
   "source": [
    "# surface point contribution\n",
    "sigma_0_interf = -w[G_1.shape[0]*2:]*(c_o_T  * ((1 - 7 * (sed_rest_SimPoint / a_T) ** 2 +\n",
    "             35 / 4 * (sed_rest_SimPoint / a_T) ** 3 -\n",
    "             7 / 2 * (sed_rest_SimPoint / a_T) ** 5 +\n",
    "             3 / 4 * (sed_rest_SimPoint / a_T) ** 7) -\n",
    "             (1 - 7 * (sed_ref_SimPoint / a_T) ** 2 +\n",
    "              35 / 4 * (sed_ref_SimPoint / a_T) ** 3 -\n",
    "              7 / 2 * (sed_ref_SimPoint / a_T) ** 5 +\n",
    "              3 / 4 * (sed_ref_SimPoint / a_T) ** 7)))\n",
    "sigma_0_interf = np.sum(sigma_0_interf,axis = 0)"
   ]
  },
  {
   "cell_type": "code",
   "execution_count": 488,
   "metadata": {
    "ExecuteTime": {
     "end_time": "2020-09-17T10:07:28.166653Z",
     "start_time": "2020-09-17T10:07:28.163877Z"
    }
   },
   "outputs": [],
   "source": [
    "interpolate_result = sigma_0_grad+sigma_0_interf\n",
    "intp = np.reshape(interpolate_result,YY.shape)"
   ]
  },
  {
   "cell_type": "code",
   "execution_count": 489,
   "metadata": {
    "ExecuteTime": {
     "end_time": "2020-09-17T10:07:28.362156Z",
     "start_time": "2020-09-17T10:07:28.168540Z"
    }
   },
   "outputs": [
    {
     "data": {
      "text/plain": [
       "[<matplotlib.lines.Line2D at 0x11d849910>]"
      ]
     },
     "execution_count": 489,
     "metadata": {},
     "output_type": "execute_result"
    },
    {
     "data": {
      "image/png": "[encoded data removed]",
      "text/plain": [
       "<Figure size 432x288 with 2 Axes>"
      ]
     },
     "metadata": {
      "needs_background": "light"
     },
     "output_type": "display_data"
    }
   ],
   "source": [
    "plt.contour(XX,YY,intp)\n",
    "plt.colorbar()\n",
    "plt.plot(layer1[:,0], layer1[:,1], 'ro')\n",
    "plt.plot(layer2[:,0], layer2[:,1], 'bo')\n",
    "\n",
    "plt.plot(G_1[0,0], G_1[0,1], 'go')"
   ]
  },
  {
   "cell_type": "markdown",
   "metadata": {},
   "source": [
    "## add drift term"
   ]
  },
  {
   "cell_type": "code",
   "execution_count": 490,
   "metadata": {
    "ExecuteTime": {
     "end_time": "2020-09-17T10:07:28.367425Z",
     "start_time": "2020-09-17T10:07:28.363969Z"
    }
   },
   "outputs": [],
   "source": [
    "U = np.concatenate([np.eye(number_of_layer),\n",
    "np.stack([ref_layer_points[:,0] - rest_layer_points[:,0],\n",
    "ref_layer_points[:,1] - rest_layer_points[:,1]])],axis = 1)\n",
    "\n",
    "U_T = U.T\n"
   ]
  },
  {
   "cell_type": "code",
   "execution_count": 491,
   "metadata": {
    "ExecuteTime": {
     "end_time": "2020-09-17T10:07:28.372382Z",
     "start_time": "2020-09-17T10:07:28.369073Z"
    }
   },
   "outputs": [],
   "source": [
    "### new K matrix\n",
    "\n",
    "zero_matrix = np.zeros([2,2])\n",
    "\n",
    "K_U = np.concatenate([np.concatenate([K,U_T],axis = 1),np.concatenate([U,zero_matrix],axis = 1)],axis = 0)"
   ]
  },
  {
   "cell_type": "code",
   "execution_count": 492,
   "metadata": {
    "ExecuteTime": {
     "end_time": "2020-09-17T10:07:28.386169Z",
     "start_time": "2020-09-17T10:07:28.373974Z"
    }
   },
   "outputs": [
    {
     "data": {
      "text/html": [
       "<div>\n",
       "<style scoped>\n",
       "    .dataframe tbody tr th:only-of-type {\n",
       "        vertical-align: middle;\n",
       "    }\n",
       "\n",
       "    .dataframe tbody tr th {\n",
       "        vertical-align: top;\n",
       "    }\n",
       "\n",
       "    .dataframe thead th {\n",
       "        text-align: right;\n",
       "    }\n",
       "</style>\n",
       "<table border=\"1\" class=\"dataframe\">\n",
       "  <thead>\n",
       "    <tr style=\"text-align: right;\">\n",
       "      <th></th>\n",
       "      <th>0</th>\n",
       "      <th>1</th>\n",
       "      <th>2</th>\n",
       "      <th>3</th>\n",
       "      <th>4</th>\n",
       "      <th>5</th>\n",
       "      <th>6</th>\n",
       "      <th>7</th>\n",
       "      <th>8</th>\n",
       "      <th>9</th>\n",
       "    </tr>\n",
       "  </thead>\n",
       "  <tbody>\n",
       "    <tr>\n",
       "      <th>0</th>\n",
       "      <td>0.333333</td>\n",
       "      <td>0.000000</td>\n",
       "      <td>0.286528</td>\n",
       "      <td>0.012362</td>\n",
       "      <td>-0.043627</td>\n",
       "      <td>0.367624</td>\n",
       "      <td>0.067056</td>\n",
       "      <td>-0.055505</td>\n",
       "      <td>1.0</td>\n",
       "      <td>0.0</td>\n",
       "    </tr>\n",
       "    <tr>\n",
       "      <th>1</th>\n",
       "      <td>0.000000</td>\n",
       "      <td>0.333333</td>\n",
       "      <td>0.079913</td>\n",
       "      <td>0.111388</td>\n",
       "      <td>0.079913</td>\n",
       "      <td>-0.055033</td>\n",
       "      <td>-0.169913</td>\n",
       "      <td>-0.055033</td>\n",
       "      <td>0.0</td>\n",
       "      <td>1.0</td>\n",
       "    </tr>\n",
       "    <tr>\n",
       "      <th>2</th>\n",
       "      <td>0.286528</td>\n",
       "      <td>0.079913</td>\n",
       "      <td>1.178088</td>\n",
       "      <td>0.589044</td>\n",
       "      <td>0.190202</td>\n",
       "      <td>0.481494</td>\n",
       "      <td>0.240747</td>\n",
       "      <td>0.069284</td>\n",
       "      <td>4.0</td>\n",
       "      <td>0.0</td>\n",
       "    </tr>\n",
       "    <tr>\n",
       "      <th>3</th>\n",
       "      <td>0.012362</td>\n",
       "      <td>0.111388</td>\n",
       "      <td>0.589044</td>\n",
       "      <td>0.734374</td>\n",
       "      <td>0.341593</td>\n",
       "      <td>0.240747</td>\n",
       "      <td>0.289912</td>\n",
       "      <td>0.191581</td>\n",
       "      <td>2.0</td>\n",
       "      <td>-0.5</td>\n",
       "    </tr>\n",
       "    <tr>\n",
       "      <th>4</th>\n",
       "      <td>-0.043627</td>\n",
       "      <td>0.079913</td>\n",
       "      <td>0.190202</td>\n",
       "      <td>0.341593</td>\n",
       "      <td>0.251322</td>\n",
       "      <td>0.069284</td>\n",
       "      <td>0.111324</td>\n",
       "      <td>0.098442</td>\n",
       "      <td>1.0</td>\n",
       "      <td>0.0</td>\n",
       "    </tr>\n",
       "    <tr>\n",
       "      <th>5</th>\n",
       "      <td>0.367624</td>\n",
       "      <td>-0.055033</td>\n",
       "      <td>0.481494</td>\n",
       "      <td>0.240747</td>\n",
       "      <td>0.069284</td>\n",
       "      <td>1.178088</td>\n",
       "      <td>0.589044</td>\n",
       "      <td>0.190202</td>\n",
       "      <td>4.0</td>\n",
       "      <td>0.0</td>\n",
       "    </tr>\n",
       "    <tr>\n",
       "      <th>6</th>\n",
       "      <td>0.067056</td>\n",
       "      <td>-0.169913</td>\n",
       "      <td>0.240747</td>\n",
       "      <td>0.289912</td>\n",
       "      <td>0.111324</td>\n",
       "      <td>0.589044</td>\n",
       "      <td>0.734374</td>\n",
       "      <td>0.341593</td>\n",
       "      <td>2.0</td>\n",
       "      <td>-0.5</td>\n",
       "    </tr>\n",
       "    <tr>\n",
       "      <th>7</th>\n",
       "      <td>-0.055505</td>\n",
       "      <td>-0.055033</td>\n",
       "      <td>0.069284</td>\n",
       "      <td>0.191581</td>\n",
       "      <td>0.098442</td>\n",
       "      <td>0.190202</td>\n",
       "      <td>0.341593</td>\n",
       "      <td>0.251322</td>\n",
       "      <td>1.0</td>\n",
       "      <td>0.0</td>\n",
       "    </tr>\n",
       "    <tr>\n",
       "      <th>8</th>\n",
       "      <td>1.000000</td>\n",
       "      <td>0.000000</td>\n",
       "      <td>4.000000</td>\n",
       "      <td>2.000000</td>\n",
       "      <td>1.000000</td>\n",
       "      <td>4.000000</td>\n",
       "      <td>2.000000</td>\n",
       "      <td>1.000000</td>\n",
       "      <td>0.0</td>\n",
       "      <td>0.0</td>\n",
       "    </tr>\n",
       "    <tr>\n",
       "      <th>9</th>\n",
       "      <td>0.000000</td>\n",
       "      <td>1.000000</td>\n",
       "      <td>0.000000</td>\n",
       "      <td>-0.500000</td>\n",
       "      <td>0.000000</td>\n",
       "      <td>0.000000</td>\n",
       "      <td>-0.500000</td>\n",
       "      <td>0.000000</td>\n",
       "      <td>0.0</td>\n",
       "      <td>0.0</td>\n",
       "    </tr>\n",
       "  </tbody>\n",
       "</table>\n",
       "</div>"
      ],
      "text/plain": [
       "          0         1         2         3         4         5         6  \\\n",
       "0  0.333333  0.000000  0.286528  0.012362 -0.043627  0.367624  0.067056   \n",
       "1  0.000000  0.333333  0.079913  0.111388  0.079913 -0.055033 -0.169913   \n",
       "2  0.286528  0.079913  1.178088  0.589044  0.190202  0.481494  0.240747   \n",
       "3  0.012362  0.111388  0.589044  0.734374  0.341593  0.240747  0.289912   \n",
       "4 -0.043627  0.079913  0.190202  0.341593  0.251322  0.069284  0.111324   \n",
       "5  0.367624 -0.055033  0.481494  0.240747  0.069284  1.178088  0.589044   \n",
       "6  0.067056 -0.169913  0.240747  0.289912  0.111324  0.589044  0.734374   \n",
       "7 -0.055505 -0.055033  0.069284  0.191581  0.098442  0.190202  0.341593   \n",
       "8  1.000000  0.000000  4.000000  2.000000  1.000000  4.000000  2.000000   \n",
       "9  0.000000  1.000000  0.000000 -0.500000  0.000000  0.000000 -0.500000   \n",
       "\n",
       "          7    8    9  \n",
       "0 -0.055505  1.0  0.0  \n",
       "1 -0.055033  0.0  1.0  \n",
       "2  0.069284  4.0  0.0  \n",
       "3  0.191581  2.0 -0.5  \n",
       "4  0.098442  1.0  0.0  \n",
       "5  0.190202  4.0  0.0  \n",
       "6  0.341593  2.0 -0.5  \n",
       "7  0.251322  1.0  0.0  \n",
       "8  1.000000  0.0  0.0  \n",
       "9  0.000000  0.0  0.0  "
      ]
     },
     "execution_count": 492,
     "metadata": {},
     "output_type": "execute_result"
    }
   ],
   "source": [
    "pd.DataFrame(K_U)"
   ]
  },
  {
   "cell_type": "code",
   "execution_count": 493,
   "metadata": {
    "ExecuteTime": {
     "end_time": "2020-09-17T10:07:28.393285Z",
     "start_time": "2020-09-17T10:07:28.388152Z"
    }
   },
   "outputs": [
    {
     "data": {
      "text/plain": [
       "array([-0.16033846,  0.08659913,  0.33353671, ...,  3.06580217,\n",
       "        3.31273976,  3.55967734])"
      ]
     },
     "execution_count": 493,
     "metadata": {},
     "output_type": "execute_result"
    }
   ],
   "source": [
    "### universal contribution\n",
    "sigma_0_1st_drift = np.sum(grid * (w[-2:]).T,axis = 1)\n",
    "sigma_0_1st_drift"
   ]
  },
  {
   "cell_type": "code",
   "execution_count": 494,
   "metadata": {
    "ExecuteTime": {
     "end_time": "2020-09-17T10:07:28.398300Z",
     "start_time": "2020-09-17T10:07:28.394699Z"
    }
   },
   "outputs": [],
   "source": [
    "# rhs b-vector\n",
    "b = np.concatenate([[G_1_x,G_1_y],np.zeros(K_U.shape[0]-G_1.shape[0]*2)],axis = 0)\n",
    "b = np.reshape(b,newshape = [b.shape[0],1])"
   ]
  },
  {
   "cell_type": "code",
   "execution_count": 495,
   "metadata": {
    "ExecuteTime": {
     "end_time": "2020-09-17T10:07:28.403454Z",
     "start_time": "2020-09-17T10:07:28.399788Z"
    }
   },
   "outputs": [
    {
     "data": {
      "text/plain": [
       "array([[-3.16670359],\n",
       "       [ 2.07461195],\n",
       "       [ 0.07701152],\n",
       "       [ 1.25494913],\n",
       "       [-2.50928757],\n",
       "       [ 0.33051314],\n",
       "       [ 2.89427478],\n",
       "       [-4.2525553 ],\n",
       "       [-0.04310235],\n",
       "       [ 0.63897978]])"
      ]
     },
     "execution_count": 495,
     "metadata": {},
     "output_type": "execute_result"
    }
   ],
   "source": [
    "w = np.linalg.solve(K_U,b)\n",
    "w"
   ]
  },
  {
   "cell_type": "code",
   "execution_count": 496,
   "metadata": {
    "ExecuteTime": {
     "end_time": "2020-09-17T10:07:28.413051Z",
     "start_time": "2020-09-17T10:07:28.404768Z"
    }
   },
   "outputs": [],
   "source": [
    "# gradient contribution\n",
    "sigma_0_grad = w[:G_1.shape[0]*2] * (-hu_Simpoints*(- c_o_T * ((-14 / a_T ** 2) + 105 / 4 * sed_dips_SimPoint / a_T ** 3 -\n",
    "                               35 / 2 * sed_dips_SimPoint ** 3 / a_T ** 5 +\n",
    "                               21 / 4 * sed_dips_SimPoint ** 5 / a_T ** 7)))\n",
    "\n",
    "sigma_0_grad = np.sum(sigma_0_grad,axis=0)\n",
    "\n",
    "# surface point contribution\n",
    "sigma_0_interf = -w[G_1.shape[0]*2:-2]*(c_o_T  * ((1 - 7 * (sed_rest_SimPoint / a_T) ** 2 +\n",
    "             35 / 4 * (sed_rest_SimPoint / a_T) ** 3 -\n",
    "             7 / 2 * (sed_rest_SimPoint / a_T) ** 5 +\n",
    "             3 / 4 * (sed_rest_SimPoint / a_T) ** 7) -\n",
    "             (1 - 7 * (sed_ref_SimPoint / a_T) ** 2 +\n",
    "              35 / 4 * (sed_ref_SimPoint / a_T) ** 3 -\n",
    "              7 / 2 * (sed_ref_SimPoint / a_T) ** 5 +\n",
    "              3 / 4 * (sed_ref_SimPoint / a_T) ** 7)))\n",
    "sigma_0_interf = np.sum(sigma_0_interf,axis = 0)\n"
   ]
  },
  {
   "cell_type": "code",
   "execution_count": 497,
   "metadata": {
    "ExecuteTime": {
     "end_time": "2020-09-17T10:07:28.418690Z",
     "start_time": "2020-09-17T10:07:28.414479Z"
    }
   },
   "outputs": [
    {
     "data": {
      "text/plain": [
       "array([-0.29793871, -0.30224895, -0.30655918, ...,  1.99150138,\n",
       "        1.98719114,  1.98288091])"
      ]
     },
     "execution_count": 497,
     "metadata": {},
     "output_type": "execute_result"
    }
   ],
   "source": [
    "sigma_0_1st_drift = np.sum(grid * (w[-2:]).T,axis = 1)\n",
    "sigma_0_1st_drift"
   ]
  },
  {
   "cell_type": "code",
   "execution_count": 498,
   "metadata": {
    "ExecuteTime": {
     "end_time": "2020-09-17T10:07:28.422523Z",
     "start_time": "2020-09-17T10:07:28.420087Z"
    }
   },
   "outputs": [],
   "source": [
    "interpolate_result = sigma_0_grad+sigma_0_interf+sigma_0_1st_drift\n",
    "\n",
    "intp = np.reshape(interpolate_result,XX.shape) # reshape the result to matrix shape"
   ]
  },
  {
   "cell_type": "code",
   "execution_count": 511,
   "metadata": {
    "ExecuteTime": {
     "end_time": "2020-09-17T10:13:08.410066Z",
     "start_time": "2020-09-17T10:13:08.406035Z"
    }
   },
   "outputs": [
    {
     "data": {
      "text/plain": [
       "-0.3534148687014758"
      ]
     },
     "execution_count": 511,
     "metadata": {},
     "output_type": "execute_result"
    }
   ],
   "source": []
  },
  {
   "cell_type": "code",
   "execution_count": 523,
   "metadata": {
    "ExecuteTime": {
     "end_time": "2020-09-17T10:16:58.478484Z",
     "start_time": "2020-09-17T10:16:58.473748Z"
    }
   },
   "outputs": [
    {
     "data": {
      "text/plain": [
       "1.5"
      ]
     },
     "execution_count": 523,
     "metadata": {},
     "output_type": "execute_result"
    }
   ],
   "source": [
    "G_1[0][0]"
   ]
  },
  {
   "cell_type": "code",
   "execution_count": 571,
   "metadata": {
    "ExecuteTime": {
     "end_time": "2020-09-17T12:00:09.851042Z",
     "start_time": "2020-09-17T12:00:09.635303Z"
    }
   },
   "outputs": [
    {
     "data": {
      "text/plain": [
       "[<matplotlib.lines.Line2D at 0x12630d850>]"
      ]
     },
     "execution_count": 571,
     "metadata": {},
     "output_type": "execute_result"
    },
    {
     "data": {
      "image/png": "[encoded data removed]",
      "text/plain": [
       "<Figure size 720x504 with 1 Axes>"
      ]
     },
     "metadata": {
      "needs_background": "light"
     },
     "output_type": "display_data"
    }
   ],
   "source": [
    "plt.figure(figsize=(10, 7))\n",
    "plt.contour(XX, YY, intp, 18,cmap ='plasma')\n",
    "plt.contour(XX, YY, intp, levels = [intp[5,35],intp[25,35]],colors='black',linestyles = 'dashed')\n",
    "# plt.colorbar()\n",
    "plt.plot(layer1[:,0], layer1[:,1], 'ro',alpha = .6)\n",
    "plt.plot(layer2[:,0], layer2[:,1], 'bo',alpha = .6)\n",
    "plt.arrow(G_1[0,0], G_1[0,1], G_1_x/5, G_1_y/5, length_includes_head=True,width=0.03,\n",
    "          head_width=0.1, head_length=0.1,linewidth = 0.01)\n",
    "\n",
    "plt.text(G_1[0,0]-0.1, G_1[0,1]-0.19, 'orientation point',fontsize=14,bbox=dict(facecolor='red', alpha=0.2))\n",
    "plt.text(0.6, 2.4, 'geological surface',fontsize=14,bbox=dict(facecolor='red', alpha=0.2))\n",
    "plt.text(3, 2.1, 'surface point',fontsize=14,bbox=dict(facecolor='red', alpha=0.2))\n",
    "\n",
    "plt.plot(G_1[0,0], G_1[0,1], 'go',alpha = .9)"
   ]
  },
  {
   "cell_type": "code",
   "execution_count": null,
   "metadata": {},
   "outputs": [],
   "source": []
  }
 ],
 "metadata": {
  "kernelspec": {
   "display_name": "Python 3.7.7 64-bit ('gempy': conda)",
   "language": "python",
   "name": "python37764bitgempyconda56adf421e2e348a0921383dec03a4eee"
  },
  "language_info": {
   "codemirror_mode": {
    "name": "ipython",
    "version": 3
   },
   "file_extension": ".py",
   "mimetype": "text/x-python",
   "name": "python",
   "nbconvert_exporter": "python",
   "pygments_lexer": "ipython3",
   "version": "3.7.7"
  },
  "varInspector": {
   "cols": {
    "lenName": 16,
    "lenType": 16,
    "lenVar": 40
   },
   "kernels_config": {
    "python": {
     "delete_cmd_postfix": "",
     "delete_cmd_prefix": "del ",
     "library": "var_list.py",
     "varRefreshCmd": "print(var_dic_list())"
    },
    "r": {
     "delete_cmd_postfix": ") ",
     "delete_cmd_prefix": "rm(",
     "library": "var_list.r",
     "varRefreshCmd": "cat(var_dic_list()) "
    }
   },
   "types_to_exclude": [
    "module",
    "function",
    "builtin_function_or_method",
    "instance",
    "_Feature"
   ],
   "window_display": false
  }
 },
 "nbformat": 4,
 "nbformat_minor": 2
}
