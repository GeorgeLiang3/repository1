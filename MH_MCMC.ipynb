{
 "cells": [
  {
   "cell_type": "code",
   "execution_count": 1,
   "metadata": {
    "ExecuteTime": {
     "end_time": "2019-12-17T11:24:51.910374Z",
     "start_time": "2019-12-17T11:24:51.450753Z"
    }
   },
   "outputs": [
    {
     "data": {
      "text/plain": [
       "9.935717149493016"
      ]
     },
     "execution_count": 1,
     "metadata": {},
     "output_type": "execute_result"
    },
    {
     "data": {
      "image/png": "[encoded data removed]",
      "text/plain": [
       "<Figure size 720x720 with 1 Axes>"
      ]
     },
     "metadata": {
      "needs_background": "light"
     },
     "output_type": "display_data"
    }
   ],
   "source": [
    "import numpy as np\n",
    "import matplotlib.pyplot as plt\n",
    "%matplotlib inline\n",
    "\n",
    "mod1=lambda t:np.random.normal(10,3,t)\n",
    "\n",
    "#Form a population of 30,000 individual, with average=10 and scale=3\n",
    "population = mod1(30000)\n",
    "#Assume we are only able to observe 1,000 of these individuals.\n",
    "observation = population[np.random.randint(0, 30000, 1000)]\n",
    "\n",
    "fig = plt.figure(figsize=(10,10))\n",
    "ax = fig.add_subplot(1,1,1)\n",
    "ax.hist( observation,bins=35 ,)\n",
    "ax.set_xlabel(\"Value\")\n",
    "ax.set_ylabel(\"Frequency\")\n",
    "ax.set_title(\"Figure 1: Distribution of 1000 observations sampled from a population of 30,000 with mu=10, sigma=3\")\n",
    "mu_obs=observation.mean()\n",
    "mu_obs"
   ]
  },
  {
   "cell_type": "code",
   "execution_count": 2,
   "metadata": {
    "ExecuteTime": {
     "end_time": "2019-12-17T11:24:51.947387Z",
     "start_time": "2019-12-17T11:24:51.938756Z"
    }
   },
   "outputs": [],
   "source": [
    "\n",
    "#The tranistion model defines how to move from sigma_current to sigma_new\n",
    "transition_model = lambda x: [x[0],np.random.normal(x[1],0.5,(1,))]\n",
    "\n",
    "def prior(x):\n",
    "    #x[0] = mu, x[1]=sigma (new or current)\n",
    "    #returns 1 for all valid values of sigma. Log(1) =0, so it does not affect the summation.\n",
    "    #returns 0 for all invalid values of sigma (<=0). Log(0)=-infinity, and Log(negative number) is undefined.\n",
    "    #It makes the new sigma infinitely unlikely.\n",
    "    if(x[1] <=0):\n",
    "        return 0\n",
    "    return 1\n",
    "\n",
    "#Computes the likelihood of the data given a sigma (new or current) according to equation (2)\n",
    "def manual_log_like_normal(x,data):\n",
    "    #x[0]=mu, x[1]=sigma (new or current)\n",
    "    #data = the observation\n",
    "    return np.sum(-np.log(x[1] * np.sqrt(2* np.pi) )-((data-x[0])**2) / (2*x[1]**2))\n",
    "\n",
    "#Same as manual_log_like_normal(x,data), but using scipy implementation. It's pretty slow.\n",
    "def log_lik_normal(x,data):\n",
    "    #x[0]=mu, x[1]=sigma (new or current)\n",
    "    #data = the observation\n",
    "    return np.sum(np.log(scipy.stats.norm(x[0],x[1]).pdf(data)))\n",
    "\n",
    "\n",
    "#Defines whether to accept or reject the new sample\n",
    "def acceptance(x, x_new):\n",
    "    if x_new>x:\n",
    "        return True\n",
    "    else:\n",
    "        accept=np.random.uniform(0,1)\n",
    "        # Since we did a log likelihood, we need to exponentiate in order to compare to the random number\n",
    "        # less likely x_new are less likely to be accepted\n",
    "        return (accept < (np.exp(x_new-x)))\n",
    "\n",
    "\n",
    "def metropolis_hastings(likelihood_computer,prior, transition_model, param_init,iterations,data,acceptance_rule):\n",
    "    # likelihood_computer(x,data): returns the likelihood that these parameters generated the data\n",
    "    # transition_model(x): a function that draws a sample from a symmetric distribution and returns it\n",
    "    # param_init: a starting sample\n",
    "    # iterations: number of accepted to generated\n",
    "    # data: the data that we wish to model\n",
    "    # acceptance_rule(x,x_new): decides whether to accept or reject the new sample\n",
    "    x = param_init\n",
    "    accepted = []\n",
    "    rejected = []   \n",
    "    for i in range(iterations):\n",
    "        x_new =  transition_model(x)    \n",
    "        x_lik = likelihood_computer(x,data)\n",
    "        x_new_lik = likelihood_computer(x_new,data) \n",
    "        if (acceptance(x_lik + np.log(prior(x)),x_new_lik+np.log(prior(x_new)))):            \n",
    "            x = x_new\n",
    "            accepted.append(x_new)\n",
    "        else:\n",
    "            rejected.append(x_new)            \n",
    "                \n",
    "    return np.array(accepted), np.array(rejected)"
   ]
  },
  {
   "cell_type": "code",
   "execution_count": 3,
   "metadata": {
    "ExecuteTime": {
     "end_time": "2019-12-17T11:24:54.906442Z",
     "start_time": "2019-12-17T11:24:52.097954Z"
    }
   },
   "outputs": [],
   "source": [
    "accepted, rejected = metropolis_hastings(manual_log_like_normal,prior,transition_model,[mu_obs,0.1], 50000,observation,acceptance)\n"
   ]
  },
  {
   "cell_type": "code",
   "execution_count": null,
   "metadata": {},
   "outputs": [],
   "source": []
  }
 ],
 "metadata": {
  "kernelspec": {
   "display_name": "Python 3",
   "language": "python",
   "name": "python3"
  },
  "language_info": {
   "codemirror_mode": {
    "name": "ipython",
    "version": 3
   },
   "file_extension": ".py",
   "mimetype": "text/x-python",
   "name": "python",
   "nbconvert_exporter": "python",
   "pygments_lexer": "ipython3",
   "version": "3.7.3"
  },
  "varInspector": {
   "cols": {
    "lenName": 16,
    "lenType": 16,
    "lenVar": 40
   },
   "kernels_config": {
    "python": {
     "delete_cmd_postfix": "",
     "delete_cmd_prefix": "del ",
     "library": "var_list.py",
     "varRefreshCmd": "print(var_dic_list())"
    },
    "r": {
     "delete_cmd_postfix": ") ",
     "delete_cmd_prefix": "rm(",
     "library": "var_list.r",
     "varRefreshCmd": "cat(var_dic_list()) "
    }
   },
   "types_to_exclude": [
    "module",
    "function",
    "builtin_function_or_method",
    "instance",
    "_Feature"
   ],
   "window_display": false
  }
 },
 "nbformat": 4,
 "nbformat_minor": 2
}
