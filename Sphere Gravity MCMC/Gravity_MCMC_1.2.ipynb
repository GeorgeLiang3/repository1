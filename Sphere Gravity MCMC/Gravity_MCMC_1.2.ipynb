{
 "cells": [
  {
   "cell_type": "markdown",
   "metadata": {},
   "source": [
    "# Inversion of a sphere based on gravity response\n",
    "\n",
    "This is a simple example for the probabilistic inversion of a classical geophysical example: the inversion of a sphere in the subsurface with a different density to the environment based on observed gravity data.\n",
    "\n",
    "We start with the simplest possible case of only one observation (directly above the sphere) and only depth as an uncertain variable and then make the model progressively more complex."
   ]
  },
  {
   "cell_type": "code",
   "execution_count": 18,
   "metadata": {
    "ExecuteTime": {
     "end_time": "2019-10-18T09:31:09.950452Z",
     "start_time": "2019-10-18T09:31:09.943811Z"
    }
   },
   "outputs": [],
   "source": [
    "from scipy.stats import norm\n",
    "import numpy as np\n",
    "import matplotlib.pyplot as plt\n",
    "import tensorflow as tf\n",
    "import tensorflow_probability as tfp\n",
    "from tensorflow_probability import edward2 as ed\n",
    "tfd = tfp.distributions\n",
    "\n",
    "import seaborn as sns\n",
    "import pandas as pd\n",
    "%matplotlib inline\n",
    "\n",
    "tf.reset_default_graph()\n",
    "\n",
    "np.random.seed(111)\n",
    "# tf.set_random_seed(111)\n"
   ]
  },
  {
   "cell_type": "markdown",
   "metadata": {},
   "source": [
    "We now calculate the effect of this density contrast that would be observed on the surface. This is a well-studied example with an analytical solution:\n",
    "\n",
    "$$g(x) = 10^5 \\;\\frac{4}{3} \\,\\pi \\;\\frac{r^3 \\,\\Delta \\rho\\, G\\, z}\n",
    "{\\sqrt{\\left( x^2 + z^2\\right)^3}}$$\n",
    "\n",
    "where:\n",
    "\n",
    "- $z$ is the vertical position of the center of the sphere (lateral position at origin),\n",
    "- $r$ its radius,\n",
    "- $\\Delta \\rho$ the density difference to the surrounding domain,\n",
    "- $G$ the gravitational constant,\n",
    "- and $x$ the position at which the gravitational acceleration is calculated.\n"
   ]
  },
  {
   "cell_type": "code",
   "execution_count": 19,
   "metadata": {
    "ExecuteTime": {
     "end_time": "2019-10-18T09:31:09.956118Z",
     "start_time": "2019-10-18T09:31:09.952341Z"
    }
   },
   "outputs": [],
   "source": [
    "def grav_analytical(x, sphere_center, sphere_radius, density_difference):\n",
    "    \"\"\"Calculate gravitational effect of a sphere, measured at surface\n",
    "    \n",
    "    **Arguments**:\n",
    "    - 'x' = scalar or np.array: position(s) of observation\n",
    "    - 'sphere_center' = float: is the vertical position of the center of the sphere (lateral position at origin)\n",
    "    - 'sphere_radius' = float: sphere radius\n",
    "    - 'density_difference' = float: density difference to the surrounding domain\n",
    "    \"\"\"\n",
    "    G=6.67e-11 # gravitational constant\n",
    "    return ((4/3)*np.pi * (sphere_radius**3) * density_difference\n",
    "            * G * sphere_center/(x**2 + sphere_center**2)**(3/2)) * 1e5\n"
   ]
  },
  {
   "cell_type": "markdown",
   "metadata": {},
   "source": [
    "## Geometric model\n",
    "\n",
    "We consider here a sphere in the subsurface with a different density. \n",
    "\n",
    "spherical point mass"
   ]
  },
  {
   "cell_type": "code",
   "execution_count": 20,
   "metadata": {
    "ExecuteTime": {
     "end_time": "2019-10-18T09:31:09.960891Z",
     "start_time": "2019-10-18T09:31:09.957961Z"
    }
   },
   "outputs": [],
   "source": [
    "#True model\n",
    "\n",
    "sphere_center_true = 300. #m \n",
    "density_difference_true = 500. # kg/m^3: density diffrence to surrounding domain\n",
    "sphere_radius_true = 100. #m\n",
    "\n",
    "truevalue_list = [sphere_center_true,density_difference_true,sphere_radius_true]\n",
    "x_domain=np.linspace(-1000,1000,101) #m"
   ]
  },
  {
   "cell_type": "code",
   "execution_count": 21,
   "metadata": {
    "ExecuteTime": {
     "end_time": "2019-10-18T09:31:09.967045Z",
     "start_time": "2019-10-18T09:31:09.962516Z"
    }
   },
   "outputs": [
    {
     "name": "stderr",
     "output_type": "stream",
     "text": [
      "/Users/zhouji/anaconda3/envs/Bayes/lib/python3.7/site-packages/ipykernel_launcher.py:1: DeprecationWarning: object of type <class 'float'> cannot be safely interpreted as an integer.\n",
      "  \"\"\"Entry point for launching an IPython kernel.\n"
     ]
    }
   ],
   "source": [
    "x_obs = np.linspace(-250., 250., 11.)\n",
    "grav_all = grav_analytical(x_domain, sphere_center_true, sphere_radius_true, density_difference_true)\n",
    "grav_obs_array = grav_analytical(x_obs, sphere_center_true, sphere_radius_true, density_difference_true)\n",
    "noise = norm(0,0.01).rvs(len(grav_obs_array))\n",
    "grav_obs_array_withnoise = grav_obs_array +noise"
   ]
  },
  {
   "cell_type": "code",
   "execution_count": 22,
   "metadata": {
    "ExecuteTime": {
     "end_time": "2019-10-18T09:31:09.971659Z",
     "start_time": "2019-10-18T09:31:09.968408Z"
    }
   },
   "outputs": [
    {
     "data": {
      "text/plain": [
       "array([0.05903379, 0.09325413, 0.12603046, 0.12897358, 0.1410927 ,\n",
       "       0.15062356, 0.14837635, 0.12898567, 0.10370969, 0.07757154,\n",
       "       0.07276111])"
      ]
     },
     "execution_count": 22,
     "metadata": {},
     "output_type": "execute_result"
    }
   ],
   "source": [
    "grav_obs_array_withnoise"
   ]
  },
  {
   "cell_type": "markdown",
   "metadata": {},
   "source": [
    "Calculate the variance of the noise, put the variance in an noise tensor"
   ]
  },
  {
   "cell_type": "code",
   "execution_count": 23,
   "metadata": {
    "ExecuteTime": {
     "end_time": "2019-10-18T09:31:09.979006Z",
     "start_time": "2019-10-18T09:31:09.973082Z"
    }
   },
   "outputs": [],
   "source": [
    "noise_variance = np.std(noise)**2\n",
    "\n",
    "noise_1 = tf.convert_to_tensor([noise_variance],dtype = tf.float32)\n",
    "eye = tf.eye(x_obs.shape[0])\n",
    "noise_tensor = tf.multiply(noise_1,eye)"
   ]
  },
  {
   "cell_type": "code",
   "execution_count": 24,
   "metadata": {
    "ExecuteTime": {
     "end_time": "2019-10-18T09:31:10.125578Z",
     "start_time": "2019-10-18T09:31:09.980320Z"
    }
   },
   "outputs": [
    {
     "data": {
      "text/plain": [
       "Text(0, 0.5, 'Y [m]')"
      ]
     },
     "execution_count": 24,
     "metadata": {},
     "output_type": "execute_result"
    },
    {
     "data": {
      "image/png": "[encoded data removed]",
      "text/plain": [
       "<Figure size 432x288 with 1 Axes>"
      ]
     },
     "metadata": {},
     "output_type": "display_data"
    }
   ],
   "source": [
    "plt.style.use('seaborn-darkgrid')\n",
    "ax = plt.subplot(aspect='equal') \n",
    "\n",
    "# create circle object as matplotlib patch\n",
    "circle1 = plt.Circle((0, -sphere_center_true), sphere_radius_true, \n",
    "                     facecolor='r', edgecolor='k', alpha=0.5)\n",
    "\n",
    "ax.add_artist(circle1)\n",
    "\n",
    "# set model domain\n",
    "ax.set_xlim([-1000,1000])\n",
    "ax.set_ylim([-800,10])\n",
    "\n",
    "ax.set_xlabel(\"X [m]\")\n",
    "ax.set_ylabel(\"Y [m]\")\n"
   ]
  },
  {
   "cell_type": "code",
   "execution_count": 25,
   "metadata": {
    "ExecuteTime": {
     "end_time": "2019-10-18T09:31:10.336321Z",
     "start_time": "2019-10-18T09:31:10.128243Z"
    }
   },
   "outputs": [
    {
     "data": {
      "image/png": "[encoded data removed]",
      "text/plain": [
       "<Figure size 432x288 with 1 Axes>"
      ]
     },
     "metadata": {},
     "output_type": "display_data"
    }
   ],
   "source": [
    "plt.plot(x_domain, grav_all)\n",
    "plt.plot(x_obs, grav_obs_array_withnoise, 'o', label=\"data\")\n",
    "plt.title(\"Gravity response for a sphere of radius 100 m and a depth of 300 m\");"
   ]
  },
  {
   "cell_type": "markdown",
   "metadata": {},
   "source": [
    "### Algorithm Flowing hIPPYlib MCMC http://g2s3.com/labs/notebooks/SubsurfaceBayesian.html"
   ]
  },
  {
   "cell_type": "markdown",
   "metadata": {},
   "source": [
    "Bayes’s Theorem"
   ]
  },
  {
   "cell_type": "markdown",
   "metadata": {},
   "source": [
    "\\begin{equation}\n",
    "d \\mu_{\\mathrm{post}}\\left(m | \\mathbf{d}_{\\mathrm{obs}}\\right) \\propto \\pi_{\\mathrm{like}}\\left(\\mathbf{d}_{\\mathrm{obs}} | \\mathrm{m}\\right) \\mathrm{d} \\mu_{\\mathrm{prior}}(\\mathrm{m})\n",
    "\\end{equation}"
   ]
  },
  {
   "cell_type": "markdown",
   "metadata": {},
   "source": [
    "Define the Prior\n",
    "\\begin{equation}\n",
    "\\mu_{\\text {prior }} \\sim \\mathcal{N}\\left(m_{\\text {prior }}, C_{\\text {prior }}\\right)\n",
    "\\end{equation}"
   ]
  },
  {
   "cell_type": "code",
   "execution_count": 26,
   "metadata": {
    "ExecuteTime": {
     "end_time": "2019-10-18T09:31:10.341716Z",
     "start_time": "2019-10-18T09:31:10.338780Z"
    }
   },
   "outputs": [],
   "source": [
    "# sphere_center, density_difference, sphere_radius\n",
    "\n",
    "mu_prior = [280., 480., 80.]\n",
    "\n",
    "\n",
    "cov = [[ 100,  0.,  0.],\n",
    "        [ 0.,  100, 0.],\n",
    "        [ 0., 0.,  100]]\n"
   ]
  },
  {
   "cell_type": "code",
   "execution_count": 27,
   "metadata": {
    "ExecuteTime": {
     "end_time": "2019-10-18T09:31:10.346035Z",
     "start_time": "2019-10-18T09:31:10.343791Z"
    }
   },
   "outputs": [],
   "source": [
    "xvals =[]\n",
    "norm_list =[]"
   ]
  },
  {
   "cell_type": "code",
   "execution_count": 28,
   "metadata": {
    "ExecuteTime": {
     "end_time": "2019-10-18T09:31:10.821081Z",
     "start_time": "2019-10-18T09:31:10.347613Z"
    }
   },
   "outputs": [
    {
     "data": {
      "image/png": "[encoded data removed]",
      "text/plain": [
       "<Figure size 1224x288 with 3 Axes>"
      ]
     },
     "metadata": {},
     "output_type": "display_data"
    }
   ],
   "source": [
    "for i in range(3):\n",
    "    xvals.append(np.arange(mu_prior[i]-100,mu_prior[i]+100))\n",
    "    norm_list.append(norm.pdf(xvals[i],mu_prior[i],np.sqrt(cov[i][i])))\n",
    "    \n",
    "np.shape(xvals)\n",
    "\n",
    "name_list = [\"sphere_center\", \"density_difference\", \"sphere_radius\"]\n",
    "\n",
    "fig, axes = plt.subplots(1, 3, sharex='col', sharey='col')\n",
    "fig.set_size_inches(17, 4)\n",
    "\n",
    "\n",
    "for i in range(3):\n",
    "    \n",
    "    axes[i].plot(xvals[i], norm_list[i],label=\"prior\")\n",
    "    axes[i].title.set_text(name_list[i])\n",
    "    axes[i].axvline(truevalue_list[i], label=\"true value\", color='k', \n",
    "            linestyle='--', linewidth=2)\n",
    "    axes[i].legend();\n",
    "\n",
    "    "
   ]
  },
  {
   "cell_type": "markdown",
   "metadata": {},
   "source": [
    "Define the Likelihood\n",
    "\\begin{equation}\n",
    "\\mathbf{d}_{\\mathrm{obs}}=\\mathbf{f}(\\mathrm{m})+\\mathbf{e}, \\quad \\mathbf{e} \\sim \\mathcal{N}\\left(\\mathbf{0}, \\mathbf{\\Gamma}_{\\mathrm{noise}}\\right)\n",
    "\\end{equation}\n",
    "\\begin{equation}\n",
    "\\pi_{\\text {like }}\\left(\\mathbf{d}_{\\text {obs }} | \\mathrm{m}\\right)=\\exp \\left(-\\frac{1}{2}\\left\\|\\mathbf{f}(\\mathrm{m})-\\mathbf{d}_{\\text {obs }}\\right\\|_{\\Gamma_{\\text {noise }}^{-1}}^{2}\\right)\n",
    "\\end{equation}"
   ]
  },
  {
   "cell_type": "code",
   "execution_count": 29,
   "metadata": {
    "ExecuteTime": {
     "end_time": "2019-10-18T09:31:10.827620Z",
     "start_time": "2019-10-18T09:31:10.823013Z"
    }
   },
   "outputs": [],
   "source": [
    "mu_prior = tf.convert_to_tensor(mu_prior)\n",
    "cov = tf.convert_to_tensor(cov)\n"
   ]
  },
  {
   "cell_type": "code",
   "execution_count": 30,
   "metadata": {
    "ExecuteTime": {
     "end_time": "2019-10-18T09:31:10.833739Z",
     "start_time": "2019-10-18T09:31:10.829418Z"
    }
   },
   "outputs": [],
   "source": [
    "# Defind f(m). Here f is the parameter-to-observable map that takes a \n",
    "# parameter m and maps it to the space observation vector dobs.\n",
    "\n",
    "def grav_analytical_tf(x, mu, cov,sess):\n",
    "    # [sphere_center, density_difference, sphere_radius]\n",
    "\n",
    "    mvn = ed.MultivariateNormalFullCovariance(\n",
    "            loc = mu,\n",
    "            covariance_matrix= cov)\n",
    "    G=6.67e-11\n",
    "    sphere_center = mvn.__getitem__(0)\n",
    "    density_difference = mvn.__getitem__(1)\n",
    "    sphere_radius = mvn.__getitem__(2)\n",
    "    \n",
    "    \n",
    "    gravity = ((4/3)*np.pi * (sphere_radius**3) * density_difference* G \n",
    "               * sphere_center/(x**2 + sphere_center**2)**(3/2)) * 1e5 \n",
    "    \n",
    "#     print(sess.run(mvn))\n",
    "    \n",
    "\n",
    "    return gravity\n",
    "\n"
   ]
  },
  {
   "cell_type": "markdown",
   "metadata": {},
   "source": [
    "### Gradient decent to find MAP (?)"
   ]
  },
  {
   "cell_type": "code",
   "execution_count": 31,
   "metadata": {
    "ExecuteTime": {
     "end_time": "2019-10-18T09:31:10.839699Z",
     "start_time": "2019-10-18T09:31:10.835571Z"
    }
   },
   "outputs": [],
   "source": [
    "## function compute G^T C^-1 G\n",
    "\n",
    "\n",
    "def matrixcompute(matrix1,matrix2,Cov):\n",
    "    matrix = tf.subtract(matrix1, matrix2)\n",
    "    matrix = tf.reshape(matrix,[matrix.shape[0],1])\n",
    "    matrix_T = tf.transpose(matrix)\n",
    "    Cov_inv = tf.linalg.inv(Cov)\n",
    "    result = tf.multiply(tf.constant(1/2),tf.matmul(tf.matmul(matrix_T,Cov_inv),matrix))\n",
    "    return result"
   ]
  },
  {
   "cell_type": "markdown",
   "metadata": {},
   "source": [
    "\\begin{equation}\n",
    "\\pi_{\\text {like }}\\left(\\mathbf{d}_{\\text {obs }} | \\mathrm{m}\\right)=\\exp \\left(-\\frac{1}{2}\\left\\|\\mathbf{f}(\\mathrm{m})-\\mathbf{d}_{\\text {obs }}\\right\\|_{\\Gamma_{\\text {noise }}^{-1}}^{2}\\right)\n",
    "\\end{equation}"
   ]
  },
  {
   "cell_type": "markdown",
   "metadata": {},
   "source": [
    "#### The posterior\n",
    "\n",
    "\n",
    "\\begin{equation}\n",
    "d \\mu_{\\mathrm{post}}\\left(m | \\mathbf{d}_{\\mathrm{obs}}\\right) \\propto \\exp \\left(-\\frac{1}{2}\\left\\|\\mathbf{f}(\\mathrm{m})-\\mathbf{d}_{\\mathrm{obs}}\\right\\|_{\\mathrm{\\Gamma}_{\\mathrm{noise}}^{-1}}^{2}-\\frac{1}{2}\\left\\|\\mathrm{m}-\\mathrm{m}_{\\mathrm{prior}}\\right\\|_{C_{\\mathrm{prior}}^{-1}}^{2}\\right)\n",
    "\\end{equation}"
   ]
  },
  {
   "cell_type": "markdown",
   "metadata": {},
   "source": [
    "#### negative log of the posterior\n",
    "\\begin{equation}\n",
    "\\left(\\frac{1}{2}\\left\\|\\mathbf{f}(\\mathrm{m})-\\mathbf{d}_{\\mathrm{obs}}\\right\\|_{\\mathrm{\\Gamma}_{\\mathrm{noise}}^{-1}}^{2}+\\frac{1}{2}\\left\\|\\mathrm{m}-\\mathrm{m}_{\\mathrm{prior}}\\right\\|_{C_{\\mathrm{prior}}^{-1}}^{2}\\right)\n",
    "\\end{equation}\n"
   ]
  },
  {
   "cell_type": "markdown",
   "metadata": {},
   "source": [
    "term 1 = \n",
    "\\begin{equation}\n",
    "\\frac{1}{2}\\left\\|\\mathbf{f}(\\mathrm{m})-\\mathbf{d}_{\\text {obs }}\\right\\|_{\\Gamma_{\\text {noise }}^{-1}}^{2}\n",
    "\\end{equation}"
   ]
  },
  {
   "cell_type": "markdown",
   "metadata": {},
   "source": [
    "term 2 =\n",
    "\\begin{equation}\n",
    "\\frac{1}{2}\\left\\|\\mathrm{m}-\\mathrm{m}_{\\mathrm{prior}}\\right\\|_{C_{\\mathrm{prior}}^{-1}}^{2}\n",
    "\\end{equation}\n"
   ]
  },
  {
   "cell_type": "code",
   "execution_count": 32,
   "metadata": {
    "ExecuteTime": {
     "end_time": "2019-10-18T09:31:10.847580Z",
     "start_time": "2019-10-18T09:31:10.841118Z"
    }
   },
   "outputs": [],
   "source": [
    "#     print(sess.run(tf.get_collection(tf.GraphKeys.TRAINABLE_VARIABLES)))\n",
    "\n",
    "## initial guess\n",
    "\n",
    "mu = tf.get_variable(\"mu\", dtype=tf.float32,\n",
    "  initializer=tf.constant([200., 400., 50.]))\n"
   ]
  },
  {
   "cell_type": "code",
   "execution_count": 33,
   "metadata": {
    "ExecuteTime": {
     "end_time": "2019-10-18T09:31:10.853160Z",
     "start_time": "2019-10-18T09:31:10.849622Z"
    }
   },
   "outputs": [],
   "source": [
    "def grav_analytical_tf_det(x, mu, cov,sess):\n",
    "    # [sphere_center, density_difference, sphere_radius]\n",
    "\n",
    "    G=6.67e-11\n",
    "    sphere_center = mu[0]\n",
    "    density_difference = mu[1]\n",
    "    sphere_radius = mu[2]\n",
    "    \n",
    "    gravity = ((4/3)*np.pi * (sphere_radius**3) * density_difference* G \n",
    "               * sphere_center/(x**2 + sphere_center**2)**(3/2)) * 1e5 \n",
    "    \n",
    "\n",
    "    \n",
    "\n",
    "    return gravity"
   ]
  },
  {
   "cell_type": "code",
   "execution_count": 34,
   "metadata": {
    "ExecuteTime": {
     "end_time": "2019-10-18T09:31:31.784831Z",
     "start_time": "2019-10-18T09:31:10.854865Z"
    }
   },
   "outputs": [
    {
     "name": "stderr",
     "output_type": "stream",
     "text": [
      "WARNING: Logging before flag parsing goes to stderr.\n",
      "W1018 11:31:10.963360 4597478848 deprecation.py:323] From /Users/zhouji/anaconda3/envs/Bayes/lib/python3.7/site-packages/tensorflow/python/ops/math_grad.py:1205: add_dispatch_support.<locals>.wrapper (from tensorflow.python.ops.array_ops) is deprecated and will be removed in a future version.\n",
      "Instructions for updating:\n",
      "Use tf.where in 2.0, which has the same broadcast rule as np.where\n"
     ]
    },
    {
     "name": "stdout",
     "output_type": "stream",
     "text": [
      "starting at mu: [200. 400.  50.] negative log likelihood: [[962.8329]]\n",
      "step 0 mu: [199.77829  400.1845    52.538498] gradient: [array([  2.5568137,  -1.9640026, -26.915321 ], dtype=float32)]\n",
      "negative log likelihood: [[895.5309]]\n",
      "step 100 mu: [210.94853 409.64413  87.52889] gradient: [array([-1.4991555 , -0.7294161 , -0.28775737], dtype=float32)]\n",
      "negative log likelihood: [[84.21236]]\n",
      "step 200 mu: [224.12827 416.56848  89.96486] gradient: [array([-1.1553042 , -0.6562502 , -0.20505103], dtype=float32)]\n",
      "negative log likelihood: [[61.37167]]\n",
      "step 300 mu: [234.42218 422.8037   91.73265] gradient: [array([-0.91418684, -0.5914052 , -0.15150729], dtype=float32)]\n",
      "negative log likelihood: [[46.53547]]\n",
      "step 400 mu: [242.6432  428.42575  93.05482] gradient: [array([-0.7367188 , -0.5334984 , -0.11469726], dtype=float32)]\n",
      "negative log likelihood: [[36.420395]]\n",
      "step 500 mu: [249.31224 433.499    94.06422] gradient: [array([-0.601555 , -0.4815693, -0.0882998], dtype=float32)]\n",
      "negative log likelihood: [[29.284992]]\n",
      "step 600 mu: [254.78456  438.07944   94.845985] gradient: [array([-0.49600178, -0.43488625, -0.06881981], dtype=float32)]\n",
      "negative log likelihood: [[24.123821]]\n",
      "step 700 mu: [259.3136  442.2165   95.45761] gradient: [array([-0.41203582, -0.39284548, -0.05403528], dtype=float32)]\n",
      "negative log likelihood: [[20.318966]]\n",
      "step 800 mu: [263.08667 445.95413  95.93942] gradient: [array([-0.34427163, -0.35494965, -0.04268053], dtype=float32)]\n",
      "negative log likelihood: [[17.472013]]\n",
      "step 900 mu: [266.24643 449.33148  96.32071] gradient: [array([-0.288966  , -0.32076672, -0.0338621 ], dtype=float32)]\n",
      "negative log likelihood: [[15.316265]]\n",
      "step 1000 mu: [268.90353 452.38358  96.62326] gradient: [array([-0.24344712, -0.2899117 , -0.02686128], dtype=float32)]\n",
      "negative log likelihood: [[13.668026]]\n",
      "step 1100 mu: [271.1454   455.1424    96.863495] gradient: [array([-0.20570683, -0.2620513 , -0.02131799], dtype=float32)]\n",
      "negative log likelihood: [[12.397501]]\n",
      "step 1200 mu: [273.04193  457.63623   97.054085] gradient: [array([-0.17423746, -0.23688936, -0.0169148 ], dtype=float32)]\n",
      "negative log likelihood: [[11.411503]]\n",
      "step 1300 mu: [274.64996  459.89066   97.204956] gradient: [array([-0.14788376, -0.21415614, -0.01335496], dtype=float32)]\n",
      "negative log likelihood: [[10.64184]]\n",
      "step 1400 mu: [276.01596 461.92892  97.32389] gradient: [array([-0.12572132, -0.19361527, -0.01050755], dtype=float32)]\n",
      "negative log likelihood: [[10.038001]]\n",
      "step 1500 mu: [277.178   463.77164  97.41709] gradient: [array([-0.10703251, -0.1750527 , -0.00819758], dtype=float32)]\n",
      "negative log likelihood: [[9.562235]]\n",
      "step 1600 mu: [278.16797 465.4377   97.48954] gradient: [array([-0.09122534, -0.15827653, -0.00633916], dtype=float32)]\n",
      "negative log likelihood: [[9.185905]]\n",
      "step 1700 mu: [279.01205  466.94415   97.545204] gradient: [array([-0.07783128, -0.14311278, -0.00483836], dtype=float32)]\n",
      "negative log likelihood: [[8.887243]]\n",
      "step 1800 mu: [279.7325  468.30624  97.58734] gradient: [array([-0.06646003, -0.12940553, -0.00362213], dtype=float32)]\n",
      "negative log likelihood: [[8.64949]]\n",
      "step 1900 mu: [280.3479   469.53793   97.618576] gradient: [array([-0.05678902, -0.1170143 , -0.00265157], dtype=float32)]\n",
      "negative log likelihood: [[8.459715]]\n",
      "step 2000 mu: [280.8739  470.6517   97.64105] gradient: [array([-0.04855552, -0.1058116 , -0.00186974], dtype=float32)]\n",
      "negative log likelihood: [[8.307873]]\n",
      "step 2100 mu: [281.3238   471.65872   97.656525] gradient: [array([-0.04153467, -0.09568522, -0.00125396], dtype=float32)]\n",
      "negative log likelihood: [[8.186128]]\n",
      "step 2200 mu: [281.70868 472.5695   97.66639] gradient: [array([-0.03554783, -0.08652747, -0.00075385], dtype=float32)]\n",
      "negative log likelihood: [[8.088307]]\n",
      "step 2300 mu: [282.03812 473.3931   97.67184] gradient: [array([-0.03043779, -0.07824676, -0.00034976], dtype=float32)]\n",
      "negative log likelihood: [[8.0095825]]\n",
      "step 2400 mu: [282.32025 474.13797  97.6738 ] gradient: [array([-2.6064804e-02, -7.0761003e-02, -6.5892935e-05], dtype=float32)]\n",
      "negative log likelihood: [[7.946116]]\n",
      "step 2500 mu: [282.56192 474.81152  97.67308] gradient: [array([-0.02233057, -0.06399107,  0.00017613], dtype=float32)]\n",
      "negative log likelihood: [[7.894884]]\n",
      "step 2600 mu: [282.76895 475.4206   97.67029] gradient: [array([-0.0191371 , -0.05787003,  0.00035974], dtype=float32)]\n",
      "negative log likelihood: [[7.853483]]\n",
      "step 2700 mu: [282.9464   475.97144   97.665955] gradient: [array([-0.01640438, -0.05233436,  0.00050262], dtype=float32)]\n",
      "negative log likelihood: [[7.819973]]\n",
      "step 2800 mu: [283.0985  476.46957  97.66048] gradient: [array([-0.01406125, -0.04733033,  0.00058496], dtype=float32)]\n",
      "negative log likelihood: [[7.79283]]\n",
      "step 2900 mu: [283.22897  476.9201    97.654205] gradient: [array([-0.01205401, -0.04280481,  0.00064059], dtype=float32)]\n",
      "negative log likelihood: [[7.770817]]\n",
      "step 3000 mu: [283.34073 477.32755  97.6474 ] gradient: [array([-0.01034391, -0.03870975,  0.00071304], dtype=float32)]\n",
      "negative log likelihood: [[7.7529554]]\n",
      "step 3100 mu: [283.43668 477.696    97.64029] gradient: [array([-0.00887119, -0.03500879,  0.00073217], dtype=float32)]\n",
      "negative log likelihood: [[7.7384467]]\n",
      "step 3200 mu: [283.51892 478.02924  97.63302] gradient: [array([-0.00760889, -0.03166253,  0.00073013], dtype=float32)]\n",
      "negative log likelihood: [[7.72666]]\n",
      "step 3300 mu: [283.58957 478.3306   97.62576] gradient: [array([-0.00652899, -0.02863502,  0.00073811], dtype=float32)]\n",
      "negative log likelihood: [[7.7170653]]\n",
      "step 3400 mu: [283.65012 478.60315  97.61858] gradient: [array([-0.00560491, -0.02589697,  0.0007377 ], dtype=float32)]\n",
      "negative log likelihood: [[7.709265]]\n",
      "step 3500 mu: [283.70203 478.8497   97.61155] gradient: [array([-0.00480736, -0.02342239,  0.00069761], dtype=float32)]\n",
      "negative log likelihood: [[7.702907]]\n",
      "step 3600 mu: [283.74667 479.0727   97.60475] gradient: [array([-0.00411882, -0.02118539,  0.00064   ], dtype=float32)]\n",
      "negative log likelihood: [[7.697731]]\n",
      "step 3700 mu: [283.78485  479.2743    97.598236] gradient: [array([-0.00354007, -0.0191595 ,  0.00063525], dtype=float32)]\n",
      "negative log likelihood: [[7.693515]]\n",
      "step 3800 mu: [283.8175  479.45667  97.59198] gradient: [array([-0.00304318, -0.01732779,  0.00061236], dtype=float32)]\n",
      "negative log likelihood: [[7.690072]]\n",
      "step 3900 mu: [283.8459  479.62164  97.5861 ] gradient: [array([-0.00260769, -0.01567236,  0.00056595], dtype=float32)]\n",
      "negative log likelihood: [[7.6872683]]\n"
     ]
    }
   ],
   "source": [
    "init = tf.global_variables_initializer()\n",
    "cost = []\n",
    "with tf.Session() as session:\n",
    "    session.run(init)\n",
    "    grav = grav_analytical_tf_det(x_obs,mu, cov, session)\n",
    "    term_1 = matrixcompute(grav,grav_obs_array_withnoise,noise_tensor)\n",
    "    term_2 = matrixcompute(mu,mu_prior,cov)\n",
    "    Negtive_log_likelihood = tf.add(term_1,term_2)\n",
    "    \n",
    "    \n",
    "    optimizer = tf.train.GradientDescentOptimizer(0.1)\n",
    "    train = optimizer.minimize(Negtive_log_likelihood,var_list =mu)\n",
    "    log_tem = session.run(Negtive_log_likelihood) \n",
    "    \n",
    "    \n",
    "    print(\"starting at\", \"mu:\", session.run(mu), \"negative log likelihood:\", session.run(Negtive_log_likelihood))\n",
    "    for step in range(4000):  \n",
    "        session.run(train)\n",
    "        if step%100 == 0:print(\"step\", step, \"mu:\", session.run(mu),\"gradient:\", session.run(tf.gradients(Negtive_log_likelihood,mu)))\n",
    "        log_tem_new = session.run(Negtive_log_likelihood)\n",
    "       ## Find and save MAP point \n",
    "        cost.append(log_tem_new[[0]])\n",
    "        if step%100 == 0:print(\"negative log likelihood:\",log_tem_new )\n",
    "            \n",
    "    MAP = session.run(mu)"
   ]
  },
  {
   "cell_type": "code",
   "execution_count": 35,
   "metadata": {
    "ExecuteTime": {
     "end_time": "2019-10-18T09:31:31.793814Z",
     "start_time": "2019-10-18T09:31:31.786937Z"
    }
   },
   "outputs": [],
   "source": [
    "cost = np.reshape(cost,[4000])"
   ]
  },
  {
   "cell_type": "code",
   "execution_count": 36,
   "metadata": {
    "ExecuteTime": {
     "end_time": "2019-10-18T09:31:31.943923Z",
     "start_time": "2019-10-18T09:31:31.796167Z"
    }
   },
   "outputs": [
    {
     "data": {
      "text/plain": [
       "[<matplotlib.lines.Line2D at 0x1a402cdcf8>]"
      ]
     },
     "execution_count": 36,
     "metadata": {},
     "output_type": "execute_result"
    },
    {
     "data": {
      "image/png": "[encoded data removed]",
      "text/plain": [
       "<Figure size 432x288 with 1 Axes>"
      ]
     },
     "metadata": {},
     "output_type": "display_data"
    }
   ],
   "source": [
    "x = np.linspace(1,4000,4000)\n",
    "plt.plot(x,cost)"
   ]
  },
  {
   "cell_type": "markdown",
   "metadata": {},
   "source": [
    "\n",
    "\n",
    "Alternative Solution:\n",
    "* Globalized Newtown-CG method as in hIPPYlib"
   ]
  },
  {
   "cell_type": "markdown",
   "metadata": {},
   "source": [
    "## MCMC"
   ]
  },
  {
   "cell_type": "code",
   "execution_count": 37,
   "metadata": {
    "ExecuteTime": {
     "end_time": "2019-10-18T09:31:32.215693Z",
     "start_time": "2019-10-18T09:31:31.945553Z"
    }
   },
   "outputs": [
    {
     "name": "stdout",
     "output_type": "stream",
     "text": [
      "[283.86972 479.7694   97.58056]\n"
     ]
    }
   ],
   "source": [
    "# MAP = [300., 500., 100.]\n",
    "MAP = tf.convert_to_tensor(MAP)\n",
    "\n",
    "with tf.Session() as sess:\n",
    "\n",
    "    print(sess.run(MAP))\n"
   ]
  },
  {
   "cell_type": "code",
   "execution_count": 38,
   "metadata": {
    "ExecuteTime": {
     "end_time": "2019-10-18T09:31:32.222536Z",
     "start_time": "2019-10-18T09:31:32.217196Z"
    }
   },
   "outputs": [],
   "source": [
    "def compute_hessian(fn, vars):\n",
    "    mat = []\n",
    "    for v1 in vars:\n",
    "        temp = []\n",
    "        for v2 in vars:\n",
    "            # computing derivative twice, first w.r.t v2 and then w.r.t v1\n",
    "            temp.append(tf.gradients(tf.gradients(fn, v2)[0], v1)[0])\n",
    "        temp = [cons(0) if t == None else t for t in temp] # tensorflow returns None when there is no gradient, so we replace None with 0\n",
    "        temp = tf.stack(temp)\n",
    "        mat.append(temp)\n",
    "    mat = tf.stack(mat)\n",
    "    return mat\n",
    "def cons(x):\n",
    "    return tf.constant(x, dtype=tf.float32)"
   ]
  },
  {
   "cell_type": "markdown",
   "metadata": {},
   "source": [
    "### Forward model in TensorFlow\n",
    "\n",
    "* Calculate Hessian\n",
    "* Variable defined in Edward multivariate Normal object"
   ]
  },
  {
   "cell_type": "code",
   "execution_count": 39,
   "metadata": {
    "ExecuteTime": {
     "end_time": "2019-10-18T09:31:32.231417Z",
     "start_time": "2019-10-18T09:31:32.226678Z"
    }
   },
   "outputs": [],
   "source": [
    "def grav_analytical_tf(x, mu, cov, hess = False):\n",
    "    # [sphere_center, density_difference, sphere_radius]\n",
    "\n",
    "    mvn = ed.MultivariateNormalFullCovariance(\n",
    "            loc = mu,\n",
    "            covariance_matrix= cov)\n",
    "    G=6.67e-11\n",
    "    sphere_center = mvn.__getitem__(0)\n",
    "    density_difference = mvn.__getitem__(1)\n",
    "    sphere_radius = mvn.__getitem__(2)\n",
    "    \n",
    "    gravity = ((4/3)*np.pi * (sphere_radius**3) * density_difference* G \n",
    "           * sphere_center/(x**2 + sphere_center**2)**(3/2)) * 1e5 \n",
    "\n",
    "    if hess == True:\n",
    "        hess = compute_hessian(gravity,[sphere_center,density_difference,sphere_radius])\n",
    "        return gravity, hess\n",
    "    return gravity\n"
   ]
  },
  {
   "cell_type": "markdown",
   "metadata": {},
   "source": [
    "#### Compute the Hessian and Covariance of the Posterior at MAP"
   ]
  },
  {
   "cell_type": "markdown",
   "metadata": {},
   "source": [
    "\\begin{equation}\n",
    "\\mathcal{C}_{\\mathrm{post}}=\\left(\\mathcal{H}_{\\mathrm{misfit}}\\left(m_{\\nu}\\right)+\\mathcal{C}_{\\mathrm{prior}}^{-1}\\right)^{-1}\n",
    "\\end{equation}"
   ]
  },
  {
   "cell_type": "code",
   "execution_count": 40,
   "metadata": {
    "ExecuteTime": {
     "end_time": "2019-10-18T09:31:33.216956Z",
     "start_time": "2019-10-18T09:31:32.234480Z"
    }
   },
   "outputs": [],
   "source": [
    "grav, hess = grav_analytical_tf(x_obs, MAP, cov, hess = True)\n"
   ]
  },
  {
   "cell_type": "code",
   "execution_count": 41,
   "metadata": {
    "ExecuteTime": {
     "end_time": "2019-10-18T09:31:33.224229Z",
     "start_time": "2019-10-18T09:31:33.218686Z"
    }
   },
   "outputs": [],
   "source": [
    "Matrix_tem = tf.add(hess, tf.linalg.inv(cov))\n",
    "\n",
    "C_post = tf.linalg.inv(Matrix_tem)"
   ]
  },
  {
   "cell_type": "code",
   "execution_count": 42,
   "metadata": {
    "ExecuteTime": {
     "end_time": "2019-10-18T09:31:34.605287Z",
     "start_time": "2019-10-18T09:31:33.226083Z"
    }
   },
   "outputs": [
    {
     "name": "stdout",
     "output_type": "stream",
     "text": [
      "hessian matrix at MAP: \n",
      " [[ 5.4831660e-05 -1.4050618e-05 -2.1673014e-04]\n",
      " [-1.4050614e-05  0.0000000e+00  8.0128564e-05]\n",
      " [-2.1673014e-04  8.0128564e-05  8.2398643e-04]]\n",
      "Covariance of the Prior: \n",
      " [[100.   0.   0.]\n",
      " [  0. 100.   0.]\n",
      " [  0.   0. 100.]]\n",
      "Covariance of the Posterior: \n",
      " [[ 99.61377      0.10235681   1.640053  ]\n",
      " [  0.10235681 100.00465     -0.6493909 ]\n",
      " [  1.6400534   -0.6493909   93.323784  ]]\n"
     ]
    }
   ],
   "source": [
    "with tf.Session() as session:\n",
    "    print('hessian matrix at MAP: \\n', session.run(hess))\n",
    "    print('Covariance of the Prior: \\n',session.run(cov))\n",
    "    print('Covariance of the Posterior: \\n',session.run(C_post))"
   ]
  },
  {
   "cell_type": "markdown",
   "metadata": {
    "ExecuteTime": {
     "end_time": "2019-09-18T13:26:07.197102Z",
     "start_time": "2019-09-18T13:26:07.192383Z"
    }
   },
   "source": [
    "#### define whether to accept or reject the new sample\n",
    "\\begin{equation}\n",
    "\\Phi\\left(m, \\mathbf{d}_{\\mathrm{obs}}\\right)=\\frac{1}{2}\\left\\|\\mathbf{f}(\\mathrm{m})-\\mathbf{d}_{\\mathrm{obs}}\\right\\|_{\\Gamma_{\\mathrm{noise}}^{-1}}\n",
    "\\end{equation}\n",
    "\n",
    "\\begin{equation}\n",
    "a\\left(m_{\\text {current }}, m_{\\text {proposed }}\\right) :=\\min \\left\\{1, \\exp \\left(\\Phi\\left(m_{\\text {current }}, \\mathbf{d}_{\\text {obs }}\\right)-\\Phi\\left(\\mathrm{m}_{\\text {proposed }}, \\mathbf{d}_{\\text {obs }}\\right)\\right)\\right\\}\n",
    "\\end{equation}"
   ]
  },
  {
   "cell_type": "markdown",
   "metadata": {},
   "source": [
    "### preconditioned Crank-Nicolson proposal"
   ]
  },
  {
   "cell_type": "code",
   "execution_count": 43,
   "metadata": {
    "ExecuteTime": {
     "end_time": "2019-10-18T09:31:34.613518Z",
     "start_time": "2019-10-18T09:31:34.607486Z"
    }
   },
   "outputs": [],
   "source": [
    "\n",
    "@tf.function\n",
    "def acceptance_pCN(m_current , m_proposed):\n",
    "    \n",
    "    grav_current = grav_analytical_tf(x_obs,m_current, cov)\n",
    "    phi_current = matrixcompute(grav_current,grav_obs_array_withnoise,noise_tensor)\n",
    "\n",
    "    grav_proposed = grav_analytical_tf(x_obs,m_proposed, cov)\n",
    "    phi_proposed = matrixcompute(grav_proposed,grav_obs_array_withnoise,noise_tensor)\n",
    "\n",
    "\n",
    "    ## calculate accept ratio if exp()<1\n",
    "    accept_ratio = tf.exp(tf.subtract(phi_current,phi_proposed))\n",
    "    acceptsample = tfd.Sample(\n",
    "    tfd.Uniform(0., 1.),\n",
    "    sample_shape=[1,1])\n",
    "    sample = acceptsample.sample()\n",
    "    \n",
    "    ## greater : further away from the observation = less possible to accept\n",
    "    then_expression = tf.greater_equal( phi_current,phi_proposed)\n",
    "    else_expression = tf.greater(accept_ratio, sample)\n",
    "    \n",
    "    \n",
    "    condition = tf.reshape(tf.greater_equal( phi_current,phi_proposed),())\n",
    "    \n",
    "    \n",
    "    x = tf.cond(condition ,\n",
    "               lambda: then_expression,\n",
    "               lambda: else_expression)\n",
    "    \n",
    "    x = tf.reshape(x,())\n",
    "    return x\n",
    "        \n",
    "\n"
   ]
  },
  {
   "cell_type": "markdown",
   "metadata": {},
   "source": [
    "#### gpCN"
   ]
  },
  {
   "cell_type": "markdown",
   "metadata": {},
   "source": [
    "gpCN is a generalized version of the pCN sampler. While the proposals of pCN are drown from the prior Gaussian distribution $\\mu_{prior}$,proposals in the generalized pCN are drown from a Gaussian approximation $v$ of the posterior distribution.\n",
    "\n",
    "\\begin{equation}\n",
    "a_{\\nu}\\left(m_{\\mathrm{current}}, m_{\\mathrm{proposed}}\\right) :=\\min \\left\\{1, \\exp \\left(\\Delta\\left(m_{\\mathrm{current}}\\right)-\\Delta\\left(m_{\\mathrm{proposed}}\\right)\\right)\\right\\}\n",
    "\\end{equation}\n",
    "\n",
    "where   \n",
    "\n",
    "\\begin{equation}\n",
    "\\Delta(m)=\\Phi\\left(m, \\mathbf{d}_{\\mathrm{obs}}\\right)+\\frac{1}{2}\\left\\|\\mathrm{m}-\\mathrm{m}_{\\mathrm{prior}}\\right\\|_{C_{\\mathrm{prior}}^{-1}}^{2}-\\frac{1}{2}\\left\\|\\mathrm{m}-\\mathrm{m}_{\\nu}\\right\\|_{\\mathrm{C}_{\\nu}^{-1}}^{2}\n",
    "\\end{equation}"
   ]
  },
  {
   "cell_type": "code",
   "execution_count": 44,
   "metadata": {
    "ExecuteTime": {
     "end_time": "2019-10-18T09:31:34.625385Z",
     "start_time": "2019-10-18T09:31:34.615381Z"
    }
   },
   "outputs": [],
   "source": [
    "\n",
    "@tf.function\n",
    "def acceptance_gpCN(m_current , m_proposed):\n",
    "    \n",
    "    grav_current = grav_analytical_tf(x_obs,m_current, cov)\n",
    "    phi_current = matrixcompute(grav_current,grav_obs_array_withnoise,noise_tensor)\n",
    "    # assign a name\n",
    "    phi_current = tf.identity(phi_current, name=\"phi_current\")\n",
    "    \n",
    "    grav_proposed = grav_analytical_tf(x_obs,m_proposed, cov)\n",
    "    phi_proposed = matrixcompute(grav_proposed,grav_obs_array_withnoise,noise_tensor)\n",
    "    # assign a name\n",
    "    phi_proposed = tf.identity(phi_proposed, name=\"phi_proposed\")\n",
    "\n",
    "    t2_current = matrixcompute(m_current,mu_prior,cov)\n",
    "    t3_current = matrixcompute(m_current,MAP,C_post)\n",
    "\n",
    "    t2_proposed = matrixcompute(m_proposed,mu_prior,cov)\n",
    "    t3_proposed = matrixcompute(m_proposed,MAP,C_post)\n",
    "\n",
    "    delta_current = tf.subtract(tf.add(phi_current,t2_current ),t3_current)\n",
    "    delta_proposed = tf.subtract(tf.add(phi_proposed,t2_proposed ),t3_proposed)\n",
    "\n",
    "    ## calculate accept ratio if exp()<1\n",
    "    accept_ratio = tf.exp(tf.subtract(delta_current,delta_proposed))\n",
    "    acceptsample = tfd.Sample(\n",
    "    tfd.Uniform(0., 1.),\n",
    "    sample_shape=[1,1])\n",
    "    sample = acceptsample.sample()\n",
    "    \n",
    "    \n",
    "    ## greater : further away from the observation = less possible to accept\n",
    "    then_expression = tf.greater_equal( delta_current,delta_proposed)\n",
    "    else_expression = tf.greater(accept_ratio, sample,name = 'shit')\n",
    "    \n",
    "    condition = tf.reshape(tf.greater_equal( delta_current,delta_proposed)[0],())\n",
    "    \n",
    "\n",
    "    x = tf.cond(condition ,\n",
    "               lambda: then_expression,\n",
    "               lambda: else_expression)\n",
    "    \n",
    "    x = tf.reshape(x,())\n",
    "    return x\n",
    "        "
   ]
  },
  {
   "cell_type": "markdown",
   "metadata": {},
   "source": [
    "#### Proposal"
   ]
  },
  {
   "cell_type": "markdown",
   "metadata": {
    "ExecuteTime": {
     "end_time": "2019-09-19T15:46:24.359565Z",
     "start_time": "2019-09-19T15:46:24.355527Z"
    }
   },
   "source": [
    "\\begin{equation}\n",
    "v^{(k)}=m_{\\nu}+\\sqrt{1-\\beta^{2}}\\left(m^{(k)}-m_{\\nu}\\right)+\\beta \\xi^{(k)}, \\quad \\xi^{(k)} \\sim \\mathcal{N}\\left(0, \\mathcal{C}_{\\nu}\\right)\n",
    "\\end{equation}"
   ]
  },
  {
   "cell_type": "code",
   "execution_count": 45,
   "metadata": {
    "ExecuteTime": {
     "end_time": "2019-10-18T09:31:34.632029Z",
     "start_time": "2019-10-18T09:31:34.627253Z"
    }
   },
   "outputs": [],
   "source": [
    "from IPython.display import clear_output\n",
    "# define leaning rate\n",
    "beta = 0.6\n",
    "\n",
    "@tf.function\n",
    "def draw_proposal(m_current):\n",
    "    \n",
    "    _term1 = MAP\n",
    "    \n",
    "    ## sqrt term\n",
    "    tem_1 = tf.convert_to_tensor(np.sqrt(1-beta**2),dtype = tf.float32)\n",
    "    ## sqrt(1-beta^2)()\n",
    "    _term2 = tf.multiply(tem_1,(tf.subtract(m_current,MAP)))\n",
    "    \n",
    "    Xi = tfd.MultivariateNormalFullCovariance(\n",
    "            loc = 0,\n",
    "            covariance_matrix= C_post)\n",
    "\n",
    "    Xi_s = tfd.Sample(Xi)\n",
    "    _term3 = tf.multiply(beta,Xi_s.sample())\n",
    "    \n",
    "    m_proposed = tf.add(MAP,tf.add(_term2,_term3))\n",
    "    \n",
    "    return m_proposed\n",
    "    \n",
    "\n",
    "    "
   ]
  },
  {
   "cell_type": "markdown",
   "metadata": {},
   "source": [
    "### Chain"
   ]
  },
  {
   "cell_type": "code",
   "execution_count": 55,
   "metadata": {
    "ExecuteTime": {
     "end_time": "2019-10-18T10:07:01.416298Z",
     "start_time": "2019-10-18T10:07:01.410568Z"
    }
   },
   "outputs": [],
   "source": [
    "def run_chain(sess):\n",
    "    burn_in = 100\n",
    "    steps = 1000\n",
    "    k = 0\n",
    "    accepted = []\n",
    "    rejected = []\n",
    "\n",
    "    m_current = mu  # init m\n",
    "    \n",
    "    \n",
    "    for k in range(steps+burn_in):\n",
    "\n",
    "        m_proposed = draw_proposal(m_current)\n",
    "        \n",
    "        if k%20 == 0: \n",
    "            clear_output();\n",
    "            print(k, \"finised\")\n",
    "        \n",
    "## Check each proposal\n",
    "#         print(sess.run(m_current))\n",
    "#         print(sess.run(m_proposed))\n",
    "#         print(sess.run(acceptance_gpCN(m_current,m_proposed)))\n",
    "        if sess.run(acceptance_gpCN(m_current,m_proposed)):\n",
    "            m_current = m_proposed\n",
    "            if k > burn_in:\n",
    "                accepted.append(m_proposed)\n",
    "        else:\n",
    "            m_current = m_current\n",
    "            rejected.append(m_proposed)\n",
    "    \n",
    "    return accepted,rejected\n",
    "    \n"
   ]
  },
  {
   "cell_type": "code",
   "execution_count": 56,
   "metadata": {
    "ExecuteTime": {
     "end_time": "2019-10-18T11:00:50.899288Z",
     "start_time": "2019-10-18T10:07:07.010317Z"
    }
   },
   "outputs": [
    {
     "name": "stdout",
     "output_type": "stream",
     "text": [
      "1080 finised\n"
     ]
    }
   ],
   "source": [
    "init = tf.global_variables_initializer()\n",
    "with tf.Session() as sess:\n",
    "    sess.run(init)\n",
    "    accepted,rejected = sess.run(run_chain(sess))\n",
    "    "
   ]
  },
  {
   "cell_type": "code",
   "execution_count": null,
   "metadata": {
    "ExecuteTime": {
     "end_time": "2019-10-18T09:35:10.921865Z",
     "start_time": "2019-10-18T09:31:10.002Z"
    }
   },
   "outputs": [],
   "source": [
    "np.shape(accepted)[0]"
   ]
  },
  {
   "cell_type": "code",
   "execution_count": 57,
   "metadata": {
    "ExecuteTime": {
     "end_time": "2019-10-18T14:00:25.304669Z",
     "start_time": "2019-10-18T14:00:25.296453Z"
    }
   },
   "outputs": [],
   "source": [
    "def plot_trace(accepted):\n",
    "            \n",
    "    sphere_center_accepted = []\n",
    "    density_difference_accepted = []\n",
    "    sphere_radius_accepted = []\n",
    "    for i in range(np.shape(accepted)[0]):\n",
    "        \n",
    "        sphere_center_accepted.append(accepted[i][0])\n",
    "        density_difference_accepted.append(accepted[i][1])\n",
    "        sphere_radius_accepted.append(accepted[i][2])\n",
    "        \n",
    "        \n",
    "    fig, axes = plt.subplots(1, 3, sharex='col', sharey='col')\n",
    "    fig.set_size_inches(17, 4)\n",
    "    \n",
    "    axes[0].hist(sphere_center_accepted,40,density=True)\n",
    "    axes[1].hist(density_difference_accepted,40,density=True)\n",
    "    axes[2].hist(sphere_radius_accepted,40,density=True)\n",
    "\n",
    "\n",
    "    ## print prior\n",
    "    for i in range(3):\n",
    "\n",
    "        axes[i].plot(xvals[i], norm_list[i],label=\"prior\")\n",
    "        axes[i].title.set_text(name_list[i])\n",
    "        axes[i].axvline(truevalue_list[i], label=\"true value\", color='k', \n",
    "                linestyle='--', linewidth=2)\n",
    "        axes[i].legend();\n"
   ]
  },
  {
   "cell_type": "code",
   "execution_count": 58,
   "metadata": {
    "ExecuteTime": {
     "end_time": "2019-10-18T14:00:26.426881Z",
     "start_time": "2019-10-18T14:00:25.774290Z"
    }
   },
   "outputs": [
    {
     "data": {
      "image/png": "[encoded data removed]",
      "text/plain": [
       "<Figure size 1224x288 with 3 Axes>"
      ]
     },
     "metadata": {},
     "output_type": "display_data"
    }
   ],
   "source": [
    "plot_trace(accepted)"
   ]
  },
  {
   "cell_type": "code",
   "execution_count": 59,
   "metadata": {
    "ExecuteTime": {
     "end_time": "2019-10-18T14:24:34.802411Z",
     "start_time": "2019-10-18T14:24:34.797501Z"
    }
   },
   "outputs": [],
   "source": [
    "import corner "
   ]
  },
  {
   "cell_type": "code",
   "execution_count": 61,
   "metadata": {
    "ExecuteTime": {
     "end_time": "2019-10-18T14:25:20.989468Z",
     "start_time": "2019-10-18T14:25:20.914301Z"
    }
   },
   "outputs": [
    {
     "data": {
      "text/plain": [
       "[array([286.7744  , 486.5578  , 102.539055], dtype=float32),\n",
       " array([288.0812 , 489.10614,  95.12447], dtype=float32),\n",
       " array([277.72598, 487.0849 , 101.89507], dtype=float32),\n",
       " array([282.61557, 492.55167, 102.56999], dtype=float32),\n",
       " array([280.8309 , 490.6332 ,  99.52235], dtype=float32),\n",
       " array([288.51666, 472.6367 , 109.71706], dtype=float32),\n",
       " array([283.0486 , 471.63193, 109.5942 ], dtype=float32),\n",
       " array([286.2341 , 477.5487 , 104.78345], dtype=float32),\n",
       " array([288.748  , 471.1024 , 111.24735], dtype=float32),\n",
       " array([292.4584 , 467.8856 , 110.84222], dtype=float32),\n",
       " array([298.77112, 482.66705, 103.29578], dtype=float32),\n",
       " array([291.04068, 490.60468,  96.05818], dtype=float32),\n",
       " array([292.4015 , 486.19113,  96.82536], dtype=float32),\n",
       " array([278.5639  , 486.83395 , 102.589455], dtype=float32),\n",
       " array([275.44247, 490.15326, 108.99596], dtype=float32),\n",
       " array([275.88547, 500.18457, 103.13397], dtype=float32),\n",
       " array([271.22324, 495.49036,  97.45579], dtype=float32),\n",
       " array([264.31577 , 488.2931  ,  92.146454], dtype=float32),\n",
       " array([266.0184 , 482.75403,  88.81233], dtype=float32),\n",
       " array([271.33844, 482.18777,  88.87537], dtype=float32),\n",
       " array([275.23187, 484.70035,  89.38551], dtype=float32),\n",
       " array([282.9696 , 477.11667, 103.34521], dtype=float32),\n",
       " array([288.94702, 479.8806 ,  98.23341], dtype=float32),\n",
       " array([290.82285, 484.69196, 118.22784], dtype=float32),\n",
       " array([299.40314 , 491.78122 , 107.438805], dtype=float32),\n",
       " array([293.2479 , 495.53976, 103.89923], dtype=float32),\n",
       " array([285.6321  , 489.498   , 100.698555], dtype=float32),\n",
       " array([288.9264 , 488.2703 , 104.93249], dtype=float32),\n",
       " array([281.76654, 491.4731 ,  98.12101], dtype=float32),\n",
       " array([281.50552, 475.2323 ,  95.98305], dtype=float32),\n",
       " array([279.6525  , 475.93896 ,  95.999504], dtype=float32),\n",
       " array([270.17514, 471.14062,  98.56268], dtype=float32),\n",
       " array([271.91077, 472.82825, 105.80941], dtype=float32),\n",
       " array([279.96866, 480.49957, 106.95432], dtype=float32),\n",
       " array([283.57343, 487.79428, 112.26413], dtype=float32),\n",
       " array([292.13104, 494.46082, 112.80628], dtype=float32),\n",
       " array([289.0194  , 497.3666  , 119.698616], dtype=float32),\n",
       " array([289.91562, 494.14297, 115.18234], dtype=float32),\n",
       " array([287.8085  , 496.96942 , 103.774734], dtype=float32),\n",
       " array([284.87903 , 501.15533 , 101.659164], dtype=float32),\n",
       " array([281.17432, 505.87442, 108.57604], dtype=float32),\n",
       " array([274.24408 , 505.05148 , 109.389824], dtype=float32),\n",
       " array([282.04962 , 506.8449  , 104.922134], dtype=float32),\n",
       " array([284.7752 , 500.4376 ,  97.30202], dtype=float32),\n",
       " array([288.45255, 494.49408, 101.74202], dtype=float32),\n",
       " array([289.00323, 475.8801 , 105.79647], dtype=float32),\n",
       " array([289.67917, 468.0476 , 115.3673 ], dtype=float32),\n",
       " array([276.06104, 479.43155, 100.5498 ], dtype=float32),\n",
       " array([277.77313, 472.43964,  99.16901], dtype=float32),\n",
       " array([271.85876, 478.00623,  96.05832], dtype=float32),\n",
       " array([276.1919 , 476.51404,  95.64989], dtype=float32),\n",
       " array([278.40515, 473.53006,  98.24503], dtype=float32),\n",
       " array([277.09174 , 478.32523 ,  91.103584], dtype=float32),\n",
       " array([287.55533, 468.6299 ,  94.24838], dtype=float32),\n",
       " array([290.33896, 475.9427 ,  85.19294], dtype=float32),\n",
       " array([295.94687, 468.3685 ,  85.23776], dtype=float32),\n",
       " array([291.7927  , 464.74124 ,  85.839836], dtype=float32),\n",
       " array([288.05075, 474.21045,  92.52811], dtype=float32),\n",
       " array([289.93698 , 483.4354  ,  86.757454], dtype=float32),\n",
       " array([290.31613 , 481.47656 ,  90.636665], dtype=float32),\n",
       " array([286.09097, 481.90356, 101.11248], dtype=float32),\n",
       " array([279.692  , 478.40955,  92.79981], dtype=float32),\n",
       " array([285.5146 , 470.76862,  93.71752], dtype=float32),\n",
       " array([290.71445 , 475.4092  ,  94.846214], dtype=float32),\n",
       " array([292.53793, 486.07565, 104.70591], dtype=float32),\n",
       " array([292.66086, 483.4869 , 110.03835], dtype=float32),\n",
       " array([289.37567, 490.9615 , 111.0148 ], dtype=float32),\n",
       " array([279.4659  , 487.3426  , 104.940575], dtype=float32),\n",
       " array([281.60556, 481.5671 , 102.29608], dtype=float32),\n",
       " array([284.02252, 479.19687, 108.6561 ], dtype=float32),\n",
       " array([279.9152  , 477.18448 , 110.381516], dtype=float32),\n",
       " array([272.49448, 488.0004 , 111.57506], dtype=float32),\n",
       " array([282.67938, 484.756  , 113.01663], dtype=float32),\n",
       " array([284.92682, 474.69812, 107.35388], dtype=float32),\n",
       " array([288.7897 , 471.14178, 111.11347], dtype=float32),\n",
       " array([287.90836, 476.81543, 105.20191], dtype=float32),\n",
       " array([283.55893, 490.14795, 100.39156], dtype=float32),\n",
       " array([278.14688, 476.5854 , 102.93285], dtype=float32),\n",
       " array([276.3876 , 481.53268,  91.97825], dtype=float32),\n",
       " array([275.2488 , 486.20898, 106.79568], dtype=float32),\n",
       " array([276.19968, 484.75903, 108.73446], dtype=float32),\n",
       " array([277.25787, 480.00763,  95.48305], dtype=float32),\n",
       " array([274.41144, 481.9683 ,  90.81979], dtype=float32),\n",
       " array([268.56116, 479.92902,  92.8881 ], dtype=float32),\n",
       " array([272.83496, 477.6199 ,  85.39764], dtype=float32),\n",
       " array([269.77902, 480.1052 ,  92.8008 ], dtype=float32),\n",
       " array([266.87894 , 478.82333 ,  90.448784], dtype=float32),\n",
       " array([280.2874 , 486.30096,  92.45023], dtype=float32),\n",
       " array([283.84586, 492.12042,  93.37532], dtype=float32),\n",
       " array([285.1404  , 483.32538 ,  82.041794], dtype=float32),\n",
       " array([277.44888, 483.6334 ,  83.5418 ], dtype=float32),\n",
       " array([280.29913, 486.47327,  78.78219], dtype=float32),\n",
       " array([271.10077, 485.09814,  86.46636], dtype=float32),\n",
       " array([276.0091 , 475.43884,  76.53374], dtype=float32),\n",
       " array([280.80383 , 480.47037 ,  72.751175], dtype=float32),\n",
       " array([285.8562 , 487.53806,  82.25914], dtype=float32),\n",
       " array([289.57724, 477.7949 ,  90.31487], dtype=float32),\n",
       " array([288.72137, 472.929  ,  88.32734], dtype=float32),\n",
       " array([286.25266, 475.90775,  83.32   ], dtype=float32),\n",
       " array([291.77377 , 475.55188 ,  81.773125], dtype=float32),\n",
       " array([288.27927 , 473.836   ,  90.557335], dtype=float32),\n",
       " array([287.0856  , 467.21915 ,  94.078606], dtype=float32),\n",
       " array([281.6109 , 477.7053 ,  94.41026], dtype=float32),\n",
       " array([284.07516 , 477.63763 ,  94.331955], dtype=float32),\n",
       " array([284.1298 , 477.9812 ,  97.74231], dtype=float32),\n",
       " array([280.21725 , 479.91443 , 100.137695], dtype=float32),\n",
       " array([277.25275, 485.74512,  97.15182], dtype=float32),\n",
       " array([281.8126 , 485.71628,  95.15109], dtype=float32),\n",
       " array([281.26367 , 487.45877 ,  91.653984], dtype=float32),\n",
       " array([275.53888, 486.46835,  82.02538], dtype=float32),\n",
       " array([278.8713 , 488.93942,  80.42262], dtype=float32),\n",
       " array([276.88818 , 494.2036  ,  81.213745], dtype=float32),\n",
       " array([279.06387, 492.23013,  82.23309], dtype=float32),\n",
       " array([277.53473, 494.66492,  89.70368], dtype=float32),\n",
       " array([282.6085 , 481.66055,  76.11917], dtype=float32),\n",
       " array([283.86505, 483.12842,  82.96095], dtype=float32),\n",
       " array([292.52805 , 482.8421  ,  88.076355], dtype=float32),\n",
       " array([292.2772  , 487.96393 ,  87.164635], dtype=float32),\n",
       " array([304.49   , 493.23303,  88.30581], dtype=float32),\n",
       " array([297.97107, 489.47717,  89.79292], dtype=float32),\n",
       " array([290.26538, 488.9546 ,  98.37853], dtype=float32),\n",
       " array([285.60867, 475.8027 ,  95.72173], dtype=float32),\n",
       " array([268.58652, 478.2349 ,  90.43046], dtype=float32),\n",
       " array([275.24396, 480.66333,  89.40569], dtype=float32),\n",
       " array([281.33453, 486.61157,  85.63771], dtype=float32),\n",
       " array([290.57895, 483.16837,  85.56398], dtype=float32),\n",
       " array([298.04504 , 484.13593 ,  86.520515], dtype=float32),\n",
       " array([301.2568  , 484.2642  ,  90.473305], dtype=float32),\n",
       " array([294.86096, 484.59912,  86.86354], dtype=float32),\n",
       " array([277.98447 , 479.3391  ,  89.481544], dtype=float32),\n",
       " array([278.19806, 470.46185,  78.28491], dtype=float32),\n",
       " array([275.01773, 472.18228,  86.53482], dtype=float32),\n",
       " array([271.22064 , 473.32047 ,  87.267136], dtype=float32),\n",
       " array([266.60367, 477.11838,  98.92042], dtype=float32),\n",
       " array([263.58304, 478.0392 ,  97.12297], dtype=float32),\n",
       " array([269.82214, 480.45547,  92.3453 ], dtype=float32),\n",
       " array([280.4377 , 484.1354 ,  95.34846], dtype=float32),\n",
       " array([277.79596, 476.77902,  92.2475 ], dtype=float32),\n",
       " array([273.2939  , 485.2825  ,  91.595825], dtype=float32),\n",
       " array([277.13904, 487.4922 ,  89.39865], dtype=float32),\n",
       " array([278.1386  , 488.49673 ,  83.637184], dtype=float32),\n",
       " array([277.01227, 490.67773,  88.75033], dtype=float32),\n",
       " array([278.11652, 480.9325 ,  86.99385], dtype=float32),\n",
       " array([282.12952, 488.68408,  73.5976 ], dtype=float32),\n",
       " array([280.80792, 500.7254 ,  82.85734], dtype=float32),\n",
       " array([288.62265, 500.4388 ,  87.48528], dtype=float32),\n",
       " array([286.55118 , 494.592   ,  87.738045], dtype=float32),\n",
       " array([297.30637 , 494.3871  ,  89.434326], dtype=float32),\n",
       " array([284.05957, 497.56586,  97.77655], dtype=float32),\n",
       " array([277.11755, 498.71188, 107.7291 ], dtype=float32),\n",
       " array([271.4455 , 502.334  ,  99.19594], dtype=float32),\n",
       " array([266.71213, 492.11813,  99.76478], dtype=float32),\n",
       " array([278.5169  , 487.71948 ,  94.842865], dtype=float32),\n",
       " array([284.00583, 490.19748,  85.91419], dtype=float32),\n",
       " array([290.46954 , 496.7268  ,  73.332504], dtype=float32),\n",
       " array([278.0218 , 483.62457,  74.81618], dtype=float32),\n",
       " array([271.88953, 479.0213 ,  76.01611], dtype=float32),\n",
       " array([268.3489 , 476.52536,  88.64718], dtype=float32),\n",
       " array([262.81622, 464.76077,  82.68552], dtype=float32),\n",
       " array([273.20053, 467.34268,  70.53636], dtype=float32),\n",
       " array([271.3882 , 470.25656,  68.95635], dtype=float32),\n",
       " array([276.43954, 475.17477,  73.752  ], dtype=float32),\n",
       " array([283.394  , 477.5302 ,  76.07185], dtype=float32),\n",
       " array([276.79007, 486.5156 ,  81.03096], dtype=float32),\n",
       " array([279.3424  , 483.43002 ,  73.666534], dtype=float32),\n",
       " array([283.3841 , 478.98694,  86.33013], dtype=float32),\n",
       " array([283.81323, 474.42075,  92.1243 ], dtype=float32),\n",
       " array([287.49463, 476.85342,  94.83166], dtype=float32),\n",
       " array([289.8882  , 467.75702 ,  98.285164], dtype=float32),\n",
       " array([297.17392 , 470.40134 ,  94.667984], dtype=float32),\n",
       " array([289.6457 , 472.11127,  86.04994], dtype=float32),\n",
       " array([291.10516, 463.72104,  82.93383], dtype=float32),\n",
       " array([294.16846, 466.04028,  88.53268], dtype=float32),\n",
       " array([301.56168, 466.02948,  89.38354], dtype=float32),\n",
       " array([295.98563, 476.48196,  92.32556], dtype=float32),\n",
       " array([296.71802, 466.21808,  91.17483], dtype=float32),\n",
       " array([292.98038, 465.0254 ,  94.64682], dtype=float32),\n",
       " array([297.02676, 467.39258,  92.90197], dtype=float32),\n",
       " array([295.62064, 472.85077,  94.77665], dtype=float32),\n",
       " array([291.14575, 467.43198, 100.93638], dtype=float32),\n",
       " array([295.74243, 467.98346, 105.86996], dtype=float32),\n",
       " array([296.67548, 475.77817, 109.07375], dtype=float32),\n",
       " array([294.06445, 481.81226, 112.26173], dtype=float32),\n",
       " array([286.48572, 470.5788 ,  94.03065], dtype=float32),\n",
       " array([287.2275 , 482.57147, 103.23996], dtype=float32),\n",
       " array([272.26645 , 479.88394 , 110.573296], dtype=float32),\n",
       " array([272.49564, 480.62784, 102.02718], dtype=float32),\n",
       " array([262.14157, 485.86957,  97.9314 ], dtype=float32),\n",
       " array([265.05402 , 488.84863 ,  88.546196], dtype=float32),\n",
       " array([270.3382  , 488.8047  ,  86.723465], dtype=float32),\n",
       " array([268.14786, 485.53632,  96.01862], dtype=float32),\n",
       " array([266.62393, 480.02045,  93.42683], dtype=float32),\n",
       " array([259.1083 , 479.23795,  94.48326], dtype=float32),\n",
       " array([265.21625, 477.03244, 103.7603 ], dtype=float32),\n",
       " array([273.03647, 472.98477,  96.96544], dtype=float32),\n",
       " array([273.4584, 474.0282,  97.4203], dtype=float32),\n",
       " array([272.3355  , 473.83676 ,  95.330475], dtype=float32),\n",
       " array([284.88422, 483.48523,  97.68821], dtype=float32),\n",
       " array([289.2567 , 484.10382, 102.55456], dtype=float32),\n",
       " array([287.83127, 486.3119 , 105.48771], dtype=float32),\n",
       " array([273.64844 , 481.42746 , 101.071495], dtype=float32),\n",
       " array([276.7415 , 482.06378, 102.36834], dtype=float32),\n",
       " array([279.31592, 484.72318, 101.52364], dtype=float32),\n",
       " array([276.60782, 494.05865,  85.67302], dtype=float32),\n",
       " array([275.6961 , 490.6524 , 100.25654], dtype=float32),\n",
       " array([280.56494, 479.6405 , 100.16267], dtype=float32),\n",
       " array([279.2015 , 478.83044, 103.88166], dtype=float32),\n",
       " array([274.34808, 477.3637 ,  98.95858], dtype=float32),\n",
       " array([280.37555, 482.99365, 102.11131], dtype=float32),\n",
       " array([279.16672, 492.54492, 103.7017 ], dtype=float32),\n",
       " array([284.79547, 493.1872 , 110.82709], dtype=float32),\n",
       " array([278.72375, 485.87735, 104.5536 ], dtype=float32),\n",
       " array([285.93195, 480.5348 ,  98.92625], dtype=float32),\n",
       " array([277.77493 , 478.93436 ,  99.222084], dtype=float32),\n",
       " array([280.38324, 474.4465 , 102.89406], dtype=float32),\n",
       " array([293.11197, 483.26285, 100.31037], dtype=float32),\n",
       " array([287.76932 , 479.06317 , 102.793365], dtype=float32),\n",
       " array([281.36716, 486.05157, 105.08333], dtype=float32),\n",
       " array([288.6756 , 479.37073, 108.03915], dtype=float32),\n",
       " array([285.67783, 477.22424, 106.20043], dtype=float32),\n",
       " array([292.05188, 476.45682,  97.79617], dtype=float32),\n",
       " array([286.77255, 472.9168 ,  86.84428], dtype=float32),\n",
       " array([292.51913 , 482.88544 ,  90.587975], dtype=float32),\n",
       " array([303.55164 , 480.1938  ,  95.318436], dtype=float32),\n",
       " array([304.2283 , 486.19403,  87.08784], dtype=float32),\n",
       " array([298.21396, 478.9774 ,  95.27535], dtype=float32),\n",
       " array([293.5097 , 491.04434,  97.97337], dtype=float32),\n",
       " array([301.54883, 485.82126,  94.21961], dtype=float32),\n",
       " array([299.20514, 475.6252 , 101.07632], dtype=float32),\n",
       " array([303.2794 , 485.19904,  96.70973], dtype=float32),\n",
       " array([300.75137 , 492.81116 ,  92.343254], dtype=float32),\n",
       " array([296.87888, 484.21265,  89.94034], dtype=float32),\n",
       " array([290.04874, 482.9938 ,  99.75908], dtype=float32),\n",
       " array([283.81528 , 490.32935 ,  89.146065], dtype=float32),\n",
       " array([293.5538 , 485.44394,  97.85561], dtype=float32),\n",
       " array([295.73853, 490.597  , 107.65913], dtype=float32),\n",
       " array([298.2875 , 493.17398, 107.38043], dtype=float32),\n",
       " array([283.72702 , 483.7191  , 106.374115], dtype=float32),\n",
       " array([285.8686  , 483.425   , 105.398796], dtype=float32),\n",
       " array([280.42236, 478.03186,  98.91157], dtype=float32),\n",
       " array([286.0057 , 483.50064, 105.43544], dtype=float32),\n",
       " array([283.1948 , 478.62347, 115.1298 ], dtype=float32),\n",
       " array([287.7069 , 474.10248, 110.17383], dtype=float32),\n",
       " array([287.02542, 480.3328 ,  99.74866], dtype=float32),\n",
       " array([287.03082, 478.33362,  93.09548], dtype=float32),\n",
       " array([292.57867, 481.01144,  95.43327], dtype=float32),\n",
       " array([282.865  , 476.85098,  99.14161], dtype=float32),\n",
       " array([282.66388 , 470.23462 ,  88.221306], dtype=float32),\n",
       " array([280.47852 , 478.1078  ,  75.421974], dtype=float32),\n",
       " array([278.84177 , 468.72186 ,  77.529076], dtype=float32),\n",
       " array([276.74902 , 467.08194 ,  77.316864], dtype=float32),\n",
       " array([290.45673, 468.10117,  72.23509], dtype=float32),\n",
       " array([293.34616, 471.87296,  80.72868], dtype=float32),\n",
       " array([303.73764, 476.56592,  85.01947], dtype=float32),\n",
       " array([300.12097 , 468.6358  ,  97.874245], dtype=float32),\n",
       " array([297.3114 , 469.5395 ,  96.49189], dtype=float32),\n",
       " array([296.7661 , 475.4133 ,  90.90026], dtype=float32),\n",
       " array([289.23645, 466.35284,  93.02831], dtype=float32),\n",
       " array([289.58902, 464.75864,  93.82351], dtype=float32),\n",
       " array([292.7142 , 467.61362,  95.54936], dtype=float32),\n",
       " array([295.96713 , 475.6054  ,  99.790504], dtype=float32),\n",
       " array([284.10495, 469.92963,  98.04442], dtype=float32),\n",
       " array([284.90723, 470.6179 ,  97.78628], dtype=float32),\n",
       " array([280.0762 , 478.3555 ,  95.91538], dtype=float32),\n",
       " array([278.2851 , 470.9457 ,  98.41741], dtype=float32),\n",
       " array([281.62048 , 472.75485 ,  97.805405], dtype=float32),\n",
       " array([278.7714 , 466.09564, 101.4661 ], dtype=float32),\n",
       " array([271.19803, 463.7759 , 101.70298], dtype=float32),\n",
       " array([267.19028 , 459.2723  , 101.258224], dtype=float32),\n",
       " array([275.75488, 461.5564 , 107.14444], dtype=float32),\n",
       " array([266.26385, 469.88803, 108.51367], dtype=float32),\n",
       " array([274.3673 , 475.095  , 107.94173], dtype=float32),\n",
       " array([287.64297, 486.00867, 101.55464], dtype=float32),\n",
       " array([280.27182 , 479.7513  , 102.036545], dtype=float32),\n",
       " array([285.08652, 478.06418,  98.45839], dtype=float32),\n",
       " array([285.2378 , 478.95346, 108.09783], dtype=float32),\n",
       " array([279.62173, 479.7586 ,  94.62557], dtype=float32),\n",
       " array([276.57153, 495.96082,  90.30407], dtype=float32),\n",
       " array([281.14685, 490.80804,  93.94975], dtype=float32),\n",
       " array([280.88977, 483.1573 ,  97.25197], dtype=float32),\n",
       " array([276.77353, 482.7271 ,  99.6963 ], dtype=float32),\n",
       " array([289.09317, 479.5953 ,  95.58668], dtype=float32),\n",
       " array([290.85452 , 479.51633 , 102.213036], dtype=float32),\n",
       " array([296.74078, 472.3072 ,  99.79476], dtype=float32),\n",
       " array([304.8761 , 476.07364,  95.63835], dtype=float32),\n",
       " array([300.22177, 482.13205,  93.64214], dtype=float32),\n",
       " array([300.32648, 481.2163 ,  97.24243], dtype=float32),\n",
       " array([297.97507 , 488.74423 , 102.434555], dtype=float32),\n",
       " array([290.56073, 485.85062, 112.59899], dtype=float32),\n",
       " array([292.54327, 475.0239 , 107.16911], dtype=float32),\n",
       " array([299.8369 , 473.56088, 104.477  ], dtype=float32),\n",
       " array([306.48312, 477.34344,  94.42456], dtype=float32),\n",
       " array([296.85495, 481.11618,  88.12126], dtype=float32),\n",
       " array([299.1557 , 478.02054,  93.59635], dtype=float32),\n",
       " array([286.31107, 474.5618 ,  93.64872], dtype=float32),\n",
       " array([279.39178, 470.78986,  89.7943 ], dtype=float32),\n",
       " array([279.44373 , 455.90463 ,  82.193596], dtype=float32),\n",
       " array([278.2003, 454.9558,  85.91  ], dtype=float32),\n",
       " array([260.66   , 454.0962 ,  87.87043], dtype=float32),\n",
       " array([273.58246, 468.99963,  85.62047], dtype=float32),\n",
       " array([274.89236 , 473.8546  ,  80.847015], dtype=float32),\n",
       " array([275.86108, 473.06802,  94.19155], dtype=float32),\n",
       " array([285.91452, 473.14966,  93.34012], dtype=float32),\n",
       " array([288.7628  , 480.2476  ,  86.180916], dtype=float32),\n",
       " array([304.84192 , 485.16498 ,  80.764755], dtype=float32),\n",
       " array([283.9022 , 483.78482,  90.97711], dtype=float32),\n",
       " array([287.7235 , 482.15067,  92.97226], dtype=float32),\n",
       " array([295.46182, 486.74786, 103.47382], dtype=float32),\n",
       " array([291.8164 , 486.40836, 102.62817], dtype=float32),\n",
       " array([285.97815, 492.4245 , 108.75626], dtype=float32),\n",
       " array([291.60074 , 483.82913 , 101.285095], dtype=float32),\n",
       " array([289.9204 , 482.32996, 101.69469], dtype=float32),\n",
       " array([284.98816, 483.50482, 101.17694], dtype=float32),\n",
       " array([283.56714 , 479.65915 , 103.300095], dtype=float32),\n",
       " array([282.02768, 492.1671 , 104.42831], dtype=float32),\n",
       " array([290.559  , 489.08542,  96.1847 ], dtype=float32),\n",
       " array([288.66205 , 488.11945 ,  89.891556], dtype=float32),\n",
       " array([291.98688 , 473.6231  ,  95.569176], dtype=float32),\n",
       " array([296.30807, 467.00687,  91.28186], dtype=float32),\n",
       " array([298.88623 , 474.7182  ,  89.263664], dtype=float32),\n",
       " array([297.27786, 475.41284,  87.85031], dtype=float32),\n",
       " array([292.53748, 477.79675,  90.74506], dtype=float32),\n",
       " array([289.64954 , 475.54672 ,  91.445076], dtype=float32),\n",
       " array([292.1589 , 468.11606,  82.39817], dtype=float32),\n",
       " array([297.1056 , 465.57785,  91.14487], dtype=float32),\n",
       " array([295.00748, 458.52625,  98.2943 ], dtype=float32),\n",
       " array([288.3464 , 469.18875,  99.76689], dtype=float32),\n",
       " array([285.54855, 468.1268 , 100.73959], dtype=float32),\n",
       " array([279.96542, 467.4277 ,  90.01887], dtype=float32),\n",
       " array([285.4546 , 473.18604,  98.53991], dtype=float32),\n",
       " array([288.21753, 483.1107 ,  99.47725], dtype=float32),\n",
       " array([282.08154 , 484.92792 , 107.179504], dtype=float32),\n",
       " array([283.99048, 486.82632, 102.81895], dtype=float32),\n",
       " array([284.09183, 486.28415,  97.83303], dtype=float32),\n",
       " array([286.8    , 473.97772,  98.41059], dtype=float32),\n",
       " array([287.47464, 472.8687 ,  88.6241 ], dtype=float32),\n",
       " array([288.71893, 478.77542,  92.71878], dtype=float32),\n",
       " array([289.2206 , 476.17184,  97.24424], dtype=float32),\n",
       " array([287.33023, 483.81827, 102.93609], dtype=float32),\n",
       " array([288.76813, 483.96643,  97.35403], dtype=float32),\n",
       " array([287.20908, 495.49945,  94.94294], dtype=float32),\n",
       " array([288.9009 , 490.53152,  99.68433], dtype=float32),\n",
       " array([284.09445 , 500.12186 , 108.771385], dtype=float32),\n",
       " array([285.14102, 498.78784, 103.33807], dtype=float32),\n",
       " array([290.46985 , 492.56482 ,  97.686195], dtype=float32),\n",
       " array([289.85492 , 496.53763 ,  93.725426], dtype=float32),\n",
       " array([301.57733, 494.25717,  93.71581], dtype=float32),\n",
       " array([301.4562 , 487.41922,  96.65173], dtype=float32),\n",
       " array([290.2526  , 480.63922 ,  98.162384], dtype=float32),\n",
       " array([289.0289 , 480.6141 ,  86.63152], dtype=float32),\n",
       " array([276.0902  , 476.13516 ,  87.519165], dtype=float32),\n",
       " array([279.10342 , 477.95334 ,  86.169846], dtype=float32),\n",
       " array([275.41083, 471.63815,  94.64586], dtype=float32),\n",
       " array([279.33078, 475.2846 , 110.18855], dtype=float32),\n",
       " array([285.7824  , 464.0458  , 104.659256], dtype=float32),\n",
       " array([287.12   , 466.24103, 105.74847], dtype=float32),\n",
       " array([290.65536, 474.6358 , 108.14422], dtype=float32),\n",
       " array([284.4626 , 472.28458, 100.88288], dtype=float32),\n",
       " array([286.12363 , 480.81134 , 101.667755], dtype=float32),\n",
       " array([288.45267 , 479.4009  ,  91.525055], dtype=float32),\n",
       " array([302.46933, 475.0951 ,  75.68836], dtype=float32),\n",
       " array([294.64688 , 473.21204 ,  82.531204], dtype=float32),\n",
       " array([290.62088 , 472.5361  ,  91.998695], dtype=float32),\n",
       " array([290.41782, 482.5984 ,  88.15741], dtype=float32),\n",
       " array([290.34937 , 486.26505 ,  94.953064], dtype=float32),\n",
       " array([270.70508, 489.64166,  97.28279], dtype=float32),\n",
       " array([276.52948 , 494.7706  ,  92.106224], dtype=float32),\n",
       " array([273.60516, 481.46732,  87.03828], dtype=float32),\n",
       " array([273.28232, 490.81024,  89.57972], dtype=float32),\n",
       " array([278.1994  , 491.8465  ,  99.328865], dtype=float32),\n",
       " array([276.34647, 490.17883, 100.55833], dtype=float32),\n",
       " array([278.6368 , 486.96762,  97.33309], dtype=float32),\n",
       " array([272.79242, 480.43787,  98.79564], dtype=float32),\n",
       " array([283.71573 , 466.5826  , 108.824615], dtype=float32),\n",
       " array([272.47867 , 471.16263 , 109.020004], dtype=float32),\n",
       " array([264.6024 , 466.5709 , 100.96589], dtype=float32),\n",
       " array([259.4792  , 469.77487 ,  96.189545], dtype=float32),\n",
       " array([263.67905, 470.72067,  92.28413], dtype=float32),\n",
       " array([265.26056, 474.2715 ,  90.46034], dtype=float32),\n",
       " array([262.2362 , 480.2947 ,  93.82532], dtype=float32),\n",
       " array([259.96307, 485.95145,  87.95487], dtype=float32),\n",
       " array([263.12134, 498.7935 ,  86.90748], dtype=float32),\n",
       " array([272.04935, 490.68625,  85.89159], dtype=float32),\n",
       " array([266.08713, 496.5334 ,  93.61313], dtype=float32),\n",
       " array([269.01337, 496.49072,  93.99968], dtype=float32),\n",
       " array([266.86935, 480.86545,  93.39873], dtype=float32),\n",
       " array([268.76804, 482.27142,  96.5303 ], dtype=float32),\n",
       " array([278.295  , 487.98965, 101.95652], dtype=float32),\n",
       " array([276.47617, 491.32288,  97.11393], dtype=float32),\n",
       " array([272.138  , 494.7818 ,  92.00212], dtype=float32),\n",
       " array([276.64914, 496.16266, 100.43767], dtype=float32),\n",
       " array([269.15256, 487.24023, 103.25902], dtype=float32),\n",
       " array([269.43213, 493.52063, 104.5323 ], dtype=float32),\n",
       " array([265.72092, 485.26352,  87.71118], dtype=float32),\n",
       " array([273.83453, 493.7235 ,  87.24489], dtype=float32),\n",
       " array([272.32803 , 494.9236  ,  88.901505], dtype=float32),\n",
       " array([281.286  , 490.16464,  78.62024], dtype=float32),\n",
       " array([273.70004, 475.24554,  86.40586], dtype=float32),\n",
       " array([272.0594 , 476.68527,  77.43369], dtype=float32),\n",
       " array([272.6302 , 472.0798 ,  76.21677], dtype=float32),\n",
       " array([273.20505, 474.0467 ,  80.00768], dtype=float32),\n",
       " array([274.16165 , 473.8922  ,  84.000244], dtype=float32),\n",
       " array([277.36487, 485.08365,  82.53052], dtype=float32),\n",
       " array([273.5046 , 483.3122 ,  79.16015], dtype=float32),\n",
       " array([269.04572, 471.23453,  90.34181], dtype=float32),\n",
       " array([277.48932, 472.9981 ,  90.35237], dtype=float32),\n",
       " array([274.8869 , 466.8704 ,  97.41732], dtype=float32),\n",
       " array([278.016  , 463.8058 , 109.31734], dtype=float32),\n",
       " array([270.24036, 462.32617,  95.13583], dtype=float32),\n",
       " array([261.80624 , 471.4325  , 100.451614], dtype=float32),\n",
       " array([274.63083, 474.92627,  94.35313], dtype=float32),\n",
       " array([270.01392, 475.01077,  96.84501], dtype=float32),\n",
       " array([272.4778 , 487.41425,  93.27632], dtype=float32),\n",
       " array([279.40213, 493.54993,  82.32326], dtype=float32),\n",
       " array([281.06943, 489.9224 ,  92.36948], dtype=float32),\n",
       " array([279.28583, 490.62552,  92.00851], dtype=float32),\n",
       " array([286.6263 , 476.65524,  89.42541], dtype=float32),\n",
       " array([294.4796 , 479.4671 ,  92.16115], dtype=float32),\n",
       " array([285.60446 , 486.67752 ,  82.072784], dtype=float32),\n",
       " array([284.26016, 495.03415,  75.84067], dtype=float32),\n",
       " array([287.04523, 498.24557,  82.49765], dtype=float32),\n",
       " array([294.14847 , 505.19052 ,  81.564255], dtype=float32),\n",
       " array([287.80127, 498.52783,  75.97475], dtype=float32),\n",
       " array([287.5297 , 503.3726 ,  79.11937], dtype=float32),\n",
       " array([289.57883, 489.83237,  79.99491], dtype=float32),\n",
       " array([285.884  , 489.98828,  94.13378], dtype=float32),\n",
       " array([291.07343 , 484.94305 ,  97.036446], dtype=float32),\n",
       " array([288.1303  , 488.57324 ,  99.100876], dtype=float32),\n",
       " array([291.7141 , 486.54233, 103.4617 ], dtype=float32),\n",
       " array([289.73935 , 494.8873  , 101.640045], dtype=float32),\n",
       " array([290.68637, 506.84955,  98.95   ], dtype=float32),\n",
       " array([295.68756, 505.3881 ,  89.44073], dtype=float32),\n",
       " array([300.14877 , 494.38812 ,  84.572685], dtype=float32),\n",
       " array([298.02762 , 496.46768 ,  91.882835], dtype=float32),\n",
       " array([295.87363 , 489.45297 ,  89.067955], dtype=float32),\n",
       " array([293.5309  , 483.30624 ,  91.000885], dtype=float32),\n",
       " array([293.24258 , 479.9618  ,  98.932594], dtype=float32),\n",
       " array([280.51587 , 466.3518  ,  79.458565], dtype=float32),\n",
       " array([289.9131 , 468.99606,  90.45034], dtype=float32),\n",
       " array([282.03375 , 473.78055 ,  88.227425], dtype=float32),\n",
       " array([277.94943, 472.95428,  83.65593], dtype=float32),\n",
       " array([279.23453, 477.64697,  82.74677], dtype=float32),\n",
       " array([296.07404 , 479.832   ,  93.067764], dtype=float32),\n",
       " array([287.31326 , 485.54156 ,  96.720726], dtype=float32),\n",
       " array([280.21475, 477.40274,  88.75482], dtype=float32),\n",
       " array([281.06448, 486.81842,  88.01889], dtype=float32),\n",
       " array([287.8321 , 486.33295,  84.52051], dtype=float32),\n",
       " array([300.7504 , 483.90512,  84.49478], dtype=float32),\n",
       " array([311.08987, 471.916  ,  89.86764], dtype=float32),\n",
       " array([300.2813 , 474.79794,  94.50277], dtype=float32),\n",
       " array([293.19012 , 472.48926 , 100.278946], dtype=float32),\n",
       " array([294.38092, 475.6937 , 102.04055], dtype=float32),\n",
       " array([292.97693, 483.80008,  96.64539], dtype=float32),\n",
       " array([304.84906, 480.86166,  98.17925], dtype=float32),\n",
       " array([300.2306 , 497.3343 , 101.97491], dtype=float32),\n",
       " array([309.3611 , 494.28287,  96.67455], dtype=float32),\n",
       " array([304.04346, 489.07364,  97.47883], dtype=float32),\n",
       " array([294.1233 , 488.4752 ,  96.25544], dtype=float32),\n",
       " array([294.453  , 484.37997, 104.71134], dtype=float32),\n",
       " array([288.6559  , 489.22906 ,  92.853546], dtype=float32),\n",
       " array([297.90665 , 490.82553 ,  95.239136], dtype=float32),\n",
       " array([293.64877 , 486.8479  , 100.472946], dtype=float32),\n",
       " array([292.31342 , 482.82474 , 105.365654], dtype=float32),\n",
       " array([296.07758, 487.66916, 107.91905], dtype=float32),\n",
       " array([288.16583, 488.38162, 102.33707], dtype=float32),\n",
       " array([291.71594, 490.97214, 108.05551], dtype=float32),\n",
       " array([287.29385, 495.29886, 106.45373], dtype=float32),\n",
       " array([284.44632, 498.12274, 103.92973], dtype=float32),\n",
       " array([282.707  , 487.32416, 104.27385], dtype=float32),\n",
       " array([282.60507, 487.35657,  94.68878], dtype=float32),\n",
       " array([287.63107 , 485.50516 ,  95.311356], dtype=float32),\n",
       " array([284.41336, 486.03537, 102.36359], dtype=float32),\n",
       " array([279.93134, 484.7386 ,  98.93456], dtype=float32),\n",
       " array([279.54593, 484.7531 ,  99.05279], dtype=float32),\n",
       " array([285.76663, 483.6411 ,  92.9234 ], dtype=float32),\n",
       " array([285.4179 , 484.7792 ,  88.00108], dtype=float32),\n",
       " array([283.79422, 491.2979 ,  89.43627], dtype=float32),\n",
       " array([280.93497, 491.02225,  91.89324], dtype=float32),\n",
       " array([281.1619  , 484.98077 ,  92.518585], dtype=float32)]"
      ]
     },
     "execution_count": 61,
     "metadata": {},
     "output_type": "execute_result"
    }
   ],
   "source": [
    "accepted"
   ]
  },
  {
   "cell_type": "code",
   "execution_count": 60,
   "metadata": {
    "ExecuteTime": {
     "end_time": "2019-10-18T14:24:35.787611Z",
     "start_time": "2019-10-18T14:24:35.270706Z"
    }
   },
   "outputs": [
    {
     "name": "stderr",
     "output_type": "stream",
     "text": [
      "W1018 16:24:35.402163 4597478848 corner.py:542] Too few points to create valid contours\n"
     ]
    },
    {
     "data": {
      "image/png": "[encoded data removed]",
      "text/plain": [
       "<Figure size 547.2x547.2 with 9 Axes>"
      ]
     },
     "metadata": {},
     "output_type": "display_data"
    }
   ],
   "source": [
    "figure = corner.corner(accepted)"
   ]
  },
  {
   "cell_type": "code",
   "execution_count": 2,
   "metadata": {
    "ExecuteTime": {
     "end_time": "2019-10-23T12:34:06.346747Z",
     "start_time": "2019-10-23T12:34:06.343556Z"
    }
   },
   "outputs": [
    {
     "name": "stdout",
     "output_type": "stream",
     "text": [
      "Number of processors:  8\n"
     ]
    }
   ],
   "source": [
    "import multiprocessing as mp\n",
    "print(\"Number of processors: \", mp.cpu_count())"
   ]
  },
  {
   "cell_type": "code",
   "execution_count": null,
   "metadata": {},
   "outputs": [],
   "source": [
    "pool = mp.Pool(mp.cpu_count())\n"
   ]
  }
 ],
 "metadata": {
  "kernelspec": {
   "display_name": "Python 3",
   "language": "python",
   "name": "python3"
  },
  "language_info": {
   "codemirror_mode": {
    "name": "ipython",
    "version": 3
   },
   "file_extension": ".py",
   "mimetype": "text/x-python",
   "name": "python",
   "nbconvert_exporter": "python",
   "pygments_lexer": "ipython3",
   "version": "3.7.3"
  },
  "varInspector": {
   "cols": {
    "lenName": 16,
    "lenType": 16,
    "lenVar": 40
   },
   "kernels_config": {
    "python": {
     "delete_cmd_postfix": "",
     "delete_cmd_prefix": "del ",
     "library": "var_list.py",
     "varRefreshCmd": "print(var_dic_list())"
    },
    "r": {
     "delete_cmd_postfix": ") ",
     "delete_cmd_prefix": "rm(",
     "library": "var_list.r",
     "varRefreshCmd": "cat(var_dic_list()) "
    }
   },
   "types_to_exclude": [
    "module",
    "function",
    "builtin_function_or_method",
    "instance",
    "_Feature"
   ],
   "window_display": false
  }
 },
 "nbformat": 4,
 "nbformat_minor": 2
}
