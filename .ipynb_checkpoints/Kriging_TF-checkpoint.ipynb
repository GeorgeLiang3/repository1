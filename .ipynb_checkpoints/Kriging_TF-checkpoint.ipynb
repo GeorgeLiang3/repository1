{
 "cells": [
  {
   "cell_type": "code",
   "execution_count": 1,
   "metadata": {
    "ExecuteTime": {
     "end_time": "2020-02-18T11:14:30.201488Z",
     "start_time": "2020-02-18T11:14:26.617452Z"
    }
   },
   "outputs": [],
   "source": [
    "import tensorflow as tf\n",
    "import numpy as np\n",
    "import matplotlib.pyplot as plt\n",
    "%matplotlib inline"
   ]
  },
  {
   "cell_type": "code",
   "execution_count": 2,
   "metadata": {
    "ExecuteTime": {
     "end_time": "2020-02-18T11:14:30.205427Z",
     "start_time": "2020-02-18T11:14:30.202880Z"
    }
   },
   "outputs": [],
   "source": [
    "def constant32(k):\n",
    "    return tf.constant(k,dtype = tf.float32)"
   ]
  },
  {
   "cell_type": "code",
   "execution_count": 3,
   "metadata": {
    "ExecuteTime": {
     "end_time": "2020-02-18T11:14:30.231664Z",
     "start_time": "2020-02-18T11:14:30.207184Z"
    }
   },
   "outputs": [],
   "source": [
    "@tf.function\n",
    "def tf_cov_cubic_f(r,a = constant32(5)):\n",
    "    c_o = a**2/14/3\n",
    "    return c_o*(1.-7.*(r/a)**2.+35./4.*(r/a)**3.-7./2.*(r/a)**5.+3./4.*(r/a)**7.)\n",
    "\n",
    "@tf.function\n",
    "def tf_cov_cubic_d1_f(r,a = constant32(5)):\n",
    "    c_o = a**2/14/3\n",
    "    return (-7* (a - r)**3 *r* (8* a**2 + 9 *a* r + 3* r**2)* (c_o))/(4* a**7)\n",
    "\n",
    "@tf.function\n",
    "def tf_cov_cubic_d2_f(r,a = constant32(5)):\n",
    "    c_o = a**2/14/3\n",
    "    return (-7 * (4.* a**5. - 15. *a**4. * r + 20. *( a**2)*(r**3) - 9* r**5) * \n",
    "            (c_o))/(2*a**7)\n"
   ]
  },
  {
   "cell_type": "code",
   "execution_count": 13,
   "metadata": {
    "ExecuteTime": {
     "end_time": "2020-02-18T11:15:38.043060Z",
     "start_time": "2020-02-18T11:15:38.029189Z"
    }
   },
   "outputs": [],
   "source": [
    "@tf.function\n",
    "def K_Z(x1,x2):\n",
    "    r = squared_euclidean_distance(x1,x2)\n",
    "    return tf_cov_cubic_f(r)\n",
    "\n",
    "# cross-cov space-grad\n",
    "@tf.function\n",
    "def K_ZGx(x1,x2):\n",
    "    r = squared_euclidean_distance(x1,x2)\n",
    "    hx = x2[0] - x1[0]\n",
    "    return -hx/r * tf_cov_cubic_d1_f(r)\n",
    "\n",
    "@tf.function\n",
    "def K_ZGy(x1,x2):\n",
    "    r = squared_euclidean_distance(x1,x2)\n",
    "    hy = x2[1] - x1[1]   \n",
    "    return -hy/r * tf_cov_cubic_d1_f(r)\n",
    "\n",
    "# cov grad\n",
    "@tf.function\n",
    "def K_Gx(hx,hy):\n",
    "    r = tf.sqrt(hx,hy)\n",
    "    if r == 0:\n",
    "        return 1/3.\n",
    "    else:\n",
    "        return (hx**2/r**3 - 1/r) * tf_cov_cubic_d1_f(r) - (hx/r)**2 * tf_cov_cubic_d2_f(r)\n",
    "\n",
    "@tf.function\n",
    "def K_Gy(x1,x2):\n",
    "    r = squared_euclidean_distance(x1,x2)\n",
    "    hy = x2[1] - x1[1]\n",
    "    if r == 0:\n",
    "        return 1/3.\n",
    "    else:\n",
    "        return (hy**2/r**3 - 1/r) * tf_cov_cubic_d1_f(r) - (hy/r)**2 * tf_cov_cubic_d2_f(r)\n",
    "\n",
    "# cross-cov grad\n",
    "@tf.function\n",
    "def K_GxGy(x1,x2):\n",
    "    r = squared_euclidean_distance(x1,x2)\n",
    "    hx = x2[0] - x1[0]\n",
    "    hy = x2[1] - x1[1]\n",
    "    if r == 0:\n",
    "        return constant32(0)\n",
    "    else:\n",
    "        return hx * hy /r**2 * (1/r * tf_cov_cubic_d1_f(r) - tf_cov_cubic_d2_f(r))\n"
   ]
  },
  {
   "cell_type": "code",
   "execution_count": 17,
   "metadata": {
    "ExecuteTime": {
     "end_time": "2020-02-18T12:27:00.200968Z",
     "start_time": "2020-02-18T12:27:00.197944Z"
    }
   },
   "outputs": [],
   "source": [
    "@tf.function\n",
    "def cov_gradient(mx,my):\n",
    "    dist_matrix = "
   ]
  },
  {
   "cell_type": "code",
   "execution_count": 138,
   "metadata": {
    "ExecuteTime": {
     "end_time": "2020-02-18T15:27:40.091372Z",
     "start_time": "2020-02-18T15:27:40.087513Z"
    }
   },
   "outputs": [],
   "source": [
    "x_1 = constant32([[1., 3.],\n",
    "                  [3., 6.],\n",
    "                  [5., 9.]])\n",
    "x_2 = constant32([[1., 3.],\n",
    "                  [3., 6.],\n",
    "                  [5., 9.]])\n",
    "\n",
    "x_1_tiled = tf.tile(x_1,[2,1])\n",
    "x_2_tiled = tf.tile(x_1,[2,1])"
   ]
  },
  {
   "cell_type": "code",
   "execution_count": 109,
   "metadata": {
    "ExecuteTime": {
     "end_time": "2020-02-18T14:36:35.320423Z",
     "start_time": "2020-02-18T14:36:35.314405Z"
    }
   },
   "outputs": [],
   "source": [
    "@tf.function\n",
    "def squared_euclidean_distance(x_1,x_2):\n",
    "    sqd = tf.sqrt(tf.reshape(tf.reduce_sum(x_1**2,1),shape =(x_1.shape[0],1))+\\\n",
    "    tf.reshape(tf.reduce_sum(x_2**2,1),shape =(1,x_2.shape[0]))-\\\n",
    "    2*tf.tensordot(x_1,tf.transpose(x_2),1))\n",
    "    return sqd"
   ]
  },
  {
   "cell_type": "code",
   "execution_count": 110,
   "metadata": {
    "ExecuteTime": {
     "end_time": "2020-02-18T14:36:35.551925Z",
     "start_time": "2020-02-18T14:36:35.524502Z"
    }
   },
   "outputs": [],
   "source": [
    "dist = squared_euclidean_distance(x_1,x_2)"
   ]
  },
  {
   "cell_type": "code",
   "execution_count": 126,
   "metadata": {
    "ExecuteTime": {
     "end_time": "2020-02-18T15:05:10.364891Z",
     "start_time": "2020-02-18T15:05:10.357607Z"
    }
   },
   "outputs": [
    {
     "data": {
      "text/plain": [
       "<tf.Tensor: shape=(3, 6), dtype=float32, numpy=\n",
       "array([[ 0.,  2.,  4.,  0.,  2.,  4.],\n",
       "       [-2.,  0.,  2., -2.,  0.,  2.],\n",
       "       [-4., -2.,  0., -4., -2.,  0.]], dtype=float32)>"
      ]
     },
     "execution_count": 126,
     "metadata": {},
     "output_type": "execute_result"
    }
   ],
   "source": [
    "tf.tile(x_1[:,0] - tf.reshape(x_2[:,0],[x_2.shape[0],1]),[1,2])"
   ]
  },
  {
   "cell_type": "code",
   "execution_count": 127,
   "metadata": {
    "ExecuteTime": {
     "end_time": "2020-02-18T15:05:28.430442Z",
     "start_time": "2020-02-18T15:05:28.423385Z"
    }
   },
   "outputs": [],
   "source": [
    "#Cartesian distances\n",
    "def cartesian_dist(x_1,x_2):\n",
    "    return tf.concat([\n",
    "        tf.tile(x_1[:,0] - tf.reshape(x_2[:,0],[x_2.shape[0],1]),[1,2]),\n",
    "        tf.tile(x_1[:,1] - tf.reshape(x_2[:,1],[x_2.shape[0],1]),[1,2])],axis = 0) \n",
    "h_u = cartesian_dist(x_1,x_2)"
   ]
  },
  {
   "cell_type": "code",
   "execution_count": 139,
   "metadata": {
    "ExecuteTime": {
     "end_time": "2020-02-18T15:28:19.170692Z",
     "start_time": "2020-02-18T15:28:19.135501Z"
    }
   },
   "outputs": [],
   "source": [
    "dist_tiled = squared_euclidean_distance(x_1_tiled,x_2_tiled)"
   ]
  },
  {
   "cell_type": "code",
   "execution_count": 140,
   "metadata": {
    "ExecuteTime": {
     "end_time": "2020-02-18T15:28:19.730574Z",
     "start_time": "2020-02-18T15:28:19.725326Z"
    }
   },
   "outputs": [
    {
     "data": {
      "text/plain": [
       "<tf.Tensor: shape=(6, 6), dtype=float32, numpy=\n",
       "array([[ 0.,  2.,  4.,  0.,  2.,  4.],\n",
       "       [-2.,  0.,  2., -2.,  0.,  2.],\n",
       "       [-4., -2.,  0., -4., -2.,  0.],\n",
       "       [ 0.,  3.,  6.,  0.,  3.,  6.],\n",
       "       [-3.,  0.,  3., -3.,  0.,  3.],\n",
       "       [-6., -3.,  0., -6., -3.,  0.]], dtype=float32)>"
      ]
     },
     "execution_count": 140,
     "metadata": {},
     "output_type": "execute_result"
    }
   ],
   "source": [
    "h_u"
   ]
  },
  {
   "cell_type": "code",
   "execution_count": 141,
   "metadata": {
    "ExecuteTime": {
     "end_time": "2020-02-18T15:28:20.135019Z",
     "start_time": "2020-02-18T15:28:20.131752Z"
    }
   },
   "outputs": [],
   "source": [
    "h_v = tf.transpose(h_u)"
   ]
  },
  {
   "cell_type": "code",
   "execution_count": 142,
   "metadata": {
    "ExecuteTime": {
     "end_time": "2020-02-18T15:28:20.824239Z",
     "start_time": "2020-02-18T15:28:20.818897Z"
    }
   },
   "outputs": [
    {
     "data": {
      "text/plain": [
       "<tf.Tensor: shape=(6, 6), dtype=float32, numpy=\n",
       "array([[ 0., -2., -4.,  0., -3., -6.],\n",
       "       [ 2.,  0., -2.,  3.,  0., -3.],\n",
       "       [ 4.,  2.,  0.,  6.,  3.,  0.],\n",
       "       [ 0., -2., -4.,  0., -3., -6.],\n",
       "       [ 2.,  0., -2.,  3.,  0., -3.],\n",
       "       [ 4.,  2.,  0.,  6.,  3.,  0.]], dtype=float32)>"
      ]
     },
     "execution_count": 142,
     "metadata": {},
     "output_type": "execute_result"
    }
   ],
   "source": [
    "h_v"
   ]
  },
  {
   "cell_type": "code",
   "execution_count": 143,
   "metadata": {
    "ExecuteTime": {
     "end_time": "2020-02-18T15:28:21.145432Z",
     "start_time": "2020-02-18T15:28:21.138813Z"
    }
   },
   "outputs": [
    {
     "data": {
      "text/plain": [
       "<tf.Tensor: shape=(6, 6), dtype=float32, numpy=\n",
       "array([[        inf,  1.2307696 , -0.1538462 ,         inf,  1.8461543 ,\n",
       "        -0.23076929],\n",
       "       [ 1.2307696 ,         inf,  1.2307696 ,  1.8461543 ,         inf,\n",
       "         1.8461543 ],\n",
       "       [-0.1538462 ,  1.2307696 ,         inf, -0.23076929,  1.8461543 ,\n",
       "                inf],\n",
       "       [        inf,  1.8461543 , -0.23076929,         inf,  2.7692316 ,\n",
       "        -0.34615394],\n",
       "       [ 1.8461543 ,         inf,  1.8461543 ,  2.7692316 ,         inf,\n",
       "         2.7692316 ],\n",
       "       [-0.23076929,  1.8461543 ,         inf, -0.34615386,  2.7692308 ,\n",
       "                inf]], dtype=float32)>"
      ]
     },
     "execution_count": 143,
     "metadata": {},
     "output_type": "execute_result"
    }
   ],
   "source": [
    "tf.matmul(h_u,h_v)/dist_tiled**2"
   ]
  },
  {
   "cell_type": "code",
   "execution_count": 151,
   "metadata": {
    "ExecuteTime": {
     "end_time": "2020-02-18T15:36:35.829039Z",
     "start_time": "2020-02-18T15:36:35.822888Z"
    }
   },
   "outputs": [],
   "source": [
    "a = tf.concat([tf.ones([x_1.shape[0],x_1.shape[0]]),tf.zeros([x_1.shape[0],x_1.shape[0]])],axis = 1)\n",
    "b = tf.concat([tf.zeros([x_1.shape[0],x_1.shape[0]]),tf.ones([x_1.shape[0],x_1.shape[0]])],axis = 1)\n",
    "\n",
    "perpendicularity_matrix = tf.concat([a,b],axis = 0)"
   ]
  },
  {
   "cell_type": "code",
   "execution_count": 157,
   "metadata": {
    "ExecuteTime": {
     "end_time": "2020-02-18T15:42:44.537239Z",
     "start_time": "2020-02-18T15:42:44.533959Z"
    }
   },
   "outputs": [],
   "source": [
    "c_o_T = -1\n",
    "a_T = 10"
   ]
  },
  {
   "cell_type": "code",
   "execution_count": 190,
   "metadata": {
    "ExecuteTime": {
     "end_time": "2020-02-18T16:32:29.952201Z",
     "start_time": "2020-02-18T16:32:29.945425Z"
    }
   },
   "outputs": [],
   "source": [
    "def cov_gradients(dist_tiled):\n",
    "    C_G = (h_u*h_v / dist_tiled**2)*\\\n",
    "    (-c_o_T*((-14/a_T**2)+105/4*dist_tiled/a_T**3 - 35/2 * dist_tiled**3 / a_T **5 + 21 /4 * dist_tiled**5/a_T**7)+\n",
    "        c_o_T * 7 * (9 * dist_tiled ** 5 - 20 * a_T ** 2 * dist_tiled ** 3 +\n",
    "                                       15 * a_T ** 4 * dist_tiled - 4 * a_T ** 5) / (2 * a_T ** 7)-\n",
    "        perpendicularity_matrix * c_o_T * ((-14 / a_T ** 2) + 105 / 4 * dist_tiled / a_T ** 3 -\n",
    "                                   35 / 2 * dist_tiled ** 3 / a_T ** 5 +\n",
    "                                   21 / 4 * dist_tiled ** 5 / a_T ** 7))\n",
    "    return C_G"
   ]
  },
  {
   "cell_type": "code",
   "execution_count": 194,
   "metadata": {
    "ExecuteTime": {
     "end_time": "2020-02-18T16:35:20.539783Z",
     "start_time": "2020-02-18T16:35:20.536220Z"
    }
   },
   "outputs": [],
   "source": [
    "dist = dist_tiled + tf.ones(dist_tiled.shape)"
   ]
  },
  {
   "cell_type": "code",
   "execution_count": 195,
   "metadata": {
    "ExecuteTime": {
     "end_time": "2020-02-18T16:35:20.818995Z",
     "start_time": "2020-02-18T16:35:20.805560Z"
    }
   },
   "outputs": [
    {
     "data": {
      "text/plain": [
       "<tf.Tensor: shape=(6, 6), dtype=float32, numpy=\n",
       "array([[-0.        ,  0.02077409,  0.00584263, -0.        ,  0.02122898,\n",
       "         0.00814298],\n",
       "       [ 0.02077409, -0.        ,  0.02077409,  0.02122898, -0.        ,\n",
       "         0.02122898],\n",
       "       [ 0.00584263,  0.02077409, -0.        ,  0.00814298,  0.02122898,\n",
       "        -0.        ],\n",
       "       [-0.        ,  0.02122898,  0.00814298, -0.        ,  0.0467417 ,\n",
       "         0.01314592],\n",
       "       [ 0.02122898, -0.        ,  0.02122898,  0.0467417 , -0.        ,\n",
       "         0.0467417 ],\n",
       "       [ 0.00814298,  0.02122898, -0.        ,  0.01314589,  0.04674169,\n",
       "        -0.        ]], dtype=float32)>"
      ]
     },
     "execution_count": 195,
     "metadata": {},
     "output_type": "execute_result"
    }
   ],
   "source": [
    "cov_gradients(dist)"
   ]
  },
  {
   "cell_type": "markdown",
   "metadata": {},
   "source": [
    "### Test if it works properly\n"
   ]
  },
  {
   "cell_type": "code",
   "execution_count": 206,
   "metadata": {
    "ExecuteTime": {
     "end_time": "2020-02-18T16:45:03.105307Z",
     "start_time": "2020-02-18T16:45:03.101754Z"
    }
   },
   "outputs": [],
   "source": [
    "x = constant32([[0,1]])"
   ]
  },
  {
   "cell_type": "code",
   "execution_count": 209,
   "metadata": {
    "ExecuteTime": {
     "end_time": "2020-02-18T16:46:00.865814Z",
     "start_time": "2020-02-18T16:46:00.862438Z"
    }
   },
   "outputs": [],
   "source": [
    "d_T = squared_euclidean_distance(x,x)\n",
    "d_T = d_T + tf.ones(d_T.shape)"
   ]
  },
  {
   "cell_type": "code",
   "execution_count": 211,
   "metadata": {
    "ExecuteTime": {
     "end_time": "2020-02-18T16:47:05.356727Z",
     "start_time": "2020-02-18T16:47:05.352365Z"
    }
   },
   "outputs": [],
   "source": [
    "h_u = cartesian_dist(x,x)"
   ]
  },
  {
   "cell_type": "code",
   "execution_count": 213,
   "metadata": {
    "ExecuteTime": {
     "end_time": "2020-02-18T16:48:41.728186Z",
     "start_time": "2020-02-18T16:48:41.724894Z"
    }
   },
   "outputs": [],
   "source": [
    "h_v = tf.transpose(h_u)"
   ]
  },
  {
   "cell_type": "code",
   "execution_count": 214,
   "metadata": {
    "ExecuteTime": {
     "end_time": "2020-02-18T16:49:36.110566Z",
     "start_time": "2020-02-18T16:49:36.103955Z"
    }
   },
   "outputs": [],
   "source": [
    "a = tf.concat([tf.ones([x.shape[0],x.shape[0]]),tf.zeros([x.shape[0],x.shape[0]])],axis = 1)\n",
    "b = tf.concat([tf.zeros([x.shape[0],x.shape[0]]),tf.ones([x.shape[0],x.shape[0]])],axis = 1)\n",
    "\n",
    "perpendicularity_matrix = tf.concat([a,b],axis = 0)"
   ]
  },
  {
   "cell_type": "code",
   "execution_count": 216,
   "metadata": {
    "ExecuteTime": {
     "end_time": "2020-02-18T16:50:00.779029Z",
     "start_time": "2020-02-18T16:50:00.772919Z"
    }
   },
   "outputs": [
    {
     "data": {
      "text/plain": [
       "<tf.Tensor: shape=(2, 2), dtype=float32, numpy=\n",
       "array([[-0., -0.],\n",
       "       [-0., -0.]], dtype=float32)>"
      ]
     },
     "execution_count": 216,
     "metadata": {},
     "output_type": "execute_result"
    }
   ],
   "source": [
    "cov_gradients(d_T)"
   ]
  },
  {
   "cell_type": "code",
   "execution_count": null,
   "metadata": {},
   "outputs": [],
   "source": []
  },
  {
   "cell_type": "code",
   "execution_count": null,
   "metadata": {},
   "outputs": [],
   "source": [
    "cov_gradients(x)"
   ]
  }
 ],
 "metadata": {
  "kernelspec": {
   "display_name": "Python 3.7.1 64-bit ('bys': conda)",
   "language": "python",
   "name": "python37164bitbysconda40e087e0fc0f4c79b5e00459bd86405a"
  },
  "language_info": {
   "codemirror_mode": {
    "name": "ipython",
    "version": 3
   },
   "file_extension": ".py",
   "mimetype": "text/x-python",
   "name": "python",
   "nbconvert_exporter": "python",
   "pygments_lexer": "ipython3",
   "version": "3.7.1"
  },
  "varInspector": {
   "cols": {
    "lenName": 16,
    "lenType": 16,
    "lenVar": 40
   },
   "kernels_config": {
    "python": {
     "delete_cmd_postfix": "",
     "delete_cmd_prefix": "del ",
     "library": "var_list.py",
     "varRefreshCmd": "print(var_dic_list())"
    },
    "r": {
     "delete_cmd_postfix": ") ",
     "delete_cmd_prefix": "rm(",
     "library": "var_list.r",
     "varRefreshCmd": "cat(var_dic_list()) "
    }
   },
   "types_to_exclude": [
    "module",
    "function",
    "builtin_function_or_method",
    "instance",
    "_Feature"
   ],
   "window_display": false
  }
 },
 "nbformat": 4,
 "nbformat_minor": 4
}
