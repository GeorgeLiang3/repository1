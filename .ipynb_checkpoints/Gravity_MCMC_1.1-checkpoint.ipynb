{
 "cells": [
  {
   "cell_type": "markdown",
   "metadata": {},
   "source": [
    "# Inversion of a sphere based on gravity response\n",
    "\n",
    "This is a simple example for the probabilistic inversion of a classical geophysical example: the inversion of a sphere in the subsurface with a different density to the environment based on observed gravity data.\n",
    "\n",
    "We start with the simplest possible case of only one observation (directly above the sphere) and only depth as an uncertain variable and then make the model progressively more complex."
   ]
  },
  {
   "cell_type": "code",
   "execution_count": 42,
   "metadata": {
    "ExecuteTime": {
     "end_time": "2019-10-10T15:48:37.636028Z",
     "start_time": "2019-10-10T15:48:37.629948Z"
    }
   },
   "outputs": [],
   "source": [
    "from scipy.stats import norm\n",
    "import numpy as np\n",
    "import matplotlib.pyplot as plt\n",
    "import tensorflow as tf\n",
    "import tensorflow_probability as tfp\n",
    "from tensorflow_probability import edward2 as ed\n",
    "tfd = tfp.distributions\n",
    "\n",
    "import seaborn as sns\n",
    "import pandas as pd\n",
    "%matplotlib inline\n",
    "\n",
    "tf.reset_default_graph()\n",
    "\n",
    "# np.random.seed(111)\n",
    "# tf.set_random_seed(111)\n"
   ]
  },
  {
   "cell_type": "markdown",
   "metadata": {},
   "source": [
    "We now calculate the effect of this density contrast that would be observed on the surface. This is a well-studied example with an analytical solution:\n",
    "\n",
    "$$g(x) = 10^5 \\;\\frac{4}{3} \\,\\pi \\;\\frac{r^3 \\,\\Delta \\rho\\, G\\, z}\n",
    "{\\sqrt{\\left( x^2 + z^2\\right)^3}}$$\n",
    "\n",
    "where:\n",
    "\n",
    "- $z$ is the vertical position of the center of the sphere (lateral position at origin),\n",
    "- $r$ its radius,\n",
    "- $\\Delta \\rho$ the density difference to the surrounding domain,\n",
    "- $G$ the gravitational constant,\n",
    "- and $x$ the position at which the gravitational acceleration is calculated.\n"
   ]
  },
  {
   "cell_type": "code",
   "execution_count": 43,
   "metadata": {
    "ExecuteTime": {
     "end_time": "2019-10-10T15:48:37.642131Z",
     "start_time": "2019-10-10T15:48:37.638244Z"
    }
   },
   "outputs": [],
   "source": [
    "def grav_analytical(x, sphere_center, sphere_radius, density_difference):\n",
    "    \"\"\"Calculate gravitational effect of a sphere, measured at surface\n",
    "    \n",
    "    **Arguments**:\n",
    "    - 'x' = scalar or np.array: position(s) of observation\n",
    "    - 'sphere_center' = float: is the vertical position of the center of the sphere (lateral position at origin)\n",
    "    - 'sphere_radius' = float: sphere radius\n",
    "    - 'density_difference' = float: density difference to the surrounding domain\n",
    "    \"\"\"\n",
    "    G=6.67e-11 # gravitational constant\n",
    "    return ((4/3)*np.pi * (sphere_radius**3) * density_difference\n",
    "            * G * sphere_center/(x**2 + sphere_center**2)**(3/2)) * 1e5\n"
   ]
  },
  {
   "cell_type": "markdown",
   "metadata": {},
   "source": [
    "## Geometric model\n",
    "\n",
    "We consider here a sphere in the subsurface with a different density. \n",
    "\n",
    "spherical point mass"
   ]
  },
  {
   "cell_type": "code",
   "execution_count": 44,
   "metadata": {
    "ExecuteTime": {
     "end_time": "2019-10-10T15:48:37.647962Z",
     "start_time": "2019-10-10T15:48:37.644273Z"
    }
   },
   "outputs": [],
   "source": [
    "#True model\n",
    "\n",
    "sphere_center_true = 300. #m \n",
    "density_difference_true = 500. # kg/m^3: density diffrence to surrounding domain\n",
    "sphere_radius_true = 100. #m\n",
    "\n",
    "truevalue_list = [sphere_center_true,density_difference_true,sphere_radius_true]\n",
    "x_domain=np.linspace(-1000,1000,101) #m"
   ]
  },
  {
   "cell_type": "code",
   "execution_count": 45,
   "metadata": {
    "ExecuteTime": {
     "end_time": "2019-10-10T15:48:37.654945Z",
     "start_time": "2019-10-10T15:48:37.649965Z"
    }
   },
   "outputs": [],
   "source": [
    "x_obs = np.linspace(-250, 250, 11)\n",
    "grav_all = grav_analytical(x_domain, sphere_center_true, sphere_radius_true, density_difference_true)\n",
    "grav_obs_array = grav_analytical(x_obs, sphere_center_true, sphere_radius_true, density_difference_true)\n",
    "noise = norm(0,0.01).rvs(len(grav_obs_array))\n",
    "grav_obs_array_withnoise = grav_obs_array +noise"
   ]
  },
  {
   "cell_type": "code",
   "execution_count": 46,
   "metadata": {
    "ExecuteTime": {
     "end_time": "2019-10-10T15:48:37.660798Z",
     "start_time": "2019-10-10T15:48:37.656789Z"
    }
   },
   "outputs": [
    {
     "data": {
      "text/plain": [
       "array([0.06358948, 0.10518204, 0.11486461, 0.1413098 , 0.1597031 ,\n",
       "       0.16285785, 0.15531488, 0.14756149, 0.11128856, 0.09365787,\n",
       "       0.06866195])"
      ]
     },
     "execution_count": 46,
     "metadata": {},
     "output_type": "execute_result"
    }
   ],
   "source": [
    "grav_obs_array_withnoise"
   ]
  },
  {
   "cell_type": "markdown",
   "metadata": {},
   "source": [
    "Calculate the variance of the noise, put the variance in an noise tensor"
   ]
  },
  {
   "cell_type": "code",
   "execution_count": 47,
   "metadata": {
    "ExecuteTime": {
     "end_time": "2019-10-10T15:48:37.669937Z",
     "start_time": "2019-10-10T15:48:37.662755Z"
    }
   },
   "outputs": [],
   "source": [
    "noise_variance = np.std(noise)**2\n",
    "\n",
    "noise_1 = tf.convert_to_tensor([noise_variance],dtype = tf.float32)\n",
    "eye = tf.eye(x_obs.shape[0])\n",
    "noise_tensor = tf.multiply(noise_1,eye)"
   ]
  },
  {
   "cell_type": "code",
   "execution_count": 48,
   "metadata": {
    "ExecuteTime": {
     "end_time": "2019-10-10T15:48:37.850353Z",
     "start_time": "2019-10-10T15:48:37.671730Z"
    }
   },
   "outputs": [
    {
     "data": {
      "text/plain": [
       "Text(0, 0.5, 'Y [m]')"
      ]
     },
     "execution_count": 48,
     "metadata": {},
     "output_type": "execute_result"
    },
    {
     "data": {
      "image/png": "[encoded data removed]",
      "text/plain": [
       "<Figure size 432x288 with 1 Axes>"
      ]
     },
     "metadata": {},
     "output_type": "display_data"
    }
   ],
   "source": [
    "plt.style.use('seaborn-darkgrid')\n",
    "ax = plt.subplot(aspect='equal') \n",
    "\n",
    "# create circle object as matplotlib patch\n",
    "circle1 = plt.Circle((0, -sphere_center_true), sphere_radius_true, \n",
    "                     facecolor='r', edgecolor='k', alpha=0.5)\n",
    "\n",
    "ax.add_artist(circle1)\n",
    "\n",
    "# set model domain\n",
    "ax.set_xlim([-1000,1000])\n",
    "ax.set_ylim([-800,10])\n",
    "\n",
    "ax.set_xlabel(\"X [m]\")\n",
    "ax.set_ylabel(\"Y [m]\")\n"
   ]
  },
  {
   "cell_type": "code",
   "execution_count": 49,
   "metadata": {
    "ExecuteTime": {
     "end_time": "2019-10-10T15:48:38.028121Z",
     "start_time": "2019-10-10T15:48:37.853123Z"
    }
   },
   "outputs": [
    {
     "data": {
      "image/png": "[encoded data removed]",
      "text/plain": [
       "<Figure size 432x288 with 1 Axes>"
      ]
     },
     "metadata": {},
     "output_type": "display_data"
    }
   ],
   "source": [
    "plt.plot(x_domain, grav_all)\n",
    "plt.plot(x_obs, grav_obs_array_withnoise, 'o', label=\"data\")\n",
    "plt.title(\"Gravity response for a sphere of radius 100 m and a depth of 300 m\");"
   ]
  },
  {
   "cell_type": "markdown",
   "metadata": {},
   "source": [
    "### Algorithm Flowing hIPPYlib MCMC http://g2s3.com/labs/notebooks/SubsurfaceBayesian.html"
   ]
  },
  {
   "cell_type": "markdown",
   "metadata": {},
   "source": [
    "Bayes’s Theorem"
   ]
  },
  {
   "cell_type": "markdown",
   "metadata": {},
   "source": [
    "\\begin{equation}\n",
    "d \\mu_{\\mathrm{post}}\\left(m | \\mathbf{d}_{\\mathrm{obs}}\\right) \\propto \\pi_{\\mathrm{like}}\\left(\\mathbf{d}_{\\mathrm{obs}} | \\mathrm{m}\\right) \\mathrm{d} \\mu_{\\mathrm{prior}}(\\mathrm{m})\n",
    "\\end{equation}"
   ]
  },
  {
   "cell_type": "markdown",
   "metadata": {},
   "source": [
    "Define the Prior\n",
    "\\begin{equation}\n",
    "\\mu_{\\text {prior }} \\sim \\mathcal{N}\\left(m_{\\text {prior }}, C_{\\text {prior }}\\right)\n",
    "\\end{equation}"
   ]
  },
  {
   "cell_type": "code",
   "execution_count": 50,
   "metadata": {
    "ExecuteTime": {
     "end_time": "2019-10-10T15:48:38.033395Z",
     "start_time": "2019-10-10T15:48:38.030626Z"
    }
   },
   "outputs": [],
   "source": [
    "# sphere_center, density_difference, sphere_radius\n",
    "\n",
    "mu_prior = [280., 480., 80.]\n",
    "\n",
    "\n",
    "cov = [[ 100,  0.,  0.],\n",
    "        [ 0.,  100, 0.],\n",
    "        [ 0., 0.,  100]]\n"
   ]
  },
  {
   "cell_type": "code",
   "execution_count": 51,
   "metadata": {
    "ExecuteTime": {
     "end_time": "2019-10-10T15:48:38.037005Z",
     "start_time": "2019-10-10T15:48:38.034907Z"
    }
   },
   "outputs": [],
   "source": [
    "xvals =[]\n",
    "norm_list =[]"
   ]
  },
  {
   "cell_type": "code",
   "execution_count": 52,
   "metadata": {
    "ExecuteTime": {
     "end_time": "2019-10-10T15:48:38.531598Z",
     "start_time": "2019-10-10T15:48:38.038371Z"
    }
   },
   "outputs": [
    {
     "data": {
      "image/png": "[encoded data removed]",
      "text/plain": [
       "<Figure size 1224x288 with 3 Axes>"
      ]
     },
     "metadata": {},
     "output_type": "display_data"
    }
   ],
   "source": [
    "for i in range(3):\n",
    "    xvals.append(np.arange(mu_prior[i]-200,mu_prior[i]+200))\n",
    "    norm_list.append(norm.pdf(xvals[i],mu_prior[i],cov[i][i]))\n",
    "    \n",
    "np.shape(xvals)\n",
    "\n",
    "name_list = [\"sphere_center\", \"density_difference\", \"sphere_radius\"]\n",
    "\n",
    "fig, axes = plt.subplots(1, 3, sharex='col', sharey='col')\n",
    "fig.set_size_inches(17, 4)\n",
    "\n",
    "\n",
    "for i in range(3):\n",
    "    \n",
    "    axes[i].plot(xvals[i], norm_list[i],label=\"prior\")\n",
    "    axes[i].title.set_text(name_list[i])\n",
    "    axes[i].axvline(truevalue_list[i], label=\"true value\", color='k', \n",
    "            linestyle='--', linewidth=2)\n",
    "    axes[i].legend();\n",
    "\n",
    "    "
   ]
  },
  {
   "cell_type": "markdown",
   "metadata": {},
   "source": [
    "Define the Likelihood\n",
    "\\begin{equation}\n",
    "\\mathbf{d}_{\\mathrm{obs}}=\\mathbf{f}(\\mathrm{m})+\\mathbf{e}, \\quad \\mathbf{e} \\sim \\mathcal{N}\\left(\\mathbf{0}, \\mathbf{\\Gamma}_{\\mathrm{noise}}\\right)\n",
    "\\end{equation}\n",
    "\\begin{equation}\n",
    "\\pi_{\\text {like }}\\left(\\mathbf{d}_{\\text {obs }} | \\mathrm{m}\\right)=\\exp \\left(-\\frac{1}{2}\\left\\|\\mathbf{f}(\\mathrm{m})-\\mathbf{d}_{\\text {obs }}\\right\\|_{\\Gamma_{\\text {noise }}^{-1}}^{2}\\right)\n",
    "\\end{equation}"
   ]
  },
  {
   "cell_type": "code",
   "execution_count": 53,
   "metadata": {
    "ExecuteTime": {
     "end_time": "2019-10-10T15:48:38.537274Z",
     "start_time": "2019-10-10T15:48:38.533190Z"
    }
   },
   "outputs": [],
   "source": [
    "mu_prior = tf.convert_to_tensor(mu_prior)\n",
    "cov = tf.convert_to_tensor(cov)\n"
   ]
  },
  {
   "cell_type": "code",
   "execution_count": 54,
   "metadata": {
    "ExecuteTime": {
     "end_time": "2019-10-10T15:48:38.543883Z",
     "start_time": "2019-10-10T15:48:38.538659Z"
    }
   },
   "outputs": [],
   "source": [
    "# Defind f(m). Here f is the parameter-to-observable map that takes a \n",
    "# parameter m and maps it to the space observation vector dobs.\n",
    "\n",
    "def grav_analytical_tf(x, mu, cov,sess):\n",
    "    # [sphere_center, density_difference, sphere_radius]\n",
    "\n",
    "    mvn = ed.MultivariateNormalFullCovariance(\n",
    "            loc = mu,\n",
    "            covariance_matrix= cov)\n",
    "    G=6.67e-11\n",
    "    sphere_center = mvn.__getitem__(0)\n",
    "    density_difference = mvn.__getitem__(1)\n",
    "    sphere_radius = mvn.__getitem__(2)\n",
    "    \n",
    "    \n",
    "    gravity = ((4/3)*np.pi * (sphere_radius**3) * density_difference* G \n",
    "               * sphere_center/(x**2 + sphere_center**2)**(3/2)) * 1e5 \n",
    "    \n",
    "    print(sess.run(mvn))\n",
    "    \n",
    "\n",
    "    return gravity\n",
    "\n"
   ]
  },
  {
   "cell_type": "markdown",
   "metadata": {},
   "source": [
    "### Gradient decent to find MAP (?)"
   ]
  },
  {
   "cell_type": "code",
   "execution_count": 55,
   "metadata": {
    "ExecuteTime": {
     "end_time": "2019-10-10T15:48:38.549459Z",
     "start_time": "2019-10-10T15:48:38.545390Z"
    }
   },
   "outputs": [],
   "source": [
    "## function compute G^T C^-1 G\n",
    "\n",
    "def matrixcompute(matrix1,matrix2,Cov):\n",
    "    matrix = tf.subtract(matrix1, matrix2)\n",
    "    matrix = tf.reshape(matrix,[matrix.shape[0],1])\n",
    "    matrix_T = tf.transpose(matrix)\n",
    "    Cov_inv = tf.linalg.inv(Cov)\n",
    "    result = tf.multiply(tf.constant(1/2),tf.matmul(tf.matmul(matrix_T,Cov_inv),matrix))\n",
    "    return result"
   ]
  },
  {
   "cell_type": "markdown",
   "metadata": {},
   "source": [
    "\\begin{equation}\n",
    "\\pi_{\\text {like }}\\left(\\mathbf{d}_{\\text {obs }} | \\mathrm{m}\\right)=\\exp \\left(-\\frac{1}{2}\\left\\|\\mathbf{f}(\\mathrm{m})-\\mathbf{d}_{\\text {obs }}\\right\\|_{\\Gamma_{\\text {noise }}^{-1}}^{2}\\right)\n",
    "\\end{equation}"
   ]
  },
  {
   "cell_type": "markdown",
   "metadata": {},
   "source": [
    "#### The posterior\n",
    "\n",
    "\n",
    "\\begin{equation}\n",
    "d \\mu_{\\mathrm{post}}\\left(m | \\mathbf{d}_{\\mathrm{obs}}\\right) \\propto \\exp \\left(-\\frac{1}{2}\\left\\|\\mathbf{f}(\\mathrm{m})-\\mathbf{d}_{\\mathrm{obs}}\\right\\|_{\\mathrm{\\Gamma}_{\\mathrm{noise}}^{-1}}^{2}-\\frac{1}{2}\\left\\|\\mathrm{m}-\\mathrm{m}_{\\mathrm{prior}}\\right\\|_{C_{\\mathrm{prior}}^{-1}}^{2}\\right)\n",
    "\\end{equation}"
   ]
  },
  {
   "cell_type": "markdown",
   "metadata": {},
   "source": [
    "#### negative log of the posterior\n",
    "\\begin{equation}\n",
    "\\left(\\frac{1}{2}\\left\\|\\mathbf{f}(\\mathrm{m})-\\mathbf{d}_{\\mathrm{obs}}\\right\\|_{\\mathrm{\\Gamma}_{\\mathrm{noise}}^{-1}}^{2}+\\frac{1}{2}\\left\\|\\mathrm{m}-\\mathrm{m}_{\\mathrm{prior}}\\right\\|_{C_{\\mathrm{prior}}^{-1}}^{2}\\right)\n",
    "\\end{equation}\n"
   ]
  },
  {
   "cell_type": "markdown",
   "metadata": {},
   "source": [
    "term 1 = \n",
    "\\begin{equation}\n",
    "\\frac{1}{2}\\left\\|\\mathbf{f}(\\mathrm{m})-\\mathbf{d}_{\\text {obs }}\\right\\|_{\\Gamma_{\\text {noise }}^{-1}}^{2}\n",
    "\\end{equation}"
   ]
  },
  {
   "cell_type": "markdown",
   "metadata": {},
   "source": [
    "term 2 =\n",
    "\\begin{equation}\n",
    "\\frac{1}{2}\\left\\|\\mathrm{m}-\\mathrm{m}_{\\mathrm{prior}}\\right\\|_{C_{\\mathrm{prior}}^{-1}}^{2}\n",
    "\\end{equation}\n"
   ]
  },
  {
   "cell_type": "code",
   "execution_count": 56,
   "metadata": {
    "ExecuteTime": {
     "end_time": "2019-10-10T15:48:38.555917Z",
     "start_time": "2019-10-10T15:48:38.551387Z"
    }
   },
   "outputs": [],
   "source": [
    "def grav_analytical_tf(x, mu, cov,sess):\n",
    "    # [sphere_center, density_difference, sphere_radius]\n",
    "\n",
    "    mvn = ed.MultivariateNormalFullCovariance(\n",
    "            loc = mu,\n",
    "            covariance_matrix= cov)\n",
    "    G=6.67e-11\n",
    "    sphere_center = mvn.__getitem__(0)\n",
    "    density_difference = mvn.__getitem__(1)\n",
    "    sphere_radius = mvn.__getitem__(2)\n",
    "    \n",
    "    gravity = ((4/3)*np.pi * (sphere_radius**3) * density_difference* G \n",
    "               * sphere_center/(x**2 + sphere_center**2)**(3/2)) * 1e5 \n",
    "    \n",
    "    print(sess.run(mvn))\n",
    "    \n",
    "    return gravity"
   ]
  },
  {
   "cell_type": "code",
   "execution_count": 57,
   "metadata": {
    "ExecuteTime": {
     "end_time": "2019-10-10T15:48:38.564461Z",
     "start_time": "2019-10-10T15:48:38.557802Z"
    }
   },
   "outputs": [],
   "source": [
    "#     print(sess.run(tf.get_collection(tf.GraphKeys.TRAINABLE_VARIABLES)))\n",
    "\n",
    "## initial guess\n",
    "\n",
    "mu = tf.get_variable(\"mu\", dtype=tf.float32,\n",
    "  initializer=tf.constant([200., 400., 50.]))\n"
   ]
  },
  {
   "cell_type": "code",
   "execution_count": 58,
   "metadata": {
    "ExecuteTime": {
     "end_time": "2019-10-10T15:48:38.771840Z",
     "start_time": "2019-10-10T15:48:38.566179Z"
    }
   },
   "outputs": [
    {
     "name": "stdout",
     "output_type": "stream",
     "text": [
      "[191.01385 389.17047  40.62361]\n",
      "[[1244.5795]]\n",
      "[[68.49999]]\n"
     ]
    }
   ],
   "source": [
    "init = tf.global_variables_initializer()\n",
    "with tf.Session() as sess:\n",
    "    sess.run(init)\n",
    "    grav = grav_analytical_tf(x_obs,mu, cov, sess)\n",
    "    term_1 = matrixcompute(grav,grav_obs_array_withnoise,noise_tensor)\n",
    "    term_2 = matrixcompute(mu,mu_prior,cov)\n",
    "    print(sess.run(term_1))\n",
    "    print(sess.run(term_2))\n"
   ]
  },
  {
   "cell_type": "code",
   "execution_count": 59,
   "metadata": {
    "ExecuteTime": {
     "end_time": "2019-10-10T15:49:08.998013Z",
     "start_time": "2019-10-10T15:48:38.773287Z"
    }
   },
   "outputs": [
    {
     "name": "stdout",
     "output_type": "stream",
     "text": [
      "[180.84972 404.77603  69.01691]\n",
      "starting at mu: [200. 400.  50.] negative log likelihood: [[1574.8633]]\n",
      "[array([  2.1975431,  -1.9150729, -28.074856 ], dtype=float32)]\n",
      "step 0 mu: [199.66588  400.2182    53.493355] negative log likelihood: [[1320.0537]]\n",
      "[array([-1.6980923, -0.697554 ,  0.5755797], dtype=float32)]\n",
      "step 100 mu: [221.45667 406.85516  89.95326] negative log likelihood: [[514.4091]]\n",
      "[array([  2.8386059,  -2.0803921, -18.231764 ], dtype=float32)]\n",
      "step 200 mu: [240.39552 411.48087  95.57977] negative log likelihood: [[53.283142]]\n",
      "[array([-1.6341087 , -0.24832475,  5.0586214 ], dtype=float32)]\n",
      "step 300 mu: [255.71341 415.51617  97.1748 ] negative log likelihood: [[66.8855]]\n",
      "[array([-5.812481 ,  1.6399446, 26.257341 ], dtype=float32)]\n",
      "step 400 mu: [264.4635  420.44028 106.60279] negative log likelihood: [[1009.0444]]\n",
      "[array([  4.3031545,  -2.2659054, -24.50902  ], dtype=float32)]\n",
      "step 500 mu: [276.70605  422.9887   102.078995] negative log likelihood: [[24.915775]]\n",
      "[array([  2.8666608,  -1.7130873, -15.10942  ], dtype=float32)]\n",
      "step 600 mu: [283.01965 426.46698 107.99058] negative log likelihood: [[61.216755]]\n",
      "[array([  2.3863022,  -1.4577446, -12.000919 ], dtype=float32)]\n",
      "step 700 mu: [289.84393 429.09235 106.90371] negative log likelihood: [[24.743677]]\n",
      "[array([-16.312902,   6.132847,  73.922   ], dtype=float32)]\n",
      "step 800 mu: [294.31387 431.7427  105.28874] negative log likelihood: [[34.570244]]\n",
      "[array([  5.58212  ,  -2.7262712, -32.6398   ], dtype=float32)]\n",
      "step 900 mu: [298.3217  434.10803  96.51137] negative log likelihood: [[133.05145]]\n",
      "[array([-1.1538236 ,  0.17019436,  7.401363  ], dtype=float32)]\n",
      "step 1000 mu: [302.9243   435.742     98.025696] negative log likelihood: [[278.0912]]\n",
      "[array([-0.9530014 ,  0.16747844,  7.1854916 ], dtype=float32)]\n",
      "step 1100 mu: [305.33368 438.08966 101.70535] negative log likelihood: [[35.563866]]\n",
      "[array([-5.9208794,  2.2640252, 30.498404 ], dtype=float32)]\n",
      "step 1200 mu: [307.34662 440.17014 104.77611] negative log likelihood: [[26.721706]]\n",
      "[array([-45.542633,  18.75783 , 187.85638 ], dtype=float32)]\n",
      "step 1300 mu: [307.91446  442.42838  110.508316] negative log likelihood: [[40.6225]]\n",
      "[array([  3.1638706,  -1.5936735, -14.736995 ], dtype=float32)]\n",
      "step 1400 mu: [311.5303  443.01077 106.54195] negative log likelihood: [[714.809]]\n",
      "[array([  4.2833014,  -1.9190772, -22.24052  ], dtype=float32)]\n",
      "step 1500 mu: [312.90588 444.34308 104.82572] negative log likelihood: [[23.443813]]\n",
      "[array([ 1.8711253, -0.9191271, -7.566787 ], dtype=float32)]\n",
      "step 1600 mu: [313.60355 445.7189  101.28606] negative log likelihood: [[115.19714]]\n",
      "[array([ 1.7928637, -0.8715124, -6.959998 ], dtype=float32)]\n",
      "step 1700 mu: [315.62524  446.66144  101.880005] negative log likelihood: [[44.632545]]\n",
      "[array([  3.0289757,  -1.4199376, -13.900599 ], dtype=float32)]\n",
      "step 1800 mu: [316.50708 447.5571  101.02229] negative log likelihood: [[170.71075]]\n",
      "[array([-1.4345987 ,  0.47696507,  9.821545  ], dtype=float32)]\n",
      "step 1900 mu: [315.9876   448.8273   108.157295] negative log likelihood: [[1546.4825]]\n",
      "[array([ 1.3676375 , -0.66330737, -4.101757  ], dtype=float32)]\n",
      "step 2000 mu: [317.5817  449.2729  106.62234] negative log likelihood: [[189.82994]]\n",
      "[array([-3.479856 ,  1.5523579, 20.786566 ], dtype=float32)]\n",
      "step 2100 mu: [319.22604 449.4369  100.66928] negative log likelihood: [[825.84296]]\n",
      "[array([-3.0104492,  1.2186195, 18.351095 ], dtype=float32)]\n",
      "step 2200 mu: [319.75122  450.10492   99.428024] negative log likelihood: [[23.590078]]\n",
      "[array([-6.302269 ,  2.6765022, 34.73621  ], dtype=float32)]\n",
      "step 2300 mu: [319.10117 451.2387  107.43567] negative log likelihood: [[23.75647]]\n",
      "[array([  4.6544714,  -2.0218658, -24.675974 ], dtype=float32)]\n",
      "step 2400 mu: [320.91284  451.21118   99.844574] negative log likelihood: [[21.240252]]\n",
      "[array([  5.6163716,  -2.4006484, -34.621464 ], dtype=float32)]\n",
      "step 2500 mu: [320.9552  451.83005 101.16004] negative log likelihood: [[318.8308]]\n",
      "[array([  4.924099 ,  -2.0508478, -26.304075 ], dtype=float32)]\n",
      "step 2600 mu: [318.79028 453.17557 108.15989] negative log likelihood: [[38.163986]]\n",
      "[array([  5.4080095,  -2.4388127, -31.515162 ], dtype=float32)]\n",
      "step 2700 mu: [321.01053 452.78067 100.05652] negative log likelihood: [[123.609634]]\n",
      "[array([  5.4981747,  -2.503849 , -32.331493 ], dtype=float32)]\n",
      "step 2800 mu: [320.06558  453.87042  101.927376] negative log likelihood: [[460.2758]]\n",
      "[array([ 0.5841991 , -0.25401095,  0.26960185], dtype=float32)]\n",
      "step 2900 mu: [319.44373 454.64767 107.55572] negative log likelihood: [[519.9702]]\n",
      "[array([ 1.3886049, -0.5929291, -4.127525 ], dtype=float32)]\n",
      "step 3000 mu: [320.35236 454.76544 103.89464] negative log likelihood: [[21.775055]]\n",
      "[array([  5.249125 ,  -2.2726548, -28.460804 ], dtype=float32)]\n",
      "step 3100 mu: [321.507   454.5897  101.55359] negative log likelihood: [[165.23329]]\n",
      "[array([  3.6489356,  -1.5531051, -17.515272 ], dtype=float32)]\n",
      "step 3200 mu: [324.18906  453.91745   94.811935] negative log likelihood: [[269.10538]]\n",
      "[array([  5.3491926,  -2.4617448, -31.367737 ], dtype=float32)]\n",
      "step 3300 mu: [323.57596 454.3834   98.88808] negative log likelihood: [[94.578]]\n",
      "[array([-3.8514864,  1.6035429, 22.060041 ], dtype=float32)]\n",
      "step 3400 mu: [320.83484 455.8332  109.80882] negative log likelihood: [[132.71973]]\n",
      "[array([  5.273194 ,  -2.1523144, -29.096653 ], dtype=float32)]\n",
      "step 3500 mu: [320.77554 456.1425  106.00095] negative log likelihood: [[22.520876]]\n",
      "[array([  5.462505 ,  -2.3550627, -35.390423 ], dtype=float32)]\n",
      "step 3600 mu: [322.19083  455.81003  104.133224] negative log likelihood: [[37.159798]]\n",
      "[array([-0.49183196,  0.21659926,  5.763347  ], dtype=float32)]\n",
      "step 3700 mu: [322.22345 455.857    97.59309] negative log likelihood: [[28.032309]]\n",
      "[array([  4.5601735,  -1.9653682, -23.73165  ], dtype=float32)]\n",
      "step 3800 mu: [321.13364 456.3222  100.60331] negative log likelihood: [[22.011213]]\n",
      "[array([ 2.0430164 , -0.88088006, -7.936928  ], dtype=float32)]\n",
      "step 3900 mu: [318.93304 457.3452  105.49792] negative log likelihood: [[116.99163]]\n",
      "[array([ 0.06822881, -0.04201068,  2.6656108 ], dtype=float32)]\n",
      "step 4000 mu: [318.8451  457.58405 103.4472 ] negative log likelihood: [[251.612]]\n",
      "[array([-1.9095521,  0.8247731, 12.816603 ], dtype=float32)]\n",
      "step 4100 mu: [316.91125 458.60397 111.16582] negative log likelihood: [[64.55993]]\n",
      "[array([  5.094497 ,  -2.2186282, -28.109365 ], dtype=float32)]\n",
      "step 4200 mu: [324.0311  455.75696  93.86287] negative log likelihood: [[731.3952]]\n",
      "[array([  4.5671215,  -1.9478682, -23.871304 ], dtype=float32)]\n",
      "step 4300 mu: [322.76047 456.4449  102.70325] negative log likelihood: [[53.563324]]\n",
      "[array([-1.1518419e-02, -2.2778958e-03,  3.1051233e+00], dtype=float32)]\n",
      "step 4400 mu: [321.80136 457.14948 106.57359] negative log likelihood: [[21.950302]]\n",
      "[array([-8.479714,  3.333099, 42.970516], dtype=float32)]\n",
      "step 4500 mu: [319.86002  457.87433  115.168335] negative log likelihood: [[22.796442]]\n",
      "[array([-8.07562  ,  3.5290678, 42.31735  ], dtype=float32)]\n",
      "step 4600 mu: [321.0229  457.40247 103.7034 ] negative log likelihood: [[226.18393]]\n",
      "[array([-8.781595 ,  3.8204885, 45.196995 ], dtype=float32)]\n",
      "step 4700 mu: [319.9565   458.02304  111.702705] negative log likelihood: [[74.41165]]\n",
      "[array([-8.269053 ,  3.5562422, 43.870544 ], dtype=float32)]\n",
      "step 4800 mu: [319.6416  458.27136 108.4543 ] negative log likelihood: [[30.948677]]\n",
      "[array([  5.01871  ,  -2.1906617, -34.625805 ], dtype=float32)]\n",
      "step 4900 mu: [322.42584  457.1151    96.223656] negative log likelihood: [[520.40027]]\n"
     ]
    }
   ],
   "source": [
    "init = tf.global_variables_initializer()\n",
    "with tf.Session() as session:\n",
    "    session.run(init)\n",
    "    grav = grav_analytical_tf(x_obs,mu, cov, session)\n",
    "    term_1 = matrixcompute(grav,grav_obs_array_withnoise,noise_tensor)\n",
    "    term_2 = matrixcompute(mu,mu_prior,cov)\n",
    "    Negtive_log_likelihood = tf.add(term_1,term_2)\n",
    "    \n",
    "    \n",
    "    optimizer = tf.train.GradientDescentOptimizer(0.1)\n",
    "    train = optimizer.minimize(Negtive_log_likelihood,var_list =mu)\n",
    "    log_tem = session.run(Negtive_log_likelihood) \n",
    "    \n",
    "    \n",
    "    print(\"starting at\", \"mu:\", session.run(mu), \"negative log likelihood:\", session.run(Negtive_log_likelihood))\n",
    "    for step in range(5000):  \n",
    "        session.run(train)\n",
    "        if step%100 == 0:print(session.run(tf.gradients(Negtive_log_likelihood,mu)))\n",
    "        log_tem_new = session.run(Negtive_log_likelihood)\n",
    "       ## Find and save MAP point \n",
    "        if log_tem_new < log_tem:\n",
    "            log_tem = log_tem_new\n",
    "            MAP = session.run(mu)\n",
    "        \n",
    "        if step%100 == 0: print(\"step\", step, \"mu:\", session.run(mu), \"negative log likelihood:\",log_tem_new )\n",
    "\n",
    "    "
   ]
  },
  {
   "cell_type": "markdown",
   "metadata": {},
   "source": [
    "### <span style=\"color:red\">Gradient decsent doesn't work well with this Problem</span>     or Maybe fine?\n",
    "\n",
    "It seems been track at the local minimum.   \n",
    "Potential Solution:\n",
    "* Globalized Newtown-CG method as in hIPPYlib"
   ]
  },
  {
   "cell_type": "markdown",
   "metadata": {},
   "source": [
    "## MCMC"
   ]
  },
  {
   "cell_type": "code",
   "execution_count": 60,
   "metadata": {
    "ExecuteTime": {
     "end_time": "2019-10-10T15:49:09.345094Z",
     "start_time": "2019-10-10T15:49:08.999853Z"
    }
   },
   "outputs": [
    {
     "name": "stdout",
     "output_type": "stream",
     "text": [
      "[318.19644 457.89508 104.5001 ]\n"
     ]
    }
   ],
   "source": [
    "# MAP = [300., 500., 100.]\n",
    "MAP = tf.convert_to_tensor(MAP)\n",
    "\n",
    "with tf.Session() as sess:\n",
    "\n",
    "    print(sess.run(MAP))\n"
   ]
  },
  {
   "cell_type": "code",
   "execution_count": 61,
   "metadata": {
    "ExecuteTime": {
     "end_time": "2019-10-10T15:49:09.352051Z",
     "start_time": "2019-10-10T15:49:09.346964Z"
    }
   },
   "outputs": [],
   "source": [
    "def compute_hessian(fn, vars):\n",
    "    mat = []\n",
    "    for v1 in vars:\n",
    "        temp = []\n",
    "        for v2 in vars:\n",
    "            # computing derivative twice, first w.r.t v2 and then w.r.t v1\n",
    "            temp.append(tf.gradients(tf.gradients(fn, v2)[0], v1)[0])\n",
    "        temp = [cons(0) if t == None else t for t in temp] # tensorflow returns None when there is no gradient, so we replace None with 0\n",
    "        temp = tf.stack(temp)\n",
    "        mat.append(temp)\n",
    "    mat = tf.stack(mat)\n",
    "    return mat\n",
    "def cons(x):\n",
    "    return tf.constant(x, dtype=tf.float32)"
   ]
  },
  {
   "cell_type": "markdown",
   "metadata": {},
   "source": [
    "### Forward model in TensorFlow\n",
    "\n",
    "* Calculate Hessian\n",
    "* Variable defined in Edward multivariate Normal object"
   ]
  },
  {
   "cell_type": "code",
   "execution_count": 62,
   "metadata": {
    "ExecuteTime": {
     "end_time": "2019-10-10T15:49:09.358624Z",
     "start_time": "2019-10-10T15:49:09.353702Z"
    }
   },
   "outputs": [],
   "source": [
    "def grav_analytical_tf(x, mu, cov, hess = False):\n",
    "    # [sphere_center, density_difference, sphere_radius]\n",
    "\n",
    "    mvn = ed.MultivariateNormalFullCovariance(\n",
    "            loc = mu,\n",
    "            covariance_matrix= cov)\n",
    "    G=6.67e-11\n",
    "    sphere_center = mvn.__getitem__(0)\n",
    "    density_difference = mvn.__getitem__(1)\n",
    "    sphere_radius = mvn.__getitem__(2)\n",
    "    \n",
    "    gravity = ((4/3)*np.pi * (sphere_radius**3) * density_difference* G \n",
    "           * sphere_center/(x**2 + sphere_center**2)**(3/2)) * 1e5 \n",
    "\n",
    "    if hess == True:\n",
    "        hess = compute_hessian(gravity,[sphere_center,density_difference,sphere_radius])\n",
    "        return gravity, hess\n",
    "    return gravity\n"
   ]
  },
  {
   "cell_type": "markdown",
   "metadata": {},
   "source": [
    "#### Compute the Hessian and Covariance of the Posterior at MAP"
   ]
  },
  {
   "cell_type": "markdown",
   "metadata": {},
   "source": [
    "\\begin{equation}\n",
    "\\mathcal{C}_{\\mathrm{post}}=\\left(\\mathcal{H}_{\\mathrm{misfit}}\\left(m_{\\nu}\\right)+\\mathcal{C}_{\\mathrm{prior}}^{-1}\\right)^{-1}\n",
    "\\end{equation}"
   ]
  },
  {
   "cell_type": "code",
   "execution_count": 63,
   "metadata": {
    "ExecuteTime": {
     "end_time": "2019-10-10T15:49:10.312892Z",
     "start_time": "2019-10-10T15:49:09.360373Z"
    }
   },
   "outputs": [],
   "source": [
    "grav, hess = grav_analytical_tf(x_obs, MAP, cov, hess = True)\n"
   ]
  },
  {
   "cell_type": "code",
   "execution_count": 64,
   "metadata": {
    "ExecuteTime": {
     "end_time": "2019-10-10T15:49:10.322453Z",
     "start_time": "2019-10-10T15:49:10.316643Z"
    }
   },
   "outputs": [],
   "source": [
    "Matrix_tem = tf.add(hess, tf.linalg.inv(cov))\n",
    "\n",
    "C_post = tf.linalg.inv(Matrix_tem)"
   ]
  },
  {
   "cell_type": "code",
   "execution_count": 65,
   "metadata": {
    "ExecuteTime": {
     "end_time": "2019-10-10T15:49:11.844266Z",
     "start_time": "2019-10-10T15:49:10.325398Z"
    }
   },
   "outputs": [
    {
     "name": "stdout",
     "output_type": "stream",
     "text": [
      "hessian matrix at MAP: \n",
      " [[ 4.4975895e-05 -1.3636490e-05 -1.7866144e-04]\n",
      " [-1.3636491e-05  0.0000000e+00  7.7843484e-05]\n",
      " [-1.7866146e-04  7.7843484e-05  6.7992229e-04]]\n",
      "Covariance of the Prior: \n",
      " [[100.   0.   0.]\n",
      " [  0. 100.   0.]\n",
      " [  0.   0. 100.]]\n",
      "Covariance of the Posterior: \n",
      " [[ 9.96812592e+01  9.55513194e-02  1.38626647e+00]\n",
      " [ 9.55513269e-02  1.00004135e+02 -6.15297377e-01]\n",
      " [ 1.38626659e+00 -6.15297318e-01  9.42396317e+01]]\n"
     ]
    }
   ],
   "source": [
    "with tf.Session() as session:\n",
    "    print('hessian matrix at MAP: \\n', session.run(hess))\n",
    "    print('Covariance of the Prior: \\n',session.run(cov))\n",
    "    print('Covariance of the Posterior: \\n',session.run(C_post))"
   ]
  },
  {
   "cell_type": "markdown",
   "metadata": {
    "ExecuteTime": {
     "end_time": "2019-09-18T13:26:07.197102Z",
     "start_time": "2019-09-18T13:26:07.192383Z"
    }
   },
   "source": [
    "#### define whether to accept or reject the new sample\n",
    "\\begin{equation}\n",
    "\\Phi\\left(m, \\mathbf{d}_{\\mathrm{obs}}\\right)=\\frac{1}{2}\\left\\|\\mathbf{f}(\\mathrm{m})-\\mathbf{d}_{\\mathrm{obs}}\\right\\|_{\\Gamma_{\\mathrm{noise}}^{-1}}\n",
    "\\end{equation}\n",
    "\n",
    "\\begin{equation}\n",
    "a\\left(m_{\\text {current }}, m_{\\text {proposed }}\\right) :=\\min \\left\\{1, \\exp \\left(\\Phi\\left(m_{\\text {current }}, \\mathbf{d}_{\\text {obs }}\\right)-\\Phi\\left(\\mathrm{m}_{\\text {proposed }}, \\mathbf{d}_{\\text {obs }}\\right)\\right)\\right\\}\n",
    "\\end{equation}"
   ]
  },
  {
   "cell_type": "markdown",
   "metadata": {},
   "source": [
    "### preconditioned Crank-Nicolson proposal"
   ]
  },
  {
   "cell_type": "code",
   "execution_count": 66,
   "metadata": {
    "ExecuteTime": {
     "end_time": "2019-10-10T15:49:11.851574Z",
     "start_time": "2019-10-10T15:49:11.845960Z"
    }
   },
   "outputs": [],
   "source": [
    "\n",
    "@tf.function\n",
    "def acceptance_pCN(m_current , m_proposed):\n",
    "    \n",
    "    grav_current = grav_analytical_tf(x_obs,m_current, cov)\n",
    "    phi_current = matrixcompute(grav_current,grav_obs_array_withnoise,noise_tensor)\n",
    "\n",
    "    grav_proposed = grav_analytical_tf(x_obs,m_proposed, cov)\n",
    "    phi_proposed = matrixcompute(grav_proposed,grav_obs_array_withnoise,noise_tensor)\n",
    "\n",
    "\n",
    "    ## calculate accept ratio if exp()<1\n",
    "    accept_ratio = tf.exp(tf.subtract(phi_current,phi_proposed))\n",
    "    acceptsample = tfd.Sample(\n",
    "    tfd.Uniform(0., 1.),\n",
    "    sample_shape=[1,1])\n",
    "    sample = acceptsample.sample()\n",
    "    \n",
    "    ## greater : further away from the observation = less possible to accept\n",
    "    then_expression = tf.greater_equal( phi_current,phi_proposed)\n",
    "    else_expression = tf.greater(accept_ratio, sample)\n",
    "    \n",
    "    \n",
    "    condition = tf.reshape(tf.greater_equal( phi_current,phi_proposed),())\n",
    "    \n",
    "    \n",
    "    x = tf.cond(condition ,\n",
    "               lambda: then_expression,\n",
    "               lambda: else_expression)\n",
    "    \n",
    "    x = tf.reshape(x,())\n",
    "    return x\n",
    "        \n",
    "\n"
   ]
  },
  {
   "cell_type": "markdown",
   "metadata": {},
   "source": [
    "#### gpCN"
   ]
  },
  {
   "cell_type": "markdown",
   "metadata": {},
   "source": [
    "gpCN is a generalized version of the pCN sampler. While the proposals of pCN are drown from the prior Gaussian distribution $\\mu_{prior}$,proposals in the generalized pCN are drown from a Gaussian approximation $v$ of the posterior distribution.\n",
    "\n",
    "\\begin{equation}\n",
    "a_{\\nu}\\left(m_{\\mathrm{current}}, m_{\\mathrm{proposed}}\\right) :=\\min \\left\\{1, \\exp \\left(\\Delta\\left(m_{\\mathrm{current}}\\right)-\\Delta\\left(m_{\\mathrm{proposed}}\\right)\\right)\\right\\}\n",
    "\\end{equation}\n",
    "\n",
    "where   \n",
    "\n",
    "\\begin{equation}\n",
    "\\Delta(m)=\\Phi\\left(m, \\mathbf{d}_{\\mathrm{obs}}\\right)+\\frac{1}{2}\\left\\|\\mathrm{m}-\\mathrm{m}_{\\mathrm{prior}}\\right\\|_{C_{\\mathrm{prior}}^{-1}}^{2}-\\frac{1}{2}\\left\\|\\mathrm{m}-\\mathrm{m}_{\\nu}\\right\\|_{\\mathrm{C}_{\\nu}^{-1}}^{2}\n",
    "\\end{equation}"
   ]
  },
  {
   "cell_type": "code",
   "execution_count": 67,
   "metadata": {
    "ExecuteTime": {
     "end_time": "2019-10-10T15:49:11.861604Z",
     "start_time": "2019-10-10T15:49:11.853498Z"
    }
   },
   "outputs": [],
   "source": [
    "\n",
    "@tf.function\n",
    "def acceptance_gpCN(m_current , m_proposed):\n",
    "    \n",
    "    grav_current = grav_analytical_tf(x_obs,m_current, cov)\n",
    "    phi_current = matrixcompute(grav_current,grav_obs_array_withnoise,noise_tensor)\n",
    "    # assign a name\n",
    "    phi_current = tf.identity(phi_current, name=\"phi_current\")\n",
    "    \n",
    "    grav_proposed = grav_analytical_tf(x_obs,m_proposed, cov)\n",
    "    phi_proposed = matrixcompute(grav_proposed,grav_obs_array_withnoise,noise_tensor)\n",
    "    # assign a name\n",
    "    phi_proposed = tf.identity(phi_proposed, name=\"phi_proposed\")\n",
    "\n",
    "    t2_current = matrixcompute(m_current,mu_prior,cov)\n",
    "    t3_current = matrixcompute(m_current,MAP,C_post)\n",
    "\n",
    "    t2_proposed = matrixcompute(m_proposed,mu_prior,cov)\n",
    "    t3_proposed = matrixcompute(m_proposed,MAP,C_post)\n",
    "\n",
    "    delta_current = tf.subtract(tf.add(phi_current,t2_current ),t3_current)\n",
    "    delta_proposed = tf.subtract(tf.add(phi_proposed,t2_proposed ),t3_proposed)\n",
    "\n",
    "    ## calculate accept ratio if exp()<1\n",
    "    accept_ratio = tf.exp(tf.subtract(delta_current,delta_proposed))\n",
    "    acceptsample = tfd.Sample(\n",
    "    tfd.Uniform(0., 1.),\n",
    "    sample_shape=[1,1])\n",
    "    sample = acceptsample.sample()\n",
    "    \n",
    "    \n",
    "    ## greater : further away from the observation = less possible to accept\n",
    "    then_expression = tf.greater_equal( delta_current,delta_proposed)\n",
    "    else_expression = tf.greater(accept_ratio, sample,name = 'shit')\n",
    "    \n",
    "    condition = tf.reshape(tf.greater_equal( delta_current,delta_proposed)[0],())\n",
    "    \n",
    "\n",
    "    x = tf.cond(condition ,\n",
    "               lambda: then_expression,\n",
    "               lambda: else_expression)\n",
    "    \n",
    "    x = tf.reshape(x,())\n",
    "    return x\n",
    "        "
   ]
  },
  {
   "cell_type": "markdown",
   "metadata": {},
   "source": [
    "#### Proposal"
   ]
  },
  {
   "cell_type": "markdown",
   "metadata": {
    "ExecuteTime": {
     "end_time": "2019-09-19T15:46:24.359565Z",
     "start_time": "2019-09-19T15:46:24.355527Z"
    }
   },
   "source": [
    "\\begin{equation}\n",
    "v^{(k)}=m_{\\nu}+\\sqrt{1-\\beta^{2}}\\left(m^{(k)}-m_{\\nu}\\right)+\\beta \\xi^{(k)}, \\quad \\xi^{(k)} \\sim \\mathcal{N}\\left(0, \\mathcal{C}_{\\nu}\\right)\n",
    "\\end{equation}"
   ]
  },
  {
   "cell_type": "code",
   "execution_count": 68,
   "metadata": {
    "ExecuteTime": {
     "end_time": "2019-10-10T15:49:11.868000Z",
     "start_time": "2019-10-10T15:49:11.863164Z"
    }
   },
   "outputs": [],
   "source": [
    "# define leaning rate\n",
    "beta = 0.6\n",
    "\n",
    "@tf.function\n",
    "def draw_proposal(m_current):\n",
    "    \n",
    "    _term1 = MAP\n",
    "    \n",
    "    ## sqrt term\n",
    "    tem_1 = tf.convert_to_tensor(np.sqrt(1-beta**2),dtype = tf.float32)\n",
    "    ## sqrt(1-beta^2)()\n",
    "    _term2 = tf.multiply(tem_1,(tf.subtract(m_current,MAP)))\n",
    "    \n",
    "    Xi = tfd.MultivariateNormalFullCovariance(\n",
    "            loc = 0,\n",
    "            covariance_matrix= C_post)\n",
    "\n",
    "    Xi_s = tfd.Sample(Xi)\n",
    "    _term3 = tf.multiply(beta,Xi_s.sample())\n",
    "    \n",
    "    m_proposed = tf.add(MAP,tf.add(_term2,_term3))\n",
    "    \n",
    "    return m_proposed\n",
    "    \n",
    "\n",
    "    "
   ]
  },
  {
   "cell_type": "markdown",
   "metadata": {},
   "source": [
    "### Chain"
   ]
  },
  {
   "cell_type": "code",
   "execution_count": 69,
   "metadata": {
    "ExecuteTime": {
     "end_time": "2019-10-10T15:49:11.878516Z",
     "start_time": "2019-10-10T15:49:11.870236Z"
    }
   },
   "outputs": [],
   "source": [
    "def run_chain(sess):\n",
    "    burn_in = 100\n",
    "    steps = 500\n",
    "    k = 0\n",
    "    accepted = []\n",
    "    rejected = []\n",
    "\n",
    "    m_current = mu  # init m\n",
    "    \n",
    "    \n",
    "    for k in range(steps+burn_in):\n",
    "\n",
    "        m_proposed = draw_proposal(m_current)\n",
    "        \n",
    "        if k%20 == 0: print(k, \"finised\")\n",
    "        \n",
    "## Check each proposal\n",
    "#         print(sess.run(m_current))\n",
    "#         print(sess.run(m_proposed))\n",
    "#         print(sess.run(acceptance_gpCN(m_current,m_proposed)))\n",
    "        if sess.run(acceptance_gpCN(m_current,m_proposed)):\n",
    "            m_current = m_proposed\n",
    "            if k > burn_in:\n",
    "                accepted.append(m_proposed)\n",
    "        else:\n",
    "            m_current = m_current\n",
    "            rejected.append(m_proposed)\n",
    "    \n",
    "    return accepted,rejected\n",
    "    \n"
   ]
  },
  {
   "cell_type": "code",
   "execution_count": 70,
   "metadata": {
    "ExecuteTime": {
     "end_time": "2019-10-10T16:13:31.363011Z",
     "start_time": "2019-10-10T15:49:11.881361Z"
    }
   },
   "outputs": [
    {
     "name": "stdout",
     "output_type": "stream",
     "text": [
      "0 finised\n",
      "20 finised\n",
      "40 finised\n",
      "60 finised\n",
      "80 finised\n",
      "100 finised\n",
      "120 finised\n",
      "140 finised\n",
      "160 finised\n",
      "180 finised\n",
      "200 finised\n",
      "220 finised\n",
      "240 finised\n",
      "260 finised\n",
      "280 finised\n",
      "300 finised\n",
      "320 finised\n",
      "340 finised\n",
      "360 finised\n",
      "380 finised\n",
      "400 finised\n",
      "420 finised\n",
      "440 finised\n",
      "460 finised\n",
      "480 finised\n",
      "500 finised\n",
      "520 finised\n",
      "540 finised\n",
      "560 finised\n",
      "580 finised\n"
     ]
    }
   ],
   "source": [
    "init = tf.global_variables_initializer()\n",
    "with tf.Session() as sess:\n",
    "    sess.run(init)\n",
    "    accepted,rejected = sess.run(run_chain(sess))\n",
    "    "
   ]
  },
  {
   "cell_type": "code",
   "execution_count": 74,
   "metadata": {
    "ExecuteTime": {
     "end_time": "2019-10-10T16:16:53.089548Z",
     "start_time": "2019-10-10T16:16:53.084880Z"
    }
   },
   "outputs": [
    {
     "data": {
      "text/plain": [
       "245"
      ]
     },
     "execution_count": 74,
     "metadata": {},
     "output_type": "execute_result"
    }
   ],
   "source": [
    "np.shape(accepted)[0]"
   ]
  },
  {
   "cell_type": "code",
   "execution_count": 75,
   "metadata": {
    "ExecuteTime": {
     "end_time": "2019-10-10T16:17:01.594056Z",
     "start_time": "2019-10-10T16:17:01.586363Z"
    }
   },
   "outputs": [],
   "source": [
    "def plot_trace(accepted):\n",
    "            \n",
    "    sphere_center_accepted = []\n",
    "    density_difference_accepted = []\n",
    "    sphere_radius_accepted = []\n",
    "    for i in range(np.shape(accepted)[0]):\n",
    "        \n",
    "        sphere_center_accepted.append(accepted[i][0])\n",
    "        density_difference_accepted.append(accepted[i][1])\n",
    "        sphere_radius_accepted.append(accepted[i][2])\n",
    "        \n",
    "        \n",
    "    fig, axes = plt.subplots(1, 3, sharex='col', sharey='col')\n",
    "    fig.set_size_inches(17, 4)\n",
    "    \n",
    "    axes[0].hist(sphere_center_accepted,40,density=True)\n",
    "    axes[1].hist(density_difference_accepted,40,density=True)\n",
    "    axes[2].hist(sphere_radius_accepted,40,density=True)\n",
    "\n",
    "\n",
    "    for i in range(3):\n",
    "\n",
    "        axes[i].plot(xvals[i], norm_list[i],label=\"prior\")\n",
    "        axes[i].title.set_text(name_list[i])\n",
    "        axes[i].axvline(truevalue_list[i], label=\"true value\", color='k', \n",
    "                linestyle='--', linewidth=2)\n",
    "        axes[i].legend();\n"
   ]
  },
  {
   "cell_type": "code",
   "execution_count": 76,
   "metadata": {
    "ExecuteTime": {
     "end_time": "2019-10-10T16:17:03.323430Z",
     "start_time": "2019-10-10T16:17:02.588332Z"
    }
   },
   "outputs": [
    {
     "data": {
      "image/png": "[encoded data removed]",
      "text/plain": [
       "<Figure size 1224x288 with 3 Axes>"
      ]
     },
     "metadata": {},
     "output_type": "display_data"
    }
   ],
   "source": [
    "plot_trace(accepted)"
   ]
  },
  {
   "cell_type": "code",
   "execution_count": null,
   "metadata": {},
   "outputs": [],
   "source": []
  }
 ],
 "metadata": {
  "kernelspec": {
   "display_name": "Python 3",
   "language": "python",
   "name": "python3"
  },
  "language_info": {
   "codemirror_mode": {
    "name": "ipython",
    "version": 3
   },
   "file_extension": ".py",
   "mimetype": "text/x-python",
   "name": "python",
   "nbconvert_exporter": "python",
   "pygments_lexer": "ipython3",
   "version": "3.7.3"
  },
  "varInspector": {
   "cols": {
    "lenName": 16,
    "lenType": 16,
    "lenVar": 40
   },
   "kernels_config": {
    "python": {
     "delete_cmd_postfix": "",
     "delete_cmd_prefix": "del ",
     "library": "var_list.py",
     "varRefreshCmd": "print(var_dic_list())"
    },
    "r": {
     "delete_cmd_postfix": ") ",
     "delete_cmd_prefix": "rm(",
     "library": "var_list.r",
     "varRefreshCmd": "cat(var_dic_list()) "
    }
   },
   "types_to_exclude": [
    "module",
    "function",
    "builtin_function_or_method",
    "instance",
    "_Feature"
   ],
   "window_display": false
  }
 },
 "nbformat": 4,
 "nbformat_minor": 2
}
