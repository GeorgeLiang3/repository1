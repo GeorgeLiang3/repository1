{
 "cells": [
  {
   "cell_type": "markdown",
   "metadata": {},
   "source": [
    "# Inversion of a sphere based on gravity response\n",
    "# ( Transfer to TensorFlow 2.0)\n",
    "\n",
    "This is a simple example for the probabilistic inversion of a classical geophysical example: the inversion of a sphere in the subsurface with a different density to the environment based on observed gravity data.\n",
    "\n",
    "We start with the simplest possible case of only one observation (directly above the sphere) and only depth as an uncertain variable and then make the model progressively more complex."
   ]
  },
  {
   "cell_type": "code",
   "execution_count": 1,
   "metadata": {
    "ExecuteTime": {
     "end_time": "2019-10-30T13:17:00.255906Z",
     "start_time": "2019-10-30T13:16:55.706371Z"
    }
   },
   "outputs": [
    {
     "ename": "AttributeError",
     "evalue": "module 'tensorflow' has no attribute 'reset_default_graph'",
     "output_type": "error",
     "traceback": [
      "\u001b[0;31m---------------------------------------------------------------------------\u001b[0m",
      "\u001b[0;31mAttributeError\u001b[0m                            Traceback (most recent call last)",
      "\u001b[0;32m<ipython-input-1-a17b5e88db36>\u001b[0m in \u001b[0;36m<module>\u001b[0;34m\u001b[0m\n\u001b[1;32m     11\u001b[0m \u001b[0mget_ipython\u001b[0m\u001b[0;34m(\u001b[0m\u001b[0;34m)\u001b[0m\u001b[0;34m.\u001b[0m\u001b[0mrun_line_magic\u001b[0m\u001b[0;34m(\u001b[0m\u001b[0;34m'matplotlib'\u001b[0m\u001b[0;34m,\u001b[0m \u001b[0;34m'inline'\u001b[0m\u001b[0;34m)\u001b[0m\u001b[0;34m\u001b[0m\u001b[0;34m\u001b[0m\u001b[0m\n\u001b[1;32m     12\u001b[0m \u001b[0;34m\u001b[0m\u001b[0m\n\u001b[0;32m---> 13\u001b[0;31m \u001b[0mtf\u001b[0m\u001b[0;34m.\u001b[0m\u001b[0mreset_default_graph\u001b[0m\u001b[0;34m(\u001b[0m\u001b[0;34m)\u001b[0m\u001b[0;34m\u001b[0m\u001b[0;34m\u001b[0m\u001b[0m\n\u001b[0m\u001b[1;32m     14\u001b[0m \u001b[0;34m\u001b[0m\u001b[0m\n\u001b[1;32m     15\u001b[0m \u001b[0mnp\u001b[0m\u001b[0;34m.\u001b[0m\u001b[0mrandom\u001b[0m\u001b[0;34m.\u001b[0m\u001b[0mseed\u001b[0m\u001b[0;34m(\u001b[0m\u001b[0;36m111\u001b[0m\u001b[0;34m)\u001b[0m\u001b[0;34m\u001b[0m\u001b[0;34m\u001b[0m\u001b[0m\n",
      "\u001b[0;31mAttributeError\u001b[0m: module 'tensorflow' has no attribute 'reset_default_graph'"
     ]
    }
   ],
   "source": [
    "from scipy.stats import norm\n",
    "import numpy as np\n",
    "import matplotlib.pyplot as plt\n",
    "import tensorflow as tf\n",
    "import tensorflow_probability as tfp\n",
    "from tensorflow_probability import edward2 as ed\n",
    "tfd = tfp.distributions\n",
    "\n",
    "import seaborn as sns\n",
    "import pandas as pd\n",
    "%matplotlib inline\n",
    "\n",
    "tf.reset_default_graph()\n",
    "\n",
    "np.random.seed(111)\n",
    "# tf.set_random_seed(111)\n"
   ]
  },
  {
   "cell_type": "markdown",
   "metadata": {},
   "source": [
    "We now calculate the effect of this density contrast that would be observed on the surface. This is a well-studied example with an analytical solution:\n",
    "\n",
    "$$g(x) = 10^5 \\;\\frac{4}{3} \\,\\pi \\;\\frac{r^3 \\,\\Delta \\rho\\, G\\, z}\n",
    "{\\sqrt{\\left( x^2 + z^2\\right)^3}}$$\n",
    "\n",
    "where:\n",
    "\n",
    "- $z$ is the vertical position of the center of the sphere (lateral position at origin),\n",
    "- $r$ its radius,\n",
    "- $\\Delta \\rho$ the density difference to the surrounding domain,\n",
    "- $G$ the gravitational constant,\n",
    "- and $x$ the position at which the gravitational acceleration is calculated.\n"
   ]
  },
  {
   "cell_type": "code",
   "execution_count": 2,
   "metadata": {
    "ExecuteTime": {
     "end_time": "2019-10-30T13:17:02.083196Z",
     "start_time": "2019-10-30T13:17:02.079712Z"
    }
   },
   "outputs": [],
   "source": [
    "def grav_analytical(x, sphere_center, sphere_radius, density_difference):\n",
    "    \"\"\"Calculate gravitational effect of a sphere, measured at surface\n",
    "    \n",
    "    **Arguments**:\n",
    "    - 'x' = scalar or np.array: position(s) of observation\n",
    "    - 'sphere_center' = float: is the vertical position of the center of the sphere (lateral position at origin)\n",
    "    - 'sphere_radius' = float: sphere radius\n",
    "    - 'density_difference' = float: density difference to the surrounding domain\n",
    "    \"\"\"\n",
    "    G=6.67e-11 # gravitational constant\n",
    "    return ((4/3)*np.pi * (sphere_radius**3) * density_difference\n",
    "            * G * sphere_center/(x**2 + sphere_center**2)**(3/2)) * 1e5\n"
   ]
  },
  {
   "cell_type": "markdown",
   "metadata": {},
   "source": [
    "## Geometric model\n",
    "\n",
    "We consider here a sphere in the subsurface with a different density. \n",
    "\n",
    "spherical point mass"
   ]
  },
  {
   "cell_type": "code",
   "execution_count": 3,
   "metadata": {
    "ExecuteTime": {
     "end_time": "2019-10-30T13:17:04.927052Z",
     "start_time": "2019-10-30T13:17:04.923403Z"
    }
   },
   "outputs": [],
   "source": [
    "#True model\n",
    "\n",
    "sphere_center_true = 300. #m \n",
    "density_difference_true = 500. # kg/m^3: density diffrence to surrounding domain\n",
    "sphere_radius_true = 100. #m\n",
    "\n",
    "truevalue_list = [sphere_center_true,density_difference_true,sphere_radius_true]\n",
    "x_domain=np.linspace(-1000,1000,101) #m"
   ]
  },
  {
   "cell_type": "code",
   "execution_count": 4,
   "metadata": {
    "ExecuteTime": {
     "end_time": "2019-10-30T13:17:05.742858Z",
     "start_time": "2019-10-30T13:17:05.736952Z"
    }
   },
   "outputs": [
    {
     "name": "stderr",
     "output_type": "stream",
     "text": [
      "/Users/zhouji/anaconda3/envs/Bayes/lib/python3.7/site-packages/ipykernel_launcher.py:1: DeprecationWarning: object of type <class 'float'> cannot be safely interpreted as an integer.\n",
      "  \"\"\"Entry point for launching an IPython kernel.\n"
     ]
    }
   ],
   "source": [
    "x_obs = np.linspace(-250., 250., 11.)\n",
    "grav_all = grav_analytical(x_domain, sphere_center_true, sphere_radius_true, density_difference_true)\n",
    "grav_obs_array = grav_analytical(x_obs, sphere_center_true, sphere_radius_true, density_difference_true)\n",
    "noise = norm(0,0.01).rvs(len(grav_obs_array))\n",
    "grav_obs_array_withnoise = grav_obs_array +noise"
   ]
  },
  {
   "cell_type": "code",
   "execution_count": 5,
   "metadata": {
    "ExecuteTime": {
     "end_time": "2019-10-30T13:17:06.478472Z",
     "start_time": "2019-10-30T13:17:06.473218Z"
    }
   },
   "outputs": [
    {
     "data": {
      "text/plain": [
       "array([0.07838619, 0.10227835, 0.11554149, 0.12932949, 0.14595663,\n",
       "       0.16192341, 0.14416772, 0.12603064, 0.12040924, 0.10148975,\n",
       "       0.08012298])"
      ]
     },
     "execution_count": 5,
     "metadata": {},
     "output_type": "execute_result"
    }
   ],
   "source": [
    "grav_obs_array_withnoise"
   ]
  },
  {
   "cell_type": "markdown",
   "metadata": {},
   "source": [
    "Calculate the variance of the noise, put the variance in an noise tensor"
   ]
  },
  {
   "cell_type": "code",
   "execution_count": 6,
   "metadata": {
    "ExecuteTime": {
     "end_time": "2019-10-30T13:17:07.776118Z",
     "start_time": "2019-10-30T13:17:07.754688Z"
    }
   },
   "outputs": [],
   "source": [
    "noise_variance = np.std(noise)**2\n",
    "\n",
    "noise_1 = tf.convert_to_tensor([noise_variance],dtype = tf.float32)\n",
    "eye = tf.eye(x_obs.shape[0])\n",
    "noise_tensor = tf.multiply(noise_1,eye)"
   ]
  },
  {
   "cell_type": "code",
   "execution_count": 7,
   "metadata": {
    "ExecuteTime": {
     "end_time": "2019-10-30T13:17:08.636942Z",
     "start_time": "2019-10-30T13:17:08.456425Z"
    }
   },
   "outputs": [
    {
     "data": {
      "text/plain": [
       "Text(0, 0.5, 'Y [m]')"
      ]
     },
     "execution_count": 7,
     "metadata": {},
     "output_type": "execute_result"
    },
    {
     "data": {
      "image/png": "[encoded data removed]",
      "text/plain": [
       "<Figure size 432x288 with 1 Axes>"
      ]
     },
     "metadata": {},
     "output_type": "display_data"
    }
   ],
   "source": [
    "plt.style.use('seaborn-darkgrid')\n",
    "ax = plt.subplot(aspect='equal') \n",
    "\n",
    "# create circle object as matplotlib patch\n",
    "circle1 = plt.Circle((0, -sphere_center_true), sphere_radius_true, \n",
    "                     facecolor='r', edgecolor='k', alpha=0.5)\n",
    "\n",
    "ax.add_artist(circle1)\n",
    "\n",
    "# set model domain\n",
    "ax.set_xlim([-1000,1000])\n",
    "ax.set_ylim([-800,10])\n",
    "\n",
    "ax.set_xlabel(\"X [m]\")\n",
    "ax.set_ylabel(\"Y [m]\")\n"
   ]
  },
  {
   "cell_type": "code",
   "execution_count": 8,
   "metadata": {
    "ExecuteTime": {
     "end_time": "2019-10-30T13:17:09.138806Z",
     "start_time": "2019-10-30T13:17:08.968082Z"
    }
   },
   "outputs": [
    {
     "data": {
      "image/png": "[encoded data removed]",
      "text/plain": [
       "<Figure size 432x288 with 1 Axes>"
      ]
     },
     "metadata": {},
     "output_type": "display_data"
    }
   ],
   "source": [
    "plt.plot(x_domain, grav_all)\n",
    "plt.plot(x_obs, grav_obs_array_withnoise, 'o', label=\"data\")\n",
    "plt.title(\"Gravity response for a sphere of radius 100 m and a depth of 300 m\");"
   ]
  },
  {
   "cell_type": "markdown",
   "metadata": {},
   "source": [
    "### Algorithm Flowing hIPPYlib MCMC http://g2s3.com/labs/notebooks/SubsurfaceBayesian.html"
   ]
  },
  {
   "cell_type": "markdown",
   "metadata": {},
   "source": [
    "Bayes’s Theorem"
   ]
  },
  {
   "cell_type": "markdown",
   "metadata": {},
   "source": [
    "\\begin{equation}\n",
    "d \\mu_{\\mathrm{post}}\\left(m | \\mathbf{d}_{\\mathrm{obs}}\\right) \\propto \\pi_{\\mathrm{like}}\\left(\\mathbf{d}_{\\mathrm{obs}} | \\mathrm{m}\\right) \\mathrm{d} \\mu_{\\mathrm{prior}}(\\mathrm{m})\n",
    "\\end{equation}"
   ]
  },
  {
   "cell_type": "markdown",
   "metadata": {},
   "source": [
    "Define the Prior\n",
    "\\begin{equation}\n",
    "\\mu_{\\text {prior }} \\sim \\mathcal{N}\\left(m_{\\text {prior }}, C_{\\text {prior }}\\right)\n",
    "\\end{equation}"
   ]
  },
  {
   "cell_type": "code",
   "execution_count": 9,
   "metadata": {
    "ExecuteTime": {
     "end_time": "2019-10-30T13:17:14.870633Z",
     "start_time": "2019-10-30T13:17:14.867731Z"
    }
   },
   "outputs": [],
   "source": [
    "# sphere_center, density_difference, sphere_radius\n",
    "\n",
    "mu_prior = [280., 480., 80.]\n",
    "\n",
    "\n",
    "cov = [[ 100,  0.,  0.],\n",
    "        [ 0.,  100, 0.],\n",
    "        [ 0., 0.,  100]]\n"
   ]
  },
  {
   "cell_type": "code",
   "execution_count": 10,
   "metadata": {
    "ExecuteTime": {
     "end_time": "2019-10-30T13:17:16.153862Z",
     "start_time": "2019-10-30T13:17:16.151411Z"
    }
   },
   "outputs": [],
   "source": [
    "xvals =[]\n",
    "norm_list =[]"
   ]
  },
  {
   "cell_type": "code",
   "execution_count": 11,
   "metadata": {
    "ExecuteTime": {
     "end_time": "2019-10-30T13:17:17.202136Z",
     "start_time": "2019-10-30T13:17:16.642514Z"
    }
   },
   "outputs": [
    {
     "data": {
      "image/png": "[encoded data removed]",
      "text/plain": [
       "<Figure size 1224x288 with 3 Axes>"
      ]
     },
     "metadata": {},
     "output_type": "display_data"
    }
   ],
   "source": [
    "for i in range(3):\n",
    "    xvals.append(np.arange(mu_prior[i]-100,mu_prior[i]+100))\n",
    "    norm_list.append(norm.pdf(xvals[i],mu_prior[i],np.sqrt(cov[i][i])))\n",
    "    \n",
    "np.shape(xvals)\n",
    "\n",
    "name_list = [\"sphere_center\", \"density_difference\", \"sphere_radius\"]\n",
    "\n",
    "fig, axes = plt.subplots(1, 3, sharex='col', sharey='col')\n",
    "fig.set_size_inches(17, 4)\n",
    "\n",
    "\n",
    "for i in range(3):\n",
    "    \n",
    "    axes[i].plot(xvals[i], norm_list[i],label=\"prior\")\n",
    "    axes[i].title.set_text(name_list[i])\n",
    "    axes[i].axvline(truevalue_list[i], label=\"true value\", color='k', \n",
    "            linestyle='--', linewidth=2)\n",
    "    axes[i].legend();\n",
    "\n",
    "    "
   ]
  },
  {
   "cell_type": "markdown",
   "metadata": {},
   "source": [
    "Define the Likelihood\n",
    "\\begin{equation}\n",
    "\\mathbf{d}_{\\mathrm{obs}}=\\mathbf{f}(\\mathrm{m})+\\mathbf{e}, \\quad \\mathbf{e} \\sim \\mathcal{N}\\left(\\mathbf{0}, \\mathbf{\\Gamma}_{\\mathrm{noise}}\\right)\n",
    "\\end{equation}\n",
    "\\begin{equation}\n",
    "\\pi_{\\text {like }}\\left(\\mathbf{d}_{\\text {obs }} | \\mathrm{m}\\right)=\\exp \\left(-\\frac{1}{2}\\left\\|\\mathbf{f}(\\mathrm{m})-\\mathbf{d}_{\\text {obs }}\\right\\|_{\\Gamma_{\\text {noise }}^{-1}}^{2}\\right)\n",
    "\\end{equation}"
   ]
  },
  {
   "cell_type": "code",
   "execution_count": 12,
   "metadata": {
    "ExecuteTime": {
     "end_time": "2019-10-30T13:17:18.713401Z",
     "start_time": "2019-10-30T13:17:18.710326Z"
    }
   },
   "outputs": [],
   "source": [
    "mu_prior = tf.convert_to_tensor(mu_prior)\n",
    "cov = tf.convert_to_tensor(cov)\n"
   ]
  },
  {
   "cell_type": "code",
   "execution_count": 13,
   "metadata": {
    "ExecuteTime": {
     "end_time": "2019-10-30T13:17:19.551424Z",
     "start_time": "2019-10-30T13:17:19.543752Z"
    }
   },
   "outputs": [],
   "source": [
    "# Defind f(m). Here f is the parameter-to-observable map that takes a \n",
    "# parameter m and maps it to the space observation vector dobs.\n",
    "@tf.function\n",
    "def grav_analytical_tf(x, mu, cov,sess):\n",
    "    # [sphere_center, density_difference, sphere_radius]\n",
    "\n",
    "    mvn = ed.MultivariateNormalFullCovariance(\n",
    "            loc = mu,\n",
    "            covariance_matrix= cov)\n",
    "    G=6.67e-11\n",
    "    sphere_center = mvn.__getitem__(0)\n",
    "    density_difference = mvn.__getitem__(1)\n",
    "    sphere_radius = mvn.__getitem__(2)\n",
    "    \n",
    "    \n",
    "    gravity = ((4/3)*np.pi * (sphere_radius**3) * density_difference* G \n",
    "               * sphere_center/(x**2 + sphere_center**2)**(3/2)) * 1e5 \n",
    "\n",
    "    return gravity\n",
    "\n"
   ]
  },
  {
   "cell_type": "markdown",
   "metadata": {},
   "source": [
    "### Gradient decent to find MAP (?)"
   ]
  },
  {
   "cell_type": "code",
   "execution_count": 14,
   "metadata": {
    "ExecuteTime": {
     "end_time": "2019-10-30T13:17:21.306754Z",
     "start_time": "2019-10-30T13:17:21.302299Z"
    }
   },
   "outputs": [],
   "source": [
    "## function compute G^T C^-1 G\n",
    "\n",
    "@tf.function\n",
    "def matrixcompute(matrix1,matrix2,Cov):\n",
    "    matrix1 = tf.cast(matrix1,tf.float32)\n",
    "    matrix2 = tf.cast(matrix2,tf.float32)\n",
    "    matrix = tf.subtract(matrix1, matrix2)\n",
    "    matrix = tf.reshape(matrix,[matrix.shape[0],1])\n",
    "    matrix_T = tf.transpose(matrix)\n",
    "    Cov_inv = tf.linalg.inv(Cov)\n",
    "    result = tf.multiply(tf.constant(1/2),tf.matmul(tf.matmul(matrix_T,Cov_inv),matrix))\n",
    "    return result"
   ]
  },
  {
   "cell_type": "markdown",
   "metadata": {},
   "source": [
    "\\begin{equation}\n",
    "\\pi_{\\text {like }}\\left(\\mathbf{d}_{\\text {obs }} | \\mathrm{m}\\right)=\\exp \\left(-\\frac{1}{2}\\left\\|\\mathbf{f}(\\mathrm{m})-\\mathbf{d}_{\\text {obs }}\\right\\|_{\\Gamma_{\\text {noise }}^{-1}}^{2}\\right)\n",
    "\\end{equation}"
   ]
  },
  {
   "cell_type": "markdown",
   "metadata": {},
   "source": [
    "#### The posterior\n",
    "\n",
    "\n",
    "\\begin{equation}\n",
    "d \\mu_{\\mathrm{post}}\\left(m | \\mathbf{d}_{\\mathrm{obs}}\\right) \\propto \\exp \\left(-\\frac{1}{2}\\left\\|\\mathbf{f}(\\mathrm{m})-\\mathbf{d}_{\\mathrm{obs}}\\right\\|_{\\mathrm{\\Gamma}_{\\mathrm{noise}}^{-1}}^{2}-\\frac{1}{2}\\left\\|\\mathrm{m}-\\mathrm{m}_{\\mathrm{prior}}\\right\\|_{C_{\\mathrm{prior}}^{-1}}^{2}\\right)\n",
    "\\end{equation}"
   ]
  },
  {
   "cell_type": "markdown",
   "metadata": {},
   "source": [
    "#### negative log of the posterior\n",
    "\\begin{equation}\n",
    "\\left(\\frac{1}{2}\\left\\|\\mathbf{f}(\\mathrm{m})-\\mathbf{d}_{\\mathrm{obs}}\\right\\|_{\\mathrm{\\Gamma}_{\\mathrm{noise}}^{-1}}^{2}+\\frac{1}{2}\\left\\|\\mathrm{m}-\\mathrm{m}_{\\mathrm{prior}}\\right\\|_{C_{\\mathrm{prior}}^{-1}}^{2}\\right)\n",
    "\\end{equation}\n"
   ]
  },
  {
   "cell_type": "markdown",
   "metadata": {},
   "source": [
    "term 1 = \n",
    "\\begin{equation}\n",
    "\\frac{1}{2}\\left\\|\\mathbf{f}(\\mathrm{m})-\\mathbf{d}_{\\text {obs }}\\right\\|_{\\Gamma_{\\text {noise }}^{-1}}^{2}\n",
    "\\end{equation}"
   ]
  },
  {
   "cell_type": "markdown",
   "metadata": {},
   "source": [
    "term 2 =\n",
    "\\begin{equation}\n",
    "\\frac{1}{2}\\left\\|\\mathrm{m}-\\mathrm{m}_{\\mathrm{prior}}\\right\\|_{C_{\\mathrm{prior}}^{-1}}^{2}\n",
    "\\end{equation}\n"
   ]
  },
  {
   "cell_type": "code",
   "execution_count": 18,
   "metadata": {
    "ExecuteTime": {
     "end_time": "2019-10-30T13:19:39.830911Z",
     "start_time": "2019-10-30T13:19:39.822477Z"
    }
   },
   "outputs": [],
   "source": [
    "#     print(sess.run(tf.get_collection(tf.GraphKeys.TRAINABLE_VARIABLES)))\n",
    "\n",
    "## initial guess\n",
    "\n",
    "mu = tf.Variable(200., 400., 50.)\n"
   ]
  },
  {
   "cell_type": "code",
   "execution_count": 19,
   "metadata": {
    "ExecuteTime": {
     "end_time": "2019-10-30T13:19:43.632683Z",
     "start_time": "2019-10-30T13:19:43.628752Z"
    }
   },
   "outputs": [],
   "source": [
    "def grav_analytical_tf_det(x, mu, cov,sess):\n",
    "    # [sphere_center, density_difference, sphere_radius]\n",
    "\n",
    "    G=6.67e-11\n",
    "    sphere_center = mu[0]\n",
    "    density_difference = mu[1]\n",
    "    sphere_radius = mu[2]\n",
    "    \n",
    "    gravity = ((4/3)*np.pi * (sphere_radius**3) * density_difference* G \n",
    "               * sphere_center/(x**2 + sphere_center**2)**(3/2)) * 1e5 \n",
    "    \n",
    "\n",
    "    \n",
    "\n",
    "    return gravity"
   ]
  },
  {
   "cell_type": "code",
   "execution_count": 105,
   "metadata": {
    "ExecuteTime": {
     "end_time": "2019-10-22T14:56:55.445170Z",
     "start_time": "2019-10-22T14:56:55.441461Z"
    }
   },
   "outputs": [],
   "source": [
    "grav_obs_array_withnoise = tf.convert_to_tensor(grav_obs_array_withnoise,dtype=tf.float32)"
   ]
  },
  {
   "cell_type": "code",
   "execution_count": 106,
   "metadata": {
    "ExecuteTime": {
     "end_time": "2019-10-22T14:57:15.231468Z",
     "start_time": "2019-10-22T14:56:55.446544Z"
    }
   },
   "outputs": [
    {
     "name": "stdout",
     "output_type": "stream",
     "text": [
      "starting at mu: [200. 400.  50.] negative log likelihood: [[962.8329]]\n",
      "step 0 mu: [199.77829  400.1845    52.538498] gradient: [array([  2.5568137,  -1.9640026, -26.915321 ], dtype=float32)]\n",
      "negative log likelihood: [[895.5309]]\n",
      "step 100 mu: [210.94853 409.64413  87.52889] gradient: [array([-1.4991555 , -0.7294161 , -0.28775737], dtype=float32)]\n",
      "negative log likelihood: [[84.21236]]\n",
      "step 200 mu: [224.12827 416.56848  89.96486] gradient: [array([-1.1553042 , -0.6562502 , -0.20505103], dtype=float32)]\n",
      "negative log likelihood: [[61.37167]]\n",
      "step 300 mu: [234.42218 422.8037   91.73265] gradient: [array([-0.91418684, -0.5914052 , -0.15150729], dtype=float32)]\n",
      "negative log likelihood: [[46.53547]]\n",
      "step 400 mu: [242.6432  428.42575  93.05482] gradient: [array([-0.7367188 , -0.5334984 , -0.11469726], dtype=float32)]\n",
      "negative log likelihood: [[36.420395]]\n",
      "step 500 mu: [249.31224 433.499    94.06422] gradient: [array([-0.601555 , -0.4815693, -0.0882998], dtype=float32)]\n",
      "negative log likelihood: [[29.284992]]\n",
      "step 600 mu: [254.78456  438.07944   94.845985] gradient: [array([-0.49600178, -0.43488625, -0.06881981], dtype=float32)]\n",
      "negative log likelihood: [[24.123821]]\n",
      "step 700 mu: [259.3136  442.2165   95.45761] gradient: [array([-0.41203582, -0.39284548, -0.05403528], dtype=float32)]\n",
      "negative log likelihood: [[20.318966]]\n",
      "step 800 mu: [263.08667 445.95413  95.93942] gradient: [array([-0.34427163, -0.35494965, -0.04268053], dtype=float32)]\n",
      "negative log likelihood: [[17.472013]]\n",
      "step 900 mu: [266.24643 449.33148  96.32071] gradient: [array([-0.288966  , -0.32076672, -0.0338621 ], dtype=float32)]\n",
      "negative log likelihood: [[15.316265]]\n",
      "step 1000 mu: [268.90353 452.38358  96.62326] gradient: [array([-0.24344712, -0.2899117 , -0.02686128], dtype=float32)]\n",
      "negative log likelihood: [[13.668026]]\n",
      "step 1100 mu: [271.1454   455.1424    96.863495] gradient: [array([-0.20570683, -0.2620513 , -0.02131799], dtype=float32)]\n",
      "negative log likelihood: [[12.397501]]\n",
      "step 1200 mu: [273.04193  457.63623   97.054085] gradient: [array([-0.17423746, -0.23688936, -0.0169148 ], dtype=float32)]\n",
      "negative log likelihood: [[11.411503]]\n",
      "step 1300 mu: [274.64996  459.89066   97.204956] gradient: [array([-0.14788376, -0.21415614, -0.01335496], dtype=float32)]\n",
      "negative log likelihood: [[10.64184]]\n",
      "step 1400 mu: [276.01596 461.92892  97.32389] gradient: [array([-0.12572132, -0.19361527, -0.01050755], dtype=float32)]\n",
      "negative log likelihood: [[10.038001]]\n",
      "step 1500 mu: [277.178   463.77164  97.41709] gradient: [array([-0.10703251, -0.1750527 , -0.00819758], dtype=float32)]\n",
      "negative log likelihood: [[9.562235]]\n",
      "step 1600 mu: [278.16797 465.4377   97.48954] gradient: [array([-0.09122534, -0.15827653, -0.00633916], dtype=float32)]\n",
      "negative log likelihood: [[9.185905]]\n",
      "step 1700 mu: [279.01205  466.94415   97.545204] gradient: [array([-0.07783128, -0.14311278, -0.00483836], dtype=float32)]\n",
      "negative log likelihood: [[8.887243]]\n",
      "step 1800 mu: [279.7325  468.30624  97.58734] gradient: [array([-0.06646003, -0.12940553, -0.00362213], dtype=float32)]\n",
      "negative log likelihood: [[8.64949]]\n",
      "step 1900 mu: [280.3479   469.53793   97.618576] gradient: [array([-0.05678902, -0.1170143 , -0.00265157], dtype=float32)]\n",
      "negative log likelihood: [[8.459715]]\n",
      "step 2000 mu: [280.8739  470.6517   97.64105] gradient: [array([-0.04855552, -0.1058116 , -0.00186974], dtype=float32)]\n",
      "negative log likelihood: [[8.307873]]\n",
      "step 2100 mu: [281.3238   471.65872   97.656525] gradient: [array([-0.04153467, -0.09568522, -0.00125396], dtype=float32)]\n",
      "negative log likelihood: [[8.186128]]\n",
      "step 2200 mu: [281.70868 472.5695   97.66639] gradient: [array([-0.03554783, -0.08652747, -0.00075385], dtype=float32)]\n",
      "negative log likelihood: [[8.088307]]\n",
      "step 2300 mu: [282.03812 473.3931   97.67184] gradient: [array([-0.03043779, -0.07824676, -0.00034976], dtype=float32)]\n",
      "negative log likelihood: [[8.0095825]]\n",
      "step 2400 mu: [282.32025 474.13797  97.6738 ] gradient: [array([-2.6064804e-02, -7.0761003e-02, -6.5892935e-05], dtype=float32)]\n",
      "negative log likelihood: [[7.946116]]\n",
      "step 2500 mu: [282.56192 474.81152  97.67308] gradient: [array([-0.02233057, -0.06399107,  0.00017613], dtype=float32)]\n",
      "negative log likelihood: [[7.894884]]\n",
      "step 2600 mu: [282.76895 475.4206   97.67029] gradient: [array([-0.0191371 , -0.05787003,  0.00035974], dtype=float32)]\n",
      "negative log likelihood: [[7.853483]]\n",
      "step 2700 mu: [282.9464   475.97144   97.665955] gradient: [array([-0.01640438, -0.05233436,  0.00050262], dtype=float32)]\n",
      "negative log likelihood: [[7.819973]]\n",
      "step 2800 mu: [283.0985  476.46957  97.66048] gradient: [array([-0.01406125, -0.04733033,  0.00058496], dtype=float32)]\n",
      "negative log likelihood: [[7.79283]]\n",
      "step 2900 mu: [283.22897  476.9201    97.654205] gradient: [array([-0.01205401, -0.04280481,  0.00064059], dtype=float32)]\n",
      "negative log likelihood: [[7.770817]]\n",
      "step 3000 mu: [283.34073 477.32755  97.6474 ] gradient: [array([-0.01034391, -0.03870975,  0.00071304], dtype=float32)]\n",
      "negative log likelihood: [[7.7529554]]\n",
      "step 3100 mu: [283.43668 477.696    97.64029] gradient: [array([-0.00887119, -0.03500879,  0.00073217], dtype=float32)]\n",
      "negative log likelihood: [[7.7384467]]\n",
      "step 3200 mu: [283.51892 478.02924  97.63302] gradient: [array([-0.00760889, -0.03166253,  0.00073013], dtype=float32)]\n",
      "negative log likelihood: [[7.72666]]\n",
      "step 3300 mu: [283.58957 478.3306   97.62576] gradient: [array([-0.00652899, -0.02863502,  0.00073811], dtype=float32)]\n",
      "negative log likelihood: [[7.7170653]]\n",
      "step 3400 mu: [283.65012 478.60315  97.61858] gradient: [array([-0.00560491, -0.02589697,  0.0007377 ], dtype=float32)]\n",
      "negative log likelihood: [[7.709265]]\n",
      "step 3500 mu: [283.70203 478.8497   97.61155] gradient: [array([-0.00480736, -0.02342239,  0.00069761], dtype=float32)]\n",
      "negative log likelihood: [[7.702907]]\n",
      "step 3600 mu: [283.74667 479.0727   97.60475] gradient: [array([-0.00411882, -0.02118539,  0.00064   ], dtype=float32)]\n",
      "negative log likelihood: [[7.697731]]\n",
      "step 3700 mu: [283.78485  479.2743    97.598236] gradient: [array([-0.00354007, -0.0191595 ,  0.00063525], dtype=float32)]\n",
      "negative log likelihood: [[7.693515]]\n",
      "step 3800 mu: [283.8175  479.45667  97.59198] gradient: [array([-0.00304318, -0.01732779,  0.00061236], dtype=float32)]\n",
      "negative log likelihood: [[7.690072]]\n",
      "step 3900 mu: [283.8459  479.62164  97.5861 ] gradient: [array([-0.00260769, -0.01567236,  0.00056595], dtype=float32)]\n",
      "negative log likelihood: [[7.6872683]]\n"
     ]
    }
   ],
   "source": [
    "init = tf.global_variables_initializer()\n",
    "cost = []\n",
    "with tf.Session() as session:\n",
    "    session.run(init)\n",
    "    grav = grav_analytical_tf_det(x_obs,mu, cov, session)\n",
    "    term_1 = matrixcompute(grav,grav_obs_array_withnoise,noise_tensor)\n",
    "    term_2 = matrixcompute(mu,mu_prior,cov)\n",
    "    Negtive_log_likelihood = tf.add(term_1,term_2)\n",
    "    \n",
    "    \n",
    "    optimizer = tf.train.GradientDescentOptimizer(0.1)\n",
    "    train = optimizer.minimize(Negtive_log_likelihood,var_list =mu)\n",
    "    log_tem = session.run(Negtive_log_likelihood) \n",
    "    \n",
    "    \n",
    "    print(\"starting at\", \"mu:\", session.run(mu), \"negative log likelihood:\", session.run(Negtive_log_likelihood))\n",
    "    for step in range(4000):  \n",
    "        session.run(train)\n",
    "        if step%100 == 0:print(\"step\", step, \"mu:\", session.run(mu),\"gradient:\", session.run(tf.gradients(Negtive_log_likelihood,mu)))\n",
    "        log_tem_new = session.run(Negtive_log_likelihood)\n",
    "       ## Find and save MAP point \n",
    "        cost.append(log_tem_new[[0]])\n",
    "        if step%100 == 0:print(\"negative log likelihood:\",log_tem_new )\n",
    "            \n",
    "    MAP = session.run(mu)"
   ]
  },
  {
   "cell_type": "code",
   "execution_count": 107,
   "metadata": {
    "ExecuteTime": {
     "end_time": "2019-10-22T14:57:15.240449Z",
     "start_time": "2019-10-22T14:57:15.233623Z"
    }
   },
   "outputs": [],
   "source": [
    "cost = np.reshape(cost,[4000])"
   ]
  },
  {
   "cell_type": "code",
   "execution_count": 108,
   "metadata": {
    "ExecuteTime": {
     "end_time": "2019-10-22T14:57:15.399557Z",
     "start_time": "2019-10-22T14:57:15.242914Z"
    }
   },
   "outputs": [
    {
     "data": {
      "text/plain": [
       "[<matplotlib.lines.Line2D at 0x1a46c9d780>]"
      ]
     },
     "execution_count": 108,
     "metadata": {},
     "output_type": "execute_result"
    },
    {
     "data": {
      "image/png": "[encoded data removed]",
      "text/plain": [
       "<Figure size 432x288 with 1 Axes>"
      ]
     },
     "metadata": {},
     "output_type": "display_data"
    }
   ],
   "source": [
    "x = np.linspace(1,4000,4000)\n",
    "plt.plot(x,cost)"
   ]
  },
  {
   "cell_type": "markdown",
   "metadata": {},
   "source": [
    "\n",
    "\n",
    "Alternative Solution:\n",
    "* Globalized Newtown-CG method as in hIPPYlib"
   ]
  },
  {
   "cell_type": "markdown",
   "metadata": {},
   "source": [
    "## MCMC"
   ]
  },
  {
   "cell_type": "code",
   "execution_count": 109,
   "metadata": {
    "ExecuteTime": {
     "end_time": "2019-10-22T14:57:15.634715Z",
     "start_time": "2019-10-22T14:57:15.401337Z"
    }
   },
   "outputs": [
    {
     "name": "stdout",
     "output_type": "stream",
     "text": [
      "[283.86972 479.7694   97.58056]\n"
     ]
    }
   ],
   "source": [
    "# MAP = [300., 500., 100.]\n",
    "MAP = tf.convert_to_tensor(MAP)\n",
    "\n",
    "with tf.Session() as sess:\n",
    "\n",
    "    print(sess.run(MAP))\n"
   ]
  },
  {
   "cell_type": "code",
   "execution_count": 110,
   "metadata": {
    "ExecuteTime": {
     "end_time": "2019-10-22T14:57:15.643773Z",
     "start_time": "2019-10-22T14:57:15.638977Z"
    }
   },
   "outputs": [],
   "source": [
    "def compute_hessian(fn, vars):\n",
    "    mat = []\n",
    "    for v1 in vars:\n",
    "        temp = []\n",
    "        for v2 in vars:\n",
    "            # computing derivative twice, first w.r.t v2 and then w.r.t v1\n",
    "            temp.append(tf.gradients(tf.gradients(fn, v2)[0], v1)[0])\n",
    "        temp = [cons(0) if t == None else t for t in temp] # tensorflow returns None when there is no gradient, so we replace None with 0\n",
    "        temp = tf.stack(temp)\n",
    "        mat.append(temp)\n",
    "    mat = tf.stack(mat)\n",
    "    return mat\n",
    "def cons(x):\n",
    "    return tf.constant(x, dtype=tf.float32)"
   ]
  },
  {
   "cell_type": "markdown",
   "metadata": {},
   "source": [
    "### Forward model in TensorFlow\n",
    "\n",
    "* Calculate Hessian\n",
    "* Variable defined in Edward multivariate Normal object"
   ]
  },
  {
   "cell_type": "code",
   "execution_count": 111,
   "metadata": {
    "ExecuteTime": {
     "end_time": "2019-10-22T14:57:15.651091Z",
     "start_time": "2019-10-22T14:57:15.646363Z"
    }
   },
   "outputs": [],
   "source": [
    "@tf.function\n",
    "def grav_analytical_tf(x, mu, cov, hess = False):\n",
    "    # [sphere_center, density_difference, sphere_radius]\n",
    "\n",
    "    mvn = ed.MultivariateNormalFullCovariance(\n",
    "            loc = mu,\n",
    "            covariance_matrix= cov)\n",
    "    G=6.67e-11\n",
    "    sphere_center = mvn.__getitem__(0)\n",
    "    density_difference = mvn.__getitem__(1)\n",
    "    sphere_radius = mvn.__getitem__(2)\n",
    "    \n",
    "    gravity = ((4/3)*np.pi * (sphere_radius**3) * density_difference* G \n",
    "           * sphere_center/(x**2 + sphere_center**2)**(3/2)) * 1e5 \n",
    "\n",
    "    if hess == True:\n",
    "        hess = compute_hessian(gravity,[sphere_center,density_difference,sphere_radius])\n",
    "        return gravity, hess\n",
    "    return gravity\n"
   ]
  },
  {
   "cell_type": "markdown",
   "metadata": {},
   "source": [
    "#### Compute the Hessian and Covariance of the Posterior at MAP"
   ]
  },
  {
   "cell_type": "markdown",
   "metadata": {},
   "source": [
    "\\begin{equation}\n",
    "\\mathcal{C}_{\\mathrm{post}}=\\left(\\mathcal{H}_{\\mathrm{misfit}}\\left(m_{\\nu}\\right)+\\mathcal{C}_{\\mathrm{prior}}^{-1}\\right)^{-1}\n",
    "\\end{equation}"
   ]
  },
  {
   "cell_type": "code",
   "execution_count": 116,
   "metadata": {
    "ExecuteTime": {
     "end_time": "2019-10-22T15:03:41.758342Z",
     "start_time": "2019-10-22T15:03:41.754171Z"
    }
   },
   "outputs": [],
   "source": [
    "x_obs = tf.convert_to_tensor(x_obs,dtype=tf.float32)"
   ]
  },
  {
   "cell_type": "code",
   "execution_count": 117,
   "metadata": {
    "ExecuteTime": {
     "end_time": "2019-10-22T15:03:43.922312Z",
     "start_time": "2019-10-22T15:03:42.378199Z"
    }
   },
   "outputs": [],
   "source": [
    "grav, hess = grav_analytical_tf(x_obs, MAP, cov, hess = True)"
   ]
  },
  {
   "cell_type": "code",
   "execution_count": 118,
   "metadata": {
    "ExecuteTime": {
     "end_time": "2019-10-22T15:03:49.215266Z",
     "start_time": "2019-10-22T15:03:49.208628Z"
    }
   },
   "outputs": [],
   "source": [
    "Matrix_tem = tf.add(hess, tf.linalg.inv(cov))\n",
    "\n",
    "C_post = tf.linalg.inv(Matrix_tem)"
   ]
  },
  {
   "cell_type": "code",
   "execution_count": 119,
   "metadata": {
    "ExecuteTime": {
     "end_time": "2019-10-22T15:03:52.225583Z",
     "start_time": "2019-10-22T15:03:49.871389Z"
    }
   },
   "outputs": [
    {
     "name": "stdout",
     "output_type": "stream",
     "text": [
      "hessian matrix at MAP: \n",
      " [[ 7.67737729e-05 -2.12469458e-05 -2.64306378e-04]\n",
      " [-2.12469477e-05  0.00000000e+00  1.05433624e-04]\n",
      " [-2.64306407e-04  1.05433624e-04  8.74377612e-04]]\n",
      "Covariance of the Prior: \n",
      " [[100.   0.   0.]\n",
      " [  0. 100.   0.]\n",
      " [  0.   0. 100.]]\n",
      "Covariance of the Posterior: \n",
      " [[ 9.9637459e+01  9.0692818e-02  1.6020933e+00]\n",
      " [ 9.0692811e-02  1.0000397e+02 -6.0001034e-01]\n",
      " [ 1.6020935e+00 -6.0001028e-01  9.3203201e+01]]\n"
     ]
    }
   ],
   "source": [
    "with tf.Session() as session:\n",
    "    print('hessian matrix at MAP: \\n', session.run(hess))\n",
    "    print('Covariance of the Prior: \\n',session.run(cov))\n",
    "    print('Covariance of the Posterior: \\n',session.run(C_post))"
   ]
  },
  {
   "cell_type": "markdown",
   "metadata": {
    "ExecuteTime": {
     "end_time": "2019-09-18T13:26:07.197102Z",
     "start_time": "2019-09-18T13:26:07.192383Z"
    }
   },
   "source": [
    "#### define whether to accept or reject the new sample\n",
    "\\begin{equation}\n",
    "\\Phi\\left(m, \\mathbf{d}_{\\mathrm{obs}}\\right)=\\frac{1}{2}\\left\\|\\mathbf{f}(\\mathrm{m})-\\mathbf{d}_{\\mathrm{obs}}\\right\\|_{\\Gamma_{\\mathrm{noise}}^{-1}}\n",
    "\\end{equation}\n",
    "\n",
    "\\begin{equation}\n",
    "a\\left(m_{\\text {current }}, m_{\\text {proposed }}\\right) :=\\min \\left\\{1, \\exp \\left(\\Phi\\left(m_{\\text {current }}, \\mathbf{d}_{\\text {obs }}\\right)-\\Phi\\left(\\mathrm{m}_{\\text {proposed }}, \\mathbf{d}_{\\text {obs }}\\right)\\right)\\right\\}\n",
    "\\end{equation}"
   ]
  },
  {
   "cell_type": "markdown",
   "metadata": {},
   "source": [
    "### preconditioned Crank-Nicolson proposal"
   ]
  },
  {
   "cell_type": "code",
   "execution_count": 120,
   "metadata": {
    "ExecuteTime": {
     "end_time": "2019-10-22T15:03:53.396860Z",
     "start_time": "2019-10-22T15:03:53.389350Z"
    }
   },
   "outputs": [],
   "source": [
    "\n",
    "@tf.function\n",
    "def acceptance_pCN(m_current , m_proposed):\n",
    "    \n",
    "    grav_current = grav_analytical_tf(x_obs,m_current, cov)\n",
    "    phi_current = matrixcompute(grav_current,grav_obs_array_withnoise,noise_tensor)\n",
    "\n",
    "    grav_proposed = grav_analytical_tf(x_obs,m_proposed, cov)\n",
    "    phi_proposed = matrixcompute(grav_proposed,grav_obs_array_withnoise,noise_tensor)\n",
    "\n",
    "\n",
    "    ## calculate accept ratio if exp()<1\n",
    "    accept_ratio = tf.exp(tf.subtract(phi_current,phi_proposed))\n",
    "    acceptsample = tfd.Sample(\n",
    "    tfd.Uniform(0., 1.),\n",
    "    sample_shape=[1,1])\n",
    "    sample = acceptsample.sample()\n",
    "    \n",
    "    ## greater : further away from the observation = less possible to accept\n",
    "    then_expression = tf.greater_equal( phi_current,phi_proposed)\n",
    "    else_expression = tf.greater(accept_ratio, sample)\n",
    "    \n",
    "    \n",
    "    condition = tf.reshape(tf.greater_equal( phi_current,phi_proposed),())\n",
    "    \n",
    "    \n",
    "    x = tf.cond(condition ,\n",
    "               lambda: then_expression,\n",
    "               lambda: else_expression)\n",
    "    \n",
    "    x = tf.reshape(x,())\n",
    "    return x\n",
    "        \n",
    "\n"
   ]
  },
  {
   "cell_type": "markdown",
   "metadata": {},
   "source": [
    "#### gpCN"
   ]
  },
  {
   "cell_type": "markdown",
   "metadata": {},
   "source": [
    "gpCN is a generalized version of the pCN sampler. While the proposals of pCN are drown from the prior Gaussian distribution $\\mu_{prior}$,proposals in the generalized pCN are drown from a Gaussian approximation $v$ of the posterior distribution.\n",
    "\n",
    "\\begin{equation}\n",
    "a_{\\nu}\\left(m_{\\mathrm{current}}, m_{\\mathrm{proposed}}\\right) :=\\min \\left\\{1, \\exp \\left(\\Delta\\left(m_{\\mathrm{current}}\\right)-\\Delta\\left(m_{\\mathrm{proposed}}\\right)\\right)\\right\\}\n",
    "\\end{equation}\n",
    "\n",
    "where   \n",
    "\n",
    "\\begin{equation}\n",
    "\\Delta(m)=\\Phi\\left(m, \\mathbf{d}_{\\mathrm{obs}}\\right)+\\frac{1}{2}\\left\\|\\mathrm{m}-\\mathrm{m}_{\\mathrm{prior}}\\right\\|_{C_{\\mathrm{prior}}^{-1}}^{2}-\\frac{1}{2}\\left\\|\\mathrm{m}-\\mathrm{m}_{\\nu}\\right\\|_{\\mathrm{C}_{\\nu}^{-1}}^{2}\n",
    "\\end{equation}"
   ]
  },
  {
   "cell_type": "code",
   "execution_count": 121,
   "metadata": {
    "ExecuteTime": {
     "end_time": "2019-10-22T15:03:55.161646Z",
     "start_time": "2019-10-22T15:03:55.151247Z"
    }
   },
   "outputs": [],
   "source": [
    "\n",
    "@tf.function\n",
    "def acceptance_gpCN(m_current , m_proposed):\n",
    "    \n",
    "    grav_current = grav_analytical_tf(x_obs,m_current, cov)\n",
    "    phi_current = matrixcompute(grav_current,grav_obs_array_withnoise,noise_tensor)\n",
    "    # assign a name\n",
    "    phi_current = tf.identity(phi_current, name=\"phi_current\")\n",
    "    \n",
    "    grav_proposed = grav_analytical_tf(x_obs,m_proposed, cov)\n",
    "    phi_proposed = matrixcompute(grav_proposed,grav_obs_array_withnoise,noise_tensor)\n",
    "    # assign a name\n",
    "    phi_proposed = tf.identity(phi_proposed, name=\"phi_proposed\")\n",
    "\n",
    "    t2_current = matrixcompute(m_current,mu_prior,cov)\n",
    "    t3_current = matrixcompute(m_current,MAP,C_post)\n",
    "\n",
    "    t2_proposed = matrixcompute(m_proposed,mu_prior,cov)\n",
    "    t3_proposed = matrixcompute(m_proposed,MAP,C_post)\n",
    "\n",
    "    delta_current = tf.subtract(tf.add(phi_current,t2_current ),t3_current)\n",
    "    delta_proposed = tf.subtract(tf.add(phi_proposed,t2_proposed ),t3_proposed)\n",
    "\n",
    "    ## calculate accept ratio if exp()<1\n",
    "    accept_ratio = tf.exp(tf.subtract(delta_current,delta_proposed))\n",
    "    acceptsample = tfd.Sample(\n",
    "    tfd.Uniform(0., 1.),\n",
    "    sample_shape=[1,1])\n",
    "    sample = acceptsample.sample()\n",
    "    \n",
    "    \n",
    "    ## greater : further away from the observation = less possible to accept\n",
    "    then_expression = tf.greater_equal( delta_current,delta_proposed)\n",
    "    else_expression = tf.greater(accept_ratio, sample,name = 'shit')\n",
    "    \n",
    "    condition = tf.reshape(tf.greater_equal( delta_current,delta_proposed)[0],())\n",
    "    \n",
    "\n",
    "    x = tf.cond(condition ,\n",
    "               lambda: then_expression,\n",
    "               lambda: else_expression)\n",
    "    \n",
    "    x = tf.reshape(x,())\n",
    "    return x\n",
    "        "
   ]
  },
  {
   "cell_type": "markdown",
   "metadata": {},
   "source": [
    "#### Proposal"
   ]
  },
  {
   "cell_type": "markdown",
   "metadata": {
    "ExecuteTime": {
     "end_time": "2019-09-19T15:46:24.359565Z",
     "start_time": "2019-09-19T15:46:24.355527Z"
    }
   },
   "source": [
    "\\begin{equation}\n",
    "v^{(k)}=m_{\\nu}+\\sqrt{1-\\beta^{2}}\\left(m^{(k)}-m_{\\nu}\\right)+\\beta \\xi^{(k)}, \\quad \\xi^{(k)} \\sim \\mathcal{N}\\left(0, \\mathcal{C}_{\\nu}\\right)\n",
    "\\end{equation}"
   ]
  },
  {
   "cell_type": "code",
   "execution_count": 146,
   "metadata": {
    "ExecuteTime": {
     "end_time": "2019-10-23T14:24:00.696152Z",
     "start_time": "2019-10-23T14:24:00.689083Z"
    }
   },
   "outputs": [],
   "source": [
    "from IPython.display import clear_output\n",
    "# define leaning rate\n",
    "beta = 0.3\n",
    "\n",
    "@tf.function\n",
    "def draw_proposal(m_current):\n",
    "    \n",
    "    _term1 = MAP\n",
    "    \n",
    "    ## sqrt term\n",
    "    tem_1 = tf.convert_to_tensor(np.sqrt(1-beta**2),dtype = tf.float32)\n",
    "    ## sqrt(1-beta^2)()\n",
    "    _term2 = tf.multiply(tem_1,(tf.subtract(m_current,MAP)))\n",
    "    \n",
    "    Xi = tfd.MultivariateNormalFullCovariance(\n",
    "            loc = 0,\n",
    "            covariance_matrix= C_post)\n",
    "\n",
    "    Xi_s = tfd.Sample(Xi)\n",
    "    _term3 = tf.multiply(beta,Xi_s.sample())\n",
    "    \n",
    "    m_proposed = tf.add(MAP,tf.add(_term2,_term3))\n",
    "    \n",
    "    return m_proposed\n",
    "    \n",
    "\n",
    "    "
   ]
  },
  {
   "cell_type": "markdown",
   "metadata": {},
   "source": [
    "### Chain"
   ]
  },
  {
   "cell_type": "code",
   "execution_count": 156,
   "metadata": {
    "ExecuteTime": {
     "end_time": "2019-10-29T14:20:35.110272Z",
     "start_time": "2019-10-29T14:20:35.091765Z"
    }
   },
   "outputs": [],
   "source": [
    "def run_chain(sess):\n",
    "    burn_in = 500\n",
    "    steps = 3000\n",
    "    k = 0\n",
    "    accepted = []\n",
    "    rejected = []\n",
    "\n",
    "    m_current = mu  # init m\n",
    "    \n",
    "    \n",
    "    for k in range(steps+burn_in):\n",
    "\n",
    "        m_proposed = draw_proposal(m_current)\n",
    "        \n",
    "        if k%20 == 0: \n",
    "            clear_output();\n",
    "            print(k, \"finised\")\n",
    "        \n",
    "\n",
    "        if sess.run(acceptance_gpCN(m_current,m_proposed)):\n",
    "            m_current = m_proposed\n",
    "            if k > burn_in:\n",
    "                accepted.append(m_proposed)\n",
    "        else:\n",
    "            m_current = m_current\n",
    "            rejected.append(m_proposed)\n",
    "    \n",
    "    return accepted,rejected\n",
    "    \n"
   ]
  },
  {
   "cell_type": "code",
   "execution_count": null,
   "metadata": {
    "ExecuteTime": {
     "start_time": "2019-10-29T14:20:35.808Z"
    }
   },
   "outputs": [
    {
     "name": "stdout",
     "output_type": "stream",
     "text": [
      "60 finised\n"
     ]
    }
   ],
   "source": [
    "init = tf.global_variables_initializer()\n",
    "with tf.Session() as sess:\n",
    "    sess.run(init)\n",
    "    accepted,rejected = sess.run(run_chain(sess))\n",
    "    "
   ]
  },
  {
   "cell_type": "code",
   "execution_count": null,
   "metadata": {
    "ExecuteTime": {
     "start_time": "2019-10-29T14:20:36.464Z"
    }
   },
   "outputs": [],
   "source": [
    "np.shape(accepted)[0]"
   ]
  },
  {
   "cell_type": "code",
   "execution_count": null,
   "metadata": {
    "ExecuteTime": {
     "start_time": "2019-10-29T14:20:37.519Z"
    }
   },
   "outputs": [],
   "source": [
    "def plot_trace(accepted):\n",
    "            \n",
    "    sphere_center_accepted = []\n",
    "    density_difference_accepted = []\n",
    "    sphere_radius_accepted = []\n",
    "    for i in range(np.shape(accepted)[0]):\n",
    "        \n",
    "        sphere_center_accepted.append(accepted[i][0])\n",
    "        density_difference_accepted.append(accepted[i][1])\n",
    "        sphere_radius_accepted.append(accepted[i][2])\n",
    "        \n",
    "        \n",
    "    fig, axes = plt.subplots(1, 3, sharex='col', sharey='col')\n",
    "    fig.set_size_inches(17, 4)\n",
    "    \n",
    "    axes[0].hist(sphere_center_accepted,40,density=True)\n",
    "    axes[1].hist(density_difference_accepted,40,density=True)\n",
    "    axes[2].hist(sphere_radius_accepted,40,density=True)\n",
    "\n",
    "\n",
    "    ## print prior\n",
    "    for i in range(3):\n",
    "\n",
    "        axes[i].plot(xvals[i], norm_list[i],label=\"prior\")\n",
    "        axes[i].title.set_text(name_list[i])\n",
    "        axes[i].axvline(truevalue_list[i], label=\"true value\", color='k', \n",
    "                linestyle='--', linewidth=2)\n",
    "        axes[i].legend();\n"
   ]
  },
  {
   "cell_type": "code",
   "execution_count": null,
   "metadata": {
    "ExecuteTime": {
     "start_time": "2019-10-29T14:20:38.482Z"
    }
   },
   "outputs": [],
   "source": [
    "plot_trace(accepted)"
   ]
  },
  {
   "cell_type": "code",
   "execution_count": null,
   "metadata": {
    "ExecuteTime": {
     "start_time": "2019-10-29T14:20:39.201Z"
    }
   },
   "outputs": [],
   "source": [
    "import corner "
   ]
  },
  {
   "cell_type": "code",
   "execution_count": null,
   "metadata": {
    "ExecuteTime": {
     "start_time": "2019-10-29T14:20:39.942Z"
    }
   },
   "outputs": [],
   "source": [
    "accepted"
   ]
  },
  {
   "cell_type": "code",
   "execution_count": null,
   "metadata": {
    "ExecuteTime": {
     "start_time": "2019-10-29T14:20:41.335Z"
    }
   },
   "outputs": [],
   "source": [
    "figure = corner.corner(accepted)"
   ]
  },
  {
   "cell_type": "code",
   "execution_count": 4,
   "metadata": {
    "ExecuteTime": {
     "end_time": "2019-10-29T17:26:49.155393Z",
     "start_time": "2019-10-29T17:26:49.152593Z"
    }
   },
   "outputs": [],
   "source": [
    "def target_log_prob(x, y):\n",
    "  # Stack the input tensors together\n",
    "  z = tf.stack([x, x**2+y], axis=-1)\n",
    "  return target.log_prob(tf.squeeze(z))"
   ]
  },
  {
   "cell_type": "code",
   "execution_count": null,
   "metadata": {},
   "outputs": [],
   "source": []
  }
 ],
 "metadata": {
  "kernelspec": {
   "display_name": "Python 3",
   "language": "python",
   "name": "python3"
  },
  "language_info": {
   "codemirror_mode": {
    "name": "ipython",
    "version": 3
   },
   "file_extension": ".py",
   "mimetype": "text/x-python",
   "name": "python",
   "nbconvert_exporter": "python",
   "pygments_lexer": "ipython3",
   "version": "3.7.3"
  },
  "varInspector": {
   "cols": {
    "lenName": 16,
    "lenType": 16,
    "lenVar": 40
   },
   "kernels_config": {
    "python": {
     "delete_cmd_postfix": "",
     "delete_cmd_prefix": "del ",
     "library": "var_list.py",
     "varRefreshCmd": "print(var_dic_list())"
    },
    "r": {
     "delete_cmd_postfix": ") ",
     "delete_cmd_prefix": "rm(",
     "library": "var_list.r",
     "varRefreshCmd": "cat(var_dic_list()) "
    }
   },
   "types_to_exclude": [
    "module",
    "function",
    "builtin_function_or_method",
    "instance",
    "_Feature"
   ],
   "window_display": false
  }
 },
 "nbformat": 4,
 "nbformat_minor": 2
}
