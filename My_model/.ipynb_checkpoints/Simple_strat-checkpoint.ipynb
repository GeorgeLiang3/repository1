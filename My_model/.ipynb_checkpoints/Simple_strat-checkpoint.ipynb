{
 "cells": [
  {
   "cell_type": "code",
   "execution_count": 9,
   "metadata": {
    "ExecuteTime": {
     "end_time": "2019-08-07T15:42:04.197063Z",
     "start_time": "2019-08-07T15:42:04.192831Z"
    }
   },
   "outputs": [],
   "source": [
    "import gempy as gp\n",
    "import os\n",
    "%matplotlib inline\n",
    "\n",
    "import numpy as np\n",
    "import matplotlib.pyplot as plt"
   ]
  },
  {
   "cell_type": "markdown",
   "metadata": {},
   "source": [
    "## Create a simple model with Horizontal strata"
   ]
  },
  {
   "cell_type": "markdown",
   "metadata": {},
   "source": [
    "Three layers model - modified from Jan's model. 4 surface points, 2 orien points"
   ]
  },
  {
   "cell_type": "code",
   "execution_count": 10,
   "metadata": {
    "ExecuteTime": {
     "end_time": "2019-08-07T15:42:04.577201Z",
     "start_time": "2019-08-07T15:42:04.199399Z"
    }
   },
   "outputs": [
    {
     "name": "stdout",
     "output_type": "stream",
     "text": [
      "Active grids: ['regular']\n"
     ]
    },
    {
     "name": "stderr",
     "output_type": "stream",
     "text": [
      "/Users/zhouji/anaconda3/envs/Bayes/lib/python3.7/site-packages/gempy/core/model.py:789: FutureWarning: The 'get_values' method is deprecated and will be removed in a future version. Use '.to_numpy()' or '.array' instead.\n",
      "  self.surfaces.df['series'].cat.reorder_categories(self.series.df.index.get_values(),\n",
      "/Users/zhouji/anaconda3/envs/Bayes/lib/python3.7/site-packages/gempy/core/model.py:791: FutureWarning: The 'get_values' method is deprecated and will be removed in a future version. Use '.to_numpy()' or '.array' instead.\n",
      "  self.series.df.index = self.series.df.index.reorder_categories(self.series.df.index.get_values(),\n",
      "/Users/zhouji/anaconda3/envs/Bayes/lib/python3.7/site-packages/gempy/core/model.py:502: FutureWarning: The 'get_values' method is deprecated and will be removed in a future version. Use '.to_numpy()' or '.array' instead.\n",
      "  aux = self.series.df.index.drop('Basement').get_values()\n",
      "/Users/zhouji/anaconda3/envs/Bayes/lib/python3.7/site-packages/gempy/core/model.py:290: FutureWarning: The 'get_values' method is deprecated and will be removed in a future version. Use '.to_numpy()' or '.array' instead.\n",
      "  self.surfaces.df['series'].cat.reorder_categories(self.series.df.index.get_values(),\n"
     ]
    },
    {
     "data": {
      "text/plain": [
       "Tristrata  2019-08-07 17:42"
      ]
     },
     "execution_count": 10,
     "metadata": {},
     "output_type": "execute_result"
    }
   ],
   "source": [
    "geo_model = gp.create_model('Tristrata')\n",
    "gp.init_data(geo_model,[0,1000,0,1000,0,1000],resolution = [50,50,50],\n",
    "                         path_o=os.pardir+\"/My_model/input_data/model1_orientations.csv\",\n",
    "                         path_i=os.pardir+\"/My_model/input_data/model1_surface_points.csv\")\n",
    "\n"
   ]
  },
  {
   "cell_type": "code",
   "execution_count": 11,
   "metadata": {
    "ExecuteTime": {
     "end_time": "2019-08-07T15:42:04.612313Z",
     "start_time": "2019-08-07T15:42:04.579060Z"
    }
   },
   "outputs": [
    {
     "data": {
      "text/html": [
       "<div>\n",
       "<style scoped>\n",
       "    .dataframe tbody tr th:only-of-type {\n",
       "        vertical-align: middle;\n",
       "    }\n",
       "\n",
       "    .dataframe tbody tr th {\n",
       "        vertical-align: top;\n",
       "    }\n",
       "\n",
       "    .dataframe thead th {\n",
       "        text-align: right;\n",
       "    }\n",
       "</style>\n",
       "<table border=\"1\" class=\"dataframe\">\n",
       "  <thead>\n",
       "    <tr style=\"text-align: right;\">\n",
       "      <th></th>\n",
       "      <th></th>\n",
       "      <th>X</th>\n",
       "      <th>Y</th>\n",
       "      <th>Z</th>\n",
       "      <th>X_r</th>\n",
       "      <th>Y_r</th>\n",
       "      <th>Z_r</th>\n",
       "      <th>surface</th>\n",
       "      <th>series</th>\n",
       "      <th>id</th>\n",
       "      <th>order_series</th>\n",
       "      <th>smooth</th>\n",
       "      <th>G_x</th>\n",
       "      <th>G_y</th>\n",
       "      <th>G_z</th>\n",
       "      <th>dip</th>\n",
       "      <th>azimuth</th>\n",
       "      <th>polarity</th>\n",
       "    </tr>\n",
       "  </thead>\n",
       "  <tbody>\n",
       "    <tr>\n",
       "      <th rowspan=\"12\" valign=\"top\">surface_points</th>\n",
       "      <th>0</th>\n",
       "      <td>100</td>\n",
       "      <td>200</td>\n",
       "      <td>600</td>\n",
       "      <td>0.2501</td>\n",
       "      <td>0.3126</td>\n",
       "      <td>0.5626</td>\n",
       "      <td>rock2</td>\n",
       "      <td>Default series</td>\n",
       "      <td>1</td>\n",
       "      <td>1</td>\n",
       "      <td>1.000000e-08</td>\n",
       "      <td>NaN</td>\n",
       "      <td>NaN</td>\n",
       "      <td>NaN</td>\n",
       "      <td>NaN</td>\n",
       "      <td>NaN</td>\n",
       "      <td>NaN</td>\n",
       "    </tr>\n",
       "    <tr>\n",
       "      <th>1</th>\n",
       "      <td>500</td>\n",
       "      <td>200</td>\n",
       "      <td>600</td>\n",
       "      <td>0.5001</td>\n",
       "      <td>0.3126</td>\n",
       "      <td>0.5626</td>\n",
       "      <td>rock2</td>\n",
       "      <td>Default series</td>\n",
       "      <td>1</td>\n",
       "      <td>1</td>\n",
       "      <td>1.000000e-08</td>\n",
       "      <td>NaN</td>\n",
       "      <td>NaN</td>\n",
       "      <td>NaN</td>\n",
       "      <td>NaN</td>\n",
       "      <td>NaN</td>\n",
       "      <td>NaN</td>\n",
       "    </tr>\n",
       "    <tr>\n",
       "      <th>2</th>\n",
       "      <td>900</td>\n",
       "      <td>200</td>\n",
       "      <td>600</td>\n",
       "      <td>0.7501</td>\n",
       "      <td>0.3126</td>\n",
       "      <td>0.5626</td>\n",
       "      <td>rock2</td>\n",
       "      <td>Default series</td>\n",
       "      <td>1</td>\n",
       "      <td>1</td>\n",
       "      <td>1.000000e-08</td>\n",
       "      <td>NaN</td>\n",
       "      <td>NaN</td>\n",
       "      <td>NaN</td>\n",
       "      <td>NaN</td>\n",
       "      <td>NaN</td>\n",
       "      <td>NaN</td>\n",
       "    </tr>\n",
       "    <tr>\n",
       "      <th>3</th>\n",
       "      <td>100</td>\n",
       "      <td>800</td>\n",
       "      <td>600</td>\n",
       "      <td>0.2501</td>\n",
       "      <td>0.6876</td>\n",
       "      <td>0.5626</td>\n",
       "      <td>rock2</td>\n",
       "      <td>Default series</td>\n",
       "      <td>1</td>\n",
       "      <td>1</td>\n",
       "      <td>1.000000e-08</td>\n",
       "      <td>NaN</td>\n",
       "      <td>NaN</td>\n",
       "      <td>NaN</td>\n",
       "      <td>NaN</td>\n",
       "      <td>NaN</td>\n",
       "      <td>NaN</td>\n",
       "    </tr>\n",
       "    <tr>\n",
       "      <th>4</th>\n",
       "      <td>500</td>\n",
       "      <td>800</td>\n",
       "      <td>600</td>\n",
       "      <td>0.5001</td>\n",
       "      <td>0.6876</td>\n",
       "      <td>0.5626</td>\n",
       "      <td>rock2</td>\n",
       "      <td>Default series</td>\n",
       "      <td>1</td>\n",
       "      <td>1</td>\n",
       "      <td>1.000000e-08</td>\n",
       "      <td>NaN</td>\n",
       "      <td>NaN</td>\n",
       "      <td>NaN</td>\n",
       "      <td>NaN</td>\n",
       "      <td>NaN</td>\n",
       "      <td>NaN</td>\n",
       "    </tr>\n",
       "    <tr>\n",
       "      <th>5</th>\n",
       "      <td>900</td>\n",
       "      <td>800</td>\n",
       "      <td>600</td>\n",
       "      <td>0.7501</td>\n",
       "      <td>0.6876</td>\n",
       "      <td>0.5626</td>\n",
       "      <td>rock2</td>\n",
       "      <td>Default series</td>\n",
       "      <td>1</td>\n",
       "      <td>1</td>\n",
       "      <td>1.000000e-08</td>\n",
       "      <td>NaN</td>\n",
       "      <td>NaN</td>\n",
       "      <td>NaN</td>\n",
       "      <td>NaN</td>\n",
       "      <td>NaN</td>\n",
       "      <td>NaN</td>\n",
       "    </tr>\n",
       "    <tr>\n",
       "      <th>6</th>\n",
       "      <td>100</td>\n",
       "      <td>200</td>\n",
       "      <td>400</td>\n",
       "      <td>0.2501</td>\n",
       "      <td>0.3126</td>\n",
       "      <td>0.4376</td>\n",
       "      <td>rock1</td>\n",
       "      <td>Default series</td>\n",
       "      <td>2</td>\n",
       "      <td>1</td>\n",
       "      <td>1.000000e-08</td>\n",
       "      <td>NaN</td>\n",
       "      <td>NaN</td>\n",
       "      <td>NaN</td>\n",
       "      <td>NaN</td>\n",
       "      <td>NaN</td>\n",
       "      <td>NaN</td>\n",
       "    </tr>\n",
       "    <tr>\n",
       "      <th>7</th>\n",
       "      <td>500</td>\n",
       "      <td>200</td>\n",
       "      <td>400</td>\n",
       "      <td>0.5001</td>\n",
       "      <td>0.3126</td>\n",
       "      <td>0.4376</td>\n",
       "      <td>rock1</td>\n",
       "      <td>Default series</td>\n",
       "      <td>2</td>\n",
       "      <td>1</td>\n",
       "      <td>1.000000e-08</td>\n",
       "      <td>NaN</td>\n",
       "      <td>NaN</td>\n",
       "      <td>NaN</td>\n",
       "      <td>NaN</td>\n",
       "      <td>NaN</td>\n",
       "      <td>NaN</td>\n",
       "    </tr>\n",
       "    <tr>\n",
       "      <th>8</th>\n",
       "      <td>900</td>\n",
       "      <td>200</td>\n",
       "      <td>400</td>\n",
       "      <td>0.7501</td>\n",
       "      <td>0.3126</td>\n",
       "      <td>0.4376</td>\n",
       "      <td>rock1</td>\n",
       "      <td>Default series</td>\n",
       "      <td>2</td>\n",
       "      <td>1</td>\n",
       "      <td>1.000000e-08</td>\n",
       "      <td>NaN</td>\n",
       "      <td>NaN</td>\n",
       "      <td>NaN</td>\n",
       "      <td>NaN</td>\n",
       "      <td>NaN</td>\n",
       "      <td>NaN</td>\n",
       "    </tr>\n",
       "    <tr>\n",
       "      <th>9</th>\n",
       "      <td>100</td>\n",
       "      <td>800</td>\n",
       "      <td>400</td>\n",
       "      <td>0.2501</td>\n",
       "      <td>0.6876</td>\n",
       "      <td>0.4376</td>\n",
       "      <td>rock1</td>\n",
       "      <td>Default series</td>\n",
       "      <td>2</td>\n",
       "      <td>1</td>\n",
       "      <td>1.000000e-08</td>\n",
       "      <td>NaN</td>\n",
       "      <td>NaN</td>\n",
       "      <td>NaN</td>\n",
       "      <td>NaN</td>\n",
       "      <td>NaN</td>\n",
       "      <td>NaN</td>\n",
       "    </tr>\n",
       "    <tr>\n",
       "      <th>10</th>\n",
       "      <td>500</td>\n",
       "      <td>800</td>\n",
       "      <td>400</td>\n",
       "      <td>0.5001</td>\n",
       "      <td>0.6876</td>\n",
       "      <td>0.4376</td>\n",
       "      <td>rock1</td>\n",
       "      <td>Default series</td>\n",
       "      <td>2</td>\n",
       "      <td>1</td>\n",
       "      <td>1.000000e-08</td>\n",
       "      <td>NaN</td>\n",
       "      <td>NaN</td>\n",
       "      <td>NaN</td>\n",
       "      <td>NaN</td>\n",
       "      <td>NaN</td>\n",
       "      <td>NaN</td>\n",
       "    </tr>\n",
       "    <tr>\n",
       "      <th>11</th>\n",
       "      <td>900</td>\n",
       "      <td>800</td>\n",
       "      <td>400</td>\n",
       "      <td>0.7501</td>\n",
       "      <td>0.6876</td>\n",
       "      <td>0.4376</td>\n",
       "      <td>rock1</td>\n",
       "      <td>Default series</td>\n",
       "      <td>2</td>\n",
       "      <td>1</td>\n",
       "      <td>1.000000e-08</td>\n",
       "      <td>NaN</td>\n",
       "      <td>NaN</td>\n",
       "      <td>NaN</td>\n",
       "      <td>NaN</td>\n",
       "      <td>NaN</td>\n",
       "      <td>NaN</td>\n",
       "    </tr>\n",
       "    <tr>\n",
       "      <th rowspan=\"2\" valign=\"top\">orientations</th>\n",
       "      <th>0</th>\n",
       "      <td>500</td>\n",
       "      <td>500</td>\n",
       "      <td>600</td>\n",
       "      <td>0.5001</td>\n",
       "      <td>0.5001</td>\n",
       "      <td>0.5626</td>\n",
       "      <td>rock2</td>\n",
       "      <td>Default series</td>\n",
       "      <td>1</td>\n",
       "      <td>1</td>\n",
       "      <td>1.000000e-02</td>\n",
       "      <td>1.000000e-12</td>\n",
       "      <td>1.000000e-12</td>\n",
       "      <td>1.0</td>\n",
       "      <td>0.0</td>\n",
       "      <td>90.0</td>\n",
       "      <td>1.0</td>\n",
       "    </tr>\n",
       "    <tr>\n",
       "      <th>1</th>\n",
       "      <td>500</td>\n",
       "      <td>500</td>\n",
       "      <td>400</td>\n",
       "      <td>0.5001</td>\n",
       "      <td>0.5001</td>\n",
       "      <td>0.4376</td>\n",
       "      <td>rock1</td>\n",
       "      <td>Default series</td>\n",
       "      <td>2</td>\n",
       "      <td>1</td>\n",
       "      <td>1.000000e-02</td>\n",
       "      <td>1.000000e-12</td>\n",
       "      <td>1.000000e-12</td>\n",
       "      <td>1.0</td>\n",
       "      <td>0.0</td>\n",
       "      <td>90.0</td>\n",
       "      <td>1.0</td>\n",
       "    </tr>\n",
       "  </tbody>\n",
       "</table>\n",
       "</div>"
      ],
      "text/plain": [
       "                     X    Y    Z     X_r     Y_r     Z_r surface  \\\n",
       "surface_points 0   100  200  600  0.2501  0.3126  0.5626   rock2   \n",
       "               1   500  200  600  0.5001  0.3126  0.5626   rock2   \n",
       "               2   900  200  600  0.7501  0.3126  0.5626   rock2   \n",
       "               3   100  800  600  0.2501  0.6876  0.5626   rock2   \n",
       "               4   500  800  600  0.5001  0.6876  0.5626   rock2   \n",
       "               5   900  800  600  0.7501  0.6876  0.5626   rock2   \n",
       "               6   100  200  400  0.2501  0.3126  0.4376   rock1   \n",
       "               7   500  200  400  0.5001  0.3126  0.4376   rock1   \n",
       "               8   900  200  400  0.7501  0.3126  0.4376   rock1   \n",
       "               9   100  800  400  0.2501  0.6876  0.4376   rock1   \n",
       "               10  500  800  400  0.5001  0.6876  0.4376   rock1   \n",
       "               11  900  800  400  0.7501  0.6876  0.4376   rock1   \n",
       "orientations   0   500  500  600  0.5001  0.5001  0.5626   rock2   \n",
       "               1   500  500  400  0.5001  0.5001  0.4376   rock1   \n",
       "\n",
       "                           series id order_series        smooth           G_x  \\\n",
       "surface_points 0   Default series  1            1  1.000000e-08           NaN   \n",
       "               1   Default series  1            1  1.000000e-08           NaN   \n",
       "               2   Default series  1            1  1.000000e-08           NaN   \n",
       "               3   Default series  1            1  1.000000e-08           NaN   \n",
       "               4   Default series  1            1  1.000000e-08           NaN   \n",
       "               5   Default series  1            1  1.000000e-08           NaN   \n",
       "               6   Default series  2            1  1.000000e-08           NaN   \n",
       "               7   Default series  2            1  1.000000e-08           NaN   \n",
       "               8   Default series  2            1  1.000000e-08           NaN   \n",
       "               9   Default series  2            1  1.000000e-08           NaN   \n",
       "               10  Default series  2            1  1.000000e-08           NaN   \n",
       "               11  Default series  2            1  1.000000e-08           NaN   \n",
       "orientations   0   Default series  1            1  1.000000e-02  1.000000e-12   \n",
       "               1   Default series  2            1  1.000000e-02  1.000000e-12   \n",
       "\n",
       "                            G_y  G_z  dip  azimuth  polarity  \n",
       "surface_points 0            NaN  NaN  NaN      NaN       NaN  \n",
       "               1            NaN  NaN  NaN      NaN       NaN  \n",
       "               2            NaN  NaN  NaN      NaN       NaN  \n",
       "               3            NaN  NaN  NaN      NaN       NaN  \n",
       "               4            NaN  NaN  NaN      NaN       NaN  \n",
       "               5            NaN  NaN  NaN      NaN       NaN  \n",
       "               6            NaN  NaN  NaN      NaN       NaN  \n",
       "               7            NaN  NaN  NaN      NaN       NaN  \n",
       "               8            NaN  NaN  NaN      NaN       NaN  \n",
       "               9            NaN  NaN  NaN      NaN       NaN  \n",
       "               10           NaN  NaN  NaN      NaN       NaN  \n",
       "               11           NaN  NaN  NaN      NaN       NaN  \n",
       "orientations   0   1.000000e-12  1.0  0.0     90.0       1.0  \n",
       "               1   1.000000e-12  1.0  0.0     90.0       1.0  "
      ]
     },
     "execution_count": 11,
     "metadata": {},
     "output_type": "execute_result"
    }
   ],
   "source": [
    "geo_model.get_data()"
   ]
  },
  {
   "cell_type": "markdown",
   "metadata": {},
   "source": [
    " Setting and ordering the units and series"
   ]
  },
  {
   "cell_type": "code",
   "execution_count": 12,
   "metadata": {
    "ExecuteTime": {
     "end_time": "2019-08-07T15:42:04.743719Z",
     "start_time": "2019-08-07T15:42:04.614320Z"
    }
   },
   "outputs": [
    {
     "data": {
      "text/html": [
       "<style  type=\"text/css\" >\n",
       "    #T_e7ed5e80_b929_11e9_98cd_acde48001122row0_col4 {\n",
       "            background-color:  #015482;\n",
       "        }    #T_e7ed5e80_b929_11e9_98cd_acde48001122row1_col4 {\n",
       "            background-color:  #9f0052;\n",
       "        }    #T_e7ed5e80_b929_11e9_98cd_acde48001122row2_col4 {\n",
       "            background-color:  #ffbe00;\n",
       "        }</style><table id=\"T_e7ed5e80_b929_11e9_98cd_acde48001122\" ><thead>    <tr>        <th class=\"blank level0\" ></th>        <th class=\"col_heading level0 col0\" >surface</th>        <th class=\"col_heading level0 col1\" >series</th>        <th class=\"col_heading level0 col2\" >order_surfaces</th>        <th class=\"col_heading level0 col3\" >isBasement</th>        <th class=\"col_heading level0 col4\" >color</th>        <th class=\"col_heading level0 col5\" >id</th>    </tr></thead><tbody>\n",
       "                <tr>\n",
       "                        <th id=\"T_e7ed5e80_b929_11e9_98cd_acde48001122level0_row0\" class=\"row_heading level0 row0\" >0</th>\n",
       "                        <td id=\"T_e7ed5e80_b929_11e9_98cd_acde48001122row0_col0\" class=\"data row0 col0\" >rock2</td>\n",
       "                        <td id=\"T_e7ed5e80_b929_11e9_98cd_acde48001122row0_col1\" class=\"data row0 col1\" >Start_Series</td>\n",
       "                        <td id=\"T_e7ed5e80_b929_11e9_98cd_acde48001122row0_col2\" class=\"data row0 col2\" >1</td>\n",
       "                        <td id=\"T_e7ed5e80_b929_11e9_98cd_acde48001122row0_col3\" class=\"data row0 col3\" >False</td>\n",
       "                        <td id=\"T_e7ed5e80_b929_11e9_98cd_acde48001122row0_col4\" class=\"data row0 col4\" >#015482</td>\n",
       "                        <td id=\"T_e7ed5e80_b929_11e9_98cd_acde48001122row0_col5\" class=\"data row0 col5\" >1</td>\n",
       "            </tr>\n",
       "            <tr>\n",
       "                        <th id=\"T_e7ed5e80_b929_11e9_98cd_acde48001122level0_row1\" class=\"row_heading level0 row1\" >1</th>\n",
       "                        <td id=\"T_e7ed5e80_b929_11e9_98cd_acde48001122row1_col0\" class=\"data row1 col0\" >rock1</td>\n",
       "                        <td id=\"T_e7ed5e80_b929_11e9_98cd_acde48001122row1_col1\" class=\"data row1 col1\" >Start_Series</td>\n",
       "                        <td id=\"T_e7ed5e80_b929_11e9_98cd_acde48001122row1_col2\" class=\"data row1 col2\" >2</td>\n",
       "                        <td id=\"T_e7ed5e80_b929_11e9_98cd_acde48001122row1_col3\" class=\"data row1 col3\" >False</td>\n",
       "                        <td id=\"T_e7ed5e80_b929_11e9_98cd_acde48001122row1_col4\" class=\"data row1 col4\" >#9f0052</td>\n",
       "                        <td id=\"T_e7ed5e80_b929_11e9_98cd_acde48001122row1_col5\" class=\"data row1 col5\" >2</td>\n",
       "            </tr>\n",
       "            <tr>\n",
       "                        <th id=\"T_e7ed5e80_b929_11e9_98cd_acde48001122level0_row2\" class=\"row_heading level0 row2\" >2</th>\n",
       "                        <td id=\"T_e7ed5e80_b929_11e9_98cd_acde48001122row2_col0\" class=\"data row2 col0\" >basement</td>\n",
       "                        <td id=\"T_e7ed5e80_b929_11e9_98cd_acde48001122row2_col1\" class=\"data row2 col1\" >Basement_Series</td>\n",
       "                        <td id=\"T_e7ed5e80_b929_11e9_98cd_acde48001122row2_col2\" class=\"data row2 col2\" >1</td>\n",
       "                        <td id=\"T_e7ed5e80_b929_11e9_98cd_acde48001122row2_col3\" class=\"data row2 col3\" >True</td>\n",
       "                        <td id=\"T_e7ed5e80_b929_11e9_98cd_acde48001122row2_col4\" class=\"data row2 col4\" >#ffbe00</td>\n",
       "                        <td id=\"T_e7ed5e80_b929_11e9_98cd_acde48001122row2_col5\" class=\"data row2 col5\" >3</td>\n",
       "            </tr>\n",
       "    </tbody></table>"
      ],
      "text/plain": [
       "    surface           series  order_surfaces  isBasement    color vertices edges  id\n",
       "0     rock2     Start_Series               1       False  #015482      NaN   NaN   1\n",
       "1     rock1     Start_Series               2       False  #9f0052      NaN   NaN   2\n",
       "2  basement  Basement_Series               1        True  #ffbe00      NaN   NaN   3"
      ]
     },
     "execution_count": 12,
     "metadata": {},
     "output_type": "execute_result"
    }
   ],
   "source": [
    "gp.map_series_to_surfaces(geo_model,{\"Start_Series\":('rock2','rock1'),\"Basement_Series\":('basement')})"
   ]
  },
  {
   "cell_type": "code",
   "execution_count": 13,
   "metadata": {
    "ExecuteTime": {
     "end_time": "2019-08-07T15:42:04.970256Z",
     "start_time": "2019-08-07T15:42:04.745391Z"
    }
   },
   "outputs": [
    {
     "data": {
      "text/plain": [
       "<gempy.plot.visualization_2d.PlotData2D at 0x1c32160eb8>"
      ]
     },
     "execution_count": 13,
     "metadata": {},
     "output_type": "execute_result"
    },
    {
     "data": {
      "image/png": "[encoded data removed]",
      "text/plain": [
       "<Figure size 360x360 with 1 Axes>"
      ]
     },
     "metadata": {},
     "output_type": "display_data"
    }
   ],
   "source": [
    "gp.plot.plot_data(geo_model,direction=\"y\")"
   ]
  },
  {
   "cell_type": "code",
   "execution_count": 14,
   "metadata": {
    "ExecuteTime": {
     "end_time": "2019-08-07T15:42:08.042793Z",
     "start_time": "2019-08-07T15:42:04.971980Z"
    }
   },
   "outputs": [
    {
     "name": "stdout",
     "output_type": "stream",
     "text": [
      "Compiling theano function...\n",
      "Compilation Done!\n"
     ]
    },
    {
     "data": {
      "text/plain": [
       "<gempy.core.interpolator.InterpolatorModel at 0x1c31a32e48>"
      ]
     },
     "execution_count": 14,
     "metadata": {},
     "output_type": "execute_result"
    }
   ],
   "source": [
    "gp.set_interpolation_data(geo_model, compile_theano=True,\n",
    "                                        theano_optimizer='fast_compile',verbose=[])"
   ]
  },
  {
   "cell_type": "code",
   "execution_count": 15,
   "metadata": {
    "ExecuteTime": {
     "end_time": "2019-08-07T15:42:08.819920Z",
     "start_time": "2019-08-07T15:42:08.044811Z"
    }
   },
   "outputs": [
    {
     "data": {
      "text/plain": [
       "\n",
       "Lithology ids \n",
       "  [nan nan nan ... nan nan nan] "
      ]
     },
     "execution_count": 15,
     "metadata": {},
     "output_type": "execute_result"
    }
   ],
   "source": [
    "gp.compute_model(geo_model, debug=False,compute_mesh=False, sort_surfaces=False)"
   ]
  },
  {
   "cell_type": "code",
   "execution_count": 16,
   "metadata": {
    "ExecuteTime": {
     "end_time": "2019-08-07T15:42:09.056382Z",
     "start_time": "2019-08-07T15:42:08.821601Z"
    }
   },
   "outputs": [
    {
     "data": {
      "text/plain": [
       "<gempy.plot.visualization_2d.PlotData2D at 0x1c348b43c8>"
      ]
     },
     "execution_count": 16,
     "metadata": {},
     "output_type": "execute_result"
    },
    {
     "data": {
      "image/png": "[encoded data removed]",
      "text/plain": [
       "<Figure size 360x360 with 1 Axes>"
      ]
     },
     "metadata": {},
     "output_type": "display_data"
    }
   ],
   "source": [
    "%matplotlib inline\n",
    "gp.plot.plot_section(geo_model, cell_number=25,\n",
    "                         direction='x', show_data=True)"
   ]
  },
  {
   "cell_type": "code",
   "execution_count": null,
   "metadata": {},
   "outputs": [],
   "source": []
  },
  {
   "cell_type": "code",
   "execution_count": null,
   "metadata": {},
   "outputs": [],
   "source": []
  }
 ],
 "metadata": {
  "kernelspec": {
   "display_name": "Python 3",
   "language": "python",
   "name": "python3"
  },
  "language_info": {
   "codemirror_mode": {
    "name": "ipython",
    "version": 3
   },
   "file_extension": ".py",
   "mimetype": "text/x-python",
   "name": "python",
   "nbconvert_exporter": "python",
   "pygments_lexer": "ipython3",
   "version": "3.7.3"
  },
  "varInspector": {
   "cols": {
    "lenName": 16,
    "lenType": 16,
    "lenVar": 40
   },
   "kernels_config": {
    "python": {
     "delete_cmd_postfix": "",
     "delete_cmd_prefix": "del ",
     "library": "var_list.py",
     "varRefreshCmd": "print(var_dic_list())"
    },
    "r": {
     "delete_cmd_postfix": ") ",
     "delete_cmd_prefix": "rm(",
     "library": "var_list.r",
     "varRefreshCmd": "cat(var_dic_list()) "
    }
   },
   "types_to_exclude": [
    "module",
    "function",
    "builtin_function_or_method",
    "instance",
    "_Feature"
   ],
   "window_display": false
  }
 },
 "nbformat": 4,
 "nbformat_minor": 2
}
