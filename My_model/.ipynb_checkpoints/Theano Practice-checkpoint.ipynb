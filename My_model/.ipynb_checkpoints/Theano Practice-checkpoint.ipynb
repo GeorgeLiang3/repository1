{
 "cells": [
  {
   "cell_type": "code",
   "execution_count": 1,
   "metadata": {
    "ExecuteTime": {
     "end_time": "2019-08-21T12:16:51.460198Z",
     "start_time": "2019-08-21T12:16:49.696478Z"
    }
   },
   "outputs": [],
   "source": [
    "import numpy as np\n",
    "import theano.tensor as T\n",
    "import theano\n",
    "from theano import function\n",
    "from theano import pp"
   ]
  },
  {
   "cell_type": "code",
   "execution_count": 9,
   "metadata": {
    "ExecuteTime": {
     "end_time": "2019-08-15T13:47:27.617089Z",
     "start_time": "2019-08-15T13:47:27.604267Z"
    }
   },
   "outputs": [],
   "source": [
    "a = T.dscalar('x')\n",
    "b = T.dscalar('y')\n",
    "z = a + b\n",
    "f = function([a, b], z)"
   ]
  },
  {
   "cell_type": "code",
   "execution_count": 14,
   "metadata": {
    "ExecuteTime": {
     "end_time": "2019-08-15T13:50:57.697107Z",
     "start_time": "2019-08-15T13:50:57.367923Z"
    }
   },
   "outputs": [],
   "source": [
    "x = T.dvector('x')\n",
    "y = x ** 2\n",
    "J, updates = theano.scan(lambda i, y, x : T.grad(y[i], x), sequences=T.arange(y.shape[0]), non_sequences=[y, x])"
   ]
  },
  {
   "cell_type": "code",
   "execution_count": 20,
   "metadata": {
    "ExecuteTime": {
     "end_time": "2019-08-15T13:52:08.017330Z",
     "start_time": "2019-08-15T13:52:08.012610Z"
    }
   },
   "outputs": [
    {
     "data": {
      "text/plain": [
       "'(x ** TensorConstant{2})'"
      ]
     },
     "execution_count": 20,
     "metadata": {},
     "output_type": "execute_result"
    }
   ],
   "source": [
    "pp(y)"
   ]
  },
  {
   "cell_type": "code",
   "execution_count": 14,
   "metadata": {
    "ExecuteTime": {
     "end_time": "2019-08-19T10:05:32.665176Z",
     "start_time": "2019-08-19T10:05:32.494149Z"
    }
   },
   "outputs": [
    {
     "name": "stdout",
     "output_type": "stream",
     "text": [
      "[ 0.  1.  4.  9. 16. 25. 36. 49. 64. 81.]\n",
      "[0.000e+00 1.000e+00 1.600e+01 8.100e+01 2.560e+02 6.250e+02 1.296e+03\n",
      " 2.401e+03 4.096e+03 6.561e+03]\n"
     ]
    }
   ],
   "source": [
    "k = T.iscalar(\"k\")\n",
    "A = T.vector(\"A\")\n",
    "\n",
    "# Symbolic description of the result\n",
    "result, updates = theano.scan(fn=lambda prior_result, A: prior_result * A,\n",
    "                              outputs_info=T.ones_like(A),\n",
    "                              non_sequences=A,\n",
    "                              n_steps=k)\n",
    "\n",
    "# We only care about A**k, but scan has provided us with A**1 through A**k.\n",
    "# Discard the values that we don't care about. Scan is smart enough to\n",
    "# notice this and not waste memory saving them.\n",
    "final_result = result[-1]\n",
    "\n",
    "# compiled function that returns A**k\n",
    "power = theano.function(inputs=[A,k], outputs=final_result, updates=updates)\n",
    "\n",
    "print(power(range(10),2))\n",
    "print(power(range(10),4))"
   ]
  },
  {
   "cell_type": "code",
   "execution_count": 2,
   "metadata": {
    "ExecuteTime": {
     "end_time": "2019-08-21T12:16:52.175236Z",
     "start_time": "2019-08-21T12:16:52.172417Z"
    }
   },
   "outputs": [],
   "source": [
    "import numpy as np"
   ]
  },
  {
   "cell_type": "markdown",
   "metadata": {},
   "source": [
    "<strong> Hessian test\n",
    "        </strong>\n",
    " \\begin{equation}\n",
    " y = x_1^3 \\cdot x_2^4\n",
    "  \\end{equation}\n",
    "  \n",
    "  Hessian: \n",
    "   \\begin{equation}\n",
    "   \\begin{bmatrix}\n",
    "    \\frac{\\partial^2 y}{\\partial x_1^2} & \\frac{\\partial^2 y}{\\partial x_1 \\partial x_2} \\\\\n",
    "    \\frac{\\partial^2 y}{\\partial x_2 \\partial x_1} & \\frac{\\partial^2 y}{\\partial x_2^2} \n",
    "  \\end{bmatrix}\n",
    "  \\end{equation}\n",
    "  "
   ]
  },
  {
   "cell_type": "code",
   "execution_count": 7,
   "metadata": {
    "ExecuteTime": {
     "end_time": "2019-08-21T12:28:52.412169Z",
     "start_time": "2019-08-21T12:28:52.033220Z"
    }
   },
   "outputs": [
    {
     "data": {
      "text/plain": [
       "array([[12., 48.],\n",
       "       [48., 96.]])"
      ]
     },
     "execution_count": 7,
     "metadata": {},
     "output_type": "execute_result"
    }
   ],
   "source": [
    "x = T.dvector('x')\n",
    "y = x[0]** 3 * x[1] **4\n",
    "cost = y.sum()\n",
    "hy = T.hessian(cost, x)\n",
    "f = theano.function([x] , hy)\n",
    "f([2,1])"
   ]
  },
  {
   "cell_type": "code",
   "execution_count": 8,
   "metadata": {
    "ExecuteTime": {
     "end_time": "2019-08-21T14:23:44.684852Z",
     "start_time": "2019-08-21T14:23:44.681608Z"
    }
   },
   "outputs": [],
   "source": [
    "W = T.dmatrix('W')\n",
    "V = T.dmatrix('V')\n",
    "x = T.dvector('x')\n",
    "y = T.dot(x, W)"
   ]
  },
  {
   "cell_type": "code",
   "execution_count": 55,
   "metadata": {
    "ExecuteTime": {
     "end_time": "2019-08-23T15:16:36.964669Z",
     "start_time": "2019-08-23T15:16:36.869416Z"
    }
   },
   "outputs": [
    {
     "data": {
      "text/plain": [
       "array([[12.],\n",
       "       [32.]])"
      ]
     },
     "execution_count": 55,
     "metadata": {},
     "output_type": "execute_result"
    }
   ],
   "source": [
    "\n",
    "x = T.dmatrix('x')\n",
    "y = x[0]** 3 * x[1] **4\n",
    "cost = y.sum()\n",
    "hy = T.grad(cost, x)\n",
    "f = theano.function([x] , hy)\n",
    "f([[2],[1]])"
   ]
  },
  {
   "cell_type": "code",
   "execution_count": 59,
   "metadata": {
    "ExecuteTime": {
     "end_time": "2019-08-23T15:28:05.235660Z",
     "start_time": "2019-08-23T15:27:58.998592Z"
    }
   },
   "outputs": [],
   "source": [
    "x = T.dmatrix('x')\n",
    "x_t = x.flatten(1)\n",
    "y = x[0]** 3 * x[1] **4\n",
    "\n",
    "cost = y.sum()\n",
    "gy = T.grad(cost,x)\n",
    "H = T.jacobian(gy.flatten(),x)\n",
    "f = theano.function([x], H)\n",
    "# f = theano.function([x] , H, updates=updates)"
   ]
  },
  {
   "cell_type": "code",
   "execution_count": 61,
   "metadata": {
    "ExecuteTime": {
     "end_time": "2019-08-23T15:28:31.570903Z",
     "start_time": "2019-08-23T15:28:31.565282Z"
    }
   },
   "outputs": [
    {
     "data": {
      "text/plain": [
       "array([[[12.],\n",
       "        [48.]],\n",
       "\n",
       "       [[48.],\n",
       "        [96.]]])"
      ]
     },
     "execution_count": 61,
     "metadata": {},
     "output_type": "execute_result"
    }
   ],
   "source": [
    "f([[2],[1]])"
   ]
  },
  {
   "cell_type": "code",
   "execution_count": null,
   "metadata": {},
   "outputs": [],
   "source": []
  }
 ],
 "metadata": {
  "kernelspec": {
   "display_name": "Python 3",
   "language": "python",
   "name": "python3"
  },
  "language_info": {
   "codemirror_mode": {
    "name": "ipython",
    "version": 3
   },
   "file_extension": ".py",
   "mimetype": "text/x-python",
   "name": "python",
   "nbconvert_exporter": "python",
   "pygments_lexer": "ipython3",
   "version": "3.7.3"
  },
  "varInspector": {
   "cols": {
    "lenName": 16,
    "lenType": 16,
    "lenVar": 40
   },
   "kernels_config": {
    "python": {
     "delete_cmd_postfix": "",
     "delete_cmd_prefix": "del ",
     "library": "var_list.py",
     "varRefreshCmd": "print(var_dic_list())"
    },
    "r": {
     "delete_cmd_postfix": ") ",
     "delete_cmd_prefix": "rm(",
     "library": "var_list.r",
     "varRefreshCmd": "cat(var_dic_list()) "
    }
   },
   "types_to_exclude": [
    "module",
    "function",
    "builtin_function_or_method",
    "instance",
    "_Feature"
   ],
   "window_display": false
  }
 },
 "nbformat": 4,
 "nbformat_minor": 2
}
