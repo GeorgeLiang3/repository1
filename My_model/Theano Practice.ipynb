{
 "cells": [
  {
   "cell_type": "code",
   "execution_count": 2,
   "metadata": {
    "ExecuteTime": {
     "end_time": "2019-08-26T13:56:54.578952Z",
     "start_time": "2019-08-26T13:56:51.888543Z"
    }
   },
   "outputs": [],
   "source": [
    "import numpy as np\n",
    "import theano.tensor as T\n",
    "import theano\n",
    "from theano import function\n",
    "from theano import pp"
   ]
  },
  {
   "cell_type": "code",
   "execution_count": 3,
   "metadata": {
    "ExecuteTime": {
     "end_time": "2019-08-26T13:56:58.116022Z",
     "start_time": "2019-08-26T13:56:54.581124Z"
    }
   },
   "outputs": [],
   "source": [
    "a = T.dscalar('x')\n",
    "b = T.dscalar('y')\n",
    "z = a + b\n",
    "f = function([a, b], z)"
   ]
  },
  {
   "cell_type": "code",
   "execution_count": 4,
   "metadata": {
    "ExecuteTime": {
     "end_time": "2019-08-26T13:56:58.975672Z",
     "start_time": "2019-08-26T13:56:58.118415Z"
    }
   },
   "outputs": [],
   "source": [
    "x = T.dvector('x')\n",
    "y = x ** 2\n",
    "J, updates = theano.scan(lambda i, y, x : T.grad(y[i], x), sequences=T.arange(y.shape[0]), non_sequences=[y, x])"
   ]
  },
  {
   "cell_type": "code",
   "execution_count": 5,
   "metadata": {
    "ExecuteTime": {
     "end_time": "2019-08-26T13:56:58.986647Z",
     "start_time": "2019-08-26T13:56:58.977947Z"
    }
   },
   "outputs": [
    {
     "data": {
      "text/plain": [
       "'(x ** TensorConstant{2})'"
      ]
     },
     "execution_count": 5,
     "metadata": {},
     "output_type": "execute_result"
    }
   ],
   "source": [
    "pp(y)"
   ]
  },
  {
   "cell_type": "code",
   "execution_count": 6,
   "metadata": {
    "ExecuteTime": {
     "end_time": "2019-08-26T13:57:01.785933Z",
     "start_time": "2019-08-26T13:56:58.988178Z"
    }
   },
   "outputs": [
    {
     "name": "stdout",
     "output_type": "stream",
     "text": [
      "[ 0.  1.  4.  9. 16. 25. 36. 49. 64. 81.]\n",
      "[0.000e+00 1.000e+00 1.600e+01 8.100e+01 2.560e+02 6.250e+02 1.296e+03\n",
      " 2.401e+03 4.096e+03 6.561e+03]\n"
     ]
    }
   ],
   "source": [
    "k = T.iscalar(\"k\")\n",
    "A = T.vector(\"A\")\n",
    "\n",
    "# Symbolic description of the result\n",
    "result, updates = theano.scan(fn=lambda prior_result, A: prior_result * A,\n",
    "                              outputs_info=T.ones_like(A),\n",
    "                              non_sequences=A,\n",
    "                              n_steps=k)\n",
    "\n",
    "# We only care about A**k, but scan has provided us with A**1 through A**k.\n",
    "# Discard the values that we don't care about. Scan is smart enough to\n",
    "# notice this and not waste memory saving them.\n",
    "final_result = result[-1]\n",
    "\n",
    "# compiled function that returns A**k\n",
    "power = theano.function(inputs=[A,k], outputs=final_result, updates=updates)\n",
    "\n",
    "print(power(range(10),2))\n",
    "print(power(range(10),4))"
   ]
  },
  {
   "cell_type": "code",
   "execution_count": 7,
   "metadata": {
    "ExecuteTime": {
     "end_time": "2019-08-26T13:57:01.791112Z",
     "start_time": "2019-08-26T13:57:01.787966Z"
    }
   },
   "outputs": [],
   "source": [
    "import numpy as np"
   ]
  },
  {
   "cell_type": "markdown",
   "metadata": {},
   "source": [
    "<strong> Hessian test\n",
    "        </strong>\n",
    " \\begin{equation}\n",
    " y = x_1^3 \\cdot x_2^4\n",
    "  \\end{equation}\n",
    "  \n",
    "  Hessian: \n",
    "   \\begin{equation}\n",
    "   \\begin{bmatrix}\n",
    "    \\frac{\\partial^2 y}{\\partial x_1^2} & \\frac{\\partial^2 y}{\\partial x_1 \\partial x_2} \\\\\n",
    "    \\frac{\\partial^2 y}{\\partial x_2 \\partial x_1} & \\frac{\\partial^2 y}{\\partial x_2^2} \n",
    "  \\end{bmatrix}\n",
    "  \\end{equation}\n",
    "  "
   ]
  },
  {
   "cell_type": "code",
   "execution_count": 24,
   "metadata": {
    "ExecuteTime": {
     "end_time": "2019-08-26T14:01:16.822717Z",
     "start_time": "2019-08-26T14:01:16.508519Z"
    }
   },
   "outputs": [
    {
     "data": {
      "text/plain": [
       "array([[12., 48.],\n",
       "       [48., 96.]])"
      ]
     },
     "execution_count": 24,
     "metadata": {},
     "output_type": "execute_result"
    }
   ],
   "source": [
    "x = T.dvector('x')\n",
    "y = x[0]** 3 * x[1] **4\n",
    "cost = y.sum()\n",
    "hy = T.hessian(cost, x)\n",
    "f = theano.function([x] , hy)\n",
    "f([2,1])"
   ]
  },
  {
   "cell_type": "code",
   "execution_count": 9,
   "metadata": {
    "ExecuteTime": {
     "end_time": "2019-08-26T13:57:03.334743Z",
     "start_time": "2019-08-26T13:57:03.331361Z"
    }
   },
   "outputs": [],
   "source": [
    "W = T.dmatrix('W')\n",
    "V = T.dmatrix('V')\n",
    "x = T.dvector('x')\n",
    "y = T.dot(x, W)"
   ]
  },
  {
   "cell_type": "code",
   "execution_count": 10,
   "metadata": {
    "ExecuteTime": {
     "end_time": "2019-08-26T13:57:03.496366Z",
     "start_time": "2019-08-26T13:57:03.337168Z"
    }
   },
   "outputs": [
    {
     "data": {
      "text/plain": [
       "array([[12.],\n",
       "       [32.]])"
      ]
     },
     "execution_count": 10,
     "metadata": {},
     "output_type": "execute_result"
    }
   ],
   "source": [
    "\n",
    "x = T.dmatrix('x')\n",
    "y = x[0]** 3 * x[1] **4\n",
    "cost = y.sum()\n",
    "hy = T.grad(cost, x)\n",
    "f = theano.function([x] , hy)\n",
    "f([[2],[1]])"
   ]
  },
  {
   "cell_type": "code",
   "execution_count": 33,
   "metadata": {
    "ExecuteTime": {
     "end_time": "2019-08-26T14:03:45.527011Z",
     "start_time": "2019-08-26T14:03:45.177371Z"
    }
   },
   "outputs": [
    {
     "name": "stdout",
     "output_type": "stream",
     "text": [
      "      0     1\n",
      "0  12.0  48.0\n",
      "1  48.0  96.0\n"
     ]
    }
   ],
   "source": [
    "x = T.dmatrix('x')\n",
    "x_t = x.flatten(1)\n",
    "y = x[0]** 3 * x[1] **4\n",
    "\n",
    "cost = y.sum()\n",
    "gy = T.grad(cost,x)\n",
    "H = T.jacobian(gy.flatten(),x)\n",
    "f = theano.function([x], H)\n",
    "# f = theano.function([x] , H, updates=updates)\n",
    "f_t = f([[2],[1]])\n",
    "f_t = f_t.reshape(2,2)\n",
    "from pandas import *\n",
    "print(DataFrame(f_t))"
   ]
  },
  {
   "cell_type": "code",
   "execution_count": null,
   "metadata": {},
   "outputs": [],
   "source": []
  }
 ],
 "metadata": {
  "kernelspec": {
   "display_name": "Python 3",
   "language": "python",
   "name": "python3"
  },
  "language_info": {
   "codemirror_mode": {
    "name": "ipython",
    "version": 3
   },
   "file_extension": ".py",
   "mimetype": "text/x-python",
   "name": "python",
   "nbconvert_exporter": "python",
   "pygments_lexer": "ipython3",
   "version": "3.7.3"
  },
  "varInspector": {
   "cols": {
    "lenName": 16,
    "lenType": 16,
    "lenVar": 40
   },
   "kernels_config": {
    "python": {
     "delete_cmd_postfix": "",
     "delete_cmd_prefix": "del ",
     "library": "var_list.py",
     "varRefreshCmd": "print(var_dic_list())"
    },
    "r": {
     "delete_cmd_postfix": ") ",
     "delete_cmd_prefix": "rm(",
     "library": "var_list.r",
     "varRefreshCmd": "cat(var_dic_list()) "
    }
   },
   "types_to_exclude": [
    "module",
    "function",
    "builtin_function_or_method",
    "instance",
    "_Feature"
   ],
   "window_display": false
  }
 },
 "nbformat": 4,
 "nbformat_minor": 2
}
