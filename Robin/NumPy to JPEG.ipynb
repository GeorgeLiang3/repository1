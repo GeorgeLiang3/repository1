{
 "cells": [
  {
   "cell_type": "markdown",
   "metadata": {},
   "source": [
    "## Datei mit np.load('path') reinladen!! Danach mit Image.fromarray('array') reinladen und dann mit 'array'.save('path')"
   ]
  },
  {
   "cell_type": "code",
   "execution_count": 1,
   "metadata": {},
   "outputs": [],
   "source": [
    "\n",
    "import numpy as np\n",
    "from PIL import Image\n",
    "import os, os.path\n",
    "import pathlib\n",
    "from pathlib import Path\n",
    "import progressbar\n",
    "import matplotlib.pyplot as plt\n",
    "import matplotlib.image as mpimg #https://matplotlib.org/tutorials/introductory/images.html"
   ]
  },
  {
   "cell_type": "code",
   "execution_count": null,
   "metadata": {},
   "outputs": [],
   "source": [
    "#Gibt aktuelles verzeichnis aus https://realpython.com/python-pathlib/\n",
    "\n",
    "#pathlib.Path.cwd()"
   ]
  },
  {
   "cell_type": "code",
   "execution_count": null,
   "metadata": {},
   "outputs": [],
   "source": [
    "# Mit 'r' wird path für python konvertiert https://realpython.com/python-pathlib/\n",
    "\n",
    "#pathlib.Path(r'C:\\Users\\robin\\Desktop\\Wellmann SatImg\\OutputImagesSAT')"
   ]
  },
  {
   "cell_type": "code",
   "execution_count": null,
   "metadata": {},
   "outputs": [],
   "source": [
    "# Beispiel um anzahl der Files in directory festzustellen! https://stackoverflow.com/questions/2632205/how-to-count-the-number-of-files-in-a-directory-using-python\n",
    "\n",
    "#list = os.listdir(pathlib.Path(r'C:\\Users\\robin\\Desktop\\Wellmann SatImg\\OutputImagesSAT'))\n",
    "#number_files = len(list)\n",
    "#print(number_files)"
   ]
  },
  {
   "cell_type": "code",
   "execution_count": null,
   "metadata": {},
   "outputs": [],
   "source": [
    "#im = np.load(pathlib.Path(r'C:\\Users\\robin\\Desktop\\Wellmann SatImg\\OutputImagesSAT\\out_img_sat_0000.npy'))\n",
    "\n",
    "#im = np.load(pathlib.Path(r'C:\\Users\\robin\\Google Drive\\BA\\xmas_2019_project-master\\data\\DEM_sandbox\\DEM10.npz'))"
   ]
  },
  {
   "cell_type": "code",
   "execution_count": null,
   "metadata": {},
   "outputs": [],
   "source": [
    "#im.shape"
   ]
  },
  {
   "cell_type": "code",
   "execution_count": null,
   "metadata": {},
   "outputs": [],
   "source": [
    "#Nur relevant für npz datei\n",
    "\n",
    "#image = \"C:/Users/robin/Google Drive/BA/xmas_2019_project-master/data/DEM_sandbox/DEM10.npz\""
   ]
  },
  {
   "cell_type": "code",
   "execution_count": null,
   "metadata": {
    "scrolled": true
   },
   "outputs": [],
   "source": [
    "#Nur relevant für npz datei\n",
    "\n",
    "#file = np.load(image)[\"arr_0\"]\n",
    "#file.shape\n",
    "#plt.ion()\n",
    "#plt.figure()\n",
    "#plt.imshow(file)\n"
   ]
  },
  {
   "cell_type": "code",
   "execution_count": null,
   "metadata": {},
   "outputs": [],
   "source": [
    "#mpimg.imsave(\"C:/Users/robin/Google Drive/BA/xmas_2019_project-master/data/DEM_sandbox/JPG/Lückenfüller.jpg\",file)"
   ]
  },
  {
   "cell_type": "code",
   "execution_count": null,
   "metadata": {},
   "outputs": [],
   "source": []
  },
  {
   "cell_type": "code",
   "execution_count": null,
   "metadata": {},
   "outputs": [],
   "source": []
  },
  {
   "cell_type": "code",
   "execution_count": null,
   "metadata": {},
   "outputs": [],
   "source": [
    "#img = Image.fromarray(im)"
   ]
  },
  {
   "cell_type": "code",
   "execution_count": null,
   "metadata": {},
   "outputs": [],
   "source": [
    "#img.save('PATH')"
   ]
  },
  {
   "cell_type": "markdown",
   "metadata": {},
   "source": []
  },
  {
   "cell_type": "code",
   "execution_count": null,
   "metadata": {},
   "outputs": [],
   "source": []
  },
  {
   "cell_type": "code",
   "execution_count": null,
   "metadata": {
    "scrolled": true
   },
   "outputs": [],
   "source": [
    "# Not interesting!\n",
    "\n",
    "# Für SAT Ordner\n",
    "#list = os.listdir(pathlib.Path(r'C:\\Users\\robin\\Google Drive\\BA\\Wellmann SatImg\\OutputImagesSAT'))\n",
    "#list = os.listdir(pathlib.Path(r'D:\\BA_\\output_processed\\Sat'))\n",
    "#number_files = len(list)-1\n",
    "#print(number_files)\n",
    "\n",
    "\n",
    "#for i in progressbar.progressbar(range(number_files)):\n",
    "   # im = np.load(pathlib.Path(r'D:\\BA_\\output_processed\\Sat\\out_img_sat_%06d.npy' % i))\n",
    "   # img = Image.fromarray(im)\n",
    "    #img.save(pathlib.Path(r'D:\\BA_\\output_processed\\Sat\\JPEG\\out_img_%06d.jpg' % i))"
   ]
  },
  {
   "cell_type": "code",
   "execution_count": null,
   "metadata": {},
   "outputs": [],
   "source": [
    "#not interesting\n",
    "\n",
    "#Für DEM Ordner\n",
    "\n",
    "#list = os.listdir(pathlib.Path(r'C:\\Users\\robin\\Google Drive\\BA\\Wellmann SatImg\\OutputImagesDEM'))\n",
    "#list = os.listdir(pathlib.Path(r'D:\\BA_\\output_processed\\DEM'))\n",
    "#number_files_2 = len(list)-1\n",
    "#print(number_files_2)\n",
    "\n",
    "\n",
    "#for i in progressbar.progressbar(range(number_files_2)):\n",
    "    #im_2 = np.load(pathlib.Path(r'D:\\BA_\\output_processed\\DEM\\out_img_dem_%06d.npy' % i))\n",
    "   # img = Image.fromarray(im_2[:,:,0])\n",
    "   # mpimg.imsave(pathlib.Path(r'D:\\BA_\\output_processed\\DEM\\JPEG\\out_img_%06d.jpg' % i), img)\n",
    "\n"
   ]
  },
  {
   "cell_type": "code",
   "execution_count": 2,
   "metadata": {},
   "outputs": [
    {
     "name": "stderr",
     "output_type": "stream",
     "text": [
      "  0% (14 of 200050) |                    | Elapsed Time: 0:00:00 ETA:   0:24:17"
     ]
    },
    {
     "name": "stdout",
     "output_type": "stream",
     "text": [
      "200050\n"
     ]
    },
    {
     "name": "stderr",
     "output_type": "stream",
     "text": [
      "100% (200050 of 200050) |################| Elapsed Time: 2:57:02 Time:  2:57:02\n"
     ]
    }
   ],
   "source": [
    "#part I use. Following cells are just some tests I runned as to understand the whole process\n",
    "\n",
    "#Für DEM und SAT Ordner auf F:\\\n",
    "\n",
    "\n",
    "#list = os.listdir(pathlib.Path(r'C:\\Users\\robin\\Google Drive\\BA\\Wellmann SatImg\\OutputImagesDEM'))\n",
    "list = os.listdir(pathlib.Path(r'F:\\BA100k\\DEM'))\n",
    "number_files_2 = len(list)-1\n",
    "print(number_files_2)\n",
    "\n",
    "\n",
    "for i in progressbar.progressbar(range(number_files_2)):\n",
    "    im = np.load(pathlib.Path(r'F:\\BA100k\\SAT\\out_img_sat_%06d.npy' % i))\n",
    "    im_2 = np.load(pathlib.Path(r'F:\\BA100k\\DEM\\out_img_dem%06d.npy' % i))\n",
    "    img_DEM = Image.fromarray(im_2[:,:,0])\n",
    "    img_SAT = Image.fromarray(im)\n",
    "    mpimg.imsave(pathlib.Path(r'F:\\BA100k\\DEM\\JPEG\\out_img_%06d.jpg' % i), img_DEM)\n",
    "    img_SAT.save(pathlib.Path(r'F:\\BA100k\\SAT\\JPEG\\out_img_%06d.jpg' % i))\n",
    "\n"
   ]
  },
  {
   "cell_type": "code",
   "execution_count": null,
   "metadata": {},
   "outputs": [],
   "source": [
    "#plt.imshow(im_dem[:,:,0])"
   ]
  },
  {
   "cell_type": "code",
   "execution_count": null,
   "metadata": {},
   "outputs": [],
   "source": [
    "#mpimg.imsave(pathlib.Path(r'C:\\Users\\robin\\Desktop\\Wellmann SatImg\\OutputImagesDEM\\test.jpg'), im_dem[:,:,0]) \n"
   ]
  },
  {
   "cell_type": "code",
   "execution_count": null,
   "metadata": {},
   "outputs": [],
   "source": [
    "#im_dem[:,:,0].shape"
   ]
  },
  {
   "cell_type": "code",
   "execution_count": null,
   "metadata": {},
   "outputs": [],
   "source": [
    "#Resize to appropriate format\n",
    "\n",
    "#list = os.listdir(\"C:/Users/robin/Google Drive/BA/xmas_2019_project-master/data/DEM_sandbox/JPG/B/Dingens\")\n",
    "#number_files = len(list)\n",
    "\n",
    "#for i in progressbar.progressbar(range(number_files)):\n",
    "    #image = Image.open(\"C:/Users/robin/Google Drive/BA/xmas_2019_project-master/data/DEM_sandbox/JPG/B/Dingens/DEM%01d.jpg\" % i)\n",
    "    #new_image = image.resize((200,150))\n",
    "    #new_image.save(\"C:/Users/robin/Google Drive/BA/xmas_2019_project-master/data/DEM_sandbox/JPG/B/Neu/DEM%01d.jpg\" % i)"
   ]
  }
 ],
 "metadata": {
  "kernelspec": {
   "display_name": "Python 3",
   "language": "python",
   "name": "python3"
  },
  "language_info": {
   "codemirror_mode": {
    "name": "ipython",
    "version": 3
   },
   "file_extension": ".py",
   "mimetype": "text/x-python",
   "name": "python",
   "nbconvert_exporter": "python",
   "pygments_lexer": "ipython3",
   "version": "3.7.6"
  }
 },
 "nbformat": 4,
 "nbformat_minor": 4
}
