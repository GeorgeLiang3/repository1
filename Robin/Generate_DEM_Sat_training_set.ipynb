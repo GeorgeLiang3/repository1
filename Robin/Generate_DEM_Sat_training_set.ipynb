{
 "cells": [
  {
   "cell_type": "markdown",
   "metadata": {},
   "source": [
    "# Generate training set fo DEM and Sat images\n",
    "\n",
    "...for furhter use in pix2pix\n",
    "\n",
    "Note: to extract and reproject DEM file for corresponding SAT image:\n",
    "\n",
    "`rio warp eu_dem_v11_E40N20_3857.tif DEM_Aletsch_Winter.tif --like ../02_Sat/SAT_Aletsch_Winter.tif`\n",
    "\n",
    "**Note**: set up to extract pairs of **150 x 200 pixels**, according to (current?) Sandbox DEMs\n",
    "\n",
    "\n"
   ]
  },
  {
   "cell_type": "code",
   "execution_count": 1,
   "metadata": {},
   "outputs": [],
   "source": [
    "import numpy as np\n",
    "import rasterio\n",
    "import geopandas as gpd\n",
    "from shapely.geometry import box\n",
    "from rasterio.mask import mask\n",
    "import progressbar"
   ]
  },
  {
   "cell_type": "code",
   "execution_count": 2,
   "metadata": {},
   "outputs": [],
   "source": [
    "# Read the file with rasterio\n",
    "# data_dem = rasterio.open(\"/Users/flow/Documents/01_work/16_Data/01_DEM/DEM_Aletsch_Winter.tif\")\n",
    "# data_sat = rasterio.open(\"/Users/flow/Documents/01_work/16_Data/02_Sat/SAT_Aletsch_Winter.tif\")\n",
    "\n",
    "# data_dem = rasterio.open(\"/Users/flow/Documents/01_work/16_Data/01_DEM/DEM_Bernese_Alps_summer.tif\")\n",
    "# data_sat = rasterio.open(\"/Users/flow/Documents/01_work/16_Data/02_Sat/SAT_Bernese_Alps_summer.tif\")\n",
    "\n",
    "# data_dem = rasterio.open(\"/Users/flow/Documents/01_work/16_Data/01_DEM/DEM_Alps_Summer.tif\")\n",
    "# data_sat = rasterio.open(\"/Users/flow/Documents/01_work/16_Data/02_Sat/SAT_Alps_Summer.tif\")\n",
    "\n",
    "data_dem = rasterio.open(\"C:/Users/robin/Google Drive/BA/Wellmann SatImg/01b_DEM_SAT_pairs/DEM_Alps_Summer.tif\")\n",
    "data_sat = rasterio.open(\"C:/Users/robin/Google Drive/BA/Wellmann SatImg/01b_DEM_SAT_pairs/SAT_Alps_Summer.tif\")\n",
    "\n",
    "# data_dem = rasterio.open(\"/Users/flow/Documents/01_work/16_Data/01_DEM/DEM_Alps_Summer_3.tif\")\n",
    "# data_sat = rasterio.open(\"/Users/flow/Documents/01_work/16_Data/02_Sat/SAT_Alps_Summer_3.tif\")\n",
    "                "
   ]
  },
  {
   "cell_type": "code",
   "execution_count": null,
   "metadata": {},
   "outputs": [],
   "source": [
    "def generate_random_bbox(data_sat, nx=5000, ny=5000):\n",
    "    \"\"\"Generate random bbox within domain size of images\n",
    "    \n",
    "    nx = int: cells in x-direction\n",
    "    ny = int: cells in y-direction\n",
    "    \"\"\"\n",
    "    # set bounds from sat image for now:\n",
    "    global_min_x = data_sat.bounds[0]\n",
    "    global_min_y = data_sat.bounds[1]\n",
    "    global_max_x = data_sat.bounds[2]\n",
    "    global_max_y = data_sat.bounds[3]\n",
    "\n",
    "    # get random location\n",
    "    min_x = np.random.randint(global_min_x, global_max_x-nx)\n",
    "    max_x = min_x + nx\n",
    "    min_y = np.random.randint(global_min_y, global_max_y-ny)\n",
    "    max_y = min_y + ny\n",
    "\n",
    "    \n",
    "    bbox = box(min_x, min_y, max_x, max_y)\n",
    "\n",
    "    geo = gpd.GeoDataFrame({'geometry': bbox}, index=[0])\n",
    "    \n",
    "    return geo\n",
    "\n",
    "def extract_images(data_sat, data_dem, geo):\n",
    "    \"\"\"Extract subimages from sat and dem\n",
    "    \"\"\"\n",
    "\n",
    "    # Get the geometry coordinates\n",
    "    coords = getFeatures(geo)\n",
    "\n",
    "    # Clip the raster with the polygon\n",
    "    out_img_sat, out_transform_sat = mask(data_sat, shapes=coords, crop=True)\n",
    "    out_img_dem, out_transform_dtm = mask(data_dem, shapes=coords, crop=True)\n",
    "    \n",
    "    return out_img_sat, out_img_dem\n",
    "\n",
    "def getFeatures(gdf):\n",
    "    \"\"\"Function to parse features from GeoDataFrame in such a manner that rasterio wants them\"\"\"\n",
    "    import json\n",
    "    return [json.loads(gdf.to_json())['features'][0]['geometry']]"
   ]
  },
  {
   "cell_type": "markdown",
   "metadata": {},
   "source": [
    "Extract some more pixels, just in case (adjust then later in training itself):"
   ]
  },
  {
   "cell_type": "code",
   "execution_count": null,
   "metadata": {},
   "outputs": [],
   "source": [
    "geo = generate_random_bbox(data_sat, nx=6200, ny=4700)"
   ]
  },
  {
   "cell_type": "code",
   "execution_count": null,
   "metadata": {},
   "outputs": [],
   "source": [
    "out_img_sat, out_img_dem = extract_images(data_sat, data_dem, geo)"
   ]
  },
  {
   "cell_type": "code",
   "execution_count": null,
   "metadata": {},
   "outputs": [],
   "source": [
    "# out_img_sat.shape, out_img_dem.shape"
   ]
  },
  {
   "cell_type": "markdown",
   "metadata": {},
   "source": [
    "Remove edges (for some reason, edge effects on dem...) and Reorder axes for conventional shape format"
   ]
  },
  {
   "cell_type": "code",
   "execution_count": null,
   "metadata": {},
   "outputs": [],
   "source": [
    "def reshape_and_reorder(out_img_sat, out_img_dem):\n",
    "    # remove edges\n",
    "    out_img_sat = out_img_sat[:,2:-2,2:-2]\n",
    "    out_img_dem = out_img_dem[:,2:-2,2:-2]\n",
    "    # reorder axes\n",
    "    out_img_sat_reshape = np.moveaxis(out_img_sat, 0, -1)\n",
    "    out_img_dem_reshape = np.moveaxis(out_img_dem, 0, -1)\n",
    "    \n",
    "    return out_img_sat_reshape, out_img_dem_reshape"
   ]
  },
  {
   "cell_type": "markdown",
   "metadata": {},
   "source": [
    "np.save"
   ]
  },
  {
   "cell_type": "code",
   "execution_count": null,
   "metadata": {},
   "outputs": [],
   "source": [
    "!pwd"
   ]
  },
  {
   "cell_type": "markdown",
   "metadata": {},
   "source": [
    "## Loop to extract multiple image pairs"
   ]
  },
  {
   "cell_type": "code",
   "execution_count": null,
   "metadata": {},
   "outputs": [],
   "source": [
    "n = 10\n",
    "\n",
    "for i in progressbar.progressbar(range(10)):\n",
    "    geo = generate_random_bbox(data_sat, nx=6200, ny=4700)\n",
    "    out_img_sat, out_img_dem = extract_images(data_sat, data_dem, geo)\n",
    "    out_img_sat_reshape, out_img_dem_reshape = reshape_and_reorder(out_img_sat, out_img_dem)\n",
    "    # save in numpy binary\n",
    "    np.save(\"../data/training_set/out_img_sat_%04d.npy\" % i, out_img_sat_reshape)\n",
    "    np.save(\"../data/training_set/out_img_dem_%04d.npy\" % i, out_img_dem_reshape)\n",
    "    "
   ]
  },
  {
   "cell_type": "raw",
   "metadata": {},
   "source": [
    "out_img_sat_reshape.shape, out_img_dem_reshape.shape"
   ]
  },
  {
   "cell_type": "code",
   "execution_count": null,
   "metadata": {},
   "outputs": [],
   "source": [
    "import matplotlib.pyplot as plt"
   ]
  },
  {
   "cell_type": "code",
   "execution_count": null,
   "metadata": {},
   "outputs": [],
   "source": [
    "plt.imshow(out_img_dem_reshape[:,:,0])"
   ]
  },
  {
   "cell_type": "code",
   "execution_count": null,
   "metadata": {},
   "outputs": [],
   "source": []
  },
  {
   "cell_type": "code",
   "execution_count": null,
   "metadata": {},
   "outputs": [],
   "source": []
  },
  {
   "cell_type": "code",
   "execution_count": null,
   "metadata": {},
   "outputs": [],
   "source": []
  },
  {
   "cell_type": "code",
   "execution_count": null,
   "metadata": {},
   "outputs": [],
   "source": []
  },
  {
   "cell_type": "code",
   "execution_count": null,
   "metadata": {},
   "outputs": [],
   "source": []
  },
  {
   "cell_type": "code",
   "execution_count": null,
   "metadata": {},
   "outputs": [],
   "source": []
  }
 ],
 "metadata": {
  "kernelspec": {
   "display_name": "Python 3",
   "language": "python",
   "name": "python3"
  },
  "language_info": {
   "codemirror_mode": {
    "name": "ipython",
    "version": 3
   },
   "file_extension": ".py",
   "mimetype": "text/x-python",
   "name": "python",
   "nbconvert_exporter": "python",
   "pygments_lexer": "ipython3",
   "version": "3.7.6"
  }
 },
 "nbformat": 4,
 "nbformat_minor": 4
}
