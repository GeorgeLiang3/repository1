{
 "cells": [
  {
   "cell_type": "markdown",
   "metadata": {},
   "source": [
    "# Minimal working example for cokringing of a scalar field for geological modeling\n",
    "\n",
    "The aim of this notebook is to explain in simple steps the scalar-field (or: potential-field) interpolation implemented in GemPy and GeoModeller, based on Lajaunie et al. (1997) and Calcagno et al. (2008). The derivation and description of the covariance functions follows from the thesis of Aug (2004) and the implementation in GemPy (de la Varga et al., submitted).\n",
    "\n",
    "## Basic principle behind a scalar-field interpolation\n",
    "\n",
    "The method is based on a zonation principle, i.e. a segmentation of continuous space into discrete zones with similar properties (or other aspects of interest). Typical examples are the distinction of rock units with different lithological features (e.g. different types of sandstones, clay layers, magmatic sequences, etc), but also metamorphic sequences that can be distinguished. Quite generally, it is basically the same concept that is underlying the construction of geological map.\n",
    "\n",
    "The general idea behind this interpolation method is that geological structures exhibit a specific continuity. As a very basic first principle, we can consider the deposition of sedimentary sequences, for example in a marine environment: we may observe a sequence of more sand-dominated and more clay-dominated units. In a quiet and continuous sedimentation environment, we can assume that we have wide lateral continuity and a \"layer-by-layer\" deposition.\n",
    "\n",
    "In the context of geomodeling, we may attempt to describe now these sedimented zones by the interface surfaces between them. It is then obvious that these surfaces should not cross (considering no disturbance during sedimentation). Furthermore, we can assume that the layers show a specific influence on each other: to first order, they can be considered as parallel. And, maybe for a finer distinction, we can assume that a (topographic) variability of in one layer (for example a sea mound, to stay in our example) has a certain upward continuation and can potentially still be apparent (though to a lesser extent) on the next interface above.\n",
    "\n",
    "We can now take a more abstract view and assume that we do not only have two or three interfaces, but more or less a continuous description of subsequent layers, representing a continuous sedimentation process and showing a similar continuous influence on each other, and the layer interfaces can not cross. \n",
    "\n",
    "With this intuition, we can describe these layer interfaces as isosurfaces in a scalar field. In our example, we can even interpret the scalar field values as related to a specific depositional age (note that this notion will not generally be possible - nor a requirement). Even further, we can interpret the gradient of this scalar field as orientation values, i.e. measurements of strike/ dip/ dip direction in a geological sequence.\n",
    "\n",
    "The question now is: how can we interpolate this scalar field from a set of limited observations of surface contact points and orientation measurements?"
   ]
  },
  {
   "cell_type": "markdown",
   "metadata": {
    "hideCode": false,
    "hidePrompt": false
   },
   "source": [
    "## Notation and scalar field interpolation\n",
    "\n",
    "Multiple methods are possible to obtain this scalar field. A very common approach (mostly from the field of image segmentation, but also applied in geophysics) is to use a Level Set formulation (Chan & Vese?). Other previous approaches implemented Radial Basis Functions (RBF's, e.g. the implementation in LeapFrog, see also Hillier, 2014) and a stochastic time interpretation (? Mallet 2004 - the GoCAD implicit modeling approach). We use here a geostatistical method based on (universal) co-kriging, described in Lajaunie et al., 1997.\n",
    "\n",
    "We denote the 3-D surface in an *implicit* form (therefore also the name of these methods as \"implicit geomodeling\"), associated with a function $\\psi_\\alpha$ such that (Lajaunie et al., 1997):\n",
    "\n",
    "$$C_\\alpha = \\{x : \\psi_a(x) = 0 \\}$$\n",
    "\n",
    "\n",
    "We describe the scalar field that we aim to obtain as a function $T( \\vec{x} )$. \n",
    "\n",
    "Next, we denote $Z$ as a realization of the (differentiable) random function $\\psi$. We now use a kriging method to to estimate $Z$ in the entire domain of interest.\n",
    "\n",
    "Note: important basic principle: multivariate (co-)kriging, IRK-f model (Matheron!) CHECK!!\n",
    "\n",
    "However, co-kriging is not \"standard\" form, as variables are algebraically linked!\n",
    "\n",
    "More notation:\n",
    "\n",
    "Gradient data:\n",
    "\n",
    "$$\\frac{\\partial Z}{\\partial x} (x_i) = G_i^x$$\n",
    "\n",
    "$$\\frac{\\partial Z}{\\partial y} (x_i) = G_i^y$$\n",
    "\n",
    "Tangent vector $\\tau_i$ is defined through a scalar product:\n",
    "\n",
    "$$ <\\nabla Z(x_i), \\tau_i > = 0$$\n",
    "\n",
    "Points on a single interface belong to a single set $J_k$, $k$ is the index of the interface.\n",
    "\n",
    "Increments for points on a single interface, the increments must be zero:\n",
    "\n",
    "$$Z(x_j) - Z(x_{j'}) = 0 \\;\\;\\forall (j,j') \\in J_k$$\n",
    "\n",
    "\n",
    "### The spatial model\n",
    "\n",
    "As we only consider increments, we can only obtain a (unique) solution when we fix/ select an arbitrary origin $x_0$ and we estimate increments with respect to this origin:\n",
    "\n",
    "$$Z(x) - Z(x_0) = \\sum_{i \\in I} \\left( \\lambda_i G_i^x + \\mu_i G_i^y  \\right) + \\sum_{i' + I'} <\\nabla Z(x_{i'}), \\tau_{i'} > + \\sum_k \\sum_{jj' \\in \\mathcal{P}(J_k)} \\lambda_{jj'}[Z(x_j) - Z(x_{j'})] $$ \n",
    "\n",
    "\n",
    "$\\mathcal{P}(J_k)$ is the set of pairs associated with one interface $J_k$. Note that, in this formulation, the contribution from the scalar field increments for points on one interface $Z(x_j) - Z(x_{j'})$ would theoretically be zero. However, the consideration of this (zero-)increment is essential in order to obtain the co-kriging equations, in which these terms will matter (see below).\n",
    "\n",
    "In a sense, the interpolation can be interpreted as a co-kriging of increments and gradients. Chiles (2004) actually describes it as a kriging of a gradient field - with the additional contribution of \"zero-increment\" constraints for points on one interface. \n",
    "\n",
    "### Derivation of the co-kriging equations\n",
    "\n",
    "\n",
    "(See Chiles book for derivation of universal co-kriging equations!)\n",
    "\n",
    "We now have to set up the kriging equation to solve for the parameters/ coefficients $\\lambda_i, \\mu_i, \\lambda_{jj'}$ in order to obtain an (explicit?) equation that we can use to determine the potential field value at any point in space."
   ]
  },
  {
   "cell_type": "markdown",
   "metadata": {
    "hideCode": false,
    "hidePrompt": false
   },
   "source": [
    "### Covariance functions\n",
    "\n",
    "The situation is (a \"bit\") complicated by the fact that we have to consider all covariances and cross-covariances of each function involved.\n",
    "\n",
    "\n",
    "(Side note/ Idea/ Check: can the same form of co-kriging be used in the context of posterior-space estimation/ reduced order modeling, etc. - i.e. all the cases where kriging is used, also ML? Because: we could estimate the gradient quite easily using AD-methods and the approach could lead to a more robust estimate? )\n",
    "\n",
    "For simplicity in the description, we consider an isotropic covariance field. We follow the description in Lajaunie et al. (1997) and denote the covariance of $Z$ as $K_Z$. Furthermore, a vector connecting two points in space is:\n",
    "\n",
    "$$\\vec{h} = \\vec{x} - \\vec{y}$$\n",
    "\n",
    "And the components of this vector in $x$- and $y$-direction respectively are $h_x$ and $h_y$. The base covariance function is:\n",
    "\n",
    "$$K_Z(\\vec{h}) = C_Z(r)$$\n",
    "\n",
    "In order for $Z$ to be differentiable, $K_Z$ must be twice differentiable. Under these conditions (??), the covariances are:\n",
    "\n",
    "$$K_{ZG^x}(\\vec{x} - \\vec{y})= Cov(Z(x),Z_x'(y)) = - \\frac{h_x}{r} C_Z'(r)$$\n",
    "\n",
    "Similar:\n",
    "\n",
    "$$K_{G^x G^y}((\\vec{x} - \\vec{y})$$\n",
    "\n",
    "$$K_{G^x}((\\vec{x} - \\vec{y})$$\n",
    "\n",
    "As a first test, we use the covariance functions defined in Lajaunie et al. for the Gaussian model (pg. 578):\n",
    "\n",
    "If\n",
    "\n",
    "$$C(r) = \\exp{-(r/a)^2}$$\n",
    "then:\n",
    "\n",
    "$$K_{ZG^x}(\\vec{h}) = -2 \\frac{h_x}{a^2} C(r)$$\n",
    "\n",
    "$$K_{G^x}(\\vec{h}) = \\left(\\frac{2}{a^2} - 4 \\frac{x^2}{a^4}  \\right) C(r)$$\n",
    "\n",
    "$$K_{G^x G^y}(\\vec{h}) = -4 \\frac{h_x h_y}{a^4} C(r)$$\n",
    "\n",
    "where $\\vec{h} = \\vec{x} - \\vec{y}$, $r = |\\vec{h}|$ and $h_x$ the component of $\\vec{h}$ in $x$-direction, etc.\n",
    "\n",
    "<div class=\"alert alert-info\">\n",
    "  <strong>To do (Miguel?):</strong> Include better covariance function (spline?).\n",
    "</div>\n",
    "\n",
    "**To Do**\": Include equations for cubic covariance functions (see notebook and description in paper of Miguel)"
   ]
  },
  {
   "cell_type": "code",
   "execution_count": 238,
   "metadata": {
    "ExecuteTime": {
     "end_time": "2020-02-18T14:29:01.913429Z",
     "start_time": "2020-02-18T14:29:01.910001Z"
    },
    "hideCode": false,
    "hidePrompt": false
   },
   "outputs": [],
   "source": [
    "import numpy as np\n",
    "import matplotlib.pyplot as plt\n",
    "%matplotlib inline"
   ]
  },
  {
   "cell_type": "code",
   "execution_count": 239,
   "metadata": {
    "ExecuteTime": {
     "end_time": "2020-02-18T14:29:01.940416Z",
     "start_time": "2020-02-18T14:29:01.916981Z"
    },
    "hideCode": false,
    "hidePrompt": false
   },
   "outputs": [],
   "source": [
    "# define covariance functions (note: no nugget effect so far...):\n",
    "\n",
    "def K_Z(h, a=25.):\n",
    "    r = np.sqrt(h[0]**2 + h[1]**2)\n",
    "    return np.exp(-(r/a)**2)\n",
    "                  \n",
    "# cross-cov space-grad\n",
    "def K_ZGx(h, a=25.):\n",
    "    \"\"\"Note: requires the vector h!\"\"\"\n",
    "    r = np.sqrt(h[0]**2 + h[1]**2)\n",
    "    hx = h[0]\n",
    "    return -2 * hx/a**2 * K_Z(h,a) * 5\n",
    "\n",
    "def K_ZGy(h, a=25.):\n",
    "    \"\"\"Note: requires the vector h!\"\"\"\n",
    "    r = np.sqrt(h[0]**2 + h[1]**2)\n",
    "    hy = h[1]    \n",
    "    return -2 * hy/a**2 * K_Z(h,a) * 5\n",
    "\n",
    "# cov grad\n",
    "def K_Gx(h, a=25.):\n",
    "    \"\"\"Note: requires the vector h!\"\"\"\n",
    "    r = np.sqrt(h[0]**2 + h[1]**2)\n",
    "    hx = h[0]\n",
    "    return (2/a**2 - 4 * hx**2/a**4) * K_Z(h,a)* 5\n",
    "\n",
    "def K_Gy(h, a=25.):\n",
    "    \"\"\"Note: requires the vector h!\"\"\"\n",
    "    r = np.sqrt(h[0]**2 + h[1]**2)\n",
    "    hy = h[1]\n",
    "    return (2/a**2 - 4 * hy**2/a**4) * K_Z(h,a)* 5\n",
    "\n",
    "# cross-cov grad\n",
    "def K_GxGy(h, a=25.):\n",
    "    \"\"\"Note: requires the vector h!\"\"\"\n",
    "    r = np.sqrt(h[0]**2 + h[1]**2)\n",
    "    hx = h[0]\n",
    "    hy = h[1]\n",
    "    return -4 * hx * hy /a**4 * K_Z(h,a)* 5\n",
    "\n",
    "           \n",
    "# From Miguel's prototype notebooks\n",
    "\n",
    "def cov_cubic_f(r, a = 5):\n",
    "    c_o = a**2/14/3\n",
    "    if r > a:\n",
    "        ans_d0 = 0\n",
    "    else:\n",
    "        ans_d0 = c_o*(1-7*(r/a)**2+35/4*(r/a)**3-7/2*(r/a)**5+3/4*(r/a)**7)\n",
    "    # ans_d0[r>a] = 0\n",
    "    return ans_d0\n",
    "\n",
    "cov_cubic_f = np.vectorize(cov_cubic_f)\n",
    "\n",
    "def cov_cubic_d1_f(r, a = 5.):\n",
    "    c_o = a**2/14/3\n",
    "    if r>a:\n",
    "        ans_d1 = 0\n",
    "    else:\n",
    "        ans_d1 = (-7* (a - r)**3 *r* (8* a**2 + 9 *a* r + 3* r**2)* (c_o))/(4* a**7)\n",
    "    return ans_d1\n",
    "\n",
    "cov_cubic_d1_f = np.vectorize(cov_cubic_d1_f)\n",
    "                    \n",
    "def cov_cubic_d2_f(r, a = 5.):\n",
    "    c_o = a**2/14/3\n",
    "    if r>a:\n",
    "        ans_d2 = 0\n",
    "    else:\n",
    "        ans_d2 = (-7 * (4.* a**5. - 15. *a**4. * r + 20. *( a**2)*(r**3) - 9* r**5) * \n",
    "            (c_o))/(2*a**7)\n",
    "    return ans_d2\n",
    "\n",
    "cov_cubic_d2_f = np.vectorize(cov_cubic_d2_f)\n",
    "\n",
    "\n",
    "# Now, adjust coariance functions from above:\n",
    "\n",
    "def K_Z(h):\n",
    "    r = np.sqrt(h[0]**2 + h[1]**2)\n",
    "    return cov_cubic_f(r)\n",
    "\n",
    "\n",
    "# cross-cov space-grad\n",
    "def K_ZGx(h):\n",
    "    \"\"\"Note: requires the vector h!\"\"\"\n",
    "    r = np.sqrt(h[0]**2 + h[1]**2)\n",
    "    hx = h[0]\n",
    "    return -hx/r * cov_cubic_d1_f(r)\n",
    "\n",
    "\n",
    "def K_ZGy(h, a=5.):\n",
    "    \"\"\"Note: requires the vector h!\"\"\"\n",
    "    r = np.sqrt(h[0]**2 + h[1]**2)\n",
    "    hy = h[1]    \n",
    "    return -hy/r * cov_cubic_d1_f(r)\n",
    "\n",
    "# cov grad\n",
    "def K_Gx(h):\n",
    "    \"\"\"Note: requires the vector h!\"\"\"\n",
    "    r = np.sqrt(h[0]**2 + h[1]**2)\n",
    "    hx = h[0]\n",
    "    if r == 0:\n",
    "        return 1/3.\n",
    "    else:\n",
    "        return (hx**2/r**3 ) * cov_cubic_d1_f(r) - (hx/r)**2 * cov_cubic_d2_f(r)\n",
    "\n",
    "\n",
    "def K_Gy(h):\n",
    "    \"\"\"Note: requires the vector h!\"\"\"\n",
    "    r = np.sqrt(h[0]**2 + h[1]**2)\n",
    "    hy = h[1]\n",
    "    if r == 0:\n",
    "        return 1/3.\n",
    "    else:\n",
    "        return (hy**2/r**3 ) * cov_cubic_d1_f(r) - (hy/r)**2 * cov_cubic_d2_f(r)\n",
    "\n",
    "# cross-cov grad\n",
    "def K_GxGy(h):\n",
    "    \"\"\"Note: requires the vector h!\"\"\"\n",
    "    r = np.sqrt(h[0]**2 + h[1]**2)\n",
    "    hx = h[0]\n",
    "    hy = h[1]\n",
    "    if r == 0:\n",
    "        return 0\n",
    "    else:\n",
    "        return hx * hy /r**2 * (1/r * cov_cubic_d1_f(r) - cov_cubic_d2_f(r))\n"
   ]
  },
  {
   "cell_type": "markdown",
   "metadata": {},
   "source": [
    "Create a plot of the cubic covariance functions:"
   ]
  },
  {
   "cell_type": "code",
   "execution_count": 240,
   "metadata": {
    "ExecuteTime": {
     "end_time": "2020-02-18T14:29:02.217831Z",
     "start_time": "2020-02-18T14:29:01.942083Z"
    },
    "hideCode": false,
    "hidePrompt": false
   },
   "outputs": [
    {
     "data": {
      "image/png": "[encoded data removed]",
      "text/plain": [
       "<Figure size 432x288 with 1 Axes>"
      ]
     },
     "metadata": {
      "needs_background": "light"
     },
     "output_type": "display_data"
    }
   ],
   "source": [
    "rs = np.arange(0.01,2,0.01)\n",
    "hs = np.vstack([-rs, rs]).transpose()\n",
    "# determine h-vectors:\n",
    "v1 = cov_cubic_f(rs)\n",
    "# for h vector: use 45 degrees/ [1,1]-direction with increasing distance\n",
    "plt.plot(rs, v1, label='C(r)')\n",
    "plt.plot(rs, cov_cubic_d1_f(rs), label='C\\'(r)')\n",
    "plt.plot(rs, cov_cubic_d2_f(rs), label='C\\'\\'(r)')\n",
    "\n",
    "v2 = [K_ZGx(h) for h in hs]\n",
    "plt.plot(rs, v2, label='K_ZGx')\n",
    "plt.plot(rs, [K_ZGy(h) for h in hs])\n",
    "plt.plot(rs, [K_Gx(h) for h in hs], label='K_Gx')\n",
    "plt.plot(rs, [K_GxGy(h) for h in hs], label='K_GxGy')\n",
    "plt.legend(loc='best')\n",
    "plt.show()"
   ]
  },
  {
   "cell_type": "markdown",
   "metadata": {
    "hideCode": false,
    "hidePrompt": false
   },
   "source": [
    "### Dual form\n",
    "\n",
    "Under the above conditions, we can actually write the kriging equations in the dual form and finally obtain the estimator:\n",
    "\n"
   ]
  },
  {
   "cell_type": "code",
   "execution_count": 241,
   "metadata": {
    "ExecuteTime": {
     "end_time": "2020-02-18T14:29:02.223796Z",
     "start_time": "2020-02-18T14:29:02.220318Z"
    },
    "hideCode": false,
    "hidePrompt": false
   },
   "outputs": [],
   "source": [
    "TEST1 = np.array([4,3])\n",
    "TEST2 = np.array([1,2])\n",
    "h = TEST2 -TEST1"
   ]
  },
  {
   "cell_type": "code",
   "execution_count": 242,
   "metadata": {
    "ExecuteTime": {
     "end_time": "2020-02-18T14:29:02.230728Z",
     "start_time": "2020-02-18T14:29:02.225841Z"
    }
   },
   "outputs": [
    {
     "name": "stdout",
     "output_type": "stream",
     "text": [
      "0.05343876768846644\n",
      "-0.09242631153167512\n",
      "-0.030808770510558373\n",
      "-0.04269074841227309\n",
      "-0.1280722452368193\n",
      "-0.0142302494707577\n"
     ]
    }
   ],
   "source": [
    "print(K_Z(h))\n",
    "print(K_ZGx(h))\n",
    "print(K_ZGy(h))\n",
    "print(K_GxGy(h))\n",
    "print(K_Gx(h))\n",
    "print(K_Gy(h))"
   ]
  },
  {
   "cell_type": "markdown",
   "metadata": {
    "collapsed": true,
    "hideCode": false,
    "hidePrompt": false
   },
   "source": [
    "## Simple example: 4 points, one gradient\n",
    "\n",
    "We first start with a very simple example: twi interfaces iwth two points each, and one common gradient.\n",
    "\n",
    "<div class=\"alert alert-info\">\n",
    "  <strong>To do:</strong> Include sketch of points and gradient.\n",
    "</div>"
   ]
  },
  {
   "cell_type": "code",
   "execution_count": 243,
   "metadata": {
    "ExecuteTime": {
     "end_time": "2020-02-18T14:29:02.236263Z",
     "start_time": "2020-02-18T14:29:02.232035Z"
    },
    "hideCode": false,
    "hidePrompt": false
   },
   "outputs": [],
   "source": [
    "# interface points:\n",
    "# interface 1:\n",
    "x1 = [0,0]\n",
    "x2 = [2,0]\n",
    "x_int1 = np.vstack([x1,x2])\n",
    "# interface 2:\n",
    "x3 = [0,2]\n",
    "x4 = [2,2]\n",
    "x_int2 = np.vstack([x3,x4])\n",
    "# orientation point:\n",
    "x5 = [0,1]\n",
    "x = np.vstack([x1, x2, x3, x4, x5])\n",
    "# orientation values\n",
    "gx5 = 1.\n",
    "gy5 = 1."
   ]
  },
  {
   "cell_type": "code",
   "execution_count": 244,
   "metadata": {
    "ExecuteTime": {
     "end_time": "2020-02-18T14:29:02.399693Z",
     "start_time": "2020-02-18T14:29:02.237604Z"
    },
    "hideCode": false,
    "hidePrompt": false
   },
   "outputs": [
    {
     "data": {
      "text/plain": [
       "[<matplotlib.lines.Line2D at 0x12ad6c978>]"
      ]
     },
     "execution_count": 244,
     "metadata": {},
     "output_type": "execute_result"
    },
    {
     "data": {
      "image/png": "[encoded data removed]",
      "text/plain": [
       "<Figure size 432x288 with 1 Axes>"
      ]
     },
     "metadata": {
      "needs_background": "light"
     },
     "output_type": "display_data"
    }
   ],
   "source": [
    "plt.plot(x_int1[:,0], x_int1[:,1], 'ro')\n",
    "plt.plot(x_int2[:,0], x_int2[:,1], 'bo')\n",
    "plt.plot(x5[0], x5[1], 'go')"
   ]
  },
  {
   "cell_type": "markdown",
   "metadata": {
    "hideCode": false,
    "hidePrompt": false
   },
   "source": [
    "### Calculate distance matrix\n",
    "\n",
    "(Note: not required anymore for this implementation - as h-vectors used...)\n"
   ]
  },
  {
   "cell_type": "code",
   "execution_count": 245,
   "metadata": {
    "ExecuteTime": {
     "end_time": "2020-02-18T14:29:02.403689Z",
     "start_time": "2020-02-18T14:29:02.401222Z"
    }
   },
   "outputs": [],
   "source": [
    "import scipy.spatial.distance as dist\n"
   ]
  },
  {
   "cell_type": "code",
   "execution_count": 246,
   "metadata": {
    "ExecuteTime": {
     "end_time": "2020-02-18T14:29:02.410548Z",
     "start_time": "2020-02-18T14:29:02.406165Z"
    }
   },
   "outputs": [],
   "source": [
    "d = dist.squareform(dist.pdist(x))"
   ]
  },
  {
   "cell_type": "code",
   "execution_count": 247,
   "metadata": {
    "ExecuteTime": {
     "end_time": "2020-02-18T14:29:02.416091Z",
     "start_time": "2020-02-18T14:29:02.412488Z"
    }
   },
   "outputs": [
    {
     "data": {
      "text/plain": [
       "(2.0, 2.0)"
      ]
     },
     "execution_count": 247,
     "metadata": {},
     "output_type": "execute_result"
    }
   ],
   "source": [
    "d[1,0], d[0,1]"
   ]
  },
  {
   "cell_type": "code",
   "execution_count": 248,
   "metadata": {
    "ExecuteTime": {
     "end_time": "2020-02-18T14:29:02.420740Z",
     "start_time": "2020-02-18T14:29:02.417292Z"
    }
   },
   "outputs": [
    {
     "data": {
      "text/plain": [
       "(array([[0, 0],\n",
       "        [2, 0]]), array([2, 0]))"
      ]
     },
     "execution_count": 248,
     "metadata": {},
     "output_type": "execute_result"
    }
   ],
   "source": [
    "x[:2], x[1] - x[0]"
   ]
  },
  {
   "cell_type": "markdown",
   "metadata": {},
   "source": [
    "### Set up K matrix\n",
    "\n",
    "We follow the K-matrix setup described in the Appendix of Lajaunie et al. (pg. 584):\n",
    "\n",
    "Note: we have to use the spacing vector $\\vec{h}$ instead of simply the (radial) distance $r$ in order to get correctly calculated covariance values:"
   ]
  },
  {
   "cell_type": "code",
   "execution_count": 249,
   "metadata": {
    "ExecuteTime": {
     "end_time": "2020-02-18T14:29:02.425034Z",
     "start_time": "2020-02-18T14:29:02.421924Z"
    }
   },
   "outputs": [
    {
     "data": {
      "text/plain": [
       "array([[0, 0],\n",
       "       [2, 0],\n",
       "       [0, 2],\n",
       "       [2, 2],\n",
       "       [0, 1]])"
      ]
     },
     "execution_count": 249,
     "metadata": {},
     "output_type": "execute_result"
    }
   ],
   "source": [
    "x"
   ]
  },
  {
   "cell_type": "code",
   "execution_count": 250,
   "metadata": {
    "ExecuteTime": {
     "end_time": "2020-02-18T14:29:02.440081Z",
     "start_time": "2020-02-18T14:29:02.426474Z"
    }
   },
   "outputs": [],
   "source": [
    "# Previous implementation:\n",
    "# K = np.array([[K_Gx(d[4,4]), K_GxGy(d[4,4]), K_ZGx(d[4,0])-K_ZGx(d[4,1]), K_ZGx(d[4,2])-K_ZGx(d[4,3])],\n",
    "#               [K_GxGy(d[4,4]), K_Gy(d[4,4]), K_ZGy(d[4,0])-K_ZGy(d[4,1]), K_ZGy(d[4,2])-K_ZGy(d[4,3])],\n",
    "#               [K_ZGx(d[0,4])-K_ZGx(d[1,4]), K_Gy(d[0,4])-K_ZGy(d[1,4]), K_Z(d[0,0])-K_Z(d[0,1])-K_Z(d[1,0])+K_Z(d[1,1]), K_Z(d[0,2])-K_Z(d[0,3])-K_Z(d[1,2])+K_Z(d[1,3])],\n",
    "#               [K_ZGx(d[0,4])-K_ZGx(d[1,4]), K_Gy(d[0,4])-K_ZGy(d[1,4]), K_Z(d[0,0])-K_Z(d[0,1])-K_Z(d[1,0])+K_Z(d[1,1]), K_Z(d[0,2])-K_Z(d[0,3])-K_Z(d[1,2])+K_Z(d[1,3])]])\n",
    "\n",
    "K = np.array([[K_Gx(x[4]-x[4]), K_GxGy(x[4]-x[4]), K_ZGx(x[4]-x[0])-K_ZGx(x[4]-x[1]), K_ZGx(x[4]-x[2])-K_ZGx(x[4]-x[3])],\n",
    "              [K_GxGy(x[4]-x[4]), K_Gy(x[4]-x[4]), K_ZGy(x[4]-x[0])-K_ZGy(x[4]-x[1]), K_ZGy(x[4]-x[2])-K_ZGy(x[4]-x[3])],\n",
    "              [K_ZGx(x[0]-x[4])-K_ZGx(x[1]-x[4]), K_ZGy(x[0]-x[4])-K_ZGy(x[1]-x[4]), K_Z(x[0]-x[0])-K_Z(x[0]-x[1])-K_Z(x[1]-x[0])+K_Z(x[1]-x[1]), K_Z(x[0]-x[2])-K_Z(x[0]-x[3])-K_Z(x[1]-x[2])+K_Z(x[1]-x[3])],\n",
    "              [K_ZGx(x[2]-x[4])-K_ZGx(x[3]-x[4]), K_ZGy(x[2]-x[4])-K_ZGy(x[3]-x[4]), K_Z(x[2]-x[0])-K_Z(x[2]-x[1])-K_Z(x[3]-x[0])+K_Z(x[3]-x[1]), K_Z(x[2]-x[2])-K_Z(x[2]-x[3])-K_Z(x[3]-x[2])+K_Z(x[3]-x[3])]])"
   ]
  },
  {
   "cell_type": "code",
   "execution_count": 251,
   "metadata": {
    "ExecuteTime": {
     "end_time": "2020-02-18T14:29:02.445283Z",
     "start_time": "2020-02-18T14:29:02.441468Z"
    }
   },
   "outputs": [
    {
     "data": {
      "text/plain": [
       "-0.0"
      ]
     },
     "execution_count": 251,
     "metadata": {},
     "output_type": "execute_result"
    }
   ],
   "source": [
    "K_ZGx(x[0]-x[4])"
   ]
  },
  {
   "cell_type": "code",
   "execution_count": 252,
   "metadata": {
    "ExecuteTime": {
     "end_time": "2020-02-18T14:29:02.450712Z",
     "start_time": "2020-02-18T14:29:02.446833Z"
    }
   },
   "outputs": [
    {
     "data": {
      "text/plain": [
       "array([[ 0.33333333,  0.        ,  0.17771314,  0.17771314],\n",
       "       [ 0.        ,  0.33333333,  0.1227701 , -0.1227701 ],\n",
       "       [-0.17771314, -0.1227701 ,  0.70787048,  0.29798688],\n",
       "       [-0.17771314,  0.1227701 ,  0.29798688,  0.70787048]])"
      ]
     },
     "execution_count": 252,
     "metadata": {},
     "output_type": "execute_result"
    }
   ],
   "source": [
    "K"
   ]
  },
  {
   "cell_type": "code",
   "execution_count": 253,
   "metadata": {
    "ExecuteTime": {
     "end_time": "2020-02-18T14:29:02.463995Z",
     "start_time": "2020-02-18T14:29:02.452438Z"
    }
   },
   "outputs": [
    {
     "data": {
      "text/plain": [
       "2.8273448017200558"
      ]
     },
     "execution_count": 253,
     "metadata": {},
     "output_type": "execute_result"
    }
   ],
   "source": [
    "np.linalg.cond(K)"
   ]
  },
  {
   "cell_type": "code",
   "execution_count": 254,
   "metadata": {
    "ExecuteTime": {
     "end_time": "2020-02-18T14:29:02.472533Z",
     "start_time": "2020-02-18T14:29:02.465369Z"
    }
   },
   "outputs": [
    {
     "data": {
      "text/plain": [
       "array([[ 2.52442743e+00, -8.32667268e-17, -4.46011464e-01,\n",
       "        -4.46011464e-01],\n",
       "       [-2.08166817e-17,  2.45773561e+00, -7.36151552e-01,\n",
       "         7.36151552e-01],\n",
       "       [ 4.46011464e-01,  7.36151552e-01,  1.41765109e+00,\n",
       "        -5.81075410e-01],\n",
       "       [ 4.46011464e-01, -7.36151552e-01, -5.81075410e-01,\n",
       "         1.41765109e+00]])"
      ]
     },
     "execution_count": 254,
     "metadata": {},
     "output_type": "execute_result"
    }
   ],
   "source": [
    "np.linalg.inv(K)"
   ]
  },
  {
   "cell_type": "markdown",
   "metadata": {},
   "source": [
    "Ok, this first step looks reasonable now. Theoretically, we could now solve the kriging system without the universality conditions:"
   ]
  },
  {
   "cell_type": "code",
   "execution_count": 255,
   "metadata": {
    "ExecuteTime": {
     "end_time": "2020-02-18T14:29:02.477152Z",
     "start_time": "2020-02-18T14:29:02.474238Z"
    }
   },
   "outputs": [],
   "source": [
    "# setting up the RHS - only gradient in x,y directions:\n",
    "b  = [gx5,gy5,0,0]"
   ]
  },
  {
   "cell_type": "code",
   "execution_count": 256,
   "metadata": {
    "ExecuteTime": {
     "end_time": "2020-02-18T14:29:02.484296Z",
     "start_time": "2020-02-18T14:29:02.479133Z"
    },
    "scrolled": true
   },
   "outputs": [
    {
     "name": "stdout",
     "output_type": "stream",
     "text": [
      "[ 2.52442743  2.45773561  1.18216302 -0.29014009]\n"
     ]
    }
   ],
   "source": [
    "w = np.linalg.solve(K, b)\n",
    "print(w)"
   ]
  },
  {
   "cell_type": "markdown",
   "metadata": {},
   "source": [
    "Ok, weights are large - let's see what we actually interpolate - in writing the interpolator function (1) without a drift term:\n",
    "\n",
    "$$Z(x_\\alpha)^K = a_5 K_{ZG^x}^{\\alpha 5} + b_5 K_{ZG^y}^{\\alpha 5} + c_{12}(K_Z^{\\alpha 1} - K_Z^{\\alpha 2})\n",
    "+ c_{34}(K_Z^{\\alpha 3} - K_Z^{\\alpha 4})$$"
   ]
  },
  {
   "cell_type": "code",
   "execution_count": 257,
   "metadata": {
    "ExecuteTime": {
     "end_time": "2020-02-18T14:29:02.490612Z",
     "start_time": "2020-02-18T14:29:02.485903Z"
    }
   },
   "outputs": [],
   "source": [
    "def interp_val(xa, w, x):\n",
    "    \"\"\"Determine interpolation for scalar field value (without drift)\n",
    "    \n",
    "    Parameters:\n",
    "    xa = [x,y]: x-vector to point of estimation\n",
    "    w = [a,b,c1,c2]: estimnated weights\n",
    "    x = (n,2)-vector of known value positions\n",
    "    \"\"\"\n",
    "    return w[0]*K_ZGx(xa - x[4]) + \\\n",
    "            w[1]*K_ZGy(xa - x[4]) + \\\n",
    "            w[2]*(K_Z(xa-x[0])-K_Z(xa-x[1])) + \\\n",
    "            w[3]*(K_Z(xa-x[2])-K_Z(xa-x[3]))\n",
    "        "
   ]
  },
  {
   "cell_type": "code",
   "execution_count": 258,
   "metadata": {
    "ExecuteTime": {
     "end_time": "2020-02-18T14:29:02.497354Z",
     "start_time": "2020-02-18T14:29:02.492472Z"
    }
   },
   "outputs": [
    {
     "data": {
      "text/plain": [
       "-0.14494221568325844"
      ]
     },
     "execution_count": 258,
     "metadata": {},
     "output_type": "execute_result"
    }
   ],
   "source": [
    "interp_val([0,0], w, x)"
   ]
  },
  {
   "cell_type": "markdown",
   "metadata": {},
   "source": [
    "And in a map-view:"
   ]
  },
  {
   "cell_type": "code",
   "execution_count": 259,
   "metadata": {
    "ExecuteTime": {
     "end_time": "2020-02-18T14:29:02.503013Z",
     "start_time": "2020-02-18T14:29:02.498887Z"
    }
   },
   "outputs": [],
   "source": [
    "# create points:\n",
    "xx = np.arange(-.5,2.5,0.1)\n",
    "yy = np.arange(-.5,2.5,0.1)\n",
    "XX,YY = np.meshgrid(xx,yy)"
   ]
  },
  {
   "cell_type": "code",
   "execution_count": 260,
   "metadata": {
    "ExecuteTime": {
     "end_time": "2020-02-18T14:29:02.711933Z",
     "start_time": "2020-02-18T14:29:02.505100Z"
    }
   },
   "outputs": [],
   "source": [
    "scalar_field_no_drift = np.empty((len(xx), len(yy)))\n",
    "for i,xxx in enumerate(xx):\n",
    "    for j,yyy in enumerate(yy):\n",
    "        scalar_field_no_drift[i,j] = interp_val([xxx,yyy], w, x)"
   ]
  },
  {
   "cell_type": "code",
   "execution_count": 261,
   "metadata": {
    "ExecuteTime": {
     "end_time": "2020-02-18T14:29:02.966318Z",
     "start_time": "2020-02-18T14:29:02.716386Z"
    }
   },
   "outputs": [
    {
     "data": {
      "text/plain": [
       "(-0.5, 2.3999999999999995, -0.5, 2.3999999999999995)"
      ]
     },
     "execution_count": 261,
     "metadata": {},
     "output_type": "execute_result"
    },
    {
     "data": {
      "image/png": "[encoded data removed]",
      "text/plain": [
       "<Figure size 432x288 with 2 Axes>"
      ]
     },
     "metadata": {
      "needs_background": "light"
     },
     "output_type": "display_data"
    }
   ],
   "source": [
    "plt.contour(XX, YY, scalar_field_no_drift.T, 20)\n",
    "plt.colorbar()\n",
    "plt.plot(x_int1[:,0], x_int1[:,1], 'ro')\n",
    "plt.plot(x_int2[:,0], x_int2[:,1], 'bo')\n",
    "plt.plot(x5[0], x5[1], 'go')\n",
    "plt.axis('equal')"
   ]
  },
  {
   "cell_type": "markdown",
   "metadata": {},
   "source": [
    "\n",
    "<div class=\"alert alert-danger\">\n",
    "  <strong>Check:</strong> The result obviously does not make sense... is this because of the missing drift or is it a problem in the implementation?\n",
    "</div>\n",
    "\n"
   ]
  },
  {
   "cell_type": "markdown",
   "metadata": {},
   "source": [
    "## Adding universal kriging terms\n",
    "\n",
    "We now add the universal kriging terms in order to obtain a meaningful drift/ variability in the interpolated scalar field. How these additional terms are included is not so directly obvious from Lajaunie et al., but the description in the appendix for a second-order drift provides some insight.\n",
    "\n",
    "\n",
    "<div class=\"alert alert-info\">\n",
    "  <strong>To do:</strong> Include more information - and reference to gempy paper?\n",
    "</div>\n",
    "\n",
    "### Set up F-matrix"
   ]
  },
  {
   "cell_type": "code",
   "execution_count": 262,
   "metadata": {
    "ExecuteTime": {
     "end_time": "2020-02-18T14:29:02.973423Z",
     "start_time": "2020-02-18T14:29:02.969237Z"
    }
   },
   "outputs": [
    {
     "data": {
      "text/plain": [
       "array([[0, 0],\n",
       "       [2, 0],\n",
       "       [0, 2],\n",
       "       [2, 2],\n",
       "       [0, 1]])"
      ]
     },
     "execution_count": 262,
     "metadata": {},
     "output_type": "execute_result"
    }
   ],
   "source": [
    "x"
   ]
  },
  {
   "cell_type": "code",
   "execution_count": 263,
   "metadata": {
    "ExecuteTime": {
     "end_time": "2020-02-18T14:29:02.979173Z",
     "start_time": "2020-02-18T14:29:02.975238Z"
    }
   },
   "outputs": [],
   "source": [
    "# new 25.11.2019\n",
    "F = np.array([[1, 0, x[0,0]-x[1,0], x[2,0]-x[3,0]],\n",
    "              [0, 1, x[0,1]-x[1,1], x[2,1]-x[3,1]]])"
   ]
  },
  {
   "cell_type": "markdown",
   "metadata": {},
   "source": [
    "Combine matrices:"
   ]
  },
  {
   "cell_type": "code",
   "execution_count": 264,
   "metadata": {
    "ExecuteTime": {
     "end_time": "2020-02-18T14:29:02.984951Z",
     "start_time": "2020-02-18T14:29:02.980458Z"
    }
   },
   "outputs": [
    {
     "data": {
      "text/plain": [
       "array([[ 1,  0],\n",
       "       [ 0,  1],\n",
       "       [-2,  0],\n",
       "       [-2,  0]])"
      ]
     },
     "execution_count": 264,
     "metadata": {},
     "output_type": "execute_result"
    }
   ],
   "source": [
    "F.transpose()"
   ]
  },
  {
   "cell_type": "code",
   "execution_count": 265,
   "metadata": {
    "ExecuteTime": {
     "end_time": "2020-02-18T14:29:02.990230Z",
     "start_time": "2020-02-18T14:29:02.986253Z"
    }
   },
   "outputs": [],
   "source": [
    "A = np.hstack([K, F.transpose()])\n",
    "B = np.hstack([F, np.zeros((2,2))])\n",
    "krig_full = np.vstack([A,B])"
   ]
  },
  {
   "cell_type": "code",
   "execution_count": 266,
   "metadata": {
    "ExecuteTime": {
     "end_time": "2020-02-18T14:29:02.993877Z",
     "start_time": "2020-02-18T14:29:02.991482Z"
    }
   },
   "outputs": [],
   "source": [
    "import pandas as pd"
   ]
  },
  {
   "cell_type": "code",
   "execution_count": 267,
   "metadata": {
    "ExecuteTime": {
     "end_time": "2020-02-18T14:29:03.010361Z",
     "start_time": "2020-02-18T14:29:02.995057Z"
    }
   },
   "outputs": [
    {
     "data": {
      "text/html": [
       "<div>\n",
       "<style scoped>\n",
       "    .dataframe tbody tr th:only-of-type {\n",
       "        vertical-align: middle;\n",
       "    }\n",
       "\n",
       "    .dataframe tbody tr th {\n",
       "        vertical-align: top;\n",
       "    }\n",
       "\n",
       "    .dataframe thead th {\n",
       "        text-align: right;\n",
       "    }\n",
       "</style>\n",
       "<table border=\"1\" class=\"dataframe\">\n",
       "  <thead>\n",
       "    <tr style=\"text-align: right;\">\n",
       "      <th></th>\n",
       "      <th>0</th>\n",
       "      <th>1</th>\n",
       "      <th>2</th>\n",
       "      <th>3</th>\n",
       "      <th>4</th>\n",
       "      <th>5</th>\n",
       "    </tr>\n",
       "  </thead>\n",
       "  <tbody>\n",
       "    <tr>\n",
       "      <th>0</th>\n",
       "      <td>0.333333</td>\n",
       "      <td>0.000000</td>\n",
       "      <td>0.177713</td>\n",
       "      <td>0.177713</td>\n",
       "      <td>1.0</td>\n",
       "      <td>0.0</td>\n",
       "    </tr>\n",
       "    <tr>\n",
       "      <th>1</th>\n",
       "      <td>0.000000</td>\n",
       "      <td>0.333333</td>\n",
       "      <td>0.122770</td>\n",
       "      <td>-0.122770</td>\n",
       "      <td>0.0</td>\n",
       "      <td>1.0</td>\n",
       "    </tr>\n",
       "    <tr>\n",
       "      <th>2</th>\n",
       "      <td>-0.177713</td>\n",
       "      <td>-0.122770</td>\n",
       "      <td>0.707870</td>\n",
       "      <td>0.297987</td>\n",
       "      <td>-2.0</td>\n",
       "      <td>0.0</td>\n",
       "    </tr>\n",
       "    <tr>\n",
       "      <th>3</th>\n",
       "      <td>-0.177713</td>\n",
       "      <td>0.122770</td>\n",
       "      <td>0.297987</td>\n",
       "      <td>0.707870</td>\n",
       "      <td>-2.0</td>\n",
       "      <td>0.0</td>\n",
       "    </tr>\n",
       "    <tr>\n",
       "      <th>4</th>\n",
       "      <td>1.000000</td>\n",
       "      <td>0.000000</td>\n",
       "      <td>-2.000000</td>\n",
       "      <td>-2.000000</td>\n",
       "      <td>0.0</td>\n",
       "      <td>0.0</td>\n",
       "    </tr>\n",
       "    <tr>\n",
       "      <th>5</th>\n",
       "      <td>0.000000</td>\n",
       "      <td>1.000000</td>\n",
       "      <td>0.000000</td>\n",
       "      <td>0.000000</td>\n",
       "      <td>0.0</td>\n",
       "      <td>0.0</td>\n",
       "    </tr>\n",
       "  </tbody>\n",
       "</table>\n",
       "</div>"
      ],
      "text/plain": [
       "          0         1         2         3    4    5\n",
       "0  0.333333  0.000000  0.177713  0.177713  1.0  0.0\n",
       "1  0.000000  0.333333  0.122770 -0.122770  0.0  1.0\n",
       "2 -0.177713 -0.122770  0.707870  0.297987 -2.0  0.0\n",
       "3 -0.177713  0.122770  0.297987  0.707870 -2.0  0.0\n",
       "4  1.000000  0.000000 -2.000000 -2.000000  0.0  0.0\n",
       "5  0.000000  1.000000  0.000000  0.000000  0.0  0.0"
      ]
     },
     "execution_count": 267,
     "metadata": {},
     "output_type": "execute_result"
    }
   ],
   "source": [
    "pd.DataFrame(krig_full)"
   ]
  },
  {
   "cell_type": "code",
   "execution_count": 268,
   "metadata": {
    "ExecuteTime": {
     "end_time": "2020-02-18T14:29:03.016477Z",
     "start_time": "2020-02-18T14:29:03.011649Z"
    }
   },
   "outputs": [
    {
     "data": {
      "text/plain": [
       "(array([[ 0.33333333,  0.        ,  0.17771314,  0.17771314,  1.        ,\n",
       "          0.        ],\n",
       "        [ 0.        ,  0.33333333,  0.1227701 , -0.1227701 ,  0.        ,\n",
       "          1.        ],\n",
       "        [-0.17771314, -0.1227701 ,  0.70787048,  0.29798688, -2.        ,\n",
       "          0.        ],\n",
       "        [-0.17771314,  0.1227701 ,  0.29798688,  0.70787048, -2.        ,\n",
       "          0.        ],\n",
       "        [ 1.        ,  0.        , -2.        , -2.        ,  0.        ,\n",
       "          0.        ],\n",
       "        [ 0.        ,  1.        ,  0.        ,  0.        ,  0.        ,\n",
       "          0.        ]]), (6, 6))"
      ]
     },
     "execution_count": 268,
     "metadata": {},
     "output_type": "execute_result"
    }
   ],
   "source": [
    "krig_full, krig_full.shape"
   ]
  },
  {
   "cell_type": "code",
   "execution_count": 269,
   "metadata": {
    "ExecuteTime": {
     "end_time": "2020-02-18T14:29:03.020316Z",
     "start_time": "2020-02-18T14:29:03.017716Z"
    }
   },
   "outputs": [],
   "source": [
    "b = np.zeros(6)\n",
    "b[0] = gx5\n",
    "b[1] = gy5"
   ]
  },
  {
   "cell_type": "code",
   "execution_count": 270,
   "metadata": {
    "ExecuteTime": {
     "end_time": "2020-02-18T14:29:03.027040Z",
     "start_time": "2020-02-18T14:29:03.022397Z"
    }
   },
   "outputs": [
    {
     "data": {
      "text/plain": [
       "array([2.17833837, 0.        , 0.54458459, 0.54458459, 0.08032754,\n",
       "       1.        ])"
      ]
     },
     "execution_count": 270,
     "metadata": {},
     "output_type": "execute_result"
    }
   ],
   "source": [
    "w = np.linalg.solve(krig_full, b)\n",
    "w"
   ]
  },
  {
   "cell_type": "code",
   "execution_count": 271,
   "metadata": {
    "ExecuteTime": {
     "end_time": "2020-02-18T14:29:03.032796Z",
     "start_time": "2020-02-18T14:29:03.028756Z"
    }
   },
   "outputs": [
    {
     "data": {
      "text/plain": [
       "array([1.00000000e+00, 1.00000000e+00, 8.32667268e-17, 2.77555756e-17,\n",
       "       0.00000000e+00, 0.00000000e+00])"
      ]
     },
     "execution_count": 271,
     "metadata": {},
     "output_type": "execute_result"
    }
   ],
   "source": [
    "np.dot(krig_full,w)"
   ]
  },
  {
   "cell_type": "code",
   "execution_count": null,
   "metadata": {},
   "outputs": [],
   "source": []
  },
  {
   "cell_type": "code",
   "execution_count": null,
   "metadata": {},
   "outputs": [],
   "source": []
  },
  {
   "cell_type": "markdown",
   "metadata": {},
   "source": [
    "### Interpolation function with universal drift\n",
    "\n"
   ]
  },
  {
   "cell_type": "code",
   "execution_count": 272,
   "metadata": {
    "ExecuteTime": {
     "end_time": "2020-02-18T14:29:03.038545Z",
     "start_time": "2020-02-18T14:29:03.034221Z"
    }
   },
   "outputs": [],
   "source": [
    "def interp_val_with_drift(xa, w, x):\n",
    "    \"\"\"Determine interpolation for scalar field value\n",
    "    \n",
    "    Parameters:\n",
    "    xa = [x,y]: x-vector to point of estimation\n",
    "    w = [a,b,c1,c2]: estimnated weights\n",
    "    x = (n,2)-vector of known value positions\n",
    "    \"\"\"\n",
    "    return  w[0]*K_ZGx(xa - x[4]) + \\\n",
    "            w[1]*K_ZGy(xa - x[4]) + \\\n",
    "            w[2]*(K_Z(xa-x[0])-K_Z(xa-x[1])) + \\\n",
    "            w[3]*(K_Z(xa-x[2])-K_Z(xa-x[3])) + \\\n",
    "            w[4]*xa[0] + w[5]*xa[1]\n",
    "        "
   ]
  },
  {
   "cell_type": "code",
   "execution_count": 273,
   "metadata": {
    "ExecuteTime": {
     "end_time": "2020-02-18T14:29:03.043080Z",
     "start_time": "2020-02-18T14:29:03.040006Z"
    }
   },
   "outputs": [],
   "source": [
    "# create points:\n",
    "xx = np.arange(-.5,2.5,0.1)\n",
    "yy = np.arange(-.5,2.5,0.1)\n",
    "XX,YY = np.meshgrid(xx,yy)"
   ]
  },
  {
   "cell_type": "code",
   "execution_count": 274,
   "metadata": {
    "ExecuteTime": {
     "end_time": "2020-02-18T14:29:03.215817Z",
     "start_time": "2020-02-18T14:29:03.044351Z"
    }
   },
   "outputs": [],
   "source": [
    "scalar_field_no_drift = np.empty((len(xx), len(yy)))\n",
    "for i,xxx in enumerate(xx):\n",
    "    for j,yyy in enumerate(yy):\n",
    "        scalar_field_no_drift[i,j] = interp_val_with_drift([xxx,yyy], w, x)"
   ]
  },
  {
   "cell_type": "code",
   "execution_count": 275,
   "metadata": {
    "ExecuteTime": {
     "end_time": "2020-02-18T14:29:03.222478Z",
     "start_time": "2020-02-18T14:29:03.217620Z"
    }
   },
   "outputs": [
    {
     "data": {
      "text/plain": [
       "0.27388720995882765"
      ]
     },
     "execution_count": 275,
     "metadata": {},
     "output_type": "execute_result"
    }
   ],
   "source": [
    "interp_val_with_drift([0,0],w,x)"
   ]
  },
  {
   "cell_type": "code",
   "execution_count": 276,
   "metadata": {
    "ExecuteTime": {
     "end_time": "2020-02-18T14:29:03.228093Z",
     "start_time": "2020-02-18T14:29:03.223664Z"
    }
   },
   "outputs": [
    {
     "data": {
      "text/plain": [
       "0.44140554003309396"
      ]
     },
     "execution_count": 276,
     "metadata": {},
     "output_type": "execute_result"
    }
   ],
   "source": [
    "interp_val_with_drift([1,0],w,x)"
   ]
  },
  {
   "cell_type": "code",
   "execution_count": 277,
   "metadata": {
    "ExecuteTime": {
     "end_time": "2020-02-18T14:29:03.479141Z",
     "start_time": "2020-02-18T14:29:03.229820Z"
    }
   },
   "outputs": [
    {
     "data": {
      "text/plain": [
       "(-0.5, 2.3999999999999995, -0.5, 2.3999999999999995)"
      ]
     },
     "execution_count": 277,
     "metadata": {},
     "output_type": "execute_result"
    },
    {
     "data": {
      "image/png": "[encoded data removed]",
      "text/plain": [
       "<Figure size 432x288 with 2 Axes>"
      ]
     },
     "metadata": {
      "needs_background": "light"
     },
     "output_type": "display_data"
    }
   ],
   "source": [
    "plt.contour(XX, YY, scalar_field_no_drift.T, 20)\n",
    "plt.colorbar()\n",
    "plt.plot(x_int1[:,0], x_int1[:,1], 'ro')\n",
    "plt.plot(x_int2[:,0], x_int2[:,1], 'bo')\n",
    "plt.plot(x5[0], x5[1], 'go')\n",
    "plt.axis('equal')"
   ]
  },
  {
   "cell_type": "markdown",
   "metadata": {},
   "source": [
    "### second order drifting"
   ]
  },
  {
   "cell_type": "code",
   "execution_count": 278,
   "metadata": {
    "ExecuteTime": {
     "end_time": "2020-02-18T14:29:03.486426Z",
     "start_time": "2020-02-18T14:29:03.481080Z"
    }
   },
   "outputs": [
    {
     "data": {
      "text/plain": [
       "array([[ 1,  0, -2, -2],\n",
       "       [ 0,  1,  0,  0]])"
      ]
     },
     "execution_count": 278,
     "metadata": {},
     "output_type": "execute_result"
    }
   ],
   "source": [
    "F = np.array([[1, 0, x[0,0]-x[1,0], x[2,0]-x[3,0]],\n",
    "              [0, 1, x[0,1]-x[1,1], x[2,1]-x[3,1]]])\n",
    "F"
   ]
  },
  {
   "cell_type": "code",
   "execution_count": 279,
   "metadata": {
    "ExecuteTime": {
     "end_time": "2020-02-18T14:29:03.497502Z",
     "start_time": "2020-02-18T14:29:03.488220Z"
    }
   },
   "outputs": [
    {
     "data": {
      "text/plain": [
       "array([[ 1,  0, -2, -2],\n",
       "       [ 0,  1,  0,  0],\n",
       "       [ 0,  0, -4, -4],\n",
       "       [ 0,  2,  0,  0],\n",
       "       [ 1,  0,  0, -4]])"
      ]
     },
     "execution_count": 279,
     "metadata": {},
     "output_type": "execute_result"
    }
   ],
   "source": [
    "x_all = x\n",
    "F1 = np.array([[1, 0, x_all[0,0]-x_all[1,0], x_all[2,0]-x_all[3,0]],\n",
    "              [0, 1, x_all[0,1]-x_all[1,1], x_all[2,1]-x_all[3,1]],\n",
    "              [2*x_all[4,0], 0, x_all[0,0]**2-x_all[1,0]**2, x_all[2,0]**2-x_all[3,0]**2],\n",
    "              [0, 2*x_all[4,1], x_all[0,1]**2-x_all[1,1]**2, x_all[2,1]**2-x_all[3,1]**2],\n",
    "              [x_all[4,1], x_all[4,0], x_all[0,0]*x_all[0,1]-x_all[1,0]*x_all[1,1], x_all[2,0]*x_all[2,1]-x_all[3,0]*x_all[3,1]]])\n",
    "F1"
   ]
  },
  {
   "cell_type": "code",
   "execution_count": 280,
   "metadata": {
    "ExecuteTime": {
     "end_time": "2020-02-18T14:29:03.502622Z",
     "start_time": "2020-02-18T14:29:03.499026Z"
    }
   },
   "outputs": [],
   "source": [
    "A = np.hstack([K, F1.transpose()])\n",
    "B = np.hstack([F1, np.zeros((5,5))])\n",
    "krig_full = np.vstack([A,B])\n",
    "\n",
    "b = np.zeros(9)\n",
    "b[0] = gx5\n",
    "b[1] = gy5"
   ]
  },
  {
   "cell_type": "code",
   "execution_count": 281,
   "metadata": {
    "ExecuteTime": {
     "end_time": "2020-02-18T14:29:03.517621Z",
     "start_time": "2020-02-18T14:29:03.503854Z"
    }
   },
   "outputs": [
    {
     "ename": "LinAlgError",
     "evalue": "Singular matrix",
     "output_type": "error",
     "traceback": [
      "\u001b[0;31m---------------------------------------------------------------------------\u001b[0m",
      "\u001b[0;31mLinAlgError\u001b[0m                               Traceback (most recent call last)",
      "\u001b[0;32m<ipython-input-281-06df1b7a4fda>\u001b[0m in \u001b[0;36m<module>\u001b[0;34m\u001b[0m\n\u001b[0;32m----> 1\u001b[0;31m \u001b[0mnp\u001b[0m\u001b[0;34m.\u001b[0m\u001b[0mlinalg\u001b[0m\u001b[0;34m.\u001b[0m\u001b[0msolve\u001b[0m\u001b[0;34m(\u001b[0m\u001b[0mkrig_full\u001b[0m\u001b[0;34m,\u001b[0m \u001b[0mb\u001b[0m\u001b[0;34m)\u001b[0m\u001b[0;34m\u001b[0m\u001b[0;34m\u001b[0m\u001b[0m\n\u001b[0m",
      "\u001b[0;32m<__array_function__ internals>\u001b[0m in \u001b[0;36msolve\u001b[0;34m(*args, **kwargs)\u001b[0m\n",
      "\u001b[0;32m~/anaconda3/envs/bys/lib/python3.7/site-packages/numpy/linalg/linalg.py\u001b[0m in \u001b[0;36msolve\u001b[0;34m(a, b)\u001b[0m\n\u001b[1;32m    401\u001b[0m     \u001b[0msignature\u001b[0m \u001b[0;34m=\u001b[0m \u001b[0;34m'DD->D'\u001b[0m \u001b[0;32mif\u001b[0m \u001b[0misComplexType\u001b[0m\u001b[0;34m(\u001b[0m\u001b[0mt\u001b[0m\u001b[0;34m)\u001b[0m \u001b[0;32melse\u001b[0m \u001b[0;34m'dd->d'\u001b[0m\u001b[0;34m\u001b[0m\u001b[0;34m\u001b[0m\u001b[0m\n\u001b[1;32m    402\u001b[0m     \u001b[0mextobj\u001b[0m \u001b[0;34m=\u001b[0m \u001b[0mget_linalg_error_extobj\u001b[0m\u001b[0;34m(\u001b[0m\u001b[0m_raise_linalgerror_singular\u001b[0m\u001b[0;34m)\u001b[0m\u001b[0;34m\u001b[0m\u001b[0;34m\u001b[0m\u001b[0m\n\u001b[0;32m--> 403\u001b[0;31m     \u001b[0mr\u001b[0m \u001b[0;34m=\u001b[0m \u001b[0mgufunc\u001b[0m\u001b[0;34m(\u001b[0m\u001b[0ma\u001b[0m\u001b[0;34m,\u001b[0m \u001b[0mb\u001b[0m\u001b[0;34m,\u001b[0m \u001b[0msignature\u001b[0m\u001b[0;34m=\u001b[0m\u001b[0msignature\u001b[0m\u001b[0;34m,\u001b[0m \u001b[0mextobj\u001b[0m\u001b[0;34m=\u001b[0m\u001b[0mextobj\u001b[0m\u001b[0;34m)\u001b[0m\u001b[0;34m\u001b[0m\u001b[0;34m\u001b[0m\u001b[0m\n\u001b[0m\u001b[1;32m    404\u001b[0m \u001b[0;34m\u001b[0m\u001b[0m\n\u001b[1;32m    405\u001b[0m     \u001b[0;32mreturn\u001b[0m \u001b[0mwrap\u001b[0m\u001b[0;34m(\u001b[0m\u001b[0mr\u001b[0m\u001b[0;34m.\u001b[0m\u001b[0mastype\u001b[0m\u001b[0;34m(\u001b[0m\u001b[0mresult_t\u001b[0m\u001b[0;34m,\u001b[0m \u001b[0mcopy\u001b[0m\u001b[0;34m=\u001b[0m\u001b[0;32mFalse\u001b[0m\u001b[0;34m)\u001b[0m\u001b[0;34m)\u001b[0m\u001b[0;34m\u001b[0m\u001b[0;34m\u001b[0m\u001b[0m\n",
      "\u001b[0;32m~/anaconda3/envs/bys/lib/python3.7/site-packages/numpy/linalg/linalg.py\u001b[0m in \u001b[0;36m_raise_linalgerror_singular\u001b[0;34m(err, flag)\u001b[0m\n\u001b[1;32m     95\u001b[0m \u001b[0;34m\u001b[0m\u001b[0m\n\u001b[1;32m     96\u001b[0m \u001b[0;32mdef\u001b[0m \u001b[0m_raise_linalgerror_singular\u001b[0m\u001b[0;34m(\u001b[0m\u001b[0merr\u001b[0m\u001b[0;34m,\u001b[0m \u001b[0mflag\u001b[0m\u001b[0;34m)\u001b[0m\u001b[0;34m:\u001b[0m\u001b[0;34m\u001b[0m\u001b[0;34m\u001b[0m\u001b[0m\n\u001b[0;32m---> 97\u001b[0;31m     \u001b[0;32mraise\u001b[0m \u001b[0mLinAlgError\u001b[0m\u001b[0;34m(\u001b[0m\u001b[0;34m\"Singular matrix\"\u001b[0m\u001b[0;34m)\u001b[0m\u001b[0;34m\u001b[0m\u001b[0;34m\u001b[0m\u001b[0m\n\u001b[0m\u001b[1;32m     98\u001b[0m \u001b[0;34m\u001b[0m\u001b[0m\n\u001b[1;32m     99\u001b[0m \u001b[0;32mdef\u001b[0m \u001b[0m_raise_linalgerror_nonposdef\u001b[0m\u001b[0;34m(\u001b[0m\u001b[0merr\u001b[0m\u001b[0;34m,\u001b[0m \u001b[0mflag\u001b[0m\u001b[0;34m)\u001b[0m\u001b[0;34m:\u001b[0m\u001b[0;34m\u001b[0m\u001b[0;34m\u001b[0m\u001b[0m\n",
      "\u001b[0;31mLinAlgError\u001b[0m: Singular matrix"
     ]
    }
   ],
   "source": [
    "np.linalg.solve(krig_full, b)"
   ]
  },
  {
   "cell_type": "code",
   "execution_count": null,
   "metadata": {},
   "outputs": [],
   "source": []
  },
  {
   "cell_type": "code",
   "execution_count": null,
   "metadata": {
    "ExecuteTime": {
     "end_time": "2020-02-18T14:29:03.543201Z",
     "start_time": "2020-02-18T14:29:02.025Z"
    }
   },
   "outputs": [],
   "source": [
    "def interp_val_with_drift(xa, w, x):\n",
    "    \"\"\"Determine interpolation for scalar field value\n",
    "    \n",
    "    Parameters:\n",
    "    xa = [x,y]: x-vector to point of estimation\n",
    "    w = [a,b,c1,c2]: estimnated weights\n",
    "    x = (n,2)-vector of known value positions\n",
    "    \"\"\"\n",
    "    return  w[0]*K_ZGx(xa - x[4]) + \\\n",
    "            w[1]*K_ZGy(xa - x[4]) + \\\n",
    "            w[2]*(K_Z(xa-x[0])-K_Z(xa-x[1])) + \\\n",
    "            w[3]*(K_Z(xa-x[2])-K_Z(xa-x[3])) + \\\n",
    "            w[4]*xa[0] + w[5]*xa[1]+\\\n",
    "            w[6]*xa[0]**2+w[7]*xa[1]**2+\\\n",
    "            w[8]*xa[0]*x1Thank [1]"
   ]
  },
  {
   "cell_type": "code",
   "execution_count": null,
   "metadata": {},
   "outputs": [],
   "source": []
  },
  {
   "cell_type": "code",
   "execution_count": null,
   "metadata": {},
   "outputs": [],
   "source": []
  },
  {
   "cell_type": "code",
   "execution_count": null,
   "metadata": {},
   "outputs": [],
   "source": []
  },
  {
   "cell_type": "markdown",
   "metadata": {},
   "source": [
    "# Old below"
   ]
  },
  {
   "cell_type": "code",
   "execution_count": null,
   "metadata": {
    "ExecuteTime": {
     "end_time": "2020-02-18T14:29:03.544680Z",
     "start_time": "2020-02-18T14:29:02.032Z"
    }
   },
   "outputs": [],
   "source": [
    "x"
   ]
  },
  {
   "cell_type": "code",
   "execution_count": null,
   "metadata": {
    "ExecuteTime": {
     "end_time": "2020-02-18T14:29:03.545720Z",
     "start_time": "2020-02-18T14:29:02.034Z"
    }
   },
   "outputs": [],
   "source": [
    "x_all[4,1]"
   ]
  },
  {
   "cell_type": "code",
   "execution_count": null,
   "metadata": {
    "ExecuteTime": {
     "end_time": "2020-02-18T14:29:03.547025Z",
     "start_time": "2020-02-18T14:29:02.037Z"
    }
   },
   "outputs": [],
   "source": [
    "x_all = x\n",
    "F = np.array([[1, 0, x_all[0,0]-x_all[1,0], x_all[2,0]-x_all[3,0]],\n",
    "              [0, 1, x_all[0,1]-x_all[1,1], x_all[2,1]-x_all[3,1]],\n",
    "              [2*x_all[4,0], 0, x_all[0,0]**2-x_all[1,0]**2, x_all[2,0]**2-x_all[3,0]**2],\n",
    "              [0, 2*x_all[4,1], x_all[0,1]**2-x_all[1,1]**2, x_all[2,1]**2-x_all[3,1]**2],\n",
    "              [x_all[4,1], x_all[4,0], x_all[0,0]*x_all[0,1]-x_all[1,0]*x_all[1,1], x_all[2,0]*x_all[2,1]-x_all[3,0]*x_all[3,1]]])"
   ]
  },
  {
   "cell_type": "code",
   "execution_count": null,
   "metadata": {
    "ExecuteTime": {
     "end_time": "2020-02-18T14:29:03.548471Z",
     "start_time": "2020-02-18T14:29:02.039Z"
    }
   },
   "outputs": [],
   "source": [
    "F"
   ]
  },
  {
   "cell_type": "markdown",
   "metadata": {},
   "source": [
    "### Combine in full matrix"
   ]
  },
  {
   "cell_type": "code",
   "execution_count": null,
   "metadata": {
    "ExecuteTime": {
     "end_time": "2020-02-18T14:29:03.549677Z",
     "start_time": "2020-02-18T14:29:02.041Z"
    }
   },
   "outputs": [],
   "source": [
    "A = np.hstack([K, F.transpose()])\n",
    "B = np.hstack([F, np.zeros((5,5))])\n",
    "krig_full = np.vstack([A,B])"
   ]
  },
  {
   "cell_type": "code",
   "execution_count": null,
   "metadata": {
    "ExecuteTime": {
     "end_time": "2020-02-18T14:29:03.551034Z",
     "start_time": "2020-02-18T14:29:02.044Z"
    }
   },
   "outputs": [],
   "source": [
    "pd.DataFrame(krig_full)"
   ]
  },
  {
   "cell_type": "code",
   "execution_count": null,
   "metadata": {
    "ExecuteTime": {
     "end_time": "2020-02-18T14:29:03.552250Z",
     "start_time": "2020-02-18T14:29:02.046Z"
    }
   },
   "outputs": [],
   "source": [
    "krig_full, krig_full.shape"
   ]
  },
  {
   "cell_type": "markdown",
   "metadata": {},
   "source": [
    "### Set up b-vector (RHS)"
   ]
  },
  {
   "cell_type": "code",
   "execution_count": null,
   "metadata": {
    "ExecuteTime": {
     "end_time": "2020-02-18T14:29:03.553481Z",
     "start_time": "2020-02-18T14:29:02.049Z"
    }
   },
   "outputs": [],
   "source": [
    "b = np.zeros(9)\n",
    "b[0] = gx5\n",
    "b[1] = gy5"
   ]
  },
  {
   "cell_type": "code",
   "execution_count": null,
   "metadata": {
    "ExecuteTime": {
     "end_time": "2020-02-18T14:29:03.554665Z",
     "start_time": "2020-02-18T14:29:02.051Z"
    }
   },
   "outputs": [],
   "source": [
    "b"
   ]
  },
  {
   "cell_type": "markdown",
   "metadata": {},
   "source": [
    "### Solve system of algebraic equations"
   ]
  },
  {
   "cell_type": "code",
   "execution_count": null,
   "metadata": {
    "ExecuteTime": {
     "end_time": "2020-02-18T14:29:03.556046Z",
     "start_time": "2020-02-18T14:29:02.054Z"
    }
   },
   "outputs": [],
   "source": [
    "np.linalg.solve(krig_full, b)"
   ]
  },
  {
   "cell_type": "markdown",
   "metadata": {},
   "source": [
    "Bam!"
   ]
  },
  {
   "cell_type": "code",
   "execution_count": null,
   "metadata": {
    "ExecuteTime": {
     "end_time": "2020-02-18T14:29:03.557613Z",
     "start_time": "2020-02-18T14:29:02.057Z"
    }
   },
   "outputs": [],
   "source": [
    "np.linalg.inv(K)"
   ]
  },
  {
   "cell_type": "code",
   "execution_count": null,
   "metadata": {
    "ExecuteTime": {
     "end_time": "2020-02-18T14:29:03.559424Z",
     "start_time": "2020-02-18T14:29:02.060Z"
    }
   },
   "outputs": [],
   "source": [
    "krig_full.shape"
   ]
  },
  {
   "cell_type": "markdown",
   "metadata": {},
   "source": [
    "Why is the inversion failing? Problem with the setup of the universal part (I assume)? Or is the point configuration too similar?\n",
    "\n",
    "Approach: try pseudo-inverse instead:"
   ]
  },
  {
   "cell_type": "code",
   "execution_count": null,
   "metadata": {
    "ExecuteTime": {
     "end_time": "2020-02-18T14:29:03.560987Z",
     "start_time": "2020-02-18T14:29:02.062Z"
    }
   },
   "outputs": [],
   "source": [
    "w = np.dot(np.linalg.pinv(krig_full), b)"
   ]
  },
  {
   "cell_type": "code",
   "execution_count": null,
   "metadata": {
    "ExecuteTime": {
     "end_time": "2020-02-18T14:29:03.562386Z",
     "start_time": "2020-02-18T14:29:02.064Z"
    }
   },
   "outputs": [],
   "source": [
    "w"
   ]
  },
  {
   "cell_type": "markdown",
   "metadata": {},
   "source": [
    "Hmmm... some values are very small - no contribution from the gradients, especially... basically, only the drift values are considered?\n",
    "\n",
    "Let's see: interpolate!\n",
    "\n",
    "The weight vector now contains the parameters: $w = [a_5, b_5, c_{12}, c_{34}, d_1, d_2, d_3, d_4, d_5]$. \n",
    "\n",
    "In our example (at the moment), the solution seems to be completely determined by the drift value."
   ]
  },
  {
   "cell_type": "markdown",
   "metadata": {},
   "source": [
    "### Interpolate values\n",
    "\n",
    "Use equation (1) on page 577 from Lajaune et al.:\n",
    "\n",
    "$$Z(x_\\alpha)^K = a_5 K_{ZG^x}^{\\alpha 5} + b_5 K_{ZG^y}^{\\alpha 5} + c_{12}(K_Z^{\\alpha 1} - K_Z^{\\alpha 2})\n",
    "+ c_{34}(K_Z^{\\alpha 3} - K_Z^{\\alpha 4}) + d_1$$\n",
    "\n",
    "\n"
   ]
  },
  {
   "cell_type": "code",
   "execution_count": null,
   "metadata": {},
   "outputs": [],
   "source": []
  },
  {
   "cell_type": "code",
   "execution_count": null,
   "metadata": {
    "ExecuteTime": {
     "end_time": "2020-02-18T14:29:03.563568Z",
     "start_time": "2020-02-18T14:29:02.069Z"
    }
   },
   "outputs": [],
   "source": [
    "x_alpha = [2,2]\n"
   ]
  },
  {
   "cell_type": "code",
   "execution_count": null,
   "metadata": {
    "ExecuteTime": {
     "end_time": "2020-02-18T14:29:03.564396Z",
     "start_time": "2020-02-18T14:29:02.072Z"
    }
   },
   "outputs": [],
   "source": [
    "interp_val(x_alpha, weights, x_all)"
   ]
  },
  {
   "cell_type": "code",
   "execution_count": null,
   "metadata": {},
   "outputs": [],
   "source": []
  },
  {
   "cell_type": "markdown",
   "metadata": {},
   "source": [
    "### Combined in one function\n",
    "\n",
    "For better testing purposes, here the model generation in a class definition:"
   ]
  },
  {
   "cell_type": "code",
   "execution_count": null,
   "metadata": {
    "ExecuteTime": {
     "end_time": "2020-02-18T14:29:03.565515Z",
     "start_time": "2020-02-18T14:29:02.076Z"
    }
   },
   "outputs": [],
   "source": [
    "class GeomodelCokriging(object):\n",
    "    \n",
    "    def __init__(self):\n",
    "        \"\"\"Two-dimensional geomodel interpolation using the potential-field approach\n",
    "        \n",
    "        Note: only for instructive purposes - for a real model, please use GemPy!\n",
    "        \"\"\"\n",
    "        # set covariance model range:\n",
    "        self.a = 5.\n",
    "\n",
    "    def K_Z(self, h):\n",
    "        r = np.sqrt(h[0]**2 + h[1]**2)\n",
    "        return np.exp(-(r/self.a)**2)\n",
    "\n",
    "    # cross-cov space-grad\n",
    "    def K_ZGx(self, h):\n",
    "        \"\"\"Note: requires the vector h!\"\"\"\n",
    "        # r = np.sqrt(h[0]**2 + h[1]**2)\n",
    "        hx = h[0]\n",
    "        return -2 * hx/self.a**2 * self.K_Z(h) \n",
    "\n",
    "    def K_ZGy(self, h):\n",
    "        \"\"\"Note: requires the vector h!\"\"\"\n",
    "        # r = np.sqrt(h[0]**2 + h[1]**2)\n",
    "        hy = h[1]    \n",
    "        return -2 * hy/self.a**2 * self.K_Z(h) \n",
    "\n",
    "    # cov grad\n",
    "    def K_Gx(self, h):\n",
    "        \"\"\"Note: requires the vector h!\"\"\"\n",
    "        r = np.sqrt(h[0]**2 + h[1]**2)\n",
    "        hx = h[0]\n",
    "        return (2/self.a**2 - 4 * hx**2/self.a**4) * self.K_Z(h) \n",
    "\n",
    "    def K_Gy(self, h):\n",
    "        \"\"\"Note: requires the vector h!\"\"\"\n",
    "        r = np.sqrt(h[0]**2 + h[1]**2)\n",
    "        hy = h[1]\n",
    "        return (2/self.a**2 - 4 * hy**2/self.a**4) * self.K_Z(h) \n",
    "\n",
    "    # cross-cov grad\n",
    "    def K_GxGy(self, h):\n",
    "        \"\"\"Note: requires the vector h!\"\"\"\n",
    "        r = np.sqrt(h[0]**2 + h[1]**2)\n",
    "        hx = h[0]\n",
    "        hy = h[1]\n",
    "        return -4 * hx * hy /self.a**4 * self.K_Z(h) \n",
    "\n",
    "    def set_points(self, points):\n",
    "        \"\"\"Define points for interfaces, pass as dictionary\n",
    "        \n",
    "        points = 1 : [x1, x2], 2: [x3, x4]}\n",
    "        \"\"\"\n",
    "        self.points = points\n",
    "        \n",
    "    def set_ori(self, ori):\n",
    "        \"\"\"Set position and gradient of orientation\n",
    "        \n",
    "        ori = {'pos' : x5, 'grads' : [gx5, gy5]}\n",
    "        \"\"\"\n",
    "        self.ori = ori\n",
    "        \n",
    "    def setup_K_matrix(self):\n",
    "        x = np.vstack([self.points[1], self.points[2], self.ori['pos']])\n",
    "        self.K = np.array([\n",
    "              [self.K_Gx(x[4]-x[4]), self.K_GxGy(x[4]-x[4]), self.K_ZGx(x[4]-x[0])-self.K_ZGx(x[4]-x[1]), self.K_ZGx(x[4]-x[2])-self.K_ZGx(x[4]-x[3])],\n",
    "              [self.K_GxGy(x[4]-x[4]), self.K_Gy(x[4]-x[4]), self.K_ZGy(x[4]-x[0])-self.K_ZGy(x[4]-x[1]), self.K_ZGy(x[4]-x[2])-self.K_ZGy(x[4]-x[3])],\n",
    "              [self.K_ZGx(x[0]-x[4])-self.K_ZGx(x[1]-x[4]), self.K_ZGy(x[0]-x[4])-self.K_ZGy(x[1]-x[4]), self.K_Z(x[0]-x[0])-self.K_Z(x[0]-x[1])-self.K_Z(x[1]-x[0])+self.K_Z(x[1]-x[1]), self.K_Z(x[0]-x[2])-self.K_Z(x[0]-x[3])-self.K_Z(x[1]-x[2])+self.K_Z(x[1]-x[3])],\n",
    "              [self.K_ZGx(x[2]-x[4])-self.K_ZGx(x[3]-x[4]), self.K_ZGy(x[2]-x[4])-self.K_ZGy(x[3]-x[4]), self.K_Z(x[2]-x[0])-self.K_Z(x[2]-x[1])-self.K_Z(x[3]-x[0])+self.K_Z(x[3]-x[1]), self.K_Z(x[2]-x[2])-self.K_Z(x[2]-x[3])-self.K_Z(x[3]-x[2])+self.K_Z(x[3]-x[3])]])\n",
    "        # magic miguel fix:\n",
    "        # self.K[0,0] = 1./3.\n",
    "        # self.K[1,1] = 1./3.\n",
    "        \n",
    "        \n",
    "    def setup_RHS(self):\n",
    "        # setting up the RHS - only gradient in x,y directions:\n",
    "        self.b  = [self.ori['grads'][0],self.ori['grads'][1],0,0]\n",
    "        \n",
    "    def solve(self):\n",
    "        self.setup_K_matrix()\n",
    "        self.setup_RHS()\n",
    "        self.w = np.linalg.solve(self.K, self.b)\n",
    "        \n",
    "    def interp_val(self, xa, w, x):\n",
    "        \"\"\"Determine interpolation for scalar field value (without drift)\n",
    "\n",
    "        Parameters:\n",
    "        xa = [x,y]: x-vector to point of estimation\n",
    "        w = [a,b,c1,c2]: estimnated weights\n",
    "        x = (n,2)-vector of known value positions\n",
    "        \n",
    "        bla\n",
    "        \"\"\"\n",
    "        val = w[0]*K_ZGx(xa - x[4]) + \\\n",
    "                w[1]*K_ZGy(xa - x[4]) + \\\n",
    "               w[2]*(K_Z(xa-x[0])-K_Z(xa-x[1])) + \\\n",
    "               w[3]*(K_Z(xa-x[2])-K_Z(xa-x[3]))\n",
    "        return val\n",
    "\n",
    "\n",
    "    def plot(self):\n",
    "        \"\"\"Plot points and interpolated field\"\"\"\n",
    "        # create points:\n",
    "        xx = np.arange(-.5,1.5,0.1)\n",
    "        yy = np.arange(-.5,1.5,0.1)\n",
    "        XX,YY = np.meshgrid(xx,yy)\n",
    "        scalar_field_no_drift = np.empty((len(xx), len(yy)))\n",
    "        for i,xxx in enumerate(xx):\n",
    "            for j,yyy in enumerate(yy):\n",
    "                scalar_field_no_drift[i,j] = self.interp_val([xxx,yyy], self.w, x)\n",
    "                \n",
    "        # create plot\n",
    "        plt.contour(XX, YY, scalar_field_no_drift.T, 20)\n",
    "        plt.colorbar()\n",
    "        plt.plot(self.points[1][:,0], self.points[1][:,1], 'ro')\n",
    "        plt.plot(self.points[2][:,0], self.points[2][:,1], 'bo')\n",
    "        plt.plot(self.ori['pos'][0], self.ori['pos'][1], 'go')"
   ]
  },
  {
   "cell_type": "code",
   "execution_count": null,
   "metadata": {
    "ExecuteTime": {
     "end_time": "2020-02-18T14:29:03.566315Z",
     "start_time": "2020-02-18T14:29:02.078Z"
    }
   },
   "outputs": [],
   "source": [
    "geomodel.K"
   ]
  },
  {
   "cell_type": "code",
   "execution_count": null,
   "metadata": {
    "ExecuteTime": {
     "end_time": "2020-02-18T14:29:03.567162Z",
     "start_time": "2020-02-18T14:29:02.080Z"
    }
   },
   "outputs": [],
   "source": [
    "points = {1 : np.array([x1, x2]), 2: np.array([x3, x4])}\n",
    "ori = {'pos' : x5, 'grads' : [1., 1.]}\n",
    "geomodel = GeomodelCokriging()"
   ]
  },
  {
   "cell_type": "code",
   "execution_count": null,
   "metadata": {
    "ExecuteTime": {
     "end_time": "2020-02-18T14:29:03.568728Z",
     "start_time": "2020-02-18T14:29:02.082Z"
    }
   },
   "outputs": [],
   "source": [
    "geomodel.set_points(points)\n",
    "geomodel.set_ori(ori)"
   ]
  },
  {
   "cell_type": "code",
   "execution_count": null,
   "metadata": {
    "ExecuteTime": {
     "end_time": "2020-02-18T14:29:03.570127Z",
     "start_time": "2020-02-18T14:29:02.084Z"
    }
   },
   "outputs": [],
   "source": [
    "geomodel.solve()"
   ]
  },
  {
   "cell_type": "code",
   "execution_count": null,
   "metadata": {
    "ExecuteTime": {
     "end_time": "2020-02-18T14:29:03.570929Z",
     "start_time": "2020-02-18T14:29:02.086Z"
    }
   },
   "outputs": [],
   "source": [
    "geomodel.plot()"
   ]
  },
  {
   "cell_type": "code",
   "execution_count": null,
   "metadata": {
    "ExecuteTime": {
     "end_time": "2020-02-18T14:29:03.571907Z",
     "start_time": "2020-02-18T14:29:02.088Z"
    }
   },
   "outputs": [],
   "source": [
    "help(geomodel.interp_val)"
   ]
  },
  {
   "cell_type": "markdown",
   "metadata": {},
   "source": [
    "Test different range values:"
   ]
  },
  {
   "cell_type": "code",
   "execution_count": null,
   "metadata": {
    "ExecuteTime": {
     "end_time": "2020-02-18T14:29:03.572812Z",
     "start_time": "2020-02-18T14:29:02.090Z"
    }
   },
   "outputs": [],
   "source": [
    "geomodel.a = 5.\n",
    "geomodel.solve()\n",
    "geomodel.plot()"
   ]
  },
  {
   "cell_type": "markdown",
   "metadata": {},
   "source": [
    "Interesting... the gradient seems to be influenced too much by the covariance function!"
   ]
  },
  {
   "cell_type": "code",
   "execution_count": null,
   "metadata": {
    "ExecuteTime": {
     "end_time": "2020-02-18T14:29:03.574214Z",
     "start_time": "2020-02-18T14:29:02.093Z"
    }
   },
   "outputs": [],
   "source": [
    "geomodel.K"
   ]
  },
  {
   "cell_type": "code",
   "execution_count": null,
   "metadata": {
    "ExecuteTime": {
     "end_time": "2020-02-18T14:29:03.575623Z",
     "start_time": "2020-02-18T14:29:02.095Z"
    },
    "scrolled": true
   },
   "outputs": [],
   "source": [
    "geomodel.K[0,0] = 1./3.\n",
    "geomodel.K[1,1] = 1./3."
   ]
  },
  {
   "cell_type": "code",
   "execution_count": null,
   "metadata": {
    "ExecuteTime": {
     "end_time": "2020-02-18T14:29:03.576975Z",
     "start_time": "2020-02-18T14:29:02.097Z"
    }
   },
   "outputs": [],
   "source": [
    "geomodel.solve()\n",
    "geomodel.plot()"
   ]
  },
  {
   "cell_type": "code",
   "execution_count": null,
   "metadata": {
    "ExecuteTime": {
     "end_time": "2020-02-18T14:29:03.577890Z",
     "start_time": "2020-02-18T14:29:02.098Z"
    }
   },
   "outputs": [],
   "source": [
    "geomodel.K"
   ]
  },
  {
   "cell_type": "markdown",
   "metadata": {},
   "source": [
    "## Debugging cokriging\n"
   ]
  },
  {
   "cell_type": "code",
   "execution_count": null,
   "metadata": {
    "ExecuteTime": {
     "end_time": "2020-02-18T14:29:03.578741Z",
     "start_time": "2020-02-18T14:29:02.101Z"
    }
   },
   "outputs": [],
   "source": [
    "points = {1 : np.array([x1, x2]), 2: np.array([x3, x4])}\n",
    "ori = {'pos' : x5, 'grads' : [10., 1.]}\n",
    "geomodel = GeomodelCokriging()\n",
    "geomodel.set_points(points)\n",
    "geomodel.set_ori(ori)\n",
    "geomodel.solve()\n",
    "geomodel.K = geomodel.K[:2,:2]\n",
    "geomodel.b = geomodel.b[:2]"
   ]
  },
  {
   "cell_type": "code",
   "execution_count": null,
   "metadata": {
    "ExecuteTime": {
     "end_time": "2020-02-18T14:29:03.579766Z",
     "start_time": "2020-02-18T14:29:02.102Z"
    }
   },
   "outputs": [],
   "source": [
    "geomodel.w = np.linalg.solve(geomodel.K, geomodel.b)"
   ]
  },
  {
   "cell_type": "code",
   "execution_count": null,
   "metadata": {
    "ExecuteTime": {
     "end_time": "2020-02-18T14:29:03.580858Z",
     "start_time": "2020-02-18T14:29:02.104Z"
    }
   },
   "outputs": [],
   "source": [
    "geomodel.plot()"
   ]
  },
  {
   "cell_type": "code",
   "execution_count": null,
   "metadata": {
    "ExecuteTime": {
     "end_time": "2020-02-18T14:29:03.581874Z",
     "start_time": "2020-02-18T14:29:02.106Z"
    }
   },
   "outputs": [],
   "source": [
    "geomodel.w"
   ]
  },
  {
   "cell_type": "code",
   "execution_count": null,
   "metadata": {
    "ExecuteTime": {
     "end_time": "2020-02-18T14:29:03.582908Z",
     "start_time": "2020-02-18T14:29:02.108Z"
    }
   },
   "outputs": [],
   "source": [
    "rs = np.arange(0.01,3,0.01)\n",
    "hs = np.vstack([rs, np.zeros_like(rs)]).transpose()\n",
    "plt.plot(rs, [K_Gx(h) for h in hs], label='K_Gx')\n",
    "plt.plot(rs, [K_Gy(h) for h in hs], label='K_Gy')\n",
    "plt.legend()"
   ]
  },
  {
   "cell_type": "code",
   "execution_count": null,
   "metadata": {},
   "outputs": [],
   "source": []
  }
 ],
 "metadata": {
  "hide_code_all_hidden": false,
  "kernelspec": {
   "display_name": "Python 3",
   "language": "python",
   "name": "python3"
  },
  "language_info": {
   "codemirror_mode": {
    "name": "ipython",
    "version": 3
   },
   "file_extension": ".py",
   "mimetype": "text/x-python",
   "name": "python",
   "nbconvert_exporter": "python",
   "pygments_lexer": "ipython3",
   "version": "3.7.1"
  },
  "varInspector": {
   "cols": {
    "lenName": 16,
    "lenType": 16,
    "lenVar": 40
   },
   "kernels_config": {
    "python": {
     "delete_cmd_postfix": "",
     "delete_cmd_prefix": "del ",
     "library": "var_list.py",
     "varRefreshCmd": "print(var_dic_list())"
    },
    "r": {
     "delete_cmd_postfix": ") ",
     "delete_cmd_prefix": "rm(",
     "library": "var_list.r",
     "varRefreshCmd": "cat(var_dic_list()) "
    }
   },
   "types_to_exclude": [
    "module",
    "function",
    "builtin_function_or_method",
    "instance",
    "_Feature"
   ],
   "window_display": false
  }
 },
 "nbformat": 4,
 "nbformat_minor": 2
}
