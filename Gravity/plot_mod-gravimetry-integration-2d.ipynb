{
 "cells": [
  {
   "cell_type": "code",
   "execution_count": 1,
   "metadata": {
    "ExecuteTime": {
     "end_time": "2019-12-04T10:21:26.109954Z",
     "start_time": "2019-12-04T10:21:25.834052Z"
    }
   },
   "outputs": [],
   "source": [
    "# Checkout www.pygimli.org for more examples\n",
    "%matplotlib inline"
   ]
  },
  {
   "cell_type": "markdown",
   "metadata": {},
   "source": [
    "\n",
    "Gravimetry in 2D - Part II\n",
    "--------------------------\n",
    "\n",
    "Simple gravimetric field solution with Integration after :cite:`WonBev1987`.\n",
    "\n",
    "\n",
    "\n"
   ]
  },
  {
   "cell_type": "code",
   "execution_count": 10,
   "metadata": {
    "ExecuteTime": {
     "end_time": "2019-12-04T11:07:24.588393Z",
     "start_time": "2019-12-04T11:07:24.585417Z"
    }
   },
   "outputs": [],
   "source": [
    "import sys, os\n",
    "sys.path.append(\"/Users/zhouji/Documents/repository1/src/gimli/gimli/python\")"
   ]
  },
  {
   "cell_type": "code",
   "execution_count": 11,
   "metadata": {
    "ExecuteTime": {
     "end_time": "2019-12-04T11:07:24.928254Z",
     "start_time": "2019-12-04T11:07:24.914677Z"
    }
   },
   "outputs": [
    {
     "name": "stdout",
     "output_type": "stream",
     "text": [
      "No module named 'pygimli.core._pygimli_'\n",
      "Traceback (most recent call last):\n",
      "  File \"/Users/zhouji/Documents/repository1/src/gimli/gimli/python/pygimli/core/__init__.py\", line 22, in <module>\n",
      "    from ._pygimli_ import *\n",
      "ModuleNotFoundError: No module named 'pygimli.core._pygimli_'\n"
     ]
    },
    {
     "name": "stderr",
     "output_type": "stream",
     "text": [
      "ERROR: cannot import the library '_pygimli_'.\n"
     ]
    },
    {
     "ename": "AttributeError",
     "evalue": "'NoneType' object has no attribute 'setDebug'",
     "output_type": "error",
     "traceback": [
      "\u001b[0;31m---------------------------------------------------------------------------\u001b[0m",
      "\u001b[0;31mAttributeError\u001b[0m                            Traceback (most recent call last)",
      "\u001b[0;32m<ipython-input-11-b2264523dfc1>\u001b[0m in \u001b[0;36m<module>\u001b[0;34m\u001b[0m\n\u001b[0;32m----> 1\u001b[0;31m \u001b[0;32mimport\u001b[0m \u001b[0mpygimli\u001b[0m \u001b[0;32mas\u001b[0m \u001b[0mpg\u001b[0m\u001b[0;34m\u001b[0m\u001b[0;34m\u001b[0m\u001b[0m\n\u001b[0m",
      "\u001b[0;32m~/Documents/repository1/src/gimli/gimli/python/pygimli/__init__.py\u001b[0m in \u001b[0;36m<module>\u001b[0;34m\u001b[0m\n\u001b[1;32m     47\u001b[0m         \u001b[0;32mpass\u001b[0m\u001b[0;34m\u001b[0m\u001b[0;34m\u001b[0m\u001b[0m\n\u001b[1;32m     48\u001b[0m \u001b[0;31m################################################################################\u001b[0m\u001b[0;34m\u001b[0m\u001b[0;34m\u001b[0m\u001b[0;34m\u001b[0m\u001b[0m\n\u001b[0;32m---> 49\u001b[0;31m \u001b[0;32mfrom\u001b[0m \u001b[0;34m.\u001b[0m \u001b[0;32mimport\u001b[0m \u001b[0mcore\u001b[0m\u001b[0;34m\u001b[0m\u001b[0;34m\u001b[0m\u001b[0m\n\u001b[0m\u001b[1;32m     50\u001b[0m \u001b[0;32mfrom\u001b[0m \u001b[0;34m.\u001b[0m\u001b[0m_version\u001b[0m \u001b[0;32mimport\u001b[0m \u001b[0mget_versions\u001b[0m\u001b[0;34m\u001b[0m\u001b[0;34m\u001b[0m\u001b[0m\n\u001b[1;32m     51\u001b[0m \u001b[0;32mfrom\u001b[0m \u001b[0;34m.\u001b[0m\u001b[0m_logger\u001b[0m \u001b[0;32mimport\u001b[0m \u001b[0m_\u001b[0m\u001b[0;34m\u001b[0m\u001b[0;34m\u001b[0m\u001b[0m\n",
      "\u001b[0;32m~/Documents/repository1/src/gimli/gimli/python/pygimli/core/__init__.py\u001b[0m in \u001b[0;36m<module>\u001b[0;34m\u001b[0m\n\u001b[1;32m     30\u001b[0m \u001b[0;31m#######################################\u001b[0m\u001b[0;34m\u001b[0m\u001b[0;34m\u001b[0m\u001b[0;34m\u001b[0m\u001b[0m\n\u001b[1;32m     31\u001b[0m \u001b[0;34m\u001b[0m\u001b[0m\n\u001b[0;32m---> 32\u001b[0;31m \u001b[0;32mfrom\u001b[0m \u001b[0;34m.\u001b[0m\u001b[0;34m.\u001b[0m \u001b[0m_logger\u001b[0m \u001b[0;32mimport\u001b[0m \u001b[0;34m*\u001b[0m\u001b[0;34m\u001b[0m\u001b[0;34m\u001b[0m\u001b[0m\n\u001b[0m\u001b[1;32m     33\u001b[0m \u001b[0;34m\u001b[0m\u001b[0m\n\u001b[1;32m     34\u001b[0m \u001b[0m_pygimli_\u001b[0m\u001b[0;34m.\u001b[0m\u001b[0mload\u001b[0m \u001b[0;34m=\u001b[0m \u001b[0;32mNone\u001b[0m\u001b[0;34m\u001b[0m\u001b[0;34m\u001b[0m\u001b[0m\n",
      "\u001b[0;32m~/Documents/repository1/src/gimli/gimli/python/pygimli/_logger.py\u001b[0m in \u001b[0;36m<module>\u001b[0;34m\u001b[0m\n\u001b[1;32m     89\u001b[0m     \u001b[0msetDebug\u001b[0m\u001b[0;34m(\u001b[0m\u001b[0;32mTrue\u001b[0m\u001b[0;34m)\u001b[0m\u001b[0;34m\u001b[0m\u001b[0;34m\u001b[0m\u001b[0m\n\u001b[1;32m     90\u001b[0m \u001b[0;32melse\u001b[0m\u001b[0;34m:\u001b[0m\u001b[0;34m\u001b[0m\u001b[0;34m\u001b[0m\u001b[0m\n\u001b[0;32m---> 91\u001b[0;31m     \u001b[0msetDebug\u001b[0m\u001b[0;34m(\u001b[0m\u001b[0;32mFalse\u001b[0m\u001b[0;34m)\u001b[0m\u001b[0;34m\u001b[0m\u001b[0;34m\u001b[0m\u001b[0m\n\u001b[0m\u001b[1;32m     92\u001b[0m \u001b[0;34m\u001b[0m\u001b[0m\n\u001b[1;32m     93\u001b[0m \u001b[0;32mdef\u001b[0m \u001b[0minfo\u001b[0m\u001b[0;34m(\u001b[0m\u001b[0;34m*\u001b[0m\u001b[0margs\u001b[0m\u001b[0;34m)\u001b[0m\u001b[0;34m:\u001b[0m\u001b[0;34m\u001b[0m\u001b[0;34m\u001b[0m\u001b[0m\n",
      "\u001b[0;32m~/Documents/repository1/src/gimli/gimli/python/pygimli/_logger.py\u001b[0m in \u001b[0;36msetDebug\u001b[0;34m(d)\u001b[0m\n\u001b[1;32m     74\u001b[0m         \u001b[0mlogger\u001b[0m\u001b[0;34m.\u001b[0m\u001b[0mdebug\u001b[0m\u001b[0;34m(\u001b[0m\u001b[0;34m\"Set debug mode: on\"\u001b[0m\u001b[0;34m)\u001b[0m\u001b[0;34m\u001b[0m\u001b[0;34m\u001b[0m\u001b[0m\n\u001b[1;32m     75\u001b[0m     \u001b[0;32melse\u001b[0m\u001b[0;34m:\u001b[0m\u001b[0;34m\u001b[0m\u001b[0;34m\u001b[0m\u001b[0m\n\u001b[0;32m---> 76\u001b[0;31m         \u001b[0mcore\u001b[0m\u001b[0;34m.\u001b[0m\u001b[0m_pygimli_\u001b[0m\u001b[0;34m.\u001b[0m\u001b[0msetDebug\u001b[0m\u001b[0;34m(\u001b[0m\u001b[0;32mFalse\u001b[0m\u001b[0;34m)\u001b[0m\u001b[0;34m\u001b[0m\u001b[0;34m\u001b[0m\u001b[0m\n\u001b[0m\u001b[1;32m     77\u001b[0m         \u001b[0mlevel\u001b[0m \u001b[0;34m=\u001b[0m \u001b[0mlogging\u001b[0m\u001b[0;34m.\u001b[0m\u001b[0mINFO\u001b[0m\u001b[0;34m\u001b[0m\u001b[0;34m\u001b[0m\u001b[0m\n\u001b[1;32m     78\u001b[0m         \u001b[0mlogger\u001b[0m\u001b[0;34m.\u001b[0m\u001b[0mdebug\u001b[0m\u001b[0;34m(\u001b[0m\u001b[0;34m\"Set debug mode: off\"\u001b[0m\u001b[0;34m)\u001b[0m\u001b[0;34m\u001b[0m\u001b[0;34m\u001b[0m\u001b[0m\n",
      "\u001b[0;31mAttributeError\u001b[0m: 'NoneType' object has no attribute 'setDebug'"
     ]
    }
   ],
   "source": [
    "import pygimli as pg"
   ]
  },
  {
   "cell_type": "code",
   "execution_count": null,
   "metadata": {},
   "outputs": [],
   "source": [
    "import numpy as np\n",
    "import pygimli as pg\n",
    "from pygimli.meshtools import createCircle\n",
    "from pygimli.physics.gravimetry import solveGravimetry\n",
    "from pygimli.physics.gravimetry import gradUCylinderHoriz, gradGZCylinderHoriz\n",
    "from pygimli.physics.gravimetry import gradUHalfPlateHoriz\n",
    "from pygimli.physics.gravimetry import gradGZHalfPlateHoriz\n",
    "\n",
    "radius = 2.\n",
    "depth = 5.\n",
    "rho = 1000.0\n",
    "\n",
    "x = np.arange(-20, 30, 1)\n",
    "pnts = np.zeros((len(x), 2))\n",
    "pnts[:, 0] = x\n",
    "pos = [0, -depth]\n",
    "\n",
    "\n",
    "def plot(x, a1, ga, gza, a2, g, gz):\n",
    "    a1.plot(x, ga[:, 0],  label=r'Analytical $\\frac{\\partial u}{\\partial x}$')\n",
    "    a1.plot(x, ga[:, 1],  label=r'Analytical $\\frac{\\partial u}{\\partial z}$')\n",
    "\n",
    "    a1.plot(x, g[:, 0], label=r'Won & Bevis: $\\frac{\\partial u}{\\partial x}$',\n",
    "            marker='o', linewidth=0)\n",
    "    a1.plot(x, g[:, 2], label=r'Won & Bevis: $\\frac{\\partial u}{\\partial z}$',\n",
    "            marker='o', linewidth=0)\n",
    "\n",
    "    a2.plot(x, gza[:, 0],\n",
    "            label=r'Analytical $\\frac{\\partial^2 u}{\\partial z,x}$')\n",
    "    a2.plot(x, gza[:, 1],\n",
    "            label=r'Analytical $\\frac{\\partial^2 u}{\\partial z,z}$')\n",
    "\n",
    "    a2.plot(x, gz[:, 0], marker='o', linestyle='',\n",
    "            label=r'Won & Bevis: $\\frac{\\partial^2 u}{\\partial z,x}$')\n",
    "    a2.plot(x, gz[:, 2], marker='o', linestyle='',\n",
    "            label=r'Won & Bevis: $\\frac{\\partial^2 u}{\\partial z,z}$')\n",
    "    a1.set_xlabel('$x$-coordinate [m]')\n",
    "    a1.set_ylabel(r'$\\frac{\\partial u}{\\partial (x,z)}$ [mGal]')\n",
    "    a1.legend(loc='best')\n",
    "\n",
    "    a2.set_xlabel('$x$-coordinate [m]')\n",
    "    a2.legend(loc='best')\n",
    "\n",
    "\n",
    "fig = pg.plt.figure(figsize=(8,8))\n",
    "ax = [fig.add_subplot(2, 2, i) for i in range(1, 5)]\n",
    "\n",
    "# Horizontal cylinder\n",
    "\n",
    "ga = gradUCylinderHoriz(pnts, radius, rho, pos=pos)\n",
    "gza = gradGZCylinderHoriz(pnts, radius, rho, pos=pos)\n",
    "\n",
    "circ = createCircle([0, -depth], radius=radius, marker=2, area=0.1,\n",
    "                    segments=32)\n",
    "g, gz = solveGravimetry(circ, rho, pnts, complete=True)\n",
    "\n",
    "plot(x, ax[0], ga, gza, ax[1], g, gz)\n",
    "\n",
    "# Half plate\n",
    "\n",
    "thickness = 0.1\n",
    "\n",
    "# mesh = pg.createGrid(x=[-2,2], y=[-2,2], z=[-3,-7])\n",
    "mesh = pg.createGrid(x=np.linspace(0, 5000, 2),\n",
    "                     y=[-depth-thickness/2.0, -depth+thickness/2.0])\n",
    "\n",
    "ga = gradUHalfPlateHoriz(pnts, thickness, rho, pos=[0, -depth])\n",
    "gza = gradGZHalfPlateHoriz(pnts, thickness, rho, pos=[0, -depth])\n",
    "g, gz = solveGravimetry(mesh, rho, pnts, complete=True)\n",
    "\n",
    "plot(x, ax[2], ga, gza, ax[3], g, gz)"
   ]
  }
 ],
 "metadata": {
  "kernelspec": {
   "display_name": "Python 3",
   "language": "python",
   "name": "python3"
  },
  "language_info": {
   "codemirror_mode": {
    "name": "ipython",
    "version": 3
   },
   "file_extension": ".py",
   "mimetype": "text/x-python",
   "name": "python",
   "nbconvert_exporter": "python",
   "pygments_lexer": "ipython3",
   "version": "3.7.3"
  },
  "varInspector": {
   "cols": {
    "lenName": 16,
    "lenType": 16,
    "lenVar": 40
   },
   "kernels_config": {
    "python": {
     "delete_cmd_postfix": "",
     "delete_cmd_prefix": "del ",
     "library": "var_list.py",
     "varRefreshCmd": "print(var_dic_list())"
    },
    "r": {
     "delete_cmd_postfix": ") ",
     "delete_cmd_prefix": "rm(",
     "library": "var_list.r",
     "varRefreshCmd": "cat(var_dic_list()) "
    }
   },
   "types_to_exclude": [
    "module",
    "function",
    "builtin_function_or_method",
    "instance",
    "_Feature"
   ],
   "window_display": false
  }
 },
 "nbformat": 4,
 "nbformat_minor": 1
}
