{
 "cells": [
  {
   "cell_type": "code",
   "execution_count": 101,
   "metadata": {
    "ExecuteTime": {
     "end_time": "2019-12-16T10:30:40.576983Z",
     "start_time": "2019-12-16T10:30:40.571666Z"
    }
   },
   "outputs": [],
   "source": [
    "%matplotlib inline\n",
    "import matplotlib.pyplot as plt\n",
    "import numpy as np\n",
    "import tensorflow as tf\n",
    "import scipy\n",
    "from scipy.stats import norm\n",
    "import tensorflow_probability as tfp\n",
    "import seaborn as sns\n",
    "import pandas as pd\n",
    "import corner \n",
    "tfd=tfp.distributions"
   ]
  },
  {
   "cell_type": "markdown",
   "metadata": {},
   "source": [
    "Calculate gravity of polygon\n",
    "\n",
    "\" Computing the gravitaional and magnetic anomalies due to a polygon: Algorithems and Fortran subroutines' Won 1986\n"
   ]
  },
  {
   "cell_type": "code",
   "execution_count": 102,
   "metadata": {
    "ExecuteTime": {
     "end_time": "2019-12-16T10:30:40.589920Z",
     "start_time": "2019-12-16T10:30:40.578786Z"
    }
   },
   "outputs": [],
   "source": [
    "def A(x,z,p1,p2):\n",
    "    numerator = (x[p2]-x[p1])*(x[p1]*z[p2]-x[p2]*z[p1])\n",
    "    denominator = (x[p2]-x[p1])**2 + (z[p2]-z[p1])**2\n",
    "    return (numerator/denominator)\n",
    "\n",
    "def B(x,z,p1,p2):\n",
    "    return ((z[p1]-z[p2])/(x[p2]-x[p1]))\n",
    "\n",
    "def theta(x,z, p):\n",
    "    if x[p] != 0 :\n",
    "        if(np.arctan(z[p]/x[p]))<0:\n",
    "            return(np.arctan(z[p]/x[p])+scipy.pi)\n",
    "        else:\n",
    "            return(np.arctan(z[p]/x[p]))\n",
    "    if x[p] == 0 and z[p]!=0 :\n",
    "        return(scipy.pi/2)\n",
    "\n",
    "def r(x,z,p):\n",
    "    return(np.sqrt(x[p]**2+z[p]**2))\n",
    "\n",
    "def Z(x,z,p1,p2):\n",
    "    \n",
    "    if x[p1] == z[p1]==0 or x[p2] == z[p2]==0:\n",
    "        return(0)\n",
    "    \n",
    "    if x[p1] == x[p2]:\n",
    "        return((x[p1]*np.log(r(x,z,p2)/r(x,z,p1))))\n",
    "    \n",
    "    theta1 = theta(x,z, p1)\n",
    "    theta2 = theta(x,z, p2)\n",
    "    \n",
    "    r1 = r(x,z,p1)\n",
    "    r2 = r(x,z,p2)\n",
    "    \n",
    "    #this is only needed when observation location across z\n",
    "#     if z[p1]*z[p2]<0:\n",
    "#         if x[p1]*z[p2]==x[p2]*z[p1]:\n",
    "#             return(0)\n",
    "#         if x[p1]*z[p2] < x[p2]*z[p1] and z[p2]>=0:\n",
    "#             theta1 += 2*scipy.pi\n",
    "#         if x[p1]*z[p2] > x[p2]*z[p1] and z[p1]>=0:\n",
    "#             theta2 += 2*scipy.pi\n",
    "    \n",
    "    _A = A(x,z,p1,p2)\n",
    "    _B = B(x,z,p1,p2)\n",
    "    \n",
    "    Z_result = _A*((theta1-theta2)+_B*np.log(r1/r2))\n",
    "    return(Z_result)"
   ]
  },
  {
   "cell_type": "markdown",
   "metadata": {},
   "source": [
    "Gravity at origin is calculated as $\\Delta g_{z}=2 G \\rho \\sum_{i=1}^{n} Z_{i}$\n",
    "(Won, 1987)"
   ]
  },
  {
   "cell_type": "code",
   "execution_count": 103,
   "metadata": {
    "ExecuteTime": {
     "end_time": "2019-12-16T10:30:40.596010Z",
     "start_time": "2019-12-16T10:30:40.591806Z"
    }
   },
   "outputs": [],
   "source": [
    "def g(data,loc=(0,0)):\n",
    "    \n",
    "    G = 6.67 * 10**(-11) # gravitational constant  m^3 kg ^-1 s^-2\n",
    "    rho = 1000        # density difference   kg/m^3\n",
    "    \n",
    "    _data = data - loc #Calculate any point refer to the origin\n",
    "\n",
    "    _x = _data[:,0]\n",
    "    _z = _data[:,1]\n",
    "\n",
    "    Z_sum = 0\n",
    "    \n",
    "    for i in range(_data.shape[0]-1):\n",
    "        Z_sum += Z(_x,_z,i,i+1)\n",
    "\n",
    "    Z_sum += Z(_x,_z,-1,0)\n",
    "\n",
    "    g = 2*G*rho * Z_sum\n",
    "    \n",
    "    return(g)"
   ]
  },
  {
   "cell_type": "code",
   "execution_count": 104,
   "metadata": {
    "ExecuteTime": {
     "end_time": "2019-12-16T10:30:40.607850Z",
     "start_time": "2019-12-16T10:30:40.597778Z"
    }
   },
   "outputs": [],
   "source": [
    "def draw(points,ax = None,R = 100):\n",
    "    if ax == None:\n",
    "        f,ax=plt.subplots()\n",
    "    x = points[:,0]\n",
    "    z = points[:,1]\n",
    "    for i in range(points.shape[0]):\n",
    "        ax.plot(x[i:i+2],z[i:i+2],'r-')\n",
    "    x_ = np.linspace(-R,R,10)\n",
    "    ax.plot(x_,np.zeros(np.shape(x_)),lw = 0.5)# draw a reference line, surface\n",
    "    ax.plot([x[0],x[-1]],[z[0],z[-1]],'r-')\n",
    "    ax.set_ylim(min(points[:,1])-10,5)\n",
    "    ax.set_xlim(-R,R)\n",
    "    \n",
    "def grav_calculate(points_,x=None, R=70,ax = None,style = None):\n",
    "    if ax is None:\n",
    "        f,ax=plt.subplots()\n",
    "    if x is None:\n",
    "        x = np.linspace(-R,R,501)\n",
    "    y = np.zeros(np.shape(x))\n",
    "    obv = np.vstack((x,y)).T\n",
    "    gravity = []\n",
    "    for i in obv:\n",
    "        gravity.append(-g(points_,i))\n",
    "    if style is None:\n",
    "        style = '-'\n",
    "    ax.plot(x,gravity,style)\n",
    "    return gravity\n",
    "    \n",
    "def plot_true(points,R = None,ax = None):\n",
    "    if R is None:\n",
    "        R =max(points[:,0])\n",
    "    if ax is None:\n",
    "        f , ax = plt.subplots(2 , sharex = True, figsize = (7,10))\n",
    "        \n",
    "    grav_calculate(points, R=max(points[:,0]),ax = ax[0])\n",
    "    draw(points,ax = ax[1],R=R)\n",
    "    \n",
    "    "
   ]
  },
  {
   "cell_type": "markdown",
   "metadata": {},
   "source": [
    "<b> \"note: if z is positive downward and x is positive to the right, then the polygen vertices must be specified clock-wise. \" --Won 1987"
   ]
  },
  {
   "cell_type": "code",
   "execution_count": 105,
   "metadata": {
    "ExecuteTime": {
     "end_time": "2019-12-16T10:30:40.612435Z",
     "start_time": "2019-12-16T10:30:40.609374Z"
    }
   },
   "outputs": [],
   "source": [
    "#define a pseudo boundary condition and corner points\n",
    "corners=np.array([[-200,-50],# bottom left coner\n",
    "              [200,-50], \n",
    "              [200,-3], # bottom right coner\n",
    "              [70, -3], # top right coner\n",
    "              [-70,-3],# top left coner\n",
    "              [-200,-3]])"
   ]
  },
  {
   "cell_type": "code",
   "execution_count": 106,
   "metadata": {
    "ExecuteTime": {
     "end_time": "2019-12-16T10:30:40.616932Z",
     "start_time": "2019-12-16T10:30:40.613895Z"
    }
   },
   "outputs": [
    {
     "data": {
      "text/plain": [
       "(6, 2)"
      ]
     },
     "execution_count": 106,
     "metadata": {},
     "output_type": "execute_result"
    }
   ],
   "source": [
    "corners.shape"
   ]
  },
  {
   "cell_type": "markdown",
   "metadata": {},
   "source": [
    "set up the problem"
   ]
  },
  {
   "cell_type": "code",
   "execution_count": 107,
   "metadata": {
    "ExecuteTime": {
     "end_time": "2019-12-16T10:30:40.623228Z",
     "start_time": "2019-12-16T10:30:40.618667Z"
    }
   },
   "outputs": [],
   "source": [
    "N = 2\n",
    "points = np.empty((N+6,2))\n",
    "\n",
    "for i in range(corners.shape[0]-2):\n",
    "    points[i] = corners[i]\n",
    "    \n",
    "points[-2]=corners[-2]\n",
    "points[-1]=corners[-1]\n",
    "\n",
    "np.random.seed(113)\n",
    "\n",
    "x = np.linspace(-70,70,N+2)\n",
    "\n",
    "y = np.random.uniform(min(corners[:,1]),max(corners[:,1]),N)"
   ]
  },
  {
   "cell_type": "code",
   "execution_count": 108,
   "metadata": {
    "ExecuteTime": {
     "end_time": "2019-12-16T10:30:40.628543Z",
     "start_time": "2019-12-16T10:30:40.625613Z"
    }
   },
   "outputs": [],
   "source": [
    "for i in range(N):\n",
    "    points[i+4][1] = y[i]\n",
    "for i in range(N):\n",
    "    points[i+4][0] = x[-i-2]"
   ]
  },
  {
   "cell_type": "code",
   "execution_count": 109,
   "metadata": {
    "ExecuteTime": {
     "end_time": "2019-12-16T10:30:40.632770Z",
     "start_time": "2019-12-16T10:30:40.630363Z"
    }
   },
   "outputs": [],
   "source": [
    "import copy\n",
    "points_copy = copy.deepcopy(points)"
   ]
  },
  {
   "cell_type": "code",
   "execution_count": 110,
   "metadata": {
    "ExecuteTime": {
     "end_time": "2019-12-16T10:30:41.071303Z",
     "start_time": "2019-12-16T10:30:40.634268Z"
    }
   },
   "outputs": [
    {
     "data": {
      "image/png": "[encoded data removed]",
      "text/plain": [
       "<Figure size 504x720 with 2 Axes>"
      ]
     },
     "metadata": {
      "needs_background": "light"
     },
     "output_type": "display_data"
    }
   ],
   "source": [
    "plot_true(points,70)"
   ]
  },
  {
   "cell_type": "code",
   "execution_count": 111,
   "metadata": {
    "ExecuteTime": {
     "end_time": "2019-12-16T10:30:41.516638Z",
     "start_time": "2019-12-16T10:30:41.072974Z"
    }
   },
   "outputs": [
    {
     "data": {
      "image/png": "[encoded data removed]",
      "text/plain": [
       "<Figure size 504x720 with 2 Axes>"
      ]
     },
     "metadata": {
      "needs_background": "light"
     },
     "output_type": "display_data"
    }
   ],
   "source": [
    "x_obs = np.linspace(-70., 70., 11)\n",
    "x_obs = x_obs[1:-1]\n",
    "f,ax = plt.subplots(2,sharex = True,figsize = (7,10))\n",
    "plot_true(points,70,ax)\n",
    "obs_data = grav_calculate(points,x=x_obs,ax = ax[0],style='.')"
   ]
  },
  {
   "cell_type": "code",
   "execution_count": 112,
   "metadata": {
    "ExecuteTime": {
     "end_time": "2019-12-16T10:30:41.522979Z",
     "start_time": "2019-12-16T10:30:41.518394Z"
    }
   },
   "outputs": [],
   "source": [
    "noise = norm(0,0.0000005).rvs(len(obs_data))\n",
    "np.random.seed(seed=2334)\n",
    "grav_obs_withnoise = obs_data+noise"
   ]
  },
  {
   "cell_type": "markdown",
   "metadata": {},
   "source": [
    "9 observation points,10 parameters"
   ]
  },
  {
   "cell_type": "code",
   "execution_count": 113,
   "metadata": {
    "ExecuteTime": {
     "end_time": "2019-12-16T10:30:41.989951Z",
     "start_time": "2019-12-16T10:30:41.525172Z"
    }
   },
   "outputs": [
    {
     "data": {
      "text/plain": [
       "<matplotlib.collections.PathCollection at 0x1a3d510f28>"
      ]
     },
     "execution_count": 113,
     "metadata": {},
     "output_type": "execute_result"
    },
    {
     "data": {
      "image/png": "[encoded data removed]",
      "text/plain": [
       "<Figure size 504x720 with 2 Axes>"
      ]
     },
     "metadata": {
      "needs_background": "light"
     },
     "output_type": "display_data"
    }
   ],
   "source": [
    "f,ax = plt.subplots(2,sharex = True,figsize = (7,10))\n",
    "plot_true(points,70,ax)\n",
    "ax[0].scatter(x_obs,grav_obs_withnoise,color='firebrick')"
   ]
  },
  {
   "cell_type": "code",
   "execution_count": 114,
   "metadata": {
    "ExecuteTime": {
     "end_time": "2019-12-16T10:30:41.993914Z",
     "start_time": "2019-12-16T10:30:41.991420Z"
    }
   },
   "outputs": [],
   "source": [
    "dtype = tf.float32"
   ]
  },
  {
   "cell_type": "code",
   "execution_count": 115,
   "metadata": {
    "ExecuteTime": {
     "end_time": "2019-12-16T10:30:42.001757Z",
     "start_time": "2019-12-16T10:30:41.995841Z"
    }
   },
   "outputs": [],
   "source": [
    "obs_data = grav_calculate(points,x=x_obs,ax = ax[0],style='.')"
   ]
  },
  {
   "cell_type": "code",
   "execution_count": 116,
   "metadata": {
    "ExecuteTime": {
     "end_time": "2019-12-16T10:30:42.007640Z",
     "start_time": "2019-12-16T10:30:42.003506Z"
    }
   },
   "outputs": [],
   "source": [
    "def grav(base,ps):\n",
    "    \n",
    "    #base_points:2xN tensor contains x location\n",
    "    #ps: 1xN vector, elevation variate\n",
    "    \n",
    "    for i in range(N):\n",
    "        base[i+4][1] = ps[i]\n",
    "        \n",
    "    x_obv = np.linspace(-70., 70., 11)\n",
    "    y_obv = np.zeros(np.shape(x_obv))\n",
    "    obv = np.vstack((x_obv,y_obv)).T\n",
    "    \n",
    "    gravity = []\n",
    "    for i in obv[1:-1]:\n",
    "        gravity.append(-g(base,i))\n",
    "        \n",
    "    return gravity"
   ]
  },
  {
   "cell_type": "code",
   "execution_count": 117,
   "metadata": {
    "ExecuteTime": {
     "end_time": "2019-12-16T10:30:42.012268Z",
     "start_time": "2019-12-16T10:30:42.009078Z"
    }
   },
   "outputs": [
    {
     "data": {
      "text/plain": [
       "[1.1880256550560443e-05,\n",
       " 9.964237585555126e-06,\n",
       " 9.034594408626458e-06,\n",
       " 9.051625584356573e-06,\n",
       " 9.955897684227542e-06,\n",
       " 1.1628499747414972e-05,\n",
       " 1.3609159165646617e-05,\n",
       " 1.5046642406735163e-05,\n",
       " 1.612041217392557e-05]"
      ]
     },
     "execution_count": 117,
     "metadata": {},
     "output_type": "execute_result"
    }
   ],
   "source": [
    "obs_data"
   ]
  },
  {
   "cell_type": "code",
   "execution_count": 118,
   "metadata": {
    "ExecuteTime": {
     "end_time": "2019-12-16T10:30:42.154330Z",
     "start_time": "2019-12-16T10:30:42.013689Z"
    }
   },
   "outputs": [
    {
     "data": {
      "image/png": "[encoded data removed]",
      "text/plain": [
       "<Figure size 432x288 with 1 Axes>"
      ]
     },
     "metadata": {
      "needs_background": "light"
     },
     "output_type": "display_data"
    }
   ],
   "source": [
    "draw(points_copy,R=70)"
   ]
  },
  {
   "cell_type": "code",
   "execution_count": 119,
   "metadata": {
    "ExecuteTime": {
     "end_time": "2019-12-16T10:30:42.160193Z",
     "start_time": "2019-12-16T10:30:42.155964Z"
    }
   },
   "outputs": [],
   "source": [
    "# mu_prior = [-25,-20,-30,-25,-13,-13,-35,-35,-35,-30]\n",
    "mu_prior = [-30,-30]\n",
    "cov_prior = 50.*tf.eye(N)\n",
    "\n",
    "sig_e = 0.000001\n",
    "cov = sig_e**2*tf.eye(np.shape(obs_data)[0])"
   ]
  },
  {
   "cell_type": "code",
   "execution_count": 120,
   "metadata": {
    "ExecuteTime": {
     "end_time": "2019-12-16T10:30:42.165473Z",
     "start_time": "2019-12-16T10:30:42.161892Z"
    }
   },
   "outputs": [
    {
     "data": {
      "text/plain": [
       "1e-06"
      ]
     },
     "execution_count": 120,
     "metadata": {},
     "output_type": "execute_result"
    }
   ],
   "source": [
    "sig_e"
   ]
  },
  {
   "cell_type": "markdown",
   "metadata": {},
   "source": [
    "\\begin{equation}\n",
    "\\mathbf{e}=\\mathbf{d}-\\mathbf{G} \\mathbf{m}=\\mathbf{d}-\\mathbf{G} \\mathbf{A} \\boldsymbol{\\theta}\n",
    "\\end{equation}\n",
    "\\begin{equation}\n",
    "p(\\mathbf{d} | \\boldsymbol{\\theta}, \\mathscr{J})=\\frac{1}{\\left(2 \\pi \\bar{\\sigma}_{\\mathbf{e}}^{2}\\right)^{N / 2}} \\exp \\left(-\\frac{\\mathbf{e}^{\\mathrm{T}} \\mathbf{e}}{2 \\bar{\\sigma}_{\\mathbf{e}}^{2}}\\right)\n",
    "\\end{equation}"
   ]
  },
  {
   "cell_type": "code",
   "execution_count": 121,
   "metadata": {
    "ExecuteTime": {
     "end_time": "2019-12-16T10:30:42.170798Z",
     "start_time": "2019-12-16T10:30:42.167163Z"
    }
   },
   "outputs": [
    {
     "data": {
      "text/plain": [
       "<tf.Tensor: id=8566091, shape=(9,), dtype=float32, numpy=\n",
       "array([1.1880256e-05, 9.9642375e-06, 9.0345948e-06, 9.0516260e-06,\n",
       "       9.9558974e-06, 1.1628500e-05, 1.3609159e-05, 1.5046642e-05,\n",
       "       1.6120412e-05], dtype=float32)>"
      ]
     },
     "execution_count": 121,
     "metadata": {},
     "output_type": "execute_result"
    }
   ],
   "source": [
    "d = tf.convert_to_tensor(obs_data,dtype)\n",
    "d"
   ]
  },
  {
   "cell_type": "code",
   "execution_count": null,
   "metadata": {
    "ExecuteTime": {
     "end_time": "2019-12-13T16:30:11.854413Z",
     "start_time": "2019-12-13T16:30:11.851325Z"
    }
   },
   "outputs": [],
   "source": []
  },
  {
   "cell_type": "code",
   "execution_count": 122,
   "metadata": {
    "ExecuteTime": {
     "end_time": "2019-12-16T10:30:42.175973Z",
     "start_time": "2019-12-16T10:30:42.172103Z"
    }
   },
   "outputs": [],
   "source": [
    "def joint_log_prob(D,points_copy,ps):\n",
    "    \"\"\"\n",
    "    D: is the observation data\n",
    "    ps: is the variable point positions (N elements vector)\n",
    "    \"\"\"\n",
    "    # define random variables prior\n",
    "    mvn_prior = tfd.MultivariateNormalFullCovariance(\n",
    "            loc = mu_prior,\n",
    "            covariance_matrix= cov_prior)\n",
    "    # define likelihood\n",
    "    \n",
    "    Gm_ = grav(points_copy,ps)\n",
    "    Gm = tf.convert_to_tensor(Gm_,dtype)\n",
    "    \n",
    "    mvn_likelihood = tfd.MultivariateNormalFullCovariance(\n",
    "            loc = Gm,\n",
    "            covariance_matrix= cov)\n",
    "    \n",
    "    # return the posterior probability\n",
    "    return(mvn_prior.log_prob(ps)\n",
    "          +mvn_likelihood.log_prob(D))"
   ]
  },
  {
   "cell_type": "code",
   "execution_count": 123,
   "metadata": {
    "ExecuteTime": {
     "end_time": "2019-12-16T10:30:42.183429Z",
     "start_time": "2019-12-16T10:30:42.179430Z"
    }
   },
   "outputs": [
    {
     "data": {
      "text/plain": [
       "<tf.Tensor: id=8566090, shape=(9, 9), dtype=float32, numpy=\n",
       "array([[1.e-12, 0.e+00, 0.e+00, 0.e+00, 0.e+00, 0.e+00, 0.e+00, 0.e+00,\n",
       "        0.e+00],\n",
       "       [0.e+00, 1.e-12, 0.e+00, 0.e+00, 0.e+00, 0.e+00, 0.e+00, 0.e+00,\n",
       "        0.e+00],\n",
       "       [0.e+00, 0.e+00, 1.e-12, 0.e+00, 0.e+00, 0.e+00, 0.e+00, 0.e+00,\n",
       "        0.e+00],\n",
       "       [0.e+00, 0.e+00, 0.e+00, 1.e-12, 0.e+00, 0.e+00, 0.e+00, 0.e+00,\n",
       "        0.e+00],\n",
       "       [0.e+00, 0.e+00, 0.e+00, 0.e+00, 1.e-12, 0.e+00, 0.e+00, 0.e+00,\n",
       "        0.e+00],\n",
       "       [0.e+00, 0.e+00, 0.e+00, 0.e+00, 0.e+00, 1.e-12, 0.e+00, 0.e+00,\n",
       "        0.e+00],\n",
       "       [0.e+00, 0.e+00, 0.e+00, 0.e+00, 0.e+00, 0.e+00, 1.e-12, 0.e+00,\n",
       "        0.e+00],\n",
       "       [0.e+00, 0.e+00, 0.e+00, 0.e+00, 0.e+00, 0.e+00, 0.e+00, 1.e-12,\n",
       "        0.e+00],\n",
       "       [0.e+00, 0.e+00, 0.e+00, 0.e+00, 0.e+00, 0.e+00, 0.e+00, 0.e+00,\n",
       "        1.e-12]], dtype=float32)>"
      ]
     },
     "execution_count": 123,
     "metadata": {},
     "output_type": "execute_result"
    }
   ],
   "source": [
    "cov"
   ]
  },
  {
   "cell_type": "code",
   "execution_count": 124,
   "metadata": {
    "ExecuteTime": {
     "end_time": "2019-12-16T10:32:35.548649Z",
     "start_time": "2019-12-16T10:30:42.185578Z"
    }
   },
   "outputs": [
    {
     "name": "stderr",
     "output_type": "stream",
     "text": [
      "/Users/zhouji/.local/lib/python3.7/site-packages/tensorflow_probability/python/mcmc/sample.py:335: UserWarning: Tracing all kernel results by default is deprecated. Set the `trace_fn` argument to None (the future default value) or an explicit callback that traces the values you are interested in.\n",
      "  warnings.warn(\"Tracing all kernel results by default is deprecated. Set \"\n"
     ]
    }
   ],
   "source": [
    "num_results = 2000\n",
    "burnin = 5000\n",
    "\n",
    "initial_chain_state = [\n",
    "    -10 * tf.ones([N], dtype=tf.float32, name=\"init_t1\"),\n",
    "]\n",
    "\n",
    "unnormalized_posterior_log_prob = lambda *args: joint_log_prob(obs_data,points_copy,*args)\n",
    "\n",
    "samples, kernel_results = tfp.mcmc.sample_chain(\n",
    "    num_results=num_results,\n",
    "    current_state=initial_chain_state,\n",
    "    kernel=tfp.mcmc.RandomWalkMetropolis(\n",
    "        target_log_prob_fn=unnormalized_posterior_log_prob),\n",
    "    num_burnin_steps=burnin,\n",
    "    num_steps_between_results=1,  # Thinning.\n",
    "    parallel_iterations=1)\n",
    "samples = tf.stack(samples, axis=-1)\n",
    "accepted = kernel_results.is_accepted\n",
    "\n",
    "samples = samples.numpy()\n",
    "accepted = accepted.numpy()\n"
   ]
  },
  {
   "cell_type": "code",
   "execution_count": 125,
   "metadata": {
    "ExecuteTime": {
     "end_time": "2019-12-16T10:32:35.553076Z",
     "start_time": "2019-12-16T10:32:35.550134Z"
    }
   },
   "outputs": [],
   "source": [
    "accept_index = np.where(accepted==True)\n",
    "accepted_samples = samples[accept_index]"
   ]
  },
  {
   "cell_type": "code",
   "execution_count": 126,
   "metadata": {
    "ExecuteTime": {
     "end_time": "2019-12-16T10:32:35.713782Z",
     "start_time": "2019-12-16T10:32:35.555121Z"
    }
   },
   "outputs": [
    {
     "data": {
      "text/plain": [
       "[<matplotlib.lines.Line2D at 0x1a443866a0>,\n",
       " <matplotlib.lines.Line2D at 0x1a44386208>]"
      ]
     },
     "execution_count": 126,
     "metadata": {},
     "output_type": "execute_result"
    },
    {
     "data": {
      "image/png": "[encoded data removed]",
      "text/plain": [
       "<Figure size 432x288 with 1 Axes>"
      ]
     },
     "metadata": {
      "needs_background": "light"
     },
     "output_type": "display_data"
    }
   ],
   "source": [
    "plt.plot(accepted_samples[:,0:4,0])"
   ]
  },
  {
   "cell_type": "code",
   "execution_count": 127,
   "metadata": {
    "ExecuteTime": {
     "end_time": "2019-12-16T10:32:35.719215Z",
     "start_time": "2019-12-16T10:32:35.715715Z"
    }
   },
   "outputs": [
    {
     "data": {
      "text/plain": [
       "(1594, 2)"
      ]
     },
     "execution_count": 127,
     "metadata": {},
     "output_type": "execute_result"
    }
   ],
   "source": [
    "accepted_samples[:,:,0].shape"
   ]
  },
  {
   "cell_type": "code",
   "execution_count": 128,
   "metadata": {
    "ExecuteTime": {
     "end_time": "2019-12-16T10:32:35.965944Z",
     "start_time": "2019-12-16T10:32:35.721027Z"
    }
   },
   "outputs": [
    {
     "data": {
      "image/png": "[encoded data removed]",
      "text/plain": [
       "<Figure size 396x396 with 4 Axes>"
      ]
     },
     "metadata": {
      "needs_background": "light"
     },
     "output_type": "display_data"
    }
   ],
   "source": [
    "figure = corner.corner(accepted_samples[:,0:4,0])"
   ]
  },
  {
   "cell_type": "markdown",
   "metadata": {
    "ExecuteTime": {
     "end_time": "2019-12-12T13:14:11.211930Z",
     "start_time": "2019-12-12T13:14:11.207001Z"
    }
   },
   "source": [
    "TO DO:\n",
    "1.  add a entropy plotting function\n",
    "2.  compare with prior info and without\n",
    "3.  Hessian MCMC"
   ]
  },
  {
   "cell_type": "code",
   "execution_count": 129,
   "metadata": {
    "ExecuteTime": {
     "end_time": "2019-12-16T10:32:35.975145Z",
     "start_time": "2019-12-16T10:32:35.967756Z"
    }
   },
   "outputs": [],
   "source": [
    "def draw_MCMC(base,samples,ax = None,R = 70):\n",
    "    if ax == None:\n",
    "        f,ax=plt.subplots()\n",
    "    x = base[:,0]\n",
    "    z = base[:,1]\n",
    "    for i in range(base.shape[0]):\n",
    "        ax.plot(x[i:i+2],z[i:i+2],'k-')\n",
    "    x_ = np.linspace(-R,R,N)\n",
    "    for ps in samples:\n",
    "        for j in range(N):\n",
    "            base[j+4][1] = ps[j]\n",
    "        for i in range(3,base.shape[0]-1):\n",
    "            ax.plot(base[:,0][i:i+2],base[:,1][i:i+2],'r-',alpha = 0.01)\n",
    "    ax.plot(x_,np.zeros(np.shape(x_)),lw = 0.5)# draw a reference line, surface\n",
    "    ax.plot([x[0],x[-1]],[z[0],z[-1]],'k-')\n",
    "    ax.set_ylim(min(base[:,1])-10,5)\n",
    "    ax.set_xlim(-R,R)"
   ]
  },
  {
   "cell_type": "code",
   "execution_count": 130,
   "metadata": {
    "ExecuteTime": {
     "end_time": "2019-12-16T10:33:01.035697Z",
     "start_time": "2019-12-16T10:32:35.977087Z"
    }
   },
   "outputs": [
    {
     "data": {
      "image/png": "[encoded data removed]",
      "text/plain": [
       "<Figure size 432x288 with 1 Axes>"
      ]
     },
     "metadata": {
      "needs_background": "light"
     },
     "output_type": "display_data"
    }
   ],
   "source": [
    "draw_MCMC(points_copy,accepted_samples[:,:,0])"
   ]
  },
  {
   "cell_type": "markdown",
   "metadata": {},
   "source": [
    "if without prior info"
   ]
  },
  {
   "cell_type": "code",
   "execution_count": 131,
   "metadata": {
    "ExecuteTime": {
     "end_time": "2019-12-16T10:33:01.041094Z",
     "start_time": "2019-12-16T10:33:01.037242Z"
    }
   },
   "outputs": [],
   "source": [
    "low_ = -50*tf.ones(N)\n",
    "high_ = -1*tf.ones(N)"
   ]
  },
  {
   "cell_type": "code",
   "execution_count": 132,
   "metadata": {
    "ExecuteTime": {
     "end_time": "2019-12-16T10:33:01.047171Z",
     "start_time": "2019-12-16T10:33:01.042896Z"
    }
   },
   "outputs": [
    {
     "data": {
      "text/plain": [
       "<tf.Tensor: id=8566090, shape=(9, 9), dtype=float32, numpy=\n",
       "array([[1.e-12, 0.e+00, 0.e+00, 0.e+00, 0.e+00, 0.e+00, 0.e+00, 0.e+00,\n",
       "        0.e+00],\n",
       "       [0.e+00, 1.e-12, 0.e+00, 0.e+00, 0.e+00, 0.e+00, 0.e+00, 0.e+00,\n",
       "        0.e+00],\n",
       "       [0.e+00, 0.e+00, 1.e-12, 0.e+00, 0.e+00, 0.e+00, 0.e+00, 0.e+00,\n",
       "        0.e+00],\n",
       "       [0.e+00, 0.e+00, 0.e+00, 1.e-12, 0.e+00, 0.e+00, 0.e+00, 0.e+00,\n",
       "        0.e+00],\n",
       "       [0.e+00, 0.e+00, 0.e+00, 0.e+00, 1.e-12, 0.e+00, 0.e+00, 0.e+00,\n",
       "        0.e+00],\n",
       "       [0.e+00, 0.e+00, 0.e+00, 0.e+00, 0.e+00, 1.e-12, 0.e+00, 0.e+00,\n",
       "        0.e+00],\n",
       "       [0.e+00, 0.e+00, 0.e+00, 0.e+00, 0.e+00, 0.e+00, 1.e-12, 0.e+00,\n",
       "        0.e+00],\n",
       "       [0.e+00, 0.e+00, 0.e+00, 0.e+00, 0.e+00, 0.e+00, 0.e+00, 1.e-12,\n",
       "        0.e+00],\n",
       "       [0.e+00, 0.e+00, 0.e+00, 0.e+00, 0.e+00, 0.e+00, 0.e+00, 0.e+00,\n",
       "        1.e-12]], dtype=float32)>"
      ]
     },
     "execution_count": 132,
     "metadata": {},
     "output_type": "execute_result"
    }
   ],
   "source": [
    "cov"
   ]
  },
  {
   "cell_type": "code",
   "execution_count": 133,
   "metadata": {
    "ExecuteTime": {
     "end_time": "2019-12-16T10:33:01.052902Z",
     "start_time": "2019-12-16T10:33:01.048648Z"
    }
   },
   "outputs": [],
   "source": [
    "\n",
    "def joint_log_prob(D,points_,ps):\n",
    "    \"\"\"\n",
    "    D: is the observation data\n",
    "    ps: is the variable point positions (N elements vector)\n",
    "    \"\"\"\n",
    "    # define random variables prior\n",
    "    mvn_prior = tfd.Uniform(\n",
    "            low = low_,\n",
    "            high = high_)\n",
    "    # define likelihood\n",
    "    \n",
    "    Gm_ = grav(points_,ps)\n",
    "    Gm = tf.convert_to_tensor(Gm_,dtype)\n",
    "    \n",
    "    mvn_likelihood = tfd.MultivariateNormalFullCovariance(\n",
    "            loc = Gm,\n",
    "            covariance_matrix= cov)\n",
    "    \n",
    "    # return the posterior probability\n",
    "    return(tf.reduce_sum(mvn_prior.log_prob(ps))\n",
    "          +mvn_likelihood.log_prob(D))"
   ]
  },
  {
   "cell_type": "code",
   "execution_count": 134,
   "metadata": {
    "ExecuteTime": {
     "end_time": "2019-12-16T10:33:01.058293Z",
     "start_time": "2019-12-16T10:33:01.054331Z"
    }
   },
   "outputs": [
    {
     "data": {
      "text/plain": [
       "array([[-200.        ,  -50.        ],\n",
       "       [ 200.        ,  -50.        ],\n",
       "       [ 200.        ,   -3.        ],\n",
       "       [  70.        ,   -3.        ],\n",
       "       [  23.33333333,   -9.95668184],\n",
       "       [ -23.33333333,  -46.52653085],\n",
       "       [ -70.        ,   -3.        ],\n",
       "       [-200.        ,   -3.        ]])"
      ]
     },
     "execution_count": 134,
     "metadata": {},
     "output_type": "execute_result"
    }
   ],
   "source": [
    "points"
   ]
  },
  {
   "cell_type": "code",
   "execution_count": 135,
   "metadata": {
    "ExecuteTime": {
     "end_time": "2019-12-16T10:33:01.062039Z",
     "start_time": "2019-12-16T10:33:01.059680Z"
    }
   },
   "outputs": [],
   "source": [
    "ps=[-4,-20]"
   ]
  },
  {
   "cell_type": "code",
   "execution_count": 136,
   "metadata": {
    "ExecuteTime": {
     "end_time": "2019-12-16T10:33:01.074333Z",
     "start_time": "2019-12-16T10:33:01.063831Z"
    }
   },
   "outputs": [
    {
     "data": {
      "text/plain": [
       "<tf.Tensor: id=10848114, shape=(), dtype=float32, numpy=40.476795>"
      ]
     },
     "execution_count": 136,
     "metadata": {},
     "output_type": "execute_result"
    }
   ],
   "source": [
    "joint_log_prob(obs_data,points_copy,ps)"
   ]
  },
  {
   "cell_type": "code",
   "execution_count": 137,
   "metadata": {
    "ExecuteTime": {
     "end_time": "2019-12-16T10:33:01.086357Z",
     "start_time": "2019-12-16T10:33:01.075809Z"
    }
   },
   "outputs": [
    {
     "data": {
      "text/plain": [
       "<tf.Tensor: id=10848197, shape=(), dtype=float32, numpy=-23.224133>"
      ]
     },
     "execution_count": 137,
     "metadata": {},
     "output_type": "execute_result"
    }
   ],
   "source": [
    "ps = [-20,-2]\n",
    "joint_log_prob(obs_data,points_copy,ps)"
   ]
  },
  {
   "cell_type": "code",
   "execution_count": 138,
   "metadata": {
    "ExecuteTime": {
     "end_time": "2019-12-16T10:33:01.091604Z",
     "start_time": "2019-12-16T10:33:01.087825Z"
    }
   },
   "outputs": [
    {
     "data": {
      "text/plain": [
       "array([[-200.        ,  -50.        ],\n",
       "       [ 200.        ,  -50.        ],\n",
       "       [ 200.        ,   -3.        ],\n",
       "       [  70.        ,   -3.        ],\n",
       "       [  23.33333333,   -9.95668184],\n",
       "       [ -23.33333333,  -46.52653085],\n",
       "       [ -70.        ,   -3.        ],\n",
       "       [-200.        ,   -3.        ]])"
      ]
     },
     "execution_count": 138,
     "metadata": {},
     "output_type": "execute_result"
    }
   ],
   "source": [
    "points"
   ]
  },
  {
   "cell_type": "code",
   "execution_count": 139,
   "metadata": {
    "ExecuteTime": {
     "end_time": "2019-12-16T10:34:24.805387Z",
     "start_time": "2019-12-16T10:33:01.092991Z"
    }
   },
   "outputs": [
    {
     "name": "stderr",
     "output_type": "stream",
     "text": [
      "/Users/zhouji/.local/lib/python3.7/site-packages/tensorflow_probability/python/mcmc/sample.py:335: UserWarning: Tracing all kernel results by default is deprecated. Set the `trace_fn` argument to None (the future default value) or an explicit callback that traces the values you are interested in.\n",
      "  warnings.warn(\"Tracing all kernel results by default is deprecated. Set \"\n"
     ]
    }
   ],
   "source": [
    "num_results = 3000\n",
    "burnin = 3000\n",
    "\n",
    "initial_chain_state = [\n",
    "    -10 * tf.ones([N], dtype=tf.float32, name=\"init_t1\"),\n",
    "]\n",
    "\n",
    "unnormalized_posterior_log_prob = lambda *args: joint_log_prob(obs_data,points_copy,*args)\n",
    "\n",
    "def gauss_new_state_fn(scale, dtype):\n",
    "  gauss = tfd.Normal(loc=dtype(0), scale=dtype(scale))\n",
    "  def _fn(state_parts, seed):\n",
    "    next_state_parts = []\n",
    "    seed_stream  = tfp.util.SeedStream(seed, salt='RandomNormal')\n",
    "    for sp in state_parts:\n",
    "      next_state_parts.append(sp + gauss.sample(\n",
    "        sample_shape=sp.shape, seed=seed_stream()))\n",
    "    return next_state_parts\n",
    "  return _fn\n",
    "\n",
    "dtype = np.float32\n",
    "\n",
    "samples, kernel_results = tfp.mcmc.sample_chain(\n",
    "    num_results=num_results,\n",
    "    current_state=initial_chain_state,\n",
    "    kernel=tfp.mcmc.RandomWalkMetropolis(\n",
    "        target_log_prob_fn=unnormalized_posterior_log_prob,\n",
    "        new_state_fn=gauss_new_state_fn(scale=0.4, dtype=dtype)),\n",
    "    num_burnin_steps=burnin,\n",
    "    num_steps_between_results=1,  # Thinning.\n",
    "    parallel_iterations=1)\n",
    "\n",
    "samples = tf.stack(samples, axis=-1)\n",
    "accepted = kernel_results.is_accepted\n",
    "\n",
    "samples = samples.numpy()\n",
    "accepted = accepted.numpy()\n"
   ]
  },
  {
   "cell_type": "code",
   "execution_count": 140,
   "metadata": {
    "ExecuteTime": {
     "end_time": "2019-12-16T10:34:24.810208Z",
     "start_time": "2019-12-16T10:34:24.807186Z"
    }
   },
   "outputs": [],
   "source": [
    "accept_index = np.where(accepted==True)\n",
    "accepted_samples = samples[accept_index]"
   ]
  },
  {
   "cell_type": "code",
   "execution_count": 141,
   "metadata": {
    "ExecuteTime": {
     "end_time": "2019-12-16T10:34:24.816393Z",
     "start_time": "2019-12-16T10:34:24.812155Z"
    }
   },
   "outputs": [
    {
     "data": {
      "text/plain": [
       "array([[[ -7.5171967],\n",
       "        [-47.199265 ]],\n",
       "\n",
       "       [[ -7.888614 ],\n",
       "        [-47.57673  ]],\n",
       "\n",
       "       [[ -7.3538265],\n",
       "        [-47.371834 ]],\n",
       "\n",
       "       ...,\n",
       "\n",
       "       [[-12.305619 ],\n",
       "        [-42.613083 ]],\n",
       "\n",
       "       [[-11.708639 ],\n",
       "        [-42.82884  ]],\n",
       "\n",
       "       [[-12.123318 ],\n",
       "        [-42.833836 ]]], dtype=float32)"
      ]
     },
     "execution_count": 141,
     "metadata": {},
     "output_type": "execute_result"
    }
   ],
   "source": [
    "accepted_samples"
   ]
  },
  {
   "cell_type": "code",
   "execution_count": 142,
   "metadata": {
    "ExecuteTime": {
     "end_time": "2019-12-16T10:34:24.968772Z",
     "start_time": "2019-12-16T10:34:24.818175Z"
    }
   },
   "outputs": [
    {
     "data": {
      "text/plain": [
       "[<matplotlib.lines.Line2D at 0x1a3d1ce748>]"
      ]
     },
     "execution_count": 142,
     "metadata": {},
     "output_type": "execute_result"
    },
    {
     "data": {
      "image/png": "[encoded data removed]",
      "text/plain": [
       "<Figure size 432x288 with 1 Axes>"
      ]
     },
     "metadata": {
      "needs_background": "light"
     },
     "output_type": "display_data"
    }
   ],
   "source": [
    "plt.plot(accepted_samples[:,1:2,0])"
   ]
  },
  {
   "cell_type": "code",
   "execution_count": 143,
   "metadata": {
    "ExecuteTime": {
     "end_time": "2019-12-16T10:34:25.227217Z",
     "start_time": "2019-12-16T10:34:24.970273Z"
    }
   },
   "outputs": [
    {
     "data": {
      "image/png": "[encoded data removed]",
      "text/plain": [
       "<Figure size 396x396 with 4 Axes>"
      ]
     },
     "metadata": {
      "needs_background": "light"
     },
     "output_type": "display_data"
    }
   ],
   "source": [
    "figure = corner.corner(accepted_samples[:,:,0])"
   ]
  },
  {
   "cell_type": "code",
   "execution_count": 144,
   "metadata": {
    "ExecuteTime": {
     "end_time": "2019-12-16T10:34:25.232620Z",
     "start_time": "2019-12-16T10:34:25.228659Z"
    }
   },
   "outputs": [
    {
     "data": {
      "text/plain": [
       "array([[-200.        ,  -50.        ],\n",
       "       [ 200.        ,  -50.        ],\n",
       "       [ 200.        ,   -3.        ],\n",
       "       [  70.        ,   -3.        ],\n",
       "       [  23.33333333,   -9.95668184],\n",
       "       [ -23.33333333,  -46.52653085],\n",
       "       [ -70.        ,   -3.        ],\n",
       "       [-200.        ,   -3.        ]])"
      ]
     },
     "execution_count": 144,
     "metadata": {},
     "output_type": "execute_result"
    }
   ],
   "source": [
    "points"
   ]
  },
  {
   "cell_type": "code",
   "execution_count": 145,
   "metadata": {
    "ExecuteTime": {
     "end_time": "2019-12-16T10:35:31.593934Z",
     "start_time": "2019-12-16T10:34:25.234027Z"
    }
   },
   "outputs": [
    {
     "data": {
      "image/png": "[encoded data removed]",
      "text/plain": [
       "<Figure size 432x288 with 1 Axes>"
      ]
     },
     "metadata": {
      "needs_background": "light"
     },
     "output_type": "display_data"
    }
   ],
   "source": [
    "draw_MCMC(points,accepted_samples[:,:,0],R=70)"
   ]
  },
  {
   "cell_type": "code",
   "execution_count": 146,
   "metadata": {
    "ExecuteTime": {
     "end_time": "2019-12-16T10:35:31.601479Z",
     "start_time": "2019-12-16T10:35:31.595922Z"
    }
   },
   "outputs": [],
   "source": [
    "def joint_log_prob(D,points_copy,ps):\n",
    "\n",
    "    # define likelihood\n",
    "    \n",
    "    Gm_ = grav(points_copy,ps)\n",
    "    print(Gm_)\n",
    "    Gm = tf.convert_to_tensor(Gm_,dtype)\n",
    "    \n",
    "    mvn_likelihood = tfd.MultivariateNormalFullCovariance(\n",
    "            loc = Gm,\n",
    "            covariance_matrix= cov)\n",
    "    \n",
    "    # return the posterior probability\n",
    "    return(mvn_likelihood.log_prob(D))"
   ]
  },
  {
   "cell_type": "code",
   "execution_count": 147,
   "metadata": {
    "ExecuteTime": {
     "end_time": "2019-12-16T10:35:31.618057Z",
     "start_time": "2019-12-16T10:35:31.603768Z"
    }
   },
   "outputs": [
    {
     "name": "stdout",
     "output_type": "stream",
     "text": [
      "[1.2083859316078184e-05, 1.019408350268187e-05, 9.282068580169472e-06, 9.321264075389005e-06, 1.0256888380855372e-05, 1.1973366349404855e-05, 1.3984705315143113e-05, 1.5345035646779202e-05, 1.631254204912091e-05]\n"
     ]
    },
    {
     "data": {
      "text/plain": [
       "<tf.Tensor: id=12849177, shape=(), dtype=float32, numpy=115.71678>"
      ]
     },
     "execution_count": 147,
     "metadata": {},
     "output_type": "execute_result"
    }
   ],
   "source": [
    "ps = [-9,-45]\n",
    "joint_log_prob(obs_data,points_copy,ps)\n",
    "\n",
    "# Gm_1 = np.array(grav(points_copy,ps))\n",
    "# obs_data = np.array(obs_data)\n",
    "# e =np.reshape((obs_data-Gm_1),[9,1])\n",
    "# et = np.transpose(e)\n",
    "# cov_1 = np.linalg.inv(cov)\n",
    "\n",
    "# np.exp(-np.matmul(np.matmul(et,cov_1),e))"
   ]
  },
  {
   "cell_type": "code",
   "execution_count": 148,
   "metadata": {
    "ExecuteTime": {
     "end_time": "2019-12-16T10:35:31.634059Z",
     "start_time": "2019-12-16T10:35:31.619792Z"
    }
   },
   "outputs": [
    {
     "name": "stdout",
     "output_type": "stream",
     "text": [
      "[1.5175742488350755e-05, 1.3729798694677439e-05, 1.260881883315633e-05, 1.1883428212597259e-05, 1.1503298858659833e-05, 1.1461363709619345e-05, 1.190788407716694e-05, 1.2958884928396854e-05, 1.4547727891349855e-05]\n"
     ]
    },
    {
     "data": {
      "text/plain": [
       "<tf.Tensor: id=12849243, shape=(), dtype=float32, numpy=87.077835>"
      ]
     },
     "execution_count": 148,
     "metadata": {},
     "output_type": "execute_result"
    }
   ],
   "source": [
    "ps = [-25,-20]\n",
    "joint_log_prob(obs_data,points_copy,ps)\n",
    "# Gm_2 = np.array(grav(points_copy,ps))\n",
    "# obs_data = np.array(obs_data)\n",
    "# e =np.reshape((obs_data-Gm_2),[9,1])\n",
    "# et = np.transpose(e)\n",
    "# cov_1 = np.linalg.inv(cov)\n",
    "# np.exp(-np.matmul(np.matmul(et,cov_1),e))\n"
   ]
  },
  {
   "cell_type": "code",
   "execution_count": 149,
   "metadata": {
    "ExecuteTime": {
     "end_time": "2019-12-16T10:35:31.640054Z",
     "start_time": "2019-12-16T10:35:31.636042Z"
    }
   },
   "outputs": [
    {
     "data": {
      "text/plain": [
       "[1.1880256550560443e-05,\n",
       " 9.964237585555126e-06,\n",
       " 9.034594408626458e-06,\n",
       " 9.051625584356573e-06,\n",
       " 9.955897684227542e-06,\n",
       " 1.1628499747414972e-05,\n",
       " 1.3609159165646617e-05,\n",
       " 1.5046642406735163e-05,\n",
       " 1.612041217392557e-05]"
      ]
     },
     "execution_count": 149,
     "metadata": {},
     "output_type": "execute_result"
    }
   ],
   "source": [
    "obs_data"
   ]
  },
  {
   "cell_type": "code",
   "execution_count": 150,
   "metadata": {
    "ExecuteTime": {
     "end_time": "2019-12-16T10:35:31.646262Z",
     "start_time": "2019-12-16T10:35:31.641943Z"
    }
   },
   "outputs": [
    {
     "data": {
      "text/plain": [
       "array([[-200.        ,  -50.        ],\n",
       "       [ 200.        ,  -50.        ],\n",
       "       [ 200.        ,   -3.        ],\n",
       "       [  70.        ,   -3.        ],\n",
       "       [  23.33333333,  -12.12331772],\n",
       "       [ -23.33333333,  -42.8338356 ],\n",
       "       [ -70.        ,   -3.        ],\n",
       "       [-200.        ,   -3.        ]])"
      ]
     },
     "execution_count": 150,
     "metadata": {},
     "output_type": "execute_result"
    }
   ],
   "source": [
    "points"
   ]
  },
  {
   "cell_type": "code",
   "execution_count": 151,
   "metadata": {
    "ExecuteTime": {
     "end_time": "2019-12-16T10:35:31.653078Z",
     "start_time": "2019-12-16T10:35:31.648001Z"
    }
   },
   "outputs": [
    {
     "data": {
      "text/plain": [
       "<tf.Tensor: id=8566090, shape=(9, 9), dtype=float32, numpy=\n",
       "array([[1.e-12, 0.e+00, 0.e+00, 0.e+00, 0.e+00, 0.e+00, 0.e+00, 0.e+00,\n",
       "        0.e+00],\n",
       "       [0.e+00, 1.e-12, 0.e+00, 0.e+00, 0.e+00, 0.e+00, 0.e+00, 0.e+00,\n",
       "        0.e+00],\n",
       "       [0.e+00, 0.e+00, 1.e-12, 0.e+00, 0.e+00, 0.e+00, 0.e+00, 0.e+00,\n",
       "        0.e+00],\n",
       "       [0.e+00, 0.e+00, 0.e+00, 1.e-12, 0.e+00, 0.e+00, 0.e+00, 0.e+00,\n",
       "        0.e+00],\n",
       "       [0.e+00, 0.e+00, 0.e+00, 0.e+00, 1.e-12, 0.e+00, 0.e+00, 0.e+00,\n",
       "        0.e+00],\n",
       "       [0.e+00, 0.e+00, 0.e+00, 0.e+00, 0.e+00, 1.e-12, 0.e+00, 0.e+00,\n",
       "        0.e+00],\n",
       "       [0.e+00, 0.e+00, 0.e+00, 0.e+00, 0.e+00, 0.e+00, 1.e-12, 0.e+00,\n",
       "        0.e+00],\n",
       "       [0.e+00, 0.e+00, 0.e+00, 0.e+00, 0.e+00, 0.e+00, 0.e+00, 1.e-12,\n",
       "        0.e+00],\n",
       "       [0.e+00, 0.e+00, 0.e+00, 0.e+00, 0.e+00, 0.e+00, 0.e+00, 0.e+00,\n",
       "        1.e-12]], dtype=float32)>"
      ]
     },
     "execution_count": 151,
     "metadata": {},
     "output_type": "execute_result"
    }
   ],
   "source": [
    "cov"
   ]
  },
  {
   "cell_type": "code",
   "execution_count": 152,
   "metadata": {
    "ExecuteTime": {
     "end_time": "2019-12-16T10:35:31.659919Z",
     "start_time": "2019-12-16T10:35:31.655718Z"
    }
   },
   "outputs": [],
   "source": [
    "def multivariate_normal(x, d, mean, covariance):\n",
    "    \"\"\"pdf of the multivariate normal distribution.\"\"\"\n",
    "    x_m = x - mean\n",
    "    return (1. / (np.sqrt((2 * np.pi)**d * np.linalg.det(covariance))) * \n",
    "            (np.exp(-(np.linalg.solve(covariance, x_m).T.dot(x_m)) / 2)))"
   ]
  },
  {
   "cell_type": "code",
   "execution_count": 153,
   "metadata": {
    "ExecuteTime": {
     "end_time": "2019-12-16T10:35:31.677029Z",
     "start_time": "2019-12-16T10:35:31.661554Z"
    }
   },
   "outputs": [
    {
     "ename": "NameError",
     "evalue": "name 'Gm_1' is not defined",
     "output_type": "error",
     "traceback": [
      "\u001b[0;31m---------------------------------------------------------------------------\u001b[0m",
      "\u001b[0;31mNameError\u001b[0m                                 Traceback (most recent call last)",
      "\u001b[0;32m<ipython-input-153-bf70cad37dba>\u001b[0m in \u001b[0;36m<module>\u001b[0;34m\u001b[0m\n\u001b[0;32m----> 1\u001b[0;31m \u001b[0mmultivariate_normal\u001b[0m\u001b[0;34m(\u001b[0m\u001b[0mobs_data\u001b[0m\u001b[0;34m,\u001b[0m \u001b[0;36m9\u001b[0m\u001b[0;34m,\u001b[0m \u001b[0mGm_1\u001b[0m\u001b[0;34m,\u001b[0m \u001b[0mcov\u001b[0m\u001b[0;34m)\u001b[0m\u001b[0;34m\u001b[0m\u001b[0;34m\u001b[0m\u001b[0m\n\u001b[0m",
      "\u001b[0;31mNameError\u001b[0m: name 'Gm_1' is not defined"
     ]
    }
   ],
   "source": [
    "multivariate_normal(obs_data, 9, Gm_1, cov)"
   ]
  },
  {
   "cell_type": "markdown",
   "metadata": {},
   "source": [
    "MAP"
   ]
  },
  {
   "cell_type": "code",
   "execution_count": null,
   "metadata": {
    "ExecuteTime": {
     "end_time": "2019-12-16T10:35:31.688920Z",
     "start_time": "2019-12-16T10:30:40.671Z"
    }
   },
   "outputs": [],
   "source": [
    "## Block out in case run by accident, takes too long to run 28 min\n",
    "ps = tf.constant([-1., -1.])\n",
    "for i in range(10):\n",
    "    with tf.GradientTape() as t:  \n",
    "        t.watch(ps)\n",
    "        loss = tf.negative(joint_log_prob(obs_data,points_copy,ps))\n",
    "        dlossdmu = t.gradient(loss,ps)\n",
    "        print(ps.numpy(),dlossdmu.numpy())\n",
    "        ps = ps - 0.00001*dlossdmu"
   ]
  },
  {
   "cell_type": "code",
   "execution_count": null,
   "metadata": {},
   "outputs": [],
   "source": []
  },
  {
   "cell_type": "code",
   "execution_count": null,
   "metadata": {},
   "outputs": [],
   "source": []
  },
  {
   "cell_type": "code",
   "execution_count": null,
   "metadata": {},
   "outputs": [],
   "source": []
  },
  {
   "cell_type": "markdown",
   "metadata": {},
   "source": [
    "### debug joint log post"
   ]
  },
  {
   "cell_type": "code",
   "execution_count": null,
   "metadata": {},
   "outputs": [],
   "source": []
  },
  {
   "cell_type": "code",
   "execution_count": null,
   "metadata": {
    "ExecuteTime": {
     "end_time": "2019-12-16T10:35:31.690380Z",
     "start_time": "2019-12-16T10:30:40.676Z"
    }
   },
   "outputs": [],
   "source": [
    "np.random.seed(3)\n",
    "true = np.random.uniform(min(corners[:,1])+10,max(corners[:,1]-10),N)"
   ]
  },
  {
   "cell_type": "code",
   "execution_count": null,
   "metadata": {
    "ExecuteTime": {
     "end_time": "2019-12-16T10:35:31.691756Z",
     "start_time": "2019-12-16T10:30:40.678Z"
    }
   },
   "outputs": [],
   "source": [
    "true"
   ]
  },
  {
   "cell_type": "code",
   "execution_count": null,
   "metadata": {
    "ExecuteTime": {
     "end_time": "2019-12-16T10:35:31.693908Z",
     "start_time": "2019-12-16T10:30:40.680Z"
    }
   },
   "outputs": [],
   "source": [
    "joint_log_prob(d,points,true)"
   ]
  },
  {
   "cell_type": "code",
   "execution_count": null,
   "metadata": {
    "ExecuteTime": {
     "end_time": "2019-12-16T10:35:31.695858Z",
     "start_time": "2019-12-16T10:30:40.681Z"
    }
   },
   "outputs": [],
   "source": [
    "# define likelihood\n",
    "cov = 0.0001*tf.ones(9)\n",
    "Gm_ = grav(points,ps)\n",
    "Gm = tf.convert_to_tensor(Gm_,dtype)\n",
    "\n",
    "mvn_likelihood = tfd.MultivariateNormalFullCovariance(\n",
    "        loc = Gm,\n",
    "        covariance_matrix= cov)\n",
    "    "
   ]
  },
  {
   "cell_type": "code",
   "execution_count": null,
   "metadata": {
    "ExecuteTime": {
     "end_time": "2019-12-16T10:35:31.697426Z",
     "start_time": "2019-12-16T10:30:40.683Z"
    }
   },
   "outputs": [],
   "source": [
    "Gm = d"
   ]
  },
  {
   "cell_type": "code",
   "execution_count": null,
   "metadata": {
    "ExecuteTime": {
     "end_time": "2019-12-16T10:35:31.698789Z",
     "start_time": "2019-12-16T10:30:40.685Z"
    }
   },
   "outputs": [],
   "source": [
    "mvn_likelihood.log_prob(d)"
   ]
  },
  {
   "cell_type": "code",
   "execution_count": null,
   "metadata": {},
   "outputs": [],
   "source": []
  },
  {
   "cell_type": "code",
   "execution_count": null,
   "metadata": {},
   "outputs": [],
   "source": []
  },
  {
   "cell_type": "code",
   "execution_count": null,
   "metadata": {},
   "outputs": [],
   "source": []
  },
  {
   "cell_type": "code",
   "execution_count": null,
   "metadata": {
    "ExecuteTime": {
     "end_time": "2019-12-16T10:35:31.700550Z",
     "start_time": "2019-12-16T10:30:40.689Z"
    }
   },
   "outputs": [],
   "source": [
    "ps = true+np.ones(N)"
   ]
  },
  {
   "cell_type": "code",
   "execution_count": null,
   "metadata": {
    "ExecuteTime": {
     "end_time": "2019-12-16T10:35:31.702135Z",
     "start_time": "2019-12-16T10:30:40.690Z"
    }
   },
   "outputs": [],
   "source": [
    "d"
   ]
  },
  {
   "cell_type": "code",
   "execution_count": null,
   "metadata": {
    "ExecuteTime": {
     "end_time": "2019-12-16T10:35:31.703641Z",
     "start_time": "2019-12-16T10:30:40.692Z"
    }
   },
   "outputs": [],
   "source": [
    "joint_log_prob(d,points,ps)"
   ]
  },
  {
   "cell_type": "code",
   "execution_count": null,
   "metadata": {
    "ExecuteTime": {
     "end_time": "2019-12-16T10:35:31.705260Z",
     "start_time": "2019-12-16T10:30:40.693Z"
    }
   },
   "outputs": [],
   "source": [
    "ps"
   ]
  },
  {
   "cell_type": "code",
   "execution_count": null,
   "metadata": {},
   "outputs": [],
   "source": []
  }
 ],
 "metadata": {
  "kernelspec": {
   "display_name": "Python 3",
   "language": "python",
   "name": "python3"
  },
  "language_info": {
   "codemirror_mode": {
    "name": "ipython",
    "version": 3
   },
   "file_extension": ".py",
   "mimetype": "text/x-python",
   "name": "python",
   "nbconvert_exporter": "python",
   "pygments_lexer": "ipython3",
   "version": "3.7.3"
  },
  "varInspector": {
   "cols": {
    "lenName": 16,
    "lenType": 16,
    "lenVar": 40
   },
   "kernels_config": {
    "python": {
     "delete_cmd_postfix": "",
     "delete_cmd_prefix": "del ",
     "library": "var_list.py",
     "varRefreshCmd": "print(var_dic_list())"
    },
    "r": {
     "delete_cmd_postfix": ") ",
     "delete_cmd_prefix": "rm(",
     "library": "var_list.r",
     "varRefreshCmd": "cat(var_dic_list()) "
    }
   },
   "types_to_exclude": [
    "module",
    "function",
    "builtin_function_or_method",
    "instance",
    "_Feature"
   ],
   "window_display": false
  }
 },
 "nbformat": 4,
 "nbformat_minor": 2
}
