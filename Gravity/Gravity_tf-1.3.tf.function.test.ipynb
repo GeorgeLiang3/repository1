{
 "cells": [
  {
   "cell_type": "code",
   "execution_count": 92,
   "metadata": {
    "ExecuteTime": {
     "end_time": "2020-02-27T19:25:05.843370Z",
     "start_time": "2020-02-27T19:25:05.837456Z"
    }
   },
   "outputs": [],
   "source": [
    "%matplotlib inline\n",
    "import matplotlib.pyplot as plt\n",
    "import numpy as np\n",
    "import tensorflow as tf\n",
    "import scipy\n",
    "\n",
    "from scipy.stats import norm\n",
    "import tensorflow_probability as tfp\n",
    "import seaborn as sns\n",
    "import pandas as pd\n",
    "import corner \n",
    "import math as m\n",
    "import copy\n",
    "\n",
    "tfd=tfp.distributions"
   ]
  },
  {
   "cell_type": "code",
   "execution_count": 93,
   "metadata": {
    "ExecuteTime": {
     "end_time": "2020-02-27T19:25:05.856792Z",
     "start_time": "2020-02-27T19:25:05.845427Z"
    }
   },
   "outputs": [],
   "source": [
    "def draw(base, position = None, ax = None,R = 100):\n",
    "    ## function to plot the geometry\n",
    "    if ax == None:\n",
    "        f,ax=plt.subplots()\n",
    "        \n",
    "    if position is not None:\n",
    "\n",
    "        t = tf.convert_to_tensor(thickness,dtype = tf.float32)\n",
    "\n",
    "        ps2 = position-t\n",
    "        \n",
    "        ps2 = tf.reverse(ps2,[-1])\n",
    "        \n",
    "        for i in tf.range(2,Number_para+2): ## lower layer\n",
    "            base[i].assign([base[i][0],ps2[i-2]])\n",
    "\n",
    "        for i in tf.range(Number_para+6,2*Number_para+6): ## upper layer\n",
    "            base[i].assign([base[i][0],position[i-Number_para-6]])\n",
    "\n",
    "    x = base[:,0]\n",
    "    z = base[:,1]\n",
    "    for i in range(base.shape[0]):\n",
    "        ax.plot(x[i:i+2],z[i:i+2],'k-')\n",
    "    x_ = np.linspace(-R,R,10)\n",
    "    ax.plot(x_,np.zeros(np.shape(x_)),lw = 0.5)# draw a reference line, surface\n",
    "    ax.plot([x[0],x[-1]],[z[0],z[-1]],'k-')\n",
    "    ax.set_ylim(base[tf.argmin(base[:,1])][1].numpy()-10,5)\n",
    "    ax.set_xlim(-R,R)\n",
    "    \n",
    "    \n",
    "pi = tf.constant(m.pi) # define PI in Tensorflow form"
   ]
  },
  {
   "cell_type": "code",
   "execution_count": 94,
   "metadata": {
    "ExecuteTime": {
     "end_time": "2020-02-27T19:25:05.870449Z",
     "start_time": "2020-02-27T19:25:05.859063Z"
    }
   },
   "outputs": [],
   "source": [
    "def draw_MCMC(base,samples,Truth = None,ax = None,R = 70):\n",
    "    \n",
    "    if ax == None:\n",
    "        f,ax=plt.subplots()\n",
    "    \n",
    "    if Truth is not None:\n",
    "        draw(base,Truth,ax = ax, R = R)\n",
    "            \n",
    "    x1 = np.linspace(-R,R,Number_para)\n",
    "\n",
    "    t = tf.convert_to_tensor(thickness,dtype = tf.float32)\n",
    "    for ps in samples:\n",
    "        ps2 = ps-t\n",
    "\n",
    "        ps2 = tf.reverse(ps2,[-1])\n",
    "\n",
    "        for i in tf.range(2,Number_para+2): ## lower layer\n",
    "            base[i].assign([base[i][0],ps2[i-2]])\n",
    "\n",
    "        for i in tf.range(Number_para+6,2*Number_para+6): ## upper layer\n",
    "            base[i].assign([base[i][0],ps[i-Number_para-6]])\n",
    "\n",
    "        for i in range(Number_para+5,base.shape[0]-2):\n",
    "            ax.plot(base[:,0][i:i+2],base[:,1][i:i+2],'r-',alpha = 0.01)\n",
    "    \n",
    "    ax.plot(x1,np.zeros(np.shape(x1)),lw = 0.5)# draw a reference line, surface\n",
    "\n",
    "    ax.set_ylim(base[tf.argmin(base[:,1])][1].numpy()-10,5)\n",
    "    ax.set_xlim(-R,R)"
   ]
  },
  {
   "cell_type": "code",
   "execution_count": 95,
   "metadata": {
    "ExecuteTime": {
     "end_time": "2020-02-27T19:25:05.886476Z",
     "start_time": "2020-02-27T19:25:05.872757Z"
    }
   },
   "outputs": [],
   "source": [
    "depth = -20\n",
    "thickness = 20\n",
    "\n",
    "corners=np.array([[-200,depth-thickness],\n",
    "                  [-70,depth-thickness],\n",
    "                  [70,depth-thickness],# bottom left coner\n",
    "              [200,depth-thickness], \n",
    "              [200,depth], # bottom right coner\n",
    "              [70, depth], # top right coner\n",
    "              [-70,depth],# top left coner\n",
    "              [-200,depth]])\n",
    "Number_para = 6\n",
    "obs_N = 6\n",
    "points = np.empty((2*Number_para+8,2),dtype = np.float32)\n",
    "\n",
    "points[0] = corners[0]\n",
    "points[1] = corners[1]\n",
    "\n",
    "for i in range(6):\n",
    "    points[Number_para+i] = corners[i]\n",
    "    \n",
    "points[-2]=corners[-2]\n",
    "points[-1]=corners[-1]\n",
    "\n",
    "np.random.seed(21)\n",
    "\n",
    "x2 = np.linspace(-70,70,Number_para+2)\n",
    "x1 = np.linspace(70,-70,Number_para+2)\n",
    "## here, maybe change to normal distribution\n",
    "y1 = np.random.uniform(-2,-50,Number_para)\n",
    "y2 = y1-thickness\n",
    "\n",
    "y1 = list(reversed(y1))\n",
    "\n",
    "for i in range(2,Number_para+2): ## lower layer\n",
    "    points[i][1] = y2[i-2]\n",
    "    points[i][0] = x2[i-1]\n",
    "    \n",
    "for i in range(Number_para+6,2*Number_para+6): ## upper layer\n",
    "    points[i][1] = y1[i-Number_para-6]\n",
    "    points[i][0] = x1[i-Number_para-5]\n"
   ]
  },
  {
   "cell_type": "code",
   "execution_count": 96,
   "metadata": {
    "ExecuteTime": {
     "end_time": "2020-02-27T19:25:06.122020Z",
     "start_time": "2020-02-27T19:25:05.889027Z"
    }
   },
   "outputs": [
    {
     "data": {
      "text/plain": [
       "(-70, 70)"
      ]
     },
     "execution_count": 96,
     "metadata": {},
     "output_type": "execute_result"
    },
    {
     "data": {
      "image/png": "[encoded data removed]",
      "text/plain": [
       "<Figure size 432x288 with 1 Axes>"
      ]
     },
     "metadata": {
      "needs_background": "light"
     },
     "output_type": "display_data"
    }
   ],
   "source": [
    "# Draw Base\n",
    "f,ax=plt.subplots()\n",
    "x = points[:,0]\n",
    "z = points[:,1]\n",
    "for i in range(points.shape[0]):\n",
    "    ax.plot(x[i:i+2],z[i:i+2],'r-')\n",
    "x_ = np.linspace(-70,70,10)\n",
    "ax.plot(x_,np.zeros(np.shape(x_)),lw = 0.5)# draw a reference line, surface\n",
    "ax.plot([x[0],x[-1]],[z[0],z[-1]],'r-')\n",
    "ax.set_ylim(min(points[:,1])-10,5)\n",
    "ax.set_xlim(-70,70)"
   ]
  },
  {
   "cell_type": "code",
   "execution_count": 97,
   "metadata": {
    "ExecuteTime": {
     "end_time": "2020-02-27T19:25:06.128942Z",
     "start_time": "2020-02-27T19:25:06.123672Z"
    }
   },
   "outputs": [],
   "source": [
    "# prior\n",
    "mu_prior = -20.*tf.ones([Number_para],dtype = tf.float32)\n",
    "cov_prior = 20.*tf.eye(Number_para)\n",
    "\n",
    "# likelihood\n",
    "sig_e = 0.0000001\n",
    "cov = sig_e**2*tf.eye(obs_N)"
   ]
  },
  {
   "cell_type": "markdown",
   "metadata": {},
   "source": [
    "#### Z direction gravity line integration following Won 1987\n",
    "\\begin{equation}\n",
    "\\Delta g_{z}=2 G \\rho \\sum_{i=1}^{n} Z_{i}\n",
    "\\end{equation}\n",
    "\n",
    "\\begin{equation}\n",
    "Z=A\\left[\\left(\\theta_{1}-\\theta_{2}\\right)+B \\ln \\frac{r_{2}}{r_{1}}\\right]\n",
    "\\end{equation}\n",
    "\n",
    "where,   \n",
    "\\begin{equation}\n",
    "\\begin{aligned}\n",
    "&A=\\frac{\\left(x_{2}-x_{1}\\right)\\left(x_{1} z_{2}-x_{2} z_{1}\\right)}{\\left(x_{2}-x_{1}\\right)^{2}+\\left(z_{2}-z_{1}\\right)^{2}}\\\\\n",
    "&B=\\frac{z_{2}-z_{1}}{x_{2}-x_{1}}\n",
    "\\end{aligned}\n",
    "\\end{equation}\n",
    "\n",
    "and,   \n",
    "\\begin{equation}\n",
    "\\begin{aligned}\n",
    "&r_{1}^{2}=x_{1}^{2}+z_{1}^{2}\\\\\n",
    "&r_{2}^{2}=x_{2}^{2}+z_{2}^{2}\n",
    "\\end{aligned}\n",
    "\\end{equation}\n"
   ]
  },
  {
   "cell_type": "code",
   "execution_count": 98,
   "metadata": {
    "ExecuteTime": {
     "end_time": "2020-02-27T19:25:06.205354Z",
     "start_time": "2020-02-27T19:25:06.131868Z"
    }
   },
   "outputs": [],
   "source": [
    "@tf.function\n",
    "def A(x,z,p1,p2):\n",
    "    numerator = (x[p2]-x[p1])*(x[p1]*z[p2]-x[p2]*z[p1])\n",
    "    denominator = (x[p2]-x[p1])**2 + (z[p2]-z[p1])**2\n",
    "    return (numerator/denominator)\n",
    "\n",
    "@tf.function\n",
    "def B(x,z,p1,p2):\n",
    "    '''\n",
    "    x : array, x coordinate\n",
    "    z : array, z coordinate\n",
    "    p1, p2 : int, position\n",
    "    \n",
    "    '''\n",
    "    return ((z[p1]-z[p2])/(x[p2]-x[p1]))\n",
    "\n",
    "@tf.function\n",
    "def theta(x,z, p):\n",
    "    if tf.math.not_equal(x[p], 0) :\n",
    "        if tf.less(tf.atan(tf.divide(z[p],x[p])),0):\n",
    "            return(tf.atan(tf.divide(z[p],x[p]))+pi)\n",
    "        else:\n",
    "            return(tf.atan(tf.divide(z[p],x[p])))\n",
    "    elif tf.math.logical_and(tf.math.equal(x[p], 0), tf.math.not_equal(z[p], 0)):\n",
    "        return(pi/2)\n",
    "    else: return(0.)\n",
    "\n",
    "@tf.function\n",
    "def r(x,z,p):\n",
    "    '''\n",
    "    x : array, x coordinate\n",
    "    z : array, z coordinate\n",
    "    p : int, position\n",
    "    \n",
    "    '''\n",
    "    return(tf.sqrt(x[p]**2+z[p]**2))\n",
    "\n",
    "@tf.function\n",
    "def Z(x,z,p1,p2):\n",
    "    \n",
    "    if tf.logical_or(tf.logical_and(tf.equal(x[p1],z[p1]),tf.equal(x[p1],0.)), tf.logical_and(tf.equal(x[p2],z[p2]),tf.equal(x[p2],0.))):\n",
    "        return(0.)\n",
    "\n",
    "    elif tf.equal(x[p1], x[p2]):\n",
    "        return((x[p1]*tf.math.log(r(x,z,p2)/r(x,z,p1))))\n",
    "    \n",
    "    else:\n",
    "    \n",
    "        theta1 = theta(x,z, p1)\n",
    "        theta2 = theta(x,z, p2)\n",
    "\n",
    "        r1 = r(x,z,p1)\n",
    "        r2 = r(x,z,p2)\n",
    "\n",
    "        _A = A(x,z,p1,p2)\n",
    "        _B = B(x,z,p1,p2)\n",
    "\n",
    "        Z_result = _A*((theta1-theta2)+_B*tf.math.log(r1/r2))\n",
    "        return(Z_result)\n",
    "\n",
    "@tf.function\n",
    "def g(x,z,loc):\n",
    "\n",
    "    G = tf.constant(6.67 * 10**(-11)) # gravitational constant  m^3 kg ^-1 s^-2\n",
    "    rho = tf.constant(1000.)        # density difference   kg/m^3\n",
    "\n",
    "    _x = x-loc[0]\n",
    "    _z = z-loc[1]\n",
    "\n",
    "    Z_sum = tf.constant(0.)\n",
    "\n",
    "    for i in tf.range(_x.shape[0]-1):\n",
    "        Z_sum = tf.add(Z_sum, Z(_x,_z,i,i+1))\n",
    "\n",
    "    Z_sum = tf.add(Z_sum, Z(_x,_z,-1,0))\n",
    "\n",
    "    g = 2*G*rho * Z_sum\n",
    "\n",
    "    return(g)\n",
    "\n",
    "@tf.function\n",
    "def grav(x,z):\n",
    "\n",
    "    thick = thickness\n",
    "\n",
    "    x_obv = tf.linspace(tf.constant(-70.),tf.constant(70.),obs_N)\n",
    "    y_obv = tf.zeros(tf.shape(x_obv),dtype = tf.float32)\n",
    "    obv = tf.stack((x_obv,y_obv),axis = 1)\n",
    "\n",
    "    gravity = tf.TensorArray(tf.float32, size=obv.shape[0])\n",
    "\n",
    "    j = tf.constant(0)\n",
    "    for i in obv:\n",
    "        gravity=gravity.write(j,-g(x,z,i))\n",
    "        j = tf.add(j,1)\n",
    "    return tf.reshape(gravity.stack(),shape = [obs_N])\n",
    "\n",
    "\n",
    "\n",
    "@tf.function\n",
    "def joint_log_prob(D,x,z):\n",
    "    \"\"\"\n",
    "    D: is the observation data\n",
    "    ps: Positions,Variable(N elements vector)\n",
    "    \"\"\"\n",
    "    # define random variables prior\n",
    "    \n",
    "    mvn_prior = tfd.MultivariateNormalTriL(\n",
    "            loc = mu_prior,\n",
    "            scale_tril=tf.linalg.cholesky(cov_prior))\n",
    "    # define likelihood\n",
    "    \n",
    "    Gm_ = grav(x,z)\n",
    "    \n",
    "    mvn_likelihood = tfd.MultivariateNormalFullCovariance(\n",
    "            loc = Gm_,\n",
    "            covariance_matrix= cov)\n",
    "    \n",
    "    print('tracing')\n",
    "    tf.print('excuting')\n",
    "    \n",
    "    # return the posterior probability\n",
    "    return(mvn_prior.log_prob(z[Number_para+6:2*Number_para+6])\n",
    "          +mvn_likelihood.log_prob(D))\n"
   ]
  },
  {
   "cell_type": "code",
   "execution_count": 99,
   "metadata": {
    "ExecuteTime": {
     "end_time": "2020-02-27T19:25:06.211131Z",
     "start_time": "2020-02-27T19:25:06.207364Z"
    }
   },
   "outputs": [],
   "source": [
    "True_position = tf.random.uniform([Number_para],-30,-1,seed = 10)"
   ]
  },
  {
   "cell_type": "code",
   "execution_count": 100,
   "metadata": {
    "ExecuteTime": {
     "end_time": "2020-02-27T19:25:06.217012Z",
     "start_time": "2020-02-27T19:25:06.213161Z"
    }
   },
   "outputs": [],
   "source": [
    "True_position = True_position + tf.random.normal(True_position.shape)"
   ]
  },
  {
   "cell_type": "code",
   "execution_count": 101,
   "metadata": {
    "ExecuteTime": {
     "end_time": "2020-02-27T19:25:06.223360Z",
     "start_time": "2020-02-27T19:25:06.219012Z"
    }
   },
   "outputs": [],
   "source": [
    "x = tf.convert_to_tensor(x,dtype = tf.float32)\n",
    "z = tf.convert_to_tensor(z,dtype = tf.float32)"
   ]
  },
  {
   "cell_type": "code",
   "execution_count": 102,
   "metadata": {
    "ExecuteTime": {
     "end_time": "2020-02-27T19:25:07.991484Z",
     "start_time": "2020-02-27T19:25:06.225404Z"
    }
   },
   "outputs": [
    {
     "data": {
      "text/plain": [
       "<tf.Tensor: shape=(6,), dtype=float32, numpy=\n",
       "array([7.5246116e-06, 8.4140675e-06, 6.6648308e-06, 8.8453899e-06,\n",
       "       8.8389697e-06, 7.4164113e-06], dtype=float32)>"
      ]
     },
     "execution_count": 102,
     "metadata": {},
     "output_type": "execute_result"
    }
   ],
   "source": [
    "\n",
    "\n",
    "thick = thickness\n",
    "\n",
    "x_obv = tf.linspace(tf.constant(-70.),tf.constant(70.),obs_N)\n",
    "y_obv = tf.zeros(tf.shape(x_obv),dtype = tf.float32)\n",
    "obv = tf.stack((x_obv,y_obv),axis = 1)\n",
    "\n",
    "gravity = tf.TensorArray(tf.float32, size=obv.shape[0])\n",
    "\n",
    "j = tf.constant(0)\n",
    "for i in obv:\n",
    "    gravity=gravity.write(j,-g(x,z,i))\n",
    "    j = tf.add(j,1)\n",
    "tf.reshape(gravity.stack(),shape = [obs_N])\n"
   ]
  },
  {
   "cell_type": "code",
   "execution_count": 103,
   "metadata": {
    "ExecuteTime": {
     "end_time": "2020-02-27T19:25:08.614455Z",
     "start_time": "2020-02-27T19:25:07.992963Z"
    }
   },
   "outputs": [],
   "source": [
    "D = grav(x,z)"
   ]
  },
  {
   "cell_type": "code",
   "execution_count": 104,
   "metadata": {
    "ExecuteTime": {
     "end_time": "2020-02-27T19:25:08.621316Z",
     "start_time": "2020-02-27T19:25:08.616401Z"
    }
   },
   "outputs": [
    {
     "data": {
      "text/plain": [
       "<tf.Tensor: shape=(20,), dtype=float32, numpy=\n",
       "array([-39.       , -39.       , -23.338795 , -34.877262 , -55.606384 ,\n",
       "       -22.03758  , -30.884293 , -23.437117 , -39.       , -39.       ,\n",
       "       -19.       , -19.       ,  -3.4371161, -10.884293 ,  -2.03758  ,\n",
       "       -35.606384 , -14.877264 ,  -3.3387942, -19.       , -19.       ],\n",
       "      dtype=float32)>"
      ]
     },
     "execution_count": 104,
     "metadata": {},
     "output_type": "execute_result"
    }
   ],
   "source": [
    "z+tf.ones_like(z)"
   ]
  },
  {
   "cell_type": "code",
   "execution_count": 105,
   "metadata": {
    "ExecuteTime": {
     "end_time": "2020-02-27T19:25:08.626837Z",
     "start_time": "2020-02-27T19:25:08.622851Z"
    }
   },
   "outputs": [
    {
     "name": "stdout",
     "output_type": "stream",
     "text": [
      "The tensorboard extension is already loaded. To reload it, use:\n",
      "  %reload_ext tensorboard\n"
     ]
    }
   ],
   "source": [
    "%load_ext tensorboard\n",
    "from datetime import datetime"
   ]
  },
  {
   "cell_type": "code",
   "execution_count": 106,
   "metadata": {
    "ExecuteTime": {
     "end_time": "2020-02-27T19:25:08.752589Z",
     "start_time": "2020-02-27T19:25:08.628251Z"
    }
   },
   "outputs": [],
   "source": [
    "!rm -rf ./logs/ "
   ]
  },
  {
   "cell_type": "code",
   "execution_count": 107,
   "metadata": {
    "ExecuteTime": {
     "end_time": "2020-02-27T19:25:08.761146Z",
     "start_time": "2020-02-27T19:25:08.755245Z"
    }
   },
   "outputs": [],
   "source": [
    "stamp = datetime.now().strftime(\"%Y%m%d-%H%M%S\")\n",
    "logdir = 'logs/func/%s' % stamp\n",
    "writer = tf.summary.create_file_writer(logdir)"
   ]
  },
  {
   "cell_type": "code",
   "execution_count": 108,
   "metadata": {
    "ExecuteTime": {
     "end_time": "2020-02-27T19:25:08.766444Z",
     "start_time": "2020-02-27T19:25:08.762949Z"
    }
   },
   "outputs": [],
   "source": [
    "tf.summary.trace_on(graph=True, profiler=True)"
   ]
  },
  {
   "cell_type": "code",
   "execution_count": 109,
   "metadata": {
    "ExecuteTime": {
     "end_time": "2020-02-27T19:25:09.487182Z",
     "start_time": "2020-02-27T19:25:08.768450Z"
    }
   },
   "outputs": [
    {
     "name": "stdout",
     "output_type": "stream",
     "text": [
      "tracing\n",
      "excuting\n"
     ]
    }
   ],
   "source": [
    "posterior = joint_log_prob(D,x,z)"
   ]
  },
  {
   "cell_type": "code",
   "execution_count": 110,
   "metadata": {
    "ExecuteTime": {
     "end_time": "2020-02-27T19:25:09.554474Z",
     "start_time": "2020-02-27T19:25:09.490863Z"
    }
   },
   "outputs": [],
   "source": [
    "with writer.as_default():\n",
    "  tf.summary.trace_export(\n",
    "      name=\"my_func_trace\",\n",
    "      step=0,\n",
    "      profiler_outdir=logdir)"
   ]
  },
  {
   "cell_type": "code",
   "execution_count": 111,
   "metadata": {
    "ExecuteTime": {
     "end_time": "2020-02-27T19:25:22.967645Z",
     "start_time": "2020-02-27T19:25:22.959105Z"
    }
   },
   "outputs": [
    {
     "data": {
      "text/plain": [
       "Reusing TensorBoard on port 6006 (pid 33754), started 4:50:20 ago. (Use '!kill 33754' to kill it.)"
      ]
     },
     "metadata": {},
     "output_type": "display_data"
    },
    {
     "data": {
      "text/html": [
       "\n",
       "      <iframe id=\"tensorboard-frame-1c80f81739adc5c3\" width=\"100%\" height=\"800\" frameborder=\"0\">\n",
       "      </iframe>\n",
       "      <script>\n",
       "        (function() {\n",
       "          const frame = document.getElementById(\"tensorboard-frame-1c80f81739adc5c3\");\n",
       "          const url = new URL(\"/\", window.location);\n",
       "          url.port = 6006;\n",
       "          frame.src = url;\n",
       "        })();\n",
       "      </script>\n",
       "  "
      ],
      "text/plain": [
       "<IPython.core.display.HTML object>"
      ]
     },
     "metadata": {},
     "output_type": "display_data"
    }
   ],
   "source": [
    "%tensorboard --logdir logs/func"
   ]
  },
  {
   "cell_type": "code",
   "execution_count": 25,
   "metadata": {
    "ExecuteTime": {
     "end_time": "2020-02-27T14:29:35.389886Z",
     "start_time": "2020-02-27T14:29:35.339248Z"
    }
   },
   "outputs": [
    {
     "name": "stdout",
     "output_type": "stream",
     "text": [
      "excuting\n",
      "excuting\n",
      "excuting\n",
      "excuting\n"
     ]
    },
    {
     "data": {
      "text/plain": [
       "<tf.Tensor: shape=(), dtype=float32, numpy=48.34826>"
      ]
     },
     "execution_count": 25,
     "metadata": {},
     "output_type": "execute_result"
    }
   ],
   "source": [
    "joint_log_prob(D,x,z)\n",
    "joint_log_prob(D,x,z)\n",
    "joint_log_prob(D,x,z)\n",
    "joint_log_prob(D,x,z)"
   ]
  },
  {
   "cell_type": "code",
   "execution_count": 17,
   "metadata": {
    "ExecuteTime": {
     "end_time": "2020-02-27T14:28:07.106521Z",
     "start_time": "2020-02-27T14:28:07.103224Z"
    }
   },
   "outputs": [
    {
     "data": {
      "text/plain": [
       "20"
      ]
     },
     "execution_count": 17,
     "metadata": {},
     "output_type": "execute_result"
    }
   ],
   "source": [
    "x.shape[0]"
   ]
  },
  {
   "cell_type": "code",
   "execution_count": 18,
   "metadata": {
    "ExecuteTime": {
     "end_time": "2020-02-27T14:28:07.113768Z",
     "start_time": "2020-02-27T14:28:07.108338Z"
    }
   },
   "outputs": [],
   "source": [
    "def g(x,z,loc):\n",
    "\n",
    "    G = tf.constant(6.67 * 10**(-11)) # gravitational constant  m^3 kg ^-1 s^-2\n",
    "    rho = tf.constant(1000.)        # density difference   kg/m^3\n",
    "\n",
    "    _x = x-loc[0]\n",
    "    _z = z-loc[1]\n",
    "\n",
    "    Z_sum = tf.constant(0.)\n",
    "\n",
    "    for i in tf.range(_x.shape[0]-1):\n",
    "        Z_sum = tf.add(Z_sum, Z(_x,_z,i,i+1))\n",
    "\n",
    "    Z_sum = tf.add(Z_sum, Z(_x,_z,-1,0))\n",
    "\n",
    "    g = 2*G*rho * Z_sum\n",
    "\n",
    "    return(g)\n",
    "\n"
   ]
  },
  {
   "cell_type": "code",
   "execution_count": 19,
   "metadata": {
    "ExecuteTime": {
     "end_time": "2020-02-27T14:28:07.122283Z",
     "start_time": "2020-02-27T14:28:07.115836Z"
    }
   },
   "outputs": [],
   "source": [
    "def g_new(x,z,loc):\n",
    "    \n",
    "    G = tf.constant(6.67 * 10**(-11)) # gravitational constant  m^3 kg ^-1 s^-2\n",
    "    rho = tf.constant(1000.)        # density difference   kg/m^3\n",
    "\n",
    "    _x = x-loc[0]\n",
    "    _z = z-loc[1]\n",
    "\n",
    "    Z_sum = tf.TensorArray(tf.float32, size=_x.shape[0])\n",
    "\n",
    "    for i in tf.range(_x.shape[0]-1):\n",
    "        Z_sum = Z_sum.write(i, Z(_x,_z,i,i+1))\n",
    "    Z_sum = Z_sum.write(_x.shape[0]-1,Z(_x,_z,-1,0))\n",
    "    a = Z_sum.stack()\n",
    "    g = 2*G*rho *tf.reduce_sum(a)\n",
    "    return(g)"
   ]
  },
  {
   "cell_type": "code",
   "execution_count": 20,
   "metadata": {
    "ExecuteTime": {
     "end_time": "2020-02-27T14:28:07.140323Z",
     "start_time": "2020-02-27T14:28:07.123974Z"
    }
   },
   "outputs": [
    {
     "ename": "NameError",
     "evalue": "name 'mu' is not defined",
     "output_type": "error",
     "traceback": [
      "\u001b[0;31m---------------------------------------------------------------------------\u001b[0m",
      "\u001b[0;31mNameError\u001b[0m                                 Traceback (most recent call last)",
      "\u001b[0;32m<ipython-input-20-cbb382b89de4>\u001b[0m in \u001b[0;36m<module>\u001b[0;34m\u001b[0m\n\u001b[0;32m----> 1\u001b[0;31m \u001b[0mtf\u001b[0m\u001b[0;34m.\u001b[0m\u001b[0mnegative\u001b[0m\u001b[0;34m(\u001b[0m\u001b[0mjoint_log_prob\u001b[0m\u001b[0;34m(\u001b[0m\u001b[0mD\u001b[0m\u001b[0;34m,\u001b[0m\u001b[0mx\u001b[0m\u001b[0;34m,\u001b[0m\u001b[0mz\u001b[0m\u001b[0;34m,\u001b[0m\u001b[0mmu\u001b[0m\u001b[0;34m)\u001b[0m\u001b[0;34m)\u001b[0m\u001b[0;34m\u001b[0m\u001b[0;34m\u001b[0m\u001b[0m\n\u001b[0m",
      "\u001b[0;31mNameError\u001b[0m: name 'mu' is not defined"
     ]
    }
   ],
   "source": [
    "tf.negative(joint_log_prob(D,x,z,mu))"
   ]
  },
  {
   "cell_type": "code",
   "execution_count": null,
   "metadata": {
    "ExecuteTime": {
     "end_time": "2020-02-27T14:28:07.152929Z",
     "start_time": "2020-02-27T14:28:03.740Z"
    }
   },
   "outputs": [],
   "source": [
    "z = tf.convert_to_tensor(z,dtype = tf.float32)"
   ]
  },
  {
   "cell_type": "code",
   "execution_count": null,
   "metadata": {
    "ExecuteTime": {
     "end_time": "2020-02-27T14:28:07.153942Z",
     "start_time": "2020-02-27T14:28:03.743Z"
    }
   },
   "outputs": [],
   "source": [
    "with tf.GradientTape() as t:\n",
    "    with tf.GradientTape() as tt:\n",
    "        tt.watch(z)\n",
    "        loss = tf.negative(joint_log_prob(D,x,z,mu))\n",
    "    jac = tt.gradient(loss,z,unconnected_gradients='zero')\n",
    "hess = t.gradient(jac,z,unconnected_gradients = 'none')"
   ]
  },
  {
   "cell_type": "code",
   "execution_count": null,
   "metadata": {
    "ExecuteTime": {
     "end_time": "2020-02-27T14:28:07.155439Z",
     "start_time": "2020-02-27T14:28:03.746Z"
    }
   },
   "outputs": [],
   "source": [
    "hess"
   ]
  },
  {
   "cell_type": "code",
   "execution_count": null,
   "metadata": {
    "ExecuteTime": {
     "end_time": "2020-02-27T14:28:07.156440Z",
     "start_time": "2020-02-27T14:28:03.748Z"
    }
   },
   "outputs": [],
   "source": [
    "def Full_Hessian():\n",
    "    Hess = tf.TensorArray(tf.float32, size=Number_para)\n",
    "    j=0\n",
    "    for i in range(Number_para+6,2*Number_para+6):\n",
    "        print(j)\n",
    "        with tf.GradientTape() as t:\n",
    "            with tf.GradientTape() as tt:\n",
    "                tt.watch(z)\n",
    "                loss = tf.negative(joint_log_prob(D,x,z,mu))\n",
    "            jac = tt.gradient(loss,z,unconnected_gradients='zero')[i]\n",
    "        hess = t.gradient(jac,z,unconnected_gradients = 'none')\n",
    "        Hess = Hess.write(j,hess)\n",
    "        j = j+1\n",
    "    return (Hess.stack()[:,Number_para+6:2*Number_para+6])"
   ]
  },
  {
   "cell_type": "code",
   "execution_count": null,
   "metadata": {
    "ExecuteTime": {
     "end_time": "2020-02-27T14:28:07.157806Z",
     "start_time": "2020-02-27T14:28:03.750Z"
    }
   },
   "outputs": [],
   "source": [
    "Hess = Full_Hessian()"
   ]
  },
  {
   "cell_type": "code",
   "execution_count": null,
   "metadata": {
    "ExecuteTime": {
     "end_time": "2020-02-27T14:28:07.159324Z",
     "start_time": "2020-02-27T14:28:03.752Z"
    }
   },
   "outputs": [],
   "source": [
    "Hess"
   ]
  },
  {
   "cell_type": "markdown",
   "metadata": {},
   "source": [
    "## Decorating with tf.function"
   ]
  },
  {
   "cell_type": "code",
   "execution_count": null,
   "metadata": {
    "ExecuteTime": {
     "end_time": "2020-02-27T14:28:07.160584Z",
     "start_time": "2020-02-27T14:28:03.754Z"
    }
   },
   "outputs": [],
   "source": [
    "@tf.function\n",
    "def A(x,z,p1,p2):\n",
    "    numerator = (x[p2]-x[p1])*(x[p1]*z[p2]-x[p2]*z[p1])\n",
    "    denominator = (x[p2]-x[p1])**2 + (z[p2]-z[p1])**2\n",
    "    return (numerator/denominator)\n",
    "\n",
    "@tf.function\n",
    "def B(x,z,p1,p2):\n",
    "    '''\n",
    "    x : array, x coordinate\n",
    "    z : array, z coordinate\n",
    "    p1, p2 : int, position\n",
    "    \n",
    "    '''\n",
    "    return ((z[p1]-z[p2])/(x[p2]-x[p1]))\n",
    "\n",
    "@tf.function\n",
    "def theta(x,z, p):\n",
    "    if tf.math.not_equal(x[p], 0) :\n",
    "        if tf.less(tf.atan(tf.divide(z[p],x[p])),0):\n",
    "            return(tf.atan(tf.divide(z[p],x[p]))+pi)\n",
    "        else:\n",
    "            return(tf.atan(tf.divide(z[p],x[p])))\n",
    "    elif tf.math.logical_and(tf.math.equal(x[p], 0), tf.math.not_equal(z[p], 0)):\n",
    "        return(pi/2)\n",
    "    else: return(0.)\n",
    "\n",
    "@tf.function(experimental_relax_shapes=True)\n",
    "def r(x,z,p):\n",
    "    '''\n",
    "    x : array, x coordinate\n",
    "    z : array, z coordinate\n",
    "    p : int, position\n",
    "    \n",
    "    '''\n",
    "    return(tf.sqrt(x[p]**2+z[p]**2))\n",
    "\n",
    "@tf.function\n",
    "def Z(x,z,p1,p2):\n",
    "    \n",
    "    if tf.logical_or(tf.logical_and(tf.equal(x[p1],z[p1]),tf.equal(x[p1],0.)), tf.logical_and(tf.equal(x[p2],z[p2]),tf.equal(x[p2],0.))):\n",
    "        return(0.)\n",
    "\n",
    "    elif tf.equal(x[p1], x[p2]):\n",
    "        return((x[p1]*tf.math.log(r(x,z,p2)/r(x,z,p1))))\n",
    "    \n",
    "    else:\n",
    "    \n",
    "        theta1 = theta(x,z, p1)\n",
    "        theta2 = theta(x,z, p2)\n",
    "\n",
    "        r1 = r(x,z,p1)\n",
    "        r2 = r(x,z,p2)\n",
    "\n",
    "        _A = A(x,z,p1,p2)\n",
    "        _B = B(x,z,p1,p2)\n",
    "\n",
    "        Z_result = _A*((theta1-theta2)+_B*tf.math.log(r1/r2))\n",
    "        return(Z_result)\n",
    "\n",
    "@tf.function\n",
    "def g(x,z,loc):\n",
    "\n",
    "#     G = tf.constant(6.67 * 10**(-11)) # gravitational constant  m^3 kg ^-1 s^-2\n",
    "#     rho = tf.constant(1000.)        # density difference   kg/m^3\n",
    "\n",
    "#     _x = x-loc[0]\n",
    "#     _z = z-loc[1]\n",
    "\n",
    "    Z_sum = tf.constant(0.)\n",
    "\n",
    "    for i in tf.range(x.shape[0]-1):\n",
    "        Z_sum = tf.add(Z_sum, Z(x,z,i,i+1))\n",
    "\n",
    "#     Z_sum = tf.add(Z_sum, Z(_x,_z,-1,0))\n",
    "\n",
    "#     g = 2*G*rho * Z_sum\n",
    "\n",
    "    return(Z_sum)\n",
    "\n",
    "@tf.function\n",
    "def g_while(x,z,loc):\n",
    "\n",
    "    Z_sum = tf.constant(0.)\n",
    "\n",
    "    for i in tf.range(x.shape[0]-1):\n",
    "        Z_sum = tf.add(Z_sum, Z(x,z,i,i+1))\n",
    "\n",
    "\n",
    "    return(Z_sum)\n"
   ]
  },
  {
   "cell_type": "code",
   "execution_count": null,
   "metadata": {
    "ExecuteTime": {
     "end_time": "2020-02-27T14:28:07.162090Z",
     "start_time": "2020-02-27T14:28:03.757Z"
    }
   },
   "outputs": [],
   "source": [
    "x.shape[0]-1"
   ]
  },
  {
   "cell_type": "code",
   "execution_count": null,
   "metadata": {
    "ExecuteTime": {
     "end_time": "2020-02-25T16:26:46.879139Z",
     "start_time": "2020-02-25T16:26:46.874963Z"
    }
   },
   "outputs": [],
   "source": []
  },
  {
   "cell_type": "code",
   "execution_count": null,
   "metadata": {
    "ExecuteTime": {
     "end_time": "2020-02-27T14:28:07.163354Z",
     "start_time": "2020-02-27T14:28:03.761Z"
    }
   },
   "outputs": [],
   "source": [
    "\n",
    "def g_while(x,z):\n",
    "    i = tf.constant(0)\n",
    "    Z_sum = tf.constant(0.)\n",
    "    c = lambda i,Z_sum: tf.less(i, 5)\n",
    "    def body(i,Z_sum):\n",
    "        i = i + 1\n",
    "        Z_sum = tf.add(Z_sum, Z(x,z,i,i+1))\n",
    "        return i,Z_sum\n",
    "    _,Z_sum = tf.while_loop(c, body, loop_vars=[i,Z_sum])\n",
    "    print( 'Tracing!')\n",
    "    tf.print( 'Executing!')\n",
    "    return Z_sum\n",
    "\n",
    "def jacobian():\n",
    "    with tf.GradientTape() as tt:\n",
    "        tt.watch(z)\n",
    "        loss = g_while(x,z)\n",
    "    jac = tt.gradient(loss,z,unconnected_gradients='zero')\n",
    "    print( 'jac Tracing!')\n",
    "    tf.print( 'jac Executing!')\n",
    "    return jac\n",
    "jacobian()\n",
    "jacobian()"
   ]
  },
  {
   "cell_type": "code",
   "execution_count": null,
   "metadata": {
    "ExecuteTime": {
     "end_time": "2020-02-27T14:28:07.164910Z",
     "start_time": "2020-02-27T14:28:03.763Z"
    }
   },
   "outputs": [],
   "source": [
    "@tf.function\n",
    "def g_while(x,z):\n",
    "    i = tf.constant(0)\n",
    "    Z_sum = tf.constant(0.)\n",
    "    c = lambda i,Z_sum: tf.less(i, 5)\n",
    "    def body(i,Z_sum):\n",
    "        i = i + 1\n",
    "        Z_sum = tf.add(Z_sum, Z(x,z,i,i+1))\n",
    "        return i,Z_sum\n",
    "    _,Z_sum = tf.while_loop(c, body, loop_vars=[i,Z_sum])\n",
    "    print( 'Tracing!')\n",
    "    tf.print( 'Executing!')\n",
    "    return Z_sum"
   ]
  },
  {
   "cell_type": "code",
   "execution_count": null,
   "metadata": {
    "ExecuteTime": {
     "end_time": "2020-02-27T14:28:07.166305Z",
     "start_time": "2020-02-27T14:28:03.765Z"
    }
   },
   "outputs": [],
   "source": [
    "@tf.function\n",
    "def jacobian():\n",
    "    with tf.GradientTape() as tt:\n",
    "        tt.watch(z)\n",
    "        loss = g_while(x,z)\n",
    "    jac = tt.gradient(loss,z,unconnected_gradients='zero')\n",
    "    print( 'jac Tracing!')\n",
    "    tf.print( 'jac Executing!')\n",
    "    return jac\n",
    "jacobian()\n",
    "jacobian()"
   ]
  },
  {
   "cell_type": "code",
   "execution_count": null,
   "metadata": {
    "ExecuteTime": {
     "end_time": "2020-02-27T14:28:07.167737Z",
     "start_time": "2020-02-27T14:28:03.768Z"
    }
   },
   "outputs": [],
   "source": [
    "g_while(x,z)"
   ]
  },
  {
   "cell_type": "code",
   "execution_count": null,
   "metadata": {
    "ExecuteTime": {
     "end_time": "2020-02-27T14:28:07.168834Z",
     "start_time": "2020-02-27T14:28:03.770Z"
    }
   },
   "outputs": [],
   "source": [
    "\n",
    "def H():\n",
    "    with tf.GradientTape() as t:\n",
    "        t.watch(z)\n",
    "        with tf.GradientTape() as tt:\n",
    "            tt.watch(z)\n",
    "            loss = g_while(x,z)\n",
    "        jac = tt.gradient(loss,z,unconnected_gradients='zero')\n",
    "    hess = t.gradient(jac,z,unconnected_gradients = 'none')\n",
    "\n",
    "    return hess"
   ]
  },
  {
   "cell_type": "code",
   "execution_count": null,
   "metadata": {
    "ExecuteTime": {
     "end_time": "2020-02-27T14:28:07.169865Z",
     "start_time": "2020-02-27T14:28:03.772Z"
    }
   },
   "outputs": [],
   "source": [
    "H()"
   ]
  },
  {
   "cell_type": "code",
   "execution_count": null,
   "metadata": {
    "ExecuteTime": {
     "end_time": "2020-02-27T14:28:07.170920Z",
     "start_time": "2020-02-27T14:28:03.774Z"
    }
   },
   "outputs": [],
   "source": [
    "g_while(x,z,tf.constant([0,0],dtype = tf.float32))"
   ]
  },
  {
   "cell_type": "code",
   "execution_count": null,
   "metadata": {
    "ExecuteTime": {
     "end_time": "2020-02-27T14:28:07.172071Z",
     "start_time": "2020-02-27T14:28:03.776Z"
    }
   },
   "outputs": [],
   "source": [
    "g(x,z,tf.constant([0,0],dtype = tf.float32))"
   ]
  },
  {
   "cell_type": "code",
   "execution_count": null,
   "metadata": {
    "ExecuteTime": {
     "end_time": "2020-02-27T14:28:07.173093Z",
     "start_time": "2020-02-27T14:28:03.779Z"
    }
   },
   "outputs": [],
   "source": [
    "Z(x,z,tf.constant(1),tf.constant(1))"
   ]
  },
  {
   "cell_type": "code",
   "execution_count": null,
   "metadata": {
    "ExecuteTime": {
     "end_time": "2020-02-27T14:28:07.174077Z",
     "start_time": "2020-02-27T14:28:03.781Z"
    }
   },
   "outputs": [],
   "source": [
    "loc = tf.constant([0,0],dtype = tf.float32)"
   ]
  },
  {
   "cell_type": "code",
   "execution_count": null,
   "metadata": {
    "ExecuteTime": {
     "end_time": "2020-02-27T14:28:07.175560Z",
     "start_time": "2020-02-27T14:28:03.783Z"
    }
   },
   "outputs": [],
   "source": [
    "with tf.GradientTape() as t:\n",
    "    t.watch(z)\n",
    "    with tf.GradientTape() as tt:\n",
    "        tt.watch(z)\n",
    "        loss = g(x,z,loc)\n",
    "    jac = tt.gradient(loss,z,unconnected_gradients='zero')\n",
    "hess = t.gradient(jac,z,unconnected_gradients = 'none')"
   ]
  },
  {
   "cell_type": "code",
   "execution_count": null,
   "metadata": {
    "ExecuteTime": {
     "end_time": "2020-02-27T14:28:07.176814Z",
     "start_time": "2020-02-27T14:28:03.785Z"
    }
   },
   "outputs": [],
   "source": [
    "hess"
   ]
  },
  {
   "cell_type": "code",
   "execution_count": null,
   "metadata": {},
   "outputs": [],
   "source": []
  },
  {
   "cell_type": "code",
   "execution_count": null,
   "metadata": {},
   "outputs": [],
   "source": []
  },
  {
   "cell_type": "code",
   "execution_count": null,
   "metadata": {},
   "outputs": [],
   "source": []
  },
  {
   "cell_type": "code",
   "execution_count": null,
   "metadata": {},
   "outputs": [],
   "source": []
  },
  {
   "cell_type": "code",
   "execution_count": null,
   "metadata": {},
   "outputs": [],
   "source": []
  },
  {
   "cell_type": "code",
   "execution_count": null,
   "metadata": {},
   "outputs": [],
   "source": []
  },
  {
   "cell_type": "code",
   "execution_count": null,
   "metadata": {},
   "outputs": [],
   "source": []
  },
  {
   "cell_type": "code",
   "execution_count": null,
   "metadata": {},
   "outputs": [],
   "source": []
  },
  {
   "cell_type": "code",
   "execution_count": null,
   "metadata": {},
   "outputs": [],
   "source": []
  },
  {
   "cell_type": "code",
   "execution_count": null,
   "metadata": {},
   "outputs": [],
   "source": []
  },
  {
   "cell_type": "code",
   "execution_count": null,
   "metadata": {},
   "outputs": [],
   "source": []
  },
  {
   "cell_type": "code",
   "execution_count": null,
   "metadata": {},
   "outputs": [],
   "source": []
  },
  {
   "cell_type": "code",
   "execution_count": null,
   "metadata": {},
   "outputs": [],
   "source": []
  },
  {
   "cell_type": "code",
   "execution_count": null,
   "metadata": {},
   "outputs": [],
   "source": []
  },
  {
   "cell_type": "code",
   "execution_count": null,
   "metadata": {},
   "outputs": [],
   "source": []
  },
  {
   "cell_type": "code",
   "execution_count": null,
   "metadata": {},
   "outputs": [],
   "source": []
  },
  {
   "cell_type": "code",
   "execution_count": null,
   "metadata": {},
   "outputs": [],
   "source": []
  },
  {
   "cell_type": "code",
   "execution_count": null,
   "metadata": {},
   "outputs": [],
   "source": []
  },
  {
   "cell_type": "code",
   "execution_count": null,
   "metadata": {},
   "outputs": [],
   "source": []
  },
  {
   "cell_type": "code",
   "execution_count": null,
   "metadata": {},
   "outputs": [],
   "source": []
  },
  {
   "cell_type": "code",
   "execution_count": null,
   "metadata": {},
   "outputs": [],
   "source": []
  },
  {
   "cell_type": "code",
   "execution_count": null,
   "metadata": {},
   "outputs": [],
   "source": []
  },
  {
   "cell_type": "code",
   "execution_count": null,
   "metadata": {},
   "outputs": [],
   "source": []
  },
  {
   "cell_type": "code",
   "execution_count": null,
   "metadata": {},
   "outputs": [],
   "source": []
  },
  {
   "cell_type": "code",
   "execution_count": null,
   "metadata": {},
   "outputs": [],
   "source": []
  },
  {
   "cell_type": "code",
   "execution_count": null,
   "metadata": {},
   "outputs": [],
   "source": []
  },
  {
   "cell_type": "code",
   "execution_count": null,
   "metadata": {},
   "outputs": [],
   "source": []
  },
  {
   "cell_type": "code",
   "execution_count": null,
   "metadata": {},
   "outputs": [],
   "source": []
  },
  {
   "cell_type": "code",
   "execution_count": null,
   "metadata": {},
   "outputs": [],
   "source": []
  },
  {
   "cell_type": "code",
   "execution_count": null,
   "metadata": {},
   "outputs": [],
   "source": []
  },
  {
   "cell_type": "code",
   "execution_count": null,
   "metadata": {},
   "outputs": [],
   "source": []
  },
  {
   "cell_type": "code",
   "execution_count": null,
   "metadata": {},
   "outputs": [],
   "source": []
  },
  {
   "cell_type": "code",
   "execution_count": null,
   "metadata": {
    "ExecuteTime": {
     "end_time": "2020-02-27T14:28:07.177823Z",
     "start_time": "2020-02-27T14:28:03.831Z"
    }
   },
   "outputs": [],
   "source": [
    "with tf.GradientTape() as t:\n",
    "    with tf.GradientTape() as tt:\n",
    "        tt.watch(z)\n",
    "        loss = tf.negative(joint_log_prob(D,x,z,mu))\n",
    "    jac = tt.gradient(loss,z,unconnected_gradients='zero')\n",
    "hess = t.jacobian(jac,z,unconnected_gradients = 'none')\n",
    "print(hess)"
   ]
  },
  {
   "cell_type": "code",
   "execution_count": null,
   "metadata": {
    "ExecuteTime": {
     "end_time": "2020-02-27T14:28:07.178762Z",
     "start_time": "2020-02-27T14:28:03.833Z"
    }
   },
   "outputs": [],
   "source": [
    "HessMatrix = np.empty(shape = [Number_para,Number_para])\n",
    "for x1,i1 in enumerate(range(Number_para+6,2*Number_para+6)):\n",
    "    for y1,i2 in enumerate(range(Number_para+6,2*Number_para+6)):\n",
    "        HessMatrix[x1,y1] = hess[i1,i2]"
   ]
  },
  {
   "cell_type": "markdown",
   "metadata": {},
   "source": [
    "Define the Prior and likelihood distribution"
   ]
  },
  {
   "cell_type": "code",
   "execution_count": null,
   "metadata": {
    "ExecuteTime": {
     "end_time": "2020-02-27T14:16:29.294578Z",
     "start_time": "2020-02-27T14:16:24.302Z"
    }
   },
   "outputs": [],
   "source": []
  },
  {
   "cell_type": "code",
   "execution_count": null,
   "metadata": {
    "ExecuteTime": {
     "end_time": "2020-02-27T14:28:07.179834Z",
     "start_time": "2020-02-27T14:28:03.836Z"
    }
   },
   "outputs": [],
   "source": [
    "points = tf.Variable(points,dtype = tf.float32)"
   ]
  },
  {
   "cell_type": "code",
   "execution_count": null,
   "metadata": {
    "ExecuteTime": {
     "end_time": "2020-02-27T14:28:07.181085Z",
     "start_time": "2020-02-27T14:28:03.838Z"
    }
   },
   "outputs": [],
   "source": [
    "# define the ground truth\n",
    "tf.random.set_seed(1234)\n",
    "tf.random.uniform([Number_para])\n",
    "True_position = tf.random.uniform([Number_para],-30,-1,seed = 10)\n",
    "x = tf.Variable(points[:,0])\n",
    "z = tf.Variable(points[:,1])\n",
    "obs_data = grav(x,z,True_position)"
   ]
  },
  {
   "cell_type": "code",
   "execution_count": null,
   "metadata": {
    "ExecuteTime": {
     "end_time": "2020-02-27T14:28:07.182256Z",
     "start_time": "2020-02-27T14:28:03.839Z"
    }
   },
   "outputs": [],
   "source": [
    "D = obs_data"
   ]
  },
  {
   "cell_type": "code",
   "execution_count": null,
   "metadata": {
    "ExecuteTime": {
     "end_time": "2020-02-27T14:28:07.183751Z",
     "start_time": "2020-02-27T14:28:03.841Z"
    }
   },
   "outputs": [],
   "source": [
    "D"
   ]
  },
  {
   "cell_type": "markdown",
   "metadata": {},
   "source": [
    "#### create some noise"
   ]
  },
  {
   "cell_type": "code",
   "execution_count": null,
   "metadata": {
    "ExecuteTime": {
     "end_time": "2020-02-27T14:28:07.185723Z",
     "start_time": "2020-02-27T14:28:03.844Z"
    }
   },
   "outputs": [],
   "source": [
    "tf.random.set_seed(1234)\n",
    "noise = tf.random.normal([obs_N],mean =0,stddev =sig_e,seed = 1)"
   ]
  },
  {
   "cell_type": "code",
   "execution_count": null,
   "metadata": {
    "ExecuteTime": {
     "end_time": "2020-02-27T14:28:07.186942Z",
     "start_time": "2020-02-27T14:28:03.845Z"
    }
   },
   "outputs": [],
   "source": [
    "D_noise = D+noise"
   ]
  },
  {
   "cell_type": "code",
   "execution_count": null,
   "metadata": {
    "ExecuteTime": {
     "end_time": "2020-02-27T14:28:07.187553Z",
     "start_time": "2020-02-27T14:28:03.847Z"
    }
   },
   "outputs": [],
   "source": [
    "joint_log_prob(D,x,z,True_position)"
   ]
  },
  {
   "cell_type": "code",
   "execution_count": null,
   "metadata": {
    "ExecuteTime": {
     "end_time": "2020-02-27T14:28:07.188708Z",
     "start_time": "2020-02-27T14:28:03.849Z"
    }
   },
   "outputs": [],
   "source": [
    "def grav_calculate(_x,_z,x_obs=None, R=70,ax = None,style = None,**args):\n",
    "    if ax is None:\n",
    "        f,ax=plt.subplots()\n",
    "    if x_obs is None:\n",
    "        x_obs = np.linspace(-R,R,501)\n",
    "    y = np.zeros(np.shape(x_obs))\n",
    "    obv = np.vstack((x_obs,y)).T\n",
    "    gravity = []\n",
    "    for i in obv:\n",
    "        gravity.append(-g(_x,_z,i))\n",
    "    gravity = np.array(gravity)\n",
    "    if style is None:\n",
    "        style = '-'\n",
    "    ax.set_title('gravity response at surface')\n",
    "    ax.set_ylabel('g_z ($m/s^2$ )')\n",
    "    ax.set_ylim(4e-6,10e-6)\n",
    "    ax.set_xlim(-70,70)\n",
    "    ax.ticklabel_format(axis='y', style='sci', scilimits=(-2,2))\n",
    "    ax.plot(x_obs,gravity,style,**args)\n",
    "    return gravity"
   ]
  },
  {
   "cell_type": "code",
   "execution_count": null,
   "metadata": {
    "ExecuteTime": {
     "end_time": "2020-02-27T14:28:07.189426Z",
     "start_time": "2020-02-27T14:28:03.850Z"
    }
   },
   "outputs": [],
   "source": [
    "D_noise"
   ]
  },
  {
   "cell_type": "code",
   "execution_count": null,
   "metadata": {
    "ExecuteTime": {
     "end_time": "2020-02-27T14:28:07.190059Z",
     "start_time": "2020-02-27T14:28:03.852Z"
    }
   },
   "outputs": [],
   "source": [
    "points"
   ]
  },
  {
   "cell_type": "code",
   "execution_count": null,
   "metadata": {
    "ExecuteTime": {
     "end_time": "2020-02-27T14:28:07.190939Z",
     "start_time": "2020-02-27T14:28:03.854Z"
    }
   },
   "outputs": [],
   "source": [
    "True_position"
   ]
  },
  {
   "cell_type": "code",
   "execution_count": null,
   "metadata": {
    "ExecuteTime": {
     "end_time": "2020-02-27T14:28:07.191658Z",
     "start_time": "2020-02-27T14:28:03.856Z"
    }
   },
   "outputs": [],
   "source": [
    "draw(points,True_position,R = 70)"
   ]
  },
  {
   "cell_type": "code",
   "execution_count": null,
   "metadata": {
    "ExecuteTime": {
     "end_time": "2020-02-27T14:28:07.192528Z",
     "start_time": "2020-02-27T14:28:03.858Z"
    }
   },
   "outputs": [],
   "source": [
    "grav_calculate(x,z,x_obs = tf.linspace(-70., 70.,500),R = 70)"
   ]
  },
  {
   "cell_type": "code",
   "execution_count": null,
   "metadata": {
    "ExecuteTime": {
     "end_time": "2020-02-27T14:28:07.193852Z",
     "start_time": "2020-02-27T14:28:03.859Z"
    }
   },
   "outputs": [],
   "source": [
    "True_position"
   ]
  },
  {
   "cell_type": "markdown",
   "metadata": {},
   "source": [
    "#### Gradient decent"
   ]
  },
  {
   "cell_type": "code",
   "execution_count": null,
   "metadata": {
    "ExecuteTime": {
     "end_time": "2020-02-27T14:28:07.194811Z",
     "start_time": "2020-02-27T14:28:03.862Z"
    }
   },
   "outputs": [],
   "source": [
    "mu = tf.random.uniform([Number_para],minval = -20,maxval = -2,seed = 1) # initial parameters"
   ]
  },
  {
   "cell_type": "code",
   "execution_count": null,
   "metadata": {
    "ExecuteTime": {
     "end_time": "2020-02-27T14:28:07.195617Z",
     "start_time": "2020-02-27T14:28:03.863Z"
    }
   },
   "outputs": [],
   "source": [
    "mu"
   ]
  },
  {
   "cell_type": "code",
   "execution_count": null,
   "metadata": {
    "ExecuteTime": {
     "end_time": "2020-02-27T14:28:07.196601Z",
     "start_time": "2020-02-27T14:28:03.865Z"
    }
   },
   "outputs": [],
   "source": [
    "joint_log_prob(D,x,z,True_position)"
   ]
  },
  {
   "cell_type": "code",
   "execution_count": null,
   "metadata": {
    "ExecuteTime": {
     "end_time": "2020-02-27T14:28:07.197295Z",
     "start_time": "2020-02-27T14:28:03.866Z"
    }
   },
   "outputs": [],
   "source": [
    "with tf.GradientTape() as t:  \n",
    "    t.watch(z)\n",
    "    loss = joint_log_prob(D_noise,x,z,mu) # negative log posterior\n",
    "dlossdmu = t.gradient(loss,z)"
   ]
  },
  {
   "cell_type": "code",
   "execution_count": null,
   "metadata": {
    "ExecuteTime": {
     "end_time": "2020-02-27T14:28:07.198160Z",
     "start_time": "2020-02-27T14:28:03.869Z"
    }
   },
   "outputs": [],
   "source": [
    "print(dlossdmu)"
   ]
  },
  {
   "cell_type": "code",
   "execution_count": null,
   "metadata": {
    "ExecuteTime": {
     "end_time": "2020-02-27T14:28:07.199106Z",
     "start_time": "2020-02-27T14:28:03.870Z"
    }
   },
   "outputs": [],
   "source": [
    "f,ax = plt.subplots()\n",
    "ax.plot(D,'r')\n",
    "ax.plot(D_noise)\n",
    "ax.set_ylim(4e-6,10e-6)"
   ]
  },
  {
   "cell_type": "code",
   "execution_count": null,
   "metadata": {
    "ExecuteTime": {
     "end_time": "2020-02-27T14:28:07.200248Z",
     "start_time": "2020-02-27T14:28:03.872Z"
    },
    "scrolled": true
   },
   "outputs": [],
   "source": [
    "for i in range(100):\n",
    "    with tf.GradientTape() as t:  \n",
    "        t.watch(z)\n",
    "        loss = tf.negative(joint_log_prob(D,x,z,mu)) # negative log posterior\n",
    "        dlossdmu = t.gradient(loss,z)\n",
    "        print('loss =',loss)\n",
    "        print('grad =',dlossdmu)\n",
    "    mu = mu-0.01*dlossdmu[Number_para+6:2*Number_para+6]\n",
    "#     print(mu)\n",
    "    print('Iteration:',i)"
   ]
  },
  {
   "cell_type": "code",
   "execution_count": null,
   "metadata": {
    "ExecuteTime": {
     "end_time": "2020-02-27T14:28:07.201587Z",
     "start_time": "2020-02-27T14:28:03.874Z"
    }
   },
   "outputs": [],
   "source": [
    "joint_log_prob(D,x,z,mu)"
   ]
  },
  {
   "cell_type": "code",
   "execution_count": null,
   "metadata": {
    "ExecuteTime": {
     "end_time": "2020-02-27T14:28:07.202750Z",
     "start_time": "2020-02-27T14:28:03.875Z"
    }
   },
   "outputs": [],
   "source": [
    "joint_log_prob(D,x,z,True_position)"
   ]
  }
 ],
 "metadata": {
  "kernelspec": {
   "display_name": "Python 3",
   "language": "python",
   "name": "python3"
  },
  "language_info": {
   "codemirror_mode": {
    "name": "ipython",
    "version": 3
   },
   "file_extension": ".py",
   "mimetype": "text/x-python",
   "name": "python",
   "nbconvert_exporter": "python",
   "pygments_lexer": "ipython3",
   "version": "3.7.1"
  },
  "varInspector": {
   "cols": {
    "lenName": 16,
    "lenType": 16,
    "lenVar": 40
   },
   "kernels_config": {
    "python": {
     "delete_cmd_postfix": "",
     "delete_cmd_prefix": "del ",
     "library": "var_list.py",
     "varRefreshCmd": "print(var_dic_list())"
    },
    "r": {
     "delete_cmd_postfix": ") ",
     "delete_cmd_prefix": "rm(",
     "library": "var_list.r",
     "varRefreshCmd": "cat(var_dic_list()) "
    }
   },
   "types_to_exclude": [
    "module",
    "function",
    "builtin_function_or_method",
    "instance",
    "_Feature"
   ],
   "window_display": false
  }
 },
 "nbformat": 4,
 "nbformat_minor": 2
}
