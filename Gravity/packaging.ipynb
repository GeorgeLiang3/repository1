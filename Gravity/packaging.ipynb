{
 "cells": [
  {
   "cell_type": "code",
   "execution_count": 1,
   "metadata": {
    "ExecuteTime": {
     "end_time": "2020-02-11T16:52:50.561762Z",
     "start_time": "2020-02-11T16:52:47.689100Z"
    }
   },
   "outputs": [],
   "source": [
    "from Gravity_GP import *"
   ]
  },
  {
   "cell_type": "markdown",
   "metadata": {},
   "source": [
    "### define some numbers"
   ]
  },
  {
   "cell_type": "code",
   "execution_count": 2,
   "metadata": {
    "ExecuteTime": {
     "end_time": "2020-02-11T16:52:50.590209Z",
     "start_time": "2020-02-11T16:52:50.579647Z"
    }
   },
   "outputs": [],
   "source": [
    "Number_para = 15\n",
    "obs_N = 15\n",
    "number_burnin = 1000\n",
    "number_sample = 2000\n",
    "steps_gradient_decent = 100\n",
    "\n",
    "depth = constant64(-40)\n",
    "thickness = constant64(2)\n",
    "\n",
    "\n",
    "mu_prior = -60.*tf.ones([Number_para],dtype = tf.float64)\n",
    "cov_prior = 10.*tf.eye(Number_para,dtype = tf.float64)\n",
    "\n",
    "# likelihood\n",
    "sig_e = constant64(0.00000001)\n",
    "cov = sig_e**2.*tf.eye(obs_N,dtype = tf.float64)\n",
    "\n",
    "\n",
    "tf.random.set_seed(8)\n",
    "control_position = tf.random.normal([Number_para],depth,7,dtype = tf.float64)\n",
    "control_index = tf.linspace(constant64(-70),constant64(70),Number_para)\n",
    "\n",
    "M = 10\n",
    "\n",
    "fix_point1 = tf.transpose(tf.stack([tf.linspace(constant64(-150),constant64(-80),M),depth*tf.ones(M,dtype = tf.float64)]))\n",
    "fix_point2 = tf.transpose(tf.stack([tf.linspace(constant64(80),constant64(150),M),depth*tf.ones(M,dtype = tf.float64)]))"
   ]
  },
  {
   "cell_type": "code",
   "execution_count": 4,
   "metadata": {
    "ExecuteTime": {
     "end_time": "2020-02-11T16:53:01.508328Z",
     "start_time": "2020-02-11T16:53:01.505742Z"
    }
   },
   "outputs": [],
   "source": [
    "model = GravityModel(mu_prior,cov_prior,cov,fix_point1,fix_point2,Number_para,obs_N)"
   ]
  },
  {
   "cell_type": "code",
   "execution_count": null,
   "metadata": {},
   "outputs": [],
   "source": []
  }
 ],
 "metadata": {
  "kernelspec": {
   "display_name": "Python 3.7.1 64-bit ('bys': conda)",
   "language": "python",
   "name": "python37164bitbysconda40e087e0fc0f4c79b5e00459bd86405a"
  },
  "language_info": {
   "codemirror_mode": {
    "name": "ipython",
    "version": 3
   },
   "file_extension": ".py",
   "mimetype": "text/x-python",
   "name": "python",
   "nbconvert_exporter": "python",
   "pygments_lexer": "ipython3",
   "version": "3.7.1"
  },
  "varInspector": {
   "cols": {
    "lenName": 16,
    "lenType": 16,
    "lenVar": 40
   },
   "kernels_config": {
    "python": {
     "delete_cmd_postfix": "",
     "delete_cmd_prefix": "del ",
     "library": "var_list.py",
     "varRefreshCmd": "print(var_dic_list())"
    },
    "r": {
     "delete_cmd_postfix": ") ",
     "delete_cmd_prefix": "rm(",
     "library": "var_list.r",
     "varRefreshCmd": "cat(var_dic_list()) "
    }
   },
   "types_to_exclude": [
    "module",
    "function",
    "builtin_function_or_method",
    "instance",
    "_Feature"
   ],
   "window_display": false
  }
 },
 "nbformat": 4,
 "nbformat_minor": 4
}
