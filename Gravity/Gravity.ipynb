{
 "cells": [
  {
   "cell_type": "code",
   "execution_count": 811,
   "metadata": {
    "ExecuteTime": {
     "end_time": "2019-12-08T20:47:02.306993Z",
     "start_time": "2019-12-08T20:47:02.302150Z"
    }
   },
   "outputs": [],
   "source": [
    "%matplotlib inline\n",
    "import matplotlib.pyplot as plt\n",
    "import numpy as np\n",
    "import tensorflow as tf\n",
    "import scipy"
   ]
  },
  {
   "cell_type": "markdown",
   "metadata": {},
   "source": [
    "Calculate gravity of polygon\n",
    "\n",
    "\" Computing the gravitaional and magnetic anomalies due to a polygon: Algorithems and Fortran subroutines' Won 1986\n"
   ]
  },
  {
   "cell_type": "code",
   "execution_count": 1014,
   "metadata": {
    "ExecuteTime": {
     "end_time": "2019-12-09T13:15:20.093534Z",
     "start_time": "2019-12-09T13:15:20.081125Z"
    }
   },
   "outputs": [],
   "source": [
    "def A(x,z,p1,p2):\n",
    "    numerator = (x[p2]-x[p1])*(x[p1]*z[p2]-x[p2]*z[p1])\n",
    "    denominator = (x[p2]-x[p1])**2 + (z[p2]-z[p1])**2\n",
    "    return (numerator/denominator)\n",
    "\n",
    "def B(x,z,p1,p2):\n",
    "    return ((z[p2]-z[p1])/(x[p2]-x[p1]))\n",
    "\n",
    "def theta(x,z, p):\n",
    "    if x[p] != 0 :\n",
    "        if(np.arctan(z[p]/x[p]))<0:\n",
    "            return(np.arctan(z[p]/x[p])+scipy.pi)\n",
    "        else:\n",
    "            return(np.arctan(z[p]/x[p]))\n",
    "    if x[p] == 0 and z[p]!=0 :\n",
    "        return(scipy.pi/2)\n",
    "\n",
    "def r(x,z,p):\n",
    "    return(np.sqrt(x[p]**2+z[p]**2))\n",
    "\n",
    "def Z(x,z,p1,p2):\n",
    "    \n",
    "    if x[p1] == z[p1]==0 or x[p2] == z[p2]==0:\n",
    "        return(0)\n",
    "    \n",
    "    if x[p1] == x[p2]:\n",
    "        return(np.absolute(x[p1]*np.log(r(x,z,p2)/r(x,z,p1))))\n",
    "    \n",
    "    theta1 = theta(x,z, p1)\n",
    "    theta2 = theta(x,z, p2)\n",
    "    \n",
    "    r1 = r(x,z,p1)\n",
    "    r2 = r(x,z,p2)\n",
    "    \n",
    "#     if z[p1]*z[p2]<0:\n",
    "#         if x[p1]*z[p2]==x[p2]*z[p1]:\n",
    "#             return(0)\n",
    "#         if x[p1]*z[p2] < x[p2]*z[p1] and z[p2]>=0:\n",
    "#             theta1 += 2*scipy.pi\n",
    "#         if x[p1]*z[p2] > x[p2]*z[p1] and z[p1]>=0:\n",
    "#             theta2 += 2*scipy.pi\n",
    "    \n",
    "    _A = A(x,z,p1,p2)\n",
    "    _B = B(x,z,p1,p2)\n",
    "    \n",
    "    Z_result = _A*(np.absolute(theta1-theta2)+_B*np.log(r1/r2))\n",
    "    return(Z_result)"
   ]
  },
  {
   "cell_type": "markdown",
   "metadata": {},
   "source": [
    "Gravity at origin is calculated as $\\Delta g_{z}=2 G \\rho \\sum_{i=1}^{n} Z_{i}$\n",
    "(Won, 1987)"
   ]
  },
  {
   "cell_type": "code",
   "execution_count": 1015,
   "metadata": {
    "ExecuteTime": {
     "end_time": "2019-12-09T13:15:20.621413Z",
     "start_time": "2019-12-09T13:15:20.615360Z"
    }
   },
   "outputs": [],
   "source": [
    "def g(data,loc=(0,0)):\n",
    "    \n",
    "    G = 6.67 * 10**(-11) # gravitational constant  m^3 kg ^-1 s^-2\n",
    "    rho = 1000           # density difference   kg/m^3\n",
    "    \n",
    "    _data = data - loc #Calculate any point refer to the origin\n",
    "\n",
    "    _x = _data[:,0]\n",
    "    _z = _data[:,1]\n",
    "\n",
    "    Z_sum = 0\n",
    "    \n",
    "    for i in range(_data.shape[0]-1):\n",
    "        Z_sum += Z(_x,_z,i,i+1)\n",
    "\n",
    "    Z_sum += Z(_x,_z,-1,0)\n",
    "\n",
    "    g = 2*G*rho * Z_sum\n",
    "    \n",
    "    return(g)"
   ]
  },
  {
   "cell_type": "code",
   "execution_count": 1016,
   "metadata": {
    "ExecuteTime": {
     "end_time": "2019-12-09T13:15:20.814625Z",
     "start_time": "2019-12-09T13:15:20.811026Z"
    }
   },
   "outputs": [
    {
     "data": {
      "text/plain": [
       "-4.656547223434521e-07"
      ]
     },
     "execution_count": 1016,
     "metadata": {},
     "output_type": "execute_result"
    }
   ],
   "source": [
    "g(points,(2,0))"
   ]
  },
  {
   "cell_type": "code",
   "execution_count": 1017,
   "metadata": {
    "ExecuteTime": {
     "end_time": "2019-12-09T13:15:21.079998Z",
     "start_time": "2019-12-09T13:15:21.075108Z"
    }
   },
   "outputs": [],
   "source": [
    "def draw(points):\n",
    "    x = points[:,0]\n",
    "    z = points[:,1]\n",
    "    for i in range(points.shape[0]):\n",
    "        plt.plot(x[i:i+2],z[i:i+2],'ro-')\n",
    "    plt.plot([x[0],x[-1]],[z[0],z[-1]],'r-')"
   ]
  },
  {
   "cell_type": "code",
   "execution_count": 1034,
   "metadata": {
    "ExecuteTime": {
     "end_time": "2019-12-09T13:15:55.883879Z",
     "start_time": "2019-12-09T13:15:55.880483Z"
    }
   },
   "outputs": [],
   "source": [
    "points=np.array([[-1,11],\n",
    "              [1, 11],\n",
    "              [1, 10],\n",
    "              [-1, 10]])"
   ]
  },
  {
   "cell_type": "code",
   "execution_count": 1035,
   "metadata": {
    "ExecuteTime": {
     "end_time": "2019-12-09T13:15:56.341996Z",
     "start_time": "2019-12-09T13:15:56.182222Z"
    }
   },
   "outputs": [
    {
     "data": {
      "image/png": "[encoded data removed]",
      "text/plain": [
       "<Figure size 432x288 with 1 Axes>"
      ]
     },
     "metadata": {
      "needs_background": "light"
     },
     "output_type": "display_data"
    }
   ],
   "source": [
    "draw(points)"
   ]
  },
  {
   "cell_type": "code",
   "execution_count": 1039,
   "metadata": {
    "ExecuteTime": {
     "end_time": "2019-12-09T13:16:34.574766Z",
     "start_time": "2019-12-09T13:16:34.570934Z"
    }
   },
   "outputs": [],
   "source": [
    "x = np.linspace(-100,100,501)\n",
    "y = np.zeros(np.shape(x))\n",
    "obv = np.vstack((x,y)).T"
   ]
  },
  {
   "cell_type": "code",
   "execution_count": 1043,
   "metadata": {
    "ExecuteTime": {
     "end_time": "2019-12-09T13:17:03.133819Z",
     "start_time": "2019-12-09T13:17:03.092085Z"
    }
   },
   "outputs": [],
   "source": [
    "gravity = []\n",
    "for i in obv:\n",
    "    gravity.append(-g(points,i))"
   ]
  },
  {
   "cell_type": "code",
   "execution_count": 1044,
   "metadata": {
    "ExecuteTime": {
     "end_time": "2019-12-09T13:17:03.553618Z",
     "start_time": "2019-12-09T13:17:03.403531Z"
    }
   },
   "outputs": [
    {
     "data": {
      "text/plain": [
       "[<matplotlib.lines.Line2D at 0x63ab63d30>]"
      ]
     },
     "execution_count": 1044,
     "metadata": {},
     "output_type": "execute_result"
    },
    {
     "data": {
      "image/png": "[encoded data removed]",
      "text/plain": [
       "<Figure size 432x288 with 1 Axes>"
      ]
     },
     "metadata": {
      "needs_background": "light"
     },
     "output_type": "display_data"
    }
   ],
   "source": [
    "plt.plot(x,gravity)"
   ]
  },
  {
   "cell_type": "code",
   "execution_count": null,
   "metadata": {},
   "outputs": [],
   "source": [
    "points=np.array([[-1,11],\n",
    "              [1, 11],\n",
    "              [1, 10],\n",
    "              [-1, 10]])"
   ]
  }
 ],
 "metadata": {
  "kernelspec": {
   "display_name": "Python 3",
   "language": "python",
   "name": "python3"
  },
  "language_info": {
   "codemirror_mode": {
    "name": "ipython",
    "version": 3
   },
   "file_extension": ".py",
   "mimetype": "text/x-python",
   "name": "python",
   "nbconvert_exporter": "python",
   "pygments_lexer": "ipython3",
   "version": "3.7.3"
  },
  "varInspector": {
   "cols": {
    "lenName": 16,
    "lenType": 16,
    "lenVar": 40
   },
   "kernels_config": {
    "python": {
     "delete_cmd_postfix": "",
     "delete_cmd_prefix": "del ",
     "library": "var_list.py",
     "varRefreshCmd": "print(var_dic_list())"
    },
    "r": {
     "delete_cmd_postfix": ") ",
     "delete_cmd_prefix": "rm(",
     "library": "var_list.r",
     "varRefreshCmd": "cat(var_dic_list()) "
    }
   },
   "types_to_exclude": [
    "module",
    "function",
    "builtin_function_or_method",
    "instance",
    "_Feature"
   ],
   "window_display": false
  }
 },
 "nbformat": 4,
 "nbformat_minor": 2
}
