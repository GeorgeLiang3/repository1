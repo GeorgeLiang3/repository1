{
 "cells": [
  {
   "cell_type": "code",
   "execution_count": 1,
   "metadata": {
    "ExecuteTime": {
     "end_time": "2020-01-10T15:32:49.948874Z",
     "start_time": "2020-01-10T15:32:43.605737Z"
    }
   },
   "outputs": [],
   "source": [
    "%matplotlib inline\n",
    "import matplotlib.pyplot as plt\n",
    "import numpy as np\n",
    "import tensorflow as tf\n",
    "import scipy\n",
    "from scipy.stats import norm\n",
    "import tensorflow_probability as tfp\n",
    "import seaborn as sns\n",
    "import pandas as pd\n",
    "import corner \n",
    "import math as m\n",
    "\n",
    "tfd=tfp.distributions"
   ]
  },
  {
   "cell_type": "code",
   "execution_count": 2,
   "metadata": {
    "ExecuteTime": {
     "end_time": "2020-01-10T15:32:49.981393Z",
     "start_time": "2020-01-10T15:32:49.958840Z"
    }
   },
   "outputs": [],
   "source": [
    "def draw(points,ax = None,R = 100):\n",
    "    ## function to plot the geometry\n",
    "    if ax == None:\n",
    "        f,ax=plt.subplots()\n",
    "    x = points[:,0]\n",
    "    z = points[:,1]\n",
    "    for i in range(points.shape[0]):\n",
    "        ax.plot(x[i:i+2],z[i:i+2],'r-')\n",
    "    x_ = np.linspace(-R,R,10)\n",
    "    ax.plot(x_,np.zeros(np.shape(x_)),lw = 0.5)# draw a reference line, surface\n",
    "    ax.plot([x[0],x[-1]],[z[0],z[-1]],'r-')\n",
    "    ax.set_ylim(min(points[:,1])-10,5)\n",
    "    ax.set_xlim(-R,R)\n",
    "    \n",
    "pi = tf.constant(m.pi) # define PI in Tensorflow form"
   ]
  },
  {
   "cell_type": "code",
   "execution_count": 3,
   "metadata": {
    "ExecuteTime": {
     "end_time": "2020-01-10T15:32:50.000640Z",
     "start_time": "2020-01-10T15:32:49.991950Z"
    }
   },
   "outputs": [],
   "source": [
    "depth = -20\n",
    "thickness = 20\n",
    "\n",
    "corners=np.array([[-200,depth-thickness],\n",
    "                  [-70,depth-thickness],\n",
    "                  [70,depth-thickness],# bottom left coner\n",
    "              [200,depth-thickness], \n",
    "              [200,depth], # bottom right coner\n",
    "              [70, depth], # top right coner\n",
    "              [-70,depth],# top left coner\n",
    "              [-200,depth]])\n",
    "N = 2\n",
    "obs_N = 9\n",
    "points = np.empty((2*N+8,2),dtype = np.float32)\n",
    "\n",
    "points[0] = corners[0]\n",
    "points[1] = corners[1]\n",
    "\n",
    "for i in range(6):\n",
    "    points[N+i] = corners[i]\n",
    "    \n",
    "points[-2]=corners[-2]\n",
    "points[-1]=corners[-1]\n",
    "\n",
    "np.random.seed(21)\n",
    "\n",
    "x2 = np.linspace(-70,70,N+2)\n",
    "x1 = np.linspace(70,-70,N+2)\n",
    "\n",
    "thickness = 20\n",
    "y1 = np.random.uniform(-2,-50,N)\n",
    "y2 = y1-thickness\n",
    "\n",
    "y1 = list(reversed(y1))\n",
    "\n",
    "for i in range(2,N+2): ## lower layer\n",
    "    points[i][1] = y2[i-2]\n",
    "    points[i][0] = x2[i-1]\n",
    "    \n",
    "for i in range(N+6,2*N+6): ## upper layer\n",
    "    points[i][1] = y1[i-N-6]\n",
    "    points[i][0] = x1[i-N-5]\n"
   ]
  },
  {
   "cell_type": "code",
   "execution_count": 4,
   "metadata": {
    "ExecuteTime": {
     "end_time": "2020-01-10T15:32:50.188271Z",
     "start_time": "2020-01-10T15:32:50.013508Z"
    }
   },
   "outputs": [
    {
     "data": {
      "text/plain": [
       "(-70, 70)"
      ]
     },
     "execution_count": 4,
     "metadata": {},
     "output_type": "execute_result"
    },
    {
     "data": {
      "image/png": "[encoded data removed]",
      "text/plain": [
       "<Figure size 432x288 with 1 Axes>"
      ]
     },
     "metadata": {
      "needs_background": "light"
     },
     "output_type": "display_data"
    }
   ],
   "source": [
    "f,ax=plt.subplots()\n",
    "x = points[:,0]\n",
    "z = points[:,1]\n",
    "for i in range(points.shape[0]):\n",
    "    ax.plot(x[i:i+2],z[i:i+2],'r-')\n",
    "x_ = np.linspace(-70,70,10)\n",
    "ax.plot(x_,np.zeros(np.shape(x_)),lw = 0.5)# draw a reference line, surface\n",
    "ax.plot([x[0],x[-1]],[z[0],z[-1]],'r-')\n",
    "ax.set_ylim(min(points[:,1])-10,5)\n",
    "ax.set_xlim(-70,70)\n"
   ]
  },
  {
   "cell_type": "markdown",
   "metadata": {},
   "source": [
    "#### Z direction gravity line integration following Won 1987\n",
    "\\begin{equation}\n",
    "\\Delta g_{z}=2 G \\rho \\sum_{i=1}^{n} Z_{i}\n",
    "\\end{equation}\n",
    "\n",
    "\\begin{equation}\n",
    "Z=A\\left[\\left(\\theta_{1}-\\theta_{2}\\right)+B \\ln \\frac{r_{2}}{r_{1}}\\right]\n",
    "\\end{equation}\n",
    "\n",
    "where,   \n",
    "\\begin{equation}\n",
    "\\begin{aligned}\n",
    "&A=\\frac{\\left(x_{2}-x_{1}\\right)\\left(x_{1} z_{2}-x_{2} z_{1}\\right)}{\\left(x_{2}-x_{1}\\right)^{2}+\\left(z_{2}-z_{1}\\right)^{2}}\\\\\n",
    "&B=\\frac{z_{2}-z_{1}}{x_{2}-x_{1}}\n",
    "\\end{aligned}\n",
    "\\end{equation}\n",
    "\n",
    "and,   \n",
    "\\begin{equation}\n",
    "\\begin{aligned}\n",
    "&r_{1}^{2}=x_{1}^{2}+z_{1}^{2}\\\\\n",
    "&r_{2}^{2}=x_{2}^{2}+z_{2}^{2}\n",
    "\\end{aligned}\n",
    "\\end{equation}\n"
   ]
  },
  {
   "cell_type": "code",
   "execution_count": 39,
   "metadata": {
    "ExecuteTime": {
     "end_time": "2020-01-10T15:47:52.231882Z",
     "start_time": "2020-01-10T15:47:51.805203Z"
    }
   },
   "outputs": [],
   "source": [
    "@tf.function\n",
    "def A(x,z,p1,p2):\n",
    "    numerator = (x[p2]-x[p1])*(x[p1]*z[p2]-x[p2]*z[p1])\n",
    "    denominator = (x[p2]-x[p1])**2 + (z[p2]-z[p1])**2\n",
    "    return (numerator/denominator)\n",
    "\n",
    "@tf.function\n",
    "def B(x,z,p1,p2):\n",
    "    '''\n",
    "    x : array, x coordinate\n",
    "    z : array, z coordinate\n",
    "    p1, p2 : int, position\n",
    "    \n",
    "    '''\n",
    "    return ((z[p1]-z[p2])/(x[p2]-x[p1]))\n",
    "\n",
    "@tf.function\n",
    "def theta(x,z, p):\n",
    "    if tf.math.not_equal(x[p], 0) :\n",
    "        if tf.less(tf.atan(tf.divide(z[p],x[p])),0):\n",
    "            return(tf.atan(tf.divide(z[p],x[p]))+pi)\n",
    "        else:\n",
    "            return(tf.atan(tf.divide(z[p],x[p])))\n",
    "    elif tf.math.logical_and(tf.math.equal(x[p], 0), tf.math.not_equal(z[p], 0)):\n",
    "        return(pi/2)\n",
    "    else: return(0.)\n",
    "\n",
    "@tf.function\n",
    "def r(x,z,p):\n",
    "    '''\n",
    "    x : array, x coordinate\n",
    "    z : array, z coordinate\n",
    "    p : int, position\n",
    "    \n",
    "    '''\n",
    "    return(tf.sqrt(x[p]**2+z[p]**2))\n",
    "\n",
    "@tf.function\n",
    "def Z(x,z,p1,p2):\n",
    "    \n",
    "    if tf.logical_or(tf.logical_and(tf.equal(x[p1],z[p1]),tf.equal(x[p1],0.)), tf.logical_and(tf.equal(x[p2],z[p2]),tf.equal(x[p2],0.))):\n",
    "        return(0.)\n",
    "\n",
    "    elif tf.equal(x[p1], x[p2]):\n",
    "        return((x[p1]*tf.math.log(r(x,z,p2)/r(x,z,p1))))\n",
    "    \n",
    "    else:\n",
    "    \n",
    "        theta1 = theta(x,z, p1)\n",
    "        theta2 = theta(x,z, p2)\n",
    "\n",
    "        r1 = r(x,z,p1)\n",
    "        r2 = r(x,z,p2)\n",
    "\n",
    "        _A = A(x,z,p1,p2)\n",
    "        _B = B(x,z,p1,p2)\n",
    "\n",
    "        Z_result = _A*((theta1-theta2)+_B*tf.math.log(r1/r2))\n",
    "        return(Z_result)\n",
    "\n",
    "\n",
    "def g(data,loc):\n",
    "    \n",
    "    ''' \n",
    "    data: Points defining the geometry 2N+coners\n",
    "    loc: reference point (2x1)\n",
    "    \n",
    "    '''\n",
    "    \n",
    "    G = tf.constant(6.67 * 10**(-11)) # gravitational constant  m^3 kg ^-1 s^-2\n",
    "    rho = tf.constant(1000.)        # density difference   kg/m^3\n",
    "\n",
    "    _data = data - loc #Calculate any point refer to the origin\n",
    "\n",
    "    _x = _data[:,0]\n",
    "    _z = _data[:,1]\n",
    "\n",
    "    Z_sum = tf.constant(0.)\n",
    "\n",
    "    for i in tf.range(_data.shape[0]-1):\n",
    "        Z_sum = tf.add(Z_sum, Z(_x,_z,i,i+1))\n",
    "\n",
    "    Z_sum = tf.add(Z_sum, Z(_x,_z,-1,0))\n",
    "\n",
    "    g = 2*G*rho * Z_sum\n",
    "\n",
    "    return(g)\n",
    "\n",
    "\n",
    "def grav(points,ps):\n",
    "    \"\"\"\n",
    "    points: base point, fixing the x position\n",
    "    ps: Positions,Variable(N elements vector), tuning z position\n",
    "    \n",
    "    \"\"\"\n",
    "    t = tf.convert_to_tensor(thickness,dtype = tf.float32)\n",
    "    N1 = tf.constant(N)\n",
    "    ps2 = ps-t\n",
    "\n",
    "    ps2 = tf.reverse(ps2,[-1])\n",
    "\n",
    "    for i in tf.range(2,N1+2): ## lower layer\n",
    "        points[i].assign([points[i][0],ps2[i-2]])\n",
    "\n",
    "    for i in tf.range(N1+6,2*N1+6): ## upper layer\n",
    "        points[i].assign([points[i][0],ps[i-N1-6]])\n",
    "\n",
    "    x_obv = tf.linspace(-70., 70., obs_N+2)\n",
    "    y_obv = tf.zeros(tf.shape(x_obv))\n",
    "    obv = tf.stack((x_obv,y_obv),axis = 1)\n",
    "\n",
    "\n",
    "    gravity = tf.TensorArray(tf.float32, size=obv.shape[0]-2)\n",
    "    \n",
    "    j = tf.constant(0)\n",
    "    for i in obv[1:-1]:\n",
    "        gravity=gravity.write(j,-g(points,i))\n",
    "        j = tf.add(j,1)\n",
    "    return gravity.stack()\n",
    "\n",
    "\n",
    "def joint_log_prob(D,points_copy,ps):\n",
    "    \"\"\"\n",
    "    D: is the observation data\n",
    "    ps: Positions,Variable(N elements vector)\n",
    "    \"\"\"\n",
    "    # define random variables prior\n",
    "    \n",
    "    low_ = tf.constant(-40.)\n",
    "    high_ = tf.constant(-1.)\n",
    "    mvn_prior = tfd.Uniform(\n",
    "            low = low_,\n",
    "            high = high_)\n",
    "    # define likelihood\n",
    "    \n",
    "    Gm_ = grav(points_copy,ps)\n",
    "    \n",
    "    mvn_likelihood = tfd.MultivariateNormalFullCovariance(\n",
    "            loc = Gm_,\n",
    "            covariance_matrix= cov)\n",
    "    \n",
    "    # return the posterior probability\n",
    "    return(tf.reduce_sum(mvn_prior.log_prob(ps))\n",
    "          +mvn_likelihood.log_prob(D))\n"
   ]
  },
  {
   "cell_type": "code",
   "execution_count": 40,
   "metadata": {
    "ExecuteTime": {
     "end_time": "2020-01-10T15:47:52.271028Z",
     "start_time": "2020-01-10T15:47:52.265274Z"
    }
   },
   "outputs": [
    {
     "data": {
      "text/plain": [
       "<tf.Tensor: id=484408, shape=(2,), dtype=float32, numpy=array([-3.6635616, -3.6635616], dtype=float32)>"
      ]
     },
     "execution_count": 40,
     "metadata": {},
     "output_type": "execute_result"
    }
   ],
   "source": [
    "low_ = tf.constant(-40.)\n",
    "high_ = tf.constant(-1.)\n",
    "mvn_prior = tfd.Uniform(\n",
    "        low = low_,\n",
    "        high = high_)\n",
    "ps = [-2,-2]\n",
    "mvn_prior.log_prob(ps)\n"
   ]
  },
  {
   "cell_type": "code",
   "execution_count": 41,
   "metadata": {
    "ExecuteTime": {
     "end_time": "2020-01-10T15:47:52.649008Z",
     "start_time": "2020-01-10T15:47:52.643749Z"
    }
   },
   "outputs": [],
   "source": [
    "mu_prior = -20.*tf.ones([50],dtype = tf.float32)\n",
    "cov_prior = 20.*tf.eye(N)\n",
    "\n",
    "sig_e = 0.0000003\n",
    "cov = sig_e**2*tf.eye(obs_N)"
   ]
  },
  {
   "cell_type": "code",
   "execution_count": 42,
   "metadata": {
    "ExecuteTime": {
     "end_time": "2020-01-10T15:47:52.909883Z",
     "start_time": "2020-01-10T15:47:52.904494Z"
    }
   },
   "outputs": [],
   "source": [
    "points = tf.Variable(points,dtype = tf.float32)"
   ]
  },
  {
   "cell_type": "code",
   "execution_count": 43,
   "metadata": {
    "ExecuteTime": {
     "end_time": "2020-01-10T15:47:54.747305Z",
     "start_time": "2020-01-10T15:47:53.227060Z"
    }
   },
   "outputs": [],
   "source": [
    "# define the ground truth\n",
    "True_position = tf.constant([-5.,-10.,])\n",
    "obs_data = grav(points,True_position)"
   ]
  },
  {
   "cell_type": "code",
   "execution_count": 44,
   "metadata": {
    "ExecuteTime": {
     "end_time": "2020-01-10T15:47:54.782175Z",
     "start_time": "2020-01-10T15:47:54.779928Z"
    }
   },
   "outputs": [],
   "source": [
    "D = obs_data"
   ]
  },
  {
   "cell_type": "code",
   "execution_count": 45,
   "metadata": {
    "ExecuteTime": {
     "end_time": "2020-01-10T15:47:54.897212Z",
     "start_time": "2020-01-10T15:47:54.814029Z"
    }
   },
   "outputs": [
    {
     "data": {
      "text/plain": [
       "<tf.Tensor: id=487878, shape=(), dtype=float32, numpy=119.57778>"
      ]
     },
     "execution_count": 45,
     "metadata": {},
     "output_type": "execute_result"
    }
   ],
   "source": [
    "joint_log_prob(D,points,tf.constant([-5.,-10]))"
   ]
  },
  {
   "cell_type": "markdown",
   "metadata": {},
   "source": [
    "#### Gradient decent"
   ]
  },
  {
   "cell_type": "code",
   "execution_count": 46,
   "metadata": {
    "ExecuteTime": {
     "end_time": "2020-01-10T15:49:25.307798Z",
     "start_time": "2020-01-10T15:47:54.933237Z"
    }
   },
   "outputs": [
    {
     "name": "stdout",
     "output_type": "stream",
     "text": [
      "tf.Tensor([ -4.9995136 -10.00102  ], shape=(2,), dtype=float32)\n"
     ]
    }
   ],
   "source": [
    "mu = tf.Variable([-1.,-12]) # initial parameters\n",
    "for i in range(100):\n",
    "    with tf.GradientTape() as t:  \n",
    "        t.watch(points)\n",
    "        loss = tf.negative(joint_log_prob(D,points,mu)) # negative log posterior\n",
    "        dlossdmu = t.gradient(loss,points)\n",
    "        d = tf.stack([dlossdmu[8][1],dlossdmu[9][1]])\n",
    "        mu = mu - 0.1 *d\n",
    "        MAP = mu\n",
    "print(MAP)"
   ]
  },
  {
   "cell_type": "markdown",
   "metadata": {},
   "source": [
    "### The above looks correct so far, the problem is the second derivative"
   ]
  },
  {
   "cell_type": "code",
   "execution_count": 47,
   "metadata": {
    "ExecuteTime": {
     "end_time": "2020-01-10T15:49:32.159097Z",
     "start_time": "2020-01-10T15:49:31.294498Z"
    }
   },
   "outputs": [
    {
     "name": "stdout",
     "output_type": "stream",
     "text": [
      "tf.Tensor(\n",
      "[[ 1.9749276e-04  6.1382467e-05]\n",
      " [-3.6544268e-05  3.1182231e-04]\n",
      " [-6.9311776e-05  4.1504219e-04]\n",
      " [-4.1349944e-05 -8.3810592e-05]\n",
      " [-2.7052229e-05 -1.3547788e-04]\n",
      " [-1.9707759e-04 -1.4638422e-05]\n",
      " [ 1.9749267e-04  1.0913356e-05]\n",
      " [ 5.4485623e-05  2.1765514e-04]\n",
      " [ 1.0876888e-04  3.8692309e-04]\n",
      " [ 1.2978839e-04 -7.9220888e-04]\n",
      " [ 4.9968130e-05 -3.3474411e-04]\n",
      " [-1.9114149e-04 -3.6288682e-05]], shape=(12, 2), dtype=float32)\n"
     ]
    }
   ],
   "source": [
    "with tf.GradientTape() as t:  \n",
    "    t.watch(points)\n",
    "    loss = tf.negative(joint_log_prob(D,points,mu)) # negative log posterior\n",
    "    dlossdmu = t.gradient(loss,points)\n",
    "    print(dlossdmu)"
   ]
  },
  {
   "cell_type": "code",
   "execution_count": 48,
   "metadata": {
    "ExecuteTime": {
     "end_time": "2020-01-10T15:50:10.618978Z",
     "start_time": "2020-01-10T15:49:32.190300Z"
    }
   },
   "outputs": [],
   "source": [
    "with tf.GradientTape() as t:\n",
    "    with tf.GradientTape() as tt:\n",
    "        tt.watch(points)\n",
    "        loss = tf.negative(joint_log_prob(D,points,mu))\n",
    "    jacobian = tt.gradient(loss,points)\n",
    "hess = t.gradient(jacobian,points)"
   ]
  },
  {
   "cell_type": "code",
   "execution_count": 49,
   "metadata": {
    "ExecuteTime": {
     "end_time": "2020-01-10T15:50:17.024007Z",
     "start_time": "2020-01-10T15:50:17.019249Z"
    }
   },
   "outputs": [
    {
     "data": {
      "text/plain": [
       "<tf.Tensor: id=3482592, shape=(12, 2), dtype=float32, numpy=\n",
       "array([[-0.52794534, -0.04220943],\n",
       "       [ 0.01333523, -0.13357821],\n",
       "       [ 0.0407761 , -0.2905235 ],\n",
       "       [-0.06953196, -0.5919126 ],\n",
       "       [-0.07488035, -0.44090396],\n",
       "       [ 0.5386223 , -0.09564582],\n",
       "       [-0.5279453 ,  0.0558771 ],\n",
       "       [ 0.10361256,  0.47201908],\n",
       "       [ 0.13986973,  0.9219442 ],\n",
       "       [-0.0353485 ,  0.27279344],\n",
       "       [-0.00623425,  0.06563071],\n",
       "       [ 0.5219386 ,  0.02184391]], dtype=float32)>"
      ]
     },
     "execution_count": 49,
     "metadata": {},
     "output_type": "execute_result"
    }
   ],
   "source": [
    "hess"
   ]
  }
 ],
 "metadata": {
  "kernelspec": {
   "display_name": "Python 3",
   "language": "python",
   "name": "python3"
  },
  "language_info": {
   "codemirror_mode": {
    "name": "ipython",
    "version": 3
   },
   "file_extension": ".py",
   "mimetype": "text/x-python",
   "name": "python",
   "nbconvert_exporter": "python",
   "pygments_lexer": "ipython3",
   "version": "3.7.3"
  },
  "varInspector": {
   "cols": {
    "lenName": 16,
    "lenType": 16,
    "lenVar": 40
   },
   "kernels_config": {
    "python": {
     "delete_cmd_postfix": "",
     "delete_cmd_prefix": "del ",
     "library": "var_list.py",
     "varRefreshCmd": "print(var_dic_list())"
    },
    "r": {
     "delete_cmd_postfix": ") ",
     "delete_cmd_prefix": "rm(",
     "library": "var_list.r",
     "varRefreshCmd": "cat(var_dic_list()) "
    }
   },
   "types_to_exclude": [
    "module",
    "function",
    "builtin_function_or_method",
    "instance",
    "_Feature"
   ],
   "window_display": false
  }
 },
 "nbformat": 4,
 "nbformat_minor": 2
}
