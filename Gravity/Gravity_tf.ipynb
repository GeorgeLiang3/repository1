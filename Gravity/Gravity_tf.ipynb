{
 "cells": [
  {
   "cell_type": "code",
   "execution_count": 1,
   "metadata": {
    "ExecuteTime": {
     "end_time": "2019-12-15T16:16:42.846190Z",
     "start_time": "2019-12-15T16:16:37.144176Z"
    }
   },
   "outputs": [],
   "source": [
    "%matplotlib inline\n",
    "import matplotlib.pyplot as plt\n",
    "import numpy as np\n",
    "import tensorflow as tf\n",
    "import scipy\n",
    "from scipy.stats import norm\n",
    "import tensorflow_probability as tfp\n",
    "import seaborn as sns\n",
    "import pandas as pd\n",
    "import corner \n",
    "tfd=tfp.distributions"
   ]
  },
  {
   "cell_type": "code",
   "execution_count": 18,
   "metadata": {
    "ExecuteTime": {
     "end_time": "2019-12-13T12:51:04.796611Z",
     "start_time": "2019-12-13T12:51:04.772526Z"
    }
   },
   "outputs": [],
   "source": [
    "@tf.function\n",
    "def A(x,z,p1,p2):\n",
    "    numerator = (x[p2]-x[p1])*(x[p1]*z[p2]-x[p2]*z[p1])\n",
    "    denominator = (x[p2]-x[p1])**2 + (z[p2]-z[p1])**2\n",
    "    return (numerator/denominator)\n",
    "\n",
    "@tf.function\n",
    "def B(x,z,p1,p2):\n",
    "    return ((z[p1]-z[p2])/(x[p2]-x[p1]))\n",
    "@tf.function\n",
    "def theta(x,z, p):\n",
    "    if x[p] != 0 :\n",
    "        if(np.arctan(z[p]/x[p]))<0:\n",
    "            return(tf.atan(z[p]/x[p])+scipy.pi)\n",
    "        else:\n",
    "            return(tf.atan(z[p]/x[p]))\n",
    "    if x[p] == 0 and z[p]!=0 :\n",
    "        return(scipy.pi/2)\n",
    "@tf.function\n",
    "def r(x,z,p):\n",
    "    return(np.sqrt(x[p]**2+z[p]**2))\n",
    "@tf.function\n",
    "def Z(x,z,p1,p2):\n",
    "    \n",
    "    if x[p1] == z[p1]==0 or x[p2] == z[p2]==0:\n",
    "        return(0)\n",
    "    \n",
    "    if x[p1] == x[p2]:\n",
    "        return((x[p1]*tf.math.log(r(x,z,p2)/r(x,z,p1))))\n",
    "    \n",
    "    theta1 = theta(x,z, p1)\n",
    "    theta2 = theta(x,z, p2)\n",
    "    \n",
    "    r1 = r(x,z,p1)\n",
    "    r2 = r(x,z,p2)\n",
    "    \n",
    "    #this is only needed when observation location across z\n",
    "#     if z[p1]*z[p2]<0:\n",
    "#         if x[p1]*z[p2]==x[p2]*z[p1]:\n",
    "#             return(0)\n",
    "#         if x[p1]*z[p2] < x[p2]*z[p1] and z[p2]>=0:\n",
    "#             theta1 += 2*scipy.pi\n",
    "#         if x[p1]*z[p2] > x[p2]*z[p1] and z[p1]>=0:\n",
    "#             theta2 += 2*scipy.pi\n",
    "    \n",
    "    _A = A(x,z,p1,p2)\n",
    "    _B = B(x,z,p1,p2)\n",
    "    \n",
    "    Z_result = _A*((theta1-theta2)+_B*tf.math.log(r1/r2))\n",
    "    return(Z_result)\n",
    "\n",
    "@tf.function\n",
    "def g(data,loc=(0,0)):\n",
    "    \n",
    "    G = 6.67 * 10**(-11) # gravitational constant  m^3 kg ^-1 s^-2\n",
    "    rho = 1000        # density difference   kg/m^3\n",
    "    \n",
    "    _data = data - loc #Calculate any point refer to the origin\n",
    "\n",
    "    _x = _data[:,0]\n",
    "    _z = _data[:,1]\n",
    "\n",
    "    Z_sum = 0\n",
    "    \n",
    "    for i in range(_data.shape[0]-1):\n",
    "        Z_sum += Z(_x,_z,i,i+1)\n",
    "\n",
    "    Z_sum += Z(_x,_z,-1,0)\n",
    "\n",
    "    g = 2*G*rho * Z_sum\n",
    "    \n",
    "    return(g)\n",
    "\n",
    "@tf.function\n",
    "def grav(base,ps):\n",
    "    \n",
    "    #base_points:2xN tensor contains x location\n",
    "    #ps: 1xN vector, elevation variate\n",
    "    \n",
    "    for i in range(N):\n",
    "        base[i+4][1] = ps[i]\n",
    "        \n",
    "    x_obv = np.linspace(-70., 70., 11)\n",
    "    y_obv = np.zeros(np.shape(x_obv))\n",
    "    obv = np.vstack((x_obv,y_obv)).T\n",
    "    \n",
    "    gravity = []\n",
    "    for i in obv[1:-1]:\n",
    "        gravity.append(-g(base,i))\n",
    "        \n",
    "    return gravity\n",
    "\n",
    "@tf.function\n",
    "def joint_log_prob(D,points_copy,ps):\n",
    "    \"\"\"\n",
    "    D: is the observation data\n",
    "    ps: is the variable point positions (N elements vector)\n",
    "    \"\"\"\n",
    "    # define random variables prior\n",
    "    mvn_prior = tfd.Uniform(\n",
    "            low = low_,\n",
    "            high = high_)\n",
    "    # define likelihood\n",
    "    \n",
    "    Gm_ = grav(points_copy,ps)\n",
    "    Gm = tf.convert_to_tensor(Gm_,dtype)\n",
    "    \n",
    "    mvn_likelihood = tfd.MultivariateNormalFullCovariance(\n",
    "            loc = Gm,\n",
    "            covariance_matrix= cov)\n",
    "    \n",
    "    # return the posterior probability\n",
    "    return(tf.reduce_sum(mvn_prior.log_prob(ps))\n",
    "          +mvn_likelihood.log_prob(D))"
   ]
  },
  {
   "cell_type": "code",
   "execution_count": 19,
   "metadata": {
    "ExecuteTime": {
     "end_time": "2019-12-13T12:51:05.733848Z",
     "start_time": "2019-12-13T12:51:05.729306Z"
    }
   },
   "outputs": [],
   "source": [
    "x = [0.,2.,3.,4.]\n",
    "z = [-1.,-2.,-3.,-4.]\n",
    "x = tf.convert_to_tensor(x,dtype = tf.float32)\n",
    "z = tf.convert_to_tensor(z,dtype = tf.float32)"
   ]
  },
  {
   "cell_type": "code",
   "execution_count": 23,
   "metadata": {
    "ExecuteTime": {
     "end_time": "2019-12-13T12:52:08.234053Z",
     "start_time": "2019-12-13T12:52:08.229298Z"
    }
   },
   "outputs": [
    {
     "name": "stdout",
     "output_type": "stream",
     "text": [
      "e\n"
     ]
    }
   ],
   "source": [
    "if x[1] == x[1] or x[1]:\n",
    "    print('e')"
   ]
  },
  {
   "cell_type": "code",
   "execution_count": 51,
   "metadata": {
    "ExecuteTime": {
     "end_time": "2019-12-13T14:14:20.316962Z",
     "start_time": "2019-12-13T14:14:20.208335Z"
    }
   },
   "outputs": [],
   "source": [
    "@tf.function\n",
    "def theta(x,z, p):\n",
    "    s = 0.\n",
    "    if tf.math.logical_and(a,b):\n",
    "        s+=x[p]\n",
    "    return(s)\n",
    "a = theta(x,z,0)"
   ]
  },
  {
   "cell_type": "code",
   "execution_count": 52,
   "metadata": {
    "ExecuteTime": {
     "end_time": "2019-12-13T14:14:23.546977Z",
     "start_time": "2019-12-13T14:14:23.542275Z"
    }
   },
   "outputs": [
    {
     "data": {
      "text/plain": [
       "<tf.Tensor: id=744, shape=(), dtype=float32, numpy=0.0>"
      ]
     },
     "execution_count": 52,
     "metadata": {},
     "output_type": "execute_result"
    }
   ],
   "source": [
    "a"
   ]
  },
  {
   "cell_type": "code",
   "execution_count": null,
   "metadata": {},
   "outputs": [],
   "source": []
  }
 ],
 "metadata": {
  "kernelspec": {
   "display_name": "Python 3",
   "language": "python",
   "name": "python3"
  },
  "language_info": {
   "codemirror_mode": {
    "name": "ipython",
    "version": 3
   },
   "file_extension": ".py",
   "mimetype": "text/x-python",
   "name": "python",
   "nbconvert_exporter": "python",
   "pygments_lexer": "ipython3",
   "version": "3.7.3"
  },
  "varInspector": {
   "cols": {
    "lenName": 16,
    "lenType": 16,
    "lenVar": 40
   },
   "kernels_config": {
    "python": {
     "delete_cmd_postfix": "",
     "delete_cmd_prefix": "del ",
     "library": "var_list.py",
     "varRefreshCmd": "print(var_dic_list())"
    },
    "r": {
     "delete_cmd_postfix": ") ",
     "delete_cmd_prefix": "rm(",
     "library": "var_list.r",
     "varRefreshCmd": "cat(var_dic_list()) "
    }
   },
   "types_to_exclude": [
    "module",
    "function",
    "builtin_function_or_method",
    "instance",
    "_Feature"
   ],
   "window_display": false
  }
 },
 "nbformat": 4,
 "nbformat_minor": 2
}
