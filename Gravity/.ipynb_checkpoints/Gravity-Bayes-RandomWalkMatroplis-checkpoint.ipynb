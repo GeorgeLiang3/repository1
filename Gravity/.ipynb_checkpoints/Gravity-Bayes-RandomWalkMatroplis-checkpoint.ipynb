{
 "cells": [
  {
   "cell_type": "code",
   "execution_count": 203,
   "metadata": {
    "ExecuteTime": {
     "end_time": "2019-12-13T14:51:40.633207Z",
     "start_time": "2019-12-13T14:51:40.627016Z"
    }
   },
   "outputs": [],
   "source": [
    "%matplotlib inline\n",
    "import matplotlib.pyplot as plt\n",
    "import numpy as np\n",
    "import tensorflow as tf\n",
    "import scipy\n",
    "from scipy.stats import norm\n",
    "import tensorflow_probability as tfp\n",
    "import seaborn as sns\n",
    "import pandas as pd\n",
    "import corner \n",
    "tfd=tfp.distributions"
   ]
  },
  {
   "cell_type": "markdown",
   "metadata": {},
   "source": [
    "Calculate gravity of polygon\n",
    "\n",
    "\" Computing the gravitaional and magnetic anomalies due to a polygon: Algorithems and Fortran subroutines' Won 1986\n"
   ]
  },
  {
   "cell_type": "code",
   "execution_count": 236,
   "metadata": {
    "ExecuteTime": {
     "end_time": "2019-12-13T15:27:42.996950Z",
     "start_time": "2019-12-13T15:27:42.984605Z"
    }
   },
   "outputs": [],
   "source": [
    "def A(x,z,p1,p2):\n",
    "    numerator = (x[p2]-x[p1])*(x[p1]*z[p2]-x[p2]*z[p1])\n",
    "    denominator = (x[p2]-x[p1])**2 + (z[p2]-z[p1])**2\n",
    "    return (numerator/denominator)\n",
    "\n",
    "def B(x,z,p1,p2):\n",
    "    return ((z[p1]-z[p2])/(x[p2]-x[p1]))\n",
    "\n",
    "def theta(x,z, p):\n",
    "    if x[p] != 0 :\n",
    "        if(np.arctan(z[p]/x[p]))<0:\n",
    "            return(np.arctan(z[p]/x[p])+scipy.pi)\n",
    "        else:\n",
    "            return(np.arctan(z[p]/x[p]))\n",
    "    if x[p] == 0 and z[p]!=0 :\n",
    "        return(scipy.pi/2)\n",
    "\n",
    "def r(x,z,p):\n",
    "    return(np.sqrt(x[p]**2+z[p]**2))\n",
    "\n",
    "def Z(x,z,p1,p2):\n",
    "    \n",
    "    if x[p1] == z[p1]==0 or x[p2] == z[p2]==0:\n",
    "        return(0)\n",
    "    \n",
    "    if x[p1] == x[p2]:\n",
    "        return((x[p1]*np.log(r(x,z,p2)/r(x,z,p1))))\n",
    "    \n",
    "    theta1 = theta(x,z, p1)\n",
    "    theta2 = theta(x,z, p2)\n",
    "    \n",
    "    r1 = r(x,z,p1)\n",
    "    r2 = r(x,z,p2)\n",
    "    \n",
    "    #this is only needed when observation location across z\n",
    "#     if z[p1]*z[p2]<0:\n",
    "#         if x[p1]*z[p2]==x[p2]*z[p1]:\n",
    "#             return(0)\n",
    "#         if x[p1]*z[p2] < x[p2]*z[p1] and z[p2]>=0:\n",
    "#             theta1 += 2*scipy.pi\n",
    "#         if x[p1]*z[p2] > x[p2]*z[p1] and z[p1]>=0:\n",
    "#             theta2 += 2*scipy.pi\n",
    "    \n",
    "    _A = A(x,z,p1,p2)\n",
    "    _B = B(x,z,p1,p2)\n",
    "    \n",
    "    Z_result = _A*((theta1-theta2)+_B*np.log(r1/r2))\n",
    "    return(Z_result)"
   ]
  },
  {
   "cell_type": "markdown",
   "metadata": {},
   "source": [
    "Gravity at origin is calculated as $\\Delta g_{z}=2 G \\rho \\sum_{i=1}^{n} Z_{i}$\n",
    "(Won, 1987)"
   ]
  },
  {
   "cell_type": "code",
   "execution_count": 237,
   "metadata": {
    "ExecuteTime": {
     "end_time": "2019-12-13T15:27:44.372630Z",
     "start_time": "2019-12-13T15:27:44.366716Z"
    }
   },
   "outputs": [],
   "source": [
    "def g(data,loc=(0,0)):\n",
    "    \n",
    "    G = 6.67 * 10**(-11) # gravitational constant  m^3 kg ^-1 s^-2\n",
    "    rho = 1000        # density difference   kg/m^3\n",
    "    \n",
    "    _data = data - loc #Calculate any point refer to the origin\n",
    "\n",
    "    _x = _data[:,0]\n",
    "    _z = _data[:,1]\n",
    "\n",
    "    Z_sum = 0\n",
    "    \n",
    "    for i in range(_data.shape[0]-1):\n",
    "        Z_sum += Z(_x,_z,i,i+1)\n",
    "\n",
    "    Z_sum += Z(_x,_z,-1,0)\n",
    "\n",
    "    g = 2*G*rho * Z_sum\n",
    "    \n",
    "    return(g)"
   ]
  },
  {
   "cell_type": "code",
   "execution_count": 238,
   "metadata": {
    "ExecuteTime": {
     "end_time": "2019-12-13T15:27:45.327357Z",
     "start_time": "2019-12-13T15:27:45.314465Z"
    }
   },
   "outputs": [],
   "source": [
    "def draw(points,ax = None,R = 100):\n",
    "    if ax == None:\n",
    "        f,ax=plt.subplots()\n",
    "    x = points[:,0]\n",
    "    z = points[:,1]\n",
    "    for i in range(points.shape[0]):\n",
    "        ax.plot(x[i:i+2],z[i:i+2],'r-')\n",
    "    x_ = np.linspace(-R,R,10)\n",
    "    ax.plot(x_,np.zeros(np.shape(x_)),lw = 0.5)# draw a reference line, surface\n",
    "    ax.plot([x[0],x[-1]],[z[0],z[-1]],'r-')\n",
    "    ax.set_ylim(min(points[:,1])-10,5)\n",
    "    ax.set_xlim(-R,R)\n",
    "    \n",
    "def grav_calculate(points_,x=None, R=70,ax = None,style = None):\n",
    "    if ax is None:\n",
    "        f,ax=plt.subplots()\n",
    "    if x is None:\n",
    "        x = np.linspace(-R,R,501)\n",
    "    y = np.zeros(np.shape(x))\n",
    "    obv = np.vstack((x,y)).T\n",
    "    gravity = []\n",
    "    for i in obv:\n",
    "        gravity.append(-g(points_,i))\n",
    "    if style is None:\n",
    "        style = '-'\n",
    "    ax.plot(x,gravity,style)\n",
    "    return gravity\n",
    "    \n",
    "def plot_true(points,R = None,ax = None):\n",
    "    if R is None:\n",
    "        R =max(points[:,0])\n",
    "    if ax is None:\n",
    "        f , ax = plt.subplots(2 , sharex = True, figsize = (7,10))\n",
    "        \n",
    "    grav_calculate(points, R=max(points[:,0]),ax = ax[0])\n",
    "    draw(points,ax = ax[1],R=R)\n",
    "    \n",
    "    "
   ]
  },
  {
   "cell_type": "markdown",
   "metadata": {},
   "source": [
    "<b> \"note: if z is positive downward and x is positive to the right, then the polygen vertices must be specified clock-wise. \" --Won 1987"
   ]
  },
  {
   "cell_type": "code",
   "execution_count": 239,
   "metadata": {
    "ExecuteTime": {
     "end_time": "2019-12-13T15:27:46.346418Z",
     "start_time": "2019-12-13T15:27:46.342296Z"
    }
   },
   "outputs": [],
   "source": [
    "#define a pseudo boundary condition and corner points\n",
    "corners=np.array([[-200,-50],# bottom left coner\n",
    "              [200,-50], \n",
    "              [200,-3], # bottom right coner\n",
    "              [70, -3], # top right coner\n",
    "              [-70,-3],# top left coner\n",
    "              [-200,-3]])"
   ]
  },
  {
   "cell_type": "code",
   "execution_count": 240,
   "metadata": {
    "ExecuteTime": {
     "end_time": "2019-12-13T15:27:46.737001Z",
     "start_time": "2019-12-13T15:27:46.732731Z"
    }
   },
   "outputs": [
    {
     "data": {
      "text/plain": [
       "(6, 2)"
      ]
     },
     "execution_count": 240,
     "metadata": {},
     "output_type": "execute_result"
    }
   ],
   "source": [
    "corners.shape"
   ]
  },
  {
   "cell_type": "markdown",
   "metadata": {},
   "source": [
    "set up the problem"
   ]
  },
  {
   "cell_type": "code",
   "execution_count": 659,
   "metadata": {
    "ExecuteTime": {
     "end_time": "2019-12-13T17:34:23.945462Z",
     "start_time": "2019-12-13T17:34:23.939786Z"
    }
   },
   "outputs": [],
   "source": [
    "N = 2\n",
    "points = np.empty((N+6,2))\n",
    "\n",
    "for i in range(corners.shape[0]-2):\n",
    "    points[i] = corners[i]\n",
    "    \n",
    "points[-2]=corners[-2]\n",
    "points[-1]=corners[-1]\n",
    "\n",
    "np.random.seed(113)\n",
    "\n",
    "x = np.linspace(-70,70,N+2)\n",
    "\n",
    "y = np.random.uniform(min(corners[:,1]),max(corners[:,1]),N)"
   ]
  },
  {
   "cell_type": "code",
   "execution_count": 660,
   "metadata": {
    "ExecuteTime": {
     "end_time": "2019-12-13T17:34:24.212935Z",
     "start_time": "2019-12-13T17:34:24.209057Z"
    }
   },
   "outputs": [],
   "source": [
    "for i in range(N):\n",
    "    points[i+4][1] = y[i]\n",
    "for i in range(N):\n",
    "    points[i+4][0] = x[-i-2]"
   ]
  },
  {
   "cell_type": "code",
   "execution_count": 661,
   "metadata": {
    "ExecuteTime": {
     "end_time": "2019-12-13T17:34:24.513009Z",
     "start_time": "2019-12-13T17:34:24.510288Z"
    }
   },
   "outputs": [],
   "source": [
    "import copy\n",
    "points_copy = copy.deepcopy(points)"
   ]
  },
  {
   "cell_type": "code",
   "execution_count": 662,
   "metadata": {
    "ExecuteTime": {
     "end_time": "2019-12-13T17:34:25.319244Z",
     "start_time": "2019-12-13T17:34:24.935357Z"
    }
   },
   "outputs": [
    {
     "data": {
      "image/png": "[encoded data removed]",
      "text/plain": [
       "<Figure size 504x720 with 2 Axes>"
      ]
     },
     "metadata": {
      "needs_background": "light"
     },
     "output_type": "display_data"
    }
   ],
   "source": [
    "plot_true(points,70)"
   ]
  },
  {
   "cell_type": "code",
   "execution_count": 663,
   "metadata": {
    "ExecuteTime": {
     "end_time": "2019-12-13T17:34:26.398020Z",
     "start_time": "2019-12-13T17:34:25.993107Z"
    }
   },
   "outputs": [
    {
     "data": {
      "image/png": "[encoded data removed]",
      "text/plain": [
       "<Figure size 504x720 with 2 Axes>"
      ]
     },
     "metadata": {
      "needs_background": "light"
     },
     "output_type": "display_data"
    }
   ],
   "source": [
    "x_obs = np.linspace(-70., 70., 11)\n",
    "x_obs = x_obs[1:-1]\n",
    "f,ax = plt.subplots(2,sharex = True,figsize = (7,10))\n",
    "plot_true(points,70,ax)\n",
    "obs_data = grav_calculate(points,x=x_obs,ax = ax[0],style='.')"
   ]
  },
  {
   "cell_type": "code",
   "execution_count": 496,
   "metadata": {
    "ExecuteTime": {
     "end_time": "2019-12-13T16:41:29.718424Z",
     "start_time": "2019-12-13T16:41:29.715277Z"
    }
   },
   "outputs": [],
   "source": [
    "noise = norm(0,0.0000001).rvs(len(obs_data))\n",
    "grav_obs_withnoise = obs_data+noise"
   ]
  },
  {
   "cell_type": "markdown",
   "metadata": {},
   "source": [
    "9 observation points,10 parameters"
   ]
  },
  {
   "cell_type": "code",
   "execution_count": 497,
   "metadata": {
    "ExecuteTime": {
     "end_time": "2019-12-13T16:41:30.374170Z",
     "start_time": "2019-12-13T16:41:29.976173Z"
    }
   },
   "outputs": [
    {
     "data": {
      "text/plain": [
       "<matplotlib.collections.PathCollection at 0x1a3e165748>"
      ]
     },
     "execution_count": 497,
     "metadata": {},
     "output_type": "execute_result"
    },
    {
     "data": {
      "image/png": "[encoded data removed]",
      "text/plain": [
       "<Figure size 504x720 with 2 Axes>"
      ]
     },
     "metadata": {
      "needs_background": "light"
     },
     "output_type": "display_data"
    }
   ],
   "source": [
    "f,ax = plt.subplots(2,sharex = True,figsize = (7,10))\n",
    "plot_true(points,70,ax)\n",
    "ax[0].scatter(x_obs,grav_obs_withnoise,color='firebrick')"
   ]
  },
  {
   "cell_type": "code",
   "execution_count": 498,
   "metadata": {
    "ExecuteTime": {
     "end_time": "2019-12-13T16:41:30.431670Z",
     "start_time": "2019-12-13T16:41:30.429538Z"
    }
   },
   "outputs": [],
   "source": [
    "dtype = tf.float32"
   ]
  },
  {
   "cell_type": "code",
   "execution_count": 499,
   "metadata": {
    "ExecuteTime": {
     "end_time": "2019-12-13T16:41:30.565417Z",
     "start_time": "2019-12-13T16:41:30.560317Z"
    }
   },
   "outputs": [],
   "source": [
    "obs_data = grav_calculate(points,x=x_obs,ax = ax[0],style='.')"
   ]
  },
  {
   "cell_type": "code",
   "execution_count": 500,
   "metadata": {
    "ExecuteTime": {
     "end_time": "2019-12-13T16:41:30.838505Z",
     "start_time": "2019-12-13T16:41:30.833216Z"
    }
   },
   "outputs": [],
   "source": [
    "def grav(base,ps):\n",
    "    \n",
    "    #base_points:2xN tensor contains x location\n",
    "    #ps: 1xN vector, elevation variate\n",
    "    \n",
    "    for i in range(N):\n",
    "        base[i+4][1] = ps[i]\n",
    "        \n",
    "    x_obv = np.linspace(-70., 70., 11)\n",
    "    y_obv = np.zeros(np.shape(x_obv))\n",
    "    obv = np.vstack((x_obv,y_obv)).T\n",
    "    \n",
    "    gravity = []\n",
    "    for i in obv[1:-1]:\n",
    "        gravity.append(-g(base,i))\n",
    "        \n",
    "    return gravity"
   ]
  },
  {
   "cell_type": "code",
   "execution_count": 501,
   "metadata": {
    "ExecuteTime": {
     "end_time": "2019-12-13T16:41:31.216143Z",
     "start_time": "2019-12-13T16:41:31.212131Z"
    }
   },
   "outputs": [
    {
     "data": {
      "text/plain": [
       "[1.1880256550560443e-05,\n",
       " 9.964237585555126e-06,\n",
       " 9.034594408626458e-06,\n",
       " 9.051625584356573e-06,\n",
       " 9.955897684227542e-06,\n",
       " 1.1628499747414972e-05,\n",
       " 1.3609159165646617e-05,\n",
       " 1.5046642406735163e-05,\n",
       " 1.612041217392557e-05]"
      ]
     },
     "execution_count": 501,
     "metadata": {},
     "output_type": "execute_result"
    }
   ],
   "source": [
    "obs_data"
   ]
  },
  {
   "cell_type": "code",
   "execution_count": 502,
   "metadata": {
    "ExecuteTime": {
     "end_time": "2019-12-13T16:41:32.188947Z",
     "start_time": "2019-12-13T16:41:32.044242Z"
    }
   },
   "outputs": [
    {
     "data": {
      "image/png": "[encoded data removed]",
      "text/plain": [
       "<Figure size 432x288 with 1 Axes>"
      ]
     },
     "metadata": {
      "needs_background": "light"
     },
     "output_type": "display_data"
    }
   ],
   "source": [
    "draw(points_copy,R=70)"
   ]
  },
  {
   "cell_type": "code",
   "execution_count": 503,
   "metadata": {
    "ExecuteTime": {
     "end_time": "2019-12-13T16:41:32.674312Z",
     "start_time": "2019-12-13T16:41:32.667910Z"
    }
   },
   "outputs": [
    {
     "data": {
      "text/plain": [
       "[1.5175742488350755e-05,\n",
       " 1.3729798694677439e-05,\n",
       " 1.260881883315633e-05,\n",
       " 1.1883428212597259e-05,\n",
       " 1.1503298858659833e-05,\n",
       " 1.1461363709619345e-05,\n",
       " 1.190788407716694e-05,\n",
       " 1.2958884928396854e-05,\n",
       " 1.4547727891349855e-05]"
      ]
     },
     "execution_count": 503,
     "metadata": {},
     "output_type": "execute_result"
    }
   ],
   "source": [
    "grav(points_copy,ps)"
   ]
  },
  {
   "cell_type": "code",
   "execution_count": 597,
   "metadata": {
    "ExecuteTime": {
     "end_time": "2019-12-13T17:16:59.473692Z",
     "start_time": "2019-12-13T17:16:59.469034Z"
    }
   },
   "outputs": [],
   "source": [
    "# mu_prior = [-25,-20,-30,-25,-13,-13,-35,-35,-35,-30]\n",
    "mu_prior = [-30,-30]\n",
    "cov_prior = 50.*tf.eye(N)\n",
    "\n",
    "sig_e = 0.00001\n",
    "cov = sig_e**2*tf.eye(np.shape(obs_data)[0])"
   ]
  },
  {
   "cell_type": "code",
   "execution_count": 598,
   "metadata": {
    "ExecuteTime": {
     "end_time": "2019-12-13T17:16:59.717023Z",
     "start_time": "2019-12-13T17:16:59.713511Z"
    }
   },
   "outputs": [
    {
     "data": {
      "text/plain": [
       "1e-05"
      ]
     },
     "execution_count": 598,
     "metadata": {},
     "output_type": "execute_result"
    }
   ],
   "source": [
    "sig_e"
   ]
  },
  {
   "cell_type": "markdown",
   "metadata": {},
   "source": [
    "\\begin{equation}\n",
    "\\mathbf{e}=\\mathbf{d}-\\mathbf{G} \\mathbf{m}=\\mathbf{d}-\\mathbf{G} \\mathbf{A} \\boldsymbol{\\theta}\n",
    "\\end{equation}\n",
    "\\begin{equation}\n",
    "p(\\mathbf{d} | \\boldsymbol{\\theta}, \\mathscr{J})=\\frac{1}{\\left(2 \\pi \\bar{\\sigma}_{\\mathbf{e}}^{2}\\right)^{N / 2}} \\exp \\left(-\\frac{\\mathbf{e}^{\\mathrm{T}} \\mathbf{e}}{2 \\bar{\\sigma}_{\\mathbf{e}}^{2}}\\right)\n",
    "\\end{equation}"
   ]
  },
  {
   "cell_type": "code",
   "execution_count": 599,
   "metadata": {
    "ExecuteTime": {
     "end_time": "2019-12-13T17:17:01.816021Z",
     "start_time": "2019-12-13T17:17:01.811191Z"
    }
   },
   "outputs": [
    {
     "data": {
      "text/plain": [
       "<tf.Tensor: id=44298628, shape=(9,), dtype=float32, numpy=\n",
       "array([1.1880256e-05, 9.9642375e-06, 9.0345948e-06, 9.0516260e-06,\n",
       "       9.9558974e-06, 1.1628500e-05, 1.3609159e-05, 1.5046642e-05,\n",
       "       1.6120412e-05], dtype=float32)>"
      ]
     },
     "execution_count": 599,
     "metadata": {},
     "output_type": "execute_result"
    }
   ],
   "source": [
    "d = tf.convert_to_tensor(obs_data,dtype)\n",
    "d"
   ]
  },
  {
   "cell_type": "code",
   "execution_count": null,
   "metadata": {
    "ExecuteTime": {
     "end_time": "2019-12-13T16:30:11.854413Z",
     "start_time": "2019-12-13T16:30:11.851325Z"
    }
   },
   "outputs": [],
   "source": []
  },
  {
   "cell_type": "code",
   "execution_count": 600,
   "metadata": {
    "ExecuteTime": {
     "end_time": "2019-12-13T17:17:03.477671Z",
     "start_time": "2019-12-13T17:17:03.472866Z"
    }
   },
   "outputs": [],
   "source": [
    "def joint_log_prob(D,points_copy,ps):\n",
    "    \"\"\"\n",
    "    D: is the observation data\n",
    "    ps: is the variable point positions (N elements vector)\n",
    "    \"\"\"\n",
    "    # define random variables prior\n",
    "    mvn_prior = tfd.MultivariateNormalFullCovariance(\n",
    "            loc = mu_prior,\n",
    "            covariance_matrix= cov_prior)\n",
    "    # define likelihood\n",
    "    \n",
    "    Gm_ = grav(points_copy,ps)\n",
    "    Gm = tf.convert_to_tensor(Gm_,dtype)\n",
    "    \n",
    "    mvn_likelihood = tfd.MultivariateNormalFullCovariance(\n",
    "            loc = Gm,\n",
    "            covariance_matrix= cov)\n",
    "    \n",
    "    # return the posterior probability\n",
    "    return(mvn_prior.log_prob(ps)\n",
    "          +mvn_likelihood.log_prob(D))"
   ]
  },
  {
   "cell_type": "code",
   "execution_count": 601,
   "metadata": {
    "ExecuteTime": {
     "end_time": "2019-12-13T17:17:04.080928Z",
     "start_time": "2019-12-13T17:17:04.075715Z"
    }
   },
   "outputs": [
    {
     "data": {
      "text/plain": [
       "<tf.Tensor: id=44298627, shape=(9, 9), dtype=float32, numpy=\n",
       "array([[1.e-10, 0.e+00, 0.e+00, 0.e+00, 0.e+00, 0.e+00, 0.e+00, 0.e+00,\n",
       "        0.e+00],\n",
       "       [0.e+00, 1.e-10, 0.e+00, 0.e+00, 0.e+00, 0.e+00, 0.e+00, 0.e+00,\n",
       "        0.e+00],\n",
       "       [0.e+00, 0.e+00, 1.e-10, 0.e+00, 0.e+00, 0.e+00, 0.e+00, 0.e+00,\n",
       "        0.e+00],\n",
       "       [0.e+00, 0.e+00, 0.e+00, 1.e-10, 0.e+00, 0.e+00, 0.e+00, 0.e+00,\n",
       "        0.e+00],\n",
       "       [0.e+00, 0.e+00, 0.e+00, 0.e+00, 1.e-10, 0.e+00, 0.e+00, 0.e+00,\n",
       "        0.e+00],\n",
       "       [0.e+00, 0.e+00, 0.e+00, 0.e+00, 0.e+00, 1.e-10, 0.e+00, 0.e+00,\n",
       "        0.e+00],\n",
       "       [0.e+00, 0.e+00, 0.e+00, 0.e+00, 0.e+00, 0.e+00, 1.e-10, 0.e+00,\n",
       "        0.e+00],\n",
       "       [0.e+00, 0.e+00, 0.e+00, 0.e+00, 0.e+00, 0.e+00, 0.e+00, 1.e-10,\n",
       "        0.e+00],\n",
       "       [0.e+00, 0.e+00, 0.e+00, 0.e+00, 0.e+00, 0.e+00, 0.e+00, 0.e+00,\n",
       "        1.e-10]], dtype=float32)>"
      ]
     },
     "execution_count": 601,
     "metadata": {},
     "output_type": "execute_result"
    }
   ],
   "source": [
    "cov"
   ]
  },
  {
   "cell_type": "code",
   "execution_count": 602,
   "metadata": {
    "ExecuteTime": {
     "end_time": "2019-12-13T17:18:48.542410Z",
     "start_time": "2019-12-13T17:17:04.707775Z"
    }
   },
   "outputs": [
    {
     "name": "stderr",
     "output_type": "stream",
     "text": [
      "/Users/zhouji/.local/lib/python3.7/site-packages/tensorflow_probability/python/mcmc/sample.py:335: UserWarning: Tracing all kernel results by default is deprecated. Set the `trace_fn` argument to None (the future default value) or an explicit callback that traces the values you are interested in.\n",
      "  warnings.warn(\"Tracing all kernel results by default is deprecated. Set \"\n"
     ]
    }
   ],
   "source": [
    "num_results = 2000\n",
    "burnin = 5000\n",
    "\n",
    "initial_chain_state = [\n",
    "    -10 * tf.ones([N], dtype=tf.float32, name=\"init_t1\"),\n",
    "]\n",
    "\n",
    "unnormalized_posterior_log_prob = lambda *args: joint_log_prob(obs_data,points_copy,*args)\n",
    "\n",
    "samples, kernel_results = tfp.mcmc.sample_chain(\n",
    "    num_results=num_results,\n",
    "    current_state=initial_chain_state,\n",
    "    kernel=tfp.mcmc.RandomWalkMetropolis(\n",
    "        target_log_prob_fn=unnormalized_posterior_log_prob),\n",
    "    num_burnin_steps=burnin,\n",
    "    num_steps_between_results=1,  # Thinning.\n",
    "    parallel_iterations=1)\n",
    "samples = tf.stack(samples, axis=-1)\n",
    "accepted = kernel_results.is_accepted\n",
    "\n",
    "samples = samples.numpy()\n",
    "accepted = accepted.numpy()\n"
   ]
  },
  {
   "cell_type": "code",
   "execution_count": 603,
   "metadata": {
    "ExecuteTime": {
     "end_time": "2019-12-13T17:18:48.597487Z",
     "start_time": "2019-12-13T17:18:48.595039Z"
    }
   },
   "outputs": [],
   "source": [
    "accept_index = np.where(accepted==True)\n",
    "accepted_samples = samples[accept_index]"
   ]
  },
  {
   "cell_type": "code",
   "execution_count": 604,
   "metadata": {
    "ExecuteTime": {
     "end_time": "2019-12-13T17:18:48.811622Z",
     "start_time": "2019-12-13T17:18:48.650301Z"
    }
   },
   "outputs": [
    {
     "data": {
      "text/plain": [
       "[<matplotlib.lines.Line2D at 0x1a3faed518>,\n",
       " <matplotlib.lines.Line2D at 0x1a43612198>]"
      ]
     },
     "execution_count": 604,
     "metadata": {},
     "output_type": "execute_result"
    },
    {
     "data": {
      "image/png": "[encoded data removed]",
      "text/plain": [
       "<Figure size 432x288 with 1 Axes>"
      ]
     },
     "metadata": {
      "needs_background": "light"
     },
     "output_type": "display_data"
    }
   ],
   "source": [
    "plt.plot(accepted_samples[:,0:4,0])"
   ]
  },
  {
   "cell_type": "code",
   "execution_count": 605,
   "metadata": {
    "ExecuteTime": {
     "end_time": "2019-12-13T17:18:48.866754Z",
     "start_time": "2019-12-13T17:18:48.862861Z"
    }
   },
   "outputs": [
    {
     "data": {
      "text/plain": [
       "(1860, 2)"
      ]
     },
     "execution_count": 605,
     "metadata": {},
     "output_type": "execute_result"
    }
   ],
   "source": [
    "accepted_samples[:,:,0].shape"
   ]
  },
  {
   "cell_type": "code",
   "execution_count": 606,
   "metadata": {
    "ExecuteTime": {
     "end_time": "2019-12-13T17:18:49.205832Z",
     "start_time": "2019-12-13T17:18:48.917929Z"
    }
   },
   "outputs": [
    {
     "data": {
      "image/png": "[encoded data removed]",
      "text/plain": [
       "<Figure size 396x396 with 4 Axes>"
      ]
     },
     "metadata": {
      "needs_background": "light"
     },
     "output_type": "display_data"
    }
   ],
   "source": [
    "figure = corner.corner(accepted_samples[:,0:4,0])"
   ]
  },
  {
   "cell_type": "markdown",
   "metadata": {
    "ExecuteTime": {
     "end_time": "2019-12-12T13:14:11.211930Z",
     "start_time": "2019-12-12T13:14:11.207001Z"
    }
   },
   "source": [
    "TO DO:\n",
    "1.  add a entropy plotting function\n",
    "2.  compare with prior info and without\n",
    "3.  Hessian MCMC"
   ]
  },
  {
   "cell_type": "code",
   "execution_count": 607,
   "metadata": {
    "ExecuteTime": {
     "end_time": "2019-12-13T17:18:59.988659Z",
     "start_time": "2019-12-13T17:18:59.979590Z"
    }
   },
   "outputs": [],
   "source": [
    "def draw_MCMC(base,samples,ax = None,R = 70):\n",
    "    if ax == None:\n",
    "        f,ax=plt.subplots()\n",
    "    x = base[:,0]\n",
    "    z = base[:,1]\n",
    "    for i in range(base.shape[0]):\n",
    "        ax.plot(x[i:i+2],z[i:i+2],'k-')\n",
    "    x_ = np.linspace(-R,R,N)\n",
    "    for ps in samples:\n",
    "        for j in range(N):\n",
    "            base[j+4][1] = ps[j]\n",
    "        for i in range(3,base.shape[0]-1):\n",
    "            ax.plot(base[:,0][i:i+2],base[:,1][i:i+2],'r-',alpha = 0.01)\n",
    "    ax.plot(x_,np.zeros(np.shape(x_)),lw = 0.5)# draw a reference line, surface\n",
    "    ax.plot([x[0],x[-1]],[z[0],z[-1]],'k-')\n",
    "    ax.set_ylim(min(base[:,1])-10,5)\n",
    "    ax.set_xlim(-R,R)"
   ]
  },
  {
   "cell_type": "code",
   "execution_count": 608,
   "metadata": {
    "ExecuteTime": {
     "end_time": "2019-12-13T17:19:29.528035Z",
     "start_time": "2019-12-13T17:19:00.189106Z"
    }
   },
   "outputs": [
    {
     "data": {
      "image/png": "[encoded data removed]",
      "text/plain": [
       "<Figure size 432x288 with 1 Axes>"
      ]
     },
     "metadata": {
      "needs_background": "light"
     },
     "output_type": "display_data"
    }
   ],
   "source": [
    "draw_MCMC(points_copy,accepted_samples[:,:,0])"
   ]
  },
  {
   "cell_type": "markdown",
   "metadata": {},
   "source": [
    "if without prior info"
   ]
  },
  {
   "cell_type": "code",
   "execution_count": 609,
   "metadata": {
    "ExecuteTime": {
     "end_time": "2019-12-13T17:23:22.115761Z",
     "start_time": "2019-12-13T17:23:22.111641Z"
    }
   },
   "outputs": [],
   "source": [
    "low_ = -50*tf.ones(N)\n",
    "high_ = -1*tf.ones(N)"
   ]
  },
  {
   "cell_type": "code",
   "execution_count": 620,
   "metadata": {
    "ExecuteTime": {
     "end_time": "2019-12-13T17:24:51.745642Z",
     "start_time": "2019-12-13T17:24:51.740701Z"
    }
   },
   "outputs": [
    {
     "data": {
      "text/plain": [
       "<tf.Tensor: id=44298627, shape=(9, 9), dtype=float32, numpy=\n",
       "array([[1.e-10, 0.e+00, 0.e+00, 0.e+00, 0.e+00, 0.e+00, 0.e+00, 0.e+00,\n",
       "        0.e+00],\n",
       "       [0.e+00, 1.e-10, 0.e+00, 0.e+00, 0.e+00, 0.e+00, 0.e+00, 0.e+00,\n",
       "        0.e+00],\n",
       "       [0.e+00, 0.e+00, 1.e-10, 0.e+00, 0.e+00, 0.e+00, 0.e+00, 0.e+00,\n",
       "        0.e+00],\n",
       "       [0.e+00, 0.e+00, 0.e+00, 1.e-10, 0.e+00, 0.e+00, 0.e+00, 0.e+00,\n",
       "        0.e+00],\n",
       "       [0.e+00, 0.e+00, 0.e+00, 0.e+00, 1.e-10, 0.e+00, 0.e+00, 0.e+00,\n",
       "        0.e+00],\n",
       "       [0.e+00, 0.e+00, 0.e+00, 0.e+00, 0.e+00, 1.e-10, 0.e+00, 0.e+00,\n",
       "        0.e+00],\n",
       "       [0.e+00, 0.e+00, 0.e+00, 0.e+00, 0.e+00, 0.e+00, 1.e-10, 0.e+00,\n",
       "        0.e+00],\n",
       "       [0.e+00, 0.e+00, 0.e+00, 0.e+00, 0.e+00, 0.e+00, 0.e+00, 1.e-10,\n",
       "        0.e+00],\n",
       "       [0.e+00, 0.e+00, 0.e+00, 0.e+00, 0.e+00, 0.e+00, 0.e+00, 0.e+00,\n",
       "        1.e-10]], dtype=float32)>"
      ]
     },
     "execution_count": 620,
     "metadata": {},
     "output_type": "execute_result"
    }
   ],
   "source": [
    "cov"
   ]
  },
  {
   "cell_type": "code",
   "execution_count": 631,
   "metadata": {
    "ExecuteTime": {
     "end_time": "2019-12-13T17:26:01.340596Z",
     "start_time": "2019-12-13T17:26:01.336151Z"
    }
   },
   "outputs": [],
   "source": [
    "\n",
    "def joint_log_prob(D,points_,ps):\n",
    "    \"\"\"\n",
    "    D: is the observation data\n",
    "    ps: is the variable point positions (N elements vector)\n",
    "    \"\"\"\n",
    "    # define random variables prior\n",
    "    mvn_prior = tfd.Uniform(\n",
    "            low = low_,\n",
    "            high = high_)\n",
    "    # define likelihood\n",
    "    \n",
    "    Gm_ = grav(points_,ps)\n",
    "    Gm = tf.convert_to_tensor(Gm_,dtype)\n",
    "    \n",
    "    mvn_likelihood = tfd.MultivariateNormalFullCovariance(\n",
    "            loc = Gm,\n",
    "            covariance_matrix= cov)\n",
    "    \n",
    "    # return the posterior probability\n",
    "    return(tf.reduce_sum(mvn_prior.log_prob(ps))\n",
    "          +mvn_likelihood.log_prob(D))"
   ]
  },
  {
   "cell_type": "code",
   "execution_count": 632,
   "metadata": {
    "ExecuteTime": {
     "end_time": "2019-12-13T17:26:02.724528Z",
     "start_time": "2019-12-13T17:26:02.719863Z"
    }
   },
   "outputs": [
    {
     "data": {
      "text/plain": [
       "array([[-200.        ,  -50.        ],\n",
       "       [ 200.        ,  -50.        ],\n",
       "       [ 200.        ,   -3.        ],\n",
       "       [  70.        ,   -3.        ],\n",
       "       [  23.33333333,   -9.95668184],\n",
       "       [ -23.33333333,  -46.52653085],\n",
       "       [ -70.        ,   -3.        ],\n",
       "       [-200.        ,   -3.        ]])"
      ]
     },
     "execution_count": 632,
     "metadata": {},
     "output_type": "execute_result"
    }
   ],
   "source": [
    "points"
   ]
  },
  {
   "cell_type": "code",
   "execution_count": 633,
   "metadata": {
    "ExecuteTime": {
     "end_time": "2019-12-13T17:26:02.963811Z",
     "start_time": "2019-12-13T17:26:02.960488Z"
    }
   },
   "outputs": [],
   "source": [
    "ps=[-4,-20]"
   ]
  },
  {
   "cell_type": "code",
   "execution_count": 634,
   "metadata": {
    "ExecuteTime": {
     "end_time": "2019-12-13T17:26:03.385322Z",
     "start_time": "2019-12-13T17:26:03.372745Z"
    }
   },
   "outputs": [
    {
     "data": {
      "text/plain": [
       "<tf.Tensor: id=48182465, shape=(), dtype=float32, numpy=86.884155>"
      ]
     },
     "execution_count": 634,
     "metadata": {},
     "output_type": "execute_result"
    }
   ],
   "source": [
    "joint_log_prob(obs_data,points_copy,ps)"
   ]
  },
  {
   "cell_type": "code",
   "execution_count": 635,
   "metadata": {
    "ExecuteTime": {
     "end_time": "2019-12-13T17:26:04.423957Z",
     "start_time": "2019-12-13T17:26:04.410692Z"
    }
   },
   "outputs": [
    {
     "data": {
      "text/plain": [
       "<tf.Tensor: id=48182548, shape=(), dtype=float32, numpy=86.24715>"
      ]
     },
     "execution_count": 635,
     "metadata": {},
     "output_type": "execute_result"
    }
   ],
   "source": [
    "ps = [-20,-2]\n",
    "joint_log_prob(obs_data,points_copy,ps)"
   ]
  },
  {
   "cell_type": "code",
   "execution_count": 636,
   "metadata": {
    "ExecuteTime": {
     "end_time": "2019-12-13T17:26:15.823069Z",
     "start_time": "2019-12-13T17:26:15.818758Z"
    }
   },
   "outputs": [
    {
     "data": {
      "text/plain": [
       "array([[-200.        ,  -50.        ],\n",
       "       [ 200.        ,  -50.        ],\n",
       "       [ 200.        ,   -3.        ],\n",
       "       [  70.        ,   -3.        ],\n",
       "       [  23.33333333,   -9.95668184],\n",
       "       [ -23.33333333,  -46.52653085],\n",
       "       [ -70.        ,   -3.        ],\n",
       "       [-200.        ,   -3.        ]])"
      ]
     },
     "execution_count": 636,
     "metadata": {},
     "output_type": "execute_result"
    }
   ],
   "source": [
    "points"
   ]
  },
  {
   "cell_type": "code",
   "execution_count": 652,
   "metadata": {
    "ExecuteTime": {
     "end_time": "2019-12-13T17:32:49.476913Z",
     "start_time": "2019-12-13T17:31:29.524703Z"
    }
   },
   "outputs": [
    {
     "name": "stderr",
     "output_type": "stream",
     "text": [
      "/Users/zhouji/.local/lib/python3.7/site-packages/tensorflow_probability/python/mcmc/sample.py:335: UserWarning: Tracing all kernel results by default is deprecated. Set the `trace_fn` argument to None (the future default value) or an explicit callback that traces the values you are interested in.\n",
      "  warnings.warn(\"Tracing all kernel results by default is deprecated. Set \"\n"
     ]
    }
   ],
   "source": [
    "num_results = 3000\n",
    "burnin = 3000\n",
    "\n",
    "initial_chain_state = [\n",
    "    -10 * tf.ones([N], dtype=tf.float32, name=\"init_t1\"),\n",
    "]\n",
    "\n",
    "unnormalized_posterior_log_prob = lambda *args: joint_log_prob(obs_data,points_copy,*args)\n",
    "\n",
    "def gauss_new_state_fn(scale, dtype):\n",
    "  gauss = tfd.Normal(loc=dtype(0), scale=dtype(scale))\n",
    "  def _fn(state_parts, seed):\n",
    "    next_state_parts = []\n",
    "    seed_stream  = tfp.util.SeedStream(seed, salt='RandomNormal')\n",
    "    for sp in state_parts:\n",
    "      next_state_parts.append(sp + gauss.sample(\n",
    "        sample_shape=sp.shape, seed=seed_stream()))\n",
    "    return next_state_parts\n",
    "  return _fn\n",
    "\n",
    "dtype = np.float32\n",
    "\n",
    "samples, kernel_results = tfp.mcmc.sample_chain(\n",
    "    num_results=num_results,\n",
    "    current_state=initial_chain_state,\n",
    "    kernel=tfp.mcmc.RandomWalkMetropolis(\n",
    "        target_log_prob_fn=unnormalized_posterior_log_prob,\n",
    "        new_state_fn=gauss_new_state_fn(scale=0.4, dtype=dtype)),\n",
    "    num_burnin_steps=burnin,\n",
    "    num_steps_between_results=1,  # Thinning.\n",
    "    parallel_iterations=1)\n",
    "\n",
    "samples = tf.stack(samples, axis=-1)\n",
    "accepted = kernel_results.is_accepted\n",
    "\n",
    "samples = samples.numpy()\n",
    "accepted = accepted.numpy()\n"
   ]
  },
  {
   "cell_type": "code",
   "execution_count": 653,
   "metadata": {
    "ExecuteTime": {
     "end_time": "2019-12-13T17:32:49.536920Z",
     "start_time": "2019-12-13T17:32:49.534017Z"
    }
   },
   "outputs": [],
   "source": [
    "accept_index = np.where(accepted==True)\n",
    "accepted_samples = samples[accept_index]"
   ]
  },
  {
   "cell_type": "code",
   "execution_count": 654,
   "metadata": {
    "ExecuteTime": {
     "end_time": "2019-12-13T17:32:49.609031Z",
     "start_time": "2019-12-13T17:32:49.602726Z"
    }
   },
   "outputs": [
    {
     "data": {
      "text/plain": [
       "array([[[-13.619658 ],\n",
       "        [-28.743088 ]],\n",
       "\n",
       "       [[-13.371489 ],\n",
       "        [-28.686356 ]],\n",
       "\n",
       "       [[-13.7442045],\n",
       "        [-28.437674 ]],\n",
       "\n",
       "       ...,\n",
       "\n",
       "       [[ -9.606157 ],\n",
       "        [-44.04611  ]],\n",
       "\n",
       "       [[ -9.369908 ],\n",
       "        [-43.848488 ]],\n",
       "\n",
       "       [[ -9.038699 ],\n",
       "        [-43.499577 ]]], dtype=float32)"
      ]
     },
     "execution_count": 654,
     "metadata": {},
     "output_type": "execute_result"
    }
   ],
   "source": [
    "accepted_samples"
   ]
  },
  {
   "cell_type": "code",
   "execution_count": 655,
   "metadata": {
    "ExecuteTime": {
     "end_time": "2019-12-13T17:32:49.817708Z",
     "start_time": "2019-12-13T17:32:49.668644Z"
    }
   },
   "outputs": [
    {
     "data": {
      "text/plain": [
       "[<matplotlib.lines.Line2D at 0x1a47f8e208>]"
      ]
     },
     "execution_count": 655,
     "metadata": {},
     "output_type": "execute_result"
    },
    {
     "data": {
      "image/png": "[encoded data removed]",
      "text/plain": [
       "<Figure size 432x288 with 1 Axes>"
      ]
     },
     "metadata": {
      "needs_background": "light"
     },
     "output_type": "display_data"
    }
   ],
   "source": [
    "plt.plot(accepted_samples[:,1:2,0])"
   ]
  },
  {
   "cell_type": "code",
   "execution_count": 656,
   "metadata": {
    "ExecuteTime": {
     "end_time": "2019-12-13T17:32:50.158941Z",
     "start_time": "2019-12-13T17:32:49.871164Z"
    }
   },
   "outputs": [
    {
     "data": {
      "image/png": "[encoded data removed]",
      "text/plain": [
       "<Figure size 396x396 with 4 Axes>"
      ]
     },
     "metadata": {
      "needs_background": "light"
     },
     "output_type": "display_data"
    }
   ],
   "source": [
    "figure = corner.corner(accepted_samples[:,:,0])"
   ]
  },
  {
   "cell_type": "code",
   "execution_count": 657,
   "metadata": {
    "ExecuteTime": {
     "end_time": "2019-12-13T17:32:50.216569Z",
     "start_time": "2019-12-13T17:32:50.213237Z"
    }
   },
   "outputs": [
    {
     "data": {
      "text/plain": [
       "array([[-200.        ,  -50.        ],\n",
       "       [ 200.        ,  -50.        ],\n",
       "       [ 200.        ,   -3.        ],\n",
       "       [  70.        ,   -3.        ],\n",
       "       [  23.33333333,  -32.49583817],\n",
       "       [ -23.33333333,  -34.30164337],\n",
       "       [ -70.        ,   -3.        ],\n",
       "       [-200.        ,   -3.        ]])"
      ]
     },
     "execution_count": 657,
     "metadata": {},
     "output_type": "execute_result"
    }
   ],
   "source": [
    "points"
   ]
  },
  {
   "cell_type": "code",
   "execution_count": 664,
   "metadata": {
    "ExecuteTime": {
     "end_time": "2019-12-13T17:35:39.357780Z",
     "start_time": "2019-12-13T17:34:34.842869Z"
    }
   },
   "outputs": [
    {
     "data": {
      "image/png": "[encoded data removed]",
      "text/plain": [
       "<Figure size 432x288 with 1 Axes>"
      ]
     },
     "metadata": {
      "needs_background": "light"
     },
     "output_type": "display_data"
    }
   ],
   "source": [
    "draw_MCMC(points,accepted_samples[:,:,0],R=70)"
   ]
  },
  {
   "cell_type": "code",
   "execution_count": 360,
   "metadata": {
    "ExecuteTime": {
     "end_time": "2019-12-13T16:07:51.083103Z",
     "start_time": "2019-12-13T16:07:51.079216Z"
    }
   },
   "outputs": [],
   "source": [
    "def joint_log_prob(D,points_copy,ps):\n",
    "\n",
    "    # define likelihood\n",
    "    \n",
    "    Gm_ = grav(points_copy,ps)\n",
    "    print(Gm_)\n",
    "    Gm = tf.convert_to_tensor(Gm_,dtype)\n",
    "    \n",
    "    mvn_likelihood = tfd.MultivariateNormalFullCovariance(\n",
    "            loc = Gm,\n",
    "            covariance_matrix= cov)\n",
    "    \n",
    "    # return the posterior probability\n",
    "    return(mvn_likelihood.log_prob(D))"
   ]
  },
  {
   "cell_type": "code",
   "execution_count": 533,
   "metadata": {
    "ExecuteTime": {
     "end_time": "2019-12-13T17:00:30.439481Z",
     "start_time": "2019-12-13T17:00:30.423091Z"
    }
   },
   "outputs": [
    {
     "data": {
      "text/plain": [
       "<tf.Tensor: id=36940960, shape=(), dtype=float32, numpy=82.93245>"
      ]
     },
     "execution_count": 533,
     "metadata": {},
     "output_type": "execute_result"
    }
   ],
   "source": [
    "ps = [-9,-45]\n",
    "joint_log_prob(obs_data,points_copy,ps)\n",
    "\n",
    "# Gm_1 = np.array(grav(points_copy,ps))\n",
    "# obs_data = np.array(obs_data)\n",
    "# e =np.reshape((obs_data-Gm_1),[9,1])\n",
    "# et = np.transpose(e)\n",
    "# cov_1 = np.linalg.inv(cov)\n",
    "\n",
    "# np.exp(-np.matmul(np.matmul(et,cov_1),e))"
   ]
  },
  {
   "cell_type": "code",
   "execution_count": 534,
   "metadata": {
    "ExecuteTime": {
     "end_time": "2019-12-13T17:00:32.705000Z",
     "start_time": "2019-12-13T17:00:32.689675Z"
    }
   },
   "outputs": [
    {
     "data": {
      "text/plain": [
       "<tf.Tensor: id=36941093, shape=(), dtype=float32, numpy=88.05607>"
      ]
     },
     "execution_count": 534,
     "metadata": {},
     "output_type": "execute_result"
    }
   ],
   "source": [
    "ps = [-25,-20]\n",
    "joint_log_prob(obs_data,points_copy,ps)\n",
    "# Gm_2 = np.array(grav(points_copy,ps))\n",
    "# obs_data = np.array(obs_data)\n",
    "# e =np.reshape((obs_data-Gm_2),[9,1])\n",
    "# et = np.transpose(e)\n",
    "# cov_1 = np.linalg.inv(cov)\n",
    "# np.exp(-np.matmul(np.matmul(et,cov_1),e))\n"
   ]
  },
  {
   "cell_type": "code",
   "execution_count": null,
   "metadata": {
    "ExecuteTime": {
     "end_time": "2019-12-13T14:51:56.223417Z",
     "start_time": "2019-12-13T14:51:40.765Z"
    }
   },
   "outputs": [],
   "source": [
    "obs_data"
   ]
  },
  {
   "cell_type": "code",
   "execution_count": 532,
   "metadata": {
    "ExecuteTime": {
     "end_time": "2019-12-13T17:00:10.347627Z",
     "start_time": "2019-12-13T17:00:10.343129Z"
    }
   },
   "outputs": [
    {
     "data": {
      "text/plain": [
       "array([[-200.        ,  -50.        ],\n",
       "       [ 200.        ,  -50.        ],\n",
       "       [ 200.        ,   -3.        ],\n",
       "       [  70.        ,   -3.        ],\n",
       "       [  23.33333333,   -9.95668184],\n",
       "       [ -23.33333333,  -46.52653085],\n",
       "       [ -70.        ,   -3.        ],\n",
       "       [-200.        ,   -3.        ]])"
      ]
     },
     "execution_count": 532,
     "metadata": {},
     "output_type": "execute_result"
    }
   ],
   "source": [
    "points"
   ]
  },
  {
   "cell_type": "code",
   "execution_count": 350,
   "metadata": {
    "ExecuteTime": {
     "end_time": "2019-12-13T16:06:23.759963Z",
     "start_time": "2019-12-13T16:06:23.755153Z"
    }
   },
   "outputs": [
    {
     "data": {
      "text/plain": [
       "<tf.Tensor: id=24746515, shape=(9, 9), dtype=float32, numpy=\n",
       "array([[1.e-10, 0.e+00, 0.e+00, 0.e+00, 0.e+00, 0.e+00, 0.e+00, 0.e+00,\n",
       "        0.e+00],\n",
       "       [0.e+00, 1.e-10, 0.e+00, 0.e+00, 0.e+00, 0.e+00, 0.e+00, 0.e+00,\n",
       "        0.e+00],\n",
       "       [0.e+00, 0.e+00, 1.e-10, 0.e+00, 0.e+00, 0.e+00, 0.e+00, 0.e+00,\n",
       "        0.e+00],\n",
       "       [0.e+00, 0.e+00, 0.e+00, 1.e-10, 0.e+00, 0.e+00, 0.e+00, 0.e+00,\n",
       "        0.e+00],\n",
       "       [0.e+00, 0.e+00, 0.e+00, 0.e+00, 1.e-10, 0.e+00, 0.e+00, 0.e+00,\n",
       "        0.e+00],\n",
       "       [0.e+00, 0.e+00, 0.e+00, 0.e+00, 0.e+00, 1.e-10, 0.e+00, 0.e+00,\n",
       "        0.e+00],\n",
       "       [0.e+00, 0.e+00, 0.e+00, 0.e+00, 0.e+00, 0.e+00, 1.e-10, 0.e+00,\n",
       "        0.e+00],\n",
       "       [0.e+00, 0.e+00, 0.e+00, 0.e+00, 0.e+00, 0.e+00, 0.e+00, 1.e-10,\n",
       "        0.e+00],\n",
       "       [0.e+00, 0.e+00, 0.e+00, 0.e+00, 0.e+00, 0.e+00, 0.e+00, 0.e+00,\n",
       "        1.e-10]], dtype=float32)>"
      ]
     },
     "execution_count": 350,
     "metadata": {},
     "output_type": "execute_result"
    }
   ],
   "source": [
    "cov"
   ]
  },
  {
   "cell_type": "code",
   "execution_count": 367,
   "metadata": {
    "ExecuteTime": {
     "end_time": "2019-12-13T16:08:57.813605Z",
     "start_time": "2019-12-13T16:08:57.809279Z"
    }
   },
   "outputs": [],
   "source": [
    "def multivariate_normal(x, d, mean, covariance):\n",
    "    \"\"\"pdf of the multivariate normal distribution.\"\"\"\n",
    "    x_m = x - mean\n",
    "    return (1. / (np.sqrt((2 * np.pi)**d * np.linalg.det(covariance))) * \n",
    "            (np.exp(-(np.linalg.solve(covariance, x_m).T.dot(x_m)) / 2)))"
   ]
  },
  {
   "cell_type": "code",
   "execution_count": 368,
   "metadata": {
    "ExecuteTime": {
     "end_time": "2019-12-13T16:08:58.768864Z",
     "start_time": "2019-12-13T16:08:58.763783Z"
    }
   },
   "outputs": [
    {
     "name": "stderr",
     "output_type": "stream",
     "text": [
      "/Users/zhouji/anaconda3/envs/Bayes/lib/python3.7/site-packages/ipykernel_launcher.py:4: RuntimeWarning: divide by zero encountered in double_scalars\n",
      "  after removing the cwd from sys.path.\n"
     ]
    },
    {
     "data": {
      "text/plain": [
       "inf"
      ]
     },
     "execution_count": 368,
     "metadata": {},
     "output_type": "execute_result"
    }
   ],
   "source": [
    "multivariate_normal(obs_data, 9, Gm_1, cov)"
   ]
  },
  {
   "cell_type": "markdown",
   "metadata": {},
   "source": [
    "MAP"
   ]
  },
  {
   "cell_type": "code",
   "execution_count": null,
   "metadata": {
    "ExecuteTime": {
     "end_time": "2019-12-13T14:51:56.229282Z",
     "start_time": "2019-12-13T14:51:40.780Z"
    }
   },
   "outputs": [],
   "source": [
    "## Block out in case run by accident, takes too long to run 28 min\n",
    "ps = tf.constant([-1., -1.])\n",
    "for i in range(10):\n",
    "    with tf.GradientTape() as t:  \n",
    "        t.watch(ps)\n",
    "        loss = tf.negative(joint_log_prob(obs_data,points_copy,ps))\n",
    "        dlossdmu = t.gradient(loss,ps)\n",
    "        print(ps.numpy(),dlossdmu.numpy())\n",
    "        ps = ps - 0.00001*dlossdmu"
   ]
  },
  {
   "cell_type": "code",
   "execution_count": null,
   "metadata": {},
   "outputs": [],
   "source": []
  },
  {
   "cell_type": "code",
   "execution_count": null,
   "metadata": {},
   "outputs": [],
   "source": []
  },
  {
   "cell_type": "code",
   "execution_count": null,
   "metadata": {},
   "outputs": [],
   "source": []
  },
  {
   "cell_type": "markdown",
   "metadata": {},
   "source": [
    "### debug joint log post"
   ]
  },
  {
   "cell_type": "code",
   "execution_count": null,
   "metadata": {},
   "outputs": [],
   "source": []
  },
  {
   "cell_type": "code",
   "execution_count": null,
   "metadata": {
    "ExecuteTime": {
     "end_time": "2019-12-13T14:51:56.230514Z",
     "start_time": "2019-12-13T14:51:40.789Z"
    }
   },
   "outputs": [],
   "source": [
    "np.random.seed(3)\n",
    "true = np.random.uniform(min(corners[:,1])+10,max(corners[:,1]-10),N)"
   ]
  },
  {
   "cell_type": "code",
   "execution_count": null,
   "metadata": {
    "ExecuteTime": {
     "end_time": "2019-12-13T14:51:56.231621Z",
     "start_time": "2019-12-13T14:51:40.793Z"
    }
   },
   "outputs": [],
   "source": [
    "true"
   ]
  },
  {
   "cell_type": "code",
   "execution_count": null,
   "metadata": {
    "ExecuteTime": {
     "end_time": "2019-12-13T14:51:56.232705Z",
     "start_time": "2019-12-13T14:51:40.795Z"
    }
   },
   "outputs": [],
   "source": [
    "joint_log_prob(d,points,true)"
   ]
  },
  {
   "cell_type": "code",
   "execution_count": null,
   "metadata": {
    "ExecuteTime": {
     "end_time": "2019-12-13T14:51:56.233904Z",
     "start_time": "2019-12-13T14:51:40.799Z"
    }
   },
   "outputs": [],
   "source": [
    "# define likelihood\n",
    "cov = 0.0001*tf.ones(9)\n",
    "Gm_ = grav(points,ps)\n",
    "Gm = tf.convert_to_tensor(Gm_,dtype)\n",
    "\n",
    "mvn_likelihood = tfd.MultivariateNormalFullCovariance(\n",
    "        loc = Gm,\n",
    "        covariance_matrix= cov)\n",
    "    "
   ]
  },
  {
   "cell_type": "code",
   "execution_count": null,
   "metadata": {
    "ExecuteTime": {
     "end_time": "2019-12-13T14:51:56.235413Z",
     "start_time": "2019-12-13T14:51:40.801Z"
    }
   },
   "outputs": [],
   "source": [
    "Gm = d"
   ]
  },
  {
   "cell_type": "code",
   "execution_count": null,
   "metadata": {
    "ExecuteTime": {
     "end_time": "2019-12-13T14:51:56.236515Z",
     "start_time": "2019-12-13T14:51:40.804Z"
    }
   },
   "outputs": [],
   "source": [
    "mvn_likelihood.log_prob(d)"
   ]
  },
  {
   "cell_type": "code",
   "execution_count": null,
   "metadata": {},
   "outputs": [],
   "source": []
  },
  {
   "cell_type": "code",
   "execution_count": null,
   "metadata": {},
   "outputs": [],
   "source": []
  },
  {
   "cell_type": "code",
   "execution_count": null,
   "metadata": {},
   "outputs": [],
   "source": []
  },
  {
   "cell_type": "code",
   "execution_count": null,
   "metadata": {
    "ExecuteTime": {
     "end_time": "2019-12-13T14:51:56.237514Z",
     "start_time": "2019-12-13T14:51:40.815Z"
    }
   },
   "outputs": [],
   "source": [
    "ps = true+np.ones(N)"
   ]
  },
  {
   "cell_type": "code",
   "execution_count": null,
   "metadata": {
    "ExecuteTime": {
     "end_time": "2019-12-13T14:51:56.238678Z",
     "start_time": "2019-12-13T14:51:40.818Z"
    }
   },
   "outputs": [],
   "source": [
    "d"
   ]
  },
  {
   "cell_type": "code",
   "execution_count": null,
   "metadata": {
    "ExecuteTime": {
     "end_time": "2019-12-13T14:51:56.239862Z",
     "start_time": "2019-12-13T14:51:40.822Z"
    }
   },
   "outputs": [],
   "source": [
    "joint_log_prob(d,points,ps)"
   ]
  },
  {
   "cell_type": "code",
   "execution_count": null,
   "metadata": {
    "ExecuteTime": {
     "end_time": "2019-12-13T14:51:56.240979Z",
     "start_time": "2019-12-13T14:51:40.825Z"
    }
   },
   "outputs": [],
   "source": [
    "ps"
   ]
  },
  {
   "cell_type": "code",
   "execution_count": null,
   "metadata": {},
   "outputs": [],
   "source": []
  }
 ],
 "metadata": {
  "kernelspec": {
   "display_name": "Python 3",
   "language": "python",
   "name": "python3"
  },
  "language_info": {
   "codemirror_mode": {
    "name": "ipython",
    "version": 3
   },
   "file_extension": ".py",
   "mimetype": "text/x-python",
   "name": "python",
   "nbconvert_exporter": "python",
   "pygments_lexer": "ipython3",
   "version": "3.7.3"
  },
  "varInspector": {
   "cols": {
    "lenName": 16,
    "lenType": 16,
    "lenVar": 40
   },
   "kernels_config": {
    "python": {
     "delete_cmd_postfix": "",
     "delete_cmd_prefix": "del ",
     "library": "var_list.py",
     "varRefreshCmd": "print(var_dic_list())"
    },
    "r": {
     "delete_cmd_postfix": ") ",
     "delete_cmd_prefix": "rm(",
     "library": "var_list.r",
     "varRefreshCmd": "cat(var_dic_list()) "
    }
   },
   "types_to_exclude": [
    "module",
    "function",
    "builtin_function_or_method",
    "instance",
    "_Feature"
   ],
   "window_display": false
  }
 },
 "nbformat": 4,
 "nbformat_minor": 2
}
