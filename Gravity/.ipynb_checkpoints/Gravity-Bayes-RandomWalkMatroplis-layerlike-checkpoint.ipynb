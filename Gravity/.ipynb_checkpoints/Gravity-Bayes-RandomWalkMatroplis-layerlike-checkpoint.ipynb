{
 "cells": [
  {
   "cell_type": "code",
   "execution_count": 317,
   "metadata": {
    "ExecuteTime": {
     "end_time": "2019-12-16T11:01:19.622842Z",
     "start_time": "2019-12-16T11:01:19.617645Z"
    }
   },
   "outputs": [],
   "source": [
    "%matplotlib inline\n",
    "import matplotlib.pyplot as plt\n",
    "import numpy as np\n",
    "import tensorflow as tf\n",
    "import scipy\n",
    "from scipy.stats import norm\n",
    "import tensorflow_probability as tfp\n",
    "import seaborn as sns\n",
    "import pandas as pd\n",
    "import corner \n",
    "tfd=tfp.distributions"
   ]
  },
  {
   "cell_type": "markdown",
   "metadata": {},
   "source": [
    "Calculate gravity of polygon\n",
    "\n",
    "\" Computing the gravitaional and magnetic anomalies due to a polygon: Algorithems and Fortran subroutines' Won 1986\n"
   ]
  },
  {
   "cell_type": "code",
   "execution_count": 318,
   "metadata": {
    "ExecuteTime": {
     "end_time": "2019-12-16T11:01:19.635728Z",
     "start_time": "2019-12-16T11:01:19.624672Z"
    }
   },
   "outputs": [],
   "source": [
    "def A(x,z,p1,p2):\n",
    "    numerator = (x[p2]-x[p1])*(x[p1]*z[p2]-x[p2]*z[p1])\n",
    "    denominator = (x[p2]-x[p1])**2 + (z[p2]-z[p1])**2\n",
    "    return (numerator/denominator)\n",
    "\n",
    "def B(x,z,p1,p2):\n",
    "    return ((z[p1]-z[p2])/(x[p2]-x[p1]))\n",
    "\n",
    "def theta(x,z, p):\n",
    "    if x[p] != 0 :\n",
    "        if(np.arctan(z[p]/x[p]))<0:\n",
    "            return(np.arctan(z[p]/x[p])+scipy.pi)\n",
    "        else:\n",
    "            return(np.arctan(z[p]/x[p]))\n",
    "    if x[p] == 0 and z[p]!=0 :\n",
    "        return(scipy.pi/2)\n",
    "\n",
    "def r(x,z,p):\n",
    "    return(np.sqrt(x[p]**2+z[p]**2))\n",
    "\n",
    "def Z(x,z,p1,p2):\n",
    "    \n",
    "    if x[p1] == z[p1]==0 or x[p2] == z[p2]==0:\n",
    "        return(0)\n",
    "    \n",
    "    if x[p1] == x[p2]:\n",
    "        return((x[p1]*np.log(r(x,z,p2)/r(x,z,p1))))\n",
    "    \n",
    "    theta1 = theta(x,z, p1)\n",
    "    theta2 = theta(x,z, p2)\n",
    "    \n",
    "    r1 = r(x,z,p1)\n",
    "    r2 = r(x,z,p2)\n",
    "    \n",
    "    #this is only needed when observation location across z\n",
    "#     if z[p1]*z[p2]<0:\n",
    "#         if x[p1]*z[p2]==x[p2]*z[p1]:\n",
    "#             return(0)\n",
    "#         if x[p1]*z[p2] < x[p2]*z[p1] and z[p2]>=0:\n",
    "#             theta1 += 2*scipy.pi\n",
    "#         if x[p1]*z[p2] > x[p2]*z[p1] and z[p1]>=0:\n",
    "#             theta2 += 2*scipy.pi\n",
    "    \n",
    "    _A = A(x,z,p1,p2)\n",
    "    _B = B(x,z,p1,p2)\n",
    "    \n",
    "    Z_result = _A*((theta1-theta2)+_B*np.log(r1/r2))\n",
    "    return(Z_result)"
   ]
  },
  {
   "cell_type": "markdown",
   "metadata": {},
   "source": [
    "Gravity at origin is calculated as $\\Delta g_{z}=2 G \\rho \\sum_{i=1}^{n} Z_{i}$\n",
    "(Won, 1987)"
   ]
  },
  {
   "cell_type": "code",
   "execution_count": 319,
   "metadata": {
    "ExecuteTime": {
     "end_time": "2019-12-16T11:01:19.641835Z",
     "start_time": "2019-12-16T11:01:19.637521Z"
    }
   },
   "outputs": [],
   "source": [
    "def g(data,loc=(0,0)):\n",
    "    \n",
    "    G = 6.67 * 10**(-11) # gravitational constant  m^3 kg ^-1 s^-2\n",
    "    rho = 1000        # density difference   kg/m^3\n",
    "    \n",
    "    _data = data - loc #Calculate any point refer to the origin\n",
    "\n",
    "    _x = _data[:,0]\n",
    "    _z = _data[:,1]\n",
    "\n",
    "    Z_sum = 0\n",
    "    \n",
    "    for i in range(_data.shape[0]-1):\n",
    "        Z_sum += Z(_x,_z,i,i+1)\n",
    "\n",
    "    Z_sum += Z(_x,_z,-1,0)\n",
    "\n",
    "    g = 2*G*rho * Z_sum\n",
    "    \n",
    "    return(g)"
   ]
  },
  {
   "cell_type": "code",
   "execution_count": 320,
   "metadata": {
    "ExecuteTime": {
     "end_time": "2019-12-16T11:01:19.653147Z",
     "start_time": "2019-12-16T11:01:19.643489Z"
    }
   },
   "outputs": [],
   "source": [
    "def draw(points,ax = None,R = 100):\n",
    "    if ax == None:\n",
    "        f,ax=plt.subplots()\n",
    "    x = points[:,0]\n",
    "    z = points[:,1]\n",
    "    for i in range(points.shape[0]):\n",
    "        ax.plot(x[i:i+2],z[i:i+2],'r-')\n",
    "    x_ = np.linspace(-R,R,10)\n",
    "    ax.plot(x_,np.zeros(np.shape(x_)),lw = 0.5)# draw a reference line, surface\n",
    "    ax.plot([x[0],x[-1]],[z[0],z[-1]],'r-')\n",
    "    ax.set_ylim(min(points[:,1])-10,5)\n",
    "    ax.set_xlim(-R,R)\n",
    "    \n",
    "def grav_calculate(points_,x=None, R=70,ax = None,style = None):\n",
    "    if ax is None:\n",
    "        f,ax=plt.subplots()\n",
    "    if x is None:\n",
    "        x = np.linspace(-R,R,501)\n",
    "    y = np.zeros(np.shape(x))\n",
    "    obv = np.vstack((x,y)).T\n",
    "    gravity = []\n",
    "    for i in obv:\n",
    "        gravity.append(-g(points_,i))\n",
    "    if style is None:\n",
    "        style = '-'\n",
    "    ax.plot(x,gravity,style)\n",
    "    return gravity\n",
    "    \n",
    "def plot_true(points,R = None,ax = None):\n",
    "    if R is None:\n",
    "        R =max(points[:,0])\n",
    "    if ax is None:\n",
    "        f , ax = plt.subplots(2 , sharex = True, figsize = (7,10))\n",
    "        \n",
    "    grav_calculate(points, R=max(points[:,0]),ax = ax[0])\n",
    "    draw(points,ax = ax[1],R=R)\n",
    "    \n",
    "    "
   ]
  },
  {
   "cell_type": "markdown",
   "metadata": {},
   "source": [
    "<b> \"note: if z is positive downward and x is positive to the right, then the polygen vertices must be specified clock-wise. \" --Won 1987"
   ]
  },
  {
   "cell_type": "code",
   "execution_count": 321,
   "metadata": {
    "ExecuteTime": {
     "end_time": "2019-12-16T11:01:19.657497Z",
     "start_time": "2019-12-16T11:01:19.654521Z"
    }
   },
   "outputs": [],
   "source": [
    "#define a pseudo boundary condition and corner points\n",
    "corners=np.array([[-200,-50],# bottom left coner\n",
    "              [200,-50], \n",
    "              [200,-3], # bottom right coner\n",
    "              [70, -3], # top right coner\n",
    "              [-70,-3],# top left coner\n",
    "              [-200,-3]])"
   ]
  },
  {
   "cell_type": "code",
   "execution_count": 322,
   "metadata": {
    "ExecuteTime": {
     "end_time": "2019-12-16T11:01:19.662637Z",
     "start_time": "2019-12-16T11:01:19.659086Z"
    }
   },
   "outputs": [
    {
     "data": {
      "text/plain": [
       "(6, 2)"
      ]
     },
     "execution_count": 322,
     "metadata": {},
     "output_type": "execute_result"
    }
   ],
   "source": [
    "corners.shape"
   ]
  },
  {
   "cell_type": "markdown",
   "metadata": {},
   "source": [
    "set up the problem"
   ]
  },
  {
   "cell_type": "code",
   "execution_count": 323,
   "metadata": {
    "ExecuteTime": {
     "end_time": "2019-12-16T11:01:19.669396Z",
     "start_time": "2019-12-16T11:01:19.664413Z"
    }
   },
   "outputs": [],
   "source": [
    "N = 10\n",
    "points = np.empty((N+6,2))\n",
    "\n",
    "for i in range(corners.shape[0]-2):\n",
    "    points[i] = corners[i]\n",
    "    \n",
    "points[-2]=corners[-2]\n",
    "points[-1]=corners[-1]\n",
    "\n",
    "np.random.seed(11)\n",
    "\n",
    "x = np.linspace(-70,70,N+2)\n",
    "\n",
    "y = np.random.uniform(min(corners[:,1]),max(corners[:,1]),N)"
   ]
  },
  {
   "cell_type": "code",
   "execution_count": 324,
   "metadata": {
    "ExecuteTime": {
     "end_time": "2019-12-16T11:01:19.675198Z",
     "start_time": "2019-12-16T11:01:19.672171Z"
    }
   },
   "outputs": [],
   "source": [
    "for i in range(N):\n",
    "    points[i+4][1] = y[i]\n",
    "for i in range(N):\n",
    "    points[i+4][0] = x[-i-2]"
   ]
  },
  {
   "cell_type": "code",
   "execution_count": 325,
   "metadata": {
    "ExecuteTime": {
     "end_time": "2019-12-16T11:01:19.679371Z",
     "start_time": "2019-12-16T11:01:19.677078Z"
    }
   },
   "outputs": [],
   "source": [
    "import copy\n",
    "points_copy = copy.deepcopy(points)"
   ]
  },
  {
   "cell_type": "code",
   "execution_count": 326,
   "metadata": {
    "ExecuteTime": {
     "end_time": "2019-12-16T11:01:20.216876Z",
     "start_time": "2019-12-16T11:01:19.680784Z"
    }
   },
   "outputs": [
    {
     "data": {
      "image/png": "[encoded data removed]",
      "text/plain": [
       "<Figure size 504x720 with 2 Axes>"
      ]
     },
     "metadata": {
      "needs_background": "light"
     },
     "output_type": "display_data"
    }
   ],
   "source": [
    "plot_true(points,70)"
   ]
  },
  {
   "cell_type": "code",
   "execution_count": 327,
   "metadata": {
    "ExecuteTime": {
     "end_time": "2019-12-16T11:01:20.758129Z",
     "start_time": "2019-12-16T11:01:20.219000Z"
    }
   },
   "outputs": [
    {
     "data": {
      "image/png": "[encoded data removed]",
      "text/plain": [
       "<Figure size 504x720 with 2 Axes>"
      ]
     },
     "metadata": {
      "needs_background": "light"
     },
     "output_type": "display_data"
    }
   ],
   "source": [
    "x_obs = np.linspace(-70., 70., 11)\n",
    "x_obs = x_obs[1:-1]\n",
    "f,ax = plt.subplots(2,sharex = True,figsize = (7,10))\n",
    "plot_true(points,70,ax)\n",
    "obs_data = grav_calculate(points,x=x_obs,ax = ax[0],style='.')"
   ]
  },
  {
   "cell_type": "code",
   "execution_count": 328,
   "metadata": {
    "ExecuteTime": {
     "end_time": "2019-12-16T11:01:20.763773Z",
     "start_time": "2019-12-16T11:01:20.760031Z"
    }
   },
   "outputs": [],
   "source": [
    "noise = norm(0,0.0000001).rvs(len(obs_data))\n",
    "grav_obs_withnoise = obs_data+noise"
   ]
  },
  {
   "cell_type": "markdown",
   "metadata": {},
   "source": [
    "9 observation points,10 parameters"
   ]
  },
  {
   "cell_type": "code",
   "execution_count": 329,
   "metadata": {
    "ExecuteTime": {
     "end_time": "2019-12-16T11:01:21.257707Z",
     "start_time": "2019-12-16T11:01:20.765825Z"
    }
   },
   "outputs": [
    {
     "data": {
      "text/plain": [
       "<matplotlib.collections.PathCollection at 0x1a5aec0160>"
      ]
     },
     "execution_count": 329,
     "metadata": {},
     "output_type": "execute_result"
    },
    {
     "data": {
      "image/png": "[encoded data removed]",
      "text/plain": [
       "<Figure size 504x720 with 2 Axes>"
      ]
     },
     "metadata": {
      "needs_background": "light"
     },
     "output_type": "display_data"
    }
   ],
   "source": [
    "f,ax = plt.subplots(2,sharex = True,figsize = (7,10))\n",
    "plot_true(points,70,ax)\n",
    "ax[0].scatter(x_obs,grav_obs_withnoise,color='firebrick')"
   ]
  },
  {
   "cell_type": "code",
   "execution_count": 330,
   "metadata": {
    "ExecuteTime": {
     "end_time": "2019-12-16T11:01:21.262165Z",
     "start_time": "2019-12-16T11:01:21.259474Z"
    }
   },
   "outputs": [],
   "source": [
    "dtype = tf.float32"
   ]
  },
  {
   "cell_type": "code",
   "execution_count": 331,
   "metadata": {
    "ExecuteTime": {
     "end_time": "2019-12-16T11:01:21.270794Z",
     "start_time": "2019-12-16T11:01:21.264185Z"
    }
   },
   "outputs": [],
   "source": [
    "obs_data = grav_calculate(points,x=x_obs,ax = ax[0],style='.')"
   ]
  },
  {
   "cell_type": "code",
   "execution_count": 332,
   "metadata": {
    "ExecuteTime": {
     "end_time": "2019-12-16T11:01:21.279018Z",
     "start_time": "2019-12-16T11:01:21.272783Z"
    }
   },
   "outputs": [],
   "source": [
    "def grav(base,ps):\n",
    "    \n",
    "    #base_points:2xN tensor contains x location\n",
    "    #ps: 1xN vector, elevation variate\n",
    "    \n",
    "    for i in range(N):\n",
    "        base[i+4][1] = ps[i]\n",
    "        \n",
    "    x_obv = np.linspace(-70., 70., 11)\n",
    "    y_obv = np.zeros(np.shape(x_obv))\n",
    "    obv = np.vstack((x_obv,y_obv)).T\n",
    "    \n",
    "    gravity = []\n",
    "    for i in obv[1:-1]:\n",
    "        gravity.append(-g(base,i))\n",
    "        \n",
    "    return gravity"
   ]
  },
  {
   "cell_type": "code",
   "execution_count": 333,
   "metadata": {
    "ExecuteTime": {
     "end_time": "2019-12-16T11:01:21.284712Z",
     "start_time": "2019-12-16T11:01:21.280818Z"
    }
   },
   "outputs": [
    {
     "data": {
      "text/plain": [
       "[1.3986746336448605e-05,\n",
       " 1.2182948871173157e-05,\n",
       " 9.948058324737362e-06,\n",
       " 8.921184308260063e-06,\n",
       " 8.73591959548554e-06,\n",
       " 8.871654777964887e-06,\n",
       " 8.784141138333877e-06,\n",
       " 8.780303233957679e-06,\n",
       " 9.786056871412718e-06]"
      ]
     },
     "execution_count": 333,
     "metadata": {},
     "output_type": "execute_result"
    }
   ],
   "source": [
    "obs_data"
   ]
  },
  {
   "cell_type": "code",
   "execution_count": 334,
   "metadata": {
    "ExecuteTime": {
     "end_time": "2019-12-16T11:01:21.464668Z",
     "start_time": "2019-12-16T11:01:21.286089Z"
    }
   },
   "outputs": [
    {
     "data": {
      "image/png": "[encoded data removed]",
      "text/plain": [
       "<Figure size 432x288 with 1 Axes>"
      ]
     },
     "metadata": {
      "needs_background": "light"
     },
     "output_type": "display_data"
    }
   ],
   "source": [
    "draw(points_copy,R=70)"
   ]
  },
  {
   "cell_type": "code",
   "execution_count": 335,
   "metadata": {
    "ExecuteTime": {
     "end_time": "2019-12-16T11:01:21.471199Z",
     "start_time": "2019-12-16T11:01:21.466359Z"
    }
   },
   "outputs": [],
   "source": [
    "# mu_prior = [-25,-20,-30,-25,-13,-13,-35,-35,-35,-30]\n",
    "\n",
    "mu_prior = [-40,-40,-30,-20,-30,-30,-40,-30,-10,-10]\n",
    "cov_prior = 50.*tf.eye(N)\n",
    "\n",
    "sig_e = 0.0000005\n",
    "cov = sig_e**2*tf.eye(np.shape(obs_data)[0])"
   ]
  },
  {
   "cell_type": "code",
   "execution_count": 336,
   "metadata": {
    "ExecuteTime": {
     "end_time": "2019-12-16T11:01:21.476280Z",
     "start_time": "2019-12-16T11:01:21.472948Z"
    }
   },
   "outputs": [
    {
     "data": {
      "text/plain": [
       "5e-07"
      ]
     },
     "execution_count": 336,
     "metadata": {},
     "output_type": "execute_result"
    }
   ],
   "source": [
    "sig_e"
   ]
  },
  {
   "cell_type": "markdown",
   "metadata": {},
   "source": [
    "\\begin{equation}\n",
    "\\mathbf{e}=\\mathbf{d}-\\mathbf{G} \\mathbf{m}\n",
    "\\end{equation}\n",
    "\\begin{equation}\n",
    "p(\\mathbf{d} | \\boldsymbol{\\theta}, \\mathscr{J})=\\frac{1}{\\left(2 \\pi \\bar{\\sigma}_{\\mathbf{e}}^{2}\\right)^{N / 2}} \\exp \\left(-\\frac{\\mathbf{e}^{\\mathrm{T}} \\mathbf{e}}{2 \\bar{\\sigma}_{\\mathbf{e}}^{2}}\\right)\n",
    "\\end{equation}"
   ]
  },
  {
   "cell_type": "code",
   "execution_count": 337,
   "metadata": {
    "ExecuteTime": {
     "end_time": "2019-12-16T11:01:21.482429Z",
     "start_time": "2019-12-16T11:01:21.478177Z"
    }
   },
   "outputs": [
    {
     "data": {
      "text/plain": [
       "<tf.Tensor: id=33116075, shape=(9,), dtype=float32, numpy=\n",
       "array([1.3986746e-05, 1.2182949e-05, 9.9480585e-06, 8.9211844e-06,\n",
       "       8.7359194e-06, 8.8716552e-06, 8.7841408e-06, 8.7803037e-06,\n",
       "       9.7860566e-06], dtype=float32)>"
      ]
     },
     "execution_count": 337,
     "metadata": {},
     "output_type": "execute_result"
    }
   ],
   "source": [
    "d = tf.convert_to_tensor(obs_data,dtype)\n",
    "d"
   ]
  },
  {
   "cell_type": "code",
   "execution_count": 338,
   "metadata": {
    "ExecuteTime": {
     "end_time": "2019-12-16T11:01:21.488041Z",
     "start_time": "2019-12-16T11:01:21.484130Z"
    }
   },
   "outputs": [],
   "source": [
    "def joint_log_prob(D,points_copy,ps):\n",
    "    \"\"\"\n",
    "    D: is the observation data\n",
    "    ps: is the variable point positions (N elements vector)\n",
    "    \"\"\"\n",
    "    # define random variables prior\n",
    "    mvn_prior = tfd.MultivariateNormalFullCovariance(\n",
    "            loc = mu_prior,\n",
    "            covariance_matrix= cov_prior)\n",
    "    # define likelihood\n",
    "    \n",
    "    Gm_ = grav(points_copy,ps)\n",
    "    Gm = tf.convert_to_tensor(Gm_,dtype)\n",
    "    \n",
    "    mvn_likelihood = tfd.MultivariateNormalFullCovariance(\n",
    "            loc = Gm,\n",
    "            covariance_matrix= cov)\n",
    "    \n",
    "    # return the posterior probability\n",
    "    return(mvn_prior.log_prob(ps)\n",
    "          +mvn_likelihood.log_prob(D))"
   ]
  },
  {
   "cell_type": "code",
   "execution_count": null,
   "metadata": {
    "ExecuteTime": {
     "start_time": "2019-12-16T11:01:19.658Z"
    }
   },
   "outputs": [
    {
     "name": "stderr",
     "output_type": "stream",
     "text": [
      "/Users/zhouji/.local/lib/python3.7/site-packages/tensorflow_probability/python/mcmc/sample.py:335: UserWarning: Tracing all kernel results by default is deprecated. Set the `trace_fn` argument to None (the future default value) or an explicit callback that traces the values you are interested in.\n",
      "  warnings.warn(\"Tracing all kernel results by default is deprecated. Set \"\n"
     ]
    }
   ],
   "source": [
    "num_results = 3000\n",
    "burnin = 5000\n",
    "\n",
    "initial_chain_state = [\n",
    "    -10 * tf.ones([N], dtype=tf.float32, name=\"init_t1\"),\n",
    "]\n",
    "\n",
    "unnormalized_posterior_log_prob = lambda *args: joint_log_prob(obs_data,points_copy,*args)\n",
    "\n",
    "samples, kernel_results = tfp.mcmc.sample_chain(\n",
    "    num_results=num_results,\n",
    "    current_state=initial_chain_state,\n",
    "    kernel=tfp.mcmc.RandomWalkMetropolis(\n",
    "        target_log_prob_fn=unnormalized_posterior_log_prob),\n",
    "    num_burnin_steps=burnin,\n",
    "    num_steps_between_results=1,  # Thinning.\n",
    "    parallel_iterations=1)\n",
    "samples = tf.stack(samples, axis=-1)\n",
    "accepted = kernel_results.is_accepted\n",
    "\n",
    "samples = samples.numpy()\n",
    "accepted = accepted.numpy()\n"
   ]
  },
  {
   "cell_type": "code",
   "execution_count": null,
   "metadata": {
    "ExecuteTime": {
     "start_time": "2019-12-16T11:01:19.661Z"
    }
   },
   "outputs": [],
   "source": [
    "accept_index = np.where(accepted==True)\n",
    "accepted_samples = samples[accept_index]"
   ]
  },
  {
   "cell_type": "code",
   "execution_count": null,
   "metadata": {
    "ExecuteTime": {
     "start_time": "2019-12-16T11:01:19.662Z"
    }
   },
   "outputs": [],
   "source": [
    "plt.plot(accepted_samples[:,0:4,0])"
   ]
  },
  {
   "cell_type": "code",
   "execution_count": null,
   "metadata": {
    "ExecuteTime": {
     "start_time": "2019-12-16T11:01:19.665Z"
    }
   },
   "outputs": [],
   "source": [
    "accepted_samples[:,:,0].shape"
   ]
  },
  {
   "cell_type": "code",
   "execution_count": null,
   "metadata": {
    "ExecuteTime": {
     "start_time": "2019-12-16T11:01:19.666Z"
    }
   },
   "outputs": [],
   "source": [
    "figure = corner.corner(accepted_samples[:,0:4,0])"
   ]
  },
  {
   "cell_type": "markdown",
   "metadata": {
    "ExecuteTime": {
     "end_time": "2019-12-12T13:14:11.211930Z",
     "start_time": "2019-12-12T13:14:11.207001Z"
    }
   },
   "source": [
    "TO DO:\n",
    "1.  add a entropy plotting function\n",
    "2.  compare with prior info and without\n",
    "3.  Hessian MCMC"
   ]
  },
  {
   "cell_type": "code",
   "execution_count": null,
   "metadata": {
    "ExecuteTime": {
     "start_time": "2019-12-16T11:01:19.669Z"
    }
   },
   "outputs": [],
   "source": [
    "def draw_MCMC(base,samples,ax = None,R = 70):\n",
    "    if ax == None:\n",
    "        f,ax=plt.subplots()\n",
    "        \n",
    "    base_ = copy.deepcopy(base)\n",
    "    \n",
    "    x_ = base_[:,0]\n",
    "    z_ = base_[:,1]\n",
    "    \n",
    "    x = base[:,0]\n",
    "    z = base[:,1]\n",
    "    \n",
    "    for i in range(base_.shape[0]):\n",
    "        ax.plot(x[i:i+2],z[i:i+2],'k-')\n",
    "    x1 = np.linspace(-R,R,N)\n",
    "    for ps in samples:\n",
    "        for j in range(N):\n",
    "            base_[j+4][1] = ps[j]\n",
    "        for i in range(3,base_.shape[0]-1):\n",
    "            ax.plot(base[:,0][i:i+2],base_[:,1][i:i+2],'r-',alpha = 0.005)\n",
    "    ax.plot(x1,np.zeros(np.shape(x1)),lw = 0.5)# draw a reference line, surface\n",
    "    ax.plot([x[0],x[-1]],[z[0],z[-1]],'k-')# draw the truth\n",
    "    ax.set_ylim(min(base[:,1])-10,5)\n",
    "    ax.set_xlim(-R,R)"
   ]
  },
  {
   "cell_type": "code",
   "execution_count": null,
   "metadata": {
    "ExecuteTime": {
     "start_time": "2019-12-16T11:01:19.671Z"
    }
   },
   "outputs": [],
   "source": [
    "draw_MCMC(points,accepted_samples[:,:,0])\n",
    "plt.savefig('RMH.png')"
   ]
  },
  {
   "cell_type": "markdown",
   "metadata": {},
   "source": [
    "Only sample from Prior distribution"
   ]
  },
  {
   "cell_type": "code",
   "execution_count": null,
   "metadata": {
    "ExecuteTime": {
     "start_time": "2019-12-16T11:01:19.673Z"
    }
   },
   "outputs": [],
   "source": [
    "def joint_log_prob(D,points_copy,ps):\n",
    "    \"\"\"\n",
    "    D: is the observation data\n",
    "    ps: is the variable point positions (N elements vector)\n",
    "    \"\"\"\n",
    "    # define random variables prior\n",
    "    mvn_prior = tfd.MultivariateNormalFullCovariance(\n",
    "            loc = mu_prior,\n",
    "            covariance_matrix= cov_prior)\n",
    "    # define likelihood\n",
    "    \n",
    "    Gm_ = grav(points_copy,ps)\n",
    "    Gm = tf.convert_to_tensor(Gm_,dtype)\n",
    "    \n",
    "    mvn_likelihood = tfd.MultivariateNormalFullCovariance(\n",
    "            loc = Gm,\n",
    "            covariance_matrix= cov)\n",
    "    \n",
    "    # return the posterior probability\n",
    "    return(mvn_prior.log_prob(ps))"
   ]
  },
  {
   "cell_type": "code",
   "execution_count": null,
   "metadata": {
    "ExecuteTime": {
     "start_time": "2019-12-16T11:01:19.675Z"
    }
   },
   "outputs": [],
   "source": [
    "num_results = 3000\n",
    "burnin = 5000\n",
    "\n",
    "initial_chain_state = [\n",
    "    -10 * tf.ones([N], dtype=tf.float32, name=\"init_t1\"),\n",
    "]\n",
    "\n",
    "unnormalized_posterior_log_prob = lambda *args: joint_log_prob(obs_data,points_copy,*args)\n",
    "\n",
    "samples, kernel_results = tfp.mcmc.sample_chain(\n",
    "    num_results=num_results,\n",
    "    current_state=initial_chain_state,\n",
    "    kernel=tfp.mcmc.RandomWalkMetropolis(\n",
    "        target_log_prob_fn=unnormalized_posterior_log_prob),\n",
    "    num_burnin_steps=burnin,\n",
    "    num_steps_between_results=1,  # Thinning.\n",
    "    parallel_iterations=1)\n",
    "samples = tf.stack(samples, axis=-1)\n",
    "accepted = kernel_results.is_accepted\n",
    "\n",
    "samples = samples.numpy()\n",
    "accepted = accepted.numpy()\n",
    "\n",
    "accept_index = np.where(accepted==True)\n",
    "accepted_samples_prior = samples[accept_index]\n"
   ]
  },
  {
   "cell_type": "code",
   "execution_count": null,
   "metadata": {
    "ExecuteTime": {
     "start_time": "2019-12-16T11:01:19.677Z"
    }
   },
   "outputs": [],
   "source": [
    "draw_MCMC(points,accepted_samples_prior[:,:,0])\n",
    "plt.savefig('prior.png')"
   ]
  },
  {
   "cell_type": "markdown",
   "metadata": {},
   "source": [
    "if without prior info"
   ]
  },
  {
   "cell_type": "code",
   "execution_count": null,
   "metadata": {
    "ExecuteTime": {
     "start_time": "2019-12-16T11:01:19.679Z"
    }
   },
   "outputs": [],
   "source": [
    "low_ = -50*tf.ones(N)\n",
    "high_ = -1*tf.ones(N)"
   ]
  },
  {
   "cell_type": "code",
   "execution_count": null,
   "metadata": {
    "ExecuteTime": {
     "start_time": "2019-12-16T11:01:19.680Z"
    }
   },
   "outputs": [],
   "source": [
    "cov"
   ]
  },
  {
   "cell_type": "code",
   "execution_count": null,
   "metadata": {
    "ExecuteTime": {
     "start_time": "2019-12-16T11:01:19.682Z"
    }
   },
   "outputs": [],
   "source": [
    "\n",
    "def joint_log_prob(D,points_,ps):\n",
    "    \"\"\"\n",
    "    D: is the observation data\n",
    "    ps: is the variable point positions (N elements vector)\n",
    "    \"\"\"\n",
    "    # define random variables prior\n",
    "    mvn_prior = tfd.Uniform(\n",
    "            low = low_,\n",
    "            high = high_)\n",
    "    # define likelihood\n",
    "    \n",
    "    Gm_ = grav(points_,ps)\n",
    "    Gm = tf.convert_to_tensor(Gm_,dtype)\n",
    "    \n",
    "    mvn_likelihood = tfd.MultivariateNormalFullCovariance(\n",
    "            loc = Gm,\n",
    "            covariance_matrix= cov)\n",
    "    \n",
    "    # return the posterior probability\n",
    "    return(tf.reduce_sum(mvn_prior.log_prob(ps))\n",
    "          +mvn_likelihood.log_prob(D))"
   ]
  },
  {
   "cell_type": "code",
   "execution_count": null,
   "metadata": {
    "ExecuteTime": {
     "start_time": "2019-12-16T11:01:19.686Z"
    }
   },
   "outputs": [],
   "source": [
    "points"
   ]
  },
  {
   "cell_type": "code",
   "execution_count": null,
   "metadata": {
    "ExecuteTime": {
     "start_time": "2019-12-16T11:01:19.687Z"
    }
   },
   "outputs": [],
   "source": [
    "num_results = 5000\n",
    "burnin = 3000\n",
    "\n",
    "initial_chain_state = [\n",
    "    -10 * tf.ones([N], dtype=tf.float32, name=\"init_t1\"),\n",
    "]\n",
    "\n",
    "unnormalized_posterior_log_prob = lambda *args: joint_log_prob(obs_data,points_copy,*args)\n",
    "\n",
    "def gauss_new_state_fn(scale, dtype):\n",
    "  gauss = tfd.Normal(loc=dtype(0), scale=dtype(scale))\n",
    "  def _fn(state_parts, seed):\n",
    "    next_state_parts = []\n",
    "    seed_stream  = tfp.util.SeedStream(seed, salt='RandomNormal')\n",
    "    for sp in state_parts:\n",
    "      next_state_parts.append(sp + gauss.sample(\n",
    "        sample_shape=sp.shape, seed=seed_stream()))\n",
    "    return next_state_parts\n",
    "  return _fn\n",
    "\n",
    "dtype = np.float32\n",
    "\n",
    "samples, kernel_results = tfp.mcmc.sample_chain(\n",
    "    num_results=num_results,\n",
    "    current_state=initial_chain_state,\n",
    "    kernel=tfp.mcmc.RandomWalkMetropolis(\n",
    "        target_log_prob_fn=unnormalized_posterior_log_prob,\n",
    "        new_state_fn=gauss_new_state_fn(scale=1, dtype=dtype)),\n",
    "    num_burnin_steps=burnin,\n",
    "    num_steps_between_results=1,  # Thinning.\n",
    "    parallel_iterations=1)\n",
    "\n",
    "samples = tf.stack(samples, axis=-1)\n",
    "accepted = kernel_results.is_accepted\n",
    "\n",
    "samples = samples.numpy()\n",
    "accepted = accepted.numpy()\n"
   ]
  },
  {
   "cell_type": "code",
   "execution_count": null,
   "metadata": {
    "ExecuteTime": {
     "start_time": "2019-12-16T11:01:19.689Z"
    }
   },
   "outputs": [],
   "source": [
    "accept_index = np.where(accepted==True)\n",
    "accepted_samples = samples[accept_index]"
   ]
  },
  {
   "cell_type": "code",
   "execution_count": null,
   "metadata": {
    "ExecuteTime": {
     "start_time": "2019-12-16T11:01:19.691Z"
    }
   },
   "outputs": [],
   "source": [
    "accepted_samples"
   ]
  },
  {
   "cell_type": "code",
   "execution_count": null,
   "metadata": {
    "ExecuteTime": {
     "start_time": "2019-12-16T11:01:19.693Z"
    }
   },
   "outputs": [],
   "source": [
    "plt.plot(accepted_samples[:,0:1,0])"
   ]
  },
  {
   "cell_type": "code",
   "execution_count": null,
   "metadata": {
    "ExecuteTime": {
     "start_time": "2019-12-16T11:01:19.695Z"
    }
   },
   "outputs": [],
   "source": [
    "figure = corner.corner(accepted_samples[:,:,0])"
   ]
  },
  {
   "cell_type": "code",
   "execution_count": null,
   "metadata": {
    "ExecuteTime": {
     "start_time": "2019-12-16T11:01:19.696Z"
    }
   },
   "outputs": [],
   "source": [
    "plot_true(points,70)"
   ]
  },
  {
   "cell_type": "code",
   "execution_count": null,
   "metadata": {
    "ExecuteTime": {
     "start_time": "2019-12-16T11:01:19.698Z"
    }
   },
   "outputs": [],
   "source": [
    "draw_MCMC(points,accepted_samples[:,:,0],R=70)\n",
    "plt.savefig('likelihood.png')"
   ]
  },
  {
   "cell_type": "code",
   "execution_count": null,
   "metadata": {
    "ExecuteTime": {
     "start_time": "2019-12-16T11:01:19.700Z"
    }
   },
   "outputs": [],
   "source": [
    "def joint_log_prob(D,points_copy,ps):\n",
    "\n",
    "    # define likelihood\n",
    "    \n",
    "    Gm_ = grav(points_copy,ps)\n",
    "    print(Gm_)\n",
    "    Gm = tf.convert_to_tensor(Gm_,dtype)\n",
    "    \n",
    "    mvn_likelihood = tfd.MultivariateNormalFullCovariance(\n",
    "            loc = Gm,\n",
    "            covariance_matrix= cov)\n",
    "    \n",
    "    # return the posterior probability\n",
    "    return(mvn_likelihood.log_prob(D))"
   ]
  },
  {
   "cell_type": "code",
   "execution_count": null,
   "metadata": {
    "ExecuteTime": {
     "start_time": "2019-12-16T11:01:19.701Z"
    }
   },
   "outputs": [],
   "source": [
    "ps = [-9,-45]\n",
    "joint_log_prob(obs_data,points_copy,ps)\n",
    "\n",
    "# Gm_1 = np.array(grav(points_copy,ps))\n",
    "# obs_data = np.array(obs_data)\n",
    "# e =np.reshape((obs_data-Gm_1),[9,1])\n",
    "# et = np.transpose(e)\n",
    "# cov_1 = np.linalg.inv(cov)\n",
    "\n",
    "# np.exp(-np.matmul(np.matmul(et,cov_1),e))"
   ]
  },
  {
   "cell_type": "code",
   "execution_count": null,
   "metadata": {
    "ExecuteTime": {
     "start_time": "2019-12-16T11:01:19.703Z"
    }
   },
   "outputs": [],
   "source": [
    "ps = [-25,-20]\n",
    "joint_log_prob(obs_data,points_copy,ps)\n",
    "# Gm_2 = np.array(grav(points_copy,ps))\n",
    "# obs_data = np.array(obs_data)\n",
    "# e =np.reshape((obs_data-Gm_2),[9,1])\n",
    "# et = np.transpose(e)\n",
    "# cov_1 = np.linalg.inv(cov)\n",
    "# np.exp(-np.matmul(np.matmul(et,cov_1),e))\n"
   ]
  },
  {
   "cell_type": "code",
   "execution_count": null,
   "metadata": {
    "ExecuteTime": {
     "start_time": "2019-12-16T11:01:19.704Z"
    }
   },
   "outputs": [],
   "source": [
    "obs_data"
   ]
  },
  {
   "cell_type": "code",
   "execution_count": null,
   "metadata": {
    "ExecuteTime": {
     "start_time": "2019-12-16T11:01:19.707Z"
    }
   },
   "outputs": [],
   "source": [
    "points"
   ]
  },
  {
   "cell_type": "code",
   "execution_count": null,
   "metadata": {
    "ExecuteTime": {
     "start_time": "2019-12-16T11:01:19.709Z"
    }
   },
   "outputs": [],
   "source": [
    "cov"
   ]
  },
  {
   "cell_type": "code",
   "execution_count": null,
   "metadata": {
    "ExecuteTime": {
     "start_time": "2019-12-16T11:01:19.711Z"
    }
   },
   "outputs": [],
   "source": [
    "def multivariate_normal(x, d, mean, covariance):\n",
    "    \"\"\"pdf of the multivariate normal distribution.\"\"\"\n",
    "    x_m = x - mean\n",
    "    return (1. / (np.sqrt((2 * np.pi)**d * np.linalg.det(covariance))) * \n",
    "            (np.exp(-(np.linalg.solve(covariance, x_m).T.dot(x_m)) / 2)))"
   ]
  },
  {
   "cell_type": "code",
   "execution_count": null,
   "metadata": {
    "ExecuteTime": {
     "start_time": "2019-12-16T11:01:19.712Z"
    }
   },
   "outputs": [],
   "source": [
    "multivariate_normal(obs_data, 9, Gm_1, cov)"
   ]
  },
  {
   "cell_type": "markdown",
   "metadata": {},
   "source": [
    "MAP"
   ]
  },
  {
   "cell_type": "code",
   "execution_count": null,
   "metadata": {
    "ExecuteTime": {
     "start_time": "2019-12-16T11:01:19.714Z"
    }
   },
   "outputs": [],
   "source": [
    "## Block out in case run by accident, takes too long to run 28 min\n",
    "ps = tf.constant([-1., -1.])\n",
    "for i in range(10):\n",
    "    with tf.GradientTape() as t:  \n",
    "        t.watch(ps)\n",
    "        loss = tf.negative(joint_log_prob(obs_data,points_copy,ps))\n",
    "        dlossdmu = t.gradient(loss,ps)\n",
    "        print(ps.numpy(),dlossdmu.numpy())\n",
    "        ps = ps - 0.00001*dlossdmu"
   ]
  },
  {
   "cell_type": "code",
   "execution_count": null,
   "metadata": {},
   "outputs": [],
   "source": []
  }
 ],
 "metadata": {
  "kernelspec": {
   "display_name": "Python 3",
   "language": "python",
   "name": "python3"
  },
  "language_info": {
   "codemirror_mode": {
    "name": "ipython",
    "version": 3
   },
   "file_extension": ".py",
   "mimetype": "text/x-python",
   "name": "python",
   "nbconvert_exporter": "python",
   "pygments_lexer": "ipython3",
   "version": "3.7.3"
  },
  "varInspector": {
   "cols": {
    "lenName": 16,
    "lenType": 16,
    "lenVar": 40
   },
   "kernels_config": {
    "python": {
     "delete_cmd_postfix": "",
     "delete_cmd_prefix": "del ",
     "library": "var_list.py",
     "varRefreshCmd": "print(var_dic_list())"
    },
    "r": {
     "delete_cmd_postfix": ") ",
     "delete_cmd_prefix": "rm(",
     "library": "var_list.r",
     "varRefreshCmd": "cat(var_dic_list()) "
    }
   },
   "types_to_exclude": [
    "module",
    "function",
    "builtin_function_or_method",
    "instance",
    "_Feature"
   ],
   "window_display": false
  }
 },
 "nbformat": 4,
 "nbformat_minor": 2
}
