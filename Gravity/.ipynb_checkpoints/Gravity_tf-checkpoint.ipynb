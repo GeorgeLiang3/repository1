{
 "cells": [
  {
   "cell_type": "code",
   "execution_count": 1,
   "metadata": {
    "ExecuteTime": {
     "end_time": "2019-12-16T19:58:05.159999Z",
     "start_time": "2019-12-16T19:58:01.764772Z"
    }
   },
   "outputs": [],
   "source": [
    "%matplotlib inline\n",
    "import matplotlib.pyplot as plt\n",
    "import numpy as np\n",
    "import tensorflow as tf\n",
    "import scipy\n",
    "from scipy.stats import norm\n",
    "import tensorflow_probability as tfp\n",
    "import seaborn as sns\n",
    "import pandas as pd\n",
    "import corner \n",
    "tfd=tfp.distributions"
   ]
  },
  {
   "cell_type": "code",
   "execution_count": 2,
   "metadata": {
    "ExecuteTime": {
     "end_time": "2019-12-16T19:58:05.211853Z",
     "start_time": "2019-12-16T19:58:05.202760Z"
    }
   },
   "outputs": [],
   "source": [
    "depth = -20\n",
    "thickness = 20\n",
    "\n",
    "corners=np.array([[-200,depth-thickness],\n",
    "                  [-70,depth-thickness],\n",
    "                  [70,depth-thickness],# bottom left coner\n",
    "              [200,depth-thickness], \n",
    "              [200,depth], # bottom right coner\n",
    "              [70, depth], # top right coner\n",
    "              [-70,depth],# top left coner\n",
    "              [-200,depth]])\n",
    "N = 2\n",
    "points = np.empty((2*N+8,2),dtype = np.float32)\n",
    "\n",
    "points[0] = corners[0]\n",
    "points[1] = corners[1]\n",
    "\n",
    "for i in range(6):\n",
    "    points[N+i] = corners[i]\n",
    "    \n",
    "points[-2]=corners[-2]\n",
    "points[-1]=corners[-1]\n",
    "\n",
    "np.random.seed(11)\n",
    "\n",
    "x2 = np.linspace(-70,70,N+2)\n",
    "x1 = np.linspace(70,-70,N+2)\n",
    "\n",
    "thickness = 20\n",
    "y1 = np.random.uniform(-2,-50,N)\n",
    "y2 = y1-thickness\n",
    "\n",
    "y1 = list(reversed(y1))\n",
    "\n",
    "for i in range(2,N+2): ## lower layer\n",
    "    points[i][1] = y2[i-2]\n",
    "    points[i][0] = x2[i-1]\n",
    "    \n",
    "for i in range(N+6,2*N+6): ## upper layer\n",
    "    points[i][1] = y1[i-N-6]\n",
    "    points[i][0] = x1[i-N-5]\n"
   ]
  },
  {
   "cell_type": "code",
   "execution_count": 193,
   "metadata": {
    "ExecuteTime": {
     "end_time": "2019-12-16T21:23:46.714284Z",
     "start_time": "2019-12-16T21:23:46.649132Z"
    }
   },
   "outputs": [],
   "source": [
    "@tf.function\n",
    "def A(x,z,p1,p2):\n",
    "    numerator = (x[p2]-x[p1])*(x[p1]*z[p2]-x[p2]*z[p1])\n",
    "    denominator = (x[p2]-x[p1])**2 + (z[p2]-z[p1])**2\n",
    "    return (numerator/denominator)\n",
    "\n",
    "@tf.function\n",
    "def B(x,z,p1,p2):\n",
    "    return ((z[p1]-z[p2])/(x[p2]-x[p1]))\n",
    "\n",
    "@tf.function\n",
    "def theta(x,z, p):\n",
    "    if tf.math.not_equal(x[p], 0) :\n",
    "        if tf.less(tf.atan(z[p]/x[p]),0):\n",
    "            return(tf.atan(z[p]/x[p])+scipy.pi)\n",
    "        else:\n",
    "            return(tf.atan(z[p]/x[p]))\n",
    "    elif tf.math.logical_and(tf.math.equal(x[p], 0), tf.math.not_equal(z[p], 0)):\n",
    "        return(scipy.pi/2)\n",
    "    else: return(0.)\n",
    "\n",
    "@tf.function\n",
    "def r(x,z,p):\n",
    "    return(tf.sqrt(x[p]**2+z[p]**2))\n",
    "\n",
    "@tf.function\n",
    "def Z(x,z,p1,p2):\n",
    "    \n",
    "    if tf.logical_or(tf.logical_and(tf.equal(x[p1],z[p1]),tf.equal(x[p1],0.)), tf.logical_and(tf.equal(x[p2],z[p2]),tf.equal(x[p2],0.))):\n",
    "        return(0.)\n",
    "\n",
    "    elif tf.equal(x[p1], x[p2]):\n",
    "        return((x[p1]*tf.math.log(r(x,z,p2)/r(x,z,p1))))\n",
    "    \n",
    "    else:\n",
    "    \n",
    "        theta1 = theta(x,z, p1)\n",
    "        theta2 = theta(x,z, p2)\n",
    "\n",
    "        r1 = r(x,z,p1)\n",
    "        r2 = r(x,z,p2)\n",
    "\n",
    "        _A = A(x,z,p1,p2)\n",
    "        _B = B(x,z,p1,p2)\n",
    "\n",
    "        Z_result = _A*((theta1-theta2)+_B*tf.math.log(r1/r2))\n",
    "        return(Z_result)\n",
    "\n",
    "@tf.function\n",
    "def g(data,loc):\n",
    "    \n",
    "    G = tf.constant(6.67 * 10**(-11)) # gravitational constant  m^3 kg ^-1 s^-2\n",
    "    rho = tf.constant(1000.)        # density difference   kg/m^3\n",
    "\n",
    "    _data = points - loc #Calculate any point refer to the origin\n",
    "\n",
    "    _x = _data[:,0]\n",
    "    _z = _data[:,1]\n",
    "\n",
    "    Z_sum = tf.constant(0.)\n",
    "\n",
    "    for i in range(_data.shape[0]-1):\n",
    "        Z_sum = tf.add(Z_sum, Z(_x,_z,i,i+1))\n",
    "\n",
    "    Z_sum = tf.add(Z_sum, Z(_x,_z,-1,0))\n",
    "\n",
    "    g = 2*G*rho * Z_sum\n",
    "\n",
    "    return(g)\n",
    "\n",
    "@tf.function\n",
    "def grav(base,ps):\n",
    "    ps = tf.constant(ps)\n",
    "\n",
    "    ps1 = ps\n",
    "    ps2 = ps1-thickness\n",
    "\n",
    "    ps2 = tf.reverse(ps2,[-1])\n",
    "\n",
    "    for i in range(2,N+2): ## lower layer\n",
    "        points[i].assign([points[i][0],ps2[i-2]])\n",
    "\n",
    "    for i in range(N+6,2*N+6): ## upper layer\n",
    "        points[i].assign([points[i][0],ps1[i-N-6]])\n",
    "\n",
    "    x_obv = tf.linspace(-70., 70., 11)\n",
    "    y_obv = tf.zeros(tf.shape(x_obv))\n",
    "    obv = tf.stack((x_obv,y_obv),axis = 1)\n",
    "\n",
    "\n",
    "    gravity = tf.TensorArray(tf.float32, size=obv.shape[0]-2)\n",
    "    \n",
    "    j = tf.constant(0)\n",
    "    for i in obv[1:-1]:\n",
    "        gravity=gravity.write(j,-g(points,i))\n",
    "        j = tf.add(j,1)\n",
    "    return gravity.stack()\n",
    "\n",
    "\n",
    "@tf.function\n",
    "def joint_log_prob(D,points_copy,ps):\n",
    "    \"\"\"\n",
    "    D: is the observation data\n",
    "    ps: is the variable point positions (N elements vector)\n",
    "    \"\"\"\n",
    "    # define random variables prior\n",
    "    \n",
    "    low_ = tf.constant(-40.)\n",
    "    high_ = tf.constant(-1.)\n",
    "    mvn_prior = tfd.Uniform(\n",
    "            low = low_,\n",
    "            high = high_)\n",
    "    # define likelihood\n",
    "    \n",
    "    Gm_ = grav(points_copy,ps)\n",
    "    \n",
    "    mvn_likelihood = tfd.MultivariateNormalFullCovariance(\n",
    "            loc = Gm_,\n",
    "            covariance_matrix= cov)\n",
    "    \n",
    "    # return the posterior probability\n",
    "    return(tf.reduce_sum(mvn_prior.log_prob(ps))\n",
    "          +mvn_likelihood.log_prob(D))"
   ]
  },
  {
   "cell_type": "code",
   "execution_count": null,
   "metadata": {},
   "outputs": [],
   "source": [
    "mu_prior = -20.*tf.ones([50],dtype = tf.float32)\n",
    "cov_prior = 20.*tf.eye(N)\n",
    "\n",
    "sig_e = 0.0000003\n",
    "cov = sig_e**2*tf.eye(np.shape(obs_data)[0])"
   ]
  },
  {
   "cell_type": "code",
   "execution_count": 4,
   "metadata": {
    "ExecuteTime": {
     "end_time": "2019-12-16T19:58:05.341068Z",
     "start_time": "2019-12-16T19:58:05.338954Z"
    }
   },
   "outputs": [],
   "source": [
    "N = 2"
   ]
  },
  {
   "cell_type": "code",
   "execution_count": 5,
   "metadata": {
    "ExecuteTime": {
     "end_time": "2019-12-16T19:58:05.650228Z",
     "start_time": "2019-12-16T19:58:05.632204Z"
    }
   },
   "outputs": [],
   "source": [
    "x = [2.,2.,3.,4.]\n",
    "z = [0.,1.,-3.,-4.]\n",
    "x = tf.convert_to_tensor(x,dtype = tf.float32)\n",
    "z = tf.convert_to_tensor(z,dtype = tf.float32)"
   ]
  },
  {
   "cell_type": "code",
   "execution_count": 64,
   "metadata": {
    "ExecuteTime": {
     "end_time": "2019-12-16T20:22:01.533923Z",
     "start_time": "2019-12-16T20:22:01.530925Z"
    }
   },
   "outputs": [],
   "source": []
  },
  {
   "cell_type": "code",
   "execution_count": null,
   "metadata": {},
   "outputs": [],
   "source": []
  },
  {
   "cell_type": "code",
   "execution_count": 206,
   "metadata": {
    "ExecuteTime": {
     "end_time": "2019-12-16T21:27:56.529977Z",
     "start_time": "2019-12-16T21:27:56.521186Z"
    }
   },
   "outputs": [],
   "source": [
    "@tf.function\n",
    "def grav(base,ps):\n",
    "    ps = tf.constant(ps)\n",
    "\n",
    "    ps1 = ps\n",
    "    ps2 = ps1-thickness\n",
    "\n",
    "    ps2 = tf.reverse(ps2,[-1])\n",
    "\n",
    "    for i in range(2,N+2): ## lower layer\n",
    "        points[i].assign([points[i][0],ps2[i-2]])\n",
    "\n",
    "    for i in range(N+6,2*N+6): ## upper layer\n",
    "        points[i].assign([points[i][0],ps1[i-N-6]])\n",
    "\n",
    "    x_obv = tf.linspace(-70., 70., 11)\n",
    "    y_obv = tf.zeros(tf.shape(x_obv))\n",
    "    obv = tf.stack((x_obv,y_obv),axis = 1)\n",
    "\n",
    "\n",
    "    gravity = tf.TensorArray(tf.float32, size=obv.shape[0]-2)\n",
    "    \n",
    "    j = tf.constant(0)\n",
    "    for i in obv[1:-1]:\n",
    "        gravity=gravity.write(j,-g(points,i))\n",
    "        j = tf.add(j,1)\n",
    "    return gravity.stack()\n"
   ]
  },
  {
   "cell_type": "code",
   "execution_count": 207,
   "metadata": {
    "ExecuteTime": {
     "end_time": "2019-12-16T21:28:47.294559Z",
     "start_time": "2019-12-16T21:28:45.126082Z"
    }
   },
   "outputs": [],
   "source": [
    "obs_data = grav(points,[-1.,-2,])"
   ]
  },
  {
   "cell_type": "code",
   "execution_count": 191,
   "metadata": {
    "ExecuteTime": {
     "end_time": "2019-12-16T21:23:33.443025Z",
     "start_time": "2019-12-16T21:23:33.438187Z"
    }
   },
   "outputs": [],
   "source": [
    "points = tf.Variable(points,dtype = tf.float32)"
   ]
  },
  {
   "cell_type": "code",
   "execution_count": 208,
   "metadata": {
    "ExecuteTime": {
     "end_time": "2019-12-16T21:28:54.752292Z",
     "start_time": "2019-12-16T21:28:54.747848Z"
    }
   },
   "outputs": [],
   "source": []
  },
  {
   "cell_type": "code",
   "execution_count": 227,
   "metadata": {
    "ExecuteTime": {
     "end_time": "2019-12-16T21:31:44.687286Z",
     "start_time": "2019-12-16T21:31:44.641279Z"
    }
   },
   "outputs": [],
   "source": []
  },
  {
   "cell_type": "code",
   "execution_count": 228,
   "metadata": {
    "ExecuteTime": {
     "end_time": "2019-12-16T21:31:44.873858Z",
     "start_time": "2019-12-16T21:31:44.870964Z"
    }
   },
   "outputs": [],
   "source": [
    "D = tf.constant([7.3171241e-06, 7.9643241e-06, 8.9585574e-06, 9.4861543e-06,9.4992556e-06, 9.6535805e-06, 9.1502252e-06, 8.0245300e-06,7.3247274e-06])"
   ]
  },
  {
   "cell_type": "code",
   "execution_count": 229,
   "metadata": {
    "ExecuteTime": {
     "end_time": "2019-12-16T21:31:47.159792Z",
     "start_time": "2019-12-16T21:31:45.053044Z"
    }
   },
   "outputs": [
    {
     "data": {
      "text/plain": [
       "<tf.Tensor: id=34291, shape=(), dtype=float32, numpy=100.59033>"
      ]
     },
     "execution_count": 229,
     "metadata": {},
     "output_type": "execute_result"
    }
   ],
   "source": [
    "joint_log_prob(D,points,[-10.,-2.])"
   ]
  },
  {
   "cell_type": "code",
   "execution_count": null,
   "metadata": {},
   "outputs": [],
   "source": []
  }
 ],
 "metadata": {
  "kernelspec": {
   "display_name": "Python 3",
   "language": "python",
   "name": "python3"
  },
  "language_info": {
   "codemirror_mode": {
    "name": "ipython",
    "version": 3
   },
   "file_extension": ".py",
   "mimetype": "text/x-python",
   "name": "python",
   "nbconvert_exporter": "python",
   "pygments_lexer": "ipython3",
   "version": "3.7.3"
  },
  "varInspector": {
   "cols": {
    "lenName": 16,
    "lenType": 16,
    "lenVar": 40
   },
   "kernels_config": {
    "python": {
     "delete_cmd_postfix": "",
     "delete_cmd_prefix": "del ",
     "library": "var_list.py",
     "varRefreshCmd": "print(var_dic_list())"
    },
    "r": {
     "delete_cmd_postfix": ") ",
     "delete_cmd_prefix": "rm(",
     "library": "var_list.r",
     "varRefreshCmd": "cat(var_dic_list()) "
    }
   },
   "types_to_exclude": [
    "module",
    "function",
    "builtin_function_or_method",
    "instance",
    "_Feature"
   ],
   "window_display": false
  }
 },
 "nbformat": 4,
 "nbformat_minor": 2
}
