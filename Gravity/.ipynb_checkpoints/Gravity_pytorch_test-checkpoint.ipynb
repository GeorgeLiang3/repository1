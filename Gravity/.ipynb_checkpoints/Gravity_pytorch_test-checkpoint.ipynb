{
 "cells": [
  {
   "cell_type": "code",
   "execution_count": 1256,
   "metadata": {
    "ExecuteTime": {
     "end_time": "2019-12-09T15:31:55.388478Z",
     "start_time": "2019-12-09T15:31:55.382626Z"
    }
   },
   "outputs": [],
   "source": [
    "%matplotlib inline\n",
    "import matplotlib.pyplot as plt\n",
    "import numpy as np\n",
    "import tensorflow as tf\n",
    "import scipy"
   ]
  },
  {
   "cell_type": "markdown",
   "metadata": {},
   "source": [
    "Calculate gravity of polygon\n",
    "\n",
    "\" Computing the gravitaional and magnetic anomalies due to a polygon: Algorithems and Fortran subroutines' Won 1986\n"
   ]
  },
  {
   "cell_type": "code",
   "execution_count": 1351,
   "metadata": {
    "ExecuteTime": {
     "end_time": "2019-12-09T16:47:28.893724Z",
     "start_time": "2019-12-09T16:47:28.881610Z"
    }
   },
   "outputs": [],
   "source": [
    "def A(x,z,p1,p2):\n",
    "    numerator = (x[p2]-x[p1])*(x[p1]*z[p2]-x[p2]*z[p1])\n",
    "    denominator = (x[p2]-x[p1])**2 + (z[p2]-z[p1])**2\n",
    "    return (numerator/denominator)\n",
    "\n",
    "def B(x,z,p1,p2):\n",
    "    return ((z[p1]-z[p2])/(x[p2]-x[p1]))\n",
    "\n",
    "def theta(x,z, p):\n",
    "    if x[p] != 0 :\n",
    "        if(np.arctan(z[p]/x[p]))<0:\n",
    "            return(np.arctan(z[p]/x[p])+scipy.pi)\n",
    "        else:\n",
    "            return(np.arctan(z[p]/x[p]))\n",
    "    if x[p] == 0 and z[p]!=0 :\n",
    "        return(scipy.pi/2)\n",
    "\n",
    "def r(x,z,p):\n",
    "    return(np.sqrt(x[p]**2+z[p]**2))\n",
    "\n",
    "def Z(x,z,p1,p2):\n",
    "    \n",
    "    if x[p1] == z[p1]==0 or x[p2] == z[p2]==0:\n",
    "        return(0)\n",
    "    \n",
    "    if x[p1] == x[p2]:\n",
    "        return((x[p1]*np.log(r(x,z,p2)/r(x,z,p1))))\n",
    "    \n",
    "    theta1 = theta(x,z, p1)\n",
    "    theta2 = theta(x,z, p2)\n",
    "    \n",
    "    r1 = r(x,z,p1)\n",
    "    r2 = r(x,z,p2)\n",
    "    \n",
    "    #this is only needed when observation location across z\n",
    "#     if z[p1]*z[p2]<0:\n",
    "#         if x[p1]*z[p2]==x[p2]*z[p1]:\n",
    "#             return(0)\n",
    "#         if x[p1]*z[p2] < x[p2]*z[p1] and z[p2]>=0:\n",
    "#             theta1 += 2*scipy.pi\n",
    "#         if x[p1]*z[p2] > x[p2]*z[p1] and z[p1]>=0:\n",
    "#             theta2 += 2*scipy.pi\n",
    "    \n",
    "    _A = A(x,z,p1,p2)\n",
    "    _B = B(x,z,p1,p2)\n",
    "    \n",
    "    Z_result = _A*((theta1-theta2)+_B*np.log(r1/r2))\n",
    "    return(Z_result)"
   ]
  },
  {
   "cell_type": "markdown",
   "metadata": {},
   "source": [
    "Gravity at origin is calculated as $\\Delta g_{z}=2 G \\rho \\sum_{i=1}^{n} Z_{i}$\n",
    "(Won, 1987)"
   ]
  },
  {
   "cell_type": "code",
   "execution_count": 1378,
   "metadata": {
    "ExecuteTime": {
     "end_time": "2019-12-09T16:49:26.109480Z",
     "start_time": "2019-12-09T16:49:26.103967Z"
    }
   },
   "outputs": [],
   "source": [
    "def g(data,loc=(0,0)):\n",
    "    \n",
    "    G = 6.67 * 10**(-11) # gravitational constant  m^3 kg ^-1 s^-2\n",
    "    rho = 3000           # density difference   kg/m^3\n",
    "    \n",
    "    _data = data - loc #Calculate any point refer to the origin\n",
    "\n",
    "    _x = _data[:,0]\n",
    "    _z = _data[:,1]\n",
    "\n",
    "    Z_sum = 0\n",
    "    \n",
    "    for i in range(_data.shape[0]-1):\n",
    "        Z_sum += Z(_x,_z,i,i+1)\n",
    "\n",
    "    Z_sum += Z(_x,_z,-1,0)\n",
    "\n",
    "    g = 2*G*rho * Z_sum\n",
    "    \n",
    "    return(g)"
   ]
  },
  {
   "cell_type": "code",
   "execution_count": 1379,
   "metadata": {
    "ExecuteTime": {
     "end_time": "2019-12-09T16:49:26.415134Z",
     "start_time": "2019-12-09T16:49:26.411228Z"
    }
   },
   "outputs": [
    {
     "data": {
      "text/plain": [
       "-2.524485958949173e-06"
      ]
     },
     "execution_count": 1379,
     "metadata": {},
     "output_type": "execute_result"
    }
   ],
   "source": [
    "g(points,(2,0))"
   ]
  },
  {
   "cell_type": "code",
   "execution_count": 1380,
   "metadata": {
    "ExecuteTime": {
     "end_time": "2019-12-09T16:49:26.903791Z",
     "start_time": "2019-12-09T16:49:26.898567Z"
    }
   },
   "outputs": [],
   "source": [
    "def draw(points,at=-20):\n",
    "    x = points[:,0]\n",
    "    z = points[:,1]\n",
    "    for i in range(points.shape[0]):\n",
    "        plt.plot(x[i:i+2],z[i:i+2],'r-')\n",
    "    x_ = np.linspace(-20,20,10)\n",
    "    plt.plot(x_,np.zeros(np.shape(x_)),lw = 0.5)# draw a reference line, surface\n",
    "    plt.plot([x[0],x[-1]],[z[0],z[-1]],'r-')\n",
    "    plt.ylim(at-10,5)\n",
    "    plt.xlim(-20,20)"
   ]
  },
  {
   "cell_type": "code",
   "execution_count": 1381,
   "metadata": {
    "ExecuteTime": {
     "end_time": "2019-12-09T16:49:27.165681Z",
     "start_time": "2019-12-09T16:49:27.162607Z"
    }
   },
   "outputs": [],
   "source": [
    "x = np.linspace(-50,50,501)\n",
    "y = np.zeros(np.shape(x))\n",
    "obv = np.vstack((x,y)).T"
   ]
  },
  {
   "cell_type": "code",
   "execution_count": 1382,
   "metadata": {
    "ExecuteTime": {
     "end_time": "2019-12-09T16:49:27.424821Z",
     "start_time": "2019-12-09T16:49:27.422407Z"
    }
   },
   "outputs": [],
   "source": [
    "points=np.array([[-1,-11],\n",
    "              [1, -11],\n",
    "              [1, -10],\n",
    "              [-1, -10]])"
   ]
  },
  {
   "cell_type": "code",
   "execution_count": 1383,
   "metadata": {
    "ExecuteTime": {
     "end_time": "2019-12-09T16:49:27.829720Z",
     "start_time": "2019-12-09T16:49:27.680967Z"
    }
   },
   "outputs": [
    {
     "data": {
      "image/png": "[encoded data removed]",
      "text/plain": [
       "<Figure size 432x288 with 1 Axes>"
      ]
     },
     "metadata": {
      "needs_background": "light"
     },
     "output_type": "display_data"
    }
   ],
   "source": [
    "draw(points)"
   ]
  },
  {
   "cell_type": "markdown",
   "metadata": {},
   "source": [
    "<b> \"note: if z is positive downward and x is positive to the right, then the polygen vertices must be specified clock-wise. \" --Won 1987"
   ]
  },
  {
   "cell_type": "code",
   "execution_count": 1384,
   "metadata": {
    "ExecuteTime": {
     "end_time": "2019-12-09T16:49:28.249472Z",
     "start_time": "2019-12-09T16:49:28.090851Z"
    }
   },
   "outputs": [
    {
     "data": {
      "text/plain": [
       "[<matplotlib.lines.Line2D at 0x63d51ccc0>]"
      ]
     },
     "execution_count": 1384,
     "metadata": {},
     "output_type": "execute_result"
    },
    {
     "data": {
      "image/png": "[encoded data removed]",
      "text/plain": [
       "<Figure size 432x288 with 1 Axes>"
      ]
     },
     "metadata": {
      "needs_background": "light"
     },
     "output_type": "display_data"
    }
   ],
   "source": [
    "gravity = []\n",
    "for i in obv:\n",
    "    gravity.append(g(points,i))\n",
    "plt.plot(x,gravity)\n"
   ]
  },
  {
   "cell_type": "code",
   "execution_count": 1395,
   "metadata": {
    "ExecuteTime": {
     "end_time": "2019-12-09T16:51:32.101839Z",
     "start_time": "2019-12-09T16:51:31.939709Z"
    }
   },
   "outputs": [
    {
     "data": {
      "image/png": "[encoded data removed]",
      "text/plain": [
       "<Figure size 432x288 with 1 Axes>"
      ]
     },
     "metadata": {
      "needs_background": "light"
     },
     "output_type": "display_data"
    }
   ],
   "source": [
    "points=np.array([[-10,-50],\n",
    "              [1, -50],\n",
    "              [1, -50],\n",
    "              [-10, -9]])\n",
    "draw(points,at=-120)"
   ]
  },
  {
   "cell_type": "code",
   "execution_count": 1396,
   "metadata": {
    "ExecuteTime": {
     "end_time": "2019-12-09T16:51:33.031628Z",
     "start_time": "2019-12-09T16:51:32.864948Z"
    }
   },
   "outputs": [
    {
     "data": {
      "text/plain": [
       "[<matplotlib.lines.Line2D at 0x63f2f2ac8>]"
      ]
     },
     "execution_count": 1396,
     "metadata": {},
     "output_type": "execute_result"
    },
    {
     "data": {
      "image/png": "[encoded data removed]",
      "text/plain": [
       "<Figure size 432x288 with 1 Axes>"
      ]
     },
     "metadata": {
      "needs_background": "light"
     },
     "output_type": "display_data"
    }
   ],
   "source": [
    "gravity = []\n",
    "for i in obv:\n",
    "    gravity.append(-g(points,i))\n",
    "plt.plot(x,gravity)"
   ]
  },
  {
   "cell_type": "code",
   "execution_count": null,
   "metadata": {},
   "outputs": [],
   "source": []
  },
  {
   "cell_type": "code",
   "execution_count": null,
   "metadata": {},
   "outputs": [],
   "source": []
  }
 ],
 "metadata": {
  "kernelspec": {
   "display_name": "Python 3",
   "language": "python",
   "name": "python3"
  },
  "language_info": {
   "codemirror_mode": {
    "name": "ipython",
    "version": 3
   },
   "file_extension": ".py",
   "mimetype": "text/x-python",
   "name": "python",
   "nbconvert_exporter": "python",
   "pygments_lexer": "ipython3",
   "version": "3.7.3"
  },
  "varInspector": {
   "cols": {
    "lenName": 16,
    "lenType": 16,
    "lenVar": 40
   },
   "kernels_config": {
    "python": {
     "delete_cmd_postfix": "",
     "delete_cmd_prefix": "del ",
     "library": "var_list.py",
     "varRefreshCmd": "print(var_dic_list())"
    },
    "r": {
     "delete_cmd_postfix": ") ",
     "delete_cmd_prefix": "rm(",
     "library": "var_list.r",
     "varRefreshCmd": "cat(var_dic_list()) "
    }
   },
   "types_to_exclude": [
    "module",
    "function",
    "builtin_function_or_method",
    "instance",
    "_Feature"
   ],
   "window_display": false
  }
 },
 "nbformat": 4,
 "nbformat_minor": 2
}
