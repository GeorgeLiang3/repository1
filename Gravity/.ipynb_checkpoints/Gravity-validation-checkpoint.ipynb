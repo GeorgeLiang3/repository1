{
 "cells": [
  {
   "cell_type": "code",
   "execution_count": 1256,
   "metadata": {
    "ExecuteTime": {
     "end_time": "2019-12-09T15:31:55.388478Z",
     "start_time": "2019-12-09T15:31:55.382626Z"
    }
   },
   "outputs": [],
   "source": [
    "%matplotlib inline\n",
    "import matplotlib.pyplot as plt\n",
    "import numpy as np\n",
    "import tensorflow as tf\n",
    "import scipy"
   ]
  },
  {
   "cell_type": "markdown",
   "metadata": {},
   "source": [
    "Calculate gravity of polygon\n",
    "\n",
    "\" Computing the gravitaional and magnetic anomalies due to a polygon: Algorithems and Fortran subroutines' Won 1986\n"
   ]
  },
  {
   "cell_type": "code",
   "execution_count": 1351,
   "metadata": {
    "ExecuteTime": {
     "end_time": "2019-12-09T16:47:28.893724Z",
     "start_time": "2019-12-09T16:47:28.881610Z"
    }
   },
   "outputs": [],
   "source": [
    "def A(x,z,p1,p2):\n",
    "    numerator = (x[p2]-x[p1])*(x[p1]*z[p2]-x[p2]*z[p1])\n",
    "    denominator = (x[p2]-x[p1])**2 + (z[p2]-z[p1])**2\n",
    "    return (numerator/denominator)\n",
    "\n",
    "def B(x,z,p1,p2):\n",
    "    return ((z[p1]-z[p2])/(x[p2]-x[p1]))\n",
    "\n",
    "def theta(x,z, p):\n",
    "    if x[p] != 0 :\n",
    "        if(np.arctan(z[p]/x[p]))<0:\n",
    "            return(np.arctan(z[p]/x[p])+scipy.pi)\n",
    "        else:\n",
    "            return(np.arctan(z[p]/x[p]))\n",
    "    if x[p] == 0 and z[p]!=0 :\n",
    "        return(scipy.pi/2)\n",
    "\n",
    "def r(x,z,p):\n",
    "    return(np.sqrt(x[p]**2+z[p]**2))\n",
    "\n",
    "def Z(x,z,p1,p2):\n",
    "    \n",
    "    if x[p1] == z[p1]==0 or x[p2] == z[p2]==0:\n",
    "        return(0)\n",
    "    \n",
    "    if x[p1] == x[p2]:\n",
    "        return((x[p1]*np.log(r(x,z,p2)/r(x,z,p1))))\n",
    "    \n",
    "    theta1 = theta(x,z, p1)\n",
    "    theta2 = theta(x,z, p2)\n",
    "    \n",
    "    r1 = r(x,z,p1)\n",
    "    r2 = r(x,z,p2)\n",
    "    \n",
    "    #this is only needed when observation location across z\n",
    "#     if z[p1]*z[p2]<0:\n",
    "#         if x[p1]*z[p2]==x[p2]*z[p1]:\n",
    "#             return(0)\n",
    "#         if x[p1]*z[p2] < x[p2]*z[p1] and z[p2]>=0:\n",
    "#             theta1 += 2*scipy.pi\n",
    "#         if x[p1]*z[p2] > x[p2]*z[p1] and z[p1]>=0:\n",
    "#             theta2 += 2*scipy.pi\n",
    "    \n",
    "    _A = A(x,z,p1,p2)\n",
    "    _B = B(x,z,p1,p2)\n",
    "    \n",
    "    Z_result = _A*((theta1-theta2)+_B*np.log(r1/r2))\n",
    "    return(Z_result)"
   ]
  },
  {
   "cell_type": "markdown",
   "metadata": {},
   "source": [
    "Gravity at origin is calculated as $\\Delta g_{z}=2 G \\rho \\sum_{i=1}^{n} Z_{i}$\n",
    "(Won, 1987)"
   ]
  },
  {
   "cell_type": "code",
   "execution_count": 1454,
   "metadata": {
    "ExecuteTime": {
     "end_time": "2019-12-10T10:28:44.006546Z",
     "start_time": "2019-12-10T10:28:44.001136Z"
    }
   },
   "outputs": [],
   "source": [
    "def g(data,loc=(0,0)):\n",
    "    \n",
    "    G = 6.67 * 10**(-11) # gravitational constant  m^3 kg ^-1 s^-2\n",
    "    rho = 20           # density difference   kg/m^3\n",
    "    \n",
    "    _data = data - loc #Calculate any point refer to the origin\n",
    "\n",
    "    _x = _data[:,0]\n",
    "    _z = _data[:,1]\n",
    "\n",
    "    Z_sum = 0\n",
    "    \n",
    "    for i in range(_data.shape[0]-1):\n",
    "        Z_sum += Z(_x,_z,i,i+1)\n",
    "\n",
    "    Z_sum += Z(_x,_z,-1,0)\n",
    "\n",
    "    g = 2*G*rho * Z_sum\n",
    "    \n",
    "    return(g)"
   ]
  },
  {
   "cell_type": "code",
   "execution_count": 1455,
   "metadata": {
    "ExecuteTime": {
     "end_time": "2019-12-10T10:28:44.381694Z",
     "start_time": "2019-12-10T10:28:44.377454Z"
    }
   },
   "outputs": [
    {
     "data": {
      "text/plain": [
       "-1.640381269135147e-08"
      ]
     },
     "execution_count": 1455,
     "metadata": {},
     "output_type": "execute_result"
    }
   ],
   "source": [
    "g(points,(2,0))"
   ]
  },
  {
   "cell_type": "code",
   "execution_count": 1467,
   "metadata": {
    "ExecuteTime": {
     "end_time": "2019-12-10T10:31:26.704227Z",
     "start_time": "2019-12-10T10:31:26.698372Z"
    }
   },
   "outputs": [],
   "source": [
    "def draw(points,at=-20):\n",
    "    x = points[:,0]\n",
    "    z = points[:,1]\n",
    "    for i in range(points.shape[0]):\n",
    "        plt.plot(x[i:i+2],z[i:i+2],'r-')\n",
    "    x_ = np.linspace(-100,100,10)\n",
    "    plt.plot(x_,np.zeros(np.shape(x_)),lw = 0.5)# draw a reference line, surface\n",
    "    plt.plot([x[0],x[-1]],[z[0],z[-1]],'r-')\n",
    "    plt.ylim(at-10,5)\n",
    "    plt.xlim(-100,100)"
   ]
  },
  {
   "cell_type": "code",
   "execution_count": 1468,
   "metadata": {
    "ExecuteTime": {
     "end_time": "2019-12-10T10:31:28.394578Z",
     "start_time": "2019-12-10T10:31:28.390581Z"
    }
   },
   "outputs": [],
   "source": [
    "x = np.linspace(-50,50,501)\n",
    "y = np.zeros(np.shape(x))\n",
    "obv = np.vstack((x,y)).T"
   ]
  },
  {
   "cell_type": "code",
   "execution_count": 1469,
   "metadata": {
    "ExecuteTime": {
     "end_time": "2019-12-10T10:31:28.746690Z",
     "start_time": "2019-12-10T10:31:28.743241Z"
    }
   },
   "outputs": [],
   "source": [
    "points=np.array([[-1,-11],\n",
    "              [1, -11],\n",
    "              [1, -10],\n",
    "              [-1, -10]])"
   ]
  },
  {
   "cell_type": "code",
   "execution_count": 1470,
   "metadata": {
    "ExecuteTime": {
     "end_time": "2019-12-10T10:31:29.236648Z",
     "start_time": "2019-12-10T10:31:29.085113Z"
    }
   },
   "outputs": [
    {
     "data": {
      "image/png": "[encoded data removed]",
      "text/plain": [
       "<Figure size 432x288 with 1 Axes>"
      ]
     },
     "metadata": {
      "needs_background": "light"
     },
     "output_type": "display_data"
    }
   ],
   "source": [
    "draw(points)"
   ]
  },
  {
   "cell_type": "markdown",
   "metadata": {},
   "source": [
    "<b> \"note: if z is positive downward and x is positive to the right, then the polygen vertices must be specified clock-wise. \" --Won 1987"
   ]
  },
  {
   "cell_type": "code",
   "execution_count": 1471,
   "metadata": {
    "ExecuteTime": {
     "end_time": "2019-12-10T10:31:33.416082Z",
     "start_time": "2019-12-10T10:31:33.261917Z"
    }
   },
   "outputs": [
    {
     "data": {
      "text/plain": [
       "[<matplotlib.lines.Line2D at 0x640259dd8>]"
      ]
     },
     "execution_count": 1471,
     "metadata": {},
     "output_type": "execute_result"
    },
    {
     "data": {
      "image/png": "[encoded data removed]",
      "text/plain": [
       "<Figure size 432x288 with 1 Axes>"
      ]
     },
     "metadata": {
      "needs_background": "light"
     },
     "output_type": "display_data"
    }
   ],
   "source": [
    "gravity = []\n",
    "for i in obv:\n",
    "    gravity.append(g(points,i))\n",
    "plt.plot(x,gravity)\n"
   ]
  },
  {
   "cell_type": "code",
   "execution_count": 1479,
   "metadata": {
    "ExecuteTime": {
     "end_time": "2019-12-10T10:32:39.826503Z",
     "start_time": "2019-12-10T10:32:39.660244Z"
    }
   },
   "outputs": [
    {
     "data": {
      "image/png": "[encoded data removed]",
      "text/plain": [
       "<Figure size 432x288 with 1 Axes>"
      ]
     },
     "metadata": {
      "needs_background": "light"
     },
     "output_type": "display_data"
    }
   ],
   "source": [
    "points=np.array([[-70,-100],\n",
    "              [70, -100],\n",
    "              [70, -20],\n",
    "              [60, -98],\n",
    "              [-60,-98],\n",
    "              [-70,-20]])\n",
    "draw(points,at=-120)"
   ]
  },
  {
   "cell_type": "code",
   "execution_count": 1481,
   "metadata": {
    "ExecuteTime": {
     "end_time": "2019-12-10T10:33:28.271373Z",
     "start_time": "2019-12-10T10:33:28.267493Z"
    }
   },
   "outputs": [],
   "source": [
    "def grav_calculate(points,R=50):\n",
    "    x = np.linspace(-R,R,501)\n",
    "    y = np.zeros(np.shape(x))\n",
    "    obv = np.vstack((x,y)).T\n",
    "    gravity = []\n",
    "    for i in obv:\n",
    "        gravity.append(-g(points,i))\n",
    "    plt.plot(x,gravity)"
   ]
  },
  {
   "cell_type": "code",
   "execution_count": 1483,
   "metadata": {
    "ExecuteTime": {
     "end_time": "2019-12-10T10:33:54.942115Z",
     "start_time": "2019-12-10T10:33:54.738926Z"
    }
   },
   "outputs": [
    {
     "data": {
      "image/png": "[encoded data removed]",
      "text/plain": [
       "<Figure size 432x288 with 1 Axes>"
      ]
     },
     "metadata": {
      "needs_background": "light"
     },
     "output_type": "display_data"
    }
   ],
   "source": [
    "grav_calculate(points,100)"
   ]
  },
  {
   "cell_type": "code",
   "execution_count": 1482,
   "metadata": {
    "ExecuteTime": {
     "end_time": "2019-12-10T10:33:30.494132Z",
     "start_time": "2019-12-10T10:33:30.490527Z"
    }
   },
   "outputs": [],
   "source": [
    "def plot_results(points):\n",
    "    f , axs = plt.subplots(2 , sharex = True, figsize = (10,10))\n",
    "    "
   ]
  },
  {
   "cell_type": "code",
   "execution_count": null,
   "metadata": {},
   "outputs": [],
   "source": []
  }
 ],
 "metadata": {
  "kernelspec": {
   "display_name": "Python 3",
   "language": "python",
   "name": "python3"
  },
  "language_info": {
   "codemirror_mode": {
    "name": "ipython",
    "version": 3
   },
   "file_extension": ".py",
   "mimetype": "text/x-python",
   "name": "python",
   "nbconvert_exporter": "python",
   "pygments_lexer": "ipython3",
   "version": "3.7.3"
  },
  "varInspector": {
   "cols": {
    "lenName": 16,
    "lenType": 16,
    "lenVar": 40
   },
   "kernels_config": {
    "python": {
     "delete_cmd_postfix": "",
     "delete_cmd_prefix": "del ",
     "library": "var_list.py",
     "varRefreshCmd": "print(var_dic_list())"
    },
    "r": {
     "delete_cmd_postfix": ") ",
     "delete_cmd_prefix": "rm(",
     "library": "var_list.r",
     "varRefreshCmd": "cat(var_dic_list()) "
    }
   },
   "types_to_exclude": [
    "module",
    "function",
    "builtin_function_or_method",
    "instance",
    "_Feature"
   ],
   "window_display": false
  }
 },
 "nbformat": 4,
 "nbformat_minor": 2
}
