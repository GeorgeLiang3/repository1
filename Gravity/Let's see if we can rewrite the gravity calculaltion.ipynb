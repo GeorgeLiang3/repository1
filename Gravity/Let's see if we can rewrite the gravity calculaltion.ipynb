{
 "cells": [
  {
   "cell_type": "code",
   "execution_count": 18,
   "metadata": {
    "ExecuteTime": {
     "end_time": "2020-03-16T13:43:13.285074Z",
     "start_time": "2020-03-16T13:43:13.279237Z"
    }
   },
   "outputs": [],
   "source": [
    "%matplotlib inline\n",
    "import matplotlib.pyplot as plt\n",
    "import numpy as np\n",
    "import tensorflow as tf\n",
    "import scipy\n",
    "from scipy.stats import norm\n",
    "# import tensorflow_probability as tfp\n",
    "import seaborn as sns\n",
    "import pandas as pd\n",
    "import corner \n",
    "import math as m\n",
    "import copy\n",
    "\n",
    "# # tfb = tfp.bijectors\n",
    "# tfd=tfp.distributions\n",
    "# psd_kernels = tfp.math.psd_kernels"
   ]
  },
  {
   "cell_type": "code",
   "execution_count": 19,
   "metadata": {
    "ExecuteTime": {
     "end_time": "2020-03-16T13:43:13.499735Z",
     "start_time": "2020-03-16T13:43:13.495420Z"
    }
   },
   "outputs": [
    {
     "data": {
      "text/plain": [
       "'2.2.0-dev20200316'"
      ]
     },
     "execution_count": 19,
     "metadata": {},
     "output_type": "execute_result"
    }
   ],
   "source": [
    "tf.__version__"
   ]
  },
  {
   "cell_type": "code",
   "execution_count": 20,
   "metadata": {
    "ExecuteTime": {
     "end_time": "2020-03-16T13:43:13.725302Z",
     "start_time": "2020-03-16T13:43:13.722376Z"
    }
   },
   "outputs": [],
   "source": [
    "def constant64(i):\n",
    "    return(tf.constant(i,dtype = tf.float64))"
   ]
  },
  {
   "cell_type": "code",
   "execution_count": 21,
   "metadata": {
    "ExecuteTime": {
     "end_time": "2020-03-16T13:43:14.039687Z",
     "start_time": "2020-03-16T13:43:14.035437Z"
    }
   },
   "outputs": [],
   "source": [
    "pi = constant64(m.pi) # define PI in Tensorflow form\n",
    "\n",
    "depth = constant64(-40)\n",
    "thickness = constant64(2)\n",
    "\n",
    "## define some numbers\n",
    "Number_para = 15\n",
    "obs_N = 15\n",
    "number_burnin = 1000\n",
    "number_sample = 2000\n",
    "steps_gradient_decent = 100"
   ]
  },
  {
   "cell_type": "code",
   "execution_count": 240,
   "metadata": {
    "ExecuteTime": {
     "end_time": "2020-03-16T16:52:05.477452Z",
     "start_time": "2020-03-16T16:52:05.438747Z"
    }
   },
   "outputs": [],
   "source": [
    "\n",
    "def A_old(x,z,p1,p2):\n",
    "    numerator = (x[p2]-x[p1])*(x[p1]*z[p2]-x[p2]*z[p1])\n",
    "    denominator = (x[p2]-x[p1])**2 + (z[p2]-z[p1])**2\n",
    "\n",
    "    return divide(numerator,denominator)\n",
    "\n",
    "\n",
    "def B_old(x,z,p1,p2):\n",
    "    '''\n",
    "    x : array, x coordinate\n",
    "    z : array, z coordinate\n",
    "    p1, p2 : int, position\n",
    "    \n",
    "    '''\n",
    "    return divide((z[p1]-z[p2]),(x[p2]-x[p1]))\n",
    "\n",
    "\n",
    "def theta(x,z, p):\n",
    "    if tf.math.not_equal(x[p], constant64(0)) :\n",
    "        if tf.less(tf.atan(tf.divide(z[p],x[p])),constant64(0)):\n",
    "            return(tf.atan(tf.divide(z[p],x[p]))+pi)\n",
    "        else:\n",
    "            return(tf.atan(tf.divide(z[p],x[p])))\n",
    "    elif tf.math.logical_and(tf.math.equal(x[p], constant64(0)), tf.math.not_equal(z[p], constant64(0))):\n",
    "        return(pi/constant64([2]))\n",
    "    else: return constant64([0])\n",
    "    \n",
    "    \n",
    "\n",
    "def r(x,z,p):\n",
    "    '''\n",
    "    x : array, x coordinate\n",
    "    z : array, z coordinate\n",
    "    p : int, position\n",
    "    \n",
    "    '''\n",
    "    return(tf.sqrt(x[p]**constant64(2)+z[p]**constant64(2)))\n",
    "\n",
    "\n",
    "def Z(x,z,p1,p2):\n",
    "    \n",
    "    ## let's do not allow 1) points at origin\n",
    "    ##                    2) two points in a sequence have the same x coordinate\n",
    "    \n",
    "    \n",
    "    if tf.logical_or(tf.logical_and(tf.equal(x[p1],z[p1]),tf.equal(x[p1],constant64(0))), tf.logical_and(tf.equal(x[p2],z[p2]),tf.equal(x[p2],constant64(0)))):\n",
    "        return constant64([0])\n",
    "\n",
    "    elif tf.equal(x[p1], x[p2]):\n",
    "        return x[p1]*tf.math.log(r(x,z,p2)/r(x,z,p1))\n",
    "    \n",
    "    else:\n",
    "    \n",
    "        theta1 = theta(x,z, p1)\n",
    "        theta2 = theta(x,z, p2)\n",
    "\n",
    "        r1 = r(x,z,p1)\n",
    "        r2 = r(x,z,p2)\n",
    "\n",
    "        _A = A_old(x,z,p1,p2)\n",
    "        tf.print('A',_A)\n",
    "        _B = B_old(x,z,p1,p2)\n",
    "        tf.print('B',_B)\n",
    "\n",
    "        Z_result = _A*((theta1-theta2)+_B*tf.math.log(r1/r2))\n",
    "        return Z_result \n",
    "\n",
    "@tf.function\n",
    "def g_old(x,z,loc):\n",
    "\n",
    "    G = constant64(6.67 * 10**(-11)) # gravitational constant  m^3 kg ^-1 s^-2\n",
    "    rho = constant64(2000.)        # density difference   kg/m^3\n",
    "\n",
    "    _x = x-loc[0]\n",
    "    _z = z-loc[1]\n",
    "\n",
    "    Z_sum = constant64([0.])\n",
    "\n",
    "    for i in tf.range(_x.shape[0]-1):\n",
    "        Z_sum = tf.add(Z_sum, Z(_x,_z,i,i+1))\n",
    "        tf.print(Z(_x,_z,i,i+1))\n",
    "\n",
    "    Z_sum = tf.add(Z_sum, Z(_x,_z,-1,0))\n",
    "    tf.print(Z(_x,_z,-1,0))\n",
    "    gravity = 2*G*rho * Z_sum\n",
    "\n",
    "    return(gravity)\n",
    "\n",
    "@tf.function\n",
    "def grav_old(x,z):\n",
    "\n",
    "    thick = thickness\n",
    "\n",
    "    x_obv = tf.linspace(constant64(-70.),constant64(70.),obs_N)\n",
    "    y_obv = tf.zeros(tf.shape(x_obv),dtype = tf.float64)\n",
    "    obv = tf.stack((x_obv,y_obv),axis = 1)\n",
    "\n",
    "    gravity = tf.TensorArray(tf.float64, size=obv.shape[0])\n",
    "\n",
    "    j = tf.constant(0)\n",
    "    for i in obv:\n",
    "        gravity=gravity.write(j,-g_old(x,z,i))\n",
    "        j = tf.add(j,1)\n",
    "    return tf.reshape(gravity.stack(),shape = [obs_N])\n"
   ]
  },
  {
   "cell_type": "code",
   "execution_count": 23,
   "metadata": {
    "ExecuteTime": {
     "end_time": "2020-03-16T13:43:14.728963Z",
     "start_time": "2020-03-16T13:43:14.725065Z"
    }
   },
   "outputs": [
    {
     "name": "stdout",
     "output_type": "stream",
     "text": [
      "tf.Tensor(-5.7007713, shape=(), dtype=float32)\n"
     ]
    }
   ],
   "source": [
    "a = tf.tan(100*3.14/180)\n",
    "print(a)"
   ]
  },
  {
   "cell_type": "code",
   "execution_count": 24,
   "metadata": {
    "ExecuteTime": {
     "end_time": "2020-03-16T13:43:16.227417Z",
     "start_time": "2020-03-16T13:43:16.222054Z"
    }
   },
   "outputs": [
    {
     "data": {
      "text/plain": [
       "<tf.Tensor: shape=(), dtype=float32, numpy=-80.09129>"
      ]
     },
     "execution_count": 24,
     "metadata": {},
     "output_type": "execute_result"
    }
   ],
   "source": [
    "tf.atan(a)*180/3.14"
   ]
  },
  {
   "cell_type": "code",
   "execution_count": 234,
   "metadata": {
    "ExecuteTime": {
     "end_time": "2020-03-16T16:48:15.194931Z",
     "start_time": "2020-03-16T16:48:15.192337Z"
    }
   },
   "outputs": [],
   "source": [
    "def divide(a,b):\n",
    "    return tf.math.divide_no_nan(a,b)\n"
   ]
  },
  {
   "cell_type": "code",
   "execution_count": 336,
   "metadata": {
    "ExecuteTime": {
     "end_time": "2020-03-16T17:38:09.943293Z",
     "start_time": "2020-03-16T17:38:09.927157Z"
    }
   },
   "outputs": [],
   "source": [
    "\n",
    "\n",
    "def A(x1,z1,x2,z2):\n",
    "    numerator = (x2-x1)*(x1*z2-x2*z1)\n",
    "    denominator = (x2-x1)**2 + (z2-z1)**2\n",
    "    return divide(numerator,denominator)\n",
    "\n",
    "def B(x1,z1,x2,z2):\n",
    "    '''\n",
    "    x : array, x coordinate\n",
    "    z : array, z coordinate\n",
    "    p1, p2 : int, position\n",
    "    \n",
    "    '''\n",
    "    return divide((z1-z2),(x2-x1))\n",
    "\n",
    "\n",
    "def theta_new(xn,zn):\n",
    "    \n",
    "    m = tf.atan(divide(zn,xn))\n",
    "\n",
    "    m = tf.where(m<0, m + pi, m ) \n",
    "\n",
    "    m = tf.where(m == 0, m + pi/2, m)\n",
    "\n",
    "    return m\n",
    " \n",
    "    \n",
    "def Z_new(x1,z1,x2,z2):\n",
    "    \n",
    "    ## let's do not allow 1) points at origin\n",
    "    ##                    2) two points in a sequence have the same x coordinate\n",
    "    \n",
    "    \n",
    "    theta1 = theta_new(x1,z1)\n",
    "    theta2 = theta_new(x2,z2)\n",
    "    \n",
    "    r1 = (tf.sqrt(x1**2.+z1**2.))\n",
    "    r2 = (tf.sqrt(x2**2.+z2**2.))\n",
    "\n",
    "    _A = A(x1,z1,x2,z2)\n",
    "    _B = B(x1,z1,x2,z2)\n",
    "    \n",
    "#     tf.print('A:',_A)\n",
    "#     tf.print('B:',_B)\n",
    "#     tf.print('r1:',r1)\n",
    "#     tf.print('r2:',r2)\n",
    "#     tf.print('theta1',theta1)\n",
    "#     tf.print('theta2',theta2)\n",
    "    \n",
    "    Z_result = _A*((theta1-theta2)+_B*tf.math.log(divide(r1,r2)))\n",
    "    \n",
    "#     tf.print('Z',Z_result)\n",
    "    return Z_result \n",
    " \n",
    "@tf.function\n",
    "def g_new(x,z,loc):\n",
    "\n",
    "    G = constant64(6.67 * 10**(-11)) # gravitational constant  m^3 kg ^-1 s^-2\n",
    "    rho = constant64(2000.)        # density difference   kg/m^3\n",
    "\n",
    "    _x = x-loc[0]\n",
    "    _z = z-loc[1]\n",
    "    \n",
    "    \n",
    "    x_  = tf.concat([_x,tf.reshape(_x[0],[1,1])],axis = 0)\n",
    "    z_  = tf.concat([_z,tf.reshape(_z[0],[1,1])],axis = 0)\n",
    "    \n",
    "    \n",
    "    x1 = x_[0:-1]\n",
    "    x2 = x_[1:]\n",
    "    z1 = z_[0:-1]\n",
    "    z2 = z_[1:]\n",
    "    \n",
    "\n",
    "    Z_sum = tf.reduce_sum(Z_new(x1,z1,x2,z2))\n",
    "\n",
    "    g_i = 2*G*rho * Z_sum\n",
    "\n",
    "    return g_i\n",
    "\n",
    "\n",
    "@tf.function\n",
    "def grav_new(x,z):\n",
    "\n",
    "    thick = thickness\n",
    "\n",
    "    x_obv = tf.linspace(constant64(-70.),constant64(70.),obs_N)\n",
    "    y_obv = tf.zeros(tf.shape(x_obv),dtype = tf.float64)\n",
    "    obv = tf.stack((x_obv,y_obv),axis = 1)\n",
    "\n",
    "    gravity = tf.TensorArray(tf.float64, size=obs_N)\n",
    "\n",
    "    j = tf.constant(0)\n",
    "    for i in obv:\n",
    "        gravity=gravity.write(j,-g_new(x,z,i))\n",
    "        j = tf.add(j,1)\n",
    "    return tf.reshape(gravity.stack(),shape = [obs_N])\n"
   ]
  },
  {
   "cell_type": "code",
   "execution_count": 347,
   "metadata": {
    "ExecuteTime": {
     "end_time": "2020-03-16T20:04:46.682728Z",
     "start_time": "2020-03-16T20:04:46.669927Z"
    }
   },
   "outputs": [],
   "source": [
    "@tf.function\n",
    "def grav_new(x,z):\n",
    "    \n",
    "    \n",
    "    thick = thickness\n",
    "    x_obv = tf.linspace(constant64(-70.),constant64(70.),obs_N)\n",
    "    y_obv = tf.zeros(tf.shape(x_obv),dtype = tf.float64)\n",
    "    \n",
    "    \n",
    "    tx = tf.transpose(tf.tile(x,[1,obs_N]))\n",
    "\n",
    "    x_tile = tf.expand_dims(tx,axis = 2)\n",
    "\n",
    "    tz = tf.transpose(tf.tile(z,[1,obs_N]))\n",
    "\n",
    "    z_tile = tf.expand_dims(tz,axis = 2)\n",
    "    \n",
    "    \n",
    "    x_obv_tile = tf.expand_dims(x_obv,axis = 1)\n",
    "    x_obv_tile = tf.tile(x_obv_tile,[1,6])\n",
    "    x_obv_tile = tf.reshape(x_obv_tile,[obs_N,6,1])\n",
    "\n",
    "\n",
    "    z_obv_tile = tf.expand_dims(y_obv,axis = 1)\n",
    "    z_obv_tile = tf.tile(z_obv_tile,[1,6])\n",
    "    z_obv_tile = tf.reshape(z_obv_tile,[obs_N,6,1])\n",
    "    \n",
    "    \n",
    "    _x = x_tile - x_obv_tile\n",
    "    _z = z_tile - z_obv_tile\n",
    "    \n",
    "    x_ = tf.concat([_x, tf.reshape(_x[:,0],shape = [obs_N,1,1])],axis = 1)\n",
    "    z_ = tf.concat([_z, tf.reshape(_z[:,0],shape = [obs_N,1,1])],axis = 1)\n",
    "    \n",
    "    x1 = x_[:,0:-1]\n",
    "    x2 = x_[:,1:]\n",
    "    z1 = z_[:,0:-1]\n",
    "    z2 = z_[:,1:]\n",
    "    \n",
    "    G = constant64(6.67 * 10**(-11)) # gravitational constant  m^3 kg ^-1 s^-2\n",
    "    rho = constant64(2000.)        # density difference   kg/m^3\n",
    "\n",
    "    Z_results = -Z_new(x1,z1,x2,z2)\n",
    "    \n",
    "    gravity = tf.reduce_sum(Z_result,axis = 1)\n",
    "    \n",
    "    return gravity\n"
   ]
  },
  {
   "cell_type": "code",
   "execution_count": 247,
   "metadata": {
    "ExecuteTime": {
     "end_time": "2020-03-16T16:56:29.266637Z",
     "start_time": "2020-03-16T16:56:29.260965Z"
    }
   },
   "outputs": [],
   "source": [
    "thick = thickness\n",
    "\n",
    "x_obv = tf.linspace(constant64(-70.),constant64(70.),obs_N)\n",
    "y_obv = tf.zeros(tf.shape(x_obv),dtype = tf.float64)\n",
    "obv = tf.stack((x_obv,y_obv),axis = 1)\n"
   ]
  },
  {
   "cell_type": "code",
   "execution_count": 282,
   "metadata": {
    "ExecuteTime": {
     "end_time": "2020-03-16T17:13:02.273623Z",
     "start_time": "2020-03-16T17:13:02.268829Z"
    }
   },
   "outputs": [],
   "source": [
    "tx = tf.transpose(tf.tile(x,[1,obs_N]))\n",
    "\n",
    "x_tile = tf.expand_dims(tx,axis = 2)\n",
    "\n",
    "tz = tf.transpose(tf.tile(z,[1,obs_N]))\n",
    "\n",
    "z_tile = tf.expand_dims(tz,axis = 2)\n"
   ]
  },
  {
   "cell_type": "code",
   "execution_count": 296,
   "metadata": {
    "ExecuteTime": {
     "end_time": "2020-03-16T17:16:36.815431Z",
     "start_time": "2020-03-16T17:16:36.809030Z"
    }
   },
   "outputs": [],
   "source": [
    "x_obv_tile = tf.expand_dims(x_obv,axis = 1)\n",
    "x_obv_tile = tf.tile(x_obv_tile,[1,6])\n",
    "x_obv_tile = tf.reshape(x_obv_tile,[obs_N,6,1])\n",
    "\n",
    "\n",
    "z_obv_tile = tf.expand_dims(y_obv,axis = 1)\n",
    "z_obv_tile = tf.tile(z_obv_tile,[1,6])\n",
    "z_obv_tile = tf.reshape(z_obv_tile,[obs_N,6,1])"
   ]
  },
  {
   "cell_type": "code",
   "execution_count": 316,
   "metadata": {
    "ExecuteTime": {
     "end_time": "2020-03-16T17:24:34.155163Z",
     "start_time": "2020-03-16T17:24:34.152255Z"
    }
   },
   "outputs": [],
   "source": [
    "_x = x_tile - x_obv_tile\n",
    "_z = z_tile - z_obv_tile"
   ]
  },
  {
   "cell_type": "code",
   "execution_count": 317,
   "metadata": {
    "ExecuteTime": {
     "end_time": "2020-03-16T17:24:34.546185Z",
     "start_time": "2020-03-16T17:24:34.541105Z"
    }
   },
   "outputs": [],
   "source": [
    "x_ = tf.concat([_x, tf.reshape(_x[:,0],shape = [obs_N,1,1])],axis = 1)\n",
    "z_ = tf.concat([_z, tf.reshape(_z[:,0],shape = [obs_N,1,1])],axis = 1)"
   ]
  },
  {
   "cell_type": "code",
   "execution_count": 320,
   "metadata": {
    "ExecuteTime": {
     "end_time": "2020-03-16T17:27:11.123127Z",
     "start_time": "2020-03-16T17:27:11.118909Z"
    }
   },
   "outputs": [],
   "source": [
    "x1 = x_[:,0:-1]\n",
    "x2 = x_[:,1:]\n",
    "z1 = z_[:,0:-1]\n",
    "z2 = z_[:,1:]"
   ]
  },
  {
   "cell_type": "code",
   "execution_count": 341,
   "metadata": {
    "ExecuteTime": {
     "end_time": "2020-03-16T17:39:55.721753Z",
     "start_time": "2020-03-16T17:39:55.576198Z"
    }
   },
   "outputs": [
    {
     "data": {
      "text/plain": [
       "[<matplotlib.lines.Line2D at 0x15231e080>]"
      ]
     },
     "execution_count": 341,
     "metadata": {},
     "output_type": "execute_result"
    },
    {
     "data": {
      "image/png": "[encoded data removed]",
      "text/plain": [
       "<Figure size 432x288 with 1 Axes>"
      ]
     },
     "metadata": {
      "needs_background": "light"
     },
     "output_type": "display_data"
    }
   ],
   "source": [
    "G = constant64(6.67 * 10**(-11)) # gravitational constant  m^3 kg ^-1 s^-2\n",
    "rho = constant64(2000.)        # density difference   kg/m^3\n",
    "\n",
    "Z_result = -Z_new(x1,z1,x2,z2)\n",
    "\n",
    "plt.plot(tf.reduce_sum(Z_result,axis = 1))"
   ]
  },
  {
   "cell_type": "code",
   "execution_count": 243,
   "metadata": {
    "ExecuteTime": {
     "end_time": "2020-03-16T16:54:32.203468Z",
     "start_time": "2020-03-16T16:54:32.170103Z"
    }
   },
   "outputs": [
    {
     "name": "stdout",
     "output_type": "stream",
     "text": [
      "A [30]\n",
      "B [0]\n",
      "A [30]\n",
      "B [0]\n",
      "[-0.997415036927296]\n",
      "A [30]\n",
      "B [0]\n",
      "A [30]\n",
      "B [0]\n",
      "[-0.99962987634741651]\n",
      "A [0.39416058394160586]\n",
      "B [-8.6666666666666661]\n",
      "A [0.39416058394160586]\n",
      "B [-8.6666666666666661]\n",
      "[-6.3743977479822416]\n",
      "A [0.15960099750623458]\n",
      "B [-19.999999999999982]\n",
      "A [0.15960099750623458]\n",
      "B [-19.999999999999982]\n",
      "[-1.0270386684746005]\n",
      "A [2]\n",
      "B [-0]\n",
      "A [2]\n",
      "B [-0]\n",
      "[1.9956603678123805]\n",
      "A [0.01015228426395939]\n",
      "B [-14]\n",
      "A [0.01015228426395939]\n",
      "B [-14]\n",
      "[0.3858915041490541]\n"
     ]
    },
    {
     "data": {
      "text/plain": [
       "<tf.Tensor: shape=(1,), dtype=float64, numpy=array([-1.87211678e-06])>"
      ]
     },
     "execution_count": 243,
     "metadata": {},
     "output_type": "execute_result"
    }
   ],
   "source": [
    "g_old(x,z,[0,0])"
   ]
  },
  {
   "cell_type": "code",
   "execution_count": 244,
   "metadata": {
    "ExecuteTime": {
     "end_time": "2020-03-16T16:54:33.784918Z",
     "start_time": "2020-03-16T16:54:33.268613Z"
    }
   },
   "outputs": [
    {
     "name": "stdout",
     "output_type": "stream",
     "text": [
      "A: [[30]\n",
      " [30]\n",
      " [0.39416058394160586]\n",
      " [0.15960099750623458]\n",
      " [2]\n",
      " [0.01015228426395939]]\n",
      "B: [[0]\n",
      " [0]\n",
      " [-8.6666666666666661]\n",
      " [-19.999999999999982]\n",
      " [-0]\n",
      " [-14]]\n",
      "r1: [[30.066592756745816]\n",
      " [30.016662039607269]\n",
      " [30]\n",
      " [5]\n",
      " [3.6891733491393435]\n",
      " [2]]\n",
      "r2: [[30.016662039607269]\n",
      " [30]\n",
      " [5]\n",
      " [3.6891733491393435]\n",
      " [2]\n",
      " [30.066592756745816]]\n",
      "theta1 [[1.5042281630190728]\n",
      " [1.5374753309166493]\n",
      " [1.5707963267948966]\n",
      " [2.2142974355881808]\n",
      " [2.5686265107010868]\n",
      " [1.5707963267948966]]\n",
      "theta2 [[1.5374753309166493]\n",
      " [1.5707963267948966]\n",
      " [2.2142974355881808]\n",
      " [2.5686265107010868]\n",
      " [1.5707963267948966]\n",
      " [1.5042281630190728]]\n",
      "Z [[-0.997415036927296]\n",
      " [-0.99962987634741651]\n",
      " [-6.3743977479822416]\n",
      " [-1.0270386684746]\n",
      " [1.9956603678123805]\n",
      " [0.3858915041490541]]\n"
     ]
    },
    {
     "data": {
      "text/plain": [
       "<tf.Tensor: shape=(), dtype=float64, numpy=-1.8721167793330678e-06>"
      ]
     },
     "execution_count": 244,
     "metadata": {},
     "output_type": "execute_result"
    }
   ],
   "source": [
    "g_new(x,z,[0,0])"
   ]
  },
  {
   "cell_type": "code",
   "execution_count": 233,
   "metadata": {
    "ExecuteTime": {
     "end_time": "2020-03-16T16:47:17.473227Z",
     "start_time": "2020-03-16T16:47:15.152059Z"
    }
   },
   "outputs": [
    {
     "name": "stdout",
     "output_type": "stream",
     "text": [
      "A [30]\n",
      "B [0]\n",
      "A [30]\n",
      "B [0]\n",
      "[-0.1609426619819887]\n",
      "A [30]\n",
      "B [0]\n",
      "A [30]\n",
      "B [0]\n",
      "[-0.15706662769223279]\n",
      "A [8.3649635036496353]\n",
      "B [-8.6666666666666661]\n",
      "A [8.3649635036496353]\n",
      "B [-8.6666666666666661]\n",
      "[-5.8903531958963846]\n",
      "A [3.6508728179549053]\n",
      "B [-20.000000000001137]\n",
      "A [3.6508728179549053]\n",
      "B [-20.000000000001137]\n",
      "[-0.082162696337372193]\n",
      "A [2]\n",
      "B [-0]\n",
      "A [2]\n",
      "B [-0]\n",
      "[0.0024214008868144177]\n",
      "A [4.9847715736040605]\n",
      "B [-14]\n",
      "A [4.9847715736040605]\n",
      "B [-14]\n",
      "[6.0828454515593053]\n",
      "A [30]\n",
      "B [0]\n",
      "A [30]\n",
      "B [0]\n",
      "[-0.20823358311241602]\n",
      "A [30]\n",
      "B [0]\n",
      "A [30]\n",
      "B [0]\n",
      "[-0.20269961807355852]\n",
      "A [7.226277372262774]\n",
      "B [-8.6666666666666661]\n",
      "A [7.226277372262774]\n",
      "B [-8.6666666666666661]\n",
      "[-6.6981402417146292]\n",
      "A [3.152119700748174]\n",
      "B [-19.999999999999716]\n",
      "A [3.152119700748174]\n",
      "B [-19.999999999999716]\n",
      "[-0.095166324866464619]\n",
      "A [2]\n",
      "B [-0]\n",
      "A [2]\n",
      "B [-0]\n",
      "[0.0032717648914877273]\n",
      "A [4.2741116751269033]\n",
      "B [-14]\n",
      "A [4.2741116751269033]\n",
      "B [-14]\n",
      "[6.9290522910630008]\n",
      "A [30]\n",
      "B [0]\n",
      "A [30]\n",
      "B [0]\n",
      "[-0.27674491716033867]\n",
      "A [30]\n",
      "B [0]\n",
      "A [30]\n",
      "B [0]\n",
      "[-0.268649535029013]\n",
      "A [6.0875912408759127]\n",
      "B [-8.6666666666666661]\n",
      "A [6.0875912408759127]\n",
      "B [-8.6666666666666661]\n",
      "[-7.7185456094782783]\n",
      "A [2.6533665835411844]\n",
      "B [-19.999999999999716]\n",
      "A [2.6533665835411844]\n",
      "B [-19.999999999999716]\n",
      "[-0.11304261833691169]\n",
      "A [2]\n",
      "B [-0]\n",
      "A [2]\n",
      "B [-0]\n",
      "[0.0046633988446007635]\n",
      "A [3.563451776649746]\n",
      "B [-14]\n",
      "A [3.563451776649746]\n",
      "B [-14]\n",
      "[7.99707944831809]\n",
      "A [30]\n",
      "B [0]\n",
      "A [30]\n",
      "B [0]\n",
      "[-0.37781377767144075]\n",
      "A [30]\n",
      "B [0]\n",
      "A [30]\n",
      "B [0]\n",
      "[-0.36583552344755521]\n",
      "A [4.9489051094890515]\n",
      "B [-8.6666666666666661]\n",
      "A [4.9489051094890515]\n",
      "B [-8.6666666666666661]\n",
      "[-9.0096800213514889]\n",
      "A [2.1546134663341951]\n",
      "B [-19.999999999999716]\n",
      "A [2.1546134663341951]\n",
      "B [-19.999999999999716]\n",
      "[-0.13914354974627455]\n",
      "A [2]\n",
      "B [-0]\n",
      "A [2]\n",
      "B [-0]\n",
      "[0.0071758951331224452]\n",
      "A [2.8527918781725887]\n",
      "B [-14]\n",
      "A [2.8527918781725887]\n",
      "B [-14]\n",
      "[9.339582904360304]\n",
      "A [30]\n",
      "B [0]\n",
      "A [30]\n",
      "B [0]\n",
      "[-0.52564713579308808]\n",
      "A [30]\n",
      "B [0]\n",
      "A [30]\n",
      "B [0]\n",
      "[-0.50842589419215045]\n",
      "A [3.81021897810219]\n",
      "B [-8.6666666666666661]\n",
      "A [3.81021897810219]\n",
      "B [-8.6666666666666661]\n",
      "[-10.589310763516425]\n",
      "A [1.6558603491272055]\n",
      "B [-19.999999999999716]\n",
      "A [1.6558603491272055]\n",
      "B [-19.999999999999716]\n",
      "[-0.1807731148970125]\n",
      "A [2]\n",
      "B [-0]\n",
      "A [2]\n",
      "B [-0]\n",
      "[0.012437151615602993]\n",
      "A [2.1421319796954315]\n",
      "B [-14]\n",
      "A [2.1421319796954315]\n",
      "B [-14]\n",
      "[10.941975752840309]\n",
      "A [30]\n",
      "B [0]\n",
      "A [30]\n",
      "B [0]\n",
      "[-0.724496801925465]\n",
      "A [30]\n",
      "B [0]\n",
      "A [30]\n",
      "B [0]\n",
      "[-0.70299629638403527]\n",
      "A [2.6715328467153285]\n",
      "B [-8.6666666666666661]\n",
      "A [2.6715328467153285]\n",
      "B [-8.6666666666666661]\n",
      "[-12.229518176411181]\n",
      "A [1.1571072319202158]\n",
      "B [-19.999999999999716]\n",
      "A [1.1571072319202158]\n",
      "B [-19.999999999999716]\n",
      "[-0.25728295786559124]\n",
      "A [2]\n",
      "B [-0]\n",
      "A [2]\n",
      "B [-0]\n",
      "[0.026607872131357624]\n",
      "A [1.4314720812182742]\n",
      "B [-14]\n",
      "A [1.4314720812182742]\n",
      "B [-14]\n",
      "[12.439435513130464]\n",
      "A [30]\n",
      "B [0]\n",
      "A [30]\n",
      "B [0]\n",
      "[-0.92563208191578594]\n",
      "A [30]\n",
      "B [0]\n",
      "A [30]\n",
      "B [0]\n",
      "[-0.90881279756325428]\n",
      "A [1.5328467153284671]\n",
      "B [-8.6666666666666661]\n",
      "A [1.5328467153284671]\n",
      "B [-8.6666666666666661]\n",
      "[-12.665316347613171]\n",
      "A [0.65835411471321459]\n",
      "B [-20.000000000000071]\n",
      "A [0.65835411471321459]\n",
      "B [-20.000000000000071]\n",
      "[-0.43971407364142179]\n",
      "A [2]\n",
      "B [-0]\n",
      "A [2]\n",
      "B [-0]\n",
      "[0.09178735576321273]\n",
      "A [0.7208121827411168]\n",
      "B [-14]\n",
      "A [0.7208121827411168]\n",
      "B [-14]\n",
      "[12.037348032357501]\n",
      "A [30]\n",
      "B [0]\n",
      "A [30]\n",
      "B [0]\n",
      "[-0.997415036927296]\n",
      "A [30]\n",
      "B [0]\n",
      "A [30]\n",
      "B [0]\n",
      "[-0.99962987634741651]\n",
      "A [0.39416058394160586]\n",
      "B [-8.6666666666666661]\n",
      "A [0.39416058394160586]\n",
      "B [-8.6666666666666661]\n",
      "[-6.3743977479822416]\n",
      "A [0.15960099750623458]\n",
      "B [-19.999999999999982]\n",
      "A [0.15960099750623458]\n",
      "B [-19.999999999999982]\n",
      "[-1.0270386684746005]\n",
      "A [2]\n",
      "B [-0]\n",
      "A [2]\n",
      "B [-0]\n",
      "[1.9956603678123805]\n",
      "A [0.01015228426395939]\n",
      "B [-14]\n",
      "A [0.01015228426395939]\n",
      "B [-14]\n",
      "[0.3858915041490541]\n",
      "A [30]\n",
      "B [0]\n",
      "A [30]\n",
      "B [0]\n",
      "[-0.87184749326439714]\n",
      "A [30]\n",
      "B [0]\n",
      "A [30]\n",
      "B [0]\n",
      "[-0.890827188207286]\n",
      "A [-0.74452554744525545]\n",
      "B [-8.6666666666666661]\n",
      "A [-0.74452554744525545]\n",
      "B [-8.6666666666666661]\n",
      "[8.2751744152171991]\n",
      "A [-0.33915211970074693]\n",
      "B [-20.000000000000071]\n",
      "A [-0.33915211970074693]\n",
      "B [-20.000000000000071]\n",
      "[0.70194171609347689]\n",
      "A [2]\n",
      "B [-0]\n",
      "A [2]\n",
      "B [-0]\n",
      "[0.16945634458566927]\n",
      "A [-0.700507614213198]\n",
      "B [-14]\n",
      "A [-0.700507614213198]\n",
      "B [-14]\n",
      "[-10.614142294152607]\n",
      "A [30]\n",
      "B [0]\n",
      "A [30]\n",
      "B [0]\n",
      "[-0.66068611838923763]\n",
      "A [30]\n",
      "B [0]\n",
      "A [30]\n",
      "B [0]\n",
      "[-0.68170082524923181]\n",
      "A [-1.8832116788321167]\n",
      "B [-8.6666666666666661]\n",
      "A [-1.8832116788321167]\n",
      "B [-8.6666666666666661]\n",
      "[10.415662006338165]\n",
      "A [-0.83790523690774232]\n",
      "B [-19.999999999999716]\n",
      "A [-0.83790523690774232]\n",
      "B [-19.999999999999716]\n",
      "[0.33890796497855813]\n",
      "A [2]\n",
      "B [-0]\n",
      "A [2]\n",
      "B [-0]\n",
      "[0.036253338758847731]\n",
      "A [-1.4111675126903553]\n",
      "B [-14]\n",
      "A [-1.4111675126903553]\n",
      "B [-14]\n",
      "[-10.980081285093449]\n",
      "A [30]\n",
      "B [0]\n",
      "A [30]\n",
      "B [0]\n",
      "[-0.47564724381745971]\n",
      "A [30]\n",
      "B [0]\n",
      "A [30]\n",
      "B [0]\n",
      "[-0.49175922924015625]\n",
      "A [-3.0218978102189782]\n",
      "B [-8.6666666666666661]\n",
      "A [-3.0218978102189782]\n",
      "B [-8.6666666666666661]\n",
      "[9.6228215988297841]\n",
      "A [-1.3366583541147319]\n",
      "B [-19.999999999999716]\n",
      "A [-1.3366583541147319]\n",
      "B [-19.999999999999716]\n",
      "[0.21830948838581635]\n",
      "A [2]\n",
      "B [-0]\n",
      "A [2]\n",
      "B [-0]\n",
      "[0.015289467865561429]\n",
      "A [-2.1218274111675126]\n",
      "B [-14]\n",
      "A [-2.1218274111675126]\n",
      "B [-14]\n",
      "[-9.7619821394662214]\n",
      "A [30]\n",
      "B [0]\n",
      "A [30]\n",
      "B [0]\n",
      "[-0.34323445068443537]\n",
      "A [30]\n",
      "B [0]\n",
      "A [30]\n",
      "B [0]\n",
      "[-0.35431423362945136]\n",
      "A [-4.1605839416058394]\n",
      "B [-8.6666666666666661]\n",
      "A [-4.1605839416058394]\n",
      "B [-8.6666666666666661]\n",
      "[8.4185865487782667]\n",
      "A [-1.8354114713217216]\n",
      "B [-19.999999999999716]\n",
      "A [-1.8354114713217216]\n",
      "B [-19.999999999999716]\n",
      "[0.16050110463515968]\n",
      "A [2]\n",
      "B [-0]\n",
      "A [2]\n",
      "B [-0]\n",
      "[0.0083783293673189568]\n",
      "A [-2.83248730964467]\n",
      "B [-14]\n",
      "A [-2.83248730964467]\n",
      "B [-14]\n",
      "[-8.4436633995214621]\n",
      "A [30]\n",
      "B [0]\n",
      "A [30]\n",
      "B [0]\n",
      "[-0.25337235380490486]\n",
      "A [30]\n",
      "B [0]\n",
      "A [30]\n",
      "B [0]\n",
      "[-0.26086299035335658]\n",
      "A [-5.2992700729927007]\n",
      "B [-8.6666666666666661]\n",
      "A [-5.2992700729927007]\n",
      "B [-8.6666666666666661]\n",
      "[7.3230393882946059]\n",
      "A [-2.334164588528711]\n",
      "B [-19.999999999999716]\n",
      "A [-2.334164588528711]\n",
      "B [-19.999999999999716]\n",
      "[0.12678299359205597]\n",
      "A [2]\n",
      "B [-0]\n",
      "A [2]\n",
      "B [-0]\n",
      "[0.0052788298020750996]\n",
      "A [-3.5431472081218276]\n",
      "B [-14]\n",
      "A [-3.5431472081218276]\n",
      "B [-14]\n",
      "[-7.3193788337217951]\n",
      "A [30]\n",
      "B [0]\n",
      "A [30]\n",
      "B [0]\n",
      "[-0.19222291401467917]\n",
      "A [30]\n",
      "B [0]\n",
      "A [30]\n",
      "B [0]\n",
      "[-0.19736557359049611]\n",
      "A [-6.437956204379562]\n",
      "B [-8.6666666666666661]\n",
      "A [-6.437956204379562]\n",
      "B [-8.6666666666666661]\n",
      "[6.4162134312365113]\n",
      "A [-2.8329177057357007]\n",
      "B [-19.999999999999716]\n",
      "A [-2.8329177057357007]\n",
      "B [-19.999999999999716]\n",
      "[0.10473513524122728]\n",
      "A [2]\n",
      "B [-0]\n",
      "A [2]\n",
      "B [-0]\n",
      "[0.00362784856641378]\n",
      "A [-4.2538071065989849]\n",
      "B [-14]\n",
      "A [-4.2538071065989849]\n",
      "B [-14]\n",
      "[-6.40841963373191]\n",
      "A [30]\n",
      "B [0]\n",
      "A [30]\n",
      "B [0]\n",
      "[-0.14969935629105702]\n",
      "A [30]\n",
      "B [0]\n",
      "A [30]\n",
      "B [0]\n",
      "[-0.15332064126859779]\n",
      "A [-7.5766423357664232]\n",
      "B [-8.6666666666666661]\n",
      "A [-7.5766423357664232]\n",
      "B [-8.6666666666666661]\n",
      "[5.6797721549458293]\n",
      "A [-3.3316708229424554]\n",
      "B [-20.000000000001137]\n",
      "A [-3.3316708229424554]\n",
      "B [-20.000000000001137]\n",
      "[0.089204725478525759]\n",
      "A [2]\n",
      "B [-0]\n",
      "A [2]\n",
      "B [-0]\n",
      "[0.0026456139892077346]\n",
      "A [-4.9644670050761421]\n",
      "B [-14]\n",
      "A [-4.9644670050761421]\n",
      "B [-14]\n",
      "[-5.6746378252506062]\n"
     ]
    },
    {
     "data": {
      "text/plain": [
       "[<matplotlib.lines.Line2D at 0x14da705f8>]"
      ]
     },
     "execution_count": 233,
     "metadata": {},
     "output_type": "execute_result"
    },
    {
     "data": {
      "image/png": "[encoded data removed]",
      "text/plain": [
       "<Figure size 432x288 with 1 Axes>"
      ]
     },
     "metadata": {
      "needs_background": "light"
     },
     "output_type": "display_data"
    }
   ],
   "source": [
    "plt.plot(grav_old(x,z))"
   ]
  },
  {
   "cell_type": "code",
   "execution_count": 245,
   "metadata": {
    "ExecuteTime": {
     "end_time": "2020-03-16T16:54:48.488365Z",
     "start_time": "2020-03-16T16:54:48.083486Z"
    }
   },
   "outputs": [
    {
     "name": "stdout",
     "output_type": "stream",
     "text": [
      "A: [[30]\n",
      " [30]\n",
      " [8.3649635036496353]\n",
      " [3.6508728179549053]\n",
      " [2]\n",
      " [4.9847715736040605]]\n",
      "B: [[0]\n",
      " [0]\n",
      " [-8.6666666666666661]\n",
      " [-20.000000000001137]\n",
      " [-0]\n",
      " [-14]]\n",
      "r1: [[74.323616704248181]\n",
      " [75.23961722390672]\n",
      " [76.157731058639087]\n",
      " [73.109506905736964]\n",
      " [73.127354662944015]\n",
      " [70.028565600046392]]\n",
      "r2: [[75.23961722390672]\n",
      " [76.157731058639087]\n",
      " [73.109506905736964]\n",
      " [73.127354662944015]\n",
      " [70.028565600046392]\n",
      " [74.323616704248181]]\n",
      "theta1 [[2.7261005576489024]\n",
      " [2.731465313048302]\n",
      " [2.7367008673047097]\n",
      " [3.0868528735399123]\n",
      " [3.1142396961944403]\n",
      " [3.1130289957510331]]\n",
      "theta2 [[2.731465313048302]\n",
      " [2.7367008673047097]\n",
      " [3.0868528735399123]\n",
      " [3.1142396961944403]\n",
      " [3.1130289957510331]\n",
      " [2.7261005576489024]]\n",
      "Z [[-0.1609426619819887]\n",
      " [-0.15706662769223279]\n",
      " [-5.8903531958963846]\n",
      " [-0.082162696337372193]\n",
      " [0.0024214008868144177]\n",
      " [6.0828454515593053]]\n",
      "A: [[30]\n",
      " [30]\n",
      " [7.226277372262774]\n",
      " [3.152119700748174]\n",
      " [2]\n",
      " [4.2741116751269033]]\n",
      "B: [[0]\n",
      " [0]\n",
      " [-8.6666666666666661]\n",
      " [-19.999999999999716]\n",
      " [-0]\n",
      " [-14]]\n",
      "r1: [[65.299310869258036]\n",
      " [66.189122973491649]\n",
      " [67.082039324993687]\n",
      " [63.126856408346519]\n",
      " [63.131687764544992]\n",
      " [60.033324079214538]]\n",
      "r2: [[66.189122973491649]\n",
      " [67.082039324993687]\n",
      " [63.126856408346519]\n",
      " [63.131687764544992]\n",
      " [60.033324079214538]\n",
      " [65.299310869258036]]\n",
      "theta1 [[2.6642472712161211]\n",
      " [2.6711883906532017]\n",
      " [2.677945044588987]\n",
      " [3.078185701622961]\n",
      " [3.1099075401572898]\n",
      " [3.1082716577115459]]\n",
      "theta2 [[2.6711883906532017]\n",
      " [2.677945044588987]\n",
      " [3.078185701622961]\n",
      " [3.1099075401572898]\n",
      " [3.1082716577115459]\n",
      " [2.6642472712161211]]\n",
      "Z [[-0.20823358311241602]\n",
      " [-0.20269961807355852]\n",
      " [-6.6981402417146292]\n",
      " [-0.095166324866464619]\n",
      " [0.0032717648914877273]\n",
      " [6.9290522910629946]]\n",
      "A: [[30]\n",
      " [30]\n",
      " [6.0875912408759127]\n",
      " [2.6533665835411844]\n",
      " [2]\n",
      " [3.563451776649746]]\n",
      "B: [[0]\n",
      " [0]\n",
      " [-8.6666666666666661]\n",
      " [-19.999999999999716]\n",
      " [-0]\n",
      " [-14]]\n",
      "r1: [[56.603886792339623]\n",
      " [57.4543296888929]\n",
      " [58.309518948453004]\n",
      " [53.150729063673246]\n",
      " [53.1376514347407]\n",
      " [50.039984012787215]]\n",
      "r2: [[57.4543296888929]\n",
      " [58.309518948453004]\n",
      " [53.150729063673246]\n",
      " [53.1376514347407]\n",
      " [50.039984012787215]\n",
      " [56.603886792339623]]\n",
      "theta1 [[2.5829933382462307]\n",
      " [2.592218168818242]\n",
      " [2.6011731533192091]\n",
      " [3.0662637627614528]\n",
      " [3.1039456658888036]\n",
      " [3.1016139664665032]]\n",
      "theta2 [[2.592218168818242]\n",
      " [2.6011731533192091]\n",
      " [3.0662637627614528]\n",
      " [3.1039456658888036]\n",
      " [3.1016139664665032]\n",
      " [2.5829933382462307]]\n",
      "Z [[-0.27674491716033867]\n",
      " [-0.268649535029013]\n",
      " [-7.7185456094782783]\n",
      " [-0.11304261833691169]\n",
      " [0.0046633988446007635]\n",
      " [7.99707944831809]]\n",
      "A: [[30]\n",
      " [30]\n",
      " [4.9489051094890515]\n",
      " [2.1546134663341951]\n",
      " [2]\n",
      " [2.8527918781725887]]\n",
      "B: [[0]\n",
      " [0]\n",
      " [-8.6666666666666661]\n",
      " [-19.999999999999716]\n",
      " [-0]\n",
      " [-14]]\n",
      "r1: [[48.414873747640819]\n",
      " [49.203658400570177]\n",
      " [50]\n",
      " [43.185645763378368]\n",
      " [43.146378758825172]\n",
      " [40.049968789001575]]\n",
      "r2: [[49.203658400570177]\n",
      " [50]\n",
      " [43.185645763378368]\n",
      " [43.146378758825172]\n",
      " [40.049968789001575]\n",
      " [48.414873747640819]]\n",
      "theta1 [[2.473303234759209]\n",
      " [2.485897027348257]\n",
      " [2.4980915447965089]\n",
      " [3.0488363334016495]\n",
      " [3.0952222054344114]\n",
      " [3.09163425786785]]\n",
      "theta2 [[2.485897027348257]\n",
      " [2.4980915447965089]\n",
      " [3.0488363334016495]\n",
      " [3.0952222054344114]\n",
      " [3.09163425786785]\n",
      " [2.473303234759209]]\n",
      "Z [[-0.37781377767144075]\n",
      " [-0.36583552344755521]\n",
      " [-9.009680021351496]\n",
      " [-0.13914354974627455]\n",
      " [0.0071758951331224452]\n",
      " [9.339582904360304]]\n",
      "A: [[30]\n",
      " [30]\n",
      " [3.81021897810219]\n",
      " [1.6558603491272055]\n",
      " [2]\n",
      " [2.1421319796954315]]\n",
      "B: [[0]\n",
      " [0]\n",
      " [-8.6666666666666661]\n",
      " [-19.999999999999716]\n",
      " [-0]\n",
      " [-14]]\n",
      "r1: [[41.036569057366385]\n",
      " [41.725292090050132]\n",
      " [42.426406871192853]\n",
      " [33.241540277189323]\n",
      " [33.160367911107379]\n",
      " [30.066592756745816]]\n",
      "r2: [[41.725292090050132]\n",
      " [42.426406871192853]\n",
      " [33.241540277189323]\n",
      " [33.160367911107379]\n",
      " [30.066592756745816]\n",
      " [41.036569057366385]]\n",
      "theta1 [[2.3217253891928369]\n",
      " [2.33924696038594]\n",
      " [2.3561944901923448]\n",
      " [3.0209689850096906]\n",
      " [3.0812430656217709]\n",
      " [3.0750244898139694]]\n",
      "theta2 [[2.33924696038594]\n",
      " [2.3561944901923448]\n",
      " [3.0209689850096906]\n",
      " [3.0812430656217709]\n",
      " [3.0750244898139694]\n",
      " [2.3217253891928369]]\n",
      "Z [[-0.52564713579308808]\n",
      " [-0.50842589419215045]\n",
      " [-10.589310763516425]\n",
      " [-0.1807731148970125]\n",
      " [0.012437151615602993]\n",
      " [10.941975752840309]]\n",
      "A: [[30]\n",
      " [30]\n",
      " [2.6715328467153285]\n",
      " [1.1571072319202158]\n",
      " [2]\n",
      " [1.4314720812182742]]\n",
      "B: [[0]\n",
      " [0]\n",
      " [-8.6666666666666661]\n",
      " [-19.999999999999716]\n",
      " [-0]\n",
      " [-14]]\n",
      "r1: [[34.9857113690718]\n",
      " [35.510561809129406]\n",
      " [36.055512754639892]\n",
      " [23.345235059857504]\n",
      " [23.186418438387591]\n",
      " [20.09975124224178]]\n",
      "r2: [[35.510561809129406]\n",
      " [36.055512754639892]\n",
      " [23.345235059857504]\n",
      " [23.186418438387591]\n",
      " [20.09975124224178]\n",
      " [34.9857113690718]]\n",
      "theta1 [[2.1112158270654806]\n",
      " [2.1353657204629961]\n",
      " [2.158798930342464]\n",
      " [2.9694018390668542]\n",
      " [3.05522793716431]\n",
      " [3.0419240010986313]]\n",
      "theta2 [[2.1353657204629961]\n",
      " [2.158798930342464]\n",
      " [2.9694018390668542]\n",
      " [3.05522793716431]\n",
      " [3.0419240010986313]\n",
      " [2.1112158270654806]]\n",
      "Z [[-0.724496801925465]\n",
      " [-0.70299629638403527]\n",
      " [-12.229518176411181]\n",
      " [-0.25728295786559124]\n",
      " [0.026607872131357624]\n",
      " [12.439435513130464]]\n",
      "A: [[30]\n",
      " [30]\n",
      " [1.5328467153284671]\n",
      " [0.65835411471321459]\n",
      " [2]\n",
      " [0.7208121827411168]]\n",
      "B: [[0]\n",
      " [0]\n",
      " [-8.6666666666666661]\n",
      " [-20.000000000000071]\n",
      " [-0]\n",
      " [-14]]\n",
      "r1: [[31.048349392520048]\n",
      " [31.32091952673165]\n",
      " [31.622776601683793]\n",
      " [13.601470508735444]\n",
      " [13.251792331605563]\n",
      " [10.198039027185569]]\n",
      "r2: [[31.32091952673165]\n",
      " [31.622776601683793]\n",
      " [13.601470508735444]\n",
      " [13.251792331605563]\n",
      " [10.198039027185569]\n",
      " [31.048349392520048]]\n",
      "theta1 [[1.8313987185422373]\n",
      " [1.8622531212727635]\n",
      " [1.8925468811915387]\n",
      " [2.8430937220036139]\n",
      " [2.9900907716215186]\n",
      " [2.9441970937399122]]\n",
      "theta2 [[1.8622531212727635]\n",
      " [1.8925468811915387]\n",
      " [2.8430937220036139]\n",
      " [2.9900907716215186]\n",
      " [2.9441970937399122]\n",
      " [1.8313987185422373]]\n",
      "Z [[-0.92563208191578594]\n",
      " [-0.90881279756325428]\n",
      " [-12.665316347613171]\n",
      " [-0.43971407364142179]\n",
      " [0.09178735576321273]\n",
      " [12.037348032357501]]\n",
      "A: [[30]\n",
      " [30]\n",
      " [0.39416058394160586]\n",
      " [0.15960099750623458]\n",
      " [2]\n",
      " [0.01015228426395939]]\n",
      "B: [[0]\n",
      " [0]\n",
      " [-8.6666666666666661]\n",
      " [-19.999999999999982]\n",
      " [-0]\n",
      " [-14]]\n",
      "r1: [[30.066592756745816]\n",
      " [30.016662039607269]\n",
      " [30]\n",
      " [5]\n",
      " [3.6891733491393435]\n",
      " [2]]\n",
      "r2: [[30.016662039607269]\n",
      " [30]\n",
      " [5]\n",
      " [3.6891733491393435]\n",
      " [2]\n",
      " [30.066592756745816]]\n",
      "theta1 [[1.5042281630190728]\n",
      " [1.5374753309166493]\n",
      " [1.5707963267948966]\n",
      " [2.2142974355881808]\n",
      " [2.5686265107010868]\n",
      " [1.5707963267948966]]\n",
      "theta2 [[1.5374753309166493]\n",
      " [1.5707963267948966]\n",
      " [2.2142974355881808]\n",
      " [2.5686265107010868]\n",
      " [1.5707963267948966]\n",
      " [1.5042281630190728]]\n",
      "Z [[-0.997415036927296]\n",
      " [-0.99962987634741651]\n",
      " [-6.3743977479822416]\n",
      " [-1.0270386684746]\n",
      " [1.9956603678123805]\n",
      " [0.3858915041490541]]\n",
      "A: [[30]\n",
      " [30]\n",
      " [-0.74452554744525545]\n",
      " [-0.33915211970074693]\n",
      " [2]\n",
      " [-0.700507614213198]]\n",
      "B: [[0]\n",
      " [0]\n",
      " [-8.6666666666666661]\n",
      " [-20.000000000000071]\n",
      " [-0]\n",
      " [-14]]\n",
      "r1: [[32.310988842807021]\n",
      " [31.953090617340916]\n",
      " [31.622776601683793]\n",
      " [8.06225774829855]\n",
      " [7.1840100222647241]\n",
      " [10.198039027185569]]\n",
      "r2: [[31.953090617340916]\n",
      " [31.622776601683793]\n",
      " [8.06225774829855]\n",
      " [7.1840100222647241]\n",
      " [10.198039027185569]\n",
      " [32.310988842807021]]\n",
      "theta1 [[1.1902899496825317]\n",
      " [1.2193515327913449]\n",
      " [1.2490457723982544]\n",
      " [0.51914611424652291]\n",
      " [0.28212373214271541]\n",
      " [0.19739555984988078]]\n",
      "theta2 [[1.2193515327913449]\n",
      " [1.2490457723982544]\n",
      " [0.51914611424652291]\n",
      " [0.28212373214271541]\n",
      " [0.19739555984988078]\n",
      " [1.1902899496825317]]\n",
      "Z [[-0.87184749326439714]\n",
      " [-0.890827188207286]\n",
      " [8.2751744152171991]\n",
      " [0.70194171609347555]\n",
      " [0.16945634458566927]\n",
      " [-10.614142294152607]]\n",
      "A: [[30]\n",
      " [30]\n",
      " [-1.8832116788321167]\n",
      " [-0.83790523690774232]\n",
      " [2]\n",
      " [-1.4111675126903553]]\n",
      "B: [[0]\n",
      " [0]\n",
      " [-8.6666666666666661]\n",
      " [-19.999999999999716]\n",
      " [-0]\n",
      " [-14]]\n",
      "r1: [[37.20215047547655]\n",
      " [36.61966684720111]\n",
      " [36.055512754639892]\n",
      " [17.464249196572979]\n",
      " [17.017931719218993]\n",
      " [20.09975124224178]]\n",
      "r2: [[36.61966684720111]\n",
      " [36.055512754639892]\n",
      " [17.464249196572979]\n",
      " [17.017931719218993]\n",
      " [20.09975124224178]\n",
      " [37.20215047547655]]\n",
      "theta1 [[0.93804749179271341]\n",
      " [0.960070362405688]\n",
      " [0.982793723247329]\n",
      " [0.23109066719589708]\n",
      " [0.1177953218705859]\n",
      " [0.099668652491162038]]\n",
      "theta2 [[0.960070362405688]\n",
      " [0.982793723247329]\n",
      " [0.23109066719589708]\n",
      " [0.1177953218705859]\n",
      " [0.099668652491162038]\n",
      " [0.93804749179271341]]\n"
     ]
    },
    {
     "name": "stdout",
     "output_type": "stream",
     "text": [
      "Z [[-0.66068611838923763]\n",
      " [-0.68170082524923181]\n",
      " [10.415662006338165]\n",
      " [0.33890796497856179]\n",
      " [0.036253338758847731]\n",
      " [-10.980081285093449]]\n",
      "A: [[30]\n",
      " [30]\n",
      " [-3.0218978102189782]\n",
      " [-1.3366583541147319]\n",
      " [2]\n",
      " [-2.1218274111675126]]\n",
      "B: [[0]\n",
      " [0]\n",
      " [-8.6666666666666661]\n",
      " [-19.999999999999716]\n",
      " [-0]\n",
      " [-14]]\n",
      "r1: [[43.863424398922618]\n",
      " [43.139309220245984]\n",
      " [42.426406871192853]\n",
      " [27.294688127912362]\n",
      " [26.974246977441279]\n",
      " [30.066592756745816]]\n",
      "r2: [[43.139309220245984]\n",
      " [42.426406871192853]\n",
      " [27.294688127912362]\n",
      " [26.974246977441279]\n",
      " [30.066592756745816]\n",
      " [43.863424398922618]]\n",
      "theta1 [[0.75315128096219441]\n",
      " [0.76900618908944307]\n",
      " [0.78539816339744828]\n",
      " [0.1470783553884025]\n",
      " [0.074212897708604522]\n",
      " [0.066568163775823808]]\n",
      "theta2 [[0.76900618908944307]\n",
      " [0.78539816339744828]\n",
      " [0.1470783553884025]\n",
      " [0.074212897708604522]\n",
      " [0.066568163775823808]\n",
      " [0.75315128096219441]]\n",
      "Z [[-0.47564724381745971]\n",
      " [-0.49175922924015625]\n",
      " [9.6228215988297876]\n",
      " [0.21830948838581635]\n",
      " [0.015289467865561429]\n",
      " [-9.7619821394662214]]\n",
      "A: [[30]\n",
      " [30]\n",
      " [-4.1605839416058394]\n",
      " [-1.8354114713217216]\n",
      " [2]\n",
      " [-2.83248730964467]]\n",
      "B: [[0]\n",
      " [0]\n",
      " [-8.6666666666666661]\n",
      " [-19.999999999999716]\n",
      " [-0]\n",
      " [-14]]\n",
      "r1: [[51.61395160225576]\n",
      " [50.803543183522152]\n",
      " [50]\n",
      " [37.215588131856791]\n",
      " [36.954160794151448]\n",
      " [40.049968789001575]]\n",
      "r2: [[50.803543183522152]\n",
      " [50]\n",
      " [37.215588131856791]\n",
      " [36.954160794151448]\n",
      " [40.049968789001575]\n",
      " [51.61395160225576]]\n",
      "theta1 [[0.62024948598282148]\n",
      " [0.63169063433896933]\n",
      " [0.64350110879328437]\n",
      " [0.10768987083282069]\n",
      " [0.054147560405602244]\n",
      " [0.049958395721942765]]\n",
      "theta2 [[0.63169063433896933]\n",
      " [0.64350110879328437]\n",
      " [0.10768987083282069]\n",
      " [0.054147560405602244]\n",
      " [0.049958395721942765]\n",
      " [0.62024948598282148]]\n",
      "Z [[-0.34323445068443537]\n",
      " [-0.35431423362945136]\n",
      " [8.4185865487782738]\n",
      " [0.16050110463515968]\n",
      " [0.0083783293673189568]\n",
      " [-8.44366339952147]]\n",
      "A: [[30]\n",
      " [30]\n",
      " [-5.2992700729927007]\n",
      " [-2.334164588528711]\n",
      " [2]\n",
      " [-3.5431472081218276]]\n",
      "B: [[0]\n",
      " [0]\n",
      " [-8.6666666666666661]\n",
      " [-19.999999999999716]\n",
      " [-0]\n",
      " [-14]]\n",
      "r1: [[60.033324079214538]\n",
      " [59.169248769948062]\n",
      " [58.309518948453004]\n",
      " [47.169905660283021]\n",
      " [46.942624553810361]\n",
      " [50.039984012787215]]\n",
      "r2: [[59.169248769948062]\n",
      " [58.309518948453004]\n",
      " [47.169905660283021]\n",
      " [46.942624553810361]\n",
      " [50.039984012787215]\n",
      " [60.033324079214538]]\n",
      "theta1 [[0.52327832213197545]\n",
      " [0.53172406725880561]\n",
      " [0.54041950027058416]\n",
      " [0.084901793449721943]\n",
      " [0.042618102024327593]\n",
      " [0.039978687123290044]]\n",
      "theta2 [[0.53172406725880561]\n",
      " [0.54041950027058416]\n",
      " [0.084901793449721943]\n",
      " [0.042618102024327593]\n",
      " [0.039978687123290044]\n",
      " [0.52327832213197545]]\n",
      "Z [[-0.25337235380490486]\n",
      " [-0.26086299035335658]\n",
      " [7.3230393882946059]\n",
      " [0.12678299359205597]\n",
      " [0.0052788298020750996]\n",
      " [-7.3193788337218013]]\n",
      "A: [[30]\n",
      " [30]\n",
      " [-6.437956204379562]\n",
      " [-2.8329177057357007]\n",
      " [2]\n",
      " [-4.2538071065989849]]\n",
      "B: [[0]\n",
      " [0]\n",
      " [-8.6666666666666661]\n",
      " [-19.999999999999716]\n",
      " [-0]\n",
      " [-14]]\n",
      "r1: [[68.87670143089025]\n",
      " [67.97793759742936]\n",
      " [67.082039324993687]\n",
      " [57.140178508646613]\n",
      " [56.935138535003141]\n",
      " [60.033324079214538]]\n",
      "r2: [[67.97793759742936]\n",
      " [67.082039324993687]\n",
      " [57.140178508646613]\n",
      " [56.935138535003141]\n",
      " [60.033324079214538]\n",
      " [68.87670143089025]]\n",
      "theta1 [[0.45066132608063364]\n",
      " [0.45706875654778961]\n",
      " [0.46364760900080615]\n",
      " [0.070060582638455424]\n",
      " [0.035134920161454086]\n",
      " [0.033320995878247196]]\n",
      "theta2 [[0.45706875654778961]\n",
      " [0.46364760900080615]\n",
      " [0.070060582638455424]\n",
      " [0.035134920161454086]\n",
      " [0.033320995878247196]\n",
      " [0.45066132608063364]]\n",
      "Z [[-0.19222291401467917]\n",
      " [-0.19736557359049611]\n",
      " [6.4162134312365113]\n",
      " [0.10473513524122728]\n",
      " [0.00362784856641378]\n",
      " [-6.40841963373191]]\n",
      "A: [[30]\n",
      " [30]\n",
      " [-7.5766423357664232]\n",
      " [-3.3316708229424554]\n",
      " [2]\n",
      " [-4.9644670050761421]]\n",
      "B: [[0]\n",
      " [0]\n",
      " [-8.6666666666666661]\n",
      " [-20.000000000001137]\n",
      " [-0]\n",
      " [-14]]\n",
      "r1: [[78]\n",
      " [77.077882690172544]\n",
      " [76.157731058639087]\n",
      " [67.119296778199342]\n",
      " [66.929888689583223]\n",
      " [70.028565600046392]]\n",
      "r2: [[77.077882690172544]\n",
      " [76.157731058639087]\n",
      " [67.119296778199342]\n",
      " [66.929888689583223]\n",
      " [70.028565600046392]\n",
      " [78]]\n",
      "theta1 [[0.39479111969976155]\n",
      " [0.39978109824279678]\n",
      " [0.40489178628508338]\n",
      " [0.05963071313116939]\n",
      " [0.029886464833363862]\n",
      " [0.028563657838759995]]\n",
      "theta2 [[0.39978109824279678]\n",
      " [0.40489178628508338]\n",
      " [0.05963071313116939]\n",
      " [0.029886464833363862]\n",
      " [0.028563657838759995]\n",
      " [0.39479111969976155]]\n",
      "Z [[-0.14969935629105702]\n",
      " [-0.15332064126859779]\n",
      " [5.6797721549458293]\n",
      " [0.089204725478525759]\n",
      " [0.0026456139892077346]\n",
      " [-5.6746378252506062]]\n"
     ]
    },
    {
     "data": {
      "text/plain": [
       "[<matplotlib.lines.Line2D at 0x14e7bf908>]"
      ]
     },
     "execution_count": 245,
     "metadata": {},
     "output_type": "execute_result"
    },
    {
     "data": {
      "image/png": "[encoded data removed]",
      "text/plain": [
       "<Figure size 432x288 with 1 Axes>"
      ]
     },
     "metadata": {
      "needs_background": "light"
     },
     "output_type": "display_data"
    }
   ],
   "source": [
    "plt.plot(grav_new(x,z))"
   ]
  },
  {
   "cell_type": "code",
   "execution_count": 189,
   "metadata": {
    "ExecuteTime": {
     "end_time": "2020-03-16T14:49:56.034275Z",
     "start_time": "2020-03-16T14:49:56.030767Z"
    }
   },
   "outputs": [],
   "source": [
    "m = tf.atan(divide(z1,x1))\n",
    "\n",
    "m = tf.where(m<0, m + pi, m ) \n",
    "\n",
    "m = tf.where(m == 0, m + pi/2, m)\n",
    "\n",
    "m"
   ]
  },
  {
   "cell_type": "code",
   "execution_count": 220,
   "metadata": {
    "ExecuteTime": {
     "end_time": "2020-03-16T16:31:07.460776Z",
     "start_time": "2020-03-16T16:31:05.227847Z"
    }
   },
   "outputs": [
    {
     "name": "stdout",
     "output_type": "stream",
     "text": [
      "A [30]\n",
      "B [0]\n",
      "A [30]\n",
      "B [0]\n",
      "[-0.997415036927296]\n",
      "A [30]\n",
      "B [0]\n",
      "A [30]\n",
      "B [0]\n",
      "[-0.99962987634741651]\n",
      "A [0.39416058394160586]\n",
      "B [-8.6666666666666661]\n",
      "A [0.39416058394160586]\n",
      "B [-8.6666666666666661]\n",
      "[-6.3743977479822416]\n",
      "[-0.98088970110999574]\n",
      "A [2]\n",
      "B [-0]\n",
      "A [2]\n",
      "B [-0]\n",
      "[1.9655874464946583]\n",
      "A [0.01015228426395939]\n",
      "B [-14]\n",
      "A [0.01015228426395939]\n",
      "B [-14]\n",
      "[0.3858915041490541]\n"
     ]
    },
    {
     "data": {
      "text/plain": [
       "<tf.Tensor: shape=(1,), dtype=float64, numpy=array([-1.86782769e-06])>"
      ]
     },
     "execution_count": 220,
     "metadata": {},
     "output_type": "execute_result"
    }
   ],
   "source": [
    "g(x,z,[0,0])"
   ]
  },
  {
   "cell_type": "code",
   "execution_count": 160,
   "metadata": {
    "ExecuteTime": {
     "end_time": "2020-03-16T14:34:42.245940Z",
     "start_time": "2020-03-16T14:34:42.241913Z"
    }
   },
   "outputs": [
    {
     "name": "stdout",
     "output_type": "stream",
     "text": [
      "x tf.Tensor(\n",
      "[[-2.]\n",
      " [-1.]\n",
      " [ 0.]\n",
      " [ 3.]\n",
      " [ 3.]\n",
      " [ 0.]], shape=(6, 1), dtype=float64)\n",
      "z tf.Tensor(\n",
      "[[-30.]\n",
      " [-30.]\n",
      " [-30.]\n",
      " [ -4.]\n",
      " [ -2.]\n",
      " [ -2.]], shape=(6, 1), dtype=float64)\n"
     ]
    }
   ],
   "source": [
    "print('x',x)\n",
    "print('z',z)"
   ]
  },
  {
   "cell_type": "code",
   "execution_count": 168,
   "metadata": {
    "ExecuteTime": {
     "end_time": "2020-03-16T14:38:13.404400Z",
     "start_time": "2020-03-16T14:38:13.394333Z"
    }
   },
   "outputs": [
    {
     "name": "stdout",
     "output_type": "stream",
     "text": [
      "tf.Tensor([1.50422816], shape=(1,), dtype=float64)\n",
      "tf.Tensor([1.53747533], shape=(1,), dtype=float64)\n",
      "tf.Tensor([1.57079633], shape=(1,), dtype=float64)\n",
      "tf.Tensor([2.21429744], shape=(1,), dtype=float64)\n",
      "tf.Tensor([2.55359005], shape=(1,), dtype=float64)\n",
      "tf.Tensor([1.57079633], shape=(1,), dtype=float64)\n"
     ]
    }
   ],
   "source": [
    "for i in range(0,6):\n",
    "    print(theta(x,z,i))\n"
   ]
  },
  {
   "cell_type": "code",
   "execution_count": 216,
   "metadata": {
    "ExecuteTime": {
     "end_time": "2020-03-16T16:27:13.154255Z",
     "start_time": "2020-03-16T16:27:13.140817Z"
    }
   },
   "outputs": [
    {
     "name": "stdout",
     "output_type": "stream",
     "text": [
      "A: [[30]\n",
      " [30]\n",
      " [0.39416058394160586]\n",
      " [0]\n",
      " [2]\n",
      " [0.01015228426395939]]\n",
      "B: [[0]\n",
      " [0]\n",
      " [-8.6666666666666661]\n",
      " [0]\n",
      " [-0]\n",
      " [-14]]\n",
      "r1: [[30.066592756745816]\n",
      " [30.016662039607269]\n",
      " [30]\n",
      " [5]\n",
      " [3.6055512754639891]\n",
      " [2]]\n",
      "r2: [[30.016662039607269]\n",
      " [30]\n",
      " [5]\n",
      " [3.6055512754639891]\n",
      " [2]\n",
      " [30.066592756745816]]\n",
      "theta1 [[1.5042281630190728]\n",
      " [1.5374753309166493]\n",
      " [1.5707963267948966]\n",
      " [2.2142974355881808]\n",
      " [2.5535900500422257]\n",
      " [1.5707963267948966]]\n",
      "theta2 [[1.5374753309166493]\n",
      " [1.5707963267948966]\n",
      " [2.2142974355881808]\n",
      " [2.5535900500422257]\n",
      " [1.5707963267948966]\n",
      " [1.5042281630190728]]\n",
      "Z [[-0.997415036927296]\n",
      " [-0.99962987634741651]\n",
      " [-6.3743977479822416]\n",
      " [-0]\n",
      " [1.9655874464946583]\n",
      " [0.3858915041490541]]\n"
     ]
    },
    {
     "data": {
      "text/plain": [
       "<tf.Tensor: shape=(6, 1), dtype=float64, numpy=\n",
       "array([[-0.99741504],\n",
       "       [-0.99962988],\n",
       "       [-6.37439775],\n",
       "       [-0.        ],\n",
       "       [ 1.96558745],\n",
       "       [ 0.3858915 ]])>"
      ]
     },
     "execution_count": 216,
     "metadata": {},
     "output_type": "execute_result"
    }
   ],
   "source": [
    "Z_new()"
   ]
  },
  {
   "cell_type": "code",
   "execution_count": 215,
   "metadata": {
    "ExecuteTime": {
     "end_time": "2020-03-16T16:26:33.876680Z",
     "start_time": "2020-03-16T16:26:33.584092Z"
    }
   },
   "outputs": [
    {
     "name": "stdout",
     "output_type": "stream",
     "text": [
      "A: [[30]\n",
      " [30]\n",
      " [0.39416058394160586]\n",
      " [0]\n",
      " [2]\n",
      " [0.01015228426395939]]\n",
      "B: [[0]\n",
      " [0]\n",
      " [-8.6666666666666661]\n",
      " [0]\n",
      " [-0]\n",
      " [-14]]\n",
      "r1: [[30.066592756745816]\n",
      " [30.016662039607269]\n",
      " [30]\n",
      " [5]\n",
      " [3.6055512754639891]\n",
      " [2]]\n",
      "r2: [[30.016662039607269]\n",
      " [30]\n",
      " [5]\n",
      " [3.6055512754639891]\n",
      " [2]\n",
      " [30.066592756745816]]\n",
      "theta1 [[1.5042281630190728]\n",
      " [1.5374753309166493]\n",
      " [1.5707963267948966]\n",
      " [2.2142974355881808]\n",
      " [2.5535900500422257]\n",
      " [1.5707963267948966]]\n",
      "theta2 [[1.5374753309166493]\n",
      " [1.5707963267948966]\n",
      " [2.2142974355881808]\n",
      " [2.5535900500422257]\n",
      " [1.5707963267948966]\n",
      " [1.5042281630190728]]\n",
      "Z [[-0.997415036927296]\n",
      " [-0.99962987634741651]\n",
      " [-6.3743977479822416]\n",
      " [-0]\n",
      " [1.9655874464946583]\n",
      " [0.3858915041490541]]\n"
     ]
    },
    {
     "data": {
      "text/plain": [
       "<tf.Tensor: shape=(), dtype=float64, numpy=-1.6061263179916126e-06>"
      ]
     },
     "execution_count": 215,
     "metadata": {},
     "output_type": "execute_result"
    }
   ],
   "source": [
    "g_new(x,z,[0,0])"
   ]
  },
  {
   "cell_type": "code",
   "execution_count": 126,
   "metadata": {
    "ExecuteTime": {
     "end_time": "2020-03-16T14:20:06.313983Z",
     "start_time": "2020-03-16T14:20:06.309050Z"
    }
   },
   "outputs": [
    {
     "data": {
      "text/plain": [
       "<tf.Tensor: shape=(6, 1), dtype=float64, numpy=\n",
       "array([[-0.99741504],\n",
       "       [46.12425993],\n",
       "       [-5.75525175],\n",
       "       [-0.        ],\n",
       "       [-1.17600521],\n",
       "       [ 0.36994433]])>"
      ]
     },
     "execution_count": 126,
     "metadata": {},
     "output_type": "execute_result"
    }
   ],
   "source": [
    "Z_new()"
   ]
  },
  {
   "cell_type": "code",
   "execution_count": 106,
   "metadata": {
    "ExecuteTime": {
     "end_time": "2020-03-16T14:11:06.544564Z",
     "start_time": "2020-03-16T14:11:06.538241Z"
    }
   },
   "outputs": [
    {
     "data": {
      "text/plain": [
       "<tf.Tensor: shape=(7, 1), dtype=float64, numpy=\n",
       "array([[-2.],\n",
       "       [-1.],\n",
       "       [ 0.],\n",
       "       [ 3.],\n",
       "       [ 3.],\n",
       "       [ 0.],\n",
       "       [-2.]])>"
      ]
     },
     "execution_count": 106,
     "metadata": {},
     "output_type": "execute_result"
    }
   ],
   "source": [
    "x_  = tf.concat([x,tf.reshape(x[0],[1,1])],axis = 0)\n",
    "z_  = tf.concat([z,tf.reshape(z[0],[1,1])],axis = 0)\n",
    "x_"
   ]
  },
  {
   "cell_type": "code",
   "execution_count": 108,
   "metadata": {
    "ExecuteTime": {
     "end_time": "2020-03-16T14:11:47.182896Z",
     "start_time": "2020-03-16T14:11:47.178064Z"
    }
   },
   "outputs": [
    {
     "data": {
      "text/plain": [
       "<tf.Tensor: shape=(6, 1), dtype=float64, numpy=\n",
       "array([[-2.],\n",
       "       [-1.],\n",
       "       [ 0.],\n",
       "       [ 3.],\n",
       "       [ 3.],\n",
       "       [ 0.]])>"
      ]
     },
     "execution_count": 108,
     "metadata": {},
     "output_type": "execute_result"
    }
   ],
   "source": [
    "x_[0:-1]"
   ]
  },
  {
   "cell_type": "code",
   "execution_count": 109,
   "metadata": {
    "ExecuteTime": {
     "end_time": "2020-03-16T14:11:55.298997Z",
     "start_time": "2020-03-16T14:11:55.293612Z"
    }
   },
   "outputs": [
    {
     "data": {
      "text/plain": [
       "<tf.Tensor: shape=(6, 1), dtype=float64, numpy=\n",
       "array([[-1.],\n",
       "       [ 0.],\n",
       "       [ 3.],\n",
       "       [ 3.],\n",
       "       [ 0.],\n",
       "       [-2.]])>"
      ]
     },
     "execution_count": 109,
     "metadata": {},
     "output_type": "execute_result"
    }
   ],
   "source": [
    "x_[1:]"
   ]
  },
  {
   "cell_type": "code",
   "execution_count": 76,
   "metadata": {
    "ExecuteTime": {
     "end_time": "2020-03-16T13:56:10.621463Z",
     "start_time": "2020-03-16T13:56:10.617954Z"
    }
   },
   "outputs": [],
   "source": [
    "loc = constant64([0,1])"
   ]
  },
  {
   "cell_type": "code",
   "execution_count": 77,
   "metadata": {
    "ExecuteTime": {
     "end_time": "2020-03-16T13:56:10.872266Z",
     "start_time": "2020-03-16T13:56:10.868249Z"
    }
   },
   "outputs": [],
   "source": [
    "r1 = r(x,z,p1)\n",
    "r2 = r(x,z,p2)"
   ]
  },
  {
   "cell_type": "code",
   "execution_count": 231,
   "metadata": {
    "ExecuteTime": {
     "end_time": "2020-03-16T16:46:51.487816Z",
     "start_time": "2020-03-16T16:46:51.482836Z"
    }
   },
   "outputs": [],
   "source": [
    "x = tf.reshape(constant64([-2.,-1.,0.,3.,3.1,0]),[6,1])\n",
    "z = tf.reshape(constant64([-30.,-30.,-30.,-4.,-2,-2]),[6,1])\n",
    "\n",
    "p1 = 0\n",
    "p2 = 1"
   ]
  },
  {
   "cell_type": "code",
   "execution_count": 79,
   "metadata": {
    "ExecuteTime": {
     "end_time": "2020-03-16T13:56:11.448703Z",
     "start_time": "2020-03-16T13:56:11.442059Z"
    }
   },
   "outputs": [
    {
     "data": {
      "text/plain": [
       "<tf.Tensor: shape=(1,), dtype=float64, numpy=array([30.])>"
      ]
     },
     "execution_count": 79,
     "metadata": {},
     "output_type": "execute_result"
    }
   ],
   "source": [
    "A(x,z,p1,p2)"
   ]
  },
  {
   "cell_type": "code",
   "execution_count": 83,
   "metadata": {
    "ExecuteTime": {
     "end_time": "2020-03-16T13:57:07.975898Z",
     "start_time": "2020-03-16T13:57:07.958132Z"
    }
   },
   "outputs": [
    {
     "data": {
      "text/plain": [
       "True"
      ]
     },
     "execution_count": 83,
     "metadata": {},
     "output_type": "execute_result"
    }
   ],
   "source": [
    "grav(x,z).numpy().any() == grav_new(x,z).numpy().any()"
   ]
  },
  {
   "cell_type": "code",
   "execution_count": 81,
   "metadata": {
    "ExecuteTime": {
     "end_time": "2020-03-16T13:56:12.618457Z",
     "start_time": "2020-03-16T13:56:12.604233Z"
    }
   },
   "outputs": [
    {
     "data": {
      "text/plain": [
       "array([5.47496024e-08, 7.25292392e-08, 1.00088759e-07, 1.45558253e-07,\n",
       "       2.26646954e-07, 3.86261139e-07, 7.49398040e-07, 1.86782769e-06,\n",
       "       8.60563564e-07, 4.08402263e-07, 2.32811092e-07, 1.47687697e-07,\n",
       "       1.00955122e-07, 7.29297097e-08, 5.49543892e-08])"
      ]
     },
     "execution_count": 81,
     "metadata": {},
     "output_type": "execute_result"
    }
   ],
   "source": [
    "grav(x,z).numpy()"
   ]
  },
  {
   "cell_type": "code",
   "execution_count": null,
   "metadata": {},
   "outputs": [],
   "source": []
  },
  {
   "cell_type": "code",
   "execution_count": null,
   "metadata": {},
   "outputs": [],
   "source": []
  },
  {
   "cell_type": "code",
   "execution_count": null,
   "metadata": {},
   "outputs": [],
   "source": []
  },
  {
   "cell_type": "code",
   "execution_count": null,
   "metadata": {},
   "outputs": [],
   "source": []
  },
  {
   "cell_type": "code",
   "execution_count": 393,
   "metadata": {
    "ExecuteTime": {
     "end_time": "2020-03-16T21:14:15.554003Z",
     "start_time": "2020-03-16T21:14:15.542256Z"
    }
   },
   "outputs": [],
   "source": [
    "@tf.function\n",
    "def grav_new(x,z):\n",
    "    \n",
    "    \n",
    "    thick = thickness\n",
    "    x_obv = tf.linspace(constant64(-70.),constant64(70.),obs_N)\n",
    "    y_obv = tf.zeros(tf.shape(x_obv),dtype = tf.float64)\n",
    "    \n",
    "    \n",
    "    tx = tf.transpose(tf.tile(x,[1,obs_N]))\n",
    "\n",
    "    x_tile = tf.expand_dims(tx,axis = 2)\n",
    "\n",
    "    tz = tf.transpose(tf.tile(z,[1,obs_N]))\n",
    "\n",
    "    z_tile = tf.expand_dims(tz,axis = 2)\n",
    "    \n",
    "    \n",
    "    x_obv_tile = tf.expand_dims(x_obv,axis = 1)\n",
    "    x_obv_tile = tf.tile(x_obv_tile,[1,6])\n",
    "    x_obv_tile = tf.reshape(x_obv_tile,[obs_N,6,1])\n",
    "\n",
    "\n",
    "    z_obv_tile = tf.expand_dims(y_obv,axis = 1)\n",
    "    z_obv_tile = tf.tile(z_obv_tile,[1,6])\n",
    "    z_obv_tile = tf.reshape(z_obv_tile,[obs_N,6,1])\n",
    "    \n",
    "    \n",
    "    _x = x_tile - x_obv_tile\n",
    "    _z = z_tile - z_obv_tile\n",
    "    \n",
    "    x_ = tf.concat([_x, tf.reshape(_x[:,0],shape = [obs_N,1,1])],axis = 1)\n",
    "    z_ = tf.concat([_z, tf.reshape(_z[:,0],shape = [obs_N,1,1])],axis = 1)\n",
    "    \n",
    "    x1 = x_[:,0:-1]\n",
    "    x2 = x_[:,1:]\n",
    "    z1 = z_[:,0:-1]\n",
    "    z2 = z_[:,1:]\n",
    "    \n",
    "    G = constant64(6.67 * 10**(-11)) # gravitational constant  m^3 kg ^-1 s^-2\n",
    "    rho = constant64(2000.)        # density difference   kg/m^3\n",
    "    \n",
    "    gravity = tf.reduce_sum(-Z_new(x1,z1,x2,z2),axis = 1)\n",
    "    \n",
    "    return gravity"
   ]
  },
  {
   "cell_type": "code",
   "execution_count": 394,
   "metadata": {
    "ExecuteTime": {
     "end_time": "2020-03-16T21:14:18.360796Z",
     "start_time": "2020-03-16T21:14:16.098094Z"
    }
   },
   "outputs": [
    {
     "name": "stdout",
     "output_type": "stream",
     "text": [
      "tf.Tensor(\n",
      "[[ 0.00310212]\n",
      " [-0.00292891]\n",
      " [-0.00510262]\n",
      " [-0.00124381]\n",
      " [-0.23387268]\n",
      " [ 0.39244448]], shape=(6, 1), dtype=float64)\n"
     ]
    }
   ],
   "source": [
    "with tf.GradientTape() as t:\n",
    "    t.watch(z)\n",
    "    with tf.GradientTape() as tt:\n",
    "        tt.watch(z)\n",
    "        loss = grav_new(x,z)\n",
    "    jac = tt.gradient(loss,z,unconnected_gradients = 'zero')\n",
    "hess = t.gradient(jac,z)\n",
    "print(hess)"
   ]
  }
 ],
 "metadata": {
  "kernelspec": {
   "display_name": "Python (nightly)",
   "language": "python",
   "name": "nightly"
  },
  "language_info": {
   "codemirror_mode": {
    "name": "ipython",
    "version": 3
   },
   "file_extension": ".py",
   "mimetype": "text/x-python",
   "name": "python",
   "nbconvert_exporter": "python",
   "pygments_lexer": "ipython3",
   "version": "3.7.1"
  },
  "varInspector": {
   "cols": {
    "lenName": 16,
    "lenType": 16,
    "lenVar": 40
   },
   "kernels_config": {
    "python": {
     "delete_cmd_postfix": "",
     "delete_cmd_prefix": "del ",
     "library": "var_list.py",
     "varRefreshCmd": "print(var_dic_list())"
    },
    "r": {
     "delete_cmd_postfix": ") ",
     "delete_cmd_prefix": "rm(",
     "library": "var_list.r",
     "varRefreshCmd": "cat(var_dic_list()) "
    }
   },
   "types_to_exclude": [
    "module",
    "function",
    "builtin_function_or_method",
    "instance",
    "_Feature"
   ],
   "window_display": false
  }
 },
 "nbformat": 4,
 "nbformat_minor": 4
}
