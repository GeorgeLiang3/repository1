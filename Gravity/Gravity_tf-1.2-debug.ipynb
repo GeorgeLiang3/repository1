{
 "cells": [
  {
   "cell_type": "code",
   "execution_count": null,
   "metadata": {
    "ExecuteTime": {
     "end_time": "2020-01-23T10:52:05.270457Z",
     "start_time": "2020-01-23T10:52:05.144916Z"
    }
   },
   "outputs": [],
   "source": []
  },
  {
   "cell_type": "code",
   "execution_count": 63,
   "metadata": {
    "ExecuteTime": {
     "end_time": "2020-01-23T15:24:58.934534Z",
     "start_time": "2020-01-23T15:24:58.929271Z"
    }
   },
   "outputs": [],
   "source": [
    "%matplotlib inline\n",
    "import matplotlib.pyplot as plt\n",
    "import numpy as np\n",
    "import tensorflow as tf\n",
    "import scipy\n",
    "from scipy.stats import norm\n",
    "import tensorflow_probability as tfp\n",
    "import seaborn as sns\n",
    "import pandas as pd\n",
    "import corner \n",
    "import math as m\n",
    "import copy\n",
    "\n",
    "tfd=tfp.distributions"
   ]
  },
  {
   "cell_type": "code",
   "execution_count": 64,
   "metadata": {
    "ExecuteTime": {
     "end_time": "2020-01-23T15:24:59.280453Z",
     "start_time": "2020-01-23T15:24:59.271913Z"
    }
   },
   "outputs": [],
   "source": [
    "def draw(base, position = None, ax = None,R = 100):\n",
    "    ## function to plot the geometry\n",
    "    if ax == None:\n",
    "        f,ax=plt.subplots()\n",
    "        \n",
    "    if position is not None:\n",
    "\n",
    "        t = tf.convert_to_tensor(thickness,dtype = tf.float32)\n",
    "\n",
    "        ps2 = position-t\n",
    "        \n",
    "        ps2 = tf.reverse(ps2,[-1])\n",
    "        \n",
    "        for i in tf.range(2,Number_para+2): ## lower layer\n",
    "            base[i].assign([base[i][0],ps2[i-2]])\n",
    "\n",
    "        for i in tf.range(Number_para+6,2*Number_para+6): ## upper layer\n",
    "            base[i].assign([base[i][0],position[i-Number_para-6]])\n",
    "\n",
    "    x = base[:,0]\n",
    "    z = base[:,1]\n",
    "    for i in range(base.shape[0]):\n",
    "        ax.plot(x[i:i+2],z[i:i+2],'k-')\n",
    "    x_ = np.linspace(-R,R,10)\n",
    "    ax.plot(x_,np.zeros(np.shape(x_)),lw = 0.5)# draw a reference line, surface\n",
    "    ax.plot([x[0],x[-1]],[z[0],z[-1]],'k-')\n",
    "    ax.set_ylim(base[tf.argmin(base[:,1])][1].numpy()-10,5)\n",
    "    ax.set_xlim(-R,R)\n",
    "    \n",
    "    \n",
    "pi = tf.constant(m.pi) # define PI in Tensorflow form"
   ]
  },
  {
   "cell_type": "code",
   "execution_count": 65,
   "metadata": {
    "ExecuteTime": {
     "end_time": "2020-01-23T15:24:59.517126Z",
     "start_time": "2020-01-23T15:24:59.508702Z"
    }
   },
   "outputs": [],
   "source": [
    "def draw_MCMC(base,samples,Truth = None,ax = None,R = 70):\n",
    "    \n",
    "    if ax == None:\n",
    "        f,ax=plt.subplots()\n",
    "    \n",
    "    if Truth is not None:\n",
    "        draw(base,Truth,ax = ax, R = R)\n",
    "            \n",
    "    x1 = np.linspace(-R,R,Number_para)\n",
    "\n",
    "    t = tf.convert_to_tensor(thickness,dtype = tf.float32)\n",
    "    for ps in samples:\n",
    "        ps2 = ps-t\n",
    "\n",
    "        ps2 = tf.reverse(ps2,[-1])\n",
    "\n",
    "        for i in tf.range(2,Number_para+2): ## lower layer\n",
    "            base[i].assign([base[i][0],ps2[i-2]])\n",
    "\n",
    "        for i in tf.range(Number_para+6,2*Number_para+6): ## upper layer\n",
    "            base[i].assign([base[i][0],ps[i-Number_para-6]])\n",
    "\n",
    "        for i in range(Number_para+5,base.shape[0]-2):\n",
    "            ax.plot(base[:,0][i:i+2],base[:,1][i:i+2],'r-',alpha = 0.01)\n",
    "    \n",
    "    ax.plot(x1,np.zeros(np.shape(x1)),lw = 0.5)# draw a reference line, surface\n",
    "\n",
    "    ax.set_ylim(base[tf.argmin(base[:,1])][1].numpy()-10,5)\n",
    "    ax.set_xlim(-R,R)"
   ]
  },
  {
   "cell_type": "code",
   "execution_count": 105,
   "metadata": {
    "ExecuteTime": {
     "end_time": "2020-01-23T16:58:34.588722Z",
     "start_time": "2020-01-23T16:58:34.578854Z"
    }
   },
   "outputs": [],
   "source": [
    "depth = -20\n",
    "thickness = 20\n",
    "\n",
    "corners=np.array([[-200,depth-thickness],\n",
    "                  [-70,depth-thickness],\n",
    "                  [70,depth-thickness],# bottom left coner\n",
    "              [200,depth-thickness], \n",
    "              [200,depth], # bottom right coner\n",
    "              [70, depth], # top right coner\n",
    "              [-70,depth],# top left coner\n",
    "              [-200,depth]])\n",
    "Number_para = 20\n",
    "obs_N = 8\n",
    "points = np.empty((2*Number_para+8,2),dtype = np.float32)\n",
    "\n",
    "points[0] = corners[0]\n",
    "points[1] = corners[1]\n",
    "\n",
    "for i in range(6):\n",
    "    points[Number_para+i] = corners[i]\n",
    "    \n",
    "points[-2]=corners[-2]\n",
    "points[-1]=corners[-1]\n",
    "\n",
    "np.random.seed(21)\n",
    "\n",
    "x2 = np.linspace(-70,70,Number_para+2)\n",
    "x1 = np.linspace(70,-70,Number_para+2)\n",
    "\n",
    "thickness = 20\n",
    "y1 = np.random.uniform(-2,-50,Number_para)\n",
    "y2 = y1-thickness\n",
    "\n",
    "y1 = list(reversed(y1))\n",
    "\n",
    "for i in range(2,Number_para+2): ## lower layer\n",
    "    points[i][1] = y2[i-2]\n",
    "    points[i][0] = x2[i-1]\n",
    "    \n",
    "for i in range(Number_para+6,2*Number_para+6): ## upper layer\n",
    "    points[i][1] = y1[i-Number_para-6]\n",
    "    points[i][0] = x1[i-Number_para-5]\n"
   ]
  },
  {
   "cell_type": "code",
   "execution_count": 106,
   "metadata": {
    "ExecuteTime": {
     "end_time": "2020-01-23T16:58:35.435154Z",
     "start_time": "2020-01-23T16:58:35.208827Z"
    }
   },
   "outputs": [
    {
     "data": {
      "text/plain": [
       "(-70, 70)"
      ]
     },
     "execution_count": 106,
     "metadata": {},
     "output_type": "execute_result"
    },
    {
     "data": {
      "image/png": "[encoded data removed]",
      "text/plain": [
       "<Figure size 432x288 with 1 Axes>"
      ]
     },
     "metadata": {
      "needs_background": "light"
     },
     "output_type": "display_data"
    }
   ],
   "source": [
    "# Draw Base\n",
    "f,ax=plt.subplots()\n",
    "x = points[:,0]\n",
    "z = points[:,1]\n",
    "for i in range(points.shape[0]):\n",
    "    ax.plot(x[i:i+2],z[i:i+2],'r-')\n",
    "x_ = np.linspace(-70,70,10)\n",
    "ax.plot(x_,np.zeros(np.shape(x_)),lw = 0.5)# draw a reference line, surface\n",
    "ax.plot([x[0],x[-1]],[z[0],z[-1]],'r-')\n",
    "ax.set_ylim(min(points[:,1])-10,5)\n",
    "ax.set_xlim(-70,70)"
   ]
  },
  {
   "cell_type": "markdown",
   "metadata": {},
   "source": [
    "#### Z direction gravity line integration following Won 1987\n",
    "\\begin{equation}\n",
    "\\Delta g_{z}=2 G \\rho \\sum_{i=1}^{n} Z_{i}\n",
    "\\end{equation}\n",
    "\n",
    "\\begin{equation}\n",
    "Z=A\\left[\\left(\\theta_{1}-\\theta_{2}\\right)+B \\ln \\frac{r_{2}}{r_{1}}\\right]\n",
    "\\end{equation}\n",
    "\n",
    "where,   \n",
    "\\begin{equation}\n",
    "\\begin{aligned}\n",
    "&A=\\frac{\\left(x_{2}-x_{1}\\right)\\left(x_{1} z_{2}-x_{2} z_{1}\\right)}{\\left(x_{2}-x_{1}\\right)^{2}+\\left(z_{2}-z_{1}\\right)^{2}}\\\\\n",
    "&B=\\frac{z_{2}-z_{1}}{x_{2}-x_{1}}\n",
    "\\end{aligned}\n",
    "\\end{equation}\n",
    "\n",
    "and,   \n",
    "\\begin{equation}\n",
    "\\begin{aligned}\n",
    "&r_{1}^{2}=x_{1}^{2}+z_{1}^{2}\\\\\n",
    "&r_{2}^{2}=x_{2}^{2}+z_{2}^{2}\n",
    "\\end{aligned}\n",
    "\\end{equation}\n"
   ]
  },
  {
   "cell_type": "code",
   "execution_count": 107,
   "metadata": {
    "ExecuteTime": {
     "end_time": "2020-01-23T16:58:35.652278Z",
     "start_time": "2020-01-23T16:58:35.626642Z"
    }
   },
   "outputs": [],
   "source": [
    "\n",
    "def A(x,z,p1,p2):\n",
    "    numerator = (x[p2]-x[p1])*(x[p1]*z[p2]-x[p2]*z[p1])\n",
    "    denominator = (x[p2]-x[p1])**2 + (z[p2]-z[p1])**2\n",
    "    return (numerator/denominator)\n",
    "\n",
    "\n",
    "def B(x,z,p1,p2):\n",
    "    '''\n",
    "    x : array, x coordinate\n",
    "    z : array, z coordinate\n",
    "    p1, p2 : int, position\n",
    "    \n",
    "    '''\n",
    "    return ((z[p1]-z[p2])/(x[p2]-x[p1]))\n",
    "\n",
    "\n",
    "def theta(x,z, p):\n",
    "    if tf.math.not_equal(x[p], 0) :\n",
    "        if tf.less(tf.atan(tf.divide(z[p],x[p])),0):\n",
    "            return(tf.atan(tf.divide(z[p],x[p]))+pi)\n",
    "        else:\n",
    "            return(tf.atan(tf.divide(z[p],x[p])))\n",
    "    elif tf.math.logical_and(tf.math.equal(x[p], 0), tf.math.not_equal(z[p], 0)):\n",
    "        return(pi/2)\n",
    "    else: return(0.)\n",
    "\n",
    "\n",
    "def r(x,z,p):\n",
    "    '''\n",
    "    x : array, x coordinate\n",
    "    z : array, z coordinate\n",
    "    p : int, position\n",
    "    \n",
    "    '''\n",
    "    return(tf.sqrt(x[p]**2+z[p]**2))\n",
    "\n",
    "\n",
    "def Z(x,z,p1,p2):\n",
    "    \n",
    "    if tf.logical_or(tf.logical_and(tf.equal(x[p1],z[p1]),tf.equal(x[p1],0.)), tf.logical_and(tf.equal(x[p2],z[p2]),tf.equal(x[p2],0.))):\n",
    "        return(0.)\n",
    "\n",
    "    elif tf.equal(x[p1], x[p2]):\n",
    "        return((x[p1]*tf.math.log(r(x,z,p2)/r(x,z,p1))))\n",
    "    \n",
    "    else:\n",
    "    \n",
    "        theta1 = theta(x,z, p1)\n",
    "        theta2 = theta(x,z, p2)\n",
    "\n",
    "        r1 = r(x,z,p1)\n",
    "        r2 = r(x,z,p2)\n",
    "\n",
    "        _A = A(x,z,p1,p2)\n",
    "        _B = B(x,z,p1,p2)\n",
    "\n",
    "        Z_result = _A*((theta1-theta2)+_B*tf.math.log(r1/r2))\n",
    "        return(Z_result)\n",
    "\n",
    "\n",
    "def g(x,z,loc):\n",
    "\n",
    "    G = tf.constant(6.67 * 10**(-11)) # gravitational constant  m^3 kg ^-1 s^-2\n",
    "    rho = tf.constant(1000.)        # density difference   kg/m^3\n",
    "\n",
    "    _x = x-loc[0]\n",
    "    _z = z-loc[1]\n",
    "\n",
    "    Z_sum = tf.constant(0.)\n",
    "\n",
    "    for i in tf.range(_x.shape[0]-1):\n",
    "        Z_sum = tf.add(Z_sum, Z(_x,_z,i,i+1))\n",
    "\n",
    "    Z_sum = tf.add(Z_sum, Z(_x,_z,-1,0))\n",
    "\n",
    "    g = 2*G*rho * Z_sum\n",
    "\n",
    "    return(g)\n",
    "\n",
    "\n",
    "def grav(x,z,ps):\n",
    "    \"\"\"\n",
    "    points: base point, fixing the x position\n",
    "    ps: Positions,Variable(N elements vector), tuning z position\n",
    "    \n",
    "    \"\"\"\n",
    "    thick = tf.convert_to_tensor(thickness,dtype = tf.float32)\n",
    "    N1 = tf.constant(Number_para)\n",
    "    ps2 = ps-thick\n",
    "\n",
    "    ps2 = tf.reverse(ps2,[-1])\n",
    "\n",
    "    for i in tf.range(2,N1+2): ## lower layer\n",
    "        z[i].assign(ps2[i-2])\n",
    "\n",
    "    for i in tf.range(N1+6,2*N1+6): ## upper layer\n",
    "        z[i].assign(ps[i-N1-6])\n",
    "\n",
    "    x_obv = tf.linspace(-70., 70., obs_N+2)\n",
    "    y_obv = tf.zeros(tf.shape(x_obv))\n",
    "    obv = tf.stack((x_obv,y_obv),axis = 1)\n",
    "\n",
    "\n",
    "    gravity = tf.TensorArray(tf.float32, size=obv.shape[0]-2)\n",
    "\n",
    "    j = tf.constant(0)\n",
    "    for i in obv[1:-1]:\n",
    "        gravity=gravity.write(j,-g(x,z,i))\n",
    "        j = tf.add(j,1)\n",
    "    return gravity.stack()\n",
    "\n",
    "\n",
    "\n",
    "def joint_log_prob(D,x,z,ps):\n",
    "    \"\"\"\n",
    "    D: is the observation data\n",
    "    ps: Positions,Variable(N elements vector)\n",
    "    \"\"\"\n",
    "    # define random variables prior\n",
    "    \n",
    "    mvn_prior = tfd.MultivariateNormalTriL(\n",
    "            loc = mu_prior,\n",
    "            scale_tril=tf.linalg.cholesky(cov_prior))\n",
    "    # define likelihood\n",
    "    \n",
    "    Gm_ = grav(x,z,ps)\n",
    "    \n",
    "    mvn_likelihood = tfd.MultivariateNormalFullCovariance(\n",
    "            loc = Gm_,\n",
    "            covariance_matrix= cov)\n",
    "    \n",
    "    # return the posterior probability\n",
    "    return(mvn_prior.log_prob(z[Number_para+6:2*Number_para+6])\n",
    "          +mvn_likelihood.log_prob(D))\n"
   ]
  },
  {
   "cell_type": "markdown",
   "metadata": {},
   "source": [
    "Define the Prior and likelihood distribution"
   ]
  },
  {
   "cell_type": "code",
   "execution_count": 108,
   "metadata": {
    "ExecuteTime": {
     "end_time": "2020-01-23T16:58:35.843617Z",
     "start_time": "2020-01-23T16:58:35.840011Z"
    }
   },
   "outputs": [],
   "source": [
    "# prior\n",
    "mu_prior = -20.*tf.ones([Number_para],dtype = tf.float32)\n",
    "cov_prior = 20.*tf.eye(Number_para)\n",
    "\n",
    "# likelihood\n",
    "sig_e = 0.0000001\n",
    "cov = sig_e**2*tf.eye(obs_N)"
   ]
  },
  {
   "cell_type": "code",
   "execution_count": 109,
   "metadata": {
    "ExecuteTime": {
     "end_time": "2020-01-23T16:58:36.036152Z",
     "start_time": "2020-01-23T16:58:36.033158Z"
    }
   },
   "outputs": [],
   "source": [
    "points = tf.Variable(points,dtype = tf.float32)"
   ]
  },
  {
   "cell_type": "code",
   "execution_count": 110,
   "metadata": {
    "ExecuteTime": {
     "end_time": "2020-01-23T16:58:37.954349Z",
     "start_time": "2020-01-23T16:58:36.226648Z"
    }
   },
   "outputs": [],
   "source": [
    "# define the ground truth\n",
    "tf.random.set_seed(1234)\n",
    "tf.random.uniform([Number_para])\n",
    "True_position = tf.random.uniform([Number_para],-30,-1,seed = 10)\n",
    "x = tf.Variable(points[:,0])\n",
    "z = tf.Variable(points[:,1])\n",
    "obs_data = grav(x,z,True_position)"
   ]
  },
  {
   "cell_type": "code",
   "execution_count": 111,
   "metadata": {
    "ExecuteTime": {
     "end_time": "2020-01-23T16:58:38.150514Z",
     "start_time": "2020-01-23T16:58:38.148085Z"
    }
   },
   "outputs": [],
   "source": [
    "D = obs_data"
   ]
  },
  {
   "cell_type": "code",
   "execution_count": 112,
   "metadata": {
    "ExecuteTime": {
     "end_time": "2020-01-23T16:58:38.348607Z",
     "start_time": "2020-01-23T16:58:38.344633Z"
    }
   },
   "outputs": [
    {
     "data": {
      "text/plain": [
       "<tf.Tensor: shape=(8,), dtype=float32, numpy=\n",
       "array([7.8100556e-06, 8.7888793e-06, 9.0200983e-06, 8.3544155e-06,\n",
       "       7.7874865e-06, 7.1375398e-06, 7.5782809e-06, 7.9452821e-06],\n",
       "      dtype=float32)>"
      ]
     },
     "execution_count": 112,
     "metadata": {},
     "output_type": "execute_result"
    }
   ],
   "source": [
    "D"
   ]
  },
  {
   "cell_type": "markdown",
   "metadata": {},
   "source": [
    "#### create some noise"
   ]
  },
  {
   "cell_type": "code",
   "execution_count": 113,
   "metadata": {
    "ExecuteTime": {
     "end_time": "2020-01-23T16:58:38.560116Z",
     "start_time": "2020-01-23T16:58:38.556177Z"
    }
   },
   "outputs": [],
   "source": [
    "tf.random.set_seed(1234)\n",
    "noise = tf.random.normal([obs_N],mean =0,stddev =sig_e,seed = 1)"
   ]
  },
  {
   "cell_type": "code",
   "execution_count": 114,
   "metadata": {
    "ExecuteTime": {
     "end_time": "2020-01-23T16:58:38.754429Z",
     "start_time": "2020-01-23T16:58:38.751903Z"
    }
   },
   "outputs": [],
   "source": [
    "D_noise = D+noise"
   ]
  },
  {
   "cell_type": "code",
   "execution_count": 115,
   "metadata": {
    "ExecuteTime": {
     "end_time": "2020-01-23T16:58:40.716199Z",
     "start_time": "2020-01-23T16:58:38.966359Z"
    }
   },
   "outputs": [
    {
     "data": {
      "text/plain": [
       "<tf.Tensor: shape=(), dtype=float32, numpy=15.354324>"
      ]
     },
     "execution_count": 115,
     "metadata": {},
     "output_type": "execute_result"
    }
   ],
   "source": [
    "joint_log_prob(D,x,z,True_position)"
   ]
  },
  {
   "cell_type": "code",
   "execution_count": 116,
   "metadata": {
    "ExecuteTime": {
     "end_time": "2020-01-23T16:58:40.913982Z",
     "start_time": "2020-01-23T16:58:40.908027Z"
    }
   },
   "outputs": [],
   "source": [
    "def grav_calculate(_x,_z,x_obs=None, R=70,ax = None,style = None,**args):\n",
    "    if ax is None:\n",
    "        f,ax=plt.subplots()\n",
    "    if x_obs is None:\n",
    "        x_obs = np.linspace(-R,R,501)\n",
    "    y = np.zeros(np.shape(x_obs))\n",
    "    obv = np.vstack((x_obs,y)).T\n",
    "    gravity = []\n",
    "    for i in obv:\n",
    "        gravity.append(-g(_x,_z,i))\n",
    "    gravity = np.array(gravity)\n",
    "    if style is None:\n",
    "        style = '-'\n",
    "    ax.set_title('gravity response at surface')\n",
    "    ax.set_ylabel('g_z ($m/s^2$ )')\n",
    "    ax.set_ylim(4e-6,10e-6)\n",
    "    ax.set_xlim(-70,70)\n",
    "    ax.ticklabel_format(axis='y', style='sci', scilimits=(-2,2))\n",
    "    ax.plot(x_obs,gravity,style,**args)\n",
    "    return gravity"
   ]
  },
  {
   "cell_type": "code",
   "execution_count": 117,
   "metadata": {
    "ExecuteTime": {
     "end_time": "2020-01-23T16:58:41.105947Z",
     "start_time": "2020-01-23T16:58:41.102139Z"
    }
   },
   "outputs": [
    {
     "data": {
      "text/plain": [
       "<tf.Tensor: shape=(8,), dtype=float32, numpy=\n",
       "array([7.777690e-06, 8.974654e-06, 9.059655e-06, 8.377532e-06,\n",
       "       7.811731e-06, 6.942682e-06, 7.565298e-06, 8.216657e-06],\n",
       "      dtype=float32)>"
      ]
     },
     "execution_count": 117,
     "metadata": {},
     "output_type": "execute_result"
    }
   ],
   "source": [
    "D_noise"
   ]
  },
  {
   "cell_type": "code",
   "execution_count": 118,
   "metadata": {
    "ExecuteTime": {
     "end_time": "2020-01-23T16:58:41.300150Z",
     "start_time": "2020-01-23T16:58:41.295177Z"
    }
   },
   "outputs": [
    {
     "data": {
      "text/plain": [
       "<tf.Variable 'Variable:0' shape=(48, 2) dtype=float32, numpy=\n",
       "array([[-200.       ,  -40.       ],\n",
       "       [ -70.       ,  -40.       ],\n",
       "       [ -63.333332 ,  -24.338795 ],\n",
       "       [ -56.666668 ,  -35.877262 ],\n",
       "       [ -50.       ,  -56.606384 ],\n",
       "       [ -43.333332 ,  -23.03758  ],\n",
       "       [ -36.666668 ,  -31.884293 ],\n",
       "       [ -30.       ,  -24.437117 ],\n",
       "       [ -23.333334 ,  -36.509052 ],\n",
       "       [ -16.666666 ,  -53.867695 ],\n",
       "       [ -10.       ,  -36.78949  ],\n",
       "       [  -3.3333333,  -50.012383 ],\n",
       "       [   3.3333333,  -25.339405 ],\n",
       "       [  10.       ,  -63.635414 ],\n",
       "       [  16.666666 ,  -28.395544 ],\n",
       "       [  23.333334 ,  -30.549984 ],\n",
       "       [  30.       ,  -45.80462  ],\n",
       "       [  36.666668 ,  -63.457584 ],\n",
       "       [  43.333332 ,  -58.429302 ],\n",
       "       [  50.       ,  -68.58328  ],\n",
       "       [  56.666668 ,  -58.44652  ],\n",
       "       [  63.333332 ,  -40.444    ],\n",
       "       [  70.       ,  -40.       ],\n",
       "       [ 200.       ,  -40.       ],\n",
       "       [ 200.       ,  -20.       ],\n",
       "       [  70.       ,  -20.       ],\n",
       "       [  63.333332 ,  -20.444002 ],\n",
       "       [  56.666668 ,  -38.44652  ],\n",
       "       [  50.       ,  -48.583286 ],\n",
       "       [  43.333332 ,  -38.429302 ],\n",
       "       [  36.666668 ,  -43.457584 ],\n",
       "       [  30.       ,  -25.804619 ],\n",
       "       [  23.333334 ,  -10.549984 ],\n",
       "       [  16.666666 ,   -8.395545 ],\n",
       "       [  10.       ,  -43.635414 ],\n",
       "       [   3.3333333,   -5.339406 ],\n",
       "       [  -3.3333333,  -30.01238  ],\n",
       "       [ -10.       ,  -16.789492 ],\n",
       "       [ -16.666666 ,  -33.867695 ],\n",
       "       [ -23.333334 ,  -16.50905  ],\n",
       "       [ -30.       ,   -4.437116 ],\n",
       "       [ -36.666668 ,  -11.884293 ],\n",
       "       [ -43.333332 ,   -3.03758  ],\n",
       "       [ -50.       ,  -36.606384 ],\n",
       "       [ -56.666668 ,  -15.877264 ],\n",
       "       [ -63.333332 ,   -4.338794 ],\n",
       "       [ -70.       ,  -20.       ],\n",
       "       [-200.       ,  -20.       ]], dtype=float32)>"
      ]
     },
     "execution_count": 118,
     "metadata": {},
     "output_type": "execute_result"
    }
   ],
   "source": [
    "points"
   ]
  },
  {
   "cell_type": "code",
   "execution_count": 119,
   "metadata": {
    "ExecuteTime": {
     "end_time": "2020-01-23T16:58:41.494835Z",
     "start_time": "2020-01-23T16:58:41.490644Z"
    }
   },
   "outputs": [
    {
     "data": {
      "text/plain": [
       "<tf.Tensor: shape=(20,), dtype=float32, numpy=\n",
       "array([ -5.1785946, -20.606672 , -11.302174 ,  -5.881212 , -25.273802 ,\n",
       "       -25.910046 , -22.322052 , -21.430578 , -10.866999 ,  -8.264807 ,\n",
       "       -20.506378 ,  -2.7172203, -15.685033 ,  -4.4548607,  -1.9767189,\n",
       "       -15.243669 ,  -1.4924355,  -5.306797 , -27.638058 , -17.484085 ],\n",
       "      dtype=float32)>"
      ]
     },
     "execution_count": 119,
     "metadata": {},
     "output_type": "execute_result"
    }
   ],
   "source": [
    "True_position"
   ]
  },
  {
   "cell_type": "code",
   "execution_count": 120,
   "metadata": {
    "ExecuteTime": {
     "end_time": "2020-01-23T16:58:41.951254Z",
     "start_time": "2020-01-23T16:58:41.682725Z"
    }
   },
   "outputs": [
    {
     "data": {
      "image/png": "[encoded data removed]",
      "text/plain": [
       "<Figure size 432x288 with 1 Axes>"
      ]
     },
     "metadata": {
      "needs_background": "light"
     },
     "output_type": "display_data"
    }
   ],
   "source": [
    "draw(points,True_position,R = 70)"
   ]
  },
  {
   "cell_type": "code",
   "execution_count": 121,
   "metadata": {
    "ExecuteTime": {
     "end_time": "2020-01-23T17:00:28.356764Z",
     "start_time": "2020-01-23T16:58:42.142931Z"
    }
   },
   "outputs": [
    {
     "data": {
      "text/plain": [
       "array([7.0898241e-06, 7.0926530e-06, 7.0956539e-06, 7.0988312e-06,\n",
       "       7.1021768e-06, 7.1057075e-06, 7.1094369e-06, 7.1133650e-06,\n",
       "       7.1175086e-06, 7.1218724e-06, 7.1264676e-06, 7.1313029e-06,\n",
       "       7.1363888e-06, 7.1417371e-06, 7.1473510e-06, 7.1532531e-06,\n",
       "       7.1594482e-06, 7.1659579e-06, 7.1727850e-06, 7.1799409e-06,\n",
       "       7.1874460e-06, 7.1953073e-06, 7.2035468e-06, 7.2121743e-06,\n",
       "       7.2212160e-06, 7.2306721e-06, 7.2405610e-06, 7.2509051e-06,\n",
       "       7.2616931e-06, 7.2729958e-06, 7.2847820e-06, 7.2970897e-06,\n",
       "       7.3099345e-06, 7.3233432e-06, 7.3373167e-06, 7.3518713e-06,\n",
       "       7.3670521e-06, 7.3828569e-06, 7.3993156e-06, 7.4164313e-06,\n",
       "       7.4342397e-06, 7.4527538e-06, 7.4719978e-06, 7.4919849e-06,\n",
       "       7.5127368e-06, 7.5342650e-06, 7.5566018e-06, 7.5797529e-06,\n",
       "       7.6037386e-06, 7.6285814e-06, 7.6542974e-06, 7.6808892e-06,\n",
       "       7.7083678e-06, 7.7367786e-06, 7.7660889e-06, 7.7963186e-06,\n",
       "       7.8274752e-06, 7.8595676e-06, 7.8925777e-06, 7.9265110e-06,\n",
       "       7.9613474e-06, 7.9970623e-06, 8.0336376e-06, 8.0710488e-06,\n",
       "       8.1092548e-06, 8.1482031e-06, 8.1878425e-06, 8.2281176e-06,\n",
       "       8.2689494e-06, 8.3102514e-06, 8.3519535e-06, 8.3939631e-06,\n",
       "       8.4361591e-06, 8.4784215e-06, 8.5206639e-06, 8.5627498e-06,\n",
       "       8.6045447e-06, 8.6459268e-06, 8.6867503e-06, 8.7268700e-06,\n",
       "       8.7661274e-06, 8.8043544e-06, 8.8413681e-06, 8.8769830e-06,\n",
       "       8.9109644e-06, 8.9430760e-06, 8.9730420e-06, 9.0005296e-06,\n",
       "       9.0251760e-06, 9.0465574e-06, 9.0641870e-06, 9.0775393e-06,\n",
       "       9.0860722e-06, 9.0893391e-06, 9.0870317e-06, 9.0792164e-06,\n",
       "       9.0664198e-06, 9.0495332e-06, 9.0296526e-06, 9.0078602e-06,\n",
       "       8.9850946e-06, 8.9620617e-06, 8.9393152e-06, 8.9172499e-06,\n",
       "       8.8961660e-06, 8.8762517e-06, 8.8576744e-06, 8.8405368e-06,\n",
       "       8.8249208e-06, 8.8109018e-06, 8.7985100e-06, 8.7877743e-06,\n",
       "       8.7787275e-06, 8.7713988e-06, 8.7657918e-06, 8.7619337e-06,\n",
       "       8.7598146e-06, 8.7594453e-06, 8.7608487e-06, 8.7640110e-06,\n",
       "       8.7689350e-06, 8.7756407e-06, 8.7841045e-06, 8.7943308e-06,\n",
       "       8.8063080e-06, 8.8200486e-06, 8.8355282e-06, 8.8527158e-06,\n",
       "       8.8715969e-06, 8.8921515e-06, 8.9143250e-06, 8.9380692e-06,\n",
       "       8.9633022e-06, 8.9899304e-06, 9.0178273e-06, 9.0468129e-06,\n",
       "       9.0766680e-06, 9.1071161e-06, 9.1377542e-06, 9.1681241e-06,\n",
       "       9.1976754e-06, 9.2257387e-06, 9.2516657e-06, 9.2747832e-06,\n",
       "       9.2945720e-06, 9.3106746e-06, 9.3229110e-06, 9.3312883e-06,\n",
       "       9.3359331e-06, 9.3370481e-06, 9.3348735e-06, 9.3296776e-06,\n",
       "       9.3217068e-06, 9.3112149e-06, 9.2984101e-06, 9.2835116e-06,\n",
       "       9.2667005e-06, 9.2481578e-06, 9.2280552e-06, 9.2065438e-06,\n",
       "       9.1837819e-06, 9.1599222e-06, 9.1350948e-06, 9.1094680e-06,\n",
       "       9.0831800e-06, 9.0563735e-06, 9.0292060e-06, 9.0018248e-06,\n",
       "       8.9743689e-06, 8.9469795e-06, 8.9197829e-06, 8.8929282e-06,\n",
       "       8.8665047e-06, 8.8406396e-06, 8.8154202e-06, 8.7909448e-06,\n",
       "       8.7672706e-06, 8.7444678e-06, 8.7226017e-06, 8.7017152e-06,\n",
       "       8.6818327e-06, 8.6630080e-06, 8.6452392e-06, 8.6285545e-06,\n",
       "       8.6129585e-06, 8.5984511e-06, 8.5850470e-06, 8.5727188e-06,\n",
       "       8.5614620e-06, 8.5512602e-06, 8.5420961e-06, 8.5339470e-06,\n",
       "       8.5267684e-06, 8.5205302e-06, 8.5151996e-06, 8.5107222e-06,\n",
       "       8.5070496e-06, 8.5041129e-06, 8.5018555e-06, 8.5001957e-06,\n",
       "       8.4990461e-06, 8.4983212e-06, 8.4979010e-06, 8.4976846e-06,\n",
       "       8.4975200e-06, 8.4972689e-06, 8.4967714e-06, 8.4958601e-06,\n",
       "       8.4943413e-06, 8.4920321e-06, 8.4887452e-06, 8.4843077e-06,\n",
       "       8.4785688e-06, 8.4714275e-06, 8.4628100e-06, 8.4527246e-06,\n",
       "       8.4412286e-06, 8.4284193e-06, 8.4144658e-06, 8.3995274e-06,\n",
       "       8.3837867e-06, 8.3674422e-06, 8.3506629e-06, 8.3336054e-06,\n",
       "       8.3164277e-06, 8.2992410e-06, 8.2821680e-06, 8.2652959e-06,\n",
       "       8.2487086e-06, 8.2324659e-06, 8.2166380e-06, 8.2012502e-06,\n",
       "       8.1863473e-06, 8.1719500e-06, 8.1580720e-06, 8.1447452e-06,\n",
       "       8.1319631e-06, 8.1197295e-06, 8.1080343e-06, 8.0968766e-06,\n",
       "       8.0862455e-06, 8.0761338e-06, 8.0665131e-06, 8.0573482e-06,\n",
       "       8.0486316e-06, 8.0403443e-06, 8.0324417e-06, 8.0248956e-06,\n",
       "       8.0176751e-06, 8.0107366e-06, 8.0040572e-06, 7.9975898e-06,\n",
       "       7.9912970e-06, 7.9851316e-06, 7.9790643e-06, 7.9730526e-06,\n",
       "       7.9670472e-06, 7.9610263e-06, 7.9549345e-06, 7.9487336e-06,\n",
       "       7.9424044e-06, 7.9358961e-06, 7.9291840e-06, 7.9222282e-06,\n",
       "       7.9150122e-06, 7.9075071e-06, 7.8996945e-06, 7.8915518e-06,\n",
       "       7.8830635e-06, 7.8742214e-06, 7.8650128e-06, 7.8554276e-06,\n",
       "       7.8454750e-06, 7.8351459e-06, 7.8244375e-06, 7.8133662e-06,\n",
       "       7.8019275e-06, 7.7901514e-06, 7.7780323e-06, 7.7655877e-06,\n",
       "       7.7528321e-06, 7.7397917e-06, 7.7264713e-06, 7.7129062e-06,\n",
       "       7.6991055e-06, 7.6850956e-06, 7.6708957e-06, 7.6565311e-06,\n",
       "       7.6420147e-06, 7.6273936e-06, 7.6126680e-06, 7.5978651e-06,\n",
       "       7.5830158e-06, 7.5681419e-06, 7.5532603e-06, 7.5383805e-06,\n",
       "       7.5235553e-06, 7.5087887e-06, 7.4940949e-06, 7.4794957e-06,\n",
       "       7.4650193e-06, 7.4506765e-06, 7.4364789e-06, 7.4224545e-06,\n",
       "       7.4086233e-06, 7.3949850e-06, 7.3815613e-06, 7.3683677e-06,\n",
       "       7.3554106e-06, 7.3427068e-06, 7.3302758e-06, 7.3181131e-06,\n",
       "       7.3062383e-06, 7.2946636e-06, 7.2833964e-06, 7.2724283e-06,\n",
       "       7.2617972e-06, 7.2514872e-06, 7.2415178e-06, 7.2318917e-06,\n",
       "       7.2226162e-06, 7.2136927e-06, 7.2051353e-06, 7.1969398e-06,\n",
       "       7.1891200e-06, 7.1816748e-06, 7.1746085e-06, 7.1679265e-06,\n",
       "       7.1616382e-06, 7.1557379e-06, 7.1502432e-06, 7.1451423e-06,\n",
       "       7.1404515e-06, 7.1361560e-06, 7.1322825e-06, 7.1288150e-06,\n",
       "       7.1257664e-06, 7.1231425e-06, 7.1209361e-06, 7.1191566e-06,\n",
       "       7.1178056e-06, 7.1168824e-06, 7.1163986e-06, 7.1163508e-06,\n",
       "       7.1167347e-06, 7.1175623e-06, 7.1188388e-06, 7.1205613e-06,\n",
       "       7.1227305e-06, 7.1253553e-06, 7.1284285e-06, 7.1319637e-06,\n",
       "       7.1359523e-06, 7.1404052e-06, 7.1453160e-06, 7.1506934e-06,\n",
       "       7.1565346e-06, 7.1628442e-06, 7.1696218e-06, 7.1768695e-06,\n",
       "       7.1845880e-06, 7.1927711e-06, 7.2014354e-06, 7.2105572e-06,\n",
       "       7.2201610e-06, 7.2302264e-06, 7.2407561e-06, 7.2517564e-06,\n",
       "       7.2632179e-06, 7.2751395e-06, 7.2875046e-06, 7.3003339e-06,\n",
       "       7.3135984e-06, 7.3273050e-06, 7.3414340e-06, 7.3559854e-06,\n",
       "       7.3709471e-06, 7.3863048e-06, 7.4020450e-06, 7.4181503e-06,\n",
       "       7.4346153e-06, 7.4514091e-06, 7.4685213e-06, 7.4859145e-06,\n",
       "       7.5035714e-06, 7.5214639e-06, 7.5395578e-06, 7.5578305e-06,\n",
       "       7.5762268e-06, 7.5947191e-06, 7.6132637e-06, 7.6318120e-06,\n",
       "       7.6503165e-06, 7.6687302e-06, 7.6869846e-06, 7.7050418e-06,\n",
       "       7.7228315e-06, 7.7403001e-06, 7.7573895e-06, 7.7740297e-06,\n",
       "       7.7901796e-06, 7.8057801e-06, 7.8207731e-06, 7.8351113e-06,\n",
       "       7.8487474e-06, 7.8616613e-06, 7.8738049e-06, 7.8851672e-06,\n",
       "       7.8957273e-06, 7.9054707e-06, 7.9144002e-06, 7.9225256e-06,\n",
       "       7.9298579e-06, 7.9364081e-06, 7.9422025e-06, 7.9472711e-06,\n",
       "       7.9516503e-06, 7.9553593e-06, 7.9584443e-06, 7.9609499e-06,\n",
       "       7.9629117e-06, 7.9643687e-06, 7.9653646e-06, 7.9659403e-06,\n",
       "       7.9661522e-06, 7.9660222e-06, 7.9655938e-06, 7.9649162e-06,\n",
       "       7.9640213e-06, 7.9629426e-06, 7.9617239e-06, 7.9603915e-06,\n",
       "       7.9589809e-06, 7.9575220e-06, 7.9560414e-06, 7.9545707e-06,\n",
       "       7.9531310e-06, 7.9517422e-06, 7.9504325e-06, 7.9492138e-06,\n",
       "       7.9481060e-06, 7.9471311e-06, 7.9462889e-06, 7.9455940e-06,\n",
       "       7.9450583e-06, 7.9446982e-06, 7.9444844e-06, 7.9444480e-06,\n",
       "       7.9445763e-06, 7.9448755e-06, 7.9453202e-06, 7.9459151e-06,\n",
       "       7.9466581e-06, 7.9475121e-06, 7.9484671e-06, 7.9495167e-06,\n",
       "       7.9506126e-06, 7.9517577e-06, 7.9528954e-06, 7.9540141e-06,\n",
       "       7.9550582e-06, 7.9560041e-06, 7.9568072e-06, 7.9574238e-06,\n",
       "       7.9578103e-06, 7.9579140e-06, 7.9576821e-06, 7.9570800e-06,\n",
       "       7.9560477e-06, 7.9545407e-06, 7.9525189e-06, 7.9499287e-06,\n",
       "       7.9467491e-06, 7.9429346e-06, 7.9384627e-06, 7.9333286e-06,\n",
       "       7.9275151e-06, 7.9210122e-06, 7.9138363e-06, 7.9060101e-06,\n",
       "       7.8975509e-06, 7.8884759e-06, 7.8788289e-06, 7.8686444e-06,\n",
       "       7.8579660e-06, 7.8468402e-06, 7.8353150e-06, 7.8234325e-06,\n",
       "       7.8112316e-06, 7.7987688e-06, 7.7860805e-06, 7.7732057e-06,\n",
       "       7.7601835e-06, 7.7470550e-06, 7.7338609e-06, 7.7206241e-06,\n",
       "       7.7073792e-06, 7.6941460e-06, 7.6809665e-06, 7.6678525e-06],\n",
       "      dtype=float32)"
      ]
     },
     "execution_count": 121,
     "metadata": {},
     "output_type": "execute_result"
    },
    {
     "data": {
      "image/png": "[encoded data removed]",
      "text/plain": [
       "<Figure size 432x288 with 1 Axes>"
      ]
     },
     "metadata": {
      "needs_background": "light"
     },
     "output_type": "display_data"
    }
   ],
   "source": [
    "grav_calculate(x,z,x_obs = tf.linspace(-70., 70.,500),R = 70)"
   ]
  },
  {
   "cell_type": "code",
   "execution_count": 122,
   "metadata": {
    "ExecuteTime": {
     "end_time": "2020-01-23T17:00:28.555960Z",
     "start_time": "2020-01-23T17:00:28.551683Z"
    }
   },
   "outputs": [
    {
     "data": {
      "text/plain": [
       "<tf.Tensor: shape=(20,), dtype=float32, numpy=\n",
       "array([ -5.1785946, -20.606672 , -11.302174 ,  -5.881212 , -25.273802 ,\n",
       "       -25.910046 , -22.322052 , -21.430578 , -10.866999 ,  -8.264807 ,\n",
       "       -20.506378 ,  -2.7172203, -15.685033 ,  -4.4548607,  -1.9767189,\n",
       "       -15.243669 ,  -1.4924355,  -5.306797 , -27.638058 , -17.484085 ],\n",
       "      dtype=float32)>"
      ]
     },
     "execution_count": 122,
     "metadata": {},
     "output_type": "execute_result"
    }
   ],
   "source": [
    "True_position"
   ]
  },
  {
   "cell_type": "markdown",
   "metadata": {},
   "source": [
    "#### Gradient decent"
   ]
  },
  {
   "cell_type": "code",
   "execution_count": 123,
   "metadata": {
    "ExecuteTime": {
     "end_time": "2020-01-23T17:00:28.747599Z",
     "start_time": "2020-01-23T17:00:28.743391Z"
    }
   },
   "outputs": [],
   "source": [
    "mu = tf.random.uniform([Number_para],minval = -20,maxval = -2,seed = 1) # initial parameters"
   ]
  },
  {
   "cell_type": "code",
   "execution_count": 124,
   "metadata": {
    "ExecuteTime": {
     "end_time": "2020-01-23T17:00:28.939272Z",
     "start_time": "2020-01-23T17:00:28.935237Z"
    }
   },
   "outputs": [
    {
     "data": {
      "text/plain": [
       "<tf.Tensor: shape=(20,), dtype=float32, numpy=\n",
       "array([-16.95835  ,  -2.494133 ,  -3.7934685, -17.015095 , -17.381754 ,\n",
       "       -11.354611 , -19.550795 ,  -2.1369534, -19.489628 , -18.08309  ,\n",
       "       -11.849029 ,  -4.2931557,  -7.620432 , -15.534253 ,  -2.7404747,\n",
       "       -15.672891 ,  -8.173765 , -16.082691 ,  -4.708123 , -16.539717 ],\n",
       "      dtype=float32)>"
      ]
     },
     "execution_count": 124,
     "metadata": {},
     "output_type": "execute_result"
    }
   ],
   "source": [
    "mu"
   ]
  },
  {
   "cell_type": "code",
   "execution_count": 125,
   "metadata": {
    "ExecuteTime": {
     "end_time": "2020-01-23T17:00:32.834574Z",
     "start_time": "2020-01-23T17:00:29.125198Z"
    }
   },
   "outputs": [],
   "source": [
    "with tf.GradientTape() as t:  \n",
    "    t.watch(x)\n",
    "    loss = joint_log_prob(D_noise,x,z,mu) # negative log posterior\n",
    "dlossdmu = t.gradient(loss,x)\n",
    "    "
   ]
  },
  {
   "cell_type": "code",
   "execution_count": 126,
   "metadata": {
    "ExecuteTime": {
     "end_time": "2020-01-23T17:00:33.045557Z",
     "start_time": "2020-01-23T17:00:33.041457Z"
    }
   },
   "outputs": [
    {
     "name": "stdout",
     "output_type": "stream",
     "text": [
      "tf.Tensor(\n",
      "[ 1.3574000e+01  7.6572791e-02  4.9998987e-01 -1.8129483e-01\n",
      " -8.4358275e-02 -8.3550394e-02  8.6795628e-01  1.0920365e-01\n",
      " -8.4148121e-01  9.1939771e-01  1.3841173e-01  5.6429946e-01\n",
      "  6.6754389e-01 -2.8756633e+00  6.0708368e-01  2.1322219e+00\n",
      " -4.5891458e-01  1.4962149e+00 -3.8619380e+00 -4.6126862e+00\n",
      "  3.6213236e+00  4.0932961e+00  5.6598198e-01 -1.4003656e+01\n",
      "  1.3574001e+01 -7.2839308e-01 -6.7711430e+00 -7.2934361e+00\n",
      "  8.4656830e+00  6.3556652e+00 -2.5732107e+00  1.1757703e+00\n",
      " -4.7702951e+00 -3.4581890e+00  4.4610538e+00 -7.4482918e-01\n",
      " -5.9806097e-01 -4.9196833e-01 -3.0810595e+00  2.8747721e+00\n",
      "  1.2891984e-01 -2.8378124e+00  1.0448316e+00 -1.3065413e+00\n",
      "  1.1816800e-02  7.8002894e-01  1.6873986e-02 -1.3519277e+01], shape=(48,), dtype=float32)\n"
     ]
    }
   ],
   "source": [
    "print(dlossdmu)"
   ]
  },
  {
   "cell_type": "code",
   "execution_count": 127,
   "metadata": {
    "ExecuteTime": {
     "end_time": "2020-01-23T17:01:08.066021Z",
     "start_time": "2020-01-23T17:00:33.234634Z"
    }
   },
   "outputs": [
    {
     "name": "stdout",
     "output_type": "stream",
     "text": [
      "Iteration 0\n",
      "Iteration 1\n",
      "Iteration 2\n",
      "Iteration 3\n",
      "Iteration 4\n",
      "Iteration 5\n",
      "Iteration 6\n",
      "Iteration 7\n",
      "Iteration 8\n",
      "Iteration 9\n"
     ]
    }
   ],
   "source": [
    "for i in range(10):\n",
    "    with tf.GradientTape() as t:  \n",
    "        t.watch(z)\n",
    "        loss = tf.negative(joint_log_prob(D_noise,x,z,mu)) # negative log posterior\n",
    "        dlossdmu = t.gradient(loss,z)\n",
    "    mu = mu-0.01*dlossdmu[Number_para+6:2*Number_para+6]\n",
    "    print('Iteration',i)"
   ]
  },
  {
   "cell_type": "code",
   "execution_count": 128,
   "metadata": {
    "ExecuteTime": {
     "end_time": "2020-01-23T17:01:08.257316Z",
     "start_time": "2020-01-23T17:01:08.253555Z"
    }
   },
   "outputs": [
    {
     "data": {
      "text/plain": [
       "<tf.Tensor: shape=(20,), dtype=float32, numpy=\n",
       "array([ -5.1785946, -20.606672 , -11.302174 ,  -5.881212 , -25.273802 ,\n",
       "       -25.910046 , -22.322052 , -21.430578 , -10.866999 ,  -8.264807 ,\n",
       "       -20.506378 ,  -2.7172203, -15.685033 ,  -4.4548607,  -1.9767189,\n",
       "       -15.243669 ,  -1.4924355,  -5.306797 , -27.638058 , -17.484085 ],\n",
       "      dtype=float32)>"
      ]
     },
     "execution_count": 128,
     "metadata": {},
     "output_type": "execute_result"
    }
   ],
   "source": [
    "True_position"
   ]
  },
  {
   "cell_type": "code",
   "execution_count": 129,
   "metadata": {
    "ExecuteTime": {
     "end_time": "2020-01-23T17:01:08.446634Z",
     "start_time": "2020-01-23T17:01:08.442877Z"
    }
   },
   "outputs": [
    {
     "data": {
      "text/plain": [
       "<tf.Tensor: shape=(20,), dtype=float32, numpy=\n",
       "array([-16.95835  ,  -2.494133 ,  -3.7934685, -17.015095 , -17.381754 ,\n",
       "       -11.354611 , -19.550795 ,  -2.1369534, -19.489628 , -18.08309  ,\n",
       "       -11.849029 ,  -4.2931557,  -7.620432 , -15.534253 ,  -2.7404747,\n",
       "       -15.672891 ,  -8.173765 , -16.082691 ,  -4.708123 , -16.539717 ],\n",
       "      dtype=float32)>"
      ]
     },
     "execution_count": 129,
     "metadata": {},
     "output_type": "execute_result"
    }
   ],
   "source": [
    "MAP"
   ]
  },
  {
   "cell_type": "code",
   "execution_count": 130,
   "metadata": {
    "ExecuteTime": {
     "end_time": "2020-01-23T17:01:08.652514Z",
     "start_time": "2020-01-23T17:01:08.648304Z"
    }
   },
   "outputs": [
    {
     "data": {
      "text/plain": [
       "<tf.Tensor: shape=(20,), dtype=float32, numpy=\n",
       "array([-17.35906  ,  -3.6524408,  -4.7564692, -17.556402 , -17.92684  ,\n",
       "       -12.013368 , -20.136013 ,  -2.76296  , -19.774555 , -18.23842  ,\n",
       "       -11.949288 ,  -4.3704295,  -7.377816 , -15.079431 ,  -2.2329943,\n",
       "       -15.176665 ,  -7.820381 , -16.018671 ,  -4.9983654, -16.60744  ],\n",
       "      dtype=float32)>"
      ]
     },
     "execution_count": 130,
     "metadata": {},
     "output_type": "execute_result"
    }
   ],
   "source": [
    "MAP = mu\n",
    "MAP"
   ]
  },
  {
   "cell_type": "code",
   "execution_count": 131,
   "metadata": {
    "ExecuteTime": {
     "end_time": "2020-01-23T17:03:05.658080Z",
     "start_time": "2020-01-23T17:03:05.382565Z"
    }
   },
   "outputs": [
    {
     "data": {
      "image/png": "[encoded data removed]",
      "text/plain": [
       "<Figure size 432x288 with 1 Axes>"
      ]
     },
     "metadata": {
      "needs_background": "light"
     },
     "output_type": "display_data"
    }
   ],
   "source": [
    "draw(points,MAP,R = 70)"
   ]
  },
  {
   "cell_type": "code",
   "execution_count": 132,
   "metadata": {
    "ExecuteTime": {
     "end_time": "2020-01-23T17:03:06.378657Z",
     "start_time": "2020-01-23T17:03:06.111362Z"
    }
   },
   "outputs": [
    {
     "data": {
      "image/png": "[encoded data removed]",
      "text/plain": [
       "<Figure size 432x288 with 1 Axes>"
      ]
     },
     "metadata": {
      "needs_background": "light"
     },
     "output_type": "display_data"
    }
   ],
   "source": [
    "draw(points,True_position,R=70)"
   ]
  },
  {
   "cell_type": "markdown",
   "metadata": {},
   "source": [
    "### Random Walk MCMC"
   ]
  },
  {
   "cell_type": "code",
   "execution_count": 133,
   "metadata": {
    "ExecuteTime": {
     "end_time": "2020-01-23T17:03:49.535837Z",
     "start_time": "2020-01-23T17:03:12.036915Z"
    }
   },
   "outputs": [
    {
     "name": "stderr",
     "output_type": "stream",
     "text": [
      "/Users/zhouji/anaconda3/envs/bys/lib/python3.7/site-packages/tensorflow_probability/python/mcmc/sample.py:333: UserWarning: Tracing all kernel results by default is deprecated. Set the `trace_fn` argument to None (the future default value) or an explicit callback that traces the values you are interested in.\n",
      "  warnings.warn(\"Tracing all kernel results by default is deprecated. Set \"\n"
     ]
    }
   ],
   "source": [
    "num_results = 10\n",
    "burnin = 0\n",
    "\n",
    "initial_chain_state = [\n",
    "    -10 * tf.ones([Number_para], dtype=tf.float32, name=\"init_t1\"),\n",
    "]\n",
    "\n",
    "unnormalized_posterior_log_prob = lambda *args: joint_log_prob(D,x,z,*args)\n",
    "\n",
    "def gauss_new_state_fn(scale, dtype):\n",
    "  gauss = tfd.Normal(loc=dtype(0), scale=dtype(scale))\n",
    "  def _fn(state_parts, seed):\n",
    "    next_state_parts = []\n",
    "    seed_stream  = tfp.util.SeedStream(seed, salt='RandomNormal')\n",
    "    for sp in state_parts:\n",
    "      next_state_parts.append(sp + gauss.sample(\n",
    "        sample_shape=sp.shape, seed=seed_stream()))\n",
    "    return next_state_parts\n",
    "  return _fn\n",
    "\n",
    "dtype = np.float32\n",
    "\n",
    "samples, kernel_results = tfp.mcmc.sample_chain(\n",
    "    num_results=num_results,\n",
    "    current_state=initial_chain_state,\n",
    "    kernel=tfp.mcmc.RandomWalkMetropolis(\n",
    "        target_log_prob_fn=unnormalized_posterior_log_prob,\n",
    "        new_state_fn=gauss_new_state_fn(scale=1, dtype=dtype)),\n",
    "    num_burnin_steps=burnin,\n",
    "    num_steps_between_results=1,  # Thinning.\n",
    "    parallel_iterations=1)\n",
    "\n",
    "samples = tf.stack(samples, axis=-1)\n",
    "accepted = kernel_results.is_accepted\n",
    "\n",
    "samples = samples.numpy()\n",
    "accepted = accepted.numpy()"
   ]
  },
  {
   "cell_type": "code",
   "execution_count": 134,
   "metadata": {
    "ExecuteTime": {
     "end_time": "2020-01-23T17:03:49.767389Z",
     "start_time": "2020-01-23T17:03:49.764548Z"
    }
   },
   "outputs": [],
   "source": [
    "accept_index = np.where(accepted==True)\n",
    "accepted_samples = samples[accept_index]"
   ]
  },
  {
   "cell_type": "code",
   "execution_count": 28,
   "metadata": {
    "ExecuteTime": {
     "end_time": "2020-01-23T00:47:19.236334Z",
     "start_time": "2020-01-23T00:47:19.233020Z"
    }
   },
   "outputs": [
    {
     "data": {
      "text/plain": [
       "0.5"
      ]
     },
     "execution_count": 28,
     "metadata": {},
     "output_type": "execute_result"
    }
   ],
   "source": [
    "accepted_samples.shape[0]/num_results"
   ]
  },
  {
   "cell_type": "code",
   "execution_count": 29,
   "metadata": {
    "ExecuteTime": {
     "end_time": "2020-01-23T00:47:19.892218Z",
     "start_time": "2020-01-23T00:47:19.694678Z"
    }
   },
   "outputs": [
    {
     "data": {
      "image/png": "[encoded data removed]",
      "text/plain": [
       "<Figure size 432x288 with 1 Axes>"
      ]
     },
     "metadata": {
      "needs_background": "light"
     },
     "output_type": "display_data"
    }
   ],
   "source": [
    "draw_MCMC(points,accepted_samples[:,:,0],Truth=True_position) # [:,:,0] transpost the results for plotting"
   ]
  },
  {
   "cell_type": "code",
   "execution_count": 30,
   "metadata": {
    "ExecuteTime": {
     "end_time": "2020-01-23T00:47:20.510716Z",
     "start_time": "2020-01-23T00:47:20.338819Z"
    }
   },
   "outputs": [
    {
     "data": {
      "image/png": "[encoded data removed]",
      "text/plain": [
       "<Figure size 432x288 with 1 Axes>"
      ]
     },
     "metadata": {
      "needs_background": "light"
     },
     "output_type": "display_data"
    }
   ],
   "source": [
    "draw_MCMC(points,accepted_samples[0:2,:,0],Truth=True_position)"
   ]
  },
  {
   "cell_type": "code",
   "execution_count": 31,
   "metadata": {
    "ExecuteTime": {
     "end_time": "2020-01-23T00:47:21.019998Z",
     "start_time": "2020-01-23T00:47:21.015701Z"
    }
   },
   "outputs": [
    {
     "data": {
      "text/plain": [
       "<tf.Variable 'Variable:0' shape=(12, 2) dtype=float32, numpy=\n",
       "array([[-200.       ,  -40.       ],\n",
       "       [ -70.       ,  -40.       ],\n",
       "       [ -23.333334 ,  -33.841675 ],\n",
       "       [  23.333334 ,  -26.392065 ],\n",
       "       [  70.       ,  -40.       ],\n",
       "       [ 200.       ,  -40.       ],\n",
       "       [ 200.       ,  -20.       ],\n",
       "       [  70.       ,  -20.       ],\n",
       "       [  23.333334 ,   -6.3920655],\n",
       "       [ -23.333334 ,  -13.841675 ],\n",
       "       [ -70.       ,  -20.       ],\n",
       "       [-200.       ,  -20.       ]], dtype=float32)>"
      ]
     },
     "execution_count": 31,
     "metadata": {},
     "output_type": "execute_result"
    }
   ],
   "source": [
    "points"
   ]
  },
  {
   "cell_type": "code",
   "execution_count": 32,
   "metadata": {
    "ExecuteTime": {
     "end_time": "2020-01-23T00:47:21.477288Z",
     "start_time": "2020-01-23T00:47:21.473687Z"
    }
   },
   "outputs": [
    {
     "data": {
      "text/plain": [
       "<tf.Tensor: shape=(2,), dtype=float32, numpy=array([ -5.1785946, -20.606672 ], dtype=float32)>"
      ]
     },
     "execution_count": 32,
     "metadata": {},
     "output_type": "execute_result"
    }
   ],
   "source": [
    "True_position"
   ]
  },
  {
   "cell_type": "code",
   "execution_count": 33,
   "metadata": {
    "ExecuteTime": {
     "end_time": "2020-01-23T00:47:22.070835Z",
     "start_time": "2020-01-23T00:47:21.914942Z"
    }
   },
   "outputs": [
    {
     "data": {
      "image/png": "[encoded data removed]",
      "text/plain": [
       "<Figure size 432x288 with 1 Axes>"
      ]
     },
     "metadata": {
      "needs_background": "light"
     },
     "output_type": "display_data"
    }
   ],
   "source": [
    "draw(points,True_position,R=70)"
   ]
  },
  {
   "cell_type": "markdown",
   "metadata": {},
   "source": [
    "# Hessian Method"
   ]
  },
  {
   "cell_type": "code",
   "execution_count": 89,
   "metadata": {
    "ExecuteTime": {
     "end_time": "2020-01-23T15:27:06.915563Z",
     "start_time": "2020-01-23T15:27:06.190295Z"
    }
   },
   "outputs": [
    {
     "data": {
      "text/plain": [
       "<tf.Tensor: shape=(), dtype=float32, numpy=-73.736305>"
      ]
     },
     "execution_count": 89,
     "metadata": {},
     "output_type": "execute_result"
    }
   ],
   "source": [
    "joint_log_prob(D,x,z,MAP)"
   ]
  },
  {
   "cell_type": "code",
   "execution_count": 93,
   "metadata": {
    "ExecuteTime": {
     "end_time": "2020-01-23T16:05:08.607029Z",
     "start_time": "2020-01-23T15:57:30.191598Z"
    }
   },
   "outputs": [
    {
     "name": "stdout",
     "output_type": "stream",
     "text": [
      "tf.Tensor(\n",
      "[[ 0.08976986  0.2197499   0.05135277 ... -0.0389077  -0.14892656\n",
      "  -0.05482849]\n",
      " [ 0.21974984  0.5174447   0.12156007 ... -0.09293704 -0.34956864\n",
      "  -0.12668237]\n",
      " [ 0.05135274  0.1215601   0.03200173 ... -0.0221228  -0.08163413\n",
      "  -0.02906491]\n",
      " ...\n",
      " [-0.0389077  -0.0929371  -0.0221228  ...  0.08053702  0.06576653\n",
      "   0.02215236]\n",
      " [-0.14892656 -0.34956864 -0.08163416 ...  0.06576658  0.2804089\n",
      "   0.09511851]\n",
      " [-0.05482849 -0.12668237 -0.02906491 ...  0.02215235  0.09511853\n",
      "   0.04225738]], shape=(48, 48), dtype=float32)\n"
     ]
    }
   ],
   "source": [
    "with tf.GradientTape() as t:\n",
    "    with tf.GradientTape() as tt:\n",
    "        tt.watch(z)\n",
    "        loss = tf.negative(joint_log_prob(D,x,z,MAP))\n",
    "    jac = tt.gradient(loss,z,unconnected_gradients='zero')\n",
    "hess = t.jacobian(jac,z,unconnected_gradients = 'none')\n",
    "print(hess)"
   ]
  },
  {
   "cell_type": "code",
   "execution_count": 58,
   "metadata": {
    "ExecuteTime": {
     "end_time": "2020-01-23T15:21:00.906618Z",
     "start_time": "2020-01-23T15:13:11.933821Z"
    },
    "scrolled": true
   },
   "outputs": [
    {
     "name": "stdout",
     "output_type": "stream",
     "text": [
      "WARNING:tensorflow:Calling GradientTape.gradient on a persistent tape inside its context is significantly less efficient than calling it outside the context (it causes the gradient ops to be recorded on the tape, leading to increased CPU and memory usage). Only call GradientTape.gradient inside the context if you actually want to trace the gradient in order to compute higher order derivatives.\n",
      "tf.Tensor(\n",
      "[[ 0.08976985  0.2197499   0.05135278 ... -0.03890769 -0.14892656\n",
      "  -0.05482849]\n",
      " [ 0.21974984  0.5174447   0.12156007 ... -0.09293701 -0.34956867\n",
      "  -0.12668237]\n",
      " [ 0.05135274  0.12156019  0.03200172 ... -0.02212279 -0.08163416\n",
      "  -0.02906491]\n",
      " ...\n",
      " [-0.0389077  -0.0929371  -0.02212279 ...  0.08053707  0.06576666\n",
      "   0.02215236]\n",
      " [-0.14892656 -0.34956864 -0.08163415 ...  0.06576656  0.2804088\n",
      "   0.09511851]\n",
      " [-0.05482849 -0.12668237 -0.02906491 ...  0.02215237  0.09511853\n",
      "   0.04225738]], shape=(48, 48), dtype=float32)\n"
     ]
    }
   ],
   "source": [
    "with tf.GradientTape(persistent=True,watch_accessed_variables=False) as tt:\n",
    "    tt.watch(z)\n",
    "    loss = tf.negative(joint_log_prob(D,x,z,MAP))\n",
    "    jac = tt.gradient(loss,z,unconnected_gradients='zero')\n",
    "with t.stop_recording():\n",
    "    hess = tt.jacobian(jac,z,unconnected_gradients = 'none')\n",
    "print(hess)"
   ]
  },
  {
   "cell_type": "code",
   "execution_count": null,
   "metadata": {
    "ExecuteTime": {
     "start_time": "2020-01-22T19:55:01.580Z"
    }
   },
   "outputs": [],
   "source": [
    "print(hess)"
   ]
  },
  {
   "cell_type": "code",
   "execution_count": 59,
   "metadata": {
    "ExecuteTime": {
     "end_time": "2020-01-23T15:21:51.006013Z",
     "start_time": "2020-01-23T15:21:50.976339Z"
    }
   },
   "outputs": [],
   "source": [
    "HessMatrix = np.empty(shape = [Number_para,Number_para])\n",
    "for x,i1 in enumerate(range(Number_para+6,2*Number_para+6)):\n",
    "    for y,i2 in enumerate(range(Number_para+6,2*Number_para+6)):\n",
    "        HessMatrix[x,y] = hess[i1,i2]"
   ]
  },
  {
   "cell_type": "code",
   "execution_count": 60,
   "metadata": {
    "ExecuteTime": {
     "end_time": "2020-01-23T15:21:51.310670Z",
     "start_time": "2020-01-23T15:21:51.304160Z"
    }
   },
   "outputs": [
    {
     "name": "stdout",
     "output_type": "stream",
     "text": [
      "[[0.05872279 0.00623582 0.02576999 0.05594676 0.07026859 0.07606975\n",
      "  0.05061729 0.02731137 0.03236937 0.03158258 0.02956313 0.01702958\n",
      "  0.01250388 0.01399422 0.01450446 0.01415169 0.01032265 0.00724968\n",
      "  0.00372577 0.00438201]\n",
      " [0.00623583 0.01955487 0.00317126 0.03631965 0.04554231 0.04919994\n",
      "  0.03199875 0.01654427 0.01851492 0.01701385 0.01461162 0.00808847\n",
      "  0.00606555 0.00670896 0.00626126 0.00632894 0.00462308 0.00341967\n",
      "  0.00179283 0.00221016]\n",
      " [0.02576999 0.00317147 0.03579789 0.083551   0.10710803 0.11555287\n",
      "  0.07402032 0.0371366  0.03977187 0.03472524 0.0273969  0.0145126\n",
      "  0.01117872 0.01224692 0.01009541 0.0106862  0.00782199 0.00614921\n",
      "  0.00329491 0.00426121]\n",
      " [0.05594673 0.03631965 0.08355089 0.27284175 0.24722904 0.25022933\n",
      "  0.16219844 0.08335704 0.09240484 0.08404108 0.07109711 0.0389635\n",
      "  0.02890752 0.03126755 0.02712716 0.02799367 0.02043355 0.01556941\n",
      "  0.0082452  0.01040313]\n",
      " [0.07026857 0.04554234 0.10710795 0.24722904 0.42171919 0.3402794\n",
      "  0.20460901 0.10629258 0.11952284 0.11048037 0.09595887 0.05314187\n",
      "  0.03856701 0.04100718 0.03506    0.03616021 0.02634934 0.02009282\n",
      "  0.0106354  0.01341325]\n",
      " [0.07606974 0.0491999  0.11555285 0.25022918 0.3402794  0.48093885\n",
      "  0.23538405 0.11737479 0.13433911 0.12662506 0.11341573 0.06349441\n",
      "  0.04469487 0.04618952 0.03792036 0.03930982 0.02856677 0.02198846\n",
      "  0.01166214 0.01478979]\n",
      " [0.05061726 0.03199875 0.07402031 0.16219831 0.20460887 0.23538405\n",
      "  0.23085733 0.09124823 0.1219079  0.13061434 0.13789213 0.0820485\n",
      "  0.05317691 0.05235872 0.04580423 0.04542287 0.03275005 0.02382784\n",
      "  0.01234025 0.01486671]\n",
      " [0.02731137 0.01654427 0.0371366  0.08335726 0.10629275 0.11737502\n",
      "  0.09124833 0.093532   0.0962375  0.11768685 0.13822421 0.0845935\n",
      "  0.05059787 0.04548974 0.03547648 0.03522239 0.02506938 0.01848318\n",
      "  0.00955998 0.01154812]\n",
      " [0.03236937 0.0185149  0.03977183 0.09240472 0.11952282 0.13433909\n",
      "  0.12190793 0.09623729 0.20718761 0.20444083 0.2546382  0.15834999\n",
      "  0.09513117 0.08789995 0.07730491 0.07443605 0.05315516 0.03724514\n",
      "  0.01891805 0.02183424]\n",
      " [0.03158253 0.01701385 0.03472525 0.08404107 0.11048033 0.12662515\n",
      "  0.13061428 0.11768681 0.20444098 0.30211341 0.33173379 0.21124586\n",
      "  0.12603976 0.11610009 0.10368982 0.0991637  0.07076518 0.0490614\n",
      "  0.02480452 0.02830314]\n",
      " [0.02956313 0.01461164 0.02739687 0.07109699 0.09595901 0.11341571\n",
      "  0.13789214 0.13822412 0.25463822 0.33173349 0.46287972 0.27334234\n",
      "  0.1576601  0.13911401 0.11430787 0.11029451 0.07819716 0.05532822\n",
      "  0.02810847 0.03257072]\n",
      " [0.01702961 0.00808849 0.01451256 0.03896351 0.05314188 0.06349435\n",
      "  0.08204854 0.08459344 0.15835004 0.21124579 0.27334228 0.2653712\n",
      "  0.1160357  0.09707204 0.09267018 0.08744947 0.06256448 0.0423139\n",
      "  0.02120336 0.02360987]\n",
      " [0.01250386 0.00606558 0.01117872 0.02890752 0.03856708 0.04469485\n",
      "  0.05317691 0.05059789 0.09513117 0.12603977 0.15766016 0.11603556\n",
      "  0.17366309 0.11262154 0.16356777 0.14691494 0.10751557 0.06509665\n",
      "  0.03145727 0.03112091]\n",
      " [0.01399426 0.00670898 0.01224685 0.03126754 0.04100722 0.0461895\n",
      "  0.05235871 0.04548974 0.08789989 0.11610012 0.13911411 0.09707197\n",
      "  0.11262141 0.22216822 0.32775933 0.28843355 0.21244849 0.1243216\n",
      "  0.05933815 0.0561359 ]\n",
      " [0.01450441 0.00626123 0.01009538 0.02712709 0.03506008 0.03792036\n",
      "  0.04580421 0.03547656 0.07730481 0.10368977 0.11430776 0.09267005\n",
      "  0.16356756 0.32775956 0.69418573 0.50754702 0.41483173 0.2386927\n",
      "  0.11319613 0.10453103]\n",
      " [0.01415171 0.00632891 0.0106862  0.02799377 0.03616025 0.03930973\n",
      "  0.0454228  0.03522231 0.07443606 0.09916366 0.11029448 0.08744939\n",
      "  0.14691475 0.28843343 0.50754708 0.40685275 0.34160995 0.21027803\n",
      "  0.09977348 0.09231805]\n",
      " [0.01032265 0.00462307 0.00782198 0.0204336  0.02634934 0.02856677\n",
      "  0.0327501  0.02506934 0.05315525 0.07076522 0.07819723 0.06256434\n",
      "  0.10751548 0.21244843 0.41483155 0.3416099  0.28986102 0.15430161\n",
      "  0.07365029 0.06809714]\n",
      " [0.0072497  0.00341965 0.00614919 0.0155694  0.02009278 0.02198847\n",
      "  0.02382779 0.01848313 0.03724506 0.04906133 0.05532826 0.04231389\n",
      "  0.06509653 0.12432165 0.23869278 0.21027811 0.15430152 0.14310187\n",
      "  0.04921213 0.03957647]\n",
      " [0.00372573 0.00179283 0.00329487 0.00824518 0.01063535 0.01166208\n",
      "  0.01234019 0.00955993 0.01891804 0.02480445 0.02810835 0.02120338\n",
      "  0.03145725 0.05933821 0.11319613 0.09977353 0.07365032 0.04921209\n",
      "  0.10621402 0.02479824]\n",
      " [0.00438202 0.00221015 0.00426122 0.01040318 0.01341324 0.01478982\n",
      "  0.01486674 0.01154811 0.02183424 0.02830313 0.03257073 0.02360984\n",
      "  0.03112089 0.05613585 0.10453114 0.09231809 0.06809709 0.03957644\n",
      "  0.02479827 0.08053707]]\n"
     ]
    }
   ],
   "source": [
    "print(HessMatrix)"
   ]
  },
  {
   "cell_type": "code",
   "execution_count": null,
   "metadata": {
    "ExecuteTime": {
     "end_time": "2020-01-18T10:49:42.100727Z",
     "start_time": "2020-01-18T01:05:13.034Z"
    }
   },
   "outputs": [],
   "source": [
    "def Laplace_appro(H,C_prior):\n",
    "    return tf.linalg.inv((tf.add(H,tf.linalg.inv(C_prior))))\n"
   ]
  },
  {
   "cell_type": "code",
   "execution_count": null,
   "metadata": {
    "ExecuteTime": {
     "end_time": "2020-01-18T10:49:42.104159Z",
     "start_time": "2020-01-18T01:05:14.281Z"
    }
   },
   "outputs": [],
   "source": [
    "cov_post = Laplace_appro(HessMatrix,cov_prior)"
   ]
  },
  {
   "cell_type": "code",
   "execution_count": 100,
   "metadata": {
    "ExecuteTime": {
     "end_time": "2020-01-16T23:56:02.170438Z",
     "start_time": "2020-01-16T23:56:02.166361Z"
    }
   },
   "outputs": [
    {
     "data": {
      "text/plain": [
       "<tf.Tensor: shape=(3, 3), dtype=float32, numpy=\n",
       "array([[ 2.2091596, -1.6563011,  0.5120193],\n",
       "       [-1.656301 ,  4.037153 , -1.9677684],\n",
       "       [ 0.5120189, -1.9677678,  2.8830686]], dtype=float32)>"
      ]
     },
     "execution_count": 100,
     "metadata": {},
     "output_type": "execute_result"
    }
   ],
   "source": [
    "cov_post"
   ]
  },
  {
   "cell_type": "code",
   "execution_count": 101,
   "metadata": {
    "ExecuteTime": {
     "end_time": "2020-01-16T23:56:03.634533Z",
     "start_time": "2020-01-16T23:56:03.620730Z"
    }
   },
   "outputs": [],
   "source": [
    "@tf.function\n",
    "def matrixcompute(matrix1,matrix2,Cov):\n",
    "    matrix1 = tf.cast(matrix1,tf.float32)\n",
    "    matrix2 = tf.cast(matrix2,tf.float32)\n",
    "    matrix = tf.subtract(matrix1, matrix2)\n",
    "    matrix = tf.reshape(matrix,[matrix.shape[0],1])\n",
    "    matrix_T = tf.transpose(matrix)\n",
    "    Cov_inv = tf.linalg.inv(Cov)\n",
    "    result = tf.multiply(tf.constant(1/2),tf.matmul(tf.matmul(matrix_T,Cov_inv),matrix))\n",
    "    return result\n",
    "\n",
    "def acceptance_gpCN(m_current , m_proposed):\n",
    "    delta_current = tf.subtract(negative_log_post(m_current),matrixcompute(m_current,MAP,cov_post))\n",
    "    delta_proposed = tf.subtract(negative_log_post(m_proposed),matrixcompute(m_proposed,MAP,cov_post))\n",
    "\n",
    "    ## calculate accept ratio if exp()<1\n",
    "    accept_ratio = tf.exp(tf.subtract(delta_current,delta_proposed))\n",
    "    acceptsample = tfd.Sample(\n",
    "    tfd.Uniform(0., 1.),\n",
    "    sample_shape=[1,1])\n",
    "    sample = acceptsample.sample()\n",
    "    \n",
    "    if(accept_ratio > sample):\n",
    "        return True\n",
    "    else:\n",
    "        return False\n",
    "        \n",
    "from IPython.display import clear_output\n",
    "# define leaning rate\n",
    "beta = 0.4\n",
    "\n",
    "@tf.function\n",
    "def draw_proposal(m_current):\n",
    "    \n",
    "    _term1 = MAP\n",
    "    \n",
    "    ## sqrt term\n",
    "    tem_1 = tf.convert_to_tensor(tf.sqrt(1-beta**2),dtype = tf.float32)\n",
    "    ## sqrt(1-beta^2)()\n",
    "    _term2 = tf.multiply(tem_1,(tf.subtract(m_current,MAP)))\n",
    "    \n",
    "    Xi = tfd.MultivariateNormalFullCovariance(\n",
    "            loc = 0,\n",
    "            covariance_matrix= cov_post)\n",
    "\n",
    "    Xi_s = tfd.Sample(Xi)\n",
    "    _term3 = tf.multiply(beta,Xi_s.sample())\n",
    "    \n",
    "    m_proposed = tf.add(MAP,tf.add(_term2,_term3))\n",
    "    \n",
    "    return m_proposed       "
   ]
  },
  {
   "cell_type": "code",
   "execution_count": 102,
   "metadata": {
    "ExecuteTime": {
     "end_time": "2020-01-16T23:56:05.996091Z",
     "start_time": "2020-01-16T23:56:05.933968Z"
    }
   },
   "outputs": [
    {
     "data": {
      "text/plain": [
       "<tf.Tensor: shape=(3,), dtype=float32, numpy=array([ -6.25108 , -18.79881 , -11.842674], dtype=float32)>"
      ]
     },
     "execution_count": 102,
     "metadata": {},
     "output_type": "execute_result"
    }
   ],
   "source": [
    "draw_proposal(MAP)"
   ]
  },
  {
   "cell_type": "code",
   "execution_count": null,
   "metadata": {
    "ExecuteTime": {
     "end_time": "2020-01-18T10:49:42.107218Z",
     "start_time": "2020-01-18T01:05:21.863Z"
    }
   },
   "outputs": [],
   "source": [
    "def negative_log_post(mu):\n",
    "    return(tf.negative(joint_log_prob(D,points,mu)))"
   ]
  },
  {
   "cell_type": "code",
   "execution_count": 53,
   "metadata": {
    "ExecuteTime": {
     "end_time": "2020-01-20T18:38:30.169284Z",
     "start_time": "2020-01-20T18:38:30.140615Z"
    }
   },
   "outputs": [
    {
     "ename": "NameError",
     "evalue": "name 'draw_proposal' is not defined",
     "output_type": "error",
     "traceback": [
      "\u001b[0;31m---------------------------------------------------------------------------\u001b[0m",
      "\u001b[0;31mNameError\u001b[0m                                 Traceback (most recent call last)",
      "\u001b[0;32m<ipython-input-53-46a144aba6b4>\u001b[0m in \u001b[0;36m<module>\u001b[0;34m\u001b[0m\n\u001b[1;32m     28\u001b[0m \u001b[0;31m#     print(\"acceptance rate = %0.1f%%\", 100*np.shape(accepted)[0]/steps)\u001b[0m\u001b[0;34m\u001b[0m\u001b[0;34m\u001b[0m\u001b[0;34m\u001b[0m\u001b[0m\n\u001b[1;32m     29\u001b[0m \u001b[0;34m\u001b[0m\u001b[0m\n\u001b[0;32m---> 30\u001b[0;31m \u001b[0maccepted\u001b[0m\u001b[0;34m,\u001b[0m\u001b[0mrejected\u001b[0m \u001b[0;34m=\u001b[0m \u001b[0mrun_chain\u001b[0m\u001b[0;34m(\u001b[0m\u001b[0;34m)\u001b[0m\u001b[0;34m\u001b[0m\u001b[0;34m\u001b[0m\u001b[0m\n\u001b[0m\u001b[1;32m     31\u001b[0m \u001b[0mnp\u001b[0m\u001b[0;34m.\u001b[0m\u001b[0mshape\u001b[0m\u001b[0;34m(\u001b[0m\u001b[0maccepted\u001b[0m\u001b[0;34m)\u001b[0m\u001b[0;34m[\u001b[0m\u001b[0;36m0\u001b[0m\u001b[0;34m]\u001b[0m\u001b[0;34m\u001b[0m\u001b[0;34m\u001b[0m\u001b[0m\n\u001b[1;32m     32\u001b[0m \u001b[0mprint\u001b[0m\u001b[0;34m(\u001b[0m\u001b[0;34m'Acceptance rate = %0.1f%%'\u001b[0m \u001b[0;34m%\u001b[0m \u001b[0;34m(\u001b[0m\u001b[0;36m100\u001b[0m\u001b[0;34m*\u001b[0m\u001b[0mnp\u001b[0m\u001b[0;34m.\u001b[0m\u001b[0mshape\u001b[0m\u001b[0;34m(\u001b[0m\u001b[0maccepted\u001b[0m\u001b[0;34m)\u001b[0m\u001b[0;34m[\u001b[0m\u001b[0;36m0\u001b[0m\u001b[0;34m]\u001b[0m\u001b[0;34m/\u001b[0m\u001b[0mnumber_of_steps\u001b[0m\u001b[0;34m)\u001b[0m\u001b[0;34m)\u001b[0m\u001b[0;34m\u001b[0m\u001b[0;34m\u001b[0m\u001b[0m\n",
      "\u001b[0;32m<ipython-input-53-46a144aba6b4>\u001b[0m in \u001b[0;36mrun_chain\u001b[0;34m()\u001b[0m\n\u001b[1;32m     14\u001b[0m     \u001b[0;32mfor\u001b[0m \u001b[0mk\u001b[0m \u001b[0;32min\u001b[0m \u001b[0mrange\u001b[0m\u001b[0;34m(\u001b[0m\u001b[0msteps\u001b[0m\u001b[0;34m+\u001b[0m\u001b[0mburn_in\u001b[0m\u001b[0;34m)\u001b[0m\u001b[0;34m:\u001b[0m\u001b[0;34m\u001b[0m\u001b[0;34m\u001b[0m\u001b[0m\n\u001b[1;32m     15\u001b[0m \u001b[0;34m\u001b[0m\u001b[0m\n\u001b[0;32m---> 16\u001b[0;31m         \u001b[0mm_proposed\u001b[0m \u001b[0;34m=\u001b[0m \u001b[0mdraw_proposal\u001b[0m\u001b[0;34m(\u001b[0m\u001b[0mm_current\u001b[0m\u001b[0;34m)\u001b[0m\u001b[0;34m\u001b[0m\u001b[0;34m\u001b[0m\u001b[0m\n\u001b[0m\u001b[1;32m     17\u001b[0m \u001b[0;34m\u001b[0m\u001b[0m\n\u001b[1;32m     18\u001b[0m \u001b[0;34m\u001b[0m\u001b[0m\n",
      "\u001b[0;31mNameError\u001b[0m: name 'draw_proposal' is not defined"
     ]
    }
   ],
   "source": [
    "mu_init = -10 * tf.ones([Number_para], dtype=tf.float32)\n",
    "\n",
    "number_of_steps = 2000\n",
    "def run_chain():\n",
    "    burn_in = 1000\n",
    "    steps = number_of_steps\n",
    "    k = 0\n",
    "    accepted = []\n",
    "    rejected = []\n",
    "\n",
    "    m_current = mu_init  # init m\n",
    "    \n",
    "    for k in range(steps+burn_in):\n",
    "\n",
    "        m_proposed = draw_proposal(m_current)\n",
    "\n",
    "        \n",
    "        if acceptance_gpCN(m_current,m_proposed):\n",
    "            m_current = m_proposed\n",
    "            if k > burn_in:\n",
    "                accepted.append(m_proposed.numpy())\n",
    "        else:\n",
    "            m_current = m_current\n",
    "            rejected.append(m_proposed.numpy())\n",
    "    \n",
    "    return accepted,rejected\n",
    "#     print(\"acceptance rate = %0.1f%%\", 100*np.shape(accepted)[0]/steps)\n",
    "    \n",
    "accepted,rejected = run_chain()\n",
    "np.shape(accepted)[0]\n",
    "print('Acceptance rate = %0.1f%%' % (100*np.shape(accepted)[0]/number_of_steps))\n",
    "\n",
    "accepted = np.array(accepted)\n",
    "\n"
   ]
  },
  {
   "cell_type": "markdown",
   "metadata": {},
   "source": [
    "gpCN seems not quite correct, the reason is demonstrated below in DEBUG:\n",
    "\n",
    "-  the main reason it's failed is the acceptence rate: negative log post minus the diff in $m_v$ makes the good proposal have big $\\Delta$\n",
    "\n",
    "let's try pCN first"
   ]
  },
  {
   "cell_type": "code",
   "execution_count": 105,
   "metadata": {
    "ExecuteTime": {
     "end_time": "2020-01-17T10:05:54.456313Z",
     "start_time": "2020-01-17T10:05:54.452272Z"
    }
   },
   "outputs": [
    {
     "data": {
      "text/plain": [
       "<tf.Tensor: shape=(3, 3), dtype=float32, numpy=\n",
       "array([[ 2.2091596, -1.6563011,  0.5120193],\n",
       "       [-1.656301 ,  4.037153 , -1.9677684],\n",
       "       [ 0.5120189, -1.9677678,  2.8830686]], dtype=float32)>"
      ]
     },
     "execution_count": 105,
     "metadata": {},
     "output_type": "execute_result"
    }
   ],
   "source": [
    "cov_post"
   ]
  },
  {
   "cell_type": "code",
   "execution_count": 58,
   "metadata": {
    "ExecuteTime": {
     "end_time": "2020-01-16T20:35:23.783245Z",
     "start_time": "2020-01-16T20:35:23.777766Z"
    }
   },
   "outputs": [
    {
     "data": {
      "text/plain": [
       "<tf.Tensor: shape=(3, 3), dtype=float32, numpy=\n",
       "array([[20.,  0.,  0.],\n",
       "       [ 0., 20.,  0.],\n",
       "       [ 0.,  0., 20.]], dtype=float32)>"
      ]
     },
     "execution_count": 58,
     "metadata": {},
     "output_type": "execute_result"
    }
   ],
   "source": [
    "cov_prior"
   ]
  },
  {
   "cell_type": "markdown",
   "metadata": {},
   "source": [
    "### try pCN MCMC"
   ]
  },
  {
   "cell_type": "markdown",
   "metadata": {},
   "source": [
    "first define a likelihood function rather than posteior function"
   ]
  },
  {
   "cell_type": "code",
   "execution_count": null,
   "metadata": {
    "ExecuteTime": {
     "end_time": "2020-01-18T10:49:42.110900Z",
     "start_time": "2020-01-18T01:05:30.712Z"
    }
   },
   "outputs": [],
   "source": [
    "def likelihood(D,points_copy,ps):\n",
    "\n",
    "    Gm_ = grav(points_copy,ps)\n",
    "    \n",
    "    mvn_likelihood = tfd.MultivariateNormalFullCovariance(\n",
    "            loc = Gm_,\n",
    "            covariance_matrix= cov)\n",
    "    \n",
    "    return mvn_likelihood.log_prob(D)\n",
    "\n",
    "def negative_likeli(D,points,ps):\n",
    "    return tf.negative(likelihood(D,points,ps))"
   ]
  },
  {
   "cell_type": "code",
   "execution_count": 164,
   "metadata": {
    "ExecuteTime": {
     "end_time": "2020-01-17T12:23:37.179515Z",
     "start_time": "2020-01-17T12:23:36.639091Z"
    }
   },
   "outputs": [
    {
     "data": {
      "text/plain": [
       "<tf.Tensor: shape=(), dtype=float32, numpy=-113.3639>"
      ]
     },
     "execution_count": 164,
     "metadata": {},
     "output_type": "execute_result"
    }
   ],
   "source": [
    "negative_likeli(D,points,m_test)"
   ]
  },
  {
   "cell_type": "code",
   "execution_count": 165,
   "metadata": {
    "ExecuteTime": {
     "end_time": "2020-01-17T12:24:30.897957Z",
     "start_time": "2020-01-17T12:24:30.894027Z"
    }
   },
   "outputs": [],
   "source": [
    "def acceptance_pCN(m_current , m_proposed):\n",
    "    delta_current = negative_likeli(D,points,m_current)\n",
    "    delta_proposed = negative_likeli(D,points,m_proposed)\n",
    "    ## calculate accept ratio if exp()<1\n",
    "    accept_ratio = tf.exp(tf.subtract(delta_current,delta_proposed))\n",
    "    acceptsample = tfd.Sample(\n",
    "    tfd.Uniform(0., 1.),\n",
    "    sample_shape=[1,1])\n",
    "    sample = acceptsample.sample()\n",
    "    \n",
    "    if(accept_ratio > sample):\n",
    "        return True\n",
    "    else:\n",
    "        return False"
   ]
  },
  {
   "cell_type": "code",
   "execution_count": null,
   "metadata": {
    "ExecuteTime": {
     "end_time": "2020-01-18T10:49:42.114625Z",
     "start_time": "2020-01-18T01:06:07.778Z"
    }
   },
   "outputs": [],
   "source": [
    "mu_init = -10 * tf.ones([Number_para], dtype=tf.float32)\n",
    "\n",
    "number_of_steps = 2000\n",
    "def run_chain():\n",
    "    burn_in = 1000\n",
    "    steps = number_of_steps\n",
    "    k = 0\n",
    "    accepted = []\n",
    "    rejected = []\n",
    "\n",
    "    m_current = mu_init  # init m\n",
    "    \n",
    "    for k in range(steps+burn_in):\n",
    "\n",
    "        m_proposed = draw_proposal(m_current)\n",
    "\n",
    "        if acceptance_pCN(m_current,m_proposed):\n",
    "            m_current = m_proposed\n",
    "            if k > burn_in:\n",
    "                accepted.append(m_proposed.numpy())\n",
    "        else:\n",
    "            m_current = m_current\n",
    "            rejected.append(m_proposed.numpy())\n",
    "    \n",
    "    return accepted,rejected\n",
    "#     print(\"acceptance rate = %0.1f%%\", 100*np.shape(accepted)[0]/steps)\n",
    "    \n",
    "accepted,rejected = run_chain()\n",
    "np.shape(accepted)[0]\n",
    "print('Acceptance rate = %0.1f%%' % (100*np.shape(accepted)[0]/number_of_steps))\n",
    "\n",
    "accepted = np.array(accepted)"
   ]
  },
  {
   "cell_type": "code",
   "execution_count": null,
   "metadata": {},
   "outputs": [],
   "source": []
  },
  {
   "cell_type": "code",
   "execution_count": null,
   "metadata": {},
   "outputs": [],
   "source": []
  },
  {
   "cell_type": "code",
   "execution_count": null,
   "metadata": {},
   "outputs": [],
   "source": []
  },
  {
   "cell_type": "code",
   "execution_count": null,
   "metadata": {},
   "outputs": [],
   "source": []
  },
  {
   "cell_type": "code",
   "execution_count": null,
   "metadata": {},
   "outputs": [],
   "source": []
  },
  {
   "cell_type": "code",
   "execution_count": null,
   "metadata": {},
   "outputs": [],
   "source": []
  },
  {
   "cell_type": "code",
   "execution_count": null,
   "metadata": {},
   "outputs": [],
   "source": []
  },
  {
   "cell_type": "code",
   "execution_count": 282,
   "metadata": {
    "ExecuteTime": {
     "end_time": "2020-01-22T12:28:53.255085Z",
     "start_time": "2020-01-22T12:28:53.241604Z"
    }
   },
   "outputs": [],
   "source": []
  },
  {
   "cell_type": "code",
   "execution_count": 283,
   "metadata": {
    "ExecuteTime": {
     "end_time": "2020-01-22T12:29:18.239399Z",
     "start_time": "2020-01-22T12:28:53.699898Z"
    }
   },
   "outputs": [
    {
     "data": {
      "text/plain": [
       "<tf.Tensor: shape=(50,), dtype=float32, numpy=\n",
       "array([7.5347557e-06, 7.6035763e-06, 7.6436881e-06, 7.6689848e-06,\n",
       "       7.6755787e-06, 7.6385968e-06, 7.5650173e-06, 7.4872437e-06,\n",
       "       7.4231516e-06, 7.3707970e-06, 7.3245947e-06, 7.2892985e-06,\n",
       "       7.2740945e-06, 7.2839098e-06, 7.3184824e-06, 7.3736924e-06,\n",
       "       7.4428372e-06, 7.5176386e-06, 7.5902572e-06, 7.6503502e-06,\n",
       "       7.6906690e-06, 7.7293871e-06, 7.7813011e-06, 7.8486546e-06,\n",
       "       7.9329047e-06, 8.0366217e-06, 8.1579738e-06, 8.2825200e-06,\n",
       "       8.3943714e-06, 8.4804597e-06, 8.4792273e-06, 8.5413640e-06,\n",
       "       8.7112030e-06, 8.8684801e-06, 8.8680708e-06, 8.8990046e-06,\n",
       "       8.7795552e-06, 8.5777046e-06, 8.3934628e-06, 8.1993585e-06,\n",
       "       8.0200407e-06, 7.8709263e-06, 7.7555715e-06, 7.6818305e-06,\n",
       "       7.6535725e-06, 7.6616661e-06, 7.6807482e-06, 7.6832393e-06,\n",
       "       7.6609967e-06, 7.6128995e-06], dtype=float32)>"
      ]
     },
     "execution_count": 283,
     "metadata": {},
     "output_type": "execute_result"
    }
   ],
   "source": [
    "grav(points,True_position)"
   ]
  },
  {
   "cell_type": "code",
   "execution_count": 285,
   "metadata": {
    "ExecuteTime": {
     "end_time": "2020-01-22T12:29:54.475602Z",
     "start_time": "2020-01-22T12:29:30.709238Z"
    }
   },
   "outputs": [
    {
     "data": {
      "text/plain": [
       "<tf.Tensor: shape=(50,), dtype=float32, numpy=\n",
       "array([7.5347557e-06, 7.6035763e-06, 7.6436881e-06, 7.6689848e-06,\n",
       "       7.6755787e-06, 7.6385968e-06, 7.5650173e-06, 7.4872437e-06,\n",
       "       7.4231516e-06, 7.3707970e-06, 7.3245947e-06, 7.2892985e-06,\n",
       "       7.2740945e-06, 7.2839098e-06, 7.3184824e-06, 7.3736924e-06,\n",
       "       7.4428372e-06, 7.5176386e-06, 7.5902572e-06, 7.6503502e-06,\n",
       "       7.6906690e-06, 7.7293871e-06, 7.7813011e-06, 7.8486546e-06,\n",
       "       7.9329047e-06, 8.0366217e-06, 8.1579738e-06, 8.2825200e-06,\n",
       "       8.3943714e-06, 8.4804597e-06, 8.4792273e-06, 8.5413640e-06,\n",
       "       8.7112030e-06, 8.8684801e-06, 8.8680708e-06, 8.8990046e-06,\n",
       "       8.7795552e-06, 8.5777046e-06, 8.3934628e-06, 8.1993585e-06,\n",
       "       8.0200407e-06, 7.8709263e-06, 7.7555715e-06, 7.6818305e-06,\n",
       "       7.6535725e-06, 7.6616661e-06, 7.6807482e-06, 7.6832393e-06,\n",
       "       7.6609967e-06, 7.6128995e-06], dtype=float32)>"
      ]
     },
     "execution_count": 285,
     "metadata": {},
     "output_type": "execute_result"
    }
   ],
   "source": [
    "grav_new(_x,_z,True_position)"
   ]
  },
  {
   "cell_type": "code",
   "execution_count": null,
   "metadata": {},
   "outputs": [],
   "source": []
  },
  {
   "cell_type": "code",
   "execution_count": 267,
   "metadata": {
    "ExecuteTime": {
     "end_time": "2020-01-22T12:05:04.174148Z",
     "start_time": "2020-01-22T12:04:40.432965Z"
    }
   },
   "outputs": [
    {
     "data": {
      "text/plain": [
       "<tf.Tensor: shape=(50,), dtype=float32, numpy=\n",
       "array([7.5347557e-06, 7.6035763e-06, 7.6436881e-06, 7.6689848e-06,\n",
       "       7.6755787e-06, 7.6385968e-06, 7.5650173e-06, 7.4872437e-06,\n",
       "       7.4231516e-06, 7.3707970e-06, 7.3245947e-06, 7.2892985e-06,\n",
       "       7.2740945e-06, 7.2839098e-06, 7.3184824e-06, 7.3736924e-06,\n",
       "       7.4428372e-06, 7.5176386e-06, 7.5902572e-06, 7.6503502e-06,\n",
       "       7.6906690e-06, 7.7293871e-06, 7.7813011e-06, 7.8486546e-06,\n",
       "       7.9329047e-06, 8.0366217e-06, 8.1579738e-06, 8.2825200e-06,\n",
       "       8.3943714e-06, 8.4804597e-06, 8.4792273e-06, 8.5413640e-06,\n",
       "       8.7112030e-06, 8.8684801e-06, 8.8680708e-06, 8.8990046e-06,\n",
       "       8.7795552e-06, 8.5777046e-06, 8.3934628e-06, 8.1993585e-06,\n",
       "       8.0200407e-06, 7.8709263e-06, 7.7555715e-06, 7.6818305e-06,\n",
       "       7.6535725e-06, 7.6616661e-06, 7.6807482e-06, 7.6832393e-06,\n",
       "       7.6609967e-06, 7.6128995e-06], dtype=float32)>"
      ]
     },
     "execution_count": 267,
     "metadata": {},
     "output_type": "execute_result"
    }
   ],
   "source": [
    "grav(points,True_position)"
   ]
  },
  {
   "cell_type": "code",
   "execution_count": null,
   "metadata": {},
   "outputs": [],
   "source": []
  },
  {
   "cell_type": "code",
   "execution_count": null,
   "metadata": {},
   "outputs": [],
   "source": []
  },
  {
   "cell_type": "code",
   "execution_count": null,
   "metadata": {},
   "outputs": [],
   "source": []
  },
  {
   "cell_type": "code",
   "execution_count": 104,
   "metadata": {
    "ExecuteTime": {
     "end_time": "2020-01-23T16:28:22.249479Z",
     "start_time": "2020-01-23T16:28:22.206136Z"
    }
   },
   "outputs": [],
   "source": [
    "def g(x,z,loc):\n",
    "\n",
    "    G = tf.constant(6.67 * 10**(-11)) # gravitational constant  m^3 kg ^-1 s^-2\n",
    "    rho = tf.constant(1000.)        # density difference   kg/m^3\n",
    "\n",
    "    _x = x-loc[0]\n",
    "    _z = z-loc[1]\n",
    "\n",
    "    Z_sum = tf.constant(0.)\n",
    "\n",
    "    for i in tf.range(_x.shape[0]-1):\n",
    "        Z_sum = tf.add(Z_sum, Z(_x,_z,i,i+1))\n",
    "\n",
    "    Z_sum = tf.add(Z_sum, Z(_x,_z,-1,0))\n",
    "\n",
    "    g = 2*G*rho * Z_sum\n",
    "\n",
    "    return(g)\n",
    "\n",
    "\n",
    "def grav(x,z,ps):\n",
    "    \"\"\"\n",
    "    points: base point, fixing the x position\n",
    "    ps: Positions,Variable(N elements vector), tuning z position\n",
    "    \n",
    "    \"\"\"\n",
    "    ps2 = ps-thick\n",
    "\n",
    "    ps2 = tf.reverse(ps2,[-1])\n",
    "\n",
    "    for i in tf.range(2,N1+2): ## lower layer\n",
    "        z[i].assign(ps2[i-2])\n",
    "\n",
    "    for i in tf.range(N1+6,2*N1+6): ## upper layer\n",
    "        z[i].assign(ps[i-N1-6])\n",
    "\n",
    "    x_obv = tf.linspace(-70., 70., obs_N+2)\n",
    "    y_obv = tf.zeros(tf.shape(x_obv))\n",
    "    obv = tf.stack((x_obv,y_obv),axis = 1)\n",
    "\n",
    "    gravity = tf.TensorArray(tf.float32, size=obv.shape[0]-2)\n",
    "    j = tf.constant(0)\n",
    "    for i in obv[1:-1]:\n",
    "        gravity=gravity.write(j,-g(x,z,i))\n",
    "        j = tf.add(j,1)\n",
    "    return gravity.stack()\n",
    "\n"
   ]
  },
  {
   "cell_type": "code",
   "execution_count": 98,
   "metadata": {
    "ExecuteTime": {
     "end_time": "2020-01-23T16:25:13.709933Z",
     "start_time": "2020-01-23T16:25:13.706821Z"
    }
   },
   "outputs": [],
   "source": [
    "ps = True_position\n",
    "thick = tf.convert_to_tensor(thickness,dtype = tf.float32)\n",
    "N1 = tf.constant(Number_para)"
   ]
  },
  {
   "cell_type": "code",
   "execution_count": 103,
   "metadata": {
    "ExecuteTime": {
     "end_time": "2020-01-23T16:28:12.699943Z",
     "start_time": "2020-01-23T16:28:07.402370Z"
    }
   },
   "outputs": [
    {
     "name": "stdout",
     "output_type": "stream",
     "text": [
      "ERROR:tensorflow:Got error while pfor was converting op name: \"loop_body/StatefulPartitionedCall\"\n",
      "op: \"StatefulPartitionedCall\"\n",
      "input: \"loop_body/Reshape_2\"\n",
      "input: \"loop_body/StatefulPartitionedCall/args_1\"\n",
      "input: \"loop_body/StatefulPartitionedCall/args_2\"\n",
      "input: \"loop_body/StatefulPartitionedCall/args_3\"\n",
      "input: \"loop_body/StatefulPartitionedCall/args_4\"\n",
      "input: \"loop_body/StatefulPartitionedCall/args_5\"\n",
      "input: \"loop_body/StatefulPartitionedCall/args_6\"\n",
      "input: \"loop_body/StatefulPartitionedCall/args_7\"\n",
      "input: \"loop_body/StatefulPartitionedCall/args_8\"\n",
      "input: \"loop_body/StatefulPartitionedCall/args_9\"\n",
      "input: \"loop_body/StatefulPartitionedCall/args_10\"\n",
      "input: \"loop_body/StatefulPartitionedCall/args_11\"\n",
      "input: \"loop_body/StatefulPartitionedCall/args_12\"\n",
      "input: \"loop_body/StatefulPartitionedCall/args_13\"\n",
      "input: \"loop_body/StatefulPartitionedCall/args_14\"\n",
      "input: \"loop_body/StatefulPartitionedCall/args_15\"\n",
      "input: \"loop_body/StatefulPartitionedCall/args_16\"\n",
      "input: \"loop_body/StatefulPartitionedCall/args_17\"\n",
      "input: \"loop_body/StatefulPartitionedCall/args_18\"\n",
      "input: \"loop_body/StatefulPartitionedCall/args_19\"\n",
      "input: \"loop_body/StatefulPartitionedCall/args_20\"\n",
      "input: \"loop_body/StatefulPartitionedCall/args_21\"\n",
      "input: \"loop_body/StatefulPartitionedCall/args_22\"\n",
      "input: \"loop_body/StatefulPartitionedCall/args_23\"\n",
      "input: \"loop_body/StatefulPartitionedCall/args_24\"\n",
      "input: \"loop_body/StatefulPartitionedCall/args_25\"\n",
      "input: \"loop_body/StatefulPartitionedCall/args_26\"\n",
      "input: \"loop_body/StatefulPartitionedCall/args_27\"\n",
      "input: \"loop_body/StatefulPartitionedCall/args_28\"\n",
      "input: \"loop_body/StatefulPartitionedCall/args_29\"\n",
      "input: \"loop_body/StatefulPartitionedCall/args_30\"\n",
      "input: \"loop_body/StatefulPartitionedCall/args_31\"\n",
      "input: \"loop_body/StatefulPartitionedCall/args_32\"\n",
      "input: \"loop_body/StatefulPartitionedCall/args_33\"\n",
      "input: \"loop_body/StatefulPartitionedCall/args_34\"\n",
      "input: \"loop_body/StatefulPartitionedCall/args_35\"\n",
      "input: \"loop_body/StatefulPartitionedCall/args_36\"\n",
      "input: \"loop_body/StatefulPartitionedCall/args_37\"\n",
      "input: \"loop_body/StatefulPartitionedCall/args_38\"\n",
      "input: \"loop_body/StatefulPartitionedCall/args_39\"\n",
      "input: \"loop_body/StatefulPartitionedCall/args_40\"\n",
      "input: \"loop_body/StatefulPartitionedCall/args_41\"\n",
      "input: \"loop_body/StatefulPartitionedCall/args_42\"\n",
      "input: \"loop_body/StatefulPartitionedCall/args_43\"\n",
      "input: \"loop_body/StatefulPartitionedCall/args_44\"\n",
      "input: \"loop_body/StatefulPartitionedCall/args_45\"\n",
      "input: \"loop_body/StatefulPartitionedCall/args_46\"\n",
      "input: \"loop_body/StatefulPartitionedCall/args_47\"\n",
      "input: \"loop_body/StatefulPartitionedCall/args_48\"\n",
      "input: \"loop_body/StatefulPartitionedCall/args_49\"\n",
      "input: \"loop_body/StatefulPartitionedCall/args_50\"\n",
      "input: \"loop_body/StatefulPartitionedCall/args_51\"\n",
      "input: \"loop_body/StatefulPartitionedCall/args_52\"\n",
      "input: \"loop_body/StatefulPartitionedCall/args_53\"\n",
      "input: \"loop_body/StatefulPartitionedCall/args_54\"\n",
      "input: \"loop_body/StatefulPartitionedCall/args_55\"\n",
      "input: \"loop_body/StatefulPartitionedCall/args_56\"\n",
      "input: \"loop_body/StatefulPartitionedCall/args_57\"\n",
      "input: \"loop_body/StatefulPartitionedCall/args_58\"\n",
      "input: \"loop_body/StatefulPartitionedCall/args_59\"\n",
      "input: \"loop_body/StatefulPartitionedCall/args_60\"\n",
      "input: \"loop_body/StatefulPartitionedCall/args_61\"\n",
      "input: \"loop_body/StatefulPartitionedCall/args_62\"\n",
      "input: \"loop_body/StatefulPartitionedCall/args_63\"\n",
      "input: \"loop_body/StatefulPartitionedCall/args_64\"\n",
      "input: \"loop_body/StatefulPartitionedCall/args_65\"\n",
      "input: \"loop_body/StatefulPartitionedCall/args_66\"\n",
      "input: \"loop_body/StatefulPartitionedCall/args_67\"\n",
      "input: \"loop_body/StatefulPartitionedCall/args_68\"\n",
      "input: \"loop_body/StatefulPartitionedCall/args_69\"\n",
      "input: \"loop_body/StatefulPartitionedCall/args_70\"\n",
      "input: \"loop_body/StatefulPartitionedCall/args_71\"\n",
      "input: \"loop_body/StatefulPartitionedCall/args_72\"\n",
      "input: \"loop_body/StatefulPartitionedCall/args_73\"\n",
      "input: \"loop_body/StatefulPartitionedCall/args_74\"\n",
      "input: \"loop_body/StatefulPartitionedCall/args_75\"\n",
      "input: \"loop_body/StatefulPartitionedCall/args_76\"\n",
      "input: \"loop_body/StatefulPartitionedCall/args_77\"\n",
      "input: \"loop_body/StatefulPartitionedCall/args_78\"\n",
      "input: \"loop_body/StatefulPartitionedCall/args_79\"\n",
      "input: \"loop_body/StatefulPartitionedCall/args_80\"\n",
      "input: \"loop_body/StatefulPartitionedCall/args_81\"\n",
      "input: \"loop_body/StatefulPartitionedCall/args_82\"\n",
      "input: \"loop_body/StatefulPartitionedCall/args_83\"\n",
      "input: \"loop_body/StatefulPartitionedCall/args_84\"\n",
      "input: \"loop_body/StatefulPartitionedCall/args_85\"\n",
      "input: \"loop_body/StatefulPartitionedCall/args_86\"\n",
      "input: \"loop_body/StatefulPartitionedCall/args_87\"\n",
      "input: \"loop_body/StatefulPartitionedCall/args_88\"\n",
      "input: \"loop_body/StatefulPartitionedCall/args_89\"\n",
      "input: \"loop_body/StatefulPartitionedCall/args_90\"\n",
      "input: \"loop_body/StatefulPartitionedCall/args_91\"\n",
      "input: \"loop_body/StatefulPartitionedCall/args_92\"\n",
      "input: \"loop_body/StatefulPartitionedCall/args_93\"\n",
      "input: \"loop_body/StatefulPartitionedCall/args_94\"\n",
      "input: \"loop_body/StatefulPartitionedCall/args_95\"\n",
      "input: \"loop_body/StatefulPartitionedCall/args_96\"\n",
      "input: \"loop_body/StatefulPartitionedCall/args_97\"\n",
      "input: \"loop_body/StatefulPartitionedCall/args_98\"\n",
      "input: \"loop_body/StatefulPartitionedCall/args_99\"\n",
      "input: \"loop_body/StatefulPartitionedCall/args_100\"\n",
      "input: \"loop_body/StatefulPartitionedCall/args_101\"\n",
      "input: \"loop_body/StatefulPartitionedCall/args_102\"\n",
      "input: \"loop_body/StatefulPartitionedCall/args_103\"\n",
      "input: \"loop_body/StatefulPartitionedCall/args_104\"\n",
      "input: \"loop_body/StatefulPartitionedCall/args_105\"\n",
      "input: \"loop_body/StatefulPartitionedCall/args_106\"\n",
      "input: \"loop_body/StatefulPartitionedCall/args_107\"\n",
      "input: \"loop_body/StatefulPartitionedCall/args_108\"\n",
      "input: \"loop_body/StatefulPartitionedCall/args_109\"\n",
      "input: \"loop_body/StatefulPartitionedCall/args_110\"\n",
      "input: \"loop_body/StatefulPartitionedCall/args_111\"\n",
      "input: \"loop_body/StatefulPartitionedCall/args_112\"\n",
      "input: \"loop_body/StatefulPartitionedCall/args_113\"\n",
      "input: \"loop_body/StatefulPartitionedCall/args_114\"\n",
      "input: \"loop_body/StatefulPartitionedCall/args_115\"\n",
      "input: \"loop_body/StatefulPartitionedCall/args_116\"\n",
      "input: \"loop_body/StatefulPartitionedCall/args_117\"\n",
      "input: \"loop_body/StatefulPartitionedCall/args_118\"\n",
      "input: \"loop_body/StatefulPartitionedCall/args_119\"\n",
      "input: \"loop_body/StatefulPartitionedCall/args_120\"\n",
      "input: \"loop_body/StatefulPartitionedCall/args_121\"\n",
      "input: \"loop_body/StatefulPartitionedCall/args_122\"\n",
      "input: \"loop_body/StatefulPartitionedCall/args_123\"\n",
      "input: \"loop_body/StatefulPartitionedCall/args_124\"\n",
      "input: \"loop_body/StatefulPartitionedCall/args_125\"\n",
      "input: \"loop_body/StatefulPartitionedCall/args_126\"\n",
      "input: \"loop_body/StatefulPartitionedCall/args_127\"\n",
      "input: \"loop_body/StatefulPartitionedCall/args_128\"\n",
      "input: \"loop_body/StatefulPartitionedCall/args_129\"\n",
      "input: \"loop_body/StatefulPartitionedCall/args_130\"\n",
      "input: \"loop_body/StatefulPartitionedCall/args_131\"\n",
      "input: \"loop_body/StatefulPartitionedCall/args_132\"\n",
      "input: \"loop_body/StatefulPartitionedCall/args_133\"\n",
      "input: \"loop_body/StatefulPartitionedCall/args_134\"\n",
      "input: \"loop_body/StatefulPartitionedCall/args_135\"\n",
      "input: \"loop_body/StatefulPartitionedCall/args_136\"\n",
      "input: \"loop_body/StatefulPartitionedCall/args_137\"\n",
      "input: \"loop_body/StatefulPartitionedCall/args_138\"\n",
      "input: \"loop_body/StatefulPartitionedCall/args_139\"\n",
      "input: \"loop_body/StatefulPartitionedCall/args_140\"\n",
      "attr {\n",
      "  key: \"Tin\"\n",
      "  value {\n",
      "    list {\n",
      "      type: DT_FLOAT\n",
      "      type: DT_VARIANT\n",
      "      type: DT_RESOURCE\n",
      "      type: DT_RESOURCE\n",
      "      type: DT_FLOAT\n",
      "      type: DT_INT32\n",
      "      type: DT_INT32\n",
      "      type: DT_VARIANT\n",
      "      type: DT_VARIANT\n",
      "      type: DT_VARIANT\n",
      "      type: DT_VARIANT\n",
      "      type: DT_VARIANT\n",
      "      type: DT_VARIANT\n",
      "      type: DT_VARIANT\n",
      "      type: DT_VARIANT\n",
      "      type: DT_VARIANT\n",
      "      type: DT_VARIANT\n",
      "      type: DT_VARIANT\n",
      "      type: DT_VARIANT\n",
      "      type: DT_VARIANT\n",
      "      type: DT_VARIANT\n",
      "      type: DT_VARIANT\n",
      "      type: DT_VARIANT\n",
      "      type: DT_VARIANT\n",
      "      type: DT_VARIANT\n",
      "      type: DT_VARIANT\n",
      "      type: DT_VARIANT\n",
      "      type: DT_VARIANT\n",
      "      type: DT_VARIANT\n",
      "      type: DT_VARIANT\n",
      "      type: DT_VARIANT\n",
      "      type: DT_VARIANT\n",
      "      type: DT_VARIANT\n",
      "      type: DT_VARIANT\n",
      "      type: DT_VARIANT\n",
      "      type: DT_VARIANT\n",
      "      type: DT_VARIANT\n",
      "      type: DT_VARIANT\n",
      "      type: DT_VARIANT\n",
      "      type: DT_VARIANT\n",
      "      type: DT_VARIANT\n",
      "      type: DT_VARIANT\n",
      "      type: DT_VARIANT\n",
      "      type: DT_VARIANT\n",
      "      type: DT_VARIANT\n",
      "      type: DT_VARIANT\n",
      "      type: DT_VARIANT\n",
      "      type: DT_VARIANT\n",
      "      type: DT_VARIANT\n",
      "      type: DT_VARIANT\n",
      "      type: DT_VARIANT\n",
      "      type: DT_VARIANT\n",
      "      type: DT_VARIANT\n",
      "      type: DT_VARIANT\n",
      "      type: DT_VARIANT\n",
      "      type: DT_VARIANT\n",
      "      type: DT_VARIANT\n",
      "      type: DT_VARIANT\n",
      "      type: DT_VARIANT\n",
      "      type: DT_VARIANT\n",
      "      type: DT_VARIANT\n",
      "      type: DT_VARIANT\n",
      "      type: DT_VARIANT\n",
      "      type: DT_VARIANT\n",
      "      type: DT_VARIANT\n",
      "      type: DT_VARIANT\n",
      "      type: DT_VARIANT\n",
      "      type: DT_VARIANT\n",
      "      type: DT_VARIANT\n",
      "      type: DT_VARIANT\n",
      "      type: DT_VARIANT\n",
      "      type: DT_VARIANT\n",
      "      type: DT_VARIANT\n",
      "      type: DT_VARIANT\n",
      "      type: DT_VARIANT\n",
      "      type: DT_VARIANT\n",
      "      type: DT_VARIANT\n",
      "      type: DT_VARIANT\n",
      "      type: DT_VARIANT\n",
      "      type: DT_VARIANT\n",
      "      type: DT_VARIANT\n",
      "      type: DT_VARIANT\n",
      "      type: DT_VARIANT\n",
      "      type: DT_VARIANT\n",
      "      type: DT_VARIANT\n",
      "      type: DT_VARIANT\n",
      "      type: DT_VARIANT\n",
      "      type: DT_VARIANT\n",
      "      type: DT_VARIANT\n",
      "      type: DT_VARIANT\n",
      "      type: DT_VARIANT\n",
      "      type: DT_VARIANT\n",
      "      type: DT_VARIANT\n",
      "      type: DT_VARIANT\n",
      "      type: DT_VARIANT\n",
      "      type: DT_VARIANT\n",
      "      type: DT_VARIANT\n",
      "      type: DT_VARIANT\n",
      "      type: DT_VARIANT\n",
      "      type: DT_VARIANT\n",
      "      type: DT_VARIANT\n",
      "      type: DT_VARIANT\n",
      "      type: DT_VARIANT\n",
      "      type: DT_VARIANT\n",
      "      type: DT_VARIANT\n",
      "      type: DT_VARIANT\n",
      "      type: DT_VARIANT\n",
      "      type: DT_VARIANT\n",
      "      type: DT_VARIANT\n",
      "      type: DT_VARIANT\n",
      "      type: DT_VARIANT\n",
      "      type: DT_VARIANT\n",
      "      type: DT_VARIANT\n",
      "      type: DT_VARIANT\n",
      "      type: DT_VARIANT\n",
      "      type: DT_VARIANT\n",
      "      type: DT_VARIANT\n",
      "      type: DT_VARIANT\n",
      "      type: DT_VARIANT\n",
      "      type: DT_VARIANT\n",
      "      type: DT_VARIANT\n",
      "      type: DT_VARIANT\n",
      "      type: DT_VARIANT\n",
      "      type: DT_VARIANT\n",
      "      type: DT_VARIANT\n",
      "      type: DT_VARIANT\n",
      "      type: DT_VARIANT\n",
      "      type: DT_VARIANT\n",
      "      type: DT_VARIANT\n",
      "      type: DT_VARIANT\n",
      "      type: DT_VARIANT\n",
      "      type: DT_VARIANT\n",
      "      type: DT_VARIANT\n",
      "      type: DT_VARIANT\n",
      "      type: DT_VARIANT\n",
      "      type: DT_VARIANT\n",
      "      type: DT_VARIANT\n",
      "      type: DT_VARIANT\n",
      "      type: DT_VARIANT\n",
      "      type: DT_VARIANT\n",
      "      type: DT_VARIANT\n",
      "    }\n",
      "  }\n",
      "}\n",
      "attr {\n",
      "  key: \"Tout\"\n",
      "  value {\n",
      "    list {\n",
      "      type: DT_FLOAT\n",
      "      type: DT_FLOAT\n",
      "      type: DT_FLOAT\n",
      "    }\n",
      "  }\n",
      "}\n",
      "attr {\n",
      "  key: \"_gradient_op_type\"\n",
      "  value {\n",
      "    s: \"PartitionedCallUnused\"\n",
      "  }\n",
      "}\n",
      "attr {\n",
      "  key: \"config\"\n",
      "  value {\n",
      "    s: \"\"\n",
      "  }\n",
      "}\n",
      "attr {\n",
      "  key: \"config_proto\"\n",
      "  value {\n",
      "    s: \"\\n\\007\\n\\003GPU\\020\\000\\n\\007\\n\\003CPU\\020\\0012\\002J\\0008\\001\"\n",
      "  }\n",
      "}\n",
      "attr {\n",
      "  key: \"executor_type\"\n",
      "  value {\n",
      "    s: \"\"\n",
      "  }\n",
      "}\n",
      "attr {\n",
      "  key: \"f\"\n",
      "  value {\n",
      "    func {\n",
      "      name: \"__inference___backward_grav_17345532_17351781\"\n",
      "    }\n",
      "  }\n",
      "}\n",
      "with inputs (<tf.Tensor 'loop_body/Reshape_2:0' shape=(3,) dtype=float32>, <tf.Tensor 'loop_body/StatefulPartitionedCall/args_1:0' shape=() dtype=variant>, <tf.Tensor 'loop_body/StatefulPartitionedCall/args_2:0' shape=() dtype=resource>, <tf.Tensor 'loop_body/StatefulPartitionedCall/args_3:0' shape=() dtype=resource>, <tf.Tensor 'loop_body/StatefulPartitionedCall/args_4:0' shape=() dtype=float32>, <tf.Tensor 'loop_body/StatefulPartitionedCall/args_5:0' shape=() dtype=int32>, <tf.Tensor 'loop_body/StatefulPartitionedCall/args_6:0' shape=() dtype=int32>, <tf.Tensor 'loop_body/StatefulPartitionedCall/args_7:0' shape=() dtype=variant>, <tf.Tensor 'loop_body/StatefulPartitionedCall/args_8:0' shape=() dtype=variant>, <tf.Tensor 'loop_body/StatefulPartitionedCall/args_9:0' shape=() dtype=variant>, <tf.Tensor 'loop_body/StatefulPartitionedCall/args_10:0' shape=() dtype=variant>, <tf.Tensor 'loop_body/StatefulPartitionedCall/args_11:0' shape=() dtype=variant>, <tf.Tensor 'loop_body/StatefulPartitionedCall/args_12:0' shape=() dtype=variant>, <tf.Tensor 'loop_body/StatefulPartitionedCall/args_13:0' shape=() dtype=variant>, <tf.Tensor 'loop_body/StatefulPartitionedCall/args_14:0' shape=() dtype=variant>, <tf.Tensor 'loop_body/StatefulPartitionedCall/args_15:0' shape=() dtype=variant>, <tf.Tensor 'loop_body/StatefulPartitionedCall/args_16:0' shape=() dtype=variant>, <tf.Tensor 'loop_body/StatefulPartitionedCall/args_17:0' shape=() dtype=variant>, <tf.Tensor 'loop_body/StatefulPartitionedCall/args_18:0' shape=() dtype=variant>, <tf.Tensor 'loop_body/StatefulPartitionedCall/args_19:0' shape=() dtype=variant>, <tf.Tensor 'loop_body/StatefulPartitionedCall/args_20:0' shape=() dtype=variant>, <tf.Tensor 'loop_body/StatefulPartitionedCall/args_21:0' shape=() dtype=variant>, <tf.Tensor 'loop_body/StatefulPartitionedCall/args_22:0' shape=() dtype=variant>, <tf.Tensor 'loop_body/StatefulPartitionedCall/args_23:0' shape=() dtype=variant>, <tf.Tensor 'loop_body/StatefulPartitionedCall/args_24:0' shape=() dtype=variant>, <tf.Tensor 'loop_body/StatefulPartitionedCall/args_25:0' shape=() dtype=variant>, <tf.Tensor 'loop_body/StatefulPartitionedCall/args_26:0' shape=() dtype=variant>, <tf.Tensor 'loop_body/StatefulPartitionedCall/args_27:0' shape=() dtype=variant>, <tf.Tensor 'loop_body/StatefulPartitionedCall/args_28:0' shape=() dtype=variant>, <tf.Tensor 'loop_body/StatefulPartitionedCall/args_29:0' shape=() dtype=variant>, <tf.Tensor 'loop_body/StatefulPartitionedCall/args_30:0' shape=() dtype=variant>, <tf.Tensor 'loop_body/StatefulPartitionedCall/args_31:0' shape=() dtype=variant>, <tf.Tensor 'loop_body/StatefulPartitionedCall/args_32:0' shape=() dtype=variant>, <tf.Tensor 'loop_body/StatefulPartitionedCall/args_33:0' shape=() dtype=variant>, <tf.Tensor 'loop_body/StatefulPartitionedCall/args_34:0' shape=() dtype=variant>, <tf.Tensor 'loop_body/StatefulPartitionedCall/args_35:0' shape=() dtype=variant>, <tf.Tensor 'loop_body/StatefulPartitionedCall/args_36:0' shape=() dtype=variant>, <tf.Tensor 'loop_body/StatefulPartitionedCall/args_37:0' shape=() dtype=variant>, <tf.Tensor 'loop_body/StatefulPartitionedCall/args_38:0' shape=() dtype=variant>, <tf.Tensor 'loop_body/StatefulPartitionedCall/args_39:0' shape=() dtype=variant>, <tf.Tensor 'loop_body/StatefulPartitionedCall/args_40:0' shape=() dtype=variant>, <tf.Tensor 'loop_body/StatefulPartitionedCall/args_41:0' shape=() dtype=variant>, <tf.Tensor 'loop_body/StatefulPartitionedCall/args_42:0' shape=() dtype=variant>, <tf.Tensor 'loop_body/StatefulPartitionedCall/args_43:0' shape=() dtype=variant>, <tf.Tensor 'loop_body/StatefulPartitionedCall/args_44:0' shape=() dtype=variant>, <tf.Tensor 'loop_body/StatefulPartitionedCall/args_45:0' shape=() dtype=variant>, <tf.Tensor 'loop_body/StatefulPartitionedCall/args_46:0' shape=() dtype=variant>, <tf.Tensor 'loop_body/StatefulPartitionedCall/args_47:0' shape=() dtype=variant>, <tf.Tensor 'loop_body/StatefulPartitionedCall/args_48:0' shape=() dtype=variant>, <tf.Tensor 'loop_body/StatefulPartitionedCall/args_49:0' shape=() dtype=variant>, <tf.Tensor 'loop_body/StatefulPartitionedCall/args_50:0' shape=() dtype=variant>, <tf.Tensor 'loop_body/StatefulPartitionedCall/args_51:0' shape=() dtype=variant>, <tf.Tensor 'loop_body/StatefulPartitionedCall/args_52:0' shape=() dtype=variant>, <tf.Tensor 'loop_body/StatefulPartitionedCall/args_53:0' shape=() dtype=variant>, <tf.Tensor 'loop_body/StatefulPartitionedCall/args_54:0' shape=() dtype=variant>, <tf.Tensor 'loop_body/StatefulPartitionedCall/args_55:0' shape=() dtype=variant>, <tf.Tensor 'loop_body/StatefulPartitionedCall/args_56:0' shape=() dtype=variant>, <tf.Tensor 'loop_body/StatefulPartitionedCall/args_57:0' shape=() dtype=variant>, <tf.Tensor 'loop_body/StatefulPartitionedCall/args_58:0' shape=() dtype=variant>, <tf.Tensor 'loop_body/StatefulPartitionedCall/args_59:0' shape=() dtype=variant>, <tf.Tensor 'loop_body/StatefulPartitionedCall/args_60:0' shape=() dtype=variant>, <tf.Tensor 'loop_body/StatefulPartitionedCall/args_61:0' shape=() dtype=variant>, <tf.Tensor 'loop_body/StatefulPartitionedCall/args_62:0' shape=() dtype=variant>, <tf.Tensor 'loop_body/StatefulPartitionedCall/args_63:0' shape=() dtype=variant>, <tf.Tensor 'loop_body/StatefulPartitionedCall/args_64:0' shape=() dtype=variant>, <tf.Tensor 'loop_body/StatefulPartitionedCall/args_65:0' shape=() dtype=variant>, <tf.Tensor 'loop_body/StatefulPartitionedCall/args_66:0' shape=() dtype=variant>, <tf.Tensor 'loop_body/StatefulPartitionedCall/args_67:0' shape=() dtype=variant>, <tf.Tensor 'loop_body/StatefulPartitionedCall/args_68:0' shape=() dtype=variant>, <tf.Tensor 'loop_body/StatefulPartitionedCall/args_69:0' shape=() dtype=variant>, <tf.Tensor 'loop_body/StatefulPartitionedCall/args_70:0' shape=() dtype=variant>, <tf.Tensor 'loop_body/StatefulPartitionedCall/args_71:0' shape=() dtype=variant>, <tf.Tensor 'loop_body/StatefulPartitionedCall/args_72:0' shape=() dtype=variant>, <tf.Tensor 'loop_body/StatefulPartitionedCall/args_73:0' shape=() dtype=variant>, <tf.Tensor 'loop_body/StatefulPartitionedCall/args_74:0' shape=() dtype=variant>, <tf.Tensor 'loop_body/StatefulPartitionedCall/args_75:0' shape=() dtype=variant>, <tf.Tensor 'loop_body/StatefulPartitionedCall/args_76:0' shape=() dtype=variant>, <tf.Tensor 'loop_body/StatefulPartitionedCall/args_77:0' shape=() dtype=variant>, <tf.Tensor 'loop_body/StatefulPartitionedCall/args_78:0' shape=() dtype=variant>, <tf.Tensor 'loop_body/StatefulPartitionedCall/args_79:0' shape=() dtype=variant>, <tf.Tensor 'loop_body/StatefulPartitionedCall/args_80:0' shape=() dtype=variant>, <tf.Tensor 'loop_body/StatefulPartitionedCall/args_81:0' shape=() dtype=variant>, <tf.Tensor 'loop_body/StatefulPartitionedCall/args_82:0' shape=() dtype=variant>, <tf.Tensor 'loop_body/StatefulPartitionedCall/args_83:0' shape=() dtype=variant>, <tf.Tensor 'loop_body/StatefulPartitionedCall/args_84:0' shape=() dtype=variant>, <tf.Tensor 'loop_body/StatefulPartitionedCall/args_85:0' shape=() dtype=variant>, <tf.Tensor 'loop_body/StatefulPartitionedCall/args_86:0' shape=() dtype=variant>, <tf.Tensor 'loop_body/StatefulPartitionedCall/args_87:0' shape=() dtype=variant>, <tf.Tensor 'loop_body/StatefulPartitionedCall/args_88:0' shape=() dtype=variant>, <tf.Tensor 'loop_body/StatefulPartitionedCall/args_89:0' shape=() dtype=variant>, <tf.Tensor 'loop_body/StatefulPartitionedCall/args_90:0' shape=() dtype=variant>, <tf.Tensor 'loop_body/StatefulPartitionedCall/args_91:0' shape=() dtype=variant>, <tf.Tensor 'loop_body/StatefulPartitionedCall/args_92:0' shape=() dtype=variant>, <tf.Tensor 'loop_body/StatefulPartitionedCall/args_93:0' shape=() dtype=variant>, <tf.Tensor 'loop_body/StatefulPartitionedCall/args_94:0' shape=() dtype=variant>, <tf.Tensor 'loop_body/StatefulPartitionedCall/args_95:0' shape=() dtype=variant>, <tf.Tensor 'loop_body/StatefulPartitionedCall/args_96:0' shape=() dtype=variant>, <tf.Tensor 'loop_body/StatefulPartitionedCall/args_97:0' shape=() dtype=variant>, <tf.Tensor 'loop_body/StatefulPartitionedCall/args_98:0' shape=() dtype=variant>, <tf.Tensor 'loop_body/StatefulPartitionedCall/args_99:0' shape=() dtype=variant>, <tf.Tensor 'loop_body/StatefulPartitionedCall/args_100:0' shape=() dtype=variant>, <tf.Tensor 'loop_body/StatefulPartitionedCall/args_101:0' shape=() dtype=variant>, <tf.Tensor 'loop_body/StatefulPartitionedCall/args_102:0' shape=() dtype=variant>, <tf.Tensor 'loop_body/StatefulPartitionedCall/args_103:0' shape=() dtype=variant>, <tf.Tensor 'loop_body/StatefulPartitionedCall/args_104:0' shape=() dtype=variant>, <tf.Tensor 'loop_body/StatefulPartitionedCall/args_105:0' shape=() dtype=variant>, <tf.Tensor 'loop_body/StatefulPartitionedCall/args_106:0' shape=() dtype=variant>, <tf.Tensor 'loop_body/StatefulPartitionedCall/args_107:0' shape=() dtype=variant>, <tf.Tensor 'loop_body/StatefulPartitionedCall/args_108:0' shape=() dtype=variant>, <tf.Tensor 'loop_body/StatefulPartitionedCall/args_109:0' shape=() dtype=variant>, <tf.Tensor 'loop_body/StatefulPartitionedCall/args_110:0' shape=() dtype=variant>, <tf.Tensor 'loop_body/StatefulPartitionedCall/args_111:0' shape=() dtype=variant>, <tf.Tensor 'loop_body/StatefulPartitionedCall/args_112:0' shape=() dtype=variant>, <tf.Tensor 'loop_body/StatefulPartitionedCall/args_113:0' shape=() dtype=variant>, <tf.Tensor 'loop_body/StatefulPartitionedCall/args_114:0' shape=() dtype=variant>, <tf.Tensor 'loop_body/StatefulPartitionedCall/args_115:0' shape=() dtype=variant>, <tf.Tensor 'loop_body/StatefulPartitionedCall/args_116:0' shape=() dtype=variant>, <tf.Tensor 'loop_body/StatefulPartitionedCall/args_117:0' shape=() dtype=variant>, <tf.Tensor 'loop_body/StatefulPartitionedCall/args_118:0' shape=() dtype=variant>, <tf.Tensor 'loop_body/StatefulPartitionedCall/args_119:0' shape=() dtype=variant>, <tf.Tensor 'loop_body/StatefulPartitionedCall/args_120:0' shape=() dtype=variant>, <tf.Tensor 'loop_body/StatefulPartitionedCall/args_121:0' shape=() dtype=variant>, <tf.Tensor 'loop_body/StatefulPartitionedCall/args_122:0' shape=() dtype=variant>, <tf.Tensor 'loop_body/StatefulPartitionedCall/args_123:0' shape=() dtype=variant>, <tf.Tensor 'loop_body/StatefulPartitionedCall/args_124:0' shape=() dtype=variant>, <tf.Tensor 'loop_body/StatefulPartitionedCall/args_125:0' shape=() dtype=variant>, <tf.Tensor 'loop_body/StatefulPartitionedCall/args_126:0' shape=() dtype=variant>, <tf.Tensor 'loop_body/StatefulPartitionedCall/args_127:0' shape=() dtype=variant>, <tf.Tensor 'loop_body/StatefulPartitionedCall/args_128:0' shape=() dtype=variant>, <tf.Tensor 'loop_body/StatefulPartitionedCall/args_129:0' shape=() dtype=variant>, <tf.Tensor 'loop_body/StatefulPartitionedCall/args_130:0' shape=() dtype=variant>, <tf.Tensor 'loop_body/StatefulPartitionedCall/args_131:0' shape=() dtype=variant>, <tf.Tensor 'loop_body/StatefulPartitionedCall/args_132:0' shape=() dtype=variant>, <tf.Tensor 'loop_body/StatefulPartitionedCall/args_133:0' shape=() dtype=variant>, <tf.Tensor 'loop_body/StatefulPartitionedCall/args_134:0' shape=() dtype=variant>, <tf.Tensor 'loop_body/StatefulPartitionedCall/args_135:0' shape=() dtype=variant>, <tf.Tensor 'loop_body/StatefulPartitionedCall/args_136:0' shape=() dtype=variant>, <tf.Tensor 'loop_body/StatefulPartitionedCall/args_137:0' shape=() dtype=variant>, <tf.Tensor 'loop_body/StatefulPartitionedCall/args_138:0' shape=() dtype=variant>, <tf.Tensor 'loop_body/StatefulPartitionedCall/args_139:0' shape=() dtype=variant>, <tf.Tensor 'loop_body/StatefulPartitionedCall/args_140:0' shape=() dtype=variant>)\n",
      ", converted inputs [WrappedTensor(t=<tf.Tensor 'loop_body/Reshape_2/pfor/Reshape:0' shape=(3, 3) dtype=float32>, is_stacked=True, is_sparse_stacked=False), WrappedTensor(t=<tf.Tensor 'loop_body/StatefulPartitionedCall/args_1:0' shape=() dtype=variant>, is_stacked=False, is_sparse_stacked=False), WrappedTensor(t=<tf.Tensor 'loop_body/StatefulPartitionedCall/args_2:0' shape=() dtype=resource>, is_stacked=False, is_sparse_stacked=False), WrappedTensor(t=<tf.Tensor 'loop_body/StatefulPartitionedCall/args_3:0' shape=() dtype=resource>, is_stacked=False, is_sparse_stacked=False), WrappedTensor(t=<tf.Tensor 'loop_body/StatefulPartitionedCall/args_4:0' shape=() dtype=float32>, is_stacked=False, is_sparse_stacked=False), WrappedTensor(t=<tf.Tensor 'loop_body/StatefulPartitionedCall/args_5:0' shape=() dtype=int32>, is_stacked=False, is_sparse_stacked=False), WrappedTensor(t=<tf.Tensor 'loop_body/StatefulPartitionedCall/args_6:0' shape=() dtype=int32>, is_stacked=False, is_sparse_stacked=False), WrappedTensor(t=<tf.Tensor 'loop_body/StatefulPartitionedCall/args_7:0' shape=() dtype=variant>, is_stacked=False, is_sparse_stacked=False), WrappedTensor(t=<tf.Tensor 'loop_body/StatefulPartitionedCall/args_8:0' shape=() dtype=variant>, is_stacked=False, is_sparse_stacked=False), WrappedTensor(t=<tf.Tensor 'loop_body/StatefulPartitionedCall/args_9:0' shape=() dtype=variant>, is_stacked=False, is_sparse_stacked=False), WrappedTensor(t=<tf.Tensor 'loop_body/StatefulPartitionedCall/args_10:0' shape=() dtype=variant>, is_stacked=False, is_sparse_stacked=False), WrappedTensor(t=<tf.Tensor 'loop_body/StatefulPartitionedCall/args_11:0' shape=() dtype=variant>, is_stacked=False, is_sparse_stacked=False), WrappedTensor(t=<tf.Tensor 'loop_body/StatefulPartitionedCall/args_12:0' shape=() dtype=variant>, is_stacked=False, is_sparse_stacked=False), WrappedTensor(t=<tf.Tensor 'loop_body/StatefulPartitionedCall/args_13:0' shape=() dtype=variant>, is_stacked=False, is_sparse_stacked=False), WrappedTensor(t=<tf.Tensor 'loop_body/StatefulPartitionedCall/args_14:0' shape=() dtype=variant>, is_stacked=False, is_sparse_stacked=False), WrappedTensor(t=<tf.Tensor 'loop_body/StatefulPartitionedCall/args_15:0' shape=() dtype=variant>, is_stacked=False, is_sparse_stacked=False), WrappedTensor(t=<tf.Tensor 'loop_body/StatefulPartitionedCall/args_16:0' shape=() dtype=variant>, is_stacked=False, is_sparse_stacked=False), WrappedTensor(t=<tf.Tensor 'loop_body/StatefulPartitionedCall/args_17:0' shape=() dtype=variant>, is_stacked=False, is_sparse_stacked=False), WrappedTensor(t=<tf.Tensor 'loop_body/StatefulPartitionedCall/args_18:0' shape=() dtype=variant>, is_stacked=False, is_sparse_stacked=False), WrappedTensor(t=<tf.Tensor 'loop_body/StatefulPartitionedCall/args_19:0' shape=() dtype=variant>, is_stacked=False, is_sparse_stacked=False), WrappedTensor(t=<tf.Tensor 'loop_body/StatefulPartitionedCall/args_20:0' shape=() dtype=variant>, is_stacked=False, is_sparse_stacked=False), WrappedTensor(t=<tf.Tensor 'loop_body/StatefulPartitionedCall/args_21:0' shape=() dtype=variant>, is_stacked=False, is_sparse_stacked=False), WrappedTensor(t=<tf.Tensor 'loop_body/StatefulPartitionedCall/args_22:0' shape=() dtype=variant>, is_stacked=False, is_sparse_stacked=False), WrappedTensor(t=<tf.Tensor 'loop_body/StatefulPartitionedCall/args_23:0' shape=() dtype=variant>, is_stacked=False, is_sparse_stacked=False), WrappedTensor(t=<tf.Tensor 'loop_body/StatefulPartitionedCall/args_24:0' shape=() dtype=variant>, is_stacked=False, is_sparse_stacked=False), WrappedTensor(t=<tf.Tensor 'loop_body/StatefulPartitionedCall/args_25:0' shape=() dtype=variant>, is_stacked=False, is_sparse_stacked=False), WrappedTensor(t=<tf.Tensor 'loop_body/StatefulPartitionedCall/args_26:0' shape=() dtype=variant>, is_stacked=False, is_sparse_stacked=False), WrappedTensor(t=<tf.Tensor 'loop_body/StatefulPartitionedCall/args_27:0' shape=() dtype=variant>, is_stacked=False, is_sparse_stacked=False), WrappedTensor(t=<tf.Tensor 'loop_body/StatefulPartitionedCall/args_28:0' shape=() dtype=variant>, is_stacked=False, is_sparse_stacked=False), WrappedTensor(t=<tf.Tensor 'loop_body/StatefulPartitionedCall/args_29:0' shape=() dtype=variant>, is_stacked=False, is_sparse_stacked=False), WrappedTensor(t=<tf.Tensor 'loop_body/StatefulPartitionedCall/args_30:0' shape=() dtype=variant>, is_stacked=False, is_sparse_stacked=False), WrappedTensor(t=<tf.Tensor 'loop_body/StatefulPartitionedCall/args_31:0' shape=() dtype=variant>, is_stacked=False, is_sparse_stacked=False), WrappedTensor(t=<tf.Tensor 'loop_body/StatefulPartitionedCall/args_32:0' shape=() dtype=variant>, is_stacked=False, is_sparse_stacked=False), WrappedTensor(t=<tf.Tensor 'loop_body/StatefulPartitionedCall/args_33:0' shape=() dtype=variant>, is_stacked=False, is_sparse_stacked=False), WrappedTensor(t=<tf.Tensor 'loop_body/StatefulPartitionedCall/args_34:0' shape=() dtype=variant>, is_stacked=False, is_sparse_stacked=False), WrappedTensor(t=<tf.Tensor 'loop_body/StatefulPartitionedCall/args_35:0' shape=() dtype=variant>, is_stacked=False, is_sparse_stacked=False), WrappedTensor(t=<tf.Tensor 'loop_body/StatefulPartitionedCall/args_36:0' shape=() dtype=variant>, is_stacked=False, is_sparse_stacked=False), WrappedTensor(t=<tf.Tensor 'loop_body/StatefulPartitionedCall/args_37:0' shape=() dtype=variant>, is_stacked=False, is_sparse_stacked=False), WrappedTensor(t=<tf.Tensor 'loop_body/StatefulPartitionedCall/args_38:0' shape=() dtype=variant>, is_stacked=False, is_sparse_stacked=False), WrappedTensor(t=<tf.Tensor 'loop_body/StatefulPartitionedCall/args_39:0' shape=() dtype=variant>, is_stacked=False, is_sparse_stacked=False), WrappedTensor(t=<tf.Tensor 'loop_body/StatefulPartitionedCall/args_40:0' shape=() dtype=variant>, is_stacked=False, is_sparse_stacked=False), WrappedTensor(t=<tf.Tensor 'loop_body/StatefulPartitionedCall/args_41:0' shape=() dtype=variant>, is_stacked=False, is_sparse_stacked=False), WrappedTensor(t=<tf.Tensor 'loop_body/StatefulPartitionedCall/args_42:0' shape=() dtype=variant>, is_stacked=False, is_sparse_stacked=False), WrappedTensor(t=<tf.Tensor 'loop_body/StatefulPartitionedCall/args_43:0' shape=() dtype=variant>, is_stacked=False, is_sparse_stacked=False), WrappedTensor(t=<tf.Tensor 'loop_body/StatefulPartitionedCall/args_44:0' shape=() dtype=variant>, is_stacked=False, is_sparse_stacked=False), WrappedTensor(t=<tf.Tensor 'loop_body/StatefulPartitionedCall/args_45:0' shape=() dtype=variant>, is_stacked=False, is_sparse_stacked=False), WrappedTensor(t=<tf.Tensor 'loop_body/StatefulPartitionedCall/args_46:0' shape=() dtype=variant>, is_stacked=False, is_sparse_stacked=False), WrappedTensor(t=<tf.Tensor 'loop_body/StatefulPartitionedCall/args_47:0' shape=() dtype=variant>, is_stacked=False, is_sparse_stacked=False), WrappedTensor(t=<tf.Tensor 'loop_body/StatefulPartitionedCall/args_48:0' shape=() dtype=variant>, is_stacked=False, is_sparse_stacked=False), WrappedTensor(t=<tf.Tensor 'loop_body/StatefulPartitionedCall/args_49:0' shape=() dtype=variant>, is_stacked=False, is_sparse_stacked=False), WrappedTensor(t=<tf.Tensor 'loop_body/StatefulPartitionedCall/args_50:0' shape=() dtype=variant>, is_stacked=False, is_sparse_stacked=False), WrappedTensor(t=<tf.Tensor 'loop_body/StatefulPartitionedCall/args_51:0' shape=() dtype=variant>, is_stacked=False, is_sparse_stacked=False), WrappedTensor(t=<tf.Tensor 'loop_body/StatefulPartitionedCall/args_52:0' shape=() dtype=variant>, is_stacked=False, is_sparse_stacked=False), WrappedTensor(t=<tf.Tensor 'loop_body/StatefulPartitionedCall/args_53:0' shape=() dtype=variant>, is_stacked=False, is_sparse_stacked=False), WrappedTensor(t=<tf.Tensor 'loop_body/StatefulPartitionedCall/args_54:0' shape=() dtype=variant>, is_stacked=False, is_sparse_stacked=False), WrappedTensor(t=<tf.Tensor 'loop_body/StatefulPartitionedCall/args_55:0' shape=() dtype=variant>, is_stacked=False, is_sparse_stacked=False), WrappedTensor(t=<tf.Tensor 'loop_body/StatefulPartitionedCall/args_56:0' shape=() dtype=variant>, is_stacked=False, is_sparse_stacked=False), WrappedTensor(t=<tf.Tensor 'loop_body/StatefulPartitionedCall/args_57:0' shape=() dtype=variant>, is_stacked=False, is_sparse_stacked=False), WrappedTensor(t=<tf.Tensor 'loop_body/StatefulPartitionedCall/args_58:0' shape=() dtype=variant>, is_stacked=False, is_sparse_stacked=False), WrappedTensor(t=<tf.Tensor 'loop_body/StatefulPartitionedCall/args_59:0' shape=() dtype=variant>, is_stacked=False, is_sparse_stacked=False), WrappedTensor(t=<tf.Tensor 'loop_body/StatefulPartitionedCall/args_60:0' shape=() dtype=variant>, is_stacked=False, is_sparse_stacked=False), WrappedTensor(t=<tf.Tensor 'loop_body/StatefulPartitionedCall/args_61:0' shape=() dtype=variant>, is_stacked=False, is_sparse_stacked=False), WrappedTensor(t=<tf.Tensor 'loop_body/StatefulPartitionedCall/args_62:0' shape=() dtype=variant>, is_stacked=False, is_sparse_stacked=False), WrappedTensor(t=<tf.Tensor 'loop_body/StatefulPartitionedCall/args_63:0' shape=() dtype=variant>, is_stacked=False, is_sparse_stacked=False), WrappedTensor(t=<tf.Tensor 'loop_body/StatefulPartitionedCall/args_64:0' shape=() dtype=variant>, is_stacked=False, is_sparse_stacked=False), WrappedTensor(t=<tf.Tensor 'loop_body/StatefulPartitionedCall/args_65:0' shape=() dtype=variant>, is_stacked=False, is_sparse_stacked=False), WrappedTensor(t=<tf.Tensor 'loop_body/StatefulPartitionedCall/args_66:0' shape=() dtype=variant>, is_stacked=False, is_sparse_stacked=False), WrappedTensor(t=<tf.Tensor 'loop_body/StatefulPartitionedCall/args_67:0' shape=() dtype=variant>, is_stacked=False, is_sparse_stacked=False), WrappedTensor(t=<tf.Tensor 'loop_body/StatefulPartitionedCall/args_68:0' shape=() dtype=variant>, is_stacked=False, is_sparse_stacked=False), WrappedTensor(t=<tf.Tensor 'loop_body/StatefulPartitionedCall/args_69:0' shape=() dtype=variant>, is_stacked=False, is_sparse_stacked=False), WrappedTensor(t=<tf.Tensor 'loop_body/StatefulPartitionedCall/args_70:0' shape=() dtype=variant>, is_stacked=False, is_sparse_stacked=False), WrappedTensor(t=<tf.Tensor 'loop_body/StatefulPartitionedCall/args_71:0' shape=() dtype=variant>, is_stacked=False, is_sparse_stacked=False), WrappedTensor(t=<tf.Tensor 'loop_body/StatefulPartitionedCall/args_72:0' shape=() dtype=variant>, is_stacked=False, is_sparse_stacked=False), WrappedTensor(t=<tf.Tensor 'loop_body/StatefulPartitionedCall/args_73:0' shape=() dtype=variant>, is_stacked=False, is_sparse_stacked=False), WrappedTensor(t=<tf.Tensor 'loop_body/StatefulPartitionedCall/args_74:0' shape=() dtype=variant>, is_stacked=False, is_sparse_stacked=False), WrappedTensor(t=<tf.Tensor 'loop_body/StatefulPartitionedCall/args_75:0' shape=() dtype=variant>, is_stacked=False, is_sparse_stacked=False), WrappedTensor(t=<tf.Tensor 'loop_body/StatefulPartitionedCall/args_76:0' shape=() dtype=variant>, is_stacked=False, is_sparse_stacked=False), WrappedTensor(t=<tf.Tensor 'loop_body/StatefulPartitionedCall/args_77:0' shape=() dtype=variant>, is_stacked=False, is_sparse_stacked=False), WrappedTensor(t=<tf.Tensor 'loop_body/StatefulPartitionedCall/args_78:0' shape=() dtype=variant>, is_stacked=False, is_sparse_stacked=False), WrappedTensor(t=<tf.Tensor 'loop_body/StatefulPartitionedCall/args_79:0' shape=() dtype=variant>, is_stacked=False, is_sparse_stacked=False), WrappedTensor(t=<tf.Tensor 'loop_body/StatefulPartitionedCall/args_80:0' shape=() dtype=variant>, is_stacked=False, is_sparse_stacked=False), WrappedTensor(t=<tf.Tensor 'loop_body/StatefulPartitionedCall/args_81:0' shape=() dtype=variant>, is_stacked=False, is_sparse_stacked=False), WrappedTensor(t=<tf.Tensor 'loop_body/StatefulPartitionedCall/args_82:0' shape=() dtype=variant>, is_stacked=False, is_sparse_stacked=False), WrappedTensor(t=<tf.Tensor 'loop_body/StatefulPartitionedCall/args_83:0' shape=() dtype=variant>, is_stacked=False, is_sparse_stacked=False), WrappedTensor(t=<tf.Tensor 'loop_body/StatefulPartitionedCall/args_84:0' shape=() dtype=variant>, is_stacked=False, is_sparse_stacked=False), WrappedTensor(t=<tf.Tensor 'loop_body/StatefulPartitionedCall/args_85:0' shape=() dtype=variant>, is_stacked=False, is_sparse_stacked=False), WrappedTensor(t=<tf.Tensor 'loop_body/StatefulPartitionedCall/args_86:0' shape=() dtype=variant>, is_stacked=False, is_sparse_stacked=False), WrappedTensor(t=<tf.Tensor 'loop_body/StatefulPartitionedCall/args_87:0' shape=() dtype=variant>, is_stacked=False, is_sparse_stacked=False), WrappedTensor(t=<tf.Tensor 'loop_body/StatefulPartitionedCall/args_88:0' shape=() dtype=variant>, is_stacked=False, is_sparse_stacked=False), WrappedTensor(t=<tf.Tensor 'loop_body/StatefulPartitionedCall/args_89:0' shape=() dtype=variant>, is_stacked=False, is_sparse_stacked=False), WrappedTensor(t=<tf.Tensor 'loop_body/StatefulPartitionedCall/args_90:0' shape=() dtype=variant>, is_stacked=False, is_sparse_stacked=False), WrappedTensor(t=<tf.Tensor 'loop_body/StatefulPartitionedCall/args_91:0' shape=() dtype=variant>, is_stacked=False, is_sparse_stacked=False), WrappedTensor(t=<tf.Tensor 'loop_body/StatefulPartitionedCall/args_92:0' shape=() dtype=variant>, is_stacked=False, is_sparse_stacked=False), WrappedTensor(t=<tf.Tensor 'loop_body/StatefulPartitionedCall/args_93:0' shape=() dtype=variant>, is_stacked=False, is_sparse_stacked=False), WrappedTensor(t=<tf.Tensor 'loop_body/StatefulPartitionedCall/args_94:0' shape=() dtype=variant>, is_stacked=False, is_sparse_stacked=False), WrappedTensor(t=<tf.Tensor 'loop_body/StatefulPartitionedCall/args_95:0' shape=() dtype=variant>, is_stacked=False, is_sparse_stacked=False), WrappedTensor(t=<tf.Tensor 'loop_body/StatefulPartitionedCall/args_96:0' shape=() dtype=variant>, is_stacked=False, is_sparse_stacked=False), WrappedTensor(t=<tf.Tensor 'loop_body/StatefulPartitionedCall/args_97:0' shape=() dtype=variant>, is_stacked=False, is_sparse_stacked=False), WrappedTensor(t=<tf.Tensor 'loop_body/StatefulPartitionedCall/args_98:0' shape=() dtype=variant>, is_stacked=False, is_sparse_stacked=False), WrappedTensor(t=<tf.Tensor 'loop_body/StatefulPartitionedCall/args_99:0' shape=() dtype=variant>, is_stacked=False, is_sparse_stacked=False), WrappedTensor(t=<tf.Tensor 'loop_body/StatefulPartitionedCall/args_100:0' shape=() dtype=variant>, is_stacked=False, is_sparse_stacked=False), WrappedTensor(t=<tf.Tensor 'loop_body/StatefulPartitionedCall/args_101:0' shape=() dtype=variant>, is_stacked=False, is_sparse_stacked=False), WrappedTensor(t=<tf.Tensor 'loop_body/StatefulPartitionedCall/args_102:0' shape=() dtype=variant>, is_stacked=False, is_sparse_stacked=False), WrappedTensor(t=<tf.Tensor 'loop_body/StatefulPartitionedCall/args_103:0' shape=() dtype=variant>, is_stacked=False, is_sparse_stacked=False), WrappedTensor(t=<tf.Tensor 'loop_body/StatefulPartitionedCall/args_104:0' shape=() dtype=variant>, is_stacked=False, is_sparse_stacked=False), WrappedTensor(t=<tf.Tensor 'loop_body/StatefulPartitionedCall/args_105:0' shape=() dtype=variant>, is_stacked=False, is_sparse_stacked=False), WrappedTensor(t=<tf.Tensor 'loop_body/StatefulPartitionedCall/args_106:0' shape=() dtype=variant>, is_stacked=False, is_sparse_stacked=False), WrappedTensor(t=<tf.Tensor 'loop_body/StatefulPartitionedCall/args_107:0' shape=() dtype=variant>, is_stacked=False, is_sparse_stacked=False), WrappedTensor(t=<tf.Tensor 'loop_body/StatefulPartitionedCall/args_108:0' shape=() dtype=variant>, is_stacked=False, is_sparse_stacked=False), WrappedTensor(t=<tf.Tensor 'loop_body/StatefulPartitionedCall/args_109:0' shape=() dtype=variant>, is_stacked=False, is_sparse_stacked=False), WrappedTensor(t=<tf.Tensor 'loop_body/StatefulPartitionedCall/args_110:0' shape=() dtype=variant>, is_stacked=False, is_sparse_stacked=False), WrappedTensor(t=<tf.Tensor 'loop_body/StatefulPartitionedCall/args_111:0' shape=() dtype=variant>, is_stacked=False, is_sparse_stacked=False), WrappedTensor(t=<tf.Tensor 'loop_body/StatefulPartitionedCall/args_112:0' shape=() dtype=variant>, is_stacked=False, is_sparse_stacked=False), WrappedTensor(t=<tf.Tensor 'loop_body/StatefulPartitionedCall/args_113:0' shape=() dtype=variant>, is_stacked=False, is_sparse_stacked=False), WrappedTensor(t=<tf.Tensor 'loop_body/StatefulPartitionedCall/args_114:0' shape=() dtype=variant>, is_stacked=False, is_sparse_stacked=False), WrappedTensor(t=<tf.Tensor 'loop_body/StatefulPartitionedCall/args_115:0' shape=() dtype=variant>, is_stacked=False, is_sparse_stacked=False), WrappedTensor(t=<tf.Tensor 'loop_body/StatefulPartitionedCall/args_116:0' shape=() dtype=variant>, is_stacked=False, is_sparse_stacked=False), WrappedTensor(t=<tf.Tensor 'loop_body/StatefulPartitionedCall/args_117:0' shape=() dtype=variant>, is_stacked=False, is_sparse_stacked=False), WrappedTensor(t=<tf.Tensor 'loop_body/StatefulPartitionedCall/args_118:0' shape=() dtype=variant>, is_stacked=False, is_sparse_stacked=False), WrappedTensor(t=<tf.Tensor 'loop_body/StatefulPartitionedCall/args_119:0' shape=() dtype=variant>, is_stacked=False, is_sparse_stacked=False), WrappedTensor(t=<tf.Tensor 'loop_body/StatefulPartitionedCall/args_120:0' shape=() dtype=variant>, is_stacked=False, is_sparse_stacked=False), WrappedTensor(t=<tf.Tensor 'loop_body/StatefulPartitionedCall/args_121:0' shape=() dtype=variant>, is_stacked=False, is_sparse_stacked=False), WrappedTensor(t=<tf.Tensor 'loop_body/StatefulPartitionedCall/args_122:0' shape=() dtype=variant>, is_stacked=False, is_sparse_stacked=False), WrappedTensor(t=<tf.Tensor 'loop_body/StatefulPartitionedCall/args_123:0' shape=() dtype=variant>, is_stacked=False, is_sparse_stacked=False), WrappedTensor(t=<tf.Tensor 'loop_body/StatefulPartitionedCall/args_124:0' shape=() dtype=variant>, is_stacked=False, is_sparse_stacked=False), WrappedTensor(t=<tf.Tensor 'loop_body/StatefulPartitionedCall/args_125:0' shape=() dtype=variant>, is_stacked=False, is_sparse_stacked=False), WrappedTensor(t=<tf.Tensor 'loop_body/StatefulPartitionedCall/args_126:0' shape=() dtype=variant>, is_stacked=False, is_sparse_stacked=False), WrappedTensor(t=<tf.Tensor 'loop_body/StatefulPartitionedCall/args_127:0' shape=() dtype=variant>, is_stacked=False, is_sparse_stacked=False), WrappedTensor(t=<tf.Tensor 'loop_body/StatefulPartitionedCall/args_128:0' shape=() dtype=variant>, is_stacked=False, is_sparse_stacked=False), WrappedTensor(t=<tf.Tensor 'loop_body/StatefulPartitionedCall/args_129:0' shape=() dtype=variant>, is_stacked=False, is_sparse_stacked=False), WrappedTensor(t=<tf.Tensor 'loop_body/StatefulPartitionedCall/args_130:0' shape=() dtype=variant>, is_stacked=False, is_sparse_stacked=False), WrappedTensor(t=<tf.Tensor 'loop_body/StatefulPartitionedCall/args_131:0' shape=() dtype=variant>, is_stacked=False, is_sparse_stacked=False), WrappedTensor(t=<tf.Tensor 'loop_body/StatefulPartitionedCall/args_132:0' shape=() dtype=variant>, is_stacked=False, is_sparse_stacked=False), WrappedTensor(t=<tf.Tensor 'loop_body/StatefulPartitionedCall/args_133:0' shape=() dtype=variant>, is_stacked=False, is_sparse_stacked=False), WrappedTensor(t=<tf.Tensor 'loop_body/StatefulPartitionedCall/args_134:0' shape=() dtype=variant>, is_stacked=False, is_sparse_stacked=False), WrappedTensor(t=<tf.Tensor 'loop_body/StatefulPartitionedCall/args_135:0' shape=() dtype=variant>, is_stacked=False, is_sparse_stacked=False), WrappedTensor(t=<tf.Tensor 'loop_body/StatefulPartitionedCall/args_136:0' shape=() dtype=variant>, is_stacked=False, is_sparse_stacked=False), WrappedTensor(t=<tf.Tensor 'loop_body/StatefulPartitionedCall/args_137:0' shape=() dtype=variant>, is_stacked=False, is_sparse_stacked=False), WrappedTensor(t=<tf.Tensor 'loop_body/StatefulPartitionedCall/args_138:0' shape=() dtype=variant>, is_stacked=False, is_sparse_stacked=False), WrappedTensor(t=<tf.Tensor 'loop_body/StatefulPartitionedCall/args_139:0' shape=() dtype=variant>, is_stacked=False, is_sparse_stacked=False), WrappedTensor(t=<tf.Tensor 'loop_body/StatefulPartitionedCall/args_140:0' shape=() dtype=variant>, is_stacked=False, is_sparse_stacked=False)]\n",
      "in converted code:\n",
      "\n",
      "    /Users/zhouji/anaconda3/envs/bys/lib/python3.7/site-packages/tensorflow_core/python/ops/parallel_for/pfor.py:3421 f  *\n",
      "        return tuple(\n",
      "    /Users/zhouji/anaconda3/envs/bys/lib/python3.7/site-packages/tensorflow_core/python/ops/parallel_for/pfor.py:1453 _convert_helper\n",
      "        if flags.FLAGS.op_conversion_fallback_to_while_loop:\n",
      "    /Users/zhouji/anaconda3/envs/bys/lib/python3.7/site-packages/tensorflow_core/python/platform/flags.py:84 __getattr__\n",
      "        wrapped(_sys.argv)\n",
      "    /Users/zhouji/anaconda3/envs/bys/lib/python3.7/site-packages/absl/flags/_flagvalues.py:633 __call__\n",
      "        name, value, suggestions=suggestions)\n",
      "\n",
      "    UnrecognizedFlagError: Unknown command line flag 'f'\n",
      "\n",
      "Here are the pfor conversion stack traces:\n"
     ]
    },
    {
     "name": "stdout",
     "output_type": "stream",
     "text": [
      "ERROR:tensorflow:name: \"loop_body/StatefulPartitionedCall\"\n",
      "op: \"StatefulPartitionedCall\"\n",
      "input: \"loop_body/Reshape_2\"\n",
      "input: \"loop_body/StatefulPartitionedCall/args_1\"\n",
      "input: \"loop_body/StatefulPartitionedCall/args_2\"\n",
      "input: \"loop_body/StatefulPartitionedCall/args_3\"\n",
      "input: \"loop_body/StatefulPartitionedCall/args_4\"\n",
      "input: \"loop_body/StatefulPartitionedCall/args_5\"\n",
      "input: \"loop_body/StatefulPartitionedCall/args_6\"\n",
      "input: \"loop_body/StatefulPartitionedCall/args_7\"\n",
      "input: \"loop_body/StatefulPartitionedCall/args_8\"\n",
      "input: \"loop_body/StatefulPartitionedCall/args_9\"\n",
      "input: \"loop_body/StatefulPartitionedCall/args_10\"\n",
      "input: \"loop_body/StatefulPartitionedCall/args_11\"\n",
      "input: \"loop_body/StatefulPartitionedCall/args_12\"\n",
      "input: \"loop_body/StatefulPartitionedCall/args_13\"\n",
      "input: \"loop_body/StatefulPartitionedCall/args_14\"\n",
      "input: \"loop_body/StatefulPartitionedCall/args_15\"\n",
      "input: \"loop_body/StatefulPartitionedCall/args_16\"\n",
      "input: \"loop_body/StatefulPartitionedCall/args_17\"\n",
      "input: \"loop_body/StatefulPartitionedCall/args_18\"\n",
      "input: \"loop_body/StatefulPartitionedCall/args_19\"\n",
      "input: \"loop_body/StatefulPartitionedCall/args_20\"\n",
      "input: \"loop_body/StatefulPartitionedCall/args_21\"\n",
      "input: \"loop_body/StatefulPartitionedCall/args_22\"\n",
      "input: \"loop_body/StatefulPartitionedCall/args_23\"\n",
      "input: \"loop_body/StatefulPartitionedCall/args_24\"\n",
      "input: \"loop_body/StatefulPartitionedCall/args_25\"\n",
      "input: \"loop_body/StatefulPartitionedCall/args_26\"\n",
      "input: \"loop_body/StatefulPartitionedCall/args_27\"\n",
      "input: \"loop_body/StatefulPartitionedCall/args_28\"\n",
      "input: \"loop_body/StatefulPartitionedCall/args_29\"\n",
      "input: \"loop_body/StatefulPartitionedCall/args_30\"\n",
      "input: \"loop_body/StatefulPartitionedCall/args_31\"\n",
      "input: \"loop_body/StatefulPartitionedCall/args_32\"\n",
      "input: \"loop_body/StatefulPartitionedCall/args_33\"\n",
      "input: \"loop_body/StatefulPartitionedCall/args_34\"\n",
      "input: \"loop_body/StatefulPartitionedCall/args_35\"\n",
      "input: \"loop_body/StatefulPartitionedCall/args_36\"\n",
      "input: \"loop_body/StatefulPartitionedCall/args_37\"\n",
      "input: \"loop_body/StatefulPartitionedCall/args_38\"\n",
      "input: \"loop_body/StatefulPartitionedCall/args_39\"\n",
      "input: \"loop_body/StatefulPartitionedCall/args_40\"\n",
      "input: \"loop_body/StatefulPartitionedCall/args_41\"\n",
      "input: \"loop_body/StatefulPartitionedCall/args_42\"\n",
      "input: \"loop_body/StatefulPartitionedCall/args_43\"\n",
      "input: \"loop_body/StatefulPartitionedCall/args_44\"\n",
      "input: \"loop_body/StatefulPartitionedCall/args_45\"\n",
      "input: \"loop_body/StatefulPartitionedCall/args_46\"\n",
      "input: \"loop_body/StatefulPartitionedCall/args_47\"\n",
      "input: \"loop_body/StatefulPartitionedCall/args_48\"\n",
      "input: \"loop_body/StatefulPartitionedCall/args_49\"\n",
      "input: \"loop_body/StatefulPartitionedCall/args_50\"\n",
      "input: \"loop_body/StatefulPartitionedCall/args_51\"\n",
      "input: \"loop_body/StatefulPartitionedCall/args_52\"\n",
      "input: \"loop_body/StatefulPartitionedCall/args_53\"\n",
      "input: \"loop_body/StatefulPartitionedCall/args_54\"\n",
      "input: \"loop_body/StatefulPartitionedCall/args_55\"\n",
      "input: \"loop_body/StatefulPartitionedCall/args_56\"\n",
      "input: \"loop_body/StatefulPartitionedCall/args_57\"\n",
      "input: \"loop_body/StatefulPartitionedCall/args_58\"\n",
      "input: \"loop_body/StatefulPartitionedCall/args_59\"\n",
      "input: \"loop_body/StatefulPartitionedCall/args_60\"\n",
      "input: \"loop_body/StatefulPartitionedCall/args_61\"\n",
      "input: \"loop_body/StatefulPartitionedCall/args_62\"\n",
      "input: \"loop_body/StatefulPartitionedCall/args_63\"\n",
      "input: \"loop_body/StatefulPartitionedCall/args_64\"\n",
      "input: \"loop_body/StatefulPartitionedCall/args_65\"\n",
      "input: \"loop_body/StatefulPartitionedCall/args_66\"\n",
      "input: \"loop_body/StatefulPartitionedCall/args_67\"\n",
      "input: \"loop_body/StatefulPartitionedCall/args_68\"\n",
      "input: \"loop_body/StatefulPartitionedCall/args_69\"\n",
      "input: \"loop_body/StatefulPartitionedCall/args_70\"\n",
      "input: \"loop_body/StatefulPartitionedCall/args_71\"\n",
      "input: \"loop_body/StatefulPartitionedCall/args_72\"\n",
      "input: \"loop_body/StatefulPartitionedCall/args_73\"\n",
      "input: \"loop_body/StatefulPartitionedCall/args_74\"\n",
      "input: \"loop_body/StatefulPartitionedCall/args_75\"\n",
      "input: \"loop_body/StatefulPartitionedCall/args_76\"\n",
      "input: \"loop_body/StatefulPartitionedCall/args_77\"\n",
      "input: \"loop_body/StatefulPartitionedCall/args_78\"\n",
      "input: \"loop_body/StatefulPartitionedCall/args_79\"\n",
      "input: \"loop_body/StatefulPartitionedCall/args_80\"\n",
      "input: \"loop_body/StatefulPartitionedCall/args_81\"\n",
      "input: \"loop_body/StatefulPartitionedCall/args_82\"\n",
      "input: \"loop_body/StatefulPartitionedCall/args_83\"\n",
      "input: \"loop_body/StatefulPartitionedCall/args_84\"\n",
      "input: \"loop_body/StatefulPartitionedCall/args_85\"\n",
      "input: \"loop_body/StatefulPartitionedCall/args_86\"\n",
      "input: \"loop_body/StatefulPartitionedCall/args_87\"\n",
      "input: \"loop_body/StatefulPartitionedCall/args_88\"\n",
      "input: \"loop_body/StatefulPartitionedCall/args_89\"\n",
      "input: \"loop_body/StatefulPartitionedCall/args_90\"\n",
      "input: \"loop_body/StatefulPartitionedCall/args_91\"\n",
      "input: \"loop_body/StatefulPartitionedCall/args_92\"\n",
      "input: \"loop_body/StatefulPartitionedCall/args_93\"\n",
      "input: \"loop_body/StatefulPartitionedCall/args_94\"\n",
      "input: \"loop_body/StatefulPartitionedCall/args_95\"\n",
      "input: \"loop_body/StatefulPartitionedCall/args_96\"\n",
      "input: \"loop_body/StatefulPartitionedCall/args_97\"\n",
      "input: \"loop_body/StatefulPartitionedCall/args_98\"\n",
      "input: \"loop_body/StatefulPartitionedCall/args_99\"\n",
      "input: \"loop_body/StatefulPartitionedCall/args_100\"\n",
      "input: \"loop_body/StatefulPartitionedCall/args_101\"\n",
      "input: \"loop_body/StatefulPartitionedCall/args_102\"\n",
      "input: \"loop_body/StatefulPartitionedCall/args_103\"\n",
      "input: \"loop_body/StatefulPartitionedCall/args_104\"\n",
      "input: \"loop_body/StatefulPartitionedCall/args_105\"\n",
      "input: \"loop_body/StatefulPartitionedCall/args_106\"\n",
      "input: \"loop_body/StatefulPartitionedCall/args_107\"\n",
      "input: \"loop_body/StatefulPartitionedCall/args_108\"\n",
      "input: \"loop_body/StatefulPartitionedCall/args_109\"\n",
      "input: \"loop_body/StatefulPartitionedCall/args_110\"\n",
      "input: \"loop_body/StatefulPartitionedCall/args_111\"\n",
      "input: \"loop_body/StatefulPartitionedCall/args_112\"\n",
      "input: \"loop_body/StatefulPartitionedCall/args_113\"\n",
      "input: \"loop_body/StatefulPartitionedCall/args_114\"\n",
      "input: \"loop_body/StatefulPartitionedCall/args_115\"\n",
      "input: \"loop_body/StatefulPartitionedCall/args_116\"\n",
      "input: \"loop_body/StatefulPartitionedCall/args_117\"\n",
      "input: \"loop_body/StatefulPartitionedCall/args_118\"\n",
      "input: \"loop_body/StatefulPartitionedCall/args_119\"\n",
      "input: \"loop_body/StatefulPartitionedCall/args_120\"\n",
      "input: \"loop_body/StatefulPartitionedCall/args_121\"\n",
      "input: \"loop_body/StatefulPartitionedCall/args_122\"\n",
      "input: \"loop_body/StatefulPartitionedCall/args_123\"\n",
      "input: \"loop_body/StatefulPartitionedCall/args_124\"\n",
      "input: \"loop_body/StatefulPartitionedCall/args_125\"\n",
      "input: \"loop_body/StatefulPartitionedCall/args_126\"\n",
      "input: \"loop_body/StatefulPartitionedCall/args_127\"\n",
      "input: \"loop_body/StatefulPartitionedCall/args_128\"\n",
      "input: \"loop_body/StatefulPartitionedCall/args_129\"\n",
      "input: \"loop_body/StatefulPartitionedCall/args_130\"\n",
      "input: \"loop_body/StatefulPartitionedCall/args_131\"\n",
      "input: \"loop_body/StatefulPartitionedCall/args_132\"\n",
      "input: \"loop_body/StatefulPartitionedCall/args_133\"\n",
      "input: \"loop_body/StatefulPartitionedCall/args_134\"\n",
      "input: \"loop_body/StatefulPartitionedCall/args_135\"\n",
      "input: \"loop_body/StatefulPartitionedCall/args_136\"\n",
      "input: \"loop_body/StatefulPartitionedCall/args_137\"\n",
      "input: \"loop_body/StatefulPartitionedCall/args_138\"\n",
      "input: \"loop_body/StatefulPartitionedCall/args_139\"\n",
      "input: \"loop_body/StatefulPartitionedCall/args_140\"\n",
      "attr {\n",
      "  key: \"Tin\"\n",
      "  value {\n",
      "    list {\n",
      "      type: DT_FLOAT\n",
      "      type: DT_VARIANT\n",
      "      type: DT_RESOURCE\n",
      "      type: DT_RESOURCE\n",
      "      type: DT_FLOAT\n",
      "      type: DT_INT32\n",
      "      type: DT_INT32\n",
      "      type: DT_VARIANT\n",
      "      type: DT_VARIANT\n",
      "      type: DT_VARIANT\n",
      "      type: DT_VARIANT\n",
      "      type: DT_VARIANT\n",
      "      type: DT_VARIANT\n",
      "      type: DT_VARIANT\n",
      "      type: DT_VARIANT\n",
      "      type: DT_VARIANT\n",
      "      type: DT_VARIANT\n",
      "      type: DT_VARIANT\n",
      "      type: DT_VARIANT\n",
      "      type: DT_VARIANT\n",
      "      type: DT_VARIANT\n",
      "      type: DT_VARIANT\n",
      "      type: DT_VARIANT\n",
      "      type: DT_VARIANT\n",
      "      type: DT_VARIANT\n",
      "      type: DT_VARIANT\n",
      "      type: DT_VARIANT\n",
      "      type: DT_VARIANT\n",
      "      type: DT_VARIANT\n",
      "      type: DT_VARIANT\n",
      "      type: DT_VARIANT\n",
      "      type: DT_VARIANT\n",
      "      type: DT_VARIANT\n",
      "      type: DT_VARIANT\n",
      "      type: DT_VARIANT\n",
      "      type: DT_VARIANT\n",
      "      type: DT_VARIANT\n",
      "      type: DT_VARIANT\n",
      "      type: DT_VARIANT\n",
      "      type: DT_VARIANT\n",
      "      type: DT_VARIANT\n",
      "      type: DT_VARIANT\n",
      "      type: DT_VARIANT\n",
      "      type: DT_VARIANT\n",
      "      type: DT_VARIANT\n",
      "      type: DT_VARIANT\n",
      "      type: DT_VARIANT\n",
      "      type: DT_VARIANT\n",
      "      type: DT_VARIANT\n",
      "      type: DT_VARIANT\n",
      "      type: DT_VARIANT\n",
      "      type: DT_VARIANT\n",
      "      type: DT_VARIANT\n",
      "      type: DT_VARIANT\n",
      "      type: DT_VARIANT\n",
      "      type: DT_VARIANT\n",
      "      type: DT_VARIANT\n",
      "      type: DT_VARIANT\n",
      "      type: DT_VARIANT\n",
      "      type: DT_VARIANT\n",
      "      type: DT_VARIANT\n",
      "      type: DT_VARIANT\n",
      "      type: DT_VARIANT\n",
      "      type: DT_VARIANT\n",
      "      type: DT_VARIANT\n",
      "      type: DT_VARIANT\n",
      "      type: DT_VARIANT\n",
      "      type: DT_VARIANT\n",
      "      type: DT_VARIANT\n",
      "      type: DT_VARIANT\n",
      "      type: DT_VARIANT\n",
      "      type: DT_VARIANT\n",
      "      type: DT_VARIANT\n",
      "      type: DT_VARIANT\n",
      "      type: DT_VARIANT\n",
      "      type: DT_VARIANT\n",
      "      type: DT_VARIANT\n",
      "      type: DT_VARIANT\n",
      "      type: DT_VARIANT\n",
      "      type: DT_VARIANT\n",
      "      type: DT_VARIANT\n",
      "      type: DT_VARIANT\n",
      "      type: DT_VARIANT\n",
      "      type: DT_VARIANT\n",
      "      type: DT_VARIANT\n",
      "      type: DT_VARIANT\n",
      "      type: DT_VARIANT\n",
      "      type: DT_VARIANT\n",
      "      type: DT_VARIANT\n",
      "      type: DT_VARIANT\n",
      "      type: DT_VARIANT\n",
      "      type: DT_VARIANT\n",
      "      type: DT_VARIANT\n",
      "      type: DT_VARIANT\n",
      "      type: DT_VARIANT\n",
      "      type: DT_VARIANT\n",
      "      type: DT_VARIANT\n",
      "      type: DT_VARIANT\n",
      "      type: DT_VARIANT\n",
      "      type: DT_VARIANT\n",
      "      type: DT_VARIANT\n",
      "      type: DT_VARIANT\n",
      "      type: DT_VARIANT\n",
      "      type: DT_VARIANT\n",
      "      type: DT_VARIANT\n",
      "      type: DT_VARIANT\n",
      "      type: DT_VARIANT\n",
      "      type: DT_VARIANT\n",
      "      type: DT_VARIANT\n",
      "      type: DT_VARIANT\n",
      "      type: DT_VARIANT\n",
      "      type: DT_VARIANT\n",
      "      type: DT_VARIANT\n",
      "      type: DT_VARIANT\n",
      "      type: DT_VARIANT\n",
      "      type: DT_VARIANT\n",
      "      type: DT_VARIANT\n",
      "      type: DT_VARIANT\n",
      "      type: DT_VARIANT\n",
      "      type: DT_VARIANT\n",
      "      type: DT_VARIANT\n",
      "      type: DT_VARIANT\n",
      "      type: DT_VARIANT\n",
      "      type: DT_VARIANT\n",
      "      type: DT_VARIANT\n",
      "      type: DT_VARIANT\n",
      "      type: DT_VARIANT\n",
      "      type: DT_VARIANT\n",
      "      type: DT_VARIANT\n",
      "      type: DT_VARIANT\n",
      "      type: DT_VARIANT\n",
      "      type: DT_VARIANT\n",
      "      type: DT_VARIANT\n",
      "      type: DT_VARIANT\n",
      "      type: DT_VARIANT\n",
      "      type: DT_VARIANT\n",
      "      type: DT_VARIANT\n",
      "      type: DT_VARIANT\n",
      "      type: DT_VARIANT\n",
      "      type: DT_VARIANT\n",
      "      type: DT_VARIANT\n",
      "    }\n",
      "  }\n",
      "}\n",
      "attr {\n",
      "  key: \"Tout\"\n",
      "  value {\n",
      "    list {\n",
      "      type: DT_FLOAT\n",
      "      type: DT_FLOAT\n",
      "      type: DT_FLOAT\n",
      "    }\n",
      "  }\n",
      "}\n",
      "attr {\n",
      "  key: \"_gradient_op_type\"\n",
      "  value {\n",
      "    s: \"PartitionedCallUnused\"\n",
      "  }\n",
      "}\n",
      "attr {\n",
      "  key: \"config\"\n",
      "  value {\n",
      "    s: \"\"\n",
      "  }\n",
      "}\n",
      "attr {\n",
      "  key: \"config_proto\"\n",
      "  value {\n",
      "    s: \"\\n\\007\\n\\003GPU\\020\\000\\n\\007\\n\\003CPU\\020\\0012\\002J\\0008\\001\"\n",
      "  }\n",
      "}\n",
      "attr {\n",
      "  key: \"executor_type\"\n",
      "  value {\n",
      "    s: \"\"\n",
      "  }\n",
      "}\n",
      "attr {\n",
      "  key: \"f\"\n",
      "  value {\n",
      "    func {\n",
      "      name: \"__inference___backward_grav_17345532_17351781\"\n",
      "    }\n",
      "  }\n",
      "}\n",
      "\n",
      "created at:\n",
      "    File \"/Users/zhouji/anaconda3/envs/bys/lib/python3.7/runpy.py\", line 193, in _run_module_as_main\n",
      "    \"__main__\", mod_spec)\n",
      "    File \"/Users/zhouji/anaconda3/envs/bys/lib/python3.7/runpy.py\", line 85, in _run_code\n",
      "    exec(code, run_globals)\n",
      "    File \"/Users/zhouji/anaconda3/envs/bys/lib/python3.7/site-packages/ipykernel_launcher.py\", line 16, in <module>\n",
      "    app.launch_new_instance()\n",
      "    File \"/Users/zhouji/.local/lib/python3.7/site-packages/traitlets/config/application.py\", line 658, in launch_instance\n",
      "    app.start()\n",
      "    File \"/Users/zhouji/anaconda3/envs/bys/lib/python3.7/site-packages/ipykernel/kernelapp.py\", line 563, in start\n",
      "    self.io_loop.start()\n",
      "    File \"/Users/zhouji/.local/lib/python3.7/site-packages/tornado/platform/asyncio.py\", line 148, in start\n",
      "    self.asyncio_loop.run_forever()\n",
      "    File \"/Users/zhouji/anaconda3/envs/bys/lib/python3.7/asyncio/base_events.py\", line 528, in run_forever\n",
      "    self._run_once()\n",
      "    File \"/Users/zhouji/anaconda3/envs/bys/lib/python3.7/asyncio/base_events.py\", line 1764, in _run_once\n",
      "    handle._run()\n",
      "    File \"/Users/zhouji/anaconda3/envs/bys/lib/python3.7/asyncio/events.py\", line 88, in _run\n",
      "    self._context.run(self._callback, *self._args)\n",
      "    File \"/Users/zhouji/.local/lib/python3.7/site-packages/tornado/ioloop.py\", line 690, in <lambda>\n",
      "    lambda f: self._run_callback(functools.partial(callback, future))\n",
      "    File \"/Users/zhouji/.local/lib/python3.7/site-packages/tornado/ioloop.py\", line 743, in _run_callback\n",
      "    ret = callback()\n",
      "    File \"/Users/zhouji/.local/lib/python3.7/site-packages/tornado/gen.py\", line 787, in inner\n",
      "    self.run()\n",
      "    File \"/Users/zhouji/.local/lib/python3.7/site-packages/tornado/gen.py\", line 748, in run\n",
      "    yielded = self.gen.send(value)\n",
      "    File \"/Users/zhouji/anaconda3/envs/bys/lib/python3.7/site-packages/ipykernel/kernelbase.py\", line 361, in process_one\n",
      "    yield gen.maybe_future(dispatch(*args))\n",
      "    File \"/Users/zhouji/.local/lib/python3.7/site-packages/tornado/gen.py\", line 209, in wrapper\n",
      "    yielded = next(result)\n",
      "    File \"/Users/zhouji/anaconda3/envs/bys/lib/python3.7/site-packages/ipykernel/kernelbase.py\", line 268, in dispatch_shell\n",
      "    yield gen.maybe_future(handler(stream, idents, msg))\n",
      "    File \"/Users/zhouji/.local/lib/python3.7/site-packages/tornado/gen.py\", line 209, in wrapper\n",
      "    yielded = next(result)\n",
      "    File \"/Users/zhouji/anaconda3/envs/bys/lib/python3.7/site-packages/ipykernel/kernelbase.py\", line 541, in execute_request\n",
      "    user_expressions, allow_stdin,\n",
      "    File \"/Users/zhouji/.local/lib/python3.7/site-packages/tornado/gen.py\", line 209, in wrapper\n",
      "    yielded = next(result)\n",
      "    File \"/Users/zhouji/anaconda3/envs/bys/lib/python3.7/site-packages/ipykernel/ipkernel.py\", line 300, in do_execute\n",
      "    res = shell.run_cell(code, store_history=store_history, silent=silent)\n",
      "    File \"/Users/zhouji/anaconda3/envs/bys/lib/python3.7/site-packages/ipykernel/zmqshell.py\", line 536, in run_cell\n",
      "    return super(ZMQInteractiveShell, self).run_cell(*args, **kwargs)\n",
      "    File \"/Users/zhouji/.local/lib/python3.7/site-packages/IPython/core/interactiveshell.py\", line 2854, in run_cell\n",
      "    raw_cell, store_history, silent, shell_futures)\n",
      "    File \"/Users/zhouji/.local/lib/python3.7/site-packages/IPython/core/interactiveshell.py\", line 2880, in _run_cell\n",
      "    return runner(coro)\n",
      "    File \"/Users/zhouji/.local/lib/python3.7/site-packages/IPython/core/async_helpers.py\", line 68, in _pseudo_sync_runner\n",
      "    coro.send(None)\n",
      "    File \"/Users/zhouji/.local/lib/python3.7/site-packages/IPython/core/interactiveshell.py\", line 3057, in run_cell_async\n",
      "    interactivity=interactivity, compiler=compiler, result=result)\n",
      "    File \"/Users/zhouji/.local/lib/python3.7/site-packages/IPython/core/interactiveshell.py\", line 3248, in run_ast_nodes\n",
      "    if (await self.run_code(code, result,  async_=asy)):\n",
      "    File \"/Users/zhouji/.local/lib/python3.7/site-packages/IPython/core/interactiveshell.py\", line 3325, in run_code\n",
      "    exec(code_obj, self.user_global_ns, self.user_ns)\n",
      "    File \"<ipython-input-103-b6e74720290d>\", line 4, in <module>\n",
      "    jac = tt.jacobian(loss,z)\n",
      "    File \"/Users/zhouji/anaconda3/envs/bys/lib/python3.7/site-packages/tensorflow_core/python/eager/backprop.py\", line 1113, in jacobian\n",
      "    parallel_iterations=parallel_iterations)\n",
      "    File \"/Users/zhouji/anaconda3/envs/bys/lib/python3.7/site-packages/tensorflow_core/python/ops/parallel_for/control_flow_ops.py\", line 189, in pfor\n",
      "    return f()\n",
      "    File \"/Users/zhouji/anaconda3/envs/bys/lib/python3.7/site-packages/tensorflow_core/python/eager/function.py\", line 2362, in __call__\n",
      "    graph_function, args, kwargs = self._maybe_define_function(args, kwargs)\n",
      "    File \"/Users/zhouji/anaconda3/envs/bys/lib/python3.7/site-packages/tensorflow_core/python/eager/function.py\", line 2703, in _maybe_define_function\n",
      "    graph_function = self._create_graph_function(args, kwargs)\n",
      "    File \"/Users/zhouji/anaconda3/envs/bys/lib/python3.7/site-packages/tensorflow_core/python/eager/function.py\", line 2593, in _create_graph_function\n",
      "    capture_by_value=self._capture_by_value),\n",
      "    File \"/Users/zhouji/anaconda3/envs/bys/lib/python3.7/site-packages/tensorflow_core/python/framework/func_graph.py\", line 978, in func_graph_from_py_func\n",
      "    func_outputs = python_func(*func_args, **func_kwargs)\n",
      "    File \"/Users/zhouji/anaconda3/envs/bys/lib/python3.7/site-packages/tensorflow_core/python/framework/func_graph.py\", line 964, in wrapper\n",
      "    user_requested=True,\n",
      "    File \"/Users/zhouji/anaconda3/envs/bys/lib/python3.7/site-packages/tensorflow_core/python/ops/parallel_for/control_flow_ops.py\", line 183, in f\n",
      "    return _pfor_impl(loop_fn, iters, parallel_iterations=parallel_iterations)\n",
      "    File \"/Users/zhouji/anaconda3/envs/bys/lib/python3.7/site-packages/tensorflow_core/python/ops/parallel_for/control_flow_ops.py\", line 224, in _pfor_impl\n",
      "    loop_fn_outputs = loop_fn(loop_var)\n",
      "    File \"/Users/zhouji/anaconda3/envs/bys/lib/python3.7/site-packages/tensorflow_core/python/eager/backprop.py\", line 1103, in loop_fn\n",
      "    unconnected_gradients=unconnected_gradients)\n",
      "    File \"/Users/zhouji/anaconda3/envs/bys/lib/python3.7/site-packages/tensorflow_core/python/eager/backprop.py\", line 1029, in gradient\n",
      "    unconnected_gradients=unconnected_gradients)\n",
      "    File \"/Users/zhouji/anaconda3/envs/bys/lib/python3.7/site-packages/tensorflow_core/python/eager/imperative_grad.py\", line 77, in imperative_grad\n",
      "    compat.as_str(unconnected_gradients.value))\n",
      "    File \"/Users/zhouji/anaconda3/envs/bys/lib/python3.7/site-packages/tensorflow_core/python/eager/function.py\", line 1256, in _backward_function_wrapper\n",
      "    processed_args, remapped_captures)\n",
      "    File \"/Users/zhouji/anaconda3/envs/bys/lib/python3.7/site-packages/tensorflow_core/python/eager/function.py\", line 1715, in _call_flat\n",
      "    flat_outputs = forward_function.call(ctx, args_with_tangents)\n",
      "    File \"/Users/zhouji/anaconda3/envs/bys/lib/python3.7/site-packages/tensorflow_core/python/eager/function.py\", line 574, in call\n",
      "    executor_type=executor_type)\n",
      "    File \"/Users/zhouji/anaconda3/envs/bys/lib/python3.7/site-packages/tensorflow_core/python/ops/functional_ops.py\", line 859, in partitioned_call\n",
      "    executor_type=executor_type)\n",
      "    File \"/Users/zhouji/anaconda3/envs/bys/lib/python3.7/site-packages/tensorflow_core/python/ops/gen_functional_ops.py\", line 601, in stateful_partitioned_call\n",
      "    executor_type=executor_type, name=name)\n",
      "    File \"/Users/zhouji/anaconda3/envs/bys/lib/python3.7/site-packages/tensorflow_core/python/framework/op_def_library.py\", line 742, in _apply_op_helper\n",
      "    attrs=attr_protos, op_def=op_def)\n",
      "    File \"/Users/zhouji/anaconda3/envs/bys/lib/python3.7/site-packages/tensorflow_core/python/framework/func_graph.py\", line 595, in _create_op_internal\n",
      "    compute_device)\n",
      "    File \"/Users/zhouji/anaconda3/envs/bys/lib/python3.7/site-packages/tensorflow_core/python/framework/ops.py\", line 3322, in _create_op_internal\n",
      "    op_def=op_def)\n",
      "    File \"/Users/zhouji/anaconda3/envs/bys/lib/python3.7/site-packages/tensorflow_core/python/framework/ops.py\", line 1756, in __init__\n",
      "    self._traceback = tf_stack.extract_stack()\n",
      "\n"
     ]
    },
    {
     "ename": "StagingError",
     "evalue": "in converted code:\n\n    /Users/zhouji/anaconda3/envs/bys/lib/python3.7/site-packages/tensorflow_core/python/ops/parallel_for/control_flow_ops.py:183 f  *\n        return _pfor_impl(loop_fn, iters, parallel_iterations=parallel_iterations)\n    /Users/zhouji/anaconda3/envs/bys/lib/python3.7/site-packages/tensorflow_core/python/ops/parallel_for/control_flow_ops.py:256 _pfor_impl\n        outputs.append(converter.convert(loop_fn_output))\n    /Users/zhouji/anaconda3/envs/bys/lib/python3.7/site-packages/tensorflow_core/python/ops/parallel_for/pfor.py:3421 f  *\n        return tuple(\n    /Users/zhouji/anaconda3/envs/bys/lib/python3.7/site-packages/tensorflow_core/python/ops/parallel_for/pfor.py:1453 _convert_helper\n        if flags.FLAGS.op_conversion_fallback_to_while_loop:\n    /Users/zhouji/anaconda3/envs/bys/lib/python3.7/site-packages/tensorflow_core/python/platform/flags.py:84 __getattr__\n        wrapped(_sys.argv)\n    /Users/zhouji/anaconda3/envs/bys/lib/python3.7/site-packages/absl/flags/_flagvalues.py:633 __call__\n        name, value, suggestions=suggestions)\n\n    UnrecognizedFlagError: Unknown command line flag 'f'\n",
     "output_type": "error",
     "traceback": [
      "\u001b[0;31m---------------------------------------------------------------------------\u001b[0m",
      "\u001b[0;31mStagingError\u001b[0m                              Traceback (most recent call last)",
      "\u001b[0;32m<ipython-input-103-b6e74720290d>\u001b[0m in \u001b[0;36m<module>\u001b[0;34m\u001b[0m\n\u001b[1;32m      2\u001b[0m     \u001b[0mtt\u001b[0m\u001b[0;34m.\u001b[0m\u001b[0mwatch\u001b[0m\u001b[0;34m(\u001b[0m\u001b[0mz\u001b[0m\u001b[0;34m)\u001b[0m\u001b[0;34m\u001b[0m\u001b[0;34m\u001b[0m\u001b[0m\n\u001b[1;32m      3\u001b[0m     \u001b[0mloss\u001b[0m \u001b[0;34m=\u001b[0m \u001b[0mgrav\u001b[0m\u001b[0;34m(\u001b[0m\u001b[0mx\u001b[0m\u001b[0;34m,\u001b[0m\u001b[0mz\u001b[0m\u001b[0;34m,\u001b[0m\u001b[0mps\u001b[0m\u001b[0;34m)\u001b[0m\u001b[0;34m\u001b[0m\u001b[0;34m\u001b[0m\u001b[0m\n\u001b[0;32m----> 4\u001b[0;31m \u001b[0mjac\u001b[0m \u001b[0;34m=\u001b[0m \u001b[0mtt\u001b[0m\u001b[0;34m.\u001b[0m\u001b[0mjacobian\u001b[0m\u001b[0;34m(\u001b[0m\u001b[0mloss\u001b[0m\u001b[0;34m,\u001b[0m\u001b[0mz\u001b[0m\u001b[0;34m)\u001b[0m\u001b[0;34m\u001b[0m\u001b[0;34m\u001b[0m\u001b[0m\n\u001b[0m\u001b[1;32m      5\u001b[0m \u001b[0mjac\u001b[0m\u001b[0;34m\u001b[0m\u001b[0;34m\u001b[0m\u001b[0m\n",
      "\u001b[0;32m~/anaconda3/envs/bys/lib/python3.7/site-packages/tensorflow_core/python/eager/backprop.py\u001b[0m in \u001b[0;36mjacobian\u001b[0;34m(self, target, sources, unconnected_gradients, parallel_iterations, experimental_use_pfor)\u001b[0m\n\u001b[1;32m   1111\u001b[0m       \u001b[0;32mtry\u001b[0m\u001b[0;34m:\u001b[0m\u001b[0;34m\u001b[0m\u001b[0;34m\u001b[0m\u001b[0m\n\u001b[1;32m   1112\u001b[0m         output = pfor_ops.pfor(loop_fn, target_size,\n\u001b[0;32m-> 1113\u001b[0;31m                                parallel_iterations=parallel_iterations)\n\u001b[0m\u001b[1;32m   1114\u001b[0m       \u001b[0;32mexcept\u001b[0m \u001b[0mValueError\u001b[0m \u001b[0;32mas\u001b[0m \u001b[0merr\u001b[0m\u001b[0;34m:\u001b[0m\u001b[0;34m\u001b[0m\u001b[0;34m\u001b[0m\u001b[0m\n\u001b[1;32m   1115\u001b[0m         six.reraise(\n",
      "\u001b[0;32m~/anaconda3/envs/bys/lib/python3.7/site-packages/tensorflow_core/python/ops/parallel_for/control_flow_ops.py\u001b[0m in \u001b[0;36mpfor\u001b[0;34m(loop_fn, iters, parallel_iterations)\u001b[0m\n\u001b[1;32m    187\u001b[0m   \u001b[0;32mif\u001b[0m \u001b[0mcontext\u001b[0m\u001b[0;34m.\u001b[0m\u001b[0mexecuting_eagerly\u001b[0m\u001b[0;34m(\u001b[0m\u001b[0;34m)\u001b[0m \u001b[0;32mor\u001b[0m \u001b[0m_is_under_xla_context\u001b[0m\u001b[0;34m(\u001b[0m\u001b[0;34m)\u001b[0m\u001b[0;34m:\u001b[0m\u001b[0;34m\u001b[0m\u001b[0;34m\u001b[0m\u001b[0m\n\u001b[1;32m    188\u001b[0m     \u001b[0mf\u001b[0m \u001b[0;34m=\u001b[0m \u001b[0mfunction\u001b[0m\u001b[0;34m.\u001b[0m\u001b[0mdefun\u001b[0m\u001b[0;34m(\u001b[0m\u001b[0mf\u001b[0m\u001b[0;34m)\u001b[0m\u001b[0;34m\u001b[0m\u001b[0;34m\u001b[0m\u001b[0m\n\u001b[0;32m--> 189\u001b[0;31m   \u001b[0;32mreturn\u001b[0m \u001b[0mf\u001b[0m\u001b[0;34m(\u001b[0m\u001b[0;34m)\u001b[0m\u001b[0;34m\u001b[0m\u001b[0;34m\u001b[0m\u001b[0m\n\u001b[0m\u001b[1;32m    190\u001b[0m \u001b[0;34m\u001b[0m\u001b[0m\n\u001b[1;32m    191\u001b[0m \u001b[0;34m\u001b[0m\u001b[0m\n",
      "\u001b[0;32m~/anaconda3/envs/bys/lib/python3.7/site-packages/tensorflow_core/python/eager/function.py\u001b[0m in \u001b[0;36m__call__\u001b[0;34m(self, *args, **kwargs)\u001b[0m\n\u001b[1;32m   2360\u001b[0m     \u001b[0;34m\"\"\"Calls a graph function specialized to the inputs.\"\"\"\u001b[0m\u001b[0;34m\u001b[0m\u001b[0;34m\u001b[0m\u001b[0m\n\u001b[1;32m   2361\u001b[0m     \u001b[0;32mwith\u001b[0m \u001b[0mself\u001b[0m\u001b[0;34m.\u001b[0m\u001b[0m_lock\u001b[0m\u001b[0;34m:\u001b[0m\u001b[0;34m\u001b[0m\u001b[0;34m\u001b[0m\u001b[0m\n\u001b[0;32m-> 2362\u001b[0;31m       \u001b[0mgraph_function\u001b[0m\u001b[0;34m,\u001b[0m \u001b[0margs\u001b[0m\u001b[0;34m,\u001b[0m \u001b[0mkwargs\u001b[0m \u001b[0;34m=\u001b[0m \u001b[0mself\u001b[0m\u001b[0;34m.\u001b[0m\u001b[0m_maybe_define_function\u001b[0m\u001b[0;34m(\u001b[0m\u001b[0margs\u001b[0m\u001b[0;34m,\u001b[0m \u001b[0mkwargs\u001b[0m\u001b[0;34m)\u001b[0m\u001b[0;34m\u001b[0m\u001b[0;34m\u001b[0m\u001b[0m\n\u001b[0m\u001b[1;32m   2363\u001b[0m     \u001b[0;32mreturn\u001b[0m \u001b[0mgraph_function\u001b[0m\u001b[0;34m.\u001b[0m\u001b[0m_filtered_call\u001b[0m\u001b[0;34m(\u001b[0m\u001b[0margs\u001b[0m\u001b[0;34m,\u001b[0m \u001b[0mkwargs\u001b[0m\u001b[0;34m)\u001b[0m  \u001b[0;31m# pylint: disable=protected-access\u001b[0m\u001b[0;34m\u001b[0m\u001b[0;34m\u001b[0m\u001b[0m\n\u001b[1;32m   2364\u001b[0m \u001b[0;34m\u001b[0m\u001b[0m\n",
      "\u001b[0;32m~/anaconda3/envs/bys/lib/python3.7/site-packages/tensorflow_core/python/eager/function.py\u001b[0m in \u001b[0;36m_maybe_define_function\u001b[0;34m(self, args, kwargs)\u001b[0m\n\u001b[1;32m   2701\u001b[0m \u001b[0;34m\u001b[0m\u001b[0m\n\u001b[1;32m   2702\u001b[0m       \u001b[0mself\u001b[0m\u001b[0;34m.\u001b[0m\u001b[0m_function_cache\u001b[0m\u001b[0;34m.\u001b[0m\u001b[0mmissed\u001b[0m\u001b[0;34m.\u001b[0m\u001b[0madd\u001b[0m\u001b[0;34m(\u001b[0m\u001b[0mcall_context_key\u001b[0m\u001b[0;34m)\u001b[0m\u001b[0;34m\u001b[0m\u001b[0;34m\u001b[0m\u001b[0m\n\u001b[0;32m-> 2703\u001b[0;31m       \u001b[0mgraph_function\u001b[0m \u001b[0;34m=\u001b[0m \u001b[0mself\u001b[0m\u001b[0;34m.\u001b[0m\u001b[0m_create_graph_function\u001b[0m\u001b[0;34m(\u001b[0m\u001b[0margs\u001b[0m\u001b[0;34m,\u001b[0m \u001b[0mkwargs\u001b[0m\u001b[0;34m)\u001b[0m\u001b[0;34m\u001b[0m\u001b[0;34m\u001b[0m\u001b[0m\n\u001b[0m\u001b[1;32m   2704\u001b[0m       \u001b[0mself\u001b[0m\u001b[0;34m.\u001b[0m\u001b[0m_function_cache\u001b[0m\u001b[0;34m.\u001b[0m\u001b[0mprimary\u001b[0m\u001b[0;34m[\u001b[0m\u001b[0mcache_key\u001b[0m\u001b[0;34m]\u001b[0m \u001b[0;34m=\u001b[0m \u001b[0mgraph_function\u001b[0m\u001b[0;34m\u001b[0m\u001b[0;34m\u001b[0m\u001b[0m\n\u001b[1;32m   2705\u001b[0m       \u001b[0;32mreturn\u001b[0m \u001b[0mgraph_function\u001b[0m\u001b[0;34m,\u001b[0m \u001b[0margs\u001b[0m\u001b[0;34m,\u001b[0m \u001b[0mkwargs\u001b[0m\u001b[0;34m\u001b[0m\u001b[0;34m\u001b[0m\u001b[0m\n",
      "\u001b[0;32m~/anaconda3/envs/bys/lib/python3.7/site-packages/tensorflow_core/python/eager/function.py\u001b[0m in \u001b[0;36m_create_graph_function\u001b[0;34m(self, args, kwargs, override_flat_arg_shapes)\u001b[0m\n\u001b[1;32m   2591\u001b[0m             \u001b[0marg_names\u001b[0m\u001b[0;34m=\u001b[0m\u001b[0marg_names\u001b[0m\u001b[0;34m,\u001b[0m\u001b[0;34m\u001b[0m\u001b[0;34m\u001b[0m\u001b[0m\n\u001b[1;32m   2592\u001b[0m             \u001b[0moverride_flat_arg_shapes\u001b[0m\u001b[0;34m=\u001b[0m\u001b[0moverride_flat_arg_shapes\u001b[0m\u001b[0;34m,\u001b[0m\u001b[0;34m\u001b[0m\u001b[0;34m\u001b[0m\u001b[0m\n\u001b[0;32m-> 2593\u001b[0;31m             capture_by_value=self._capture_by_value),\n\u001b[0m\u001b[1;32m   2594\u001b[0m         \u001b[0mself\u001b[0m\u001b[0;34m.\u001b[0m\u001b[0m_function_attributes\u001b[0m\u001b[0;34m,\u001b[0m\u001b[0;34m\u001b[0m\u001b[0;34m\u001b[0m\u001b[0m\n\u001b[1;32m   2595\u001b[0m         \u001b[0;31m# Tell the ConcreteFunction to clean up its graph once it goes out of\u001b[0m\u001b[0;34m\u001b[0m\u001b[0;34m\u001b[0m\u001b[0;34m\u001b[0m\u001b[0m\n",
      "\u001b[0;32m~/anaconda3/envs/bys/lib/python3.7/site-packages/tensorflow_core/python/framework/func_graph.py\u001b[0m in \u001b[0;36mfunc_graph_from_py_func\u001b[0;34m(name, python_func, args, kwargs, signature, func_graph, autograph, autograph_options, add_control_dependencies, arg_names, op_return_value, collections, capture_by_value, override_flat_arg_shapes)\u001b[0m\n\u001b[1;32m    976\u001b[0m                                           converted_func)\n\u001b[1;32m    977\u001b[0m \u001b[0;34m\u001b[0m\u001b[0m\n\u001b[0;32m--> 978\u001b[0;31m       \u001b[0mfunc_outputs\u001b[0m \u001b[0;34m=\u001b[0m \u001b[0mpython_func\u001b[0m\u001b[0;34m(\u001b[0m\u001b[0;34m*\u001b[0m\u001b[0mfunc_args\u001b[0m\u001b[0;34m,\u001b[0m \u001b[0;34m**\u001b[0m\u001b[0mfunc_kwargs\u001b[0m\u001b[0;34m)\u001b[0m\u001b[0;34m\u001b[0m\u001b[0;34m\u001b[0m\u001b[0m\n\u001b[0m\u001b[1;32m    979\u001b[0m \u001b[0;34m\u001b[0m\u001b[0m\n\u001b[1;32m    980\u001b[0m       \u001b[0;31m# invariant: `func_outputs` contains only Tensors, CompositeTensors,\u001b[0m\u001b[0;34m\u001b[0m\u001b[0;34m\u001b[0m\u001b[0;34m\u001b[0m\u001b[0m\n",
      "\u001b[0;32m~/anaconda3/envs/bys/lib/python3.7/site-packages/tensorflow_core/python/framework/func_graph.py\u001b[0m in \u001b[0;36mwrapper\u001b[0;34m(*args, **kwargs)\u001b[0m\n\u001b[1;32m    966\u001b[0m           \u001b[0;32mexcept\u001b[0m \u001b[0mException\u001b[0m \u001b[0;32mas\u001b[0m \u001b[0me\u001b[0m\u001b[0;34m:\u001b[0m  \u001b[0;31m# pylint:disable=broad-except\u001b[0m\u001b[0;34m\u001b[0m\u001b[0;34m\u001b[0m\u001b[0m\n\u001b[1;32m    967\u001b[0m             \u001b[0;32mif\u001b[0m \u001b[0mhasattr\u001b[0m\u001b[0;34m(\u001b[0m\u001b[0me\u001b[0m\u001b[0;34m,\u001b[0m \u001b[0;34m\"ag_error_metadata\"\u001b[0m\u001b[0;34m)\u001b[0m\u001b[0;34m:\u001b[0m\u001b[0;34m\u001b[0m\u001b[0;34m\u001b[0m\u001b[0m\n\u001b[0;32m--> 968\u001b[0;31m               \u001b[0;32mraise\u001b[0m \u001b[0me\u001b[0m\u001b[0;34m.\u001b[0m\u001b[0mag_error_metadata\u001b[0m\u001b[0;34m.\u001b[0m\u001b[0mto_exception\u001b[0m\u001b[0;34m(\u001b[0m\u001b[0me\u001b[0m\u001b[0;34m)\u001b[0m\u001b[0;34m\u001b[0m\u001b[0;34m\u001b[0m\u001b[0m\n\u001b[0m\u001b[1;32m    969\u001b[0m             \u001b[0;32melse\u001b[0m\u001b[0;34m:\u001b[0m\u001b[0;34m\u001b[0m\u001b[0;34m\u001b[0m\u001b[0m\n\u001b[1;32m    970\u001b[0m               \u001b[0;32mraise\u001b[0m\u001b[0;34m\u001b[0m\u001b[0;34m\u001b[0m\u001b[0m\n",
      "\u001b[0;31mStagingError\u001b[0m: in converted code:\n\n    /Users/zhouji/anaconda3/envs/bys/lib/python3.7/site-packages/tensorflow_core/python/ops/parallel_for/control_flow_ops.py:183 f  *\n        return _pfor_impl(loop_fn, iters, parallel_iterations=parallel_iterations)\n    /Users/zhouji/anaconda3/envs/bys/lib/python3.7/site-packages/tensorflow_core/python/ops/parallel_for/control_flow_ops.py:256 _pfor_impl\n        outputs.append(converter.convert(loop_fn_output))\n    /Users/zhouji/anaconda3/envs/bys/lib/python3.7/site-packages/tensorflow_core/python/ops/parallel_for/pfor.py:3421 f  *\n        return tuple(\n    /Users/zhouji/anaconda3/envs/bys/lib/python3.7/site-packages/tensorflow_core/python/ops/parallel_for/pfor.py:1453 _convert_helper\n        if flags.FLAGS.op_conversion_fallback_to_while_loop:\n    /Users/zhouji/anaconda3/envs/bys/lib/python3.7/site-packages/tensorflow_core/python/platform/flags.py:84 __getattr__\n        wrapped(_sys.argv)\n    /Users/zhouji/anaconda3/envs/bys/lib/python3.7/site-packages/absl/flags/_flagvalues.py:633 __call__\n        name, value, suggestions=suggestions)\n\n    UnrecognizedFlagError: Unknown command line flag 'f'\n"
     ]
    }
   ],
   "source": [
    "with tf.GradientTape() as tt:\n",
    "    tt.watch(z)\n",
    "    loss = grav(x,z,ps)\n",
    "jac = tt.jacobian(loss,z)\n",
    "jac"
   ]
  },
  {
   "cell_type": "code",
   "execution_count": 54,
   "metadata": {
    "ExecuteTime": {
     "end_time": "2020-01-23T15:11:34.147203Z",
     "start_time": "2020-01-23T15:11:34.131302Z"
    }
   },
   "outputs": [
    {
     "ename": "NameError",
     "evalue": "name 'ps' is not defined",
     "output_type": "error",
     "traceback": [
      "\u001b[0;31m---------------------------------------------------------------------------\u001b[0m",
      "\u001b[0;31mNameError\u001b[0m                                 Traceback (most recent call last)",
      "\u001b[0;32m<ipython-input-54-ef7af557bd2e>\u001b[0m in \u001b[0;36m<module>\u001b[0;34m\u001b[0m\n\u001b[1;32m      1\u001b[0m \u001b[0;32mwith\u001b[0m \u001b[0mtf\u001b[0m\u001b[0;34m.\u001b[0m\u001b[0mGradientTape\u001b[0m\u001b[0;34m(\u001b[0m\u001b[0mpersistent\u001b[0m\u001b[0;34m=\u001b[0m\u001b[0;32mTrue\u001b[0m\u001b[0;34m)\u001b[0m \u001b[0;32mas\u001b[0m \u001b[0mtt\u001b[0m\u001b[0;34m:\u001b[0m\u001b[0;34m\u001b[0m\u001b[0;34m\u001b[0m\u001b[0m\n\u001b[1;32m      2\u001b[0m     \u001b[0mtt\u001b[0m\u001b[0;34m.\u001b[0m\u001b[0mwatch\u001b[0m\u001b[0;34m(\u001b[0m\u001b[0mz\u001b[0m\u001b[0;34m)\u001b[0m\u001b[0;34m\u001b[0m\u001b[0;34m\u001b[0m\u001b[0m\n\u001b[0;32m----> 3\u001b[0;31m     \u001b[0mloss\u001b[0m \u001b[0;34m=\u001b[0m \u001b[0mgrav\u001b[0m\u001b[0;34m(\u001b[0m\u001b[0mx\u001b[0m\u001b[0;34m,\u001b[0m\u001b[0mz\u001b[0m\u001b[0;34m,\u001b[0m\u001b[0mps\u001b[0m\u001b[0;34m)\u001b[0m\u001b[0;34m\u001b[0m\u001b[0;34m\u001b[0m\u001b[0m\n\u001b[0m\u001b[1;32m      4\u001b[0m     \u001b[0mjac\u001b[0m \u001b[0;34m=\u001b[0m \u001b[0mtt\u001b[0m\u001b[0;34m.\u001b[0m\u001b[0mgradient\u001b[0m\u001b[0;34m(\u001b[0m\u001b[0mloss\u001b[0m\u001b[0;34m,\u001b[0m\u001b[0mz\u001b[0m\u001b[0;34m,\u001b[0m\u001b[0munconnected_gradients\u001b[0m\u001b[0;34m=\u001b[0m\u001b[0;34m'zero'\u001b[0m\u001b[0;34m)\u001b[0m\u001b[0;34m\u001b[0m\u001b[0;34m\u001b[0m\u001b[0m\n\u001b[1;32m      5\u001b[0m \u001b[0mhess\u001b[0m \u001b[0;34m=\u001b[0m \u001b[0mtt\u001b[0m\u001b[0;34m.\u001b[0m\u001b[0mjacobian\u001b[0m\u001b[0;34m(\u001b[0m\u001b[0mjac\u001b[0m\u001b[0;34m,\u001b[0m\u001b[0mz\u001b[0m\u001b[0;34m,\u001b[0m\u001b[0munconnected_gradients\u001b[0m \u001b[0;34m=\u001b[0m \u001b[0;34m'none'\u001b[0m\u001b[0;34m)\u001b[0m\u001b[0;34m\u001b[0m\u001b[0;34m\u001b[0m\u001b[0m\n",
      "\u001b[0;31mNameError\u001b[0m: name 'ps' is not defined"
     ]
    }
   ],
   "source": [
    "with tf.GradientTape(persistent=True) as tt:\n",
    "    tt.watch(z)\n",
    "    loss = grav(x,z,ps)\n",
    "    jac = tt.gradient(loss,z,unconnected_gradients='zero')\n",
    "hess = tt.jacobian(jac,z,unconnected_gradients = 'none')\n",
    "print(hess)"
   ]
  },
  {
   "cell_type": "code",
   "execution_count": null,
   "metadata": {
    "ExecuteTime": {
     "end_time": "2020-01-23T13:55:39.664008Z",
     "start_time": "2020-01-23T13:55:39.406Z"
    }
   },
   "outputs": [],
   "source": [
    "with tf.GradientTape() as tt:\n",
    "    tt.watch(z)\n",
    "    loss = grav(x,z,MAP)\n",
    "jac = tt.gradient(loss,z)"
   ]
  },
  {
   "cell_type": "code",
   "execution_count": 32,
   "metadata": {
    "ExecuteTime": {
     "end_time": "2020-01-23T01:05:35.022206Z",
     "start_time": "2020-01-23T01:05:35.018219Z"
    }
   },
   "outputs": [
    {
     "data": {
      "text/plain": [
       "<tf.Tensor: shape=(12,), dtype=float32, numpy=\n",
       "array([-5.6247541e-07, -2.3201353e-06, -3.0556635e-06, -2.8152372e-06,\n",
       "       -2.2554668e-06, -5.6247552e-07,  3.3097496e-07,  2.2246975e-06,\n",
       "        3.5368980e-06,  3.8744561e-06,  2.3422854e-06,  3.3097487e-07],\n",
       "      dtype=float32)>"
      ]
     },
     "execution_count": 32,
     "metadata": {},
     "output_type": "execute_result"
    }
   ],
   "source": [
    "jac"
   ]
  },
  {
   "cell_type": "code",
   "execution_count": null,
   "metadata": {},
   "outputs": [],
   "source": []
  },
  {
   "cell_type": "code",
   "execution_count": null,
   "metadata": {},
   "outputs": [],
   "source": []
  },
  {
   "cell_type": "code",
   "execution_count": null,
   "metadata": {},
   "outputs": [],
   "source": []
  },
  {
   "cell_type": "code",
   "execution_count": null,
   "metadata": {},
   "outputs": [],
   "source": []
  },
  {
   "cell_type": "code",
   "execution_count": 321,
   "metadata": {
    "ExecuteTime": {
     "end_time": "2020-01-23T14:15:09.409042Z",
     "start_time": "2020-01-23T14:15:09.406452Z"
    }
   },
   "outputs": [],
   "source": [
    "p1 = 1\n",
    "p2 = 2"
   ]
  },
  {
   "cell_type": "code",
   "execution_count": 323,
   "metadata": {
    "ExecuteTime": {
     "end_time": "2020-01-23T14:15:19.410977Z",
     "start_time": "2020-01-23T14:15:17.875025Z"
    }
   },
   "outputs": [
    {
     "name": "stdout",
     "output_type": "stream",
     "text": [
      "WARNING:tensorflow:Calling GradientTape.gradient on a persistent tape inside its context is significantly less efficient than calling it outside the context (it causes the gradient ops to be recorded on the tape, leading to increased CPU and memory usage). Only call GradientTape.gradient inside the context if you actually want to trace the gradient in order to compute higher order derivatives.\n",
      "tf.Tensor(\n",
      "[[ 0.          0.          0.          0.          0.          0.\n",
      "   0.          0.          0.          0.          0.          0.        ]\n",
      " [ 0.         -0.02798709  0.02490798  0.          0.          0.\n",
      "   0.          0.          0.          0.          0.          0.        ]\n",
      " [ 0.          0.02490798 -0.02182888  0.          0.          0.\n",
      "   0.          0.          0.          0.          0.          0.        ]\n",
      " [ 0.          0.          0.          0.          0.          0.\n",
      "   0.          0.          0.          0.          0.          0.        ]\n",
      " [ 0.          0.          0.          0.          0.          0.\n",
      "   0.          0.          0.          0.          0.          0.        ]\n",
      " [ 0.          0.          0.          0.          0.          0.\n",
      "   0.          0.          0.          0.          0.          0.        ]\n",
      " [ 0.          0.          0.          0.          0.          0.\n",
      "   0.          0.          0.          0.          0.          0.        ]\n",
      " [ 0.          0.          0.          0.          0.          0.\n",
      "   0.          0.          0.          0.          0.          0.        ]\n",
      " [ 0.          0.          0.          0.          0.          0.\n",
      "   0.          0.          0.          0.          0.          0.        ]\n",
      " [ 0.          0.          0.          0.          0.          0.\n",
      "   0.          0.          0.          0.          0.          0.        ]\n",
      " [ 0.          0.          0.          0.          0.          0.\n",
      "   0.          0.          0.          0.          0.          0.        ]\n",
      " [ 0.          0.          0.          0.          0.          0.\n",
      "   0.          0.          0.          0.          0.          0.        ]], shape=(12, 12), dtype=float32)\n"
     ]
    }
   ],
   "source": [
    "with tf.GradientTape(persistent=True) as tt:\n",
    "    tt.watch(z)\n",
    "    loss = A(x,z,p1,p2)\n",
    "    jac = tt.gradient(loss,z,unconnected_gradients='zero')\n",
    "hess = tt.jacobian(jac,z,unconnected_gradients = 'none')\n",
    "print(hess)"
   ]
  },
  {
   "cell_type": "code",
   "execution_count": null,
   "metadata": {},
   "outputs": [],
   "source": []
  },
  {
   "cell_type": "code",
   "execution_count": 7,
   "metadata": {
    "ExecuteTime": {
     "end_time": "2020-01-23T10:32:02.044540Z",
     "start_time": "2020-01-23T10:32:02.037250Z"
    }
   },
   "outputs": [],
   "source": [
    "from datetime import datetime\n",
    "from packaging import version"
   ]
  },
  {
   "cell_type": "code",
   "execution_count": null,
   "metadata": {},
   "outputs": [],
   "source": [
    "#tensorboard"
   ]
  },
  {
   "cell_type": "code",
   "execution_count": 320,
   "metadata": {
    "ExecuteTime": {
     "end_time": "2020-01-23T14:14:42.795383Z",
     "start_time": "2020-01-23T14:14:42.790657Z"
    }
   },
   "outputs": [],
   "source": [
    "@tf.function\n",
    "def A(x,z,p1,p2):\n",
    "    numerator = (x[p2]-x[p1])*(x[p1]*z[p2]-x[p2]*z[p1])\n",
    "    denominator = (x[p2]-x[p1])**2 + (z[p2]-z[p1])**2\n",
    "    return (numerator/denominator)\n"
   ]
  },
  {
   "cell_type": "code",
   "execution_count": 12,
   "metadata": {
    "ExecuteTime": {
     "end_time": "2020-01-23T10:35:32.755963Z",
     "start_time": "2020-01-23T10:35:32.752120Z"
    }
   },
   "outputs": [],
   "source": [
    "stamp = datetime.now().strftime(\"%Y%m%d-%H%M%S\")\n",
    "logdir = 'logs/func/%s' % stamp\n",
    "writer = tf.summary.create_file_writer(logdir)"
   ]
  },
  {
   "cell_type": "code",
   "execution_count": 21,
   "metadata": {
    "ExecuteTime": {
     "end_time": "2020-01-23T10:36:54.428206Z",
     "start_time": "2020-01-23T10:36:54.422696Z"
    }
   },
   "outputs": [],
   "source": [
    "x = tf.Variable(points[:,0])\n",
    "z = tf.Variable(points[:,1])\n",
    "p1 = tf.constant(1)\n",
    "p2 = tf.constant(2)\n",
    "\n"
   ]
  },
  {
   "cell_type": "code",
   "execution_count": 22,
   "metadata": {
    "ExecuteTime": {
     "end_time": "2020-01-23T10:36:56.254798Z",
     "start_time": "2020-01-23T10:36:56.249994Z"
    }
   },
   "outputs": [
    {
     "data": {
      "text/plain": [
       "<tf.Variable 'Variable:0' shape=(12,) dtype=float32, numpy=\n",
       "array([-40.      , -40.      , -24.338795, -35.877262, -40.      ,\n",
       "       -40.      , -20.      , -20.      , -15.877264,  -4.338794,\n",
       "       -20.      , -20.      ], dtype=float32)>"
      ]
     },
     "execution_count": 22,
     "metadata": {},
     "output_type": "execute_result"
    }
   ],
   "source": [
    "z"
   ]
  },
  {
   "cell_type": "code",
   "execution_count": 28,
   "metadata": {
    "ExecuteTime": {
     "end_time": "2020-01-23T10:42:21.258222Z",
     "start_time": "2020-01-23T10:42:21.255038Z"
    }
   },
   "outputs": [],
   "source": [
    "tf.summary.trace_on(graph=True, profiler=True)"
   ]
  },
  {
   "cell_type": "code",
   "execution_count": 29,
   "metadata": {
    "ExecuteTime": {
     "end_time": "2020-01-23T10:42:22.160798Z",
     "start_time": "2020-01-23T10:42:22.157383Z"
    }
   },
   "outputs": [],
   "source": [
    "result = A(x,z,p1,p2)"
   ]
  },
  {
   "cell_type": "code",
   "execution_count": 65,
   "metadata": {
    "ExecuteTime": {
     "end_time": "2020-01-23T11:14:33.967276Z",
     "start_time": "2020-01-23T11:14:33.840697Z"
    }
   },
   "outputs": [],
   "source": [
    "!rm -rf ./logs/ "
   ]
  },
  {
   "cell_type": "code",
   "execution_count": 69,
   "metadata": {
    "ExecuteTime": {
     "end_time": "2020-01-23T11:15:04.895315Z",
     "start_time": "2020-01-23T11:15:04.762055Z"
    }
   },
   "outputs": [
    {
     "name": "stdout",
     "output_type": "stream",
     "text": [
      "WARNING:tensorflow:Trace already enabled\n"
     ]
    }
   ],
   "source": [
    "\n",
    "@tf.function\n",
    "def theta(x,z, p):\n",
    "    if tf.math.not_equal(x[p], 0) :\n",
    "        if tf.less(tf.atan(tf.divide(z[p],x[p])),0):\n",
    "            return(tf.atan(tf.divide(z[p],x[p]))+pi)\n",
    "        else:\n",
    "            return(tf.atan(tf.divide(z[p],x[p])))\n",
    "    elif tf.math.logical_and(tf.math.equal(x[p], 0), tf.math.not_equal(z[p], 0)):\n",
    "        return(pi/2)\n",
    "    else: return(0.)\n",
    "\n",
    "\n",
    "# Set up logging.\n",
    "stamp = datetime.now().strftime(\"%Y%m%d-%H%M%S\")\n",
    "logdir = 'logs/func/%s' % stamp\n",
    "writer = tf.summary.create_file_writer(logdir)\n",
    "\n",
    "# Sample data for your function.\n",
    "x = tf.Variable(points[:,0],name = 'x')\n",
    "z = tf.Variable(points[:,1],name = 'z')\n",
    "p = tf.constant(1)\n",
    "\n",
    "# Bracket the function call with\n",
    "# tf.summary.trace_on() and tf.summary.trace_export().\n",
    "tf.summary.trace_on(graph=True, profiler=True)\n",
    "# Call only one tf.function when tracing.\n",
    "result = theta(x,z,p)\n",
    "with writer.as_default():\n",
    "  tf.summary.trace_export(\n",
    "      name=\"my_func_trace\",\n",
    "      step=0,\n",
    "      profiler_outdir=logdir)"
   ]
  },
  {
   "cell_type": "code",
   "execution_count": 60,
   "metadata": {
    "ExecuteTime": {
     "end_time": "2020-01-23T11:11:08.106862Z",
     "start_time": "2020-01-23T11:11:08.102381Z"
    }
   },
   "outputs": [
    {
     "data": {
      "text/plain": [
       "<tf.Variable 'x:0' shape=(12,) dtype=float32, numpy=\n",
       "array([-200.      ,  -70.      ,  -23.333334,   23.333334,   70.      ,\n",
       "        200.      ,  200.      ,   70.      ,   23.333334,  -23.333334,\n",
       "        -70.      , -200.      ], dtype=float32)>"
      ]
     },
     "execution_count": 60,
     "metadata": {},
     "output_type": "execute_result"
    }
   ],
   "source": [
    "x"
   ]
  },
  {
   "cell_type": "code",
   "execution_count": 70,
   "metadata": {
    "ExecuteTime": {
     "end_time": "2020-01-23T11:15:12.435030Z",
     "start_time": "2020-01-23T11:15:12.427320Z"
    },
    "scrolled": false
   },
   "outputs": [
    {
     "data": {
      "text/plain": [
       "Reusing TensorBoard on port 6007 (pid 75347), started 0:39:05 ago. (Use '!kill 75347' to kill it.)"
      ]
     },
     "metadata": {},
     "output_type": "display_data"
    },
    {
     "data": {
      "text/html": [
       "\n",
       "      <iframe id=\"tensorboard-frame-b85c031f9ffa421b\" width=\"100%\" height=\"800\" frameborder=\"0\">\n",
       "      </iframe>\n",
       "      <script>\n",
       "        (function() {\n",
       "          const frame = document.getElementById(\"tensorboard-frame-b85c031f9ffa421b\");\n",
       "          const url = new URL(\"/\", window.location);\n",
       "          url.port = 6007;\n",
       "          frame.src = url;\n",
       "        })();\n",
       "      </script>\n",
       "  "
      ],
      "text/plain": [
       "<IPython.core.display.HTML object>"
      ]
     },
     "metadata": {},
     "output_type": "display_data"
    }
   ],
   "source": [
    "%tensorboard --logdir logs/func"
   ]
  },
  {
   "cell_type": "code",
   "execution_count": null,
   "metadata": {},
   "outputs": [],
   "source": []
  }
 ],
 "metadata": {
  "kernelspec": {
   "display_name": "Python 3",
   "language": "python",
   "name": "python3"
  },
  "language_info": {
   "codemirror_mode": {
    "name": "ipython",
    "version": 3
   },
   "file_extension": ".py",
   "mimetype": "text/x-python",
   "name": "python",
   "nbconvert_exporter": "python",
   "pygments_lexer": "ipython3",
   "version": "3.7.1"
  },
  "varInspector": {
   "cols": {
    "lenName": 16,
    "lenType": 16,
    "lenVar": 40
   },
   "kernels_config": {
    "python": {
     "delete_cmd_postfix": "",
     "delete_cmd_prefix": "del ",
     "library": "var_list.py",
     "varRefreshCmd": "print(var_dic_list())"
    },
    "r": {
     "delete_cmd_postfix": ") ",
     "delete_cmd_prefix": "rm(",
     "library": "var_list.r",
     "varRefreshCmd": "cat(var_dic_list()) "
    }
   },
   "types_to_exclude": [
    "module",
    "function",
    "builtin_function_or_method",
    "instance",
    "_Feature"
   ],
   "window_display": false
  }
 },
 "nbformat": 4,
 "nbformat_minor": 2
}
