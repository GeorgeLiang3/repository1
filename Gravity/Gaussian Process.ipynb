{
 "cells": [
  {
   "cell_type": "code",
   "execution_count": 32,
   "metadata": {
    "ExecuteTime": {
     "end_time": "2020-01-31T12:48:28.045559Z",
     "start_time": "2020-01-31T12:48:28.042174Z"
    }
   },
   "outputs": [],
   "source": [
    "import numpy as np\n",
    "import tensorflow as tf\n",
    "import tensorflow_probability as tfp\n",
    "import matplotlib.pyplot as plt\n",
    "tfd = tfp.distributions\n",
    "tfb = tfp.bijectors\n",
    "psd_kernels = tfp.math.psd_kernels\n",
    "\n",
    "num_points = 100\n"
   ]
  },
  {
   "cell_type": "code",
   "execution_count": 33,
   "metadata": {
    "ExecuteTime": {
     "end_time": "2020-01-31T12:48:28.259868Z",
     "start_time": "2020-01-31T12:48:28.256427Z"
    }
   },
   "outputs": [],
   "source": [
    "observation_noise_variance = tf.constant(.5,dtype = tf.float64)\n",
    "f = lambda x: np.sin(10*x[..., 0]) * np.exp(-x[..., 0]**2)"
   ]
  },
  {
   "cell_type": "code",
   "execution_count": 34,
   "metadata": {
    "ExecuteTime": {
     "end_time": "2020-01-31T12:48:28.444332Z",
     "start_time": "2020-01-31T12:48:28.441366Z"
    }
   },
   "outputs": [],
   "source": [
    "observation_index_points = np.random.uniform(-1., 1., 50)[..., np.newaxis]\n",
    "observations = (f(observation_index_points) +\n",
    "                np.random.normal(0., np.sqrt(observation_noise_variance)))"
   ]
  },
  {
   "cell_type": "code",
   "execution_count": 50,
   "metadata": {
    "ExecuteTime": {
     "end_time": "2020-01-31T17:06:13.993651Z",
     "start_time": "2020-01-31T17:06:13.988950Z"
    }
   },
   "outputs": [
    {
     "data": {
      "text/plain": [
       "<tf.Tensor: shape=(50, 1), dtype=float64, numpy=\n",
       "array([[ 0.70963911],\n",
       "       [ 0.749232  ],\n",
       "       [-0.68218638],\n",
       "       [-0.56681616],\n",
       "       [-0.65420361],\n",
       "       [-0.40007069],\n",
       "       [-0.76921248],\n",
       "       [-0.84621499],\n",
       "       [-0.31758621],\n",
       "       [-0.12140349],\n",
       "       [ 0.79989864],\n",
       "       [ 0.88876791],\n",
       "       [-0.21407094],\n",
       "       [ 0.67395765],\n",
       "       [-0.59703293],\n",
       "       [ 0.229937  ],\n",
       "       [ 0.27387769],\n",
       "       [-0.71910823],\n",
       "       [ 0.07059736],\n",
       "       [ 0.52447782],\n",
       "       [-0.87437695],\n",
       "       [-0.06577385],\n",
       "       [ 0.11164518],\n",
       "       [-0.44456858],\n",
       "       [ 0.91704351],\n",
       "       [ 0.08140098],\n",
       "       [-0.91945014],\n",
       "       [-0.82499217],\n",
       "       [-0.65909556],\n",
       "       [-0.59539015],\n",
       "       [-0.92430554],\n",
       "       [ 0.56705021],\n",
       "       [ 0.20903296],\n",
       "       [ 0.71145552],\n",
       "       [ 0.34926866],\n",
       "       [ 0.51852707],\n",
       "       [ 0.3244425 ],\n",
       "       [-0.05274445],\n",
       "       [ 0.99865234],\n",
       "       [-0.81844205],\n",
       "       [-0.52720945],\n",
       "       [ 0.11168381],\n",
       "       [-0.12393717],\n",
       "       [ 0.67173258],\n",
       "       [-0.86738339],\n",
       "       [-0.5107499 ],\n",
       "       [ 0.24624559],\n",
       "       [ 0.40022073],\n",
       "       [ 0.80503817],\n",
       "       [-0.45959041]])>"
      ]
     },
     "execution_count": 50,
     "metadata": {},
     "output_type": "execute_result"
    }
   ],
   "source": [
    "observation_index_points"
   ]
  },
  {
   "cell_type": "code",
   "execution_count": 49,
   "metadata": {
    "ExecuteTime": {
     "end_time": "2020-01-31T17:05:55.284391Z",
     "start_time": "2020-01-31T17:05:55.279881Z"
    }
   },
   "outputs": [
    {
     "data": {
      "text/plain": [
       "<tf.Tensor: shape=(50,), dtype=float64, numpy=\n",
       "array([-0.0195281 ,  0.07494681, -0.78070357, -0.04015508, -0.62543781,\n",
       "        0.18667081, -1.00475032, -0.85963555, -0.42761534, -1.38191414,\n",
       "        0.06325238, -0.22636192, -1.262826  , -0.17876382, -0.24309791,\n",
       "        0.2491103 , -0.09490912, -0.92855174,  0.18695873, -1.11298534,\n",
       "       -0.75169055, -1.0672805 ,  0.42882746,  0.33305884, -0.35007356,\n",
       "        0.26365366, -0.55659782, -0.92572708, -0.65478593, -0.23173984,\n",
       "       -0.53550042, -0.87552842,  0.37234755, -0.01320854, -0.76301915,\n",
       "       -1.13896487, -0.55098591, -0.96051935, -0.65507557, -0.94268988,\n",
       "        0.1831834 ,  0.42898717, -1.38975706, -0.19071306, -0.78014251,\n",
       "        0.25243885,  0.13257513, -1.10460914,  0.05439951,  0.34551602])>"
      ]
     },
     "execution_count": 49,
     "metadata": {},
     "output_type": "execute_result"
    }
   ],
   "source": [
    "observations"
   ]
  },
  {
   "cell_type": "code",
   "execution_count": 37,
   "metadata": {
    "ExecuteTime": {
     "end_time": "2020-01-31T12:48:53.685355Z",
     "start_time": "2020-01-31T12:48:53.682630Z"
    }
   },
   "outputs": [],
   "source": [
    "observations = tf.convert_to_tensor(observations,dtype = tf.float64)\n",
    "\n",
    "observation_index_points = tf.convert_to_tensor(observation_index_points,dtype = tf.float64)"
   ]
  },
  {
   "cell_type": "code",
   "execution_count": 39,
   "metadata": {
    "ExecuteTime": {
     "end_time": "2020-01-31T12:48:54.528741Z",
     "start_time": "2020-01-31T12:48:54.520682Z"
    }
   },
   "outputs": [],
   "source": [
    "amplitude = tfp.util.TransformedVariable(\n",
    "  1., tfb.Exp(), dtype=tf.float64, name='amplitude')\n",
    "length_scale = tfp.util.TransformedVariable(\n",
    "  1., tfb.Exp(), dtype=tf.float64, name='length_scale')\n",
    "kernel = psd_kernels.ExponentiatedQuadratic(amplitude, length_scale)\n",
    "\n",
    "observation_noise_variance = tfp.util.TransformedVariable(\n",
    "    np.exp(-5), tfb.Exp(), name='observation_noise_variance')\n",
    "\n",
    "# We'll use an unconditioned GP to train the kernel parameters.\n",
    "gp = tfd.GaussianProcess(\n",
    "    kernel=kernel,\n",
    "    index_points=observation_index_points,\n",
    "    observation_noise_variance=observation_noise_variance)"
   ]
  },
  {
   "cell_type": "code",
   "execution_count": 40,
   "metadata": {
    "ExecuteTime": {
     "end_time": "2020-01-31T12:48:54.748250Z",
     "start_time": "2020-01-31T12:48:54.744351Z"
    }
   },
   "outputs": [],
   "source": [
    "optimizer = tf.optimizers.Adam(learning_rate=.05, beta_1=.5, beta_2=.99)\n",
    "\n",
    "@tf.function\n",
    "def optimize():\n",
    "  with tf.GradientTape() as tape:\n",
    "    loss = -gp.log_prob(observations)\n",
    "  grads = tape.gradient(loss, gp.trainable_variables)\n",
    "  optimizer.apply_gradients(zip(grads, gp.trainable_variables))\n",
    "  return loss\n"
   ]
  },
  {
   "cell_type": "code",
   "execution_count": 47,
   "metadata": {
    "ExecuteTime": {
     "end_time": "2020-01-31T16:56:31.899851Z",
     "start_time": "2020-01-31T16:56:31.895864Z"
    }
   },
   "outputs": [
    {
     "data": {
      "text/plain": [
       "<TransformedVariable: dtype=float64, shape=[], fn=\"exp\", numpy=2.0199864189824115e-08>"
      ]
     },
     "execution_count": 47,
     "metadata": {},
     "output_type": "execute_result"
    }
   ],
   "source": [
    "observation_noise_variance"
   ]
  },
  {
   "cell_type": "code",
   "execution_count": 45,
   "metadata": {
    "ExecuteTime": {
     "end_time": "2020-01-31T16:55:32.581187Z",
     "start_time": "2020-01-31T16:55:32.566019Z"
    }
   },
   "outputs": [
    {
     "data": {
      "text/plain": [
       "<tf.Tensor: shape=(), dtype=float64, numpy=194.428415370383>"
      ]
     },
     "execution_count": 45,
     "metadata": {},
     "output_type": "execute_result"
    }
   ],
   "source": [
    "gp.log_prob(observations)"
   ]
  },
  {
   "cell_type": "code",
   "execution_count": 41,
   "metadata": {
    "ExecuteTime": {
     "end_time": "2020-01-31T12:48:56.008432Z",
     "start_time": "2020-01-31T12:48:54.936753Z"
    }
   },
   "outputs": [
    {
     "name": "stdout",
     "output_type": "stream",
     "text": [
      "Step 0: NLL = 912.3095076122613\n",
      "Step 100: NLL = -32.223517413975344\n",
      "Step 200: NLL = -46.64756680995157\n",
      "Step 300: NLL = -68.06686146486432\n",
      "Step 400: NLL = -100.93716793709542\n",
      "Step 500: NLL = -146.02090288339298\n",
      "Step 600: NLL = -183.0220156232226\n",
      "Step 700: NLL = -191.68041178677797\n",
      "Step 800: NLL = -193.51248268591692\n",
      "Step 900: NLL = -194.14784430837148\n",
      "Final NLL = -194.42886476328184\n"
     ]
    }
   ],
   "source": [
    "index_points = np.linspace(-1., 1., 100)[..., np.newaxis]\n",
    "gprm = tfd.GaussianProcessRegressionModel(\n",
    "    kernel=kernel,\n",
    "    index_points=index_points,\n",
    "    observation_index_points=observation_index_points,\n",
    "    observations=observations,\n",
    "    observation_noise_variance=observation_noise_variance)\n",
    "\n",
    "# First train the model, then draw and plot posterior samples.\n",
    "for i in range(1000):\n",
    "  neg_log_likelihood_ = optimize()\n",
    "  if i % 100 == 0:\n",
    "    print(\"Step {}: NLL = {}\".format(i, neg_log_likelihood_))\n",
    "\n",
    "print(\"Final NLL = {}\".format(neg_log_likelihood_))"
   ]
  },
  {
   "cell_type": "code",
   "execution_count": 42,
   "metadata": {
    "ExecuteTime": {
     "end_time": "2020-01-31T12:48:56.310074Z",
     "start_time": "2020-01-31T12:48:56.064184Z"
    }
   },
   "outputs": [
    {
     "data": {
      "text/plain": [
       "[<matplotlib.lines.Line2D at 0x140264748>,\n",
       " <matplotlib.lines.Line2D at 0x1403aab70>,\n",
       " <matplotlib.lines.Line2D at 0x1403aa8d0>,\n",
       " <matplotlib.lines.Line2D at 0x1403aa630>,\n",
       " <matplotlib.lines.Line2D at 0x1403aa198>,\n",
       " <matplotlib.lines.Line2D at 0x1403aa5f8>,\n",
       " <matplotlib.lines.Line2D at 0x1403aac18>,\n",
       " <matplotlib.lines.Line2D at 0x1403aa978>,\n",
       " <matplotlib.lines.Line2D at 0x1405dc2b0>,\n",
       " <matplotlib.lines.Line2D at 0x1405dc8d0>]"
      ]
     },
     "execution_count": 42,
     "metadata": {},
     "output_type": "execute_result"
    },
    {
     "data": {
      "image/png": "[encoded data removed]",
      "text/plain": [
       "<Figure size 432x288 with 1 Axes>"
      ]
     },
     "metadata": {
      "needs_background": "light"
     },
     "output_type": "display_data"
    }
   ],
   "source": [
    "samples = gprm.sample(1).numpy()\n",
    "# ==> 10 independently drawn, joint samples at `index_points`.\n",
    "\n",
    "import matplotlib.pyplot as plt\n",
    "plt.scatter(np.squeeze(observation_index_points), observations)\n",
    "plt.plot(np.stack([index_points[:, 0]]*10).T, samples.T, c='r', alpha=.2)"
   ]
  },
  {
   "cell_type": "code",
   "execution_count": 44,
   "metadata": {
    "ExecuteTime": {
     "end_time": "2020-01-31T13:08:57.080667Z",
     "start_time": "2020-01-31T13:08:57.010878Z"
    }
   },
   "outputs": [
    {
     "name": "stdout",
     "output_type": "stream",
     "text": [
      "tf.Tensor(\n",
      "[ 1.52355841  1.26866059 -0.52495206  2.53240232 -1.45402674  0.91878931\n",
      "  8.96382583 -1.66421945  4.72825391  2.01636319  1.39936112  2.99976084\n",
      "  6.09352272  1.87743935  0.8667598   0.80978662  1.56774306  3.26670964\n",
      "  2.96224374  2.66411739 -9.19577493  1.45534276  2.18783754  1.18989984\n",
      "  3.59495992  2.8106555   5.23122948  4.24341991 -1.42106371  0.9672292\n",
      " 11.2131099   2.56493898  0.67215036  1.5073897   3.00415554  2.68192238\n",
      "  2.63250629  1.60738092  2.04179758  5.69749718  3.41243147  2.1869218\n",
      "  2.09421688  1.9001057  -7.72714777  3.24694331  1.0324918   3.25829366\n",
      "  1.44788721  1.64153266], shape=(50,), dtype=float64)\n"
     ]
    }
   ],
   "source": [
    "with tf.GradientTape() as t:\n",
    "    t.watch(observations)\n",
    "    samples = gprm.sample(1)\n",
    "    print(t.gradient(samples,observations))"
   ]
  },
  {
   "cell_type": "code",
   "execution_count": null,
   "metadata": {},
   "outputs": [],
   "source": []
  }
 ],
 "metadata": {
  "kernelspec": {
   "display_name": "Python 3",
   "language": "python",
   "name": "python3"
  },
  "language_info": {
   "codemirror_mode": {
    "name": "ipython",
    "version": 3
   },
   "file_extension": ".py",
   "mimetype": "text/x-python",
   "name": "python",
   "nbconvert_exporter": "python",
   "pygments_lexer": "ipython3",
   "version": "3.7.1"
  },
  "varInspector": {
   "cols": {
    "lenName": 16,
    "lenType": 16,
    "lenVar": 40
   },
   "kernels_config": {
    "python": {
     "delete_cmd_postfix": "",
     "delete_cmd_prefix": "del ",
     "library": "var_list.py",
     "varRefreshCmd": "print(var_dic_list())"
    },
    "r": {
     "delete_cmd_postfix": ") ",
     "delete_cmd_prefix": "rm(",
     "library": "var_list.r",
     "varRefreshCmd": "cat(var_dic_list()) "
    }
   },
   "types_to_exclude": [
    "module",
    "function",
    "builtin_function_or_method",
    "instance",
    "_Feature"
   ],
   "window_display": false
  }
 },
 "nbformat": 4,
 "nbformat_minor": 4
}
