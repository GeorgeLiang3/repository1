{
 "cells": [
  {
   "cell_type": "code",
   "execution_count": 1,
   "metadata": {
    "ExecuteTime": {
     "end_time": "2020-01-16T15:13:51.926295Z",
     "start_time": "2020-01-16T15:13:49.617597Z"
    }
   },
   "outputs": [],
   "source": [
    "%matplotlib inline\n",
    "import matplotlib.pyplot as plt\n",
    "import numpy as np\n",
    "import tensorflow as tf\n",
    "import scipy\n",
    "from scipy.stats import norm\n",
    "import tensorflow_probability as tfp\n",
    "import seaborn as sns\n",
    "import pandas as pd\n",
    "import corner \n",
    "import math as m\n",
    "import copy\n",
    "\n",
    "tfd=tfp.distributions"
   ]
  },
  {
   "cell_type": "code",
   "execution_count": 2,
   "metadata": {
    "ExecuteTime": {
     "end_time": "2020-01-16T15:13:53.610174Z",
     "start_time": "2020-01-16T15:13:53.584312Z"
    }
   },
   "outputs": [],
   "source": [
    "def draw(base, position = None, ax = None,R = 100):\n",
    "    ## function to plot the geometry\n",
    "    if ax == None:\n",
    "        f,ax=plt.subplots()\n",
    "        \n",
    "    if position is not None:\n",
    "\n",
    "        t = tf.convert_to_tensor(thickness,dtype = tf.float32)\n",
    "\n",
    "        ps2 = position-t\n",
    "        \n",
    "        ps2 = tf.reverse(ps2,[-1])\n",
    "        \n",
    "        for i in tf.range(2,Number_para+2): ## lower layer\n",
    "            base[i].assign([base[i][0],ps2[i-2]])\n",
    "\n",
    "        for i in tf.range(Number_para+6,2*Number_para+6): ## upper layer\n",
    "            base[i].assign([base[i][0],position[i-Number_para-6]])\n",
    "\n",
    "    x = base[:,0]\n",
    "    z = base[:,1]\n",
    "    for i in range(base.shape[0]):\n",
    "        ax.plot(x[i:i+2],z[i:i+2],'k-')\n",
    "    x_ = np.linspace(-R,R,10)\n",
    "    ax.plot(x_,np.zeros(np.shape(x_)),lw = 0.5)# draw a reference line, surface\n",
    "    ax.plot([x[0],x[-1]],[z[0],z[-1]],'k-')\n",
    "    ax.set_ylim(base[tf.argmin(base[:,1])][1].numpy()-10,5)\n",
    "    ax.set_xlim(-R,R)\n",
    "    \n",
    "    \n",
    "pi = tf.constant(m.pi) # define PI in Tensorflow form"
   ]
  },
  {
   "cell_type": "code",
   "execution_count": 3,
   "metadata": {
    "ExecuteTime": {
     "end_time": "2020-01-16T15:13:54.941066Z",
     "start_time": "2020-01-16T15:13:54.930590Z"
    }
   },
   "outputs": [],
   "source": [
    "def draw_MCMC(base,samples,Truth = None,ax = None,R = 70):\n",
    "    \n",
    "    if ax == None:\n",
    "        f,ax=plt.subplots()\n",
    "    \n",
    "    if Truth is not None:\n",
    "        draw(base,Truth,ax = ax, R = R)\n",
    "            \n",
    "    x1 = np.linspace(-R,R,Number_para)\n",
    "\n",
    "    t = tf.convert_to_tensor(thickness,dtype = tf.float32)\n",
    "    for ps in samples:\n",
    "        ps2 = ps-t\n",
    "\n",
    "        ps2 = tf.reverse(ps2,[-1])\n",
    "\n",
    "        for i in tf.range(2,Number_para+2): ## lower layer\n",
    "            base[i].assign([base[i][0],ps2[i-2]])\n",
    "\n",
    "        for i in tf.range(Number_para+6,2*Number_para+6): ## upper layer\n",
    "            base[i].assign([base[i][0],ps[i-Number_para-6]])\n",
    "\n",
    "        for i in range(Number_para+5,base.shape[0]-2):\n",
    "            ax.plot(base[:,0][i:i+2],base[:,1][i:i+2],'r-',alpha = 0.01)\n",
    "    \n",
    "    ax.plot(x1,np.zeros(np.shape(x1)),lw = 0.5)# draw a reference line, surface\n",
    "\n",
    "    ax.set_ylim(base[tf.argmin(base[:,1])][1].numpy()-10,5)\n",
    "    ax.set_xlim(-R,R)"
   ]
  },
  {
   "cell_type": "code",
   "execution_count": 12,
   "metadata": {
    "ExecuteTime": {
     "end_time": "2020-01-16T15:14:55.412266Z",
     "start_time": "2020-01-16T15:14:55.402263Z"
    }
   },
   "outputs": [],
   "source": [
    "depth = -20\n",
    "thickness = 20\n",
    "\n",
    "corners=np.array([[-200,depth-thickness],\n",
    "                  [-70,depth-thickness],\n",
    "                  [70,depth-thickness],# bottom left coner\n",
    "              [200,depth-thickness], \n",
    "              [200,depth], # bottom right coner\n",
    "              [70, depth], # top right coner\n",
    "              [-70,depth],# top left coner\n",
    "              [-200,depth]])\n",
    "Number_para = 3\n",
    "obs_N = 9\n",
    "points = np.empty((2*Number_para+8,2),dtype = np.float32)\n",
    "\n",
    "points[0] = corners[0]\n",
    "points[1] = corners[1]\n",
    "\n",
    "for i in range(6):\n",
    "    points[Number_para+i] = corners[i]\n",
    "    \n",
    "points[-2]=corners[-2]\n",
    "points[-1]=corners[-1]\n",
    "\n",
    "np.random.seed(21)\n",
    "\n",
    "x2 = np.linspace(-70,70,Number_para+2)\n",
    "x1 = np.linspace(70,-70,Number_para+2)\n",
    "\n",
    "thickness = 20\n",
    "y1 = np.random.uniform(-2,-50,Number_para)\n",
    "y2 = y1-thickness\n",
    "\n",
    "y1 = list(reversed(y1))\n",
    "\n",
    "for i in range(2,Number_para+2): ## lower layer\n",
    "    points[i][1] = y2[i-2]\n",
    "    points[i][0] = x2[i-1]\n",
    "    \n",
    "for i in range(Number_para+6,2*Number_para+6): ## upper layer\n",
    "    points[i][1] = y1[i-Number_para-6]\n",
    "    points[i][0] = x1[i-Number_para-5]\n"
   ]
  },
  {
   "cell_type": "code",
   "execution_count": 13,
   "metadata": {
    "ExecuteTime": {
     "end_time": "2020-01-16T15:14:55.903839Z",
     "start_time": "2020-01-16T15:14:55.659407Z"
    }
   },
   "outputs": [
    {
     "data": {
      "text/plain": [
       "(-70, 70)"
      ]
     },
     "execution_count": 13,
     "metadata": {},
     "output_type": "execute_result"
    },
    {
     "data": {
      "image/png": "[encoded data removed]",
      "text/plain": [
       "<Figure size 432x288 with 1 Axes>"
      ]
     },
     "metadata": {
      "needs_background": "light"
     },
     "output_type": "display_data"
    }
   ],
   "source": [
    "# Draw Base\n",
    "f,ax=plt.subplots()\n",
    "x = points[:,0]\n",
    "z = points[:,1]\n",
    "for i in range(points.shape[0]):\n",
    "    ax.plot(x[i:i+2],z[i:i+2],'r-')\n",
    "x_ = np.linspace(-70,70,10)\n",
    "ax.plot(x_,np.zeros(np.shape(x_)),lw = 0.5)# draw a reference line, surface\n",
    "ax.plot([x[0],x[-1]],[z[0],z[-1]],'r-')\n",
    "ax.set_ylim(min(points[:,1])-10,5)\n",
    "ax.set_xlim(-70,70)"
   ]
  },
  {
   "cell_type": "markdown",
   "metadata": {},
   "source": [
    "#### Z direction gravity line integration following Won 1987\n",
    "\\begin{equation}\n",
    "\\Delta g_{z}=2 G \\rho \\sum_{i=1}^{n} Z_{i}\n",
    "\\end{equation}\n",
    "\n",
    "\\begin{equation}\n",
    "Z=A\\left[\\left(\\theta_{1}-\\theta_{2}\\right)+B \\ln \\frac{r_{2}}{r_{1}}\\right]\n",
    "\\end{equation}\n",
    "\n",
    "where,   \n",
    "\\begin{equation}\n",
    "\\begin{aligned}\n",
    "&A=\\frac{\\left(x_{2}-x_{1}\\right)\\left(x_{1} z_{2}-x_{2} z_{1}\\right)}{\\left(x_{2}-x_{1}\\right)^{2}+\\left(z_{2}-z_{1}\\right)^{2}}\\\\\n",
    "&B=\\frac{z_{2}-z_{1}}{x_{2}-x_{1}}\n",
    "\\end{aligned}\n",
    "\\end{equation}\n",
    "\n",
    "and,   \n",
    "\\begin{equation}\n",
    "\\begin{aligned}\n",
    "&r_{1}^{2}=x_{1}^{2}+z_{1}^{2}\\\\\n",
    "&r_{2}^{2}=x_{2}^{2}+z_{2}^{2}\n",
    "\\end{aligned}\n",
    "\\end{equation}\n"
   ]
  },
  {
   "cell_type": "code",
   "execution_count": 14,
   "metadata": {
    "ExecuteTime": {
     "end_time": "2020-01-16T15:14:56.597137Z",
     "start_time": "2020-01-16T15:14:56.572299Z"
    }
   },
   "outputs": [],
   "source": [
    "\n",
    "def A(x,z,p1,p2):\n",
    "    numerator = (x[p2]-x[p1])*(x[p1]*z[p2]-x[p2]*z[p1])\n",
    "    denominator = (x[p2]-x[p1])**2 + (z[p2]-z[p1])**2\n",
    "    return (numerator/denominator)\n",
    "\n",
    "\n",
    "def B(x,z,p1,p2):\n",
    "    '''\n",
    "    x : array, x coordinate\n",
    "    z : array, z coordinate\n",
    "    p1, p2 : int, position\n",
    "    \n",
    "    '''\n",
    "    return ((z[p1]-z[p2])/(x[p2]-x[p1]))\n",
    "\n",
    "\n",
    "def theta(x,z, p):\n",
    "    if tf.math.not_equal(x[p], 0) :\n",
    "        if tf.less(tf.atan(tf.divide(z[p],x[p])),0):\n",
    "            return(tf.atan(tf.divide(z[p],x[p]))+pi)\n",
    "        else:\n",
    "            return(tf.atan(tf.divide(z[p],x[p])))\n",
    "    elif tf.math.logical_and(tf.math.equal(x[p], 0), tf.math.not_equal(z[p], 0)):\n",
    "        return(pi/2)\n",
    "    else: return(0.)\n",
    "\n",
    "\n",
    "def r(x,z,p):\n",
    "    '''\n",
    "    x : array, x coordinate\n",
    "    z : array, z coordinate\n",
    "    p : int, position\n",
    "    \n",
    "    '''\n",
    "    return(tf.sqrt(x[p]**2+z[p]**2))\n",
    "\n",
    "\n",
    "def Z(x,z,p1,p2):\n",
    "    \n",
    "    if tf.logical_or(tf.logical_and(tf.equal(x[p1],z[p1]),tf.equal(x[p1],0.)), tf.logical_and(tf.equal(x[p2],z[p2]),tf.equal(x[p2],0.))):\n",
    "        return(0.)\n",
    "\n",
    "    elif tf.equal(x[p1], x[p2]):\n",
    "        return((x[p1]*tf.math.log(r(x,z,p2)/r(x,z,p1))))\n",
    "    \n",
    "    else:\n",
    "    \n",
    "        theta1 = theta(x,z, p1)\n",
    "        theta2 = theta(x,z, p2)\n",
    "\n",
    "        r1 = r(x,z,p1)\n",
    "        r2 = r(x,z,p2)\n",
    "\n",
    "        _A = A(x,z,p1,p2)\n",
    "        _B = B(x,z,p1,p2)\n",
    "\n",
    "        Z_result = _A*((theta1-theta2)+_B*tf.math.log(r1/r2))\n",
    "        return(Z_result)\n",
    "\n",
    "\n",
    "def g(data,loc):\n",
    "    \n",
    "    ''' \n",
    "    data: Points defining the geometry 2N+coners\n",
    "    loc: reference point (2x1)\n",
    "    \n",
    "    '''\n",
    "    \n",
    "    G = tf.constant(6.67 * 10**(-11)) # gravitational constant  m^3 kg ^-1 s^-2\n",
    "    rho = tf.constant(1000.)        # density difference   kg/m^3\n",
    "\n",
    "    _data = data - loc #Calculate any point refer to the origin\n",
    "\n",
    "    _x = _data[:,0]\n",
    "    _z = _data[:,1]\n",
    "\n",
    "    Z_sum = tf.constant(0.)\n",
    "\n",
    "    for i in tf.range(_data.shape[0]-1):\n",
    "        Z_sum = tf.add(Z_sum, Z(_x,_z,i,i+1))\n",
    "\n",
    "    Z_sum = tf.add(Z_sum, Z(_x,_z,-1,0))\n",
    "\n",
    "    g = 2*G*rho * Z_sum\n",
    "\n",
    "    return(g)\n",
    "\n",
    "\n",
    "def grav(points,ps):\n",
    "    \"\"\"\n",
    "    points: base point, fixing the x position\n",
    "    ps: Positions,Variable(N elements vector), tuning z position\n",
    "    \n",
    "    \"\"\"\n",
    "    t = tf.convert_to_tensor(thickness,dtype = tf.float32)\n",
    "    N1 = tf.constant(Number_para)\n",
    "    ps2 = ps-t\n",
    "\n",
    "    ps2 = tf.reverse(ps2,[-1])\n",
    "\n",
    "    for i in tf.range(2,N1+2): ## lower layer\n",
    "        points[i].assign([points[i][0],ps2[i-2]])\n",
    "\n",
    "    for i in tf.range(N1+6,2*N1+6): ## upper layer\n",
    "        points[i].assign([points[i][0],ps[i-N1-6]])\n",
    "\n",
    "    x_obv = tf.linspace(-70., 70., obs_N+2)\n",
    "    y_obv = tf.zeros(tf.shape(x_obv))\n",
    "    obv = tf.stack((x_obv,y_obv),axis = 1)\n",
    "\n",
    "\n",
    "    gravity = tf.TensorArray(tf.float32, size=obv.shape[0]-2)\n",
    "    \n",
    "    j = tf.constant(0)\n",
    "    for i in obv[1:-1]:\n",
    "        gravity=gravity.write(j,-g(points,i))\n",
    "        j = tf.add(j,1)\n",
    "    return gravity.stack()\n",
    "\n",
    "\n",
    "def joint_log_prob(D,points_copy,ps):\n",
    "    \"\"\"\n",
    "    D: is the observation data\n",
    "    ps: Positions,Variable(N elements vector)\n",
    "    \"\"\"\n",
    "    # define random variables prior\n",
    "    \n",
    "    mvn_prior = tfd.MultivariateNormalFullCovariance(\n",
    "            loc = mu_prior,\n",
    "            covariance_matrix= cov_prior)\n",
    "    # define likelihood\n",
    "    \n",
    "    Gm_ = grav(points_copy,ps)\n",
    "    \n",
    "    mvn_likelihood = tfd.MultivariateNormalFullCovariance(\n",
    "            loc = Gm_,\n",
    "            covariance_matrix= cov)\n",
    "    \n",
    "    # return the posterior probability\n",
    "    return(mvn_prior.log_prob(ps)\n",
    "          +mvn_likelihood.log_prob(D))\n"
   ]
  },
  {
   "cell_type": "markdown",
   "metadata": {},
   "source": [
    "Define the Prior and likelihood distribution"
   ]
  },
  {
   "cell_type": "code",
   "execution_count": 15,
   "metadata": {
    "ExecuteTime": {
     "end_time": "2020-01-16T15:14:57.116592Z",
     "start_time": "2020-01-16T15:14:57.111704Z"
    }
   },
   "outputs": [],
   "source": [
    "# prior\n",
    "mu_prior = -20.*tf.ones([Number_para],dtype = tf.float32)\n",
    "cov_prior = 20.*tf.eye(Number_para)\n",
    "\n",
    "# likelihood\n",
    "sig_e = 0.0000005\n",
    "cov = sig_e**2*tf.eye(obs_N)"
   ]
  },
  {
   "cell_type": "code",
   "execution_count": 16,
   "metadata": {
    "ExecuteTime": {
     "end_time": "2020-01-16T15:14:57.354598Z",
     "start_time": "2020-01-16T15:14:57.351243Z"
    }
   },
   "outputs": [],
   "source": [
    "points = tf.Variable(points,dtype = tf.float32)"
   ]
  },
  {
   "cell_type": "code",
   "execution_count": 17,
   "metadata": {
    "ExecuteTime": {
     "end_time": "2020-01-16T15:14:58.121879Z",
     "start_time": "2020-01-16T15:14:57.560207Z"
    }
   },
   "outputs": [],
   "source": [
    "# define the ground truth\n",
    "tf.random.set_seed(1234)\n",
    "tf.random.uniform([Number_para])\n",
    "True_position = tf.random.uniform([Number_para],-30,-1,seed = 10)\n",
    "obs_data = grav(points,True_position)"
   ]
  },
  {
   "cell_type": "code",
   "execution_count": 18,
   "metadata": {
    "ExecuteTime": {
     "end_time": "2020-01-16T15:14:58.147529Z",
     "start_time": "2020-01-16T15:14:58.144846Z"
    }
   },
   "outputs": [],
   "source": [
    "D = obs_data"
   ]
  },
  {
   "cell_type": "code",
   "execution_count": 19,
   "metadata": {
    "ExecuteTime": {
     "end_time": "2020-01-16T15:14:58.737612Z",
     "start_time": "2020-01-16T15:14:58.166595Z"
    }
   },
   "outputs": [
    {
     "data": {
      "text/plain": [
       "<tf.Tensor: shape=(), dtype=float32, numpy=107.664696>"
      ]
     },
     "execution_count": 19,
     "metadata": {},
     "output_type": "execute_result"
    }
   ],
   "source": [
    "joint_log_prob(D,points,True_position)"
   ]
  },
  {
   "cell_type": "code",
   "execution_count": 20,
   "metadata": {
    "ExecuteTime": {
     "end_time": "2020-01-16T15:14:58.761266Z",
     "start_time": "2020-01-16T15:14:58.757417Z"
    }
   },
   "outputs": [
    {
     "data": {
      "text/plain": [
       "<tf.Tensor: shape=(3,), dtype=float32, numpy=array([ -5.1785946, -20.606672 , -11.302174 ], dtype=float32)>"
      ]
     },
     "execution_count": 20,
     "metadata": {},
     "output_type": "execute_result"
    }
   ],
   "source": [
    "True_position"
   ]
  },
  {
   "cell_type": "markdown",
   "metadata": {},
   "source": [
    "#### Gradient decent"
   ]
  },
  {
   "cell_type": "code",
   "execution_count": 21,
   "metadata": {
    "ExecuteTime": {
     "end_time": "2020-01-16T15:15:00.091362Z",
     "start_time": "2020-01-16T15:15:00.087700Z"
    }
   },
   "outputs": [],
   "source": [
    "mu = tf.random.uniform([Number_para],minval = -20,maxval = -2,seed = 1) # initial parameters"
   ]
  },
  {
   "cell_type": "code",
   "execution_count": 23,
   "metadata": {
    "ExecuteTime": {
     "end_time": "2020-01-16T15:18:56.836300Z",
     "start_time": "2020-01-16T15:15:17.978680Z"
    }
   },
   "outputs": [
    {
     "name": "stdout",
     "output_type": "stream",
     "text": [
      "tf.Tensor([-15.365403  -7.898481  -7.955024], shape=(3,), dtype=float32)\n",
      "tf.Tensor([-15.259269  -8.139623  -8.147559], shape=(3,), dtype=float32)\n",
      "tf.Tensor([-15.153379  -8.371652  -8.332614], shape=(3,), dtype=float32)\n",
      "tf.Tensor([-15.04777   -8.595124  -8.510564], shape=(3,), dtype=float32)\n",
      "tf.Tensor([-14.94247   -8.810545  -8.681756], shape=(3,), dtype=float32)\n",
      "tf.Tensor([-14.837512  -9.018378  -8.846518], shape=(3,), dtype=float32)\n",
      "tf.Tensor([-14.732925  -9.21905   -9.005151], shape=(3,), dtype=float32)\n",
      "tf.Tensor([-14.6287365  -9.412951   -9.157939 ], shape=(3,), dtype=float32)\n",
      "tf.Tensor([-14.524974  -9.600444  -9.305147], shape=(3,), dtype=float32)\n",
      "tf.Tensor([-14.421662  -9.781863  -9.447025], shape=(3,), dtype=float32)\n",
      "tf.Tensor([-14.318826  -9.95752   -9.583806], shape=(3,), dtype=float32)\n",
      "tf.Tensor([-14.216489 -10.127701  -9.715709], shape=(3,), dtype=float32)\n",
      "tf.Tensor([-14.114674 -10.292678  -9.842939], shape=(3,), dtype=float32)\n",
      "tf.Tensor([-14.013401 -10.4527    -9.965693], shape=(3,), dtype=float32)\n",
      "tf.Tensor([-13.912692 -10.608001 -10.084153], shape=(3,), dtype=float32)\n",
      "tf.Tensor([-13.812565 -10.758801 -10.198492], shape=(3,), dtype=float32)\n",
      "tf.Tensor([-13.713039 -10.905306 -10.308874], shape=(3,), dtype=float32)\n",
      "tf.Tensor([-13.614132 -11.047708 -10.415453], shape=(3,), dtype=float32)\n",
      "tf.Tensor([-13.515861 -11.186187 -10.518376], shape=(3,), dtype=float32)\n",
      "tf.Tensor([-13.418241 -11.320915 -10.617783], shape=(3,), dtype=float32)\n",
      "tf.Tensor([-13.321286 -11.452053 -10.713804], shape=(3,), dtype=float32)\n",
      "tf.Tensor([-13.225013 -11.579752 -10.806566], shape=(3,), dtype=float32)\n",
      "tf.Tensor([-13.129434 -11.704155 -10.896189], shape=(3,), dtype=float32)\n",
      "tf.Tensor([-13.034561 -11.825397 -10.982784], shape=(3,), dtype=float32)\n",
      "tf.Tensor([-12.940408 -11.943604 -11.066461], shape=(3,), dtype=float32)\n",
      "tf.Tensor([-12.846985 -12.0589   -11.147321], shape=(3,), dtype=float32)\n",
      "tf.Tensor([-12.754303 -12.171397 -11.225463], shape=(3,), dtype=float32)\n",
      "tf.Tensor([-12.662372  -12.281205  -11.3009815], shape=(3,), dtype=float32)\n",
      "tf.Tensor([-12.5712   -12.388426 -11.373965], shape=(3,), dtype=float32)\n",
      "tf.Tensor([-12.480799 -12.493158 -11.444499], shape=(3,), dtype=float32)\n",
      "tf.Tensor([-12.391173 -12.595494 -11.512666], shape=(3,), dtype=float32)\n",
      "tf.Tensor([-12.302333 -12.695523 -11.578543], shape=(3,), dtype=float32)\n",
      "tf.Tensor([-12.214284 -12.793328 -11.642205], shape=(3,), dtype=float32)\n",
      "tf.Tensor([-12.127033 -12.88899  -11.703725], shape=(3,), dtype=float32)\n",
      "tf.Tensor([-12.040586 -12.982585 -11.763171], shape=(3,), dtype=float32)\n",
      "tf.Tensor([-11.954949 -13.074185 -11.82061 ], shape=(3,), dtype=float32)\n",
      "tf.Tensor([-11.870126 -13.16386  -11.876104], shape=(3,), dtype=float32)\n",
      "tf.Tensor([-11.78612  -13.251677 -11.929715], shape=(3,), dtype=float32)\n",
      "tf.Tensor([-11.702937 -13.337697 -11.981501], shape=(3,), dtype=float32)\n",
      "tf.Tensor([-11.62058  -13.421982 -12.031518], shape=(3,), dtype=float32)\n",
      "tf.Tensor([-11.539051 -13.504589 -12.079821], shape=(3,), dtype=float32)\n",
      "tf.Tensor([-11.458352 -13.585573 -12.126461], shape=(3,), dtype=float32)\n",
      "tf.Tensor([-11.378487  -13.6649885 -12.17149  ], shape=(3,), dtype=float32)\n",
      "tf.Tensor([-11.299456 -13.742884 -12.214954], shape=(3,), dtype=float32)\n",
      "tf.Tensor([-11.22126  -13.819307 -12.256901], shape=(3,), dtype=float32)\n",
      "tf.Tensor([-11.143901 -13.894306 -12.297376], shape=(3,), dtype=float32)\n",
      "tf.Tensor([-11.067379 -13.967924 -12.336421], shape=(3,), dtype=float32)\n",
      "tf.Tensor([-10.991694 -14.040204 -12.37408 ], shape=(3,), dtype=float32)\n",
      "tf.Tensor([-10.916846 -14.111187 -12.410391], shape=(3,), dtype=float32)\n",
      "tf.Tensor([-10.842834  -14.180911  -12.4453945], shape=(3,), dtype=float32)\n",
      "tf.Tensor([-10.769657 -14.249414 -12.479128], shape=(3,), dtype=float32)\n",
      "tf.Tensor([-10.697314 -14.316733 -12.511627], shape=(3,), dtype=float32)\n",
      "tf.Tensor([-10.625803 -14.382901 -12.542928], shape=(3,), dtype=float32)\n",
      "tf.Tensor([-10.555122 -14.447951 -12.573064], shape=(3,), dtype=float32)\n",
      "tf.Tensor([-10.48527  -14.511917 -12.602068], shape=(3,), dtype=float32)\n",
      "tf.Tensor([-10.416242 -14.574827 -12.629972], shape=(3,), dtype=float32)\n",
      "tf.Tensor([-10.348037 -14.636712 -12.656808], shape=(3,), dtype=float32)\n",
      "tf.Tensor([-10.280651 -14.697599 -12.682604], shape=(3,), dtype=float32)\n",
      "tf.Tensor([-10.214083 -14.757518 -12.70739 ], shape=(3,), dtype=float32)\n",
      "tf.Tensor([-10.148327 -14.816492 -12.731194], shape=(3,), dtype=float32)\n",
      "tf.Tensor([-10.08338  -14.874548 -12.754042], shape=(3,), dtype=float32)\n",
      "tf.Tensor([-10.0192375 -14.93171   -12.775962 ], shape=(3,), dtype=float32)\n",
      "tf.Tensor([ -9.955896 -14.988002 -12.796979], shape=(3,), dtype=float32)\n",
      "tf.Tensor([ -9.893351 -15.043445 -12.817118], shape=(3,), dtype=float32)\n",
      "tf.Tensor([ -9.831596 -15.098061 -12.836402], shape=(3,), dtype=float32)\n",
      "tf.Tensor([ -9.770629 -15.151872 -12.854856], shape=(3,), dtype=float32)\n",
      "tf.Tensor([ -9.7104435 -15.204897  -12.872501 ], shape=(3,), dtype=float32)\n",
      "tf.Tensor([ -9.651035 -15.257156 -12.889361], shape=(3,), dtype=float32)\n",
      "tf.Tensor([ -9.592399 -15.308669 -12.905457], shape=(3,), dtype=float32)\n",
      "tf.Tensor([ -9.534527 -15.359452 -12.920808], shape=(3,), dtype=float32)\n",
      "tf.Tensor([ -9.477415 -15.409524 -12.935435], shape=(3,), dtype=float32)\n",
      "tf.Tensor([ -9.421058 -15.4589   -12.949359], shape=(3,), dtype=float32)\n",
      "tf.Tensor([ -9.365449 -15.507599 -12.962598], shape=(3,), dtype=float32)\n",
      "tf.Tensor([ -9.310581 -15.555634 -12.97517 ], shape=(3,), dtype=float32)\n",
      "tf.Tensor([ -9.25645  -15.603021 -12.987094], shape=(3,), dtype=float32)\n",
      "tf.Tensor([ -9.203048  -15.6497755 -12.998387 ], shape=(3,), dtype=float32)\n",
      "tf.Tensor([ -9.15037  -15.695911 -13.009068], shape=(3,), dtype=float32)\n",
      "tf.Tensor([ -9.098408 -15.741442 -13.019151], shape=(3,), dtype=float32)\n",
      "tf.Tensor([ -9.047156 -15.786381 -13.028653], shape=(3,), dtype=float32)\n",
      "tf.Tensor([ -8.996609 -15.830741 -13.03759 ], shape=(3,), dtype=float32)\n",
      "tf.Tensor([ -8.946757 -15.874535 -13.045978], shape=(3,), dtype=float32)\n",
      "tf.Tensor([ -8.897596 -15.917773 -13.05383 ], shape=(3,), dtype=float32)\n",
      "tf.Tensor([ -8.849117 -15.960469 -13.061163], shape=(3,), dtype=float32)\n",
      "tf.Tensor([ -8.801314 -16.002634 -13.067989], shape=(3,), dtype=float32)\n",
      "tf.Tensor([ -8.75418  -16.044277 -13.074324], shape=(3,), dtype=float32)\n",
      "tf.Tensor([ -8.707708 -16.085411 -13.080179], shape=(3,), dtype=float32)\n",
      "tf.Tensor([ -8.661891 -16.126045 -13.085569], shape=(3,), dtype=float32)\n",
      "tf.Tensor([ -8.616721 -16.16619  -13.090506], shape=(3,), dtype=float32)\n",
      "tf.Tensor([ -8.572191 -16.20585  -13.095001], shape=(3,), dtype=float32)\n",
      "tf.Tensor([ -8.5282955 -16.245043  -13.099069 ], shape=(3,), dtype=float32)\n",
      "tf.Tensor([ -8.485025 -16.283772 -13.102719], shape=(3,), dtype=float32)\n",
      "tf.Tensor([ -8.442373 -16.322048 -13.105966], shape=(3,), dtype=float32)\n",
      "tf.Tensor([ -8.400333 -16.359879 -13.108818], shape=(3,), dtype=float32)\n",
      "tf.Tensor([ -8.358897 -16.397272 -13.111287], shape=(3,), dtype=float32)\n",
      "tf.Tensor([ -8.318058 -16.434238 -13.113385], shape=(3,), dtype=float32)\n",
      "tf.Tensor([ -8.277808 -16.470783 -13.115121], shape=(3,), dtype=float32)\n",
      "tf.Tensor([ -8.238141 -16.506916 -13.116506], shape=(3,), dtype=float32)\n",
      "tf.Tensor([ -8.199048 -16.542643 -13.117548], shape=(3,), dtype=float32)\n",
      "tf.Tensor([ -8.160523 -16.57797  -13.118258], shape=(3,), dtype=float32)\n",
      "tf.Tensor([ -8.122559 -16.612906 -13.118648], shape=(3,), dtype=float32)\n",
      "tf.Tensor([ -8.085147 -16.647455 -13.118723], shape=(3,), dtype=float32)\n",
      "tf.Tensor([ -8.048282 -16.681627 -13.118494], shape=(3,), dtype=float32)\n",
      "tf.Tensor([ -8.011955  -16.715427  -13.1179695], shape=(3,), dtype=float32)\n",
      "tf.Tensor([ -7.9761605 -16.748861  -13.117158 ], shape=(3,), dtype=float32)\n",
      "tf.Tensor([ -7.940891 -16.781937 -13.116068], shape=(3,), dtype=float32)\n",
      "tf.Tensor([ -7.9061384 -16.814657  -13.114708 ], shape=(3,), dtype=float32)\n",
      "tf.Tensor([ -7.8718967 -16.847029  -13.113086 ], shape=(3,), dtype=float32)\n",
      "tf.Tensor([ -7.8381586 -16.879059  -13.111209 ], shape=(3,), dtype=float32)\n",
      "tf.Tensor([ -7.8049164 -16.910751  -13.109084 ], shape=(3,), dtype=float32)\n",
      "tf.Tensor([ -7.772164 -16.942112 -13.10672 ], shape=(3,), dtype=float32)\n",
      "tf.Tensor([ -7.7398944 -16.973146  -13.104123 ], shape=(3,), dtype=float32)\n",
      "tf.Tensor([ -7.708101 -17.003859 -13.101301], shape=(3,), dtype=float32)\n"
     ]
    },
    {
     "name": "stdout",
     "output_type": "stream",
     "text": [
      "tf.Tensor([ -7.676776 -17.034254 -13.098261], shape=(3,), dtype=float32)\n",
      "tf.Tensor([ -7.6459136 -17.064339  -13.095008 ], shape=(3,), dtype=float32)\n",
      "tf.Tensor([ -7.6155066 -17.094116  -13.091551 ], shape=(3,), dtype=float32)\n",
      "tf.Tensor([ -7.585549 -17.12359  -13.087894], shape=(3,), dtype=float32)\n",
      "tf.Tensor([ -7.556033 -17.152765 -13.084044], shape=(3,), dtype=float32)\n",
      "tf.Tensor([ -7.5269537 -17.181646  -13.0800085], shape=(3,), dtype=float32)\n",
      "tf.Tensor([ -7.4983034 -17.21024   -13.075792 ], shape=(3,), dtype=float32)\n",
      "tf.Tensor([ -7.470076 -17.238546 -13.071402], shape=(3,), dtype=float32)\n",
      "tf.Tensor([ -7.442266 -17.266573 -13.066842], shape=(3,), dtype=float32)\n",
      "tf.Tensor([ -7.4148664 -17.294321  -13.062119 ], shape=(3,), dtype=float32)\n",
      "tf.Tensor([ -7.3878713 -17.321796  -13.057237 ], shape=(3,), dtype=float32)\n",
      "tf.Tensor([ -7.361274 -17.349    -13.052202], shape=(3,), dtype=float32)\n",
      "tf.Tensor([ -7.335068 -17.37594  -13.04702 ], shape=(3,), dtype=float32)\n",
      "tf.Tensor([ -7.3092494 -17.402617  -13.041696 ], shape=(3,), dtype=float32)\n",
      "tf.Tensor([ -7.28381  -17.429035 -13.036234], shape=(3,), dtype=float32)\n",
      "tf.Tensor([ -7.2587457 -17.455198  -13.030639 ], shape=(3,), dtype=float32)\n",
      "tf.Tensor([ -7.2340493 -17.48111   -13.024916 ], shape=(3,), dtype=float32)\n",
      "tf.Tensor([ -7.209716 -17.506773 -13.019069], shape=(3,), dtype=float32)\n",
      "tf.Tensor([ -7.1857395 -17.53219   -13.013103 ], shape=(3,), dtype=float32)\n",
      "tf.Tensor([ -7.162114 -17.557365 -13.007022], shape=(3,), dtype=float32)\n",
      "tf.Tensor([ -7.1388354 -17.582302  -13.000831 ], shape=(3,), dtype=float32)\n",
      "tf.Tensor([ -7.1158967 -17.607002  -12.994533 ], shape=(3,), dtype=float32)\n",
      "tf.Tensor([ -7.093293 -17.63147  -12.988132], shape=(3,), dtype=float32)\n",
      "tf.Tensor([ -7.0710196 -17.655706  -12.981634 ], shape=(3,), dtype=float32)\n",
      "tf.Tensor([ -7.049071 -17.679716 -12.975041], shape=(3,), dtype=float32)\n",
      "tf.Tensor([ -7.027441 -17.703503 -12.968357], shape=(3,), dtype=float32)\n",
      "tf.Tensor([ -7.0061255 -17.727068  -12.961587 ], shape=(3,), dtype=float32)\n",
      "tf.Tensor([ -6.9851193 -17.750414  -12.954733 ], shape=(3,), dtype=float32)\n",
      "tf.Tensor([ -6.9644175 -17.773544  -12.947799 ], shape=(3,), dtype=float32)\n",
      "tf.Tensor([ -6.944015 -17.796461 -12.940788], shape=(3,), dtype=float32)\n",
      "tf.Tensor([ -6.923907 -17.819166 -12.933704], shape=(3,), dtype=float32)\n",
      "tf.Tensor([ -6.9040885 -17.841663  -12.926551 ], shape=(3,), dtype=float32)\n",
      "tf.Tensor([ -6.8845553 -17.863955  -12.91933  ], shape=(3,), dtype=float32)\n",
      "tf.Tensor([ -6.865302 -17.886042 -12.912045], shape=(3,), dtype=float32)\n",
      "tf.Tensor([ -6.8463254 -17.907928  -12.904699 ], shape=(3,), dtype=float32)\n",
      "tf.Tensor([ -6.8276196 -17.929617  -12.897297 ], shape=(3,), dtype=float32)\n",
      "tf.Tensor([ -6.8091807 -17.951109  -12.889839 ], shape=(3,), dtype=float32)\n",
      "tf.Tensor([ -6.7910047 -17.972408  -12.882329 ], shape=(3,), dtype=float32)\n",
      "tf.Tensor([ -6.7730865 -17.993515  -12.874769 ], shape=(3,), dtype=float32)\n",
      "tf.Tensor([ -6.7554226 -18.014433  -12.867163 ], shape=(3,), dtype=float32)\n",
      "tf.Tensor([ -6.7380085 -18.035162  -12.859512 ], shape=(3,), dtype=float32)\n",
      "tf.Tensor([ -6.72084  -18.055706 -12.851821], shape=(3,), dtype=float32)\n",
      "tf.Tensor([ -6.703913  -18.076067  -12.8440895], shape=(3,), dtype=float32)\n",
      "tf.Tensor([ -6.6872244 -18.096247  -12.836322 ], shape=(3,), dtype=float32)\n",
      "tf.Tensor([ -6.670769 -18.11625  -12.82852 ], shape=(3,), dtype=float32)\n",
      "tf.Tensor([ -6.654544 -18.136074 -12.820685], shape=(3,), dtype=float32)\n",
      "tf.Tensor([ -6.6385455 -18.155724  -12.812821 ], shape=(3,), dtype=float32)\n",
      "tf.Tensor([ -6.6227694 -18.1752    -12.80493  ], shape=(3,), dtype=float32)\n",
      "tf.Tensor([ -6.607212 -18.194504 -12.797012], shape=(3,), dtype=float32)\n",
      "tf.Tensor([ -6.59187  -18.21364  -12.789071], shape=(3,), dtype=float32)\n",
      "tf.Tensor([ -6.5767393 -18.232609  -12.781109 ], shape=(3,), dtype=float32)\n",
      "tf.Tensor([ -6.561817 -18.251411 -12.773127], shape=(3,), dtype=float32)\n",
      "tf.Tensor([ -6.5470996 -18.27005   -12.765127 ], shape=(3,), dtype=float32)\n",
      "tf.Tensor([ -6.532583 -18.288527 -12.757112], shape=(3,), dtype=float32)\n",
      "tf.Tensor([ -6.5182652 -18.306843  -12.749082 ], shape=(3,), dtype=float32)\n",
      "tf.Tensor([ -6.5041423 -18.325     -12.74104  ], shape=(3,), dtype=float32)\n",
      "tf.Tensor([ -6.4902105 -18.343     -12.732987 ], shape=(3,), dtype=float32)\n",
      "tf.Tensor([ -6.4764676 -18.360846  -12.724926 ], shape=(3,), dtype=float32)\n",
      "tf.Tensor([ -6.4629097 -18.378536  -12.716857 ], shape=(3,), dtype=float32)\n",
      "tf.Tensor([ -6.449534 -18.396074 -12.708782], shape=(3,), dtype=float32)\n",
      "tf.Tensor([ -6.4363375 -18.413462  -12.700704 ], shape=(3,), dtype=float32)\n",
      "tf.Tensor([ -6.4233174 -18.4307    -12.692622 ], shape=(3,), dtype=float32)\n",
      "tf.Tensor([ -6.410471 -18.447792 -12.68454 ], shape=(3,), dtype=float32)\n",
      "tf.Tensor([ -6.397795 -18.464737 -12.676457], shape=(3,), dtype=float32)\n",
      "tf.Tensor([ -6.3852873 -18.481539  -12.668376 ], shape=(3,), dtype=float32)\n",
      "tf.Tensor([ -6.372945 -18.498198 -12.660297], shape=(3,), dtype=float32)\n",
      "tf.Tensor([ -6.3607645 -18.514715  -12.652224 ], shape=(3,), dtype=float32)\n",
      "tf.Tensor([ -6.3487434 -18.531092  -12.644155 ], shape=(3,), dtype=float32)\n",
      "tf.Tensor([ -6.33688  -18.547329 -12.636092], shape=(3,), dtype=float32)\n",
      "tf.Tensor([ -6.325171 -18.56343  -12.628037], shape=(3,), dtype=float32)\n",
      "tf.Tensor([ -6.313614 -18.579395 -12.619991], shape=(3,), dtype=float32)\n",
      "tf.Tensor([ -6.3022065 -18.595226  -12.611956 ], shape=(3,), dtype=float32)\n",
      "tf.Tensor([ -6.2909465 -18.610924  -12.60393  ], shape=(3,), dtype=float32)\n",
      "tf.Tensor([ -6.2798314 -18.62649   -12.595918 ], shape=(3,), dtype=float32)\n",
      "tf.Tensor([ -6.2688584 -18.641924  -12.587918 ], shape=(3,), dtype=float32)\n",
      "tf.Tensor([ -6.2580256 -18.65723   -12.579932 ], shape=(3,), dtype=float32)\n",
      "tf.Tensor([ -6.2473307 -18.67241   -12.571962 ], shape=(3,), dtype=float32)\n",
      "tf.Tensor([ -6.236771 -18.68746  -12.564008], shape=(3,), dtype=float32)\n",
      "tf.Tensor([ -6.2263455 -18.702385  -12.55607  ], shape=(3,), dtype=float32)\n",
      "tf.Tensor([ -6.2160506 -18.717186  -12.54815  ], shape=(3,), dtype=float32)\n",
      "tf.Tensor([ -6.2058854 -18.731865  -12.540249 ], shape=(3,), dtype=float32)\n",
      "tf.Tensor([ -6.195847 -18.746422 -12.532367], shape=(3,), dtype=float32)\n",
      "tf.Tensor([ -6.1859336 -18.760859  -12.524505 ], shape=(3,), dtype=float32)\n",
      "tf.Tensor([ -6.1761436 -18.775175  -12.516664 ], shape=(3,), dtype=float32)\n",
      "tf.Tensor([ -6.1664753 -18.789373  -12.508844 ], shape=(3,), dtype=float32)\n",
      "tf.Tensor([ -6.1569257 -18.803453  -12.501047 ], shape=(3,), dtype=float32)\n",
      "tf.Tensor([ -6.1474934 -18.817417  -12.493273 ], shape=(3,), dtype=float32)\n",
      "tf.Tensor([ -6.1381764 -18.831266  -12.485522 ], shape=(3,), dtype=float32)\n"
     ]
    }
   ],
   "source": [
    "for i in range(200):\n",
    "    with tf.GradientTape() as t:  \n",
    "        t.watch(points)\n",
    "        loss = tf.negative(joint_log_prob(D,points,mu)) # negative log posterior\n",
    "        dlossdmu = t.gradient(loss,points)\n",
    "        dloss = tf.TensorArray(tf.float32, size=Number_para)\n",
    "        for k,j in enumerate(range(Number_para+6,2*Number_para+6)):\n",
    "            dloss=dloss.write(k,dlossdmu[j][1])\n",
    "        d = dloss.stack()   \n",
    "    mu = mu-0.1*d\n",
    "    print(mu)"
   ]
  },
  {
   "cell_type": "code",
   "execution_count": 25,
   "metadata": {
    "ExecuteTime": {
     "end_time": "2020-01-16T15:19:10.639528Z",
     "start_time": "2020-01-16T15:19:10.635005Z"
    }
   },
   "outputs": [
    {
     "data": {
      "text/plain": [
       "<tf.Tensor: shape=(3,), dtype=float32, numpy=array([ -6.1381764, -18.831266 , -12.485522 ], dtype=float32)>"
      ]
     },
     "execution_count": 25,
     "metadata": {},
     "output_type": "execute_result"
    }
   ],
   "source": [
    "MAP = mu\n",
    "MAP"
   ]
  },
  {
   "cell_type": "code",
   "execution_count": 26,
   "metadata": {
    "ExecuteTime": {
     "end_time": "2020-01-16T15:19:15.104860Z",
     "start_time": "2020-01-16T15:19:15.099781Z"
    }
   },
   "outputs": [
    {
     "data": {
      "text/plain": [
       "<tf.Tensor: shape=(3,), dtype=float32, numpy=array([ -5.1785946, -20.606672 , -11.302174 ], dtype=float32)>"
      ]
     },
     "execution_count": 26,
     "metadata": {},
     "output_type": "execute_result"
    }
   ],
   "source": [
    "True_position"
   ]
  },
  {
   "cell_type": "markdown",
   "metadata": {},
   "source": [
    "### Random Walk MCMC"
   ]
  },
  {
   "cell_type": "code",
   "execution_count": 28,
   "metadata": {
    "ExecuteTime": {
     "end_time": "2020-01-16T16:10:40.553646Z",
     "start_time": "2020-01-16T15:19:30.864368Z"
    }
   },
   "outputs": [
    {
     "name": "stderr",
     "output_type": "stream",
     "text": [
      "/Users/zhouji/.local/lib/python3.7/site-packages/tensorflow_probability/python/mcmc/sample.py:335: UserWarning: Tracing all kernel results by default is deprecated. Set the `trace_fn` argument to None (the future default value) or an explicit callback that traces the values you are interested in.\n",
      "  warnings.warn(\"Tracing all kernel results by default is deprecated. Set \"\n"
     ]
    }
   ],
   "source": [
    "num_results = 2000\n",
    "burnin = 1000\n",
    "\n",
    "initial_chain_state = [\n",
    "    -10 * tf.ones([Number_para], dtype=tf.float32, name=\"init_t1\"),\n",
    "]\n",
    "\n",
    "unnormalized_posterior_log_prob = lambda *args: joint_log_prob(D,points,*args)\n",
    "\n",
    "def gauss_new_state_fn(scale, dtype):\n",
    "  gauss = tfd.Normal(loc=dtype(0), scale=dtype(scale))\n",
    "  def _fn(state_parts, seed):\n",
    "    next_state_parts = []\n",
    "    seed_stream  = tfp.util.SeedStream(seed, salt='RandomNormal')\n",
    "    for sp in state_parts:\n",
    "      next_state_parts.append(sp + gauss.sample(\n",
    "        sample_shape=sp.shape, seed=seed_stream()))\n",
    "    return next_state_parts\n",
    "  return _fn\n",
    "\n",
    "dtype = np.float32\n",
    "\n",
    "samples, kernel_results = tfp.mcmc.sample_chain(\n",
    "    num_results=num_results,\n",
    "    current_state=initial_chain_state,\n",
    "    kernel=tfp.mcmc.RandomWalkMetropolis(\n",
    "        target_log_prob_fn=unnormalized_posterior_log_prob,\n",
    "        new_state_fn=gauss_new_state_fn(scale=1, dtype=dtype)),\n",
    "    num_burnin_steps=burnin,\n",
    "    num_steps_between_results=1,  # Thinning.\n",
    "    parallel_iterations=1)\n",
    "\n",
    "samples = tf.stack(samples, axis=-1)\n",
    "accepted = kernel_results.is_accepted\n",
    "\n",
    "samples = samples.numpy()\n",
    "accepted = accepted.numpy()"
   ]
  },
  {
   "cell_type": "code",
   "execution_count": 36,
   "metadata": {
    "ExecuteTime": {
     "end_time": "2020-01-16T16:11:39.117470Z",
     "start_time": "2020-01-16T16:11:39.114908Z"
    }
   },
   "outputs": [],
   "source": [
    "accept_index = np.where(accepted==True)\n",
    "accepted_samples = samples[accept_index]"
   ]
  },
  {
   "cell_type": "code",
   "execution_count": 52,
   "metadata": {
    "ExecuteTime": {
     "end_time": "2020-01-16T20:29:24.845991Z",
     "start_time": "2020-01-16T20:29:24.841615Z"
    }
   },
   "outputs": [
    {
     "data": {
      "text/plain": [
       "0.813"
      ]
     },
     "execution_count": 52,
     "metadata": {},
     "output_type": "execute_result"
    }
   ],
   "source": [
    "accepted_samples.shape[0]/num_results"
   ]
  },
  {
   "cell_type": "code",
   "execution_count": 31,
   "metadata": {
    "ExecuteTime": {
     "end_time": "2020-01-16T16:11:09.146000Z",
     "start_time": "2020-01-16T16:10:40.670247Z"
    }
   },
   "outputs": [
    {
     "data": {
      "image/png": "[encoded data removed]",
      "text/plain": [
       "<Figure size 432x288 with 1 Axes>"
      ]
     },
     "metadata": {
      "needs_background": "light"
     },
     "output_type": "display_data"
    }
   ],
   "source": [
    "draw_MCMC(points,accepted_samples[:,:,0],Truth=True_position) # [:,:,0] transpost the results for plotting"
   ]
  },
  {
   "cell_type": "code",
   "execution_count": 32,
   "metadata": {
    "ExecuteTime": {
     "end_time": "2020-01-16T16:11:09.434618Z",
     "start_time": "2020-01-16T16:11:09.180145Z"
    }
   },
   "outputs": [
    {
     "data": {
      "image/png": "[encoded data removed]",
      "text/plain": [
       "<Figure size 432x288 with 1 Axes>"
      ]
     },
     "metadata": {
      "needs_background": "light"
     },
     "output_type": "display_data"
    }
   ],
   "source": [
    "draw_MCMC(points,accepted_samples[0:2,:,0],Truth=True_position)"
   ]
  },
  {
   "cell_type": "code",
   "execution_count": 33,
   "metadata": {
    "ExecuteTime": {
     "end_time": "2020-01-16T16:11:09.476851Z",
     "start_time": "2020-01-16T16:11:09.468363Z"
    }
   },
   "outputs": [
    {
     "data": {
      "text/plain": [
       "<tf.Variable 'Variable:0' shape=(14, 2) dtype=float32, numpy=\n",
       "array([[-200.      ,  -40.      ],\n",
       "       [ -70.      ,  -40.      ],\n",
       "       [ -35.      ,  -39.212463],\n",
       "       [   0.      ,  -38.33638 ],\n",
       "       [  35.      ,  -34.293606],\n",
       "       [  70.      ,  -40.      ],\n",
       "       [ 200.      ,  -40.      ],\n",
       "       [ 200.      ,  -20.      ],\n",
       "       [  70.      ,  -20.      ],\n",
       "       [  35.      ,  -14.293606],\n",
       "       [   0.      ,  -18.336382],\n",
       "       [ -35.      ,  -19.212463],\n",
       "       [ -70.      ,  -20.      ],\n",
       "       [-200.      ,  -20.      ]], dtype=float32)>"
      ]
     },
     "execution_count": 33,
     "metadata": {},
     "output_type": "execute_result"
    }
   ],
   "source": [
    "points"
   ]
  },
  {
   "cell_type": "code",
   "execution_count": 54,
   "metadata": {
    "ExecuteTime": {
     "end_time": "2020-01-16T20:31:23.432497Z",
     "start_time": "2020-01-16T20:31:23.428329Z"
    }
   },
   "outputs": [
    {
     "data": {
      "text/plain": [
       "<tf.Tensor: shape=(3,), dtype=float32, numpy=array([ -5.1785946, -20.606672 , -11.302174 ], dtype=float32)>"
      ]
     },
     "execution_count": 54,
     "metadata": {},
     "output_type": "execute_result"
    }
   ],
   "source": [
    "True_position"
   ]
  },
  {
   "cell_type": "code",
   "execution_count": 35,
   "metadata": {
    "ExecuteTime": {
     "end_time": "2020-01-16T16:11:09.768357Z",
     "start_time": "2020-01-16T16:11:09.562237Z"
    }
   },
   "outputs": [
    {
     "data": {
      "image/png": "[encoded data removed]",
      "text/plain": [
       "<Figure size 432x288 with 1 Axes>"
      ]
     },
     "metadata": {
      "needs_background": "light"
     },
     "output_type": "display_data"
    }
   ],
   "source": [
    "draw(points,True_position,R=70)"
   ]
  },
  {
   "cell_type": "code",
   "execution_count": 489,
   "metadata": {
    "ExecuteTime": {
     "end_time": "2020-01-16T13:42:59.194013Z",
     "start_time": "2020-01-16T13:42:59.183863Z"
    }
   },
   "outputs": [],
   "source": []
  },
  {
   "cell_type": "code",
   "execution_count": null,
   "metadata": {},
   "outputs": [],
   "source": []
  },
  {
   "cell_type": "code",
   "execution_count": null,
   "metadata": {},
   "outputs": [],
   "source": []
  },
  {
   "cell_type": "markdown",
   "metadata": {},
   "source": [
    "# Hessian Method"
   ]
  },
  {
   "cell_type": "code",
   "execution_count": 38,
   "metadata": {
    "ExecuteTime": {
     "end_time": "2020-01-16T16:11:55.628860Z",
     "start_time": "2020-01-16T16:11:54.478839Z"
    }
   },
   "outputs": [
    {
     "name": "stdout",
     "output_type": "stream",
     "text": [
      "tf.Tensor(\n",
      "[[ 0.04491242  0.01316353]\n",
      " [-0.0053577   0.0583462 ]\n",
      " [-0.00584992  0.02409294]\n",
      " [-0.00113579 -0.04252679]\n",
      " [ 0.01301334  0.01967661]\n",
      " [ 0.00912798  0.05072638]\n",
      " [-0.04591475  0.01091762]\n",
      " [ 0.04491242 -0.00728843]\n",
      " [-0.0223182  -0.08244012]\n",
      " [-0.04054962 -0.09202901]\n",
      " [-0.01056352  0.1373597 ]\n",
      " [ 0.01582097 -0.07725944]\n",
      " [ 0.01163589 -0.08546148]\n",
      " [-0.04371582 -0.0087679 ]], shape=(14, 2), dtype=float32)\n"
     ]
    }
   ],
   "source": [
    "with tf.GradientTape() as t:  \n",
    "    t.watch(points)\n",
    "    loss = tf.negative(joint_log_prob(D,points,MAP)) # negative log posterior\n",
    "    dlossdmu = t.gradient(loss,points)\n",
    "    print(dlossdmu)"
   ]
  },
  {
   "cell_type": "code",
   "execution_count": 39,
   "metadata": {
    "ExecuteTime": {
     "end_time": "2020-01-16T16:32:30.587544Z",
     "start_time": "2020-01-16T16:11:56.285624Z"
    }
   },
   "outputs": [],
   "source": [
    "with tf.GradientTape() as t:\n",
    "    with tf.GradientTape() as tt:\n",
    "        tt.watch(points)\n",
    "        loss = tf.negative(joint_log_prob(D,points,MAP))\n",
    "    jac = tt.gradient(loss,points)\n",
    "hess = t.jacobian(jac,points)"
   ]
  },
  {
   "cell_type": "code",
   "execution_count": 40,
   "metadata": {
    "ExecuteTime": {
     "end_time": "2020-01-16T16:32:30.679035Z",
     "start_time": "2020-01-16T16:32:30.666076Z"
    }
   },
   "outputs": [
    {
     "name": "stdout",
     "output_type": "stream",
     "text": [
      "tf.Tensor(\n",
      "[[[[ 6.40909791e-01  8.71179998e-02]\n",
      "   [-2.67109200e-02  3.03733915e-01]\n",
      "   [ 4.21840698e-04  3.31570625e-01]\n",
      "   [-2.88295709e-02  3.70260924e-01]\n",
      "   [-6.09306013e-03  3.49520862e-01]\n",
      "   [ 5.04545718e-02  3.06818187e-01]\n",
      "   [-6.50966883e-01  8.70167091e-02]\n",
      "   [ 6.40640140e-01 -5.00468463e-02]\n",
      "   [-6.17419668e-02 -2.82925338e-01]\n",
      "   [ 4.84523736e-03 -4.56661701e-01]\n",
      "   [ 3.82574648e-02 -4.69223678e-01]\n",
      "   [ 1.61077827e-04 -4.29877430e-01]\n",
      "   [ 3.20324302e-02 -2.76228487e-01]\n",
      "   [-6.30583048e-01 -5.00468276e-02]]\n",
      "\n",
      "  [[ 8.71179998e-02  1.49788484e-02]\n",
      "   [-4.73164720e-03  5.61065935e-02]\n",
      "   [-7.58800248e-04  5.53234294e-02]\n",
      "   [-2.51848786e-03  4.74364497e-02]\n",
      "   [-1.42487662e-03  3.43465395e-02]\n",
      "   [ 4.62728366e-03  2.93406900e-02]\n",
      "   [-8.81872997e-02  9.17496346e-03]\n",
      "   [ 8.70167315e-02 -5.09153539e-03]\n",
      "   [-4.67644492e-03 -2.32761949e-02]\n",
      "   [ 1.81212579e-03 -3.83428298e-02]\n",
      "   [ 2.58851610e-03 -5.76060116e-02]\n",
      "   [ 1.95259007e-03 -7.82641843e-02]\n",
      "   [ 6.98353816e-03 -5.78951985e-02]\n",
      "   [-8.54215473e-02 -9.00308229e-03]]]\n",
      "\n",
      "\n",
      " [[[-2.67109387e-02 -4.73165186e-03]\n",
      "   [ 1.66372280e-03 -1.85920205e-02]\n",
      "   [ 3.31176416e-04 -1.92597602e-02]\n",
      "   [ 5.82602457e-04 -1.42812226e-02]\n",
      "   [ 5.00792405e-04 -8.83123465e-03]\n",
      "   [-1.14246004e-03 -7.48243649e-03]\n",
      "   [ 2.70418655e-02 -2.49285600e-03]\n",
      "   [-2.67109387e-02  1.35528785e-03]\n",
      "   [ 9.86720901e-04  5.31380437e-03]\n",
      "   [-6.30246592e-04  8.59719887e-03]\n",
      "   [-3.81207996e-04  1.69819258e-02]\n",
      "   [-7.85151205e-04  2.71636173e-02]\n",
      "   [-2.42917286e-03  1.99139100e-02]\n",
      "   [ 2.61667371e-02  2.99856067e-03]]\n",
      "\n",
      "  [[ 3.03733885e-01  5.61065972e-02]\n",
      "   [-1.85920242e-02  2.13008180e-01]\n",
      "   [-2.91526807e-03  2.05428272e-01]\n",
      "   [-7.16965739e-03  1.61784708e-01]\n",
      "   [-5.39621385e-03  1.05090372e-01]\n",
      "   [ 1.38060590e-02  8.95293877e-02]\n",
      "   [-3.07676673e-01  2.92680487e-02]\n",
      "   [ 3.03835124e-01 -1.60134062e-02]\n",
      "   [-1.26194460e-02 -6.60518706e-02]\n",
      "   [ 6.77714963e-03 -1.07245646e-01]\n",
      "   [ 5.70400525e-03 -1.92347303e-01]\n",
      "   [ 8.99658632e-03 -2.97718734e-01]\n",
      "   [ 2.72528399e-02 -2.24022329e-01]\n",
      "   [-2.97703594e-01 -3.37834992e-02]]]\n",
      "\n",
      "\n",
      " [[[ 4.21823701e-04 -7.58797163e-04]\n",
      "   [ 3.31174699e-04 -2.91527226e-03]\n",
      "   [ 1.99025963e-04 -2.33975984e-03]\n",
      "   [-2.51471385e-04  2.31473846e-03]\n",
      "   [-1.36325893e-04  2.82538845e-03]\n",
      "   [ 3.37681209e-04  1.86770840e-03]\n",
      "   [-4.65483172e-04  4.36256581e-04]\n",
      "   [ 4.21824632e-04 -2.57568696e-04]\n",
      "   [-3.70641937e-04 -1.65707734e-03]\n",
      "   [ 3.93676630e-04 -4.04737890e-03]\n",
      "   [ 5.58122178e-04 -4.94836643e-03]\n",
      "   [-8.65288137e-04  3.38026625e-03]\n",
      "   [-7.40967283e-04  5.61520876e-03]\n",
      "   [-4.79044160e-04  5.42176014e-04]]\n",
      "\n",
      "  [[ 3.31570625e-01  5.53234257e-02]\n",
      "   [-1.92597415e-02  2.05428287e-01]\n",
      "   [-2.33975518e-03  2.21608013e-01]\n",
      "   [-8.86994693e-03  1.94770455e-01]\n",
      "   [-7.39466166e-03  1.27508014e-01]\n",
      "   [ 1.61692910e-02  1.03846878e-01]\n",
      "   [-3.35935175e-01  3.35123390e-02]\n",
      "   [ 3.31570625e-01 -1.83179341e-02]\n",
      "   [-1.41729582e-02 -7.48675317e-02]\n",
      "   [ 1.07887033e-02 -1.30418450e-01]\n",
      "   [ 7.63955247e-03 -2.49396056e-01]\n",
      "   [ 2.18649395e-03 -3.19155544e-01]\n",
      "   [ 2.38596555e-02 -1.98599294e-01]\n",
      "   [-3.25321347e-01 -3.24499793e-02]]]\n",
      "\n",
      "\n",
      " [[[-2.88295075e-02 -2.51848530e-03]\n",
      "   [ 5.82603738e-04 -7.16965087e-03]\n",
      "   [-2.51472753e-04 -8.86995811e-03]\n",
      "   [ 3.05542164e-03 -1.71145033e-02]\n",
      "   [ 4.16642550e-04 -2.40207575e-02]\n",
      "   [-3.34201753e-03 -1.94009654e-02]\n",
      "   [ 2.93982886e-02 -5.06695639e-03]\n",
      "   [-2.88295094e-02  2.95879226e-03]\n",
      "   [ 4.20176378e-03  1.85143687e-02]\n",
      "   [-1.24701147e-03  3.71079333e-02]\n",
      "   [-4.46563680e-03  2.33476330e-02]\n",
      "   [ 4.49105515e-04  7.60769099e-03]\n",
      "   [-3.84123821e-04  4.31614229e-03]\n",
      "   [ 2.84838248e-02  1.33739144e-03]]\n",
      "\n",
      "  [[ 3.70260954e-01  4.74364534e-02]\n",
      "   [-1.42812151e-02  1.61784708e-01]\n",
      "   [ 2.31471215e-03  1.94770485e-01]\n",
      "   [-1.71144698e-02  2.36520365e-01]\n",
      "   [-8.34352057e-03  2.07196221e-01]\n",
      "   [ 2.71201674e-02  1.64814904e-01]\n",
      "   [-3.76084238e-01  4.78605032e-02]\n",
      "   [ 3.70260954e-01 -2.69296709e-02]\n",
      "   [-2.83602625e-02 -1.35645032e-01]\n",
      "   [ 1.71863288e-02 -2.63435185e-01]\n",
      "   [ 2.66784597e-02 -3.27032447e-01]\n",
      "   [-5.77193778e-03 -2.45455340e-01]\n",
      "   [ 1.48797557e-02 -1.32530212e-01]\n",
      "   [-3.64475608e-01 -2.66687982e-02]]]\n",
      "\n",
      "\n",
      " [[[-6.09307503e-03 -1.42487325e-03]\n",
      "   [ 5.00790775e-04 -5.39620453e-03]\n",
      "   [-1.36325863e-04 -7.39465002e-03]\n",
      "   [ 4.16643801e-04 -8.34348798e-03]\n",
      "   [ 1.23364152e-03  1.02216029e-03]\n",
      "   [ 8.84921057e-04  4.28678608e-03]\n",
      "   [ 6.06657192e-03  7.93243409e-04]\n",
      "   [-6.09307224e-03 -6.83875114e-04]\n",
      "   [-2.76284758e-03 -1.03979055e-02]\n",
      "   [-4.94028674e-03 -2.90730502e-03]\n",
      "   [-1.17890583e-03  1.55287338e-02]\n",
      "   [ 3.98879813e-04  9.83454473e-03]\n",
      "   [-5.12041559e-04  4.44834912e-03]\n",
      "   [ 5.93371317e-03  8.14576459e-04]]\n",
      "\n",
      "  [[ 3.49520862e-01  3.43465395e-02]\n",
      "   [-8.83122999e-03  1.05090365e-01]\n",
      "   [ 2.82539171e-03  1.27508014e-01]\n",
      "   [-2.40207650e-02  2.07196206e-01]\n",
      "   [ 1.02212327e-03  2.58406609e-01]\n",
      "   [ 3.90088111e-02  2.25073606e-01]\n",
      "   [-3.56201500e-01  5.93873113e-02]\n",
      "   [ 3.49520892e-01 -3.48799452e-02]\n",
      "   [-5.06926142e-02 -2.22400576e-01]\n",
      "   [-6.07063528e-04 -3.84918839e-01]\n",
      "   [ 3.72455977e-02 -2.66985625e-01]\n",
      "   [-4.54534218e-03 -1.29423112e-01]\n",
      "   [ 7.57001340e-03 -7.44345263e-02]\n",
      "   [-3.45007122e-01 -1.86905749e-02]]]\n",
      "\n",
      "\n",
      " [[[ 5.04545979e-02  4.62728553e-03]\n",
      "   [-1.14245876e-03  1.38060600e-02]\n",
      "   [ 3.37682199e-04  1.61692910e-02]\n",
      "   [-3.34202033e-03  2.71201618e-02]\n",
      "   [ 8.84920591e-04  3.90088037e-02]\n",
      "   [ 6.21699728e-03  3.68056446e-02]\n",
      "   [-5.14933318e-02  9.34345461e-03]\n",
      "   [ 5.04545979e-02 -5.75565500e-03]\n",
      "   [-9.34734661e-03 -4.01900411e-02]\n",
      "   [-3.08530638e-03 -5.74112423e-02]\n",
      "   [ 4.66802763e-03 -3.21371779e-02]\n",
      "   [-4.70075523e-04 -1.58171318e-02]\n",
      "   [ 9.77821881e-04 -9.72937606e-03]\n",
      "   [-4.98370528e-02 -2.50973040e-03]]\n",
      "\n",
      "  [[ 3.06818247e-01  2.93406919e-02]\n",
      "   [-7.48244021e-03  8.95293951e-02]\n",
      "   [ 1.86772028e-03  1.03846893e-01]\n",
      "   [-1.94009505e-02  1.64814904e-01]\n",
      "   [ 4.28676140e-03  2.25073621e-01]\n",
      "   [ 3.68056409e-02  2.20456526e-01]\n",
      "   [-3.12953770e-01  5.70082255e-02]\n",
      "   [ 3.06818247e-01 -3.43497545e-02]\n",
      "   [-5.52045889e-02 -2.38305718e-01]\n",
      "   [-1.80384628e-02 -3.31255496e-01]\n",
      "   [ 2.65871771e-02 -1.95883483e-01]\n",
      "   [-2.63371342e-03 -1.06869131e-01]\n",
      "   [ 6.80861529e-03 -6.58217221e-02]\n",
      "   [-3.02958786e-01 -1.60377882e-02]]]\n",
      "\n",
      "\n",
      " [[[-6.50966883e-01 -8.81872997e-02]\n",
      "   [ 2.70418469e-02 -3.07676673e-01]\n",
      "   [-4.65463148e-04 -3.35935175e-01]\n",
      "   [ 2.93982998e-02 -3.76084268e-01]\n",
      "   [ 6.06657658e-03 -3.56201500e-01]\n",
      "   [-5.14933243e-02 -3.12953740e-01]\n",
      "   [ 6.61241531e-01 -8.87084082e-02]\n",
      "   [-6.50712013e-01  5.10005876e-02]\n",
      "   [ 6.31758347e-02  2.89253354e-01]\n",
      "   [-4.60929424e-03  4.66029495e-01]\n",
      "   [-3.90395485e-02  4.76454437e-01]\n",
      "   [-9.56975855e-05  4.35011208e-01]\n",
      "   [-3.23827825e-02  2.79391617e-01]\n",
      "   [ 6.40493870e-01  5.07028997e-02]]\n",
      "\n",
      "  [[ 8.70167017e-02  9.17496346e-03]\n",
      "   [-2.49285391e-03  2.92680468e-02]\n",
      "   [ 4.36258240e-04  3.35123390e-02]\n",
      "   [-5.06696105e-03  4.78605032e-02]\n",
      "   [ 7.93244923e-04  5.93873113e-02]\n",
      "   [ 9.34345182e-03  5.70082217e-02]\n",
      "   [-8.87084007e-02  1.49953272e-02]\n",
      "   [ 8.70167091e-02 -9.00308229e-03]\n",
      "   [-1.37852468e-02 -6.01747744e-02]\n",
      "   [-3.53685720e-03 -8.48655030e-02]\n",
      "   [ 6.90070493e-03 -5.82194813e-02]\n",
      "   [-6.38915808e-04 -3.75763886e-02]\n",
      "   [ 2.50105886e-03 -2.31176559e-02]\n",
      "   [-8.58461410e-02 -5.09152748e-03]]]\n",
      "\n",
      "\n",
      " [[[ 6.40640140e-01  8.70167390e-02]\n",
      "   [-2.67108902e-02  3.03835154e-01]\n",
      "   [ 4.21845121e-04  3.31570625e-01]\n",
      "   [-2.88295690e-02  3.70261014e-01]\n",
      "   [-6.09308667e-03  3.49520922e-01]\n",
      "   [ 5.04545979e-02  3.06818247e-01]\n",
      "   [-6.50711894e-01  8.70167166e-02]\n",
      "   [ 6.40385151e-01 -4.99907881e-02]\n",
      "   [-6.17419779e-02 -2.82981396e-01]\n",
      "   [ 4.84521687e-03 -4.56661701e-01]\n",
      "   [ 3.82574797e-02 -4.69223619e-01]\n",
      "   [ 1.61074102e-04 -4.29877371e-01]\n",
      "   [ 3.20324339e-02 -2.76228487e-01]\n",
      "   [-6.30313277e-01 -5.00468239e-02]]\n",
      "\n",
      "  [[-5.00468388e-02 -5.09153586e-03]\n",
      "   [ 1.35528739e-03 -1.60134025e-02]\n",
      "   [-2.57570238e-04 -1.83179341e-02]\n",
      "   [ 2.95879366e-03 -2.69296691e-02]\n",
      "   [-6.83875114e-04 -3.48799415e-02]\n",
      "   [-5.75565221e-03 -3.43497507e-02]\n",
      "   [ 5.10005876e-02 -9.00308229e-03]\n",
      "   [-4.99907769e-02  5.55356033e-03]\n",
      "   [ 8.73647258e-03  3.72075401e-02]\n",
      "   [ 2.67754588e-03  5.00343665e-02]\n",
      "   [-3.95045849e-03  3.21818665e-02]\n",
      "   [ 3.64991109e-04  2.00615264e-02]\n",
      "   [-1.32908812e-03  1.24260020e-02]\n",
      "   [ 4.93907668e-02  2.81341327e-03]]]\n",
      "\n",
      "\n",
      " [[[-6.17419556e-02 -4.67644585e-03]\n",
      "   [ 9.86721017e-04 -1.26194442e-02]\n",
      "   [-3.70642578e-04 -1.41729601e-02]\n",
      "   [ 4.20176145e-03 -2.83602588e-02]\n",
      "   [-2.76284292e-03 -5.06926104e-02]\n",
      "   [-9.34734102e-03 -5.52045815e-02]\n",
      "   [ 6.31758347e-02 -1.37852468e-02]\n",
      "   [-6.17419593e-02  8.73647351e-03]\n",
      "   [ 1.61323491e-02  6.65734187e-02]\n",
      "   [ 9.83410049e-03  7.56406486e-02]\n",
      "   [-4.90121031e-03  2.82975323e-02]\n",
      "   [ 3.88034474e-04  1.09569915e-02]\n",
      "   [-6.89528533e-04  7.78082432e-03]\n",
      "   [ 6.10806718e-02  2.47569103e-03]]\n",
      "\n",
      "  [[-2.82925338e-01 -2.32761912e-02]\n",
      "   [ 5.31380484e-03 -6.60518706e-02]\n",
      "   [-1.65708142e-03 -7.48675540e-02]\n",
      "   [ 1.85143799e-02 -1.35645032e-01]\n",
      "   [-1.03978887e-02 -2.22400561e-01]\n",
      "   [-4.01900224e-02 -2.38305688e-01]\n",
      "   [ 2.89253354e-01 -6.01747781e-02]\n",
      "   [-2.82981396e-01  3.72075364e-02]\n",
      "   [ 6.65734336e-02  2.77493954e-01]\n",
      "   [ 3.79945375e-02  3.32325757e-01]\n",
      "   [-2.24043708e-02  1.43668965e-01]\n",
      "   [ 1.91885850e-03  6.64233565e-02]\n",
      "   [-4.24011517e-03  4.42504287e-02]\n",
      "   [ 2.79724360e-01  1.24864569e-02]]]\n",
      "\n",
      "\n",
      " [[[ 4.84520942e-03  1.81212625e-03]\n",
      "   [-6.30245078e-04  6.77714311e-03]\n",
      "   [ 3.93673603e-04  1.07886875e-02]\n",
      "   [-1.24701182e-03  1.71863120e-02]\n",
      "   [-4.94027836e-03 -6.07063528e-04]\n",
      "   [-3.08530801e-03 -1.80384777e-02]\n",
      "   [-4.60927095e-03 -3.53685254e-03]\n",
      "   [ 4.84520756e-03  2.67754542e-03]\n",
      "   [ 9.83409304e-03  3.79945450e-02]\n",
      "   [ 2.29491871e-02  3.60190170e-04]\n",
      "   [ 6.80358103e-03 -3.82572077e-02]\n",
      "   [-7.70500803e-04 -1.16612185e-02]\n",
      "   [ 5.04103780e-04 -4.73987497e-03]\n",
      "   [-4.64205910e-03 -1.01107871e-03]]\n",
      "\n",
      "  [[-4.56661671e-01 -3.83428223e-02]\n",
      "   [ 8.59719701e-03 -1.07245639e-01]\n",
      "   [-4.04739100e-03 -1.30418450e-01]\n",
      "   [ 3.71079445e-02 -2.63435215e-01]\n",
      "   [-2.90730223e-03 -3.84918809e-01]\n",
      "   [-5.74112311e-02 -3.31255466e-01]\n",
      "   [ 4.66029435e-01 -8.48654956e-02]\n",
      "   [-4.56661671e-01  5.00343665e-02]\n",
      "   [ 7.56406635e-02  3.32325727e-01]\n",
      "   [ 3.60203907e-04  6.23710275e-01]\n",
      "   [-6.13817461e-02  3.26798528e-01]\n",
      "   [ 5.04065817e-03  1.03400663e-01]\n",
      "   [-5.79860341e-03  6.51936606e-02]\n",
      "   [ 4.51352000e-01  2.03441978e-02]]]\n",
      "\n",
      "\n",
      " [[[ 3.82574573e-02  2.58851470e-03]\n",
      "   [-3.81208956e-04  5.70401223e-03]\n",
      "   [ 5.58121363e-04  7.63957202e-03]\n",
      "   [-4.46563726e-03  2.66784765e-02]\n",
      "   [-1.17891014e-03  3.72456126e-02]\n",
      "   [ 4.66802530e-03  2.65871715e-02]\n",
      "   [-3.90395336e-02  6.90070633e-03]\n",
      "   [ 3.82574536e-02 -3.95045895e-03]\n",
      "   [-4.90120985e-03 -2.24043727e-02]\n",
      "   [ 6.80358801e-03 -6.13817535e-02]\n",
      "   [ 8.29458050e-03 -3.99204083e-02]\n",
      "   [-1.60646276e-04  2.20089499e-03]\n",
      "   [-5.74559381e-05 -1.49697531e-03]\n",
      "   [-3.78620848e-02 -1.29677332e-03]]\n",
      "\n",
      "  [[-4.69223678e-01 -5.76060154e-02]\n",
      "   [ 1.69819258e-02 -1.92347318e-01]\n",
      "   [-4.94842418e-03 -2.49396056e-01]\n",
      "   [ 2.33476683e-02 -3.27032477e-01]\n",
      "   [ 1.55287534e-02 -2.66985655e-01]\n",
      "   [-3.21371816e-02 -1.95883483e-01]\n",
      "   [ 4.76454407e-01 -5.82194775e-02]\n",
      "   [-4.69223619e-01  3.21818627e-02]\n",
      "   [ 2.82975305e-02  1.43668950e-01]\n",
      "   [-3.82572412e-02  3.26798558e-01]\n",
      "   [-3.99203785e-02  4.79702473e-01]\n",
      "   [ 1.30860014e-02  3.03497702e-01]\n",
      "   [-1.55013818e-02  1.43589705e-01]\n",
      "   [ 4.62051690e-01  3.18413228e-02]]]\n",
      "\n",
      "\n",
      " [[[ 1.61092961e-04  1.95259065e-03]\n",
      "   [-7.85151205e-04  8.99659097e-03]\n",
      "   [-8.65289883e-04  2.18649814e-03]\n",
      "   [ 4.49106010e-04 -5.77193871e-03]\n",
      "   [ 3.98880453e-04 -4.54534311e-03]\n",
      "   [-4.70075931e-04 -2.63370969e-03]\n",
      "   [-9.57236625e-05 -6.38914760e-04]\n",
      "   [ 1.61095290e-04  3.64991254e-04]\n",
      "   [ 3.88034648e-04  1.91885664e-03]\n",
      "   [-7.70500395e-04  5.04064839e-03]\n",
      "   [-1.60644384e-04  1.30860116e-02]\n",
      "   [ 3.45419208e-03 -2.60454440e-03]\n",
      "   [ 2.06049625e-03 -1.68040562e-02]\n",
      "   [-1.16212759e-05 -1.40561373e-03]]\n",
      "\n",
      "  [[-4.29877400e-01 -7.82641843e-02]\n",
      "   [ 2.71635819e-02 -2.97718734e-01]\n",
      "   [ 3.38027440e-03 -3.19155484e-01]\n",
      "   [ 7.60770077e-03 -2.45455340e-01]\n",
      "   [ 9.83455032e-03 -1.29423141e-01]\n",
      "   [-1.58171374e-02 -1.06869131e-01]\n",
      "   [ 4.35011208e-01 -3.75763811e-02]\n",
      "   [-4.29877400e-01  2.00615264e-02]\n",
      "   [ 1.09569905e-02  6.64233416e-02]\n",
      "   [-1.16612269e-02  1.03400677e-01]\n",
      "   [ 2.20088102e-03  3.03497642e-01]\n",
      "   [-2.60455208e-03  4.85634118e-01]\n",
      "   [-3.41961682e-02  2.93202966e-01]\n",
      "   [ 4.21205908e-01  4.61712815e-02]]]\n",
      "\n",
      "\n",
      " [[[ 3.20324302e-02  6.98354002e-03]\n",
      "   [-2.42917170e-03  2.72528399e-02]\n",
      "   [-7.40968972e-04  2.38596555e-02]\n",
      "   [-3.84124345e-04  1.48797482e-02]\n",
      "   [-5.12041908e-04  7.57001620e-03]\n",
      "   [ 9.77821881e-04  6.80861622e-03]\n",
      "   [-3.23827937e-02  2.50105863e-03]\n",
      "   [ 3.20324302e-02 -1.32908754e-03]\n",
      "   [-6.89528766e-04 -4.24011378e-03]\n",
      "   [ 5.04103431e-04 -5.79860434e-03]\n",
      "   [-5.74555597e-05 -1.55013818e-02]\n",
      "   [ 2.06049765e-03 -3.41961868e-02]\n",
      "   [ 4.09117155e-03 -3.20979096e-02]\n",
      "   [-3.13016288e-02 -4.54995129e-03]]\n",
      "\n",
      "  [[-2.76228517e-01 -5.78952059e-02]\n",
      "   [ 1.99138653e-02 -2.24022374e-01]\n",
      "   [ 5.61523903e-03 -1.98599294e-01]\n",
      "   [ 4.31613019e-03 -1.32530198e-01]\n",
      "   [ 4.44835098e-03 -7.44345337e-02]\n",
      "   [-9.72937047e-03 -6.58217221e-02]\n",
      "   [ 2.79391676e-01 -2.31176596e-02]\n",
      "   [-2.76228487e-01  1.24260029e-02]\n",
      "   [ 7.78082246e-03  4.42504212e-02]\n",
      "   [-4.73987265e-03  6.51936680e-02]\n",
      "   [-1.49697252e-03  1.43589720e-01]\n",
      "   [-1.68040562e-02  2.93202996e-01]\n",
      "   [-3.20978984e-02  2.51408249e-01]\n",
      "   [ 2.70184487e-01  3.57541032e-02]]]\n",
      "\n",
      "\n",
      " [[[-6.30582929e-01 -8.54215547e-02]\n",
      "   [ 2.61667334e-02 -2.97703624e-01]\n",
      "   [-4.79062786e-04 -3.25321376e-01]\n",
      "   [ 2.84838285e-02 -3.64475608e-01]\n",
      "   [ 5.93372621e-03 -3.45007062e-01]\n",
      "   [-4.98370416e-02 -3.02958757e-01]\n",
      "   [ 6.40493810e-01 -8.58461484e-02]\n",
      "   [-6.30313277e-01  4.93907630e-02]\n",
      "   [ 6.10806830e-02  2.79724330e-01]\n",
      "   [-4.64208238e-03  4.51352000e-01]\n",
      "   [-3.78620699e-02  4.62051690e-01]\n",
      "   [-1.16289593e-05  4.21205968e-01]\n",
      "   [-3.13016027e-02  2.70184427e-01]\n",
      "   [ 6.20461941e-01  4.90323305e-02]]\n",
      "\n",
      "  [[-5.00468202e-02 -9.00308229e-03]\n",
      "   [ 2.99855648e-03 -3.37834992e-02]\n",
      "   [ 5.42176014e-04 -3.24499793e-02]\n",
      "   [ 1.33739156e-03 -2.66687982e-02]\n",
      "   [ 8.14578030e-04 -1.86905805e-02]\n",
      "   [-2.50973040e-03 -1.60377845e-02]\n",
      "   [ 5.07028997e-02 -5.09152841e-03]\n",
      "   [-5.00468239e-02  2.81341327e-03]\n",
      "   [ 2.47569126e-03  1.24864560e-02]\n",
      "   [-1.01107918e-03  2.03441978e-02]\n",
      "   [-1.29677332e-03  3.18413265e-02]\n",
      "   [-1.40561594e-03  4.61712815e-02]\n",
      "   [-4.54994617e-03  3.57541032e-02]\n",
      "   [ 4.90323342e-02  5.58184925e-03]]]], shape=(14, 2, 14, 2), dtype=float32)\n"
     ]
    }
   ],
   "source": [
    "print(hess)"
   ]
  },
  {
   "cell_type": "code",
   "execution_count": 41,
   "metadata": {
    "ExecuteTime": {
     "end_time": "2020-01-16T16:32:30.743834Z",
     "start_time": "2020-01-16T16:32:30.732881Z"
    }
   },
   "outputs": [],
   "source": [
    "HessMatrix = np.empty(shape = [Number_para,Number_para])\n",
    "for x,i1 in enumerate(range(Number_para+6,2*Number_para+6)):\n",
    "    for y,i2 in enumerate(range(Number_para+6,2*Number_para+6)):\n",
    "        HessMatrix[x,y] = hess[i1,1,i2,1]"
   ]
  },
  {
   "cell_type": "code",
   "execution_count": 42,
   "metadata": {
    "ExecuteTime": {
     "end_time": "2020-01-16T16:32:30.804539Z",
     "start_time": "2020-01-16T16:32:30.800011Z"
    }
   },
   "outputs": [
    {
     "name": "stdout",
     "output_type": "stream",
     "text": [
      "[[0.62371027 0.32679853 0.10340066]\n",
      " [0.32679856 0.47970247 0.3034977 ]\n",
      " [0.10340068 0.30349764 0.48563412]]\n"
     ]
    }
   ],
   "source": [
    "print(HessMatrix)"
   ]
  },
  {
   "cell_type": "code",
   "execution_count": 96,
   "metadata": {
    "ExecuteTime": {
     "end_time": "2020-01-16T21:11:05.573874Z",
     "start_time": "2020-01-16T21:11:05.570289Z"
    }
   },
   "outputs": [],
   "source": [
    "def Laplace_appro(H,C_prior):\n",
    "    return tf.linalg.inv((tf.add(H,tf.linalg.inv(C_prior))))\n"
   ]
  },
  {
   "cell_type": "code",
   "execution_count": 99,
   "metadata": {
    "ExecuteTime": {
     "end_time": "2020-01-16T23:56:00.859184Z",
     "start_time": "2020-01-16T23:56:00.855763Z"
    }
   },
   "outputs": [],
   "source": [
    "cov_post = Laplace_appro(HessMatrix,cov_prior)"
   ]
  },
  {
   "cell_type": "code",
   "execution_count": 100,
   "metadata": {
    "ExecuteTime": {
     "end_time": "2020-01-16T23:56:02.170438Z",
     "start_time": "2020-01-16T23:56:02.166361Z"
    }
   },
   "outputs": [
    {
     "data": {
      "text/plain": [
       "<tf.Tensor: shape=(3, 3), dtype=float32, numpy=\n",
       "array([[ 2.2091596, -1.6563011,  0.5120193],\n",
       "       [-1.656301 ,  4.037153 , -1.9677684],\n",
       "       [ 0.5120189, -1.9677678,  2.8830686]], dtype=float32)>"
      ]
     },
     "execution_count": 100,
     "metadata": {},
     "output_type": "execute_result"
    }
   ],
   "source": [
    "cov_post"
   ]
  },
  {
   "cell_type": "code",
   "execution_count": 101,
   "metadata": {
    "ExecuteTime": {
     "end_time": "2020-01-16T23:56:03.634533Z",
     "start_time": "2020-01-16T23:56:03.620730Z"
    }
   },
   "outputs": [],
   "source": [
    "@tf.function\n",
    "def matrixcompute(matrix1,matrix2,Cov):\n",
    "    matrix1 = tf.cast(matrix1,tf.float32)\n",
    "    matrix2 = tf.cast(matrix2,tf.float32)\n",
    "    matrix = tf.subtract(matrix1, matrix2)\n",
    "    matrix = tf.reshape(matrix,[matrix.shape[0],1])\n",
    "    matrix_T = tf.transpose(matrix)\n",
    "    Cov_inv = tf.linalg.inv(Cov)\n",
    "    result = tf.multiply(tf.constant(1/2),tf.matmul(tf.matmul(matrix_T,Cov_inv),matrix))\n",
    "    return result\n",
    "\n",
    "def acceptance_gpCN(m_current , m_proposed):\n",
    "    delta_current = tf.subtract(negative_log_post(m_current),matrixcompute(m_current,MAP,cov_post))\n",
    "    delta_proposed = tf.subtract(negative_log_post(m_proposed),matrixcompute(m_proposed,MAP,cov_post))\n",
    "\n",
    "    ## calculate accept ratio if exp()<1\n",
    "    accept_ratio = tf.exp(tf.subtract(delta_current,delta_proposed))\n",
    "    acceptsample = tfd.Sample(\n",
    "    tfd.Uniform(0., 1.),\n",
    "    sample_shape=[1,1])\n",
    "    sample = acceptsample.sample()\n",
    "    \n",
    "    if(accept_ratio > sample):\n",
    "        return True\n",
    "    else:\n",
    "        return False\n",
    "        \n",
    "from IPython.display import clear_output\n",
    "# define leaning rate\n",
    "beta = 0.4\n",
    "\n",
    "@tf.function\n",
    "def draw_proposal(m_current):\n",
    "    \n",
    "    _term1 = MAP\n",
    "    \n",
    "    ## sqrt term\n",
    "    tem_1 = tf.convert_to_tensor(tf.sqrt(1-beta**2),dtype = tf.float32)\n",
    "    ## sqrt(1-beta^2)()\n",
    "    _term2 = tf.multiply(tem_1,(tf.subtract(m_current,MAP)))\n",
    "    \n",
    "    Xi = tfd.MultivariateNormalFullCovariance(\n",
    "            loc = 0,\n",
    "            covariance_matrix= cov_post)\n",
    "\n",
    "    Xi_s = tfd.Sample(Xi)\n",
    "    _term3 = tf.multiply(beta,Xi_s.sample())\n",
    "    \n",
    "    m_proposed = tf.add(MAP,tf.add(_term2,_term3))\n",
    "    \n",
    "    return m_proposed       "
   ]
  },
  {
   "cell_type": "code",
   "execution_count": 102,
   "metadata": {
    "ExecuteTime": {
     "end_time": "2020-01-16T23:56:05.996091Z",
     "start_time": "2020-01-16T23:56:05.933968Z"
    }
   },
   "outputs": [
    {
     "data": {
      "text/plain": [
       "<tf.Tensor: shape=(3,), dtype=float32, numpy=array([ -6.25108 , -18.79881 , -11.842674], dtype=float32)>"
      ]
     },
     "execution_count": 102,
     "metadata": {},
     "output_type": "execute_result"
    }
   ],
   "source": [
    "draw_proposal(MAP)"
   ]
  },
  {
   "cell_type": "code",
   "execution_count": 103,
   "metadata": {
    "ExecuteTime": {
     "end_time": "2020-01-16T23:56:16.858537Z",
     "start_time": "2020-01-16T23:56:16.855437Z"
    }
   },
   "outputs": [],
   "source": [
    "def negative_log_post(mu):\n",
    "    return(tf.negative(joint_log_prob(D,points,mu)))"
   ]
  },
  {
   "cell_type": "code",
   "execution_count": 104,
   "metadata": {
    "ExecuteTime": {
     "end_time": "2020-01-17T00:46:38.110532Z",
     "start_time": "2020-01-16T23:56:18.188465Z"
    }
   },
   "outputs": [
    {
     "name": "stdout",
     "output_type": "stream",
     "text": [
      "Acceptance rate = 0.0%\n"
     ]
    }
   ],
   "source": [
    "mu_init = [-2.,-2.,-4.]\n",
    "\n",
    "number_of_steps = 2000\n",
    "def run_chain():\n",
    "    burn_in = 1000\n",
    "    steps = number_of_steps\n",
    "    k = 0\n",
    "    accepted = []\n",
    "    rejected = []\n",
    "\n",
    "    m_current = mu_init  # init m\n",
    "    \n",
    "    \n",
    "    for k in range(steps+burn_in):\n",
    "\n",
    "        m_proposed = draw_proposal(m_current)\n",
    "\n",
    "        \n",
    "        if acceptance_gpCN(m_current,m_proposed):\n",
    "            m_current = m_proposed\n",
    "            if k > burn_in:\n",
    "                accepted.append(m_proposed.numpy())\n",
    "        else:\n",
    "            m_current = m_current\n",
    "            rejected.append(m_proposed.numpy())\n",
    "    \n",
    "    return accepted,rejected\n",
    "#     print(\"acceptance rate = %0.1f%%\", 100*np.shape(accepted)[0]/steps)\n",
    "    \n",
    "accepted,rejected = run_chain()\n",
    "np.shape(accepted)[0]\n",
    "print('Acceptance rate = %0.1f%%' % (100*np.shape(accepted)[0]/number_of_steps))\n",
    "\n",
    "accepted = np.array(accepted)\n",
    "\n"
   ]
  },
  {
   "cell_type": "markdown",
   "metadata": {},
   "source": [
    "gpCN seems not quite correct, the reason is demonstrated below in DEBUG:\n",
    "\n",
    "-  the main reason it's failed is the acceptence rate: negative log post minus the diff in $m_v$ makes the good proposal have big $\\Delta$\n",
    "\n",
    "let's try pCN first"
   ]
  },
  {
   "cell_type": "code",
   "execution_count": 105,
   "metadata": {
    "ExecuteTime": {
     "end_time": "2020-01-17T10:05:54.456313Z",
     "start_time": "2020-01-17T10:05:54.452272Z"
    }
   },
   "outputs": [
    {
     "data": {
      "text/plain": [
       "<tf.Tensor: shape=(3, 3), dtype=float32, numpy=\n",
       "array([[ 2.2091596, -1.6563011,  0.5120193],\n",
       "       [-1.656301 ,  4.037153 , -1.9677684],\n",
       "       [ 0.5120189, -1.9677678,  2.8830686]], dtype=float32)>"
      ]
     },
     "execution_count": 105,
     "metadata": {},
     "output_type": "execute_result"
    }
   ],
   "source": [
    "cov_post"
   ]
  },
  {
   "cell_type": "code",
   "execution_count": 58,
   "metadata": {
    "ExecuteTime": {
     "end_time": "2020-01-16T20:35:23.783245Z",
     "start_time": "2020-01-16T20:35:23.777766Z"
    }
   },
   "outputs": [
    {
     "data": {
      "text/plain": [
       "<tf.Tensor: shape=(3, 3), dtype=float32, numpy=\n",
       "array([[20.,  0.,  0.],\n",
       "       [ 0., 20.,  0.],\n",
       "       [ 0.,  0., 20.]], dtype=float32)>"
      ]
     },
     "execution_count": 58,
     "metadata": {},
     "output_type": "execute_result"
    }
   ],
   "source": [
    "cov_prior"
   ]
  },
  {
   "cell_type": "markdown",
   "metadata": {},
   "source": [
    "### try pCN MCMC"
   ]
  },
  {
   "cell_type": "markdown",
   "metadata": {},
   "source": [
    "first define a likelihood function rather than posteior function"
   ]
  },
  {
   "cell_type": "code",
   "execution_count": 162,
   "metadata": {
    "ExecuteTime": {
     "end_time": "2020-01-17T12:23:25.745472Z",
     "start_time": "2020-01-17T12:23:25.741540Z"
    }
   },
   "outputs": [],
   "source": [
    "def likelihood(D,points_copy,ps):\n",
    "\n",
    "    Gm_ = grav(points_copy,ps)\n",
    "    \n",
    "    mvn_likelihood = tfd.MultivariateNormalFullCovariance(\n",
    "            loc = Gm_,\n",
    "            covariance_matrix= cov)\n",
    "    \n",
    "    return mvn_likelihood.log_prob(D)\n",
    "\n",
    "def negative_likeli(D,points,ps):\n",
    "    return tf.negative(likelihood(D,points,ps))"
   ]
  },
  {
   "cell_type": "code",
   "execution_count": 164,
   "metadata": {
    "ExecuteTime": {
     "end_time": "2020-01-17T12:23:37.179515Z",
     "start_time": "2020-01-17T12:23:36.639091Z"
    }
   },
   "outputs": [
    {
     "data": {
      "text/plain": [
       "<tf.Tensor: shape=(), dtype=float32, numpy=-113.3639>"
      ]
     },
     "execution_count": 164,
     "metadata": {},
     "output_type": "execute_result"
    }
   ],
   "source": [
    "negative_likeli(D,points,m_test)"
   ]
  },
  {
   "cell_type": "code",
   "execution_count": 165,
   "metadata": {
    "ExecuteTime": {
     "end_time": "2020-01-17T12:24:30.897957Z",
     "start_time": "2020-01-17T12:24:30.894027Z"
    }
   },
   "outputs": [],
   "source": [
    "def acceptance_pCN(m_current , m_proposed):\n",
    "    delta_current = negative_likeli(D,points,m_current)\n",
    "    delta_proposed = negative_likeli(D,points,m_proposed)\n",
    "    ## calculate accept ratio if exp()<1\n",
    "    accept_ratio = tf.exp(tf.subtract(delta_current,delta_proposed))\n",
    "    acceptsample = tfd.Sample(\n",
    "    tfd.Uniform(0., 1.),\n",
    "    sample_shape=[1,1])\n",
    "    sample = acceptsample.sample()\n",
    "    \n",
    "    if(accept_ratio > sample):\n",
    "        return True\n",
    "    else:\n",
    "        return False"
   ]
  },
  {
   "cell_type": "code",
   "execution_count": 168,
   "metadata": {
    "ExecuteTime": {
     "end_time": "2020-01-17T13:16:55.698673Z",
     "start_time": "2020-01-17T12:25:33.587618Z"
    }
   },
   "outputs": [
    {
     "name": "stdout",
     "output_type": "stream",
     "text": [
      "Acceptance rate = 94.5%\n"
     ]
    }
   ],
   "source": [
    "mu_init = [-2.,-2.,-4.]\n",
    "\n",
    "number_of_steps = 2000\n",
    "def run_chain():\n",
    "    burn_in = 1000\n",
    "    steps = number_of_steps\n",
    "    k = 0\n",
    "    accepted = []\n",
    "    rejected = []\n",
    "\n",
    "    m_current = mu_init  # init m\n",
    "    \n",
    "    for k in range(steps+burn_in):\n",
    "\n",
    "        m_proposed = draw_proposal(m_current)\n",
    "\n",
    "        if acceptance_pCN(m_current,m_proposed):\n",
    "            m_current = m_proposed\n",
    "            if k > burn_in:\n",
    "                accepted.append(m_proposed.numpy())\n",
    "        else:\n",
    "            m_current = m_current\n",
    "            rejected.append(m_proposed.numpy())\n",
    "    \n",
    "    return accepted,rejected\n",
    "#     print(\"acceptance rate = %0.1f%%\", 100*np.shape(accepted)[0]/steps)\n",
    "    \n",
    "accepted,rejected = run_chain()\n",
    "np.shape(accepted)[0]\n",
    "print('Acceptance rate = %0.1f%%' % (100*np.shape(accepted)[0]/number_of_steps))\n",
    "\n",
    "accepted = np.array(accepted)"
   ]
  },
  {
   "cell_type": "code",
   "execution_count": null,
   "metadata": {},
   "outputs": [],
   "source": []
  },
  {
   "cell_type": "code",
   "execution_count": null,
   "metadata": {},
   "outputs": [],
   "source": []
  },
  {
   "cell_type": "code",
   "execution_count": null,
   "metadata": {},
   "outputs": [],
   "source": []
  },
  {
   "cell_type": "code",
   "execution_count": null,
   "metadata": {},
   "outputs": [],
   "source": []
  },
  {
   "cell_type": "code",
   "execution_count": null,
   "metadata": {},
   "outputs": [],
   "source": []
  },
  {
   "cell_type": "code",
   "execution_count": null,
   "metadata": {},
   "outputs": [],
   "source": []
  },
  {
   "cell_type": "code",
   "execution_count": null,
   "metadata": {},
   "outputs": [],
   "source": []
  },
  {
   "cell_type": "code",
   "execution_count": null,
   "metadata": {},
   "outputs": [],
   "source": []
  },
  {
   "cell_type": "markdown",
   "metadata": {},
   "source": [
    "### Debug|"
   ]
  },
  {
   "cell_type": "code",
   "execution_count": null,
   "metadata": {},
   "outputs": [],
   "source": [
    "mu_init = [-2.,-2.,-4.]\n",
    "\n",
    "number_of_steps = 10\n",
    "\n",
    "burn_in = 5\n",
    "steps = number_of_steps\n",
    "k = 0\n",
    "accepted = []\n",
    "rejected = []\n",
    "\n",
    "m_current = mu_init  # init m\n",
    "    \n",
    "    \n",
    "for k in range(steps+burn_in):\n",
    "\n",
    "    m_proposed = draw_proposal(m_current)\n",
    "\n",
    "    if acceptance_gpCN(m_current,m_proposed):\n",
    "        m_current = m_proposed\n",
    "        if k > burn_in:\n",
    "            accepted.append(m_proposed.numpy())\n",
    "    else:\n",
    "        m_current = m_current\n",
    "        rejected.append(m_proposed.numpy())\n",
    "    \n"
   ]
  },
  {
   "cell_type": "code",
   "execution_count": 106,
   "metadata": {
    "ExecuteTime": {
     "end_time": "2020-01-17T10:07:40.873900Z",
     "start_time": "2020-01-17T10:07:40.870260Z"
    }
   },
   "outputs": [
    {
     "data": {
      "text/plain": [
       "<tf.Tensor: shape=(3,), dtype=float32, numpy=array([ -6.1381764, -18.831266 , -12.485522 ], dtype=float32)>"
      ]
     },
     "execution_count": 106,
     "metadata": {},
     "output_type": "execute_result"
    }
   ],
   "source": [
    "MAP"
   ]
  },
  {
   "cell_type": "code",
   "execution_count": 117,
   "metadata": {
    "ExecuteTime": {
     "end_time": "2020-01-17T10:09:19.408001Z",
     "start_time": "2020-01-17T10:09:19.405039Z"
    }
   },
   "outputs": [],
   "source": [
    "m1 = draw_proposal(MAP)"
   ]
  },
  {
   "cell_type": "code",
   "execution_count": 122,
   "metadata": {
    "ExecuteTime": {
     "end_time": "2020-01-17T10:10:54.751522Z",
     "start_time": "2020-01-17T10:10:54.748685Z"
    }
   },
   "outputs": [],
   "source": [
    "m_test = tf.constant([-1.,-10.,-2.])"
   ]
  },
  {
   "cell_type": "code",
   "execution_count": 123,
   "metadata": {
    "ExecuteTime": {
     "end_time": "2020-01-17T10:11:01.211491Z",
     "start_time": "2020-01-17T10:11:00.163070Z"
    }
   },
   "outputs": [
    {
     "data": {
      "text/plain": [
       "True"
      ]
     },
     "execution_count": 123,
     "metadata": {},
     "output_type": "execute_result"
    }
   ],
   "source": [
    "acceptance_gpCN(MAP,m_test)"
   ]
  },
  {
   "cell_type": "code",
   "execution_count": 119,
   "metadata": {
    "ExecuteTime": {
     "end_time": "2020-01-17T10:09:38.707429Z",
     "start_time": "2020-01-17T10:09:38.701648Z"
    }
   },
   "outputs": [],
   "source": [
    "def acceptance_pCN(m_current , m_proposed):\n",
    "    delta_current = tf.subtract(negative_log_post(m_current),matrixcompute(m_current,MAP,cov_post))\n",
    "    delta_proposed = tf.subtract(negative_log_post(m_proposed),matrixcompute(m_proposed,MAP,cov_post))\n",
    "\n",
    "    ## calculate accept ratio if exp()<1\n",
    "    accept_ratio = tf.exp(tf.subtract(delta_current,delta_proposed))\n",
    "    acceptsample = tfd.Sample(\n",
    "    tfd.Uniform(0., 1.),\n",
    "    sample_shape=[1,1])\n",
    "    sample = acceptsample.sample()\n",
    "    \n",
    "    if(accept_ratio > sample):\n",
    "        return True\n",
    "    else:\n",
    "        return False"
   ]
  },
  {
   "cell_type": "code",
   "execution_count": 155,
   "metadata": {
    "ExecuteTime": {
     "end_time": "2020-01-17T10:55:21.784423Z",
     "start_time": "2020-01-17T10:55:21.245902Z"
    }
   },
   "outputs": [
    {
     "data": {
      "text/plain": [
       "<tf.Tensor: shape=(), dtype=float32, numpy=-108.65752>"
      ]
     },
     "execution_count": 155,
     "metadata": {},
     "output_type": "execute_result"
    }
   ],
   "source": [
    "negative_log_post(MAP)"
   ]
  },
  {
   "cell_type": "code",
   "execution_count": 156,
   "metadata": {
    "ExecuteTime": {
     "end_time": "2020-01-17T10:55:24.398978Z",
     "start_time": "2020-01-17T10:55:23.875058Z"
    }
   },
   "outputs": [
    {
     "data": {
      "text/plain": [
       "<tf.Tensor: shape=(), dtype=float32, numpy=-86.48848>"
      ]
     },
     "execution_count": 156,
     "metadata": {},
     "output_type": "execute_result"
    }
   ],
   "source": [
    "negative_log_post(m_test)"
   ]
  },
  {
   "cell_type": "code",
   "execution_count": 146,
   "metadata": {
    "ExecuteTime": {
     "end_time": "2020-01-17T10:34:22.978343Z",
     "start_time": "2020-01-17T10:34:21.942267Z"
    }
   },
   "outputs": [],
   "source": [
    "m_current =  m_test\n",
    "m_proposed = MAP\n",
    "\n",
    "delta_current = tf.subtract(negative_log_post(m_current),matrixcompute(m_current,MAP,cov_post))\n",
    "delta_proposed = tf.subtract(negative_log_post(m_proposed),matrixcompute(m_proposed,MAP,cov_post))\n",
    "accept_ratio = tf.exp(tf.subtract(delta_current,delta_proposed))"
   ]
  },
  {
   "cell_type": "code",
   "execution_count": 157,
   "metadata": {
    "ExecuteTime": {
     "end_time": "2020-01-17T10:56:39.635758Z",
     "start_time": "2020-01-17T10:56:39.631429Z"
    }
   },
   "outputs": [
    {
     "data": {
      "text/plain": [
       "<tf.Tensor: shape=(1, 1), dtype=float32, numpy=array([[-193.98718]], dtype=float32)>"
      ]
     },
     "execution_count": 157,
     "metadata": {},
     "output_type": "execute_result"
    }
   ],
   "source": [
    "delta_current"
   ]
  },
  {
   "cell_type": "code",
   "execution_count": 158,
   "metadata": {
    "ExecuteTime": {
     "end_time": "2020-01-17T10:56:40.968178Z",
     "start_time": "2020-01-17T10:56:40.964417Z"
    }
   },
   "outputs": [
    {
     "data": {
      "text/plain": [
       "<tf.Tensor: shape=(1, 1), dtype=float32, numpy=array([[-108.65752]], dtype=float32)>"
      ]
     },
     "execution_count": 158,
     "metadata": {},
     "output_type": "execute_result"
    }
   ],
   "source": [
    "delta_proposed"
   ]
  },
  {
   "cell_type": "code",
   "execution_count": null,
   "metadata": {},
   "outputs": [],
   "source": []
  }
 ],
 "metadata": {
  "kernelspec": {
   "display_name": "Python 3",
   "language": "python",
   "name": "python3"
  },
  "language_info": {
   "codemirror_mode": {
    "name": "ipython",
    "version": 3
   },
   "file_extension": ".py",
   "mimetype": "text/x-python",
   "name": "python",
   "nbconvert_exporter": "python",
   "pygments_lexer": "ipython3",
   "version": "3.7.4"
  },
  "varInspector": {
   "cols": {
    "lenName": 16,
    "lenType": 16,
    "lenVar": 40
   },
   "kernels_config": {
    "python": {
     "delete_cmd_postfix": "",
     "delete_cmd_prefix": "del ",
     "library": "var_list.py",
     "varRefreshCmd": "print(var_dic_list())"
    },
    "r": {
     "delete_cmd_postfix": ") ",
     "delete_cmd_prefix": "rm(",
     "library": "var_list.r",
     "varRefreshCmd": "cat(var_dic_list()) "
    }
   },
   "types_to_exclude": [
    "module",
    "function",
    "builtin_function_or_method",
    "instance",
    "_Feature"
   ],
   "window_display": false
  }
 },
 "nbformat": 4,
 "nbformat_minor": 2
}
