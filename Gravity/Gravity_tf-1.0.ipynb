{
 "cells": [
  {
   "cell_type": "code",
   "execution_count": 150,
   "metadata": {
    "ExecuteTime": {
     "end_time": "2020-01-14T14:33:58.420711Z",
     "start_time": "2020-01-14T14:33:58.413187Z"
    }
   },
   "outputs": [],
   "source": [
    "%matplotlib inline\n",
    "import matplotlib.pyplot as plt\n",
    "import numpy as np\n",
    "import tensorflow as tf\n",
    "import scipy\n",
    "from scipy.stats import norm\n",
    "import tensorflow_probability as tfp\n",
    "import seaborn as sns\n",
    "import pandas as pd\n",
    "import corner \n",
    "import math as m\n",
    "\n",
    "tfd=tfp.distributions"
   ]
  },
  {
   "cell_type": "code",
   "execution_count": 151,
   "metadata": {
    "ExecuteTime": {
     "end_time": "2020-01-14T14:33:58.432121Z",
     "start_time": "2020-01-14T14:33:58.423096Z"
    }
   },
   "outputs": [],
   "source": [
    "def draw(points,ax = None,R = 100):\n",
    "    ## function to plot the geometry\n",
    "    if ax == None:\n",
    "        f,ax=plt.subplots()\n",
    "    x = points[:,0]\n",
    "    z = points[:,1]\n",
    "    for i in range(points.shape[0]):\n",
    "        ax.plot(x[i:i+2],z[i:i+2],'r-')\n",
    "    x_ = np.linspace(-R,R,10)\n",
    "    ax.plot(x_,np.zeros(np.shape(x_)),lw = 0.5)# draw a reference line, surface\n",
    "    ax.plot([x[0],x[-1]],[z[0],z[-1]],'r-')\n",
    "    ax.set_ylim(min(points[:,1])-10,5)\n",
    "    ax.set_xlim(-R,R)\n",
    "    \n",
    "pi = tf.constant(m.pi) # define PI in Tensorflow form"
   ]
  },
  {
   "cell_type": "code",
   "execution_count": 152,
   "metadata": {
    "ExecuteTime": {
     "end_time": "2020-01-14T14:33:58.449081Z",
     "start_time": "2020-01-14T14:33:58.434867Z"
    }
   },
   "outputs": [],
   "source": [
    "depth = -20\n",
    "thickness = 20\n",
    "\n",
    "corners=np.array([[-200,depth-thickness],\n",
    "                  [-70,depth-thickness],\n",
    "                  [70,depth-thickness],# bottom left coner\n",
    "              [200,depth-thickness], \n",
    "              [200,depth], # bottom right coner\n",
    "              [70, depth], # top right coner\n",
    "              [-70,depth],# top left coner\n",
    "              [-200,depth]])\n",
    "Number_para = 2\n",
    "obs_N = 9\n",
    "points = np.empty((2*Number_para+8,2),dtype = np.float32)\n",
    "\n",
    "points[0] = corners[0]\n",
    "points[1] = corners[1]\n",
    "\n",
    "for i in range(6):\n",
    "    points[Number_para+i] = corners[i]\n",
    "    \n",
    "points[-2]=corners[-2]\n",
    "points[-1]=corners[-1]\n",
    "\n",
    "np.random.seed(21)\n",
    "\n",
    "x2 = np.linspace(-70,70,Number_para+2)\n",
    "x1 = np.linspace(70,-70,Number_para+2)\n",
    "\n",
    "thickness = 20\n",
    "y1 = np.random.uniform(-2,-50,Number_para)\n",
    "y2 = y1-thickness\n",
    "\n",
    "y1 = list(reversed(y1))\n",
    "\n",
    "for i in range(2,Number_para+2): ## lower layer\n",
    "    points[i][1] = y2[i-2]\n",
    "    points[i][0] = x2[i-1]\n",
    "    \n",
    "for i in range(Number_para+6,2*Number_para+6): ## upper layer\n",
    "    points[i][1] = y1[i-Number_para-6]\n",
    "    points[i][0] = x1[i-Number_para-5]\n"
   ]
  },
  {
   "cell_type": "code",
   "execution_count": 153,
   "metadata": {
    "ExecuteTime": {
     "end_time": "2020-01-14T14:33:58.738912Z",
     "start_time": "2020-01-14T14:33:58.451585Z"
    }
   },
   "outputs": [
    {
     "data": {
      "text/plain": [
       "(-70, 70)"
      ]
     },
     "execution_count": 153,
     "metadata": {},
     "output_type": "execute_result"
    },
    {
     "data": {
      "image/png": "[encoded data removed]",
      "text/plain": [
       "<Figure size 432x288 with 1 Axes>"
      ]
     },
     "metadata": {
      "needs_background": "light"
     },
     "output_type": "display_data"
    }
   ],
   "source": [
    "f,ax=plt.subplots()\n",
    "x = points[:,0]\n",
    "z = points[:,1]\n",
    "for i in range(points.shape[0]):\n",
    "    ax.plot(x[i:i+2],z[i:i+2],'r-')\n",
    "x_ = np.linspace(-70,70,10)\n",
    "ax.plot(x_,np.zeros(np.shape(x_)),lw = 0.5)# draw a reference line, surface\n",
    "ax.plot([x[0],x[-1]],[z[0],z[-1]],'r-')\n",
    "ax.set_ylim(min(points[:,1])-10,5)\n",
    "ax.set_xlim(-70,70)\n"
   ]
  },
  {
   "cell_type": "markdown",
   "metadata": {},
   "source": [
    "#### Z direction gravity line integration following Won 1987\n",
    "\\begin{equation}\n",
    "\\Delta g_{z}=2 G \\rho \\sum_{i=1}^{n} Z_{i}\n",
    "\\end{equation}\n",
    "\n",
    "\\begin{equation}\n",
    "Z=A\\left[\\left(\\theta_{1}-\\theta_{2}\\right)+B \\ln \\frac{r_{2}}{r_{1}}\\right]\n",
    "\\end{equation}\n",
    "\n",
    "where,   \n",
    "\\begin{equation}\n",
    "\\begin{aligned}\n",
    "&A=\\frac{\\left(x_{2}-x_{1}\\right)\\left(x_{1} z_{2}-x_{2} z_{1}\\right)}{\\left(x_{2}-x_{1}\\right)^{2}+\\left(z_{2}-z_{1}\\right)^{2}}\\\\\n",
    "&B=\\frac{z_{2}-z_{1}}{x_{2}-x_{1}}\n",
    "\\end{aligned}\n",
    "\\end{equation}\n",
    "\n",
    "and,   \n",
    "\\begin{equation}\n",
    "\\begin{aligned}\n",
    "&r_{1}^{2}=x_{1}^{2}+z_{1}^{2}\\\\\n",
    "&r_{2}^{2}=x_{2}^{2}+z_{2}^{2}\n",
    "\\end{aligned}\n",
    "\\end{equation}\n"
   ]
  },
  {
   "cell_type": "code",
   "execution_count": 419,
   "metadata": {
    "ExecuteTime": {
     "end_time": "2020-01-14T16:31:00.036447Z",
     "start_time": "2020-01-14T16:30:59.953658Z"
    }
   },
   "outputs": [],
   "source": [
    "\n",
    "def A(x,z,p1,p2):\n",
    "    numerator = (x[p2]-x[p1])*(x[p1]*z[p2]-x[p2]*z[p1])\n",
    "    denominator = (x[p2]-x[p1])**2 + (z[p2]-z[p1])**2\n",
    "    return (numerator/denominator)\n",
    "\n",
    "\n",
    "def B(x,z,p1,p2):\n",
    "    '''\n",
    "    x : array, x coordinate\n",
    "    z : array, z coordinate\n",
    "    p1, p2 : int, position\n",
    "    \n",
    "    '''\n",
    "    return ((z[p1]-z[p2])/(x[p2]-x[p1]))\n",
    "\n",
    "\n",
    "def theta(x,z, p):\n",
    "    if tf.math.not_equal(x[p], 0) :\n",
    "        if tf.less(tf.atan(tf.divide(z[p],x[p])),0):\n",
    "            return(tf.atan(tf.divide(z[p],x[p]))+pi)\n",
    "        else:\n",
    "            return(tf.atan(tf.divide(z[p],x[p])))\n",
    "    elif tf.math.logical_and(tf.math.equal(x[p], 0), tf.math.not_equal(z[p], 0)):\n",
    "        return(pi/2)\n",
    "    else: return(0.)\n",
    "\n",
    "\n",
    "def r(x,z,p):\n",
    "    '''\n",
    "    x : array, x coordinate\n",
    "    z : array, z coordinate\n",
    "    p : int, position\n",
    "    \n",
    "    '''\n",
    "    return(tf.sqrt(x[p]**2+z[p]**2))\n",
    "\n",
    "\n",
    "def Z(x,z,p1,p2):\n",
    "    \n",
    "    if tf.logical_or(tf.logical_and(tf.equal(x[p1],z[p1]),tf.equal(x[p1],0.)), tf.logical_and(tf.equal(x[p2],z[p2]),tf.equal(x[p2],0.))):\n",
    "        return(0.)\n",
    "\n",
    "    elif tf.equal(x[p1], x[p2]):\n",
    "        return((x[p1]*tf.math.log(r(x,z,p2)/r(x,z,p1))))\n",
    "    \n",
    "    else:\n",
    "    \n",
    "        theta1 = theta(x,z, p1)\n",
    "        theta2 = theta(x,z, p2)\n",
    "\n",
    "        r1 = r(x,z,p1)\n",
    "        r2 = r(x,z,p2)\n",
    "\n",
    "        _A = A(x,z,p1,p2)\n",
    "        _B = B(x,z,p1,p2)\n",
    "\n",
    "        Z_result = _A*((theta1-theta2)+_B*tf.math.log(r1/r2))\n",
    "        return(Z_result)\n",
    "\n",
    "\n",
    "def g(data,loc):\n",
    "    \n",
    "    ''' \n",
    "    data: Points defining the geometry 2N+coners\n",
    "    loc: reference point (2x1)\n",
    "    \n",
    "    '''\n",
    "    \n",
    "    G = tf.constant(6.67 * 10**(-11)) # gravitational constant  m^3 kg ^-1 s^-2\n",
    "    rho = tf.constant(1000.)        # density difference   kg/m^3\n",
    "\n",
    "    _data = data - loc #Calculate any point refer to the origin\n",
    "\n",
    "    _x = _data[:,0]\n",
    "    _z = _data[:,1]\n",
    "\n",
    "    Z_sum = tf.constant(0.)\n",
    "\n",
    "    for i in tf.range(_data.shape[0]-1):\n",
    "        Z_sum = tf.add(Z_sum, Z(_x,_z,i,i+1))\n",
    "\n",
    "    Z_sum = tf.add(Z_sum, Z(_x,_z,-1,0))\n",
    "\n",
    "    g = 2*G*rho * Z_sum\n",
    "\n",
    "    return(g)\n",
    "\n",
    "\n",
    "def grav(points,ps):\n",
    "    \"\"\"\n",
    "    points: base point, fixing the x position\n",
    "    ps: Positions,Variable(N elements vector), tuning z position\n",
    "    \n",
    "    \"\"\"\n",
    "    t = tf.convert_to_tensor(thickness,dtype = tf.float32)\n",
    "    N1 = tf.constant(Number_para)\n",
    "    ps2 = ps-t\n",
    "\n",
    "    ps2 = tf.reverse(ps2,[-1])\n",
    "\n",
    "    for i in tf.range(2,N1+2): ## lower layer\n",
    "        points[i].assign([points[i][0],ps2[i-2]])\n",
    "\n",
    "    for i in tf.range(N1+6,2*N1+6): ## upper layer\n",
    "        points[i].assign([points[i][0],ps[i-N1-6]])\n",
    "\n",
    "    x_obv = tf.linspace(-70., 70., obs_N+2)\n",
    "    y_obv = tf.zeros(tf.shape(x_obv))\n",
    "    obv = tf.stack((x_obv,y_obv),axis = 1)\n",
    "\n",
    "\n",
    "    gravity = tf.TensorArray(tf.float32, size=obv.shape[0]-2)\n",
    "    \n",
    "    j = tf.constant(0)\n",
    "    for i in obv[1:-1]:\n",
    "        gravity=gravity.write(j,-g(points,i))\n",
    "        j = tf.add(j,1)\n",
    "    return gravity.stack()\n",
    "\n",
    "\n",
    "def joint_log_prob(D,points_copy,ps):\n",
    "    \"\"\"\n",
    "    D: is the observation data\n",
    "    ps: Positions,Variable(N elements vector)\n",
    "    \"\"\"\n",
    "    # define random variables prior\n",
    "    \n",
    "    low_ = tf.constant(-40.)\n",
    "    high_ = tf.constant(-1.)\n",
    "    mvn_prior = tfd.Uniform(\n",
    "            low = low_,\n",
    "            high = high_)\n",
    "    # define likelihood\n",
    "    \n",
    "    Gm_ = grav(points_copy,ps)\n",
    "    \n",
    "    mvn_likelihood = tfd.MultivariateNormalFullCovariance(\n",
    "            loc = Gm_,\n",
    "            covariance_matrix= cov)\n",
    "    \n",
    "    # return the posterior probability\n",
    "    return(tf.reduce_sum(mvn_prior.log_prob(ps))\n",
    "          +mvn_likelihood.log_prob(D))\n"
   ]
  },
  {
   "cell_type": "markdown",
   "metadata": {},
   "source": [
    "Define the Prior and likelihood distribution"
   ]
  },
  {
   "cell_type": "code",
   "execution_count": 420,
   "metadata": {
    "ExecuteTime": {
     "end_time": "2020-01-14T16:31:00.617977Z",
     "start_time": "2020-01-14T16:31:00.612165Z"
    }
   },
   "outputs": [],
   "source": [
    "# prior\n",
    "mu_prior = -20.*tf.ones([50],dtype = tf.float32)\n",
    "cov_prior = 20.*tf.eye(Number_para)\n",
    "\n",
    "# likelihood\n",
    "sig_e = 0.0000003\n",
    "cov = sig_e**2*tf.eye(obs_N)"
   ]
  },
  {
   "cell_type": "code",
   "execution_count": 421,
   "metadata": {
    "ExecuteTime": {
     "end_time": "2020-01-14T16:31:00.979733Z",
     "start_time": "2020-01-14T16:31:00.974001Z"
    }
   },
   "outputs": [],
   "source": [
    "points = tf.Variable(points,dtype = tf.float32)"
   ]
  },
  {
   "cell_type": "code",
   "execution_count": 422,
   "metadata": {
    "ExecuteTime": {
     "end_time": "2020-01-14T16:31:03.401004Z",
     "start_time": "2020-01-14T16:31:01.395844Z"
    }
   },
   "outputs": [],
   "source": [
    "# define the ground truth\n",
    "True_position = tf.constant([-5.,-10.,])\n",
    "obs_data = grav(points,True_position)"
   ]
  },
  {
   "cell_type": "code",
   "execution_count": 423,
   "metadata": {
    "ExecuteTime": {
     "end_time": "2020-01-14T16:31:03.870399Z",
     "start_time": "2020-01-14T16:31:03.864594Z"
    }
   },
   "outputs": [],
   "source": [
    "D = obs_data"
   ]
  },
  {
   "cell_type": "code",
   "execution_count": 424,
   "metadata": {
    "ExecuteTime": {
     "end_time": "2020-01-14T16:31:06.078668Z",
     "start_time": "2020-01-14T16:31:04.309710Z"
    }
   },
   "outputs": [
    {
     "data": {
      "text/plain": [
       "<tf.Tensor: id=14580746, shape=(), dtype=float32, numpy=119.57778>"
      ]
     },
     "execution_count": 424,
     "metadata": {},
     "output_type": "execute_result"
    }
   ],
   "source": [
    "joint_log_prob(D,points,tf.constant([-5.,-10]))"
   ]
  },
  {
   "cell_type": "markdown",
   "metadata": {},
   "source": [
    "#### Gradient decent"
   ]
  },
  {
   "cell_type": "code",
   "execution_count": 425,
   "metadata": {
    "ExecuteTime": {
     "end_time": "2020-01-14T16:36:33.674320Z",
     "start_time": "2020-01-14T16:31:06.556596Z"
    }
   },
   "outputs": [
    {
     "name": "stdout",
     "output_type": "stream",
     "text": [
      "tf.Tensor([ -4.999491 -10.001014], shape=(2,), dtype=float32)\n"
     ]
    }
   ],
   "source": [
    "mu = tf.Variable([-1.,-12]) # initial parameters\n",
    "for i in range(100):\n",
    "    with tf.GradientTape() as t:  \n",
    "        t.watch(points)\n",
    "        loss = tf.negative(joint_log_prob(D,points,mu)) # negative log posterior\n",
    "        dlossdmu = t.gradient(loss,points)\n",
    "        d = tf.stack([dlossdmu[8][1],dlossdmu[9][1]])\n",
    "        mu = mu - 0.1 *d\n",
    "        MAP = mu\n",
    "print(MAP)"
   ]
  },
  {
   "cell_type": "markdown",
   "metadata": {},
   "source": [
    "### Hessian calculation"
   ]
  },
  {
   "cell_type": "code",
   "execution_count": 426,
   "metadata": {
    "ExecuteTime": {
     "end_time": "2020-01-14T16:36:40.872837Z",
     "start_time": "2020-01-14T16:36:37.879766Z"
    }
   },
   "outputs": [
    {
     "name": "stdout",
     "output_type": "stream",
     "text": [
      "tf.Tensor(\n",
      "[[ 1.85360055e-04  5.95085876e-05]\n",
      " [-3.56946330e-05  3.03892972e-04]\n",
      " [-6.76480049e-05  4.04604682e-04]\n",
      " [-4.20838333e-05 -9.24939959e-05]\n",
      " [-2.79462110e-05 -1.40921096e-04]\n",
      " [-1.84772376e-04 -1.60051568e-05]\n",
      " [ 1.85360041e-04  1.16649189e-05]\n",
      " [ 5.54458165e-05  2.22296308e-04]\n",
      " [ 1.09915694e-04  3.98055505e-04]\n",
      " [ 1.27400315e-04 -7.77591835e-04]\n",
      " [ 4.89376034e-05 -3.26995680e-04]\n",
      " [-1.79224182e-04 -3.51902963e-05]], shape=(12, 2), dtype=float32)\n"
     ]
    }
   ],
   "source": [
    "with tf.GradientTape() as t:  \n",
    "    t.watch(points)\n",
    "    loss = tf.negative(joint_log_prob(D,points,MAP)) # negative log posterior\n",
    "    dlossdmu = t.gradient(loss,points)\n",
    "    print(dlossdmu)"
   ]
  },
  {
   "cell_type": "code",
   "execution_count": 427,
   "metadata": {
    "ExecuteTime": {
     "end_time": "2020-01-14T16:36:42.245460Z",
     "start_time": "2020-01-14T16:36:42.239930Z"
    }
   },
   "outputs": [
    {
     "name": "stdout",
     "output_type": "stream",
     "text": [
      "tf.Tensor(0.0003980555, shape=(), dtype=float32)\n",
      "tf.Tensor(-0.00077759183, shape=(), dtype=float32)\n"
     ]
    }
   ],
   "source": [
    "for i in range(Number_para+6,2*Number_para+6):\n",
    "    print(dlossdmu[i][1])"
   ]
  },
  {
   "cell_type": "code",
   "execution_count": 428,
   "metadata": {
    "ExecuteTime": {
     "end_time": "2020-01-14T17:00:20.298306Z",
     "start_time": "2020-01-14T16:36:43.282605Z"
    }
   },
   "outputs": [],
   "source": [
    "with tf.GradientTape() as t:\n",
    "    with tf.GradientTape() as tt:\n",
    "        tt.watch(points)\n",
    "        loss = tf.negative(joint_log_prob(D,points,MAP))\n",
    "    jac = tt.gradient(loss,points)\n",
    "hess = t.jacobian(jac,points)"
   ]
  },
  {
   "cell_type": "code",
   "execution_count": 429,
   "metadata": {
    "ExecuteTime": {
     "end_time": "2020-01-14T17:01:20.982315Z",
     "start_time": "2020-01-14T17:01:20.968318Z"
    }
   },
   "outputs": [
    {
     "name": "stdout",
     "output_type": "stream",
     "text": [
      "tf.Tensor(\n",
      "[[[[ 1.77955711e+00  2.41713643e-01]\n",
      "   [-1.05461933e-01  9.90605891e-01]\n",
      "   [-2.11545631e-01  1.36112285e+00]\n",
      "   [ 1.24033652e-01  1.40311193e+00]\n",
      "   [ 1.61549389e-01  1.00098228e+00]\n",
      "   [-1.80824137e+00  2.41713062e-01]\n",
      "   [ 1.77955580e+00 -1.39018998e-01]\n",
      "   [-2.01624230e-01 -9.80120063e-01]\n",
      "   [-1.73818141e-01 -1.80047393e+00]\n",
      "   [ 2.72967011e-01 -1.74532866e+00]\n",
      "   [ 1.29929185e-01 -9.59263742e-01]\n",
      "   [-1.75087166e+00 -1.39018938e-01]]\n",
      "\n",
      "  [[ 2.41713598e-01  4.18748707e-02]\n",
      "   [-1.93766505e-02  1.81841329e-01]\n",
      "   [-3.34946476e-02  2.06928447e-01]\n",
      "   [ 1.00246789e-02  1.50108099e-01]\n",
      "   [ 1.49959587e-02  9.57002044e-02]\n",
      "   [-2.44964719e-01  2.54860092e-02]\n",
      "   [ 2.41713166e-01 -1.41431559e-02]\n",
      "   [-1.55838346e-02 -8.03384557e-02]\n",
      "   [-1.11583304e-02 -1.70183867e-01]\n",
      "   [ 4.58804965e-02 -2.75794744e-01]\n",
      "   [ 2.75131706e-02 -1.98874861e-01]\n",
      "   [-2.37067580e-01 -2.50085574e-02]]]\n",
      "\n",
      "\n",
      " [[[-1.05461970e-01 -1.93766728e-02]\n",
      "   [ 9.22192447e-03 -8.57392550e-02]\n",
      "   [ 1.57146119e-02 -9.61074978e-02]\n",
      "   [-3.12736467e-03 -5.91851696e-02]\n",
      "   [-5.36506623e-03 -3.50120105e-02]\n",
      "   [ 1.06777243e-01 -9.92142875e-03]\n",
      "   [-1.05461977e-01  5.39367087e-03]\n",
      "   [ 4.75560455e-03  2.60299910e-02]\n",
      "   [ 2.51275394e-03  6.10399097e-02]\n",
      "   [-2.23551132e-02  1.32307038e-01]\n",
      "   [-1.33136604e-02  9.50733945e-02]\n",
      "   [ 1.03336737e-01  1.15995416e-02]]\n",
      "\n",
      "  [[ 9.90605831e-01  1.81841329e-01]\n",
      "   [-8.57392326e-02  8.01311076e-01]\n",
      "   [-1.44452348e-01  8.83203506e-01]\n",
      "   [ 3.20565477e-02  5.62263548e-01]\n",
      "   [ 5.26027158e-02  3.41530353e-01]\n",
      "   [-1.00313425e+00  9.53522772e-02]\n",
      "   [ 9.90606308e-01 -5.21199964e-02]\n",
      "   [-4.90265638e-02 -2.63410985e-01]\n",
      "   [-2.93490216e-02 -5.92982471e-01]\n",
      "   [ 2.02656820e-01 -1.19876540e+00]\n",
      "   [ 1.24511674e-01 -8.93259108e-01]\n",
      "   [-9.70696449e-01 -1.09184355e-01]]]\n",
      "\n",
      "\n",
      " [[[-2.11545572e-01 -3.34946327e-02]\n",
      "   [ 1.57145690e-02 -1.44452393e-01]\n",
      "   [ 3.07315104e-02 -1.94422379e-01]\n",
      "   [-8.13905988e-03 -1.45698518e-01]\n",
      "   [-1.30861662e-02 -8.30349475e-02]\n",
      "   [ 2.14417309e-01 -2.22751647e-02]\n",
      "   [-2.11545587e-01  1.22110946e-02]\n",
      "   [ 1.21057127e-02  6.40475899e-02]\n",
      "   [ 6.33349083e-03  1.70226097e-01]\n",
      "   [-4.35351245e-02  2.73697406e-01]\n",
      "   [-2.02573929e-02  1.45617574e-01]\n",
      "   [ 2.07702249e-01  1.94584876e-02]]\n",
      "\n",
      "  [[ 1.36112285e+00  2.06928447e-01]\n",
      "   [-9.61073786e-02  8.83203626e-01]\n",
      "   [-1.94422379e-01  1.24127126e+00]\n",
      "   [ 5.69241531e-02  9.86846030e-01]\n",
      "   [ 8.91271979e-02  5.61299562e-01]\n",
      "   [-1.38006151e+00  1.48176700e-01]\n",
      "   [ 1.36112285e+00 -8.14780965e-02]\n",
      "   [-8.40289593e-02 -4.39692497e-01]\n",
      "   [-4.55807224e-02 -1.19113016e+00]\n",
      "   [ 2.72882491e-01 -1.74447453e+00]\n",
      "   [ 1.19773641e-01 -8.65790367e-01]\n",
      "   [-1.33708835e+00 -1.19347222e-01]]]\n",
      "\n",
      "\n",
      " [[[ 1.24033645e-01  1.00246752e-02]\n",
      "   [-3.12736258e-03  3.20565701e-02]\n",
      "   [-8.13905802e-03  5.69242015e-02]\n",
      "   [ 1.74085572e-02  1.28247917e-01]\n",
      "   [ 1.91128664e-02  1.14862628e-01]\n",
      "   [-1.26706064e-01  2.47895718e-02]\n",
      "   [ 1.24033660e-01 -1.48997838e-02]\n",
      "   [-2.90622544e-02 -1.33259028e-01]\n",
      "   [-3.30930762e-02 -1.87556937e-01]\n",
      "   [ 6.26342418e-03 -4.52816486e-02]\n",
      "   [ 2.22064601e-03 -2.04191785e-02]\n",
      "   [-1.22636452e-01 -5.32965083e-03]]\n",
      "\n",
      "  [[ 1.40311182e+00  1.50108099e-01]\n",
      "   [-5.91851585e-02  5.62263489e-01]\n",
      "   [-1.45698622e-01  9.86845970e-01]\n",
      "   [ 1.28248066e-01  1.35643029e+00]\n",
      "   [ 1.55178338e-01  9.36465561e-01]\n",
      "   [-1.42809534e+00  2.15565354e-01]\n",
      "   [ 1.40311193e+00 -1.24362238e-01]\n",
      "   [-1.96402714e-01 -9.31094050e-01]\n",
      "   [-1.92128509e-01 -1.94378042e+00]\n",
      "   [ 1.69449136e-01 -1.19142473e+00]\n",
      "   [ 5.51221035e-02 -4.35506016e-01]\n",
      "   [-1.38381982e+00 -8.23162273e-02]]]\n",
      "\n",
      "\n",
      " [[[ 1.61549404e-01  1.49959596e-02]\n",
      "   [-5.36506716e-03  5.26027158e-02]\n",
      "   [-1.30861765e-02  8.91271830e-02]\n",
      "   [ 1.91128757e-02  1.55178428e-01]\n",
      "   [ 2.21819617e-02  1.35154277e-01]\n",
      "   [-1.64828211e-01  2.99640615e-02]\n",
      "   [ 1.61549419e-01 -1.79546531e-02]\n",
      "   [-3.27851363e-02 -1.53114557e-01]\n",
      "   [-3.27584073e-02 -2.15662360e-01]\n",
      "   [ 1.32311666e-02 -9.21738520e-02]\n",
      "   [ 4.71731927e-03 -3.88275385e-02]\n",
      "   [-1.59553021e-01 -8.13634507e-03]]\n",
      "\n",
      "  [[ 1.00098228e+00  9.57001895e-02]\n",
      "   [-3.50119956e-02  3.41530383e-01]\n",
      "   [-8.30350071e-02  5.61299562e-01]\n",
      "   [ 1.14862680e-01  9.36465502e-01]\n",
      "   [ 1.35154247e-01  8.28101456e-01]\n",
      "   [-1.02117383e+00  1.84620276e-01]\n",
      "   [ 1.00098217e+00 -1.10904798e-01]\n",
      "   [-2.00309575e-01 -9.40624058e-01]\n",
      "   [-1.92465872e-01 -1.27774155e+00]\n",
      "   [ 8.66943300e-02 -5.95480561e-01]\n",
      "   [ 3.24930288e-02 -2.62401640e-01]\n",
      "   [-9.88382101e-01 -5.22592068e-02]]]\n",
      "\n",
      "\n",
      " [[[-1.80824125e+00 -2.44964689e-01]\n",
      "   [ 1.06777161e-01 -1.00313425e+00]\n",
      "   [ 2.14417428e-01 -1.38006139e+00]\n",
      "   [-1.26706079e-01 -1.42809534e+00]\n",
      "   [-1.64828122e-01 -1.02117383e+00]\n",
      "   [ 1.83745170e+00 -2.46358961e-01]\n",
      "   [-1.80824101e+00  1.41763985e-01]\n",
      "   [ 2.06182688e-01  1.00182271e+00]\n",
      "   [ 1.77972272e-01  1.83369756e+00]\n",
      "   [-2.76371390e-01  1.76787043e+00]\n",
      "   [-1.31364673e-01  9.70217049e-01]\n",
      "   [ 1.77914953e+00  1.40841380e-01]]\n",
      "\n",
      "  [[ 2.41713077e-01  2.54860073e-02]\n",
      "   [-9.92142875e-03  9.53522772e-02]\n",
      "   [-2.22751759e-02  1.48176700e-01]\n",
      "   [ 2.47895718e-02  2.15565324e-01]\n",
      "   [ 2.99640540e-02  1.84620276e-01]\n",
      "   [-2.46358991e-01  4.18754593e-02]\n",
      "   [ 2.41713092e-01 -2.50085611e-02]\n",
      "   [-4.32648771e-02 -2.05064327e-01]\n",
      "   [-3.96117084e-02 -2.87550002e-01]\n",
      "   [ 2.52300575e-02 -1.68988004e-01]\n",
      "   [ 1.02605764e-02 -7.97445998e-02]\n",
      "   [-2.38461524e-01 -1.41431307e-02]]]\n",
      "\n",
      "\n",
      " [[[ 1.77955580e+00  2.41713166e-01]\n",
      "   [-1.05461933e-01  9.90606427e-01]\n",
      "   [-2.11545661e-01  1.36112273e+00]\n",
      "   [ 1.24033742e-01  1.40311193e+00]\n",
      "   [ 1.61549330e-01  1.00098228e+00]\n",
      "   [-1.80824113e+00  2.41713062e-01]\n",
      "   [ 1.77955544e+00 -1.39019087e-01]\n",
      "   [-2.01624244e-01 -9.80120182e-01]\n",
      "   [-1.73818156e-01 -1.80047393e+00]\n",
      "   [ 2.72967070e-01 -1.74532866e+00]\n",
      "   [ 1.29929185e-01 -9.59263802e-01]\n",
      "   [-1.75087023e+00 -1.39018938e-01]]\n",
      "\n",
      "  [[-1.39018983e-01 -1.41431503e-02]\n",
      "   [ 5.39366947e-03 -5.21199927e-02]\n",
      "   [ 1.22111002e-02 -8.14781040e-02]\n",
      "   [-1.48997856e-02 -1.24362245e-01]\n",
      "   [-1.79546531e-02 -1.10904790e-01]\n",
      "   [ 1.41763985e-01 -2.50085592e-02]\n",
      "   [-1.39019087e-01  1.50402822e-02]\n",
      "   [ 2.64952108e-02  1.25547022e-01]\n",
      "   [ 2.39708778e-02  1.64907515e-01]\n",
      "   [-1.34911947e-02  9.06336904e-02]\n",
      "   [-5.44886151e-03  4.27515507e-02]\n",
      "   [ 1.37196556e-01  7.81503506e-03]]]\n",
      "\n",
      "\n",
      " [[[-2.01624185e-01 -1.55838337e-02]\n",
      "   [ 4.75560362e-03 -4.90265563e-02]\n",
      "   [ 1.21057183e-02 -8.40289667e-02]\n",
      "   [-2.90622655e-02 -1.96402699e-01]\n",
      "   [-3.27851251e-02 -2.00309575e-01]\n",
      "   [ 2.06182674e-01 -4.32648771e-02]\n",
      "   [-2.01624215e-01  2.64952108e-02]\n",
      "   [ 5.26200309e-02  2.43214965e-01]\n",
      "   [ 5.37969135e-02  2.67026693e-01]\n",
      "   [-9.22397617e-03  6.52219951e-02]\n",
      "   [-3.32525652e-03  3.07750441e-02]\n",
      "   [ 1.99428618e-01  8.25088564e-03]]\n",
      "\n",
      "  [[-9.80120063e-01 -8.03384483e-02]\n",
      "   [ 2.60299891e-02 -2.63410985e-01]\n",
      "   [ 6.40476197e-02 -4.39692527e-01]\n",
      "   [-1.33259133e-01 -9.31093872e-01]\n",
      "   [-1.53114468e-01 -9.40624058e-01]\n",
      "   [ 1.00182271e+00 -2.05064297e-01]\n",
      "   [-9.80120301e-01  1.25546992e-01]\n",
      "   [ 2.43214995e-01  1.13282287e+00]\n",
      "   [ 2.37714946e-01  1.24922180e+00]\n",
      "   [-5.50348982e-02  3.82546663e-01]\n",
      "   [-2.05679312e-02  1.79465950e-01]\n",
      "   [ 9.69036162e-01  4.29894775e-02]]]\n",
      "\n",
      "\n",
      " [[[-1.73818126e-01 -1.11583322e-02]\n",
      "   [ 2.51275441e-03 -2.93490067e-02]\n",
      "   [ 6.33348571e-03 -4.55806740e-02]\n",
      "   [-3.30930576e-02 -1.92128420e-01]\n",
      "   [-3.27584036e-02 -1.92465931e-01]\n",
      "   [ 1.77972287e-01 -3.96117009e-02]\n",
      "   [-1.73818111e-01  2.39708703e-02]\n",
      "   [ 5.37969060e-02  2.37714887e-01]\n",
      "   [ 8.27849805e-02  2.96794772e-01]\n",
      "   [ 8.40560067e-04 -1.04449168e-02]\n",
      "   [-1.13283470e-03  1.46023780e-02]\n",
      "   [ 1.72140390e-01  5.76548371e-03]]\n",
      "\n",
      "  [[-1.80047393e+00 -1.70183882e-01]\n",
      "   [ 6.10399246e-02 -5.92982531e-01]\n",
      "   [ 1.70226157e-01 -1.19113004e+00]\n",
      "   [-1.87556908e-01 -1.94378030e+00]\n",
      "   [-2.15662301e-01 -1.27774167e+00]\n",
      "   [ 1.83369768e+00 -2.87550032e-01]\n",
      "   [-1.80047393e+00  1.64907545e-01]\n",
      "   [ 2.67026693e-01  1.24922180e+00]\n",
      "   [ 2.96794772e-01  2.99152422e+00]\n",
      "   [-1.75755948e-01  1.32433939e+00]\n",
      "   [-4.37312685e-02  3.81633580e-01]\n",
      "   [ 1.77759361e+00  9.09630433e-02]]]\n",
      "\n",
      "\n",
      " [[[ 2.72966981e-01  4.58804742e-02]\n",
      "   [-2.23550815e-02  2.02656701e-01]\n",
      "   [-4.35351245e-02  2.72882372e-01]\n",
      "   [ 6.26342418e-03  1.69449061e-01]\n",
      "   [ 1.32311592e-02  8.66943076e-02]\n",
      "   [-2.76371211e-01  2.52300445e-02]\n",
      "   [ 2.72966981e-01 -1.34911872e-02]\n",
      "   [-9.22397431e-03 -5.50348908e-02]\n",
      "   [ 8.40568915e-04 -1.75755903e-01]\n",
      "   [ 6.48276582e-02 -4.02063638e-01]\n",
      "   [ 2.91323736e-02 -2.06127167e-01]\n",
      "   [-2.67758399e-01 -2.66541019e-02]]\n",
      "\n",
      "  [[-1.74532866e+00 -2.75794804e-01]\n",
      "   [ 1.32307053e-01 -1.19876528e+00]\n",
      "   [ 2.73697406e-01 -1.74447441e+00]\n",
      "   [-4.52816896e-02 -1.19142473e+00]\n",
      "   [-9.21738371e-02 -5.95480561e-01]\n",
      "   [ 1.76787007e+00 -1.68987989e-01]\n",
      "   [-1.74532866e+00  9.06336904e-02]\n",
      "   [ 6.52220026e-02  3.82546663e-01]\n",
      "   [-1.04448944e-02  1.32433915e+00]\n",
      "   [-4.02063817e-01  2.58102155e+00]\n",
      "   [-1.62339717e-01  1.16120183e+00]\n",
      "   [ 1.71342313e+00  1.58418968e-01]]]\n",
      "\n",
      "\n",
      " [[[ 1.29929200e-01  2.75131743e-02]\n",
      "   [-1.33136408e-02  1.24511667e-01]\n",
      "   [-2.02574078e-02  1.19773626e-01]\n",
      "   [ 2.22064229e-03  5.51221184e-02]\n",
      "   [ 4.71731927e-03  3.24930251e-02]\n",
      "   [-1.31364718e-01  1.02605810e-02]\n",
      "   [ 1.29929200e-01 -5.44886151e-03]\n",
      "   [-3.32525745e-03 -2.05679294e-02]\n",
      "   [-1.13283517e-03 -4.37312759e-02]\n",
      "   [ 2.91323792e-02 -1.62339762e-01]\n",
      "   [ 2.07594857e-02 -1.47260800e-01]\n",
      "   [-1.27021819e-01 -1.68323778e-02]]\n",
      "\n",
      "  [[-9.59263742e-01 -1.98874831e-01]\n",
      "   [ 9.50733349e-02 -8.93259108e-01]\n",
      "   [ 1.45617589e-01 -8.65790248e-01]\n",
      "   [-2.04191804e-02 -4.35506016e-01]\n",
      "   [-3.88275348e-02 -2.62401611e-01]\n",
      "   [ 9.70217049e-01 -7.97445923e-02]\n",
      "   [-9.59263682e-01  4.27515469e-02]\n",
      "   [ 3.07750460e-02  1.79465950e-01]\n",
      "   [ 1.46023873e-02  3.81633580e-01]\n",
      "   [-2.06127211e-01  1.16120172e+00]\n",
      "   [-1.47260830e-01  1.05118203e+00]\n",
      "   [ 9.38173711e-01  1.21675536e-01]]]\n",
      "\n",
      "\n",
      " [[[-1.75087142e+00 -2.37067580e-01]\n",
      "   [ 1.03336684e-01 -9.70696568e-01]\n",
      "   [ 2.07702309e-01 -1.33708835e+00]\n",
      "   [-1.22636437e-01 -1.38381970e+00]\n",
      "   [-1.59552976e-01 -9.88381982e-01]\n",
      "   [ 1.77914941e+00 -2.38461480e-01]\n",
      "   [-1.75087023e+00  1.37196556e-01]\n",
      "   [ 1.99428588e-01  9.69035983e-01]\n",
      "   [ 1.72140360e-01  1.77759361e+00]\n",
      "   [-2.67758459e-01  1.71342337e+00]\n",
      "   [-1.27021819e-01  9.38173652e-01]\n",
      "   [ 1.72271109e+00  1.36273906e-01]]\n",
      "\n",
      "  [[-1.39018953e-01 -2.50085611e-02]\n",
      "   [ 1.15995314e-02 -1.09184377e-01]\n",
      "   [ 1.94585007e-02 -1.19347230e-01]\n",
      "   [-5.32964896e-03 -8.23162347e-02]\n",
      "   [-8.13634507e-03 -5.22592105e-02]\n",
      "   [ 1.40841365e-01 -1.41431317e-02]\n",
      "   [-1.39018938e-01  7.81503692e-03]\n",
      "   [ 8.25088564e-03  4.29894775e-02]\n",
      "   [ 5.76548651e-03  9.09630358e-02]\n",
      "   [-2.66541112e-02  1.58418968e-01]\n",
      "   [-1.68323815e-02  1.21675521e-01]\n",
      "   [ 1.36273921e-01  1.50412470e-02]]]], shape=(12, 2, 12, 2), dtype=float32)\n"
     ]
    }
   ],
   "source": [
    "print(hess)"
   ]
  },
  {
   "cell_type": "code",
   "execution_count": null,
   "metadata": {},
   "outputs": [],
   "source": [
    "HessMatrix = np.empty(shape = [Number_para,Number_para])\n",
    "Number_para = 2\n",
    "for x,i1 in enumerate(range(Number_para+6,2*Number_para+6)):\n",
    "    for y,i2 in enumerate(range(Number_para+6,2*Number_para+6)):\n",
    "        HessMatrix[x,y] = hess[i1,1,i2,1]"
   ]
  },
  {
   "cell_type": "code",
   "execution_count": null,
   "metadata": {},
   "outputs": [],
   "source": []
  },
  {
   "cell_type": "code",
   "execution_count": null,
   "metadata": {},
   "outputs": [],
   "source": []
  }
 ],
 "metadata": {
  "kernelspec": {
   "display_name": "Python 3",
   "language": "python",
   "name": "python3"
  },
  "varInspector": {
   "cols": {
    "lenName": 16,
    "lenType": 16,
    "lenVar": 40
   },
   "kernels_config": {
    "python": {
     "delete_cmd_postfix": "",
     "delete_cmd_prefix": "del ",
     "library": "var_list.py",
     "varRefreshCmd": "print(var_dic_list())"
    },
    "r": {
     "delete_cmd_postfix": ") ",
     "delete_cmd_prefix": "rm(",
     "library": "var_list.r",
     "varRefreshCmd": "cat(var_dic_list()) "
    }
   },
   "types_to_exclude": [
    "module",
    "function",
    "builtin_function_or_method",
    "instance",
    "_Feature"
   ],
   "window_display": false
  }
 },
 "nbformat": 4,
 "nbformat_minor": 2
}
