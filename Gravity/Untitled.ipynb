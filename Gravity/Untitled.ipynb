{
 "cells": [
  {
   "cell_type": "code",
   "execution_count": 214,
   "metadata": {
    "ExecuteTime": {
     "end_time": "2019-12-08T19:58:03.464406Z",
     "start_time": "2019-12-08T19:58:03.447504Z"
    }
   },
   "outputs": [],
   "source": [
    "%matplotlib inline\n",
    "import matplotlib.pyplot as plt\n",
    "import numpy as np\n",
    "import tensorflow as tf\n",
    "import scipy"
   ]
  },
  {
   "cell_type": "code",
   "execution_count": 215,
   "metadata": {
    "ExecuteTime": {
     "end_time": "2019-12-08T19:58:03.930356Z",
     "start_time": "2019-12-08T19:58:03.913831Z"
    }
   },
   "outputs": [],
   "source": [
    "def A(x,z,p1,p2):\n",
    "    numerator = (x[p2]-x[p1])*(x[p1]*z[p2]-x[p2]*z[p1])\n",
    "    denominator = (x[p2]-x[p1])**2 + (z[p2]-z[p1])**2\n",
    "    return (numerator/denominator)\n",
    "\n",
    "def B(x,z,p1,p2):\n",
    "    if (x[p2]-x[p1]) != 0:\n",
    "        return ((z[p2]-z[p1])/(x[p2]-x[p1]))\n",
    "    else: \n",
    "        return (x[p1])\n",
    "\n",
    "def theta(x,z, p):\n",
    "    if x[p] != 0 :\n",
    "        return(np.arctan(z[p]/x[p]))\n",
    "    if x[p] == 0 and z[p]!=0 :\n",
    "        return(scipy.pi/2)\n",
    "    if x[p] == z[p] == 0:\n",
    "        return(0)\n",
    "\n",
    "def r(x,z,p):\n",
    "    return(np.sqrt(x[p]**2+z[p]**2))\n",
    "\n",
    "def Z(x,z,p1,p2):\n",
    "    \n",
    "    if x[p1] == z[p1]==0 or x[p2] == z[p2]==0:\n",
    "        return(0)\n",
    "    \n",
    "    if x[p1] == x[p2]:\n",
    "        return(x[p1]*np.log(r(x,z,p2)/r(x,z,p1)))\n",
    "    \n",
    "    theta1 = theta(x,z, p1)\n",
    "    theta2 = theta(x,z, p2)\n",
    "    \n",
    "    r1 = r(x,z,p1)\n",
    "    r2 = r(x,z,p2)\n",
    "    \n",
    "    if z[p1]*z[p2]<0:\n",
    "        if x[p1]*z[p2]==x[p2]*z[p1]:\n",
    "            return(0)\n",
    "        if x[p1]*z[p2] < x[p2]*z[p1] and z[p2]>=0:\n",
    "            theta1 += 2*scipy.pi\n",
    "        if x[p1]*z[p2] > x[p2]*z[p1] and z[p1]>=0:\n",
    "            theta2 += 2*scipy.pi\n",
    "    \n",
    "    _A = A(x,z,p1,p2)\n",
    "    _B = B(x,z,p1,p2)\n",
    "    \n",
    "    Z_result = _A*((theta1-theta2)+_B*np.log(r1/r2))\n",
    "    return(Z_result)"
   ]
  },
  {
   "cell_type": "code",
   "execution_count": 217,
   "metadata": {
    "ExecuteTime": {
     "end_time": "2019-12-08T19:58:12.510696Z",
     "start_time": "2019-12-08T19:58:12.504933Z"
    }
   },
   "outputs": [],
   "source": [
    "points1=np.array([[-11,  -3],\n",
    "       [ -9,  -3],\n",
    "       [ -9,  -2],\n",
    "       [-11,  -2]])\n",
    "points2=np.array([[ 9, -3],\n",
    "       [11, -3],\n",
    "       [11, -2],\n",
    "       [ 9, -2]])\n",
    "\n",
    "x1 = points1[:,0]\n",
    "z1 = points1[:,1]\n",
    "x2 = points2[:,0]\n",
    "z2 = points2[:,1]\n",
    "\n"
   ]
  },
  {
   "cell_type": "code",
   "execution_count": 247,
   "metadata": {
    "ExecuteTime": {
     "end_time": "2019-12-08T20:33:28.177402Z",
     "start_time": "2019-12-08T20:33:28.171329Z"
    }
   },
   "outputs": [
    {
     "data": {
      "text/plain": [
       "(-0.1664955157371506,\n",
       " 0.25721286227976903,\n",
       " 0.07763089216292735,\n",
       " -0.21571392234304543)"
      ]
     },
     "execution_count": 247,
     "metadata": {},
     "output_type": "execute_result"
    }
   ],
   "source": [
    "Z(x1,z1,0,1),Z(x1,z1,1,2),Z(x1,z1,2,3),Z(x1,z1,-1,0)"
   ]
  },
  {
   "cell_type": "code",
   "execution_count": 248,
   "metadata": {
    "ExecuteTime": {
     "end_time": "2019-12-08T20:33:28.417070Z",
     "start_time": "2019-12-08T20:33:28.410955Z"
    }
   },
   "outputs": [
    {
     "data": {
      "text/plain": [
       "(-0.1664955157371506,\n",
       " -0.21571392234304643,\n",
       " 0.07763089216292735,\n",
       " 0.25721286227976975)"
      ]
     },
     "execution_count": 248,
     "metadata": {},
     "output_type": "execute_result"
    }
   ],
   "source": [
    "Z(x2,z2,0,1),Z(x2,z2,1,2),Z(x2,z2,2,3),Z(x2,z2,-1,0)"
   ]
  },
  {
   "cell_type": "code",
   "execution_count": 222,
   "metadata": {
    "ExecuteTime": {
     "end_time": "2019-12-08T19:58:17.759746Z",
     "start_time": "2019-12-08T19:58:17.753050Z"
    }
   },
   "outputs": [
    {
     "ename": "SyntaxError",
     "evalue": "'return' outside function (<ipython-input-222-b731fcca9e90>, line 1)",
     "output_type": "error",
     "traceback": [
      "\u001b[0;36m  File \u001b[0;32m\"<ipython-input-222-b731fcca9e90>\"\u001b[0;36m, line \u001b[0;32m1\u001b[0m\n\u001b[0;31m    return(x[p1]*np.log(r(x,z,p2)/r(x,z,p1)))\u001b[0m\n\u001b[0m                                             ^\u001b[0m\n\u001b[0;31mSyntaxError\u001b[0m\u001b[0;31m:\u001b[0m 'return' outside function\n"
     ]
    }
   ],
   "source": [
    "return(x[p1]*np.log(r(x,z,p2)/r(x,z,p1)))\n"
   ]
  },
  {
   "cell_type": "code",
   "execution_count": null,
   "metadata": {},
   "outputs": [],
   "source": []
  }
 ],
 "metadata": {
  "kernelspec": {
   "display_name": "Python 3",
   "language": "python",
   "name": "python3"
  },
  "language_info": {
   "codemirror_mode": {
    "name": "ipython",
    "version": 3
   },
   "file_extension": ".py",
   "mimetype": "text/x-python",
   "name": "python",
   "nbconvert_exporter": "python",
   "pygments_lexer": "ipython3",
   "version": "3.7.3"
  },
  "varInspector": {
   "cols": {
    "lenName": 16,
    "lenType": 16,
    "lenVar": 40
   },
   "kernels_config": {
    "python": {
     "delete_cmd_postfix": "",
     "delete_cmd_prefix": "del ",
     "library": "var_list.py",
     "varRefreshCmd": "print(var_dic_list())"
    },
    "r": {
     "delete_cmd_postfix": ") ",
     "delete_cmd_prefix": "rm(",
     "library": "var_list.r",
     "varRefreshCmd": "cat(var_dic_list()) "
    }
   },
   "types_to_exclude": [
    "module",
    "function",
    "builtin_function_or_method",
    "instance",
    "_Feature"
   ],
   "window_display": false
  }
 },
 "nbformat": 4,
 "nbformat_minor": 2
}
