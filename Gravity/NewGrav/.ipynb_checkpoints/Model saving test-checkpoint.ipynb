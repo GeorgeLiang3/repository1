{
 "cells": [
  {
   "cell_type": "code",
   "execution_count": 1,
   "metadata": {
    "ExecuteTime": {
     "end_time": "2020-03-23T20:56:24.960374Z",
     "start_time": "2020-03-23T20:56:22.916459Z"
    }
   },
   "outputs": [],
   "source": [
    "from Grav_polygon import Gravity_Polygon\n",
    "%matplotlib inline\n",
    "import matplotlib.pyplot as plt\n",
    "import numpy as np\n",
    "import tensorflow as tf\n",
    "import scipy\n",
    "from scipy.stats import norm\n",
    "import tensorflow_probability as tfp\n",
    "import seaborn as sns\n",
    "import pandas as pd\n",
    "import corner \n",
    "import math as m\n",
    "import copy\n",
    "from HessianMCMC import HessianMCMC\n",
    "\n",
    "tfb = tfp.bijectors\n",
    "tfd=tfp.distributions\n",
    "psd_kernels = tfp.math.psd_kernels"
   ]
  },
  {
   "cell_type": "code",
   "execution_count": 2,
   "metadata": {
    "ExecuteTime": {
     "end_time": "2020-03-23T20:56:24.964750Z",
     "start_time": "2020-03-23T20:56:24.962051Z"
    }
   },
   "outputs": [],
   "source": [
    "def constant64(i):\n",
    "    return(tf.constant(i,dtype = tf.float64))"
   ]
  },
  {
   "cell_type": "code",
   "execution_count": 3,
   "metadata": {
    "ExecuteTime": {
     "end_time": "2020-03-23T20:56:24.970948Z",
     "start_time": "2020-03-23T20:56:24.967045Z"
    }
   },
   "outputs": [],
   "source": [
    "## define some numbers\n",
    "Number_para = 2\n",
    "obs_N = 25\n",
    "number_burnin = 3000\n",
    "number_sample = 10000\n",
    "steps_gradient_decent = 2000\n",
    "\n",
    "pi = constant64(m.pi) # define PI in Tensorflow form\n",
    "\n",
    "depth = constant64(-50)\n",
    "thickness = constant64(10)\n",
    "\n",
    "Range = constant64([-200.,200.])"
   ]
  },
  {
   "cell_type": "code",
   "execution_count": 4,
   "metadata": {
    "ExecuteTime": {
     "end_time": "2020-03-23T20:56:24.981091Z",
     "start_time": "2020-03-23T20:56:24.972839Z"
    }
   },
   "outputs": [],
   "source": [
    "tf.random.set_seed(8)\n",
    "\n",
    "# X- values: uniformly distributed\n",
    "control_index = tf.linspace(Range[0],Range[1],Number_para)\n",
    "#control_index with non-even distribution\n",
    "# control_index = tf.linspace(Range[0],Range[1],Number_para)+tf.random.uniform([Number_para],-20,20,dtype = tf.float64)\n",
    "\n",
    "# define some points to minimize the artifacts\n",
    "number_of_fixpoints = 10\n",
    "\n",
    "fix_point1 = tf.transpose(tf.stack([tf.linspace(Range[0]-200,Range[0]-10,number_of_fixpoints),depth*tf.ones(number_of_fixpoints,dtype = tf.float64)]))\n",
    "fix_point2 = tf.transpose(tf.stack([tf.linspace(Range[1]+10,Range[1]+200,number_of_fixpoints),depth*tf.ones(number_of_fixpoints,dtype = tf.float64)]))\n",
    "\n",
    "## define the true z-values\n",
    "True_position = tf.random.normal([Number_para],depth,10,dtype = tf.float64)\n",
    "True_position_sin = 20*tf.sin(0.04*control_index)+depth"
   ]
  },
  {
   "cell_type": "code",
   "execution_count": 5,
   "metadata": {
    "ExecuteTime": {
     "end_time": "2020-03-23T20:56:25.010697Z",
     "start_time": "2020-03-23T20:56:24.982467Z"
    }
   },
   "outputs": [],
   "source": [
    "## train the gp model based on True_position\n",
    "\n",
    "\n",
    "# define x , z\n",
    "points = tf.stack([control_index,True_position],axis = -1)\n",
    "\n",
    "\n",
    "# add some points to eliminate the bondary artifacts\n",
    "points = tf.concat([tf.concat([fix_point1,points],axis = 0),fix_point2],axis = 0)\n",
    "\n",
    "## define the GP parameters\n",
    "amplitude = tfp.util.TransformedVariable(\n",
    "      2, tfb.Exp(), dtype=tf.float64, name='amplitude')\n",
    "length_scale = tfp.util.TransformedVariable(\n",
    "      200, tfb.Exp(), dtype=tf.float64, name='length_scale')\n",
    "kernel = psd_kernels.ExponentiatedQuadratic(amplitude, length_scale)\n",
    "    \n",
    "observation_noise_variance = tfp.util.TransformedVariable(\n",
    "        np.exp(-.1), tfb.Exp(),dtype = tf.float64, name='observation_noise_variance')\n",
    "\n",
    "# x- index used to construct GP model\n",
    "observation_index_points = tf.reshape(points[:,0],[Number_para+2*number_of_fixpoints,1])\n",
    "\n",
    "\n",
    "# We'll use an unconditioned GP to train the kernel parameters.\n",
    "gp = tfd.GaussianProcess(\n",
    "    kernel=kernel,\n",
    "    index_points=observation_index_points,\n",
    "    observation_noise_variance=observation_noise_variance)\n",
    "\n",
    "def GaussianProcess_model(kernel,observation_index_points,_control_index,_control_position):\n",
    "    '''\n",
    "        Arguments:\n",
    "            kernel: trained GP kernal\n",
    "            \n",
    "        return:\n",
    "            GP interpolated model index and model psition\n",
    "            \n",
    "    '''\n",
    "    ## define how many points interpolated between control points\n",
    "    resolution = 5\n",
    "    \n",
    "    \n",
    "    points = tf.stack([_control_index,_control_position],axis = -1)\n",
    "\n",
    "    points = tf.concat([tf.concat([fix_point1,points],axis = 0),fix_point2],axis = 0)\n",
    "    \n",
    "    # x-index where we want to interpolate\n",
    "    model_index = tf.expand_dims(tf.linspace(observation_index_points[0,0],observation_index_points[-1,0],resolution*Number_para+4),axis =1)\n",
    "\n",
    "    gprm = tfd.GaussianProcessRegressionModel(\n",
    "        kernel=kernel,\n",
    "        index_points=model_index,\n",
    "        observation_index_points=observation_index_points,\n",
    "        observations=points[:,1],\n",
    "        observation_noise_variance=observation_noise_variance)\n",
    "\n",
    "    model_position = gprm.mean()\n",
    "\n",
    "    ## model_complete contains the extended polygon used to do gravity calculation\n",
    "    model_position_complete = tf.reshape([tf.concat([model_position - thickness,\n",
    "                                                     tf.reverse(model_position,axis = [-1])],axis = -1)],\n",
    "                                         shape = [model_position.shape[0]*2,1])\n",
    "\n",
    "    model_index_complete = tf.concat([model_index,tf.reverse(model_index,axis = [0])],axis = 0)\n",
    "    \n",
    "    return model_index_complete,model_position_complete\n",
    "\n",
    "x_true,z_true = GaussianProcess_model(kernel,observation_index_points,control_index,True_position_sin)"
   ]
  },
  {
   "cell_type": "code",
   "execution_count": 6,
   "metadata": {
    "ExecuteTime": {
     "end_time": "2020-03-23T20:56:25.015444Z",
     "start_time": "2020-03-23T20:56:25.012403Z"
    }
   },
   "outputs": [],
   "source": [
    "rho = 2000"
   ]
  },
  {
   "cell_type": "code",
   "execution_count": 9,
   "metadata": {
    "ExecuteTime": {
     "end_time": "2020-03-23T20:56:57.319918Z",
     "start_time": "2020-03-23T20:56:56.557356Z"
    }
   },
   "outputs": [
    {
     "name": "stdout",
     "output_type": "stream",
     "text": [
      "tracing\n",
      "executing\n"
     ]
    },
    {
     "data": {
      "text/plain": [
       "<tf.Tensor: shape=(25,), dtype=float64, numpy=\n",
       "array([6.33702019e-06, 6.44459731e-06, 6.54692372e-06, 6.64631735e-06,\n",
       "       6.74457994e-06, 6.84122401e-06, 6.93513306e-06, 7.02602215e-06,\n",
       "       7.11385863e-06, 7.19741109e-06, 7.27302975e-06, 7.33697922e-06,\n",
       "       7.38990970e-06, 7.43186609e-06, 7.45600711e-06, 7.45760631e-06,\n",
       "       7.44190908e-06, 7.41047136e-06, 7.35661166e-06, 7.27995580e-06,\n",
       "       7.18773488e-06, 7.08170776e-06, 6.95935414e-06, 6.82168834e-06,\n",
       "       6.67172864e-06])>"
      ]
     },
     "execution_count": 9,
     "metadata": {},
     "output_type": "execute_result"
    }
   ],
   "source": [
    "gp = Gravity_Polygon(obs_N,Range,rho)\n",
    "gp.calculate_gravity(x_true,z_true)"
   ]
  },
  {
   "cell_type": "code",
   "execution_count": 10,
   "metadata": {
    "ExecuteTime": {
     "end_time": "2020-03-23T20:57:00.301501Z",
     "start_time": "2020-03-23T20:57:00.186853Z"
    }
   },
   "outputs": [
    {
     "name": "stdout",
     "output_type": "stream",
     "text": [
      "tracing\n",
      "INFO:tensorflow:Assets written to: ./tmp/module_no_signatures/assets\n"
     ]
    }
   ],
   "source": [
    "tf.saved_model.save(gp, \"./tmp/module_no_signatures\")"
   ]
  },
  {
   "cell_type": "code",
   "execution_count": null,
   "metadata": {
    "ExecuteTime": {
     "end_time": "2020-03-23T20:56:25.353396Z",
     "start_time": "2020-03-23T20:56:22.928Z"
    }
   },
   "outputs": [],
   "source": [
    "gp.calculate_gravity()"
   ]
  },
  {
   "cell_type": "code",
   "execution_count": null,
   "metadata": {
    "ExecuteTime": {
     "end_time": "2020-03-23T20:56:25.355614Z",
     "start_time": "2020-03-23T20:56:22.929Z"
    }
   },
   "outputs": [],
   "source": [
    "gp.calculate_gravity()"
   ]
  },
  {
   "cell_type": "code",
   "execution_count": 12,
   "metadata": {
    "ExecuteTime": {
     "end_time": "2020-03-23T20:57:30.734649Z",
     "start_time": "2020-03-23T20:57:30.731050Z"
    }
   },
   "outputs": [],
   "source": [
    "gp1 = Gravity_Polygon(obs_N,Range,rho)"
   ]
  },
  {
   "cell_type": "code",
   "execution_count": 13,
   "metadata": {
    "ExecuteTime": {
     "end_time": "2020-03-23T20:57:31.471124Z",
     "start_time": "2020-03-23T20:57:31.367033Z"
    }
   },
   "outputs": [
    {
     "name": "stdout",
     "output_type": "stream",
     "text": [
      "tracing\n",
      "executing\n"
     ]
    },
    {
     "data": {
      "text/plain": [
       "<tf.Tensor: shape=(25,), dtype=float64, numpy=\n",
       "array([6.33702019e-06, 6.44459731e-06, 6.54692372e-06, 6.64631735e-06,\n",
       "       6.74457994e-06, 6.84122401e-06, 6.93513306e-06, 7.02602215e-06,\n",
       "       7.11385863e-06, 7.19741109e-06, 7.27302975e-06, 7.33697922e-06,\n",
       "       7.38990970e-06, 7.43186609e-06, 7.45600711e-06, 7.45760631e-06,\n",
       "       7.44190908e-06, 7.41047136e-06, 7.35661166e-06, 7.27995580e-06,\n",
       "       7.18773488e-06, 7.08170776e-06, 6.95935414e-06, 6.82168834e-06,\n",
       "       6.67172864e-06])>"
      ]
     },
     "execution_count": 13,
     "metadata": {},
     "output_type": "execute_result"
    }
   ],
   "source": [
    "gp1.calculate_gravity(x_true,z_true)"
   ]
  },
  {
   "cell_type": "code",
   "execution_count": 14,
   "metadata": {
    "ExecuteTime": {
     "end_time": "2020-03-23T20:57:33.930923Z",
     "start_time": "2020-03-23T20:57:33.875584Z"
    }
   },
   "outputs": [],
   "source": [
    "gp_imported = tf.saved_model.load(\"./tmp/module_no_signatures\")"
   ]
  },
  {
   "cell_type": "code",
   "execution_count": 15,
   "metadata": {
    "ExecuteTime": {
     "end_time": "2020-03-23T20:57:50.007190Z",
     "start_time": "2020-03-23T20:57:49.947020Z"
    }
   },
   "outputs": [
    {
     "name": "stdout",
     "output_type": "stream",
     "text": [
      "executing\n"
     ]
    },
    {
     "data": {
      "text/plain": [
       "<tf.Tensor: shape=(25,), dtype=float64, numpy=\n",
       "array([6.33702019e-06, 6.44459731e-06, 6.54692372e-06, 6.64631735e-06,\n",
       "       6.74457994e-06, 6.84122401e-06, 6.93513306e-06, 7.02602215e-06,\n",
       "       7.11385863e-06, 7.19741109e-06, 7.27302975e-06, 7.33697922e-06,\n",
       "       7.38990970e-06, 7.43186609e-06, 7.45600711e-06, 7.45760631e-06,\n",
       "       7.44190908e-06, 7.41047136e-06, 7.35661166e-06, 7.27995580e-06,\n",
       "       7.18773488e-06, 7.08170776e-06, 6.95935414e-06, 6.82168834e-06,\n",
       "       6.67172864e-06])>"
      ]
     },
     "execution_count": 15,
     "metadata": {},
     "output_type": "execute_result"
    }
   ],
   "source": [
    "gp_imported.calculate_gravity(x_true,z_true)"
   ]
  },
  {
   "cell_type": "code",
   "execution_count": null,
   "metadata": {},
   "outputs": [],
   "source": []
  }
 ],
 "metadata": {
  "kernelspec": {
   "display_name": "Python (nightly)",
   "language": "python",
   "name": "nightly"
  },
  "language_info": {
   "codemirror_mode": {
    "name": "ipython",
    "version": 3
   },
   "file_extension": ".py",
   "mimetype": "text/x-python",
   "name": "python",
   "nbconvert_exporter": "python",
   "pygments_lexer": "ipython3",
   "version": "3.7.1"
  },
  "varInspector": {
   "cols": {
    "lenName": 16,
    "lenType": 16,
    "lenVar": 40
   },
   "kernels_config": {
    "python": {
     "delete_cmd_postfix": "",
     "delete_cmd_prefix": "del ",
     "library": "var_list.py",
     "varRefreshCmd": "print(var_dic_list())"
    },
    "r": {
     "delete_cmd_postfix": ") ",
     "delete_cmd_prefix": "rm(",
     "library": "var_list.r",
     "varRefreshCmd": "cat(var_dic_list()) "
    }
   },
   "types_to_exclude": [
    "module",
    "function",
    "builtin_function_or_method",
    "instance",
    "_Feature"
   ],
   "window_display": false
  }
 },
 "nbformat": 4,
 "nbformat_minor": 4
}
