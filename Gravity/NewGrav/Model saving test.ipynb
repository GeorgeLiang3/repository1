{
 "cells": [
  {
   "cell_type": "code",
   "execution_count": 1,
   "metadata": {
    "ExecuteTime": {
     "end_time": "2020-03-24T15:52:59.391671Z",
     "start_time": "2020-03-24T15:52:55.921335Z"
    }
   },
   "outputs": [],
   "source": [
    "from Grav_polygon import Gravity_Polygon\n",
    "%matplotlib inline\n",
    "import matplotlib.pyplot as plt\n",
    "import numpy as np\n",
    "import tensorflow as tf\n",
    "import scipy\n",
    "from scipy.stats import norm\n",
    "import tensorflow_probability as tfp\n",
    "import seaborn as sns\n",
    "import pandas as pd\n",
    "import corner \n",
    "import math as m\n",
    "import copy\n",
    "from HessianMCMC import HessianMCMC\n",
    "\n",
    "tfb = tfp.bijectors\n",
    "tfd=tfp.distributions\n",
    "psd_kernels = tfp.math.psd_kernels"
   ]
  },
  {
   "cell_type": "code",
   "execution_count": 2,
   "metadata": {
    "ExecuteTime": {
     "end_time": "2020-03-24T15:52:59.395834Z",
     "start_time": "2020-03-24T15:52:59.393150Z"
    }
   },
   "outputs": [],
   "source": [
    "def constant64(i):\n",
    "    return(tf.constant(i,dtype = tf.float64))"
   ]
  },
  {
   "cell_type": "code",
   "execution_count": 3,
   "metadata": {
    "ExecuteTime": {
     "end_time": "2020-03-24T15:52:59.402013Z",
     "start_time": "2020-03-24T15:52:59.397744Z"
    }
   },
   "outputs": [],
   "source": [
    "## define some numbers\n",
    "Number_para = 5\n",
    "obs_N = 25\n",
    "number_burnin = 3000\n",
    "number_sample = 10000\n",
    "steps_gradient_decent = 2000\n",
    "rho = 2000\n",
    "pi = constant64(m.pi) # define PI in Tensorflow form\n",
    "\n",
    "depth = constant64(-50)\n",
    "thickness = constant64(10)\n",
    "\n",
    "Range = constant64([-200.,200.])"
   ]
  },
  {
   "cell_type": "code",
   "execution_count": 4,
   "metadata": {
    "ExecuteTime": {
     "end_time": "2020-03-24T15:52:59.416192Z",
     "start_time": "2020-03-24T15:52:59.405143Z"
    }
   },
   "outputs": [],
   "source": [
    "tf.random.set_seed(8)\n",
    "\n",
    "# X- values: uniformly distributed\n",
    "control_index = tf.linspace(Range[0],Range[1],Number_para)\n",
    "#control_index with non-even distribution\n",
    "# control_index = tf.linspace(Range[0],Range[1],Number_para)+tf.random.uniform([Number_para],-20,20,dtype = tf.float64)\n",
    "\n",
    "# define some points to minimize the artifacts\n",
    "number_of_fixpoints = 10\n",
    "\n",
    "fix_point1 = tf.transpose(tf.stack([tf.linspace(Range[0]-200,Range[0]-10,number_of_fixpoints),depth*tf.ones(number_of_fixpoints,dtype = tf.float64)]))\n",
    "fix_point2 = tf.transpose(tf.stack([tf.linspace(Range[1]+10,Range[1]+200,number_of_fixpoints),depth*tf.ones(number_of_fixpoints,dtype = tf.float64)]))\n",
    "\n",
    "## define the true z-values\n",
    "True_position = tf.random.normal([Number_para],depth,10,dtype = tf.float64)\n",
    "True_position_sin = 20*tf.sin(0.04*control_index)+depth"
   ]
  },
  {
   "cell_type": "code",
   "execution_count": 5,
   "metadata": {
    "ExecuteTime": {
     "end_time": "2020-03-24T15:52:59.447768Z",
     "start_time": "2020-03-24T15:52:59.419016Z"
    }
   },
   "outputs": [],
   "source": [
    "## train the gp model based on True_position\n",
    "\n",
    "\n",
    "# define x , z\n",
    "points = tf.stack([control_index,True_position],axis = -1)\n",
    "\n",
    "\n",
    "# add some points to eliminate the bondary artifacts\n",
    "points = tf.concat([tf.concat([fix_point1,points],axis = 0),fix_point2],axis = 0)\n",
    "\n",
    "## define the GP parameters\n",
    "amplitude = tfp.util.TransformedVariable(\n",
    "      2, tfb.Exp(), dtype=tf.float64, name='amplitude')\n",
    "length_scale = tfp.util.TransformedVariable(\n",
    "      200, tfb.Exp(), dtype=tf.float64, name='length_scale')\n",
    "kernel = psd_kernels.ExponentiatedQuadratic(amplitude, length_scale)\n",
    "    \n",
    "observation_noise_variance = tfp.util.TransformedVariable(\n",
    "        np.exp(-.1), tfb.Exp(),dtype = tf.float64, name='observation_noise_variance')\n",
    "\n",
    "# x- index used to construct GP model\n",
    "observation_index_points = tf.reshape(points[:,0],[Number_para+2*number_of_fixpoints,1])\n",
    "\n",
    "\n",
    "# We'll use an unconditioned GP to train the kernel parameters.\n",
    "gp = tfd.GaussianProcess(\n",
    "    kernel=kernel,\n",
    "    index_points=observation_index_points,\n",
    "    observation_noise_variance=observation_noise_variance)\n",
    "\n",
    "def GaussianProcess_model(kernel,observation_index_points,_control_index,_control_position):\n",
    "    '''\n",
    "        Arguments:\n",
    "            kernel: trained GP kernal\n",
    "            \n",
    "        return:\n",
    "            GP interpolated model index and model psition\n",
    "            \n",
    "    '''\n",
    "    ## define how many points interpolated between control points\n",
    "    resolution = 5\n",
    "    \n",
    "    \n",
    "    points = tf.stack([_control_index,_control_position],axis = -1)\n",
    "\n",
    "    points = tf.concat([tf.concat([fix_point1,points],axis = 0),fix_point2],axis = 0)\n",
    "    \n",
    "    # x-index where we want to interpolate\n",
    "    model_index = tf.expand_dims(tf.linspace(observation_index_points[0,0],observation_index_points[-1,0],resolution*Number_para+4),axis =1)\n",
    "\n",
    "    gprm = tfd.GaussianProcessRegressionModel(\n",
    "        kernel=kernel,\n",
    "        index_points=model_index,\n",
    "        observation_index_points=observation_index_points,\n",
    "        observations=points[:,1],\n",
    "        observation_noise_variance=observation_noise_variance)\n",
    "\n",
    "    model_position = gprm.mean()\n",
    "\n",
    "    ## model_complete contains the extended polygon used to do gravity calculation\n",
    "    model_position_complete = tf.reshape([tf.concat([model_position - thickness,\n",
    "                                                     tf.reverse(model_position,axis = [-1])],axis = -1)],\n",
    "                                         shape = [model_position.shape[0]*2,1])\n",
    "\n",
    "    model_index_complete = tf.concat([model_index,tf.reverse(model_index,axis = [0])],axis = 0)\n",
    "    \n",
    "    return model_index_complete,model_position_complete\n",
    "\n",
    "x_true,z_true = GaussianProcess_model(kernel,observation_index_points,control_index,True_position_sin)\n",
    "\n"
   ]
  },
  {
   "cell_type": "code",
   "execution_count": 8,
   "metadata": {
    "ExecuteTime": {
     "end_time": "2020-03-24T15:53:15.364466Z",
     "start_time": "2020-03-24T15:53:15.330061Z"
    }
   },
   "outputs": [],
   "source": [
    "Number_para = 3\n",
    "tf.random.set_seed(8)\n",
    "\n",
    "# X- values: uniformly distributed\n",
    "control_index = tf.linspace(Range[0],Range[1],Number_para)\n",
    "#control_index with non-even distribution\n",
    "# control_index = tf.linspace(Range[0],Range[1],Number_para)+tf.random.uniform([Number_para],-20,20,dtype = tf.float64)\n",
    "\n",
    "# define some points to minimize the artifacts\n",
    "number_of_fixpoints = 10\n",
    "\n",
    "fix_point1 = tf.transpose(tf.stack([tf.linspace(Range[0]-200,Range[0]-10,number_of_fixpoints),depth*tf.ones(number_of_fixpoints,dtype = tf.float64)]))\n",
    "fix_point2 = tf.transpose(tf.stack([tf.linspace(Range[1]+10,Range[1]+200,number_of_fixpoints),depth*tf.ones(number_of_fixpoints,dtype = tf.float64)]))\n",
    "\n",
    "## define the true z-values\n",
    "\n",
    "True_position = tf.random.normal([Number_para],depth,10,dtype = tf.float64)\n",
    "True_position_sin = 20*tf.sin(0.04*control_index)+depth\n",
    "\n",
    "points = tf.stack([control_index,True_position],axis = -1)\n",
    "\n",
    "\n",
    "# add some points to eliminate the bondary artifacts\n",
    "points = tf.concat([tf.concat([fix_point1,points],axis = 0),fix_point2],axis = 0)\n",
    "\n",
    "## define the GP parameters\n",
    "amplitude = tfp.util.TransformedVariable(\n",
    "      2, tfb.Exp(), dtype=tf.float64, name='amplitude')\n",
    "length_scale = tfp.util.TransformedVariable(\n",
    "      200, tfb.Exp(), dtype=tf.float64, name='length_scale')\n",
    "kernel = psd_kernels.ExponentiatedQuadratic(amplitude, length_scale)\n",
    "    \n",
    "observation_noise_variance = tfp.util.TransformedVariable(\n",
    "        np.exp(-.1), tfb.Exp(),dtype = tf.float64, name='observation_noise_variance')\n",
    "\n",
    "# x- index used to construct GP model\n",
    "observation_index_points = tf.reshape(points[:,0],[Number_para+2*number_of_fixpoints,1])\n",
    "\n",
    "\n",
    "# We'll use an unconditioned GP to train the kernel parameters.\n",
    "gp = tfd.GaussianProcess(\n",
    "    kernel=kernel,\n",
    "    index_points=observation_index_points,\n",
    "    observation_noise_variance=observation_noise_variance)\n",
    "\n",
    "x_another,z_another = GaussianProcess_model(kernel,observation_index_points,control_index,True_position_sin)\n",
    "\n"
   ]
  },
  {
   "cell_type": "code",
   "execution_count": 31,
   "metadata": {
    "ExecuteTime": {
     "end_time": "2020-03-24T15:58:06.330770Z",
     "start_time": "2020-03-24T15:58:06.323999Z"
    }
   },
   "outputs": [
    {
     "data": {
      "text/plain": [
       "TensorShape([58, 1])"
      ]
     },
     "execution_count": 31,
     "metadata": {},
     "output_type": "execute_result"
    }
   ],
   "source": [
    "x_true.shape"
   ]
  },
  {
   "cell_type": "code",
   "execution_count": 30,
   "metadata": {
    "ExecuteTime": {
     "end_time": "2020-03-24T15:57:57.909274Z",
     "start_time": "2020-03-24T15:57:57.905950Z"
    }
   },
   "outputs": [
    {
     "data": {
      "text/plain": [
       "TensorShape([38, 1])"
      ]
     },
     "execution_count": 30,
     "metadata": {},
     "output_type": "execute_result"
    }
   ],
   "source": [
    "x_another.shape"
   ]
  },
  {
   "cell_type": "code",
   "execution_count": 35,
   "metadata": {
    "ExecuteTime": {
     "end_time": "2020-03-24T16:03:15.692300Z",
     "start_time": "2020-03-24T16:03:15.672733Z"
    }
   },
   "outputs": [],
   "source": [
    "def constant64(i):\n",
    "    return tf.constant(i, dtype=tf.float64)\n",
    "\n",
    "\n",
    "def divide(a, b):\n",
    "    \"\"\"Tensorflow save divide\n",
    "\n",
    "    Arguments:\n",
    "        a {[Tensor]} -- [description]\n",
    "        b {[Tensor]} -- [description]\n",
    "\n",
    "    Returns:\n",
    "        [Tensor] -- \n",
    "    \"\"\"\n",
    "    return tf.math.divide_no_nan(a, b)\n",
    "\n",
    "\n",
    "pi = constant64(m.pi)\n",
    "\n",
    "\n",
    "class Gravity_Polygon(tf.Module):\n",
    "    def __init__(self, obs_N, Range, rho):\n",
    "        super(Gravity_Polygon, self).__init__()\n",
    "        self.obs_N = obs_N\n",
    "        self.Range = Range\n",
    "        self.rho = constant64(rho)        # density difference   kg/m^3\n",
    "        self.x_obv = tf.linspace(constant64(-70.), constant64(70.), self.obs_N)\n",
    "        self.y_obv = tf.zeros(tf.shape(self.x_obv), dtype=tf.float64)\n",
    "\n",
    "    def A(self, x1, z1, x2, z2):\n",
    "        numerator = (x2-x1)*(x1*z2-x2*z1)\n",
    "        denominator = (x2-x1)**2 + (z2-z1)**2\n",
    "        return divide(numerator, denominator)\n",
    "\n",
    "    def B(self, x1, z1, x2, z2):\n",
    "        '''\n",
    "        x : array, x coordinate\n",
    "        z : array, z coordinate\n",
    "        p1, p2 : int, position\n",
    "\n",
    "        '''\n",
    "        return divide((z1-z2), (x2-x1))\n",
    "\n",
    "    def theta_new(self, xn, zn):\n",
    "\n",
    "        m = tf.atan(divide(zn, xn))\n",
    "\n",
    "        m = tf.where(m < 0, m + pi, m)\n",
    "\n",
    "        m = tf.where(m == 0, m + pi/2, m)\n",
    "\n",
    "        return m\n",
    "\n",
    "    def Z_new(self, x1, z1, x2, z2):\n",
    "\n",
    "        # let's do not allow 1) points at origin\n",
    "        # 2) two points in a sequence have the same x coordinate\n",
    "\n",
    "        theta1 = self.theta_new(x1, z1)\n",
    "        theta2 = self.theta_new(x2, z2)\n",
    "\n",
    "        r1 = (tf.sqrt(x1**2.+z1**2.))\n",
    "        r2 = (tf.sqrt(x2**2.+z2**2.))\n",
    "\n",
    "        _A = self.A(x1, z1, x2, z2)\n",
    "        _B = self.B(x1, z1, x2, z2)\n",
    "\n",
    "        Z_result = _A*((theta1-theta2)+_B*tf.math.log(divide(r1, r2)))\n",
    "\n",
    "        return Z_result\n",
    "\n",
    "    @tf.function\n",
    "    def calculate_gravity(self, x, z, a):\n",
    "\n",
    "        x_obv = tf.linspace(self.Range[0], self.Range[1], self.obs_N)\n",
    "        y_obv = tf.zeros(tf.shape(x_obv), dtype=tf.float64)\n",
    "\n",
    "        tx = tf.transpose(tf.tile(x, [1, self.obs_N]))\n",
    "\n",
    "        x_tile = tf.expand_dims(tx, axis=2)\n",
    "\n",
    "        tz = tf.transpose(tf.tile(z, [1, self.obs_N]))\n",
    "\n",
    "        z_tile = tf.expand_dims(tz, axis=2)\n",
    "\n",
    "        x_obv_tile = tf.expand_dims(x_obv, axis=1)\n",
    "        x_obv_tile = tf.tile(x_obv_tile, [1, a])\n",
    "        x_obv_tile = tf.reshape(x_obv_tile, [self.obs_N, a, 1])\n",
    "\n",
    "        z_obv_tile = tf.expand_dims(y_obv, axis=1)\n",
    "        z_obv_tile = tf.tile(z_obv_tile, [1, a])\n",
    "        z_obv_tile = tf.reshape(z_obv_tile, [self.obs_N, a, 1])\n",
    "\n",
    "        _x = x_tile - x_obv_tile\n",
    "        _z = z_tile - z_obv_tile\n",
    "\n",
    "        x_ = tf.concat(\n",
    "            [_x, tf.reshape(_x[:, 0], shape=[self.obs_N, 1, 1])], axis=1)\n",
    "        z_ = tf.concat(\n",
    "            [_z, tf.reshape(_z[:, 0], shape=[self.obs_N, 1, 1])], axis=1)\n",
    "\n",
    "        x1 = x_[:, 0:-1]\n",
    "        x2 = x_[:, 1:]\n",
    "        z1 = z_[:, 0:-1]\n",
    "        z2 = z_[:, 1:]\n",
    "\n",
    "        # gravitational constant  m^3 kg ^-1 s^-2\n",
    "        G = constant64(6.67 * 10**(-11))\n",
    "        gravity = 2*G*self.rho * \\\n",
    "            tf.reduce_sum(-self.Z_new(x1, z1, x2, z2), axis=1)\n",
    "\n",
    "        print('tracing')\n",
    "        tf.print('executing')\n",
    "        return tf.squeeze(gravity)\n",
    "\n"
   ]
  },
  {
   "cell_type": "code",
   "execution_count": 64,
   "metadata": {
    "ExecuteTime": {
     "end_time": "2020-03-24T16:34:19.821250Z",
     "start_time": "2020-03-24T16:34:19.818434Z"
    }
   },
   "outputs": [],
   "source": [
    "shape = tf.constant(58,dtype = tf.float32)"
   ]
  },
  {
   "cell_type": "code",
   "execution_count": 58,
   "metadata": {
    "ExecuteTime": {
     "end_time": "2020-03-24T16:33:34.300979Z",
     "start_time": "2020-03-24T16:33:34.201600Z"
    }
   },
   "outputs": [
    {
     "name": "stdout",
     "output_type": "stream",
     "text": [
      "tracing\n"
     ]
    },
    {
     "data": {
      "text/plain": [
       "<tensorflow.python.eager.function.ConcreteFunction at 0x14a6b2908>"
      ]
     },
     "execution_count": 58,
     "metadata": {},
     "output_type": "execute_result"
    }
   ],
   "source": [
    "gp = Gravity_Polygon(obs_N,Range,rho)\n",
    "# gp.calculate_gravity(x_true,z_true)\n",
    "gp.calculate_gravity.get_concrete_function(x=tf.TensorSpec([None,None], tf.float64),\n",
    "                                           z=tf.TensorSpec([None,None], tf.float64),\n",
    "                                           a=tf.TensorSpec([]))"
   ]
  },
  {
   "cell_type": "code",
   "execution_count": 59,
   "metadata": {
    "ExecuteTime": {
     "end_time": "2020-03-24T16:33:36.656730Z",
     "start_time": "2020-03-24T16:33:36.534829Z"
    }
   },
   "outputs": [
    {
     "name": "stdout",
     "output_type": "stream",
     "text": [
      "tracing\n",
      "INFO:tensorflow:Assets written to: ./tmp/module_no_signatures/assets\n"
     ]
    }
   ],
   "source": [
    "tf.saved_model.save(gp, \"./tmp/module_no_signatures\")"
   ]
  },
  {
   "cell_type": "code",
   "execution_count": 61,
   "metadata": {
    "ExecuteTime": {
     "end_time": "2020-03-24T16:33:45.412238Z",
     "start_time": "2020-03-24T16:33:45.294128Z"
    }
   },
   "outputs": [
    {
     "name": "stdout",
     "output_type": "stream",
     "text": [
      "tracing\n",
      "executing\n"
     ]
    },
    {
     "data": {
      "text/plain": [
       "<tf.Tensor: shape=(25,), dtype=float64, numpy=\n",
       "array([6.48689046e-06, 6.59056361e-06, 6.68281247e-06, 6.76448658e-06,\n",
       "       6.83609410e-06, 6.89795152e-06, 6.95028938e-06, 6.99333892e-06,\n",
       "       7.02737731e-06, 7.05275764e-06, 7.06990449e-06, 7.07929554e-06,\n",
       "       7.08142715e-06, 7.07676789e-06, 7.06571680e-06, 7.04855512e-06,\n",
       "       7.02541336e-06, 6.99623944e-06, 6.96078025e-06, 6.91856785e-06,\n",
       "       6.86890976e-06, 6.81087825e-06, 6.74328978e-06, 6.66466733e-06,\n",
       "       6.57317254e-06])>"
      ]
     },
     "execution_count": 61,
     "metadata": {},
     "output_type": "execute_result"
    }
   ],
   "source": [
    "gp.calculate_gravity(x_true,z_true,shape)"
   ]
  },
  {
   "cell_type": "code",
   "execution_count": null,
   "metadata": {
    "ExecuteTime": {
     "end_time": "2020-03-24T15:52:59.885721Z",
     "start_time": "2020-03-24T15:52:55.815Z"
    }
   },
   "outputs": [],
   "source": [
    "gp.calculate_gravity(x_another,z_another)"
   ]
  },
  {
   "cell_type": "code",
   "execution_count": null,
   "metadata": {
    "ExecuteTime": {
     "end_time": "2020-03-24T15:52:59.887658Z",
     "start_time": "2020-03-24T15:52:55.816Z"
    }
   },
   "outputs": [],
   "source": [
    "gp.calculate_gravity()"
   ]
  },
  {
   "cell_type": "code",
   "execution_count": null,
   "metadata": {
    "ExecuteTime": {
     "end_time": "2020-03-24T15:52:59.889419Z",
     "start_time": "2020-03-24T15:52:55.819Z"
    }
   },
   "outputs": [],
   "source": [
    "gp1 = Gravity_Polygon(obs_N,Range,rho)"
   ]
  },
  {
   "cell_type": "code",
   "execution_count": null,
   "metadata": {
    "ExecuteTime": {
     "end_time": "2020-03-24T15:52:59.890983Z",
     "start_time": "2020-03-24T15:52:55.821Z"
    }
   },
   "outputs": [],
   "source": [
    "gp1.calculate_gravity(x_true,z_true)"
   ]
  },
  {
   "cell_type": "code",
   "execution_count": 62,
   "metadata": {
    "ExecuteTime": {
     "end_time": "2020-03-24T16:33:50.620011Z",
     "start_time": "2020-03-24T16:33:50.558192Z"
    }
   },
   "outputs": [],
   "source": [
    "gp_imported = tf.saved_model.load(\"./tmp/module_no_signatures\")"
   ]
  },
  {
   "cell_type": "code",
   "execution_count": 65,
   "metadata": {
    "ExecuteTime": {
     "end_time": "2020-03-24T16:34:28.672041Z",
     "start_time": "2020-03-24T16:34:28.608720Z"
    }
   },
   "outputs": [
    {
     "name": "stdout",
     "output_type": "stream",
     "text": [
      "executing\n"
     ]
    },
    {
     "data": {
      "text/plain": [
       "<tf.Tensor: shape=(25,), dtype=float64, numpy=\n",
       "array([6.48689046e-06, 6.59056361e-06, 6.68281247e-06, 6.76448658e-06,\n",
       "       6.83609410e-06, 6.89795152e-06, 6.95028938e-06, 6.99333892e-06,\n",
       "       7.02737731e-06, 7.05275764e-06, 7.06990449e-06, 7.07929554e-06,\n",
       "       7.08142715e-06, 7.07676789e-06, 7.06571680e-06, 7.04855512e-06,\n",
       "       7.02541336e-06, 6.99623944e-06, 6.96078025e-06, 6.91856785e-06,\n",
       "       6.86890976e-06, 6.81087825e-06, 6.74328978e-06, 6.66466733e-06,\n",
       "       6.57317254e-06])>"
      ]
     },
     "execution_count": 65,
     "metadata": {},
     "output_type": "execute_result"
    }
   ],
   "source": [
    "gp_imported.calculate_gravity(x_true,z_true,shape)"
   ]
  },
  {
   "cell_type": "markdown",
   "metadata": {},
   "source": [
    "Pass shape explicitly"
   ]
  },
  {
   "cell_type": "code",
   "execution_count": 66,
   "metadata": {
    "ExecuteTime": {
     "end_time": "2020-03-24T16:34:35.276974Z",
     "start_time": "2020-03-24T16:34:35.273923Z"
    }
   },
   "outputs": [],
   "source": [
    "shape1 = tf.constant(38,tf.float32)"
   ]
  },
  {
   "cell_type": "code",
   "execution_count": 67,
   "metadata": {
    "ExecuteTime": {
     "end_time": "2020-03-24T16:34:35.585167Z",
     "start_time": "2020-03-24T16:34:35.514778Z"
    }
   },
   "outputs": [
    {
     "name": "stdout",
     "output_type": "stream",
     "text": [
      "executing\n"
     ]
    },
    {
     "data": {
      "text/plain": [
       "<tf.Tensor: shape=(25,), dtype=float64, numpy=\n",
       "array([6.35966028e-06, 6.44596113e-06, 6.52530074e-06, 6.59950723e-06,\n",
       "       6.66989774e-06, 6.73753006e-06, 6.80287437e-06, 6.86615724e-06,\n",
       "       6.92735555e-06, 6.98591225e-06, 7.04108210e-06, 7.09193076e-06,\n",
       "       7.13698787e-06, 7.17467337e-06, 7.20358327e-06, 7.22163408e-06,\n",
       "       7.22715824e-06, 7.21906008e-06, 7.19543588e-06, 7.15566251e-06,\n",
       "       7.09945711e-06, 7.02592061e-06, 6.93551665e-06, 6.82834468e-06,\n",
       "       6.70395087e-06])>"
      ]
     },
     "execution_count": 67,
     "metadata": {},
     "output_type": "execute_result"
    }
   ],
   "source": [
    "gp_imported.calculate_gravity(x_another,z_another,shape1)"
   ]
  },
  {
   "cell_type": "code",
   "execution_count": null,
   "metadata": {},
   "outputs": [],
   "source": []
  },
  {
   "cell_type": "code",
   "execution_count": null,
   "metadata": {},
   "outputs": [],
   "source": []
  },
  {
   "cell_type": "code",
   "execution_count": null,
   "metadata": {},
   "outputs": [],
   "source": []
  },
  {
   "cell_type": "code",
   "execution_count": null,
   "metadata": {},
   "outputs": [],
   "source": []
  },
  {
   "cell_type": "code",
   "execution_count": null,
   "metadata": {},
   "outputs": [],
   "source": []
  },
  {
   "cell_type": "code",
   "execution_count": null,
   "metadata": {
    "ExecuteTime": {
     "end_time": "2020-03-24T15:52:59.896605Z",
     "start_time": "2020-03-24T15:52:55.834Z"
    }
   },
   "outputs": [],
   "source": [
    "class CustomModule(tf.Module):\n",
    "\n",
    "    def __init__(self):\n",
    "        super(CustomModule, self).__init__()\n",
    "        self.v = tf.Variable(1.)\n",
    "\n",
    "    @tf.function(experimental_relax_shapes = True)\n",
    "    def __call__(self, x):\n",
    "        return x * self.v\n",
    "\n",
    "    @tf.function(input_signature=[tf.TensorSpec([], tf.float32)])\n",
    "    def mutate(self, new_v):\n",
    "        self.v.assign(new_v)\n",
    "    \n",
    "#     @tf.function(input_signature=[tf.TensorSpec([], tf.float32)])\n",
    "#     def t(self,value):\n",
    "#         return tf.tile(value,[1,self.v])\n",
    "\n",
    "module = CustomModule()"
   ]
  },
  {
   "cell_type": "code",
   "execution_count": null,
   "metadata": {
    "ExecuteTime": {
     "end_time": "2020-03-24T15:52:59.898182Z",
     "start_time": "2020-03-24T15:52:55.835Z"
    }
   },
   "outputs": [],
   "source": [
    "module(tf.constant([0.]))\n",
    "tf.saved_model.save(module, \"./tmp/test\")"
   ]
  },
  {
   "cell_type": "code",
   "execution_count": null,
   "metadata": {
    "ExecuteTime": {
     "end_time": "2020-03-24T15:52:59.899308Z",
     "start_time": "2020-03-24T15:52:55.836Z"
    }
   },
   "outputs": [],
   "source": [
    "imported = tf.saved_model.load(\"./tmp/test\")\n",
    "imported(tf.constant(3.)).mutate()\n"
   ]
  },
  {
   "cell_type": "code",
   "execution_count": null,
   "metadata": {
    "ExecuteTime": {
     "end_time": "2020-03-24T15:52:59.900920Z",
     "start_time": "2020-03-24T15:52:55.838Z"
    }
   },
   "outputs": [],
   "source": [
    "imported = tf.saved_model.load(\"./tmp/test\")\n",
    "assert 3. == imported(tf.constant(3.)).numpy()\n",
    "imported.mutate(tf.constant(2.))\n",
    "assert 6. == imported(tf.constant(3.)).numpy()"
   ]
  },
  {
   "cell_type": "code",
   "execution_count": null,
   "metadata": {
    "ExecuteTime": {
     "end_time": "2020-03-24T15:52:59.902303Z",
     "start_time": "2020-03-24T15:52:55.839Z"
    }
   },
   "outputs": [],
   "source": [
    "module.__call__.get_concrete_function(x=tf.TensorSpec([None], tf.float32))\n",
    "tf.saved_model.save(module, \"./tmp/test\")\n",
    "imported = tf.saved_model.load(\"./tmp/test\")\n",
    "assert [3.] == imported(tf.constant([3.])).numpy()"
   ]
  },
  {
   "cell_type": "code",
   "execution_count": null,
   "metadata": {},
   "outputs": [],
   "source": []
  }
 ],
 "metadata": {
  "kernelspec": {
   "display_name": "Python (nightly)",
   "language": "python",
   "name": "nightly"
  },
  "language_info": {
   "codemirror_mode": {
    "name": "ipython",
    "version": 3
   },
   "file_extension": ".py",
   "mimetype": "text/x-python",
   "name": "python",
   "nbconvert_exporter": "python",
   "pygments_lexer": "ipython3",
   "version": "3.7.1"
  },
  "varInspector": {
   "cols": {
    "lenName": 16,
    "lenType": 16,
    "lenVar": 40
   },
   "kernels_config": {
    "python": {
     "delete_cmd_postfix": "",
     "delete_cmd_prefix": "del ",
     "library": "var_list.py",
     "varRefreshCmd": "print(var_dic_list())"
    },
    "r": {
     "delete_cmd_postfix": ") ",
     "delete_cmd_prefix": "rm(",
     "library": "var_list.r",
     "varRefreshCmd": "cat(var_dic_list()) "
    }
   },
   "types_to_exclude": [
    "module",
    "function",
    "builtin_function_or_method",
    "instance",
    "_Feature"
   ],
   "window_display": false
  }
 },
 "nbformat": 4,
 "nbformat_minor": 4
}
