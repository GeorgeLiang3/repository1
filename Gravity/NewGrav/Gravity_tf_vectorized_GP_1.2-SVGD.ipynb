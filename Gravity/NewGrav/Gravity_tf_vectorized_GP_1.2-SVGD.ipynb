{
 "cells": [
  {
   "cell_type": "code",
   "execution_count": 1,
   "metadata": {
    "ExecuteTime": {
     "end_time": "2020-08-05T11:03:06.529466Z",
     "start_time": "2020-08-05T11:03:01.882750Z"
    }
   },
   "outputs": [],
   "source": [
    "%matplotlib inline\n",
    "import matplotlib.pyplot as plt\n",
    "import numpy as np\n",
    "import tensorflow as tf\n",
    "import scipy\n",
    "from scipy.stats import norm\n",
    "import tensorflow_probability as tfp\n",
    "import seaborn as sns\n",
    "import pandas as pd\n",
    "import corner \n",
    "import math as m\n",
    "import copy\n",
    "from HessianMCMC import HessianMCMC\n",
    "\n",
    "tfb = tfp.bijectors\n",
    "tfd=tfp.distributions\n",
    "psd_kernels = tfp.math.psd_kernels"
   ]
  },
  {
   "cell_type": "code",
   "execution_count": 2,
   "metadata": {
    "ExecuteTime": {
     "end_time": "2020-08-05T11:03:06.534614Z",
     "start_time": "2020-08-05T11:03:06.531111Z"
    }
   },
   "outputs": [],
   "source": [
    "def constant64(i):\n",
    "    return(tf.constant(i,dtype = tf.float64))"
   ]
  },
  {
   "cell_type": "markdown",
   "metadata": {},
   "source": [
    "#### Z direction gravity line integration following Won 1987\n",
    "\\begin{equation}\n",
    "\\Delta g_{z}=2 G \\rho \\sum_{i=1}^{n} Z_{i}\n",
    "\\end{equation}\n",
    "\n",
    "\\begin{equation}\n",
    "Z=A\\left[\\left(\\theta_{1}-\\theta_{2}\\right)+B \\ln \\frac{r_{2}}{r_{1}}\\right]\n",
    "\\end{equation}\n",
    "\n",
    "where,   \n",
    "\\begin{equation}\n",
    "\\begin{aligned}\n",
    "&A=\\frac{\\left(x_{2}-x_{1}\\right)\\left(x_{1} z_{2}-x_{2} z_{1}\\right)}{\\left(x_{2}-x_{1}\\right)^{2}+\\left(z_{2}-z_{1}\\right)^{2}}\\\\\n",
    "&B=\\frac{z_{2}-z_{1}}{x_{2}-x_{1}}\n",
    "\\end{aligned}\n",
    "\\end{equation}\n",
    "\n",
    "and,   \n",
    "\\begin{equation}\n",
    "\\begin{aligned}\n",
    "&r_{1}^{2}=x_{1}^{2}+z_{1}^{2}\\\\\n",
    "&r_{2}^{2}=x_{2}^{2}+z_{2}^{2}\n",
    "\\end{aligned}\n",
    "\\end{equation}\n"
   ]
  },
  {
   "cell_type": "code",
   "execution_count": 3,
   "metadata": {
    "ExecuteTime": {
     "end_time": "2020-08-05T11:03:06.558215Z",
     "start_time": "2020-08-05T11:03:06.536778Z"
    }
   },
   "outputs": [],
   "source": [
    "def divide(a,b):\n",
    "    '''\n",
    "     Tensorflow safe divide\n",
    "    '''\n",
    "    return tf.math.divide_no_nan(a,b)\n",
    "\n",
    "def A(x1,z1,x2,z2):\n",
    "    numerator = (x2-x1)*(x1*z2-x2*z1)\n",
    "    denominator = (x2-x1)**2 + (z2-z1)**2\n",
    "    return divide(numerator,denominator)\n",
    "\n",
    "def B(x1,z1,x2,z2):\n",
    "    '''\n",
    "    x : array, x coordinate\n",
    "    z : array, z coordinate\n",
    "    p1, p2 : int, position\n",
    "    \n",
    "    '''\n",
    "    return divide((z1-z2),(x2-x1))\n",
    "\n",
    "\n",
    "def theta_new(xn,zn):\n",
    "    \n",
    "    m = tf.atan(divide(zn,xn))\n",
    "\n",
    "    m = tf.where(m<0, m + pi, m ) \n",
    "\n",
    "    m = tf.where(m == 0, m + pi/2, m)\n",
    "\n",
    "    return m\n",
    " \n",
    "    \n",
    "def Z_new(x1,z1,x2,z2):\n",
    "    \n",
    "    ## let's do not allow 1) points at origin\n",
    "    ##                    2) two points in a sequence have the same x coordinate\n",
    "    \n",
    "    \n",
    "    theta1 = theta_new(x1,z1)\n",
    "    theta2 = theta_new(x2,z2)\n",
    "    \n",
    "    r1 = (tf.sqrt(x1**2.+z1**2.))\n",
    "    r2 = (tf.sqrt(x2**2.+z2**2.))\n",
    "\n",
    "    _A = A(x1,z1,x2,z2)\n",
    "    _B = B(x1,z1,x2,z2)\n",
    "    \n",
    "    \n",
    "    Z_result = _A*((theta1-theta2)+_B*tf.math.log(divide(r1,r2)))\n",
    "    \n",
    "\n",
    "    return Z_result \n",
    " \n",
    "@tf.function\n",
    "def grav_new(x,z):\n",
    "    \n",
    "    \n",
    "    thick = thickness\n",
    "    x_obv = tf.linspace(Range[0],Range[1],obs_N)\n",
    "    y_obv = tf.zeros(tf.shape(x_obv),dtype = tf.float64)\n",
    "    \n",
    "    \n",
    "    tx = tf.transpose(tf.tile(x,[1,obs_N]))\n",
    "\n",
    "    x_tile = tf.expand_dims(tx,axis = 2)\n",
    "\n",
    "    tz = tf.transpose(tf.tile(z,[1,obs_N]))\n",
    "\n",
    "    z_tile = tf.expand_dims(tz,axis = 2)\n",
    "    \n",
    "    \n",
    "    x_obv_tile = tf.expand_dims(x_obv,axis = 1)\n",
    "    x_obv_tile = tf.tile(x_obv_tile,[1,x.shape[0]])\n",
    "    x_obv_tile = tf.reshape(x_obv_tile,[obs_N,x.shape[0],1])\n",
    "\n",
    "\n",
    "    z_obv_tile = tf.expand_dims(y_obv,axis = 1)\n",
    "    z_obv_tile = tf.tile(z_obv_tile,[1,x.shape[0]])\n",
    "    z_obv_tile = tf.reshape(z_obv_tile,[obs_N,x.shape[0],1])\n",
    "    \n",
    "    \n",
    "    _x = x_tile - x_obv_tile\n",
    "    _z = z_tile - z_obv_tile\n",
    "    \n",
    "    x_ = tf.concat([_x, tf.reshape(_x[:,0],shape = [obs_N,1,1])],axis = 1)\n",
    "    z_ = tf.concat([_z, tf.reshape(_z[:,0],shape = [obs_N,1,1])],axis = 1)\n",
    "    \n",
    "    x1 = x_[:,0:-1]\n",
    "    x2 = x_[:,1:]\n",
    "    z1 = z_[:,0:-1]\n",
    "    z2 = z_[:,1:]\n",
    "    \n",
    "    G = constant64(6.67 * 10**(-11)) # gravitational constant  m^3 kg ^-1 s^-2\n",
    "    rho = constant64(2000.)        # density difference   kg/m^3\n",
    "    \n",
    "    gravity = 2*G*rho*tf.reduce_sum(-Z_new(x1,z1,x2,z2),axis = 1)\n",
    "    \n",
    "    return tf.squeeze(gravity)\n"
   ]
  },
  {
   "cell_type": "code",
   "execution_count": 4,
   "metadata": {
    "ExecuteTime": {
     "end_time": "2020-08-05T11:03:06.566433Z",
     "start_time": "2020-08-05T11:03:06.560362Z"
    }
   },
   "outputs": [],
   "source": [
    "\n",
    "@tf.function\n",
    "def joint_log_post(D,_control_position):\n",
    "    \"\"\"\n",
    "    D: is the observation data\n",
    "    ps: Positions,Variable(N elements vector)\n",
    "    \"\"\"\n",
    "    # define random variables prior\n",
    "    \n",
    "    mvn_prior = tfd.MultivariateNormalTriL(\n",
    "            loc = mu_prior,\n",
    "            scale_tril=tf.linalg.cholesky(cov_prior))\n",
    "    # define likelihood\n",
    "\n",
    "    _control_index = tf.linspace(constant64(-70),constant64(70),Number_para)\n",
    "    __x,__z = GaussianProcess_model(kernel,observation_index_points,_control_index,_control_position)\n",
    "    \n",
    "    Gm_ = grav_new(__x,__z)\n",
    "    \n",
    "    mvn_likelihood = tfd.MultivariateNormalTriL(\n",
    "            loc = Gm_,\n",
    "            scale_tril= tf.linalg.cholesky(cov))\n",
    "    \n",
    "    # return the posterior probability\n",
    "    return (mvn_prior.log_prob(_control_position)\n",
    "            +mvn_likelihood.log_prob(D))\n",
    "\n",
    "@tf.function\n",
    "def negative_log_posterior(D,_control_position):\n",
    "    return -joint_log_post(D,_control_position)"
   ]
  },
  {
   "cell_type": "code",
   "execution_count": 5,
   "metadata": {
    "ExecuteTime": {
     "end_time": "2020-08-05T11:03:06.571929Z",
     "start_time": "2020-08-05T11:03:06.568369Z"
    }
   },
   "outputs": [],
   "source": [
    "## define some numbers\n",
    "Number_para = 2\n",
    "obs_N = 25\n",
    "number_burnin = 3000\n",
    "number_sample = 10000\n",
    "steps_gradient_decent = 2000\n",
    "\n",
    "pi = constant64(m.pi) # define PI in Tensorflow form\n",
    "\n",
    "depth = constant64(-50)\n",
    "thickness = constant64(10)\n",
    "\n",
    "Range = constant64([-200.,200.])"
   ]
  },
  {
   "cell_type": "code",
   "execution_count": 6,
   "metadata": {
    "ExecuteTime": {
     "end_time": "2020-08-05T11:03:06.588835Z",
     "start_time": "2020-08-05T11:03:06.573563Z"
    }
   },
   "outputs": [],
   "source": [
    "# prior\n",
    "mu_prior = -50.*tf.ones([Number_para],dtype = tf.float64)\n",
    "cov_prior = 15.*tf.eye(Number_para,dtype = tf.float64)\n",
    "\n",
    "x_obv = tf.linspace(Range[0],Range[1],obs_N)\n",
    "\n",
    "\n",
    "# likelihood\n",
    "sig_e = constant64(2*1e-8)\n",
    "cov = sig_e**2.*tf.eye(obs_N,dtype = tf.float64)"
   ]
  },
  {
   "cell_type": "markdown",
   "metadata": {},
   "source": [
    "## Define the ground truth"
   ]
  },
  {
   "cell_type": "code",
   "execution_count": 7,
   "metadata": {
    "ExecuteTime": {
     "end_time": "2020-08-05T11:03:06.606847Z",
     "start_time": "2020-08-05T11:03:06.590249Z"
    }
   },
   "outputs": [],
   "source": [
    "tf.random.set_seed(8)\n",
    "\n",
    "# X- values: uniformly distributed\n",
    "control_index = tf.linspace(Range[0],Range[1],Number_para)\n",
    "#control_index with non-even distribution\n",
    "# control_index = tf.linspace(Range[0],Range[1],Number_para)+tf.random.uniform([Number_para],-20,20,dtype = tf.float64)\n",
    "\n",
    "# define some points to minimize the artifacts\n",
    "number_of_fixpoints = 10\n",
    "\n",
    "fix_point1 = tf.transpose(tf.stack([tf.linspace(Range[0]-200,Range[0]-10,number_of_fixpoints),depth*tf.ones(number_of_fixpoints,dtype = tf.float64)]))\n",
    "fix_point2 = tf.transpose(tf.stack([tf.linspace(Range[1]+10,Range[1]+200,number_of_fixpoints),depth*tf.ones(number_of_fixpoints,dtype = tf.float64)]))\n",
    "\n",
    "## define the true z-values\n",
    "True_position = tf.random.normal([Number_para],depth,10,dtype = tf.float64)\n",
    "True_position_sin = 20*tf.sin(0.04*control_index)+depth"
   ]
  },
  {
   "cell_type": "markdown",
   "metadata": {},
   "source": [
    "#### Gaussian Process"
   ]
  },
  {
   "cell_type": "code",
   "execution_count": 8,
   "metadata": {
    "ExecuteTime": {
     "end_time": "2020-08-05T11:03:06.649887Z",
     "start_time": "2020-08-05T11:03:06.609460Z"
    }
   },
   "outputs": [],
   "source": [
    "## train the gp model based on True_position\n",
    "\n",
    "\n",
    "# define x , z\n",
    "points = tf.stack([control_index,True_position],axis = -1)\n",
    "\n",
    "\n",
    "# add some points to eliminate the bondary artifacts\n",
    "points = tf.concat([tf.concat([fix_point1,points],axis = 0),fix_point2],axis = 0)\n",
    "\n",
    "## define the GP parameters\n",
    "amplitude = tfp.util.TransformedVariable(\n",
    "      2, tfb.Exp(), dtype=tf.float64, name='amplitude')\n",
    "length_scale = tfp.util.TransformedVariable(\n",
    "      200, tfb.Exp(), dtype=tf.float64, name='length_scale')\n",
    "kernel = psd_kernels.ExponentiatedQuadratic(amplitude, length_scale)\n",
    "    \n",
    "observation_noise_variance = tfp.util.TransformedVariable(\n",
    "        np.exp(-.1), tfb.Exp(),dtype = tf.float64, name='observation_noise_variance')\n",
    "\n",
    "# x- index used to construct GP model\n",
    "observation_index_points = tf.reshape(points[:,0],[Number_para+2*number_of_fixpoints,1])\n",
    "\n",
    "\n",
    "# We'll use an unconditioned GP to train the kernel parameters.\n",
    "gp = tfd.GaussianProcess(\n",
    "    kernel=kernel,\n",
    "    index_points=observation_index_points,\n",
    "    observation_noise_variance=observation_noise_variance)\n",
    "\n",
    "# optimizer = tf.optimizers.Adam(learning_rate=.05, beta_1=.5, beta_2=.99)\n",
    "# @tf.function\n",
    "# def optimize():\n",
    "#     with tf.GradientTape() as tape:\n",
    "#         loss = -gp.log_prob(points[:,1])\n",
    "#     grads = tape.gradient(loss, gp.trainable_variables)\n",
    "#     optimizer.apply_gradients(zip(grads, gp.trainable_variables))\n",
    "#     return loss\n",
    "# # First train the model, then draw and plot posterior samples.\n",
    "# for i in range(1000):\n",
    "#     neg_log_likelihood_ = optimize()\n",
    "    \n",
    "    \n",
    "model_index = tf.expand_dims(tf.linspace(observation_index_points[0,0],\n",
    "                                         observation_index_points[-1,0],\n",
    "                                         Number_para+4),\n",
    "                             axis =1)\n",
    "gprm = tfd.GaussianProcessRegressionModel(\n",
    "    kernel=kernel,\n",
    "    index_points=model_index,\n",
    "    observation_index_points=observation_index_points,\n",
    "    observations=points[:,1],\n",
    "    observation_noise_variance=observation_noise_variance)\n",
    "\n",
    "model_position = gprm.mean()\n",
    "\n",
    "model_position_complete = tf.reshape([tf.concat([model_position - thickness,\n",
    "                                                     tf.reverse(model_position,\n",
    "                                                                axis = [-1])],\n",
    "                                                axis = -1)],\n",
    "                                         shape = [model_position.shape[0]*2,1])\n",
    "model_index_complete = tf.concat([model_index,tf.reverse(model_index,\n",
    "                                                         axis = [0])],\n",
    "                                 axis = 0)"
   ]
  },
  {
   "cell_type": "code",
   "execution_count": 9,
   "metadata": {
    "ExecuteTime": {
     "end_time": "2020-08-05T11:03:06.660578Z",
     "start_time": "2020-08-05T11:03:06.652018Z"
    }
   },
   "outputs": [
    {
     "data": {
      "text/plain": [
       "(<tf.Variable 'amplitude:0' shape=() dtype=float64, numpy=0.6931471805599453>,\n",
       " <tf.Variable 'length_scale:0' shape=() dtype=float64, numpy=5.298317366548036>,\n",
       " <tf.Variable 'observation_noise_variance:0' shape=() dtype=float64, numpy=-0.10000000000000006>)"
      ]
     },
     "execution_count": 9,
     "metadata": {},
     "output_type": "execute_result"
    }
   ],
   "source": [
    "gp.trainable_variables"
   ]
  },
  {
   "cell_type": "markdown",
   "metadata": {},
   "source": [
    "Exponentiated Quadratic Kernel"
   ]
  },
  {
   "cell_type": "code",
   "execution_count": 10,
   "metadata": {
    "ExecuteTime": {
     "end_time": "2020-08-05T11:03:06.680470Z",
     "start_time": "2020-08-05T11:03:06.662874Z"
    }
   },
   "outputs": [],
   "source": [
    "def GaussianProcess_model(kernel,observation_index_points,_control_index,_control_position):\n",
    "    '''\n",
    "        Arguments:\n",
    "            kernel: trained GP kernal\n",
    "            \n",
    "        return:\n",
    "            GP interpolated model index and model psition\n",
    "            \n",
    "    '''\n",
    "    ## define how many points interpolated between control points\n",
    "    resolution = 5\n",
    "    \n",
    "    \n",
    "    points = tf.stack([_control_index,_control_position],axis = -1)\n",
    "\n",
    "    points = tf.concat([tf.concat([fix_point1,points],axis = 0),fix_point2],axis = 0)\n",
    "    \n",
    "    # x-index where we want to interpolate\n",
    "    model_index = tf.expand_dims(tf.linspace(observation_index_points[0,0],observation_index_points[-1,0],resolution*Number_para+4),axis =1)\n",
    "\n",
    "    gprm = tfd.GaussianProcessRegressionModel(\n",
    "        kernel=kernel,\n",
    "        index_points=model_index,\n",
    "        observation_index_points=observation_index_points,\n",
    "        observations=points[:,1],\n",
    "        observation_noise_variance=observation_noise_variance)\n",
    "\n",
    "    model_position = gprm.mean()\n",
    "\n",
    "    ## model_complete contains the extended polygon used to do gravity calculation\n",
    "    model_position_complete = tf.reshape([tf.concat([model_position - thickness,\n",
    "                                                     tf.reverse(model_position,axis = [-1])],axis = -1)],\n",
    "                                         shape = [model_position.shape[0]*2,1])\n",
    "\n",
    "    model_index_complete = tf.concat([model_index,tf.reverse(model_index,axis = [0])],axis = 0)\n",
    "    \n",
    "    return model_index_complete,model_position_complete\n",
    "\n",
    "x_true,z_true = GaussianProcess_model(kernel,observation_index_points,control_index,True_position_sin)"
   ]
  },
  {
   "cell_type": "code",
   "execution_count": 11,
   "metadata": {
    "ExecuteTime": {
     "end_time": "2020-08-05T11:03:07.436019Z",
     "start_time": "2020-08-05T11:03:06.681927Z"
    }
   },
   "outputs": [],
   "source": [
    "Data = grav_new(x_true,z_true)"
   ]
  },
  {
   "cell_type": "code",
   "execution_count": 12,
   "metadata": {
    "ExecuteTime": {
     "end_time": "2020-08-05T11:03:08.056231Z",
     "start_time": "2020-08-05T11:03:07.437422Z"
    }
   },
   "outputs": [
    {
     "data": {
      "image/png": "[encoded data removed]",
      "text/plain": [
       "<Figure size 504x720 with 2 Axes>"
      ]
     },
     "metadata": {
      "needs_background": "light"
     },
     "output_type": "display_data"
    }
   ],
   "source": [
    "def simulated_gravity(x,z,x_obs=None,Number_=obs_N ,R=Range[1],ax = None,style = None,**args):\n",
    "    if ax is None:\n",
    "        f,ax=plt.subplots()\n",
    "    if x_obs is None:\n",
    "        x_obs = np.linspace(-R,R,Number_)\n",
    "    y = np.zeros(np.shape(x_obs))\n",
    "    obv = np.vstack((x_obs,y)).T\n",
    "\n",
    "    gravity = grav_new(x,z)\n",
    "    if style is None:\n",
    "        style = '-'\n",
    "    ax.set_title('gravity response at surface')\n",
    "    ax.set_ylabel('g_z ($m/s^2$ )')\n",
    "\n",
    "    ax.set_xlim(-R,R)\n",
    "    ax.ticklabel_format(axis='y', style='sci', scilimits=(-2,2))\n",
    "    ax.plot(x_obs,gravity,style,**args)\n",
    "    return gravity\n",
    "\n",
    "def Draw_inter(_control_index,_control_position,z_true = None,R = Range[1], ax = None):\n",
    "    if ax is None:\n",
    "        _,ax = plt.subplots(figsize = (14,7))\n",
    "    if z_true is not None:\n",
    "        ## true poistion is black\n",
    "        ax.scatter(control_index,z_true, c = 'black',label = 'true position',alpha = 0.6)\n",
    "        \n",
    "    x_,z_ = GaussianProcess_model(kernel,observation_index_points,_control_index,_control_position)\n",
    "    ax.plot(x_,z_)\n",
    "    ## proposal is red\n",
    "    ax.scatter(control_index,_control_position, label = 'model position',c = 'red')\n",
    "\n",
    "    ax.plot(np.linspace(-R,R,obs_N),np.zeros(obs_N))\n",
    "    ax.plot(np.linspace(-R,R,obs_N),np.zeros(obs_N),'k|')\n",
    "    ax.set_ylim(depth-100,10)\n",
    "    ax.set_xlim(-R,R)\n",
    "    \n",
    "def Draw(_control_index,_control_position,true_position = None,ax = None,**args):\n",
    "    if ax is None:\n",
    "        f,ax = plt.subplots(2,sharex=True, figsize = (7,10))\n",
    "    _x,_z = GaussianProcess_model(kernel,observation_index_points,_control_index,_control_position)\n",
    "    simulated_gravity(_x,_z,ax = ax[0],**args)\n",
    "    Draw_inter(_control_index,_control_position,ax = ax[1],z_true =true_position)\n",
    "    plt.legend(loc = 'lower right')\n",
    "Draw(control_index,True_position_sin)"
   ]
  },
  {
   "cell_type": "code",
   "execution_count": 13,
   "metadata": {
    "ExecuteTime": {
     "end_time": "2020-08-05T11:03:08.061749Z",
     "start_time": "2020-08-05T11:03:08.058224Z"
    }
   },
   "outputs": [],
   "source": [
    "mu_init = tf.random.normal([Number_para],mean = depth, stddev = -10,seed = 2,dtype = tf.float64) # initial parameters\n",
    "mu = mu_init"
   ]
  },
  {
   "cell_type": "code",
   "execution_count": 14,
   "metadata": {
    "ExecuteTime": {
     "end_time": "2020-08-05T11:03:08.500338Z",
     "start_time": "2020-08-05T11:03:08.063605Z"
    }
   },
   "outputs": [
    {
     "data": {
      "image/png": "[encoded data removed]",
      "text/plain": [
       "<Figure size 504x720 with 2 Axes>"
      ]
     },
     "metadata": {
      "needs_background": "light"
     },
     "output_type": "display_data"
    }
   ],
   "source": [
    "Draw(control_index,mu_init,True_position_sin)"
   ]
  },
  {
   "cell_type": "code",
   "execution_count": 15,
   "metadata": {
    "ExecuteTime": {
     "end_time": "2020-08-05T11:03:10.417140Z",
     "start_time": "2020-08-05T11:03:08.502289Z"
    }
   },
   "outputs": [
    {
     "name": "stdout",
     "output_type": "stream",
     "text": [
      "WARNING:tensorflow:From /Users/zhouji/.local/lib/python3.7/site-packages/tensorflow/python/ops/linalg/linear_operator_lower_triangular.py:158: calling LinearOperator.__init__ (from tensorflow.python.ops.linalg.linear_operator) with graph_parents is deprecated and will be removed in a future version.\n",
      "Instructions for updating:\n",
      "Do not pass `graph_parents`.  They will  no longer be used.\n"
     ]
    },
    {
     "ename": "NameError",
     "evalue": "name 'lost' is not defined",
     "output_type": "error",
     "traceback": [
      "\u001b[0;31m---------------------------------------------------------------------------\u001b[0m",
      "\u001b[0;31mNameError\u001b[0m                                 Traceback (most recent call last)",
      "\u001b[0;32m<ipython-input-15-19cf399481b2>\u001b[0m in \u001b[0;36m<module>\u001b[0;34m\u001b[0m\n\u001b[1;32m      3\u001b[0m     \u001b[0mt\u001b[0m\u001b[0;34m.\u001b[0m\u001b[0mwatch\u001b[0m\u001b[0;34m(\u001b[0m\u001b[0mmu\u001b[0m\u001b[0;34m)\u001b[0m\u001b[0;34m\u001b[0m\u001b[0;34m\u001b[0m\u001b[0m\n\u001b[1;32m      4\u001b[0m     \u001b[0mloss\u001b[0m \u001b[0;34m=\u001b[0m \u001b[0mnegative_log_posterior\u001b[0m\u001b[0;34m(\u001b[0m\u001b[0mData\u001b[0m\u001b[0;34m,\u001b[0m\u001b[0mmu\u001b[0m\u001b[0;34m)\u001b[0m \u001b[0;31m# negative log posterior\u001b[0m\u001b[0;34m\u001b[0m\u001b[0;34m\u001b[0m\u001b[0m\n\u001b[0;32m----> 5\u001b[0;31m     \u001b[0mlost\u001b[0m\u001b[0;34m.\u001b[0m\u001b[0mappend\u001b[0m\u001b[0;34m(\u001b[0m\u001b[0mloss\u001b[0m\u001b[0;34m.\u001b[0m\u001b[0mnumpy\u001b[0m\u001b[0;34m(\u001b[0m\u001b[0;34m)\u001b[0m\u001b[0;34m)\u001b[0m\u001b[0;34m\u001b[0m\u001b[0;34m\u001b[0m\u001b[0m\n\u001b[0m\u001b[1;32m      6\u001b[0m     \u001b[0mdlossdmu\u001b[0m \u001b[0;34m=\u001b[0m \u001b[0mt\u001b[0m\u001b[0;34m.\u001b[0m\u001b[0mgradient\u001b[0m\u001b[0;34m(\u001b[0m\u001b[0mloss\u001b[0m\u001b[0;34m,\u001b[0m\u001b[0mmu\u001b[0m\u001b[0;34m)\u001b[0m\u001b[0;34m\u001b[0m\u001b[0;34m\u001b[0m\u001b[0m\n\u001b[1;32m      7\u001b[0m     \u001b[0mprint\u001b[0m\u001b[0;34m(\u001b[0m\u001b[0mdlossdmu\u001b[0m\u001b[0;34m)\u001b[0m\u001b[0;34m\u001b[0m\u001b[0;34m\u001b[0m\u001b[0m\n",
      "\u001b[0;31mNameError\u001b[0m: name 'lost' is not defined"
     ]
    }
   ],
   "source": [
    "mu = mu_init\n",
    "with tf.GradientTape() as t:  \n",
    "    t.watch(mu)\n",
    "    loss = negative_log_posterior(Data,mu) # negative log posterior\n",
    "    lost.append(loss.numpy())\n",
    "    dlossdmu = t.gradient(loss,mu)\n",
    "    print(dlossdmu)\n",
    "mu = mu-tf.multiply(constant64(0.00001),dlossdmu)\n",
    "Draw(control_index,mu,True_position_sin)"
   ]
  },
  {
   "cell_type": "code",
   "execution_count": null,
   "metadata": {
    "ExecuteTime": {
     "end_time": "2020-08-05T11:03:10.421015Z",
     "start_time": "2020-08-05T11:03:01.967Z"
    }
   },
   "outputs": [],
   "source": [
    "steps_gradient_decent = 5000\n",
    "lost = []\n",
    "for i in range(steps_gradient_decent):\n",
    "    with tf.GradientTape() as t:  \n",
    "        t.watch(mu)\n",
    "        loss = negative_log_posterior(Data,mu) # negative log posterior\n",
    "        lost.append(loss.numpy())\n",
    "        dlossdmu = t.gradient(loss,mu)\n",
    "        print('mu',mu.numpy())\n",
    "        print('loss',loss.numpy())\n",
    "        print('dmu',dlossdmu.numpy())\n",
    "    mu = mu-tf.multiply(constant64(0.0001),dlossdmu)\n",
    "#     if i % 1000 == 0:\n",
    "#         print('loss',loss)\n",
    "#         print('grad',dlossdmu)\n",
    "#         print('mu:',mu)\n",
    "#         f,ax = plt.subplots()\n",
    "#         Draw_inter(control_index,mu,ax = ax)\n",
    "#         print('Iteration',i)\n",
    "#         plt.show()\n",
    "plt.plot(lost)\n",
    "MAP = mu"
   ]
  },
  {
   "cell_type": "code",
   "execution_count": null,
   "metadata": {
    "ExecuteTime": {
     "end_time": "2020-08-05T11:03:10.422288Z",
     "start_time": "2020-08-05T11:03:01.969Z"
    }
   },
   "outputs": [],
   "source": [
    "Draw(control_index,mu, True_position_sin)"
   ]
  },
  {
   "cell_type": "markdown",
   "metadata": {},
   "source": [
    "## SVGD"
   ]
  },
  {
   "cell_type": "code",
   "execution_count": null,
   "metadata": {
    "ExecuteTime": {
     "end_time": "2020-08-05T11:03:10.423582Z",
     "start_time": "2020-08-05T11:03:01.971Z"
    }
   },
   "outputs": [],
   "source": [
    "def svgd_kernel(X0):\n",
    "    XY = tf.matmul(X0, tf.transpose(X0))\n",
    "    X2_ = tf.reduce_sum(tf.square(X0), axis=1)\n",
    "\n",
    "    x2 = tf.reshape(X2_, shape=(tf.shape(X0)[0], 1))\n",
    "\n",
    "    X2e = tf.tile(x2, [1, tf.shape(X0)[0]])\n",
    "    \n",
    "    ## (x1 -x2)^2 + (y1 -y2)^2\n",
    "    H = tf.subtract(tf.add(X2e, tf.transpose(X2e)), 2 * XY)\n",
    "\n",
    "    V = tf.reshape(H, [-1, 1])\n",
    "\n",
    "    # median distance\n",
    "    def get_median(v):\n",
    "        v = tf.reshape(v, [-1])\n",
    "        m = v.get_shape()[0]//2\n",
    "        return tf.nn.top_k(v, m).values[m-1]\n",
    "    h = get_median(V)\n",
    "    h = tf.sqrt(\n",
    "        0.5 * h / tf.math.log(tf.cast(tf.shape(X0)[0], tf.float64) + 1.0))\n",
    "\n",
    "    # compute the rbf kernel\n",
    "    Kxy = tf.exp(-H / h ** 2 / 2.0)\n",
    "\n",
    "    dxkxy = tf.negative(tf.matmul(Kxy, X0))\n",
    "    sumkxy = tf.expand_dims(tf.reduce_sum(Kxy, axis=1), 1)\n",
    "    dxkxy = tf.add(dxkxy, tf.multiply(X0, sumkxy)) / (h ** 2)\n",
    "\n",
    "    return (Kxy, dxkxy)"
   ]
  },
  {
   "cell_type": "code",
   "execution_count": null,
   "metadata": {
    "ExecuteTime": {
     "end_time": "2020-08-05T11:03:10.424725Z",
     "start_time": "2020-08-05T11:03:01.973Z"
    }
   },
   "outputs": [],
   "source": [
    "lr = constant64(0.004)\n",
    "num_iter = 1000\n",
    "num_particles = 200"
   ]
  },
  {
   "cell_type": "code",
   "execution_count": null,
   "metadata": {
    "ExecuteTime": {
     "end_time": "2020-08-05T11:03:10.425795Z",
     "start_time": "2020-08-05T11:03:01.974Z"
    }
   },
   "outputs": [],
   "source": [
    "mu = tf.random.uniform([num_particles,Number_para],-200,-20,dtype = tf.float64)"
   ]
  },
  {
   "cell_type": "code",
   "execution_count": null,
   "metadata": {
    "ExecuteTime": {
     "end_time": "2020-08-05T11:03:10.426821Z",
     "start_time": "2020-08-05T11:03:01.976Z"
    }
   },
   "outputs": [],
   "source": [
    "def gradient(mu):\n",
    "    log_p_grad = tf.TensorArray(tf.float64, size=num_particles)\n",
    "    for i in range(mu.shape[0]):\n",
    "        with tf.GradientTape() as t:\n",
    "            t.watch(mu)\n",
    "            f = joint_log_post(Data,mu[i])\n",
    "        log_p_grad =log_p_grad.write(i, t.gradient(f,mu)[i])\n",
    "    return log_p_grad.stack()"
   ]
  },
  {
   "cell_type": "code",
   "execution_count": null,
   "metadata": {
    "ExecuteTime": {
     "end_time": "2020-08-05T11:03:10.427879Z",
     "start_time": "2020-08-05T11:03:01.977Z"
    }
   },
   "outputs": [],
   "source": [
    "x = np.linspace(Range[0],Range[1],Number_para)\n",
    "x = np.reshape(np.tile(x,num_particles),[num_particles,Number_para])"
   ]
  },
  {
   "cell_type": "code",
   "execution_count": null,
   "metadata": {
    "ExecuteTime": {
     "end_time": "2020-08-05T11:03:10.428993Z",
     "start_time": "2020-08-05T11:03:01.979Z"
    }
   },
   "outputs": [],
   "source": [
    "@tf.function\n",
    "def svgd_one_iter(mu):\n",
    "    log_p_grad = gradient(mu)\n",
    "    kernel_matrix, kernel_gradients = svgd_kernel(mu)\n",
    "    grad_theta = (tf.matmul(kernel_matrix, log_p_grad) + kernel_gradients)/num_particles\n",
    "    mu = mu+lr*grad_theta\n",
    "    return mu\n",
    "\n",
    "def run_chain_svgd(mu):\n",
    "    for i in range(num_iter):\n",
    "        mu = svgd_one_iter(mu)\n",
    "    return mu"
   ]
  },
  {
   "cell_type": "code",
   "execution_count": null,
   "metadata": {
    "ExecuteTime": {
     "end_time": "2020-08-05T11:03:10.430057Z",
     "start_time": "2020-08-05T11:03:01.980Z"
    }
   },
   "outputs": [],
   "source": [
    "mu = run_chain_svgd(mu)"
   ]
  },
  {
   "cell_type": "code",
   "execution_count": null,
   "metadata": {
    "ExecuteTime": {
     "end_time": "2020-08-05T11:03:10.431314Z",
     "start_time": "2020-08-05T11:03:01.982Z"
    }
   },
   "outputs": [],
   "source": [
    " _,ax = plt.subplots(figsize = (14,7))\n",
    "ax.plot(x,mu,'k.')\n",
    "Draw_inter(control_index,True_position_sin,ax=ax)"
   ]
  },
  {
   "cell_type": "code",
   "execution_count": null,
   "metadata": {
    "ExecuteTime": {
     "end_time": "2020-08-05T11:03:10.432704Z",
     "start_time": "2020-08-05T11:03:01.984Z"
    }
   },
   "outputs": [],
   "source": [
    "log_p_grad = gradient(mu)\n",
    "kernel_matrix, kernel_gradients = svgd_kernel(mu)\n",
    "grad_theta = (tf.matmul(kernel_matrix, log_p_grad) + kernel_gradients)/num_particles\n",
    "0.004*grad_theta\n"
   ]
  },
  {
   "cell_type": "code",
   "execution_count": null,
   "metadata": {
    "ExecuteTime": {
     "end_time": "2020-08-05T11:03:10.434033Z",
     "start_time": "2020-08-05T11:03:01.985Z"
    }
   },
   "outputs": [],
   "source": [
    "sns.kdeplot(mu[:,1].numpy())\n",
    "sns.kdeplot(mu[:,0].numpy())"
   ]
  },
  {
   "cell_type": "code",
   "execution_count": null,
   "metadata": {},
   "outputs": [],
   "source": []
  }
 ],
 "metadata": {
  "kernelspec": {
   "display_name": "Python (nightly)",
   "language": "python",
   "name": "nightly"
  },
  "language_info": {
   "codemirror_mode": {
    "name": "ipython",
    "version": 3
   },
   "file_extension": ".py",
   "mimetype": "text/x-python",
   "name": "python",
   "nbconvert_exporter": "python",
   "pygments_lexer": "ipython3",
   "version": "3.7.1"
  },
  "varInspector": {
   "cols": {
    "lenName": 16,
    "lenType": 16,
    "lenVar": 40
   },
   "kernels_config": {
    "python": {
     "delete_cmd_postfix": "",
     "delete_cmd_prefix": "del ",
     "library": "var_list.py",
     "varRefreshCmd": "print(var_dic_list())"
    },
    "r": {
     "delete_cmd_postfix": ") ",
     "delete_cmd_prefix": "rm(",
     "library": "var_list.r",
     "varRefreshCmd": "cat(var_dic_list()) "
    }
   },
   "types_to_exclude": [
    "module",
    "function",
    "builtin_function_or_method",
    "instance",
    "_Feature"
   ],
   "window_display": false
  }
 },
 "nbformat": 4,
 "nbformat_minor": 4
}
