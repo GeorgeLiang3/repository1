{
 "cells": [
  {
   "cell_type": "code",
   "execution_count": 157,
   "metadata": {
    "ExecuteTime": {
     "end_time": "2019-12-10T17:54:19.026182Z",
     "start_time": "2019-12-10T17:54:17.926789Z"
    }
   },
   "outputs": [],
   "source": [
    "%matplotlib inline\n",
    "import matplotlib.pyplot as plt\n",
    "import numpy as np\n",
    "import tensorflow as tf\n",
    "import scipy\n",
    "from scipy.stats import norm\n",
    "import tensorflow_probability as tfp\n",
    "import seaborn as sns\n",
    "import pandas as pd"
   ]
  },
  {
   "cell_type": "markdown",
   "metadata": {},
   "source": [
    "Calculate gravity of polygon\n",
    "\n",
    "\" Computing the gravitaional and magnetic anomalies due to a polygon: Algorithems and Fortran subroutines' Won 1986\n"
   ]
  },
  {
   "cell_type": "code",
   "execution_count": 146,
   "metadata": {
    "ExecuteTime": {
     "end_time": "2019-12-10T17:53:43.691561Z",
     "start_time": "2019-12-10T17:53:43.675384Z"
    }
   },
   "outputs": [],
   "source": [
    "def A(x,z,p1,p2):\n",
    "    numerator = (x[p2]-x[p1])*(x[p1]*z[p2]-x[p2]*z[p1])\n",
    "    denominator = (x[p2]-x[p1])**2 + (z[p2]-z[p1])**2\n",
    "    return (numerator/denominator)\n",
    "\n",
    "def B(x,z,p1,p2):\n",
    "    return ((z[p1]-z[p2])/(x[p2]-x[p1]))\n",
    "\n",
    "def theta(x,z, p):\n",
    "    if x[p] != 0 :\n",
    "        if(np.arctan(z[p]/x[p]))<0:\n",
    "            return(np.arctan(z[p]/x[p])+scipy.pi)\n",
    "        else:\n",
    "            return(np.arctan(z[p]/x[p]))\n",
    "    if x[p] == 0 and z[p]!=0 :\n",
    "        return(scipy.pi/2)\n",
    "\n",
    "def r(x,z,p):\n",
    "    return(np.sqrt(x[p]**2+z[p]**2))\n",
    "\n",
    "def Z(x,z,p1,p2):\n",
    "    \n",
    "    if x[p1] == z[p1]==0 or x[p2] == z[p2]==0:\n",
    "        return(0)\n",
    "    \n",
    "    if x[p1] == x[p2]:\n",
    "        return((x[p1]*np.log(r(x,z,p2)/r(x,z,p1))))\n",
    "    \n",
    "    theta1 = theta(x,z, p1)\n",
    "    theta2 = theta(x,z, p2)\n",
    "    \n",
    "    r1 = r(x,z,p1)\n",
    "    r2 = r(x,z,p2)\n",
    "    \n",
    "    #this is only needed when observation location across z\n",
    "#     if z[p1]*z[p2]<0:\n",
    "#         if x[p1]*z[p2]==x[p2]*z[p1]:\n",
    "#             return(0)\n",
    "#         if x[p1]*z[p2] < x[p2]*z[p1] and z[p2]>=0:\n",
    "#             theta1 += 2*scipy.pi\n",
    "#         if x[p1]*z[p2] > x[p2]*z[p1] and z[p1]>=0:\n",
    "#             theta2 += 2*scipy.pi\n",
    "    \n",
    "    _A = A(x,z,p1,p2)\n",
    "    _B = B(x,z,p1,p2)\n",
    "    \n",
    "    Z_result = _A*((theta1-theta2)+_B*np.log(r1/r2))\n",
    "    return(Z_result)"
   ]
  },
  {
   "cell_type": "markdown",
   "metadata": {},
   "source": [
    "Gravity at origin is calculated as $\\Delta g_{z}=2 G \\rho \\sum_{i=1}^{n} Z_{i}$\n",
    "(Won, 1987)"
   ]
  },
  {
   "cell_type": "code",
   "execution_count": 147,
   "metadata": {
    "ExecuteTime": {
     "end_time": "2019-12-10T17:53:44.029022Z",
     "start_time": "2019-12-10T17:53:44.024100Z"
    }
   },
   "outputs": [],
   "source": [
    "def g(data,loc=(0,0)):\n",
    "    \n",
    "    G = 6.67 * 10**(-11) # gravitational constant  m^3 kg ^-1 s^-2\n",
    "    rho = 1000        # density difference   kg/m^3\n",
    "    \n",
    "    _data = data - loc #Calculate any point refer to the origin\n",
    "\n",
    "    _x = _data[:,0]\n",
    "    _z = _data[:,1]\n",
    "\n",
    "    Z_sum = 0\n",
    "    \n",
    "    for i in range(_data.shape[0]-1):\n",
    "        Z_sum += Z(_x,_z,i,i+1)\n",
    "\n",
    "    Z_sum += Z(_x,_z,-1,0)\n",
    "\n",
    "    g = 2*G*rho * Z_sum\n",
    "    \n",
    "    return(g)"
   ]
  },
  {
   "cell_type": "code",
   "execution_count": 148,
   "metadata": {
    "ExecuteTime": {
     "end_time": "2019-12-10T17:53:44.229222Z",
     "start_time": "2019-12-10T17:53:44.216686Z"
    }
   },
   "outputs": [],
   "source": [
    "def draw(points,ax = None,R = 100):\n",
    "    if ax == None:\n",
    "        f,ax=plt.subplots()\n",
    "    x = points[:,0]\n",
    "    z = points[:,1]\n",
    "    for i in range(points.shape[0]):\n",
    "        ax.plot(x[i:i+2],z[i:i+2],'r-')\n",
    "    x_ = np.linspace(-R,R,10)\n",
    "    ax.plot(x_,np.zeros(np.shape(x_)),lw = 0.5)# draw a reference line, surface\n",
    "    ax.plot([x[0],x[-1]],[z[0],z[-1]],'r-')\n",
    "    ax.set_ylim(min(points[:,1])-10,5)\n",
    "    ax.set_xlim(-R,R)\n",
    "    \n",
    "def grav_calculate(points,x=None, R=70,ax = None,style = None):\n",
    "    if ax is None:\n",
    "        f,ax=plt.subplots()\n",
    "    if x is None:\n",
    "        x = np.linspace(-R,R,501)\n",
    "    y = np.zeros(np.shape(x))\n",
    "    obv = np.vstack((x,y)).T\n",
    "    gravity = []\n",
    "    for i in obv:\n",
    "        gravity.append(-g(points,i))\n",
    "    if style is None:\n",
    "        style = '-'\n",
    "    ax.plot(x,gravity,style)\n",
    "    return gravity\n",
    "    \n",
    "def plot_true(points,R = None,ax = None):\n",
    "    if R is None:\n",
    "        R =max(points[:,0])\n",
    "    if ax is None:\n",
    "        f , ax = plt.subplots(2 , sharex = True, figsize = (7,10))\n",
    "        \n",
    "    grav_calculate(points, R=max(points[:,0]),ax = ax[0])\n",
    "    draw(points,ax = ax[1],R=R)\n",
    "    \n",
    "    "
   ]
  },
  {
   "cell_type": "markdown",
   "metadata": {},
   "source": [
    "<b> \"note: if z is positive downward and x is positive to the right, then the polygen vertices must be specified clock-wise. \" --Won 1987"
   ]
  },
  {
   "cell_type": "code",
   "execution_count": 149,
   "metadata": {
    "ExecuteTime": {
     "end_time": "2019-12-10T17:53:44.567268Z",
     "start_time": "2019-12-10T17:53:44.563243Z"
    }
   },
   "outputs": [],
   "source": [
    "#define a pseudo boundary condition and corner points\n",
    "corners=np.array([[-200,-10],# bottom left coner\n",
    "              [200,-10], \n",
    "              [200,-3], # bottom right coner\n",
    "              [70, -3], # top right coner\n",
    "              [-70,-3],# top left coner\n",
    "              [-200,-3]])"
   ]
  },
  {
   "cell_type": "code",
   "execution_count": 150,
   "metadata": {
    "ExecuteTime": {
     "end_time": "2019-12-10T17:53:44.742334Z",
     "start_time": "2019-12-10T17:53:44.737457Z"
    }
   },
   "outputs": [
    {
     "data": {
      "text/plain": [
       "(6, 2)"
      ]
     },
     "execution_count": 150,
     "metadata": {},
     "output_type": "execute_result"
    }
   ],
   "source": [
    "corners.shape"
   ]
  },
  {
   "cell_type": "markdown",
   "metadata": {},
   "source": [
    "set up the problem"
   ]
  },
  {
   "cell_type": "code",
   "execution_count": 151,
   "metadata": {
    "ExecuteTime": {
     "end_time": "2019-12-10T17:53:45.297406Z",
     "start_time": "2019-12-10T17:53:45.290644Z"
    }
   },
   "outputs": [],
   "source": [
    "N = 10\n",
    "points = np.empty((N+6,2))\n",
    "\n",
    "for i in range(corners.shape[0]-2):\n",
    "    points[i] = corners[i]\n",
    "    \n",
    "points[-2]=corners[-2]\n",
    "points[-1]=corners[-1]\n",
    "\n",
    "np.random.seed(3)\n",
    "\n",
    "x = np.linspace(-70,70,N+2)\n",
    "\n",
    "y = np.random.uniform(min(corners[:,1]),max(corners[:,1]),N)"
   ]
  },
  {
   "cell_type": "code",
   "execution_count": 152,
   "metadata": {
    "ExecuteTime": {
     "end_time": "2019-12-10T17:53:45.796246Z",
     "start_time": "2019-12-10T17:53:45.791675Z"
    }
   },
   "outputs": [],
   "source": [
    "for i in range(N):\n",
    "    points[i+4][1] = y[i]\n",
    "for i in range(N):\n",
    "    points[i+4][0] = x[-i-2]"
   ]
  },
  {
   "cell_type": "code",
   "execution_count": 153,
   "metadata": {
    "ExecuteTime": {
     "end_time": "2019-12-10T17:53:46.338122Z",
     "start_time": "2019-12-10T17:53:45.887519Z"
    }
   },
   "outputs": [
    {
     "data": {
      "image/png": "[encoded data removed]",
      "text/plain": [
       "<Figure size 504x720 with 2 Axes>"
      ]
     },
     "metadata": {
      "needs_background": "light"
     },
     "output_type": "display_data"
    }
   ],
   "source": [
    "plot_results(points,70)"
   ]
  },
  {
   "cell_type": "code",
   "execution_count": 154,
   "metadata": {
    "ExecuteTime": {
     "end_time": "2019-12-10T17:53:46.831263Z",
     "start_time": "2019-12-10T17:53:46.360672Z"
    }
   },
   "outputs": [
    {
     "data": {
      "image/png": "[encoded data removed]",
      "text/plain": [
       "<Figure size 504x720 with 2 Axes>"
      ]
     },
     "metadata": {
      "needs_background": "light"
     },
     "output_type": "display_data"
    }
   ],
   "source": [
    "x_obs = np.linspace(-70., 70., 11)\n",
    "f,ax = plt.subplots(2,sharex = True,figsize = (7,10))\n",
    "plot_true(points,70,ax)\n",
    "obv_data = grav_calculate(points,x=x_obs,ax = ax[0],style='.')"
   ]
  },
  {
   "cell_type": "code",
   "execution_count": 167,
   "metadata": {
    "ExecuteTime": {
     "end_time": "2019-12-10T17:58:38.347709Z",
     "start_time": "2019-12-10T17:58:38.343516Z"
    }
   },
   "outputs": [],
   "source": [
    "noise = norm(0,0.0000001).rvs(len(obv_data))\n",
    "grav_obs_withnoise = obv_data+noise"
   ]
  },
  {
   "cell_type": "code",
   "execution_count": 173,
   "metadata": {
    "ExecuteTime": {
     "end_time": "2019-12-10T17:59:54.157477Z",
     "start_time": "2019-12-10T17:59:53.665152Z"
    }
   },
   "outputs": [
    {
     "data": {
      "text/plain": [
       "<matplotlib.collections.PathCollection at 0x1a3930e320>"
      ]
     },
     "execution_count": 173,
     "metadata": {},
     "output_type": "execute_result"
    },
    {
     "data": {
      "image/png": "[encoded data removed]",
      "text/plain": [
       "<Figure size 504x720 with 2 Axes>"
      ]
     },
     "metadata": {
      "needs_background": "light"
     },
     "output_type": "display_data"
    }
   ],
   "source": [
    "f,ax = plt.subplots(2,sharex = True,figsize = (7,10))\n",
    "plot_true(points,70,ax)\n",
    "ax[0].scatter(x_obs,grav_obs_withnoise,color='firebrick')"
   ]
  },
  {
   "cell_type": "code",
   "execution_count": 174,
   "metadata": {
    "ExecuteTime": {
     "end_time": "2019-12-10T18:40:36.205782Z",
     "start_time": "2019-12-10T18:40:36.203553Z"
    }
   },
   "outputs": [],
   "source": [
    "dtype = tf.float32"
   ]
  },
  {
   "cell_type": "code",
   "execution_count": 175,
   "metadata": {
    "ExecuteTime": {
     "end_time": "2019-12-10T18:40:38.324970Z",
     "start_time": "2019-12-10T18:40:38.316577Z"
    }
   },
   "outputs": [],
   "source": [
    "obv_data = grav_calculate(points,x=x_obs,ax = ax[0],style='.')"
   ]
  },
  {
   "cell_type": "code",
   "execution_count": null,
   "metadata": {},
   "outputs": [],
   "source": [
    "## initial the model\n",
    "y_ = np.random.normal(loc =c, scale = sigma2y, size = N)\n",
    "D = tf.convert_to_tensor(y_,dtype = tf.float32)\n",
    "\n",
    "## define the log probability\n",
    "def joint_log_prob(y,theta1,theta2):\n",
    "    # define random variables prior\n",
    "    mvn = tfd.MultivariateNormalFullCovariance(\n",
    "            loc = mu,\n",
    "            covariance_matrix= cov)\n",
    "    z = tf.stack([theta1, theta2], axis=-1)\n",
    "    # define likelihood\n",
    "    y = tfd.Normal(loc = tf.add(theta2,tf.pow(theta1,2.)), scale = sigma2y)\n",
    "    # return the posterior probability\n",
    "    return(mvn.log_prob(tf.squeeze(z))\n",
    "          +tf.reduce_sum(y.log_prob(D)))"
   ]
  },
  {
   "cell_type": "code",
   "execution_count": 177,
   "metadata": {
    "ExecuteTime": {
     "end_time": "2019-12-10T18:40:54.137952Z",
     "start_time": "2019-12-10T18:40:54.132785Z"
    }
   },
   "outputs": [
    {
     "data": {
      "text/plain": [
       "array([[-200.        ,  -10.        ],\n",
       "       [ 200.        ,  -10.        ],\n",
       "       [ 200.        ,   -3.        ],\n",
       "       [  70.        ,   -3.        ],\n",
       "       [  57.27272727,   -6.14441468],\n",
       "       [  44.54545455,   -5.04296524],\n",
       "       [  31.81818182,   -7.96366683],\n",
       "       [  19.09090909,   -6.42420676],\n",
       "       [   6.36363636,   -3.74937132],\n",
       "       [  -6.36363636,   -3.72594838],\n",
       "       [ -19.09090909,   -9.12090283],\n",
       "       [ -31.81818182,   -8.54929985],\n",
       "       [ -44.54545455,   -9.63972958],\n",
       "       [ -57.27272727,   -6.91433109],\n",
       "       [ -70.        ,   -3.        ],\n",
       "       [-200.        ,   -3.        ]])"
      ]
     },
     "execution_count": 177,
     "metadata": {},
     "output_type": "execute_result"
    }
   ],
   "source": [
    "points"
   ]
  },
  {
   "cell_type": "code",
   "execution_count": null,
   "metadata": {},
   "outputs": [],
   "source": [
    "x"
   ]
  },
  {
   "cell_type": "code",
   "execution_count": null,
   "metadata": {},
   "outputs": [],
   "source": []
  }
 ],
 "metadata": {
  "kernelspec": {
   "display_name": "Python 3",
   "language": "python",
   "name": "python3"
  },
  "language_info": {
   "codemirror_mode": {
    "name": "ipython",
    "version": 3
   },
   "file_extension": ".py",
   "mimetype": "text/x-python",
   "name": "python",
   "nbconvert_exporter": "python",
   "pygments_lexer": "ipython3",
   "version": "3.7.3"
  },
  "varInspector": {
   "cols": {
    "lenName": 16,
    "lenType": 16,
    "lenVar": 40
   },
   "kernels_config": {
    "python": {
     "delete_cmd_postfix": "",
     "delete_cmd_prefix": "del ",
     "library": "var_list.py",
     "varRefreshCmd": "print(var_dic_list())"
    },
    "r": {
     "delete_cmd_postfix": ") ",
     "delete_cmd_prefix": "rm(",
     "library": "var_list.r",
     "varRefreshCmd": "cat(var_dic_list()) "
    }
   },
   "types_to_exclude": [
    "module",
    "function",
    "builtin_function_or_method",
    "instance",
    "_Feature"
   ],
   "window_display": false
  }
 },
 "nbformat": 4,
 "nbformat_minor": 2
}
