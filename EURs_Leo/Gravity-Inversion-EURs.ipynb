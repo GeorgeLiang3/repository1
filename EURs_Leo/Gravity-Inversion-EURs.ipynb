{
 "cells": [
  {
   "cell_type": "markdown",
   "metadata": {
    "ExecuteTime": {
     "end_time": "2020-12-15T13:11:50.938712Z",
     "start_time": "2020-12-15T13:11:50.935983Z"
    }
   },
   "source": [
    "# Non-linear Gravity Inversion"
   ]
  },
  {
   "cell_type": "code",
   "execution_count": 3,
   "metadata": {
    "ExecuteTime": {
     "end_time": "2020-12-15T13:19:53.533310Z",
     "start_time": "2020-12-15T13:19:53.530502Z"
    }
   },
   "outputs": [],
   "source": [
    "import numpy as np\n",
    "import matplotlib.pyplot as plt\n",
    "\n",
    "import cheatcodes as cc"
   ]
  },
  {
   "cell_type": "code",
   "execution_count": 62,
   "metadata": {
    "ExecuteTime": {
     "end_time": "2020-12-15T14:56:33.183793Z",
     "start_time": "2020-12-15T14:56:33.178332Z"
    }
   },
   "outputs": [
    {
     "name": "stdout",
     "output_type": "stream",
     "text": [
      "(0, 100000.0)\n",
      "[  10.10105917   18.81092435   29.38998081   42.16839388   57.51774684\n",
      "   75.85246428   97.63037844  123.35222519  153.55985009  188.83290654\n",
      "  229.78383989  277.05097454  331.28955675  393.1606554   463.31788573\n",
      "  542.39199706  630.97345373  729.59323554  838.70218841  958.64936255\n",
      " 1089.65988011 1231.81297121 1385.02090173 1549.00958058 1723.30167502\n",
      " 1907.20307243 2099.79350393 2299.92208393 2506.20842163 2717.04982321\n",
      " 2930.63493217 3144.96395261 3357.87537423 3567.07887609 3770.19383914\n",
      " 3964.79265602 4148.44780248 4318.78143888 4473.51615424 4610.52535757\n",
      " 4727.88177002 4823.90248153 4897.18910944 4946.66173395 4971.58548322\n",
      " 4971.58889307 4946.67346668 4897.21419639 4823.95117457 4727.97279851\n",
      " 4610.69145219 4473.81290687 4319.30099926 4149.33939015 3966.2923388\n",
      " 3772.66640115 3571.07472151 3364.2050895  3154.79214739 2945.59306685\n",
      " 2739.36473798 2538.83917762 2346.69270631 2165.50377716 1997.6945141\n",
      " 1845.45234455 1710.63077305 1594.63228888 1498.28126903 1421.69982545\n",
      " 1364.20386762 1324.23908356 1299.37606027 1286.37970806 1281.36048532\n",
      " 1280.00436832 1277.86656035 1270.70261956 1254.80221173 1227.28696229\n",
      " 1186.33602894 1131.31108729 1062.765288    982.33628338  892.53894688\n",
      "  796.4862351   697.57464821  599.17280554  504.34781951  415.65556423\n",
      "  335.00950302  263.63067355  202.0707732   150.29253113  107.78743462\n",
      "   73.71036175   47.0131077    26.56315486   11.23920733    0.        ]\n"
     ]
    }
   ],
   "source": [
    "depths, basin_boundaries = cc.synthetic_model()\n",
    "\n",
    "print(basin_boundaries)\n",
    "print(depths)"
   ]
  },
  {
   "cell_type": "code",
   "execution_count": 5,
   "metadata": {
    "ExecuteTime": {
     "end_time": "2020-12-15T13:21:09.222606Z",
     "start_time": "2020-12-15T13:21:08.961949Z"
    }
   },
   "outputs": [
    {
     "data": {
      "text/plain": [
       "<AxesSubplot:xlabel='x [km]', ylabel='depth [km]'>"
      ]
     },
     "execution_count": 5,
     "metadata": {},
     "output_type": "execute_result"
    },
    {
     "data": {
      "image/png": "[encoded data removed]",
      "text/plain": [
       "<Figure size 648x216 with 1 Axes>"
      ]
     },
     "metadata": {
      "needs_background": "light"
     },
     "output_type": "display_data"
    }
   ],
   "source": [
    "cc.plot_prisms(depths, basin_boundaries)"
   ]
  },
  {
   "cell_type": "code",
   "execution_count": 6,
   "metadata": {
    "ExecuteTime": {
     "end_time": "2020-12-15T13:21:15.438934Z",
     "start_time": "2020-12-15T13:21:15.266016Z"
    }
   },
   "outputs": [
    {
     "data": {
      "image/png": "[encoded data removed]",
      "text/plain": [
       "<Figure size 648x216 with 1 Axes>"
      ]
     },
     "metadata": {
      "needs_background": "light"
     },
     "output_type": "display_data"
    }
   ],
   "source": [
    "\n",
    "x = np.linspace(-5e3, 105e3, 60)\n",
    "density = -300  # kg/m³\n",
    "data = cc.forward_model(depths, basin_boundaries, density, x)\n",
    "\n",
    "plt.figure(figsize=(9, 3))\n",
    "plt.plot(x / 1000, data, \".k\")\n",
    "plt.xlabel(\"x [km]\")\n",
    "plt.ylabel(\"gravity disturbance [mGal]\")\n",
    "plt.show()"
   ]
  },
  {
   "cell_type": "code",
   "execution_count": 11,
   "metadata": {
    "ExecuteTime": {
     "end_time": "2020-12-15T13:30:54.838399Z",
     "start_time": "2020-12-15T13:30:54.832183Z"
    }
   },
   "outputs": [],
   "source": [
    "def make_jacobian(parameters, basin_boundaries, density, x):\n",
    "    \"\"\"\n",
    "    Calculate the Jacobian matrix by finite differences.\n",
    "    \"\"\"\n",
    "    jacobian = np.empty((x.size, parameters.size))\n",
    "    step = np.zeros_like(parameters)\n",
    "    delta = 10\n",
    "    for j in range(jacobian.shape[1]):\n",
    "        step[j] += delta\n",
    "        jacobian[:, j] = (\n",
    "            (\n",
    "                cc.forward_model(parameters + step, basin_boundaries, density, x)\n",
    "                - cc.forward_model(parameters, basin_boundaries, density, x)\n",
    "            ) \n",
    "            / delta\n",
    "        )\n",
    "        step[j] = 0\n",
    "    return jacobian"
   ]
  },
  {
   "cell_type": "code",
   "execution_count": 12,
   "metadata": {
    "ExecuteTime": {
     "end_time": "2020-12-15T13:30:55.897011Z",
     "start_time": "2020-12-15T13:30:55.167176Z"
    }
   },
   "outputs": [
    {
     "data": {
      "image/png": "[encoded data removed]",
      "text/plain": [
       "<Figure size 432x288 with 2 Axes>"
      ]
     },
     "metadata": {
      "needs_background": "light"
     },
     "output_type": "display_data"
    }
   ],
   "source": [
    "parameters = np.full(30,1000)\n",
    "jacobian = make_jacobian(parameters, basin_boundaries, density, x)\n",
    "plt.figure()\n",
    "plt.imshow(jacobian)\n",
    "plt.colorbar(label=\"mGal/m\")\n",
    "plt.xlabel(\"columns\")\n",
    "plt.ylabel(\"rows\")\n",
    "plt.show()"
   ]
  },
  {
   "cell_type": "markdown",
   "metadata": {},
   "source": [
    "# Solve the inverse problem"
   ]
  },
  {
   "cell_type": "code",
   "execution_count": 19,
   "metadata": {
    "ExecuteTime": {
     "end_time": "2020-12-15T14:14:17.251380Z",
     "start_time": "2020-12-15T14:14:15.473886Z"
    }
   },
   "outputs": [],
   "source": [
    "inital = np.full(30, 1000)\n",
    "\n",
    "# Gauss-Newton optimization\n",
    "\n",
    "paramaters = inital.copy().astype(np.float64)\n",
    "\n",
    "max_interations = 5\n",
    "\n",
    "for i in range(max_interations):\n",
    "    predicted = cc.forward_model(paramaters, basin_boundaries, density, x)\n",
    "    residuals = data - predicted \n",
    "    jacobian = make_jacobian(paramaters, basin_boundaries, density, x)\n",
    "\n",
    "    hessian =jacobian.T @ jacobian\n",
    "    gradient = jacobian.T @ residuals\n",
    "    deltap = np.linalg.solve(hessian,gradient)\n",
    "\n",
    "    paramaters += deltap\n"
   ]
  },
  {
   "cell_type": "code",
   "execution_count": 21,
   "metadata": {
    "ExecuteTime": {
     "end_time": "2020-12-15T14:16:16.125752Z",
     "start_time": "2020-12-15T14:16:15.895856Z"
    }
   },
   "outputs": [
    {
     "data": {
      "text/plain": [
       "[<matplotlib.lines.Line2D at 0x7ff1f3e60cc0>]"
      ]
     },
     "execution_count": 21,
     "metadata": {},
     "output_type": "execute_result"
    },
    {
     "data": {
      "image/png": "[encoded data removed]",
      "text/plain": [
       "<Figure size 432x288 with 1 Axes>"
      ]
     },
     "metadata": {
      "needs_background": "light"
     },
     "output_type": "display_data"
    }
   ],
   "source": [
    "predicted = cc.forward_model(paramaters, basin_boundaries, density, x)\n",
    "plt.plot(x, predicted, '-r')"
   ]
  },
  {
   "cell_type": "markdown",
   "metadata": {},
   "source": [
    "# add noise"
   ]
  },
  {
   "cell_type": "code",
   "execution_count": 27,
   "metadata": {
    "ExecuteTime": {
     "end_time": "2020-12-15T14:18:19.765592Z",
     "start_time": "2020-12-15T14:18:19.762258Z"
    }
   },
   "outputs": [],
   "source": [
    "noise_data = data + np.random.normal(scale = 0.5,size = data.shape)"
   ]
  },
  {
   "cell_type": "code",
   "execution_count": 28,
   "metadata": {
    "ExecuteTime": {
     "end_time": "2020-12-15T14:18:35.828856Z",
     "start_time": "2020-12-15T14:18:33.643850Z"
    }
   },
   "outputs": [],
   "source": [
    "inital = np.full(30, 1000)\n",
    "\n",
    "# Gauss-Newton optimization\n",
    "\n",
    "paramaters = inital.copy().astype(np.float64)\n",
    "\n",
    "max_interations = 5\n",
    "\n",
    "for i in range(max_interations):\n",
    "    predicted = cc.forward_model(paramaters, basin_boundaries, density, x)\n",
    "    residuals = noise_data - predicted \n",
    "    jacobian = make_jacobian(paramaters, basin_boundaries, density, x)\n",
    "\n",
    "    hessian =jacobian.T @ jacobian\n",
    "    gradient = jacobian.T @ residuals\n",
    "    deltap = np.linalg.solve(hessian,gradient)\n",
    "\n",
    "    paramaters += deltap"
   ]
  },
  {
   "cell_type": "code",
   "execution_count": 29,
   "metadata": {
    "ExecuteTime": {
     "end_time": "2020-12-15T14:18:40.925659Z",
     "start_time": "2020-12-15T14:18:40.759723Z"
    }
   },
   "outputs": [
    {
     "data": {
      "text/plain": [
       "[<matplotlib.lines.Line2D at 0x7ff1f4226a58>]"
      ]
     },
     "execution_count": 29,
     "metadata": {},
     "output_type": "execute_result"
    },
    {
     "data": {
      "image/png": "[encoded data removed]",
      "text/plain": [
       "<Figure size 432x288 with 1 Axes>"
      ]
     },
     "metadata": {
      "needs_background": "light"
     },
     "output_type": "display_data"
    }
   ],
   "source": [
    "predicted = cc.forward_model(paramaters, basin_boundaries, density, x)\n",
    "plt.plot(x, predicted, '-r')"
   ]
  },
  {
   "cell_type": "code",
   "execution_count": 30,
   "metadata": {
    "ExecuteTime": {
     "end_time": "2020-12-15T14:25:42.685607Z",
     "start_time": "2020-12-15T14:25:42.500565Z"
    }
   },
   "outputs": [
    {
     "data": {
      "text/plain": [
       "<AxesSubplot:xlabel='x [km]', ylabel='depth [km]'>"
      ]
     },
     "execution_count": 30,
     "metadata": {},
     "output_type": "execute_result"
    },
    {
     "data": {
      "image/png": "[encoded data removed]",
      "text/plain": [
       "<Figure size 648x216 with 1 Axes>"
      ]
     },
     "metadata": {
      "needs_background": "light"
     },
     "output_type": "display_data"
    }
   ],
   "source": [
    "cc.plot_prisms(paramaters,basin_boundaries)"
   ]
  },
  {
   "cell_type": "markdown",
   "metadata": {},
   "source": [
    "# Add smoothness regularization"
   ]
  },
  {
   "cell_type": "code",
   "execution_count": 32,
   "metadata": {
    "ExecuteTime": {
     "end_time": "2020-12-15T14:42:25.543262Z",
     "start_time": "2020-12-15T14:42:25.539437Z"
    }
   },
   "outputs": [],
   "source": [
    "nparams = parameters.size\n",
    "R = np.zeros((nparams - 1, nparams))\n",
    "for i in range(nparams -1):\n",
    "    R[i, i] = -1\n",
    "    R[i, i + 1] = 1\n"
   ]
  },
  {
   "cell_type": "code",
   "execution_count": 42,
   "metadata": {
    "ExecuteTime": {
     "end_time": "2020-12-15T14:45:19.244394Z",
     "start_time": "2020-12-15T14:45:17.285202Z"
    }
   },
   "outputs": [],
   "source": [
    "inital = np.full(30, 1000)\n",
    "\n",
    "# Gauss-Newton optimization\n",
    "smoothness = 1e-5\n",
    "\n",
    "parameters = inital.copy().astype(np.float64)\n",
    "\n",
    "max_interations = 5\n",
    "\n",
    "for i in range(max_interations):\n",
    "    predicted = cc.forward_model(parameters, basin_boundaries, density, x)\n",
    "    residuals = noise_data - predicted \n",
    "    jacobian = make_jacobian(parameters, basin_boundaries, density, x)\n",
    "\n",
    "    hessian =jacobian.T @ jacobian + smoothness * R.T @ R\n",
    "    gradient = jacobian.T @ residuals - smoothness * R.T @ R @parameters\n",
    "    deltap = np.linalg.solve(hessian,gradient)\n",
    "\n",
    "    parameters += deltap"
   ]
  },
  {
   "cell_type": "code",
   "execution_count": 43,
   "metadata": {
    "ExecuteTime": {
     "end_time": "2020-12-15T14:45:19.496854Z",
     "start_time": "2020-12-15T14:45:19.325747Z"
    }
   },
   "outputs": [
    {
     "data": {
      "text/plain": [
       "<AxesSubplot:xlabel='x [km]', ylabel='depth [km]'>"
      ]
     },
     "execution_count": 43,
     "metadata": {},
     "output_type": "execute_result"
    },
    {
     "data": {
      "image/png": "[encoded data removed]",
      "text/plain": [
       "<Figure size 648x216 with 1 Axes>"
      ]
     },
     "metadata": {
      "needs_background": "light"
     },
     "output_type": "display_data"
    }
   ],
   "source": [
    "cc.plot_prisms(parameters,basin_boundaries)"
   ]
  },
  {
   "cell_type": "markdown",
   "metadata": {},
   "source": [
    "# Add a fault to the model"
   ]
  },
  {
   "cell_type": "code",
   "execution_count": 69,
   "metadata": {
    "ExecuteTime": {
     "end_time": "2020-12-15T14:57:07.845951Z",
     "start_time": "2020-12-15T14:57:07.841403Z"
    }
   },
   "outputs": [],
   "source": [
    "faults_depths = depths.copy()\n",
    "faults_depths[0:30] = faults_depths[0:30]/3"
   ]
  },
  {
   "cell_type": "code",
   "execution_count": 70,
   "metadata": {
    "ExecuteTime": {
     "end_time": "2020-12-15T14:57:08.272563Z",
     "start_time": "2020-12-15T14:57:08.022664Z"
    }
   },
   "outputs": [
    {
     "data": {
      "text/plain": [
       "[<matplotlib.lines.Line2D at 0x7ff1f6ee9e48>]"
      ]
     },
     "execution_count": 70,
     "metadata": {},
     "output_type": "execute_result"
    },
    {
     "data": {
      "image/png": "[encoded data removed]",
      "text/plain": [
       "<Figure size 432x288 with 1 Axes>"
      ]
     },
     "metadata": {
      "needs_background": "light"
     },
     "output_type": "display_data"
    }
   ],
   "source": [
    "plt.plot(-faults_depths)"
   ]
  },
  {
   "cell_type": "code",
   "execution_count": 71,
   "metadata": {
    "ExecuteTime": {
     "end_time": "2020-12-15T14:57:21.096524Z",
     "start_time": "2020-12-15T14:57:21.053872Z"
    }
   },
   "outputs": [],
   "source": [
    "x = np.linspace(-5e3, 105e3, 60)\n",
    "density = -300  # kg/m³\n",
    "fault_data = cc.forward_model(faults_depths, basin_boundaries, density, x)"
   ]
  },
  {
   "cell_type": "code",
   "execution_count": 74,
   "metadata": {
    "ExecuteTime": {
     "end_time": "2020-12-15T14:58:29.478704Z",
     "start_time": "2020-12-15T14:58:27.612997Z"
    }
   },
   "outputs": [],
   "source": [
    "inital = np.full(30, 1000)\n",
    "\n",
    "# Gauss-Newton optimization\n",
    "smoothness = 1e-5\n",
    "\n",
    "parameters = inital.copy().astype(np.float64)\n",
    "\n",
    "max_interations = 5\n",
    "\n",
    "for i in range(max_interations):\n",
    "    predicted = cc.forward_model(parameters, basin_boundaries, density, x)\n",
    "    residuals = fault_data - predicted \n",
    "    jacobian = make_jacobian(parameters, basin_boundaries, density, x)\n",
    "\n",
    "    hessian =jacobian.T @ jacobian \n",
    "    gradient = jacobian.T @ residuals \n",
    "    deltap = np.linalg.solve(hessian,gradient)\n",
    "\n",
    "    parameters += deltap"
   ]
  },
  {
   "cell_type": "code",
   "execution_count": 75,
   "metadata": {
    "ExecuteTime": {
     "end_time": "2020-12-15T14:58:29.717375Z",
     "start_time": "2020-12-15T14:58:29.557770Z"
    }
   },
   "outputs": [
    {
     "data": {
      "text/plain": [
       "<AxesSubplot:xlabel='x [km]', ylabel='depth [km]'>"
      ]
     },
     "execution_count": 75,
     "metadata": {},
     "output_type": "execute_result"
    },
    {
     "data": {
      "image/png": "[encoded data removed]",
      "text/plain": [
       "<Figure size 648x216 with 1 Axes>"
      ]
     },
     "metadata": {
      "needs_background": "light"
     },
     "output_type": "display_data"
    }
   ],
   "source": [
    "cc.plot_prisms(parameters,basin_boundaries)"
   ]
  },
  {
   "cell_type": "markdown",
   "metadata": {},
   "source": [
    "add noise"
   ]
  },
  {
   "cell_type": "code",
   "execution_count": 76,
   "metadata": {
    "ExecuteTime": {
     "end_time": "2020-12-15T14:59:06.502117Z",
     "start_time": "2020-12-15T14:59:06.498809Z"
    }
   },
   "outputs": [],
   "source": [
    "noise_fault_data = fault_data + np.random.normal(scale = 0.5,size = fault_data.shape)"
   ]
  },
  {
   "cell_type": "code",
   "execution_count": 77,
   "metadata": {
    "ExecuteTime": {
     "end_time": "2020-12-15T14:59:58.408215Z",
     "start_time": "2020-12-15T14:59:56.183531Z"
    }
   },
   "outputs": [],
   "source": [
    "inital = np.full(30, 1000)\n",
    "\n",
    "# Gauss-Newton optimization\n",
    "smoothness = 1e-5\n",
    "\n",
    "parameters = inital.copy().astype(np.float64)\n",
    "\n",
    "max_interations = 5\n",
    "\n",
    "for i in range(max_interations):\n",
    "    predicted = cc.forward_model(parameters, basin_boundaries, density, x)\n",
    "    residuals = noise_fault_data - predicted \n",
    "    jacobian = make_jacobian(parameters, basin_boundaries, density, x)\n",
    "\n",
    "    hessian =jacobian.T @ jacobian \n",
    "    gradient = jacobian.T @ residuals\n",
    "    deltap = np.linalg.solve(hessian,gradient)\n",
    "\n",
    "    parameters += deltap"
   ]
  },
  {
   "cell_type": "code",
   "execution_count": 78,
   "metadata": {
    "ExecuteTime": {
     "end_time": "2020-12-15T15:00:00.411164Z",
     "start_time": "2020-12-15T14:59:58.493073Z"
    }
   },
   "outputs": [],
   "source": [
    "inital = np.full(30, 1000)\n",
    "\n",
    "# Gauss-Newton optimization\n",
    "smoothness = 1e-5\n",
    "\n",
    "parameters = inital.copy().astype(np.float64)\n",
    "\n",
    "max_interations = 5\n",
    "\n",
    "for i in range(max_interations):\n",
    "    predicted = cc.forward_model(parameters, basin_boundaries, density, x)\n",
    "    residuals = noise_fault_data - predicted \n",
    "    jacobian = make_jacobian(parameters, basin_boundaries, density, x)\n",
    "\n",
    "    hessian =jacobian.T @ jacobian + smoothness * R.T @ R\n",
    "    gradient = jacobian.T @ residuals - smoothness * R.T @ R @parameters\n",
    "    deltap = np.linalg.solve(hessian,gradient)\n",
    "\n",
    "    parameters += deltap"
   ]
  },
  {
   "cell_type": "code",
   "execution_count": null,
   "metadata": {},
   "outputs": [],
   "source": []
  }
 ],
 "metadata": {
  "kernelspec": {
   "display_name": "Python (env_pytorch)",
   "language": "python",
   "name": "env_pytorch"
  },
  "language_info": {
   "codemirror_mode": {
    "name": "ipython",
    "version": 3
   },
   "file_extension": ".py",
   "mimetype": "text/x-python",
   "name": "python",
   "nbconvert_exporter": "python",
   "pygments_lexer": "ipython3",
   "version": "3.6.11"
  },
  "varInspector": {
   "cols": {
    "lenName": 16,
    "lenType": 16,
    "lenVar": 40
   },
   "kernels_config": {
    "python": {
     "delete_cmd_postfix": "",
     "delete_cmd_prefix": "del ",
     "library": "var_list.py",
     "varRefreshCmd": "print(var_dic_list())"
    },
    "r": {
     "delete_cmd_postfix": ") ",
     "delete_cmd_prefix": "rm(",
     "library": "var_list.r",
     "varRefreshCmd": "cat(var_dic_list()) "
    }
   },
   "types_to_exclude": [
    "module",
    "function",
    "builtin_function_or_method",
    "instance",
    "_Feature"
   ],
   "window_display": false
  }
 },
 "nbformat": 4,
 "nbformat_minor": 4
}
