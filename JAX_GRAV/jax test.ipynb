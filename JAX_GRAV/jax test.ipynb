{
 "cells": [
  {
   "source": [
    "from jax import grad, jit\n",
    "from jax import random\n",
    "import jax.numpy as np\n",
    "from jax.ops import index, index_add, index_update"
   ],
   "cell_type": "code",
   "outputs": [],
   "metadata": {},
   "execution_count": 1
  },
  {
   "source": [
    "jax_array = np.zeros((3, 3))\n",
    "print(\"original array:\")\n",
    "print(jax_array)"
   ],
   "cell_type": "code",
   "outputs": [
    {
     "output_type": "stream",
     "name": "stdout",
     "text": "original array:\n[[0. 0. 0.]\n [0. 0. 0.]\n [0. 0. 0.]]\n/Users/zhouji/anaconda3/envs/jax/lib/python3.8/site-packages/jax/lib/xla_bridge.py:119: UserWarning: No GPU/TPU found, falling back to CPU.\n  warnings.warn('No GPU/TPU found, falling back to CPU.')\n"
    }
   ],
   "metadata": {},
   "execution_count": 2
  },
  {
   "source": [
    "def f(array):\n",
    "    return array[1,1]**5"
   ],
   "cell_type": "code",
   "outputs": [],
   "metadata": {},
   "execution_count": 3
  },
  {
   "source": [
    "new_jax_array = index_update(jax_array, index[1,:], 2.)\n",
    "print(new_jax_array)"
   ],
   "cell_type": "code",
   "outputs": [
    {
     "output_type": "stream",
     "name": "stdout",
     "text": "[[0. 0. 0.]\n [2. 2. 2.]\n [0. 0. 0.]]\n"
    }
   ],
   "metadata": {},
   "execution_count": 4
  },
  {
   "source": [
    "grad(f)(new_jax_array)"
   ],
   "cell_type": "code",
   "outputs": [
    {
     "output_type": "execute_result",
     "data": {
      "text/plain": "DeviceArray([[ 0.,  0.,  0.],\n             [ 0., 80.,  0.],\n             [ 0.,  0.,  0.]], dtype=float32)"
     },
     "metadata": {},
     "execution_count": 5
    }
   ],
   "metadata": {},
   "execution_count": 5
  },
  {
   "source": [
    "depth = -20\n",
    "thickness = 20\n",
    "\n",
    "corners=np.array([[-200,depth-thickness],\n",
    "                  [-70,depth-thickness],\n",
    "                  [70,depth-thickness],# bottom left coner\n",
    "              [200,depth-thickness], \n",
    "              [200,depth], # bottom right coner\n",
    "              [70, depth], # top right coner\n",
    "              [-70,depth],# top left coner\n",
    "              [-200,depth]])\n",
    "Number_para = 3\n",
    "obs_N = 8\n",
    "points = np.empty((2*Number_para+8,2),dtype = np.float32)"
   ],
   "cell_type": "code",
   "outputs": [],
   "metadata": {},
   "execution_count": 6
  },
  {
   "source": [
    "points = index_update(points,index[0],corners[0])\n",
    "points = index_update(points,index[1],corners[1])\n",
    "\n",
    "for i in range(6):\n",
    "    points = index_update(points, index[Number_para+i],corners[i])\n",
    "points=index_update(points,index[-2],corners[-2])\n",
    "points=index_update(points,index[-1],corners[-1])"
   ],
   "cell_type": "code",
   "outputs": [],
   "metadata": {},
   "execution_count": 7
  },
  {
   "source": [
    "points"
   ],
   "cell_type": "code",
   "outputs": [
    {
     "output_type": "execute_result",
     "data": {
      "text/plain": "DeviceArray([[-200.,  -40.],\n             [ -70.,  -40.],\n             [   0.,    0.],\n             [-200.,  -40.],\n             [ -70.,  -40.],\n             [  70.,  -40.],\n             [ 200.,  -40.],\n             [ 200.,  -20.],\n             [  70.,  -20.],\n             [   0.,    0.],\n             [   0.,    0.],\n             [   0.,    0.],\n             [ -70.,  -20.],\n             [-200.,  -20.]], dtype=float32)"
     },
     "metadata": {},
     "execution_count": 8
    }
   ],
   "metadata": {},
   "execution_count": 8
  },
  {
   "cell_type": "code",
   "execution_count": 97,
   "metadata": {
    "ExecuteTime": {
     "end_time": "2020-01-27T16:00:41.266471Z",
     "start_time": "2020-01-27T16:00:41.257683Z"
    }
   },
   "outputs": [
    {
     "ename": "NameError",
     "evalue": "name 'jax' is not defined",
     "output_type": "error",
     "traceback": [
      "\u001b[0;31m---------------------------------------------------------------------------\u001b[0m",
      "\u001b[0;31mNameError\u001b[0m                                 Traceback (most recent call last)",
      "\u001b[0;32m<ipython-input-97-aa90338374a4>\u001b[0m in \u001b[0;36m<module>\u001b[0;34m\u001b[0m\n\u001b[0;32m----> 1\u001b[0;31m \u001b[0mjax\u001b[0m\u001b[0;34m.\u001b[0m\u001b[0mrandom\u001b[0m\u001b[0;34m.\u001b[0m\u001b[0mseed\u001b[0m\u001b[0;34m(\u001b[0m\u001b[0;36m1\u001b[0m\u001b[0;34m)\u001b[0m\u001b[0;34m\u001b[0m\u001b[0;34m\u001b[0m\u001b[0m\n\u001b[0m",
      "\u001b[0;31mNameError\u001b[0m: name 'jax' is not defined"
     ]
    }
   ],
   "source": [
    "jax.random.seed(1)"
   ]
  },
  {
   "cell_type": "code",
   "execution_count": null,
   "metadata": {},
   "outputs": [],
   "source": []
  }
 ],
 "metadata": {
  "kernelspec": {
   "display_name": "Python 3.8.1 64-bit ('jax': conda)",
   "language": "python",
   "name": "python38164bitjaxcondae3be40ca6ca9473cb22ee62a47f1942d"
  },
  "language_info": {
   "codemirror_mode": {
    "name": "ipython",
    "version": 3
   },
   "file_extension": ".py",
   "mimetype": "text/x-python",
   "name": "python",
   "nbconvert_exporter": "python",
   "pygments_lexer": "ipython3",
   "version": "3.8.1-final"
  },
  "varInspector": {
   "cols": {
    "lenName": 16,
    "lenType": 16,
    "lenVar": 40
   },
   "kernels_config": {
    "python": {
     "delete_cmd_postfix": "",
     "delete_cmd_prefix": "del ",
     "library": "var_list.py",
     "varRefreshCmd": "print(var_dic_list())"
    },
    "r": {
     "delete_cmd_postfix": ") ",
     "delete_cmd_prefix": "rm(",
     "library": "var_list.r",
     "varRefreshCmd": "cat(var_dic_list()) "
    }
   },
   "types_to_exclude": [
    "module",
    "function",
    "builtin_function_or_method",
    "instance",
    "_Feature"
   ],
   "window_display": false
  }
 },
 "nbformat": 4,
 "nbformat_minor": 2
}