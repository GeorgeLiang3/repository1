{
 "cells": [
  {
   "cell_type": "code",
   "execution_count": 182,
   "metadata": {
    "ExecuteTime": {
     "end_time": "2021-02-24T12:39:05.213630Z",
     "start_time": "2021-02-24T12:39:05.205946Z"
    }
   },
   "outputs": [],
   "source": [
    "import numpy.matlib\n",
    "import numpy as np\n",
    "import matplotlib.pyplot as plt\n",
    "from scipy import ndimage\n",
    "import timeit\n",
    "\n",
    "import tensorflow as tf\n",
    "import tensorflow_probability as tfp\n",
    "import matplotlib.animation as animation\n",
    "tfd = tfp.distributions\n",
    "tfdtype = tf.float32"
   ]
  },
  {
   "cell_type": "code",
   "execution_count": 183,
   "metadata": {
    "ExecuteTime": {
     "end_time": "2021-02-24T12:39:06.108139Z",
     "start_time": "2021-02-24T12:39:06.095181Z"
    }
   },
   "outputs": [],
   "source": [
    "class SVN:\n",
    "    def __init__(self, model, *arg):\n",
    "        self.model = model\n",
    "        self.DoF = model.DoF\n",
    "        self.nParticles = 100\n",
    "        self.nIterations = 100\n",
    "        self.stepsize = 1\n",
    "        # self.MAP = self.model.getMAP( np.random.normal( size = self.DoF ) )[:,np.newaxis]\n",
    "        if len(arg) == 0:\n",
    "            self.resetParticles()\n",
    "        else:\n",
    "            self.particles = arg[0]\n",
    "        \n",
    "    def apply(self,debug = False):\n",
    "        maxmaxshiftold = np.inf\n",
    "        maxshift = np.zeros(self.nParticles)\n",
    "        Q = np.zeros( (self.DoF, self.nParticles) )\n",
    "        for iter_ in range(self.nIterations):\n",
    "            F = self.model.getForwardModel(self.particles)\n",
    "            J = self.model.getJacobianForwardModel(self.particles)\n",
    "            gmlpt  = self.model.getGradientMinusLogPosterior(self.particles, F, J)\n",
    "            Hmlpt  = self.model.getGNHessianMinusLogPosterior(self.particles, J)\n",
    "            M = np.mean(Hmlpt, 2)\n",
    "            \n",
    "            for i_ in range(self.nParticles):\n",
    "                sign_diff = self.particles[:,i_,np.newaxis] - self.particles\n",
    "                Msd   = np.matmul(M, sign_diff)\n",
    "                kern  = np.exp( - 0.5 * np.sum( sign_diff * Msd, 0 ) )\n",
    "                gkern = Msd * kern\n",
    "                \n",
    "                mgJ = np.mean(- gmlpt * kern + gkern , 1)\n",
    "                HJ  = np.mean(Hmlpt * kern ** 2, 2) + np.matmul(gkern, gkern.T) / self.nParticles\n",
    "                Q[:,i_] = np.linalg.solve(HJ, mgJ)\n",
    "                if debug == True:\n",
    "                  print('HJ:',HJ)\n",
    "                maxshift[i_] = np.linalg.norm(Q[:,i_], np.inf)\n",
    "\n",
    "            if debug == True:\n",
    "              print('Q:',Q)\n",
    "              print('increment:',self.stepsize * Q)  \n",
    "            self.particles += self.stepsize * Q\n",
    "            maxmaxshift = np.max(maxshift)\n",
    "            \n",
    "            if np.isnan(maxmaxshift) or (maxmaxshift > 1e20):\n",
    "                print('Reset particles...')\n",
    "                self.resetParticles()\n",
    "                self.stepsize = 1\n",
    "            elif maxmaxshift < maxmaxshiftold:\n",
    "                self.stepsize *= 1.01\n",
    "            else:\n",
    "                self.stepsize *= 0.9\n",
    "            maxmaxshiftold = maxmaxshift\n",
    "                          \n",
    "    def resetParticles(self):\n",
    "        self.particles = np.random.normal( scale = 1, size = (self.DoF, self.nParticles) )\n"
   ]
  },
  {
   "cell_type": "code",
   "execution_count": 184,
   "metadata": {
    "ExecuteTime": {
     "end_time": "2021-02-24T12:39:06.368672Z",
     "start_time": "2021-02-24T12:39:06.347135Z"
    }
   },
   "outputs": [],
   "source": [
    "class GAUSSIAN():\n",
    "    def __init__(self):\n",
    "        self.DoF = 2\n",
    "        self.nData = 1\n",
    "        self.mu0 = np.zeros((self.DoF, 1))\n",
    "        self.std0 = np.ones((self.DoF,1))\n",
    "        self.var0 = self.std0 ** 2\n",
    "        self.stdn = 0.3\n",
    "        self.varn = self.stdn ** 2\n",
    "        \n",
    "        np.random.seed(40)\n",
    "        self.A    = np.random.normal( size = (self.DoF, 1) )\n",
    "        self.thetaTrue = np.random.normal(size = self.DoF)\n",
    "        self.data = self.simulateData()\n",
    "        \n",
    "    def getForwardModel(self, thetas):\n",
    "        nSamples = thetas.size // self.DoF\n",
    "        thetas = thetas.reshape(self.DoF, nSamples)\n",
    "        tmp = np.sum(self.A * thetas, 0)\n",
    "        return tmp if nSamples > 1 else tmp.squeeze()\n",
    "    \n",
    "    def getJacobianForwardModel(self, thetas):\n",
    "        nSamples = thetas.size // self.DoF\n",
    "        thetas = thetas.reshape(self.DoF, nSamples)\n",
    "        tmp = np.matlib.repmat(self.A, 1, nSamples)\n",
    "        return tmp if nSamples > 1 else tmp.squeeze()\n",
    "        \n",
    "    def simulateData(self):\n",
    "        noise = np.random.normal( scale = self.stdn, size = (1, self.nData) )\n",
    "        return self.getForwardModel(self.thetaTrue) + np.random.normal( scale = self.stdn, size = (1, self.nData) )\n",
    "        \n",
    "    def getMinusLogPrior(self, thetas):\n",
    "        nSamples = thetas.size // self.DoF\n",
    "        thetas = thetas.reshape(self.DoF, nSamples)\n",
    "        shift = thetas - self.mu0\n",
    "        tmp = 0.5 * np.sum( shift ** 2 / self.var0, 0 )\n",
    "        return tmp if nSamples > 1 else tmp.squeeze()\n",
    "    \n",
    "    def getMinusLogLikelihood(self, thetas, *arg):\n",
    "        nSamples = thetas.size // self.DoF\n",
    "        thetas = thetas.reshape(self.DoF, nSamples)\n",
    "        F = arg[0] if len(arg) > 0 else self.getForwardModel(thetas)\n",
    "        shift = F - self.data\n",
    "        tmp = 0.5 * np.sum( shift ** 2, 0 ) / self.varn\n",
    "        return tmp if nSamples > 1 else tmp.squeeze()\n",
    "    \n",
    "    def getMinusLogPosterior(self, thetas, *arg):\n",
    "        return self.getMinusLogPrior(thetas) + self.getMinusLogLikelihood(thetas, *arg)\n",
    "    \n",
    "    def getGradientMinusLogPrior(self, thetas):\n",
    "        nSamples = thetas.size // self.DoF\n",
    "        thetas = thetas.reshape(self.DoF, nSamples)\n",
    "        tmp = (thetas - self.mu0) / self.var0\n",
    "        return tmp if nSamples > 1 else tmp.squeeze()\n",
    "    \n",
    "    def getGradientMinusLogLikelihood(self, thetas, *arg):\n",
    "        nSamples = thetas.size // self.DoF\n",
    "        thetas = thetas.reshape(self.DoF, nSamples)\n",
    "        F = arg[0] if len(arg) > 0 else self.getForwardModel(thetas)   \n",
    "        J = arg[1] if len(arg) > 1 else self.getJacobianForwardModel(thetas)\n",
    "        tmp = J * np.sum(F - self.data, 0) / self.varn\n",
    "        return tmp if nSamples > 1 else tmp.squeeze()\n",
    "    \n",
    "    def getGradientMinusLogPosterior(self, thetas, *arg):\n",
    "        return self.getGradientMinusLogPrior(thetas) + self.getGradientMinusLogLikelihood(thetas, *arg)\n",
    "    \n",
    "    def getGNHessianMinusLogPosterior(self, thetas, *arg):        \n",
    "        nSamples = thetas.size // self.DoF\n",
    "        thetas = thetas.reshape(self.DoF, nSamples)\n",
    "        J = arg[0] if len(arg) > 1 else self.getJacobianForwardModel(thetas)\n",
    "        tmp = J.reshape(self.DoF, 1, nSamples) * J.reshape(1, self.DoF, nSamples) / self.varn \\\n",
    "              + (np.eye(self.DoF) / self.var0)[:,:,np.newaxis]\n",
    "        return tmp if nSamples > 1 else tmp.squeeze()\n",
    "    \n",
    "    def getMAP(self, *arg):\n",
    "        x0 = arg[0] if len(arg) > 0 else np.random.normal(size = self.DoF)\n",
    "        res = optimize.minimize(self.getMinusLogPosterior, x0, method='L-BFGS-B')\n",
    "        return res.x"
   ]
  },
  {
   "cell_type": "code",
   "execution_count": 185,
   "metadata": {
    "ExecuteTime": {
     "end_time": "2021-02-24T12:39:06.622932Z",
     "start_time": "2021-02-24T12:39:06.620188Z"
    }
   },
   "outputs": [],
   "source": [
    "model = GAUSSIAN()\n",
    "svn = SVN(model)"
   ]
  },
  {
   "cell_type": "code",
   "execution_count": 186,
   "metadata": {
    "ExecuteTime": {
     "end_time": "2021-02-24T12:39:07.185940Z",
     "start_time": "2021-02-24T12:39:06.994870Z"
    }
   },
   "outputs": [
    {
     "data": {
      "text/plain": [
       "<matplotlib.collections.PathCollection at 0x7f85114ff190>"
      ]
     },
     "execution_count": 186,
     "metadata": {},
     "output_type": "execute_result"
    },
    {
     "data": {
      "image/png": "[encoded data removed]",
      "text/plain": [
       "<Figure size 720x720 with 1 Axes>"
      ]
     },
     "metadata": {
      "needs_background": "light"
     },
     "output_type": "display_data"
    }
   ],
   "source": [
    "ngrid = 100\n",
    "x = np.linspace(-2, 2, ngrid)\n",
    "y = np.linspace(-3, 3, ngrid)\n",
    "X, Y = np.meshgrid(x,y)\n",
    "Z = np.exp( - model.getMinusLogPosterior( np.vstack( (np.ndarray.flatten(X), np.ndarray.flatten(Y)) ) ) )\\\n",
    "    .reshape(ngrid, ngrid)\n",
    "\n",
    "plt.figure(figsize = (10,10))\n",
    "plt.contourf(X, Y, Z, 10)\n",
    "plt.scatter(svn.particles[0], svn.particles[1])"
   ]
  },
  {
   "cell_type": "code",
   "execution_count": 212,
   "metadata": {
    "ExecuteTime": {
     "end_time": "2021-02-24T12:51:03.754239Z",
     "start_time": "2021-02-24T12:51:03.737573Z"
    }
   },
   "outputs": [],
   "source": [
    "class TFGaussian():\n",
    "    def __init__(self):\n",
    "        self.DoF = 2\n",
    "        self.nData = 1\n",
    "        self.mu0 = np.zeros((self.DoF, 1))\n",
    "        self.std0 = tf.eye((self.DoF),dtype = tf.float64)\n",
    "        self.cov = self.std0 ** 2\n",
    "\n",
    "        self.stdn = 0.3\n",
    "        self.varn = self.stdn ** 2\n",
    "        \n",
    "        np.random.seed(40)\n",
    "        self.A    = np.random.normal( size = (self.DoF, 1) )\n",
    "        self.thetaTrue = np.random.normal(size = self.DoF)\n",
    "        self.data = self.simulateData()\n",
    "    \n",
    "    def getForwardModel(self,thetas):\n",
    "        nSamples = thetas.size // self.DoF\n",
    "        thetas = thetas.reshape(self.DoF, nSamples)\n",
    "        tmp = self.A[0]*thetas[0,:]+self.A[1]*thetas[1,:]\n",
    "        return tmp\n",
    "    \n",
    "    def simulateData(self):\n",
    "        noise = np.random.normal( scale = self.stdn, size = (1, self.nData) )\n",
    "        return self.getForwardModel(self.thetaTrue) + np.random.normal( scale = self.stdn, size = (1, self.nData) )\n",
    "    \n",
    "    def getMinusLogPosterior(self, thetas):\n",
    "        D_n = self.data\n",
    "        mu0 = tf.squeeze(self.mu0)\n",
    "\n",
    "        mvn = tfd.MultivariateNormalTriL(\n",
    "            loc=mu0,\n",
    "            scale_tril=tf.linalg.cholesky(self.cov))\n",
    "\n",
    "        # define likelihood\n",
    "        # y = A1*x1-A2*x2\n",
    "        y = tfd.Normal(loc=tf.matmul(tf.transpose(self.A),tf.transpose(thetas)),scale=self.stdn)\n",
    "        # return the posterior probability\n",
    "        return -(mvn.log_prob(thetas)\n",
    "               + tf.reduce_sum(y.log_prob(D_n), axis=0))\n",
    "    \n",
    "    def getGradientMinusLogPrior(self, thetas):\n",
    "        with tf.GradientTape() as t:\n",
    "            t.watch(thetas)\n",
    "            logpost = self.getMinusLogPosterior(thetas)\n",
    "        grad = t.gradient(logpost,thetas)\n",
    "        return grad\n",
    "    \n",
    "    def getGNHessianMinusLogPosterior(self, thetas):\n",
    "        Hess = tf.TensorArray(tfdtype, size=int(2))\n",
    "        i = 0\n",
    "        for i in range(2):\n",
    "            tangents = np.zeros(thetas.shape)\n",
    "            tangents[:,i]=1\n",
    "            tangents = tf.convert_to_tensor(tangents,dtype=tf.float64)\n",
    "            with tf.autodiff.ForwardAccumulator(thetas, tangents) as acc:\n",
    "                with tf.GradientTape(watch_accessed_variables=False) as t:\n",
    "                    t.watch(thetas)\n",
    "                    logpost = tfmodel.getMinusLogPosterior(thetas)\n",
    "                loss = t.gradient(logpost,thetas)\n",
    "                tf.print(loss)\n",
    "            hess = acc.jvp(loss)\n",
    "            Hess = Hess.write(i, hess)\n",
    "\n",
    "        Hess = Hess.stack()\n",
    "        return Hess"
   ]
  },
  {
   "cell_type": "code",
   "execution_count": 223,
   "metadata": {
    "ExecuteTime": {
     "end_time": "2021-02-24T12:53:23.634594Z",
     "start_time": "2021-02-24T12:53:23.612019Z"
    }
   },
   "outputs": [
    {
     "data": {
      "text/plain": [
       "<tf.Tensor: shape=(100, 2), dtype=float64, numpy=\n",
       "array([[ 1.34529215e+01,  3.12402114e+00],\n",
       "       [ 2.80582305e+00, -4.10262458e-01],\n",
       "       [ 4.63950513e+00,  7.51214579e-01],\n",
       "       [ 6.33975006e+00,  9.60822604e-01],\n",
       "       [ 1.19898447e+00,  6.38076830e-02],\n",
       "       [ 3.51245548e+00,  1.99731865e+00],\n",
       "       [ 2.73658289e+00, -1.12254144e+00],\n",
       "       [ 5.09437638e+00,  2.95242628e-01],\n",
       "       [-3.74556103e+00, -1.30484423e-01],\n",
       "       [-2.51885154e-01, -7.77447339e-01],\n",
       "       [-1.95095220e+00, -1.23817626e+00],\n",
       "       [ 1.51327883e+00, -2.22531935e+00],\n",
       "       [-1.29622699e+00, -1.81589012e+00],\n",
       "       [-6.22301225e+00, -1.95529872e+00],\n",
       "       [ 2.09738965e+00, -1.78649570e-01],\n",
       "       [ 1.44601197e+00,  6.50441427e-02],\n",
       "       [ 6.08500834e-01, -6.13742511e-01],\n",
       "       [ 7.87896080e+00,  1.74230459e+00],\n",
       "       [ 7.41475621e+00,  2.34787272e+00],\n",
       "       [ 3.45125758e+00,  9.34198118e-01],\n",
       "       [ 9.46962815e+00,  2.21719460e+00],\n",
       "       [-1.55482852e+00, -1.47674737e+00],\n",
       "       [-6.62156013e+00, -1.85985866e+00],\n",
       "       [ 7.76697931e+00,  9.75311379e-01],\n",
       "       [ 4.13952141e+00,  4.29112503e+00],\n",
       "       [-2.58655318e-01,  3.70519614e-01],\n",
       "       [-3.05405835e+00, -2.33758245e-01],\n",
       "       [-8.69632304e-01,  2.26756901e-01],\n",
       "       [-5.93009085e+00, -1.16584219e+00],\n",
       "       [ 1.87125044e+00,  3.14992674e-02],\n",
       "       [-4.80693466e+00,  9.27452246e-01],\n",
       "       [-1.60455363e+00, -4.47951095e-02],\n",
       "       [ 1.55026623e+00,  4.20820065e-01],\n",
       "       [-1.43310639e+00, -1.04497375e-01],\n",
       "       [ 6.69863932e+00,  1.47619961e+00],\n",
       "       [ 5.70344869e+00,  6.02949690e-01],\n",
       "       [ 7.05006863e-01, -7.59955568e-01],\n",
       "       [-3.91281239e-01,  8.97596155e-01],\n",
       "       [ 4.62265054e+00,  1.70279456e+00],\n",
       "       [ 3.08609365e+00,  1.35375561e+00],\n",
       "       [ 1.63102367e+00,  9.40355994e-01],\n",
       "       [ 4.56189888e+00,  1.07268340e+00],\n",
       "       [-1.49578015e+00, -2.22372157e+00],\n",
       "       [ 4.07829035e+00,  6.23133387e-02],\n",
       "       [-5.34471709e+00, -1.27615175e+00],\n",
       "       [-4.23692497e-01,  2.12460721e-01],\n",
       "       [ 6.03053683e-01, -6.11038898e-01],\n",
       "       [-3.20288527e+00,  1.18301555e+00],\n",
       "       [-3.02583304e+00, -2.03106429e+00],\n",
       "       [-8.91092617e+00, -9.71981177e-01],\n",
       "       [ 7.52087830e+00,  4.08886552e-01],\n",
       "       [ 3.39909350e+00, -4.84794642e-01],\n",
       "       [ 1.17269047e+01,  1.23291237e+00],\n",
       "       [-1.77384019e+00, -4.45339717e-01],\n",
       "       [ 3.56240131e+00,  3.00182382e-01],\n",
       "       [ 1.32513121e+00,  1.09698300e+00],\n",
       "       [ 7.83921681e+00,  1.56727790e+00],\n",
       "       [ 1.37290143e-01,  2.70544222e-02],\n",
       "       [ 1.04646714e+01,  2.74249476e+00],\n",
       "       [-4.73094448e+00, -1.30879508e+00],\n",
       "       [ 5.93763710e+00,  2.96768919e+00],\n",
       "       [ 1.69546680e+00,  2.15726498e+00],\n",
       "       [-4.98484950e+00, -1.25399087e+00],\n",
       "       [-1.75171541e-01, -1.37181075e+00],\n",
       "       [-7.37246548e+00, -2.05683311e-01],\n",
       "       [ 3.41036447e+00,  2.19362623e+00],\n",
       "       [ 3.56566683e+00,  3.72927624e-01],\n",
       "       [-5.30462642e+00, -2.28505895e+00],\n",
       "       [-8.28575262e+00, -1.25384347e+00],\n",
       "       [ 1.72987979e+00,  6.31334641e-02],\n",
       "       [ 5.46058493e+00,  1.41528254e+00],\n",
       "       [ 1.46214686e+00,  1.20570078e+00],\n",
       "       [ 4.22848863e+00, -5.98356352e-01],\n",
       "       [-8.20573757e-02, -1.42706650e-01],\n",
       "       [-8.51981708e-01, -1.86354914e+00],\n",
       "       [ 5.32537711e+00,  7.04486597e-01],\n",
       "       [-2.74458755e+00,  1.50686407e-01],\n",
       "       [ 5.96908585e+00,  1.88836369e+00],\n",
       "       [ 4.39250222e+00,  4.62627916e-01],\n",
       "       [ 5.60668894e+00,  2.78155849e+00],\n",
       "       [-7.74273357e-01,  8.20752772e-01],\n",
       "       [ 2.44272128e+00,  1.27400017e+00],\n",
       "       [-6.87387258e+00, -1.50889458e+00],\n",
       "       [ 3.23257923e+00, -5.82007107e-01],\n",
       "       [ 9.55702467e+00,  3.46087008e+00],\n",
       "       [-6.76291669e+00, -5.00157852e-02],\n",
       "       [-3.38033719e+00, -2.71404937e+00],\n",
       "       [-3.60256801e+00,  1.41655309e+00],\n",
       "       [-1.45216888e+01, -3.46926842e+00],\n",
       "       [ 1.06024842e+00,  3.04711673e-01],\n",
       "       [-6.75719892e+00, -1.04389780e-01],\n",
       "       [-2.54416472e+00, -9.33279315e-01],\n",
       "       [ 5.54295654e+00,  9.82877431e-01],\n",
       "       [ 8.61817724e+00, -6.11097333e-03],\n",
       "       [ 2.10892116e+00,  1.44399567e+00],\n",
       "       [-3.58097743e+00, -9.47943558e-01],\n",
       "       [ 2.70283824e+00,  8.10974384e-01],\n",
       "       [-6.79877017e+00,  1.39984255e-01],\n",
       "       [ 2.12647310e+00,  8.96721942e-01],\n",
       "       [ 9.92764349e-01,  1.07349418e+00]])>"
      ]
     },
     "execution_count": 223,
     "metadata": {},
     "output_type": "execute_result"
    }
   ],
   "source": [
    "thetas = tf.constant([[0.,0.]],tf.float64)\n",
    "thetas = tf.transpose(tf.convert_to_tensor(svn.particles,tf.float64))\n",
    "with tf.GradientTape() as t:\n",
    "    t.watch(thetas)\n",
    "    logpost = tfmodel.getMinusLogPosterior(thetas)\n",
    "grad = t.gradient(logpost,thetas)\n",
    "grad"
   ]
  },
  {
   "cell_type": "code",
   "execution_count": 236,
   "metadata": {
    "ExecuteTime": {
     "end_time": "2021-02-24T12:59:38.522811Z",
     "start_time": "2021-02-24T12:59:38.406614Z"
    }
   },
   "outputs": [
    {
     "name": "stdout",
     "output_type": "stream",
     "text": [
      "[[13.452921476689326 3.1240211375559213]\n",
      " [2.8058230517074705 -0.41026245760254271]\n",
      " [4.639505134588255 0.75121457917257639]\n",
      " ...\n",
      " [-6.79877017217221 0.13998425525695213]\n",
      " [2.1264730984268292 0.8967219418999155]\n",
      " [0.99276434854348361 1.0734941797945543]]\n",
      "[[13.452921476689326 3.1240211375559213]\n",
      " [2.8058230517074705 -0.41026245760254271]\n",
      " [4.639505134588255 0.75121457917257639]\n",
      " ...\n",
      " [-6.79877017217221 0.13998425525695213]\n",
      " [2.1264730984268292 0.8967219418999155]\n",
      " [0.99276434854348361 1.0734941797945543]]\n"
     ]
    }
   ],
   "source": [
    "Hess = tf.TensorArray(tf.float64, size=int(2))\n",
    "i = 0\n",
    "for i in range(2):\n",
    "    tangents = np.zeros(thetas.shape)\n",
    "    tangents[:,i]=1\n",
    "    tangents = tf.convert_to_tensor(tangents,dtype=tf.float64)\n",
    "    with tf.autodiff.ForwardAccumulator(thetas, tangents) as acc:\n",
    "        with tf.GradientTape(watch_accessed_variables=False) as t:\n",
    "            t.watch(thetas)\n",
    "            logpost = tfmodel.getMinusLogPosterior(thetas)\n",
    "        loss = t.gradient(logpost,thetas)\n",
    "        tf.print(loss)\n",
    "    hess = acc.jvp(loss)\n",
    "    Hess = Hess.write(i, hess)\n",
    "\n",
    "Hess = Hess.stack()"
   ]
  },
  {
   "cell_type": "code",
   "execution_count": 237,
   "metadata": {
    "ExecuteTime": {
     "end_time": "2021-02-24T12:59:44.306553Z",
     "start_time": "2021-02-24T12:59:44.298366Z"
    }
   },
   "outputs": [
    {
     "data": {
      "text/plain": [
       "<tf.Tensor: shape=(2, 100, 2), dtype=float64, numpy=\n",
       "array([[[5.10126894, 0.85148765],\n",
       "        [5.10126894, 0.85148765],\n",
       "        [5.10126894, 0.85148765],\n",
       "        [5.10126894, 0.85148765],\n",
       "        [5.10126894, 0.85148765],\n",
       "        [5.10126894, 0.85148765],\n",
       "        [5.10126894, 0.85148765],\n",
       "        [5.10126894, 0.85148765],\n",
       "        [5.10126894, 0.85148765],\n",
       "        [5.10126894, 0.85148765],\n",
       "        [5.10126894, 0.85148765],\n",
       "        [5.10126894, 0.85148765],\n",
       "        [5.10126894, 0.85148765],\n",
       "        [5.10126894, 0.85148765],\n",
       "        [5.10126894, 0.85148765],\n",
       "        [5.10126894, 0.85148765],\n",
       "        [5.10126894, 0.85148765],\n",
       "        [5.10126894, 0.85148765],\n",
       "        [5.10126894, 0.85148765],\n",
       "        [5.10126894, 0.85148765],\n",
       "        [5.10126894, 0.85148765],\n",
       "        [5.10126894, 0.85148765],\n",
       "        [5.10126894, 0.85148765],\n",
       "        [5.10126894, 0.85148765],\n",
       "        [5.10126894, 0.85148765],\n",
       "        [5.10126894, 0.85148765],\n",
       "        [5.10126894, 0.85148765],\n",
       "        [5.10126894, 0.85148765],\n",
       "        [5.10126894, 0.85148765],\n",
       "        [5.10126894, 0.85148765],\n",
       "        [5.10126894, 0.85148765],\n",
       "        [5.10126894, 0.85148765],\n",
       "        [5.10126894, 0.85148765],\n",
       "        [5.10126894, 0.85148765],\n",
       "        [5.10126894, 0.85148765],\n",
       "        [5.10126894, 0.85148765],\n",
       "        [5.10126894, 0.85148765],\n",
       "        [5.10126894, 0.85148765],\n",
       "        [5.10126894, 0.85148765],\n",
       "        [5.10126894, 0.85148765],\n",
       "        [5.10126894, 0.85148765],\n",
       "        [5.10126894, 0.85148765],\n",
       "        [5.10126894, 0.85148765],\n",
       "        [5.10126894, 0.85148765],\n",
       "        [5.10126894, 0.85148765],\n",
       "        [5.10126894, 0.85148765],\n",
       "        [5.10126894, 0.85148765],\n",
       "        [5.10126894, 0.85148765],\n",
       "        [5.10126894, 0.85148765],\n",
       "        [5.10126894, 0.85148765],\n",
       "        [5.10126894, 0.85148765],\n",
       "        [5.10126894, 0.85148765],\n",
       "        [5.10126894, 0.85148765],\n",
       "        [5.10126894, 0.85148765],\n",
       "        [5.10126894, 0.85148765],\n",
       "        [5.10126894, 0.85148765],\n",
       "        [5.10126894, 0.85148765],\n",
       "        [5.10126894, 0.85148765],\n",
       "        [5.10126894, 0.85148765],\n",
       "        [5.10126894, 0.85148765],\n",
       "        [5.10126894, 0.85148765],\n",
       "        [5.10126894, 0.85148765],\n",
       "        [5.10126894, 0.85148765],\n",
       "        [5.10126894, 0.85148765],\n",
       "        [5.10126894, 0.85148765],\n",
       "        [5.10126894, 0.85148765],\n",
       "        [5.10126894, 0.85148765],\n",
       "        [5.10126894, 0.85148765],\n",
       "        [5.10126894, 0.85148765],\n",
       "        [5.10126894, 0.85148765],\n",
       "        [5.10126894, 0.85148765],\n",
       "        [5.10126894, 0.85148765],\n",
       "        [5.10126894, 0.85148765],\n",
       "        [5.10126894, 0.85148765],\n",
       "        [5.10126894, 0.85148765],\n",
       "        [5.10126894, 0.85148765],\n",
       "        [5.10126894, 0.85148765],\n",
       "        [5.10126894, 0.85148765],\n",
       "        [5.10126894, 0.85148765],\n",
       "        [5.10126894, 0.85148765],\n",
       "        [5.10126894, 0.85148765],\n",
       "        [5.10126894, 0.85148765],\n",
       "        [5.10126894, 0.85148765],\n",
       "        [5.10126894, 0.85148765],\n",
       "        [5.10126894, 0.85148765],\n",
       "        [5.10126894, 0.85148765],\n",
       "        [5.10126894, 0.85148765],\n",
       "        [5.10126894, 0.85148765],\n",
       "        [5.10126894, 0.85148765],\n",
       "        [5.10126894, 0.85148765],\n",
       "        [5.10126894, 0.85148765],\n",
       "        [5.10126894, 0.85148765],\n",
       "        [5.10126894, 0.85148765],\n",
       "        [5.10126894, 0.85148765],\n",
       "        [5.10126894, 0.85148765],\n",
       "        [5.10126894, 0.85148765],\n",
       "        [5.10126894, 0.85148765],\n",
       "        [5.10126894, 0.85148765],\n",
       "        [5.10126894, 0.85148765],\n",
       "        [5.10126894, 0.85148765]],\n",
       "\n",
       "       [[0.85148765, 1.17678217],\n",
       "        [0.85148765, 1.17678217],\n",
       "        [0.85148765, 1.17678217],\n",
       "        [0.85148765, 1.17678217],\n",
       "        [0.85148765, 1.17678217],\n",
       "        [0.85148765, 1.17678217],\n",
       "        [0.85148765, 1.17678217],\n",
       "        [0.85148765, 1.17678217],\n",
       "        [0.85148765, 1.17678217],\n",
       "        [0.85148765, 1.17678217],\n",
       "        [0.85148765, 1.17678217],\n",
       "        [0.85148765, 1.17678217],\n",
       "        [0.85148765, 1.17678217],\n",
       "        [0.85148765, 1.17678217],\n",
       "        [0.85148765, 1.17678217],\n",
       "        [0.85148765, 1.17678217],\n",
       "        [0.85148765, 1.17678217],\n",
       "        [0.85148765, 1.17678217],\n",
       "        [0.85148765, 1.17678217],\n",
       "        [0.85148765, 1.17678217],\n",
       "        [0.85148765, 1.17678217],\n",
       "        [0.85148765, 1.17678217],\n",
       "        [0.85148765, 1.17678217],\n",
       "        [0.85148765, 1.17678217],\n",
       "        [0.85148765, 1.17678217],\n",
       "        [0.85148765, 1.17678217],\n",
       "        [0.85148765, 1.17678217],\n",
       "        [0.85148765, 1.17678217],\n",
       "        [0.85148765, 1.17678217],\n",
       "        [0.85148765, 1.17678217],\n",
       "        [0.85148765, 1.17678217],\n",
       "        [0.85148765, 1.17678217],\n",
       "        [0.85148765, 1.17678217],\n",
       "        [0.85148765, 1.17678217],\n",
       "        [0.85148765, 1.17678217],\n",
       "        [0.85148765, 1.17678217],\n",
       "        [0.85148765, 1.17678217],\n",
       "        [0.85148765, 1.17678217],\n",
       "        [0.85148765, 1.17678217],\n",
       "        [0.85148765, 1.17678217],\n",
       "        [0.85148765, 1.17678217],\n",
       "        [0.85148765, 1.17678217],\n",
       "        [0.85148765, 1.17678217],\n",
       "        [0.85148765, 1.17678217],\n",
       "        [0.85148765, 1.17678217],\n",
       "        [0.85148765, 1.17678217],\n",
       "        [0.85148765, 1.17678217],\n",
       "        [0.85148765, 1.17678217],\n",
       "        [0.85148765, 1.17678217],\n",
       "        [0.85148765, 1.17678217],\n",
       "        [0.85148765, 1.17678217],\n",
       "        [0.85148765, 1.17678217],\n",
       "        [0.85148765, 1.17678217],\n",
       "        [0.85148765, 1.17678217],\n",
       "        [0.85148765, 1.17678217],\n",
       "        [0.85148765, 1.17678217],\n",
       "        [0.85148765, 1.17678217],\n",
       "        [0.85148765, 1.17678217],\n",
       "        [0.85148765, 1.17678217],\n",
       "        [0.85148765, 1.17678217],\n",
       "        [0.85148765, 1.17678217],\n",
       "        [0.85148765, 1.17678217],\n",
       "        [0.85148765, 1.17678217],\n",
       "        [0.85148765, 1.17678217],\n",
       "        [0.85148765, 1.17678217],\n",
       "        [0.85148765, 1.17678217],\n",
       "        [0.85148765, 1.17678217],\n",
       "        [0.85148765, 1.17678217],\n",
       "        [0.85148765, 1.17678217],\n",
       "        [0.85148765, 1.17678217],\n",
       "        [0.85148765, 1.17678217],\n",
       "        [0.85148765, 1.17678217],\n",
       "        [0.85148765, 1.17678217],\n",
       "        [0.85148765, 1.17678217],\n",
       "        [0.85148765, 1.17678217],\n",
       "        [0.85148765, 1.17678217],\n",
       "        [0.85148765, 1.17678217],\n",
       "        [0.85148765, 1.17678217],\n",
       "        [0.85148765, 1.17678217],\n",
       "        [0.85148765, 1.17678217],\n",
       "        [0.85148765, 1.17678217],\n",
       "        [0.85148765, 1.17678217],\n",
       "        [0.85148765, 1.17678217],\n",
       "        [0.85148765, 1.17678217],\n",
       "        [0.85148765, 1.17678217],\n",
       "        [0.85148765, 1.17678217],\n",
       "        [0.85148765, 1.17678217],\n",
       "        [0.85148765, 1.17678217],\n",
       "        [0.85148765, 1.17678217],\n",
       "        [0.85148765, 1.17678217],\n",
       "        [0.85148765, 1.17678217],\n",
       "        [0.85148765, 1.17678217],\n",
       "        [0.85148765, 1.17678217],\n",
       "        [0.85148765, 1.17678217],\n",
       "        [0.85148765, 1.17678217],\n",
       "        [0.85148765, 1.17678217],\n",
       "        [0.85148765, 1.17678217],\n",
       "        [0.85148765, 1.17678217],\n",
       "        [0.85148765, 1.17678217],\n",
       "        [0.85148765, 1.17678217]]])>"
      ]
     },
     "execution_count": 237,
     "metadata": {},
     "output_type": "execute_result"
    }
   ],
   "source": [
    "Hess"
   ]
  },
  {
   "cell_type": "code",
   "execution_count": 238,
   "metadata": {
    "ExecuteTime": {
     "end_time": "2021-02-24T13:00:08.131601Z",
     "start_time": "2021-02-24T13:00:08.122965Z"
    }
   },
   "outputs": [
    {
     "data": {
      "text/plain": [
       "array([[[5.10126894, 5.10126894, 5.10126894, 5.10126894, 5.10126894,\n",
       "         5.10126894, 5.10126894, 5.10126894, 5.10126894, 5.10126894,\n",
       "         5.10126894, 5.10126894, 5.10126894, 5.10126894, 5.10126894,\n",
       "         5.10126894, 5.10126894, 5.10126894, 5.10126894, 5.10126894,\n",
       "         5.10126894, 5.10126894, 5.10126894, 5.10126894, 5.10126894,\n",
       "         5.10126894, 5.10126894, 5.10126894, 5.10126894, 5.10126894,\n",
       "         5.10126894, 5.10126894, 5.10126894, 5.10126894, 5.10126894,\n",
       "         5.10126894, 5.10126894, 5.10126894, 5.10126894, 5.10126894,\n",
       "         5.10126894, 5.10126894, 5.10126894, 5.10126894, 5.10126894,\n",
       "         5.10126894, 5.10126894, 5.10126894, 5.10126894, 5.10126894,\n",
       "         5.10126894, 5.10126894, 5.10126894, 5.10126894, 5.10126894,\n",
       "         5.10126894, 5.10126894, 5.10126894, 5.10126894, 5.10126894,\n",
       "         5.10126894, 5.10126894, 5.10126894, 5.10126894, 5.10126894,\n",
       "         5.10126894, 5.10126894, 5.10126894, 5.10126894, 5.10126894,\n",
       "         5.10126894, 5.10126894, 5.10126894, 5.10126894, 5.10126894,\n",
       "         5.10126894, 5.10126894, 5.10126894, 5.10126894, 5.10126894,\n",
       "         5.10126894, 5.10126894, 5.10126894, 5.10126894, 5.10126894,\n",
       "         5.10126894, 5.10126894, 5.10126894, 5.10126894, 5.10126894,\n",
       "         5.10126894, 5.10126894, 5.10126894, 5.10126894, 5.10126894,\n",
       "         5.10126894, 5.10126894, 5.10126894, 5.10126894, 5.10126894],\n",
       "        [0.85148765, 0.85148765, 0.85148765, 0.85148765, 0.85148765,\n",
       "         0.85148765, 0.85148765, 0.85148765, 0.85148765, 0.85148765,\n",
       "         0.85148765, 0.85148765, 0.85148765, 0.85148765, 0.85148765,\n",
       "         0.85148765, 0.85148765, 0.85148765, 0.85148765, 0.85148765,\n",
       "         0.85148765, 0.85148765, 0.85148765, 0.85148765, 0.85148765,\n",
       "         0.85148765, 0.85148765, 0.85148765, 0.85148765, 0.85148765,\n",
       "         0.85148765, 0.85148765, 0.85148765, 0.85148765, 0.85148765,\n",
       "         0.85148765, 0.85148765, 0.85148765, 0.85148765, 0.85148765,\n",
       "         0.85148765, 0.85148765, 0.85148765, 0.85148765, 0.85148765,\n",
       "         0.85148765, 0.85148765, 0.85148765, 0.85148765, 0.85148765,\n",
       "         0.85148765, 0.85148765, 0.85148765, 0.85148765, 0.85148765,\n",
       "         0.85148765, 0.85148765, 0.85148765, 0.85148765, 0.85148765,\n",
       "         0.85148765, 0.85148765, 0.85148765, 0.85148765, 0.85148765,\n",
       "         0.85148765, 0.85148765, 0.85148765, 0.85148765, 0.85148765,\n",
       "         0.85148765, 0.85148765, 0.85148765, 0.85148765, 0.85148765,\n",
       "         0.85148765, 0.85148765, 0.85148765, 0.85148765, 0.85148765,\n",
       "         0.85148765, 0.85148765, 0.85148765, 0.85148765, 0.85148765,\n",
       "         0.85148765, 0.85148765, 0.85148765, 0.85148765, 0.85148765,\n",
       "         0.85148765, 0.85148765, 0.85148765, 0.85148765, 0.85148765,\n",
       "         0.85148765, 0.85148765, 0.85148765, 0.85148765, 0.85148765]],\n",
       "\n",
       "       [[0.85148765, 0.85148765, 0.85148765, 0.85148765, 0.85148765,\n",
       "         0.85148765, 0.85148765, 0.85148765, 0.85148765, 0.85148765,\n",
       "         0.85148765, 0.85148765, 0.85148765, 0.85148765, 0.85148765,\n",
       "         0.85148765, 0.85148765, 0.85148765, 0.85148765, 0.85148765,\n",
       "         0.85148765, 0.85148765, 0.85148765, 0.85148765, 0.85148765,\n",
       "         0.85148765, 0.85148765, 0.85148765, 0.85148765, 0.85148765,\n",
       "         0.85148765, 0.85148765, 0.85148765, 0.85148765, 0.85148765,\n",
       "         0.85148765, 0.85148765, 0.85148765, 0.85148765, 0.85148765,\n",
       "         0.85148765, 0.85148765, 0.85148765, 0.85148765, 0.85148765,\n",
       "         0.85148765, 0.85148765, 0.85148765, 0.85148765, 0.85148765,\n",
       "         0.85148765, 0.85148765, 0.85148765, 0.85148765, 0.85148765,\n",
       "         0.85148765, 0.85148765, 0.85148765, 0.85148765, 0.85148765,\n",
       "         0.85148765, 0.85148765, 0.85148765, 0.85148765, 0.85148765,\n",
       "         0.85148765, 0.85148765, 0.85148765, 0.85148765, 0.85148765,\n",
       "         0.85148765, 0.85148765, 0.85148765, 0.85148765, 0.85148765,\n",
       "         0.85148765, 0.85148765, 0.85148765, 0.85148765, 0.85148765,\n",
       "         0.85148765, 0.85148765, 0.85148765, 0.85148765, 0.85148765,\n",
       "         0.85148765, 0.85148765, 0.85148765, 0.85148765, 0.85148765,\n",
       "         0.85148765, 0.85148765, 0.85148765, 0.85148765, 0.85148765,\n",
       "         0.85148765, 0.85148765, 0.85148765, 0.85148765, 0.85148765],\n",
       "        [1.17678217, 1.17678217, 1.17678217, 1.17678217, 1.17678217,\n",
       "         1.17678217, 1.17678217, 1.17678217, 1.17678217, 1.17678217,\n",
       "         1.17678217, 1.17678217, 1.17678217, 1.17678217, 1.17678217,\n",
       "         1.17678217, 1.17678217, 1.17678217, 1.17678217, 1.17678217,\n",
       "         1.17678217, 1.17678217, 1.17678217, 1.17678217, 1.17678217,\n",
       "         1.17678217, 1.17678217, 1.17678217, 1.17678217, 1.17678217,\n",
       "         1.17678217, 1.17678217, 1.17678217, 1.17678217, 1.17678217,\n",
       "         1.17678217, 1.17678217, 1.17678217, 1.17678217, 1.17678217,\n",
       "         1.17678217, 1.17678217, 1.17678217, 1.17678217, 1.17678217,\n",
       "         1.17678217, 1.17678217, 1.17678217, 1.17678217, 1.17678217,\n",
       "         1.17678217, 1.17678217, 1.17678217, 1.17678217, 1.17678217,\n",
       "         1.17678217, 1.17678217, 1.17678217, 1.17678217, 1.17678217,\n",
       "         1.17678217, 1.17678217, 1.17678217, 1.17678217, 1.17678217,\n",
       "         1.17678217, 1.17678217, 1.17678217, 1.17678217, 1.17678217,\n",
       "         1.17678217, 1.17678217, 1.17678217, 1.17678217, 1.17678217,\n",
       "         1.17678217, 1.17678217, 1.17678217, 1.17678217, 1.17678217,\n",
       "         1.17678217, 1.17678217, 1.17678217, 1.17678217, 1.17678217,\n",
       "         1.17678217, 1.17678217, 1.17678217, 1.17678217, 1.17678217,\n",
       "         1.17678217, 1.17678217, 1.17678217, 1.17678217, 1.17678217,\n",
       "         1.17678217, 1.17678217, 1.17678217, 1.17678217, 1.17678217]]])"
      ]
     },
     "execution_count": 238,
     "metadata": {},
     "output_type": "execute_result"
    }
   ],
   "source": [
    "model.getGNHessianMinusLogPosterior(svn.particles)"
   ]
  },
  {
   "cell_type": "code",
   "execution_count": 214,
   "metadata": {
    "ExecuteTime": {
     "end_time": "2021-02-24T12:51:12.930948Z",
     "start_time": "2021-02-24T12:51:12.906114Z"
    }
   },
   "outputs": [
    {
     "data": {
      "text/plain": [
       "<tf.Tensor: shape=(100, 2), dtype=float64, numpy=\n",
       "array([[ 1.34529215e+01,  3.12402114e+00],\n",
       "       [ 2.80582305e+00, -4.10262458e-01],\n",
       "       [ 4.63950513e+00,  7.51214579e-01],\n",
       "       [ 6.33975006e+00,  9.60822604e-01],\n",
       "       [ 1.19898447e+00,  6.38076830e-02],\n",
       "       [ 3.51245548e+00,  1.99731865e+00],\n",
       "       [ 2.73658289e+00, -1.12254144e+00],\n",
       "       [ 5.09437638e+00,  2.95242628e-01],\n",
       "       [-3.74556103e+00, -1.30484423e-01],\n",
       "       [-2.51885154e-01, -7.77447339e-01],\n",
       "       [-1.95095220e+00, -1.23817626e+00],\n",
       "       [ 1.51327883e+00, -2.22531935e+00],\n",
       "       [-1.29622699e+00, -1.81589012e+00],\n",
       "       [-6.22301225e+00, -1.95529872e+00],\n",
       "       [ 2.09738965e+00, -1.78649570e-01],\n",
       "       [ 1.44601197e+00,  6.50441427e-02],\n",
       "       [ 6.08500834e-01, -6.13742511e-01],\n",
       "       [ 7.87896080e+00,  1.74230459e+00],\n",
       "       [ 7.41475621e+00,  2.34787272e+00],\n",
       "       [ 3.45125758e+00,  9.34198118e-01],\n",
       "       [ 9.46962815e+00,  2.21719460e+00],\n",
       "       [-1.55482852e+00, -1.47674737e+00],\n",
       "       [-6.62156013e+00, -1.85985866e+00],\n",
       "       [ 7.76697931e+00,  9.75311379e-01],\n",
       "       [ 4.13952141e+00,  4.29112503e+00],\n",
       "       [-2.58655318e-01,  3.70519614e-01],\n",
       "       [-3.05405835e+00, -2.33758245e-01],\n",
       "       [-8.69632304e-01,  2.26756901e-01],\n",
       "       [-5.93009085e+00, -1.16584219e+00],\n",
       "       [ 1.87125044e+00,  3.14992674e-02],\n",
       "       [-4.80693466e+00,  9.27452246e-01],\n",
       "       [-1.60455363e+00, -4.47951095e-02],\n",
       "       [ 1.55026623e+00,  4.20820065e-01],\n",
       "       [-1.43310639e+00, -1.04497375e-01],\n",
       "       [ 6.69863932e+00,  1.47619961e+00],\n",
       "       [ 5.70344869e+00,  6.02949690e-01],\n",
       "       [ 7.05006863e-01, -7.59955568e-01],\n",
       "       [-3.91281239e-01,  8.97596155e-01],\n",
       "       [ 4.62265054e+00,  1.70279456e+00],\n",
       "       [ 3.08609365e+00,  1.35375561e+00],\n",
       "       [ 1.63102367e+00,  9.40355994e-01],\n",
       "       [ 4.56189888e+00,  1.07268340e+00],\n",
       "       [-1.49578015e+00, -2.22372157e+00],\n",
       "       [ 4.07829035e+00,  6.23133387e-02],\n",
       "       [-5.34471709e+00, -1.27615175e+00],\n",
       "       [-4.23692497e-01,  2.12460721e-01],\n",
       "       [ 6.03053683e-01, -6.11038898e-01],\n",
       "       [-3.20288527e+00,  1.18301555e+00],\n",
       "       [-3.02583304e+00, -2.03106429e+00],\n",
       "       [-8.91092617e+00, -9.71981177e-01],\n",
       "       [ 7.52087830e+00,  4.08886552e-01],\n",
       "       [ 3.39909350e+00, -4.84794642e-01],\n",
       "       [ 1.17269047e+01,  1.23291237e+00],\n",
       "       [-1.77384019e+00, -4.45339717e-01],\n",
       "       [ 3.56240131e+00,  3.00182382e-01],\n",
       "       [ 1.32513121e+00,  1.09698300e+00],\n",
       "       [ 7.83921681e+00,  1.56727790e+00],\n",
       "       [ 1.37290143e-01,  2.70544222e-02],\n",
       "       [ 1.04646714e+01,  2.74249476e+00],\n",
       "       [-4.73094448e+00, -1.30879508e+00],\n",
       "       [ 5.93763710e+00,  2.96768919e+00],\n",
       "       [ 1.69546680e+00,  2.15726498e+00],\n",
       "       [-4.98484950e+00, -1.25399087e+00],\n",
       "       [-1.75171541e-01, -1.37181075e+00],\n",
       "       [-7.37246548e+00, -2.05683311e-01],\n",
       "       [ 3.41036447e+00,  2.19362623e+00],\n",
       "       [ 3.56566683e+00,  3.72927624e-01],\n",
       "       [-5.30462642e+00, -2.28505895e+00],\n",
       "       [-8.28575262e+00, -1.25384347e+00],\n",
       "       [ 1.72987979e+00,  6.31334641e-02],\n",
       "       [ 5.46058493e+00,  1.41528254e+00],\n",
       "       [ 1.46214686e+00,  1.20570078e+00],\n",
       "       [ 4.22848863e+00, -5.98356352e-01],\n",
       "       [-8.20573757e-02, -1.42706650e-01],\n",
       "       [-8.51981708e-01, -1.86354914e+00],\n",
       "       [ 5.32537711e+00,  7.04486597e-01],\n",
       "       [-2.74458755e+00,  1.50686407e-01],\n",
       "       [ 5.96908585e+00,  1.88836369e+00],\n",
       "       [ 4.39250222e+00,  4.62627916e-01],\n",
       "       [ 5.60668894e+00,  2.78155849e+00],\n",
       "       [-7.74273357e-01,  8.20752772e-01],\n",
       "       [ 2.44272128e+00,  1.27400017e+00],\n",
       "       [-6.87387258e+00, -1.50889458e+00],\n",
       "       [ 3.23257923e+00, -5.82007107e-01],\n",
       "       [ 9.55702467e+00,  3.46087008e+00],\n",
       "       [-6.76291669e+00, -5.00157852e-02],\n",
       "       [-3.38033719e+00, -2.71404937e+00],\n",
       "       [-3.60256801e+00,  1.41655309e+00],\n",
       "       [-1.45216888e+01, -3.46926842e+00],\n",
       "       [ 1.06024842e+00,  3.04711673e-01],\n",
       "       [-6.75719892e+00, -1.04389780e-01],\n",
       "       [-2.54416472e+00, -9.33279315e-01],\n",
       "       [ 5.54295654e+00,  9.82877431e-01],\n",
       "       [ 8.61817724e+00, -6.11097333e-03],\n",
       "       [ 2.10892116e+00,  1.44399567e+00],\n",
       "       [-3.58097743e+00, -9.47943558e-01],\n",
       "       [ 2.70283824e+00,  8.10974384e-01],\n",
       "       [-6.79877017e+00,  1.39984255e-01],\n",
       "       [ 2.12647310e+00,  8.96721942e-01],\n",
       "       [ 9.92764349e-01,  1.07349418e+00]])>"
      ]
     },
     "execution_count": 214,
     "metadata": {},
     "output_type": "execute_result"
    }
   ],
   "source": [
    "tfmodel.getGradientMinusLogPrior(tf.transpose(svn.particles))"
   ]
  },
  {
   "cell_type": "code",
   "execution_count": 213,
   "metadata": {
    "ExecuteTime": {
     "end_time": "2021-02-24T12:51:08.517086Z",
     "start_time": "2021-02-24T12:51:08.513803Z"
    }
   },
   "outputs": [],
   "source": [
    "tfmodel = TFGaussian()\n"
   ]
  },
  {
   "cell_type": "code",
   "execution_count": 130,
   "metadata": {
    "ExecuteTime": {
     "end_time": "2021-02-24T09:52:32.806488Z",
     "start_time": "2021-02-24T09:52:32.770109Z"
    }
   },
   "outputs": [
    {
     "data": {
      "text/plain": [
       "<tf.Tensor: shape=(3, 2), dtype=float64, numpy=\n",
       "array([[ 1.0712115 ,  0.22240028],\n",
       "       [ 7.02396808,  2.25067009],\n",
       "       [19.7809689 ,  7.48399189]])>"
      ]
     },
     "execution_count": 130,
     "metadata": {},
     "output_type": "execute_result"
    }
   ],
   "source": [
    "m = tf.constant([[0.,0.],[1.,1.],[3.,4.]],tf.float64)\n",
    "tfmodel.getMinusLogPosterior(m)\n",
    "with tf.GradientTape() as t:\n",
    "    t.watch(m)\n",
    "    logpost = tfmodel.getMinusLogPosterior(m)\n",
    "t.gradient(logpost,m)"
   ]
  },
  {
   "cell_type": "code",
   "execution_count": 123,
   "metadata": {
    "ExecuteTime": {
     "end_time": "2021-02-24T09:45:12.931783Z",
     "start_time": "2021-02-24T09:45:12.715167Z"
    }
   },
   "outputs": [
    {
     "data": {
      "text/plain": [
       "<matplotlib.collections.PathCollection at 0x7f851130f350>"
      ]
     },
     "execution_count": 123,
     "metadata": {},
     "output_type": "execute_result"
    },
    {
     "data": {
      "image/png": "[encoded data removed]",
      "text/plain": [
       "<Figure size 720x720 with 1 Axes>"
      ]
     },
     "metadata": {
      "needs_background": "light"
     },
     "output_type": "display_data"
    }
   ],
   "source": [
    "ngrid = 100\n",
    "x = np.linspace(-2, 2, ngrid)\n",
    "y = np.linspace(-3, 3, ngrid)\n",
    "X, Y = np.meshgrid(x,y)\n",
    "Z = np.exp( - tfmodel.getMinusLogPosterior( tf.transpose(np.vstack( (np.ndarray.flatten(X), np.ndarray.flatten(Y)) ))) .numpy()-np.log((2*np.pi)**-0.5))\\\n",
    "    .reshape(ngrid, ngrid)\n",
    "\n",
    "plt.figure(figsize = (10,10))\n",
    "plt.contourf(X, Y, Z, 10)\n",
    "plt.scatter(svn.particles[0], svn.particles[1])"
   ]
  },
  {
   "cell_type": "code",
   "execution_count": 167,
   "metadata": {
    "ExecuteTime": {
     "end_time": "2021-02-24T12:33:56.490817Z",
     "start_time": "2021-02-24T12:33:56.486987Z"
    }
   },
   "outputs": [
    {
     "data": {
      "text/plain": [
       "array([[-0.6075477 ],\n",
       "       [-0.12613641]])"
      ]
     },
     "execution_count": 167,
     "metadata": {},
     "output_type": "execute_result"
    }
   ],
   "source": [
    "tfmodel.A"
   ]
  },
  {
   "cell_type": "code",
   "execution_count": 168,
   "metadata": {
    "ExecuteTime": {
     "end_time": "2021-02-24T12:34:00.398464Z",
     "start_time": "2021-02-24T12:34:00.394892Z"
    }
   },
   "outputs": [
    {
     "data": {
      "text/plain": [
       "array([[-0.6075477 ],\n",
       "       [-0.12613641]])"
      ]
     },
     "execution_count": 168,
     "metadata": {},
     "output_type": "execute_result"
    }
   ],
   "source": [
    "model.A"
   ]
  },
  {
   "cell_type": "code",
   "execution_count": 245,
   "metadata": {
    "ExecuteTime": {
     "end_time": "2021-02-24T13:22:37.821383Z",
     "start_time": "2021-02-24T13:22:37.817969Z"
    }
   },
   "outputs": [],
   "source": [
    "norm = tfd.Normal(loc = 0., scale = 1)"
   ]
  },
  {
   "cell_type": "code",
   "execution_count": 246,
   "metadata": {
    "ExecuteTime": {
     "end_time": "2021-02-24T13:22:38.225639Z",
     "start_time": "2021-02-24T13:22:38.016971Z"
    }
   },
   "outputs": [
    {
     "data": {
      "text/plain": [
       "[<matplotlib.lines.Line2D at 0x7f852d8be310>]"
      ]
     },
     "execution_count": 246,
     "metadata": {},
     "output_type": "execute_result"
    },
    {
     "data": {
      "image/png": "[encoded data removed]",
      "text/plain": [
       "<Figure size 432x288 with 1 Axes>"
      ]
     },
     "metadata": {
      "needs_background": "light"
     },
     "output_type": "display_data"
    }
   ],
   "source": [
    "x = np.linspace(-3,3,100)\n",
    "plt.plot(x,norm.prob(x))"
   ]
  },
  {
   "cell_type": "code",
   "execution_count": 247,
   "metadata": {
    "ExecuteTime": {
     "end_time": "2021-02-24T13:22:38.474977Z",
     "start_time": "2021-02-24T13:22:38.467651Z"
    }
   },
   "outputs": [
    {
     "data": {
      "text/plain": [
       "<tf.Tensor: shape=(100,), dtype=float32, numpy=\n",
       "array([0.00443185, 0.00530579, 0.00632877, 0.00752133, 0.00890582,\n",
       "       0.0105065 , 0.01234943, 0.01446242, 0.01687483, 0.01961746,\n",
       "       0.02272222, 0.0262219 , 0.03014962, 0.03453856, 0.03942136,\n",
       "       0.0448295 , 0.05079264, 0.05733799, 0.06448953, 0.07226708,\n",
       "       0.08068571, 0.08975478, 0.09947713, 0.10984841, 0.12085625,\n",
       "       0.13247967, 0.14468855, 0.1574432 , 0.17069405, 0.18438165,\n",
       "       0.19843663, 0.21277994, 0.22732352, 0.24197073, 0.25661743,\n",
       "       0.27115285, 0.2854612 , 0.2994227 , 0.31291556, 0.3258175 ,\n",
       "       0.3380076 , 0.34936816, 0.35978657, 0.3691572 , 0.37738323,\n",
       "       0.38437808, 0.39006722, 0.39438924, 0.39729717, 0.39875916,\n",
       "       0.39875916, 0.39729717, 0.39438924, 0.39006722, 0.38437808,\n",
       "       0.37738323, 0.3691572 , 0.35978657, 0.34936816, 0.3380076 ,\n",
       "       0.3258175 , 0.31291556, 0.2994227 , 0.2854612 , 0.27115285,\n",
       "       0.25661743, 0.24197073, 0.22732352, 0.21277994, 0.19843663,\n",
       "       0.18438165, 0.17069405, 0.1574432 , 0.14468855, 0.13247967,\n",
       "       0.12085625, 0.10984841, 0.09947713, 0.08975478, 0.08068571,\n",
       "       0.07226708, 0.06448953, 0.05733799, 0.05079264, 0.0448295 ,\n",
       "       0.03942136, 0.03453856, 0.03014962, 0.0262219 , 0.02272222,\n",
       "       0.01961746, 0.01687483, 0.01446242, 0.01234943, 0.0105065 ,\n",
       "       0.00890582, 0.00752133, 0.00632877, 0.00530579, 0.00443185],\n",
       "      dtype=float32)>"
      ]
     },
     "execution_count": 247,
     "metadata": {},
     "output_type": "execute_result"
    }
   ],
   "source": [
    "norm.prob(x)"
   ]
  },
  {
   "cell_type": "code",
   "execution_count": 248,
   "metadata": {
    "ExecuteTime": {
     "end_time": "2021-02-24T13:22:42.260725Z",
     "start_time": "2021-02-24T13:22:42.254958Z"
    }
   },
   "outputs": [],
   "source": [
    "x = tf.convert_to_tensor(x,tf.float32)\n",
    "with tf.GradientTape() as t:\n",
    "    t.watch(x)\n",
    "    MinusLogProb = -norm.log_prob(x)\n",
    "grad = t.gradient(MinusLogProb,x)"
   ]
  },
  {
   "cell_type": "code",
   "execution_count": 252,
   "metadata": {
    "ExecuteTime": {
     "end_time": "2021-02-24T13:23:59.764130Z",
     "start_time": "2021-02-24T13:23:59.607115Z"
    }
   },
   "outputs": [
    {
     "data": {
      "text/plain": [
       "[<matplotlib.lines.Line2D at 0x7f85177caf50>]"
      ]
     },
     "execution_count": 252,
     "metadata": {},
     "output_type": "execute_result"
    },
    {
     "data": {
      "image/png": "[encoded data removed]",
      "text/plain": [
       "<Figure size 432x288 with 1 Axes>"
      ]
     },
     "metadata": {
      "needs_background": "light"
     },
     "output_type": "display_data"
    }
   ],
   "source": [
    "plt.plot(x,-MinusLogProb)"
   ]
  },
  {
   "cell_type": "markdown",
   "metadata": {},
   "source": [
    "# gradient"
   ]
  },
  {
   "cell_type": "code",
   "execution_count": 250,
   "metadata": {
    "ExecuteTime": {
     "end_time": "2021-02-24T13:22:55.863233Z",
     "start_time": "2021-02-24T13:22:55.693018Z"
    }
   },
   "outputs": [
    {
     "data": {
      "text/plain": [
       "[<matplotlib.lines.Line2D at 0x7f85175b2fd0>]"
      ]
     },
     "execution_count": 250,
     "metadata": {},
     "output_type": "execute_result"
    },
    {
     "data": {
      "image/png": "[encoded data removed]",
      "text/plain": [
       "<Figure size 432x288 with 1 Axes>"
      ]
     },
     "metadata": {
      "needs_background": "light"
     },
     "output_type": "display_data"
    }
   ],
   "source": [
    "plt.plot(x,grad)"
   ]
  },
  {
   "cell_type": "code",
   "execution_count": null,
   "metadata": {},
   "outputs": [],
   "source": []
  }
 ],
 "metadata": {
  "kernelspec": {
   "display_name": "Python 3.7.7 64-bit ('gempy': conda)",
   "language": "python",
   "name": "python37764bitgempyconda56adf421e2e348a0921383dec03a4eee"
  },
  "language_info": {
   "codemirror_mode": {
    "name": "ipython",
    "version": 3
   },
   "file_extension": ".py",
   "mimetype": "text/x-python",
   "name": "python",
   "nbconvert_exporter": "python",
   "pygments_lexer": "ipython3",
   "version": "3.7.7"
  },
  "varInspector": {
   "cols": {
    "lenName": 16,
    "lenType": 16,
    "lenVar": 40
   },
   "kernels_config": {
    "python": {
     "delete_cmd_postfix": "",
     "delete_cmd_prefix": "del ",
     "library": "var_list.py",
     "varRefreshCmd": "print(var_dic_list())"
    },
    "r": {
     "delete_cmd_postfix": ") ",
     "delete_cmd_prefix": "rm(",
     "library": "var_list.r",
     "varRefreshCmd": "cat(var_dic_list()) "
    }
   },
   "types_to_exclude": [
    "module",
    "function",
    "builtin_function_or_method",
    "instance",
    "_Feature"
   ],
   "window_display": false
  }
 },
 "nbformat": 4,
 "nbformat_minor": 4
}
