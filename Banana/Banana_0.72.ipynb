{
 "cells": [
  {
   "cell_type": "code",
   "execution_count": 2,
   "metadata": {
    "ExecuteTime": {
     "end_time": "2020-04-01T17:42:15.265366Z",
     "start_time": "2020-04-01T17:42:15.236607Z"
    }
   },
   "outputs": [],
   "source": [
    "#import library\n",
    "from scipy.stats import norm\n",
    "import numpy as np\n",
    "\n",
    "import tensorflow as tf\n",
    "import tensorflow_probability as tfp\n",
    "\n",
    "tfd = tfp.distributions\n",
    "import scipy.stats as st\n",
    "from mpl_toolkits.mplot3d import Axes3D\n",
    "import math\n",
    "import matplotlib.pyplot as plt\n",
    "\n",
    "import seaborn as sns\n",
    "import pandas as pd\n",
    "%matplotlib inline\n",
    "\n",
    "from Inference import MCMC\n",
    "from Banana import Banana_dist"
   ]
  },
  {
   "cell_type": "markdown",
   "metadata": {},
   "source": [
    "Define the prior by multuvatiate distribution"
   ]
  },
  {
   "cell_type": "code",
   "execution_count": 3,
   "metadata": {
    "ExecuteTime": {
     "end_time": "2020-04-01T17:42:16.122891Z",
     "start_time": "2020-04-01T17:42:16.119595Z"
    }
   },
   "outputs": [],
   "source": [
    "mu_1= [0.,0.]\n",
    "\n",
    "cov_1 = [[ 1,  0.],\n",
    "        [ 0.,  1]]\n"
   ]
  },
  {
   "cell_type": "code",
   "execution_count": 4,
   "metadata": {
    "ExecuteTime": {
     "end_time": "2020-04-01T17:42:22.436411Z",
     "start_time": "2020-04-01T17:42:16.284147Z"
    }
   },
   "outputs": [
    {
     "name": "stdout",
     "output_type": "stream",
     "text": [
      "WARNING:tensorflow:From /Users/zhouji/.local/lib/python3.7/site-packages/tensorflow/python/ops/linalg/linear_operator_lower_triangular.py:158: calling LinearOperator.__init__ (from tensorflow.python.ops.linalg.linear_operator) with graph_parents is deprecated and will be removed in a future version.\n",
      "Instructions for updating:\n",
      "Do not pass `graph_parents`.  They will  no longer be used.\n"
     ]
    },
    {
     "data": {
      "image/png": "[encoded data removed]",
      "text/plain": [
       "<Figure size 432x288 with 1 Axes>"
      ]
     },
     "metadata": {
      "needs_background": "light"
     },
     "output_type": "display_data"
    }
   ],
   "source": [
    "Bana_dist = Banana_dist(mu_1,cov_1)\n",
    "Bana_dist.draw_post()"
   ]
  },
  {
   "cell_type": "code",
   "execution_count": 5,
   "metadata": {
    "ExecuteTime": {
     "end_time": "2020-04-01T17:42:22.459147Z",
     "start_time": "2020-04-01T17:42:22.455306Z"
    }
   },
   "outputs": [],
   "source": [
    "## initial the model\n",
    "\n",
    "c = 0 # mean of observations\n",
    "N = 100 # number of observation data\n",
    "sigma2y = 1 # standard deviation of observation data\n",
    "## generate the observation data\n",
    "np.random.seed(121)\n",
    "y_ = np.random.normal(loc =c, scale = sigma2y, size = N)\n",
    "D = tf.convert_to_tensor(y_,dtype = tf.float32)\n",
    "\n",
    "np.random.seed(121)\n",
    "## define the log probability\n",
    "\n",
    "# @tf.function\n",
    "# def joint_log_post(D,theta1,theta2):\n",
    "#     # define random variables prior\n",
    "#     mvn = tfd.MultivariateNormalTriL(\n",
    "#             loc = mu_1,\n",
    "#             scale_tril=tf.linalg.cholesky(cov_1))\n",
    "#     z = tf.stack([theta1, theta2], axis=-1)\n",
    "#     # define likelihood\n",
    "#     y = tfd.Normal(loc = tf.add(theta2,tf.pow(theta1,2.)), scale = sigma2y)\n",
    "#     # return the posterior probability\n",
    "#     return(mvn.log_prob(tf.squeeze(z))\n",
    "#           +tf.reduce_sum(y.log_prob(D)))"
   ]
  },
  {
   "cell_type": "code",
   "execution_count": 6,
   "metadata": {
    "ExecuteTime": {
     "end_time": "2020-04-01T17:42:22.495961Z",
     "start_time": "2020-04-01T17:42:22.490334Z"
    }
   },
   "outputs": [],
   "source": [
    "## New joint posterior function with input vectorised \n",
    "@tf.function\n",
    "def joint_log_post(z):\n",
    "    # define random variables prior\n",
    "    D_n = tf.reshape(D,[D.shape[0],1])\n",
    "    D_n = tf.tile(D_n,[1,z.shape[0]])\n",
    "\n",
    "    mvn = tfd.MultivariateNormalTriL(\n",
    "            loc = mu_1,\n",
    "            scale_tril=tf.linalg.cholesky(cov_1))\n",
    "\n",
    "    # define likelihood\n",
    "    y = tfd.Normal(loc = tf.add(z[:,1],tf.pow(z[:,0],2.)), scale = sigma2y)\n",
    "    # return the posterior probability\n",
    "    return(mvn.log_prob(tf.squeeze(z))\n",
    "          +tf.reduce_sum(y.log_prob(D_n),axis = 0))"
   ]
  },
  {
   "cell_type": "code",
   "execution_count": 7,
   "metadata": {
    "ExecuteTime": {
     "end_time": "2020-04-01T17:42:28.449473Z",
     "start_time": "2020-04-01T17:42:22.520768Z"
    }
   },
   "outputs": [],
   "source": [
    "x_1, y_1 = np.mgrid[-2:2:.03, -2:2:.03]\n",
    "pos = np.empty(x_1.shape + (2,),dtype = np.float32) \n",
    "pos[:, :, 0] = x_1; pos[:, :, 1] = y_1\n",
    "pos = tf.convert_to_tensor(pos)\n",
    "\n",
    "def full_post():\n",
    "    post = np.empty(x_1.shape)\n",
    "    for i in range(np.arange(-2,2,.03).shape[0]):\n",
    "        for j in range(np.arange(-2,2,.03).shape[0]):\n",
    "            post[i][j] = joint_log_post(tf.convert_to_tensor([pos[i][j]]))\n",
    "    return post\n",
    "\n",
    "post =  full_post()"
   ]
  },
  {
   "cell_type": "code",
   "execution_count": 8,
   "metadata": {
    "ExecuteTime": {
     "end_time": "2020-04-01T17:42:28.495526Z",
     "start_time": "2020-04-01T17:42:28.489526Z"
    }
   },
   "outputs": [
    {
     "name": "stdout",
     "output_type": "stream",
     "text": [
      "x: 0.009999999999999787\n",
      "y 0.040000000000000036\n"
     ]
    }
   ],
   "source": [
    "print('x:',x_1[np.unravel_index(np.argmax(post),post.shape)])\n",
    "print('y',y_1[np.unravel_index(np.argmax(post),post.shape)])"
   ]
  },
  {
   "cell_type": "code",
   "execution_count": 9,
   "metadata": {
    "ExecuteTime": {
     "end_time": "2020-04-01T17:42:28.541233Z",
     "start_time": "2020-04-01T17:42:28.537302Z"
    }
   },
   "outputs": [
    {
     "data": {
      "text/plain": [
       "(67, 68)"
      ]
     },
     "execution_count": 9,
     "metadata": {},
     "output_type": "execute_result"
    }
   ],
   "source": [
    "np.unravel_index(np.argmax(post),post.shape)"
   ]
  },
  {
   "cell_type": "code",
   "execution_count": 10,
   "metadata": {
    "ExecuteTime": {
     "end_time": "2020-04-01T17:42:28.791087Z",
     "start_time": "2020-04-01T17:42:28.579158Z"
    }
   },
   "outputs": [
    {
     "data": {
      "image/png": "[encoded data removed]",
      "text/plain": [
       "<Figure size 432x288 with 1 Axes>"
      ]
     },
     "metadata": {
      "needs_background": "light"
     },
     "output_type": "display_data"
    }
   ],
   "source": [
    "# levels = np.arange(joint_log_post(D,-0.,-0.2), joint_log_post(D,-0.,-0.0), \n",
    "#                    (joint_log_post(D,-0.,-0.0)- joint_log_post(D,-0.,-0.2))/20)\n",
    "Min = tf.constant([[-0.,-0.2]])\n",
    "Max = tf.constant([[0.0099,0.04]])\n",
    "levels = np.arange(joint_log_post(Min), joint_log_post(Max), (joint_log_post(Max)- joint_log_post(Min))/50)\n",
    "\n",
    "def draw_post():\n",
    "#     plt.contourf(x_1, y_1, post,[joint_log_post(D,-0.,-0.13)])\n",
    "    plt.contourf(x_1, y_1, post,levels = levels,alpha = 0.7)\n",
    "\n",
    "    plt.xlim(-1.5,1.5)\n",
    "    plt.ylim(-2,0.5)\n",
    "    plt.xlabel(\"x1\",fontsize = 15)\n",
    "    plt.ylabel(\"x2\",fontsize = 15)\n",
    "draw_post()\n",
    "\n",
    "##TODO modify the color map"
   ]
  },
  {
   "cell_type": "markdown",
   "metadata": {},
   "source": [
    "## <b>RMH"
   ]
  },
  {
   "cell_type": "markdown",
   "metadata": {},
   "source": [
    "Adjust the step size"
   ]
  },
  {
   "cell_type": "code",
   "execution_count": 11,
   "metadata": {
    "ExecuteTime": {
     "end_time": "2020-04-01T17:42:28.835082Z",
     "start_time": "2020-04-01T17:42:28.832188Z"
    }
   },
   "outputs": [],
   "source": [
    "initial_chain_state = tf.constant([[-1.,-1.]])"
   ]
  },
  {
   "cell_type": "code",
   "execution_count": 12,
   "metadata": {
    "ExecuteTime": {
     "end_time": "2020-04-01T17:42:31.081092Z",
     "start_time": "2020-04-01T17:42:28.876929Z"
    }
   },
   "outputs": [
    {
     "name": "stderr",
     "output_type": "stream",
     "text": [
      "/Users/zhouji/anaconda3/envs/nightly/lib/python3.7/site-packages/tensorflow_probability/python/mcmc/sample.py:333: UserWarning: Tracing all kernel results by default is deprecated. Set the `trace_fn` argument to None (the future default value) or an explicit callback that traces the values you are interested in.\n",
      "  warnings.warn(\"Tracing all kernel results by default is deprecated. Set \"\n"
     ]
    }
   ],
   "source": [
    "num_results = 5000\n",
    "burnin = 100\n",
    "\n",
    "initial_chain_state = tf.constant([[-1.,-1.]])\n",
    "dtype = np.float32\n",
    "\n",
    "@tf.function\n",
    "def unnormalized_posterior_log_prob(*args):\n",
    "    return joint_log_post(*args)\n",
    "\n",
    "# adjust the step size of Random walk Matroplis Hasting MCMC\n",
    "def gauss_new_state_fn(scale, dtype):\n",
    "  gauss = tfd.Normal(loc=dtype(0), scale=dtype(scale))\n",
    "  def _fn(state_parts, seed):\n",
    "    next_state_parts = []\n",
    "    seed_stream  = tfp.util.SeedStream(seed, salt='RandomNormal')\n",
    "    for sp in state_parts:\n",
    "      next_state_parts.append(sp + gauss.sample(\n",
    "        sample_shape=sp.shape, seed=seed_stream()))\n",
    "    return next_state_parts\n",
    "  return _fn\n",
    "\n",
    "@tf.function\n",
    "def run_chain_RWMC(scale):\n",
    "    samples, kernel_results= tfp.mcmc.sample_chain(\n",
    "        num_results=num_results,\n",
    "        num_burnin_steps=burnin,\n",
    "        current_state=initial_chain_state,\n",
    "        kernel=tfp.mcmc.RandomWalkMetropolis(\n",
    "            target_log_prob_fn=unnormalized_posterior_log_prob,\n",
    "            new_state_fn=gauss_new_state_fn(scale=scale, dtype=dtype),\n",
    "            seed=42))  # For determinism.\n",
    "    return samples,kernel_results\n",
    "\n",
    "samples,kernel_results = run_chain_RWMC(0.1)\n",
    "\n",
    "samples = tf.stack(samples, axis=-1)\n",
    "accepted = kernel_results.is_accepted\n",
    "\n",
    "samples = samples.numpy()\n",
    "accepted = accepted.numpy()\n",
    "\n",
    "x1 = samples[:,0]\n",
    "y1 = samples[:,1]\n",
    "\n",
    "x_accepted = []\n",
    "y_accepted =[]"
   ]
  },
  {
   "cell_type": "code",
   "execution_count": 13,
   "metadata": {
    "ExecuteTime": {
     "end_time": "2020-04-01T17:42:31.138099Z",
     "start_time": "2020-04-01T17:42:31.136121Z"
    }
   },
   "outputs": [],
   "source": [
    "##### Test the sensitivity of learning rate \n",
    "# acc = []\n",
    "# for scale in np.arange(0.1,1,0.1):\n",
    "#     _,kernel_results_ = run_chain_RWMC(scale)\n",
    "#     accepted_ = kernel_results_.is_accepted\n",
    "#     print('Acceptance rate: %0.1f%%' % (100*tf.reduce_mean(tf.cast(accepted_, dtype=tf.float32))))\n",
    "#     acc.append(tf.reduce_mean(tf.cast(accepted_, dtype=tf.float32)))\n",
    "# plt.title('Matroplis Hasting acceptance rate against step size')\n",
    "# plt.ylabel('acceptance rate')\n",
    "# plt.xlabel('step size')\n",
    "# plt.plot(np.arange(0.1,1,0.1),acc)\n",
    "# plt.savefig('/Users/zhouji/Documents/Results/Banana/Randomw_walk_step.png')"
   ]
  },
  {
   "cell_type": "code",
   "execution_count": 14,
   "metadata": {
    "ExecuteTime": {
     "end_time": "2020-04-01T17:42:31.432256Z",
     "start_time": "2020-04-01T17:42:31.189265Z"
    }
   },
   "outputs": [
    {
     "name": "stdout",
     "output_type": "stream",
     "text": [
      "Acceptance rate: 61.7%\n"
     ]
    },
    {
     "data": {
      "image/png": "[encoded data removed]",
      "text/plain": [
       "<Figure size 432x288 with 1 Axes>"
      ]
     },
     "metadata": {
      "needs_background": "light"
     },
     "output_type": "display_data"
    }
   ],
   "source": [
    "x_accepted_RW = samples[0,0,np.where(accepted ==True)[0]]\n",
    "y_accepted_RW = samples[0,1,np.where(accepted ==True)[0]]\n",
    "\n",
    "plt.plot(x_accepted_RW,y_accepted_RW,'.')\n",
    "# plot_true()\n",
    "\n",
    "print('Acceptance rate: %0.1f%%' % (100*(x_accepted_RW.shape[0]/num_results)))\n",
    "draw_post()"
   ]
  },
  {
   "cell_type": "code",
   "execution_count": null,
   "metadata": {
    "ExecuteTime": {
     "end_time": "2020-04-01T17:41:51.652000Z",
     "start_time": "2020-04-01T17:41:49.015Z"
    }
   },
   "outputs": [],
   "source": [
    "plt.figure(figsize=(7,5))\n",
    "draw_post()\n",
    "x_accepted_RW = samples[0,0,np.where(accepted ==True)[0]]\n",
    "y_accepted_RW = samples[0,1,np.where(accepted ==True)[0]]\n",
    "x_rejected_RW = samples[0,0,np.where(accepted ==False)[0]]\n",
    "y_rejected_RW = samples[0,1,np.where(accepted ==False)[0]]\n",
    "\n",
    "plt.xlim(-1.5,1.5)\n",
    "plt.ylim(-2,0.5)\n",
    "plt.title('Metropolis–Hastings burn-in:100 Sample:500',fontsize = 15)\n",
    "plt.plot(x_accepted_RW,y_accepted_RW,'b.',label = 'accepted',alpha = 0.3)\n",
    "plt.plot(x_rejected_RW,y_rejected_RW,'r.',label = 'rejected',alpha = 0.3)\n",
    "        \n",
    "plt.legend(loc = 'upper right')\n",
    "# plt.savefig('/Users/zhouji/Documents/Results/Banana/Banana_randomwalk.png')"
   ]
  },
  {
   "cell_type": "code",
   "execution_count": null,
   "metadata": {
    "ExecuteTime": {
     "end_time": "2020-04-01T17:41:51.653111Z",
     "start_time": "2020-04-01T17:41:49.018Z"
    }
   },
   "outputs": [],
   "source": [
    "sns.kdeplot(x_accepted_RW)\n",
    "sns.kdeplot(y_accepted_RW)\n",
    "\n",
    "plt.xlabel(\"x1\",fontsize = 15)\n",
    "plt.ylabel(\"x2\",fontsize = 15)\n",
    "plt.title('RMH kdeplot')\n",
    "plt.axvline(x=0, linestyle='--')\n",
    "# plt.savefig('/Users/zhouji/Documents/Results/Banana/kde_RMH.png')"
   ]
  },
  {
   "cell_type": "markdown",
   "metadata": {},
   "source": [
    "<b> HMC"
   ]
  },
  {
   "cell_type": "code",
   "execution_count": null,
   "metadata": {
    "ExecuteTime": {
     "end_time": "2020-04-01T17:41:51.654022Z",
     "start_time": "2020-04-01T17:41:49.022Z"
    }
   },
   "outputs": [],
   "source": [
    "@tf.function\n",
    "def run_HMC():\n",
    "    samples, kernel_results = tfp.mcmc.sample_chain(\n",
    "        num_results=num_results,\n",
    "        current_state=initial_chain_state,\n",
    "        kernel=tfp.mcmc.HamiltonianMonteCarlo(\n",
    "            target_log_prob_fn=unnormalized_posterior_log_prob,\n",
    "            step_size = 0.02,\n",
    "            num_leapfrog_steps = 3),\n",
    "        num_burnin_steps=burnin,\n",
    "        num_steps_between_results=1,  # Thinning.\n",
    "        parallel_iterations=1)\n",
    "    return samples,kernel_results\n",
    "\n",
    "samples,kernel_results = run_HMC()\n",
    "\n",
    "samples = tf.stack(samples, axis=-1)\n",
    "accepted = kernel_results.is_accepted\n",
    "\n",
    "samples = samples.numpy()\n",
    "accepted = accepted.numpy()\n",
    "\n",
    "x1 = samples[:,0]\n",
    "y1 = samples[:,1]\n",
    "\n",
    "x_accepted = []\n",
    "y_accepted =[]"
   ]
  },
  {
   "cell_type": "code",
   "execution_count": null,
   "metadata": {
    "ExecuteTime": {
     "end_time": "2020-04-01T17:41:51.655138Z",
     "start_time": "2020-04-01T17:41:49.024Z"
    }
   },
   "outputs": [],
   "source": [
    "plt.figure(figsize=(7,5))\n",
    "draw_post()\n",
    "x_accepted_HMC = samples[0,0,np.where(accepted ==True)[0]]\n",
    "y_accepted_HMC = samples[0,1,np.where(accepted ==True)[0]]\n",
    "x_rejected_HMC = samples[0,0,np.where(accepted ==False)[0]]\n",
    "y_rejected_HMC = samples[0,1,np.where(accepted ==False)[0]]\n",
    "\n",
    "plt.xlim(-1.5,1.5)\n",
    "plt.ylim(-2,0.5)\n",
    "plt.title('Hamiltonian MC burn-in:100 Sample:500',fontsize = 15)\n",
    "plt.plot(x_accepted_HMC,y_accepted_HMC,'b.',label = 'accepted',alpha = 0.3)\n",
    "plt.plot(x_rejected_HMC,y_rejected_HMC,'r.',label = 'rejected',alpha = 1)\n",
    "        \n",
    "plt.legend(loc = 'upper right')\n",
    "print('Acceptance rate: %0.1f%%' % (100*(x_accepted_HMC.shape[0]/num_results)))\n",
    "plt.savefig('/Users/zhouji/Documents/Results/Banana/Banana_HMC.png')"
   ]
  },
  {
   "cell_type": "code",
   "execution_count": null,
   "metadata": {
    "ExecuteTime": {
     "end_time": "2020-04-01T17:41:51.656360Z",
     "start_time": "2020-04-01T17:41:49.026Z"
    }
   },
   "outputs": [],
   "source": [
    "sns.kdeplot(x_accepted_HMC)\n",
    "sns.kdeplot(y_accepted_HMC)\n",
    "\n",
    "plt.xlabel(\"x1\",fontsize = 15)\n",
    "plt.ylabel(\"x2\",fontsize = 15)\n",
    "plt.title('HMC kdeplot')\n",
    "plt.axvline(x=0, linestyle='--')\n",
    "plt.savefig('/Users/zhouji/Documents/Results/Banana/kde_HMC.png')"
   ]
  },
  {
   "cell_type": "markdown",
   "metadata": {},
   "source": [
    "<b> Hessian MCMC - banana v1.0"
   ]
  },
  {
   "cell_type": "markdown",
   "metadata": {},
   "source": [
    "Set up the target probability density"
   ]
  },
  {
   "cell_type": "markdown",
   "metadata": {},
   "source": []
  },
  {
   "cell_type": "markdown",
   "metadata": {},
   "source": [
    "<b> Gradient Descent"
   ]
  },
  {
   "cell_type": "code",
   "execution_count": null,
   "metadata": {
    "ExecuteTime": {
     "end_time": "2020-04-01T17:41:51.657720Z",
     "start_time": "2020-04-01T17:41:49.030Z"
    }
   },
   "outputs": [],
   "source": [
    "## Block out in case run by accident, takes too long to run 28 min\n",
    "steps = 10000\n",
    "@tf.function()\n",
    "def gradient_decent():\n",
    "    mu = tf.constant([[-0.1, -0.]])\n",
    "    for i in tf.range(steps):\n",
    "        with tf.GradientTape() as t:  \n",
    "            t.watch(mu)\n",
    "            loss = tf.negative(joint_log_post(mu))\n",
    "            dlossdmu = t.gradient(loss,mu)\n",
    "            mu = mu - 0.001*dlossdmu\n",
    "    return mu\n"
   ]
  },
  {
   "cell_type": "markdown",
   "metadata": {},
   "source": [
    "Let's take (0,0) as MAP for now"
   ]
  },
  {
   "cell_type": "code",
   "execution_count": null,
   "metadata": {
    "ExecuteTime": {
     "end_time": "2020-04-01T17:41:51.658991Z",
     "start_time": "2020-04-01T17:41:49.033Z"
    }
   },
   "outputs": [],
   "source": [
    "MAP = gradient_decent()"
   ]
  },
  {
   "cell_type": "markdown",
   "metadata": {},
   "source": [
    "A new hessian function 2019-11-27"
   ]
  },
  {
   "cell_type": "code",
   "execution_count": null,
   "metadata": {
    "ExecuteTime": {
     "end_time": "2020-04-01T17:41:51.660562Z",
     "start_time": "2020-04-01T17:41:49.035Z"
    }
   },
   "outputs": [],
   "source": [
    "@tf.function\n",
    "def Full_Hessian():\n",
    "    Hess = tf.TensorArray(tf.float32, size=2)\n",
    "    j=0\n",
    "    for i in range(2):\n",
    "        with tf.GradientTape() as t:\n",
    "            t.watch(MAP)\n",
    "            with tf.GradientTape() as tt:\n",
    "                tt.watch(MAP)\n",
    "                loss = -joint_log_post(MAP)\n",
    "            jac = tt.gradient(loss,MAP,unconnected_gradients='zero')[0][i]\n",
    "        hess = t.gradient(jac,MAP,unconnected_gradients = 'none')\n",
    "        Hess = Hess.write(j,hess)\n",
    "        j = j+1\n",
    "    return Hess.stack()\n",
    "\n",
    "New_Hessian = tf.squeeze(Full_Hessian())"
   ]
  },
  {
   "cell_type": "code",
   "execution_count": null,
   "metadata": {
    "ExecuteTime": {
     "end_time": "2020-04-01T17:41:51.661877Z",
     "start_time": "2020-04-01T17:41:49.037Z"
    }
   },
   "outputs": [],
   "source": [
    "New_Hessian"
   ]
  },
  {
   "cell_type": "markdown",
   "metadata": {},
   "source": [
    "#### Compute the Hessian and Covariance of the Posterior at MAP\n",
    "\n",
    "Laplace approximation\n",
    "\n",
    "\\begin{equation}\n",
    "\\mathcal{C}_{\\mathrm{post}}=\\left(\\mathcal{H}_{\\mathrm{misfit}}\\left(m_{\\nu}\\right)+\\mathcal{C}_{\\mathrm{prior}}^{-1}\\right)^{-1}\n",
    "\\end{equation}"
   ]
  },
  {
   "cell_type": "code",
   "execution_count": null,
   "metadata": {
    "ExecuteTime": {
     "end_time": "2020-04-01T17:41:51.663268Z",
     "start_time": "2020-04-01T17:41:49.040Z"
    }
   },
   "outputs": [],
   "source": [
    "cov= [[1.,0.],[0.,1.]]\n",
    "cov = tf.convert_to_tensor(cov,dtype = tf.float32)\n",
    "tf.linalg.inv(cov)"
   ]
  },
  {
   "cell_type": "code",
   "execution_count": null,
   "metadata": {
    "ExecuteTime": {
     "end_time": "2020-04-01T17:41:51.664359Z",
     "start_time": "2020-04-01T17:41:49.042Z"
    }
   },
   "outputs": [],
   "source": [
    "# C_post = [[5.3157514e-01, 2.5224808e-04],\n",
    "#        [2.5224808e-04, 9.8040411e-03]]"
   ]
  },
  {
   "cell_type": "code",
   "execution_count": null,
   "metadata": {
    "ExecuteTime": {
     "end_time": "2020-04-01T17:41:51.665682Z",
     "start_time": "2020-04-01T17:41:49.044Z"
    }
   },
   "outputs": [],
   "source": [
    "Sum = 0\n",
    "Sum = tf.add(New_Hessian,tf.linalg.inv(cov))\n",
    "C_post = tf.linalg.inv(Sum)\n",
    "C_post"
   ]
  },
  {
   "cell_type": "code",
   "execution_count": null,
   "metadata": {
    "ExecuteTime": {
     "end_time": "2020-04-01T17:41:51.666752Z",
     "start_time": "2020-04-01T17:41:49.046Z"
    }
   },
   "outputs": [],
   "source": [
    "from scipy.stats import multivariate_normal\n",
    "loc  = [0.,0.]\n",
    "cov = C_post\n",
    "x, y = np.mgrid[-4:4:.1, -4:4:.1]\n",
    "pos = np.empty(x.shape + (2,)) \n",
    "pos[:, :, 0] = x; pos[:, :, 1] = y\n",
    "rv = multivariate_normal(loc, cov)\n",
    "plt.contour(x, y, rv.pdf(pos))\n",
    "plt.xlabel(\"x1\")\n",
    "plt.ylabel(\"x2\")"
   ]
  },
  {
   "cell_type": "code",
   "execution_count": null,
   "metadata": {
    "ExecuteTime": {
     "end_time": "2020-04-01T17:41:51.668090Z",
     "start_time": "2020-04-01T17:41:49.048Z"
    }
   },
   "outputs": [],
   "source": [
    "\n",
    "def plot_dist(loc,cov):\n",
    "    x, y = np.mgrid[-4:4:.01, -4:4:.01]\n",
    "    pos = np.empty(x.shape + (2,)) \n",
    "    pos[:, :, 0] = x; pos[:, :, 1] = y\n",
    "    rv = multivariate_normal(loc, cov)\n",
    "#     plt.contour(x, y, rv.pdf(pos),np.arange(0.00001,0.0007,0.0001))\n",
    "    plt.contour(x, y, rv.pdf(pos),[1.,3,10.], cmap=plt.get_cmap('hot'))\n",
    "    plt.xlabel(\"x1\")\n",
    "    plt.ylabel(\"x2\")\n",
    "plot_dist(MAP[0],C_post)\n",
    "\n",
    "draw_post() \n",
    "\n",
    "# plt.savefig('/Users/zhouji/Documents/IRTG 2019/Presentation/Input/hess_banana.png')"
   ]
  },
  {
   "cell_type": "markdown",
   "metadata": {},
   "source": [
    "#### Define whether to accept or reject the new sample\n",
    "\\begin{equation}\n",
    "\\Phi\\left(m, \\mathbf{d}_{\\mathrm{obs}}\\right)=\\frac{1}{2}\\left\\|\\mathbf{f}(\\mathrm{m})-\\mathbf{d}_{\\mathrm{obs}}\\right\\|_{\\Gamma_{\\mathrm{noise}}^{-1}}\n",
    "\\end{equation}\n",
    "\n",
    "\n",
    "gpCN is a generalized version of the pCN sampler. While the proposals of pCN are drown from the prior Gaussian distribution $\\mu_{prior}$,proposals in the generalized pCN are drown from a Gaussian approximation $v$ of the posterior distribution.\n",
    "\n",
    "\\begin{equation}\n",
    "a_{\\nu}\\left(m_{\\mathrm{current}}, m_{\\mathrm{proposed}}\\right) :=\\min \\left\\{1, \\exp \\left(\\Delta\\left(m_{\\mathrm{current}}\\right)-\\Delta\\left(m_{\\mathrm{proposed}}\\right)\\right)\\right\\}\n",
    "\\end{equation}\n",
    "\n",
    "where   \n",
    "\n",
    "\\begin{equation}\n",
    "\\Delta(m)=\\Phi\\left(m, \\mathbf{d}_{\\mathrm{obs}}\\right)+\\frac{1}{2}\\left\\|\\mathrm{m}-\\mathrm{m}_{\\mathrm{prior}}\\right\\|_{C_{\\mathrm{prior}}^{-1}}^{2}-\\frac{1}{2}\\left\\|\\mathrm{m}-\\mathrm{m}_{\\nu}\\right\\|_{\\mathrm{C}_{\\nu}^{-1}}^{2}\n",
    "\\end{equation}\n",
    "\n",
    "$\\Phi\\left(m, \\mathbf{d}_{\\mathrm{obs}}\\right)+\\frac{1}{2}\\left\\|\\mathrm{m}-\\mathrm{m}_{\\mathrm{prior}}\\right\\|_{C_{\\mathrm{prior}}^{-1}}^{2}$  is the negative log posterior"
   ]
  },
  {
   "cell_type": "code",
   "execution_count": null,
   "metadata": {
    "ExecuteTime": {
     "end_time": "2020-04-01T17:41:51.669392Z",
     "start_time": "2020-04-01T17:41:49.051Z"
    }
   },
   "outputs": [],
   "source": [
    "@tf.function\n",
    "def matrixcompute(matrix1,matrix2,Cov):\n",
    "    matrix1 = tf.squeeze(matrix1)\n",
    "    matrix2 = tf.squeeze(matrix2)\n",
    "    matrix = tf.subtract(matrix1, matrix2)\n",
    "    matrix = tf.reshape(matrix,[matrix.shape[0],1])\n",
    "    matrix_T = tf.transpose(matrix)\n",
    "    Cov_inv = tf.linalg.inv(Cov)\n",
    "    result = tf.multiply(tf.constant(1/2),tf.matmul(tf.matmul(matrix_T,Cov_inv),matrix))\n",
    "    return result"
   ]
  },
  {
   "cell_type": "code",
   "execution_count": null,
   "metadata": {
    "ExecuteTime": {
     "end_time": "2020-04-01T17:41:51.670759Z",
     "start_time": "2020-04-01T17:41:49.053Z"
    }
   },
   "outputs": [],
   "source": [
    "@tf.function\n",
    "def negative_log_post(vars):\n",
    "    return(tf.negative(joint_log_post(vars)))\n",
    "@tf.function\n",
    "def acceptance_gpCN(m_current , m_proposed):\n",
    "    delta_current = tf.subtract(negative_log_post(m_current),matrixcompute(m_current,MAP,C_post))\n",
    "    delta_proposed = tf.subtract(negative_log_post(m_proposed),matrixcompute(m_proposed,MAP,C_post))\n",
    "\n",
    "    ## calculate accept ratio if exp()<1\n",
    "    accept_ratio = tf.exp(tf.subtract(delta_current,delta_proposed))\n",
    "    acceptsample = tfd.Sample(\n",
    "    tfd.Uniform(0., 1.),\n",
    "    sample_shape=[1,1])\n",
    "    sample = acceptsample.sample()\n",
    "    \n",
    "    if(accept_ratio > sample):\n",
    "        return True\n",
    "    else:\n",
    "        return False\n",
    "        "
   ]
  },
  {
   "cell_type": "code",
   "execution_count": null,
   "metadata": {
    "ExecuteTime": {
     "end_time": "2020-04-01T17:41:51.671989Z",
     "start_time": "2020-04-01T17:41:49.055Z"
    }
   },
   "outputs": [],
   "source": [
    "from IPython.display import clear_output\n",
    "# define leaning rate\n",
    "beta = tf.constant(0.85)\n",
    "\n",
    "@tf.function\n",
    "def draw_proposal(m_current,beta):\n",
    "    \n",
    "    _term1 = MAP\n",
    "    \n",
    "    ## sqrt term\n",
    "    tem_1 = tf.sqrt(1-beta**2)\n",
    "    ## sqrt(1-beta^2)()\n",
    "    _term2 = tem_1*(m_current-MAP)\n",
    "    \n",
    "    Xi = tfd.MultivariateNormalFullCovariance(\n",
    "            loc = 0,\n",
    "            covariance_matrix= C_post)\n",
    "\n",
    "    Xi_s = tfd.Sample(Xi)\n",
    "    _term3 = tf.multiply(beta,Xi_s.sample())\n",
    "    \n",
    "    m_proposed = _term1+_term2+_term3\n",
    "    \n",
    "    return m_proposed"
   ]
  },
  {
   "cell_type": "code",
   "execution_count": null,
   "metadata": {
    "ExecuteTime": {
     "end_time": "2020-04-01T17:41:51.672879Z",
     "start_time": "2020-04-01T17:41:49.057Z"
    }
   },
   "outputs": [],
   "source": [
    "mu_init = tf.constant([[-1.7,-1.5]])"
   ]
  },
  {
   "cell_type": "code",
   "execution_count": null,
   "metadata": {
    "ExecuteTime": {
     "end_time": "2020-04-01T17:41:51.674809Z",
     "start_time": "2020-04-01T17:41:49.059Z"
    }
   },
   "outputs": [],
   "source": [
    "number_of_steps = 10000\n",
    "\n",
    "def run_chain():\n",
    "    burn_in = 3000\n",
    "    steps = number_of_steps\n",
    "    k = 0\n",
    "    accepted = []\n",
    "    rejected = []\n",
    "\n",
    "    m_current = MAP  # init m\n",
    "    \n",
    "    \n",
    "    for k in range(steps+burn_in):\n",
    "\n",
    "        m_proposed = draw_proposal(m_current,beta)\n",
    "\n",
    "        if acceptance_gpCN(m_current,m_proposed):\n",
    "            m_current = m_proposed\n",
    "            if k > burn_in:\n",
    "                accepted.append(m_proposed.numpy())\n",
    "        else:\n",
    "            m_current = m_current\n",
    "            rejected.append(m_proposed.numpy())\n",
    "    \n",
    "    accepted = tf.squeeze(accepted)\n",
    "    rejected = tf.squeeze(rejected)\n",
    "    return accepted,rejected\n",
    "\n",
    "accepted,rejected = run_chain()\n",
    "\n",
    "print('acceptance rate = %0.1f%%' % (100*np.shape(accepted)[0]/number_of_steps))\n",
    "\n",
    "accepted = np.array(accepted)\n",
    "\n"
   ]
  },
  {
   "cell_type": "code",
   "execution_count": null,
   "metadata": {
    "ExecuteTime": {
     "end_time": "2020-04-01T17:41:51.676308Z",
     "start_time": "2020-04-01T17:41:49.061Z"
    }
   },
   "outputs": [],
   "source": [
    "# for beta in np.arange(0.1,1,0.01):\n",
    "#     accepted,rejected = run_chain()\n",
    "#     print(beta)\n",
    "#     print('acceptance rate = %0.1f%%' % (100*np.shape(accepted)[0]/number_of_steps))\n",
    "#     accepted = np.array(accepted)"
   ]
  },
  {
   "cell_type": "code",
   "execution_count": null,
   "metadata": {
    "ExecuteTime": {
     "end_time": "2020-04-01T17:41:51.677766Z",
     "start_time": "2020-04-01T17:41:49.065Z"
    }
   },
   "outputs": [],
   "source": [
    "plt.plot(accepted[:,0])"
   ]
  },
  {
   "cell_type": "code",
   "execution_count": null,
   "metadata": {
    "ExecuteTime": {
     "end_time": "2020-04-01T17:41:51.678805Z",
     "start_time": "2020-04-01T17:41:49.067Z"
    }
   },
   "outputs": [],
   "source": [
    "sns.kdeplot(accepted[:,0])\n",
    "sns.kdeplot(accepted[:,1])\n",
    "\n",
    "plt.xlabel(\"x1\",fontsize = 15)\n",
    "plt.ylabel(\"x2\",fontsize = 15)\n",
    "plt.title('Hessian MCMC kdeplot')\n",
    "plt.axvline(x=0, linestyle='--')\n",
    "# plt.savefig('/Users/zhouji/Documents/Results/Banana/kde_Hess.png')"
   ]
  },
  {
   "cell_type": "code",
   "execution_count": null,
   "metadata": {
    "ExecuteTime": {
     "end_time": "2020-04-01T17:41:51.680202Z",
     "start_time": "2020-04-01T17:41:49.070Z"
    }
   },
   "outputs": [],
   "source": [
    "# sns.kdeplot(x_accepted,y_accepted,ax=ax1)\n",
    "accepted = np.array(accepted)\n",
    "rejected = np.array(rejected)\n",
    "\n",
    "plt.title('Hessian-based MCMC burn-in:100 Sample:500',fontsize = 15)\n",
    "plt.plot(accepted[:,0],accepted[:,1],'b.',label = 'accepted',alpha = 0.3)\n",
    "# plt.plot(rejected[:,0],rejected[:,1],'r.',label = 'rejected',alpha = 0.3)\n",
    "plt.legend(loc = 'upper right')\n",
    "draw_post()\n",
    "# plt.savefig('/Users/zhouji/Documents/Results/Banana/Hessian_MCMC.png')"
   ]
  },
  {
   "cell_type": "code",
   "execution_count": null,
   "metadata": {
    "ExecuteTime": {
     "end_time": "2020-04-01T17:41:51.681101Z",
     "start_time": "2020-04-01T17:41:49.072Z"
    }
   },
   "outputs": [],
   "source": [
    "## New joint posterior function with input vectorised \n",
    "@tf.function\n",
    "def log_likelihood(z):\n",
    "\n",
    "    D_n = tf.reshape(D,[D.shape[0],1])\n",
    "    D_n = tf.tile(D_n,[1,z.shape[0]])\n",
    "\n",
    "    # define likelihood\n",
    "    y = tfd.Normal(loc = tf.add(z[:,1],tf.pow(z[:,0],2.)), scale = sigma2y)\n",
    "    # return the posterior probability\n",
    "    return  tf.reduce_sum(y.log_prob(D_n),axis = 0)"
   ]
  },
  {
   "cell_type": "code",
   "execution_count": null,
   "metadata": {
    "ExecuteTime": {
     "end_time": "2020-04-01T17:41:51.682395Z",
     "start_time": "2020-04-01T17:41:49.074Z"
    }
   },
   "outputs": [],
   "source": [
    "@tf.function\n",
    "def acceptance_pCN(m_current , m_proposed):\n",
    "    delta_current = -log_likelihood(m_current)\n",
    "    delta_proposed = -log_likelihood(m_proposed)\n",
    "    ## calculate accept ratio if exp()<1\n",
    "    accept_ratio = tf.exp(tf.subtract(delta_current,delta_proposed))\n",
    "    acceptsample = tfd.Sample(\n",
    "    tfd.Uniform(0., 1.),\n",
    "    sample_shape=[1,1])\n",
    "    sample = acceptsample.sample()\n",
    "    \n",
    "    if(accept_ratio > sample):\n",
    "        return True\n",
    "    else:\n",
    "        return False"
   ]
  },
  {
   "cell_type": "markdown",
   "metadata": {},
   "source": [
    "There was a mistake here"
   ]
  },
  {
   "cell_type": "markdown",
   "metadata": {},
   "source": [
    "### Modify the pCN proposal"
   ]
  },
  {
   "cell_type": "code",
   "execution_count": null,
   "metadata": {
    "ExecuteTime": {
     "end_time": "2020-04-01T17:41:51.683763Z",
     "start_time": "2020-04-01T17:41:49.077Z"
    }
   },
   "outputs": [],
   "source": [
    "@tf.function\n",
    "def draw_proposal_pCN(m_current,beta):\n",
    "    \n",
    "    term_1 = mu_1\n",
    "    ## sqrt term\n",
    "    tem_1 = tf.sqrt(1-beta**2)\n",
    "    ## sqrt(1-beta^2)()\n",
    "    _term2 = tem_1 * (m_current -mu_1)\n",
    "    \n",
    "    Xi = tfd.MultivariateNormalFullCovariance(\n",
    "            loc = 0,\n",
    "            covariance_matrix= cov_1)\n",
    "\n",
    "    Xi_s = tfd.Sample(Xi)\n",
    "    _term3 = tf.multiply(beta,Xi_s.sample())\n",
    "    \n",
    "    m_proposed = tf.add(term_1,tf.add(_term2,_term3))\n",
    "    \n",
    "    return m_proposed"
   ]
  },
  {
   "cell_type": "code",
   "execution_count": null,
   "metadata": {
    "ExecuteTime": {
     "end_time": "2020-04-01T17:41:51.684979Z",
     "start_time": "2020-04-01T17:41:49.079Z"
    }
   },
   "outputs": [],
   "source": [
    "num_results = 5000\n",
    "burnin = 1000\n",
    "\n",
    "beta = 0.4\n",
    "\n",
    "def run_chain(beta):\n",
    "    burn_in = burnin\n",
    "    steps = num_results\n",
    "    k = 0\n",
    "    accepted = []\n",
    "    rejected = []\n",
    "\n",
    "    m_current = mu_init  # init m\n",
    "    \n",
    "    \n",
    "    for k in range(steps+burn_in):\n",
    "\n",
    "        m_proposed = draw_proposal_pCN(m_current,beta)\n",
    "        \n",
    "#         if k%20 == 0: \n",
    "#             clear_output();\n",
    "#             print(k, \"finised\")\n",
    "        \n",
    "        if acceptance_pCN(m_current,m_proposed):\n",
    "            m_current = m_proposed\n",
    "            if k > burn_in:\n",
    "                accepted.append(m_proposed.numpy())\n",
    "        else:\n",
    "            m_current = m_current\n",
    "            rejected.append(m_proposed.numpy())\n",
    "            \n",
    "    accepted = tf.squeeze(accepted).numpy()\n",
    "    rejected = tf.squeeze(rejected).numpy()\n",
    "    \n",
    "    return accepted,rejected\n",
    "#     print(\"acceptance rate = %0.1f%%\", 100*np.shape(accepted)[0]/steps)\n",
    "    \n",
    "accepted,rejected = run_chain(beta)"
   ]
  },
  {
   "cell_type": "code",
   "execution_count": null,
   "metadata": {
    "ExecuteTime": {
     "end_time": "2020-04-01T17:41:51.686072Z",
     "start_time": "2020-04-01T17:41:49.081Z"
    }
   },
   "outputs": [],
   "source": [
    "print('acceptance rate = %0.1f%%' % (100*np.shape(accepted)[0]/number_of_steps))"
   ]
  },
  {
   "cell_type": "code",
   "execution_count": null,
   "metadata": {
    "ExecuteTime": {
     "end_time": "2020-04-01T17:41:51.686986Z",
     "start_time": "2020-04-01T17:41:49.083Z"
    }
   },
   "outputs": [],
   "source": [
    "accepted = np.array(accepted)\n",
    "rejected = np.array(rejected)\n",
    "\n",
    "plt.title('Hamiltonian MC burn-in:100 Sample:500',fontsize = 15)\n",
    "plt.plot(accepted[:,0],accepted[:,1],'b.',label = 'accepted',alpha = 0.3)\n",
    "# plt.plot(rejected[:,0],rejected[:,1],'r.',label = 'rejected',alpha = 0.3)\n",
    "draw_post()\n"
   ]
  },
  {
   "cell_type": "code",
   "execution_count": null,
   "metadata": {
    "ExecuteTime": {
     "end_time": "2020-04-01T17:41:51.687909Z",
     "start_time": "2020-04-01T17:41:49.086Z"
    }
   },
   "outputs": [],
   "source": [
    "sns.kdeplot(accepted[:,0])\n",
    "sns.kdeplot(accepted[:,1])\n",
    "\n",
    "plt.xlabel(\"x1\",fontsize = 15)\n",
    "plt.ylabel(\"x2\",fontsize = 15)\n",
    "plt.title('Hessian MCMC kdeplot')\n",
    "plt.axvline(x=0, linestyle='--')"
   ]
  },
  {
   "cell_type": "markdown",
   "metadata": {},
   "source": [
    "## Now is gpCN"
   ]
  },
  {
   "cell_type": "code",
   "execution_count": null,
   "metadata": {},
   "outputs": [],
   "source": []
  },
  {
   "cell_type": "code",
   "execution_count": null,
   "metadata": {},
   "outputs": [],
   "source": []
  },
  {
   "cell_type": "code",
   "execution_count": null,
   "metadata": {},
   "outputs": [],
   "source": []
  },
  {
   "cell_type": "code",
   "execution_count": null,
   "metadata": {},
   "outputs": [],
   "source": []
  },
  {
   "cell_type": "markdown",
   "metadata": {},
   "source": [
    "### Stein Variational method"
   ]
  },
  {
   "cell_type": "code",
   "execution_count": 15,
   "metadata": {
    "ExecuteTime": {
     "end_time": "2020-04-01T17:42:40.867872Z",
     "start_time": "2020-04-01T17:42:40.856360Z"
    }
   },
   "outputs": [],
   "source": [
    "def svgd_kernel(X0):\n",
    "    XY = tf.matmul(X0, tf.transpose(X0))\n",
    "    X2_ = tf.reduce_sum(tf.square(X0), axis=1)\n",
    "\n",
    "    x2 = tf.reshape( X2_, shape=( tf.shape(X0)[0], 1) )\n",
    "    \n",
    "    X2e = tf.tile(x2, [1, tf.shape(X0)[0] ] )\n",
    "    ## (x1 -x2)^2 + (y1 -y2)^2\n",
    "    H = tf.subtract(tf.add(X2e, tf.transpose(X2e) ), 2 * XY)\n",
    "\n",
    "    V = tf.reshape(H, [-1,1]) \n",
    "\n",
    "    # median distance\n",
    "    def get_median(v):\n",
    "        v = tf.reshape(v, [-1])\n",
    "        m = v.get_shape()[0]//2\n",
    "        return tf.nn.top_k(v, m).values[m-1]\n",
    "    h = get_median(V)\n",
    "    h = tf.sqrt(0.5 * h / tf.math.log( tf.cast( tf.shape(X0)[0] , tf.float32) + 1.0))\n",
    "\n",
    "    # compute the rbf kernel\n",
    "    Kxy = tf.exp(-H / h ** 2 / 2.0)\n",
    "\n",
    "    dxkxy = -tf.matmul(Kxy, X0)\n",
    "    sumkxy = tf.expand_dims(tf.reduce_sum(Kxy, axis=1), 1) \n",
    "    dxkxy = tf.add(dxkxy, tf.multiply(X0, sumkxy)) / (h ** 2)\n",
    "\n",
    "    return (Kxy, dxkxy)\n",
    "\n",
    "def get_median(v):\n",
    "    v = tf.reshape(v, [-1])\n",
    "    m = v.get_shape()[0]//2\n",
    "    return tf.nn.top_k(v, m).values[m-1]\n",
    "\n"
   ]
  },
  {
   "cell_type": "code",
   "execution_count": 16,
   "metadata": {
    "ExecuteTime": {
     "end_time": "2020-04-01T17:42:41.102682Z",
     "start_time": "2020-04-01T17:42:41.099354Z"
    }
   },
   "outputs": [],
   "source": [
    "dtype = tf.float32\n",
    "num_particles=250\n",
    "num_latent = 2\n",
    "lr = 0.003\n",
    "alpha=.9\n",
    "fudge_factor = 1e-6\n",
    "num_iter = 5000\n",
    "range_limit = [-3,3]\n",
    "npoints_plot=50"
   ]
  },
  {
   "cell_type": "code",
   "execution_count": 17,
   "metadata": {
    "ExecuteTime": {
     "end_time": "2020-04-01T17:42:41.429016Z",
     "start_time": "2020-04-01T17:42:41.425410Z"
    }
   },
   "outputs": [],
   "source": [
    "z_np = tf.convert_to_tensor(-np.random.randn(num_particles, num_latent)*2.0,dtype = tf.float32)"
   ]
  },
  {
   "cell_type": "code",
   "execution_count": 18,
   "metadata": {
    "ExecuteTime": {
     "end_time": "2020-04-01T17:42:42.560857Z",
     "start_time": "2020-04-01T17:42:42.552005Z"
    }
   },
   "outputs": [],
   "source": [
    "@tf.function\n",
    "def joint_log_post(z):\n",
    "    # define random variables prior\n",
    "    D_n = tf.reshape(D,[D.shape[0],1])\n",
    "    D_n = tf.tile(D_n,[1,num_particles])\n",
    "\n",
    "    mvn = tfd.MultivariateNormalTriL(\n",
    "            loc = mu_1,\n",
    "            scale_tril=tf.linalg.cholesky(cov_1))\n",
    "\n",
    "    # define likelihood\n",
    "    y = tfd.Normal(loc = tf.add(z[:,1],tf.pow(z[:,0],2.)), scale = sigma2y)\n",
    "    # return the posterior probability\n",
    "    return(mvn.log_prob(tf.squeeze(z))\n",
    "          +tf.reduce_sum(y.log_prob(D_n),axis = 0))"
   ]
  },
  {
   "cell_type": "code",
   "execution_count": 19,
   "metadata": {
    "ExecuteTime": {
     "end_time": "2020-04-01T17:42:42.846288Z",
     "start_time": "2020-04-01T17:42:42.842692Z"
    }
   },
   "outputs": [],
   "source": [
    "@tf.function\n",
    "def gradient(z_np):\n",
    "    with tf.GradientTape() as t:\n",
    "        t.watch(z_np)\n",
    "        f = joint_log_post(z_np)\n",
    "    log_p_grad = tf.squeeze(t.gradient(f,z_np))\n",
    "    return log_p_grad"
   ]
  },
  {
   "cell_type": "code",
   "execution_count": 20,
   "metadata": {
    "ExecuteTime": {
     "end_time": "2020-04-01T17:42:43.096478Z",
     "start_time": "2020-04-01T17:42:43.092780Z"
    }
   },
   "outputs": [],
   "source": [
    "def run_chain_svgd():\n",
    "    global z_np\n",
    "    for _ in range(num_iter):\n",
    "        log_p_grad = gradient(z_np)\n",
    "        kernel_matrix, kernel_gradients = svgd_kernel(z_np)\n",
    "        grad_theta = (tf.matmul(kernel_matrix, log_p_grad) + kernel_gradients)/num_particles\n",
    "        z_np = z_np+lr*grad_theta"
   ]
  },
  {
   "cell_type": "code",
   "execution_count": 21,
   "metadata": {
    "ExecuteTime": {
     "end_time": "2020-04-01T17:43:43.098415Z",
     "start_time": "2020-04-01T17:42:43.617587Z"
    }
   },
   "outputs": [],
   "source": [
    "run_chain_svgd()"
   ]
  },
  {
   "cell_type": "code",
   "execution_count": 22,
   "metadata": {
    "ExecuteTime": {
     "end_time": "2020-04-01T17:43:43.191300Z",
     "start_time": "2020-04-01T17:43:43.174668Z"
    }
   },
   "outputs": [],
   "source": [
    "log_p_grad = gradient(z_np)\n",
    "\n",
    "kernel_matrix, kernel_gradients = svgd_kernel(z_np)\n",
    "\n",
    "grad_theta = (tf.matmul(kernel_matrix, log_p_grad) + kernel_gradients)/num_particles"
   ]
  },
  {
   "cell_type": "code",
   "execution_count": null,
   "metadata": {},
   "outputs": [],
   "source": []
  },
  {
   "cell_type": "code",
   "execution_count": 23,
   "metadata": {
    "ExecuteTime": {
     "end_time": "2020-04-01T17:43:43.712642Z",
     "start_time": "2020-04-01T17:43:43.325241Z"
    }
   },
   "outputs": [
    {
     "data": {
      "text/plain": [
       "Text(0.5, 1.0, 'Initial particles: $p_0(z)$')"
      ]
     },
     "execution_count": 23,
     "metadata": {},
     "output_type": "execute_result"
    },
    {
     "data": {
      "image/png": "[encoded data removed]",
      "text/plain": [
       "<Figure size 1080x504 with 1 Axes>"
      ]
     },
     "metadata": {
      "needs_background": "light"
     },
     "output_type": "display_data"
    }
   ],
   "source": [
    "fig, _ = plt.subplots(figsize=(15, 7))\n",
    "ax=plt.subplot(1,3,1, aspect='equal')\n",
    "plt.scatter(z_np[:,0], z_np[:,1])  \n",
    "plt.xlim(range_limit); plt.ylim(range_limit); ax.set_title('Initial particles: $p_0(z)$')\n"
   ]
  },
  {
   "cell_type": "code",
   "execution_count": 24,
   "metadata": {
    "ExecuteTime": {
     "end_time": "2020-04-01T17:44:43.377698Z",
     "start_time": "2020-04-01T17:43:43.843707Z"
    }
   },
   "outputs": [],
   "source": [
    "for _ in range(num_iter):\n",
    "    log_p_grad = gradient(z_np)\n",
    "    kernel_matrix, kernel_gradients = svgd_kernel(z_np)\n",
    "    grad_theta = (tf.matmul(kernel_matrix, log_p_grad) + kernel_gradients)/num_particles\n",
    "    z_np = z_np+lr*grad_theta"
   ]
  },
  {
   "cell_type": "code",
   "execution_count": 25,
   "metadata": {
    "ExecuteTime": {
     "end_time": "2020-04-01T17:44:43.721325Z",
     "start_time": "2020-04-01T17:44:43.511886Z"
    }
   },
   "outputs": [
    {
     "data": {
      "text/plain": [
       "Text(0.5, 1.0, 'Updated particles: $p_k(z)$')"
      ]
     },
     "execution_count": 25,
     "metadata": {},
     "output_type": "execute_result"
    },
    {
     "data": {
      "image/png": "[encoded data removed]",
      "text/plain": [
       "<Figure size 1080x504 with 1 Axes>"
      ]
     },
     "metadata": {
      "needs_background": "light"
     },
     "output_type": "display_data"
    }
   ],
   "source": [
    "fig, _ = plt.subplots(figsize=(15, 7))\n",
    "ax=plt.subplot(1,3,1, aspect='equal')\n",
    "plt.scatter(z_np[:,0], z_np[:,1])\n",
    "plt.xlim(range_limit); plt.ylim(range_limit); ax.set_title('Updated particles: $p_k(z)$')"
   ]
  },
  {
   "cell_type": "code",
   "execution_count": 26,
   "metadata": {
    "ExecuteTime": {
     "end_time": "2020-04-01T17:44:44.115696Z",
     "start_time": "2020-04-01T17:44:43.865092Z"
    }
   },
   "outputs": [
    {
     "data": {
      "text/plain": [
       "<tf.Tensor: shape=(250, 2), dtype=float32, numpy=\n",
       "array([[ 5.96961141e-01,  2.05730033e+00],\n",
       "       [-1.36005676e+00, -1.52852905e+00],\n",
       "       [ 3.10914917e+01,  1.82997017e+01],\n",
       "       [ 2.40070686e+01, -1.16218700e+01],\n",
       "       [ 1.19111729e+00,  1.68097267e+01],\n",
       "       [ 7.69949245e+00, -1.44062271e+01],\n",
       "       [-2.85000539e+00,  5.07028532e+00],\n",
       "       [ 6.72384405e+00, -1.54878769e+01],\n",
       "       [-4.70987368e+00, -6.40441704e+00],\n",
       "       [-5.53685606e-01,  4.60540438e+00],\n",
       "       [-2.36834788e+00,  2.71274042e+00],\n",
       "       [ 8.06756616e-01,  1.07596898e+00],\n",
       "       [-1.65727890e+00,  2.20216441e+00],\n",
       "       [ 6.88822937e+00, -2.94495249e+00],\n",
       "       [-8.56462574e+00, -1.85662880e+01],\n",
       "       [-7.57843113e+00,  8.09707546e+00],\n",
       "       [ 4.31674910e+00,  7.68980694e+00],\n",
       "       [ 2.65873375e+01, -9.12223911e+00],\n",
       "       [-3.45432701e+01, -2.04684982e+01],\n",
       "       [ 3.08497047e+00, -1.59664640e+01],\n",
       "       [-3.60474539e+00,  3.88077021e+00],\n",
       "       [ 1.22561097e+00, -4.97703493e-01],\n",
       "       [-2.37889824e+01, -1.11947126e+01],\n",
       "       [-5.40126753e+00,  7.01282454e+00],\n",
       "       [-7.44733381e+00, -1.01753063e+01],\n",
       "       [-3.91123080e+00,  3.45059490e+00],\n",
       "       [ 3.56888819e+00, -1.06117249e+00],\n",
       "       [-6.85636997e+00,  2.25499573e+01],\n",
       "       [-1.46290607e+01,  8.56046295e+00],\n",
       "       [ 5.49832266e-03,  2.03752685e+00],\n",
       "       [-1.36658955e+01, -2.13005047e+01],\n",
       "       [-5.83219349e-01,  1.58262408e+00],\n",
       "       [ 5.26764870e+00,  4.21127844e+00],\n",
       "       [-3.20430064e+00, -1.10675087e+01],\n",
       "       [-2.58140945e+00, -4.44992590e+00],\n",
       "       [ 6.93028593e+00, -8.80473232e+00],\n",
       "       [ 1.74658513e+00,  7.42523050e+00],\n",
       "       [ 6.10287368e-01, -1.00074768e+01],\n",
       "       [ 1.09422728e-01,  5.84441328e+00],\n",
       "       [ 2.08470421e+01, -2.45509586e+01],\n",
       "       [-1.79907093e+01,  9.18951511e+00],\n",
       "       [ 1.46819448e+00,  2.03258157e+00],\n",
       "       [-3.55321598e+00,  6.69350910e+00],\n",
       "       [-6.56088495e+00,  5.11030769e+00],\n",
       "       [ 3.56224556e+01, -1.14603748e+01],\n",
       "       [-3.43502274e+01, -1.71590290e+01],\n",
       "       [-1.13321543e+01,  6.89307499e+00],\n",
       "       [-7.85679913e+00, -2.39807272e+00],\n",
       "       [-3.55998917e+01,  2.76053581e+01],\n",
       "       [-4.19238281e+00, -1.91720772e+00],\n",
       "       [-3.19134736e+00, -2.83264184e+00],\n",
       "       [ 1.62049789e+01,  1.17917709e+01],\n",
       "       [ 1.03548014e+00, -5.36415577e+00],\n",
       "       [-6.79626584e-01,  1.41812444e+00],\n",
       "       [-2.35783100e+00, -4.91474390e+00],\n",
       "       [ 3.33000493e+00,  4.17678833e+00],\n",
       "       [-6.87867522e-01,  2.59549689e+00],\n",
       "       [ 1.13257771e+01, -1.43686914e+01],\n",
       "       [ 1.42576754e-01,  5.76157689e-01],\n",
       "       [ 1.63386524e-01,  8.41859150e+00],\n",
       "       [-1.69649541e-01,  2.52609897e+00],\n",
       "       [-2.56581640e+00, -9.31409717e-01],\n",
       "       [-6.49430990e-01,  1.45740342e+00],\n",
       "       [ 8.70655060e+00, -7.88233757e+00],\n",
       "       [ 6.56183338e+00,  4.69426346e+00],\n",
       "       [ 1.15575647e+01, -1.76275504e+00],\n",
       "       [-1.33013296e+01, -7.24734640e+00],\n",
       "       [-9.06049609e-01, -2.06926203e+00],\n",
       "       [ 3.95931029e+00,  4.84407091e+00],\n",
       "       [-9.75909901e+00,  5.98126650e+00],\n",
       "       [-1.91218395e+01,  2.72138729e+01],\n",
       "       [-8.20881307e-01, -8.63326645e+00],\n",
       "       [ 4.73567772e+00, -6.03167629e+00],\n",
       "       [ 4.81221724e+00,  1.57894316e+01],\n",
       "       [-1.83177257e+00,  5.28209162e+00],\n",
       "       [ 1.18221626e+01, -6.64597273e+00],\n",
       "       [ 1.18709219e+00,  5.33243942e+00],\n",
       "       [-1.10556278e+01,  2.25191574e+01],\n",
       "       [ 6.31627560e+00, -1.09867582e+01],\n",
       "       [ 9.63153744e+00,  2.20465546e+01],\n",
       "       [-6.71766996e-01,  1.39430988e+00],\n",
       "       [-2.32421055e-01,  1.34320831e+00],\n",
       "       [-1.53087139e-01,  3.26863241e+00],\n",
       "       [ 1.22724378e+00, -2.10220408e+00],\n",
       "       [-4.94917303e-01,  6.84395885e+00],\n",
       "       [ 1.00337923e+00, -2.94941902e-01],\n",
       "       [-1.72276745e+01, -1.53088751e+01],\n",
       "       [-7.77827883e+00,  1.24995584e+01],\n",
       "       [-1.68522727e+00,  4.55434704e+00],\n",
       "       [-5.73812819e+00,  4.38028097e+00],\n",
       "       [ 3.17861319e+00,  9.95799541e+00],\n",
       "       [-8.74658680e+00, -1.33367605e+01],\n",
       "       [-4.59882736e-01, -4.99555081e-01],\n",
       "       [-2.66544133e-01, -1.35199909e+01],\n",
       "       [-2.74356079e+00, -7.78906488e+00],\n",
       "       [-2.99831653e+00, -1.54372573e+00],\n",
       "       [ 1.19959288e+01, -8.02675438e+00],\n",
       "       [ 6.02007151e-01,  2.52477336e+00],\n",
       "       [ 8.26649666e+00, -1.60264473e+01],\n",
       "       [ 1.09115899e+00,  4.46246147e+00],\n",
       "       [-1.55984730e-01,  4.68456411e+00],\n",
       "       [ 7.95064020e+00,  1.08096523e+01],\n",
       "       [ 1.76238861e+01, -1.46868620e+01],\n",
       "       [-2.67238007e+01, -1.72596855e+01],\n",
       "       [ 1.23893654e+00, -4.45474720e+00],\n",
       "       [-2.80236588e+01, -2.38190174e+01],\n",
       "       [-1.10892267e+01, -8.10035896e+00],\n",
       "       [-2.93165326e+00,  3.59125233e+00],\n",
       "       [-4.89104033e+00, -7.79098368e+00],\n",
       "       [-1.93737659e+01, -8.01307297e+00],\n",
       "       [-1.56512666e+00,  8.68684196e+00],\n",
       "       [ 9.70882833e-01,  6.01284885e+00],\n",
       "       [ 5.36865234e-01,  6.56490982e-01],\n",
       "       [ 8.42262268e+00,  6.54014063e+00],\n",
       "       [ 1.60476208e+01,  1.18785181e+01],\n",
       "       [-5.05870819e+00, -1.13973122e+01],\n",
       "       [ 7.58339882e+00, -2.71157265e+00],\n",
       "       [-7.48284340e+00, -5.56180382e+00],\n",
       "       [ 7.62382984e-01, -2.40949860e+01],\n",
       "       [ 3.10928798e+00,  4.35180855e+00],\n",
       "       [ 2.77176809e+00,  3.92697096e+00],\n",
       "       [ 1.87978230e+01, -1.45135021e+01],\n",
       "       [-1.77621448e+00, -8.31191635e+00],\n",
       "       [-1.43625593e+01, -1.86754990e+01],\n",
       "       [-3.26990104e+00,  7.52699375e+00],\n",
       "       [ 3.37955189e+00,  3.17933750e+00],\n",
       "       [ 5.32235527e+00, -9.29240608e+00],\n",
       "       [ 2.37609901e+01,  2.41541023e+01],\n",
       "       [-1.49806557e+01, -1.22884064e+01],\n",
       "       [-2.50762796e+00, -2.94972360e-01],\n",
       "       [ 1.18517342e+01, -7.26729298e+00],\n",
       "       [-2.20487189e+00, -1.97551882e+00],\n",
       "       [-2.29422897e-01, -5.33318949e+00],\n",
       "       [-2.52671719e+00,  8.20115376e+00],\n",
       "       [ 2.43700242e+00,  3.11164808e+00],\n",
       "       [ 1.41196191e-01,  8.06789756e-01],\n",
       "       [ 3.05989504e+00,  9.71836090e+00],\n",
       "       [-4.19289351e+00, -3.32223296e+00],\n",
       "       [ 1.42356443e+01,  1.65045052e+01],\n",
       "       [-2.66296177e+01,  1.30511112e+01],\n",
       "       [ 5.16921341e-01,  1.45119500e+00],\n",
       "       [-2.88472061e+01, -1.19450665e+01],\n",
       "       [ 3.41654134e+00,  3.43869257e+00],\n",
       "       [-5.16631901e-01, -5.12872159e-01],\n",
       "       [-1.07241464e+00,  6.90009534e-01],\n",
       "       [ 3.36462164e+00,  4.46173811e+00],\n",
       "       [ 1.76365867e-01,  3.21474522e-02],\n",
       "       [ 2.26484060e+00, -2.92613602e+00],\n",
       "       [ 2.46689796e+00,  2.38684101e+01],\n",
       "       [ 3.74886017e+01, -2.52603741e+01],\n",
       "       [ 1.89150848e+01, -1.67746983e+01],\n",
       "       [-2.01422763e+00,  3.85072398e+00],\n",
       "       [ 9.32000542e+00,  9.03137207e+00],\n",
       "       [ 8.03743172e+00,  1.65486336e-01],\n",
       "       [ 5.14128685e+00, -2.64382577e+00],\n",
       "       [-4.19246721e+00,  6.52320719e+00],\n",
       "       [ 1.28613281e+01,  1.31655054e+01],\n",
       "       [-5.89497614e+00,  8.55811310e+00],\n",
       "       [ 4.00134134e+00, -1.38497267e+01],\n",
       "       [ 5.89525223e+00,  5.53979683e+00],\n",
       "       [ 1.17059774e+01,  7.89138889e+00],\n",
       "       [-2.44722819e+00,  7.92601061e+00],\n",
       "       [-4.60637093e+00,  9.58482838e+00],\n",
       "       [-3.11106415e+01, -1.15668421e+01],\n",
       "       [-3.61044216e+00, -4.36372280e+00],\n",
       "       [-3.61106694e-02,  4.24381542e+00],\n",
       "       [ 3.72790194e+00, -7.67297208e-01],\n",
       "       [ 2.54953265e+00, -3.19018936e+00],\n",
       "       [ 2.52234077e+01,  1.61253128e+01],\n",
       "       [ 1.93798542e-01,  1.74072480e+00],\n",
       "       [ 5.32701683e+00, -4.07325983e+00],\n",
       "       [ 4.91944656e+01, -2.08073502e+01],\n",
       "       [-3.94555664e+00, -1.51349854e+00],\n",
       "       [ 5.32294941e+00, -4.76514149e+00],\n",
       "       [-1.26098037e+00,  6.33800459e+00],\n",
       "       [ 3.54941597e+01,  1.67924004e+01],\n",
       "       [-1.70780569e-01,  6.29977345e-01],\n",
       "       [-1.97779506e-01, -5.90974867e-01],\n",
       "       [-7.47719169e-01,  2.29815006e+00],\n",
       "       [-2.01710453e+01,  1.07739267e+01],\n",
       "       [ 2.17485638e+01, -7.70972443e+00],\n",
       "       [-6.21629763e+00, -6.14542627e+00],\n",
       "       [-7.58473969e+00,  6.78774786e+00],\n",
       "       [ 1.75499260e+00, -2.90037465e+00],\n",
       "       [-3.15260231e-01,  3.73801970e+00],\n",
       "       [ 6.81416607e+00,  4.78462362e+00],\n",
       "       [ 4.62581776e-02,  5.38065290e+00],\n",
       "       [ 1.15895214e+01, -4.57558727e+00],\n",
       "       [-6.52063417e+00,  5.07520866e+00],\n",
       "       [ 3.92019796e+00, -1.95555997e+00],\n",
       "       [-8.87977481e-01, -4.45324612e+00],\n",
       "       [-7.27268124e+00,  5.72025013e+00],\n",
       "       [ 1.08835640e+01, -6.07904625e+00],\n",
       "       [ 9.85872746e+00,  1.33326864e+01],\n",
       "       [ 1.42068732e+00,  2.81995416e+00],\n",
       "       [ 2.14694071e+00,  2.47129202e+00],\n",
       "       [-1.02562881e+00,  3.91105986e+00],\n",
       "       [-1.35146230e-01,  5.89070320e-01],\n",
       "       [-4.58144474e+00,  5.01453018e+00],\n",
       "       [-2.75233669e+01, -8.99888420e+00],\n",
       "       [ 2.44459105e+00,  8.22315884e+00],\n",
       "       [-1.81328583e+00, -1.79789581e+01],\n",
       "       [-6.57408357e-01,  1.68374884e+00],\n",
       "       [-9.35207963e-01,  3.50576997e+00],\n",
       "       [-1.06484962e+00, -4.32190752e+00],\n",
       "       [ 1.60558987e+00, -1.32166338e+00],\n",
       "       [ 1.11556883e+01, -1.20175056e+01],\n",
       "       [-8.48318458e-01,  3.42479134e+00],\n",
       "       [-7.88126421e+00,  6.56410313e+00],\n",
       "       [-3.55251408e+00,  3.93711019e+00],\n",
       "       [-2.70489526e+00, -9.87612128e-01],\n",
       "       [-3.70648026e-01,  2.92190933e+00],\n",
       "       [-4.84270096e+00, -2.44261026e+00],\n",
       "       [ 1.85294318e+00, -6.25463676e+00],\n",
       "       [-2.77813482e+00, -1.09687424e+00],\n",
       "       [ 2.94383068e+01,  1.57311897e+01],\n",
       "       [-2.43610325e+01,  1.42752018e+01],\n",
       "       [ 1.70179677e+00,  4.94582701e+00],\n",
       "       [ 1.65083718e+00, -1.08643246e+00],\n",
       "       [-1.07340050e+01,  1.18841047e+01],\n",
       "       [ 1.78213871e+00, -8.52716541e+00],\n",
       "       [-1.68464413e+01,  1.56603413e+01],\n",
       "       [-8.60887241e+00,  8.58895969e+00],\n",
       "       [ 3.98440194e+00,  3.97814083e+00],\n",
       "       [-1.02264309e+00, -3.67724919e+00],\n",
       "       [-1.19208944e+00,  2.99774384e+00],\n",
       "       [-2.30170460e+01, -6.47400856e+00],\n",
       "       [ 4.17128980e-01, -8.55880165e+00],\n",
       "       [ 5.14086545e-01,  5.48851073e-01],\n",
       "       [ 1.10334139e+01,  1.74821568e+01],\n",
       "       [ 1.38349128e+00, -1.03922808e+00],\n",
       "       [-1.67698936e+01, -1.31288452e+01],\n",
       "       [-7.73084927e+00, -8.77683640e+00],\n",
       "       [-2.52223053e+01,  1.57307787e+01],\n",
       "       [ 4.25815926e+01, -2.28232918e+01],\n",
       "       [-2.59932017e+00, -1.89127731e+00],\n",
       "       [-7.83747673e-01, -3.62540841e-01],\n",
       "       [ 5.81083584e+00,  4.46590519e+00],\n",
       "       [ 1.91015685e+00, -3.24904847e+00],\n",
       "       [ 1.15216434e+00,  3.35293388e+00],\n",
       "       [ 2.53150010e+00,  1.10915642e+01],\n",
       "       [-5.95161855e-01, -7.66524458e+00],\n",
       "       [ 3.56688309e+00,  6.97212410e+00],\n",
       "       [-1.87236004e+01,  1.46616192e+01],\n",
       "       [-1.69130459e+01, -8.44659424e+00],\n",
       "       [ 2.64828262e+01,  2.13265038e+01],\n",
       "       [ 7.58898556e-01,  1.60162485e+00],\n",
       "       [ 8.81565511e-02,  5.35451591e-01],\n",
       "       [ 6.12071514e-01,  7.19599724e-01],\n",
       "       [ 9.62130547e-01,  1.64209318e+00]], dtype=float32)>"
      ]
     },
     "execution_count": 26,
     "metadata": {},
     "output_type": "execute_result"
    }
   ],
   "source": [
    "with tf.GradientTape() as t:\n",
    "    t.watch(z_np)\n",
    "    f = joint_log_post(z_np)\n",
    "tf.squeeze(t.gradient(f,z_np))"
   ]
  },
  {
   "cell_type": "markdown",
   "metadata": {},
   "source": [
    "## Make animation"
   ]
  },
  {
   "cell_type": "code",
   "execution_count": 27,
   "metadata": {
    "ExecuteTime": {
     "end_time": "2020-04-01T17:44:44.355056Z",
     "start_time": "2020-04-01T17:44:44.335648Z"
    }
   },
   "outputs": [],
   "source": [
    "from matplotlib import animation, rc\n",
    "from IPython.display import HTML"
   ]
  },
  {
   "cell_type": "code",
   "execution_count": 28,
   "metadata": {
    "ExecuteTime": {
     "end_time": "2020-04-01T17:44:44.657149Z",
     "start_time": "2020-04-01T17:44:44.495050Z"
    }
   },
   "outputs": [
    {
     "data": {
      "image/png": "[encoded data removed]",
      "text/plain": [
       "<Figure size 504x504 with 1 Axes>"
      ]
     },
     "metadata": {
      "needs_background": "light"
     },
     "output_type": "display_data"
    }
   ],
   "source": [
    "fig, ax = plt.subplots(figsize=(7, 7))\n",
    "\n",
    "ax.set_xlim(( -3, 3))\n",
    "ax.set_ylim((-3, 3))\n",
    "\n",
    "\n",
    "\n",
    "particels, = ax.plot(z_np[:,0], z_np[:,1],'o',ms =6,color = 'cornflowerblue')\n",
    "\n",
    "z_np = tf.convert_to_tensor(-np.random.randn(num_particles, num_latent)*2.0,dtype = tf.float32)\n",
    "lr = 0.002\n",
    "\n",
    "def init():\n",
    "    particels.set_data([], [])\n",
    "    return (particels,)\n",
    "\n",
    "\n",
    "def animate(i):\n",
    "    global z_np, lr\n",
    "    log_p_grad = gradient(z_np)\n",
    "    kernel_matrix, kernel_gradients = svgd_kernel(z_np)\n",
    "    grad_theta = (tf.matmul(kernel_matrix, log_p_grad) + kernel_gradients)/num_particles\n",
    "    z_np = z_np+lr*grad_theta\n",
    "    particels.set_data(z_np[:,0], z_np[:,1])\n",
    "\n",
    "    return (particels,)\n",
    "\n",
    "anim = animation.FuncAnimation(fig, animate, init_func=init,\n",
    "                               frames=2500, interval=20, blit=True)\n",
    "\n"
   ]
  },
  {
   "cell_type": "code",
   "execution_count": 29,
   "metadata": {
    "ExecuteTime": {
     "end_time": "2020-04-01T17:44:44.818328Z",
     "start_time": "2020-04-01T17:44:44.792970Z"
    }
   },
   "outputs": [
    {
     "ename": "RuntimeError",
     "evalue": "Requested MovieWriter (ffmpeg) not available",
     "output_type": "error",
     "traceback": [
      "\u001b[0;31m---------------------------------------------------------------------------\u001b[0m",
      "\u001b[0;31mKeyError\u001b[0m                                  Traceback (most recent call last)",
      "\u001b[0;32m~/anaconda3/envs/nightly/lib/python3.7/site-packages/matplotlib/animation.py\u001b[0m in \u001b[0;36m__getitem__\u001b[0;34m(self, name)\u001b[0m\n\u001b[1;32m    160\u001b[0m         \u001b[0;32mtry\u001b[0m\u001b[0;34m:\u001b[0m\u001b[0;34m\u001b[0m\u001b[0;34m\u001b[0m\u001b[0m\n\u001b[0;32m--> 161\u001b[0;31m             \u001b[0;32mreturn\u001b[0m \u001b[0mself\u001b[0m\u001b[0;34m.\u001b[0m\u001b[0mavail\u001b[0m\u001b[0;34m[\u001b[0m\u001b[0mname\u001b[0m\u001b[0;34m]\u001b[0m\u001b[0;34m\u001b[0m\u001b[0;34m\u001b[0m\u001b[0m\n\u001b[0m\u001b[1;32m    162\u001b[0m         \u001b[0;32mexcept\u001b[0m \u001b[0mKeyError\u001b[0m\u001b[0;34m:\u001b[0m\u001b[0;34m\u001b[0m\u001b[0;34m\u001b[0m\u001b[0m\n",
      "\u001b[0;31mKeyError\u001b[0m: 'ffmpeg'",
      "\nDuring handling of the above exception, another exception occurred:\n",
      "\u001b[0;31mRuntimeError\u001b[0m                              Traceback (most recent call last)",
      "\u001b[0;32m<ipython-input-29-f885f4acf935>\u001b[0m in \u001b[0;36m<module>\u001b[0;34m\u001b[0m\n\u001b[0;32m----> 1\u001b[0;31m \u001b[0mHTML\u001b[0m\u001b[0;34m(\u001b[0m\u001b[0manim\u001b[0m\u001b[0;34m.\u001b[0m\u001b[0mto_html5_video\u001b[0m\u001b[0;34m(\u001b[0m\u001b[0;34m)\u001b[0m\u001b[0;34m)\u001b[0m\u001b[0;34m\u001b[0m\u001b[0;34m\u001b[0m\u001b[0m\n\u001b[0m",
      "\u001b[0;32m~/anaconda3/envs/nightly/lib/python3.7/site-packages/matplotlib/animation.py\u001b[0m in \u001b[0;36mto_html5_video\u001b[0;34m(self, embed_limit)\u001b[0m\n\u001b[1;32m   1324\u001b[0m                 \u001b[0;31m# We create a writer manually so that we can get the\u001b[0m\u001b[0;34m\u001b[0m\u001b[0;34m\u001b[0m\u001b[0;34m\u001b[0m\u001b[0m\n\u001b[1;32m   1325\u001b[0m                 \u001b[0;31m# appropriate size for the tag\u001b[0m\u001b[0;34m\u001b[0m\u001b[0;34m\u001b[0m\u001b[0;34m\u001b[0m\u001b[0m\n\u001b[0;32m-> 1326\u001b[0;31m                 \u001b[0mWriter\u001b[0m \u001b[0;34m=\u001b[0m \u001b[0mwriters\u001b[0m\u001b[0;34m[\u001b[0m\u001b[0mrcParams\u001b[0m\u001b[0;34m[\u001b[0m\u001b[0;34m'animation.writer'\u001b[0m\u001b[0;34m]\u001b[0m\u001b[0;34m]\u001b[0m\u001b[0;34m\u001b[0m\u001b[0;34m\u001b[0m\u001b[0m\n\u001b[0m\u001b[1;32m   1327\u001b[0m                 writer = Writer(codec='h264',\n\u001b[1;32m   1328\u001b[0m                                 \u001b[0mbitrate\u001b[0m\u001b[0;34m=\u001b[0m\u001b[0mrcParams\u001b[0m\u001b[0;34m[\u001b[0m\u001b[0;34m'animation.bitrate'\u001b[0m\u001b[0;34m]\u001b[0m\u001b[0;34m,\u001b[0m\u001b[0;34m\u001b[0m\u001b[0;34m\u001b[0m\u001b[0m\n",
      "\u001b[0;32m~/anaconda3/envs/nightly/lib/python3.7/site-packages/matplotlib/animation.py\u001b[0m in \u001b[0;36m__getitem__\u001b[0;34m(self, name)\u001b[0m\n\u001b[1;32m    162\u001b[0m         \u001b[0;32mexcept\u001b[0m \u001b[0mKeyError\u001b[0m\u001b[0;34m:\u001b[0m\u001b[0;34m\u001b[0m\u001b[0;34m\u001b[0m\u001b[0m\n\u001b[1;32m    163\u001b[0m             raise RuntimeError(\n\u001b[0;32m--> 164\u001b[0;31m                 'Requested MovieWriter ({}) not available'.format(name))\n\u001b[0m\u001b[1;32m    165\u001b[0m \u001b[0;34m\u001b[0m\u001b[0m\n\u001b[1;32m    166\u001b[0m \u001b[0;34m\u001b[0m\u001b[0m\n",
      "\u001b[0;31mRuntimeError\u001b[0m: Requested MovieWriter (ffmpeg) not available"
     ]
    }
   ],
   "source": [
    "HTML(anim.to_html5_video())"
   ]
  },
  {
   "cell_type": "code",
   "execution_count": null,
   "metadata": {
    "ExecuteTime": {
     "end_time": "2020-04-01T17:41:51.703877Z",
     "start_time": "2020-04-01T17:41:49.135Z"
    }
   },
   "outputs": [],
   "source": [
    "writer = animation.writers['ffmpeg'](fps=30)\n",
    "anim.save('test.mp4',writer=writer,dpi=100)"
   ]
  },
  {
   "cell_type": "markdown",
   "metadata": {},
   "source": [
    "Likelihood"
   ]
  },
  {
   "cell_type": "code",
   "execution_count": null,
   "metadata": {
    "ExecuteTime": {
     "end_time": "2020-04-01T17:41:51.704992Z",
     "start_time": "2020-04-01T17:41:49.137Z"
    }
   },
   "outputs": [],
   "source": [
    "s = 0.01  # Try s=1, 0.25, 0.1, or 0.05\n",
    "X = np.arange(-2, 2+s, s)   #Could use linspace instead if dividing\n",
    "Y = np.arange(-2, 2.+s, s)   #evenly instead of stepping...\n",
    "\n",
    "#Create the mesh grid(s) for all X/Y combos.\n",
    "X, Y = np.meshgrid(X, Y)\n",
    "\n",
    "Z =  (Y+X*X)**2\n",
    "\n",
    "plt.contour(X,Y,Z,[0.01,0.05,0.09])"
   ]
  },
  {
   "cell_type": "markdown",
   "metadata": {},
   "source": [
    "Prior"
   ]
  },
  {
   "cell_type": "code",
   "execution_count": null,
   "metadata": {
    "ExecuteTime": {
     "end_time": "2020-04-01T17:41:51.705792Z",
     "start_time": "2020-04-01T17:41:49.139Z"
    }
   },
   "outputs": [],
   "source": [
    "def plot_Prior():\n",
    "    x, y = np.mgrid[-2:2:.01, -2:2:.01]\n",
    "    pos = np.empty(x.shape + (2,)) \n",
    "    pos[:, :, 0] = x; pos[:, :, 1] = y\n",
    "    rv = multivariate_normal([0, 0], [[1, 0], [0, 1]])\n",
    "    plt.contour(x, y, rv.pdf(pos))\n",
    "    plt.xlabel(\"x1\")\n",
    "    plt.ylabel(\"x2\")\n",
    "plot_Prior()"
   ]
  },
  {
   "cell_type": "markdown",
   "metadata": {},
   "source": [
    "Try again put them in a inference problem"
   ]
  },
  {
   "cell_type": "code",
   "execution_count": null,
   "metadata": {
    "ExecuteTime": {
     "end_time": "2020-04-01T17:41:51.706813Z",
     "start_time": "2020-04-01T17:41:49.142Z"
    }
   },
   "outputs": [],
   "source": [
    "c = 0 # mean of observations\n",
    "N = 100 # number of observation data\n",
    "sigma2y = 1 # standard deviation of observation data\n",
    "## generate the observation data\n",
    "y_ = np.random.normal(loc =c, scale = sigma2y, size = N)\n",
    "D = tf.convert_to_tensor(y_,dtype = tf.float32)\n",
    "\n",
    "def joint_post_prob(D,theta1,theta2):\n",
    "    # define random variables prior\n",
    "    mvn = tfd.MultivariateNormalFullCovariance(\n",
    "            loc = mu,\n",
    "            covariance_matrix= cov)\n",
    "    z = tf.stack([theta1, theta2], axis=-1)\n",
    "    # define likelihood\n",
    "    y = tfd.Normal(loc = tf.add(theta2,tf.pow(theta1,2.)), scale = sigma2y)\n",
    "    # return the posterior probability\n",
    "    return (tf.exp(mvn.prob(tf.squeeze(z))\n",
    "           +tf.reduce_sum(y.prob(D))))"
   ]
  },
  {
   "cell_type": "code",
   "execution_count": null,
   "metadata": {
    "ExecuteTime": {
     "end_time": "2020-04-01T17:41:51.707989Z",
     "start_time": "2020-04-01T17:41:49.144Z"
    }
   },
   "outputs": [],
   "source": [
    "# y = tfd.Normal(loc = tf.add(theta2,tf.pow(theta1,2.)), scale = sigma2y)\n",
    "# tf.reduce_prod(y.prob(D))"
   ]
  },
  {
   "cell_type": "code",
   "execution_count": null,
   "metadata": {
    "ExecuteTime": {
     "end_time": "2020-04-01T17:41:51.709203Z",
     "start_time": "2020-04-01T17:41:49.146Z"
    }
   },
   "outputs": [],
   "source": [
    "x, y = np.mgrid[-2:2:.01, -2:2:.01]\n",
    "pos = np.empty(x.shape + (2,),dtype = np.float32) \n",
    "pos[:, :, 0] = x; pos[:, :, 1] = y\n",
    "\n",
    "post = np.empty(x.shape)\n",
    "\n",
    "for i in range(400):\n",
    "    for j in range(400):\n",
    "        post[i][j] = joint_post_prob(D,pos[i][j][0],pos[i][j][1])"
   ]
  },
  {
   "cell_type": "code",
   "execution_count": null,
   "metadata": {
    "ExecuteTime": {
     "end_time": "2020-04-01T17:41:51.710333Z",
     "start_time": "2020-04-01T17:41:49.147Z"
    },
    "scrolled": true
   },
   "outputs": [],
   "source": [
    "plt.contour(x, y, post,[joint_post_prob(D,0.,-0.35)])\n",
    "plt.xlim(-2,2)\n",
    "plt.ylim(-2,1)\n",
    "plt.xlabel(\"x1\")\n",
    "plt.ylabel(\"x2\")"
   ]
  },
  {
   "cell_type": "markdown",
   "metadata": {},
   "source": [
    "#### make a function to plot the true density"
   ]
  },
  {
   "cell_type": "code",
   "execution_count": null,
   "metadata": {
    "ExecuteTime": {
     "end_time": "2020-04-01T17:41:51.711284Z",
     "start_time": "2020-04-01T17:41:49.150Z"
    }
   },
   "outputs": [],
   "source": [
    "def plot_truepost():\n",
    "    plt.contour(x, y, post)\n",
    "    plt.xlim(-2,2)\n",
    "    plt.ylim(-2,1)\n",
    "    plt.xlabel(\"x1\")\n",
    "    plt.ylabel(\"x2\")\n",
    "plot_truepost()"
   ]
  },
  {
   "cell_type": "markdown",
   "metadata": {},
   "source": [
    "likelihood"
   ]
  },
  {
   "cell_type": "code",
   "execution_count": null,
   "metadata": {
    "ExecuteTime": {
     "end_time": "2020-04-01T17:41:51.712240Z",
     "start_time": "2020-04-01T17:41:49.152Z"
    }
   },
   "outputs": [],
   "source": [
    "c = 0 # mean of observations\n",
    "N = 100 # number of observation data\n",
    "sigma2y = 1 # standard deviation of observation data\n",
    "## generate the observation data\n",
    "y_ = np.random.normal(loc =c, scale = sigma2y, size = N)\n",
    "D = tf.convert_to_tensor(y_,dtype = tf.float32)\n",
    "\n",
    "def likelihood_prob(y,theta1,theta2):\n",
    "    # define random variables prior\n",
    "    # define likelihood\n",
    "    y = tfd.Normal(loc = tf.add(theta2,tf.pow(theta1,2.)), scale = sigma2y)\n",
    "\n",
    "    return(y.prob(D))"
   ]
  },
  {
   "cell_type": "code",
   "execution_count": null,
   "metadata": {
    "ExecuteTime": {
     "end_time": "2020-04-01T17:41:51.713147Z",
     "start_time": "2020-04-01T17:41:49.154Z"
    }
   },
   "outputs": [],
   "source": [
    "# def multivariate_normal(x, d, mean, covariance):\n",
    "#     \"\"\"pdf of the multivariate normal distribution.\"\"\"\n",
    "#     x_m = x - mean\n",
    "#     return (1. / (np.sqrt((2 * np.pi)**d * np.linalg.det(covariance))) * \n",
    "#             np.exp(-(np.linalg.solve(covariance, x_m).T.dot(x_m)) / 2))"
   ]
  },
  {
   "cell_type": "code",
   "execution_count": null,
   "metadata": {
    "ExecuteTime": {
     "end_time": "2020-04-01T17:41:51.714647Z",
     "start_time": "2020-04-01T17:41:49.155Z"
    }
   },
   "outputs": [],
   "source": [
    "def likelihood(mu,sigma,x):\n",
    "    "
   ]
  },
  {
   "cell_type": "code",
   "execution_count": null,
   "metadata": {
    "ExecuteTime": {
     "end_time": "2020-04-01T17:41:51.716103Z",
     "start_time": "2020-04-01T17:41:49.157Z"
    }
   },
   "outputs": [],
   "source": [
    "likelihood_prob(D,-1.,-1.)"
   ]
  },
  {
   "cell_type": "code",
   "execution_count": null,
   "metadata": {
    "ExecuteTime": {
     "end_time": "2020-04-01T17:41:51.717424Z",
     "start_time": "2020-04-01T17:41:49.159Z"
    }
   },
   "outputs": [],
   "source": [
    "x, y = np.mgrid[-2:2:.01, -2:2:.01]\n",
    "pos = np.empty(x.shape + (2,),dtype = np.float32) \n",
    "pos[:, :, 0] = x; pos[:, :, 1] = y\n",
    "likelihood = np.empty(x.shape)\n",
    "for i in range(400):\n",
    "    for j in range(400):\n",
    "        likelihood[i][j] = likelihood_prob(D,pos[i][j][0],pos[i][j][1])"
   ]
  },
  {
   "cell_type": "code",
   "execution_count": null,
   "metadata": {
    "ExecuteTime": {
     "end_time": "2020-04-01T17:41:51.718835Z",
     "start_time": "2020-04-01T17:41:49.161Z"
    }
   },
   "outputs": [],
   "source": [
    "plt.contour(x, y, likelihood,[likelihood_prob(D,0.,-0.35).numpy()])\n",
    "plt.xlim(-2,2)\n",
    "plt.ylim(-2,1)\n",
    "plt.xlabel(\"x1\")\n",
    "plt.ylabel(\"x2\")\n",
    "    "
   ]
  },
  {
   "cell_type": "markdown",
   "metadata": {},
   "source": [
    "Prior"
   ]
  },
  {
   "cell_type": "code",
   "execution_count": null,
   "metadata": {
    "ExecuteTime": {
     "end_time": "2020-04-01T17:41:51.720269Z",
     "start_time": "2020-04-01T17:41:49.163Z"
    }
   },
   "outputs": [],
   "source": [
    "c = 0 # mean of observations\n",
    "N = 100 # number of observation data\n",
    "sigma2y = 1 # standard deviation of observation data\n",
    "## generate the observation data\n",
    "y_ = np.random.normal(loc =c, scale = sigma2y, size = N)\n",
    "D = tf.convert_to_tensor(y_,dtype = tf.float32)\n",
    "\n",
    "def prior_prob(y,theta1,theta2):\n",
    "    # define random variables prior\n",
    "    mvn = tfd.MultivariateNormalFullCovariance(\n",
    "            loc = mu,\n",
    "            covariance_matrix= cov)\n",
    "    z = tf.stack([theta1, theta2], axis=-1)\n",
    "    return(mvn.prob(tf.squeeze(z)))\n",
    "\n",
    "x, y = np.mgrid[-2:2:.01, -2:2:.01]\n",
    "pos = np.empty(x.shape + (2,),dtype = np.float32) \n",
    "pos[:, :, 0] = x; pos[:, :, 1] = y\n",
    "\n",
    "prior = np.empty(x.shape)\n",
    "\n",
    "for i in range(400):\n",
    "    for j in range(400):\n",
    "        prior[i][j] = prior_prob(D,pos[i][j][0],pos[i][j][1])"
   ]
  },
  {
   "cell_type": "code",
   "execution_count": null,
   "metadata": {
    "ExecuteTime": {
     "end_time": "2020-04-01T17:41:51.721586Z",
     "start_time": "2020-04-01T17:41:49.165Z"
    }
   },
   "outputs": [],
   "source": [
    "plt.contour(x, y, prior)\n",
    "plt.xlim(-2,2)\n",
    "plt.ylim(-2,2)\n",
    "plt.xlabel(\"x1\")\n",
    "plt.ylabel(\"x2\")"
   ]
  },
  {
   "cell_type": "markdown",
   "metadata": {},
   "source": [
    "Let's add more observations, we shall expect broader extension"
   ]
  },
  {
   "cell_type": "code",
   "execution_count": null,
   "metadata": {
    "ExecuteTime": {
     "end_time": "2020-04-01T17:41:51.722891Z",
     "start_time": "2020-04-01T17:41:49.167Z"
    }
   },
   "outputs": [],
   "source": [
    "c = 0 # mean of observations\n",
    "N = 1000 # number of observation data\n",
    "sigma2y = 1 # standard deviation of observation data\n",
    "## generate the observation data\n",
    "y_ = np.random.normal(loc =c, scale = sigma2y, size = N)\n",
    "D = tf.convert_to_tensor(y_,dtype = tf.float32)\n",
    "\n",
    "def joint_prob(y,theta1,theta2):\n",
    "    # define random variables prior\n",
    "    mvn = tfd.MultivariateNormalFullCovariance(\n",
    "            loc = mu,\n",
    "            covariance_matrix= cov)\n",
    "    z = tf.stack([theta1, theta2], axis=-1)\n",
    "    # define likelihood\n",
    "    y = tfd.Normal(loc = tf.add(theta2,tf.pow(theta1,2.)), scale = sigma2y)\n",
    "    # return the posterior probability\n",
    "    return(mvn.prob(tf.squeeze(z))\n",
    "          +tf.reduce_sum(y.prob(D)))\n",
    "\n",
    "x, y = np.mgrid[-2:2:.01, -2:2:.01]\n",
    "pos = np.empty(x.shape + (2,),dtype = np.float32) \n",
    "pos[:, :, 0] = x; pos[:, :, 1] = y\n",
    "\n",
    "pdf_1 = np.empty(x.shape)\n",
    "\n",
    "for i in range(400):\n",
    "    for j in range(400):\n",
    "        pdf_1[i][j] = joint_prob(D,pos[i][j][0],pos[i][j][1])"
   ]
  },
  {
   "cell_type": "code",
   "execution_count": null,
   "metadata": {
    "ExecuteTime": {
     "end_time": "2020-04-01T17:41:51.724079Z",
     "start_time": "2020-04-01T17:41:49.169Z"
    }
   },
   "outputs": [],
   "source": [
    "plt.contour(x, y, pdf_1,[joint_prob(D,0.1,0.1).numpy()])\n",
    "plt.xlim(-2,2)\n",
    "plt.ylim(-2,2)\n",
    "plt.xlabel(\"x1\")\n",
    "plt.ylabel(\"x2\")"
   ]
  },
  {
   "cell_type": "markdown",
   "metadata": {},
   "source": [
    "Plot the results together"
   ]
  },
  {
   "cell_type": "code",
   "execution_count": null,
   "metadata": {
    "ExecuteTime": {
     "end_time": "2020-04-01T17:41:51.725245Z",
     "start_time": "2020-04-01T17:41:49.171Z"
    }
   },
   "outputs": [],
   "source": [
    "likelihood_prob(D,-0.5,-0.35).numpy()"
   ]
  },
  {
   "cell_type": "code",
   "execution_count": null,
   "metadata": {
    "ExecuteTime": {
     "end_time": "2020-04-01T17:41:51.726293Z",
     "start_time": "2020-04-01T17:41:49.173Z"
    }
   },
   "outputs": [],
   "source": [
    "fig, ax = plt.subplots(1, 3,figsize=(15,4))\n",
    "ax[0].contour(x, y, prior)\n",
    "ax[0].set_title('(a) Prior')\n",
    "\n",
    "ax[1].contour(x, y, likelihood,[likelihood_prob(D,0.,-0.35).numpy()])\n",
    "ax[1].set_ylim(-2,1)\n",
    "ax[1].set_title('(b) Likelihood')\n",
    "\n",
    "ax[2].contour(x, y, post,[joint_post_prob(D,0.,-0.35)])\n",
    "ax[2].set_ylim(-2,1)\n",
    "ax[2].set_title('(c) Posterior')"
   ]
  },
  {
   "cell_type": "code",
   "execution_count": null,
   "metadata": {
    "ExecuteTime": {
     "end_time": "2020-04-01T17:41:51.727212Z",
     "start_time": "2020-04-01T17:41:49.175Z"
    }
   },
   "outputs": [],
   "source": [
    "fig, ax = plt.subplots(1, 3,figsize=(15,4))\n",
    "ax[0].contour(x, y, prior)\n",
    "ax[0].set_title('(a) Prior')\n",
    "\n",
    "ax[1].contour(x, y, likelihood,[likelihood_prob(D,0.,-0.35).numpy()])\n",
    "ax[1].set_ylim(-2,1)\n",
    "ax[1].set_title('(b) Likelihood')\n",
    "\n",
    "ax[2].contour(x, y, post,[joint_post_prob(D,0.,-0.35)])\n",
    "ax[2].set_ylim(-2,1)\n",
    "ax[2].set_title('(c) Posterior')"
   ]
  },
  {
   "cell_type": "markdown",
   "metadata": {},
   "source": [
    "(a) Prior, (b) likelihood and (c) posterior for the warped bivariate Gaussian distribution with n=100 values generated from the likelihood with parameter settings $\\sigma_y$,$\\sigma$ = 11: as the sample size increases and the prior becomes more diffuse, the posterior becomes less identifiable and the ridge in the posterior becomes stronger "
   ]
  },
  {
   "cell_type": "code",
   "execution_count": null,
   "metadata": {},
   "outputs": [],
   "source": []
  }
 ],
 "metadata": {
  "kernelspec": {
   "display_name": "Python (nightly)",
   "language": "python",
   "name": "nightly"
  },
  "language_info": {
   "codemirror_mode": {
    "name": "ipython",
    "version": 3
   },
   "file_extension": ".py",
   "mimetype": "text/x-python",
   "name": "python",
   "nbconvert_exporter": "python",
   "pygments_lexer": "ipython3",
   "version": "3.7.1"
  },
  "varInspector": {
   "cols": {
    "lenName": 16,
    "lenType": 16,
    "lenVar": 40
   },
   "kernels_config": {
    "python": {
     "delete_cmd_postfix": "",
     "delete_cmd_prefix": "del ",
     "library": "var_list.py",
     "varRefreshCmd": "print(var_dic_list())"
    },
    "r": {
     "delete_cmd_postfix": ") ",
     "delete_cmd_prefix": "rm(",
     "library": "var_list.r",
     "varRefreshCmd": "cat(var_dic_list()) "
    }
   },
   "types_to_exclude": [
    "module",
    "function",
    "builtin_function_or_method",
    "instance",
    "_Feature"
   ],
   "window_display": false
  }
 },
 "nbformat": 4,
 "nbformat_minor": 2
}
