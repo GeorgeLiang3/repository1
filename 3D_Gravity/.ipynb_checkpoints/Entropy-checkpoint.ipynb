{
 "cells": [
  {
   "cell_type": "code",
   "execution_count": 1,
   "metadata": {
    "ExecuteTime": {
     "end_time": "2020-10-07T16:58:43.343897Z",
     "start_time": "2020-10-07T16:58:36.896868Z"
    }
   },
   "outputs": [],
   "source": [
    "import tensorflow as tf\n",
    "\n",
    "import gempy as gp\n",
    "\n",
    "\n",
    "from ipywidgets import interact, interactive\n",
    "import os\n",
    "import numpy as np\n",
    "import sys\n",
    "import timeit\n",
    "import csv\n",
    "\n",
    "import matplotlib.pyplot as plt\n",
    "\n",
    "\n",
    "import tensorflow_probability as tfp\n",
    "import pandas as pd\n",
    "from gempy import create_data, map_series_to_surfaces\n",
    "from gempy.assets.geophysics import GravityPreprocessing\n",
    "tfd = tfp.distributions\n",
    "sys.path.append('/Users/zhouji/Google Drive/RWTH/')\n",
    "from regularModel import *\n",
    "%matplotlib inline\n",
    "modelName = 'model2'"
   ]
  },
  {
   "cell_type": "code",
   "execution_count": 2,
   "metadata": {
    "ExecuteTime": {
     "end_time": "2020-10-07T16:58:44.373503Z",
     "start_time": "2020-10-07T16:58:43.392198Z"
    }
   },
   "outputs": [
    {
     "name": "stdout",
     "output_type": "stream",
     "text": [
      "Active grids: ['regular']\n"
     ]
    },
    {
     "data": {
      "text/plain": [
       "(<Figure size 504x504 with 1 Axes>,\n",
       " <matplotlib.axes._subplots.AxesSubplot at 0x158535c90>)"
      ]
     },
     "execution_count": 2,
     "metadata": {},
     "output_type": "execute_result"
    },
    {
     "data": {
      "image/png": "[encoded data removed]",
      "text/plain": [
       "<Figure size 504x504 with 1 Axes>"
      ]
     },
     "metadata": {
      "needs_background": "light"
     },
     "output_type": "display_data"
    }
   ],
   "source": [
    "path = '/Users/zhouji/Google Drive/RWTH/GP_old/notebooks'\n",
    "orientation_path = \"/data/input_data/George_models/model2_1_orientations.csv\"\n",
    "surface_path = '/data/input_data/George_models/irregu_surface_points.csv'\n",
    "\n",
    "X = [250,750]\n",
    "Y = [250,750]\n",
    "\n",
    "\n",
    "r = []\n",
    "for x in X:\n",
    "    for y in Y:\n",
    "        r.append(np.array([x,y]))\n",
    "receivers = np.array(r)\n",
    "receivers\n",
    "\n",
    "model1 = Model(path,surface_path,orientation_path,receivers = receivers)\n",
    "model1.plot_model()"
   ]
  },
  {
   "cell_type": "code",
   "execution_count": 3,
   "metadata": {
    "ExecuteTime": {
     "end_time": "2020-10-07T16:58:49.792717Z",
     "start_time": "2020-10-07T16:58:44.420620Z"
    }
   },
   "outputs": [],
   "source": [
    "mu = model1.mu_prior\n",
    "cov_prior = model1.cov_prior\n",
    "prior_list = []\n",
    "for i in range(1000):\n",
    "    mvn_prior = tfd.MultivariateNormalTriL(\n",
    "              loc=mu,\n",
    "              scale_tril = tf.linalg.cholesky(cov_prior))\n",
    "    mvn_prior_ = tfd.Sample(mvn_prior,sample_shape=([1]))\n",
    "    sample = mvn_prior_.sample()\n",
    "    prior_list.append(tf.squeeze(sample))"
   ]
  },
  {
   "cell_type": "code",
   "execution_count": 8,
   "metadata": {
    "ExecuteTime": {
     "end_time": "2020-10-07T17:13:55.815037Z",
     "start_time": "2020-10-07T17:13:55.783389Z"
    }
   },
   "outputs": [],
   "source": [
    "# load results\n",
    "with open('/Users/zhouji/Google Drive/RWTH/Data/gpCN_model1.json') as f:\n",
    "  data = json.load(f)\n",
    "data = json.loads(data)\n",
    "samples_gpCN = np.asarray(data['samples_gpCN'])"
   ]
  },
  {
   "cell_type": "code",
   "execution_count": 9,
   "metadata": {
    "ExecuteTime": {
     "end_time": "2020-10-07T17:13:58.501602Z",
     "start_time": "2020-10-07T17:13:58.486777Z"
    }
   },
   "outputs": [],
   "source": [
    "def lith_list_all(mu_list):\n",
    "    lith_list = []\n",
    "    for mu in mu_list:\n",
    "  \n",
    "        model1.scalar_field(mu)\n",
    "        lith = model1.solutions.lith_block\n",
    "        lith_list.append(lith)\n",
    "\n",
    "    lith_list = np.array(lith_list)\n",
    "    \n",
    "    # only plot the upper layer, so keep \n",
    "    lith_list[lith_list==3] = 2\n",
    "    return lith_list\n",
    "\n",
    "def entropy(prob_list):\n",
    "    H = 0\n",
    "    for prob_i in prob_list:\n",
    "        if prob_i != 0:\n",
    "            H -= prob_i*math.log(prob_i,3)\n",
    "    return H \n",
    "\n",
    "def full_entropy(mu_list):\n",
    "    \n",
    "    H_t = []\n",
    "    lith_list = lith_list_all(mu_list)\n",
    "    for i in range(lith_list.shape[1]):\n",
    "        prob_list = Probability(lith_list,position= i)\n",
    "        H_t.append(entropy(prob_list))\n",
    "    return H_t\n",
    "\n",
    "import math\n",
    "## calculate probability of each colum\n",
    "def Probability(lith_list,position):\n",
    "    num_1 = np.count_nonzero(lith_list[:,position]==1)\n",
    "    num_2 = np.count_nonzero(lith_list[:,position]==2)\n",
    "    num_3 = np.count_nonzero(lith_list[:,position]==3)\n",
    "    total = np.sum((num_1,num_2,num_3))\n",
    "    prob_1 = num_1/total\n",
    "    prob_2 = num_2/total\n",
    "    prob_3 = num_3/total\n",
    "    return np.array([prob_1,prob_2,prob_3])"
   ]
  },
  {
   "cell_type": "code",
   "execution_count": 10,
   "metadata": {
    "ExecuteTime": {
     "end_time": "2020-10-07T17:20:48.283833Z",
     "start_time": "2020-10-07T17:14:02.184974Z"
    }
   },
   "outputs": [],
   "source": [
    "H = np.array(full_entropy(prior_list))"
   ]
  },
  {
   "cell_type": "code",
   "execution_count": 11,
   "metadata": {
    "ExecuteTime": {
     "end_time": "2020-10-07T17:27:51.424466Z",
     "start_time": "2020-10-07T17:20:49.724606Z"
    }
   },
   "outputs": [],
   "source": [
    "H_posterior = np.array(full_entropy(samples_gpCN[:1000,]))"
   ]
  },
  {
   "cell_type": "code",
   "execution_count": 12,
   "metadata": {
    "ExecuteTime": {
     "end_time": "2020-10-07T17:27:52.791471Z",
     "start_time": "2020-10-07T17:27:52.783770Z"
    }
   },
   "outputs": [],
   "source": [
    "H_mesh = np.reshape(H,[50,50,50])"
   ]
  },
  {
   "cell_type": "code",
   "execution_count": 13,
   "metadata": {
    "ExecuteTime": {
     "end_time": "2020-10-07T17:27:54.229736Z",
     "start_time": "2020-10-07T17:27:54.225348Z"
    }
   },
   "outputs": [],
   "source": [
    "import pyvista as pv"
   ]
  },
  {
   "cell_type": "code",
   "execution_count": 14,
   "metadata": {
    "ExecuteTime": {
     "end_time": "2020-10-07T17:27:55.679835Z",
     "start_time": "2020-10-07T17:27:55.602628Z"
    }
   },
   "outputs": [],
   "source": [
    "p = pv.Plotter(notebook =False)# Create Structured Grid for PyVista\n",
    "x = np.arange(0, H_mesh.shape[1]*20, 20)\n",
    "y = np.arange(0, H_mesh.shape[0]*20, 1)\n",
    "z = np.arange(0, H_mesh.shape[2]*20, 1)\n",
    "\n",
    "x, y, z = np.meshgrid(x, y, z)\n",
    "grid_prior = pv.StructuredGrid(z, x, y)\n",
    "grid_post = pv.StructuredGrid(z, x, y)\n",
    "#Assign entropy value to grid\n",
    "grid_prior[\"Prior Entropy\"] = H\n",
    "grid_post[\"Posterior Entropy\"] = H_posterior\n",
    "\n",
    "sargs = dict(\n",
    "    n_labels=10,\n",
    "    fmt=\"%.2f\",\n",
    "    color='black'\n",
    "    )\n",
    "\n",
    "# p.add_mesh(grid_prior, scalars=grid_prior[\"Prior Entropy\"], cmap='Greys',show_scalar_bar = True, stitle='Information Entropy')\n",
    "\n",
    "\n",
    "# p.set_background('white')\n",
    "# p.show_grid(color='black')\n",
    "# p.show()"
   ]
  },
  {
   "cell_type": "code",
   "execution_count": 138,
   "metadata": {
    "ExecuteTime": {
     "end_time": "2020-10-07T11:42:43.993385Z",
     "start_time": "2020-10-07T11:42:02.355116Z"
    }
   },
   "outputs": [
    {
     "data": {
      "text/plain": [
       "[(-70.71320976171867, -106.43901568446833, 50.411017451505955),\n",
       " (24.5, 24.5, 24.5),\n",
       " (0.11236329527667994, 0.11363716014849204, 0.9871479553278484)]"
      ]
     },
     "execution_count": 138,
     "metadata": {},
     "output_type": "execute_result"
    }
   ],
   "source": [
    "p = pv.Plotter(notebook =False)\n",
    "p.add_mesh(grid_post, scalars=grid[\"Posterior Entropy\"], cmap='Greys',show_scalar_bar = True, stitle='Information Entropy')\n",
    "\n",
    "p.set_background('white')\n",
    "p.show_grid(color='black')\n",
    "p.show()"
   ]
  },
  {
   "cell_type": "code",
   "execution_count": 16,
   "metadata": {
    "ExecuteTime": {
     "end_time": "2020-10-07T17:51:24.221208Z",
     "start_time": "2020-10-07T17:51:24.031244Z"
    }
   },
   "outputs": [],
   "source": [
    "slices_prior = grid_prior.slice_along_axis(n=3, axis=\"y\")\n",
    "slices_post = grid_post.slice_along_axis(n=3, axis=\"y\")"
   ]
  },
  {
   "cell_type": "code",
   "execution_count": 145,
   "metadata": {
    "ExecuteTime": {
     "end_time": "2020-10-07T11:44:50.803133Z",
     "start_time": "2020-10-07T11:44:42.333396Z"
    }
   },
   "outputs": [],
   "source": [
    "p = pv.Plotter(notebook=False)\n",
    "p.add_mesh(slices_prior,opacity=0.75)\n",
    "p.show_bounds()\n",
    "cpos = p.show()\n"
   ]
  },
  {
   "cell_type": "code",
   "execution_count": 140,
   "metadata": {
    "ExecuteTime": {
     "end_time": "2020-10-07T11:42:51.295550Z",
     "start_time": "2020-10-07T11:42:51.258323Z"
    }
   },
   "outputs": [
    {
     "ename": "NameError",
     "evalue": "name 'plotter' is not defined",
     "output_type": "error",
     "traceback": [
      "\u001b[0;31m---------------------------------------------------------------------------\u001b[0m",
      "\u001b[0;31mNameError\u001b[0m                                 Traceback (most recent call last)",
      "\u001b[0;32m<ipython-input-140-f95835237cf1>\u001b[0m in \u001b[0;36m<module>\u001b[0;34m\u001b[0m\n\u001b[1;32m      2\u001b[0m \u001b[0mp\u001b[0m\u001b[0;34m.\u001b[0m\u001b[0madd_mesh\u001b[0m\u001b[0;34m(\u001b[0m\u001b[0mslices\u001b[0m\u001b[0;34m,\u001b[0m\u001b[0mopacity\u001b[0m\u001b[0;34m=\u001b[0m\u001b[0;36m0.75\u001b[0m\u001b[0;34m)\u001b[0m\u001b[0;34m\u001b[0m\u001b[0;34m\u001b[0m\u001b[0m\n\u001b[1;32m      3\u001b[0m \u001b[0mp\u001b[0m\u001b[0;34m.\u001b[0m\u001b[0mcamera_position\u001b[0m \u001b[0;34m=\u001b[0m \u001b[0mcpos\u001b[0m\u001b[0;34m\u001b[0m\u001b[0;34m\u001b[0m\u001b[0m\n\u001b[0;32m----> 4\u001b[0;31m \u001b[0mplotter\u001b[0m\u001b[0;34m.\u001b[0m\u001b[0mshow\u001b[0m\u001b[0;34m(\u001b[0m\u001b[0mscreenshot\u001b[0m\u001b[0;34m=\u001b[0m\u001b[0;34m'entropy.png'\u001b[0m\u001b[0;34m)\u001b[0m\u001b[0;34m\u001b[0m\u001b[0;34m\u001b[0m\u001b[0m\n\u001b[0m",
      "\u001b[0;31mNameError\u001b[0m: name 'plotter' is not defined"
     ]
    }
   ],
   "source": [
    "cpos\n",
    "p.add_mesh(slices,opacity=0.75)\n",
    "p.camera_position = cpos\n",
    "plotter.show(screenshot='entropy.png')"
   ]
  },
  {
   "cell_type": "code",
   "execution_count": 20,
   "metadata": {
    "ExecuteTime": {
     "end_time": "2020-10-08T08:57:46.801613Z",
     "start_time": "2020-10-08T08:56:51.486196Z"
    }
   },
   "outputs": [
    {
     "data": {
      "text/plain": [
       "[(222.37074868455173, 148.16643480119478, 78.1575495209336),\n",
       " (24.5, 24.0, 24.5),\n",
       " (-0.16731831692139393, -0.15417148836727174, 0.973773964016913)]"
      ]
     },
     "execution_count": 20,
     "metadata": {},
     "output_type": "execute_result"
    }
   ],
   "source": [
    "p = pv.Plotter(notebook =False,shape=(1,2))\n",
    "p.add_text('Prior')\n",
    "p.add_mesh(slices_prior,opacity = 0.75)\n",
    "p.show_bounds(location='back')\n",
    "\n",
    "\n",
    "p.subplot(0,1)\n",
    "p.add_text('Posterior')\n",
    "p.add_mesh(slices_post,opacity = 0.75)\n",
    "p.show_bounds(location='back')\n",
    "p.show()"
   ]
  },
  {
   "cell_type": "code",
   "execution_count": null,
   "metadata": {},
   "outputs": [],
   "source": []
  }
 ],
 "metadata": {
  "kernelspec": {
   "display_name": "Python 3.7.7 64-bit ('gempy': conda)",
   "language": "python",
   "name": "python37764bitgempyconda56adf421e2e348a0921383dec03a4eee"
  },
  "language_info": {
   "codemirror_mode": {
    "name": "ipython",
    "version": 3
   },
   "file_extension": ".py",
   "mimetype": "text/x-python",
   "name": "python",
   "nbconvert_exporter": "python",
   "pygments_lexer": "ipython3",
   "version": "3.7.7"
  },
  "varInspector": {
   "cols": {
    "lenName": 16,
    "lenType": 16,
    "lenVar": 40
   },
   "kernels_config": {
    "python": {
     "delete_cmd_postfix": "",
     "delete_cmd_prefix": "del ",
     "library": "var_list.py",
     "varRefreshCmd": "print(var_dic_list())"
    },
    "r": {
     "delete_cmd_postfix": ") ",
     "delete_cmd_prefix": "rm(",
     "library": "var_list.r",
     "varRefreshCmd": "cat(var_dic_list()) "
    }
   },
   "types_to_exclude": [
    "module",
    "function",
    "builtin_function_or_method",
    "instance",
    "_Feature"
   ],
   "window_display": false
  }
 },
 "nbformat": 4,
 "nbformat_minor": 2
}
