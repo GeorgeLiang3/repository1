{
 "cells": [
  {
   "cell_type": "code",
   "execution_count": 1,
   "metadata": {
    "ExecuteTime": {
     "end_time": "2020-10-06T14:29:03.085522Z",
     "start_time": "2020-10-06T14:29:00.399529Z"
    }
   },
   "outputs": [],
   "source": [
    "import tensorflow as tf"
   ]
  },
  {
   "cell_type": "code",
   "execution_count": 2,
   "metadata": {
    "ExecuteTime": {
     "end_time": "2020-10-06T14:29:06.085148Z",
     "start_time": "2020-10-06T14:29:03.087351Z"
    }
   },
   "outputs": [],
   "source": [
    "import gempy as gp"
   ]
  },
  {
   "cell_type": "code",
   "execution_count": 3,
   "metadata": {
    "ExecuteTime": {
     "end_time": "2020-10-06T14:29:06.516161Z",
     "start_time": "2020-10-06T14:29:06.087307Z"
    }
   },
   "outputs": [],
   "source": [
    "import tensorflow as tf\n",
    "\n",
    "from ipywidgets import interact, interactive\n",
    "import os\n",
    "import numpy as np\n",
    "import sys\n",
    "import timeit\n",
    "import csv\n",
    "\n",
    "import matplotlib.pyplot as plt\n",
    "\n",
    "import tensorflow as tf\n",
    "import tensorflow_probability as tfp\n",
    "import pandas as pd\n",
    "from gempy import create_data, map_series_to_surfaces\n",
    "from gempy.assets.geophysics import GravityPreprocessing\n",
    "tfd = tfp.distributions\n",
    "sys.path.append('/Users/zhouji/Google Drive/RWTH/')\n",
    "from regularModel import *\n",
    "%matplotlib inline\n",
    "modelName = 'model2'"
   ]
  },
  {
   "cell_type": "code",
   "execution_count": 4,
   "metadata": {
    "ExecuteTime": {
     "end_time": "2020-10-06T14:29:07.362679Z",
     "start_time": "2020-10-06T14:29:06.517752Z"
    }
   },
   "outputs": [
    {
     "name": "stdout",
     "output_type": "stream",
     "text": [
      "Active grids: ['regular']\n"
     ]
    },
    {
     "data": {
      "text/plain": [
       "(<Figure size 504x504 with 1 Axes>,\n",
       " <matplotlib.axes._subplots.AxesSubplot at 0x153b07b90>)"
      ]
     },
     "execution_count": 4,
     "metadata": {},
     "output_type": "execute_result"
    },
    {
     "data": {
      "image/png": "[encoded data removed]",
      "text/plain": [
       "<Figure size 504x504 with 1 Axes>"
      ]
     },
     "metadata": {
      "needs_background": "light"
     },
     "output_type": "display_data"
    }
   ],
   "source": [
    "path = '/Users/zhouji/Google Drive/RWTH/GP_old/notebooks'\n",
    "orientation_path = \"/data/input_data/George_models/model2_1_orientations.csv\"\n",
    "surface_path = '/data/input_data/George_models/irregu_surface_points.csv'\n",
    "\n",
    "X = [250,750]\n",
    "Y = [250,750]\n",
    "\n",
    "\n",
    "r = []\n",
    "for x in X:\n",
    "    for y in Y:\n",
    "        r.append(np.array([x,y]))\n",
    "receivers = np.array(r)\n",
    "receivers\n",
    "\n",
    "model1 = Model(path,surface_path,orientation_path,receivers = receivers)\n",
    "model1.plot_model()"
   ]
  },
  {
   "cell_type": "code",
   "execution_count": 5,
   "metadata": {
    "ExecuteTime": {
     "end_time": "2020-10-06T14:29:07.367169Z",
     "start_time": "2020-10-06T14:29:07.364620Z"
    }
   },
   "outputs": [],
   "source": [
    "mu = model1.mu_true"
   ]
  },
  {
   "cell_type": "code",
   "execution_count": 6,
   "metadata": {
    "ExecuteTime": {
     "end_time": "2020-10-06T14:29:07.815883Z",
     "start_time": "2020-10-06T14:29:07.369251Z"
    }
   },
   "outputs": [
    {
     "data": {
      "text/plain": [
       "<tf.Tensor: shape=(125036,), dtype=float32, numpy=\n",
       "array([0.3581913 , 0.37628973, 0.3945055 , ..., 0.72348994, 0.72348994,\n",
       "       0.72348994], dtype=float32)>"
      ]
     },
     "execution_count": 6,
     "metadata": {},
     "output_type": "execute_result"
    }
   ],
   "source": [
    "model1.scalar_field(mu)"
   ]
  },
  {
   "cell_type": "code",
   "execution_count": 7,
   "metadata": {
    "ExecuteTime": {
     "end_time": "2020-10-06T14:29:20.558734Z",
     "start_time": "2020-10-06T14:29:07.817749Z"
    }
   },
   "outputs": [
    {
     "data": {
      "text/plain": [
       "<gempy.plot.vista.GemPyToVista at 0x154129050>"
      ]
     },
     "execution_count": 7,
     "metadata": {},
     "output_type": "execute_result"
    }
   ],
   "source": [
    "gp.plot_3d(model1,show_scalar = True,show_lith = False,show_surfaces=False, notebook=False,scalar_field = 'Strat_Series')"
   ]
  },
  {
   "cell_type": "code",
   "execution_count": 8,
   "metadata": {
    "ExecuteTime": {
     "end_time": "2020-10-06T14:29:20.567497Z",
     "start_time": "2020-10-06T14:29:20.561267Z"
    }
   },
   "outputs": [
    {
     "data": {
      "text/plain": [
       "array([[0.3581913 , 0.37628973, 0.3945055 , ..., 1.0517368 , 1.0668168 ,\n",
       "        1.0821446 ]], dtype=float32)"
      ]
     },
     "execution_count": 8,
     "metadata": {},
     "output_type": "execute_result"
    }
   ],
   "source": [
    "model1.solutions.scalar_field_matrix"
   ]
  },
  {
   "cell_type": "code",
   "execution_count": 9,
   "metadata": {
    "ExecuteTime": {
     "end_time": "2020-10-06T14:29:20.594699Z",
     "start_time": "2020-10-06T14:29:20.570674Z"
    }
   },
   "outputs": [
    {
     "data": {
      "text/plain": [
       "([array([[ 10.        ,  10.        , 209.6808815 ],\n",
       "         [ 10.        ,  11.72750831, 210.        ],\n",
       "         [ 10.39467625,  10.        , 210.        ],\n",
       "         ...,\n",
       "         [989.59671021, 990.        , 210.        ],\n",
       "         [990.        , 990.        , 209.67422485],\n",
       "         [990.        , 988.2346344 , 210.        ]]),\n",
       "  array([[ 22.00327277,  10.        , 430.        ],\n",
       "         [ 10.        ,  30.        , 420.57266235],\n",
       "         [ 17.29065478,  30.        , 430.        ],\n",
       "         ...,\n",
       "         [990.        , 970.        , 420.5557251 ],\n",
       "         [977.97424316, 990.        , 430.        ],\n",
       "         [990.        , 990.        , 414.56474304]])],\n",
       " [array([[   2,    1,    0],\n",
       "         [   5,    4,    3],\n",
       "         [   5,    3,    1],\n",
       "         ...,\n",
       "         [4543, 4432, 4541],\n",
       "         [4432, 4433, 4541],\n",
       "         [4541, 4433, 4430]], dtype=int32), array([[   2,    1,    0],\n",
       "         [   0,    1,    3],\n",
       "         [   0,    5,    4],\n",
       "         ...,\n",
       "         [4274, 4273, 4275],\n",
       "         [4274, 4145, 4141],\n",
       "         [4274, 4141, 4272]], dtype=int32)])"
      ]
     },
     "execution_count": 9,
     "metadata": {},
     "output_type": "execute_result"
    }
   ],
   "source": [
    "model1.solutions.compute_all_surfaces()"
   ]
  },
  {
   "cell_type": "code",
   "execution_count": 10,
   "metadata": {
    "ExecuteTime": {
     "end_time": "2020-10-06T14:29:20.602896Z",
     "start_time": "2020-10-06T14:29:20.596949Z"
    }
   },
   "outputs": [
    {
     "data": {
      "text/plain": [
       "array([50, 50, 50])"
      ]
     },
     "execution_count": 10,
     "metadata": {},
     "output_type": "execute_result"
    }
   ],
   "source": [
    "model1.solutions.grid.regular_grid.resolution"
   ]
  },
  {
   "cell_type": "code",
   "execution_count": null,
   "metadata": {
    "ExecuteTime": {
     "start_time": "2020-10-06T14:29:00.457Z"
    }
   },
   "outputs": [],
   "source": [
    "## scalar lithology\n",
    "GP = gp.plot_3d(model1,show_scalar = False,show_lith = False,show_surfaces=True, notebook=False,scalar_field = 'Strat_Series')"
   ]
  },
  {
   "cell_type": "code",
   "execution_count": 28,
   "metadata": {
    "ExecuteTime": {
     "end_time": "2020-10-06T14:08:55.860217Z",
     "start_time": "2020-10-06T14:08:55.817007Z"
    }
   },
   "outputs": [
    {
     "data": {
      "text/html": [
       "<style  type=\"text/css\" >\n",
       "    #T_78a8964e_07dd_11eb_94c6_acde48001122row0_col3 {\n",
       "            background-color:  #9f0052;\n",
       "        }    #T_78a8964e_07dd_11eb_94c6_acde48001122row1_col3 {\n",
       "            background-color:  #015482;\n",
       "        }    #T_78a8964e_07dd_11eb_94c6_acde48001122row2_col3 {\n",
       "            background-color:  #ffbe00;\n",
       "        }</style><table id=\"T_78a8964e_07dd_11eb_94c6_acde48001122\" ><thead>    <tr>        <th class=\"blank level0\" ></th>        <th class=\"col_heading level0 col0\" >surface</th>        <th class=\"col_heading level0 col1\" >series</th>        <th class=\"col_heading level0 col2\" >order_surfaces</th>        <th class=\"col_heading level0 col3\" >color</th>        <th class=\"col_heading level0 col4\" >id</th>    </tr></thead><tbody>\n",
       "                <tr>\n",
       "                        <th id=\"T_78a8964e_07dd_11eb_94c6_acde48001122level0_row0\" class=\"row_heading level0 row0\" >0</th>\n",
       "                        <td id=\"T_78a8964e_07dd_11eb_94c6_acde48001122row0_col0\" class=\"data row0 col0\" >rock1</td>\n",
       "                        <td id=\"T_78a8964e_07dd_11eb_94c6_acde48001122row0_col1\" class=\"data row0 col1\" >Strat_Series</td>\n",
       "                        <td id=\"T_78a8964e_07dd_11eb_94c6_acde48001122row0_col2\" class=\"data row0 col2\" >1</td>\n",
       "                        <td id=\"T_78a8964e_07dd_11eb_94c6_acde48001122row0_col3\" class=\"data row0 col3\" >#9f0052</td>\n",
       "                        <td id=\"T_78a8964e_07dd_11eb_94c6_acde48001122row0_col4\" class=\"data row0 col4\" >1</td>\n",
       "            </tr>\n",
       "            <tr>\n",
       "                        <th id=\"T_78a8964e_07dd_11eb_94c6_acde48001122level0_row1\" class=\"row_heading level0 row1\" >1</th>\n",
       "                        <td id=\"T_78a8964e_07dd_11eb_94c6_acde48001122row1_col0\" class=\"data row1 col0\" >rock2</td>\n",
       "                        <td id=\"T_78a8964e_07dd_11eb_94c6_acde48001122row1_col1\" class=\"data row1 col1\" >Strat_Series</td>\n",
       "                        <td id=\"T_78a8964e_07dd_11eb_94c6_acde48001122row1_col2\" class=\"data row1 col2\" >2</td>\n",
       "                        <td id=\"T_78a8964e_07dd_11eb_94c6_acde48001122row1_col3\" class=\"data row1 col3\" >#015482</td>\n",
       "                        <td id=\"T_78a8964e_07dd_11eb_94c6_acde48001122row1_col4\" class=\"data row1 col4\" >2</td>\n",
       "            </tr>\n",
       "            <tr>\n",
       "                        <th id=\"T_78a8964e_07dd_11eb_94c6_acde48001122level0_row2\" class=\"row_heading level0 row2\" >2</th>\n",
       "                        <td id=\"T_78a8964e_07dd_11eb_94c6_acde48001122row2_col0\" class=\"data row2 col0\" >basement</td>\n",
       "                        <td id=\"T_78a8964e_07dd_11eb_94c6_acde48001122row2_col1\" class=\"data row2 col1\" >Basement_Series</td>\n",
       "                        <td id=\"T_78a8964e_07dd_11eb_94c6_acde48001122row2_col2\" class=\"data row2 col2\" >1</td>\n",
       "                        <td id=\"T_78a8964e_07dd_11eb_94c6_acde48001122row2_col3\" class=\"data row2 col3\" >#ffbe00</td>\n",
       "                        <td id=\"T_78a8964e_07dd_11eb_94c6_acde48001122row2_col4\" class=\"data row2 col4\" >3</td>\n",
       "            </tr>\n",
       "    </tbody></table>"
      ],
      "text/plain": [
       "    surface           series  order_surfaces    color  id\n",
       "0     rock1     Strat_Series               1  #9f0052   1\n",
       "1     rock2     Strat_Series               2  #015482   2\n",
       "2  basement  Basement_Series               1  #ffbe00   3"
      ]
     },
     "execution_count": 28,
     "metadata": {},
     "output_type": "execute_result"
    }
   ],
   "source": [
    "model1.geo_data._surfaces"
   ]
  },
  {
   "cell_type": "code",
   "execution_count": null,
   "metadata": {},
   "outputs": [],
   "source": []
  },
  {
   "cell_type": "code",
   "execution_count": 8,
   "metadata": {
    "ExecuteTime": {
     "end_time": "2020-10-06T14:13:01.659082Z",
     "start_time": "2020-10-06T14:13:01.652386Z"
    }
   },
   "outputs": [],
   "source": [
    "model1.geo_data._surfaces.colors.update_colors({'rock1': '#9f0052','rock2':'#015482'})"
   ]
  },
  {
   "cell_type": "code",
   "execution_count": 9,
   "metadata": {
    "ExecuteTime": {
     "end_time": "2020-10-06T14:13:02.873959Z",
     "start_time": "2020-10-06T14:13:02.810669Z"
    }
   },
   "outputs": [
    {
     "data": {
      "text/html": [
       "<style  type=\"text/css\" >\n",
       "    #T_0be627fa_07de_11eb_a797_acde48001122row0_col3 {\n",
       "            background-color:  #9f0052;\n",
       "        }    #T_0be627fa_07de_11eb_a797_acde48001122row1_col3 {\n",
       "            background-color:  #015482;\n",
       "        }    #T_0be627fa_07de_11eb_a797_acde48001122row2_col3 {\n",
       "            background-color:  #ffbe00;\n",
       "        }</style><table id=\"T_0be627fa_07de_11eb_a797_acde48001122\" ><thead>    <tr>        <th class=\"blank level0\" ></th>        <th class=\"col_heading level0 col0\" >surface</th>        <th class=\"col_heading level0 col1\" >series</th>        <th class=\"col_heading level0 col2\" >order_surfaces</th>        <th class=\"col_heading level0 col3\" >color</th>        <th class=\"col_heading level0 col4\" >id</th>    </tr></thead><tbody>\n",
       "                <tr>\n",
       "                        <th id=\"T_0be627fa_07de_11eb_a797_acde48001122level0_row0\" class=\"row_heading level0 row0\" >0</th>\n",
       "                        <td id=\"T_0be627fa_07de_11eb_a797_acde48001122row0_col0\" class=\"data row0 col0\" >rock1</td>\n",
       "                        <td id=\"T_0be627fa_07de_11eb_a797_acde48001122row0_col1\" class=\"data row0 col1\" >Strat_Series</td>\n",
       "                        <td id=\"T_0be627fa_07de_11eb_a797_acde48001122row0_col2\" class=\"data row0 col2\" >1</td>\n",
       "                        <td id=\"T_0be627fa_07de_11eb_a797_acde48001122row0_col3\" class=\"data row0 col3\" >#9f0052</td>\n",
       "                        <td id=\"T_0be627fa_07de_11eb_a797_acde48001122row0_col4\" class=\"data row0 col4\" >1</td>\n",
       "            </tr>\n",
       "            <tr>\n",
       "                        <th id=\"T_0be627fa_07de_11eb_a797_acde48001122level0_row1\" class=\"row_heading level0 row1\" >1</th>\n",
       "                        <td id=\"T_0be627fa_07de_11eb_a797_acde48001122row1_col0\" class=\"data row1 col0\" >rock2</td>\n",
       "                        <td id=\"T_0be627fa_07de_11eb_a797_acde48001122row1_col1\" class=\"data row1 col1\" >Strat_Series</td>\n",
       "                        <td id=\"T_0be627fa_07de_11eb_a797_acde48001122row1_col2\" class=\"data row1 col2\" >2</td>\n",
       "                        <td id=\"T_0be627fa_07de_11eb_a797_acde48001122row1_col3\" class=\"data row1 col3\" >#015482</td>\n",
       "                        <td id=\"T_0be627fa_07de_11eb_a797_acde48001122row1_col4\" class=\"data row1 col4\" >2</td>\n",
       "            </tr>\n",
       "            <tr>\n",
       "                        <th id=\"T_0be627fa_07de_11eb_a797_acde48001122level0_row2\" class=\"row_heading level0 row2\" >2</th>\n",
       "                        <td id=\"T_0be627fa_07de_11eb_a797_acde48001122row2_col0\" class=\"data row2 col0\" >basement</td>\n",
       "                        <td id=\"T_0be627fa_07de_11eb_a797_acde48001122row2_col1\" class=\"data row2 col1\" >Basement_Series</td>\n",
       "                        <td id=\"T_0be627fa_07de_11eb_a797_acde48001122row2_col2\" class=\"data row2 col2\" >1</td>\n",
       "                        <td id=\"T_0be627fa_07de_11eb_a797_acde48001122row2_col3\" class=\"data row2 col3\" >#ffbe00</td>\n",
       "                        <td id=\"T_0be627fa_07de_11eb_a797_acde48001122row2_col4\" class=\"data row2 col4\" >3</td>\n",
       "            </tr>\n",
       "    </tbody></table>"
      ],
      "text/plain": [
       "    surface           series  order_surfaces    color  id\n",
       "0     rock1     Strat_Series               1  #9f0052   1\n",
       "1     rock2     Strat_Series               2  #015482   2\n",
       "2  basement  Basement_Series               1  #ffbe00   3"
      ]
     },
     "execution_count": 9,
     "metadata": {},
     "output_type": "execute_result"
    }
   ],
   "source": [
    "model1.geo_data._surfaces"
   ]
  },
  {
   "cell_type": "code",
   "execution_count": null,
   "metadata": {
    "ExecuteTime": {
     "end_time": "2020-10-06T11:47:27.211723Z",
     "start_time": "2020-10-06T11:47:20.997Z"
    }
   },
   "outputs": [],
   "source": [
    "x_to_intep_length = model1._grid.length[-1]\n",
    "scalar_field_at_surface_points = model1.scalar_field_at_surface_points\n",
    "values_at_surface_points = "
   ]
  },
  {
   "cell_type": "code",
   "execution_count": null,
   "metadata": {
    "ExecuteTime": {
     "end_time": "2020-10-06T11:47:27.212791Z",
     "start_time": "2020-10-06T11:47:21.005Z"
    }
   },
   "outputs": [],
   "source": [
    "model1.scalar_field_at_surface_points"
   ]
  },
  {
   "cell_type": "code",
   "execution_count": 30,
   "metadata": {
    "ExecuteTime": {
     "end_time": "2020-10-06T14:27:59.654092Z",
     "start_time": "2020-10-06T14:27:59.640603Z"
    }
   },
   "outputs": [],
   "source": [
    "from gempy.plot.vista import GemPyToVista\n",
    "gpv = GemPyToVista(model1, plotter_type='basic')"
   ]
  },
  {
   "cell_type": "code",
   "execution_count": 31,
   "metadata": {
    "ExecuteTime": {
     "end_time": "2020-10-06T14:28:31.528983Z",
     "start_time": "2020-10-06T14:28:00.650941Z"
    }
   },
   "outputs": [
    {
     "data": {
      "text/plain": [
       "[(3678.9000849055724, 3299.7916641208717, 2986.3766449368204),\n",
       " (58.94653938611151, 633.5068793928149, 1040.404182804553),\n",
       " (-0.28623296142632343, -0.28013916471747896, 0.9162929336104859)]"
      ]
     },
     "execution_count": 31,
     "metadata": {},
     "output_type": "execute_result"
    }
   ],
   "source": [
    "gpv.plot_data()\n",
    "gpv.p.show()"
   ]
  },
  {
   "cell_type": "code",
   "execution_count": null,
   "metadata": {},
   "outputs": [],
   "source": []
  }
 ],
 "metadata": {
  "kernelspec": {
   "display_name": "Python 3.7.7 64-bit ('gempy': conda)",
   "language": "python",
   "name": "python37764bitgempyconda56adf421e2e348a0921383dec03a4eee"
  },
  "language_info": {
   "codemirror_mode": {
    "name": "ipython",
    "version": 3
   },
   "file_extension": ".py",
   "mimetype": "text/x-python",
   "name": "python",
   "nbconvert_exporter": "python",
   "pygments_lexer": "ipython3",
   "version": "3.7.7"
  },
  "varInspector": {
   "cols": {
    "lenName": 16,
    "lenType": 16,
    "lenVar": 40
   },
   "kernels_config": {
    "python": {
     "delete_cmd_postfix": "",
     "delete_cmd_prefix": "del ",
     "library": "var_list.py",
     "varRefreshCmd": "print(var_dic_list())"
    },
    "r": {
     "delete_cmd_postfix": ") ",
     "delete_cmd_prefix": "rm(",
     "library": "var_list.r",
     "varRefreshCmd": "cat(var_dic_list()) "
    }
   },
   "types_to_exclude": [
    "module",
    "function",
    "builtin_function_or_method",
    "instance",
    "_Feature"
   ],
   "window_display": false
  }
 },
 "nbformat": 4,
 "nbformat_minor": 2
}
