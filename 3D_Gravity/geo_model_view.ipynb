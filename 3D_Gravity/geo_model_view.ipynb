{
 "cells": [
  {
   "cell_type": "code",
   "execution_count": 1,
   "metadata": {
    "ExecuteTime": {
     "end_time": "2020-05-23T20:29:43.466482Z",
     "start_time": "2020-05-23T20:29:38.555408Z"
    }
   },
   "outputs": [
    {
     "name": "stdout",
     "output_type": "stream",
     "text": [
      "Active grids: ['regular']\n"
     ]
    },
    {
     "ename": "AssertionError",
     "evalue": "One or more columns do not match with the expected values, which are: \n- the locations of the measurement points 'X','Y' and 'Z' \n- EITHER 'azimuth' (trend direction indicated by an angle between 0 and 360 with North at 0 AND 'dip' (inclination angle, measured from horizontal plane downwards, between 0 and 90 degrees) \n- OR the pole vectors of the orientation in a cartesian system 'G_x','G_y' and 'G_z' \n- the 'polarity' of the orientation, can be normal (1) or reversed (-1) \n- the name of the surface: 'formation'\nYour headers are ['X', 'Y', 'Z', 'formation']",
     "output_type": "error",
     "traceback": [
      "\u001b[0;31m---------------------------------------------------------------------------\u001b[0m",
      "\u001b[0;31mAssertionError\u001b[0m                            Traceback (most recent call last)",
      "\u001b[0;32m<ipython-input-1-6c2953be10a5>\u001b[0m in \u001b[0;36m<module>\u001b[0;34m\u001b[0m\n\u001b[1;32m     28\u001b[0m geo_data = create_data([0, 1000, 0, 1000, 0, 1000], resolution=[50, 50, 50],\n\u001b[1;32m     29\u001b[0m                        \u001b[0mpath_o\u001b[0m\u001b[0;34m=\u001b[0m\u001b[0;34m\"/Users/zhouji/Google Drive/Gempy/check.csv\"\u001b[0m\u001b[0;34m,\u001b[0m\u001b[0;34m\u001b[0m\u001b[0;34m\u001b[0m\u001b[0m\n\u001b[0;32m---> 30\u001b[0;31m                        path_i=path + \"/data/input_data/jan_models/model2_surface_points.csv\")\n\u001b[0m\u001b[1;32m     31\u001b[0m map_series_to_surfaces(geo_data, {\"Strat_Series\": (\n\u001b[1;32m     32\u001b[0m     'rock2', 'rock1'), \"Basement_Series\": ('basement')})\n",
      "\u001b[0;32m~/Documents/github/gempy/gempy/core/gempy_api.py\u001b[0m in \u001b[0;36mcreate_data\u001b[0;34m(extent, resolution, project_name, **kwargs)\u001b[0m\n\u001b[1;32m    424\u001b[0m \u001b[0;34m\u001b[0m\u001b[0m\n\u001b[1;32m    425\u001b[0m     \u001b[0mgeo_model\u001b[0m \u001b[0;34m=\u001b[0m \u001b[0mcreate_model\u001b[0m\u001b[0;34m(\u001b[0m\u001b[0mproject_name\u001b[0m\u001b[0;34m)\u001b[0m\u001b[0;34m\u001b[0m\u001b[0;34m\u001b[0m\u001b[0m\n\u001b[0;32m--> 426\u001b[0;31m     \u001b[0;32mreturn\u001b[0m \u001b[0minit_data\u001b[0m\u001b[0;34m(\u001b[0m\u001b[0mgeo_model\u001b[0m\u001b[0;34m,\u001b[0m \u001b[0mextent\u001b[0m\u001b[0;34m=\u001b[0m\u001b[0mextent\u001b[0m\u001b[0;34m,\u001b[0m \u001b[0mresolution\u001b[0m\u001b[0;34m=\u001b[0m\u001b[0mresolution\u001b[0m\u001b[0;34m,\u001b[0m \u001b[0mproject_name\u001b[0m\u001b[0;34m=\u001b[0m\u001b[0mproject_name\u001b[0m\u001b[0;34m,\u001b[0m \u001b[0;34m**\u001b[0m\u001b[0mkwargs\u001b[0m\u001b[0;34m)\u001b[0m\u001b[0;34m\u001b[0m\u001b[0;34m\u001b[0m\u001b[0m\n\u001b[0m\u001b[1;32m    427\u001b[0m \u001b[0;34m\u001b[0m\u001b[0m\n\u001b[1;32m    428\u001b[0m \u001b[0;34m\u001b[0m\u001b[0m\n",
      "\u001b[0;32m~/Documents/github/gempy/gempy/core/gempy_api.py\u001b[0m in \u001b[0;36minit_data\u001b[0;34m(geo_model, extent, resolution, **kwargs)\u001b[0m\n\u001b[1;32m    465\u001b[0m \u001b[0;34m\u001b[0m\u001b[0m\n\u001b[1;32m    466\u001b[0m     \u001b[0;32mif\u001b[0m \u001b[0;34m'path_i'\u001b[0m \u001b[0;32min\u001b[0m \u001b[0mkwargs\u001b[0m \u001b[0;32mor\u001b[0m \u001b[0;34m'path_o'\u001b[0m \u001b[0;32min\u001b[0m \u001b[0mkwargs\u001b[0m\u001b[0;34m:\u001b[0m\u001b[0;34m\u001b[0m\u001b[0;34m\u001b[0m\u001b[0m\n\u001b[0;32m--> 467\u001b[0;31m         \u001b[0mread_csv\u001b[0m\u001b[0;34m(\u001b[0m\u001b[0mgeo_model\u001b[0m\u001b[0;34m,\u001b[0m \u001b[0;34m**\u001b[0m\u001b[0mkwargs\u001b[0m\u001b[0;34m)\u001b[0m\u001b[0;34m\u001b[0m\u001b[0;34m\u001b[0m\u001b[0m\n\u001b[0m\u001b[1;32m    468\u001b[0m \u001b[0;34m\u001b[0m\u001b[0m\n\u001b[1;32m    469\u001b[0m     \u001b[0;32mif\u001b[0m \u001b[0;34m'surface_points_df'\u001b[0m \u001b[0;32min\u001b[0m \u001b[0mkwargs\u001b[0m\u001b[0;34m:\u001b[0m\u001b[0;34m\u001b[0m\u001b[0;34m\u001b[0m\u001b[0m\n",
      "\u001b[0;32m~/Documents/github/gempy/gempy/core/gempy_api.py\u001b[0m in \u001b[0;36mread_csv\u001b[0;34m(geo_model, path_i, path_o, **kwargs)\u001b[0m\n\u001b[1;32m     76\u001b[0m \u001b[0;32mdef\u001b[0m \u001b[0mread_csv\u001b[0m\u001b[0;34m(\u001b[0m\u001b[0mgeo_model\u001b[0m\u001b[0;34m:\u001b[0m \u001b[0mModel\u001b[0m\u001b[0;34m,\u001b[0m \u001b[0mpath_i\u001b[0m\u001b[0;34m=\u001b[0m\u001b[0;32mNone\u001b[0m\u001b[0;34m,\u001b[0m \u001b[0mpath_o\u001b[0m\u001b[0;34m=\u001b[0m\u001b[0;32mNone\u001b[0m\u001b[0;34m,\u001b[0m \u001b[0;34m**\u001b[0m\u001b[0mkwargs\u001b[0m\u001b[0;34m)\u001b[0m\u001b[0;34m:\u001b[0m\u001b[0;34m\u001b[0m\u001b[0;34m\u001b[0m\u001b[0m\n\u001b[1;32m     77\u001b[0m     \u001b[0;32mif\u001b[0m \u001b[0mpath_i\u001b[0m \u001b[0;32mis\u001b[0m \u001b[0;32mnot\u001b[0m \u001b[0;32mNone\u001b[0m \u001b[0;32mor\u001b[0m \u001b[0mpath_o\u001b[0m \u001b[0;32mis\u001b[0m \u001b[0;32mnot\u001b[0m \u001b[0;32mNone\u001b[0m\u001b[0;34m:\u001b[0m\u001b[0;34m\u001b[0m\u001b[0;34m\u001b[0m\u001b[0m\n\u001b[0;32m---> 78\u001b[0;31m         \u001b[0mgeo_model\u001b[0m\u001b[0;34m.\u001b[0m\u001b[0mread_data\u001b[0m\u001b[0;34m(\u001b[0m\u001b[0mpath_i\u001b[0m\u001b[0;34m,\u001b[0m \u001b[0mpath_o\u001b[0m\u001b[0;34m,\u001b[0m \u001b[0;34m**\u001b[0m\u001b[0mkwargs\u001b[0m\u001b[0;34m)\u001b[0m\u001b[0;34m\u001b[0m\u001b[0;34m\u001b[0m\u001b[0m\n\u001b[0m\u001b[1;32m     79\u001b[0m     \u001b[0;32mreturn\u001b[0m \u001b[0;32mTrue\u001b[0m\u001b[0;34m\u001b[0m\u001b[0;34m\u001b[0m\u001b[0m\n\u001b[1;32m     80\u001b[0m \u001b[0;34m\u001b[0m\u001b[0m\n",
      "\u001b[0;32m~/Documents/github/gempy/gempy/core/model.py\u001b[0m in \u001b[0;36mread_data\u001b[0;34m(self, path_i, path_o, add_basement, **kwargs)\u001b[0m\n\u001b[1;32m   1245\u001b[0m             \u001b[0mself\u001b[0m\u001b[0;34m.\u001b[0m\u001b[0msurface_points\u001b[0m\u001b[0;34m.\u001b[0m\u001b[0mread_surface_points\u001b[0m\u001b[0;34m(\u001b[0m\u001b[0mpath_i\u001b[0m\u001b[0;34m,\u001b[0m \u001b[0minplace\u001b[0m\u001b[0;34m=\u001b[0m\u001b[0;32mTrue\u001b[0m\u001b[0;34m,\u001b[0m \u001b[0;34m**\u001b[0m\u001b[0mkwargs\u001b[0m\u001b[0;34m)\u001b[0m\u001b[0;34m\u001b[0m\u001b[0;34m\u001b[0m\u001b[0m\n\u001b[1;32m   1246\u001b[0m         \u001b[0;32mif\u001b[0m \u001b[0mpath_o\u001b[0m\u001b[0;34m:\u001b[0m\u001b[0;34m\u001b[0m\u001b[0;34m\u001b[0m\u001b[0m\n\u001b[0;32m-> 1247\u001b[0;31m             \u001b[0mself\u001b[0m\u001b[0;34m.\u001b[0m\u001b[0morientations\u001b[0m\u001b[0;34m.\u001b[0m\u001b[0mread_orientations\u001b[0m\u001b[0;34m(\u001b[0m\u001b[0mpath_o\u001b[0m\u001b[0;34m,\u001b[0m \u001b[0minplace\u001b[0m\u001b[0;34m=\u001b[0m\u001b[0;32mTrue\u001b[0m\u001b[0;34m,\u001b[0m \u001b[0;34m**\u001b[0m\u001b[0mkwargs\u001b[0m\u001b[0;34m)\u001b[0m\u001b[0;34m\u001b[0m\u001b[0;34m\u001b[0m\u001b[0m\n\u001b[0m\u001b[1;32m   1248\u001b[0m         \u001b[0;32mif\u001b[0m \u001b[0madd_basement\u001b[0m \u001b[0;32mis\u001b[0m \u001b[0;32mTrue\u001b[0m\u001b[0;34m:\u001b[0m\u001b[0;34m\u001b[0m\u001b[0;34m\u001b[0m\u001b[0m\n\u001b[1;32m   1249\u001b[0m             \u001b[0mself\u001b[0m\u001b[0;34m.\u001b[0m\u001b[0msurfaces\u001b[0m\u001b[0;34m.\u001b[0m\u001b[0madd_surface\u001b[0m\u001b[0;34m(\u001b[0m\u001b[0;34m[\u001b[0m\u001b[0;34m'basement'\u001b[0m\u001b[0;34m]\u001b[0m\u001b[0;34m)\u001b[0m\u001b[0;34m\u001b[0m\u001b[0;34m\u001b[0m\u001b[0m\n",
      "\u001b[0;32m~/Documents/github/gempy/gempy/core/data.py\u001b[0m in \u001b[0;36mread_orientations\u001b[0;34m(self, file_path, debug, inplace, kwargs_pandas, **kwargs)\u001b[0m\n\u001b[1;32m   2063\u001b[0m                 \u001b[0;34m\"- the '{}' of the orientation, can be normal (1) or reversed (-1) \\n\"\u001b[0m\u001b[0;34m.\u001b[0m\u001b[0mformat\u001b[0m\u001b[0;34m(\u001b[0m\u001b[0mpolarity_name\u001b[0m\u001b[0;34m)\u001b[0m\u001b[0;34m+\u001b[0m\u001b[0;31m\\\u001b[0m\u001b[0;34m\u001b[0m\u001b[0;34m\u001b[0m\u001b[0m\n\u001b[1;32m   2064\u001b[0m                 \u001b[0;34m\"- the name of the surface: '{}'\\n\"\u001b[0m\u001b[0;34m.\u001b[0m\u001b[0mformat\u001b[0m\u001b[0;34m(\u001b[0m\u001b[0msurface_name\u001b[0m\u001b[0;34m)\u001b[0m\u001b[0;34m+\u001b[0m\u001b[0;31m\\\u001b[0m\u001b[0;34m\u001b[0m\u001b[0;34m\u001b[0m\u001b[0m\n\u001b[0;32m-> 2065\u001b[0;31m                 \u001b[0;34m\"Your headers are \"\u001b[0m\u001b[0;34m+\u001b[0m\u001b[0mstr\u001b[0m\u001b[0;34m(\u001b[0m\u001b[0mlist\u001b[0m\u001b[0;34m(\u001b[0m\u001b[0mtable\u001b[0m\u001b[0;34m.\u001b[0m\u001b[0mcolumns\u001b[0m\u001b[0;34m)\u001b[0m\u001b[0;34m)\u001b[0m\u001b[0;34m\u001b[0m\u001b[0;34m\u001b[0m\u001b[0m\n\u001b[0m\u001b[1;32m   2066\u001b[0m \u001b[0;34m\u001b[0m\u001b[0m\n\u001b[1;32m   2067\u001b[0m             \u001b[0;32mif\u001b[0m \u001b[0minplace\u001b[0m\u001b[0;34m:\u001b[0m\u001b[0;34m\u001b[0m\u001b[0;34m\u001b[0m\u001b[0m\n",
      "\u001b[0;31mAssertionError\u001b[0m: One or more columns do not match with the expected values, which are: \n- the locations of the measurement points 'X','Y' and 'Z' \n- EITHER 'azimuth' (trend direction indicated by an angle between 0 and 360 with North at 0 AND 'dip' (inclination angle, measured from horizontal plane downwards, between 0 and 90 degrees) \n- OR the pole vectors of the orientation in a cartesian system 'G_x','G_y' and 'G_z' \n- the 'polarity' of the orientation, can be normal (1) or reversed (-1) \n- the name of the surface: 'formation'\nYour headers are ['X', 'Y', 'Z', 'formation']"
     ]
    }
   ],
   "source": [
    "import sys\n",
    "import os\n",
    "import numpy as np\n",
    "\n",
    "import timeit\n",
    "sys.path.append(\"/Users/zhouji/Documents/github/gempy\")\n",
    "\n",
    "\n",
    "import matplotlib.pyplot as plt\n",
    "import gempy as gp\n",
    "from gempy.core.tensor.tensorflow_graph_test import TFGraph\n",
    "import tensorflow as tf\n",
    "import tensorflow_probability as tfp\n",
    "import pandas as pd\n",
    "from gempy import create_data, map_series_to_surfaces\n",
    "from gempy.assets.geophysics import GravityPreprocessing\n",
    "tfd = tfp.distributions\n",
    "\n",
    "def Plot_2D_scaler_field(grid, scaler_field):\n",
    "    G = grid[np.where(grid[:, 1] == [grid[-1][1]])[0]]\n",
    "    S = scaler_field.numpy()[np.where(grid[:, 1] == [grid[0][1]])[0]]\n",
    "    XX = G[:, 0].reshape([50, 50])\n",
    "    ZZ = G[:, 2].reshape([50, 50])\n",
    "    S = S.reshape([50, 50])\n",
    "    plt.contour(XX, ZZ, S)\n",
    "\n",
    "path = '/Users/zhouji/Documents/github/gempy/notebooks/'\n",
    "geo_data = create_data([0, 1000, 0, 1000, 0, 1000], resolution=[50, 50, 50],\n",
    "                       path_o=\"/Users/zhouji/Google Drive/Gempy/check.csv\",\n",
    "                       path_i=path + \"/data/input_data/jan_models/model2_surface_points.csv\")\n",
    "map_series_to_surfaces(geo_data, {\"Strat_Series\": (\n",
    "    'rock2', 'rock1'), \"Basement_Series\": ('basement')})\n",
    "\n",
    "geo_data.add_surface_values([2.61, 3.1, 2.92])\n",
    "\n",
    "# Gravity test\n",
    "# ---------\n",
    "grav_res = 15\n",
    "X = np.linspace(0, 1000, grav_res)\n",
    "Y = np.linspace(0, 1000, grav_res)\n",
    "Z = 300\n",
    "xyz = np.meshgrid(X, Y, Z)\n",
    "xy_ravel = np.vstack(list(map(np.ravel, xyz))).T\n",
    "\n",
    "\n",
    "geo_data.set_centered_grid(xy_ravel, resolution=[10, 10, 15], radius=5000)\n",
    "interpolator = geo_data.interpolator\n",
    "dtype = interpolator.additional_data.options.df.loc['values', 'dtype']\n",
    "dtype = 'float64'\n",
    "dips_position, dip_angles, azimuth, polarity, surface_points_coord, fault_drift, grid, values_properties = interpolator.get_python_input_block()[\n",
    "    0:-3]\n",
    "dip_angles = tf.cast(dip_angles,dtype)\n",
    "grid = tf.cast(grid,dtype)\n",
    "dips_position = tf.cast(dips_position,dtype)\n",
    "azimuth = tf.cast(azimuth,dtype)\n",
    "polarity = tf.cast(polarity,dtype)\n",
    "fault_drift = tf.cast(fault_drift,dtype)\n",
    "values_properties = tf.cast(values_properties,dtype)\n",
    "\n",
    "\n",
    "centers = geo_data.rescaling.df.loc['values', 'centers'].astype(dtype)\n",
    "\n",
    "\n",
    "g = GravityPreprocessing(geo_data.grid.centered_grid)\n",
    "tz = g.set_tz_kernel()\n",
    "\n",
    "tz = tf.cast(tz,dtype)\n",
    "\n",
    "len_rest_form = interpolator.additional_data.structure_data.df.loc[\n",
    "    'values', 'len surfaces surface_points'] - 1\n",
    "Range = interpolator.additional_data.kriging_data.df.loc['values', 'range']\n",
    "C_o = interpolator.additional_data.kriging_data.df.loc['values', '$C_o$']\n",
    "rescale_factor = interpolator.additional_data.rescaling_data.df.loc[\n",
    "    'values', 'rescaling factor']\n",
    "\n",
    "# rf = rescale_factor\n",
    "nugget_effect_grad = np.cast[dtype](\n",
    "    np.tile(interpolator.orientations.df['smooth'], 3))\n",
    "nugget_effect_scalar = np.cast[dtype](\n",
    "    interpolator.surface_points.df['smooth'])\n",
    "\n",
    "\n",
    "TFG = TFGraph(dips_position, dip_angles, azimuth,\n",
    "              polarity, fault_drift,\n",
    "              grid, values_properties, len_rest_form, Range,\n",
    "              C_o, nugget_effect_scalar, nugget_effect_grad,\n",
    "              rescale_factor)\n",
    "\n",
    "\n",
    "surface_points_coord = tf.convert_to_tensor(surface_points_coord,TFG.dtype)\n",
    "\n",
    "Z_x= TFG.scalar_field(surface_points_coord)\n",
    "scalar_field_at_surface_points = TFG.get_scalar_field_at_surface_points(Z_x)\n",
    "formations_block = TFG.export_formation_block(\n",
    "    Z_x, scalar_field_at_surface_points, values_properties)\n",
    "\n",
    "lg_0 = interpolator.grid.get_grid_args('centered')[0]\n",
    "lg_1 = interpolator.grid.get_grid_args('centered')[1]\n",
    "dips_position = tf.convert_to_tensor(dips_position,dtype=dtype)\n",
    "dip_angles = tf.convert_to_tensor(dip_angles,dtype=dtype)\n",
    "azimuth = tf.convert_to_tensor(azimuth,dtype=dtype)\n",
    "polarity = tf.convert_to_tensor(polarity,dtype=dtype)\n",
    "\n",
    "fault_drift = tf.convert_to_tensor(fault_drift,dtype=dtype)\n",
    "grid = tf.convert_to_tensor(grid,dtype=dtype)\n",
    "values_properties = tf.convert_to_tensor(values_properties,dtype=dtype)\n",
    "len_rest_form = tf.convert_to_tensor(len_rest_form,dtype=dtype)\n",
    "Range = tf.convert_to_tensor(Range, dtype)\n",
    "C_o = tf.convert_to_tensor(C_o,dtype=dtype)\n",
    "nugget_effect_grad = tf.convert_to_tensor(nugget_effect_grad,dtype=dtype)\n",
    "nugget_effect_scalar = tf.convert_to_tensor(nugget_effect_scalar,dtype=dtype)\n",
    "rescale_factor = tf.convert_to_tensor(rescale_factor, dtype)\n",
    "\n",
    "densities = formations_block[1][lg_0:lg_1]\n",
    "\n",
    "## Plot the ground truth\n",
    "grav = TFG.compute_forward_gravity(tz, lg_0, lg_1, densities)\n",
    "Data = grav"
   ]
  },
  {
   "cell_type": "code",
   "execution_count": null,
   "metadata": {},
   "outputs": [],
   "source": []
  }
 ],
 "metadata": {
  "kernelspec": {
   "display_name": "Python [conda env:gempy] *",
   "language": "python",
   "name": "conda-env-gempy-py"
  },
  "language_info": {
   "codemirror_mode": {
    "name": "ipython",
    "version": 3
   },
   "file_extension": ".py",
   "mimetype": "text/x-python",
   "name": "python",
   "nbconvert_exporter": "python",
   "pygments_lexer": "ipython3",
   "version": "3.7.7"
  },
  "varInspector": {
   "cols": {
    "lenName": 16,
    "lenType": 16,
    "lenVar": 40
   },
   "kernels_config": {
    "python": {
     "delete_cmd_postfix": "",
     "delete_cmd_prefix": "del ",
     "library": "var_list.py",
     "varRefreshCmd": "print(var_dic_list())"
    },
    "r": {
     "delete_cmd_postfix": ") ",
     "delete_cmd_prefix": "rm(",
     "library": "var_list.r",
     "varRefreshCmd": "cat(var_dic_list()) "
    }
   },
   "types_to_exclude": [
    "module",
    "function",
    "builtin_function_or_method",
    "instance",
    "_Feature"
   ],
   "window_display": false
  }
 },
 "nbformat": 4,
 "nbformat_minor": 4
}
