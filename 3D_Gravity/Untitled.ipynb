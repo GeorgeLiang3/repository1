{
 "cells": [
  {
   "cell_type": "code",
   "execution_count": 1,
   "metadata": {
    "ExecuteTime": {
     "end_time": "2020-06-24T15:22:03.548456Z",
     "start_time": "2020-06-24T15:21:38.047252Z"
    }
   },
   "outputs": [
    {
     "name": "stdout",
     "output_type": "stream",
     "text": [
      "Active grids: ['regular']\n"
     ]
    },
    {
     "name": "stderr",
     "output_type": "stream",
     "text": [
      "/Users/zhouji/Documents/github/gempy/gempy/core/data_modules/geometric_data.py:533: UserWarning: If pole_vector and orientation are passed pole_vector is used/\n",
      "  warnings.warn('If pole_vector and orientation are passed pole_vector is used/')\n"
     ]
    },
    {
     "name": "stdout",
     "output_type": "stream",
     "text": [
      "Fault colors changed. If you do not like this behavior, set change_color to False.\n",
      "[1280. 1600.]\n",
      "Active grids: ['regular' 'topography']\n",
      "Setting kriging parameters to their default values.\n",
      "Compiling theano function...\n",
      "Level of Optimization:  fast_compile\n",
      "Device:  cpu\n",
      "Precision:  float64\n",
      "Number of faults:  2\n",
      "Compilation Done!\n",
      "Kriging values: \n",
      "                        values\n",
      "range                 3249.62\n",
      "$C_o$                  251429\n",
      "drift equations  [3, 3, 3, 3]\n"
     ]
    },
    {
     "data": {
      "text/plain": [
       "\n",
       "Lithology ids \n",
       "  [9. 9. 9. ... 3. 3. 3.] "
      ]
     },
     "execution_count": 1,
     "metadata": {},
     "output_type": "execute_result"
    }
   ],
   "source": [
    "\"\"\"\n",
    "1.7: 3-D Visualization\n",
    "======================\n",
    "\n",
    "\"\"\"\n",
    "\n",
    "# %% \n",
    "# Importing GemPy\n",
    "import gempy as gp\n",
    "\n",
    "# Importing auxiliary libraries\n",
    "import numpy as np\n",
    "import matplotlib.pyplot as plt\n",
    "\n",
    "# %%\n",
    "# Loading an example geomodel\n",
    "# ~~~~~~~~~~~~~~~~~~~~~~~~~~~\n",
    "# \n",
    "\n",
    "# %%\n",
    "\n",
    "data_path = 'https://raw.githubusercontent.com/cgre-aachen/gempy_data/master/'\n",
    "\n",
    "geo_model = gp.create_data('viz_3d',\n",
    "                           [0, 2000, 0, 2000, 0, 1600],\n",
    "                           [50, 50, 50],\n",
    "                           path_o=data_path + \"data/input_data/lisa_models/foliations\" + str(7) + \".csv\",\n",
    "                           path_i=data_path + \"data/input_data/lisa_models/interfaces\" + str(7) + \".csv\"\n",
    "                           )\n",
    "\n",
    "gp.map_stack_to_surfaces(\n",
    "    geo_model,\n",
    "    {\"Fault_1\": 'Fault_1', \"Fault_2\": 'Fault_2',\n",
    "     \"Strat_Series\": ('Sandstone', 'Siltstone', 'Shale', 'Sandstone_2', 'Schist', 'Gneiss')}\n",
    ")\n",
    "\n",
    "geo_model.set_is_fault(['Fault_1', 'Fault_2'])\n",
    "geo_model.set_topography()\n",
    "\n",
    "gp.set_interpolator(geo_model)\n",
    "gp.compute_model(geo_model, compute_mesh=True)\n",
    "\n",
    "# %%\n",
    "# Basic plotting API\n",
    "# ------------------\n",
    "# \n",
    "\n",
    "\n",
    "# %%\n",
    "# Data plot\n",
    "# ~~~~~~~~~\n",
    "# \n",
    "\n",
    "# %% \n"
   ]
  },
  {
   "cell_type": "code",
   "execution_count": 4,
   "metadata": {
    "ExecuteTime": {
     "end_time": "2020-06-24T15:22:29.018763Z",
     "start_time": "2020-06-24T15:22:28.877137Z"
    }
   },
   "outputs": [
    {
     "ename": "ValueError",
     "evalue": "Number of scalars (125000) must match either the number of points (110004) or the number of cells (102639). ",
     "output_type": "error",
     "traceback": [
      "\u001b[0;31m---------------------------------------------------------------------------\u001b[0m",
      "\u001b[0;31mValueError\u001b[0m                                Traceback (most recent call last)",
      "\u001b[0;32m<ipython-input-4-1f5c946c70e0>\u001b[0m in \u001b[0;36m<module>\u001b[0;34m\u001b[0m\n\u001b[1;32m      5\u001b[0m                       \u001b[0mshow_scalar\u001b[0m\u001b[0;34m=\u001b[0m\u001b[0;32mTrue\u001b[0m\u001b[0;34m,\u001b[0m\u001b[0;34m\u001b[0m\u001b[0;34m\u001b[0m\u001b[0m\n\u001b[1;32m      6\u001b[0m                       \u001b[0mshow_lith\u001b[0m\u001b[0;34m=\u001b[0m\u001b[0;32mTrue\u001b[0m\u001b[0;34m,\u001b[0m\u001b[0;34m\u001b[0m\u001b[0;34m\u001b[0m\u001b[0m\n\u001b[0;32m----> 7\u001b[0;31m                       kwargs_plot_structured_grid={'opacity': .5})\n\u001b[0m\u001b[1;32m      8\u001b[0m \u001b[0;34m\u001b[0m\u001b[0m\n",
      "\u001b[0;32m~/Documents/github/gempy/gempy/plot/plot_api.py\u001b[0m in \u001b[0;36mplot_3d\u001b[0;34m(model, plotter_type, show_data, show_results, show_surfaces, show_lith, show_scalar, show_boundaries, show_topography, scalar_field, ve, kwargs_plot_structured_grid, kwargs_plot_topography, image, off_screen, **kwargs)\u001b[0m\n\u001b[1;32m    325\u001b[0m         \u001b[0mgpv\u001b[0m\u001b[0;34m.\u001b[0m\u001b[0mplot_structured_grid\u001b[0m\u001b[0;34m(\u001b[0m\u001b[0;34m'lith'\u001b[0m\u001b[0;34m,\u001b[0m \u001b[0;34m**\u001b[0m\u001b[0mkwargs_plot_structured_grid\u001b[0m\u001b[0;34m)\u001b[0m\u001b[0;34m\u001b[0m\u001b[0;34m\u001b[0m\u001b[0m\n\u001b[1;32m    326\u001b[0m     \u001b[0;32mif\u001b[0m \u001b[0mshow_scalar\u001b[0m \u001b[0;32mis\u001b[0m \u001b[0;32mTrue\u001b[0m \u001b[0;32mand\u001b[0m \u001b[0mmodel\u001b[0m\u001b[0;34m.\u001b[0m\u001b[0msolutions\u001b[0m\u001b[0;34m.\u001b[0m\u001b[0mscalar_field_matrix\u001b[0m\u001b[0;34m.\u001b[0m\u001b[0mshape\u001b[0m\u001b[0;34m[\u001b[0m\u001b[0;36m0\u001b[0m\u001b[0;34m]\u001b[0m \u001b[0;34m!=\u001b[0m \u001b[0;36m0\u001b[0m\u001b[0;34m:\u001b[0m\u001b[0;34m\u001b[0m\u001b[0;34m\u001b[0m\u001b[0m\n\u001b[0;32m--> 327\u001b[0;31m         \u001b[0mgpv\u001b[0m\u001b[0;34m.\u001b[0m\u001b[0mplot_structured_grid\u001b[0m\u001b[0;34m(\u001b[0m\u001b[0;34m\"scalar\"\u001b[0m\u001b[0;34m,\u001b[0m \u001b[0mseries\u001b[0m\u001b[0;34m=\u001b[0m\u001b[0mscalar_field\u001b[0m\u001b[0;34m)\u001b[0m\u001b[0;34m\u001b[0m\u001b[0;34m\u001b[0m\u001b[0m\n\u001b[0m\u001b[1;32m    328\u001b[0m \u001b[0;34m\u001b[0m\u001b[0m\n\u001b[1;32m    329\u001b[0m     \u001b[0;32mif\u001b[0m \u001b[0mshow_data\u001b[0m\u001b[0;34m:\u001b[0m\u001b[0;34m\u001b[0m\u001b[0;34m\u001b[0m\u001b[0m\n",
      "\u001b[0;32m~/Documents/github/gempy/gempy/plot/vista.py\u001b[0m in \u001b[0;36mplot_structured_grid\u001b[0;34m(self, scalar_field, data, series, render_topography, opacity, clear, **kwargs)\u001b[0m\n\u001b[1;32m    631\u001b[0m                 \u001b[0;32mpass\u001b[0m\u001b[0;34m\u001b[0m\u001b[0;34m\u001b[0m\u001b[0m\n\u001b[1;32m    632\u001b[0m         regular_grid, cmap = self.create_regular_mesh(scalar_field, data,\n\u001b[0;32m--> 633\u001b[0;31m                                                       series, render_topography)\n\u001b[0m\u001b[1;32m    634\u001b[0m \u001b[0;34m\u001b[0m\u001b[0m\n\u001b[1;32m    635\u001b[0m         return self.add_regular_grid_mesh(regular_grid, cmap, scalar_field, series,\n",
      "\u001b[0;32m~/Documents/github/gempy/gempy/plot/vista.py\u001b[0m in \u001b[0;36mcreate_regular_mesh\u001b[0;34m(self, scalar_field, data, series, render_topography)\u001b[0m\n\u001b[1;32m    657\u001b[0m         regular_grid_mesh, cmap = self.set_scalar_data(regular_grid_mesh,\n\u001b[1;32m    658\u001b[0m                                                        \u001b[0mdata\u001b[0m\u001b[0;34m=\u001b[0m\u001b[0mdata\u001b[0m\u001b[0;34m,\u001b[0m \u001b[0mscalar_field\u001b[0m\u001b[0;34m=\u001b[0m\u001b[0mscalar_field\u001b[0m\u001b[0;34m,\u001b[0m\u001b[0;34m\u001b[0m\u001b[0;34m\u001b[0m\u001b[0m\n\u001b[0;32m--> 659\u001b[0;31m                                                        series=series)\n\u001b[0m\u001b[1;32m    660\u001b[0m \u001b[0;34m\u001b[0m\u001b[0m\n\u001b[1;32m    661\u001b[0m         \u001b[0;32mif\u001b[0m \u001b[0mrender_topography\u001b[0m \u001b[0;34m==\u001b[0m \u001b[0;32mTrue\u001b[0m \u001b[0;32mand\u001b[0m \u001b[0mregular_grid\u001b[0m\u001b[0;34m.\u001b[0m\u001b[0mmask_topo\u001b[0m\u001b[0;34m.\u001b[0m\u001b[0mshape\u001b[0m\u001b[0;34m[\u001b[0m\u001b[0;36m0\u001b[0m\u001b[0;34m]\u001b[0m \u001b[0;34m!=\u001b[0m \u001b[0;36m0\u001b[0m \u001b[0;32mand\u001b[0m \u001b[0;32mTrue\u001b[0m\u001b[0;34m:\u001b[0m\u001b[0;34m\u001b[0m\u001b[0;34m\u001b[0m\u001b[0m\n",
      "\u001b[0;32m~/Documents/github/gempy/gempy/plot/vista.py\u001b[0m in \u001b[0;36mset_scalar_data\u001b[0;34m(self, regular_grid, data, scalar_field, series, cmap)\u001b[0m\n\u001b[1;32m    721\u001b[0m                 \u001b[0mscalar_field_\u001b[0m \u001b[0;34m=\u001b[0m \u001b[0;34m'sf_'\u001b[0m\u001b[0;34m\u001b[0m\u001b[0;34m\u001b[0m\u001b[0m\n\u001b[1;32m    722\u001b[0m                 \u001b[0;32mfor\u001b[0m \u001b[0me\u001b[0m\u001b[0;34m,\u001b[0m \u001b[0mseries\u001b[0m \u001b[0;32min\u001b[0m \u001b[0menumerate\u001b[0m\u001b[0;34m(\u001b[0m\u001b[0mself\u001b[0m\u001b[0;34m.\u001b[0m\u001b[0mmodel\u001b[0m\u001b[0;34m.\u001b[0m\u001b[0m_stack\u001b[0m\u001b[0;34m.\u001b[0m\u001b[0mdf\u001b[0m\u001b[0;34m.\u001b[0m\u001b[0mgroupby\u001b[0m\u001b[0;34m(\u001b[0m\u001b[0;34m'isActive'\u001b[0m\u001b[0;34m)\u001b[0m\u001b[0;34m.\u001b[0m\u001b[0mgroups\u001b[0m\u001b[0;34m[\u001b[0m\u001b[0;32mTrue\u001b[0m\u001b[0;34m]\u001b[0m\u001b[0;34m)\u001b[0m\u001b[0;34m:\u001b[0m\u001b[0;34m\u001b[0m\u001b[0;34m\u001b[0m\u001b[0m\n\u001b[0;32m--> 723\u001b[0;31m                     \u001b[0mregular_grid\u001b[0m\u001b[0;34m[\u001b[0m\u001b[0mscalar_field_\u001b[0m \u001b[0;34m+\u001b[0m \u001b[0mseries\u001b[0m\u001b[0;34m]\u001b[0m \u001b[0;34m=\u001b[0m \u001b[0mdata\u001b[0m\u001b[0;34m.\u001b[0m\u001b[0mscalar_field_matrix\u001b[0m\u001b[0;34m[\u001b[0m\u001b[0me\u001b[0m\u001b[0;34m]\u001b[0m\u001b[0;34m\u001b[0m\u001b[0;34m\u001b[0m\u001b[0m\n\u001b[0m\u001b[1;32m    724\u001b[0m \u001b[0;34m\u001b[0m\u001b[0m\n\u001b[1;32m    725\u001b[0m             \u001b[0;32mif\u001b[0m \u001b[0;34m(\u001b[0m\u001b[0mscalar_field\u001b[0m \u001b[0;34m==\u001b[0m \u001b[0;34m'values'\u001b[0m \u001b[0;32mor\u001b[0m \u001b[0mscalar_field\u001b[0m \u001b[0;34m==\u001b[0m \u001b[0;34m'all'\u001b[0m \u001b[0;32mor\u001b[0m \u001b[0;34m'values_'\u001b[0m \u001b[0;32min\u001b[0m \u001b[0mscalar_field\u001b[0m\u001b[0;34m)\u001b[0m \u001b[0;32mand\u001b[0m\u001b[0;31m\\\u001b[0m\u001b[0;34m\u001b[0m\u001b[0;34m\u001b[0m\u001b[0m\n",
      "\u001b[0;32m~/anaconda3/envs/gempy/lib/python3.7/site-packages/pyvista/core/common.py\u001b[0m in \u001b[0;36m__setitem__\u001b[0;34m(self, name, scalars)\u001b[0m\n\u001b[1;32m    907\u001b[0m             \u001b[0;31m# Field data must be set explicitly as it could be a point of\u001b[0m\u001b[0;34m\u001b[0m\u001b[0;34m\u001b[0m\u001b[0;34m\u001b[0m\u001b[0m\n\u001b[1;32m    908\u001b[0m             \u001b[0;31m# confusion for new users\u001b[0m\u001b[0;34m\u001b[0m\u001b[0;34m\u001b[0m\u001b[0;34m\u001b[0m\u001b[0m\n\u001b[0;32m--> 909\u001b[0;31m             \u001b[0mraise_not_matching\u001b[0m\u001b[0;34m(\u001b[0m\u001b[0mscalars\u001b[0m\u001b[0;34m,\u001b[0m \u001b[0mself\u001b[0m\u001b[0;34m)\u001b[0m\u001b[0;34m\u001b[0m\u001b[0;34m\u001b[0m\u001b[0m\n\u001b[0m\u001b[1;32m    910\u001b[0m         \u001b[0;32mreturn\u001b[0m\u001b[0;34m\u001b[0m\u001b[0;34m\u001b[0m\u001b[0m\n\u001b[1;32m    911\u001b[0m \u001b[0;34m\u001b[0m\u001b[0m\n",
      "\u001b[0;32m~/anaconda3/envs/gempy/lib/python3.7/site-packages/pyvista/utilities/helpers.py\u001b[0m in \u001b[0;36mraise_not_matching\u001b[0;34m(scalars, mesh)\u001b[0m\n\u001b[1;32m    551\u001b[0m                      \u001b[0;34m'({}) '\u001b[0m\u001b[0;34m.\u001b[0m\u001b[0mformat\u001b[0m\u001b[0;34m(\u001b[0m\u001b[0mmesh\u001b[0m\u001b[0;34m.\u001b[0m\u001b[0mn_points\u001b[0m\u001b[0;34m)\u001b[0m \u001b[0;34m+\u001b[0m\u001b[0;34m\u001b[0m\u001b[0;34m\u001b[0m\u001b[0m\n\u001b[1;32m    552\u001b[0m                      \u001b[0;34m'or the number of cells '\u001b[0m \u001b[0;34m+\u001b[0m\u001b[0;34m\u001b[0m\u001b[0;34m\u001b[0m\u001b[0m\n\u001b[0;32m--> 553\u001b[0;31m                      '({}). '.format(mesh.n_cells) )\n\u001b[0m\u001b[1;32m    554\u001b[0m \u001b[0;34m\u001b[0m\u001b[0m\n\u001b[1;32m    555\u001b[0m \u001b[0;34m\u001b[0m\u001b[0m\n",
      "\u001b[0;31mValueError\u001b[0m: Number of scalars (125000) must match either the number of points (110004) or the number of cells (102639). "
     ]
    }
   ],
   "source": [
    "\n",
    "# sphinx_gallery_thumbnail_number = 2\n",
    "gpv = gp.plot.plot_3d(geo_model,\n",
    "                      plotter_type='basic',off_screen=False,\n",
    "                      show_topography=False,\n",
    "                      show_scalar=True,\n",
    "                      show_lith=True,\n",
    "                      kwargs_plot_structured_grid={'opacity': .5})\n",
    "\n"
   ]
  },
  {
   "cell_type": "code",
   "execution_count": null,
   "metadata": {},
   "outputs": [],
   "source": []
  }
 ],
 "metadata": {
  "kernelspec": {
   "display_name": "Python [conda env:gempy] *",
   "language": "python",
   "name": "conda-env-gempy-py"
  },
  "language_info": {
   "codemirror_mode": {
    "name": "ipython",
    "version": 3
   },
   "file_extension": ".py",
   "mimetype": "text/x-python",
   "name": "python",
   "nbconvert_exporter": "python",
   "pygments_lexer": "ipython3",
   "version": "3.7.7"
  },
  "varInspector": {
   "cols": {
    "lenName": 16,
    "lenType": 16,
    "lenVar": 40
   },
   "kernels_config": {
    "python": {
     "delete_cmd_postfix": "",
     "delete_cmd_prefix": "del ",
     "library": "var_list.py",
     "varRefreshCmd": "print(var_dic_list())"
    },
    "r": {
     "delete_cmd_postfix": ") ",
     "delete_cmd_prefix": "rm(",
     "library": "var_list.r",
     "varRefreshCmd": "cat(var_dic_list()) "
    }
   },
   "types_to_exclude": [
    "module",
    "function",
    "builtin_function_or_method",
    "instance",
    "_Feature"
   ],
   "window_display": false
  }
 },
 "nbformat": 4,
 "nbformat_minor": 4
}
