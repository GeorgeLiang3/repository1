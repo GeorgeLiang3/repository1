{
 "cells": [
  {
   "cell_type": "code",
   "execution_count": 14,
   "metadata": {
    "ExecuteTime": {
     "end_time": "2020-10-21T09:43:30.260330Z",
     "start_time": "2020-10-21T09:43:30.199394Z"
    }
   },
   "outputs": [],
   "source": [
    "import tensorflow as tf\n",
    "\n",
    "\n",
    "from ipywidgets import interact, interactive\n",
    "import os\n",
    "import numpy as np\n",
    "import sys\n",
    "import timeit\n",
    "import csv\n",
    "sys.path.append('/Users/zhouji/Google Drive/RWTH/GP_old')\n",
    "\n",
    "import matplotlib.pyplot as plt\n",
    "\n",
    "import gempy as gp\n",
    "from gempy.core.tensor.tensorflow_graph_test import TFGraph\n",
    "import tensorflow as tf\n",
    "import tensorflow_probability as tfp\n",
    "import pandas as pd\n",
    "from gempy import create_data, map_series_to_surfaces\n",
    "from gempy.assets.geophysics import GravityPreprocessing\n",
    "tfd = tfp.distributions\n",
    "%matplotlib inline"
   ]
  },
  {
   "cell_type": "code",
   "execution_count": 15,
   "metadata": {
    "ExecuteTime": {
     "end_time": "2020-10-21T09:43:31.421581Z",
     "start_time": "2020-10-21T09:43:30.585008Z"
    }
   },
   "outputs": [
    {
     "name": "stdout",
     "output_type": "stream",
     "text": [
      "Active grids: ['regular']\n"
     ]
    },
    {
     "data": {
      "text/html": [
       "<style  type=\"text/css\" >\n",
       "    #T_e128ac04_1381_11eb_b18e_acde48001122row0_col3 {\n",
       "            background-color:  #015482;\n",
       "        }    #T_e128ac04_1381_11eb_b18e_acde48001122row1_col3 {\n",
       "            background-color:  #9f0052;\n",
       "        }    #T_e128ac04_1381_11eb_b18e_acde48001122row2_col3 {\n",
       "            background-color:  #ffbe00;\n",
       "        }</style><table id=\"T_e128ac04_1381_11eb_b18e_acde48001122\" ><thead>    <tr>        <th class=\"blank level0\" ></th>        <th class=\"col_heading level0 col0\" >surface</th>        <th class=\"col_heading level0 col1\" >series</th>        <th class=\"col_heading level0 col2\" >order_surfaces</th>        <th class=\"col_heading level0 col3\" >color</th>        <th class=\"col_heading level0 col4\" >id</th>    </tr></thead><tbody>\n",
       "                <tr>\n",
       "                        <th id=\"T_e128ac04_1381_11eb_b18e_acde48001122level0_row0\" class=\"row_heading level0 row0\" >0</th>\n",
       "                        <td id=\"T_e128ac04_1381_11eb_b18e_acde48001122row0_col0\" class=\"data row0 col0\" >rock1</td>\n",
       "                        <td id=\"T_e128ac04_1381_11eb_b18e_acde48001122row0_col1\" class=\"data row0 col1\" >Strat_Series</td>\n",
       "                        <td id=\"T_e128ac04_1381_11eb_b18e_acde48001122row0_col2\" class=\"data row0 col2\" >1</td>\n",
       "                        <td id=\"T_e128ac04_1381_11eb_b18e_acde48001122row0_col3\" class=\"data row0 col3\" >#015482</td>\n",
       "                        <td id=\"T_e128ac04_1381_11eb_b18e_acde48001122row0_col4\" class=\"data row0 col4\" >1</td>\n",
       "            </tr>\n",
       "            <tr>\n",
       "                        <th id=\"T_e128ac04_1381_11eb_b18e_acde48001122level0_row1\" class=\"row_heading level0 row1\" >1</th>\n",
       "                        <td id=\"T_e128ac04_1381_11eb_b18e_acde48001122row1_col0\" class=\"data row1 col0\" >rock2</td>\n",
       "                        <td id=\"T_e128ac04_1381_11eb_b18e_acde48001122row1_col1\" class=\"data row1 col1\" >Strat_Series</td>\n",
       "                        <td id=\"T_e128ac04_1381_11eb_b18e_acde48001122row1_col2\" class=\"data row1 col2\" >2</td>\n",
       "                        <td id=\"T_e128ac04_1381_11eb_b18e_acde48001122row1_col3\" class=\"data row1 col3\" >#9f0052</td>\n",
       "                        <td id=\"T_e128ac04_1381_11eb_b18e_acde48001122row1_col4\" class=\"data row1 col4\" >2</td>\n",
       "            </tr>\n",
       "            <tr>\n",
       "                        <th id=\"T_e128ac04_1381_11eb_b18e_acde48001122level0_row2\" class=\"row_heading level0 row2\" >2</th>\n",
       "                        <td id=\"T_e128ac04_1381_11eb_b18e_acde48001122row2_col0\" class=\"data row2 col0\" >basement</td>\n",
       "                        <td id=\"T_e128ac04_1381_11eb_b18e_acde48001122row2_col1\" class=\"data row2 col1\" >Basement_Series</td>\n",
       "                        <td id=\"T_e128ac04_1381_11eb_b18e_acde48001122row2_col2\" class=\"data row2 col2\" >1</td>\n",
       "                        <td id=\"T_e128ac04_1381_11eb_b18e_acde48001122row2_col3\" class=\"data row2 col3\" >#ffbe00</td>\n",
       "                        <td id=\"T_e128ac04_1381_11eb_b18e_acde48001122row2_col4\" class=\"data row2 col4\" >3</td>\n",
       "            </tr>\n",
       "    </tbody></table>"
      ],
      "text/plain": [
       "    surface           series  order_surfaces    color  id\n",
       "0     rock1     Strat_Series               1  #015482   1\n",
       "1     rock2     Strat_Series               2  #9f0052   2\n",
       "2  basement  Basement_Series               1  #ffbe00   3"
      ]
     },
     "execution_count": 15,
     "metadata": {},
     "output_type": "execute_result"
    }
   ],
   "source": [
    "geo_model = gp.create_model('Fold')\n",
    "\n",
    "path = '/Users/zhouji/Google Drive/RWTH/GP_old/notebooks/'\n",
    "# set regular grid to low resolution to save memory\n",
    "\n",
    "gp.init_data(geo_model, [0, 1000., 0, 1000., 0, 1000.], [50, 50, 50],\n",
    "                 path_o=path+ \"/data/input_data/George_models/model2_1_orientations.csv\",\n",
    "                  path_i=path + '/data/input_data/George_models/'+'model2'+'_surface_points.csv',\n",
    "             default_values=True)\n",
    "\n",
    "gp.map_stack_to_surfaces(geo_model,\n",
    "                        {\"Strat_Series\": (\n",
    "    'rock2', 'rock1'), \"Basement_Series\": ('basement')},\n",
    "                         remove_unused_series=True)\n",
    "\n",
    "# geo_data = create_data([0, 1000, 0, 1000, 0, 1000], resolution=[50, 50, 50],\n",
    "#                       path_o=path+ \"/data/input_data/George_models/model2_1_orientations.csv\",\n",
    "#                       path_i=path + \"/data/input_data/George_models/180surface_points.csv\")\n",
    "# map_series_to_surfaces(geo_data, {\"Strat_Series\": (\n",
    "#     'rock2', 'rock1'), \"Basement_Series\": ('basement')})"
   ]
  },
  {
   "cell_type": "code",
   "execution_count": 16,
   "metadata": {
    "ExecuteTime": {
     "end_time": "2020-10-21T09:43:35.043406Z",
     "start_time": "2020-10-21T09:43:31.500101Z"
    }
   },
   "outputs": [
    {
     "name": "stdout",
     "output_type": "stream",
     "text": [
      "Setting kriging parameters to their default values.\n",
      "Compiling theano function...\n",
      "Level of Optimization:  fast_compile\n",
      "Device:  cpu\n",
      "Precision:  float64\n",
      "Number of faults:  0\n",
      "Compilation Done!\n",
      "Kriging values: \n",
      "                   values\n",
      "range            1732.05\n",
      "$C_o$            71428.6\n",
      "drift equations   [3, 3]\n"
     ]
    },
    {
     "data": {
      "text/plain": [
       "<gempy.core.interpolator.InterpolatorModel at 0x162f0bf90>"
      ]
     },
     "execution_count": 16,
     "metadata": {},
     "output_type": "execute_result"
    }
   ],
   "source": [
    "gp.set_interpolator(geo_model,\n",
    "                    compile_theano=True,\n",
    "                    theano_optimizer='fast_compile',\n",
    "                    )"
   ]
  },
  {
   "cell_type": "code",
   "execution_count": 17,
   "metadata": {
    "ExecuteTime": {
     "end_time": "2020-10-21T09:43:35.134894Z",
     "start_time": "2020-10-21T09:43:35.122265Z"
    }
   },
   "outputs": [
    {
     "data": {
      "text/html": [
       "<table border=\"1\" class=\"dataframe\">\n",
       "  <thead>\n",
       "    <tr style=\"text-align: right;\">\n",
       "      <th></th>\n",
       "      <th>X</th>\n",
       "      <th>Y</th>\n",
       "      <th>Z</th>\n",
       "      <th>G_x</th>\n",
       "      <th>G_y</th>\n",
       "      <th>G_z</th>\n",
       "      <th>smooth</th>\n",
       "      <th>surface</th>\n",
       "    </tr>\n",
       "  </thead>\n",
       "  <tbody>\n",
       "    <tr>\n",
       "      <th>0</th>\n",
       "      <td>400</td>\n",
       "      <td>100</td>\n",
       "      <td>320</td>\n",
       "      <td>1.000000e-12</td>\n",
       "      <td>1.000000e-12</td>\n",
       "      <td>1.0</td>\n",
       "      <td>0.01</td>\n",
       "      <td>rock1</td>\n",
       "    </tr>\n",
       "    <tr>\n",
       "      <th>1</th>\n",
       "      <td>400</td>\n",
       "      <td>500</td>\n",
       "      <td>320</td>\n",
       "      <td>1.000000e-12</td>\n",
       "      <td>1.000000e-12</td>\n",
       "      <td>1.0</td>\n",
       "      <td>0.01</td>\n",
       "      <td>rock1</td>\n",
       "    </tr>\n",
       "    <tr>\n",
       "      <th>2</th>\n",
       "      <td>400</td>\n",
       "      <td>900</td>\n",
       "      <td>320</td>\n",
       "      <td>1.000000e-12</td>\n",
       "      <td>1.000000e-12</td>\n",
       "      <td>1.0</td>\n",
       "      <td>0.01</td>\n",
       "      <td>rock1</td>\n",
       "    </tr>\n",
       "    <tr>\n",
       "      <th>3</th>\n",
       "      <td>600</td>\n",
       "      <td>100</td>\n",
       "      <td>320</td>\n",
       "      <td>1.000000e-12</td>\n",
       "      <td>1.000000e-12</td>\n",
       "      <td>1.0</td>\n",
       "      <td>0.01</td>\n",
       "      <td>rock1</td>\n",
       "    </tr>\n",
       "    <tr>\n",
       "      <th>4</th>\n",
       "      <td>600</td>\n",
       "      <td>500</td>\n",
       "      <td>320</td>\n",
       "      <td>1.000000e-12</td>\n",
       "      <td>1.000000e-12</td>\n",
       "      <td>1.0</td>\n",
       "      <td>0.01</td>\n",
       "      <td>rock1</td>\n",
       "    </tr>\n",
       "    <tr>\n",
       "      <th>5</th>\n",
       "      <td>600</td>\n",
       "      <td>900</td>\n",
       "      <td>320</td>\n",
       "      <td>1.000000e-12</td>\n",
       "      <td>1.000000e-12</td>\n",
       "      <td>1.0</td>\n",
       "      <td>0.01</td>\n",
       "      <td>rock1</td>\n",
       "    </tr>\n",
       "    <tr>\n",
       "      <th>6</th>\n",
       "      <td>400</td>\n",
       "      <td>100</td>\n",
       "      <td>620</td>\n",
       "      <td>1.000000e-12</td>\n",
       "      <td>1.000000e-12</td>\n",
       "      <td>1.0</td>\n",
       "      <td>0.01</td>\n",
       "      <td>rock2</td>\n",
       "    </tr>\n",
       "    <tr>\n",
       "      <th>7</th>\n",
       "      <td>400</td>\n",
       "      <td>500</td>\n",
       "      <td>620</td>\n",
       "      <td>1.000000e-12</td>\n",
       "      <td>1.000000e-12</td>\n",
       "      <td>1.0</td>\n",
       "      <td>0.01</td>\n",
       "      <td>rock2</td>\n",
       "    </tr>\n",
       "    <tr>\n",
       "      <th>8</th>\n",
       "      <td>400</td>\n",
       "      <td>900</td>\n",
       "      <td>620</td>\n",
       "      <td>1.000000e-12</td>\n",
       "      <td>1.000000e-12</td>\n",
       "      <td>1.0</td>\n",
       "      <td>0.01</td>\n",
       "      <td>rock2</td>\n",
       "    </tr>\n",
       "    <tr>\n",
       "      <th>9</th>\n",
       "      <td>600</td>\n",
       "      <td>100</td>\n",
       "      <td>620</td>\n",
       "      <td>1.000000e-12</td>\n",
       "      <td>1.000000e-12</td>\n",
       "      <td>1.0</td>\n",
       "      <td>0.01</td>\n",
       "      <td>rock2</td>\n",
       "    </tr>\n",
       "    <tr>\n",
       "      <th>10</th>\n",
       "      <td>600</td>\n",
       "      <td>500</td>\n",
       "      <td>620</td>\n",
       "      <td>1.000000e-12</td>\n",
       "      <td>1.000000e-12</td>\n",
       "      <td>1.0</td>\n",
       "      <td>0.01</td>\n",
       "      <td>rock2</td>\n",
       "    </tr>\n",
       "    <tr>\n",
       "      <th>11</th>\n",
       "      <td>600</td>\n",
       "      <td>900</td>\n",
       "      <td>620</td>\n",
       "      <td>1.000000e-12</td>\n",
       "      <td>1.000000e-12</td>\n",
       "      <td>1.0</td>\n",
       "      <td>0.01</td>\n",
       "      <td>rock2</td>\n",
       "    </tr>\n",
       "  </tbody>\n",
       "</table>"
      ],
      "text/plain": [
       "      X    Y    Z           G_x           G_y  G_z  smooth surface\n",
       "0   400  100  320  1.000000e-12  1.000000e-12  1.0    0.01   rock1\n",
       "1   400  500  320  1.000000e-12  1.000000e-12  1.0    0.01   rock1\n",
       "2   400  900  320  1.000000e-12  1.000000e-12  1.0    0.01   rock1\n",
       "3   600  100  320  1.000000e-12  1.000000e-12  1.0    0.01   rock1\n",
       "4   600  500  320  1.000000e-12  1.000000e-12  1.0    0.01   rock1\n",
       "5   600  900  320  1.000000e-12  1.000000e-12  1.0    0.01   rock1\n",
       "6   400  100  620  1.000000e-12  1.000000e-12  1.0    0.01   rock2\n",
       "7   400  500  620  1.000000e-12  1.000000e-12  1.0    0.01   rock2\n",
       "8   400  900  620  1.000000e-12  1.000000e-12  1.0    0.01   rock2\n",
       "9   600  100  620  1.000000e-12  1.000000e-12  1.0    0.01   rock2\n",
       "10  600  500  620  1.000000e-12  1.000000e-12  1.0    0.01   rock2\n",
       "11  600  900  620  1.000000e-12  1.000000e-12  1.0    0.01   rock2"
      ]
     },
     "execution_count": 17,
     "metadata": {},
     "output_type": "execute_result"
    }
   ],
   "source": [
    "geo_model.orientations"
   ]
  },
  {
   "cell_type": "code",
   "execution_count": 18,
   "metadata": {
    "ExecuteTime": {
     "end_time": "2020-10-21T09:43:35.224435Z",
     "start_time": "2020-10-21T09:43:35.212079Z"
    }
   },
   "outputs": [
    {
     "data": {
      "text/html": [
       "<table border=\"1\" class=\"dataframe\">\n",
       "  <thead>\n",
       "    <tr style=\"text-align: right;\">\n",
       "      <th></th>\n",
       "      <th>X</th>\n",
       "      <th>Y</th>\n",
       "      <th>Z</th>\n",
       "      <th>smooth</th>\n",
       "      <th>surface</th>\n",
       "    </tr>\n",
       "  </thead>\n",
       "  <tbody>\n",
       "    <tr>\n",
       "      <th>0</th>\n",
       "      <td>10.0</td>\n",
       "      <td>10.0</td>\n",
       "      <td>109.423228</td>\n",
       "      <td>0.000002</td>\n",
       "      <td>rock1</td>\n",
       "    </tr>\n",
       "    <tr>\n",
       "      <th>1</th>\n",
       "      <td>10.0</td>\n",
       "      <td>990.0</td>\n",
       "      <td>109.423228</td>\n",
       "      <td>0.000002</td>\n",
       "      <td>rock1</td>\n",
       "    </tr>\n",
       "    <tr>\n",
       "      <th>2</th>\n",
       "      <td>340.0</td>\n",
       "      <td>220.0</td>\n",
       "      <td>362.892004</td>\n",
       "      <td>0.000002</td>\n",
       "      <td>rock1</td>\n",
       "    </tr>\n",
       "    <tr>\n",
       "      <th>3</th>\n",
       "      <td>360.0</td>\n",
       "      <td>180.0</td>\n",
       "      <td>371.448116</td>\n",
       "      <td>0.000002</td>\n",
       "      <td>rock1</td>\n",
       "    </tr>\n",
       "    <tr>\n",
       "      <th>4</th>\n",
       "      <td>360.0</td>\n",
       "      <td>820.0</td>\n",
       "      <td>371.448116</td>\n",
       "      <td>0.000002</td>\n",
       "      <td>rock1</td>\n",
       "    </tr>\n",
       "    <tr>\n",
       "      <th>5</th>\n",
       "      <td>640.0</td>\n",
       "      <td>180.0</td>\n",
       "      <td>371.448116</td>\n",
       "      <td>0.000002</td>\n",
       "      <td>rock1</td>\n",
       "    </tr>\n",
       "    <tr>\n",
       "      <th>6</th>\n",
       "      <td>640.0</td>\n",
       "      <td>820.0</td>\n",
       "      <td>371.448116</td>\n",
       "      <td>0.000002</td>\n",
       "      <td>rock1</td>\n",
       "    </tr>\n",
       "    <tr>\n",
       "      <th>7</th>\n",
       "      <td>990.0</td>\n",
       "      <td>10.0</td>\n",
       "      <td>109.423228</td>\n",
       "      <td>0.000002</td>\n",
       "      <td>rock1</td>\n",
       "    </tr>\n",
       "    <tr>\n",
       "      <th>8</th>\n",
       "      <td>990.0</td>\n",
       "      <td>990.0</td>\n",
       "      <td>109.423228</td>\n",
       "      <td>0.000002</td>\n",
       "      <td>rock1</td>\n",
       "    </tr>\n",
       "    <tr>\n",
       "      <th>9</th>\n",
       "      <td>10.0</td>\n",
       "      <td>10.0</td>\n",
       "      <td>309.423228</td>\n",
       "      <td>0.000002</td>\n",
       "      <td>rock2</td>\n",
       "    </tr>\n",
       "    <tr>\n",
       "      <th>10</th>\n",
       "      <td>10.0</td>\n",
       "      <td>990.0</td>\n",
       "      <td>309.423228</td>\n",
       "      <td>0.000002</td>\n",
       "      <td>rock2</td>\n",
       "    </tr>\n",
       "    <tr>\n",
       "      <th>11</th>\n",
       "      <td>340.0</td>\n",
       "      <td>220.0</td>\n",
       "      <td>562.892004</td>\n",
       "      <td>0.000002</td>\n",
       "      <td>rock2</td>\n",
       "    </tr>\n",
       "    <tr>\n",
       "      <th>12</th>\n",
       "      <td>360.0</td>\n",
       "      <td>180.0</td>\n",
       "      <td>571.448116</td>\n",
       "      <td>0.000002</td>\n",
       "      <td>rock2</td>\n",
       "    </tr>\n",
       "    <tr>\n",
       "      <th>13</th>\n",
       "      <td>360.0</td>\n",
       "      <td>820.0</td>\n",
       "      <td>571.448116</td>\n",
       "      <td>0.000002</td>\n",
       "      <td>rock2</td>\n",
       "    </tr>\n",
       "    <tr>\n",
       "      <th>14</th>\n",
       "      <td>640.0</td>\n",
       "      <td>180.0</td>\n",
       "      <td>571.448116</td>\n",
       "      <td>0.000002</td>\n",
       "      <td>rock2</td>\n",
       "    </tr>\n",
       "    <tr>\n",
       "      <th>15</th>\n",
       "      <td>640.0</td>\n",
       "      <td>820.0</td>\n",
       "      <td>571.448116</td>\n",
       "      <td>0.000002</td>\n",
       "      <td>rock2</td>\n",
       "    </tr>\n",
       "    <tr>\n",
       "      <th>16</th>\n",
       "      <td>990.0</td>\n",
       "      <td>10.0</td>\n",
       "      <td>309.423228</td>\n",
       "      <td>0.000002</td>\n",
       "      <td>rock2</td>\n",
       "    </tr>\n",
       "    <tr>\n",
       "      <th>17</th>\n",
       "      <td>990.0</td>\n",
       "      <td>990.0</td>\n",
       "      <td>309.423228</td>\n",
       "      <td>0.000002</td>\n",
       "      <td>rock2</td>\n",
       "    </tr>\n",
       "  </tbody>\n",
       "</table>"
      ],
      "text/plain": [
       "        X      Y           Z    smooth surface\n",
       "0    10.0   10.0  109.423228  0.000002   rock1\n",
       "1    10.0  990.0  109.423228  0.000002   rock1\n",
       "2   340.0  220.0  362.892004  0.000002   rock1\n",
       "3   360.0  180.0  371.448116  0.000002   rock1\n",
       "4   360.0  820.0  371.448116  0.000002   rock1\n",
       "5   640.0  180.0  371.448116  0.000002   rock1\n",
       "6   640.0  820.0  371.448116  0.000002   rock1\n",
       "7   990.0   10.0  109.423228  0.000002   rock1\n",
       "8   990.0  990.0  109.423228  0.000002   rock1\n",
       "9    10.0   10.0  309.423228  0.000002   rock2\n",
       "10   10.0  990.0  309.423228  0.000002   rock2\n",
       "11  340.0  220.0  562.892004  0.000002   rock2\n",
       "12  360.0  180.0  571.448116  0.000002   rock2\n",
       "13  360.0  820.0  571.448116  0.000002   rock2\n",
       "14  640.0  180.0  571.448116  0.000002   rock2\n",
       "15  640.0  820.0  571.448116  0.000002   rock2\n",
       "16  990.0   10.0  309.423228  0.000002   rock2\n",
       "17  990.0  990.0  309.423228  0.000002   rock2"
      ]
     },
     "execution_count": 18,
     "metadata": {},
     "output_type": "execute_result"
    }
   ],
   "source": [
    "geo_model._surface_points"
   ]
  },
  {
   "cell_type": "code",
   "execution_count": 19,
   "metadata": {
    "ExecuteTime": {
     "end_time": "2020-10-21T09:43:35.317541Z",
     "start_time": "2020-10-21T09:43:35.307045Z"
    }
   },
   "outputs": [
    {
     "data": {
      "text/html": [
       "<style  type=\"text/css\" >\n",
       "    #T_e37b26e4_1381_11eb_b18e_acde48001122row0_col3 {\n",
       "            background-color:  #015482;\n",
       "        }    #T_e37b26e4_1381_11eb_b18e_acde48001122row1_col3 {\n",
       "            background-color:  #9f0052;\n",
       "        }    #T_e37b26e4_1381_11eb_b18e_acde48001122row2_col3 {\n",
       "            background-color:  #ffbe00;\n",
       "        }</style><table id=\"T_e37b26e4_1381_11eb_b18e_acde48001122\" ><thead>    <tr>        <th class=\"blank level0\" ></th>        <th class=\"col_heading level0 col0\" >surface</th>        <th class=\"col_heading level0 col1\" >series</th>        <th class=\"col_heading level0 col2\" >order_surfaces</th>        <th class=\"col_heading level0 col3\" >color</th>        <th class=\"col_heading level0 col4\" >id</th>    </tr></thead><tbody>\n",
       "                <tr>\n",
       "                        <th id=\"T_e37b26e4_1381_11eb_b18e_acde48001122level0_row0\" class=\"row_heading level0 row0\" >0</th>\n",
       "                        <td id=\"T_e37b26e4_1381_11eb_b18e_acde48001122row0_col0\" class=\"data row0 col0\" >rock1</td>\n",
       "                        <td id=\"T_e37b26e4_1381_11eb_b18e_acde48001122row0_col1\" class=\"data row0 col1\" >Strat_Series</td>\n",
       "                        <td id=\"T_e37b26e4_1381_11eb_b18e_acde48001122row0_col2\" class=\"data row0 col2\" >1</td>\n",
       "                        <td id=\"T_e37b26e4_1381_11eb_b18e_acde48001122row0_col3\" class=\"data row0 col3\" >#015482</td>\n",
       "                        <td id=\"T_e37b26e4_1381_11eb_b18e_acde48001122row0_col4\" class=\"data row0 col4\" >1</td>\n",
       "            </tr>\n",
       "            <tr>\n",
       "                        <th id=\"T_e37b26e4_1381_11eb_b18e_acde48001122level0_row1\" class=\"row_heading level0 row1\" >1</th>\n",
       "                        <td id=\"T_e37b26e4_1381_11eb_b18e_acde48001122row1_col0\" class=\"data row1 col0\" >rock2</td>\n",
       "                        <td id=\"T_e37b26e4_1381_11eb_b18e_acde48001122row1_col1\" class=\"data row1 col1\" >Strat_Series</td>\n",
       "                        <td id=\"T_e37b26e4_1381_11eb_b18e_acde48001122row1_col2\" class=\"data row1 col2\" >2</td>\n",
       "                        <td id=\"T_e37b26e4_1381_11eb_b18e_acde48001122row1_col3\" class=\"data row1 col3\" >#9f0052</td>\n",
       "                        <td id=\"T_e37b26e4_1381_11eb_b18e_acde48001122row1_col4\" class=\"data row1 col4\" >2</td>\n",
       "            </tr>\n",
       "            <tr>\n",
       "                        <th id=\"T_e37b26e4_1381_11eb_b18e_acde48001122level0_row2\" class=\"row_heading level0 row2\" >2</th>\n",
       "                        <td id=\"T_e37b26e4_1381_11eb_b18e_acde48001122row2_col0\" class=\"data row2 col0\" >basement</td>\n",
       "                        <td id=\"T_e37b26e4_1381_11eb_b18e_acde48001122row2_col1\" class=\"data row2 col1\" >Basement_Series</td>\n",
       "                        <td id=\"T_e37b26e4_1381_11eb_b18e_acde48001122row2_col2\" class=\"data row2 col2\" >1</td>\n",
       "                        <td id=\"T_e37b26e4_1381_11eb_b18e_acde48001122row2_col3\" class=\"data row2 col3\" >#ffbe00</td>\n",
       "                        <td id=\"T_e37b26e4_1381_11eb_b18e_acde48001122row2_col4\" class=\"data row2 col4\" >3</td>\n",
       "            </tr>\n",
       "    </tbody></table>"
      ],
      "text/plain": [
       "    surface           series  order_surfaces    color  id\n",
       "0     rock1     Strat_Series               1  #015482   1\n",
       "1     rock2     Strat_Series               2  #9f0052   2\n",
       "2  basement  Basement_Series               1  #ffbe00   3"
      ]
     },
     "execution_count": 19,
     "metadata": {},
     "output_type": "execute_result"
    }
   ],
   "source": [
    "geo_model.surfaces"
   ]
  },
  {
   "cell_type": "code",
   "execution_count": 20,
   "metadata": {
    "ExecuteTime": {
     "end_time": "2020-10-21T09:43:37.695106Z",
     "start_time": "2020-10-21T09:43:36.211433Z"
    }
   },
   "outputs": [],
   "source": [
    "sol = gp.compute_model(geo_model)"
   ]
  },
  {
   "cell_type": "code",
   "execution_count": 21,
   "metadata": {
    "ExecuteTime": {
     "end_time": "2020-10-21T09:43:38.728083Z",
     "start_time": "2020-10-21T09:43:38.723685Z"
    }
   },
   "outputs": [
    {
     "data": {
      "text/plain": [
       "array([3., 3., 3., ..., 1., 1., 1.])"
      ]
     },
     "execution_count": 21,
     "metadata": {},
     "output_type": "execute_result"
    }
   ],
   "source": [
    "geo_model.solutions.lith_block"
   ]
  },
  {
   "cell_type": "code",
   "execution_count": 22,
   "metadata": {
    "ExecuteTime": {
     "end_time": "2020-10-21T09:43:46.543435Z",
     "start_time": "2020-10-21T09:43:46.540275Z"
    }
   },
   "outputs": [],
   "source": [
    "from gempy.plot.vista import GemPyToVista"
   ]
  },
  {
   "cell_type": "code",
   "execution_count": 23,
   "metadata": {
    "ExecuteTime": {
     "end_time": "2020-10-21T09:43:49.796787Z",
     "start_time": "2020-10-21T09:43:49.581333Z"
    }
   },
   "outputs": [
    {
     "name": "stderr",
     "output_type": "stream",
     "text": [
      "/Users/zhouji/Documents/github/gempy/gempy/plot/plot_api.py:261: UserWarning: Matplotlib is currently using module://ipykernel.pylab.backend_inline, which is a non-GUI backend, so cannot show the figure.\n",
      "  p.fig.show()\n"
     ]
    },
    {
     "data": {
      "text/plain": [
       "<gempy.plot.visualization_2d.Plot2D at 0x166f56510>"
      ]
     },
     "execution_count": 23,
     "metadata": {},
     "output_type": "execute_result"
    },
    {
     "data": {
      "image/png": "[encoded data removed]",
      "text/plain": [
       "<Figure size 432x288 with 1 Axes>"
      ]
     },
     "metadata": {
      "needs_background": "light"
     },
     "output_type": "display_data"
    }
   ],
   "source": [
    "gp.plot_2d(geo_model,show_scalar = True)"
   ]
  },
  {
   "cell_type": "code",
   "execution_count": 24,
   "metadata": {
    "ExecuteTime": {
     "end_time": "2020-10-21T09:47:22.189105Z",
     "start_time": "2020-10-21T09:43:51.429216Z"
    }
   },
   "outputs": [
    {
     "data": {
      "text/plain": [
       "<gempy.plot.vista.GemPyToVista at 0x166f02990>"
      ]
     },
     "execution_count": 24,
     "metadata": {},
     "output_type": "execute_result"
    }
   ],
   "source": [
    "gp.plot_3d(geo_model,show_results = False, show_lith=False,notebook=False)"
   ]
  },
  {
   "cell_type": "code",
   "execution_count": 12,
   "metadata": {
    "ExecuteTime": {
     "end_time": "2020-10-21T09:14:28.589379Z",
     "start_time": "2020-10-21T09:14:28.576195Z"
    }
   },
   "outputs": [
    {
     "data": {
      "text/html": [
       "<style  type=\"text/css\" >\n",
       "    #T_d2598f9e_137d_11eb_b18e_acde48001122row0_col3 {\n",
       "            background-color:  #9f0052;\n",
       "        }    #T_d2598f9e_137d_11eb_b18e_acde48001122row1_col3 {\n",
       "            background-color:  #015482;\n",
       "        }    #T_d2598f9e_137d_11eb_b18e_acde48001122row2_col3 {\n",
       "            background-color:  #ffbe00;\n",
       "        }</style><table id=\"T_d2598f9e_137d_11eb_b18e_acde48001122\" ><thead>    <tr>        <th class=\"blank level0\" ></th>        <th class=\"col_heading level0 col0\" >surface</th>        <th class=\"col_heading level0 col1\" >series</th>        <th class=\"col_heading level0 col2\" >order_surfaces</th>        <th class=\"col_heading level0 col3\" >color</th>        <th class=\"col_heading level0 col4\" >id</th>    </tr></thead><tbody>\n",
       "                <tr>\n",
       "                        <th id=\"T_d2598f9e_137d_11eb_b18e_acde48001122level0_row0\" class=\"row_heading level0 row0\" >1</th>\n",
       "                        <td id=\"T_d2598f9e_137d_11eb_b18e_acde48001122row0_col0\" class=\"data row0 col0\" >rock2</td>\n",
       "                        <td id=\"T_d2598f9e_137d_11eb_b18e_acde48001122row0_col1\" class=\"data row0 col1\" >Strat_Series</td>\n",
       "                        <td id=\"T_d2598f9e_137d_11eb_b18e_acde48001122row0_col2\" class=\"data row0 col2\" >1</td>\n",
       "                        <td id=\"T_d2598f9e_137d_11eb_b18e_acde48001122row0_col3\" class=\"data row0 col3\" >#9f0052</td>\n",
       "                        <td id=\"T_d2598f9e_137d_11eb_b18e_acde48001122row0_col4\" class=\"data row0 col4\" >1</td>\n",
       "            </tr>\n",
       "            <tr>\n",
       "                        <th id=\"T_d2598f9e_137d_11eb_b18e_acde48001122level0_row1\" class=\"row_heading level0 row1\" >0</th>\n",
       "                        <td id=\"T_d2598f9e_137d_11eb_b18e_acde48001122row1_col0\" class=\"data row1 col0\" >rock1</td>\n",
       "                        <td id=\"T_d2598f9e_137d_11eb_b18e_acde48001122row1_col1\" class=\"data row1 col1\" >Strat_Series</td>\n",
       "                        <td id=\"T_d2598f9e_137d_11eb_b18e_acde48001122row1_col2\" class=\"data row1 col2\" >2</td>\n",
       "                        <td id=\"T_d2598f9e_137d_11eb_b18e_acde48001122row1_col3\" class=\"data row1 col3\" >#015482</td>\n",
       "                        <td id=\"T_d2598f9e_137d_11eb_b18e_acde48001122row1_col4\" class=\"data row1 col4\" >2</td>\n",
       "            </tr>\n",
       "            <tr>\n",
       "                        <th id=\"T_d2598f9e_137d_11eb_b18e_acde48001122level0_row2\" class=\"row_heading level0 row2\" >2</th>\n",
       "                        <td id=\"T_d2598f9e_137d_11eb_b18e_acde48001122row2_col0\" class=\"data row2 col0\" >basement</td>\n",
       "                        <td id=\"T_d2598f9e_137d_11eb_b18e_acde48001122row2_col1\" class=\"data row2 col1\" >Basement_Series</td>\n",
       "                        <td id=\"T_d2598f9e_137d_11eb_b18e_acde48001122row2_col2\" class=\"data row2 col2\" >1</td>\n",
       "                        <td id=\"T_d2598f9e_137d_11eb_b18e_acde48001122row2_col3\" class=\"data row2 col3\" >#ffbe00</td>\n",
       "                        <td id=\"T_d2598f9e_137d_11eb_b18e_acde48001122row2_col4\" class=\"data row2 col4\" >3</td>\n",
       "            </tr>\n",
       "    </tbody></table>"
      ],
      "text/plain": [
       "    surface           series  order_surfaces    color  id\n",
       "1     rock2     Strat_Series               1  #9f0052   1\n",
       "0     rock1     Strat_Series               2  #015482   2\n",
       "2  basement  Basement_Series               1  #ffbe00   3"
      ]
     },
     "execution_count": 12,
     "metadata": {},
     "output_type": "execute_result"
    }
   ],
   "source": [
    "geo_model._surfaces"
   ]
  },
  {
   "cell_type": "code",
   "execution_count": 21,
   "metadata": {
    "ExecuteTime": {
     "end_time": "2020-10-20T15:53:16.903936Z",
     "start_time": "2020-10-20T15:53:16.755598Z"
    }
   },
   "outputs": [
    {
     "data": {
      "image/png": "[encoded data removed]",
      "text/plain": [
       "<Figure size 432x288 with 1 Axes>"
      ]
     },
     "metadata": {
      "needs_background": "light"
     },
     "output_type": "display_data"
    }
   ],
   "source": [
    "gp.plot_2d(geo_model, show_data=False, show_scalar=True, show_lith=False)\n",
    "plt.show()"
   ]
  },
  {
   "cell_type": "code",
   "execution_count": 22,
   "metadata": {
    "ExecuteTime": {
     "end_time": "2020-10-20T15:53:16.909652Z",
     "start_time": "2020-10-20T15:53:16.905365Z"
    }
   },
   "outputs": [
    {
     "data": {
      "text/plain": [
       "array([[0.47154258, 0.48994284, 0.50840573, ..., 1.22714915, 1.24453857,\n",
       "        1.26202265]])"
      ]
     },
     "execution_count": 22,
     "metadata": {},
     "output_type": "execute_result"
    }
   ],
   "source": [
    "geo_model.solutions.scalar_field_matrix"
   ]
  },
  {
   "cell_type": "code",
   "execution_count": 23,
   "metadata": {
    "ExecuteTime": {
     "end_time": "2020-10-20T15:53:16.914629Z",
     "start_time": "2020-10-20T15:53:16.911361Z"
    }
   },
   "outputs": [
    {
     "data": {
      "text/plain": [
       "<gempy.plot.vista.GemPyToVista at 0x151a2e390>"
      ]
     },
     "execution_count": 23,
     "metadata": {},
     "output_type": "execute_result"
    }
   ],
   "source": [
    "GP"
   ]
  },
  {
   "cell_type": "code",
   "execution_count": 26,
   "metadata": {
    "ExecuteTime": {
     "end_time": "2020-10-21T14:07:20.656437Z",
     "start_time": "2020-10-21T14:07:08.702943Z"
    }
   },
   "outputs": [],
   "source": [
    "## surface data\n",
    "GP = gp.plot_3d(geo_model,show_lith = False,show_surfaces=False, notebook=False)"
   ]
  },
  {
   "cell_type": "code",
   "execution_count": 22,
   "metadata": {
    "ExecuteTime": {
     "end_time": "2020-10-20T15:11:18.140459Z",
     "start_time": "2020-10-20T15:11:15.282041Z"
    }
   },
   "outputs": [],
   "source": [
    "## scalar field\n",
    "GP = gp.plot_3d(geo_model,show_scalar = False,show_lith = True,show_surfaces=False, notebook=False,scalar_field = 'Strat_Series')"
   ]
  },
  {
   "cell_type": "code",
   "execution_count": null,
   "metadata": {
    "ExecuteTime": {
     "end_time": "2020-10-20T14:18:08.898794Z",
     "start_time": "2020-10-20T14:18:02.235Z"
    }
   },
   "outputs": [],
   "source": [
    "geo_model.solutions.mask_matrix.shape"
   ]
  },
  {
   "cell_type": "code",
   "execution_count": null,
   "metadata": {
    "ExecuteTime": {
     "end_time": "2020-10-20T14:18:08.900098Z",
     "start_time": "2020-10-20T14:18:02.236Z"
    }
   },
   "outputs": [],
   "source": [
    "import pyvista as pv\n",
    "\n",
    "grav_res_x = 7\n",
    "grav_res_y = 7\n",
    "X = np.linspace(0, 1000, grav_res_x)\n",
    "Y = np.linspace(0, 1000, grav_res_y)\n",
    "Z = 1000\n",
    "xyz = np.meshgrid(X, Y, Z)\n",
    "xy_ravel = np.vstack(list(map(np.ravel, xyz))).T"
   ]
  },
  {
   "cell_type": "code",
   "execution_count": null,
   "metadata": {
    "ExecuteTime": {
     "end_time": "2020-10-20T14:18:08.901311Z",
     "start_time": "2020-10-20T14:18:02.239Z"
    }
   },
   "outputs": [],
   "source": [
    "poly = pv.PolyData(xy_ravel)\n",
    "geom = pv.Cone(direction=[0.0, 0.0, -1.0])"
   ]
  },
  {
   "cell_type": "code",
   "execution_count": null,
   "metadata": {
    "ExecuteTime": {
     "end_time": "2020-10-20T14:18:08.902758Z",
     "start_time": "2020-10-20T14:18:02.240Z"
    }
   },
   "outputs": [],
   "source": [
    "glyphs = poly.glyph(factor=30.0,geom=geom)"
   ]
  },
  {
   "cell_type": "code",
   "execution_count": null,
   "metadata": {
    "ExecuteTime": {
     "end_time": "2020-10-20T14:18:08.904000Z",
     "start_time": "2020-10-20T14:18:02.241Z"
    }
   },
   "outputs": [],
   "source": [
    "GP = gp.plot_3d(geo_model, show_surfaces=True, notebook=False,off_screen=True)\n",
    "\n",
    "GP.p.add_mesh(glyphs, color=\"tan\",render_points_as_spheres=True,point_size=10)\n",
    "GP.set_bounds()\n",
    "\n",
    "# GP.p.add_mesh(poly, color=\"tan\",render_points_as_spheres=True,point_size=10)\n",
    "GP.p.show()"
   ]
  },
  {
   "cell_type": "code",
   "execution_count": null,
   "metadata": {
    "ExecuteTime": {
     "end_time": "2020-10-20T14:18:08.905268Z",
     "start_time": "2020-10-20T14:18:02.243Z"
    }
   },
   "outputs": [],
   "source": [
    "geo_model.solutions.scalar_field_at_surface_points.sum(axis=0)"
   ]
  },
  {
   "cell_type": "code",
   "execution_count": null,
   "metadata": {
    "ExecuteTime": {
     "end_time": "2020-10-20T14:18:08.906418Z",
     "start_time": "2020-10-20T14:18:02.245Z"
    }
   },
   "outputs": [],
   "source": [
    "fig, ax = plt.subplots(figsize=(18, 14))\n",
    "ax.imshow(GP.p.image,interpolation='nearest',aspect='auto')\n",
    "plt.axis('off')\n",
    "# plt.savefig('/Users/zhouji/Documents/IRTG/IRTG2020/Poster_IRTG_2020/figs/3D_block.png')"
   ]
  },
  {
   "cell_type": "code",
   "execution_count": null,
   "metadata": {
    "ExecuteTime": {
     "end_time": "2020-10-20T14:18:08.907596Z",
     "start_time": "2020-10-20T14:18:02.246Z"
    }
   },
   "outputs": [],
   "source": [
    "# fig, ax = plt.subplots(figsize=(18, 14))\n",
    "# ax.imshow(pv.p.image,interpolation='nearest',aspect='auto')\n",
    "# plt.axis('off')\n",
    "# plt.savefig('/Users/zhouji/Documents/Presentations/IRTG 2020/Poster_IRTG_2020/figs/3D_block.png')"
   ]
  },
  {
   "cell_type": "code",
   "execution_count": null,
   "metadata": {
    "ExecuteTime": {
     "end_time": "2020-10-20T14:18:08.908852Z",
     "start_time": "2020-10-20T14:18:02.247Z"
    }
   },
   "outputs": [],
   "source": [
    "fig, ax = plt.subplots(figsize=[6, 6])\n",
    "rec = ax.scatter(xy_ravel[:, 0], xy_ravel[:, 1], s=10, zorder=1,label = 'Receivers')\n",
    "ax.legend([rec],['Receivers'],loc='center left', bbox_to_anchor=(1.3, 0.5))"
   ]
  },
  {
   "cell_type": "code",
   "execution_count": null,
   "metadata": {
    "ExecuteTime": {
     "end_time": "2020-10-20T14:18:08.909982Z",
     "start_time": "2020-10-20T14:18:02.249Z"
    }
   },
   "outputs": [],
   "source": [
    "xy_ravel"
   ]
  },
  {
   "cell_type": "code",
   "execution_count": 25,
   "metadata": {
    "ExecuteTime": {
     "end_time": "2020-10-20T15:53:28.667707Z",
     "start_time": "2020-10-20T15:53:28.654436Z"
    }
   },
   "outputs": [],
   "source": [
    "gpv = GemPyToVista(geo_model)"
   ]
  },
  {
   "cell_type": "code",
   "execution_count": 29,
   "metadata": {
    "ExecuteTime": {
     "end_time": "2020-10-20T15:53:46.704354Z",
     "start_time": "2020-10-20T15:53:46.694627Z"
    }
   },
   "outputs": [],
   "source": [
    "regular_grid, cmap = gpv.create_regular_mesh('lith','Default','', True)"
   ]
  },
  {
   "cell_type": "code",
   "execution_count": 13,
   "metadata": {
    "ExecuteTime": {
     "end_time": "2020-10-21T09:43:19.982689Z",
     "start_time": "2020-10-21T09:43:19.430628Z"
    }
   },
   "outputs": [
    {
     "ename": "NameError",
     "evalue": "name 'gpv' is not defined",
     "output_type": "error",
     "traceback": [
      "\u001b[0;31m---------------------------------------------------------------------------\u001b[0m",
      "\u001b[0;31mNameError\u001b[0m                                 Traceback (most recent call last)",
      "\u001b[0;32m<ipython-input-13-786bc191301d>\u001b[0m in \u001b[0;36m<module>\u001b[0;34m\u001b[0m\n\u001b[0;32m----> 1\u001b[0;31m \u001b[0mlist\u001b[0m\u001b[0;34m(\u001b[0m\u001b[0mgpv\u001b[0m\u001b[0;34m.\u001b[0m\u001b[0m_get_color_lot\u001b[0m\u001b[0;34m(\u001b[0m\u001b[0mis_faults\u001b[0m\u001b[0;34m=\u001b[0m\u001b[0;32mTrue\u001b[0m\u001b[0;34m,\u001b[0m \u001b[0mis_basement\u001b[0m\u001b[0;34m=\u001b[0m\u001b[0;32mTrue\u001b[0m\u001b[0;34m)\u001b[0m\u001b[0;34m)\u001b[0m\u001b[0;34m\u001b[0m\u001b[0;34m\u001b[0m\u001b[0m\n\u001b[0m",
      "\u001b[0;31mNameError\u001b[0m: name 'gpv' is not defined"
     ]
    }
   ],
   "source": [
    "list(gpv._get_color_lot(is_faults=True, is_basement=True))"
   ]
  },
  {
   "cell_type": "code",
   "execution_count": 30,
   "metadata": {
    "ExecuteTime": {
     "end_time": "2020-10-20T15:53:48.281427Z",
     "start_time": "2020-10-20T15:53:48.190806Z"
    }
   },
   "outputs": [
    {
     "data": {
      "image/png": "[encoded data removed]",
      "text/plain": [
       "<Figure size 720x360 with 1 Axes>"
      ]
     },
     "metadata": {
      "needs_background": "light"
     },
     "output_type": "display_data"
    }
   ],
   "source": [
    "#!python\n",
    "from pylab import *\n",
    "from numpy import outer\n",
    "rc('text', usetex=False)\n",
    "a=outer(arange(0,1,0.01),ones(10))\n",
    "figure(figsize=(10,5))\n",
    "subplots_adjust(top=0.8,bottom=0.05,left=0.01,right=0.99)\n",
    "maps=[cmap]\n",
    "maps.sort()\n",
    "l=len(maps)+1\n",
    "for i, m in enumerate(maps):\n",
    "    subplot(1,l,i+1)\n",
    "    axis(\"off\")\n",
    "    imshow(a,aspect='auto',cmap=get_cmap(m),origin=\"lower\")\n",
    "    title(m,rotation=90,fontsize=10)"
   ]
  },
  {
   "cell_type": "code",
   "execution_count": 9,
   "metadata": {
    "ExecuteTime": {
     "end_time": "2020-10-21T09:12:21.773442Z",
     "start_time": "2020-10-21T09:12:21.491899Z"
    }
   },
   "outputs": [
    {
     "data": {
      "text/html": [
       "<div>\n",
       "<style scoped>\n",
       "    .dataframe tbody tr th:only-of-type {\n",
       "        vertical-align: middle;\n",
       "    }\n",
       "\n",
       "    .dataframe tbody tr th {\n",
       "        vertical-align: top;\n",
       "    }\n",
       "\n",
       "    .dataframe thead th {\n",
       "        text-align: right;\n",
       "    }\n",
       "</style>\n",
       "<table border=\"1\" class=\"dataframe\">\n",
       "  <thead>\n",
       "    <tr style=\"text-align: right;\">\n",
       "      <th></th>\n",
       "      <th>surface</th>\n",
       "      <th>series</th>\n",
       "      <th>order_surfaces</th>\n",
       "      <th>isBasement</th>\n",
       "      <th>isFault</th>\n",
       "      <th>isActive</th>\n",
       "      <th>hasData</th>\n",
       "      <th>color</th>\n",
       "      <th>vertices</th>\n",
       "      <th>edges</th>\n",
       "      <th>sfai</th>\n",
       "      <th>id</th>\n",
       "    </tr>\n",
       "  </thead>\n",
       "  <tbody>\n",
       "    <tr>\n",
       "      <th>1</th>\n",
       "      <td>rock2</td>\n",
       "      <td>Strat_Series</td>\n",
       "      <td>1</td>\n",
       "      <td>False</td>\n",
       "      <td>False</td>\n",
       "      <td>True</td>\n",
       "      <td>True</td>\n",
       "      <td>#9f0052</td>\n",
       "      <td>[[10.0, 10.0, 309.43227767944336], [10.0, 14.3...</td>\n",
       "      <td>[[2, 1, 0], [5, 4, 3], [5, 3, 1], [6, 5, 1], [...</td>\n",
       "      <td>0.741361</td>\n",
       "      <td>1</td>\n",
       "    </tr>\n",
       "    <tr>\n",
       "      <th>0</th>\n",
       "      <td>rock1</td>\n",
       "      <td>Strat_Series</td>\n",
       "      <td>2</td>\n",
       "      <td>False</td>\n",
       "      <td>False</td>\n",
       "      <td>True</td>\n",
       "      <td>True</td>\n",
       "      <td>#015482</td>\n",
       "      <td>[[10.0, 10.0, 109.4232177734375], [10.0, 14.81...</td>\n",
       "      <td>[[2, 1, 0], [3, 1, 2], [4, 3, 2], [5, 3, 4], [...</td>\n",
       "      <td>0.563486</td>\n",
       "      <td>2</td>\n",
       "    </tr>\n",
       "    <tr>\n",
       "      <th>2</th>\n",
       "      <td>basement</td>\n",
       "      <td>Basement_Series</td>\n",
       "      <td>1</td>\n",
       "      <td>True</td>\n",
       "      <td>False</td>\n",
       "      <td>True</td>\n",
       "      <td>False</td>\n",
       "      <td>#ffbe00</td>\n",
       "      <td>NaN</td>\n",
       "      <td>NaN</td>\n",
       "      <td>NaN</td>\n",
       "      <td>3</td>\n",
       "    </tr>\n",
       "  </tbody>\n",
       "</table>\n",
       "</div>"
      ],
      "text/plain": [
       "    surface           series  order_surfaces  isBasement isFault  isActive  \\\n",
       "1     rock2     Strat_Series               1       False   False      True   \n",
       "0     rock1     Strat_Series               2       False   False      True   \n",
       "2  basement  Basement_Series               1        True   False      True   \n",
       "\n",
       "   hasData    color                                           vertices  \\\n",
       "1     True  #9f0052  [[10.0, 10.0, 309.43227767944336], [10.0, 14.3...   \n",
       "0     True  #015482  [[10.0, 10.0, 109.4232177734375], [10.0, 14.81...   \n",
       "2    False  #ffbe00                                                NaN   \n",
       "\n",
       "                                               edges      sfai  id  \n",
       "1  [[2, 1, 0], [5, 4, 3], [5, 3, 1], [6, 5, 1], [...  0.741361   1  \n",
       "0  [[2, 1, 0], [3, 1, 2], [4, 3, 2], [5, 3, 4], [...  0.563486   2  \n",
       "2                                                NaN       NaN   3  "
      ]
     },
     "execution_count": 9,
     "metadata": {},
     "output_type": "execute_result"
    }
   ],
   "source": [
    "geo_model._surfaces.df"
   ]
  },
  {
   "cell_type": "code",
   "execution_count": 28,
   "metadata": {
    "ExecuteTime": {
     "end_time": "2020-10-21T14:07:59.101689Z",
     "start_time": "2020-10-21T14:07:52.363445Z"
    }
   },
   "outputs": [
    {
     "data": {
      "text/plain": [
       "[(513.6567632102681, 3841.3783094155347, 676.5131975027019),\n",
       " (500.0, 500.0, 500.0),\n",
       " (-0.14330889643074615, -0.0516242859477701, 0.9883306599029419)]"
      ]
     },
     "execution_count": 28,
     "metadata": {},
     "output_type": "execute_result"
    }
   ],
   "source": [
    "from gempy.plot.vista import GemPyToVista\n",
    "gpv = GemPyToVista(geo_model)\n",
    "gpv.plot_surface_points(surfaces='all')\n",
    "gpv.p.show()"
   ]
  },
  {
   "cell_type": "code",
   "execution_count": 44,
   "metadata": {
    "ExecuteTime": {
     "end_time": "2020-10-21T14:45:57.980351Z",
     "start_time": "2020-10-21T14:45:57.977052Z"
    }
   },
   "outputs": [],
   "source": [
    "import pyvista as pv\n",
    "import matplotlib.colors as mcolors\n",
    "from pyvista.plotting.theme import parse_color"
   ]
  },
  {
   "cell_type": "code",
   "execution_count": 50,
   "metadata": {
    "ExecuteTime": {
     "end_time": "2020-10-21T14:55:35.456001Z",
     "start_time": "2020-10-21T14:55:35.279032Z"
    }
   },
   "outputs": [
    {
     "data": {
      "image/png": "[encoded data removed]",
      "text/plain": [
       "<PIL.Image.Image image mode=RGB size=1024x768 at 0x166EF7AD0>"
      ]
     },
     "metadata": {},
     "output_type": "display_data"
    }
   ],
   "source": [
    "surfaces_df = gpv._select_surfaces_data(gpv.model.surfaces.df, 'all')\n",
    "select_active = surfaces_df['isActive']\n",
    "p = pv.Plotter()\n",
    "cmap = mcolors.ListedColormap(list(gpv._get_color_lot(is_faults=True, is_basement=True)))\n",
    "for idx, val in surfaces_df[select_active][['vertices', 'edges', 'color', 'surface', 'id']].dropna().iterrows():\n",
    "            surf = pv.PolyData(val['vertices'], np.insert(val['edges'], 0, 3, axis=1).ravel())\n",
    "            # surf['id'] = val['id']\n",
    "            gpv.surface_poly[val['surface']] = surf\n",
    "            gpv.surface_actors[val['surface']] = p.add_mesh(\n",
    "                surf, parse_color(val['color']), show_scalar_bar=True,\n",
    "                cmap=cmap)\n",
    "p.show()"
   ]
  },
  {
   "cell_type": "code",
   "execution_count": 51,
   "metadata": {
    "ExecuteTime": {
     "end_time": "2020-10-21T14:58:53.322480Z",
     "start_time": "2020-10-21T14:58:53.207834Z"
    }
   },
   "outputs": [
    {
     "data": {
      "text/html": [
       "<div>\n",
       "<style scoped>\n",
       "    .dataframe tbody tr th:only-of-type {\n",
       "        vertical-align: middle;\n",
       "    }\n",
       "\n",
       "    .dataframe tbody tr th {\n",
       "        vertical-align: top;\n",
       "    }\n",
       "\n",
       "    .dataframe thead th {\n",
       "        text-align: right;\n",
       "    }\n",
       "</style>\n",
       "<table border=\"1\" class=\"dataframe\">\n",
       "  <thead>\n",
       "    <tr style=\"text-align: right;\">\n",
       "      <th></th>\n",
       "      <th>surface</th>\n",
       "      <th>series</th>\n",
       "      <th>order_surfaces</th>\n",
       "      <th>isBasement</th>\n",
       "      <th>isFault</th>\n",
       "      <th>isActive</th>\n",
       "      <th>hasData</th>\n",
       "      <th>color</th>\n",
       "      <th>vertices</th>\n",
       "      <th>edges</th>\n",
       "      <th>sfai</th>\n",
       "      <th>id</th>\n",
       "    </tr>\n",
       "  </thead>\n",
       "  <tbody>\n",
       "    <tr>\n",
       "      <th>1</th>\n",
       "      <td>rock2</td>\n",
       "      <td>Strat_Series</td>\n",
       "      <td>1</td>\n",
       "      <td>False</td>\n",
       "      <td>False</td>\n",
       "      <td>True</td>\n",
       "      <td>True</td>\n",
       "      <td>#9f0052</td>\n",
       "      <td>[[10.0, 10.0, 309.43227767944336], [10.0, 14.3...</td>\n",
       "      <td>[[2, 1, 0], [5, 4, 3], [5, 3, 1], [6, 5, 1], [...</td>\n",
       "      <td>0.741361</td>\n",
       "      <td>1</td>\n",
       "    </tr>\n",
       "    <tr>\n",
       "      <th>0</th>\n",
       "      <td>rock1</td>\n",
       "      <td>Strat_Series</td>\n",
       "      <td>2</td>\n",
       "      <td>False</td>\n",
       "      <td>False</td>\n",
       "      <td>True</td>\n",
       "      <td>True</td>\n",
       "      <td>#015482</td>\n",
       "      <td>[[10.0, 10.0, 109.4232177734375], [10.0, 14.81...</td>\n",
       "      <td>[[2, 1, 0], [3, 1, 2], [4, 3, 2], [5, 3, 4], [...</td>\n",
       "      <td>0.563486</td>\n",
       "      <td>2</td>\n",
       "    </tr>\n",
       "    <tr>\n",
       "      <th>2</th>\n",
       "      <td>basement</td>\n",
       "      <td>Basement_Series</td>\n",
       "      <td>1</td>\n",
       "      <td>True</td>\n",
       "      <td>False</td>\n",
       "      <td>True</td>\n",
       "      <td>False</td>\n",
       "      <td>#ffbe00</td>\n",
       "      <td>NaN</td>\n",
       "      <td>NaN</td>\n",
       "      <td>NaN</td>\n",
       "      <td>3</td>\n",
       "    </tr>\n",
       "  </tbody>\n",
       "</table>\n",
       "</div>"
      ],
      "text/plain": [
       "    surface           series  order_surfaces  isBasement isFault  isActive  \\\n",
       "1     rock2     Strat_Series               1       False   False      True   \n",
       "0     rock1     Strat_Series               2       False   False      True   \n",
       "2  basement  Basement_Series               1        True   False      True   \n",
       "\n",
       "   hasData    color                                           vertices  \\\n",
       "1     True  #9f0052  [[10.0, 10.0, 309.43227767944336], [10.0, 14.3...   \n",
       "0     True  #015482  [[10.0, 10.0, 109.4232177734375], [10.0, 14.81...   \n",
       "2    False  #ffbe00                                                NaN   \n",
       "\n",
       "                                               edges      sfai  id  \n",
       "1  [[2, 1, 0], [5, 4, 3], [5, 3, 1], [6, 5, 1], [...  0.741361   1  \n",
       "0  [[2, 1, 0], [3, 1, 2], [4, 3, 2], [5, 3, 4], [...  0.563486   2  \n",
       "2                                                NaN       NaN   3  "
      ]
     },
     "execution_count": 51,
     "metadata": {},
     "output_type": "execute_result"
    }
   ],
   "source": [
    "gpv.model._surfaces.df"
   ]
  },
  {
   "cell_type": "code",
   "execution_count": 52,
   "metadata": {
    "ExecuteTime": {
     "end_time": "2020-10-21T14:59:28.906220Z",
     "start_time": "2020-10-21T14:59:28.548829Z"
    }
   },
   "outputs": [
    {
     "name": "stderr",
     "output_type": "stream",
     "text": [
      "/Users/zhouji/Documents/github/gempy/gempy/plot/plot_api.py:261: UserWarning: Matplotlib is currently using module://ipykernel.pylab.backend_inline, which is a non-GUI backend, so cannot show the figure.\n",
      "  p.fig.show()\n"
     ]
    },
    {
     "data": {
      "text/plain": [
       "<gempy.plot.visualization_2d.Plot2D at 0x161476510>"
      ]
     },
     "execution_count": 52,
     "metadata": {},
     "output_type": "execute_result"
    },
    {
     "data": {
      "image/png": "[encoded data removed]",
      "text/plain": [
       "<Figure size 432x288 with 1 Axes>"
      ]
     },
     "metadata": {
      "needs_background": "light"
     },
     "output_type": "display_data"
    }
   ],
   "source": [
    "gp.plot_2d(geo_model,cell_number=25,direction ='x')"
   ]
  },
  {
   "cell_type": "code",
   "execution_count": 57,
   "metadata": {
    "ExecuteTime": {
     "end_time": "2020-10-21T16:22:31.850439Z",
     "start_time": "2020-10-21T16:22:31.748319Z"
    }
   },
   "outputs": [
    {
     "data": {
      "text/html": [
       "<div>\n",
       "<style scoped>\n",
       "    .dataframe tbody tr th:only-of-type {\n",
       "        vertical-align: middle;\n",
       "    }\n",
       "\n",
       "    .dataframe tbody tr th {\n",
       "        vertical-align: top;\n",
       "    }\n",
       "\n",
       "    .dataframe thead th {\n",
       "        text-align: right;\n",
       "    }\n",
       "</style>\n",
       "<table border=\"1\" class=\"dataframe\">\n",
       "  <thead>\n",
       "    <tr style=\"text-align: right;\">\n",
       "      <th></th>\n",
       "      <th>surface</th>\n",
       "      <th>series</th>\n",
       "      <th>order_surfaces</th>\n",
       "      <th>isBasement</th>\n",
       "      <th>isFault</th>\n",
       "      <th>isActive</th>\n",
       "      <th>hasData</th>\n",
       "      <th>color</th>\n",
       "      <th>vertices</th>\n",
       "      <th>edges</th>\n",
       "      <th>sfai</th>\n",
       "      <th>id</th>\n",
       "    </tr>\n",
       "  </thead>\n",
       "  <tbody>\n",
       "    <tr>\n",
       "      <th>1</th>\n",
       "      <td>rock2</td>\n",
       "      <td>Strat_Series</td>\n",
       "      <td>1</td>\n",
       "      <td>False</td>\n",
       "      <td>False</td>\n",
       "      <td>True</td>\n",
       "      <td>True</td>\n",
       "      <td>#9f0052</td>\n",
       "      <td>[[10.0, 10.0, 309.43227767944336], [10.0, 14.3...</td>\n",
       "      <td>[[2, 1, 0], [5, 4, 3], [5, 3, 1], [6, 5, 1], [...</td>\n",
       "      <td>0.741361</td>\n",
       "      <td>1</td>\n",
       "    </tr>\n",
       "    <tr>\n",
       "      <th>0</th>\n",
       "      <td>rock1</td>\n",
       "      <td>Strat_Series</td>\n",
       "      <td>2</td>\n",
       "      <td>False</td>\n",
       "      <td>False</td>\n",
       "      <td>True</td>\n",
       "      <td>True</td>\n",
       "      <td>#015482</td>\n",
       "      <td>[[10.0, 10.0, 109.4232177734375], [10.0, 14.81...</td>\n",
       "      <td>[[2, 1, 0], [3, 1, 2], [4, 3, 2], [5, 3, 4], [...</td>\n",
       "      <td>0.563486</td>\n",
       "      <td>2</td>\n",
       "    </tr>\n",
       "    <tr>\n",
       "      <th>2</th>\n",
       "      <td>basement</td>\n",
       "      <td>Basement_Series</td>\n",
       "      <td>1</td>\n",
       "      <td>True</td>\n",
       "      <td>False</td>\n",
       "      <td>True</td>\n",
       "      <td>False</td>\n",
       "      <td>#ffbe00</td>\n",
       "      <td>NaN</td>\n",
       "      <td>NaN</td>\n",
       "      <td>NaN</td>\n",
       "      <td>3</td>\n",
       "    </tr>\n",
       "  </tbody>\n",
       "</table>\n",
       "</div>"
      ],
      "text/plain": [
       "    surface           series  order_surfaces  isBasement isFault  isActive  \\\n",
       "1     rock2     Strat_Series               1       False   False      True   \n",
       "0     rock1     Strat_Series               2       False   False      True   \n",
       "2  basement  Basement_Series               1        True   False      True   \n",
       "\n",
       "   hasData    color                                           vertices  \\\n",
       "1     True  #9f0052  [[10.0, 10.0, 309.43227767944336], [10.0, 14.3...   \n",
       "0     True  #015482  [[10.0, 10.0, 109.4232177734375], [10.0, 14.81...   \n",
       "2    False  #ffbe00                                                NaN   \n",
       "\n",
       "                                               edges      sfai  id  \n",
       "1  [[2, 1, 0], [5, 4, 3], [5, 3, 1], [6, 5, 1], [...  0.741361   1  \n",
       "0  [[2, 1, 0], [3, 1, 2], [4, 3, 2], [5, 3, 4], [...  0.563486   2  \n",
       "2                                                NaN       NaN   3  "
      ]
     },
     "execution_count": 57,
     "metadata": {},
     "output_type": "execute_result"
    }
   ],
   "source": [
    "geo_model._surfaces.df"
   ]
  },
  {
   "cell_type": "code",
   "execution_count": 56,
   "metadata": {
    "ExecuteTime": {
     "end_time": "2020-10-21T15:54:57.900640Z",
     "start_time": "2020-10-21T15:54:57.883710Z"
    }
   },
   "outputs": [
    {
     "data": {
      "text/html": [
       "<table border=\"1\" class=\"dataframe\">\n",
       "  <thead>\n",
       "    <tr style=\"text-align: right;\">\n",
       "      <th></th>\n",
       "      <th>order_series</th>\n",
       "      <th>BottomRelation</th>\n",
       "      <th>isActive</th>\n",
       "      <th>isFault</th>\n",
       "      <th>isFinite</th>\n",
       "    </tr>\n",
       "  </thead>\n",
       "  <tbody>\n",
       "    <tr>\n",
       "      <th>Strat_Series</th>\n",
       "      <td>1</td>\n",
       "      <td>Erosion</td>\n",
       "      <td>True</td>\n",
       "      <td>False</td>\n",
       "      <td>False</td>\n",
       "    </tr>\n",
       "    <tr>\n",
       "      <th>Basement_Series</th>\n",
       "      <td>2</td>\n",
       "      <td>Erosion</td>\n",
       "      <td>False</td>\n",
       "      <td>False</td>\n",
       "      <td>False</td>\n",
       "    </tr>\n",
       "  </tbody>\n",
       "</table>"
      ],
      "text/plain": [
       "                 order_series BottomRelation  isActive  isFault  isFinite\n",
       "Strat_Series                1        Erosion      True    False     False\n",
       "Basement_Series             2        Erosion     False    False     False"
      ]
     },
     "execution_count": 56,
     "metadata": {},
     "output_type": "execute_result"
    }
   ],
   "source": [
    "geo_model._sat"
   ]
  },
  {
   "cell_type": "code",
   "execution_count": null,
   "metadata": {},
   "outputs": [],
   "source": []
  }
 ],
 "metadata": {
  "kernelspec": {
   "display_name": "Python 3.7.7 64-bit ('gempy': conda)",
   "language": "python",
   "name": "python37764bitgempyconda56adf421e2e348a0921383dec03a4eee"
  },
  "language_info": {
   "codemirror_mode": {
    "name": "ipython",
    "version": 3
   },
   "file_extension": ".py",
   "mimetype": "text/x-python",
   "name": "python",
   "nbconvert_exporter": "python",
   "pygments_lexer": "ipython3",
   "version": "3.7.7"
  },
  "varInspector": {
   "cols": {
    "lenName": 16,
    "lenType": 16,
    "lenVar": 40
   },
   "kernels_config": {
    "python": {
     "delete_cmd_postfix": "",
     "delete_cmd_prefix": "del ",
     "library": "var_list.py",
     "varRefreshCmd": "print(var_dic_list())"
    },
    "r": {
     "delete_cmd_postfix": ") ",
     "delete_cmd_prefix": "rm(",
     "library": "var_list.r",
     "varRefreshCmd": "cat(var_dic_list()) "
    }
   },
   "types_to_exclude": [
    "module",
    "function",
    "builtin_function_or_method",
    "instance",
    "_Feature"
   ],
   "window_display": false
  }
 },
 "nbformat": 4,
 "nbformat_minor": 4
}
