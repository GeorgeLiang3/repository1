{
 "cells": [
  {
   "cell_type": "markdown",
   "metadata": {},
   "source": [
    "# Inversion of a sphere based on gravity response\n",
    "\n",
    "This is a simple example for the probabilistic inversion of a classical geophysical example: the inversion of a sphere in the subsurface with a different density to the environment based on observed gravity data.\n",
    "\n",
    "We start with the simplest possible case of only one observation (directly above the sphere) and only depth as an uncertain variable and then make the model progressively more complex."
   ]
  },
  {
   "cell_type": "code",
   "execution_count": 53,
   "metadata": {
    "ExecuteTime": {
     "end_time": "2019-10-14T12:58:35.690973Z",
     "start_time": "2019-10-14T12:58:35.682838Z"
    }
   },
   "outputs": [],
   "source": [
    "from scipy.stats import norm\n",
    "import numpy as np\n",
    "import matplotlib.pyplot as plt\n",
    "import tensorflow as tf\n",
    "import tensorflow_probability as tfp\n",
    "from tensorflow_probability import edward2 as ed\n",
    "tfd = tfp.distributions\n",
    "\n",
    "import seaborn as sns\n",
    "import pandas as pd\n",
    "%matplotlib inline\n",
    "\n",
    "tf.reset_default_graph()\n",
    "\n",
    "# np.random.seed(111)\n",
    "# tf.set_random_seed(111)\n"
   ]
  },
  {
   "cell_type": "markdown",
   "metadata": {},
   "source": [
    "We now calculate the effect of this density contrast that would be observed on the surface. This is a well-studied example with an analytical solution:\n",
    "\n",
    "$$g(x) = 10^5 \\;\\frac{4}{3} \\,\\pi \\;\\frac{r^3 \\,\\Delta \\rho\\, G\\, z}\n",
    "{\\sqrt{\\left( x^2 + z^2\\right)^3}}$$\n",
    "\n",
    "where:\n",
    "\n",
    "- $z$ is the vertical position of the center of the sphere (lateral position at origin),\n",
    "- $r$ its radius,\n",
    "- $\\Delta \\rho$ the density difference to the surrounding domain,\n",
    "- $G$ the gravitational constant,\n",
    "- and $x$ the position at which the gravitational acceleration is calculated.\n"
   ]
  },
  {
   "cell_type": "code",
   "execution_count": 54,
   "metadata": {
    "ExecuteTime": {
     "end_time": "2019-10-14T12:58:35.696792Z",
     "start_time": "2019-10-14T12:58:35.692950Z"
    }
   },
   "outputs": [],
   "source": [
    "def grav_analytical(x, sphere_center, sphere_radius, density_difference):\n",
    "    \"\"\"Calculate gravitational effect of a sphere, measured at surface\n",
    "    \n",
    "    **Arguments**:\n",
    "    - 'x' = scalar or np.array: position(s) of observation\n",
    "    - 'sphere_center' = float: is the vertical position of the center of the sphere (lateral position at origin)\n",
    "    - 'sphere_radius' = float: sphere radius\n",
    "    - 'density_difference' = float: density difference to the surrounding domain\n",
    "    \"\"\"\n",
    "    G=6.67e-11 # gravitational constant\n",
    "    return ((4/3)*np.pi * (sphere_radius**3) * density_difference\n",
    "            * G * sphere_center/(x**2 + sphere_center**2)**(3/2)) * 1e5\n"
   ]
  },
  {
   "cell_type": "markdown",
   "metadata": {},
   "source": [
    "## Geometric model\n",
    "\n",
    "We consider here a sphere in the subsurface with a different density. \n",
    "\n",
    "spherical point mass"
   ]
  },
  {
   "cell_type": "code",
   "execution_count": 55,
   "metadata": {
    "ExecuteTime": {
     "end_time": "2019-10-14T12:58:35.702093Z",
     "start_time": "2019-10-14T12:58:35.698782Z"
    }
   },
   "outputs": [],
   "source": [
    "#True model\n",
    "\n",
    "sphere_center_true = 300. #m \n",
    "density_difference_true = 500. # kg/m^3: density diffrence to surrounding domain\n",
    "sphere_radius_true = 100. #m\n",
    "\n",
    "truevalue_list = [sphere_center_true,density_difference_true,sphere_radius_true]\n",
    "x_domain=np.linspace(-1000,1000,101) #m"
   ]
  },
  {
   "cell_type": "code",
   "execution_count": 56,
   "metadata": {
    "ExecuteTime": {
     "end_time": "2019-10-14T12:58:35.709649Z",
     "start_time": "2019-10-14T12:58:35.704096Z"
    }
   },
   "outputs": [],
   "source": [
    "x_obs = np.linspace(-250, 250, 11)\n",
    "grav_all = grav_analytical(x_domain, sphere_center_true, sphere_radius_true, density_difference_true)\n",
    "grav_obs_array = grav_analytical(x_obs, sphere_center_true, sphere_radius_true, density_difference_true)\n",
    "noise = norm(0,0.01).rvs(len(grav_obs_array))\n",
    "grav_obs_array_withnoise = grav_obs_array +noise"
   ]
  },
  {
   "cell_type": "code",
   "execution_count": 57,
   "metadata": {
    "ExecuteTime": {
     "end_time": "2019-10-14T12:58:35.715019Z",
     "start_time": "2019-10-14T12:58:35.711352Z"
    }
   },
   "outputs": [
    {
     "data": {
      "text/plain": [
       "array([0.08883386, 0.1012706 , 0.11535176, 0.12888851, 0.16598917,\n",
       "       0.16113279, 0.13914281, 0.13175213, 0.10930203, 0.11348737,\n",
       "       0.06670406])"
      ]
     },
     "execution_count": 57,
     "metadata": {},
     "output_type": "execute_result"
    }
   ],
   "source": [
    "grav_obs_array_withnoise"
   ]
  },
  {
   "cell_type": "markdown",
   "metadata": {},
   "source": [
    "Calculate the variance of the noise, put the variance in an noise tensor"
   ]
  },
  {
   "cell_type": "code",
   "execution_count": 58,
   "metadata": {
    "ExecuteTime": {
     "end_time": "2019-10-14T12:58:35.723143Z",
     "start_time": "2019-10-14T12:58:35.716682Z"
    }
   },
   "outputs": [],
   "source": [
    "noise_variance = np.std(noise)**2\n",
    "\n",
    "noise_1 = tf.convert_to_tensor([noise_variance],dtype = tf.float32)\n",
    "eye = tf.eye(x_obs.shape[0])\n",
    "noise_tensor = tf.multiply(noise_1,eye)"
   ]
  },
  {
   "cell_type": "code",
   "execution_count": 59,
   "metadata": {
    "ExecuteTime": {
     "end_time": "2019-10-14T12:58:35.888605Z",
     "start_time": "2019-10-14T12:58:35.724711Z"
    }
   },
   "outputs": [
    {
     "data": {
      "text/plain": [
       "Text(0, 0.5, 'Y [m]')"
      ]
     },
     "execution_count": 59,
     "metadata": {},
     "output_type": "execute_result"
    },
    {
     "data": {
      "image/png": "[encoded data removed]",
      "text/plain": [
       "<Figure size 432x288 with 1 Axes>"
      ]
     },
     "metadata": {},
     "output_type": "display_data"
    }
   ],
   "source": [
    "plt.style.use('seaborn-darkgrid')\n",
    "ax = plt.subplot(aspect='equal') \n",
    "\n",
    "# create circle object as matplotlib patch\n",
    "circle1 = plt.Circle((0, -sphere_center_true), sphere_radius_true, \n",
    "                     facecolor='r', edgecolor='k', alpha=0.5)\n",
    "\n",
    "ax.add_artist(circle1)\n",
    "\n",
    "# set model domain\n",
    "ax.set_xlim([-1000,1000])\n",
    "ax.set_ylim([-800,10])\n",
    "\n",
    "ax.set_xlabel(\"X [m]\")\n",
    "ax.set_ylabel(\"Y [m]\")\n"
   ]
  },
  {
   "cell_type": "code",
   "execution_count": 60,
   "metadata": {
    "ExecuteTime": {
     "end_time": "2019-10-14T12:58:36.062688Z",
     "start_time": "2019-10-14T12:58:35.892004Z"
    }
   },
   "outputs": [
    {
     "data": {
      "image/png": "[encoded data removed]",
      "text/plain": [
       "<Figure size 432x288 with 1 Axes>"
      ]
     },
     "metadata": {},
     "output_type": "display_data"
    }
   ],
   "source": [
    "plt.plot(x_domain, grav_all)\n",
    "plt.plot(x_obs, grav_obs_array_withnoise, 'o', label=\"data\")\n",
    "plt.title(\"Gravity response for a sphere of radius 100 m and a depth of 300 m\");"
   ]
  },
  {
   "cell_type": "markdown",
   "metadata": {},
   "source": [
    "### Algorithm Flowing hIPPYlib MCMC http://g2s3.com/labs/notebooks/SubsurfaceBayesian.html"
   ]
  },
  {
   "cell_type": "markdown",
   "metadata": {},
   "source": [
    "Bayes’s Theorem"
   ]
  },
  {
   "cell_type": "markdown",
   "metadata": {},
   "source": [
    "\\begin{equation}\n",
    "d \\mu_{\\mathrm{post}}\\left(m | \\mathbf{d}_{\\mathrm{obs}}\\right) \\propto \\pi_{\\mathrm{like}}\\left(\\mathbf{d}_{\\mathrm{obs}} | \\mathrm{m}\\right) \\mathrm{d} \\mu_{\\mathrm{prior}}(\\mathrm{m})\n",
    "\\end{equation}"
   ]
  },
  {
   "cell_type": "markdown",
   "metadata": {},
   "source": [
    "Define the Prior\n",
    "\\begin{equation}\n",
    "\\mu_{\\text {prior }} \\sim \\mathcal{N}\\left(m_{\\text {prior }}, C_{\\text {prior }}\\right)\n",
    "\\end{equation}"
   ]
  },
  {
   "cell_type": "code",
   "execution_count": 61,
   "metadata": {
    "ExecuteTime": {
     "end_time": "2019-10-14T12:58:36.067677Z",
     "start_time": "2019-10-14T12:58:36.064869Z"
    }
   },
   "outputs": [],
   "source": [
    "# sphere_center, density_difference, sphere_radius\n",
    "\n",
    "mu_prior = [280., 480., 80.]\n",
    "\n",
    "\n",
    "cov = [[ 100,  0.,  0.],\n",
    "        [ 0.,  100, 0.],\n",
    "        [ 0., 0.,  100]]\n"
   ]
  },
  {
   "cell_type": "code",
   "execution_count": 62,
   "metadata": {
    "ExecuteTime": {
     "end_time": "2019-10-14T12:58:36.071733Z",
     "start_time": "2019-10-14T12:58:36.069490Z"
    }
   },
   "outputs": [],
   "source": [
    "xvals =[]\n",
    "norm_list =[]"
   ]
  },
  {
   "cell_type": "code",
   "execution_count": 63,
   "metadata": {
    "ExecuteTime": {
     "end_time": "2019-10-14T12:58:36.578211Z",
     "start_time": "2019-10-14T12:58:36.073226Z"
    }
   },
   "outputs": [
    {
     "data": {
      "image/png": "[encoded data removed]",
      "text/plain": [
       "<Figure size 1224x288 with 3 Axes>"
      ]
     },
     "metadata": {},
     "output_type": "display_data"
    }
   ],
   "source": [
    "for i in range(3):\n",
    "    xvals.append(np.arange(mu_prior[i]-100,mu_prior[i]+100))\n",
    "    norm_list.append(norm.pdf(xvals[i],mu_prior[i],np.sqrt(cov[i][i])))\n",
    "    \n",
    "np.shape(xvals)\n",
    "\n",
    "name_list = [\"sphere_center\", \"density_difference\", \"sphere_radius\"]\n",
    "\n",
    "fig, axes = plt.subplots(1, 3, sharex='col', sharey='col')\n",
    "fig.set_size_inches(17, 4)\n",
    "\n",
    "\n",
    "for i in range(3):\n",
    "    \n",
    "    axes[i].plot(xvals[i], norm_list[i],label=\"prior\")\n",
    "    axes[i].title.set_text(name_list[i])\n",
    "    axes[i].axvline(truevalue_list[i], label=\"true value\", color='k', \n",
    "            linestyle='--', linewidth=2)\n",
    "    axes[i].legend();\n",
    "\n",
    "    "
   ]
  },
  {
   "cell_type": "markdown",
   "metadata": {},
   "source": [
    "Define the Likelihood\n",
    "\\begin{equation}\n",
    "\\mathbf{d}_{\\mathrm{obs}}=\\mathbf{f}(\\mathrm{m})+\\mathbf{e}, \\quad \\mathbf{e} \\sim \\mathcal{N}\\left(\\mathbf{0}, \\mathbf{\\Gamma}_{\\mathrm{noise}}\\right)\n",
    "\\end{equation}\n",
    "\\begin{equation}\n",
    "\\pi_{\\text {like }}\\left(\\mathbf{d}_{\\text {obs }} | \\mathrm{m}\\right)=\\exp \\left(-\\frac{1}{2}\\left\\|\\mathbf{f}(\\mathrm{m})-\\mathbf{d}_{\\text {obs }}\\right\\|_{\\Gamma_{\\text {noise }}^{-1}}^{2}\\right)\n",
    "\\end{equation}"
   ]
  },
  {
   "cell_type": "code",
   "execution_count": 64,
   "metadata": {
    "ExecuteTime": {
     "end_time": "2019-10-14T12:58:36.584446Z",
     "start_time": "2019-10-14T12:58:36.580404Z"
    }
   },
   "outputs": [],
   "source": [
    "mu_prior = tf.convert_to_tensor(mu_prior)\n",
    "cov = tf.convert_to_tensor(cov)\n"
   ]
  },
  {
   "cell_type": "code",
   "execution_count": 65,
   "metadata": {
    "ExecuteTime": {
     "end_time": "2019-10-14T12:58:36.590973Z",
     "start_time": "2019-10-14T12:58:36.585946Z"
    }
   },
   "outputs": [],
   "source": [
    "# Defind f(m). Here f is the parameter-to-observable map that takes a \n",
    "# parameter m and maps it to the space observation vector dobs.\n",
    "\n",
    "def grav_analytical_tf(x, mu, cov,sess):\n",
    "    # [sphere_center, density_difference, sphere_radius]\n",
    "\n",
    "    mvn = ed.MultivariateNormalFullCovariance(\n",
    "            loc = mu,\n",
    "            covariance_matrix= cov)\n",
    "    G=6.67e-11\n",
    "    sphere_center = mvn.__getitem__(0)\n",
    "    density_difference = mvn.__getitem__(1)\n",
    "    sphere_radius = mvn.__getitem__(2)\n",
    "    \n",
    "    \n",
    "    gravity = ((4/3)*np.pi * (sphere_radius**3) * density_difference* G \n",
    "               * sphere_center/(x**2 + sphere_center**2)**(3/2)) * 1e5 \n",
    "    \n",
    "    print(sess.run(mvn))\n",
    "    \n",
    "\n",
    "    return gravity\n",
    "\n"
   ]
  },
  {
   "cell_type": "markdown",
   "metadata": {},
   "source": [
    "### Gradient decent to find MAP (?)"
   ]
  },
  {
   "cell_type": "code",
   "execution_count": 66,
   "metadata": {
    "ExecuteTime": {
     "end_time": "2019-10-14T12:58:36.596861Z",
     "start_time": "2019-10-14T12:58:36.592585Z"
    }
   },
   "outputs": [],
   "source": [
    "## function compute G^T C^-1 G\n",
    "\n",
    "def matrixcompute(matrix1,matrix2,Cov):\n",
    "    matrix = tf.subtract(matrix1, matrix2)\n",
    "    matrix = tf.reshape(matrix,[matrix.shape[0],1])\n",
    "    matrix_T = tf.transpose(matrix)\n",
    "    Cov_inv = tf.linalg.inv(Cov)\n",
    "    result = tf.multiply(tf.constant(1/2),tf.matmul(tf.matmul(matrix_T,Cov_inv),matrix))\n",
    "    return result"
   ]
  },
  {
   "cell_type": "markdown",
   "metadata": {},
   "source": [
    "\\begin{equation}\n",
    "\\pi_{\\text {like }}\\left(\\mathbf{d}_{\\text {obs }} | \\mathrm{m}\\right)=\\exp \\left(-\\frac{1}{2}\\left\\|\\mathbf{f}(\\mathrm{m})-\\mathbf{d}_{\\text {obs }}\\right\\|_{\\Gamma_{\\text {noise }}^{-1}}^{2}\\right)\n",
    "\\end{equation}"
   ]
  },
  {
   "cell_type": "markdown",
   "metadata": {},
   "source": [
    "#### The posterior\n",
    "\n",
    "\n",
    "\\begin{equation}\n",
    "d \\mu_{\\mathrm{post}}\\left(m | \\mathbf{d}_{\\mathrm{obs}}\\right) \\propto \\exp \\left(-\\frac{1}{2}\\left\\|\\mathbf{f}(\\mathrm{m})-\\mathbf{d}_{\\mathrm{obs}}\\right\\|_{\\mathrm{\\Gamma}_{\\mathrm{noise}}^{-1}}^{2}-\\frac{1}{2}\\left\\|\\mathrm{m}-\\mathrm{m}_{\\mathrm{prior}}\\right\\|_{C_{\\mathrm{prior}}^{-1}}^{2}\\right)\n",
    "\\end{equation}"
   ]
  },
  {
   "cell_type": "markdown",
   "metadata": {},
   "source": [
    "#### negative log of the posterior\n",
    "\\begin{equation}\n",
    "\\left(\\frac{1}{2}\\left\\|\\mathbf{f}(\\mathrm{m})-\\mathbf{d}_{\\mathrm{obs}}\\right\\|_{\\mathrm{\\Gamma}_{\\mathrm{noise}}^{-1}}^{2}+\\frac{1}{2}\\left\\|\\mathrm{m}-\\mathrm{m}_{\\mathrm{prior}}\\right\\|_{C_{\\mathrm{prior}}^{-1}}^{2}\\right)\n",
    "\\end{equation}\n"
   ]
  },
  {
   "cell_type": "markdown",
   "metadata": {},
   "source": [
    "term 1 = \n",
    "\\begin{equation}\n",
    "\\frac{1}{2}\\left\\|\\mathbf{f}(\\mathrm{m})-\\mathbf{d}_{\\text {obs }}\\right\\|_{\\Gamma_{\\text {noise }}^{-1}}^{2}\n",
    "\\end{equation}"
   ]
  },
  {
   "cell_type": "markdown",
   "metadata": {},
   "source": [
    "term 2 =\n",
    "\\begin{equation}\n",
    "\\frac{1}{2}\\left\\|\\mathrm{m}-\\mathrm{m}_{\\mathrm{prior}}\\right\\|_{C_{\\mathrm{prior}}^{-1}}^{2}\n",
    "\\end{equation}\n"
   ]
  },
  {
   "cell_type": "code",
   "execution_count": 67,
   "metadata": {
    "ExecuteTime": {
     "end_time": "2019-10-14T12:58:36.603885Z",
     "start_time": "2019-10-14T12:58:36.598779Z"
    }
   },
   "outputs": [],
   "source": [
    "def grav_analytical_tf(x, mu, cov,sess):\n",
    "    # [sphere_center, density_difference, sphere_radius]\n",
    "\n",
    "    mvn = ed.MultivariateNormalFullCovariance(\n",
    "            loc = mu,\n",
    "            covariance_matrix= cov)\n",
    "    G=6.67e-11\n",
    "    sphere_center = mvn.__getitem__(0)\n",
    "    density_difference = mvn.__getitem__(1)\n",
    "    sphere_radius = mvn.__getitem__(2)\n",
    "    \n",
    "    gravity = ((4/3)*np.pi * (sphere_radius**3) * density_difference* G \n",
    "               * sphere_center/(x**2 + sphere_center**2)**(3/2)) * 1e5 \n",
    "    \n",
    "    print(sess.run(mvn))\n",
    "    \n",
    "    return gravity"
   ]
  },
  {
   "cell_type": "code",
   "execution_count": 68,
   "metadata": {
    "ExecuteTime": {
     "end_time": "2019-10-14T12:58:36.612808Z",
     "start_time": "2019-10-14T12:58:36.605923Z"
    }
   },
   "outputs": [],
   "source": [
    "#     print(sess.run(tf.get_collection(tf.GraphKeys.TRAINABLE_VARIABLES)))\n",
    "\n",
    "## initial guess\n",
    "\n",
    "mu = tf.get_variable(\"mu\", dtype=tf.float32,\n",
    "  initializer=tf.constant([200., 400., 50.]))\n"
   ]
  },
  {
   "cell_type": "code",
   "execution_count": 69,
   "metadata": {
    "ExecuteTime": {
     "end_time": "2019-10-14T12:58:36.803483Z",
     "start_time": "2019-10-14T12:58:36.614818Z"
    }
   },
   "outputs": [
    {
     "name": "stdout",
     "output_type": "stream",
     "text": [
      "[208.54184  398.2938    46.388306]\n",
      "[[420.60907]]\n",
      "[[68.49999]]\n"
     ]
    }
   ],
   "source": [
    "init = tf.global_variables_initializer()\n",
    "with tf.Session() as sess:\n",
    "    sess.run(init)\n",
    "    grav = grav_analytical_tf(x_obs,mu, cov, sess)\n",
    "    term_1 = matrixcompute(grav,grav_obs_array_withnoise,noise_tensor)\n",
    "    term_2 = matrixcompute(mu,mu_prior,cov)\n",
    "    print(sess.run(term_1))\n",
    "    print(sess.run(term_2))\n"
   ]
  },
  {
   "cell_type": "code",
   "execution_count": 70,
   "metadata": {
    "ExecuteTime": {
     "end_time": "2019-10-14T12:59:05.569765Z",
     "start_time": "2019-10-14T12:58:36.805106Z"
    }
   },
   "outputs": [
    {
     "name": "stdout",
     "output_type": "stream",
     "text": [
      "[208.9855  405.0959   66.74097]\n",
      "starting at mu: [200. 400.  50.] negative log likelihood: [[469.8513]]\n",
      "[array([  0.64540285,  -1.3169026 , -12.775759  ], dtype=float32)]\n",
      "step 0 mu: [199.90703 400.14023  51.44027] negative log likelihood: [[723.585]]\n",
      "[array([-2.0304613, -0.4527945,  3.3907642], dtype=float32)]\n",
      "step 100 mu: [209.17064 409.02127  89.50288] negative log likelihood: [[90.839554]]\n",
      "[array([ 0.02959871, -1.0067128 , -4.6829667 ], dtype=float32)]\n",
      "step 200 mu: [226.2417  413.98087  84.84307] negative log likelihood: [[129.05272]]\n",
      "[array([ 1.0197527, -1.2435296, -8.623174 ], dtype=float32)]\n",
      "step 300 mu: [237.82205 419.4497   89.62502] negative log likelihood: [[87.59633]]\n",
      "[array([-0.41455722, -0.6285634 , -0.835495  ], dtype=float32)]\n",
      "step 400 mu: [247.27675 424.44543  91.65073] negative log likelihood: [[234.93579]]\n",
      "[array([  2.1001618,  -1.4155581, -14.779416 ], dtype=float32)]\n",
      "step 500 mu: [256.49194 428.37753  89.82231] negative log likelihood: [[57.73532]]\n",
      "[array([-1.1284314 , -0.21124452,  3.6175447 ], dtype=float32)]\n",
      "step 600 mu: [262.54605 432.68195  93.57352] negative log likelihood: [[121.282005]]\n",
      "[array([-0.22219552, -0.468589  , -0.25660682], dtype=float32)]\n",
      "step 700 mu: [268.53345  436.31396   96.594986] negative log likelihood: [[26.334883]]\n",
      "[array([ 1.06122  , -0.9198126, -6.441949 ], dtype=float32)]\n",
      "step 800 mu: [274.85617 439.1853   92.5278 ] negative log likelihood: [[60.51065]]\n",
      "[array([ 0.8047188, -0.7384399, -4.782801 ], dtype=float32)]\n",
      "step 900 mu: [277.8168   442.7123    97.608284] negative log likelihood: [[107.67669]]\n",
      "[array([ 1.2145736, -0.8570951, -6.91022  ], dtype=float32)]\n",
      "step 1000 mu: [281.71005 445.38272  95.0704 ] negative log likelihood: [[73.89278]]\n",
      "[array([-0.66932154, -0.07582441,  3.3286183 ], dtype=float32)]\n",
      "step 1100 mu: [284.3851  447.9813   98.95852] negative log likelihood: [[25.957067]]\n",
      "[array([  2.054004 ,  -1.0880198, -14.477485 ], dtype=float32)]\n",
      "step 1200 mu: [287.6432  450.0639   97.37839] negative log likelihood: [[15.86412]]\n",
      "[array([-0.6068661 , -0.04585865,  3.2887917 ], dtype=float32)]\n",
      "step 1300 mu: [288.98486  452.5055   104.004974] negative log likelihood: [[20.113678]]\n",
      "[array([  2.2251236,  -1.1077869, -13.458558 ], dtype=float32)]\n",
      "step 1400 mu: [293.61148 453.36902  95.84257] negative log likelihood: [[168.10793]]\n",
      "[array([  2.029985 ,  -1.0136194, -11.484528 ], dtype=float32)]\n",
      "step 1500 mu: [294.57925  455.43027  100.021484] negative log likelihood: [[73.05011]]\n",
      "[array([  2.1839445,  -1.0823854, -13.178579 ], dtype=float32)]\n",
      "step 1600 mu: [296.45685  456.82056   98.647095] negative log likelihood: [[71.113884]]\n",
      "[array([  2.0251334 ,  -0.98519117, -11.314697  ], dtype=float32)]\n",
      "step 1700 mu: [297.33505  458.37848  101.680824] negative log likelihood: [[27.433847]]\n",
      "[array([  2.0198271 ,  -0.94849885, -11.129642  ], dtype=float32)]\n",
      "step 1800 mu: [299.47614 459.37698 100.34827] negative log likelihood: [[77.088806]]\n",
      "[array([-0.00399505, -0.15447026,  0.7729304 ], dtype=float32)]\n",
      "step 1900 mu: [299.75043  460.7691   103.115166] negative log likelihood: [[29.051178]]\n",
      "[array([ 1.7310368 , -0.83586603, -8.9093    ], dtype=float32)]\n",
      "step 2000 mu: [301.2754  461.56186  97.80282] negative log likelihood: [[26.29602]]\n",
      "[array([ 1.3441348 , -0.63569283, -6.681084  ], dtype=float32)]\n",
      "step 2100 mu: [301.7189  462.65723  97.93282] negative log likelihood: [[73.485596]]\n",
      "[array([ 1.6910496, -0.7765311, -8.62672  ], dtype=float32)]\n",
      "step 2200 mu: [302.05157 463.65668  97.17413] negative log likelihood: [[179.04922]]\n",
      "[array([  2.2308133,  -0.9646287, -13.048828 ], dtype=float32)]\n",
      "step 2300 mu: [302.42694 464.5966   98.54283] negative log likelihood: [[30.668669]]\n",
      "[array([ 1.6596632, -0.7179377, -8.49252  ], dtype=float32)]\n",
      "step 2400 mu: [302.44806 465.47324  99.62491] negative log likelihood: [[35.607426]]\n",
      "[array([-1.421758  ,  0.48920268,  8.284458  ], dtype=float32)]\n",
      "step 2500 mu: [301.1874  466.77017 106.14693] negative log likelihood: [[26.342522]]\n",
      "[array([-1.4917709,  0.4713507,  8.313909 ], dtype=float32)]\n",
      "step 2600 mu: [302.89493 466.91394 103.30036] negative log likelihood: [[173.51685]]\n",
      "[array([-1.1352161 ,  0.35769153,  6.551126  ], dtype=float32)]\n",
      "step 2700 mu: [303.33435  467.37253  100.855995] negative log likelihood: [[37.89789]]\n",
      "[array([ 1.7981863, -0.7866369, -9.236306 ], dtype=float32)]\n",
      "step 2800 mu: [303.14606 468.02847 101.96829] negative log likelihood: [[32.71414]]\n",
      "[array([  1.8465155,  -0.8100066, -12.967189 ], dtype=float32)]\n",
      "step 2900 mu: [304.56888 468.04553  96.64235] negative log likelihood: [[261.2861]]\n",
      "[array([ 1.8565372 , -0.76801956, -9.574164  ], dtype=float32)]\n",
      "step 3000 mu: [305.3081  468.312    96.20601] negative log likelihood: [[38.779545]]\n",
      "[array([ 1.8755665 , -0.75751305, -9.74129   ], dtype=float32)]\n",
      "step 3100 mu: [304.7405   469.00125  100.858185] negative log likelihood: [[20.832376]]\n",
      "[array([-1.613072 ,  0.6026499,  9.314215 ], dtype=float32)]\n",
      "step 3200 mu: [304.07666  469.62152  103.375755] negative log likelihood: [[317.98474]]\n",
      "[array([ 0.9047707 , -0.38772085, -3.5638587 ], dtype=float32)]\n",
      "step 3300 mu: [304.61877 469.85428 101.30804] negative log likelihood: [[20.737255]]\n",
      "[array([ 1.309504, -0.536849, -6.042208], dtype=float32)]\n",
      "step 3400 mu: [305.8062   469.78848  101.817245] negative log likelihood: [[16.930508]]\n",
      "[array([  2.168879 ,  -0.8868979, -11.937261 ], dtype=float32)]\n",
      "step 3500 mu: [306.9631  469.6132   96.18016] negative log likelihood: [[12.37859]]\n",
      "[array([-10.7970915,   4.2517023,  47.94029  ], dtype=float32)]\n",
      "step 3600 mu: [305.3795  470.47726 101.17478] negative log likelihood: [[14.812157]]\n",
      "[array([  2.3325107 ,  -0.92734516, -14.389784  ], dtype=float32)]\n",
      "step 3700 mu: [307.23105 470.0151   91.87567] negative log likelihood: [[31.31631]]\n",
      "[array([-2.485402 ,  1.0105053, 13.5020895], dtype=float32)]\n",
      "step 3800 mu: [305.8338  470.71698  97.51618] negative log likelihood: [[26.641504]]\n",
      "[array([-4.6221123,  1.7639289, 22.925833 ], dtype=float32)]\n",
      "step 3900 mu: [305.49548 470.9906   99.84772] negative log likelihood: [[25.679192]]\n",
      "[array([ 1.3714435, -0.5548354, -6.3725986], dtype=float32)]\n",
      "step 4000 mu: [305.36475 471.18546 100.9002 ] negative log likelihood: [[122.882866]]\n",
      "[array([  2.2106664,  -0.8560417, -14.264596 ], dtype=float32)]\n",
      "step 4100 mu: [306.88144 470.75104  96.04628] negative log likelihood: [[34.624374]]\n",
      "[array([  2.2772238,  -0.9161289, -12.708329 ], dtype=float32)]\n",
      "step 4200 mu: [305.1923 471.5385 103.4631] negative log likelihood: [[17.095867]]\n",
      "[array([ 0.99315095, -0.39374876, -4.055221  ], dtype=float32)]\n",
      "step 4300 mu: [304.99222 471.70544 103.44893] negative log likelihood: [[67.63251]]\n",
      "[array([ 0.38798055, -0.15647845, -0.7439182 ], dtype=float32)]\n",
      "step 4400 mu: [305.0303  471.77267 103.08746] negative log likelihood: [[27.75211]]\n",
      "[array([  2.2220151,  -0.8685322, -12.510683 ], dtype=float32)]\n",
      "step 4500 mu: [305.02386 471.94424 104.04536] negative log likelihood: [[14.074849]]\n",
      "[array([-0.8998581 ,  0.34265763,  5.8091683 ], dtype=float32)]\n",
      "step 4600 mu: [305.11166 472.0212  101.53568] negative log likelihood: [[14.041739]]\n",
      "[array([ 1.2768731 , -0.50656015, -5.7631016 ], dtype=float32)]\n",
      "step 4700 mu: [305.47104 472.0481  101.14316] negative log likelihood: [[11.408406]]\n",
      "[array([-1.6946869,  0.6569681,  9.711394 ], dtype=float32)]\n",
      "step 4800 mu: [305.64774 472.075   101.59814] negative log likelihood: [[62.138634]]\n",
      "[array([ 0.6476071 , -0.24649847, -2.2453668 ], dtype=float32)]\n",
      "step 4900 mu: [305.01547 472.33783 101.74343] negative log likelihood: [[120.787766]]\n"
     ]
    }
   ],
   "source": [
    "init = tf.global_variables_initializer()\n",
    "with tf.Session() as session:\n",
    "    session.run(init)\n",
    "    grav = grav_analytical_tf(x_obs,mu, cov, session)\n",
    "    term_1 = matrixcompute(grav,grav_obs_array_withnoise,noise_tensor)\n",
    "    term_2 = matrixcompute(mu,mu_prior,cov)\n",
    "    Negtive_log_likelihood = tf.add(term_1,term_2)\n",
    "    \n",
    "    \n",
    "    optimizer = tf.train.GradientDescentOptimizer(0.1)\n",
    "    train = optimizer.minimize(Negtive_log_likelihood,var_list =mu)\n",
    "    log_tem = session.run(Negtive_log_likelihood) \n",
    "    \n",
    "    \n",
    "    print(\"starting at\", \"mu:\", session.run(mu), \"negative log likelihood:\", session.run(Negtive_log_likelihood))\n",
    "    for step in range(5000):  \n",
    "        session.run(train)\n",
    "        if step%100 == 0:print(session.run(tf.gradients(Negtive_log_likelihood,mu)))\n",
    "        log_tem_new = session.run(Negtive_log_likelihood)\n",
    "       ## Find and save MAP point \n",
    "        if log_tem_new < log_tem:\n",
    "            log_tem = log_tem_new\n",
    "            MAP = session.run(mu)\n",
    "        \n",
    "        if step%100 == 0: print(\"step\", step, \"mu:\", session.run(mu), \"negative log likelihood:\",log_tem_new )\n",
    "\n",
    "    "
   ]
  },
  {
   "cell_type": "markdown",
   "metadata": {},
   "source": [
    "### <span style=\"color:red\">Gradient decsent doesn't work well with this Problem</span>     or Maybe fine?\n",
    "\n",
    "It seems been track at the local minimum.   \n",
    "Potential Solution:\n",
    "* Globalized Newtown-CG method as in hIPPYlib"
   ]
  },
  {
   "cell_type": "markdown",
   "metadata": {},
   "source": [
    "## MCMC"
   ]
  },
  {
   "cell_type": "code",
   "execution_count": 71,
   "metadata": {
    "ExecuteTime": {
     "end_time": "2019-10-14T12:59:05.908472Z",
     "start_time": "2019-10-14T12:59:05.571671Z"
    }
   },
   "outputs": [
    {
     "name": "stdout",
     "output_type": "stream",
     "text": [
      "[306.33282  469.07205   92.831474]\n"
     ]
    }
   ],
   "source": [
    "# MAP = [300., 500., 100.]\n",
    "MAP = tf.convert_to_tensor(MAP)\n",
    "\n",
    "with tf.Session() as sess:\n",
    "\n",
    "    print(sess.run(MAP))\n"
   ]
  },
  {
   "cell_type": "code",
   "execution_count": 72,
   "metadata": {
    "ExecuteTime": {
     "end_time": "2019-10-14T12:59:05.915504Z",
     "start_time": "2019-10-14T12:59:05.910527Z"
    }
   },
   "outputs": [],
   "source": [
    "def compute_hessian(fn, vars):\n",
    "    mat = []\n",
    "    for v1 in vars:\n",
    "        temp = []\n",
    "        for v2 in vars:\n",
    "            # computing derivative twice, first w.r.t v2 and then w.r.t v1\n",
    "            temp.append(tf.gradients(tf.gradients(fn, v2)[0], v1)[0])\n",
    "        temp = [cons(0) if t == None else t for t in temp] # tensorflow returns None when there is no gradient, so we replace None with 0\n",
    "        temp = tf.stack(temp)\n",
    "        mat.append(temp)\n",
    "    mat = tf.stack(mat)\n",
    "    return mat\n",
    "def cons(x):\n",
    "    return tf.constant(x, dtype=tf.float32)"
   ]
  },
  {
   "cell_type": "markdown",
   "metadata": {},
   "source": [
    "### Forward model in TensorFlow\n",
    "\n",
    "* Calculate Hessian\n",
    "* Variable defined in Edward multivariate Normal object"
   ]
  },
  {
   "cell_type": "code",
   "execution_count": 73,
   "metadata": {
    "ExecuteTime": {
     "end_time": "2019-10-14T12:59:05.922391Z",
     "start_time": "2019-10-14T12:59:05.917547Z"
    }
   },
   "outputs": [],
   "source": [
    "def grav_analytical_tf(x, mu, cov, hess = False):\n",
    "    # [sphere_center, density_difference, sphere_radius]\n",
    "\n",
    "    mvn = ed.MultivariateNormalFullCovariance(\n",
    "            loc = mu,\n",
    "            covariance_matrix= cov)\n",
    "    G=6.67e-11\n",
    "    sphere_center = mvn.__getitem__(0)\n",
    "    density_difference = mvn.__getitem__(1)\n",
    "    sphere_radius = mvn.__getitem__(2)\n",
    "    \n",
    "    gravity = ((4/3)*np.pi * (sphere_radius**3) * density_difference* G \n",
    "           * sphere_center/(x**2 + sphere_center**2)**(3/2)) * 1e5 \n",
    "\n",
    "    if hess == True:\n",
    "        hess = compute_hessian(gravity,[sphere_center,density_difference,sphere_radius])\n",
    "        return gravity, hess\n",
    "    return gravity\n"
   ]
  },
  {
   "cell_type": "markdown",
   "metadata": {},
   "source": [
    "#### Compute the Hessian and Covariance of the Posterior at MAP"
   ]
  },
  {
   "cell_type": "markdown",
   "metadata": {},
   "source": [
    "\\begin{equation}\n",
    "\\mathcal{C}_{\\mathrm{post}}=\\left(\\mathcal{H}_{\\mathrm{misfit}}\\left(m_{\\nu}\\right)+\\mathcal{C}_{\\mathrm{prior}}^{-1}\\right)^{-1}\n",
    "\\end{equation}"
   ]
  },
  {
   "cell_type": "code",
   "execution_count": 74,
   "metadata": {
    "ExecuteTime": {
     "end_time": "2019-10-14T12:59:06.756893Z",
     "start_time": "2019-10-14T12:59:05.923801Z"
    }
   },
   "outputs": [],
   "source": [
    "grav, hess = grav_analytical_tf(x_obs, MAP, cov, hess = True)\n"
   ]
  },
  {
   "cell_type": "code",
   "execution_count": 75,
   "metadata": {
    "ExecuteTime": {
     "end_time": "2019-10-14T12:59:06.767491Z",
     "start_time": "2019-10-14T12:59:06.762064Z"
    }
   },
   "outputs": [],
   "source": [
    "Matrix_tem = tf.add(hess, tf.linalg.inv(cov))\n",
    "\n",
    "C_post = tf.linalg.inv(Matrix_tem)"
   ]
  },
  {
   "cell_type": "code",
   "execution_count": 76,
   "metadata": {
    "ExecuteTime": {
     "end_time": "2019-10-14T12:59:08.278650Z",
     "start_time": "2019-10-14T12:59:06.770199Z"
    }
   },
   "outputs": [
    {
     "name": "stdout",
     "output_type": "stream",
     "text": [
      "hessian matrix at MAP: \n",
      " [[ 5.04202762e-05 -1.43414045e-05 -1.97795758e-04]\n",
      " [-1.43414045e-05  0.00000000e+00  8.10321726e-05]\n",
      " [-1.97795758e-04  8.10321726e-05  7.45060621e-04]]\n",
      "Covariance of the Prior: \n",
      " [[100.   0.   0.]\n",
      " [  0. 100.   0.]\n",
      " [  0.   0. 100.]]\n",
      "Covariance of the Posterior: \n",
      " [[ 9.9802856e+01  5.7775922e-02  1.0166750e+00]\n",
      " [ 5.7775933e-02  1.0000207e+02 -4.3904182e-01]\n",
      " [ 1.0166751e+00 -4.3904182e-01  9.4989975e+01]]\n"
     ]
    }
   ],
   "source": [
    "with tf.Session() as session:\n",
    "    print('hessian matrix at MAP: \\n', session.run(hess))\n",
    "    print('Covariance of the Prior: \\n',session.run(cov))\n",
    "    print('Covariance of the Posterior: \\n',session.run(C_post))"
   ]
  },
  {
   "cell_type": "markdown",
   "metadata": {
    "ExecuteTime": {
     "end_time": "2019-09-18T13:26:07.197102Z",
     "start_time": "2019-09-18T13:26:07.192383Z"
    }
   },
   "source": [
    "#### define whether to accept or reject the new sample\n",
    "\\begin{equation}\n",
    "\\Phi\\left(m, \\mathbf{d}_{\\mathrm{obs}}\\right)=\\frac{1}{2}\\left\\|\\mathbf{f}(\\mathrm{m})-\\mathbf{d}_{\\mathrm{obs}}\\right\\|_{\\Gamma_{\\mathrm{noise}}^{-1}}\n",
    "\\end{equation}\n",
    "\n",
    "\\begin{equation}\n",
    "a\\left(m_{\\text {current }}, m_{\\text {proposed }}\\right) :=\\min \\left\\{1, \\exp \\left(\\Phi\\left(m_{\\text {current }}, \\mathbf{d}_{\\text {obs }}\\right)-\\Phi\\left(\\mathrm{m}_{\\text {proposed }}, \\mathbf{d}_{\\text {obs }}\\right)\\right)\\right\\}\n",
    "\\end{equation}"
   ]
  },
  {
   "cell_type": "markdown",
   "metadata": {},
   "source": [
    "### preconditioned Crank-Nicolson proposal"
   ]
  },
  {
   "cell_type": "code",
   "execution_count": 77,
   "metadata": {
    "ExecuteTime": {
     "end_time": "2019-10-14T12:59:08.287980Z",
     "start_time": "2019-10-14T12:59:08.280610Z"
    }
   },
   "outputs": [],
   "source": [
    "\n",
    "@tf.function\n",
    "def acceptance_pCN(m_current , m_proposed):\n",
    "    \n",
    "    grav_current = grav_analytical_tf(x_obs,m_current, cov)\n",
    "    phi_current = matrixcompute(grav_current,grav_obs_array_withnoise,noise_tensor)\n",
    "\n",
    "    grav_proposed = grav_analytical_tf(x_obs,m_proposed, cov)\n",
    "    phi_proposed = matrixcompute(grav_proposed,grav_obs_array_withnoise,noise_tensor)\n",
    "\n",
    "\n",
    "    ## calculate accept ratio if exp()<1\n",
    "    accept_ratio = tf.exp(tf.subtract(phi_current,phi_proposed))\n",
    "    acceptsample = tfd.Sample(\n",
    "    tfd.Uniform(0., 1.),\n",
    "    sample_shape=[1,1])\n",
    "    sample = acceptsample.sample()\n",
    "    \n",
    "    ## greater : further away from the observation = less possible to accept\n",
    "    then_expression = tf.greater_equal( phi_current,phi_proposed)\n",
    "    else_expression = tf.greater(accept_ratio, sample)\n",
    "    \n",
    "    \n",
    "    condition = tf.reshape(tf.greater_equal( phi_current,phi_proposed),())\n",
    "    \n",
    "    \n",
    "    x = tf.cond(condition ,\n",
    "               lambda: then_expression,\n",
    "               lambda: else_expression)\n",
    "    \n",
    "    x = tf.reshape(x,())\n",
    "    return x\n",
    "        \n",
    "\n"
   ]
  },
  {
   "cell_type": "markdown",
   "metadata": {},
   "source": [
    "#### gpCN"
   ]
  },
  {
   "cell_type": "markdown",
   "metadata": {},
   "source": [
    "gpCN is a generalized version of the pCN sampler. While the proposals of pCN are drown from the prior Gaussian distribution $\\mu_{prior}$,proposals in the generalized pCN are drown from a Gaussian approximation $v$ of the posterior distribution.\n",
    "\n",
    "\\begin{equation}\n",
    "a_{\\nu}\\left(m_{\\mathrm{current}}, m_{\\mathrm{proposed}}\\right) :=\\min \\left\\{1, \\exp \\left(\\Delta\\left(m_{\\mathrm{current}}\\right)-\\Delta\\left(m_{\\mathrm{proposed}}\\right)\\right)\\right\\}\n",
    "\\end{equation}\n",
    "\n",
    "where   \n",
    "\n",
    "\\begin{equation}\n",
    "\\Delta(m)=\\Phi\\left(m, \\mathbf{d}_{\\mathrm{obs}}\\right)+\\frac{1}{2}\\left\\|\\mathrm{m}-\\mathrm{m}_{\\mathrm{prior}}\\right\\|_{C_{\\mathrm{prior}}^{-1}}^{2}-\\frac{1}{2}\\left\\|\\mathrm{m}-\\mathrm{m}_{\\nu}\\right\\|_{\\mathrm{C}_{\\nu}^{-1}}^{2}\n",
    "\\end{equation}"
   ]
  },
  {
   "cell_type": "code",
   "execution_count": 78,
   "metadata": {
    "ExecuteTime": {
     "end_time": "2019-10-14T12:59:08.299922Z",
     "start_time": "2019-10-14T12:59:08.289666Z"
    }
   },
   "outputs": [],
   "source": [
    "\n",
    "@tf.function\n",
    "def acceptance_gpCN(m_current , m_proposed):\n",
    "    \n",
    "    grav_current = grav_analytical_tf(x_obs,m_current, cov)\n",
    "    phi_current = matrixcompute(grav_current,grav_obs_array_withnoise,noise_tensor)\n",
    "    # assign a name\n",
    "    phi_current = tf.identity(phi_current, name=\"phi_current\")\n",
    "    \n",
    "    grav_proposed = grav_analytical_tf(x_obs,m_proposed, cov)\n",
    "    phi_proposed = matrixcompute(grav_proposed,grav_obs_array_withnoise,noise_tensor)\n",
    "    # assign a name\n",
    "    phi_proposed = tf.identity(phi_proposed, name=\"phi_proposed\")\n",
    "\n",
    "    t2_current = matrixcompute(m_current,mu_prior,cov)\n",
    "    t3_current = matrixcompute(m_current,MAP,C_post)\n",
    "\n",
    "    t2_proposed = matrixcompute(m_proposed,mu_prior,cov)\n",
    "    t3_proposed = matrixcompute(m_proposed,MAP,C_post)\n",
    "\n",
    "    delta_current = tf.subtract(tf.add(phi_current,t2_current ),t3_current)\n",
    "    delta_proposed = tf.subtract(tf.add(phi_proposed,t2_proposed ),t3_proposed)\n",
    "\n",
    "    ## calculate accept ratio if exp()<1\n",
    "    accept_ratio = tf.exp(tf.subtract(delta_current,delta_proposed))\n",
    "    acceptsample = tfd.Sample(\n",
    "    tfd.Uniform(0., 1.),\n",
    "    sample_shape=[1,1])\n",
    "    sample = acceptsample.sample()\n",
    "    \n",
    "    \n",
    "    ## greater : further away from the observation = less possible to accept\n",
    "    then_expression = tf.greater_equal( delta_current,delta_proposed)\n",
    "    else_expression = tf.greater(accept_ratio, sample,name = 'shit')\n",
    "    \n",
    "    condition = tf.reshape(tf.greater_equal( delta_current,delta_proposed)[0],())\n",
    "    \n",
    "\n",
    "    x = tf.cond(condition ,\n",
    "               lambda: then_expression,\n",
    "               lambda: else_expression)\n",
    "    \n",
    "    x = tf.reshape(x,())\n",
    "    return x\n",
    "        "
   ]
  },
  {
   "cell_type": "markdown",
   "metadata": {},
   "source": [
    "#### Proposal"
   ]
  },
  {
   "cell_type": "markdown",
   "metadata": {
    "ExecuteTime": {
     "end_time": "2019-09-19T15:46:24.359565Z",
     "start_time": "2019-09-19T15:46:24.355527Z"
    }
   },
   "source": [
    "\\begin{equation}\n",
    "v^{(k)}=m_{\\nu}+\\sqrt{1-\\beta^{2}}\\left(m^{(k)}-m_{\\nu}\\right)+\\beta \\xi^{(k)}, \\quad \\xi^{(k)} \\sim \\mathcal{N}\\left(0, \\mathcal{C}_{\\nu}\\right)\n",
    "\\end{equation}"
   ]
  },
  {
   "cell_type": "code",
   "execution_count": 79,
   "metadata": {
    "ExecuteTime": {
     "end_time": "2019-10-14T12:59:08.307040Z",
     "start_time": "2019-10-14T12:59:08.301973Z"
    }
   },
   "outputs": [],
   "source": [
    "# define leaning rate\n",
    "beta = 0.6\n",
    "\n",
    "@tf.function\n",
    "def draw_proposal(m_current):\n",
    "    \n",
    "    _term1 = MAP\n",
    "    \n",
    "    ## sqrt term\n",
    "    tem_1 = tf.convert_to_tensor(np.sqrt(1-beta**2),dtype = tf.float32)\n",
    "    ## sqrt(1-beta^2)()\n",
    "    _term2 = tf.multiply(tem_1,(tf.subtract(m_current,MAP)))\n",
    "    \n",
    "    Xi = tfd.MultivariateNormalFullCovariance(\n",
    "            loc = 0,\n",
    "            covariance_matrix= C_post)\n",
    "\n",
    "    Xi_s = tfd.Sample(Xi)\n",
    "    _term3 = tf.multiply(beta,Xi_s.sample())\n",
    "    \n",
    "    m_proposed = tf.add(MAP,tf.add(_term2,_term3))\n",
    "    \n",
    "    return m_proposed\n",
    "    \n",
    "\n",
    "    "
   ]
  },
  {
   "cell_type": "markdown",
   "metadata": {},
   "source": [
    "### Chain"
   ]
  },
  {
   "cell_type": "code",
   "execution_count": 80,
   "metadata": {
    "ExecuteTime": {
     "end_time": "2019-10-14T12:59:08.314180Z",
     "start_time": "2019-10-14T12:59:08.308714Z"
    }
   },
   "outputs": [],
   "source": [
    "def run_chain(sess):\n",
    "    burn_in = 100\n",
    "    steps = 1000\n",
    "    k = 0\n",
    "    accepted = []\n",
    "    rejected = []\n",
    "\n",
    "    m_current = mu  # init m\n",
    "    \n",
    "    \n",
    "    for k in range(steps+burn_in):\n",
    "\n",
    "        m_proposed = draw_proposal(m_current)\n",
    "        \n",
    "        if k%20 == 0: print(k, \"finised\")\n",
    "        \n",
    "## Check each proposal\n",
    "#         print(sess.run(m_current))\n",
    "#         print(sess.run(m_proposed))\n",
    "#         print(sess.run(acceptance_gpCN(m_current,m_proposed)))\n",
    "        if sess.run(acceptance_gpCN(m_current,m_proposed)):\n",
    "            m_current = m_proposed\n",
    "            if k > burn_in:\n",
    "                accepted.append(m_proposed)\n",
    "        else:\n",
    "            m_current = m_current\n",
    "            rejected.append(m_proposed)\n",
    "    \n",
    "    return accepted,rejected\n",
    "    \n"
   ]
  },
  {
   "cell_type": "code",
   "execution_count": 81,
   "metadata": {
    "ExecuteTime": {
     "end_time": "2019-10-14T13:58:20.819556Z",
     "start_time": "2019-10-14T12:59:08.316061Z"
    }
   },
   "outputs": [
    {
     "name": "stdout",
     "output_type": "stream",
     "text": [
      "0 finised\n",
      "20 finised\n",
      "40 finised\n",
      "60 finised\n",
      "80 finised\n",
      "100 finised\n",
      "120 finised\n",
      "140 finised\n",
      "160 finised\n",
      "180 finised\n",
      "200 finised\n",
      "220 finised\n",
      "240 finised\n",
      "260 finised\n",
      "280 finised\n",
      "300 finised\n",
      "320 finised\n",
      "340 finised\n",
      "360 finised\n",
      "380 finised\n",
      "400 finised\n",
      "420 finised\n",
      "440 finised\n",
      "460 finised\n",
      "480 finised\n",
      "500 finised\n",
      "520 finised\n",
      "540 finised\n",
      "560 finised\n",
      "580 finised\n",
      "600 finised\n",
      "620 finised\n",
      "640 finised\n",
      "660 finised\n",
      "680 finised\n",
      "700 finised\n",
      "720 finised\n",
      "740 finised\n",
      "760 finised\n",
      "780 finised\n",
      "800 finised\n",
      "820 finised\n",
      "840 finised\n",
      "860 finised\n",
      "880 finised\n",
      "900 finised\n",
      "920 finised\n",
      "940 finised\n",
      "960 finised\n",
      "980 finised\n",
      "1000 finised\n",
      "1020 finised\n",
      "1040 finised\n",
      "1060 finised\n",
      "1080 finised\n"
     ]
    }
   ],
   "source": [
    "init = tf.global_variables_initializer()\n",
    "with tf.Session() as sess:\n",
    "    sess.run(init)\n",
    "    accepted,rejected = sess.run(run_chain(sess))\n",
    "    "
   ]
  },
  {
   "cell_type": "code",
   "execution_count": 82,
   "metadata": {
    "ExecuteTime": {
     "end_time": "2019-10-14T13:58:20.826516Z",
     "start_time": "2019-10-14T13:58:20.821275Z"
    }
   },
   "outputs": [
    {
     "data": {
      "text/plain": [
       "530"
      ]
     },
     "execution_count": 82,
     "metadata": {},
     "output_type": "execute_result"
    }
   ],
   "source": [
    "np.shape(accepted)[0]"
   ]
  },
  {
   "cell_type": "code",
   "execution_count": 83,
   "metadata": {
    "ExecuteTime": {
     "end_time": "2019-10-14T13:58:20.836564Z",
     "start_time": "2019-10-14T13:58:20.828609Z"
    }
   },
   "outputs": [],
   "source": [
    "def plot_trace(accepted):\n",
    "            \n",
    "    sphere_center_accepted = []\n",
    "    density_difference_accepted = []\n",
    "    sphere_radius_accepted = []\n",
    "    for i in range(np.shape(accepted)[0]):\n",
    "        \n",
    "        sphere_center_accepted.append(accepted[i][0])\n",
    "        density_difference_accepted.append(accepted[i][1])\n",
    "        sphere_radius_accepted.append(accepted[i][2])\n",
    "        \n",
    "        \n",
    "    fig, axes = plt.subplots(1, 3, sharex='col', sharey='col')\n",
    "    fig.set_size_inches(17, 4)\n",
    "    \n",
    "    axes[0].hist(sphere_center_accepted,40,density=True)\n",
    "    axes[1].hist(density_difference_accepted,40,density=True)\n",
    "    axes[2].hist(sphere_radius_accepted,40,density=True)\n",
    "\n",
    "\n",
    "    for i in range(3):\n",
    "\n",
    "        axes[i].plot(xvals[i], norm_list[i],label=\"prior\")\n",
    "        axes[i].title.set_text(name_list[i])\n",
    "        axes[i].axvline(truevalue_list[i], label=\"true value\", color='k', \n",
    "                linestyle='--', linewidth=2)\n",
    "        axes[i].legend();\n"
   ]
  },
  {
   "cell_type": "code",
   "execution_count": 84,
   "metadata": {
    "ExecuteTime": {
     "end_time": "2019-10-14T13:58:21.533903Z",
     "start_time": "2019-10-14T13:58:20.838189Z"
    }
   },
   "outputs": [
    {
     "data": {
      "image/png": "[encoded data removed]",
      "text/plain": [
       "<Figure size 1224x288 with 3 Axes>"
      ]
     },
     "metadata": {},
     "output_type": "display_data"
    }
   ],
   "source": [
    "plot_trace(accepted)"
   ]
  },
  {
   "cell_type": "code",
   "execution_count": null,
   "metadata": {},
   "outputs": [],
   "source": []
  }
 ],
 "metadata": {
  "kernelspec": {
   "display_name": "Python 3",
   "language": "python",
   "name": "python3"
  },
  "language_info": {
   "codemirror_mode": {
    "name": "ipython",
    "version": 3
   },
   "file_extension": ".py",
   "mimetype": "text/x-python",
   "name": "python",
   "nbconvert_exporter": "python",
   "pygments_lexer": "ipython3",
   "version": "3.7.3"
  },
  "varInspector": {
   "cols": {
    "lenName": 16,
    "lenType": 16,
    "lenVar": 40
   },
   "kernels_config": {
    "python": {
     "delete_cmd_postfix": "",
     "delete_cmd_prefix": "del ",
     "library": "var_list.py",
     "varRefreshCmd": "print(var_dic_list())"
    },
    "r": {
     "delete_cmd_postfix": ") ",
     "delete_cmd_prefix": "rm(",
     "library": "var_list.r",
     "varRefreshCmd": "cat(var_dic_list()) "
    }
   },
   "types_to_exclude": [
    "module",
    "function",
    "builtin_function_or_method",
    "instance",
    "_Feature"
   ],
   "window_display": false
  }
 },
 "nbformat": 4,
 "nbformat_minor": 2
}
