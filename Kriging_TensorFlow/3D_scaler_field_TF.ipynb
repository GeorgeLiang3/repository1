{
 "cells": [
  {
   "cell_type": "code",
   "execution_count": 1,
   "metadata": {
    "ExecuteTime": {
     "end_time": "2020-04-04T20:14:07.593082Z",
     "start_time": "2020-04-04T20:14:04.638381Z"
    }
   },
   "outputs": [],
   "source": [
    "import sys, os\n",
    "sys.path.append(\"/Users/zhouji/Documents/github/gempy\")\n",
    "import theano\n",
    "import pandas as pd\n",
    "import gempy as gp\n",
    "import tensorflow as tf\n",
    "import numpy as np\n",
    "\n",
    "from gempy.core.tensor.tensorflow_graph import TFGraph"
   ]
  },
  {
   "cell_type": "code",
   "execution_count": 2,
   "metadata": {
    "ExecuteTime": {
     "end_time": "2020-04-04T20:14:08.086862Z",
     "start_time": "2020-04-04T20:14:07.594515Z"
    }
   },
   "outputs": [
    {
     "name": "stdout",
     "output_type": "stream",
     "text": [
      "Active grids: ['regular']\n"
     ]
    }
   ],
   "source": [
    "geo_data = gp.create_data([0,1000,0,1000,0,1000],resolution=[50,50,50], \n",
    "                        path_o = \"/Users/zhouji/Documents/github/gempy/notebooks/data/input_data/jan_models/model1_orientations.csv\",\n",
    "                        path_i = \"/Users/zhouji/Documents/github/gempy/notebooks/data/input_data/jan_models/model1_surface_points.csv\") "
   ]
  },
  {
   "cell_type": "code",
   "execution_count": 3,
   "metadata": {
    "ExecuteTime": {
     "end_time": "2020-04-04T20:14:08.232412Z",
     "start_time": "2020-04-04T20:14:08.089137Z"
    }
   },
   "outputs": [
    {
     "data": {
      "text/html": [
       "<style  type=\"text/css\" >\n",
       "    #T_d709d7c0_76b0_11ea_9d0a_acde48001122row0_col4 {\n",
       "            background-color:  #015482;\n",
       "        }    #T_d709d7c0_76b0_11ea_9d0a_acde48001122row1_col4 {\n",
       "            background-color:  #9f0052;\n",
       "        }    #T_d709d7c0_76b0_11ea_9d0a_acde48001122row2_col4 {\n",
       "            background-color:  #ffbe00;\n",
       "        }</style><table id=\"T_d709d7c0_76b0_11ea_9d0a_acde48001122\" ><thead>    <tr>        <th class=\"blank level0\" ></th>        <th class=\"col_heading level0 col0\" >surface</th>        <th class=\"col_heading level0 col1\" >series</th>        <th class=\"col_heading level0 col2\" >order_surfaces</th>        <th class=\"col_heading level0 col3\" >isActive</th>        <th class=\"col_heading level0 col4\" >color</th>        <th class=\"col_heading level0 col5\" >id</th>    </tr></thead><tbody>\n",
       "                <tr>\n",
       "                        <th id=\"T_d709d7c0_76b0_11ea_9d0a_acde48001122level0_row0\" class=\"row_heading level0 row0\" >0</th>\n",
       "                        <td id=\"T_d709d7c0_76b0_11ea_9d0a_acde48001122row0_col0\" class=\"data row0 col0\" >rock2</td>\n",
       "                        <td id=\"T_d709d7c0_76b0_11ea_9d0a_acde48001122row0_col1\" class=\"data row0 col1\" >Strat_Series</td>\n",
       "                        <td id=\"T_d709d7c0_76b0_11ea_9d0a_acde48001122row0_col2\" class=\"data row0 col2\" >1</td>\n",
       "                        <td id=\"T_d709d7c0_76b0_11ea_9d0a_acde48001122row0_col3\" class=\"data row0 col3\" >True</td>\n",
       "                        <td id=\"T_d709d7c0_76b0_11ea_9d0a_acde48001122row0_col4\" class=\"data row0 col4\" >#015482</td>\n",
       "                        <td id=\"T_d709d7c0_76b0_11ea_9d0a_acde48001122row0_col5\" class=\"data row0 col5\" >1</td>\n",
       "            </tr>\n",
       "            <tr>\n",
       "                        <th id=\"T_d709d7c0_76b0_11ea_9d0a_acde48001122level0_row1\" class=\"row_heading level0 row1\" >1</th>\n",
       "                        <td id=\"T_d709d7c0_76b0_11ea_9d0a_acde48001122row1_col0\" class=\"data row1 col0\" >rock1</td>\n",
       "                        <td id=\"T_d709d7c0_76b0_11ea_9d0a_acde48001122row1_col1\" class=\"data row1 col1\" >Strat_Series</td>\n",
       "                        <td id=\"T_d709d7c0_76b0_11ea_9d0a_acde48001122row1_col2\" class=\"data row1 col2\" >2</td>\n",
       "                        <td id=\"T_d709d7c0_76b0_11ea_9d0a_acde48001122row1_col3\" class=\"data row1 col3\" >True</td>\n",
       "                        <td id=\"T_d709d7c0_76b0_11ea_9d0a_acde48001122row1_col4\" class=\"data row1 col4\" >#9f0052</td>\n",
       "                        <td id=\"T_d709d7c0_76b0_11ea_9d0a_acde48001122row1_col5\" class=\"data row1 col5\" >2</td>\n",
       "            </tr>\n",
       "            <tr>\n",
       "                        <th id=\"T_d709d7c0_76b0_11ea_9d0a_acde48001122level0_row2\" class=\"row_heading level0 row2\" >2</th>\n",
       "                        <td id=\"T_d709d7c0_76b0_11ea_9d0a_acde48001122row2_col0\" class=\"data row2 col0\" >basement</td>\n",
       "                        <td id=\"T_d709d7c0_76b0_11ea_9d0a_acde48001122row2_col1\" class=\"data row2 col1\" >Basement_Series</td>\n",
       "                        <td id=\"T_d709d7c0_76b0_11ea_9d0a_acde48001122row2_col2\" class=\"data row2 col2\" >1</td>\n",
       "                        <td id=\"T_d709d7c0_76b0_11ea_9d0a_acde48001122row2_col3\" class=\"data row2 col3\" >True</td>\n",
       "                        <td id=\"T_d709d7c0_76b0_11ea_9d0a_acde48001122row2_col4\" class=\"data row2 col4\" >#ffbe00</td>\n",
       "                        <td id=\"T_d709d7c0_76b0_11ea_9d0a_acde48001122row2_col5\" class=\"data row2 col5\" >3</td>\n",
       "            </tr>\n",
       "    </tbody></table>"
      ],
      "text/plain": [
       "    surface           series  order_surfaces  isActive    color  id\n",
       "0     rock2     Strat_Series               1      True  #015482   1\n",
       "1     rock1     Strat_Series               2      True  #9f0052   2\n",
       "2  basement  Basement_Series               1      True  #ffbe00   3"
      ]
     },
     "execution_count": 3,
     "metadata": {},
     "output_type": "execute_result"
    }
   ],
   "source": [
    "gp.map_series_to_surfaces(geo_data, {\"Strat_Series\": ('rock2','rock1'),\"Basement_Series\":('basement')})"
   ]
  },
  {
   "cell_type": "code",
   "execution_count": 4,
   "metadata": {
    "ExecuteTime": {
     "end_time": "2020-04-04T20:14:08.235750Z",
     "start_time": "2020-04-04T20:14:08.233981Z"
    }
   },
   "outputs": [],
   "source": [
    "# gp.map_series_to_surfaces(geo_data, {\"Fault_Series\":'fault', \n",
    "# #                          \"Strat_Series\": ('rock2','rock1')})\n",
    "# geo_data.set_is_fault(['Fault_Series'])"
   ]
  },
  {
   "cell_type": "code",
   "execution_count": 5,
   "metadata": {
    "ExecuteTime": {
     "end_time": "2020-04-04T20:14:08.476086Z",
     "start_time": "2020-04-04T20:14:08.237209Z"
    }
   },
   "outputs": [
    {
     "data": {
      "text/plain": [
       "<gempy.plot.visualization_2d.PlotData2D at 0x14bcc2c90>"
      ]
     },
     "execution_count": 5,
     "metadata": {},
     "output_type": "execute_result"
    },
    {
     "data": {
      "image/png": "[encoded data removed]",
      "text/plain": [
       "<Figure size 432x432 with 1 Axes>"
      ]
     },
     "metadata": {
      "needs_background": "light"
     },
     "output_type": "display_data"
    }
   ],
   "source": [
    "%matplotlib inline\n",
    "gp.plot.plot_data(geo_data, direction='y')"
   ]
  },
  {
   "cell_type": "code",
   "execution_count": 6,
   "metadata": {
    "ExecuteTime": {
     "end_time": "2020-04-04T20:14:08.480826Z",
     "start_time": "2020-04-04T20:14:08.478015Z"
    }
   },
   "outputs": [],
   "source": [
    "interpolator = geo_data.interpolator"
   ]
  },
  {
   "cell_type": "code",
   "execution_count": 7,
   "metadata": {
    "ExecuteTime": {
     "end_time": "2020-04-04T20:14:08.487135Z",
     "start_time": "2020-04-04T20:14:08.482878Z"
    }
   },
   "outputs": [],
   "source": [
    "dips_position = interpolator.orientations.df[['X_r', 'Y_r', 'Z_r']].values\n",
    "dip_angles = interpolator.orientations.df[\"dip\"].values\n",
    "azimuth = interpolator.orientations.df[\"azimuth\"].values\n",
    "polarity = interpolator.orientations.df[\"polarity\"].values"
   ]
  },
  {
   "cell_type": "code",
   "execution_count": 8,
   "metadata": {
    "ExecuteTime": {
     "end_time": "2020-04-04T20:14:08.494625Z",
     "start_time": "2020-04-04T20:14:08.489378Z"
    }
   },
   "outputs": [],
   "source": [
    "dips_position = interpolator.orientations.df[['X_r', 'Y_r', 'Z_r']].values\n",
    "dip_angles = interpolator.orientations.df[\"dip\"].values\n",
    "azimuth = interpolator.orientations.df[\"azimuth\"].values\n",
    "polarity = interpolator.orientations.df[\"polarity\"].values\n",
    "surface_points_coord = interpolator.surface_points.df[['X_r', 'Y_r', 'Z_r']].values\n",
    "grid = interpolator.grid.values_r"
   ]
  },
  {
   "cell_type": "code",
   "execution_count": 9,
   "metadata": {
    "ExecuteTime": {
     "end_time": "2020-04-04T20:14:08.500021Z",
     "start_time": "2020-04-04T20:14:08.496345Z"
    }
   },
   "outputs": [
    {
     "data": {
      "text/plain": [
       "All the surface_points points at once"
      ]
     },
     "execution_count": 9,
     "metadata": {},
     "output_type": "execute_result"
    }
   ],
   "source": [
    "interpolator.theano_graph.surface_points_all"
   ]
  },
  {
   "cell_type": "code",
   "execution_count": 10,
   "metadata": {
    "ExecuteTime": {
     "end_time": "2020-04-04T20:14:08.505633Z",
     "start_time": "2020-04-04T20:14:08.501682Z"
    }
   },
   "outputs": [
    {
     "data": {
      "text/plain": [
       "[Position of the dips,\n",
       " Angle of every dip,\n",
       " Azimuth,\n",
       " Polarity,\n",
       " All the surface_points points at once,\n",
       " Full block matrix for faults or drift. We take 2 times len points for the faultdrift.]"
      ]
     },
     "execution_count": 10,
     "metadata": {},
     "output_type": "execute_result"
    }
   ],
   "source": [
    "interpolator.theano_graph.input_parameters_kriging\n"
   ]
  },
  {
   "cell_type": "code",
   "execution_count": 11,
   "metadata": {
    "ExecuteTime": {
     "end_time": "2020-04-04T20:14:27.079740Z",
     "start_time": "2020-04-04T20:14:08.507064Z"
    }
   },
   "outputs": [
    {
     "name": "stdout",
     "output_type": "stream",
     "text": [
      "Setting kriging parameters to their default values.\n",
      "Compiling theano function...\n",
      "Level of Optimization:  fast_run\n",
      "Device:  cpu\n",
      "Precision:  float64\n",
      "Number of faults:  0\n",
      "Compilation Done!\n",
      "Kriging values: \n",
      "                   values\n",
      "range            1732.05\n",
      "$C_o$            71428.6\n",
      "drift equations   [3, 3]\n",
      "[9 9]\n",
      "[9 9] drift equations\n",
      "              range         $C_o$ drift equations\n",
      "values  1732.050808  71428.571429          [9, 9]\n"
     ]
    }
   ],
   "source": [
    "interp_data = gp.set_interpolator(geo_data, compile_theano=True,\n",
    "                                        theano_optimizer='fast_run',\n",
    "                                 verbose= ['contribution_gradient_interface'])\n",
    "geo_data.modify_kriging_parameters('drift equations',[9,9])"
   ]
  },
  {
   "cell_type": "code",
   "execution_count": 12,
   "metadata": {
    "ExecuteTime": {
     "end_time": "2020-04-04T20:14:27.926104Z",
     "start_time": "2020-04-04T20:14:27.081604Z"
    }
   },
   "outputs": [
    {
     "name": "stdout",
     "output_type": "stream",
     "text": [
      "interface_gradient_contribution __str__ = [-0.04119989 -0.04262488 -0.04403718 ... -0.056252   -0.056252\n",
      " -0.056252  ]\n"
     ]
    },
    {
     "name": "stderr",
     "output_type": "stream",
     "text": [
      "/Users/zhouji/anaconda3/envs/gempy/lib/python3.7/site-packages/theano/tensor/slinalg.py:255: LinAlgWarning: Ill-conditioned matrix (rcond=1.54661e-38): result may not be accurate.\n",
      "  rval = scipy.linalg.solve(A, b)\n",
      "/Users/zhouji/Documents/github/gempy/gempy/core/solution.py:284: UserWarning: Attribute error. Using non masked marching cubesmarching_cubes_lewiner() got an unexpected keyword argument 'mask'.\n",
      "  warnings.warn('Attribute error. Using non masked marching cubes' + str(e)+'.')\n"
     ]
    }
   ],
   "source": [
    "sol = gp.compute_model(geo_data)"
   ]
  },
  {
   "cell_type": "code",
   "execution_count": 13,
   "metadata": {
    "ExecuteTime": {
     "end_time": "2020-04-04T20:14:27.930369Z",
     "start_time": "2020-04-04T20:14:27.927763Z"
    }
   },
   "outputs": [],
   "source": [
    "pd.set_option('display.max_columns', 500)"
   ]
  },
  {
   "cell_type": "code",
   "execution_count": 14,
   "metadata": {
    "ExecuteTime": {
     "end_time": "2020-04-04T20:14:27.939894Z",
     "start_time": "2020-04-04T20:14:27.932186Z"
    }
   },
   "outputs": [],
   "source": [
    "dips_position, dip_angles, azimuth, polarity,surface_points_coord,fault_drift, grid, values_properties = interpolator.get_python_input_block()[0:-3]"
   ]
  },
  {
   "cell_type": "code",
   "execution_count": 15,
   "metadata": {
    "ExecuteTime": {
     "end_time": "2020-04-04T20:14:27.944235Z",
     "start_time": "2020-04-04T20:14:27.941595Z"
    }
   },
   "outputs": [],
   "source": [
    "dtype = interpolator.additional_data.options.df.loc['values', 'dtype']"
   ]
  },
  {
   "cell_type": "code",
   "execution_count": 16,
   "metadata": {
    "ExecuteTime": {
     "end_time": "2020-04-04T20:14:27.975290Z",
     "start_time": "2020-04-04T20:14:27.945594Z"
    }
   },
   "outputs": [],
   "source": [
    "len_rest_form = interpolator.additional_data.structure_data.df.loc['values','len surfaces surface_points']-1\n",
    "Range = interpolator.additional_data.kriging_data.df.loc['values', 'range']\n",
    "C_o = interpolator.additional_data.kriging_data.df.loc['values', '$C_o$']\n",
    "rescale_factor = interpolator.additional_data.rescaling_data.df.loc['values', 'rescaling factor']\n",
    "nugget_effect_grad  = np.cast[dtype](np.tile(interpolator.orientations.df['smooth'], 3))\n",
    "nugget_effect_scalar = np.cast[interpolator.dtype](interpolator.surface_points.df['smooth'])\n",
    "\n",
    "TFG = TFGraph(dips_position, dip_angles, azimuth,\n",
    "              polarity,surface_points_coord,fault_drift,\n",
    "              grid, values_properties,len_rest_form,Range,\n",
    "              C_o,nugget_effect_scalar,nugget_effect_grad,\n",
    "              rescale_factor)\n",
    "\n"
   ]
  },
  {
   "cell_type": "code",
   "execution_count": 17,
   "metadata": {
    "ExecuteTime": {
     "end_time": "2020-04-04T20:14:30.961952Z",
     "start_time": "2020-04-04T20:14:27.976464Z"
    }
   },
   "outputs": [],
   "source": [
    "grid_val= TFG.x_to_interpolate(grid)\n",
    "weights = TFG.solve_kriging()"
   ]
  },
  {
   "cell_type": "code",
   "execution_count": null,
   "metadata": {},
   "outputs": [],
   "source": []
  }
 ],
 "metadata": {
  "kernelspec": {
   "display_name": "Python [conda env:gempy] *",
   "language": "python",
   "name": "conda-env-gempy-py"
  },
  "language_info": {
   "codemirror_mode": {
    "name": "ipython",
    "version": 3
   },
   "file_extension": ".py",
   "mimetype": "text/x-python",
   "name": "python",
   "nbconvert_exporter": "python",
   "pygments_lexer": "ipython3",
   "version": "3.7.7"
  },
  "varInspector": {
   "cols": {
    "lenName": 16,
    "lenType": 16,
    "lenVar": 40
   },
   "kernels_config": {
    "python": {
     "delete_cmd_postfix": "",
     "delete_cmd_prefix": "del ",
     "library": "var_list.py",
     "varRefreshCmd": "print(var_dic_list())"
    },
    "r": {
     "delete_cmd_postfix": ") ",
     "delete_cmd_prefix": "rm(",
     "library": "var_list.r",
     "varRefreshCmd": "cat(var_dic_list()) "
    }
   },
   "types_to_exclude": [
    "module",
    "function",
    "builtin_function_or_method",
    "instance",
    "_Feature"
   ],
   "window_display": false
  }
 },
 "nbformat": 4,
 "nbformat_minor": 4
}
