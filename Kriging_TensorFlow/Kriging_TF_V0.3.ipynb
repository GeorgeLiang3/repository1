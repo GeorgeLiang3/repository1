{
 "cells": [
  {
   "cell_type": "code",
   "execution_count": 1,
   "metadata": {
    "ExecuteTime": {
     "end_time": "2020-02-27T19:28:52.680998Z",
     "start_time": "2020-02-27T19:28:49.680968Z"
    }
   },
   "outputs": [],
   "source": [
    "import tensorflow as tf\n",
    "import numpy as np\n",
    "import matplotlib.pyplot as plt\n",
    "%matplotlib inline"
   ]
  },
  {
   "cell_type": "code",
   "execution_count": 2,
   "metadata": {
    "ExecuteTime": {
     "end_time": "2020-02-27T19:28:52.690661Z",
     "start_time": "2020-02-27T19:28:52.688372Z"
    }
   },
   "outputs": [],
   "source": [
    "# import sys\n",
    "# sys.path.insert(0, '/Users/zhouji/Documents/repository2')\n",
    "# import TF_Kriging.Kriging_TF_V_0_1 as KrigModel"
   ]
  },
  {
   "cell_type": "code",
   "execution_count": 3,
   "metadata": {
    "ExecuteTime": {
     "end_time": "2020-02-27T19:28:52.701845Z",
     "start_time": "2020-02-27T19:28:52.697656Z"
    }
   },
   "outputs": [],
   "source": [
    "def constant32(k):\n",
    "    return tf.constant(k,dtype = tf.float32)"
   ]
  },
  {
   "cell_type": "code",
   "execution_count": 4,
   "metadata": {
    "ExecuteTime": {
     "end_time": "2020-02-27T19:28:52.729533Z",
     "start_time": "2020-02-27T19:28:52.709681Z"
    }
   },
   "outputs": [],
   "source": [
    "G_1 = constant32([[0., 1.]])\n",
    "\n",
    "G_1_x = 1\n",
    "G_1_y = 1\n",
    "\n",
    "G_1_tiled = tf.tile(G_1,[2,1])"
   ]
  },
  {
   "cell_type": "code",
   "execution_count": 5,
   "metadata": {
    "ExecuteTime": {
     "end_time": "2020-02-27T19:28:53.223943Z",
     "start_time": "2020-02-27T19:28:53.219034Z"
    }
   },
   "outputs": [],
   "source": [
    "@tf.function\n",
    "def squared_euclidean_distance(x_1,x_2):\n",
    "    sqd = tf.sqrt(tf.reshape(tf.reduce_sum(x_1**2,1),shape =(x_1.shape[0],1))+\\\n",
    "    tf.reshape(tf.reduce_sum(x_2**2,1),shape =(1,x_2.shape[0]))-\\\n",
    "    2*tf.tensordot(x_1,tf.transpose(x_2),1))\n",
    "    return sqd"
   ]
  },
  {
   "cell_type": "code",
   "execution_count": 6,
   "metadata": {
    "ExecuteTime": {
     "end_time": "2020-02-27T19:28:53.901632Z",
     "start_time": "2020-02-27T19:28:53.713541Z"
    }
   },
   "outputs": [],
   "source": [
    "sq =  squared_euclidean_distance(G_1_tiled,G_1_tiled)"
   ]
  },
  {
   "cell_type": "code",
   "execution_count": 7,
   "metadata": {
    "ExecuteTime": {
     "end_time": "2020-02-27T19:28:54.243254Z",
     "start_time": "2020-02-27T19:28:54.237597Z"
    }
   },
   "outputs": [
    {
     "data": {
      "text/plain": [
       "<tf.Tensor: shape=(2, 2), dtype=float32, numpy=\n",
       "array([[0., 0.],\n",
       "       [0., 0.]], dtype=float32)>"
      ]
     },
     "execution_count": 7,
     "metadata": {},
     "output_type": "execute_result"
    }
   ],
   "source": [
    "sq"
   ]
  },
  {
   "cell_type": "code",
   "execution_count": 8,
   "metadata": {
    "ExecuteTime": {
     "end_time": "2020-02-27T19:28:54.775789Z",
     "start_time": "2020-02-27T19:28:54.769579Z"
    }
   },
   "outputs": [],
   "source": [
    "#Cartesian distances\n",
    "def cartesian_dist(x_1,x_2):\n",
    "    return tf.concat([\n",
    "        tf.tile(x_1[:,0] - tf.reshape(x_2[:,0],[x_2.shape[0],1]),[1,2]),\n",
    "        tf.tile(x_1[:,1] - tf.reshape(x_2[:,1],[x_2.shape[0],1]),[1,2])],axis = 0) \n",
    "h_u = cartesian_dist(G_1,G_1)"
   ]
  },
  {
   "cell_type": "code",
   "execution_count": 9,
   "metadata": {
    "ExecuteTime": {
     "end_time": "2020-02-27T19:28:55.288507Z",
     "start_time": "2020-02-27T19:28:55.285693Z"
    }
   },
   "outputs": [],
   "source": [
    "dist_tiled = squared_euclidean_distance(G_1_tiled,G_1_tiled)"
   ]
  },
  {
   "cell_type": "code",
   "execution_count": 10,
   "metadata": {
    "ExecuteTime": {
     "end_time": "2020-02-27T19:28:55.880626Z",
     "start_time": "2020-02-27T19:28:55.876029Z"
    }
   },
   "outputs": [
    {
     "data": {
      "text/plain": [
       "<tf.Tensor: shape=(2, 2), dtype=float32, numpy=\n",
       "array([[0., 0.],\n",
       "       [0., 0.]], dtype=float32)>"
      ]
     },
     "execution_count": 10,
     "metadata": {},
     "output_type": "execute_result"
    }
   ],
   "source": [
    "h_u"
   ]
  },
  {
   "cell_type": "code",
   "execution_count": 11,
   "metadata": {
    "ExecuteTime": {
     "end_time": "2020-02-27T19:28:56.320535Z",
     "start_time": "2020-02-27T19:28:56.317754Z"
    }
   },
   "outputs": [],
   "source": [
    "h_v = tf.transpose(h_u)"
   ]
  },
  {
   "cell_type": "code",
   "execution_count": 12,
   "metadata": {
    "ExecuteTime": {
     "end_time": "2020-02-27T19:28:56.933055Z",
     "start_time": "2020-02-27T19:28:56.927558Z"
    }
   },
   "outputs": [],
   "source": [
    "a = tf.concat([tf.ones([G_1.shape[0],G_1.shape[0]]),tf.zeros([G_1.shape[0],G_1.shape[0]])],axis = 1)\n",
    "b = tf.concat([tf.zeros([G_1.shape[0],G_1.shape[0]]),tf.ones([G_1.shape[0],G_1.shape[0]])],axis = 1)\n",
    "\n",
    "perpendicularity_matrix = tf.concat([a,b],axis = 0)"
   ]
  },
  {
   "cell_type": "code",
   "execution_count": 13,
   "metadata": {
    "ExecuteTime": {
     "end_time": "2020-02-27T19:28:57.448039Z",
     "start_time": "2020-02-27T19:28:57.445517Z"
    }
   },
   "outputs": [],
   "source": [
    "a_T = 5\n",
    "c_o_T = a_T**2/14/3"
   ]
  },
  {
   "cell_type": "code",
   "execution_count": 14,
   "metadata": {
    "ExecuteTime": {
     "end_time": "2020-02-27T19:28:57.935122Z",
     "start_time": "2020-02-27T19:28:57.929715Z"
    }
   },
   "outputs": [],
   "source": [
    "def cov_gradients(dist_tiled):\n",
    "    C_G = (tf.math.divide_no_nan(h_u*h_v , dist_tiled**2)*\\\n",
    "    (-c_o_T*((-14/a_T**2)+105/4*dist_tiled/a_T**3 - 35/2 * dist_tiled**3 / a_T **5 + 21 /4 * dist_tiled**5/a_T**7)+\n",
    "        c_o_T * 7 * (9 * dist_tiled ** 5 - 20 * a_T ** 2 * dist_tiled ** 3 +\n",
    "                                       15 * a_T ** 4 * dist_tiled - 4 * a_T ** 5) / (2 * a_T ** 7)-\n",
    "        perpendicularity_matrix * c_o_T * ((-14 / a_T ** 2) + 105 / 4 * dist_tiled / a_T ** 3 -\n",
    "                                   35 / 2 * dist_tiled ** 3 / a_T ** 5 +\n",
    "                                   21 / 4 * dist_tiled ** 5 / a_T ** 7))+\n",
    "        1/3*tf.eye(dist_tiled.shape[0])) ## adding nugget effect\n",
    "    return C_G"
   ]
  },
  {
   "cell_type": "code",
   "execution_count": 15,
   "metadata": {
    "ExecuteTime": {
     "end_time": "2020-02-27T19:28:58.448988Z",
     "start_time": "2020-02-27T19:28:58.445473Z"
    }
   },
   "outputs": [],
   "source": [
    "dist_tiled = dist_tiled + tf.eye(dist_tiled.shape[0])"
   ]
  },
  {
   "cell_type": "code",
   "execution_count": 16,
   "metadata": {
    "ExecuteTime": {
     "end_time": "2020-02-27T19:28:58.832438Z",
     "start_time": "2020-02-27T19:28:58.827213Z"
    }
   },
   "outputs": [],
   "source": [
    "C_G = cov_gradients(dist_tiled)"
   ]
  },
  {
   "cell_type": "code",
   "execution_count": 17,
   "metadata": {
    "ExecuteTime": {
     "end_time": "2020-02-27T19:28:59.253884Z",
     "start_time": "2020-02-27T19:28:59.249566Z"
    }
   },
   "outputs": [
    {
     "data": {
      "text/plain": [
       "<tf.Tensor: shape=(2, 2), dtype=float32, numpy=\n",
       "array([[0.33333334, 0.        ],\n",
       "       [0.        , 0.33333334]], dtype=float32)>"
      ]
     },
     "execution_count": 17,
     "metadata": {},
     "output_type": "execute_result"
    }
   ],
   "source": [
    "C_G"
   ]
  },
  {
   "cell_type": "markdown",
   "metadata": {},
   "source": [
    "### covariance of interface points"
   ]
  },
  {
   "cell_type": "code",
   "execution_count": 18,
   "metadata": {
    "ExecuteTime": {
     "end_time": "2020-02-27T19:29:01.245414Z",
     "start_time": "2020-02-27T19:29:01.241349Z"
    }
   },
   "outputs": [],
   "source": [
    "#TODO : try ragged tensors to store the data\n",
    "layer1 = constant32([[0,0],[2,0]])\n",
    "layer2 = constant32([[0,2],[2,2]])\n",
    "\n",
    "layer1 = constant32([[0,0],[2,0],[3,0],[4,0]])\n",
    "layer2 = constant32([[0,2],[2,2],[3,3]])\n",
    "\n",
    "number_of_layer = 2"
   ]
  },
  {
   "cell_type": "code",
   "execution_count": 19,
   "metadata": {
    "ExecuteTime": {
     "end_time": "2020-02-26T10:19:26.382448Z",
     "start_time": "2020-02-26T10:19:26.367717Z"
    }
   },
   "outputs": [
    {
     "data": {
      "text/plain": [
       "<tf.RaggedTensor [[[0, 0]], [[0, 2]]]>"
      ]
     },
     "execution_count": 19,
     "metadata": {},
     "output_type": "execute_result"
    }
   ],
   "source": [
    "layer = tf.ragged.constant([[[0,0],[2,0]],[[0,2],[2,2],[3,3]]])\n",
    "layer[0].to_list()\n",
    "layer[:,:1]"
   ]
  },
  {
   "cell_type": "code",
   "execution_count": 20,
   "metadata": {
    "ExecuteTime": {
     "end_time": "2020-02-26T10:19:26.404500Z",
     "start_time": "2020-02-26T10:19:26.401710Z"
    }
   },
   "outputs": [],
   "source": [
    "number_of_points_per_surface = np.array([layer1.shape[0],layer2.shape[0]])"
   ]
  },
  {
   "cell_type": "code",
   "execution_count": 21,
   "metadata": {
    "ExecuteTime": {
     "end_time": "2020-02-26T10:19:26.435232Z",
     "start_time": "2020-02-26T10:19:26.429937Z"
    }
   },
   "outputs": [],
   "source": [
    "def set_rest_ref_matrix(number_of_points_per_surface):\n",
    "    ref_layer_points = tf.repeat(tf.stack([layer1[-1],layer2[-1]],axis = 0),repeats=number_of_points_per_surface-1,axis = 0)\n",
    "    rest_layer_points = tf.concat([layer1[0:-1],layer2[0:-1]],axis = 0)\n",
    "    return ref_layer_points,rest_layer_points"
   ]
  },
  {
   "cell_type": "code",
   "execution_count": 22,
   "metadata": {
    "ExecuteTime": {
     "end_time": "2020-02-26T10:19:27.256855Z",
     "start_time": "2020-02-26T10:19:27.246085Z"
    }
   },
   "outputs": [],
   "source": [
    "ref_layer_points,rest_layer_points = set_rest_ref_matrix(number_of_points_per_surface)"
   ]
  },
  {
   "cell_type": "code",
   "execution_count": 23,
   "metadata": {
    "ExecuteTime": {
     "end_time": "2020-02-26T10:19:27.580693Z",
     "start_time": "2020-02-26T10:19:27.550214Z"
    }
   },
   "outputs": [],
   "source": [
    "sed_rest_rest = squared_euclidean_distance(rest_layer_points,rest_layer_points)\n",
    "sed_ref_rest = squared_euclidean_distance(ref_layer_points,rest_layer_points)\n",
    "sed_rest_ref = squared_euclidean_distance(rest_layer_points,ref_layer_points)\n",
    "sed_ref_ref = squared_euclidean_distance(ref_layer_points,ref_layer_points)"
   ]
  },
  {
   "cell_type": "code",
   "execution_count": 24,
   "metadata": {
    "ExecuteTime": {
     "end_time": "2020-02-26T10:19:27.821965Z",
     "start_time": "2020-02-26T10:19:27.815095Z"
    }
   },
   "outputs": [],
   "source": [
    "def cov_interface(ref_layer_points,rest_layer_points):\n",
    "    sed_rest_rest = squared_euclidean_distance(rest_layer_points,rest_layer_points)\n",
    "    sed_ref_rest = squared_euclidean_distance(ref_layer_points,rest_layer_points)\n",
    "    sed_rest_ref = squared_euclidean_distance(rest_layer_points,ref_layer_points)\n",
    "    sed_ref_ref = squared_euclidean_distance(ref_layer_points,ref_layer_points)\n",
    "    \n",
    "    C_I = c_o_T*((1 - 7 * (sed_rest_rest / a_T) ** 2 +\\\n",
    "                 35 / 4 * (sed_rest_rest / a_T) ** 3 -\\\n",
    "                 7 / 2 * (sed_rest_rest / a_T) ** 5 +\\\n",
    "                 3 / 4 * (sed_rest_rest / a_T) ** 7) -\\\n",
    "                 (1 - 7 * (sed_ref_rest / a_T) ** 2 +\\\n",
    "                  35 / 4 * (sed_ref_rest / a_T) ** 3 -\\\n",
    "                  7 / 2 * (sed_ref_rest / a_T) ** 5 +\\\n",
    "                  3 / 4 * (sed_ref_rest / a_T) ** 7) -\\\n",
    "                 (1 - 7 * (sed_rest_ref / a_T) ** 2 +\\\n",
    "                  35 / 4 * (sed_rest_ref / a_T) ** 3 -\\\n",
    "                  7 / 2 * (sed_rest_ref / a_T) ** 5 +\\\n",
    "                  3 / 4 * (sed_rest_ref / a_T) ** 7) +\\\n",
    "                 (1 - 7 * (sed_ref_ref / a_T) ** 2 +\\\n",
    "                  35 / 4 * (sed_ref_ref / a_T) ** 3 -\\\n",
    "                  7 / 2 * (sed_ref_ref / a_T) ** 5 +\\\n",
    "                  3 / 4 * (sed_ref_ref / a_T) ** 7))\n",
    "    \n",
    "    return C_I"
   ]
  },
  {
   "cell_type": "code",
   "execution_count": 25,
   "metadata": {
    "ExecuteTime": {
     "end_time": "2020-02-26T10:19:28.355419Z",
     "start_time": "2020-02-26T10:19:28.349528Z"
    }
   },
   "outputs": [],
   "source": [
    "C_I = cov_interface(ref_layer_points,rest_layer_points)"
   ]
  },
  {
   "cell_type": "code",
   "execution_count": 26,
   "metadata": {
    "ExecuteTime": {
     "end_time": "2020-02-26T10:19:28.652603Z",
     "start_time": "2020-02-26T10:19:28.648410Z"
    }
   },
   "outputs": [
    {
     "data": {
      "text/plain": [
       "<tf.Tensor: shape=(5, 5), dtype=float32, numpy=\n",
       "array([[1.1780878 , 0.5890439 , 0.19020197, 0.29198828, 0.0512414 ],\n",
       "       [0.5890439 , 0.7078704 , 0.3539352 , 0.09175344, 0.14899345],\n",
       "       [0.190202  , 0.3539352 , 0.25132185, 0.0027657 , 0.08247576],\n",
       "       [0.29198828, 0.09175344, 0.0027657 , 1.0835989 , 0.40705296],\n",
       "       [0.0512414 , 0.14899345, 0.08247576, 0.40705296, 0.43837753]],\n",
       "      dtype=float32)>"
      ]
     },
     "execution_count": 26,
     "metadata": {},
     "output_type": "execute_result"
    }
   ],
   "source": [
    "C_I"
   ]
  },
  {
   "cell_type": "markdown",
   "metadata": {},
   "source": [
    "### Covariance of interface points and gradients"
   ]
  },
  {
   "cell_type": "code",
   "execution_count": 27,
   "metadata": {
    "ExecuteTime": {
     "end_time": "2020-02-26T10:19:29.342061Z",
     "start_time": "2020-02-26T10:19:29.312823Z"
    }
   },
   "outputs": [],
   "source": [
    "sed_dips_rest = squared_euclidean_distance(G_1_tiled,rest_layer_points)\n",
    "sed_dips_ref = squared_euclidean_distance(G_1_tiled,ref_layer_points)"
   ]
  },
  {
   "cell_type": "code",
   "execution_count": 28,
   "metadata": {
    "ExecuteTime": {
     "end_time": "2020-02-26T10:19:29.769646Z",
     "start_time": "2020-02-26T10:19:29.763128Z"
    }
   },
   "outputs": [],
   "source": [
    "## Cartesian distance between dips and interface points\n",
    "#Cartesian distances\n",
    "def cartesian_dist_no_tile(x_1,x_2):\n",
    "    return tf.concat([\n",
    "        tf.transpose((x_1[:,0] - tf.reshape(x_2[:,0],[x_2.shape[0],1]))),\n",
    "        tf.transpose((x_1[:,1] - tf.reshape(x_2[:,1],[x_2.shape[0],1])))],axis = 0) \n",
    "\n",
    "hu_rest = cartesian_dist_no_tile(G_1,rest_layer_points)\n",
    "hu_ref = cartesian_dist_no_tile(G_1,ref_layer_points)"
   ]
  },
  {
   "cell_type": "code",
   "execution_count": 29,
   "metadata": {
    "ExecuteTime": {
     "end_time": "2020-02-26T10:19:30.035132Z",
     "start_time": "2020-02-26T10:19:30.030967Z"
    }
   },
   "outputs": [],
   "source": [
    "def cov_interface_gradients(hu_rest,hu_ref):\n",
    "    C_GI = (hu_rest*(- c_o_T * ((-14 / a_T ** 2) + 105 / 4 * sed_dips_rest / a_T ** 3 -\n",
    "                                  35 / 2 * sed_dips_rest ** 3 / a_T ** 5 +\n",
    "                                  21 / 4 * sed_dips_rest ** 5 / a_T ** 7))-\\\n",
    "    hu_ref*(-c_o_T * ((-14 / a_T ** 2) + 105 / 4 * sed_dips_ref / a_T ** 3 -\n",
    "                                  35 / 2 * sed_dips_ref ** 3 / a_T ** 5 +\n",
    "                                  21 / 4 * sed_dips_ref ** 5 / a_T ** 7)))\n",
    "    return C_GI"
   ]
  },
  {
   "cell_type": "code",
   "execution_count": 30,
   "metadata": {
    "ExecuteTime": {
     "end_time": "2020-02-26T10:19:30.441065Z",
     "start_time": "2020-02-26T10:19:30.437618Z"
    }
   },
   "outputs": [],
   "source": [
    "C_GI = cov_interface_gradients(hu_rest,hu_ref)"
   ]
  },
  {
   "cell_type": "code",
   "execution_count": 31,
   "metadata": {
    "ExecuteTime": {
     "end_time": "2020-02-26T10:19:30.671452Z",
     "start_time": "2020-02-26T10:19:30.669060Z"
    }
   },
   "outputs": [],
   "source": [
    "C_IG = tf.transpose(C_GI)"
   ]
  },
  {
   "cell_type": "markdown",
   "metadata": {},
   "source": [
    "\\begin{equation}\n",
    "\\left(\\begin{array}{ll}\n",
    "{K} & {U^{T}} \\\\\n",
    "{U} & {0}\n",
    "\\end{array}\\right)\n",
    "\\end{equation}"
   ]
  },
  {
   "cell_type": "markdown",
   "metadata": {},
   "source": [
    "### Kriging Matrix"
   ]
  },
  {
   "cell_type": "code",
   "execution_count": 32,
   "metadata": {
    "ExecuteTime": {
     "end_time": "2020-02-26T10:19:31.652997Z",
     "start_time": "2020-02-26T10:19:31.649611Z"
    }
   },
   "outputs": [],
   "source": [
    "K = tf.concat([tf.concat([C_G,C_GI],axis = 1),\n",
    "tf.concat([C_IG,C_I],axis = 1)],axis = 0)\n"
   ]
  },
  {
   "cell_type": "code",
   "execution_count": 33,
   "metadata": {
    "ExecuteTime": {
     "end_time": "2020-02-26T10:19:31.956852Z",
     "start_time": "2020-02-26T10:19:31.939842Z"
    }
   },
   "outputs": [
    {
     "data": {
      "text/html": [
       "<div>\n",
       "<style scoped>\n",
       "    .dataframe tbody tr th:only-of-type {\n",
       "        vertical-align: middle;\n",
       "    }\n",
       "\n",
       "    .dataframe tbody tr th {\n",
       "        vertical-align: top;\n",
       "    }\n",
       "\n",
       "    .dataframe thead th {\n",
       "        text-align: right;\n",
       "    }\n",
       "</style>\n",
       "<table border=\"1\" class=\"dataframe\">\n",
       "  <thead>\n",
       "    <tr style=\"text-align: right;\">\n",
       "      <th></th>\n",
       "      <th>0</th>\n",
       "      <th>1</th>\n",
       "      <th>2</th>\n",
       "      <th>3</th>\n",
       "      <th>4</th>\n",
       "      <th>5</th>\n",
       "      <th>6</th>\n",
       "    </tr>\n",
       "  </thead>\n",
       "  <tbody>\n",
       "    <tr>\n",
       "      <th>0</th>\n",
       "      <td>0.333333</td>\n",
       "      <td>0.000000</td>\n",
       "      <td>0.015699</td>\n",
       "      <td>-0.162014</td>\n",
       "      <td>-0.076728</td>\n",
       "      <td>0.043519</td>\n",
       "      <td>-0.134194</td>\n",
       "    </tr>\n",
       "    <tr>\n",
       "      <th>1</th>\n",
       "      <td>0.000000</td>\n",
       "      <td>0.333333</td>\n",
       "      <td>0.207702</td>\n",
       "      <td>0.084932</td>\n",
       "      <td>0.026884</td>\n",
       "      <td>-0.182614</td>\n",
       "      <td>-0.059844</td>\n",
       "    </tr>\n",
       "    <tr>\n",
       "      <th>2</th>\n",
       "      <td>0.015699</td>\n",
       "      <td>0.207702</td>\n",
       "      <td>1.178088</td>\n",
       "      <td>0.589044</td>\n",
       "      <td>0.190202</td>\n",
       "      <td>0.291988</td>\n",
       "      <td>0.051241</td>\n",
       "    </tr>\n",
       "    <tr>\n",
       "      <th>3</th>\n",
       "      <td>-0.162014</td>\n",
       "      <td>0.084932</td>\n",
       "      <td>0.589044</td>\n",
       "      <td>0.707870</td>\n",
       "      <td>0.353935</td>\n",
       "      <td>0.091753</td>\n",
       "      <td>0.148993</td>\n",
       "    </tr>\n",
       "    <tr>\n",
       "      <th>4</th>\n",
       "      <td>-0.076728</td>\n",
       "      <td>0.026884</td>\n",
       "      <td>0.190202</td>\n",
       "      <td>0.353935</td>\n",
       "      <td>0.251322</td>\n",
       "      <td>0.002766</td>\n",
       "      <td>0.082476</td>\n",
       "    </tr>\n",
       "    <tr>\n",
       "      <th>5</th>\n",
       "      <td>0.043519</td>\n",
       "      <td>-0.182614</td>\n",
       "      <td>0.291988</td>\n",
       "      <td>0.091753</td>\n",
       "      <td>0.002766</td>\n",
       "      <td>1.083599</td>\n",
       "      <td>0.407053</td>\n",
       "    </tr>\n",
       "    <tr>\n",
       "      <th>6</th>\n",
       "      <td>-0.134194</td>\n",
       "      <td>-0.059844</td>\n",
       "      <td>0.051241</td>\n",
       "      <td>0.148993</td>\n",
       "      <td>0.082476</td>\n",
       "      <td>0.407053</td>\n",
       "      <td>0.438378</td>\n",
       "    </tr>\n",
       "  </tbody>\n",
       "</table>\n",
       "</div>"
      ],
      "text/plain": [
       "          0         1         2         3         4         5         6\n",
       "0  0.333333  0.000000  0.015699 -0.162014 -0.076728  0.043519 -0.134194\n",
       "1  0.000000  0.333333  0.207702  0.084932  0.026884 -0.182614 -0.059844\n",
       "2  0.015699  0.207702  1.178088  0.589044  0.190202  0.291988  0.051241\n",
       "3 -0.162014  0.084932  0.589044  0.707870  0.353935  0.091753  0.148993\n",
       "4 -0.076728  0.026884  0.190202  0.353935  0.251322  0.002766  0.082476\n",
       "5  0.043519 -0.182614  0.291988  0.091753  0.002766  1.083599  0.407053\n",
       "6 -0.134194 -0.059844  0.051241  0.148993  0.082476  0.407053  0.438378"
      ]
     },
     "execution_count": 33,
     "metadata": {},
     "output_type": "execute_result"
    }
   ],
   "source": [
    "import pandas as pd\n",
    "pd.DataFrame(K.numpy())"
   ]
  },
  {
   "cell_type": "code",
   "execution_count": 34,
   "metadata": {
    "ExecuteTime": {
     "end_time": "2020-02-26T10:19:32.200466Z",
     "start_time": "2020-02-26T10:19:32.193672Z"
    }
   },
   "outputs": [
    {
     "data": {
      "text/plain": [
       "<tf.Tensor: shape=(7, 1), dtype=float32, numpy=\n",
       "array([[1.],\n",
       "       [1.],\n",
       "       [0.],\n",
       "       [0.],\n",
       "       [0.],\n",
       "       [0.],\n",
       "       [0.]], dtype=float32)>"
      ]
     },
     "execution_count": 34,
     "metadata": {},
     "output_type": "execute_result"
    }
   ],
   "source": [
    "b = tf.concat([[G_1_x,G_1_y],tf.zeros(K.shape[0]-G_1.shape[0]*2)],axis = 0)\n",
    "b = tf.reshape(b,shape = [b.shape[0],1])\n",
    "b"
   ]
  },
  {
   "cell_type": "code",
   "execution_count": 35,
   "metadata": {
    "ExecuteTime": {
     "end_time": "2020-02-25T11:26:51.653955Z",
     "start_time": "2020-02-25T11:26:51.651553Z"
    }
   },
   "outputs": [],
   "source": [
    "w = tf.linalg.solve(K,b)"
   ]
  },
  {
   "cell_type": "code",
   "execution_count": 36,
   "metadata": {
    "ExecuteTime": {
     "end_time": "2020-02-25T11:26:51.658858Z",
     "start_time": "2020-02-25T11:26:51.655223Z"
    }
   },
   "outputs": [
    {
     "data": {
      "text/plain": [
       "<tf.Tensor: shape=(7, 1), dtype=float32, numpy=\n",
       "array([[ 4.5691385],\n",
       "       [ 4.145193 ],\n",
       "       [-2.1720994],\n",
       "       [ 3.2282546],\n",
       "       [-2.3534815],\n",
       "       [ 0.3769913],\n",
       "       [ 1.2139671]], dtype=float32)>"
      ]
     },
     "execution_count": 36,
     "metadata": {},
     "output_type": "execute_result"
    }
   ],
   "source": [
    "w"
   ]
  },
  {
   "cell_type": "markdown",
   "metadata": {},
   "source": [
    "### Interpolation without Universal term"
   ]
  },
  {
   "cell_type": "code",
   "execution_count": 37,
   "metadata": {
    "ExecuteTime": {
     "end_time": "2020-02-25T11:26:51.665030Z",
     "start_time": "2020-02-25T11:26:51.660200Z"
    }
   },
   "outputs": [],
   "source": [
    "## create grid\n",
    "\n",
    "xx = tf.range(-.5,4.5,0.1)\n",
    "yy = tf.range(-.5,4.5,0.1)\n",
    "XX,YY = tf.meshgrid(xx,yy)\n",
    "X = tf.transpose(tf.reshape(XX,[-1]))\n",
    "Y = tf.transpose(tf.reshape(YY,[-1]))\n",
    "\n",
    "grid = tf.stack([X,Y],axis = 1)"
   ]
  },
  {
   "cell_type": "code",
   "execution_count": 38,
   "metadata": {
    "ExecuteTime": {
     "end_time": "2020-02-25T11:26:51.669155Z",
     "start_time": "2020-02-25T11:26:51.666140Z"
    }
   },
   "outputs": [],
   "source": [
    "hu_Simpoints = cartesian_dist_no_tile(G_1,grid)"
   ]
  },
  {
   "cell_type": "code",
   "execution_count": 39,
   "metadata": {
    "ExecuteTime": {
     "end_time": "2020-02-25T11:26:51.695906Z",
     "start_time": "2020-02-25T11:26:51.670475Z"
    }
   },
   "outputs": [],
   "source": [
    "sed_dips_SimPoint = squared_euclidean_distance(G_1_tiled,grid)"
   ]
  },
  {
   "cell_type": "code",
   "execution_count": 40,
   "metadata": {
    "ExecuteTime": {
     "end_time": "2020-02-25T11:26:51.702314Z",
     "start_time": "2020-02-25T11:26:51.697227Z"
    }
   },
   "outputs": [],
   "source": [
    "# gradient contribution\n",
    "sigma_0_grad = w[:G_1.shape[0]*2] * (-hu_Simpoints*(- c_o_T * ((-14 / a_T ** 2) + 105 / 4 * sed_dips_SimPoint / a_T ** 3 -\n",
    "                               35 / 2 * sed_dips_SimPoint ** 3 / a_T ** 5 +\n",
    "                               21 / 4 * sed_dips_SimPoint ** 5 / a_T ** 7)))\n",
    "\n",
    "sigma_0_grad = tf.reduce_sum(sigma_0_grad,axis=0)"
   ]
  },
  {
   "cell_type": "code",
   "execution_count": 41,
   "metadata": {
    "ExecuteTime": {
     "end_time": "2020-02-25T11:26:51.732745Z",
     "start_time": "2020-02-25T11:26:51.703557Z"
    }
   },
   "outputs": [],
   "source": [
    "sed_rest_SimPoint = squared_euclidean_distance(rest_layer_points,grid)\n",
    "sed_ref_SimPoint = squared_euclidean_distance(ref_layer_points,grid)"
   ]
  },
  {
   "cell_type": "code",
   "execution_count": 42,
   "metadata": {
    "ExecuteTime": {
     "end_time": "2020-02-25T11:26:51.742347Z",
     "start_time": "2020-02-25T11:26:51.734652Z"
    }
   },
   "outputs": [],
   "source": [
    "# surface point contribution\n",
    "sigma_0_interf = -w[G_1.shape[0]*2:]*(c_o_T  * ((1 - 7 * (sed_rest_SimPoint / a_T) ** 2 +\n",
    "             35 / 4 * (sed_rest_SimPoint / a_T) ** 3 -\n",
    "             7 / 2 * (sed_rest_SimPoint / a_T) ** 5 +\n",
    "             3 / 4 * (sed_rest_SimPoint / a_T) ** 7) -\n",
    "             (1 - 7 * (sed_ref_SimPoint / a_T) ** 2 +\n",
    "              35 / 4 * (sed_ref_SimPoint / a_T) ** 3 -\n",
    "              7 / 2 * (sed_ref_SimPoint / a_T) ** 5 +\n",
    "              3 / 4 * (sed_ref_SimPoint / a_T) ** 7)))\n",
    "sigma_0_interf = tf.reduce_sum(sigma_0_interf,axis = 0)"
   ]
  },
  {
   "cell_type": "code",
   "execution_count": 43,
   "metadata": {
    "ExecuteTime": {
     "end_time": "2020-02-25T11:26:51.746132Z",
     "start_time": "2020-02-25T11:26:51.743718Z"
    }
   },
   "outputs": [],
   "source": [
    "interpolate_result = sigma_0_grad+sigma_0_interf"
   ]
  },
  {
   "cell_type": "code",
   "execution_count": 44,
   "metadata": {
    "ExecuteTime": {
     "end_time": "2020-02-25T11:26:51.749967Z",
     "start_time": "2020-02-25T11:26:51.747426Z"
    }
   },
   "outputs": [],
   "source": [
    "intp = tf.reshape(interpolate_result,[50,50])"
   ]
  },
  {
   "cell_type": "code",
   "execution_count": 45,
   "metadata": {
    "ExecuteTime": {
     "end_time": "2020-02-25T11:26:51.755456Z",
     "start_time": "2020-02-25T11:26:51.751500Z"
    }
   },
   "outputs": [],
   "source": [
    "x1 = [0,0]\n",
    "x2 = [2,0]\n",
    "x_int1 = np.vstack([x1,x2])\n",
    "# interface 2:\n",
    "x3 = [0,2]\n",
    "x4 = [2,2]\n",
    "x_int2 = np.vstack([x3,x4])\n",
    "# orientation point:\n",
    "x5 = [0,1]\n",
    "x = np.vstack([x1, x2, x3, x4, x5])\n",
    "# orientation values\n",
    "gx5 = 1.\n",
    "gy5 = 1."
   ]
  },
  {
   "cell_type": "code",
   "execution_count": 46,
   "metadata": {
    "ExecuteTime": {
     "end_time": "2020-02-25T11:26:51.992542Z",
     "start_time": "2020-02-25T11:26:51.756684Z"
    }
   },
   "outputs": [
    {
     "data": {
      "text/plain": [
       "[<matplotlib.lines.Line2D at 0x13f5f66d8>]"
      ]
     },
     "execution_count": 46,
     "metadata": {},
     "output_type": "execute_result"
    },
    {
     "data": {
      "image/png": "[encoded data removed]",
      "text/plain": [
       "<Figure size 432x288 with 2 Axes>"
      ]
     },
     "metadata": {
      "needs_background": "light"
     },
     "output_type": "display_data"
    }
   ],
   "source": [
    "plt.contour(XX,YY,intp)\n",
    "plt.colorbar()\n",
    "plt.plot(layer1[:,0], layer1[:,1], 'ro')\n",
    "plt.plot(layer2[:,0], layer2[:,1], 'bo')\n",
    "\n",
    "plt.plot(G_1[0,0], G_1[0,1], 'go')"
   ]
  },
  {
   "cell_type": "markdown",
   "metadata": {},
   "source": [
    "### add drift term"
   ]
  },
  {
   "cell_type": "markdown",
   "metadata": {},
   "source": [
    "\\begin{equation}\n",
    "\\left(\\begin{array}{ll}\n",
    "{K} & {U^{T}} \\\\\n",
    "{U} & {0}\n",
    "\\end{array}\\right)\n",
    "\\end{equation}"
   ]
  },
  {
   "cell_type": "code",
   "execution_count": 47,
   "metadata": {
    "ExecuteTime": {
     "end_time": "2020-02-25T11:26:51.999243Z",
     "start_time": "2020-02-25T11:26:51.994220Z"
    }
   },
   "outputs": [],
   "source": [
    "U = tf.concat([tf.eye(number_of_layer),\n",
    "tf.stack([ref_layer_points[:,0] - rest_layer_points[:,0],\n",
    "ref_layer_points[:,1] - rest_layer_points[:,1]])],axis = 1)\n",
    "\n",
    "U_T = tf.transpose(U)\n"
   ]
  },
  {
   "cell_type": "code",
   "execution_count": 48,
   "metadata": {
    "ExecuteTime": {
     "end_time": "2020-02-25T11:26:52.004676Z",
     "start_time": "2020-02-25T11:26:52.000762Z"
    }
   },
   "outputs": [],
   "source": [
    "### new K matrix\n",
    "\n",
    "zero_matrix = tf.zeros([2,2])\n",
    "\n",
    "K_U = tf.concat([tf.concat([K,U_T],axis = 1),tf.concat([U,zero_matrix],axis = 1)],axis = 0)"
   ]
  },
  {
   "cell_type": "code",
   "execution_count": 49,
   "metadata": {
    "ExecuteTime": {
     "end_time": "2020-02-25T11:26:52.022067Z",
     "start_time": "2020-02-25T11:26:52.006348Z"
    }
   },
   "outputs": [
    {
     "data": {
      "text/html": [
       "<div>\n",
       "<style scoped>\n",
       "    .dataframe tbody tr th:only-of-type {\n",
       "        vertical-align: middle;\n",
       "    }\n",
       "\n",
       "    .dataframe tbody tr th {\n",
       "        vertical-align: top;\n",
       "    }\n",
       "\n",
       "    .dataframe thead th {\n",
       "        text-align: right;\n",
       "    }\n",
       "</style>\n",
       "<table border=\"1\" class=\"dataframe\">\n",
       "  <thead>\n",
       "    <tr style=\"text-align: right;\">\n",
       "      <th></th>\n",
       "      <th>0</th>\n",
       "      <th>1</th>\n",
       "      <th>2</th>\n",
       "      <th>3</th>\n",
       "      <th>4</th>\n",
       "      <th>5</th>\n",
       "      <th>6</th>\n",
       "      <th>7</th>\n",
       "      <th>8</th>\n",
       "    </tr>\n",
       "  </thead>\n",
       "  <tbody>\n",
       "    <tr>\n",
       "      <th>0</th>\n",
       "      <td>0.333333</td>\n",
       "      <td>0.000000</td>\n",
       "      <td>0.015699</td>\n",
       "      <td>-0.162014</td>\n",
       "      <td>-0.076728</td>\n",
       "      <td>0.043519</td>\n",
       "      <td>-0.134194</td>\n",
       "      <td>1.0</td>\n",
       "      <td>0.0</td>\n",
       "    </tr>\n",
       "    <tr>\n",
       "      <th>1</th>\n",
       "      <td>0.000000</td>\n",
       "      <td>0.333333</td>\n",
       "      <td>0.207702</td>\n",
       "      <td>0.084932</td>\n",
       "      <td>0.026884</td>\n",
       "      <td>-0.182614</td>\n",
       "      <td>-0.059844</td>\n",
       "      <td>0.0</td>\n",
       "      <td>1.0</td>\n",
       "    </tr>\n",
       "    <tr>\n",
       "      <th>2</th>\n",
       "      <td>0.015699</td>\n",
       "      <td>0.207702</td>\n",
       "      <td>1.178088</td>\n",
       "      <td>0.589044</td>\n",
       "      <td>0.190202</td>\n",
       "      <td>0.291988</td>\n",
       "      <td>0.051241</td>\n",
       "      <td>4.0</td>\n",
       "      <td>0.0</td>\n",
       "    </tr>\n",
       "    <tr>\n",
       "      <th>3</th>\n",
       "      <td>-0.162014</td>\n",
       "      <td>0.084932</td>\n",
       "      <td>0.589044</td>\n",
       "      <td>0.707870</td>\n",
       "      <td>0.353935</td>\n",
       "      <td>0.091753</td>\n",
       "      <td>0.148993</td>\n",
       "      <td>2.0</td>\n",
       "      <td>0.0</td>\n",
       "    </tr>\n",
       "    <tr>\n",
       "      <th>4</th>\n",
       "      <td>-0.076728</td>\n",
       "      <td>0.026884</td>\n",
       "      <td>0.190202</td>\n",
       "      <td>0.353935</td>\n",
       "      <td>0.251322</td>\n",
       "      <td>0.002766</td>\n",
       "      <td>0.082476</td>\n",
       "      <td>1.0</td>\n",
       "      <td>0.0</td>\n",
       "    </tr>\n",
       "    <tr>\n",
       "      <th>5</th>\n",
       "      <td>0.043519</td>\n",
       "      <td>-0.182614</td>\n",
       "      <td>0.291988</td>\n",
       "      <td>0.091753</td>\n",
       "      <td>0.002766</td>\n",
       "      <td>1.083599</td>\n",
       "      <td>0.407053</td>\n",
       "      <td>3.0</td>\n",
       "      <td>1.0</td>\n",
       "    </tr>\n",
       "    <tr>\n",
       "      <th>6</th>\n",
       "      <td>-0.134194</td>\n",
       "      <td>-0.059844</td>\n",
       "      <td>0.051241</td>\n",
       "      <td>0.148993</td>\n",
       "      <td>0.082476</td>\n",
       "      <td>0.407053</td>\n",
       "      <td>0.438378</td>\n",
       "      <td>1.0</td>\n",
       "      <td>1.0</td>\n",
       "    </tr>\n",
       "    <tr>\n",
       "      <th>7</th>\n",
       "      <td>1.000000</td>\n",
       "      <td>0.000000</td>\n",
       "      <td>4.000000</td>\n",
       "      <td>2.000000</td>\n",
       "      <td>1.000000</td>\n",
       "      <td>3.000000</td>\n",
       "      <td>1.000000</td>\n",
       "      <td>0.0</td>\n",
       "      <td>0.0</td>\n",
       "    </tr>\n",
       "    <tr>\n",
       "      <th>8</th>\n",
       "      <td>0.000000</td>\n",
       "      <td>1.000000</td>\n",
       "      <td>0.000000</td>\n",
       "      <td>0.000000</td>\n",
       "      <td>0.000000</td>\n",
       "      <td>1.000000</td>\n",
       "      <td>1.000000</td>\n",
       "      <td>0.0</td>\n",
       "      <td>0.0</td>\n",
       "    </tr>\n",
       "  </tbody>\n",
       "</table>\n",
       "</div>"
      ],
      "text/plain": [
       "          0         1         2         3         4         5         6    7  \\\n",
       "0  0.333333  0.000000  0.015699 -0.162014 -0.076728  0.043519 -0.134194  1.0   \n",
       "1  0.000000  0.333333  0.207702  0.084932  0.026884 -0.182614 -0.059844  0.0   \n",
       "2  0.015699  0.207702  1.178088  0.589044  0.190202  0.291988  0.051241  4.0   \n",
       "3 -0.162014  0.084932  0.589044  0.707870  0.353935  0.091753  0.148993  2.0   \n",
       "4 -0.076728  0.026884  0.190202  0.353935  0.251322  0.002766  0.082476  1.0   \n",
       "5  0.043519 -0.182614  0.291988  0.091753  0.002766  1.083599  0.407053  3.0   \n",
       "6 -0.134194 -0.059844  0.051241  0.148993  0.082476  0.407053  0.438378  1.0   \n",
       "7  1.000000  0.000000  4.000000  2.000000  1.000000  3.000000  1.000000  0.0   \n",
       "8  0.000000  1.000000  0.000000  0.000000  0.000000  1.000000  1.000000  0.0   \n",
       "\n",
       "     8  \n",
       "0  0.0  \n",
       "1  1.0  \n",
       "2  0.0  \n",
       "3  0.0  \n",
       "4  0.0  \n",
       "5  1.0  \n",
       "6  1.0  \n",
       "7  0.0  \n",
       "8  0.0  "
      ]
     },
     "execution_count": 49,
     "metadata": {},
     "output_type": "execute_result"
    }
   ],
   "source": [
    "pd.DataFrame(K_U.numpy())"
   ]
  },
  {
   "cell_type": "code",
   "execution_count": 50,
   "metadata": {
    "ExecuteTime": {
     "end_time": "2020-02-25T11:26:52.028907Z",
     "start_time": "2020-02-25T11:26:52.023488Z"
    }
   },
   "outputs": [
    {
     "data": {
      "text/plain": [
       "<tf.Tensor: shape=(2500,), dtype=float32, numpy=\n",
       "array([-0.7954792, -0.7577801, -0.7200809, ...,  6.924816 ,  6.962515 ,\n",
       "        7.000214 ], dtype=float32)>"
      ]
     },
     "execution_count": 50,
     "metadata": {},
     "output_type": "execute_result"
    }
   ],
   "source": [
    "### universal contribution\n",
    "sigma_0_1st_drift = tf.reduce_sum(grid * tf.transpose(w[-2:]),axis = 1)\n",
    "sigma_0_1st_drift"
   ]
  },
  {
   "cell_type": "code",
   "execution_count": 51,
   "metadata": {
    "ExecuteTime": {
     "end_time": "2020-02-25T11:26:52.034465Z",
     "start_time": "2020-02-25T11:26:52.030516Z"
    }
   },
   "outputs": [],
   "source": [
    "# rhs b-vector\n",
    "b = tf.concat([[G_1_x,G_1_y],tf.zeros(K_U.shape[0]-G_1.shape[0]*2)],axis = 0)\n",
    "b = tf.reshape(b,shape = [b.shape[0],1])"
   ]
  },
  {
   "cell_type": "code",
   "execution_count": 52,
   "metadata": {
    "ExecuteTime": {
     "end_time": "2020-02-25T11:26:52.038608Z",
     "start_time": "2020-02-25T11:26:52.035897Z"
    }
   },
   "outputs": [],
   "source": [
    "w = tf.linalg.solve(K_U,b)"
   ]
  },
  {
   "cell_type": "code",
   "execution_count": 53,
   "metadata": {
    "ExecuteTime": {
     "end_time": "2020-02-25T11:26:52.043734Z",
     "start_time": "2020-02-25T11:26:52.039913Z"
    }
   },
   "outputs": [
    {
     "data": {
      "text/plain": [
       "<tf.Tensor: shape=(9, 1), dtype=float32, numpy=\n",
       "array([[ 3.7779593 ],\n",
       "       [ 0.89168227],\n",
       "       [-1.4226352 ],\n",
       "       [ 3.0688784 ],\n",
       "       [-2.2895322 ],\n",
       "       [-0.5219804 ],\n",
       "       [-0.36970186],\n",
       "       [ 0.05765041],\n",
       "       [ 0.68171823]], dtype=float32)>"
      ]
     },
     "execution_count": 53,
     "metadata": {},
     "output_type": "execute_result"
    }
   ],
   "source": [
    "w"
   ]
  },
  {
   "cell_type": "code",
   "execution_count": 59,
   "metadata": {
    "ExecuteTime": {
     "end_time": "2020-02-25T11:29:45.475933Z",
     "start_time": "2020-02-25T11:29:45.464543Z"
    }
   },
   "outputs": [],
   "source": [
    "# gradient contribution\n",
    "sigma_0_grad = w[:G_1.shape[0]*2] * (-hu_Simpoints*(- c_o_T * ((-14 / a_T ** 2) + 105 / 4 * sed_dips_SimPoint / a_T ** 3 -\n",
    "                               35 / 2 * sed_dips_SimPoint ** 3 / a_T ** 5 +\n",
    "                               21 / 4 * sed_dips_SimPoint ** 5 / a_T ** 7)))\n",
    "\n",
    "sigma_0_grad = tf.reduce_sum(sigma_0_grad,axis=0)\n",
    "\n",
    "# surface point contribution\n",
    "sigma_0_interf = -w[G_1.shape[0]*2:-2]*(c_o_T  * ((1 - 7 * (sed_rest_SimPoint / a_T) ** 2 +\n",
    "             35 / 4 * (sed_rest_SimPoint / a_T) ** 3 -\n",
    "             7 / 2 * (sed_rest_SimPoint / a_T) ** 5 +\n",
    "             3 / 4 * (sed_rest_SimPoint / a_T) ** 7) -\n",
    "             (1 - 7 * (sed_ref_SimPoint / a_T) ** 2 +\n",
    "              35 / 4 * (sed_ref_SimPoint / a_T) ** 3 -\n",
    "              7 / 2 * (sed_ref_SimPoint / a_T) ** 5 +\n",
    "              3 / 4 * (sed_ref_SimPoint / a_T) ** 7)))\n",
    "sigma_0_interf = tf.reduce_sum(sigma_0_interf,axis = 0)\n"
   ]
  },
  {
   "cell_type": "code",
   "execution_count": 60,
   "metadata": {
    "ExecuteTime": {
     "end_time": "2020-02-25T11:29:45.903516Z",
     "start_time": "2020-02-25T11:29:45.898276Z"
    }
   },
   "outputs": [
    {
     "data": {
      "text/plain": [
       "<tf.Tensor: shape=(2500,), dtype=float32, numpy=\n",
       "array([-0.3696843 , -0.3639193 , -0.35815424, ...,  3.2416906 ,\n",
       "        3.2474556 ,  3.2532206 ], dtype=float32)>"
      ]
     },
     "execution_count": 60,
     "metadata": {},
     "output_type": "execute_result"
    }
   ],
   "source": [
    "sigma_0_1st_drift = tf.reduce_sum(grid * tf.transpose(w[-2:]),axis = 1)\n",
    "sigma_0_1st_drift"
   ]
  },
  {
   "cell_type": "code",
   "execution_count": 61,
   "metadata": {
    "ExecuteTime": {
     "end_time": "2020-02-25T11:29:46.162439Z",
     "start_time": "2020-02-25T11:29:46.159630Z"
    }
   },
   "outputs": [],
   "source": [
    "interpolate_result = sigma_0_grad+sigma_0_interf+sigma_0_1st_drift\n",
    "\n",
    "intp = tf.reshape(interpolate_result,[50,50]) # reshape the result to matrix shape"
   ]
  },
  {
   "cell_type": "code",
   "execution_count": 62,
   "metadata": {
    "ExecuteTime": {
     "end_time": "2020-02-25T11:29:46.673223Z",
     "start_time": "2020-02-25T11:29:46.431560Z"
    }
   },
   "outputs": [
    {
     "data": {
      "text/plain": [
       "[<matplotlib.lines.Line2D at 0x147c130f0>]"
      ]
     },
     "execution_count": 62,
     "metadata": {},
     "output_type": "execute_result"
    },
    {
     "data": {
      "image/png": "[encoded data removed]",
      "text/plain": [
       "<Figure size 432x288 with 2 Axes>"
      ]
     },
     "metadata": {
      "needs_background": "light"
     },
     "output_type": "display_data"
    }
   ],
   "source": [
    "plt.contour(XX,YY,intp)\n",
    "plt.colorbar()\n",
    "plt.plot(layer1[:,0], layer1[:,1], 'ro')\n",
    "plt.plot(layer2[:,0], layer2[:,1], 'bo')\n",
    "\n",
    "plt.plot(G_1[0,0], G_1[0,1], 'go')"
   ]
  },
  {
   "cell_type": "code",
   "execution_count": null,
   "metadata": {},
   "outputs": [],
   "source": []
  }
 ],
 "metadata": {
  "kernelspec": {
   "display_name": "Python 3.7.1 64-bit ('bys': conda)",
   "language": "python",
   "name": "python37164bitbysconda40e087e0fc0f4c79b5e00459bd86405a"
  },
  "language_info": {
   "codemirror_mode": {
    "name": "ipython",
    "version": 3
   },
   "file_extension": ".py",
   "mimetype": "text/x-python",
   "name": "python",
   "nbconvert_exporter": "python",
   "pygments_lexer": "ipython3",
   "version": "3.7.1"
  },
  "varInspector": {
   "cols": {
    "lenName": 16,
    "lenType": 16,
    "lenVar": 40
   },
   "kernels_config": {
    "python": {
     "delete_cmd_postfix": "",
     "delete_cmd_prefix": "del ",
     "library": "var_list.py",
     "varRefreshCmd": "print(var_dic_list())"
    },
    "r": {
     "delete_cmd_postfix": ") ",
     "delete_cmd_prefix": "rm(",
     "library": "var_list.r",
     "varRefreshCmd": "cat(var_dic_list()) "
    }
   },
   "types_to_exclude": [
    "module",
    "function",
    "builtin_function_or_method",
    "instance",
    "_Feature"
   ],
   "window_display": false
  }
 },
 "nbformat": 4,
 "nbformat_minor": 4
}
