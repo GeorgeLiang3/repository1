{
 "cells": [
  {
   "cell_type": "code",
   "execution_count": 1,
   "metadata": {
    "ExecuteTime": {
     "end_time": "2020-02-20T14:51:32.037753Z",
     "start_time": "2020-02-20T14:51:29.112827Z"
    }
   },
   "outputs": [],
   "source": [
    "import tensorflow as tf\n",
    "import numpy as np\n",
    "import matplotlib.pyplot as plt\n",
    "%matplotlib inline"
   ]
  },
  {
   "cell_type": "code",
   "execution_count": 2,
   "metadata": {
    "ExecuteTime": {
     "end_time": "2020-02-20T14:51:32.053245Z",
     "start_time": "2020-02-20T14:51:32.050414Z"
    }
   },
   "outputs": [],
   "source": [
    "def constant32(k):\n",
    "    return tf.constant(k,dtype = tf.float32)"
   ]
  },
  {
   "cell_type": "code",
   "execution_count": null,
   "metadata": {},
   "outputs": [],
   "source": [
    "layer = []"
   ]
  },
  {
   "cell_type": "code",
   "execution_count": 155,
   "metadata": {
    "ExecuteTime": {
     "end_time": "2020-02-20T16:08:03.877211Z",
     "start_time": "2020-02-20T16:08:03.873681Z"
    }
   },
   "outputs": [],
   "source": [
    "x_1 = constant32([[0., 1.],[3.,3.]])\n",
    "\n",
    "x_1_tiled = tf.tile(x_1,[2,1])"
   ]
  },
  {
   "cell_type": "code",
   "execution_count": 156,
   "metadata": {
    "ExecuteTime": {
     "end_time": "2020-02-20T16:08:04.130240Z",
     "start_time": "2020-02-20T16:08:04.114720Z"
    }
   },
   "outputs": [],
   "source": [
    "@tf.function\n",
    "def squared_euclidean_distance(x_1,x_2):\n",
    "    sqd = tf.sqrt(tf.reshape(tf.reduce_sum(x_1**2,1),shape =(x_1.shape[0],1))+\\\n",
    "    tf.reshape(tf.reduce_sum(x_2**2,1),shape =(1,x_2.shape[0]))-\\\n",
    "    2*tf.tensordot(x_1,tf.transpose(x_2),1))\n",
    "    return sqd"
   ]
  },
  {
   "cell_type": "code",
   "execution_count": 157,
   "metadata": {
    "ExecuteTime": {
     "end_time": "2020-02-20T16:08:04.404970Z",
     "start_time": "2020-02-20T16:08:04.399004Z"
    }
   },
   "outputs": [],
   "source": [
    "#Cartesian distances\n",
    "def cartesian_dist(x_1,x_2):\n",
    "    return tf.concat([\n",
    "        tf.tile(x_1[:,0] - tf.reshape(x_2[:,0],[x_2.shape[0],1]),[1,2]),\n",
    "        tf.tile(x_1[:,1] - tf.reshape(x_2[:,1],[x_2.shape[0],1]),[1,2])],axis = 0) \n",
    "h_u = cartesian_dist(x_1,x_1)"
   ]
  },
  {
   "cell_type": "code",
   "execution_count": 158,
   "metadata": {
    "ExecuteTime": {
     "end_time": "2020-02-20T16:08:05.072442Z",
     "start_time": "2020-02-20T16:08:04.960135Z"
    }
   },
   "outputs": [],
   "source": [
    "dist_tiled = squared_euclidean_distance(x_1_tiled,x_1_tiled)"
   ]
  },
  {
   "cell_type": "code",
   "execution_count": 159,
   "metadata": {
    "ExecuteTime": {
     "end_time": "2020-02-20T16:08:05.385064Z",
     "start_time": "2020-02-20T16:08:05.381519Z"
    }
   },
   "outputs": [
    {
     "data": {
      "text/plain": [
       "<tf.Tensor: shape=(4, 4), dtype=float32, numpy=\n",
       "array([[ 0.,  3.,  0.,  3.],\n",
       "       [-3.,  0., -3.,  0.],\n",
       "       [ 0.,  2.,  0.,  2.],\n",
       "       [-2.,  0., -2.,  0.]], dtype=float32)>"
      ]
     },
     "execution_count": 159,
     "metadata": {},
     "output_type": "execute_result"
    }
   ],
   "source": [
    "h_u"
   ]
  },
  {
   "cell_type": "code",
   "execution_count": 160,
   "metadata": {
    "ExecuteTime": {
     "end_time": "2020-02-20T16:08:06.956652Z",
     "start_time": "2020-02-20T16:08:06.953779Z"
    }
   },
   "outputs": [],
   "source": [
    "h_v = tf.transpose(h_u)"
   ]
  },
  {
   "cell_type": "code",
   "execution_count": 161,
   "metadata": {
    "ExecuteTime": {
     "end_time": "2020-02-20T16:08:07.302607Z",
     "start_time": "2020-02-20T16:08:07.297081Z"
    }
   },
   "outputs": [],
   "source": [
    "a = tf.concat([tf.ones([x_1.shape[0],x_1.shape[0]]),tf.zeros([x_1.shape[0],x_1.shape[0]])],axis = 1)\n",
    "b = tf.concat([tf.zeros([x_1.shape[0],x_1.shape[0]]),tf.ones([x_1.shape[0],x_1.shape[0]])],axis = 1)\n",
    "\n",
    "perpendicularity_matrix = tf.concat([a,b],axis = 0)"
   ]
  },
  {
   "cell_type": "code",
   "execution_count": 162,
   "metadata": {
    "ExecuteTime": {
     "end_time": "2020-02-20T16:08:07.578579Z",
     "start_time": "2020-02-20T16:08:07.576219Z"
    }
   },
   "outputs": [],
   "source": [
    "a_T = 5\n",
    "c_o_T = a_T**2/14/3"
   ]
  },
  {
   "cell_type": "code",
   "execution_count": 163,
   "metadata": {
    "ExecuteTime": {
     "end_time": "2020-02-20T16:08:07.971837Z",
     "start_time": "2020-02-20T16:08:07.967721Z"
    }
   },
   "outputs": [],
   "source": [
    "index = tf.where(dist_tiled==0).numpy()"
   ]
  },
  {
   "cell_type": "code",
   "execution_count": 164,
   "metadata": {
    "ExecuteTime": {
     "end_time": "2020-02-20T16:08:08.304367Z",
     "start_time": "2020-02-20T16:08:08.298247Z"
    }
   },
   "outputs": [],
   "source": [
    "def cov_gradients(dist_tiled):\n",
    "    C_G = (tf.math.divide_no_nan(h_u*h_v , dist_tiled**2)*\\\n",
    "    (-c_o_T*((-14/a_T**2)+105/4*dist_tiled/a_T**3 - 35/2 * dist_tiled**3 / a_T **5 + 21 /4 * dist_tiled**5/a_T**7)+\n",
    "        c_o_T * 7 * (9 * dist_tiled ** 5 - 20 * a_T ** 2 * dist_tiled ** 3 +\n",
    "                                       15 * a_T ** 4 * dist_tiled - 4 * a_T ** 5) / (2 * a_T ** 7)-\n",
    "        perpendicularity_matrix * c_o_T * ((-14 / a_T ** 2) + 105 / 4 * dist_tiled / a_T ** 3 -\n",
    "                                   35 / 2 * dist_tiled ** 3 / a_T ** 5 +\n",
    "                                   21 / 4 * dist_tiled ** 5 / a_T ** 7))+\n",
    "        1/3*tf.eye(dist_tiled.shape[0])) ## adding nugget effect\n",
    "    return C_G"
   ]
  },
  {
   "cell_type": "code",
   "execution_count": 165,
   "metadata": {
    "ExecuteTime": {
     "end_time": "2020-02-20T16:08:08.599828Z",
     "start_time": "2020-02-20T16:08:08.597020Z"
    }
   },
   "outputs": [],
   "source": [
    "dist_tiled = dist_tiled + tf.eye(dist_tiled.shape[0])"
   ]
  },
  {
   "cell_type": "code",
   "execution_count": 166,
   "metadata": {
    "ExecuteTime": {
     "end_time": "2020-02-20T16:08:08.865328Z",
     "start_time": "2020-02-20T16:08:08.861210Z"
    }
   },
   "outputs": [],
   "source": [
    "C_G = cov_gradients(dist_tiled)"
   ]
  },
  {
   "cell_type": "code",
   "execution_count": 167,
   "metadata": {
    "ExecuteTime": {
     "end_time": "2020-02-20T16:08:09.164170Z",
     "start_time": "2020-02-20T16:08:09.160427Z"
    }
   },
   "outputs": [
    {
     "data": {
      "text/plain": [
       "<tf.Tensor: shape=(4, 4), dtype=float32, numpy=\n",
       "array([[ 0.33333334, -0.08193211,  0.        , -0.04792612],\n",
       "       [-0.08193211,  0.33333334, -0.04792612,  0.        ],\n",
       "       [ 0.        , -0.04792612,  0.33333334, -0.03641427],\n",
       "       [-0.04792612,  0.        , -0.03641427,  0.33333334]],\n",
       "      dtype=float32)>"
      ]
     },
     "execution_count": 167,
     "metadata": {},
     "output_type": "execute_result"
    }
   ],
   "source": [
    "C_G"
   ]
  },
  {
   "cell_type": "markdown",
   "metadata": {},
   "source": [
    "### covariance of interface points"
   ]
  },
  {
   "cell_type": "code",
   "execution_count": 245,
   "metadata": {
    "ExecuteTime": {
     "end_time": "2020-02-20T16:35:32.997821Z",
     "start_time": "2020-02-20T16:35:32.993684Z"
    }
   },
   "outputs": [],
   "source": [
    "layer1 = constant32([[0,0],[2,0],[3,0.3],[4,1]])\n",
    "layer2 = constant32([[0,2],[2,2],[3,3.3]])\n",
    "layer3 = constant32([[0,4],[2,4],[3,4]])"
   ]
  },
  {
   "cell_type": "code",
   "execution_count": 246,
   "metadata": {
    "ExecuteTime": {
     "end_time": "2020-02-20T16:35:33.451181Z",
     "start_time": "2020-02-20T16:35:33.448860Z"
    }
   },
   "outputs": [],
   "source": [
    "layer = [layer1,layer2,layer3]"
   ]
  },
  {
   "cell_type": "code",
   "execution_count": 256,
   "metadata": {
    "ExecuteTime": {
     "end_time": "2020-02-20T16:49:18.605810Z",
     "start_time": "2020-02-20T16:49:18.603271Z"
    }
   },
   "outputs": [],
   "source": [
    "for l in layer:\n",
    "    l.shape[0]"
   ]
  },
  {
   "cell_type": "code",
   "execution_count": 169,
   "metadata": {
    "ExecuteTime": {
     "end_time": "2020-02-20T16:08:12.842639Z",
     "start_time": "2020-02-20T16:08:12.839403Z"
    }
   },
   "outputs": [],
   "source": [
    "number_of_points_per_surface = constant32([layer1.shape[0],layer2.shape[0],layer3.shape[0]])"
   ]
  },
  {
   "cell_type": "code",
   "execution_count": 170,
   "metadata": {
    "ExecuteTime": {
     "end_time": "2020-02-20T16:08:13.092976Z",
     "start_time": "2020-02-20T16:08:13.086141Z"
    }
   },
   "outputs": [
    {
     "data": {
      "text/plain": [
       "<tf.Tensor: shape=(7, 2), dtype=float32, numpy=\n",
       "array([[4. , 1. ],\n",
       "       [4. , 1. ],\n",
       "       [4. , 1. ],\n",
       "       [3. , 3.3],\n",
       "       [3. , 3.3],\n",
       "       [3. , 4. ],\n",
       "       [3. , 4. ]], dtype=float32)>"
      ]
     },
     "execution_count": 170,
     "metadata": {},
     "output_type": "execute_result"
    }
   ],
   "source": [
    "tf.repeat(tf.stack([layer1[-1],layer2[-1],layer3[-1]],axis = 0),repeats=number_of_points_per_surface.numpy()-1,axis = 0)"
   ]
  },
  {
   "cell_type": "code",
   "execution_count": 171,
   "metadata": {
    "ExecuteTime": {
     "end_time": "2020-02-20T16:08:13.298888Z",
     "start_time": "2020-02-20T16:08:13.294898Z"
    }
   },
   "outputs": [],
   "source": [
    "def set_rest_ref_matrix(number_of_points_per_surface):\n",
    "    ref_layer_points = tf.repeat(tf.stack([layer1[-1],layer2[-1],layer3[-1]],axis = 0),repeats=number_of_points_per_surface.numpy()-1,axis = 0)\n",
    "    rest_layer_points = tf.concat([layer1[0:-1],layer2[0:-1],layer3[0:-1]],axis = 0)\n",
    "    return ref_layer_points,rest_layer_points"
   ]
  },
  {
   "cell_type": "code",
   "execution_count": 172,
   "metadata": {
    "ExecuteTime": {
     "end_time": "2020-02-20T16:08:13.515969Z",
     "start_time": "2020-02-20T16:08:13.510748Z"
    }
   },
   "outputs": [],
   "source": [
    "ref_layer_points,rest_layer_points = set_rest_ref_matrix(number_of_points_per_surface)"
   ]
  },
  {
   "cell_type": "code",
   "execution_count": 173,
   "metadata": {
    "ExecuteTime": {
     "end_time": "2020-02-20T16:08:13.746266Z",
     "start_time": "2020-02-20T16:08:13.720443Z"
    }
   },
   "outputs": [],
   "source": [
    "sed_rest_rest = squared_euclidean_distance(rest_layer_points,rest_layer_points)\n",
    "sed_ref_rest = squared_euclidean_distance(ref_layer_points,rest_layer_points)\n",
    "sed_rest_ref = squared_euclidean_distance(rest_layer_points,ref_layer_points)\n",
    "sed_ref_ref = squared_euclidean_distance(ref_layer_points,ref_layer_points)"
   ]
  },
  {
   "cell_type": "code",
   "execution_count": 174,
   "metadata": {
    "ExecuteTime": {
     "end_time": "2020-02-20T16:08:13.988709Z",
     "start_time": "2020-02-20T16:08:13.981924Z"
    }
   },
   "outputs": [],
   "source": [
    "def cov_interface(ref_layer_points,rest_layer_points):\n",
    "    sed_rest_rest = squared_euclidean_distance(rest_layer_points,rest_layer_points)\n",
    "    sed_ref_rest = squared_euclidean_distance(ref_layer_points,rest_layer_points)\n",
    "    sed_rest_ref = squared_euclidean_distance(rest_layer_points,ref_layer_points)\n",
    "    sed_ref_ref = squared_euclidean_distance(ref_layer_points,ref_layer_points)\n",
    "    \n",
    "    C_I = c_o_T*((1 - 7 * (sed_rest_rest / a_T) ** 2 +\\\n",
    "                 35 / 4 * (sed_rest_rest / a_T) ** 3 -\\\n",
    "                 7 / 2 * (sed_rest_rest / a_T) ** 5 +\\\n",
    "                 3 / 4 * (sed_rest_rest / a_T) ** 7) -\\\n",
    "                 (1 - 7 * (sed_ref_rest / a_T) ** 2 +\\\n",
    "                  35 / 4 * (sed_ref_rest / a_T) ** 3 -\\\n",
    "                  7 / 2 * (sed_ref_rest / a_T) ** 5 +\\\n",
    "                  3 / 4 * (sed_ref_rest / a_T) ** 7) -\\\n",
    "                 (1 - 7 * (sed_rest_ref / a_T) ** 2 +\\\n",
    "                  35 / 4 * (sed_rest_ref / a_T) ** 3 -\\\n",
    "                  7 / 2 * (sed_rest_ref / a_T) ** 5 +\\\n",
    "                  3 / 4 * (sed_rest_ref / a_T) ** 7) +\\\n",
    "                 (1 - 7 * (sed_ref_ref / a_T) ** 2 +\\\n",
    "                  35 / 4 * (sed_ref_ref / a_T) ** 3 -\\\n",
    "                  7 / 2 * (sed_ref_ref / a_T) ** 5 +\\\n",
    "                  3 / 4 * (sed_ref_ref / a_T) ** 7))\n",
    "    \n",
    "    return C_I"
   ]
  },
  {
   "cell_type": "code",
   "execution_count": 175,
   "metadata": {
    "ExecuteTime": {
     "end_time": "2020-02-20T16:08:14.447999Z",
     "start_time": "2020-02-20T16:08:14.442153Z"
    }
   },
   "outputs": [],
   "source": [
    "C_I = cov_interface(ref_layer_points,rest_layer_points)"
   ]
  },
  {
   "cell_type": "code",
   "execution_count": 176,
   "metadata": {
    "ExecuteTime": {
     "end_time": "2020-02-20T16:08:14.805201Z",
     "start_time": "2020-02-20T16:08:14.800016Z"
    }
   },
   "outputs": [
    {
     "data": {
      "text/plain": [
       "<tf.Tensor: shape=(7, 7), dtype=float32, numpy=\n",
       "array([[1.1828645 , 0.64065343, 0.23954362, 0.3785124 , 0.04124308,\n",
       "        0.05963286, 0.03337649],\n",
       "       [0.64065343, 0.80631274, 0.44242144, 0.20012894, 0.1608465 ,\n",
       "        0.05018888, 0.03520884],\n",
       "       [0.23954362, 0.44242144, 0.34866908, 0.0970778 , 0.12615484,\n",
       "        0.03739605, 0.02765592],\n",
       "       [0.3785124 , 0.20012894, 0.0970778 , 1.1032323 , 0.46991342,\n",
       "        0.6866641 , 0.17853926],\n",
       "       [0.04124308, 0.1608465 , 0.12615484, 0.46991342, 0.54446507,\n",
       "        0.3662071 , 0.15606919],\n",
       "       [0.05963286, 0.05018888, 0.03739605, 0.6866641 , 0.3662071 ,\n",
       "        1.0490057 , 0.2962286 ],\n",
       "       [0.03337649, 0.03520884, 0.02765592, 0.17853926, 0.15606919,\n",
       "        0.29622856, 0.2513219 ]], dtype=float32)>"
      ]
     },
     "execution_count": 176,
     "metadata": {},
     "output_type": "execute_result"
    }
   ],
   "source": [
    "C_I"
   ]
  },
  {
   "cell_type": "markdown",
   "metadata": {},
   "source": [
    "### Covariance of interface points and gradients"
   ]
  },
  {
   "cell_type": "code",
   "execution_count": 177,
   "metadata": {
    "ExecuteTime": {
     "end_time": "2020-02-20T16:08:15.346214Z",
     "start_time": "2020-02-20T16:08:15.342606Z"
    }
   },
   "outputs": [
    {
     "data": {
      "text/plain": [
       "<tf.Tensor: shape=(7, 2), dtype=float32, numpy=\n",
       "array([[0. , 0. ],\n",
       "       [2. , 0. ],\n",
       "       [3. , 0.3],\n",
       "       [0. , 2. ],\n",
       "       [2. , 2. ],\n",
       "       [0. , 4. ],\n",
       "       [2. , 4. ]], dtype=float32)>"
      ]
     },
     "execution_count": 177,
     "metadata": {},
     "output_type": "execute_result"
    }
   ],
   "source": [
    "rest_layer_points"
   ]
  },
  {
   "cell_type": "code",
   "execution_count": 178,
   "metadata": {
    "ExecuteTime": {
     "end_time": "2020-02-20T16:08:15.606690Z",
     "start_time": "2020-02-20T16:08:15.581568Z"
    }
   },
   "outputs": [],
   "source": [
    "sed_dips_rest = squared_euclidean_distance(x_1_tiled,rest_layer_points)\n",
    "sed_dips_ref = squared_euclidean_distance(x_1_tiled,ref_layer_points)"
   ]
  },
  {
   "cell_type": "code",
   "execution_count": 179,
   "metadata": {
    "ExecuteTime": {
     "end_time": "2020-02-20T16:08:15.818136Z",
     "start_time": "2020-02-20T16:08:15.814453Z"
    }
   },
   "outputs": [
    {
     "data": {
      "text/plain": [
       "<tf.Tensor: shape=(4, 2), dtype=float32, numpy=\n",
       "array([[0., 1.],\n",
       "       [3., 3.],\n",
       "       [0., 1.],\n",
       "       [3., 3.]], dtype=float32)>"
      ]
     },
     "execution_count": 179,
     "metadata": {},
     "output_type": "execute_result"
    }
   ],
   "source": [
    "x_1_tiled"
   ]
  },
  {
   "cell_type": "code",
   "execution_count": 180,
   "metadata": {
    "ExecuteTime": {
     "end_time": "2020-02-20T16:08:16.003573Z",
     "start_time": "2020-02-20T16:08:15.999362Z"
    }
   },
   "outputs": [
    {
     "data": {
      "text/plain": [
       "<tf.Tensor: shape=(7, 2), dtype=float32, numpy=\n",
       "array([[0. , 0. ],\n",
       "       [2. , 0. ],\n",
       "       [3. , 0.3],\n",
       "       [0. , 2. ],\n",
       "       [2. , 2. ],\n",
       "       [0. , 4. ],\n",
       "       [2. , 4. ]], dtype=float32)>"
      ]
     },
     "execution_count": 180,
     "metadata": {},
     "output_type": "execute_result"
    }
   ],
   "source": [
    "rest_layer_points"
   ]
  },
  {
   "cell_type": "code",
   "execution_count": 181,
   "metadata": {
    "ExecuteTime": {
     "end_time": "2020-02-20T16:08:16.278264Z",
     "start_time": "2020-02-20T16:08:16.271301Z"
    }
   },
   "outputs": [],
   "source": [
    "## Cartesian distance between dips and interface points\n",
    "#Cartesian distances\n",
    "def cartesian_dist_no_tile(x_1,x_2):\n",
    "    return tf.concat([\n",
    "        tf.transpose((x_1[:,0] - tf.reshape(x_2[:,0],[x_2.shape[0],1]))),\n",
    "        tf.transpose((x_1[:,1] - tf.reshape(x_2[:,1],[x_2.shape[0],1])))],axis = 0) \n",
    "\n",
    "hu_rest = cartesian_dist_no_tile(x_1,rest_layer_points)\n",
    "hu_ref = cartesian_dist_no_tile(x_1,ref_layer_points)"
   ]
  },
  {
   "cell_type": "code",
   "execution_count": 182,
   "metadata": {
    "ExecuteTime": {
     "end_time": "2020-02-20T16:08:16.481547Z",
     "start_time": "2020-02-20T16:08:16.477368Z"
    }
   },
   "outputs": [],
   "source": [
    "def cov_interface_gradients(hu_rest,hu_ref):\n",
    "    C_GI = (hu_rest*(- c_o_T * ((-14 / a_T ** 2) + 105 / 4 * sed_dips_rest / a_T ** 3 -\n",
    "                                  35 / 2 * sed_dips_rest ** 3 / a_T ** 5 +\n",
    "                                  21 / 4 * sed_dips_rest ** 5 / a_T ** 7))-\\\n",
    "    hu_ref*(-c_o_T * ((-14 / a_T ** 2) + 105 / 4 * sed_dips_ref / a_T ** 3 -\n",
    "                                  35 / 2 * sed_dips_ref ** 3 / a_T ** 5 +\n",
    "                                  21 / 4 * sed_dips_ref ** 5 / a_T ** 7)))\n",
    "    return C_GI"
   ]
  },
  {
   "cell_type": "code",
   "execution_count": 183,
   "metadata": {
    "ExecuteTime": {
     "end_time": "2020-02-20T16:08:16.690984Z",
     "start_time": "2020-02-20T16:08:16.687102Z"
    }
   },
   "outputs": [],
   "source": [
    "C_GI = cov_interface_gradients(hu_rest,hu_ref)"
   ]
  },
  {
   "cell_type": "code",
   "execution_count": 184,
   "metadata": {
    "ExecuteTime": {
     "end_time": "2020-02-20T16:08:16.897465Z",
     "start_time": "2020-02-20T16:08:16.894753Z"
    }
   },
   "outputs": [],
   "source": [
    "C_IG = tf.transpose(C_GI)"
   ]
  },
  {
   "cell_type": "code",
   "execution_count": 185,
   "metadata": {
    "ExecuteTime": {
     "end_time": "2020-02-20T16:08:17.118040Z",
     "start_time": "2020-02-20T16:08:17.112762Z"
    }
   },
   "outputs": [
    {
     "data": {
      "text/plain": [
       "<tf.Tensor: shape=(4, 7), dtype=float32, numpy=\n",
       "array([[ 0.02282675, -0.1548864 , -0.0810091 ,  0.02998073, -0.1477324 ,\n",
       "         0.00773109, -0.02128183],\n",
       "       [ 0.09658767,  0.11966535,  0.08885657,  0.09242635,  0.16575848,\n",
       "         0.09242635,  0.16575848],\n",
       "       [ 0.21162668,  0.08885657,  0.02422837, -0.18864146, -0.06587134,\n",
       "        -0.10810897, -0.03578829],\n",
       "       [-0.16998205, -0.08528679, -0.0273129 ,  0.11958573,  0.25453544,\n",
       "         0.1808179 ,  0.0458682 ]], dtype=float32)>"
      ]
     },
     "execution_count": 185,
     "metadata": {},
     "output_type": "execute_result"
    }
   ],
   "source": [
    "C_GI"
   ]
  },
  {
   "cell_type": "markdown",
   "metadata": {},
   "source": [
    "### Kriging Matrix"
   ]
  },
  {
   "cell_type": "code",
   "execution_count": 186,
   "metadata": {
    "ExecuteTime": {
     "end_time": "2020-02-20T16:08:17.538932Z",
     "start_time": "2020-02-20T16:08:17.535308Z"
    }
   },
   "outputs": [],
   "source": [
    "K = tf.concat([tf.concat([C_G,C_GI],axis = 1),\n",
    "tf.concat([C_IG,C_I],axis = 1)],axis = 0)"
   ]
  },
  {
   "cell_type": "code",
   "execution_count": 217,
   "metadata": {
    "ExecuteTime": {
     "end_time": "2020-02-20T16:10:11.568907Z",
     "start_time": "2020-02-20T16:10:11.565528Z"
    }
   },
   "outputs": [],
   "source": [
    "b = tf.reshape(constant32([1,-1,1,1,0,0,0,0,0,0,0]),[11,1])"
   ]
  },
  {
   "cell_type": "code",
   "execution_count": 218,
   "metadata": {
    "ExecuteTime": {
     "end_time": "2020-02-20T16:10:11.821188Z",
     "start_time": "2020-02-20T16:10:11.816105Z"
    }
   },
   "outputs": [
    {
     "data": {
      "text/plain": [
       "<tf.Tensor: shape=(11, 11), dtype=float32, numpy=\n",
       "array([[ 0.33333334, -0.08193211,  0.        , -0.04792612,  0.02282675,\n",
       "        -0.1548864 , -0.0810091 ,  0.02998073, -0.1477324 ,  0.00773109,\n",
       "        -0.02128183],\n",
       "       [-0.08193211,  0.33333334, -0.04792612,  0.        ,  0.09658767,\n",
       "         0.11966535,  0.08885657,  0.09242635,  0.16575848,  0.09242635,\n",
       "         0.16575848],\n",
       "       [ 0.        , -0.04792612,  0.33333334, -0.03641427,  0.21162668,\n",
       "         0.08885657,  0.02422837, -0.18864146, -0.06587134, -0.10810897,\n",
       "        -0.03578829],\n",
       "       [-0.04792612,  0.        , -0.03641427,  0.33333334, -0.16998205,\n",
       "        -0.08528679, -0.0273129 ,  0.11958573,  0.25453544,  0.1808179 ,\n",
       "         0.0458682 ],\n",
       "       [ 0.02282675,  0.09658767,  0.21162668, -0.16998205,  1.1828645 ,\n",
       "         0.64065343,  0.23954362,  0.3785124 ,  0.04124308,  0.05963286,\n",
       "         0.03337649],\n",
       "       [-0.1548864 ,  0.11966535,  0.08885657, -0.08528679,  0.64065343,\n",
       "         0.80631274,  0.44242144,  0.20012894,  0.1608465 ,  0.05018888,\n",
       "         0.03520884],\n",
       "       [-0.0810091 ,  0.08885657,  0.02422837, -0.0273129 ,  0.23954362,\n",
       "         0.44242144,  0.34866908,  0.0970778 ,  0.12615484,  0.03739605,\n",
       "         0.02765592],\n",
       "       [ 0.02998073,  0.09242635, -0.18864146,  0.11958573,  0.3785124 ,\n",
       "         0.20012894,  0.0970778 ,  1.1032323 ,  0.46991342,  0.6866641 ,\n",
       "         0.17853926],\n",
       "       [-0.1477324 ,  0.16575848, -0.06587134,  0.25453544,  0.04124308,\n",
       "         0.1608465 ,  0.12615484,  0.46991342,  0.54446507,  0.3662071 ,\n",
       "         0.15606919],\n",
       "       [ 0.00773109,  0.09242635, -0.10810897,  0.1808179 ,  0.05963286,\n",
       "         0.05018888,  0.03739605,  0.6866641 ,  0.3662071 ,  1.0490057 ,\n",
       "         0.2962286 ],\n",
       "       [-0.02128183,  0.16575848, -0.03578829,  0.0458682 ,  0.03337649,\n",
       "         0.03520884,  0.02765592,  0.17853926,  0.15606919,  0.29622856,\n",
       "         0.2513219 ]], dtype=float32)>"
      ]
     },
     "execution_count": 218,
     "metadata": {},
     "output_type": "execute_result"
    }
   ],
   "source": [
    "K"
   ]
  },
  {
   "cell_type": "code",
   "execution_count": 219,
   "metadata": {
    "ExecuteTime": {
     "end_time": "2020-02-20T16:10:11.996153Z",
     "start_time": "2020-02-20T16:10:11.993237Z"
    }
   },
   "outputs": [],
   "source": [
    "w = tf.linalg.solve(K,b)"
   ]
  },
  {
   "cell_type": "code",
   "execution_count": 220,
   "metadata": {
    "ExecuteTime": {
     "end_time": "2020-02-20T16:10:12.156615Z",
     "start_time": "2020-02-20T16:10:12.152839Z"
    }
   },
   "outputs": [
    {
     "data": {
      "text/plain": [
       "<tf.Tensor: shape=(11, 1), dtype=float32, numpy=\n",
       "array([[ 3.5191445],\n",
       "       [-2.7132921],\n",
       "       [ 4.006365 ],\n",
       "       [ 5.1840425],\n",
       "       [-1.750279 ],\n",
       "       [ 2.805225 ],\n",
       "       [-0.5450817],\n",
       "       [ 1.8204283],\n",
       "       [-2.1845129],\n",
       "       [-1.7758627],\n",
       "       [ 3.7678611]], dtype=float32)>"
      ]
     },
     "execution_count": 220,
     "metadata": {},
     "output_type": "execute_result"
    }
   ],
   "source": [
    "w"
   ]
  },
  {
   "cell_type": "markdown",
   "metadata": {},
   "source": [
    "### Now need to find a way to interpolate"
   ]
  },
  {
   "cell_type": "code",
   "execution_count": 221,
   "metadata": {
    "ExecuteTime": {
     "end_time": "2020-02-20T16:10:12.511514Z",
     "start_time": "2020-02-20T16:10:12.506337Z"
    }
   },
   "outputs": [],
   "source": [
    "xx = tf.range(-.5,4.5,0.1)\n",
    "yy = tf.range(-.5,4.5,0.1)\n",
    "XX,YY = tf.meshgrid(xx,yy)\n",
    "X = tf.transpose(tf.reshape(XX,[-1]))\n",
    "Y = tf.transpose(tf.reshape(YY,[-1]))"
   ]
  },
  {
   "cell_type": "code",
   "execution_count": 222,
   "metadata": {
    "ExecuteTime": {
     "end_time": "2020-02-20T16:10:12.676273Z",
     "start_time": "2020-02-20T16:10:12.672875Z"
    }
   },
   "outputs": [],
   "source": [
    "grid = tf.stack([X,Y],axis = 1)"
   ]
  },
  {
   "cell_type": "code",
   "execution_count": 223,
   "metadata": {
    "ExecuteTime": {
     "end_time": "2020-02-20T16:10:12.834311Z",
     "start_time": "2020-02-20T16:10:12.830844Z"
    }
   },
   "outputs": [],
   "source": [
    "hu_Simpoints = cartesian_dist_no_tile(x_1,grid)"
   ]
  },
  {
   "cell_type": "code",
   "execution_count": 224,
   "metadata": {
    "ExecuteTime": {
     "end_time": "2020-02-20T16:10:13.013470Z",
     "start_time": "2020-02-20T16:10:13.010194Z"
    }
   },
   "outputs": [],
   "source": [
    "sed_dips_SimPoint = squared_euclidean_distance(x_1_tiled,grid)"
   ]
  },
  {
   "cell_type": "code",
   "execution_count": 225,
   "metadata": {
    "ExecuteTime": {
     "end_time": "2020-02-20T16:10:13.188402Z",
     "start_time": "2020-02-20T16:10:13.183630Z"
    }
   },
   "outputs": [],
   "source": [
    "sigma_0_grad = w[:x_1.shape[0]*2] * (-hu_Simpoints*(- c_o_T * ((-14 / a_T ** 2) + 105 / 4 * sed_dips_SimPoint / a_T ** 3 -\n",
    "                               35 / 2 * sed_dips_SimPoint ** 3 / a_T ** 5 +\n",
    "                               21 / 4 * sed_dips_SimPoint ** 5 / a_T ** 7)))"
   ]
  },
  {
   "cell_type": "code",
   "execution_count": 226,
   "metadata": {
    "ExecuteTime": {
     "end_time": "2020-02-20T16:10:13.363081Z",
     "start_time": "2020-02-20T16:10:13.360478Z"
    }
   },
   "outputs": [],
   "source": [
    "sigma_0_grad = tf.reduce_sum(sigma_0_grad,axis=0)"
   ]
  },
  {
   "cell_type": "code",
   "execution_count": 227,
   "metadata": {
    "ExecuteTime": {
     "end_time": "2020-02-20T16:10:13.515772Z",
     "start_time": "2020-02-20T16:10:13.511670Z"
    }
   },
   "outputs": [
    {
     "data": {
      "text/plain": [
       "<tf.Tensor: shape=(7, 2500), dtype=float32, numpy=\n",
       "array([[4.743417 , 4.6486554, 4.554119 , ..., 3.4058754, 3.4132075,\n",
       "        3.4234464],\n",
       "       [4.743417 , 4.6486554, 4.554119 , ..., 3.4058754, 3.4132075,\n",
       "        3.4234464],\n",
       "       [4.743417 , 4.6486554, 4.554119 , ..., 3.4058754, 3.4132075,\n",
       "        3.4234464],\n",
       "       ...,\n",
       "       [5.166236 , 5.0990186, 5.0328918, ..., 1.6278801, 1.7029357,\n",
       "        1.7804455],\n",
       "       [5.7008767, 5.6400356, 5.5803223, ..., 1.2649089, 1.3601437,\n",
       "        1.456019 ],\n",
       "       [5.7008767, 5.6400356, 5.5803223, ..., 1.2649089, 1.3601437,\n",
       "        1.456019 ]], dtype=float32)>"
      ]
     },
     "execution_count": 227,
     "metadata": {},
     "output_type": "execute_result"
    }
   ],
   "source": [
    "sed_ref_SimPoint"
   ]
  },
  {
   "cell_type": "code",
   "execution_count": 228,
   "metadata": {
    "ExecuteTime": {
     "end_time": "2020-02-20T16:10:13.702837Z",
     "start_time": "2020-02-20T16:10:13.699803Z"
    }
   },
   "outputs": [],
   "source": [
    "sed_rest_SimPoint = squared_euclidean_distance(rest_layer_points,grid)\n",
    "sed_ref_SimPoint = squared_euclidean_distance(ref_layer_points,grid)"
   ]
  },
  {
   "cell_type": "code",
   "execution_count": 229,
   "metadata": {
    "ExecuteTime": {
     "end_time": "2020-02-20T16:10:13.898925Z",
     "start_time": "2020-02-20T16:10:13.889330Z"
    }
   },
   "outputs": [],
   "source": [
    "sigma_0_interf = -w[x_1.shape[0]*2:]*(c_o_T  * ((1 - 7 * (sed_rest_SimPoint / a_T) ** 2 +\n",
    "             35 / 4 * (sed_rest_SimPoint / a_T) ** 3 -\n",
    "             7 / 2 * (sed_rest_SimPoint / a_T) ** 5 +\n",
    "             3 / 4 * (sed_rest_SimPoint / a_T) ** 7) -\\\n",
    "             (1 - 7 * (sed_ref_SimPoint / a_T) ** 2 +\n",
    "              35 / 4 * (sed_ref_SimPoint / a_T) ** 3 -\n",
    "              7 / 2 * (sed_ref_SimPoint / a_T) ** 5 +\n",
    "              3 / 4 * (sed_ref_SimPoint / a_T) ** 7)))\n",
    "sigma_0_interf = tf.reduce_sum(sigma_0_interf,axis = 0)"
   ]
  },
  {
   "cell_type": "code",
   "execution_count": 230,
   "metadata": {
    "ExecuteTime": {
     "end_time": "2020-02-20T16:10:14.087125Z",
     "start_time": "2020-02-20T16:10:14.084314Z"
    }
   },
   "outputs": [],
   "source": [
    "interpolate_result = sigma_0_grad+sigma_0_interf"
   ]
  },
  {
   "cell_type": "code",
   "execution_count": 231,
   "metadata": {
    "ExecuteTime": {
     "end_time": "2020-02-20T16:10:14.284201Z",
     "start_time": "2020-02-20T16:10:14.280673Z"
    }
   },
   "outputs": [
    {
     "data": {
      "text/plain": [
       "TensorShape([2500])"
      ]
     },
     "execution_count": 231,
     "metadata": {},
     "output_type": "execute_result"
    }
   ],
   "source": [
    "interpolate_result.shape"
   ]
  },
  {
   "cell_type": "code",
   "execution_count": 232,
   "metadata": {
    "ExecuteTime": {
     "end_time": "2020-02-20T16:10:14.444922Z",
     "start_time": "2020-02-20T16:10:14.441349Z"
    }
   },
   "outputs": [],
   "source": [
    "intp = tf.reshape(interpolate_result,[50,50])"
   ]
  },
  {
   "cell_type": "code",
   "execution_count": 233,
   "metadata": {
    "ExecuteTime": {
     "end_time": "2020-02-20T16:10:14.622060Z",
     "start_time": "2020-02-20T16:10:14.617672Z"
    }
   },
   "outputs": [],
   "source": [
    "x1 = [0,0]\n",
    "x2 = [2,0]\n",
    "x_int1 = np.vstack([x1,x2])\n",
    "# interface 2:\n",
    "x3 = [0,2]\n",
    "x4 = [2,2]\n",
    "x_int2 = np.vstack([x3,x4])\n",
    "# orientation point:\n",
    "x5 = [0,1]\n",
    "x = np.vstack([x1, x2, x3, x4, x5])\n",
    "# orientation values\n",
    "gx5 = 1.\n",
    "gy5 = 1."
   ]
  },
  {
   "cell_type": "code",
   "execution_count": 234,
   "metadata": {
    "ExecuteTime": {
     "end_time": "2020-02-20T16:10:15.040351Z",
     "start_time": "2020-02-20T16:10:14.799106Z"
    }
   },
   "outputs": [
    {
     "data": {
      "text/plain": [
       "[<matplotlib.lines.Line2D at 0x141509f28>]"
      ]
     },
     "execution_count": 234,
     "metadata": {},
     "output_type": "execute_result"
    },
    {
     "data": {
      "image/png": "[encoded data removed]",
      "text/plain": [
       "<Figure size 432x288 with 2 Axes>"
      ]
     },
     "metadata": {
      "needs_background": "light"
     },
     "output_type": "display_data"
    }
   ],
   "source": [
    "plt.contour(XX,YY,intp)\n",
    "plt.colorbar()\n",
    "plt.plot(layer1[:,0], layer1[:,1], 'ro')\n",
    "plt.plot(layer2[:,0], layer2[:,1], 'bo')\n",
    "plt.plot(layer3[:,0], layer3[:,1], 'ko')\n",
    "plt.plot(x5[0], x5[1], 'go')"
   ]
  },
  {
   "cell_type": "code",
   "execution_count": null,
   "metadata": {},
   "outputs": [],
   "source": []
  },
  {
   "cell_type": "code",
   "execution_count": null,
   "metadata": {},
   "outputs": [],
   "source": []
  }
 ],
 "metadata": {
  "kernelspec": {
   "display_name": "Python 3.7.1 64-bit ('bys': conda)",
   "language": "python",
   "name": "python37164bitbysconda40e087e0fc0f4c79b5e00459bd86405a"
  },
  "language_info": {
   "codemirror_mode": {
    "name": "ipython",
    "version": 3
   },
   "file_extension": ".py",
   "mimetype": "text/x-python",
   "name": "python",
   "nbconvert_exporter": "python",
   "pygments_lexer": "ipython3",
   "version": "3.7.1"
  },
  "varInspector": {
   "cols": {
    "lenName": 16,
    "lenType": 16,
    "lenVar": 40
   },
   "kernels_config": {
    "python": {
     "delete_cmd_postfix": "",
     "delete_cmd_prefix": "del ",
     "library": "var_list.py",
     "varRefreshCmd": "print(var_dic_list())"
    },
    "r": {
     "delete_cmd_postfix": ") ",
     "delete_cmd_prefix": "rm(",
     "library": "var_list.r",
     "varRefreshCmd": "cat(var_dic_list()) "
    }
   },
   "types_to_exclude": [
    "module",
    "function",
    "builtin_function_or_method",
    "instance",
    "_Feature"
   ],
   "window_display": false
  }
 },
 "nbformat": 4,
 "nbformat_minor": 4
}
