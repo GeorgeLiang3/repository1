{
 "cells": [
  {
   "cell_type": "code",
   "execution_count": 1,
   "metadata": {
    "ExecuteTime": {
     "end_time": "2020-04-01T14:14:53.152970Z",
     "start_time": "2020-04-01T14:14:48.862928Z"
    }
   },
   "outputs": [],
   "source": [
    "import sys, os\n",
    "sys.path.append(\"/Users/zhouji/Documents/github/gempy\")\n",
    "import theano\n",
    "import pandas as pd\n",
    "import gempy as gp\n",
    "import tensorflow as tf\n",
    "import numpy as np\n",
    "\n",
    "from gempy.core.tensor.tensorflow_graph import TFGraph"
   ]
  },
  {
   "cell_type": "code",
   "execution_count": 2,
   "metadata": {
    "ExecuteTime": {
     "end_time": "2020-04-01T14:14:53.700405Z",
     "start_time": "2020-04-01T14:14:53.154503Z"
    }
   },
   "outputs": [
    {
     "name": "stdout",
     "output_type": "stream",
     "text": [
      "Active grids: ['regular']\n"
     ]
    }
   ],
   "source": [
    "geo_data = gp.create_data([0,1000,0,1000,0,1000],resolution=[50,50,50], \n",
    "                        path_o = \"/Users/zhouji/Documents/github/gempy/notebooks/data/input_data/jan_models/model1_orientations.csv\",\n",
    "                        path_i = \"/Users/zhouji/Documents/github/gempy/notebooks/data/input_data/jan_models/model1_surface_points.csv\") "
   ]
  },
  {
   "cell_type": "code",
   "execution_count": 3,
   "metadata": {
    "ExecuteTime": {
     "end_time": "2020-04-01T14:14:53.859408Z",
     "start_time": "2020-04-01T14:14:53.702346Z"
    }
   },
   "outputs": [
    {
     "data": {
      "text/html": [
       "<style  type=\"text/css\" >\n",
       "    #T_2864479e_7423_11ea_8dc9_acde48001122row0_col4 {\n",
       "            background-color:  #015482;\n",
       "        }    #T_2864479e_7423_11ea_8dc9_acde48001122row1_col4 {\n",
       "            background-color:  #9f0052;\n",
       "        }    #T_2864479e_7423_11ea_8dc9_acde48001122row2_col4 {\n",
       "            background-color:  #ffbe00;\n",
       "        }</style><table id=\"T_2864479e_7423_11ea_8dc9_acde48001122\" ><thead>    <tr>        <th class=\"blank level0\" ></th>        <th class=\"col_heading level0 col0\" >surface</th>        <th class=\"col_heading level0 col1\" >series</th>        <th class=\"col_heading level0 col2\" >order_surfaces</th>        <th class=\"col_heading level0 col3\" >isActive</th>        <th class=\"col_heading level0 col4\" >color</th>        <th class=\"col_heading level0 col5\" >id</th>    </tr></thead><tbody>\n",
       "                <tr>\n",
       "                        <th id=\"T_2864479e_7423_11ea_8dc9_acde48001122level0_row0\" class=\"row_heading level0 row0\" >0</th>\n",
       "                        <td id=\"T_2864479e_7423_11ea_8dc9_acde48001122row0_col0\" class=\"data row0 col0\" >rock2</td>\n",
       "                        <td id=\"T_2864479e_7423_11ea_8dc9_acde48001122row0_col1\" class=\"data row0 col1\" >Strat_Series</td>\n",
       "                        <td id=\"T_2864479e_7423_11ea_8dc9_acde48001122row0_col2\" class=\"data row0 col2\" >1</td>\n",
       "                        <td id=\"T_2864479e_7423_11ea_8dc9_acde48001122row0_col3\" class=\"data row0 col3\" >True</td>\n",
       "                        <td id=\"T_2864479e_7423_11ea_8dc9_acde48001122row0_col4\" class=\"data row0 col4\" >#015482</td>\n",
       "                        <td id=\"T_2864479e_7423_11ea_8dc9_acde48001122row0_col5\" class=\"data row0 col5\" >1</td>\n",
       "            </tr>\n",
       "            <tr>\n",
       "                        <th id=\"T_2864479e_7423_11ea_8dc9_acde48001122level0_row1\" class=\"row_heading level0 row1\" >1</th>\n",
       "                        <td id=\"T_2864479e_7423_11ea_8dc9_acde48001122row1_col0\" class=\"data row1 col0\" >rock1</td>\n",
       "                        <td id=\"T_2864479e_7423_11ea_8dc9_acde48001122row1_col1\" class=\"data row1 col1\" >Strat_Series</td>\n",
       "                        <td id=\"T_2864479e_7423_11ea_8dc9_acde48001122row1_col2\" class=\"data row1 col2\" >2</td>\n",
       "                        <td id=\"T_2864479e_7423_11ea_8dc9_acde48001122row1_col3\" class=\"data row1 col3\" >True</td>\n",
       "                        <td id=\"T_2864479e_7423_11ea_8dc9_acde48001122row1_col4\" class=\"data row1 col4\" >#9f0052</td>\n",
       "                        <td id=\"T_2864479e_7423_11ea_8dc9_acde48001122row1_col5\" class=\"data row1 col5\" >2</td>\n",
       "            </tr>\n",
       "            <tr>\n",
       "                        <th id=\"T_2864479e_7423_11ea_8dc9_acde48001122level0_row2\" class=\"row_heading level0 row2\" >2</th>\n",
       "                        <td id=\"T_2864479e_7423_11ea_8dc9_acde48001122row2_col0\" class=\"data row2 col0\" >basement</td>\n",
       "                        <td id=\"T_2864479e_7423_11ea_8dc9_acde48001122row2_col1\" class=\"data row2 col1\" >Basement_Series</td>\n",
       "                        <td id=\"T_2864479e_7423_11ea_8dc9_acde48001122row2_col2\" class=\"data row2 col2\" >1</td>\n",
       "                        <td id=\"T_2864479e_7423_11ea_8dc9_acde48001122row2_col3\" class=\"data row2 col3\" >True</td>\n",
       "                        <td id=\"T_2864479e_7423_11ea_8dc9_acde48001122row2_col4\" class=\"data row2 col4\" >#ffbe00</td>\n",
       "                        <td id=\"T_2864479e_7423_11ea_8dc9_acde48001122row2_col5\" class=\"data row2 col5\" >3</td>\n",
       "            </tr>\n",
       "    </tbody></table>"
      ],
      "text/plain": [
       "    surface           series  order_surfaces  isActive    color  id\n",
       "0     rock2     Strat_Series               1      True  #015482   1\n",
       "1     rock1     Strat_Series               2      True  #9f0052   2\n",
       "2  basement  Basement_Series               1      True  #ffbe00   3"
      ]
     },
     "execution_count": 3,
     "metadata": {},
     "output_type": "execute_result"
    }
   ],
   "source": [
    "gp.map_series_to_surfaces(geo_data, {\"Strat_Series\": ('rock2','rock1'),\"Basement_Series\":('basement')})"
   ]
  },
  {
   "cell_type": "code",
   "execution_count": 4,
   "metadata": {
    "ExecuteTime": {
     "end_time": "2020-04-01T14:14:54.074227Z",
     "start_time": "2020-04-01T14:14:53.860827Z"
    }
   },
   "outputs": [
    {
     "data": {
      "text/plain": [
       "<gempy.plot.visualization_2d.PlotData2D at 0x124733710>"
      ]
     },
     "execution_count": 4,
     "metadata": {},
     "output_type": "execute_result"
    },
    {
     "data": {
      "image/png": "[encoded data removed]",
      "text/plain": [
       "<Figure size 432x432 with 1 Axes>"
      ]
     },
     "metadata": {
      "needs_background": "light"
     },
     "output_type": "display_data"
    }
   ],
   "source": [
    "%matplotlib inline\n",
    "gp.plot.plot_data(geo_data, direction='y')"
   ]
  },
  {
   "cell_type": "code",
   "execution_count": 5,
   "metadata": {
    "ExecuteTime": {
     "end_time": "2020-04-01T14:14:54.077716Z",
     "start_time": "2020-04-01T14:14:54.075553Z"
    }
   },
   "outputs": [],
   "source": [
    "interpolator = geo_data.interpolator"
   ]
  },
  {
   "cell_type": "code",
   "execution_count": 6,
   "metadata": {
    "ExecuteTime": {
     "end_time": "2020-04-01T14:14:54.084326Z",
     "start_time": "2020-04-01T14:14:54.079744Z"
    }
   },
   "outputs": [],
   "source": [
    "dips_position = interpolator.orientations.df[['X_r', 'Y_r', 'Z_r']].values\n",
    "dip_angles = interpolator.orientations.df[\"dip\"].values\n",
    "azimuth = interpolator.orientations.df[\"azimuth\"].values\n",
    "polarity = interpolator.orientations.df[\"polarity\"].values"
   ]
  },
  {
   "cell_type": "code",
   "execution_count": 7,
   "metadata": {
    "ExecuteTime": {
     "end_time": "2020-04-01T14:14:54.092754Z",
     "start_time": "2020-04-01T14:14:54.086573Z"
    }
   },
   "outputs": [],
   "source": [
    "dips_position = interpolator.orientations.df[['X_r', 'Y_r', 'Z_r']].values\n",
    "dip_angles = interpolator.orientations.df[\"dip\"].values\n",
    "azimuth = interpolator.orientations.df[\"azimuth\"].values\n",
    "polarity = interpolator.orientations.df[\"polarity\"].values\n",
    "surface_points_coord = interpolator.surface_points.df[['X_r', 'Y_r', 'Z_r']].values\n",
    "grid = interpolator.grid.values_r"
   ]
  },
  {
   "cell_type": "code",
   "execution_count": 8,
   "metadata": {
    "ExecuteTime": {
     "end_time": "2020-04-01T14:14:54.099070Z",
     "start_time": "2020-04-01T14:14:54.095038Z"
    }
   },
   "outputs": [
    {
     "data": {
      "text/plain": [
       "All the surface_points points at once"
      ]
     },
     "execution_count": 8,
     "metadata": {},
     "output_type": "execute_result"
    }
   ],
   "source": [
    "interpolator.theano_graph.surface_points_all"
   ]
  },
  {
   "cell_type": "code",
   "execution_count": 9,
   "metadata": {
    "ExecuteTime": {
     "end_time": "2020-04-01T14:14:54.106018Z",
     "start_time": "2020-04-01T14:14:54.101648Z"
    }
   },
   "outputs": [
    {
     "data": {
      "text/plain": [
       "[Position of the dips,\n",
       " Angle of every dip,\n",
       " Azimuth,\n",
       " Polarity,\n",
       " All the surface_points points at once,\n",
       " Full block matrix for faults or drift. We take 2 times len points for the faultdrift.]"
      ]
     },
     "execution_count": 9,
     "metadata": {},
     "output_type": "execute_result"
    }
   ],
   "source": [
    "interpolator.theano_graph.input_parameters_kriging"
   ]
  },
  {
   "cell_type": "code",
   "execution_count": 10,
   "metadata": {
    "ExecuteTime": {
     "end_time": "2020-04-01T14:15:12.264374Z",
     "start_time": "2020-04-01T14:14:54.107649Z"
    }
   },
   "outputs": [
    {
     "name": "stdout",
     "output_type": "stream",
     "text": [
      "Setting kriging parameters to their default values.\n",
      "Compiling theano function...\n",
      "Level of Optimization:  fast_run\n",
      "Device:  cpu\n",
      "Precision:  float64\n",
      "Number of faults:  0\n",
      "Compilation Done!\n",
      "Kriging values: \n",
      "                   values\n",
      "range            1732.05\n",
      "$C_o$            71428.6\n",
      "drift equations   [3, 3]\n"
     ]
    }
   ],
   "source": [
    "interp_data = gp.set_interpolator(geo_data, compile_theano=True,\n",
    "                                        theano_optimizer='fast_run',\n",
    "                                 verbose= ['U_I','U_G'])"
   ]
  },
  {
   "cell_type": "code",
   "execution_count": 11,
   "metadata": {
    "ExecuteTime": {
     "end_time": "2020-04-01T14:15:13.204295Z",
     "start_time": "2020-04-01T14:15:12.266033Z"
    }
   },
   "outputs": [
    {
     "name": "stdout",
     "output_type": "stream",
     "text": [
      "U_G __str__ = [[1.     0.     0.     2.0004 0.     0.     1.0002 1.1252 0.    ]\n",
      " [1.     0.     0.     2.0004 0.     0.     1.0002 0.8752 0.    ]\n",
      " [0.     1.     0.     0.     2.0004 0.     1.0002 0.     1.1252]\n",
      " [0.     1.     0.     0.     2.0004 0.     1.0002 0.     0.8752]\n",
      " [0.     0.     1.     0.     0.     2.2504 0.     1.0002 1.0002]\n",
      " [0.     0.     1.     0.     0.     1.7504 0.     1.0002 1.0002]]\n",
      "U_I __str__ = [[-0.5     -0.      -0.      -0.7502  -0.      -0.      -0.3126  -0.5626\n",
      "  -0.     ]\n",
      " [-1.      -0.      -0.      -2.0004  -0.      -0.      -0.6252  -1.1252\n",
      "  -0.     ]\n",
      " [-0.      -0.75    -0.      -0.      -1.5003  -0.      -0.37515 -0.\n",
      "  -0.8439 ]\n",
      " [-0.5     -0.75    -0.      -0.7502  -1.5003  -0.      -1.06275 -0.5626\n",
      "  -0.8439 ]\n",
      " [-1.      -0.75    -0.      -2.0004  -1.5003  -0.      -1.75035 -1.1252\n",
      "  -0.8439 ]\n",
      " [-0.5     -0.      -0.      -0.7502  -0.      -0.      -0.3126  -0.4376\n",
      "  -0.     ]\n",
      " [-1.      -0.      -0.      -2.0004  -0.      -0.      -0.6252  -0.8752\n",
      "  -0.     ]\n",
      " [-0.      -0.75    -0.      -0.      -1.5003  -0.      -0.37515 -0.\n",
      "  -0.6564 ]\n",
      " [-0.5     -0.75    -0.      -0.7502  -1.5003  -0.      -1.06275 -0.4376\n",
      "  -0.6564 ]\n",
      " [-1.      -0.75    -0.      -2.0004  -1.5003  -0.      -1.75035 -0.8752\n",
      "  -0.6564 ]]\n"
     ]
    },
    {
     "name": "stderr",
     "output_type": "stream",
     "text": [
      "/Users/zhouji/Documents/github/gempy/gempy/core/solution.py:284: UserWarning: Attribute error. Using non masked marching cubesmarching_cubes_lewiner() got an unexpected keyword argument 'mask'.\n",
      "  warnings.warn('Attribute error. Using non masked marching cubes' + str(e)+'.')\n"
     ]
    }
   ],
   "source": [
    "sol = gp.compute_model(geo_data)"
   ]
  },
  {
   "cell_type": "code",
   "execution_count": 12,
   "metadata": {
    "ExecuteTime": {
     "end_time": "2020-04-01T14:15:13.213938Z",
     "start_time": "2020-04-01T14:15:13.205616Z"
    }
   },
   "outputs": [],
   "source": [
    "dips_position, dip_angles, azimuth, polarity,surface_points_coord,fault_drift, grid, values_properties = interpolator.get_python_input_block()[0:-3]"
   ]
  },
  {
   "cell_type": "code",
   "execution_count": 13,
   "metadata": {
    "ExecuteTime": {
     "end_time": "2020-04-01T14:15:13.218430Z",
     "start_time": "2020-04-01T14:15:13.215233Z"
    }
   },
   "outputs": [],
   "source": [
    "dtype = interpolator.additional_data.options.df.loc['values', 'dtype']"
   ]
  },
  {
   "cell_type": "code",
   "execution_count": 14,
   "metadata": {
    "ExecuteTime": {
     "end_time": "2020-04-01T14:15:13.260229Z",
     "start_time": "2020-04-01T14:15:13.220607Z"
    }
   },
   "outputs": [],
   "source": [
    "len_rest_form = interpolator.additional_data.structure_data.df.loc['values','len surfaces surface_points']-1\n",
    "Range = interpolator.additional_data.kriging_data.df.loc['values', 'range']\n",
    "C_o = interpolator.additional_data.kriging_data.df.loc['values', '$C_o$']\n",
    "rescale_factor = interpolator.additional_data.rescaling_data.df.loc['values', 'rescaling factor']\n",
    "nugget_effect_grad  = np.cast[dtype](np.tile(interpolator.orientations.df['smooth'], 3))\n",
    "nugget_effect_scalar = np.cast[interpolator.dtype](interpolator.surface_points.df['smooth'])\n",
    "\n",
    "TFG = TFGraph(dips_position, dip_angles, azimuth,\n",
    "              polarity,surface_points_coord,fault_drift,\n",
    "              grid, values_properties,len_rest_form,Range,\n",
    "              C_o,nugget_effect_scalar,nugget_effect_grad,\n",
    "              rescale_factor)\n",
    "\n"
   ]
  },
  {
   "cell_type": "code",
   "execution_count": 15,
   "metadata": {
    "ExecuteTime": {
     "end_time": "2020-04-01T14:15:13.267514Z",
     "start_time": "2020-04-01T14:15:13.262392Z"
    }
   },
   "outputs": [
    {
     "data": {
      "text/plain": [
       "array([[0.5001, 0.5001, 0.5626],\n",
       "       [0.5001, 0.5001, 0.4376]])"
      ]
     },
     "execution_count": 15,
     "metadata": {},
     "output_type": "execute_result"
    }
   ],
   "source": [
    "TFG.dips_position_all"
   ]
  },
  {
   "cell_type": "code",
   "execution_count": 16,
   "metadata": {
    "ExecuteTime": {
     "end_time": "2020-04-01T14:15:13.285244Z",
     "start_time": "2020-04-01T14:15:13.269599Z"
    }
   },
   "outputs": [],
   "source": [
    "sed_dips_rest =  TFG.squared_euclidean_distance(TFG.dips_position_all_tiled,TFG.rest_layer_points)\n",
    "sed_dips_ref =  TFG.squared_euclidean_distance(TFG.dips_position_all_tiled,TFG.ref_layer_points)\n",
    "def cartesian_dist_no_tile(x_1,x_2):\n",
    "    return tf.concat([\n",
    "        tf.transpose((x_1[:,0] - tf.reshape(x_2[:,0],[x_2.shape[0],1]))),\n",
    "        tf.transpose((x_1[:,1] - tf.reshape(x_2[:,1],[x_2.shape[0],1]))),\n",
    "        tf.transpose((x_1[:,2] - tf.reshape(x_2[:,2],[x_2.shape[0],1])))],axis = 0) \n",
    "hu_rest = cartesian_dist_no_tile(TFG.dips_position_all,TFG.rest_layer_points)\n",
    "hu_ref = cartesian_dist_no_tile(TFG.dips_position_all,TFG.ref_layer_points)"
   ]
  },
  {
   "cell_type": "code",
   "execution_count": 17,
   "metadata": {
    "ExecuteTime": {
     "end_time": "2020-04-01T14:15:13.297043Z",
     "start_time": "2020-04-01T14:15:13.287449Z"
    }
   },
   "outputs": [],
   "source": [
    "C_GI = TFG.gi_reescale*tf.transpose(hu_rest*\n",
    "                        tf.where(sed_dips_rest<TFG.a_T_surface,x = (- TFG.c_o_T * ((-14 / TFG.a_T_surface ** 2) + 105 / 4 * sed_dips_rest / TFG.a_T_surface ** 3 -\n",
    "                                  35 / 2 * sed_dips_rest ** 3 / TFG.a_T_surface ** 5 +\n",
    "                                  21 / 4 * sed_dips_rest ** 5 / TFG.a_T_surface ** 7)),y = 0)-\\\n",
    "        (hu_ref *tf.where(sed_dips_ref<TFG.a_T_surface,x = - TFG.c_o_T * ((-14 / TFG.a_T_surface ** 2) + 105 / 4 * sed_dips_ref / TFG.a_T_surface ** 3 -\n",
    "                                  35 / 2 * sed_dips_ref ** 3 / TFG.a_T_surface ** 5 +\n",
    "                                  21 / 4 * sed_dips_ref ** 5 / TFG.a_T_surface ** 7),y = 0)))"
   ]
  },
  {
   "cell_type": "code",
   "execution_count": 18,
   "metadata": {
    "ExecuteTime": {
     "end_time": "2020-04-01T14:15:13.320241Z",
     "start_time": "2020-04-01T14:15:13.299138Z"
    }
   },
   "outputs": [
    {
     "data": {
      "text/html": [
       "<div>\n",
       "<style scoped>\n",
       "    .dataframe tbody tr th:only-of-type {\n",
       "        vertical-align: middle;\n",
       "    }\n",
       "\n",
       "    .dataframe tbody tr th {\n",
       "        vertical-align: top;\n",
       "    }\n",
       "\n",
       "    .dataframe thead th {\n",
       "        text-align: right;\n",
       "    }\n",
       "</style>\n",
       "<table border=\"1\" class=\"dataframe\">\n",
       "  <thead>\n",
       "    <tr style=\"text-align: right;\">\n",
       "      <th></th>\n",
       "      <th>0</th>\n",
       "      <th>1</th>\n",
       "      <th>2</th>\n",
       "      <th>3</th>\n",
       "      <th>4</th>\n",
       "      <th>5</th>\n",
       "    </tr>\n",
       "  </thead>\n",
       "  <tbody>\n",
       "    <tr>\n",
       "      <th>0</th>\n",
       "      <td>-1.301474e+02</td>\n",
       "      <td>-120.938115</td>\n",
       "      <td>3.872490e+01</td>\n",
       "      <td>3.345976e+01</td>\n",
       "      <td>0.000000e+00</td>\n",
       "      <td>-2.230651e+01</td>\n",
       "    </tr>\n",
       "    <tr>\n",
       "      <th>1</th>\n",
       "      <td>-2.602948e+02</td>\n",
       "      <td>-241.876229</td>\n",
       "      <td>0.000000e+00</td>\n",
       "      <td>0.000000e+00</td>\n",
       "      <td>0.000000e+00</td>\n",
       "      <td>0.000000e+00</td>\n",
       "    </tr>\n",
       "    <tr>\n",
       "      <th>2</th>\n",
       "      <td>0.000000e+00</td>\n",
       "      <td>0.000000</td>\n",
       "      <td>-1.952211e+02</td>\n",
       "      <td>-1.814072e+02</td>\n",
       "      <td>0.000000e+00</td>\n",
       "      <td>0.000000e+00</td>\n",
       "    </tr>\n",
       "    <tr>\n",
       "      <th>3</th>\n",
       "      <td>-1.301474e+02</td>\n",
       "      <td>-120.938115</td>\n",
       "      <td>-2.339460e+02</td>\n",
       "      <td>-2.148669e+02</td>\n",
       "      <td>0.000000e+00</td>\n",
       "      <td>-2.230651e+01</td>\n",
       "    </tr>\n",
       "    <tr>\n",
       "      <th>4</th>\n",
       "      <td>-2.602948e+02</td>\n",
       "      <td>-241.876229</td>\n",
       "      <td>-1.952211e+02</td>\n",
       "      <td>-1.814072e+02</td>\n",
       "      <td>0.000000e+00</td>\n",
       "      <td>1.278977e-13</td>\n",
       "    </tr>\n",
       "    <tr>\n",
       "      <th>5</th>\n",
       "      <td>-1.209381e+02</td>\n",
       "      <td>-130.147384</td>\n",
       "      <td>3.345976e+01</td>\n",
       "      <td>3.872490e+01</td>\n",
       "      <td>2.230651e+01</td>\n",
       "      <td>0.000000e+00</td>\n",
       "    </tr>\n",
       "    <tr>\n",
       "      <th>6</th>\n",
       "      <td>-2.418762e+02</td>\n",
       "      <td>-260.294769</td>\n",
       "      <td>9.947598e-14</td>\n",
       "      <td>-1.136868e-13</td>\n",
       "      <td>7.105427e-14</td>\n",
       "      <td>0.000000e+00</td>\n",
       "    </tr>\n",
       "    <tr>\n",
       "      <th>7</th>\n",
       "      <td>1.421085e-13</td>\n",
       "      <td>0.000000</td>\n",
       "      <td>-1.814072e+02</td>\n",
       "      <td>-1.952211e+02</td>\n",
       "      <td>7.105427e-14</td>\n",
       "      <td>0.000000e+00</td>\n",
       "    </tr>\n",
       "    <tr>\n",
       "      <th>8</th>\n",
       "      <td>-1.209381e+02</td>\n",
       "      <td>-130.147384</td>\n",
       "      <td>-2.148669e+02</td>\n",
       "      <td>-2.339460e+02</td>\n",
       "      <td>2.230651e+01</td>\n",
       "      <td>0.000000e+00</td>\n",
       "    </tr>\n",
       "    <tr>\n",
       "      <th>9</th>\n",
       "      <td>-2.418762e+02</td>\n",
       "      <td>-260.294769</td>\n",
       "      <td>-1.814072e+02</td>\n",
       "      <td>-1.952211e+02</td>\n",
       "      <td>-5.684342e-14</td>\n",
       "      <td>0.000000e+00</td>\n",
       "    </tr>\n",
       "  </tbody>\n",
       "</table>\n",
       "</div>"
      ],
      "text/plain": [
       "              0           1             2             3             4  \\\n",
       "0 -1.301474e+02 -120.938115  3.872490e+01  3.345976e+01  0.000000e+00   \n",
       "1 -2.602948e+02 -241.876229  0.000000e+00  0.000000e+00  0.000000e+00   \n",
       "2  0.000000e+00    0.000000 -1.952211e+02 -1.814072e+02  0.000000e+00   \n",
       "3 -1.301474e+02 -120.938115 -2.339460e+02 -2.148669e+02  0.000000e+00   \n",
       "4 -2.602948e+02 -241.876229 -1.952211e+02 -1.814072e+02  0.000000e+00   \n",
       "5 -1.209381e+02 -130.147384  3.345976e+01  3.872490e+01  2.230651e+01   \n",
       "6 -2.418762e+02 -260.294769  9.947598e-14 -1.136868e-13  7.105427e-14   \n",
       "7  1.421085e-13    0.000000 -1.814072e+02 -1.952211e+02  7.105427e-14   \n",
       "8 -1.209381e+02 -130.147384 -2.148669e+02 -2.339460e+02  2.230651e+01   \n",
       "9 -2.418762e+02 -260.294769 -1.814072e+02 -1.952211e+02 -5.684342e-14   \n",
       "\n",
       "              5  \n",
       "0 -2.230651e+01  \n",
       "1  0.000000e+00  \n",
       "2  0.000000e+00  \n",
       "3 -2.230651e+01  \n",
       "4  1.278977e-13  \n",
       "5  0.000000e+00  \n",
       "6  0.000000e+00  \n",
       "7  0.000000e+00  \n",
       "8  0.000000e+00  \n",
       "9  0.000000e+00  "
      ]
     },
     "execution_count": 18,
     "metadata": {},
     "output_type": "execute_result"
    }
   ],
   "source": [
    "import pandas as pd\n",
    "pd.DataFrame(C_GI.numpy())"
   ]
  },
  {
   "cell_type": "code",
   "execution_count": 19,
   "metadata": {
    "ExecuteTime": {
     "end_time": "2020-04-01T14:15:13.334473Z",
     "start_time": "2020-04-01T14:15:13.322265Z"
    }
   },
   "outputs": [
    {
     "data": {
      "text/plain": [
       "<tf.Tensor: shape=(10, 6), dtype=float64, numpy=\n",
       "array([[-1.30147384e+02, -1.20938115e+02,  3.87249033e+01,\n",
       "         3.34597605e+01,  0.00000000e+00, -2.23065070e+01],\n",
       "       [-2.60294769e+02, -2.41876229e+02,  0.00000000e+00,\n",
       "         0.00000000e+00,  0.00000000e+00,  0.00000000e+00],\n",
       "       [ 0.00000000e+00,  0.00000000e+00, -1.95221076e+02,\n",
       "        -1.81407172e+02,  0.00000000e+00,  0.00000000e+00],\n",
       "       [-1.30147384e+02, -1.20938115e+02, -2.33945980e+02,\n",
       "        -2.14866932e+02,  0.00000000e+00, -2.23065070e+01],\n",
       "       [-2.60294769e+02, -2.41876229e+02, -1.95221076e+02,\n",
       "        -1.81407172e+02,  0.00000000e+00,  1.27897692e-13],\n",
       "       [-1.20938115e+02, -1.30147384e+02,  3.34597605e+01,\n",
       "         3.87249033e+01,  2.23065070e+01,  0.00000000e+00],\n",
       "       [-2.41876229e+02, -2.60294769e+02,  9.94759830e-14,\n",
       "        -1.13686838e-13,  7.10542736e-14,  0.00000000e+00],\n",
       "       [ 1.42108547e-13,  0.00000000e+00, -1.81407172e+02,\n",
       "        -1.95221076e+02,  7.10542736e-14,  0.00000000e+00],\n",
       "       [-1.20938115e+02, -1.30147384e+02, -2.14866932e+02,\n",
       "        -2.33945980e+02,  2.23065070e+01,  0.00000000e+00],\n",
       "       [-2.41876229e+02, -2.60294769e+02, -1.81407172e+02,\n",
       "        -1.95221076e+02, -5.68434189e-14,  0.00000000e+00]])>"
      ]
     },
     "execution_count": 19,
     "metadata": {},
     "output_type": "execute_result"
    }
   ],
   "source": [
    "TFG.cov_ubterface_gradients()"
   ]
  },
  {
   "cell_type": "code",
   "execution_count": 30,
   "metadata": {
    "ExecuteTime": {
     "end_time": "2020-04-01T14:18:50.496085Z",
     "start_time": "2020-04-01T14:18:50.492068Z"
    }
   },
   "outputs": [
    {
     "data": {
      "text/plain": [
       "<tf.Tensor: shape=(6, 9), dtype=float32, numpy=\n",
       "array([[0., 0., 0., 0., 0., 0., 0., 0., 0.],\n",
       "       [0., 0., 0., 0., 0., 0., 0., 0., 0.],\n",
       "       [0., 0., 0., 0., 0., 0., 0., 0., 0.],\n",
       "       [0., 0., 0., 0., 0., 0., 0., 0., 0.],\n",
       "       [0., 0., 0., 0., 0., 0., 0., 0., 0.],\n",
       "       [0., 0., 0., 0., 0., 0., 0., 0., 0.]], dtype=float32)>"
      ]
     },
     "execution_count": 30,
     "metadata": {},
     "output_type": "execute_result"
    }
   ],
   "source": [
    "tf.zeros([2*3,3*3])"
   ]
  },
  {
   "cell_type": "code",
   "execution_count": 32,
   "metadata": {
    "ExecuteTime": {
     "end_time": "2020-04-01T14:22:24.222060Z",
     "start_time": "2020-04-01T14:22:24.219719Z"
    }
   },
   "outputs": [],
   "source": [
    "n= TFG.dip_angles_all.shape[0]\n",
    "U_G = tf."
   ]
  },
  {
   "cell_type": "code",
   "execution_count": 34,
   "metadata": {
    "ExecuteTime": {
     "end_time": "2020-04-01T14:27:25.158172Z",
     "start_time": "2020-04-01T14:27:25.153845Z"
    }
   },
   "outputs": [
    {
     "data": {
      "text/plain": [
       "<tf.Tensor: shape=(2,), dtype=float64, numpy=array([2.0004, 2.0004])>"
      ]
     },
     "execution_count": 34,
     "metadata": {},
     "output_type": "execute_result"
    }
   ],
   "source": [
    "2 * TFG.gi_reescale * TFG.dips_position_all[:, 0]"
   ]
  },
  {
   "cell_type": "code",
   "execution_count": null,
   "metadata": {},
   "outputs": [],
   "source": []
  },
  {
   "cell_type": "code",
   "execution_count": null,
   "metadata": {},
   "outputs": [],
   "source": []
  },
  {
   "cell_type": "code",
   "execution_count": null,
   "metadata": {},
   "outputs": [],
   "source": []
  }
 ],
 "metadata": {
  "kernelspec": {
   "display_name": "Python [conda env:gempy] *",
   "language": "python",
   "name": "conda-env-gempy-py"
  },
  "language_info": {
   "codemirror_mode": {
    "name": "ipython",
    "version": 3
   },
   "file_extension": ".py",
   "mimetype": "text/x-python",
   "name": "python",
   "nbconvert_exporter": "python",
   "pygments_lexer": "ipython3",
   "version": "3.7.7"
  },
  "varInspector": {
   "cols": {
    "lenName": 16,
    "lenType": 16,
    "lenVar": 40
   },
   "kernels_config": {
    "python": {
     "delete_cmd_postfix": "",
     "delete_cmd_prefix": "del ",
     "library": "var_list.py",
     "varRefreshCmd": "print(var_dic_list())"
    },
    "r": {
     "delete_cmd_postfix": ") ",
     "delete_cmd_prefix": "rm(",
     "library": "var_list.r",
     "varRefreshCmd": "cat(var_dic_list()) "
    }
   },
   "types_to_exclude": [
    "module",
    "function",
    "builtin_function_or_method",
    "instance",
    "_Feature"
   ],
   "window_display": false
  }
 },
 "nbformat": 4,
 "nbformat_minor": 4
}
