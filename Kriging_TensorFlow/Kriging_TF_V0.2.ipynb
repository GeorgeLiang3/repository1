{
 "cells": [
  {
   "cell_type": "code",
   "execution_count": 1,
   "metadata": {
    "ExecuteTime": {
     "end_time": "2020-02-24T11:50:38.106105Z",
     "start_time": "2020-02-24T11:50:33.003987Z"
    }
   },
   "outputs": [],
   "source": [
    "import tensorflow as tf\n",
    "import numpy as np\n",
    "import matplotlib.pyplot as plt\n",
    "%matplotlib inline"
   ]
  },
  {
   "cell_type": "code",
   "execution_count": 2,
   "metadata": {
    "ExecuteTime": {
     "end_time": "2020-02-24T11:50:38.117631Z",
     "start_time": "2020-02-24T11:50:38.115937Z"
    }
   },
   "outputs": [],
   "source": [
    "# import sys\n",
    "# sys.path.insert(0, '/Users/zhouji/Documents/repository2')\n",
    "# import TF_Kriging.Kriging_TF_V_0_1 as KrigModel"
   ]
  },
  {
   "cell_type": "code",
   "execution_count": 3,
   "metadata": {
    "ExecuteTime": {
     "end_time": "2020-02-24T11:50:38.129749Z",
     "start_time": "2020-02-24T11:50:38.126558Z"
    }
   },
   "outputs": [],
   "source": [
    "def constant32(k):\n",
    "    return tf.constant(k,dtype = tf.float32)"
   ]
  },
  {
   "cell_type": "code",
   "execution_count": 4,
   "metadata": {
    "ExecuteTime": {
     "end_time": "2020-02-24T11:50:39.229284Z",
     "start_time": "2020-02-24T11:50:39.197500Z"
    }
   },
   "outputs": [],
   "source": [
    "x_1 = constant32([[0., 1.]])\n",
    "\n",
    "x_1_tiled = tf.tile(x_1,[2,1])"
   ]
  },
  {
   "cell_type": "code",
   "execution_count": 5,
   "metadata": {
    "ExecuteTime": {
     "end_time": "2020-02-24T11:50:39.856050Z",
     "start_time": "2020-02-24T11:50:39.851142Z"
    }
   },
   "outputs": [],
   "source": [
    "@tf.function\n",
    "def squared_euclidean_distance(x_1,x_2):\n",
    "    sqd = tf.sqrt(tf.reshape(tf.reduce_sum(x_1**2,1),shape =(x_1.shape[0],1))+\\\n",
    "    tf.reshape(tf.reduce_sum(x_2**2,1),shape =(1,x_2.shape[0]))-\\\n",
    "    2*tf.tensordot(x_1,tf.transpose(x_2),1))\n",
    "    return sqd"
   ]
  },
  {
   "cell_type": "code",
   "execution_count": 6,
   "metadata": {
    "ExecuteTime": {
     "end_time": "2020-02-24T11:50:41.054206Z",
     "start_time": "2020-02-24T11:50:40.768085Z"
    }
   },
   "outputs": [],
   "source": [
    "sq =  squared_euclidean_distance(x_1_tiled,x_1_tiled)"
   ]
  },
  {
   "cell_type": "code",
   "execution_count": 7,
   "metadata": {
    "ExecuteTime": {
     "end_time": "2020-02-24T11:50:41.575665Z",
     "start_time": "2020-02-24T11:50:41.570043Z"
    }
   },
   "outputs": [
    {
     "data": {
      "text/plain": [
       "<tf.Tensor: shape=(2, 2), dtype=float32, numpy=\n",
       "array([[0., 0.],\n",
       "       [0., 0.]], dtype=float32)>"
      ]
     },
     "execution_count": 7,
     "metadata": {},
     "output_type": "execute_result"
    }
   ],
   "source": [
    "sq"
   ]
  },
  {
   "cell_type": "code",
   "execution_count": 8,
   "metadata": {
    "ExecuteTime": {
     "end_time": "2020-02-24T11:50:42.761261Z",
     "start_time": "2020-02-24T11:50:42.752936Z"
    }
   },
   "outputs": [],
   "source": [
    "#Cartesian distances\n",
    "def cartesian_dist(x_1,x_2):\n",
    "    return tf.concat([\n",
    "        tf.tile(x_1[:,0] - tf.reshape(x_2[:,0],[x_2.shape[0],1]),[1,2]),\n",
    "        tf.tile(x_1[:,1] - tf.reshape(x_2[:,1],[x_2.shape[0],1]),[1,2])],axis = 0) \n",
    "h_u = cartesian_dist(x_1,x_1)"
   ]
  },
  {
   "cell_type": "code",
   "execution_count": 9,
   "metadata": {
    "ExecuteTime": {
     "end_time": "2020-02-24T11:50:43.059355Z",
     "start_time": "2020-02-24T11:50:43.055905Z"
    }
   },
   "outputs": [],
   "source": [
    "dist_tiled = squared_euclidean_distance(x_1_tiled,x_1_tiled)"
   ]
  },
  {
   "cell_type": "code",
   "execution_count": 10,
   "metadata": {
    "ExecuteTime": {
     "end_time": "2020-02-24T11:50:43.336874Z",
     "start_time": "2020-02-24T11:50:43.332771Z"
    }
   },
   "outputs": [
    {
     "data": {
      "text/plain": [
       "<tf.Tensor: shape=(2, 2), dtype=float32, numpy=\n",
       "array([[0., 0.],\n",
       "       [0., 0.]], dtype=float32)>"
      ]
     },
     "execution_count": 10,
     "metadata": {},
     "output_type": "execute_result"
    }
   ],
   "source": [
    "h_u"
   ]
  },
  {
   "cell_type": "code",
   "execution_count": 11,
   "metadata": {
    "ExecuteTime": {
     "end_time": "2020-02-24T11:50:43.581024Z",
     "start_time": "2020-02-24T11:50:43.577931Z"
    }
   },
   "outputs": [],
   "source": [
    "h_v = tf.transpose(h_u)"
   ]
  },
  {
   "cell_type": "code",
   "execution_count": 12,
   "metadata": {
    "ExecuteTime": {
     "end_time": "2020-02-24T11:50:43.806217Z",
     "start_time": "2020-02-24T11:50:43.799174Z"
    }
   },
   "outputs": [],
   "source": [
    "a = tf.concat([tf.ones([x_1.shape[0],x_1.shape[0]]),tf.zeros([x_1.shape[0],x_1.shape[0]])],axis = 1)\n",
    "b = tf.concat([tf.zeros([x_1.shape[0],x_1.shape[0]]),tf.ones([x_1.shape[0],x_1.shape[0]])],axis = 1)\n",
    "\n",
    "perpendicularity_matrix = tf.concat([a,b],axis = 0)"
   ]
  },
  {
   "cell_type": "code",
   "execution_count": 13,
   "metadata": {
    "ExecuteTime": {
     "end_time": "2020-02-24T11:50:44.468181Z",
     "start_time": "2020-02-24T11:50:44.465193Z"
    }
   },
   "outputs": [],
   "source": [
    "a_T = 5\n",
    "c_o_T = a_T**2/14/3"
   ]
  },
  {
   "cell_type": "code",
   "execution_count": 18,
   "metadata": {
    "ExecuteTime": {
     "end_time": "2020-02-24T11:55:39.996532Z",
     "start_time": "2020-02-24T11:55:39.990751Z"
    }
   },
   "outputs": [],
   "source": [
    "def cov_gradients(dist_tiled):\n",
    "    C_G = (tf.math.divide_no_nan(h_u*h_v , dist_tiled**2)*\\\n",
    "    (-c_o_T*((-14/a_T**2)+105/4*dist_tiled/a_T**3 - 35/2 * dist_tiled**3 / a_T **5 + 21 /4 * dist_tiled**5/a_T**7)+\n",
    "        c_o_T * 7 * (9 * dist_tiled ** 5 - 20 * a_T ** 2 * dist_tiled ** 3 +\n",
    "                                       15 * a_T ** 4 * dist_tiled - 4 * a_T ** 5) / (2 * a_T ** 7)-\n",
    "        perpendicularity_matrix * c_o_T * ((-14 / a_T ** 2) + 105 / 4 * dist_tiled / a_T ** 3 -\n",
    "                                   35 / 2 * dist_tiled ** 3 / a_T ** 5 +\n",
    "                                   21 / 4 * dist_tiled ** 5 / a_T ** 7))+\n",
    "        1/3*tf.eye(dist_tiled.shape[0])) ## adding nugget effect\n",
    "    return C_G"
   ]
  },
  {
   "cell_type": "code",
   "execution_count": 19,
   "metadata": {
    "ExecuteTime": {
     "end_time": "2020-02-24T11:55:40.285726Z",
     "start_time": "2020-02-24T11:55:40.282584Z"
    }
   },
   "outputs": [],
   "source": [
    "dist_tiled = dist_tiled + tf.eye(dist_tiled.shape[0])"
   ]
  },
  {
   "cell_type": "code",
   "execution_count": 20,
   "metadata": {
    "ExecuteTime": {
     "end_time": "2020-02-24T11:55:40.608609Z",
     "start_time": "2020-02-24T11:55:40.603555Z"
    }
   },
   "outputs": [],
   "source": [
    "C_G = cov_gradients(dist_tiled)"
   ]
  },
  {
   "cell_type": "code",
   "execution_count": 21,
   "metadata": {
    "ExecuteTime": {
     "end_time": "2020-02-24T11:55:41.077528Z",
     "start_time": "2020-02-24T11:55:41.073484Z"
    }
   },
   "outputs": [
    {
     "data": {
      "text/plain": [
       "<tf.Tensor: shape=(2, 2), dtype=float32, numpy=\n",
       "array([[0.33333334, 0.        ],\n",
       "       [0.        , 0.33333334]], dtype=float32)>"
      ]
     },
     "execution_count": 21,
     "metadata": {},
     "output_type": "execute_result"
    }
   ],
   "source": [
    "C_G"
   ]
  },
  {
   "cell_type": "markdown",
   "metadata": {},
   "source": [
    "### covariance of interface points"
   ]
  },
  {
   "cell_type": "code",
   "execution_count": 29,
   "metadata": {
    "ExecuteTime": {
     "end_time": "2020-02-24T12:01:30.070466Z",
     "start_time": "2020-02-24T12:01:30.064617Z"
    }
   },
   "outputs": [],
   "source": [
    "#TODO : try ragged tensors to store the data\n",
    "layer1 = ([[0,0],[2,0]])\n",
    "layer2 = constant32([[0,2],[2,2]])\n",
    "\n",
    "layer1 = constant32([[0,0],[2,0],[3,0],[4,0]])\n",
    "layer2 = constant32([[0,2],[2,2],[3,3]])\n",
    "\n",
    "number_of_layer = 2\n",
    "\n",
    "layer3 = constant32([[0,4],[2,4],[3,4]])"
   ]
  },
  {
   "cell_type": "code",
   "execution_count": 30,
   "metadata": {
    "ExecuteTime": {
     "end_time": "2020-02-24T12:01:30.314893Z",
     "start_time": "2020-02-24T12:01:30.306983Z"
    }
   },
   "outputs": [
    {
     "data": {
      "text/plain": [
       "[[0, 0], [2, 0]]"
      ]
     },
     "execution_count": 30,
     "metadata": {},
     "output_type": "execute_result"
    }
   ],
   "source": [
    "layer = tf.ragged.constant([[[0,0],[2,0]],[[0,2],[2,2],[3,3]]])\n",
    "layer[0].to_list()"
   ]
  },
  {
   "cell_type": "code",
   "execution_count": 31,
   "metadata": {
    "ExecuteTime": {
     "end_time": "2020-02-24T12:01:30.561793Z",
     "start_time": "2020-02-24T12:01:30.556091Z"
    }
   },
   "outputs": [
    {
     "data": {
      "text/plain": [
       "<tf.RaggedTensor [[[0, 0]], [[0, 2]]]>"
      ]
     },
     "execution_count": 31,
     "metadata": {},
     "output_type": "execute_result"
    }
   ],
   "source": [
    "layer[:,:1]"
   ]
  },
  {
   "cell_type": "code",
   "execution_count": 32,
   "metadata": {
    "ExecuteTime": {
     "end_time": "2020-02-24T12:01:30.794868Z",
     "start_time": "2020-02-24T12:01:30.791668Z"
    }
   },
   "outputs": [],
   "source": [
    "number_of_points_per_surface = np.array([layer1.shape[0],layer2.shape[0]])"
   ]
  },
  {
   "cell_type": "code",
   "execution_count": 33,
   "metadata": {
    "ExecuteTime": {
     "end_time": "2020-02-24T12:01:30.997936Z",
     "start_time": "2020-02-24T12:01:30.990562Z"
    }
   },
   "outputs": [
    {
     "data": {
      "text/plain": [
       "<tf.Tensor: shape=(5, 2), dtype=float32, numpy=\n",
       "array([[4., 0.],\n",
       "       [4., 0.],\n",
       "       [4., 0.],\n",
       "       [3., 3.],\n",
       "       [3., 3.]], dtype=float32)>"
      ]
     },
     "execution_count": 33,
     "metadata": {},
     "output_type": "execute_result"
    }
   ],
   "source": [
    "tf.repeat(tf.stack([layer1[-1],layer2[-1]],axis = 0),repeats=number_of_points_per_surface-1,axis = 0)"
   ]
  },
  {
   "cell_type": "code",
   "execution_count": 34,
   "metadata": {
    "ExecuteTime": {
     "end_time": "2020-02-24T12:01:31.660882Z",
     "start_time": "2020-02-24T12:01:31.656294Z"
    }
   },
   "outputs": [],
   "source": [
    "def set_rest_ref_matrix(number_of_points_per_surface):\n",
    "    ref_layer_points = tf.repeat(tf.stack([layer1[-1],layer2[-1]],axis = 0),repeats=number_of_points_per_surface-1,axis = 0)\n",
    "    rest_layer_points = tf.concat([layer1[0:-1],layer2[0:-1]],axis = 0)\n",
    "    return ref_layer_points,rest_layer_points"
   ]
  },
  {
   "cell_type": "code",
   "execution_count": 35,
   "metadata": {
    "ExecuteTime": {
     "end_time": "2020-02-24T12:01:32.570599Z",
     "start_time": "2020-02-24T12:01:32.564451Z"
    }
   },
   "outputs": [],
   "source": [
    "ref_layer_points,rest_layer_points = set_rest_ref_matrix(number_of_points_per_surface)"
   ]
  },
  {
   "cell_type": "code",
   "execution_count": 36,
   "metadata": {
    "ExecuteTime": {
     "end_time": "2020-02-24T12:01:32.879947Z",
     "start_time": "2020-02-24T12:01:32.850740Z"
    }
   },
   "outputs": [],
   "source": [
    "sed_rest_rest = squared_euclidean_distance(rest_layer_points,rest_layer_points)\n",
    "sed_ref_rest = squared_euclidean_distance(ref_layer_points,rest_layer_points)\n",
    "sed_rest_ref = squared_euclidean_distance(rest_layer_points,ref_layer_points)\n",
    "sed_ref_ref = squared_euclidean_distance(ref_layer_points,ref_layer_points)"
   ]
  },
  {
   "cell_type": "code",
   "execution_count": 37,
   "metadata": {
    "ExecuteTime": {
     "end_time": "2020-02-24T12:01:33.410589Z",
     "start_time": "2020-02-24T12:01:33.402259Z"
    }
   },
   "outputs": [],
   "source": [
    "def cov_interface(ref_layer_points,rest_layer_points):\n",
    "    sed_rest_rest = squared_euclidean_distance(rest_layer_points,rest_layer_points)\n",
    "    sed_ref_rest = squared_euclidean_distance(ref_layer_points,rest_layer_points)\n",
    "    sed_rest_ref = squared_euclidean_distance(rest_layer_points,ref_layer_points)\n",
    "    sed_ref_ref = squared_euclidean_distance(ref_layer_points,ref_layer_points)\n",
    "    \n",
    "    C_I = c_o_T*((1 - 7 * (sed_rest_rest / a_T) ** 2 +\\\n",
    "                 35 / 4 * (sed_rest_rest / a_T) ** 3 -\\\n",
    "                 7 / 2 * (sed_rest_rest / a_T) ** 5 +\\\n",
    "                 3 / 4 * (sed_rest_rest / a_T) ** 7) -\\\n",
    "                 (1 - 7 * (sed_ref_rest / a_T) ** 2 +\\\n",
    "                  35 / 4 * (sed_ref_rest / a_T) ** 3 -\\\n",
    "                  7 / 2 * (sed_ref_rest / a_T) ** 5 +\\\n",
    "                  3 / 4 * (sed_ref_rest / a_T) ** 7) -\\\n",
    "                 (1 - 7 * (sed_rest_ref / a_T) ** 2 +\\\n",
    "                  35 / 4 * (sed_rest_ref / a_T) ** 3 -\\\n",
    "                  7 / 2 * (sed_rest_ref / a_T) ** 5 +\\\n",
    "                  3 / 4 * (sed_rest_ref / a_T) ** 7) +\\\n",
    "                 (1 - 7 * (sed_ref_ref / a_T) ** 2 +\\\n",
    "                  35 / 4 * (sed_ref_ref / a_T) ** 3 -\\\n",
    "                  7 / 2 * (sed_ref_ref / a_T) ** 5 +\\\n",
    "                  3 / 4 * (sed_ref_ref / a_T) ** 7))\n",
    "    \n",
    "    return C_I"
   ]
  },
  {
   "cell_type": "code",
   "execution_count": 38,
   "metadata": {
    "ExecuteTime": {
     "end_time": "2020-02-24T12:01:33.978064Z",
     "start_time": "2020-02-24T12:01:33.970499Z"
    }
   },
   "outputs": [],
   "source": [
    "C_I = cov_interface(ref_layer_points,rest_layer_points)"
   ]
  },
  {
   "cell_type": "code",
   "execution_count": 39,
   "metadata": {
    "ExecuteTime": {
     "end_time": "2020-02-24T12:01:34.233917Z",
     "start_time": "2020-02-24T12:01:34.229568Z"
    }
   },
   "outputs": [
    {
     "data": {
      "text/plain": [
       "<tf.Tensor: shape=(5, 5), dtype=float32, numpy=\n",
       "array([[1.1780878 , 0.5890439 , 0.19020197, 0.29198828, 0.0512414 ],\n",
       "       [0.5890439 , 0.7078704 , 0.3539352 , 0.09175344, 0.14899345],\n",
       "       [0.190202  , 0.3539352 , 0.25132185, 0.0027657 , 0.08247576],\n",
       "       [0.29198828, 0.09175344, 0.0027657 , 1.0835989 , 0.40705296],\n",
       "       [0.0512414 , 0.14899345, 0.08247576, 0.40705296, 0.43837753]],\n",
       "      dtype=float32)>"
      ]
     },
     "execution_count": 39,
     "metadata": {},
     "output_type": "execute_result"
    }
   ],
   "source": [
    "C_I"
   ]
  },
  {
   "cell_type": "markdown",
   "metadata": {},
   "source": [
    "### Covariance of interface points and gradients"
   ]
  },
  {
   "cell_type": "code",
   "execution_count": 40,
   "metadata": {
    "ExecuteTime": {
     "end_time": "2020-02-24T12:01:34.826896Z",
     "start_time": "2020-02-24T12:01:34.822325Z"
    }
   },
   "outputs": [
    {
     "data": {
      "text/plain": [
       "<tf.Tensor: shape=(5, 2), dtype=float32, numpy=\n",
       "array([[0., 0.],\n",
       "       [2., 0.],\n",
       "       [3., 0.],\n",
       "       [0., 2.],\n",
       "       [2., 2.]], dtype=float32)>"
      ]
     },
     "execution_count": 40,
     "metadata": {},
     "output_type": "execute_result"
    }
   ],
   "source": [
    "rest_layer_points"
   ]
  },
  {
   "cell_type": "code",
   "execution_count": 41,
   "metadata": {
    "ExecuteTime": {
     "end_time": "2020-02-24T12:01:35.069777Z",
     "start_time": "2020-02-24T12:01:35.043363Z"
    }
   },
   "outputs": [],
   "source": [
    "sed_dips_rest = squared_euclidean_distance(x_1_tiled,rest_layer_points)\n",
    "sed_dips_ref = squared_euclidean_distance(x_1_tiled,ref_layer_points)"
   ]
  },
  {
   "cell_type": "code",
   "execution_count": 42,
   "metadata": {
    "ExecuteTime": {
     "end_time": "2020-02-24T12:01:35.251163Z",
     "start_time": "2020-02-24T12:01:35.247048Z"
    }
   },
   "outputs": [
    {
     "data": {
      "text/plain": [
       "<tf.Tensor: shape=(2, 2), dtype=float32, numpy=\n",
       "array([[0., 1.],\n",
       "       [0., 1.]], dtype=float32)>"
      ]
     },
     "execution_count": 42,
     "metadata": {},
     "output_type": "execute_result"
    }
   ],
   "source": [
    "x_1_tiled"
   ]
  },
  {
   "cell_type": "code",
   "execution_count": 43,
   "metadata": {
    "ExecuteTime": {
     "end_time": "2020-02-24T12:01:35.474711Z",
     "start_time": "2020-02-24T12:01:35.469707Z"
    }
   },
   "outputs": [
    {
     "data": {
      "text/plain": [
       "<tf.Tensor: shape=(5, 2), dtype=float32, numpy=\n",
       "array([[0., 0.],\n",
       "       [2., 0.],\n",
       "       [3., 0.],\n",
       "       [0., 2.],\n",
       "       [2., 2.]], dtype=float32)>"
      ]
     },
     "execution_count": 43,
     "metadata": {},
     "output_type": "execute_result"
    }
   ],
   "source": [
    "rest_layer_points"
   ]
  },
  {
   "cell_type": "code",
   "execution_count": 44,
   "metadata": {
    "ExecuteTime": {
     "end_time": "2020-02-24T12:01:35.702715Z",
     "start_time": "2020-02-24T12:01:35.695063Z"
    }
   },
   "outputs": [],
   "source": [
    "## Cartesian distance between dips and interface points\n",
    "#Cartesian distances\n",
    "def cartesian_dist_no_tile(x_1,x_2):\n",
    "    return tf.concat([\n",
    "        tf.transpose((x_1[:,0] - tf.reshape(x_2[:,0],[x_2.shape[0],1]))),\n",
    "        tf.transpose((x_1[:,1] - tf.reshape(x_2[:,1],[x_2.shape[0],1])))],axis = 0) \n",
    "\n",
    "hu_rest = cartesian_dist_no_tile(x_1,rest_layer_points)\n",
    "hu_ref = cartesian_dist_no_tile(x_1,ref_layer_points)"
   ]
  },
  {
   "cell_type": "code",
   "execution_count": 45,
   "metadata": {
    "ExecuteTime": {
     "end_time": "2020-02-24T12:01:35.933112Z",
     "start_time": "2020-02-24T12:01:35.927955Z"
    }
   },
   "outputs": [],
   "source": [
    "def cov_interface_gradients(hu_rest,hu_ref):\n",
    "    C_GI = (hu_rest*(- c_o_T * ((-14 / a_T ** 2) + 105 / 4 * sed_dips_rest / a_T ** 3 -\n",
    "                                  35 / 2 * sed_dips_rest ** 3 / a_T ** 5 +\n",
    "                                  21 / 4 * sed_dips_rest ** 5 / a_T ** 7))-\\\n",
    "    hu_ref*(-c_o_T * ((-14 / a_T ** 2) + 105 / 4 * sed_dips_ref / a_T ** 3 -\n",
    "                                  35 / 2 * sed_dips_ref ** 3 / a_T ** 5 +\n",
    "                                  21 / 4 * sed_dips_ref ** 5 / a_T ** 7)))\n",
    "    return C_GI"
   ]
  },
  {
   "cell_type": "code",
   "execution_count": 46,
   "metadata": {
    "ExecuteTime": {
     "end_time": "2020-02-24T12:01:36.148153Z",
     "start_time": "2020-02-24T12:01:36.143573Z"
    }
   },
   "outputs": [],
   "source": [
    "C_GI = cov_interface_gradients(hu_rest,hu_ref)"
   ]
  },
  {
   "cell_type": "code",
   "execution_count": 47,
   "metadata": {
    "ExecuteTime": {
     "end_time": "2020-02-24T12:01:36.364451Z",
     "start_time": "2020-02-24T12:01:36.361567Z"
    }
   },
   "outputs": [],
   "source": [
    "C_IG = tf.transpose(C_GI)"
   ]
  },
  {
   "cell_type": "code",
   "execution_count": 48,
   "metadata": {
    "ExecuteTime": {
     "end_time": "2020-02-24T12:01:36.568305Z",
     "start_time": "2020-02-24T12:01:36.564098Z"
    }
   },
   "outputs": [
    {
     "data": {
      "text/plain": [
       "<tf.Tensor: shape=(2, 5), dtype=float32, numpy=\n",
       "array([[ 0.01569869, -0.16201445, -0.07672766,  0.04351938, -0.13419376],\n",
       "       [ 0.20770201,  0.0849319 ,  0.02688411, -0.18261379, -0.05984369]],\n",
       "      dtype=float32)>"
      ]
     },
     "execution_count": 48,
     "metadata": {},
     "output_type": "execute_result"
    }
   ],
   "source": [
    "C_GI"
   ]
  },
  {
   "cell_type": "markdown",
   "metadata": {},
   "source": [
    "### 1st order drift"
   ]
  },
  {
   "cell_type": "code",
   "execution_count": 49,
   "metadata": {
    "ExecuteTime": {
     "end_time": "2020-02-24T12:01:37.066962Z",
     "start_time": "2020-02-24T12:01:37.061868Z"
    }
   },
   "outputs": [],
   "source": [
    "F = tf.concat([tf.eye(number_of_layer),\n",
    "tf.stack([rest_layer_points[:,0] - ref_layer_points[:,0],\n",
    "rest_layer_points[:,1] - ref_layer_points[:,1]])],axis = 1)"
   ]
  },
  {
   "cell_type": "code",
   "execution_count": 50,
   "metadata": {
    "ExecuteTime": {
     "end_time": "2020-02-24T12:01:37.299268Z",
     "start_time": "2020-02-24T12:01:37.295862Z"
    }
   },
   "outputs": [],
   "source": [
    "F_T = tf.transpose(F)"
   ]
  },
  {
   "cell_type": "markdown",
   "metadata": {},
   "source": [
    "### Kriging Matrix"
   ]
  },
  {
   "cell_type": "code",
   "execution_count": 51,
   "metadata": {
    "ExecuteTime": {
     "end_time": "2020-02-24T12:01:37.715974Z",
     "start_time": "2020-02-24T12:01:37.712140Z"
    }
   },
   "outputs": [],
   "source": [
    "K = tf.concat([tf.concat([C_G,C_GI],axis = 1),\n",
    "tf.concat([C_IG,C_I],axis = 1)],axis = 0)"
   ]
  },
  {
   "cell_type": "code",
   "execution_count": 52,
   "metadata": {
    "ExecuteTime": {
     "end_time": "2020-02-24T12:01:37.948761Z",
     "start_time": "2020-02-24T12:01:37.913971Z"
    }
   },
   "outputs": [
    {
     "ename": "InvalidArgumentError",
     "evalue": "Input to reshape is a tensor with 9 values, but the requested shape has 7 [Op:Reshape]",
     "output_type": "error",
     "traceback": [
      "\u001b[0;31m---------------------------------------------------------------------------\u001b[0m",
      "\u001b[0;31mInvalidArgumentError\u001b[0m                      Traceback (most recent call last)",
      "\u001b[0;32m<ipython-input-52-8508a4c3af4a>\u001b[0m in \u001b[0;36m<module>\u001b[0;34m\u001b[0m\n\u001b[0;32m----> 1\u001b[0;31m \u001b[0mb\u001b[0m \u001b[0;34m=\u001b[0m \u001b[0mtf\u001b[0m\u001b[0;34m.\u001b[0m\u001b[0mreshape\u001b[0m\u001b[0;34m(\u001b[0m\u001b[0mconstant32\u001b[0m\u001b[0;34m(\u001b[0m\u001b[0;34m[\u001b[0m\u001b[0;36m1\u001b[0m\u001b[0;34m,\u001b[0m\u001b[0;34m-\u001b[0m\u001b[0;36m1\u001b[0m\u001b[0;34m,\u001b[0m\u001b[0;36m1\u001b[0m\u001b[0;34m,\u001b[0m\u001b[0;36m1\u001b[0m\u001b[0;34m,\u001b[0m\u001b[0;36m0\u001b[0m\u001b[0;34m,\u001b[0m\u001b[0;36m0\u001b[0m\u001b[0;34m,\u001b[0m\u001b[0;36m0\u001b[0m\u001b[0;34m,\u001b[0m\u001b[0;36m0\u001b[0m\u001b[0;34m,\u001b[0m\u001b[0;36m0\u001b[0m\u001b[0;34m]\u001b[0m\u001b[0;34m)\u001b[0m\u001b[0;34m,\u001b[0m\u001b[0;34m[\u001b[0m\u001b[0;36m7\u001b[0m\u001b[0;34m,\u001b[0m\u001b[0;36m1\u001b[0m\u001b[0;34m]\u001b[0m\u001b[0;34m)\u001b[0m\u001b[0;34m\u001b[0m\u001b[0;34m\u001b[0m\u001b[0m\n\u001b[0m",
      "\u001b[0;32m~/anaconda3/envs/bys/lib/python3.7/site-packages/tensorflow_core/python/ops/array_ops.py\u001b[0m in \u001b[0;36mreshape\u001b[0;34m(tensor, shape, name)\u001b[0m\n\u001b[1;32m    191\u001b[0m     \u001b[0mA\u001b[0m\u001b[0;31m \u001b[0m\u001b[0;31m`\u001b[0m\u001b[0mTensor\u001b[0m\u001b[0;31m`\u001b[0m\u001b[0;34m.\u001b[0m \u001b[0mHas\u001b[0m \u001b[0mthe\u001b[0m \u001b[0msame\u001b[0m \u001b[0mtype\u001b[0m \u001b[0;32mas\u001b[0m\u001b[0;31m \u001b[0m\u001b[0;31m`\u001b[0m\u001b[0mtensor\u001b[0m\u001b[0;31m`\u001b[0m\u001b[0;34m.\u001b[0m\u001b[0;34m\u001b[0m\u001b[0;34m\u001b[0m\u001b[0m\n\u001b[1;32m    192\u001b[0m   \"\"\"\n\u001b[0;32m--> 193\u001b[0;31m   \u001b[0mresult\u001b[0m \u001b[0;34m=\u001b[0m \u001b[0mgen_array_ops\u001b[0m\u001b[0;34m.\u001b[0m\u001b[0mreshape\u001b[0m\u001b[0;34m(\u001b[0m\u001b[0mtensor\u001b[0m\u001b[0;34m,\u001b[0m \u001b[0mshape\u001b[0m\u001b[0;34m,\u001b[0m \u001b[0mname\u001b[0m\u001b[0;34m)\u001b[0m\u001b[0;34m\u001b[0m\u001b[0;34m\u001b[0m\u001b[0m\n\u001b[0m\u001b[1;32m    194\u001b[0m   \u001b[0mtensor_util\u001b[0m\u001b[0;34m.\u001b[0m\u001b[0mmaybe_set_static_shape\u001b[0m\u001b[0;34m(\u001b[0m\u001b[0mresult\u001b[0m\u001b[0;34m,\u001b[0m \u001b[0mshape\u001b[0m\u001b[0;34m)\u001b[0m\u001b[0;34m\u001b[0m\u001b[0;34m\u001b[0m\u001b[0m\n\u001b[1;32m    195\u001b[0m   \u001b[0;32mreturn\u001b[0m \u001b[0mresult\u001b[0m\u001b[0;34m\u001b[0m\u001b[0;34m\u001b[0m\u001b[0m\n",
      "\u001b[0;32m~/anaconda3/envs/bys/lib/python3.7/site-packages/tensorflow_core/python/ops/gen_array_ops.py\u001b[0m in \u001b[0;36mreshape\u001b[0;34m(tensor, shape, name)\u001b[0m\n\u001b[1;32m   7434\u001b[0m       \u001b[0;32mtry\u001b[0m\u001b[0;34m:\u001b[0m\u001b[0;34m\u001b[0m\u001b[0;34m\u001b[0m\u001b[0m\n\u001b[1;32m   7435\u001b[0m         return reshape_eager_fallback(\n\u001b[0;32m-> 7436\u001b[0;31m             tensor, shape, name=name, ctx=_ctx)\n\u001b[0m\u001b[1;32m   7437\u001b[0m       \u001b[0;32mexcept\u001b[0m \u001b[0m_core\u001b[0m\u001b[0;34m.\u001b[0m\u001b[0m_SymbolicException\u001b[0m\u001b[0;34m:\u001b[0m\u001b[0;34m\u001b[0m\u001b[0;34m\u001b[0m\u001b[0m\n\u001b[1;32m   7438\u001b[0m         \u001b[0;32mpass\u001b[0m  \u001b[0;31m# Add nodes to the TensorFlow graph.\u001b[0m\u001b[0;34m\u001b[0m\u001b[0;34m\u001b[0m\u001b[0m\n",
      "\u001b[0;32m~/anaconda3/envs/bys/lib/python3.7/site-packages/tensorflow_core/python/ops/gen_array_ops.py\u001b[0m in \u001b[0;36mreshape_eager_fallback\u001b[0;34m(tensor, shape, name, ctx)\u001b[0m\n\u001b[1;32m   7461\u001b[0m   \u001b[0m_attrs\u001b[0m \u001b[0;34m=\u001b[0m \u001b[0;34m(\u001b[0m\u001b[0;34m\"T\"\u001b[0m\u001b[0;34m,\u001b[0m \u001b[0m_attr_T\u001b[0m\u001b[0;34m,\u001b[0m \u001b[0;34m\"Tshape\"\u001b[0m\u001b[0;34m,\u001b[0m \u001b[0m_attr_Tshape\u001b[0m\u001b[0;34m)\u001b[0m\u001b[0;34m\u001b[0m\u001b[0;34m\u001b[0m\u001b[0m\n\u001b[1;32m   7462\u001b[0m   _result = _execute.execute(b\"Reshape\", 1, inputs=_inputs_flat, attrs=_attrs,\n\u001b[0;32m-> 7463\u001b[0;31m                              ctx=ctx, name=name)\n\u001b[0m\u001b[1;32m   7464\u001b[0m   \u001b[0;32mif\u001b[0m \u001b[0m_execute\u001b[0m\u001b[0;34m.\u001b[0m\u001b[0mmust_record_gradient\u001b[0m\u001b[0;34m(\u001b[0m\u001b[0;34m)\u001b[0m\u001b[0;34m:\u001b[0m\u001b[0;34m\u001b[0m\u001b[0;34m\u001b[0m\u001b[0m\n\u001b[1;32m   7465\u001b[0m     _execute.record_gradient(\n",
      "\u001b[0;32m~/anaconda3/envs/bys/lib/python3.7/site-packages/tensorflow_core/python/eager/execute.py\u001b[0m in \u001b[0;36mquick_execute\u001b[0;34m(op_name, num_outputs, inputs, attrs, ctx, name)\u001b[0m\n\u001b[1;32m     65\u001b[0m     \u001b[0;32melse\u001b[0m\u001b[0;34m:\u001b[0m\u001b[0;34m\u001b[0m\u001b[0;34m\u001b[0m\u001b[0m\n\u001b[1;32m     66\u001b[0m       \u001b[0mmessage\u001b[0m \u001b[0;34m=\u001b[0m \u001b[0me\u001b[0m\u001b[0;34m.\u001b[0m\u001b[0mmessage\u001b[0m\u001b[0;34m\u001b[0m\u001b[0;34m\u001b[0m\u001b[0m\n\u001b[0;32m---> 67\u001b[0;31m     \u001b[0msix\u001b[0m\u001b[0;34m.\u001b[0m\u001b[0mraise_from\u001b[0m\u001b[0;34m(\u001b[0m\u001b[0mcore\u001b[0m\u001b[0;34m.\u001b[0m\u001b[0m_status_to_exception\u001b[0m\u001b[0;34m(\u001b[0m\u001b[0me\u001b[0m\u001b[0;34m.\u001b[0m\u001b[0mcode\u001b[0m\u001b[0;34m,\u001b[0m \u001b[0mmessage\u001b[0m\u001b[0;34m)\u001b[0m\u001b[0;34m,\u001b[0m \u001b[0;32mNone\u001b[0m\u001b[0;34m)\u001b[0m\u001b[0;34m\u001b[0m\u001b[0;34m\u001b[0m\u001b[0m\n\u001b[0m\u001b[1;32m     68\u001b[0m   \u001b[0;32mexcept\u001b[0m \u001b[0mTypeError\u001b[0m \u001b[0;32mas\u001b[0m \u001b[0me\u001b[0m\u001b[0;34m:\u001b[0m\u001b[0;34m\u001b[0m\u001b[0;34m\u001b[0m\u001b[0m\n\u001b[1;32m     69\u001b[0m     keras_symbolic_tensors = [\n",
      "\u001b[0;32m~/anaconda3/envs/bys/lib/python3.7/site-packages/six.py\u001b[0m in \u001b[0;36mraise_from\u001b[0;34m(value, from_value)\u001b[0m\n",
      "\u001b[0;31mInvalidArgumentError\u001b[0m: Input to reshape is a tensor with 9 values, but the requested shape has 7 [Op:Reshape]"
     ]
    }
   ],
   "source": [
    "b = tf.reshape(constant32([1,-1,1,1,0,0,0,0,0]),[7,1])"
   ]
  },
  {
   "cell_type": "code",
   "execution_count": 53,
   "metadata": {
    "ExecuteTime": {
     "end_time": "2020-02-24T12:01:38.134320Z",
     "start_time": "2020-02-24T12:01:38.131065Z"
    }
   },
   "outputs": [],
   "source": [
    "Zero_matrix = tf.zeros([number_of_layer])"
   ]
  },
  {
   "cell_type": "code",
   "execution_count": null,
   "metadata": {},
   "outputs": [],
   "source": []
  },
  {
   "cell_type": "code",
   "execution_count": 85,
   "metadata": {
    "ExecuteTime": {
     "end_time": "2020-02-21T15:12:28.068381Z",
     "start_time": "2020-02-21T15:12:28.064090Z"
    }
   },
   "outputs": [
    {
     "data": {
      "text/plain": [
       "<tf.Tensor: shape=(7, 7), dtype=float32, numpy=\n",
       "array([[ 0.33333334,  0.        ,  0.01569869, -0.16201445, -0.07672766,\n",
       "         0.04351938, -0.13419376],\n",
       "       [ 0.        ,  0.33333334,  0.20770201,  0.0849319 ,  0.02688411,\n",
       "        -0.18261379, -0.05984369],\n",
       "       [ 0.01569869,  0.20770201,  1.1780878 ,  0.5890439 ,  0.19020197,\n",
       "         0.29198828,  0.0512414 ],\n",
       "       [-0.16201445,  0.0849319 ,  0.5890439 ,  0.7078704 ,  0.3539352 ,\n",
       "         0.09175344,  0.14899345],\n",
       "       [-0.07672766,  0.02688411,  0.190202  ,  0.3539352 ,  0.25132185,\n",
       "         0.0027657 ,  0.08247576],\n",
       "       [ 0.04351938, -0.18261379,  0.29198828,  0.09175344,  0.0027657 ,\n",
       "         1.0835989 ,  0.40705296],\n",
       "       [-0.13419376, -0.05984369,  0.0512414 ,  0.14899345,  0.08247576,\n",
       "         0.40705296,  0.43837753]], dtype=float32)>"
      ]
     },
     "execution_count": 85,
     "metadata": {},
     "output_type": "execute_result"
    }
   ],
   "source": [
    "K"
   ]
  },
  {
   "cell_type": "code",
   "execution_count": 41,
   "metadata": {
    "ExecuteTime": {
     "end_time": "2020-02-21T14:42:59.636250Z",
     "start_time": "2020-02-21T14:42:59.633629Z"
    }
   },
   "outputs": [],
   "source": [
    "w = tf.linalg.solve(K,b)"
   ]
  },
  {
   "cell_type": "code",
   "execution_count": 42,
   "metadata": {
    "ExecuteTime": {
     "end_time": "2020-02-21T14:43:00.307346Z",
     "start_time": "2020-02-21T14:43:00.303449Z"
    }
   },
   "outputs": [
    {
     "data": {
      "text/plain": [
       "<tf.Tensor: shape=(9, 1), dtype=float32, numpy=\n",
       "array([[ 3.6986923 ],\n",
       "       [-1.2638927 ],\n",
       "       [ 3.8836162 ],\n",
       "       [ 4.778231  ],\n",
       "       [-1.5646951 ],\n",
       "       [ 2.7280471 ],\n",
       "       [-0.74434966],\n",
       "       [ 1.0092982 ],\n",
       "       [-1.7616116 ]], dtype=float32)>"
      ]
     },
     "execution_count": 42,
     "metadata": {},
     "output_type": "execute_result"
    }
   ],
   "source": [
    "w"
   ]
  },
  {
   "cell_type": "markdown",
   "metadata": {},
   "source": [
    "### Now need to find a way to interpolate"
   ]
  },
  {
   "cell_type": "code",
   "execution_count": 66,
   "metadata": {
    "ExecuteTime": {
     "end_time": "2020-02-21T14:48:34.004461Z",
     "start_time": "2020-02-21T14:48:33.999397Z"
    }
   },
   "outputs": [],
   "source": [
    "xx = tf.range(-.5,4.5,0.1)\n",
    "yy = tf.range(-.5,4.5,0.1)\n",
    "XX,YY = tf.meshgrid(xx,yy)\n",
    "X = tf.transpose(tf.reshape(XX,[-1]))\n",
    "Y = tf.transpose(tf.reshape(YY,[-1]))"
   ]
  },
  {
   "cell_type": "code",
   "execution_count": 67,
   "metadata": {
    "ExecuteTime": {
     "end_time": "2020-02-21T14:48:34.314375Z",
     "start_time": "2020-02-21T14:48:34.311754Z"
    }
   },
   "outputs": [],
   "source": [
    "grid = tf.stack([X,Y],axis = 1)"
   ]
  },
  {
   "cell_type": "code",
   "execution_count": 68,
   "metadata": {
    "ExecuteTime": {
     "end_time": "2020-02-21T14:48:34.587076Z",
     "start_time": "2020-02-21T14:48:34.583453Z"
    }
   },
   "outputs": [],
   "source": [
    "hu_Simpoints = cartesian_dist_no_tile(x_1,grid)"
   ]
  },
  {
   "cell_type": "code",
   "execution_count": 69,
   "metadata": {
    "ExecuteTime": {
     "end_time": "2020-02-21T14:48:34.876393Z",
     "start_time": "2020-02-21T14:48:34.873562Z"
    }
   },
   "outputs": [],
   "source": [
    "sed_dips_SimPoint = squared_euclidean_distance(x_1_tiled,grid)"
   ]
  },
  {
   "cell_type": "code",
   "execution_count": 70,
   "metadata": {
    "ExecuteTime": {
     "end_time": "2020-02-21T14:48:35.786681Z",
     "start_time": "2020-02-21T14:48:35.781499Z"
    }
   },
   "outputs": [],
   "source": [
    "sigma_0_grad = w[:x_1.shape[0]*2] * (-hu_Simpoints*(- c_o_T * ((-14 / a_T ** 2) + 105 / 4 * sed_dips_SimPoint / a_T ** 3 -\n",
    "                               35 / 2 * sed_dips_SimPoint ** 3 / a_T ** 5 +\n",
    "                               21 / 4 * sed_dips_SimPoint ** 5 / a_T ** 7)))"
   ]
  },
  {
   "cell_type": "code",
   "execution_count": 71,
   "metadata": {
    "ExecuteTime": {
     "end_time": "2020-02-21T14:48:36.093499Z",
     "start_time": "2020-02-21T14:48:36.090979Z"
    }
   },
   "outputs": [],
   "source": [
    "sigma_0_grad = tf.reduce_sum(sigma_0_grad,axis=0)"
   ]
  },
  {
   "cell_type": "code",
   "execution_count": 72,
   "metadata": {
    "ExecuteTime": {
     "end_time": "2020-02-21T14:48:36.349164Z",
     "start_time": "2020-02-21T14:48:36.345641Z"
    }
   },
   "outputs": [],
   "source": [
    "sed_rest_SimPoint = squared_euclidean_distance(rest_layer_points,grid)\n",
    "sed_ref_SimPoint = squared_euclidean_distance(ref_layer_points,grid)"
   ]
  },
  {
   "cell_type": "code",
   "execution_count": 73,
   "metadata": {
    "ExecuteTime": {
     "end_time": "2020-02-21T14:48:36.605750Z",
     "start_time": "2020-02-21T14:48:36.597736Z"
    }
   },
   "outputs": [],
   "source": [
    "sigma_0_interf = -w[x_1.shape[0]*2:]*(c_o_T  * ((1 - 7 * (sed_rest_SimPoint / a_T) ** 2 +\n",
    "             35 / 4 * (sed_rest_SimPoint / a_T) ** 3 -\n",
    "             7 / 2 * (sed_rest_SimPoint / a_T) ** 5 +\n",
    "             3 / 4 * (sed_rest_SimPoint / a_T) ** 7) -\\\n",
    "             (1 - 7 * (sed_ref_SimPoint / a_T) ** 2 +\n",
    "              35 / 4 * (sed_ref_SimPoint / a_T) ** 3 -\n",
    "              7 / 2 * (sed_ref_SimPoint / a_T) ** 5 +\n",
    "              3 / 4 * (sed_ref_SimPoint / a_T) ** 7)))\n",
    "sigma_0_interf = tf.reduce_sum(sigma_0_interf,axis = 0)"
   ]
  },
  {
   "cell_type": "code",
   "execution_count": 74,
   "metadata": {
    "ExecuteTime": {
     "end_time": "2020-02-21T14:48:36.871611Z",
     "start_time": "2020-02-21T14:48:36.869171Z"
    }
   },
   "outputs": [],
   "source": [
    "interpolate_result = sigma_0_grad+sigma_0_interf"
   ]
  },
  {
   "cell_type": "code",
   "execution_count": 75,
   "metadata": {
    "ExecuteTime": {
     "end_time": "2020-02-21T14:48:37.129162Z",
     "start_time": "2020-02-21T14:48:37.125907Z"
    }
   },
   "outputs": [
    {
     "data": {
      "text/plain": [
       "TensorShape([2500])"
      ]
     },
     "execution_count": 75,
     "metadata": {},
     "output_type": "execute_result"
    }
   ],
   "source": [
    "interpolate_result.shape"
   ]
  },
  {
   "cell_type": "code",
   "execution_count": 76,
   "metadata": {
    "ExecuteTime": {
     "end_time": "2020-02-21T14:48:37.388896Z",
     "start_time": "2020-02-21T14:48:37.386194Z"
    }
   },
   "outputs": [],
   "source": [
    "intp = tf.reshape(interpolate_result,[50,50])"
   ]
  },
  {
   "cell_type": "code",
   "execution_count": 77,
   "metadata": {
    "ExecuteTime": {
     "end_time": "2020-02-21T14:48:37.662555Z",
     "start_time": "2020-02-21T14:48:37.658266Z"
    }
   },
   "outputs": [],
   "source": [
    "x1 = [0,0]\n",
    "x2 = [2,0]\n",
    "x_int1 = np.vstack([x1,x2])\n",
    "# interface 2:\n",
    "x3 = [0,2]\n",
    "x4 = [2,2]\n",
    "x_int2 = np.vstack([x3,x4])\n",
    "# orientation point:\n",
    "x5 = [0,1]\n",
    "x = np.vstack([x1, x2, x3, x4, x5])\n",
    "# orientation values\n",
    "gx5 = 1.\n",
    "gy5 = 1."
   ]
  },
  {
   "cell_type": "code",
   "execution_count": 78,
   "metadata": {
    "ExecuteTime": {
     "end_time": "2020-02-21T14:48:38.409817Z",
     "start_time": "2020-02-21T14:48:38.180700Z"
    }
   },
   "outputs": [
    {
     "data": {
      "text/plain": [
       "[<matplotlib.lines.Line2D at 0x13e012a90>]"
      ]
     },
     "execution_count": 78,
     "metadata": {},
     "output_type": "execute_result"
    },
    {
     "data": {
      "image/png": "[encoded data removed]",
      "text/plain": [
       "<Figure size 432x288 with 2 Axes>"
      ]
     },
     "metadata": {
      "needs_background": "light"
     },
     "output_type": "display_data"
    }
   ],
   "source": [
    "plt.contour(XX,YY,intp)\n",
    "plt.colorbar()\n",
    "plt.plot(layer1[:,0], layer1[:,1], 'ro')\n",
    "plt.plot(layer2[:,0], layer2[:,1], 'bo')\n",
    "plt.plot(layer3[:,0], layer3[:,1], 'ko')\n",
    "plt.plot(x5[0], x5[1], 'go')"
   ]
  },
  {
   "cell_type": "code",
   "execution_count": null,
   "metadata": {},
   "outputs": [],
   "source": []
  },
  {
   "cell_type": "code",
   "execution_count": null,
   "metadata": {},
   "outputs": [],
   "source": []
  }
 ],
 "metadata": {
  "kernelspec": {
   "display_name": "Python 3.7.1 64-bit ('bys': conda)",
   "language": "python",
   "name": "python37164bitbysconda40e087e0fc0f4c79b5e00459bd86405a"
  },
  "language_info": {
   "codemirror_mode": {
    "name": "ipython",
    "version": 3
   },
   "file_extension": ".py",
   "mimetype": "text/x-python",
   "name": "python",
   "nbconvert_exporter": "python",
   "pygments_lexer": "ipython3",
   "version": "3.7.1"
  },
  "varInspector": {
   "cols": {
    "lenName": 16,
    "lenType": 16,
    "lenVar": 40
   },
   "kernels_config": {
    "python": {
     "delete_cmd_postfix": "",
     "delete_cmd_prefix": "del ",
     "library": "var_list.py",
     "varRefreshCmd": "print(var_dic_list())"
    },
    "r": {
     "delete_cmd_postfix": ") ",
     "delete_cmd_prefix": "rm(",
     "library": "var_list.r",
     "varRefreshCmd": "cat(var_dic_list()) "
    }
   },
   "types_to_exclude": [
    "module",
    "function",
    "builtin_function_or_method",
    "instance",
    "_Feature"
   ],
   "window_display": false
  }
 },
 "nbformat": 4,
 "nbformat_minor": 4
}
