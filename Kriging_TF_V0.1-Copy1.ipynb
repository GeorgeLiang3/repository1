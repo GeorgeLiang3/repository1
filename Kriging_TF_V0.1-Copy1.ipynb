{
 "cells": [
  {
   "cell_type": "code",
   "execution_count": 1,
   "metadata": {
    "ExecuteTime": {
     "end_time": "2020-02-20T14:51:32.037753Z",
     "start_time": "2020-02-20T14:51:29.112827Z"
    }
   },
   "outputs": [],
   "source": [
    "import tensorflow as tf\n",
    "import numpy as np\n",
    "import matplotlib.pyplot as plt\n",
    "%matplotlib inline"
   ]
  },
  {
   "cell_type": "code",
   "execution_count": 2,
   "metadata": {
    "ExecuteTime": {
     "end_time": "2020-02-20T14:51:32.053245Z",
     "start_time": "2020-02-20T14:51:32.050414Z"
    }
   },
   "outputs": [],
   "source": [
    "def constant32(k):\n",
    "    return tf.constant(k,dtype = tf.float32)"
   ]
  },
  {
   "cell_type": "code",
   "execution_count": 3,
   "metadata": {
    "ExecuteTime": {
     "end_time": "2020-02-20T14:51:32.081076Z",
     "start_time": "2020-02-20T14:51:32.063868Z"
    }
   },
   "outputs": [],
   "source": [
    "x_1 = constant32([[0., 1.]])\n",
    "\n",
    "x_1_tiled = tf.tile(x_1,[2,1])"
   ]
  },
  {
   "cell_type": "code",
   "execution_count": 4,
   "metadata": {
    "ExecuteTime": {
     "end_time": "2020-02-20T14:51:32.096886Z",
     "start_time": "2020-02-20T14:51:32.092395Z"
    }
   },
   "outputs": [],
   "source": [
    "@tf.function\n",
    "def squared_euclidean_distance(x_1,x_2):\n",
    "    sqd = tf.sqrt(tf.reshape(tf.reduce_sum(x_1**2,1),shape =(x_1.shape[0],1))+\\\n",
    "    tf.reshape(tf.reduce_sum(x_2**2,1),shape =(1,x_2.shape[0]))-\\\n",
    "    2*tf.tensordot(x_1,tf.transpose(x_2),1))\n",
    "    return sqd"
   ]
  },
  {
   "cell_type": "code",
   "execution_count": 5,
   "metadata": {
    "ExecuteTime": {
     "end_time": "2020-02-20T14:51:32.112418Z",
     "start_time": "2020-02-20T14:51:32.107302Z"
    }
   },
   "outputs": [],
   "source": [
    "#Cartesian distances\n",
    "def cartesian_dist(x_1,x_2):\n",
    "    return tf.concat([\n",
    "        tf.tile(x_1[:,0] - tf.reshape(x_2[:,0],[x_2.shape[0],1]),[1,2]),\n",
    "        tf.tile(x_1[:,1] - tf.reshape(x_2[:,1],[x_2.shape[0],1]),[1,2])],axis = 0) \n",
    "h_u = cartesian_dist(x_1,x_1)"
   ]
  },
  {
   "cell_type": "code",
   "execution_count": 6,
   "metadata": {
    "ExecuteTime": {
     "end_time": "2020-02-20T14:51:32.364851Z",
     "start_time": "2020-02-20T14:51:32.123308Z"
    }
   },
   "outputs": [],
   "source": [
    "dist_tiled = squared_euclidean_distance(x_1_tiled,x_1_tiled)"
   ]
  },
  {
   "cell_type": "code",
   "execution_count": 7,
   "metadata": {
    "ExecuteTime": {
     "end_time": "2020-02-20T14:51:32.382906Z",
     "start_time": "2020-02-20T14:51:32.377725Z"
    }
   },
   "outputs": [
    {
     "data": {
      "text/plain": [
       "<tf.Tensor: shape=(2, 2), dtype=float32, numpy=\n",
       "array([[0., 0.],\n",
       "       [0., 0.]], dtype=float32)>"
      ]
     },
     "execution_count": 7,
     "metadata": {},
     "output_type": "execute_result"
    }
   ],
   "source": [
    "h_u"
   ]
  },
  {
   "cell_type": "code",
   "execution_count": 8,
   "metadata": {
    "ExecuteTime": {
     "end_time": "2020-02-20T14:51:32.396392Z",
     "start_time": "2020-02-20T14:51:32.393919Z"
    }
   },
   "outputs": [],
   "source": [
    "h_v = tf.transpose(h_u)"
   ]
  },
  {
   "cell_type": "code",
   "execution_count": 9,
   "metadata": {
    "ExecuteTime": {
     "end_time": "2020-02-20T14:51:32.416368Z",
     "start_time": "2020-02-20T14:51:32.411261Z"
    }
   },
   "outputs": [],
   "source": [
    "a = tf.concat([tf.ones([x_1.shape[0],x_1.shape[0]]),tf.zeros([x_1.shape[0],x_1.shape[0]])],axis = 1)\n",
    "b = tf.concat([tf.zeros([x_1.shape[0],x_1.shape[0]]),tf.ones([x_1.shape[0],x_1.shape[0]])],axis = 1)\n",
    "\n",
    "perpendicularity_matrix = tf.concat([a,b],axis = 0)"
   ]
  },
  {
   "cell_type": "code",
   "execution_count": 10,
   "metadata": {
    "ExecuteTime": {
     "end_time": "2020-02-20T14:51:32.430771Z",
     "start_time": "2020-02-20T14:51:32.428494Z"
    }
   },
   "outputs": [],
   "source": [
    "a_T = 5\n",
    "c_o_T = a_T**2/14/3"
   ]
  },
  {
   "cell_type": "code",
   "execution_count": 11,
   "metadata": {
    "ExecuteTime": {
     "end_time": "2020-02-20T14:51:32.446205Z",
     "start_time": "2020-02-20T14:51:32.442877Z"
    }
   },
   "outputs": [],
   "source": [
    "index = tf.where(dist_tiled==0).numpy()"
   ]
  },
  {
   "cell_type": "code",
   "execution_count": 12,
   "metadata": {
    "ExecuteTime": {
     "end_time": "2020-02-20T14:51:32.466893Z",
     "start_time": "2020-02-20T14:51:32.461569Z"
    }
   },
   "outputs": [],
   "source": [
    "def cov_gradients(dist_tiled):\n",
    "    C_G = (tf.math.divide_no_nan(h_u*h_v , dist_tiled**2)*\\\n",
    "    (-c_o_T*((-14/a_T**2)+105/4*dist_tiled/a_T**3 - 35/2 * dist_tiled**3 / a_T **5 + 21 /4 * dist_tiled**5/a_T**7)+\n",
    "        c_o_T * 7 * (9 * dist_tiled ** 5 - 20 * a_T ** 2 * dist_tiled ** 3 +\n",
    "                                       15 * a_T ** 4 * dist_tiled - 4 * a_T ** 5) / (2 * a_T ** 7)-\n",
    "        perpendicularity_matrix * c_o_T * ((-14 / a_T ** 2) + 105 / 4 * dist_tiled / a_T ** 3 -\n",
    "                                   35 / 2 * dist_tiled ** 3 / a_T ** 5 +\n",
    "                                   21 / 4 * dist_tiled ** 5 / a_T ** 7))+\n",
    "        1/3*tf.eye(dist_tiled.shape[0])) ## adding nugget effect\n",
    "    return C_G"
   ]
  },
  {
   "cell_type": "code",
   "execution_count": 13,
   "metadata": {
    "ExecuteTime": {
     "end_time": "2020-02-20T14:51:32.483798Z",
     "start_time": "2020-02-20T14:51:32.480959Z"
    }
   },
   "outputs": [],
   "source": [
    "dist_tiled = dist_tiled + tf.eye(dist_tiled.shape[0])"
   ]
  },
  {
   "cell_type": "code",
   "execution_count": 14,
   "metadata": {
    "ExecuteTime": {
     "end_time": "2020-02-20T14:51:32.502121Z",
     "start_time": "2020-02-20T14:51:32.497856Z"
    }
   },
   "outputs": [],
   "source": [
    "C_G = cov_gradients(dist_tiled)"
   ]
  },
  {
   "cell_type": "code",
   "execution_count": 15,
   "metadata": {
    "ExecuteTime": {
     "end_time": "2020-02-20T14:51:32.676105Z",
     "start_time": "2020-02-20T14:51:32.672028Z"
    }
   },
   "outputs": [
    {
     "data": {
      "text/plain": [
       "<tf.Tensor: shape=(2, 2), dtype=float32, numpy=\n",
       "array([[0.33333334, 0.        ],\n",
       "       [0.        , 0.33333334]], dtype=float32)>"
      ]
     },
     "execution_count": 15,
     "metadata": {},
     "output_type": "execute_result"
    }
   ],
   "source": [
    "C_G"
   ]
  },
  {
   "cell_type": "markdown",
   "metadata": {},
   "source": [
    "### covariance of interface points"
   ]
  },
  {
   "cell_type": "code",
   "execution_count": 18,
   "metadata": {
    "ExecuteTime": {
     "end_time": "2020-02-20T14:52:20.916419Z",
     "start_time": "2020-02-20T14:52:20.913344Z"
    }
   },
   "outputs": [],
   "source": [
    "## first layer we have 2 points\n",
    "layer1 = constant32([[0,0],[2,0],[3,0.3]])\n",
    "layer2 = constant32([[0,2],[2,2],[3,3.3]])"
   ]
  },
  {
   "cell_type": "code",
   "execution_count": 19,
   "metadata": {
    "ExecuteTime": {
     "end_time": "2020-02-20T14:52:21.302550Z",
     "start_time": "2020-02-20T14:52:21.297360Z"
    }
   },
   "outputs": [],
   "source": [
    "ref_layer_points = tf.stack([layer1[-1],layer2[-1]],axis = 0)\n",
    "rest_layer_points = tf.concat([layer1[0:-1],layer2[0:-1]],axis = 0)"
   ]
  },
  {
   "cell_type": "code",
   "execution_count": 20,
   "metadata": {
    "ExecuteTime": {
     "end_time": "2020-02-20T14:52:21.609883Z",
     "start_time": "2020-02-20T14:52:21.538660Z"
    }
   },
   "outputs": [],
   "source": [
    "sed_rest_rest = squared_euclidean_distance(rest_layer_points,rest_layer_points)\n",
    "sed_ref_rest = squared_euclidean_distance(ref_layer_points,rest_layer_points)\n",
    "sed_rest_ref = squared_euclidean_distance(rest_layer_points,ref_layer_points)\n",
    "sed_ref_ref = squared_euclidean_distance(ref_layer_points,ref_layer_points)"
   ]
  },
  {
   "cell_type": "code",
   "execution_count": 21,
   "metadata": {
    "ExecuteTime": {
     "end_time": "2020-02-20T14:52:21.799235Z",
     "start_time": "2020-02-20T14:52:21.791491Z"
    }
   },
   "outputs": [],
   "source": [
    "def cov_interface(ref_layer_points,rest_layer_points):\n",
    "    sed_rest_rest = squared_euclidean_distance(rest_layer_points,rest_layer_points)\n",
    "    sed_ref_rest = squared_euclidean_distance(ref_layer_points,rest_layer_points)\n",
    "    sed_rest_ref = squared_euclidean_distance(rest_layer_points,ref_layer_points)\n",
    "    sed_ref_ref = squared_euclidean_distance(ref_layer_points,ref_layer_points)\n",
    "    \n",
    "    C_I = c_o_T*((1 - 7 * (sed_rest_rest / a_T) ** 2 +\\\n",
    "                 35 / 4 * (sed_rest_rest / a_T) ** 3 -\\\n",
    "                 7 / 2 * (sed_rest_rest / a_T) ** 5 +\\\n",
    "                 3 / 4 * (sed_rest_rest / a_T) ** 7) -\\\n",
    "                 (1 - 7 * (sed_ref_rest / a_T) ** 2 +\\\n",
    "                  35 / 4 * (sed_ref_rest / a_T) ** 3 -\\\n",
    "                  7 / 2 * (sed_ref_rest / a_T) ** 5 +\\\n",
    "                  3 / 4 * (sed_ref_rest / a_T) ** 7) -\\\n",
    "                 (1 - 7 * (sed_rest_ref / a_T) ** 2 +\\\n",
    "                  35 / 4 * (sed_rest_ref / a_T) ** 3 -\\\n",
    "                  7 / 2 * (sed_rest_ref / a_T) ** 5 +\\\n",
    "                  3 / 4 * (sed_rest_ref / a_T) ** 7) +\\\n",
    "                 (1 - 7 * (sed_ref_ref / a_T) ** 2 +\\\n",
    "                  35 / 4 * (sed_ref_ref / a_T) ** 3 -\\\n",
    "                  7 / 2 * (sed_ref_ref / a_T) ** 5 +\\\n",
    "                  3 / 4 * (sed_ref_ref / a_T) ** 7))\n",
    "    \n",
    "    return C_I"
   ]
  },
  {
   "cell_type": "code",
   "execution_count": 22,
   "metadata": {
    "ExecuteTime": {
     "end_time": "2020-02-20T14:52:22.833056Z",
     "start_time": "2020-02-20T14:52:22.378681Z"
    }
   },
   "outputs": [
    {
     "ename": "InvalidArgumentError",
     "evalue": "Incompatible shapes: [4,4] vs. [2,4] [Op:Sub] name: sub/",
     "output_type": "error",
     "traceback": [
      "\u001b[0;31m---------------------------------------------------------------------------\u001b[0m",
      "\u001b[0;31mInvalidArgumentError\u001b[0m                      Traceback (most recent call last)",
      "\u001b[0;32m<ipython-input-22-de796c4a2b83>\u001b[0m in \u001b[0;36m<module>\u001b[0;34m\u001b[0m\n\u001b[0;32m----> 1\u001b[0;31m \u001b[0mC_I\u001b[0m \u001b[0;34m=\u001b[0m \u001b[0mcov_interface\u001b[0m\u001b[0;34m(\u001b[0m\u001b[0mref_layer_points\u001b[0m\u001b[0;34m,\u001b[0m\u001b[0mrest_layer_points\u001b[0m\u001b[0;34m)\u001b[0m\u001b[0;34m\u001b[0m\u001b[0;34m\u001b[0m\u001b[0m\n\u001b[0m",
      "\u001b[0;32m<ipython-input-21-f11331126241>\u001b[0m in \u001b[0;36mcov_interface\u001b[0;34m(ref_layer_points, rest_layer_points)\u001b[0m\n\u001b[1;32m     16\u001b[0m                   \u001b[0;36m35\u001b[0m \u001b[0;34m/\u001b[0m \u001b[0;36m4\u001b[0m \u001b[0;34m*\u001b[0m \u001b[0;34m(\u001b[0m\u001b[0msed_rest_ref\u001b[0m \u001b[0;34m/\u001b[0m \u001b[0ma_T\u001b[0m\u001b[0;34m)\u001b[0m \u001b[0;34m**\u001b[0m \u001b[0;36m3\u001b[0m \u001b[0;34m-\u001b[0m\u001b[0;31m\\\u001b[0m\u001b[0;34m\u001b[0m\u001b[0;34m\u001b[0m\u001b[0m\n\u001b[1;32m     17\u001b[0m                   \u001b[0;36m7\u001b[0m \u001b[0;34m/\u001b[0m \u001b[0;36m2\u001b[0m \u001b[0;34m*\u001b[0m \u001b[0;34m(\u001b[0m\u001b[0msed_rest_ref\u001b[0m \u001b[0;34m/\u001b[0m \u001b[0ma_T\u001b[0m\u001b[0;34m)\u001b[0m \u001b[0;34m**\u001b[0m \u001b[0;36m5\u001b[0m \u001b[0;34m+\u001b[0m\u001b[0;31m\\\u001b[0m\u001b[0;34m\u001b[0m\u001b[0;34m\u001b[0m\u001b[0m\n\u001b[0;32m---> 18\u001b[0;31m                   3 / 4 * (sed_rest_ref / a_T) ** 7) +\\\n\u001b[0m\u001b[1;32m     19\u001b[0m                  (1 - 7 * (sed_ref_ref / a_T) ** 2 +\\\n\u001b[1;32m     20\u001b[0m                   \u001b[0;36m35\u001b[0m \u001b[0;34m/\u001b[0m \u001b[0;36m4\u001b[0m \u001b[0;34m*\u001b[0m \u001b[0;34m(\u001b[0m\u001b[0msed_ref_ref\u001b[0m \u001b[0;34m/\u001b[0m \u001b[0ma_T\u001b[0m\u001b[0;34m)\u001b[0m \u001b[0;34m**\u001b[0m \u001b[0;36m3\u001b[0m \u001b[0;34m-\u001b[0m\u001b[0;31m\\\u001b[0m\u001b[0;34m\u001b[0m\u001b[0;34m\u001b[0m\u001b[0m\n",
      "\u001b[0;32m~/anaconda3/envs/bys/lib/python3.7/site-packages/tensorflow_core/python/ops/math_ops.py\u001b[0m in \u001b[0;36mbinary_op_wrapper\u001b[0;34m(x, y)\u001b[0m\n\u001b[1;32m    900\u001b[0m     \u001b[0;32mwith\u001b[0m \u001b[0mops\u001b[0m\u001b[0;34m.\u001b[0m\u001b[0mname_scope\u001b[0m\u001b[0;34m(\u001b[0m\u001b[0;32mNone\u001b[0m\u001b[0;34m,\u001b[0m \u001b[0mop_name\u001b[0m\u001b[0;34m,\u001b[0m \u001b[0;34m[\u001b[0m\u001b[0mx\u001b[0m\u001b[0;34m,\u001b[0m \u001b[0my\u001b[0m\u001b[0;34m]\u001b[0m\u001b[0;34m)\u001b[0m \u001b[0;32mas\u001b[0m \u001b[0mname\u001b[0m\u001b[0;34m:\u001b[0m\u001b[0;34m\u001b[0m\u001b[0;34m\u001b[0m\u001b[0m\n\u001b[1;32m    901\u001b[0m       \u001b[0;32mif\u001b[0m \u001b[0misinstance\u001b[0m\u001b[0;34m(\u001b[0m\u001b[0mx\u001b[0m\u001b[0;34m,\u001b[0m \u001b[0mops\u001b[0m\u001b[0;34m.\u001b[0m\u001b[0mTensor\u001b[0m\u001b[0;34m)\u001b[0m \u001b[0;32mand\u001b[0m \u001b[0misinstance\u001b[0m\u001b[0;34m(\u001b[0m\u001b[0my\u001b[0m\u001b[0;34m,\u001b[0m \u001b[0mops\u001b[0m\u001b[0;34m.\u001b[0m\u001b[0mTensor\u001b[0m\u001b[0;34m)\u001b[0m\u001b[0;34m:\u001b[0m\u001b[0;34m\u001b[0m\u001b[0;34m\u001b[0m\u001b[0m\n\u001b[0;32m--> 902\u001b[0;31m         \u001b[0;32mreturn\u001b[0m \u001b[0mfunc\u001b[0m\u001b[0;34m(\u001b[0m\u001b[0mx\u001b[0m\u001b[0;34m,\u001b[0m \u001b[0my\u001b[0m\u001b[0;34m,\u001b[0m \u001b[0mname\u001b[0m\u001b[0;34m=\u001b[0m\u001b[0mname\u001b[0m\u001b[0;34m)\u001b[0m\u001b[0;34m\u001b[0m\u001b[0;34m\u001b[0m\u001b[0m\n\u001b[0m\u001b[1;32m    903\u001b[0m       \u001b[0;32melif\u001b[0m \u001b[0;32mnot\u001b[0m \u001b[0misinstance\u001b[0m\u001b[0;34m(\u001b[0m\u001b[0my\u001b[0m\u001b[0;34m,\u001b[0m \u001b[0msparse_tensor\u001b[0m\u001b[0;34m.\u001b[0m\u001b[0mSparseTensor\u001b[0m\u001b[0;34m)\u001b[0m\u001b[0;34m:\u001b[0m\u001b[0;34m\u001b[0m\u001b[0;34m\u001b[0m\u001b[0m\n\u001b[1;32m    904\u001b[0m         \u001b[0;32mtry\u001b[0m\u001b[0;34m:\u001b[0m\u001b[0;34m\u001b[0m\u001b[0;34m\u001b[0m\u001b[0m\n",
      "\u001b[0;32m~/anaconda3/envs/bys/lib/python3.7/site-packages/tensorflow_core/python/ops/gen_math_ops.py\u001b[0m in \u001b[0;36msub\u001b[0;34m(x, y, name)\u001b[0m\n\u001b[1;32m  10099\u001b[0m         \u001b[0;32mpass\u001b[0m  \u001b[0;31m# Add nodes to the TensorFlow graph.\u001b[0m\u001b[0;34m\u001b[0m\u001b[0;34m\u001b[0m\u001b[0m\n\u001b[1;32m  10100\u001b[0m     \u001b[0;32mexcept\u001b[0m \u001b[0m_core\u001b[0m\u001b[0;34m.\u001b[0m\u001b[0m_NotOkStatusException\u001b[0m \u001b[0;32mas\u001b[0m \u001b[0me\u001b[0m\u001b[0;34m:\u001b[0m\u001b[0;34m\u001b[0m\u001b[0;34m\u001b[0m\u001b[0m\n\u001b[0;32m> 10101\u001b[0;31m       \u001b[0m_ops\u001b[0m\u001b[0;34m.\u001b[0m\u001b[0mraise_from_not_ok_status\u001b[0m\u001b[0;34m(\u001b[0m\u001b[0me\u001b[0m\u001b[0;34m,\u001b[0m \u001b[0mname\u001b[0m\u001b[0;34m)\u001b[0m\u001b[0;34m\u001b[0m\u001b[0;34m\u001b[0m\u001b[0m\n\u001b[0m\u001b[1;32m  10102\u001b[0m   \u001b[0;31m# Add nodes to the TensorFlow graph.\u001b[0m\u001b[0;34m\u001b[0m\u001b[0;34m\u001b[0m\u001b[0;34m\u001b[0m\u001b[0m\n\u001b[1;32m  10103\u001b[0m   _, _, _op, _outputs = _op_def_library._apply_op_helper(\n",
      "\u001b[0;32m~/anaconda3/envs/bys/lib/python3.7/site-packages/tensorflow_core/python/framework/ops.py\u001b[0m in \u001b[0;36mraise_from_not_ok_status\u001b[0;34m(e, name)\u001b[0m\n\u001b[1;32m   6604\u001b[0m   \u001b[0mmessage\u001b[0m \u001b[0;34m=\u001b[0m \u001b[0me\u001b[0m\u001b[0;34m.\u001b[0m\u001b[0mmessage\u001b[0m \u001b[0;34m+\u001b[0m \u001b[0;34m(\u001b[0m\u001b[0;34m\" name: \"\u001b[0m \u001b[0;34m+\u001b[0m \u001b[0mname\u001b[0m \u001b[0;32mif\u001b[0m \u001b[0mname\u001b[0m \u001b[0;32mis\u001b[0m \u001b[0;32mnot\u001b[0m \u001b[0;32mNone\u001b[0m \u001b[0;32melse\u001b[0m \u001b[0;34m\"\"\u001b[0m\u001b[0;34m)\u001b[0m\u001b[0;34m\u001b[0m\u001b[0;34m\u001b[0m\u001b[0m\n\u001b[1;32m   6605\u001b[0m   \u001b[0;31m# pylint: disable=protected-access\u001b[0m\u001b[0;34m\u001b[0m\u001b[0;34m\u001b[0m\u001b[0;34m\u001b[0m\u001b[0m\n\u001b[0;32m-> 6606\u001b[0;31m   \u001b[0msix\u001b[0m\u001b[0;34m.\u001b[0m\u001b[0mraise_from\u001b[0m\u001b[0;34m(\u001b[0m\u001b[0mcore\u001b[0m\u001b[0;34m.\u001b[0m\u001b[0m_status_to_exception\u001b[0m\u001b[0;34m(\u001b[0m\u001b[0me\u001b[0m\u001b[0;34m.\u001b[0m\u001b[0mcode\u001b[0m\u001b[0;34m,\u001b[0m \u001b[0mmessage\u001b[0m\u001b[0;34m)\u001b[0m\u001b[0;34m,\u001b[0m \u001b[0;32mNone\u001b[0m\u001b[0;34m)\u001b[0m\u001b[0;34m\u001b[0m\u001b[0;34m\u001b[0m\u001b[0m\n\u001b[0m\u001b[1;32m   6607\u001b[0m   \u001b[0;31m# pylint: enable=protected-access\u001b[0m\u001b[0;34m\u001b[0m\u001b[0;34m\u001b[0m\u001b[0;34m\u001b[0m\u001b[0m\n\u001b[1;32m   6608\u001b[0m \u001b[0;34m\u001b[0m\u001b[0m\n",
      "\u001b[0;32m~/anaconda3/envs/bys/lib/python3.7/site-packages/six.py\u001b[0m in \u001b[0;36mraise_from\u001b[0;34m(value, from_value)\u001b[0m\n",
      "\u001b[0;31mInvalidArgumentError\u001b[0m: Incompatible shapes: [4,4] vs. [2,4] [Op:Sub] name: sub/"
     ]
    }
   ],
   "source": [
    "C_I = cov_interface(ref_layer_points,rest_layer_points)"
   ]
  },
  {
   "cell_type": "code",
   "execution_count": 23,
   "metadata": {
    "ExecuteTime": {
     "end_time": "2020-02-20T14:52:23.063110Z",
     "start_time": "2020-02-20T14:52:23.049257Z"
    }
   },
   "outputs": [
    {
     "ename": "NameError",
     "evalue": "name 'C_I' is not defined",
     "output_type": "error",
     "traceback": [
      "\u001b[0;31m---------------------------------------------------------------------------\u001b[0m",
      "\u001b[0;31mNameError\u001b[0m                                 Traceback (most recent call last)",
      "\u001b[0;32m<ipython-input-23-db1de4b0dbf8>\u001b[0m in \u001b[0;36m<module>\u001b[0;34m\u001b[0m\n\u001b[0;32m----> 1\u001b[0;31m \u001b[0mC_I\u001b[0m\u001b[0;34m\u001b[0m\u001b[0;34m\u001b[0m\u001b[0m\n\u001b[0m",
      "\u001b[0;31mNameError\u001b[0m: name 'C_I' is not defined"
     ]
    }
   ],
   "source": [
    "C_I"
   ]
  },
  {
   "cell_type": "markdown",
   "metadata": {},
   "source": [
    "### Covariance of interface points and gradients"
   ]
  },
  {
   "cell_type": "code",
   "execution_count": 230,
   "metadata": {
    "ExecuteTime": {
     "end_time": "2020-02-19T17:31:40.956722Z",
     "start_time": "2020-02-19T17:31:40.952414Z"
    }
   },
   "outputs": [
    {
     "data": {
      "text/plain": [
       "<tf.Tensor: shape=(2, 2), dtype=float32, numpy=\n",
       "array([[0., 0.],\n",
       "       [0., 2.]], dtype=float32)>"
      ]
     },
     "execution_count": 230,
     "metadata": {},
     "output_type": "execute_result"
    }
   ],
   "source": [
    "rest_layer_points"
   ]
  },
  {
   "cell_type": "code",
   "execution_count": 231,
   "metadata": {
    "ExecuteTime": {
     "end_time": "2020-02-19T17:31:41.183006Z",
     "start_time": "2020-02-19T17:31:41.180123Z"
    }
   },
   "outputs": [],
   "source": [
    "sed_dips_rest = squared_euclidean_distance(x_1_tiled,rest_layer_points)\n",
    "sed_dips_ref = squared_euclidean_distance(x_1_tiled,ref_layer_points)"
   ]
  },
  {
   "cell_type": "code",
   "execution_count": 232,
   "metadata": {
    "ExecuteTime": {
     "end_time": "2020-02-19T17:31:41.409723Z",
     "start_time": "2020-02-19T17:31:41.405115Z"
    }
   },
   "outputs": [
    {
     "data": {
      "text/plain": [
       "<tf.Tensor: shape=(2, 2), dtype=float32, numpy=\n",
       "array([[0., 1.],\n",
       "       [0., 1.]], dtype=float32)>"
      ]
     },
     "execution_count": 232,
     "metadata": {},
     "output_type": "execute_result"
    }
   ],
   "source": [
    "x_1_tiled"
   ]
  },
  {
   "cell_type": "code",
   "execution_count": 277,
   "metadata": {
    "ExecuteTime": {
     "end_time": "2020-02-19T17:43:17.307548Z",
     "start_time": "2020-02-19T17:43:17.303282Z"
    }
   },
   "outputs": [
    {
     "data": {
      "text/plain": [
       "<tf.Tensor: shape=(2, 2), dtype=float32, numpy=\n",
       "array([[0., 0.],\n",
       "       [0., 2.]], dtype=float32)>"
      ]
     },
     "execution_count": 277,
     "metadata": {},
     "output_type": "execute_result"
    }
   ],
   "source": [
    "rest_layer_points"
   ]
  },
  {
   "cell_type": "code",
   "execution_count": 234,
   "metadata": {
    "ExecuteTime": {
     "end_time": "2020-02-19T17:31:41.825144Z",
     "start_time": "2020-02-19T17:31:41.818784Z"
    }
   },
   "outputs": [],
   "source": [
    "## Cartesian distance between dips and interface points\n",
    "#Cartesian distances\n",
    "def cartesian_dist_no_tile(x_1,x_2):\n",
    "    return tf.concat([\n",
    "        tf.transpose((x_1[:,0] - tf.reshape(x_2[:,0],[x_2.shape[0],1]))),\n",
    "        tf.transpose((x_1[:,1] - tf.reshape(x_2[:,1],[x_2.shape[0],1])))],axis = 0) \n",
    "\n",
    "hu_rest = cartesian_dist_no_tile(x_1,rest_layer_points)\n",
    "hu_ref = cartesian_dist_no_tile(x_1,ref_layer_points)"
   ]
  },
  {
   "cell_type": "code",
   "execution_count": 284,
   "metadata": {
    "ExecuteTime": {
     "end_time": "2020-02-19T17:47:35.583201Z",
     "start_time": "2020-02-19T17:47:35.578703Z"
    }
   },
   "outputs": [],
   "source": [
    "def cov_interface_gradients(hu_rest,hu_ref):\n",
    "    C_GI = (hu_rest*(- c_o_T * ((-14 / a_T ** 2) + 105 / 4 * sed_dips_rest / a_T ** 3 -\n",
    "                                  35 / 2 * sed_dips_rest ** 3 / a_T ** 5 +\n",
    "                                  21 / 4 * sed_dips_rest ** 5 / a_T ** 7))-\\\n",
    "    hu_ref*(-c_o_T * ((-14 / a_T ** 2) + 105 / 4 * sed_dips_ref / a_T ** 3 -\n",
    "                                  35 / 2 * sed_dips_ref ** 3 / a_T ** 5 +\n",
    "                                  21 / 4 * sed_dips_ref ** 5 / a_T ** 7)))\n",
    "    return C_GI"
   ]
  },
  {
   "cell_type": "code",
   "execution_count": 285,
   "metadata": {
    "ExecuteTime": {
     "end_time": "2020-02-19T17:47:36.349563Z",
     "start_time": "2020-02-19T17:47:36.344994Z"
    }
   },
   "outputs": [],
   "source": [
    "C_GI = cov_interface_gradients(hu_rest,hu_ref)"
   ]
  },
  {
   "cell_type": "code",
   "execution_count": 307,
   "metadata": {
    "ExecuteTime": {
     "end_time": "2020-02-19T17:48:39.738275Z",
     "start_time": "2020-02-19T17:48:39.735485Z"
    }
   },
   "outputs": [],
   "source": [
    "C_IG = tf.transpose(C_GI)"
   ]
  },
  {
   "cell_type": "code",
   "execution_count": 308,
   "metadata": {
    "ExecuteTime": {
     "end_time": "2020-02-19T17:48:40.606063Z",
     "start_time": "2020-02-19T17:48:40.601112Z"
    }
   },
   "outputs": [
    {
     "data": {
      "text/plain": [
       "<tf.Tensor: shape=(2, 2), dtype=float32, numpy=\n",
       "array([[ 0.17771314,  0.17771314],\n",
       "       [ 0.12277011, -0.12277011]], dtype=float32)>"
      ]
     },
     "execution_count": 308,
     "metadata": {},
     "output_type": "execute_result"
    }
   ],
   "source": [
    "C_GI"
   ]
  },
  {
   "cell_type": "markdown",
   "metadata": {},
   "source": [
    "### Kriging Matrix"
   ]
  },
  {
   "cell_type": "code",
   "execution_count": 309,
   "metadata": {
    "ExecuteTime": {
     "end_time": "2020-02-19T17:48:41.337577Z",
     "start_time": "2020-02-19T17:48:41.334066Z"
    }
   },
   "outputs": [],
   "source": [
    "K = tf.concat([tf.concat([C_G,C_GI],axis = 1),\n",
    "tf.concat([C_IG,C_I],axis = 1)],axis = 0)"
   ]
  },
  {
   "cell_type": "code",
   "execution_count": 310,
   "metadata": {
    "ExecuteTime": {
     "end_time": "2020-02-19T17:48:42.031598Z",
     "start_time": "2020-02-19T17:48:42.028202Z"
    }
   },
   "outputs": [],
   "source": [
    "b = tf.reshape(constant32([1,1,0,0]),[4,1])"
   ]
  },
  {
   "cell_type": "code",
   "execution_count": 311,
   "metadata": {
    "ExecuteTime": {
     "end_time": "2020-02-19T17:48:42.720349Z",
     "start_time": "2020-02-19T17:48:42.716071Z"
    }
   },
   "outputs": [
    {
     "data": {
      "text/plain": [
       "<tf.Tensor: shape=(4, 4), dtype=float32, numpy=\n",
       "array([[ 0.33333334,  0.        ,  0.17771314,  0.17771314],\n",
       "       [ 0.        ,  0.33333334,  0.12277011, -0.12277011],\n",
       "       [ 0.17771314,  0.12277011,  0.7078706 ,  0.29798672],\n",
       "       [ 0.17771314, -0.12277011,  0.29798672,  0.7078706 ]],\n",
       "      dtype=float32)>"
      ]
     },
     "execution_count": 311,
     "metadata": {},
     "output_type": "execute_result"
    }
   ],
   "source": [
    "K"
   ]
  },
  {
   "cell_type": "code",
   "execution_count": 312,
   "metadata": {
    "ExecuteTime": {
     "end_time": "2020-02-19T17:48:43.673117Z",
     "start_time": "2020-02-19T17:48:43.669932Z"
    }
   },
   "outputs": [],
   "source": [
    "w = tf.linalg.solve(K,b)"
   ]
  },
  {
   "cell_type": "code",
   "execution_count": 313,
   "metadata": {
    "ExecuteTime": {
     "end_time": "2020-02-19T17:48:44.368849Z",
     "start_time": "2020-02-19T17:48:44.365197Z"
    }
   },
   "outputs": [
    {
     "data": {
      "text/plain": [
       "<tf.Tensor: shape=(4, 1), dtype=float32, numpy=\n",
       "array([[ 3.6963491],\n",
       "       [ 3.8492908],\n",
       "       [-1.8060198],\n",
       "       [ 0.4998908]], dtype=float32)>"
      ]
     },
     "execution_count": 313,
     "metadata": {},
     "output_type": "execute_result"
    }
   ],
   "source": [
    "w"
   ]
  },
  {
   "cell_type": "code",
   "execution_count": 314,
   "metadata": {
    "ExecuteTime": {
     "end_time": "2020-02-19T17:48:45.067185Z",
     "start_time": "2020-02-19T17:48:45.062606Z"
    }
   },
   "outputs": [
    {
     "data": {
      "text/plain": [
       "array([[ 3.696349 ],\n",
       "       [ 3.8492906],\n",
       "       [-1.8060199],\n",
       "       [ 0.4998908]], dtype=float32)"
      ]
     },
     "execution_count": 314,
     "metadata": {},
     "output_type": "execute_result"
    }
   ],
   "source": [
    "np.linalg.solve(K.numpy(),b.numpy())"
   ]
  },
  {
   "cell_type": "markdown",
   "metadata": {},
   "source": [
    "### Now need to find a way to interpolate"
   ]
  },
  {
   "cell_type": "code",
   "execution_count": 315,
   "metadata": {
    "ExecuteTime": {
     "end_time": "2020-02-19T17:48:45.747379Z",
     "start_time": "2020-02-19T17:48:45.741760Z"
    }
   },
   "outputs": [],
   "source": [
    "xx = tf.range(-.5,2.5,0.1)\n",
    "yy = tf.range(-.5,2.5,0.1)\n",
    "XX,YY = tf.meshgrid(xx,yy)\n",
    "X = tf.transpose(tf.reshape(XX,[-1]))\n",
    "Y = tf.transpose(tf.reshape(YY,[-1]))"
   ]
  },
  {
   "cell_type": "code",
   "execution_count": 316,
   "metadata": {
    "ExecuteTime": {
     "end_time": "2020-02-19T17:48:46.430819Z",
     "start_time": "2020-02-19T17:48:46.428021Z"
    }
   },
   "outputs": [],
   "source": [
    "grid = tf.stack([X,Y],axis = 1)"
   ]
  },
  {
   "cell_type": "code",
   "execution_count": 317,
   "metadata": {
    "ExecuteTime": {
     "end_time": "2020-02-19T17:48:47.108229Z",
     "start_time": "2020-02-19T17:48:47.104242Z"
    }
   },
   "outputs": [],
   "source": [
    "hu_Simpoints = cartesian_dist_no_tile(x_1,grid)"
   ]
  },
  {
   "cell_type": "code",
   "execution_count": 318,
   "metadata": {
    "ExecuteTime": {
     "end_time": "2020-02-19T17:48:47.773449Z",
     "start_time": "2020-02-19T17:48:47.770730Z"
    }
   },
   "outputs": [],
   "source": [
    "sed_dips_SimPoint = squared_euclidean_distance(x_1_tiled,grid)"
   ]
  },
  {
   "cell_type": "code",
   "execution_count": 319,
   "metadata": {
    "ExecuteTime": {
     "end_time": "2020-02-19T17:48:48.462233Z",
     "start_time": "2020-02-19T17:48:48.458134Z"
    }
   },
   "outputs": [],
   "source": [
    "sigma_0_grad = w[:2] * (-hu_Simpoints*(- c_o_T * ((-14 / a_T ** 2) + 105 / 4 * sed_dips_SimPoint / a_T ** 3 -\n",
    "                               35 / 2 * sed_dips_SimPoint ** 3 / a_T ** 5 +\n",
    "                               21 / 4 * sed_dips_SimPoint ** 5 / a_T ** 7)))"
   ]
  },
  {
   "cell_type": "code",
   "execution_count": 320,
   "metadata": {
    "ExecuteTime": {
     "end_time": "2020-02-19T17:48:49.068865Z",
     "start_time": "2020-02-19T17:48:49.065951Z"
    }
   },
   "outputs": [],
   "source": [
    "sigma_0_grad = tf.reduce_sum(sigma_0_grad,axis=0)"
   ]
  },
  {
   "cell_type": "code",
   "execution_count": 321,
   "metadata": {
    "ExecuteTime": {
     "end_time": "2020-02-19T17:48:49.982090Z",
     "start_time": "2020-02-19T17:48:49.978639Z"
    }
   },
   "outputs": [],
   "source": [
    "sed_rest_SimPoint = squared_euclidean_distance(rest_layer_points,grid)\n",
    "sed_ref_SimPoint = squared_euclidean_distance(ref_layer_points,grid)"
   ]
  },
  {
   "cell_type": "code",
   "execution_count": 322,
   "metadata": {
    "ExecuteTime": {
     "end_time": "2020-02-19T17:48:50.656301Z",
     "start_time": "2020-02-19T17:48:50.648775Z"
    }
   },
   "outputs": [],
   "source": [
    "sigma_0_interf = -w[2:4]*(c_o_T  * ((1 - 7 * (sed_rest_SimPoint / a_T) ** 2 +\n",
    "             35 / 4 * (sed_rest_SimPoint / a_T) ** 3 -\n",
    "             7 / 2 * (sed_rest_SimPoint / a_T) ** 5 +\n",
    "             3 / 4 * (sed_rest_SimPoint / a_T) ** 7) -\\\n",
    "             (1 - 7 * (sed_ref_SimPoint / a_T) ** 2 +\n",
    "              35 / 4 * (sed_ref_SimPoint / a_T) ** 3 -\n",
    "              7 / 2 * (sed_ref_SimPoint / a_T) ** 5 +\n",
    "              3 / 4 * (sed_ref_SimPoint / a_T) ** 7)))\n",
    "sigma_0_interf = tf.reduce_sum(sigma_0_interf,axis = 0)"
   ]
  },
  {
   "cell_type": "code",
   "execution_count": 323,
   "metadata": {
    "ExecuteTime": {
     "end_time": "2020-02-19T17:48:51.338004Z",
     "start_time": "2020-02-19T17:48:51.335382Z"
    }
   },
   "outputs": [],
   "source": [
    "interpolate_result = sigma_0_grad+sigma_0_interf"
   ]
  },
  {
   "cell_type": "code",
   "execution_count": 324,
   "metadata": {
    "ExecuteTime": {
     "end_time": "2020-02-19T17:48:52.014212Z",
     "start_time": "2020-02-19T17:48:52.010479Z"
    }
   },
   "outputs": [
    {
     "data": {
      "text/plain": [
       "TensorShape([900])"
      ]
     },
     "execution_count": 324,
     "metadata": {},
     "output_type": "execute_result"
    }
   ],
   "source": [
    "interpolate_result.shape"
   ]
  },
  {
   "cell_type": "code",
   "execution_count": 325,
   "metadata": {
    "ExecuteTime": {
     "end_time": "2020-02-19T17:48:52.710170Z",
     "start_time": "2020-02-19T17:48:52.707273Z"
    }
   },
   "outputs": [],
   "source": [
    "intp = tf.reshape(interpolate_result,[30,30])"
   ]
  },
  {
   "cell_type": "code",
   "execution_count": 327,
   "metadata": {
    "ExecuteTime": {
     "end_time": "2020-02-19T17:49:33.030285Z",
     "start_time": "2020-02-19T17:49:33.025384Z"
    }
   },
   "outputs": [],
   "source": [
    "x1 = [0,0]\n",
    "x2 = [2,0]\n",
    "x_int1 = np.vstack([x1,x2])\n",
    "# interface 2:\n",
    "x3 = [0,2]\n",
    "x4 = [2,2]\n",
    "x_int2 = np.vstack([x3,x4])\n",
    "# orientation point:\n",
    "x5 = [0,1]\n",
    "x = np.vstack([x1, x2, x3, x4, x5])\n",
    "# orientation values\n",
    "gx5 = 1.\n",
    "gy5 = 1."
   ]
  },
  {
   "cell_type": "code",
   "execution_count": 328,
   "metadata": {
    "ExecuteTime": {
     "end_time": "2020-02-19T17:49:51.762684Z",
     "start_time": "2020-02-19T17:49:51.525006Z"
    }
   },
   "outputs": [
    {
     "data": {
      "text/plain": [
       "[<matplotlib.lines.Line2D at 0x13e8019e8>]"
      ]
     },
     "execution_count": 328,
     "metadata": {},
     "output_type": "execute_result"
    },
    {
     "data": {
      "image/png": "[encoded data removed]",
      "text/plain": [
       "<Figure size 432x288 with 2 Axes>"
      ]
     },
     "metadata": {
      "needs_background": "light"
     },
     "output_type": "display_data"
    }
   ],
   "source": [
    "plt.contour(XX,YY,intp)\n",
    "plt.colorbar()\n",
    "plt.plot(x_int1[:,0], x_int1[:,1], 'ro')\n",
    "plt.plot(x_int2[:,0], x_int2[:,1], 'bo')\n",
    "plt.plot(x5[0], x5[1], 'go')"
   ]
  },
  {
   "cell_type": "code",
   "execution_count": null,
   "metadata": {},
   "outputs": [],
   "source": []
  },
  {
   "cell_type": "code",
   "execution_count": null,
   "metadata": {},
   "outputs": [],
   "source": []
  },
  {
   "cell_type": "markdown",
   "metadata": {},
   "source": [
    "### debug\n"
   ]
  }
 ],
 "metadata": {
  "kernelspec": {
   "display_name": "Python 3.7.1 64-bit ('bys': conda)",
   "language": "python",
   "name": "python37164bitbysconda40e087e0fc0f4c79b5e00459bd86405a"
  },
  "language_info": {
   "codemirror_mode": {
    "name": "ipython",
    "version": 3
   },
   "file_extension": ".py",
   "mimetype": "text/x-python",
   "name": "python",
   "nbconvert_exporter": "python",
   "pygments_lexer": "ipython3",
   "version": "3.7.1"
  },
  "varInspector": {
   "cols": {
    "lenName": 16,
    "lenType": 16,
    "lenVar": 40
   },
   "kernels_config": {
    "python": {
     "delete_cmd_postfix": "",
     "delete_cmd_prefix": "del ",
     "library": "var_list.py",
     "varRefreshCmd": "print(var_dic_list())"
    },
    "r": {
     "delete_cmd_postfix": ") ",
     "delete_cmd_prefix": "rm(",
     "library": "var_list.r",
     "varRefreshCmd": "cat(var_dic_list()) "
    }
   },
   "types_to_exclude": [
    "module",
    "function",
    "builtin_function_or_method",
    "instance",
    "_Feature"
   ],
   "window_display": false
  }
 },
 "nbformat": 4,
 "nbformat_minor": 4
}
