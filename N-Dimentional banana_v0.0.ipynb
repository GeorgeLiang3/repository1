{
 "cells": [
  {
   "cell_type": "code",
   "execution_count": 1,
   "metadata": {
    "ExecuteTime": {
     "end_time": "2019-12-02T14:33:22.604863Z",
     "start_time": "2019-12-02T14:33:13.761376Z"
    }
   },
   "outputs": [],
   "source": [
    "#import library\n",
    "from scipy.stats import norm\n",
    "import numpy as np\n",
    "import matplotlib.pyplot as plt\n",
    "import tensorflow as tf\n",
    "import tensorflow_probability as tfp\n",
    "from tensorflow_probability import edward2 as ed\n",
    "tfd = tfp.distributions\n",
    "import scipy.stats as st\n",
    "from mpl_toolkits.mplot3d import Axes3D\n",
    "import math\n",
    "\n",
    "import seaborn as sns\n",
    "import pandas as pd\n",
    "%matplotlib inline"
   ]
  },
  {
   "cell_type": "markdown",
   "metadata": {},
   "source": [
    "\\begin{equation}\n",
    "y | \\boldsymbol{\\theta} \\sim \\mathcal{N}\\left(\\mu_{y}, \\sigma_{y}^{2}\\right), \\quad \\mu_{y}:=\\sum_{k=1}^{\\lceil D / 2\\rceil} \\theta_{2 k-1}+\\sum_{k=1}^{\\lfloor D / 2\\rfloor} \\theta_{2 k}^{2}\n",
    "\\end{equation}\n",
    "\n",
    "\\begin{equation}\n",
    "\\theta_{i} \\stackrel{\\text { iid }}{\\sim} \\mathcal{N}\\left(0, \\sigma_{\\theta}^{2}\\right)\n",
    "\\end{equation}"
   ]
  },
  {
   "cell_type": "code",
   "execution_count": 26,
   "metadata": {
    "ExecuteTime": {
     "end_time": "2019-12-02T15:30:13.089171Z",
     "start_time": "2019-12-02T15:30:13.086159Z"
    }
   },
   "outputs": [],
   "source": [
    "# define dimentions D\n",
    "\n",
    "D = np.int(4)\n",
    "\n",
    "mu= np.zeros(D)\n",
    "\n",
    "cov = np.eye(D)"
   ]
  },
  {
   "cell_type": "markdown",
   "metadata": {},
   "source": [
    "\\begin{equation}\n",
    "\\theta_{1}+\\theta_{2}^{2}+\\theta_{3}+\\theta_{4}^{2}\n",
    "\\end{equation}\n"
   ]
  },
  {
   "cell_type": "code",
   "execution_count": 52,
   "metadata": {
    "ExecuteTime": {
     "end_time": "2019-12-02T16:04:55.228004Z",
     "start_time": "2019-12-02T16:04:55.222515Z"
    }
   },
   "outputs": [
    {
     "data": {
      "text/plain": [
       "0"
      ]
     },
     "execution_count": 52,
     "metadata": {},
     "output_type": "execute_result"
    }
   ],
   "source": [
    "#define forward function\n",
    "def f(D,theta):# theta should be vector in D dimentions\n",
    "    Sum = 0\n",
    "    for i in range(1,D//2+1):\n",
    "        Sum += theta[2*i-2]+theta[2*i-1]**2\n",
    "    return Sum\n",
    "theta = [0,0,0,0]\n",
    "\n",
    "f(4,theta)"
   ]
  },
  {
   "cell_type": "code",
   "execution_count": 32,
   "metadata": {
    "ExecuteTime": {
     "end_time": "2019-12-02T15:40:01.921280Z",
     "start_time": "2019-12-02T15:40:01.917197Z"
    }
   },
   "outputs": [],
   "source": [
    "## initial the model\n",
    "\n",
    "# generate data\n",
    "c = 0 # mean of observations\n",
    "N = 100 # number of observation data\n",
    "sigma2y = 1 # standard deviation of observation data\n",
    "## generate the observation data\n",
    "y_ = np.random.normal(loc =c, scale = sigma2y, size = N)\n",
    "Data = tf.convert_to_tensor(y_,dtype = tf.float32)\n"
   ]
  },
  {
   "cell_type": "code",
   "execution_count": 67,
   "metadata": {
    "ExecuteTime": {
     "end_time": "2019-12-02T16:08:28.449702Z",
     "start_time": "2019-12-02T16:08:28.439443Z"
    }
   },
   "outputs": [
    {
     "data": {
      "text/plain": [
       "<tf.Tensor: id=978, shape=(), dtype=float32, numpy=0.025330298>"
      ]
     },
     "execution_count": 67,
     "metadata": {},
     "output_type": "execute_result"
    }
   ],
   "source": [
    "mu = tf.convert_to_tensor(mu,dtype = tf.float32)\n",
    "cov = tf.convert_to_tensor(cov,dtype=tf.float32)"
   ]
  },
  {
   "cell_type": "code",
   "execution_count": 71,
   "metadata": {
    "ExecuteTime": {
     "end_time": "2019-12-02T16:28:55.029954Z",
     "start_time": "2019-12-02T16:28:55.026242Z"
    }
   },
   "outputs": [],
   "source": [
    "## define the log probability\n",
    "def joint_log_prob(Data,theta,Dimention):\n",
    "    # define random variables prior\n",
    "    mvn = tfd.MultivariateNormalFullCovariance(\n",
    "            loc = mu,\n",
    "            covariance_matrix= cov)\n",
    "    # define likelihood\n",
    "    y = tfd.Normal(loc = f(Dimention,theta), scale = sigma2y)\n",
    "    # return the posterior probability\n",
    "    return (tf.exp(mvn.prob(theta)\n",
    "          *tf.reduce_sum(y.prob(Data))))"
   ]
  },
  {
   "cell_type": "code",
   "execution_count": 72,
   "metadata": {
    "ExecuteTime": {
     "end_time": "2019-12-02T16:28:55.356363Z",
     "start_time": "2019-12-02T16:28:55.346340Z"
    }
   },
   "outputs": [
    {
     "data": {
      "text/plain": [
       "<tf.Tensor: id=1222, shape=(), dtype=float32, numpy=2.0708382>"
      ]
     },
     "execution_count": 72,
     "metadata": {},
     "output_type": "execute_result"
    }
   ],
   "source": [
    "joint_log_prob(Data,theta,D)"
   ]
  },
  {
   "cell_type": "code",
   "execution_count": null,
   "metadata": {},
   "outputs": [],
   "source": [
    "x_ = np.mgrid[-2:2:.1, -2:2:.1]\n",
    "pos = np.empty(x.shape + (2,),dtype = np.float32) \n",
    "pos[:, :, 0] = x; pos[:, :, 1] = y\n",
    "likelihood = np.empty(x.shape)\n",
    "for i in range(400):\n",
    "    for j in range(400):\n",
    "        likelihood[i][j] = likelihood_prob(D,pos[i][j][0],pos[i][j][1])\n",
    "        \n"
   ]
  }
 ],
 "metadata": {
  "kernelspec": {
   "display_name": "Python 3",
   "language": "python",
   "name": "python3"
  },
  "language_info": {
   "codemirror_mode": {
    "name": "ipython",
    "version": 3
   },
   "file_extension": ".py",
   "mimetype": "text/x-python",
   "name": "python",
   "nbconvert_exporter": "python",
   "pygments_lexer": "ipython3",
   "version": "3.7.3"
  },
  "varInspector": {
   "cols": {
    "lenName": 16,
    "lenType": 16,
    "lenVar": 40
   },
   "kernels_config": {
    "python": {
     "delete_cmd_postfix": "",
     "delete_cmd_prefix": "del ",
     "library": "var_list.py",
     "varRefreshCmd": "print(var_dic_list())"
    },
    "r": {
     "delete_cmd_postfix": ") ",
     "delete_cmd_prefix": "rm(",
     "library": "var_list.r",
     "varRefreshCmd": "cat(var_dic_list()) "
    }
   },
   "types_to_exclude": [
    "module",
    "function",
    "builtin_function_or_method",
    "instance",
    "_Feature"
   ],
   "window_display": false
  }
 },
 "nbformat": 4,
 "nbformat_minor": 2
}
